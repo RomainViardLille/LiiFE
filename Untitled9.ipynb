{
 "cells": [
  {
   "cell_type": "code",
   "execution_count": 2,
   "metadata": {
    "jupyter": {
     "outputs_hidden": false
    }
   },
   "outputs": [],
   "source": [
    "from dipy.viz import window, actor"
   ]
  },
  {
   "cell_type": "code",
   "execution_count": 24,
   "metadata": {},
   "outputs": [
    {
     "name": "stdout",
     "output_type": "stream",
     "text": [
      "0.457649\n"
     ]
    }
   ],
   "source": [
    "import os, sys\n",
    "import numpy as np\n",
    "import nibabel as nb\n",
    "\n",
    "Quant=\"/NAS/tupac/protocoles/PULSE/DTI/FA/19016MJP_FA_onMNI.nii.gz\"\n",
    "img = nb.load(Quant)\n",
    "dataQuant= img.get_fdata()\n",
    "\n",
    "TrackDensity=\"/home/global/fsl604/data/atlases/JHU/JHU-ICBM-labels-1mm.nii.gz\"\n",
    "\n",
    "\n",
    "img = nb.load(TrackDensity)\n",
    "dataDensity = img.get_fdata()\n",
    "LABEL_VAL=25\n",
    "\n",
    "dataLabel=np.where(dataDensity==LABEL_VAL,1,0)\n",
    "val_ret=np.sum(np.multiply(dataLabel,dataQuant))/np.sum(dataLabel)\n",
    "print(np.round(val_ret,6))"
   ]
  },
  {
   "cell_type": "code",
   "execution_count": 20,
   "metadata": {},
   "outputs": [],
   "source": [
    "/NAS/tupac/protocoles/PULSE/DTI/FA/19016MJP_FA_onMNI.nii.gz"
   ]
  },
  {
   "cell_type": "code",
   "execution_count": 25,
   "metadata": {
    "tags": []
   },
   "outputs": [
    {
     "data": {
      "text/plain": [
       "<class 'int'>"
      ]
     },
     "execution_count": 25,
     "metadata": {},
     "output_type": "execute_result"
    }
   ],
   "source": [
    "type(LABEL_VAL)"
   ]
  },
  {
   "cell_type": "code",
   "execution_count": null,
   "metadata": {},
   "outputs": [],
   "source": [
    "import pydicom"
   ]
  },
  {
   "cell_type": "code",
   "execution_count": null,
   "metadata": {},
   "outputs": [],
   "source": []
  }
 ],
 "metadata": {
  "kernelspec": {
   "display_name": "Python 3 (ipykernel)",
   "language": "python",
   "name": "python3"
  },
  "language_info": {
   "codemirror_mode": {
    "name": "ipython",
    "version": 3
   },
   "file_extension": ".py",
   "mimetype": "text/x-python",
   "name": "python",
   "nbconvert_exporter": "python",
   "pygments_lexer": "ipython3",
   "version": "3.11.5"
  }
 },
 "nbformat": 4,
 "nbformat_minor": 4
}
