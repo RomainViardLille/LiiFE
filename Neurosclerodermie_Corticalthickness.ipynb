{
 "cells": [
  {
   "cell_type": "code",
   "execution_count": 4,
   "metadata": {},
   "outputs": [],
   "source": [
    "\n",
    "import os\n",
    "import argparse\n",
    "import json\n",
    "import glob\n",
    "import nibabel as nb\n",
    "import numpy as np\n",
    "import matplotlib as plt\n",
    "import matplotlib.pyplot as pltpy\n",
    "import seaborn\n",
    "from brainspace.datasets import load_mask\n",
    "from brainspace.plotting import plot_hemispheres\n",
    "from brainspace.mesh.mesh_io import read_surface\n",
    "from brainspace.mesh.mesh_operations import combine_surfaces\n",
    "from brainspace.utils.parcellation import map_to_labels\n",
    "from brainspace.vtk_interface import wrap_vtk, serial_connect\n",
    "from vtk import vtkPolyDataNormals\n"
   ]
  },
  {
   "cell_type": "code",
   "execution_count": 5,
   "metadata": {},
   "outputs": [],
   "source": [
    "import numpy as np\n",
    "import nibabel as nb\n",
    "#from surfplot import Plot\n",
    "from brainspace.mesh import mesh_io\n",
    "\n",
    "# Assuming read_surface is a function from brainspace.mesh.mesh_io\n",
    "read_surface = mesh_io.read_surface\n",
    "\n",
    "surf_lh = read_surface('/NAS/fatmike/Protocoles_3T/Neurosclerodermie/data/bids/derivatives/fastsurfer/sub-P0101_ses-1/surf/lh.inflated', itype='fs')\n",
    "surf_rh = read_surface('/NAS/fatmike/Protocoles_3T/Neurosclerodermie/data/bids/derivatives/fastsurfer/sub-P0101_ses-1/surf/rh.inflated', itype='fs')\n",
    "\n",
    "\n",
    "fileL = \"/NAS/fatmike/Protocoles_3T/Neurosclerodermie/data/bids/derivatives/fastsurfer/sub-P0101_ses-1/label/lh.aparc_mics.annot\"\n",
    "fileR = \"/NAS/fatmike/Protocoles_3T/Neurosclerodermie/data/bids/derivatives/fastsurfer/sub-P0101_ses-1/label/rh.aparc_mics.annot\"\n",
    "figPath = '/tmp/16428_micapipe_QC_P0101/sub-P0101_ses-1_atlas-aparc_desc-surf.png'\n",
    "label = np.concatenate((nb.freesurfer.read_annot(fileL)[0], nb.freesurfer.read_annot(fileR)[0]), axis=0)\n"
   ]
  },
  {
   "cell_type": "code",
   "execution_count": 14,
   "metadata": {},
   "outputs": [
    {
     "ename": "FileNotFoundError",
     "evalue": "[Errno 2] No such file or directory: '/NAS/fatmike/Protocoles_3T/Neurosclerodermie/data/bids/derivatives/fastsurfer/sub-P0101_ses-1/surf/surf/rh.thickness'",
     "output_type": "error",
     "traceback": [
      "\u001b[0;31m---------------------------------------------------------------------------\u001b[0m",
      "\u001b[0;31mFileNotFoundError\u001b[0m                         Traceback (most recent call last)",
      "Cell \u001b[0;32mIn[14], line 1\u001b[0m\n\u001b[0;32m----> 1\u001b[0m th \u001b[38;5;241m=\u001b[39m np\u001b[38;5;241m.\u001b[39mconcatenate((nb\u001b[38;5;241m.\u001b[39mfreesurfer\u001b[38;5;241m.\u001b[39mread_morph_data(\u001b[38;5;124m'\u001b[39m\u001b[38;5;124m/NAS/fatmike/Protocoles_3T/Neurosclerodermie/data/bids/derivatives/fastsurfer/sub-P0101_ses-1/surf/lh.thickness\u001b[39m\u001b[38;5;124m'\u001b[39m), \u001b[43mnb\u001b[49m\u001b[38;5;241;43m.\u001b[39;49m\u001b[43mfreesurfer\u001b[49m\u001b[38;5;241;43m.\u001b[39;49m\u001b[43mread_morph_data\u001b[49m\u001b[43m(\u001b[49m\u001b[38;5;124;43m'\u001b[39;49m\u001b[38;5;124;43m/NAS/fatmike/Protocoles_3T/Neurosclerodermie/data/bids/derivatives/fastsurfer/sub-P0101_ses-1/surf/surf/rh.thickness\u001b[39;49m\u001b[38;5;124;43m'\u001b[39;49m\u001b[43m)\u001b[49m), axis\u001b[38;5;241m=\u001b[39m\u001b[38;5;241m0\u001b[39m)\n",
      "File \u001b[0;32m/home/global/Anaconda3-2023.09/envs/conda_env_3.12/lib/python3.12/site-packages/nibabel/freesurfer/io.py:263\u001b[0m, in \u001b[0;36mread_morph_data\u001b[0;34m(filepath)\u001b[0m\n\u001b[1;32m    245\u001b[0m \u001b[38;5;28;01mdef\u001b[39;00m \u001b[38;5;21mread_morph_data\u001b[39m(filepath):\n\u001b[1;32m    246\u001b[0m \u001b[38;5;250m    \u001b[39m\u001b[38;5;124;03m\"\"\"Read a Freesurfer morphometry data file.\u001b[39;00m\n\u001b[1;32m    247\u001b[0m \n\u001b[1;32m    248\u001b[0m \u001b[38;5;124;03m    This function reads in what Freesurfer internally calls \"curv\" file types,\u001b[39;00m\n\u001b[0;32m   (...)\u001b[0m\n\u001b[1;32m    261\u001b[0m \u001b[38;5;124;03m        Vector representation of surface morpometry values\u001b[39;00m\n\u001b[1;32m    262\u001b[0m \u001b[38;5;124;03m    \"\"\"\u001b[39;00m\n\u001b[0;32m--> 263\u001b[0m     \u001b[38;5;28;01mwith\u001b[39;00m \u001b[38;5;28;43mopen\u001b[39;49m\u001b[43m(\u001b[49m\u001b[43mfilepath\u001b[49m\u001b[43m,\u001b[49m\u001b[43m \u001b[49m\u001b[38;5;124;43m'\u001b[39;49m\u001b[38;5;124;43mrb\u001b[39;49m\u001b[38;5;124;43m'\u001b[39;49m\u001b[43m)\u001b[49m \u001b[38;5;28;01mas\u001b[39;00m fobj:\n\u001b[1;32m    264\u001b[0m         magic \u001b[38;5;241m=\u001b[39m _fread3(fobj)\n\u001b[1;32m    265\u001b[0m         \u001b[38;5;28;01mif\u001b[39;00m magic \u001b[38;5;241m==\u001b[39m \u001b[38;5;241m16777215\u001b[39m:\n",
      "\u001b[0;31mFileNotFoundError\u001b[0m: [Errno 2] No such file or directory: '/NAS/fatmike/Protocoles_3T/Neurosclerodermie/data/bids/derivatives/fastsurfer/sub-P0101_ses-1/surf/surf/rh.thickness'"
     ]
    }
   ],
   "source": [
    "th = np.concatenate((nb.freesurfer.read_morph_data('/NAS/fatmike/Protocoles_3T/Neurosclerodermie/data/bids/derivatives/fastsurfer/sub-P0101_ses-1/surf/lh.thickness'), nb.freesurfer.read_morph_data('/NAS/fatmike/Protocoles_3T/Neurosclerodermie/data/bids/derivatives/fastsurfer/sub-P0101_ses-1/surf/rh.thickness')), axis=0)"
   ]
  },
  {
   "cell_type": "markdown",
   "metadata": {},
   "source": []
  },
  {
   "cell_type": "code",
   "execution_count": 7,
   "metadata": {},
   "outputs": [],
   "source": [
    "def cmap_gradient(N, base_cmaps=['inferno', 'Dark2', 'Set1', 'Set2']):\n",
    "    \"\"\"\n",
    "    Creates a gradient color map of a defined lenght.\n",
    "\n",
    "    Parameters\n",
    "    ----------\n",
    "    N     : int\n",
    "         Number of colors to extract from each of the base_cmaps below.\n",
    "    cmaps : list\n",
    "        List of color map(s) to merge.\n",
    "\n",
    "    Returns\n",
    "    -------\n",
    "    cmap : numpy ndarray\n",
    "        Surfaces for left and right hemispheres. If ``join == True``, one\n",
    "        surface with both hemispheres.\n",
    "    \"\"\"\n",
    "    # number of colors\n",
    "    N = 75\n",
    "\n",
    "    # we go from 0.2 to 0.8 below to avoid having several whites and blacks in the resulting cmaps\n",
    "    colors = np.concatenate([pltpy.get_cmap(name)(np.linspace(0,1,N)) for name in base_cmaps])\n",
    "    cmap = plt.colors.ListedColormap(colors.tolist())\n",
    "    return cmap\n"
   ]
  },
  {
   "cell_type": "code",
   "execution_count": 13,
   "metadata": {},
   "outputs": [
    {
     "ename": "TypeError",
     "evalue": "unhashable type: 'ListedColormap'",
     "output_type": "error",
     "traceback": [
      "\u001b[0;31m---------------------------------------------------------------------------\u001b[0m",
      "\u001b[0;31mTypeError\u001b[0m                                 Traceback (most recent call last)",
      "Cell \u001b[0;32mIn[13], line 1\u001b[0m\n\u001b[0;32m----> 1\u001b[0m \u001b[43mplot_hemispheres\u001b[49m\u001b[43m(\u001b[49m\u001b[43msurf_lh\u001b[49m\u001b[43m,\u001b[49m\u001b[43m \u001b[49m\u001b[43msurf_rh\u001b[49m\u001b[43m,\u001b[49m\u001b[43m \u001b[49m\u001b[43marray_name\u001b[49m\u001b[38;5;241;43m=\u001b[39;49m\u001b[43mlabel\u001b[49m\u001b[43m,\u001b[49m\u001b[43m \u001b[49m\u001b[43msize\u001b[49m\u001b[38;5;241;43m=\u001b[39;49m\u001b[43m(\u001b[49m\u001b[38;5;241;43m900\u001b[39;49m\u001b[43m,\u001b[49m\u001b[43m \u001b[49m\u001b[38;5;241;43m250\u001b[39;49m\u001b[43m)\u001b[49m\u001b[43m,\u001b[49m\u001b[43m \u001b[49m\u001b[43mzoom\u001b[49m\u001b[38;5;241;43m=\u001b[39;49m\u001b[38;5;241;43m1.25\u001b[39;49m\u001b[43m,\u001b[49m\u001b[43m \u001b[49m\u001b[43membed_nb\u001b[49m\u001b[38;5;241;43m=\u001b[39;49m\u001b[38;5;28;43;01mTrue\u001b[39;49;00m\u001b[43m,\u001b[49m\u001b[43m \u001b[49m\u001b[43minteractive\u001b[49m\u001b[38;5;241;43m=\u001b[39;49m\u001b[38;5;28;43;01mFalse\u001b[39;49;00m\u001b[43m,\u001b[49m\u001b[43m \u001b[49m\u001b[43mshare\u001b[49m\u001b[38;5;241;43m=\u001b[39;49m\u001b[38;5;124;43m'\u001b[39;49m\u001b[38;5;124;43mboth\u001b[39;49m\u001b[38;5;124;43m'\u001b[39;49m\u001b[43m,\u001b[49m\n\u001b[1;32m      2\u001b[0m \u001b[43m                             \u001b[49m\u001b[43mnan_color\u001b[49m\u001b[38;5;241;43m=\u001b[39;49m\u001b[43m(\u001b[49m\u001b[38;5;241;43m0\u001b[39;49m\u001b[43m,\u001b[49m\u001b[43m \u001b[49m\u001b[38;5;241;43m0\u001b[39;49m\u001b[43m,\u001b[49m\u001b[43m \u001b[49m\u001b[38;5;241;43m0\u001b[39;49m\u001b[43m,\u001b[49m\u001b[43m \u001b[49m\u001b[38;5;241;43m1\u001b[39;49m\u001b[43m)\u001b[49m\u001b[43m,\u001b[49m\u001b[43mcmap\u001b[49m\u001b[38;5;241;43m=\u001b[39;49m\u001b[43mcmap_gradient\u001b[49m\u001b[43m(\u001b[49m\u001b[38;5;28;43mlen\u001b[39;49m\u001b[43m(\u001b[49m\u001b[43mnp\u001b[49m\u001b[38;5;241;43m.\u001b[39;49m\u001b[43munique\u001b[49m\u001b[43m(\u001b[49m\u001b[43mlabel\u001b[49m\u001b[43m)\u001b[49m\u001b[43m)\u001b[49m\u001b[43m,\u001b[49m\u001b[43m \u001b[49m\u001b[43m[\u001b[49m\u001b[38;5;124;43m'\u001b[39;49m\u001b[38;5;124;43minferno\u001b[39;49m\u001b[38;5;124;43m'\u001b[39;49m\u001b[43m,\u001b[49m\u001b[43m \u001b[49m\u001b[38;5;124;43m'\u001b[39;49m\u001b[38;5;124;43mhsv\u001b[39;49m\u001b[38;5;124;43m'\u001b[39;49m\u001b[43m,\u001b[49m\u001b[43m \u001b[49m\u001b[38;5;124;43m'\u001b[39;49m\u001b[38;5;124;43mhsv\u001b[39;49m\u001b[38;5;124;43m'\u001b[39;49m\u001b[43m,\u001b[49m\u001b[43m \u001b[49m\u001b[38;5;124;43m'\u001b[39;49m\u001b[38;5;124;43mtab20b\u001b[39;49m\u001b[38;5;124;43m'\u001b[39;49m\u001b[43m]\u001b[49m\u001b[43m)\u001b[49m\u001b[43m,\u001b[49m\u001b[43m \u001b[49m\u001b[43mtransparent_bg\u001b[49m\u001b[38;5;241;43m=\u001b[39;49m\u001b[38;5;28;43;01mFalse\u001b[39;49;00m\u001b[43m,\u001b[49m\n\u001b[1;32m      3\u001b[0m \u001b[43m                             \u001b[49m\u001b[43mscreenshot\u001b[49m\u001b[43m \u001b[49m\u001b[38;5;241;43m=\u001b[39;49m\u001b[43m \u001b[49m\u001b[38;5;28;43;01mTrue\u001b[39;49;00m\u001b[43m,\u001b[49m\u001b[43m \u001b[49m\u001b[43moffscreen\u001b[49m\u001b[38;5;241;43m=\u001b[39;49m\u001b[38;5;28;43;01mFalse\u001b[39;49;00m\u001b[43m,\u001b[49m\u001b[43m \u001b[49m\u001b[43mfilename\u001b[49m\u001b[43m \u001b[49m\u001b[38;5;241;43m=\u001b[39;49m\u001b[43m \u001b[49m\u001b[43mfigPath\u001b[49m\u001b[43m)\u001b[49m\n",
      "File \u001b[0;32m/home/global/Anaconda3-2023.09/envs/conda_env_3.12/lib/python3.12/site-packages/brainspace/vtk_interface/decorators.py:41\u001b[0m, in \u001b[0;36mwrap_input.<locals>._wrapper_decorator.<locals>._wrapper_wrap\u001b[0;34m(*args, **kwds)\u001b[0m\n\u001b[1;32m     38\u001b[0m \u001b[38;5;129m@functools\u001b[39m\u001b[38;5;241m.\u001b[39mwraps(func)\n\u001b[1;32m     39\u001b[0m \u001b[38;5;28;01mdef\u001b[39;00m \u001b[38;5;21m_wrapper_wrap\u001b[39m(\u001b[38;5;241m*\u001b[39margs, \u001b[38;5;241m*\u001b[39m\u001b[38;5;241m*\u001b[39mkwds):\n\u001b[1;32m     40\u001b[0m     args, kwds \u001b[38;5;241m=\u001b[39m _wrap_input_data(args, kwds, \u001b[38;5;241m*\u001b[39mxargs, skip\u001b[38;5;241m=\u001b[39mskip)\n\u001b[0;32m---> 41\u001b[0m     data \u001b[38;5;241m=\u001b[39m \u001b[43mfunc\u001b[49m\u001b[43m(\u001b[49m\u001b[38;5;241;43m*\u001b[39;49m\u001b[43margs\u001b[49m\u001b[43m,\u001b[49m\u001b[43m \u001b[49m\u001b[38;5;241;43m*\u001b[39;49m\u001b[38;5;241;43m*\u001b[39;49m\u001b[43mkwds\u001b[49m\u001b[43m)\u001b[49m\n\u001b[1;32m     42\u001b[0m     \u001b[38;5;28;01mreturn\u001b[39;00m data\n",
      "File \u001b[0;32m/home/global/Anaconda3-2023.09/envs/conda_env_3.12/lib/python3.12/site-packages/brainspace/plotting/surface_plotting.py:591\u001b[0m, in \u001b[0;36mplot_hemispheres\u001b[0;34m(surf_lh, surf_rh, array_name, color_bar, color_range, label_text, layout_style, cmap, nan_color, zoom, background, size, interactive, embed_nb, screenshot, filename, scale, transparent_bg, **kwargs)\u001b[0m\n\u001b[1;32m    589\u001b[0m kwds \u001b[38;5;241m=\u001b[39m {\u001b[38;5;124m'\u001b[39m\u001b[38;5;124mview\u001b[39m\u001b[38;5;124m'\u001b[39m: view, \u001b[38;5;124m'\u001b[39m\u001b[38;5;124mshare\u001b[39m\u001b[38;5;124m'\u001b[39m: share}\n\u001b[1;32m    590\u001b[0m kwds\u001b[38;5;241m.\u001b[39mupdate(kwargs)\n\u001b[0;32m--> 591\u001b[0m res \u001b[38;5;241m=\u001b[39m \u001b[43mplot_surf\u001b[49m\u001b[43m(\u001b[49m\u001b[43msurfs\u001b[49m\u001b[43m,\u001b[49m\u001b[43m \u001b[49m\u001b[43mlayout\u001b[49m\u001b[43m,\u001b[49m\u001b[43m \u001b[49m\u001b[43marray_name\u001b[49m\u001b[38;5;241;43m=\u001b[39;49m\u001b[43marray_name\u001b[49m\u001b[43m,\u001b[49m\u001b[43m \u001b[49m\u001b[43mcolor_bar\u001b[49m\u001b[38;5;241;43m=\u001b[39;49m\u001b[43mcolor_bar\u001b[49m\u001b[43m,\u001b[49m\n\u001b[1;32m    592\u001b[0m \u001b[43m                \u001b[49m\u001b[43mcolor_range\u001b[49m\u001b[38;5;241;43m=\u001b[39;49m\u001b[43mcolor_range\u001b[49m\u001b[43m,\u001b[49m\u001b[43m \u001b[49m\u001b[43mlabel_text\u001b[49m\u001b[38;5;241;43m=\u001b[39;49m\u001b[43mlabel_text\u001b[49m\u001b[43m,\u001b[49m\u001b[43m \u001b[49m\u001b[43mcmap\u001b[49m\u001b[38;5;241;43m=\u001b[39;49m\u001b[43mcmap\u001b[49m\u001b[43m,\u001b[49m\n\u001b[1;32m    593\u001b[0m \u001b[43m                \u001b[49m\u001b[43mnan_color\u001b[49m\u001b[38;5;241;43m=\u001b[39;49m\u001b[43mnan_color\u001b[49m\u001b[43m,\u001b[49m\u001b[43m \u001b[49m\u001b[43mzoom\u001b[49m\u001b[38;5;241;43m=\u001b[39;49m\u001b[43mzoom\u001b[49m\u001b[43m,\u001b[49m\u001b[43m \u001b[49m\u001b[43mbackground\u001b[49m\u001b[38;5;241;43m=\u001b[39;49m\u001b[43mbackground\u001b[49m\u001b[43m,\u001b[49m\n\u001b[1;32m    594\u001b[0m \u001b[43m                \u001b[49m\u001b[43msize\u001b[49m\u001b[38;5;241;43m=\u001b[39;49m\u001b[43msize\u001b[49m\u001b[43m,\u001b[49m\u001b[43m \u001b[49m\u001b[43minteractive\u001b[49m\u001b[38;5;241;43m=\u001b[39;49m\u001b[43minteractive\u001b[49m\u001b[43m,\u001b[49m\u001b[43m \u001b[49m\u001b[43membed_nb\u001b[49m\u001b[38;5;241;43m=\u001b[39;49m\u001b[43membed_nb\u001b[49m\u001b[43m,\u001b[49m\n\u001b[1;32m    595\u001b[0m \u001b[43m                \u001b[49m\u001b[43mscreenshot\u001b[49m\u001b[38;5;241;43m=\u001b[39;49m\u001b[43mscreenshot\u001b[49m\u001b[43m,\u001b[49m\u001b[43m \u001b[49m\u001b[43mfilename\u001b[49m\u001b[38;5;241;43m=\u001b[39;49m\u001b[43mfilename\u001b[49m\u001b[43m,\u001b[49m\u001b[43m \u001b[49m\u001b[43mscale\u001b[49m\u001b[38;5;241;43m=\u001b[39;49m\u001b[43mscale\u001b[49m\u001b[43m,\u001b[49m\n\u001b[1;32m    596\u001b[0m \u001b[43m                \u001b[49m\u001b[43mtransparent_bg\u001b[49m\u001b[38;5;241;43m=\u001b[39;49m\u001b[43mtransparent_bg\u001b[49m\u001b[43m,\u001b[49m\u001b[43m \u001b[49m\u001b[38;5;241;43m*\u001b[39;49m\u001b[38;5;241;43m*\u001b[39;49m\u001b[43mkwds\u001b[49m\u001b[43m)\u001b[49m\n\u001b[1;32m    598\u001b[0m \u001b[38;5;66;03m# remove arrays added to surfaces if any\u001b[39;00m\n\u001b[1;32m    599\u001b[0m \u001b[38;5;66;03m# cannot do it if return_plotter=True\u001b[39;00m\n\u001b[1;32m    600\u001b[0m \u001b[38;5;28;01mif\u001b[39;00m \u001b[38;5;129;01mnot\u001b[39;00m kwargs\u001b[38;5;241m.\u001b[39mget(\u001b[38;5;124m'\u001b[39m\u001b[38;5;124mreturn_plotter\u001b[39m\u001b[38;5;124m'\u001b[39m, \u001b[38;5;28;01mFalse\u001b[39;00m):\n",
      "File \u001b[0;32m/home/global/Anaconda3-2023.09/envs/conda_env_3.12/lib/python3.12/site-packages/brainspace/plotting/surface_plotting.py:450\u001b[0m, in \u001b[0;36mplot_surf\u001b[0;34m(surfs, layout, array_name, view, color_bar, color_range, share, label_text, cmap, nan_color, zoom, background, size, embed_nb, interactive, scale, transparent_bg, screenshot, filename, return_plotter, suppress_warnings, **kwargs)\u001b[0m\n\u001b[1;32m    447\u001b[0m \u001b[38;5;28;01mif\u001b[39;00m screenshot \u001b[38;5;129;01mor\u001b[39;00m embed_nb:\n\u001b[1;32m    448\u001b[0m     kwargs\u001b[38;5;241m.\u001b[39mupdate({\u001b[38;5;124m'\u001b[39m\u001b[38;5;124moffscreen\u001b[39m\u001b[38;5;124m'\u001b[39m: \u001b[38;5;28;01mTrue\u001b[39;00m})\n\u001b[0;32m--> 450\u001b[0m p \u001b[38;5;241m=\u001b[39m \u001b[43mbuild_plotter\u001b[49m\u001b[43m(\u001b[49m\u001b[43msurfs\u001b[49m\u001b[43m,\u001b[49m\u001b[43m \u001b[49m\u001b[43mlayout\u001b[49m\u001b[43m,\u001b[49m\u001b[43m \u001b[49m\u001b[43marray_name\u001b[49m\u001b[38;5;241;43m=\u001b[39;49m\u001b[43marray_name\u001b[49m\u001b[43m,\u001b[49m\u001b[43m \u001b[49m\u001b[43mview\u001b[49m\u001b[38;5;241;43m=\u001b[39;49m\u001b[43mview\u001b[49m\u001b[43m,\u001b[49m\n\u001b[1;32m    451\u001b[0m \u001b[43m                  \u001b[49m\u001b[43mcolor_bar\u001b[49m\u001b[38;5;241;43m=\u001b[39;49m\u001b[43mcolor_bar\u001b[49m\u001b[43m,\u001b[49m\u001b[43m \u001b[49m\u001b[43mcolor_range\u001b[49m\u001b[38;5;241;43m=\u001b[39;49m\u001b[43mcolor_range\u001b[49m\u001b[43m,\u001b[49m\n\u001b[1;32m    452\u001b[0m \u001b[43m                  \u001b[49m\u001b[43mshare\u001b[49m\u001b[38;5;241;43m=\u001b[39;49m\u001b[43mshare\u001b[49m\u001b[43m,\u001b[49m\u001b[43m \u001b[49m\u001b[43mlabel_text\u001b[49m\u001b[38;5;241;43m=\u001b[39;49m\u001b[43mlabel_text\u001b[49m\u001b[43m,\u001b[49m\u001b[43m \u001b[49m\u001b[43mcmap\u001b[49m\u001b[38;5;241;43m=\u001b[39;49m\u001b[43mcmap\u001b[49m\u001b[43m,\u001b[49m\n\u001b[1;32m    453\u001b[0m \u001b[43m                  \u001b[49m\u001b[43mnan_color\u001b[49m\u001b[38;5;241;43m=\u001b[39;49m\u001b[43mnan_color\u001b[49m\u001b[43m,\u001b[49m\u001b[43m \u001b[49m\u001b[43mzoom\u001b[49m\u001b[38;5;241;43m=\u001b[39;49m\u001b[43mzoom\u001b[49m\u001b[43m,\u001b[49m\u001b[43m \u001b[49m\u001b[43mbackground\u001b[49m\u001b[38;5;241;43m=\u001b[39;49m\u001b[43mbackground\u001b[49m\u001b[43m,\u001b[49m\n\u001b[1;32m    454\u001b[0m \u001b[43m                  \u001b[49m\u001b[43msize\u001b[49m\u001b[38;5;241;43m=\u001b[39;49m\u001b[43msize\u001b[49m\u001b[43m,\u001b[49m\u001b[43m \u001b[49m\u001b[38;5;241;43m*\u001b[39;49m\u001b[38;5;241;43m*\u001b[39;49m\u001b[43mkwargs\u001b[49m\u001b[43m)\u001b[49m\n\u001b[1;32m    455\u001b[0m \u001b[38;5;28;01mif\u001b[39;00m return_plotter:\n\u001b[1;32m    456\u001b[0m     \u001b[38;5;28;01mreturn\u001b[39;00m p\n",
      "File \u001b[0;32m/home/global/Anaconda3-2023.09/envs/conda_env_3.12/lib/python3.12/site-packages/brainspace/plotting/surface_plotting.py:287\u001b[0m, in \u001b[0;36mbuild_plotter\u001b[0;34m(surfs, layout, array_name, view, color_bar, color_range, share, label_text, cmap, nan_color, zoom, background, size, **kwargs)\u001b[0m\n\u001b[1;32m    285\u001b[0m cm \u001b[38;5;241m=\u001b[39m cmap[i, j][ia]\n\u001b[1;32m    286\u001b[0m \u001b[38;5;28;01mif\u001b[39;00m cm \u001b[38;5;129;01mis\u001b[39;00m \u001b[38;5;129;01mnot\u001b[39;00m \u001b[38;5;28;01mNone\u001b[39;00m:\n\u001b[0;32m--> 287\u001b[0m     \u001b[38;5;28;01mif\u001b[39;00m \u001b[43mcm\u001b[49m\u001b[43m \u001b[49m\u001b[38;5;129;43;01min\u001b[39;49;00m\u001b[43m \u001b[49m\u001b[43mcolormaps\u001b[49m:\n\u001b[1;32m    288\u001b[0m         table \u001b[38;5;241m=\u001b[39m colormaps[cm]\n\u001b[1;32m    289\u001b[0m     \u001b[38;5;28;01melse\u001b[39;00m:\n",
      "\u001b[0;31mTypeError\u001b[0m: unhashable type: 'ListedColormap'"
     ]
    }
   ],
   "source": [
    "\n",
    "plot_hemispheres(surf_lh, surf_rh, array_name=label, size=(900, 250), zoom=1.25, embed_nb=True, interactive=False, share='both',\n",
    "                             nan_color=(0, 0, 0, 1),cmap=cmap_gradient(len(np.unique(label)), ['inferno', 'hsv', 'hsv', 'tab20b']), transparent_bg=False,\n",
    "                             screenshot = True, offscreen=False, filename = figPath)\n"
   ]
  },
  {
   "cell_type": "code",
   "execution_count": null,
   "metadata": {},
   "outputs": [],
   "source": [
    " "
   ]
  }
 ],
 "metadata": {
  "kernelspec": {
   "display_name": "conda_env_3.12",
   "language": "python",
   "name": "python3"
  },
  "language_info": {
   "codemirror_mode": {
    "name": "ipython",
    "version": 3
   },
   "file_extension": ".py",
   "mimetype": "text/x-python",
   "name": "python",
   "nbconvert_exporter": "python",
   "pygments_lexer": "ipython3",
   "version": "3.12.5"
  }
 },
 "nbformat": 4,
 "nbformat_minor": 2
}
