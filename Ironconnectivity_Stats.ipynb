{
 "cells": [
  {
   "cell_type": "code",
   "execution_count": 17,
   "id": "4bd3e3e2-5ac7-43e9-a202-b1f0d3926cec",
   "metadata": {},
   "outputs": [],
   "source": [
    "import nibabel as nib\n",
    "import nibabel.freesurfer as nifs"
   ]
  },
  {
   "cell_type": "code",
   "execution_count": 2,
   "id": "a098aaf2-2a3e-4e0e-90ad-993a1d709bf9",
   "metadata": {
    "tags": []
   },
   "outputs": [
    {
     "ename": "AttributeError",
     "evalue": "module 'statsmodels.stats.api' has no attribute 'PermutationTest'",
     "output_type": "error",
     "traceback": [
      "\u001b[0;31m---------------------------------------------------------------------------\u001b[0m",
      "\u001b[0;31mAttributeError\u001b[0m                            Traceback (most recent call last)",
      "Input \u001b[0;32mIn [2]\u001b[0m, in \u001b[0;36m<cell line: 0>\u001b[0;34m()\u001b[0m\n\u001b[1;32m      7\u001b[0m matrix2 \u001b[38;5;241m=\u001b[39m np\u001b[38;5;241m.\u001b[39mrandom\u001b[38;5;241m.\u001b[39mrandn(\u001b[38;5;241m10\u001b[39m, \u001b[38;5;241m5\u001b[39m)\n\u001b[1;32m      9\u001b[0m \u001b[38;5;66;03m# Effectuer un test de permutation pour comparer les moyennes des deux matrices\u001b[39;00m\n\u001b[0;32m---> 10\u001b[0m perm_test \u001b[38;5;241m=\u001b[39m sm\u001b[38;5;241m.\u001b[39mstats\u001b[38;5;241m.\u001b[39mPermutationTest(np\u001b[38;5;241m.\u001b[39mconcatenate([matrix1, matrix2]), groups\u001b[38;5;241m=\u001b[39m[\u001b[38;5;241m0\u001b[39m]\u001b[38;5;241m*\u001b[39m\u001b[38;5;241m10\u001b[39m\u001b[38;5;241m+\u001b[39m[\u001b[38;5;241m1\u001b[39m]\u001b[38;5;241m*\u001b[39m\u001b[38;5;241m10\u001b[39m)\n\u001b[1;32m     11\u001b[0m perm_test_result \u001b[38;5;241m=\u001b[39m perm_test\u001b[38;5;241m.\u001b[39mtest_mean()\n\u001b[1;32m     13\u001b[0m \u001b[38;5;66;03m# Afficher les résultats\u001b[39;00m\n",
      "\u001b[0;31mAttributeError\u001b[0m: module 'statsmodels.stats.api' has no attribute 'PermutationTest'"
     ]
    }
   ],
   "source": [
    "import numpy as np\n",
    "import statsmodels.api as sm\n",
    "\n",
    "# Générer deux matrices aléatoires\n",
    "np.random.seed(42)\n",
    "matrix1 = np.random.randn(10, 5)\n",
    "matrix2 = np.random.randn(10, 5)\n",
    "\n",
    "# Effectuer un test de permutation pour comparer les moyennes des deux matrices\n",
    "perm_test = sm.stats.PermutationTest(np.concatenate([matrix1, matrix2]), groups=[0]*10+[1]*10)\n",
    "perm_test_result = perm_test.test_mean()\n",
    "\n",
    "# Afficher les résultats\n",
    "print(\"Statistique du test de permutation :\", perm_test_result.stat)\n",
    "print(\"p-value du test de permutation :\", perm_test_result.pvalue)\n"
   ]
  },
  {
   "cell_type": "code",
   "execution_count": 3,
   "id": "164cc7e4-f2bb-4cd5-bc6e-28d83637832a",
   "metadata": {
    "tags": []
   },
   "outputs": [
    {
     "name": "stdout",
     "output_type": "stream",
     "text": [
      "(1, 2, 3)\n",
      "(1, 3, 2)\n",
      "(2, 1, 3)\n",
      "(2, 3, 1)\n",
      "(3, 1, 2)\n",
      "(3, 2, 1)\n"
     ]
    }
   ],
   "source": [
    "import numpy as np\n",
    "from itertools import permutations\n",
    "\n",
    "# Create a NumPy array\n",
    "array = np.array([1, 2, 3])\n",
    "\n",
    "# Generate all permutations of the array\n",
    "perm = permutations(array)\n",
    "\n",
    "# Print each permutation\n",
    "for p in list(perm):\n",
    "    print(p)"
   ]
  },
  {
   "cell_type": "code",
   "execution_count": 4,
   "id": "d23c0111-e876-4786-a6aa-0ed767dbc213",
   "metadata": {
    "tags": []
   },
   "outputs": [
    {
     "ename": "AttributeError",
     "evalue": "module 'statsmodels.stats.api' has no attribute 'PermutationTest'",
     "output_type": "error",
     "traceback": [
      "\u001b[0;31m---------------------------------------------------------------------------\u001b[0m",
      "\u001b[0;31mAttributeError\u001b[0m                            Traceback (most recent call last)",
      "Input \u001b[0;32mIn [4]\u001b[0m, in \u001b[0;36m<cell line: 0>\u001b[0;34m()\u001b[0m\n\u001b[1;32m     10\u001b[0m mean_diff \u001b[38;5;241m=\u001b[39m np\u001b[38;5;241m.\u001b[39mmean(sample1) \u001b[38;5;241m-\u001b[39m np\u001b[38;5;241m.\u001b[39mmean(sample2)\n\u001b[1;32m     12\u001b[0m \u001b[38;5;66;03m# Effectuer le test de permutation\u001b[39;00m\n\u001b[0;32m---> 13\u001b[0m perm_test \u001b[38;5;241m=\u001b[39m sm\u001b[38;5;241m.\u001b[39mstats\u001b[38;5;241m.\u001b[39mPermutationTest(np\u001b[38;5;241m.\u001b[39mconcatenate([sample1, sample2]), groups\u001b[38;5;241m=\u001b[39m[\u001b[38;5;241m0\u001b[39m]\u001b[38;5;241m*\u001b[39m\u001b[38;5;241m30\u001b[39m\u001b[38;5;241m+\u001b[39m[\u001b[38;5;241m1\u001b[39m]\u001b[38;5;241m*\u001b[39m\u001b[38;5;241m30\u001b[39m, alternative\u001b[38;5;241m=\u001b[39m\u001b[38;5;124m'\u001b[39m\u001b[38;5;124mtwo-sided\u001b[39m\u001b[38;5;124m'\u001b[39m)\n\u001b[1;32m     14\u001b[0m perm_test_result \u001b[38;5;241m=\u001b[39m perm_test\u001b[38;5;241m.\u001b[39mtest(mean_diff)\n\u001b[1;32m     16\u001b[0m \u001b[38;5;66;03m# Afficher les résultats\u001b[39;00m\n",
      "\u001b[0;31mAttributeError\u001b[0m: module 'statsmodels.stats.api' has no attribute 'PermutationTest'"
     ]
    }
   ],
   "source": [
    "import numpy as np\n",
    "import statsmodels.api as sm\n",
    "\n",
    "# Générer deux échantillons aléatoires\n",
    "np.random.seed(42)\n",
    "sample1 = np.random.randn(30)\n",
    "sample2 = np.random.randn(30) + 0.5\n",
    "\n",
    "# Calculer la statistique de test (différence des moyennes)\n",
    "mean_diff = np.mean(sample1) - np.mean(sample2)\n",
    "\n",
    "# Effectuer le test de permutation\n",
    "perm_test = sm.stats.PermutationTest(np.concatenate([sample1, sample2]), groups=[0]*30+[1]*30, alternative='two-sided')\n",
    "perm_test_result = perm_test.test(mean_diff)\n",
    "\n",
    "# Afficher les résultats\n",
    "print(\"Statistique du test de permutation :\", perm_test_result.stat)\n",
    "print(\"p-value du test de permutation :\", perm_test_result.pvalue)\n"
   ]
  },
  {
   "cell_type": "code",
   "execution_count": 10,
   "id": "1d8f88b9-5b5d-4694-8aac-cb618d50f311",
   "metadata": {
    "tags": []
   },
   "outputs": [],
   "source": [
    "A = [[1, 2, 3, 4, 5],\n",
    "     [6, 7, 8, 9, 10],\n",
    "     [11, 12, 13, 14, 15],\n",
    "     [16, 17, 18, 19, 20],\n",
    "     [21, 22, 23, 24, 25]]\n",
    "\n",
    "B = [[26, 27, 28, 29, 30],\n",
    "     [31, 32, 33, 34, 35],\n",
    "     [36, 37, 38, 39, 40],\n",
    "     [41, 42, 43, 44, 45],\n",
    "     [46, 47, 48, 49, 50]]\n"
   ]
  },
  {
   "cell_type": "code",
   "execution_count": 11,
   "id": "6615a51e-477b-4187-8490-02b490f82520",
   "metadata": {
    "tags": []
   },
   "outputs": [
    {
     "data": {
      "text/plain": [
       "-25.0"
      ]
     },
     "execution_count": 11,
     "metadata": {},
     "output_type": "execute_result"
    }
   ],
   "source": [
    "diff_perm = np.mean(A) - np.mean(B)\n",
    "diff_perm"
   ]
  },
  {
   "cell_type": "code",
   "execution_count": 12,
   "id": "1bf4a27a-2261-4016-b905-f499e427f370",
   "metadata": {
    "tags": []
   },
   "outputs": [
    {
     "data": {
      "text/plain": [
       "-25.0"
      ]
     },
     "execution_count": 12,
     "metadata": {},
     "output_type": "execute_result"
    }
   ],
   "source": [
    "A_perm = [[16, 17, 18, 19, 20],\n",
    "          [11, 12, 13, 14, 15],\n",
    "          [6, 7, 8, 9, 10],\n",
    "          [1, 2, 3, 4, 5],\n",
    "          [21, 22, 23, 24, 25]]\n",
    "\n",
    "B_perm = [[31, 32, 33, 34, 35],\n",
    "          [36, 37, 38, 39, 40],\n",
    "          [41, 42, 43, 44, 45],\n",
    "          [26, 27, 28, 29, 30],\n",
    "          [46, 47, 48, 49, 50]]\n",
    "diff_perm = np.mean(A_perm) - np.mean(B_perm)\n",
    "diff_perm"
   ]
  },
  {
   "cell_type": "code",
   "execution_count": 13,
   "id": "56d9516c-d9d2-47f7-a626-f4fa8f65f6c5",
   "metadata": {
    "tags": []
   },
   "outputs": [
    {
     "data": {
      "text/plain": [
       "13.0"
      ]
     },
     "execution_count": 13,
     "metadata": {},
     "output_type": "execute_result"
    }
   ],
   "source": [
    "np.mean(A)"
   ]
  },
  {
   "cell_type": "code",
   "execution_count": 18,
   "id": "570ff3bc-95f6-4956-9cf5-8dad1f618019",
   "metadata": {},
   "outputs": [],
   "source": [
    "lh_dis_file = '/home/romain/Downloads/lh.HCPMMP1.annot'\n",
    "rh_dis_file = '/home/romain/Downloads/rh.HCPMMP1.annot'\n",
    "data1=nifs.io.read_annot(lh_dis_file)\n",
    "data2=nifs.io.read_annot(rh_dis_file)"
   ]
  },
  {
   "cell_type": "code",
   "execution_count": 27,
   "id": "6be50124-fcd4-4877-ab0a-6c2473bc7446",
   "metadata": {
    "tags": []
   },
   "outputs": [
    {
     "data": {
      "text/plain": [
       "(163842,)"
      ]
     },
     "execution_count": 27,
     "metadata": {},
     "output_type": "execute_result"
    }
   ],
   "source": [
    "data1[0].shape"
   ]
  },
  {
   "cell_type": "code",
   "execution_count": 30,
   "id": "31d5fb61-9547-4ba5-890b-2b5651ef59de",
   "metadata": {
    "tags": []
   },
   "outputs": [
    {
     "data": {
      "text/plain": [
       "array([  0,   1,   2,   3,   4,   5,   6,   7,   8,   9,  10,  11,  12,\n",
       "        13,  14,  15,  16,  17,  18,  19,  20,  21,  22,  23,  24,  25,\n",
       "        26,  27,  28,  29,  30,  31,  32,  33,  34,  35,  36,  37,  38,\n",
       "        39,  40,  41,  42,  43,  44,  45,  46,  47,  48,  49,  50,  51,\n",
       "        52,  53,  54,  55,  56,  57,  58,  59,  60,  61,  62,  63,  64,\n",
       "        65,  66,  67,  68,  69,  70,  71,  72,  73,  74,  75,  76,  77,\n",
       "        78,  79,  80,  81,  82,  83,  84,  85,  86,  87,  88,  89,  90,\n",
       "        91,  92,  93,  94,  95,  96,  97,  98,  99, 100, 101, 102, 103,\n",
       "       104, 105, 106, 107, 108, 109, 110, 111, 112, 113, 114, 115, 116,\n",
       "       117, 118, 119, 120, 121, 122, 123, 124, 125, 126, 127, 128, 129,\n",
       "       130, 131, 132, 133, 134, 135, 136, 137, 138, 139, 140, 141, 142,\n",
       "       143, 144, 145, 146, 147, 148, 149, 150, 151, 152, 153, 154, 155,\n",
       "       156, 157, 158, 159, 160, 161, 162, 163, 164, 165, 166, 167, 168,\n",
       "       169, 170, 171, 172, 173, 174, 175, 176, 177, 178, 179, 180],\n",
       "      dtype='>i4')"
      ]
     },
     "execution_count": 30,
     "metadata": {},
     "output_type": "execute_result"
    }
   ],
   "source": [
    "np.unique(data1[0])"
   ]
  },
  {
   "cell_type": "code",
   "execution_count": 21,
   "id": "6b212527-26f5-438b-b101-2184579004d1",
   "metadata": {
    "tags": []
   },
   "outputs": [],
   "source": [
    "from brainstat.datasets import fetch_mask, fetch_template_surface,fetch_parcellation\n",
    "glasser = fetch_parcellation(\"fsaverage5\", \"glasser\", 360)"
   ]
  },
  {
   "cell_type": "code",
   "execution_count": 23,
   "id": "0acafd7e-e5cf-4aed-9bb3-9340dcdf57b6",
   "metadata": {
    "tags": []
   },
   "outputs": [
    {
     "data": {
      "text/plain": [
       "(20484,)"
      ]
     },
     "execution_count": 23,
     "metadata": {},
     "output_type": "execute_result"
    }
   ],
   "source": [
    "glasser.shape"
   ]
  },
  {
   "cell_type": "code",
   "execution_count": 29,
   "id": "964cfbfc-2d2a-4ed7-8586-f99bd92ba26c",
   "metadata": {
    "tags": []
   },
   "outputs": [
    {
     "data": {
      "text/plain": [
       "array([  0,   1,   2,   3,   4,   5,   6,   7,   8,   9,  10,  11,  12,\n",
       "        13,  14,  15,  16,  17,  18,  19,  20,  21,  22,  23,  24,  25,\n",
       "        26,  27,  28,  29,  30,  31,  32,  33,  34,  35,  36,  37,  38,\n",
       "        39,  40,  41,  42,  43,  44,  45,  46,  47,  48,  49,  50,  51,\n",
       "        52,  53,  54,  55,  56,  57,  58,  59,  60,  61,  62,  63,  64,\n",
       "        65,  66,  67,  68,  69,  70,  71,  72,  73,  74,  75,  76,  77,\n",
       "        78,  79,  80,  81,  82,  83,  84,  85,  86,  87,  88,  89,  90,\n",
       "        91,  92,  93,  94,  95,  96,  97,  98,  99, 100, 101, 102, 103,\n",
       "       104, 105, 106, 107, 108, 109, 110, 111, 112, 113, 114, 115, 116,\n",
       "       117, 118, 119, 120, 121, 122, 123, 124, 125, 126, 127, 128, 129,\n",
       "       130, 131, 132, 133, 134, 135, 136, 137, 138, 139, 140, 141, 142,\n",
       "       143, 144, 145, 146, 147, 148, 149, 150, 151, 152, 153, 154, 155,\n",
       "       156, 157, 158, 159, 160, 161, 162, 163, 164, 165, 166, 167, 168,\n",
       "       169, 170, 171, 172, 173, 174, 175, 176, 177, 178, 179, 180, 181,\n",
       "       182, 183, 184, 185, 186, 187, 188, 189, 190, 191, 192, 193, 194,\n",
       "       195, 196, 197, 198, 199, 200, 201, 202, 203, 204, 205, 206, 207,\n",
       "       208, 209, 210, 211, 212, 213, 214, 215, 216, 217, 218, 219, 220,\n",
       "       221, 222, 223, 224, 225, 226, 227, 228, 229, 230, 231, 232, 233,\n",
       "       234, 235, 236, 237, 238, 239, 240, 241, 242, 243, 244, 245, 246,\n",
       "       247, 248, 249, 250, 251, 252, 253, 254, 255, 256, 257, 258, 259,\n",
       "       260, 261, 262, 263, 264, 265, 266, 267, 268, 269, 270, 271, 272,\n",
       "       273, 274, 275, 276, 277, 278, 279, 280, 281, 282, 283, 284, 285,\n",
       "       286, 287, 288, 289, 290, 291, 292, 293, 294, 295, 296, 297, 298,\n",
       "       299, 300, 301, 302, 303, 304, 305, 306, 307, 308, 309, 310, 311,\n",
       "       312, 313, 314, 315, 316, 317, 318, 319, 320, 321, 322, 323, 324,\n",
       "       325, 326, 327, 328, 329, 330, 331, 332, 333, 334, 335, 336, 337,\n",
       "       338, 339, 340, 341, 342, 343, 344, 345, 346, 347, 348, 349, 350,\n",
       "       351, 352, 353, 354, 355, 356, 357, 358, 359, 360], dtype=int32)"
      ]
     },
     "execution_count": 29,
     "metadata": {},
     "output_type": "execute_result"
    }
   ],
   "source": [
    "np.unique(glasser)"
   ]
  },
  {
   "cell_type": "code",
   "execution_count": 31,
   "id": "ba27db7a-e14a-41ee-98a0-61710c804bd6",
   "metadata": {
    "tags": []
   },
   "outputs": [],
   "source": [
    "inflated_left, inflated_right = fetch_template_surface(\"fsaverage5\",layer=\"inflated\",join=False)"
   ]
  },
  {
   "cell_type": "code",
   "execution_count": 35,
   "id": "b566d3b7-6cce-43a0-b04f-fd9b8e6b7ad6",
   "metadata": {
    "tags": []
   },
   "outputs": [
    {
     "ename": "TypeError",
     "evalue": "'BSPolyData' object is not subscriptable",
     "output_type": "error",
     "traceback": [
      "\u001b[0;31m---------------------------------------------------------------------------\u001b[0m",
      "\u001b[0;31mTypeError\u001b[0m                                 Traceback (most recent call last)",
      "Input \u001b[0;32mIn [35]\u001b[0m, in \u001b[0;36m<cell line: 0>\u001b[0;34m()\u001b[0m\n\u001b[0;32m----> 1\u001b[0m inflated_left[\u001b[38;5;241m0\u001b[39m]\n",
      "\u001b[0;31mTypeError\u001b[0m: 'BSPolyData' object is not subscriptable"
     ]
    }
   ],
   "source": [
    "inflated_left.g"
   ]
  },
  {
   "cell_type": "code",
   "execution_count": null,
   "id": "b1468ab1-2577-4ed4-9af0-dabe5dd85f58",
   "metadata": {},
   "outputs": [],
   "source": []
  }
 ],
 "metadata": {
  "kernelspec": {
   "display_name": "base",
   "language": "python",
   "name": "python3"
  },
  "language_info": {
   "codemirror_mode": {
    "name": "ipython",
    "version": 3
   },
   "file_extension": ".py",
   "mimetype": "text/x-python",
   "name": "python",
   "nbconvert_exporter": "python",
   "pygments_lexer": "ipython3",
   "version": "3.11.5"
  }
 },
 "nbformat": 4,
 "nbformat_minor": 5
}
