{
 "cells": [
  {
   "cell_type": "code",
   "execution_count": 1,
   "id": "1684a85c",
   "metadata": {},
   "outputs": [
    {
     "name": "stdout",
     "output_type": "stream",
     "text": [
      "Collecting package metadata (current_repodata.json): \\ WARNING conda.models.version:get_matcher(538): Using .* with relational operator is superfluous and deprecated and will be removed in a future version of conda. Your spec was 1.7.1.*, but conda is ignoring the .* and treating it as 1.7.1\n",
      "done\n",
      "Solving environment: done\n",
      "\n",
      "\n",
      "==> WARNING: A newer version of conda exists. <==\n",
      "  current version: 4.12.0\n",
      "  latest version: 23.7.4\n",
      "\n",
      "Please update conda by running\n",
      "\n",
      "    $ conda update -n base -c defaults conda\n",
      "\n",
      "\n",
      "\n",
      "## Package Plan ##\n",
      "\n",
      "  environment location: /home/global/anaconda37\n",
      "\n",
      "  added / updated specs:\n",
      "    - ants\n",
      "\n",
      "\n",
      "The following packages will be downloaded:\n",
      "\n",
      "    package                    |            build\n",
      "    ---------------------------|-----------------\n",
      "    _openmp_mutex-4.5          |            2_gnu          23 KB  conda-forge\n",
      "    ants-2.5.0                 |       had84ea8_3        36.7 MB  conda-forge\n",
      "    ca-certificates-2023.7.22  |       hbcca054_0         146 KB  conda-forge\n",
      "    certifi-2023.7.22          |     pyhd8ed1ab_0         150 KB  conda-forge\n",
      "    conda-4.14.0               |   py37h89c1867_0        1010 KB  conda-forge\n",
      "    libgcc-ng-13.2.0           |       h807b86a_0         753 KB  conda-forge\n",
      "    libgomp-13.2.0             |       h807b86a_0         412 KB  conda-forge\n",
      "    libstdcxx-ng-13.2.0        |       h7e041cc_0         3.7 MB  conda-forge\n",
      "    openssl-1.1.1w             |       hd590300_0         1.9 MB  conda-forge\n",
      "    ------------------------------------------------------------\n",
      "                                           Total:        44.7 MB\n",
      "\n",
      "The following NEW packages will be INSTALLED:\n",
      "\n",
      "  ants               conda-forge/linux-64::ants-2.5.0-had84ea8_3\n",
      "\n",
      "The following packages will be UPDATED:\n",
      "\n",
      "  certifi            pkgs/main/linux-64::certifi-2022.12.7~ --> conda-forge/noarch::certifi-2023.7.22-pyhd8ed1ab_0\n",
      "  conda              pkgs/main::conda-4.12.0-py37h06a4308_0 --> conda-forge::conda-4.14.0-py37h89c1867_0\n",
      "  libgcc-ng          pkgs/main::libgcc-ng-11.2.0-h1234567_1 --> conda-forge::libgcc-ng-13.2.0-h807b86a_0\n",
      "  libgomp              pkgs/main::libgomp-11.2.0-h1234567_1 --> conda-forge::libgomp-13.2.0-h807b86a_0\n",
      "  libstdcxx-ng       pkgs/main::libstdcxx-ng-11.2.0-h12345~ --> conda-forge::libstdcxx-ng-13.2.0-h7e041cc_0\n",
      "  openssl              pkgs/main::openssl-1.1.1v-h7f8727e_0 --> conda-forge::openssl-1.1.1w-hd590300_0\n",
      "\n",
      "The following packages will be SUPERSEDED by a higher-priority channel:\n",
      "\n",
      "  _libgcc_mutex           pkgs/main::_libgcc_mutex-0.1-main --> conda-forge::_libgcc_mutex-0.1-conda_forge\n",
      "  _openmp_mutex          pkgs/main::_openmp_mutex-5.1-1_gnu --> conda-forge::_openmp_mutex-4.5-2_gnu\n",
      "  ca-certificates    pkgs/main::ca-certificates-2023.08.22~ --> conda-forge::ca-certificates-2023.7.22-hbcca054_0\n",
      "\n",
      "\n",
      "\n",
      "Downloading and Extracting Packages\n",
      "libstdcxx-ng-13.2.0  | 3.7 MB    | ##################################### | 100% \n",
      "ca-certificates-2023 | 146 KB    | ##################################### | 100% \n",
      "_openmp_mutex-4.5    | 23 KB     | ##################################### | 100% \n",
      "libgomp-13.2.0       | 412 KB    | ##################################### | 100% \n",
      "conda-4.14.0         | 1010 KB   | ##################################### | 100% \n",
      "openssl-1.1.1w       | 1.9 MB    | ##################################### | 100% \n",
      "certifi-2023.7.22    | 150 KB    | ##################################### | 100% \n",
      "ants-2.5.0           | 36.7 MB   | ##################################### | 100% \n",
      "libgcc-ng-13.2.0     | 753 KB    | ##################################### | 100% \n",
      "Preparing transaction: done\n",
      "Verifying transaction: failed\n",
      "\n",
      "EnvironmentNotWritableError: The current user does not have write permissions to the target environment.\n",
      "  environment location: /home/global/anaconda37\n",
      "  uid: 2054\n",
      "  gid: 500\n",
      "\n",
      "\n",
      "\n",
      "Note: you may need to restart the kernel to use updated packages.\n"
     ]
    }
   ],
   "source": [
    "conda install -c conda-forge ants"
   ]
  },
  {
   "cell_type": "code",
   "execution_count": 2,
   "id": "ec2a85d5",
   "metadata": {},
   "outputs": [
    {
     "name": "stdout",
     "output_type": "stream",
     "text": [
      "Defaulting to user installation because normal site-packages is not writeable\n",
      "Collecting pyants\n",
      "  Downloading pyants-0.3.0-py3-none-any.whl (21 kB)\n",
      "\u001b[33mDEPRECATION: matlabengineforpython R2020a has a non-standard version number. pip 23.3 will enforce this behaviour change. A possible replacement is to upgrade to a newer version of matlabengineforpython or contact the author to suggest that they release a version with a conforming version number. Discussion can be found at https://github.com/pypa/pip/issues/12063\u001b[0m\u001b[33m\n",
      "\u001b[0mInstalling collected packages: pyants\n",
      "Successfully installed pyants-0.3.0\n",
      "Note: you may need to restart the kernel to use updated packages.\n"
     ]
    }
   ],
   "source": [
    "pip install pyants"
   ]
  },
  {
   "cell_type": "code",
   "execution_count": null,
   "id": "51c939e2",
   "metadata": {},
   "outputs": [
    {
     "name": "stdout",
     "output_type": "stream",
     "text": [
      "Defaulting to user installation because normal site-packages is not writeable\n",
      "Collecting antspyx\n",
      "  Obtaining dependency information for antspyx from https://files.pythonhosted.org/packages/95/1e/f8201dd4d5edf175792d7069f0415f87c49dfaa7b34d4bdbd8effbd88ca5/antspyx-0.4.2-cp37-cp37m-manylinux_2_17_x86_64.manylinux2014_x86_64.whl.metadata\n",
      "  Downloading antspyx-0.4.2-cp37-cp37m-manylinux_2_17_x86_64.manylinux2014_x86_64.whl.metadata (781 bytes)\n",
      "Requirement already satisfied: pandas in /mnt/software/anaconda37/lib/python3.7/site-packages (from antspyx) (1.3.5)\n",
      "Requirement already satisfied: numpy in /home/youssef/.local/lib/python3.7/site-packages (from antspyx) (1.19.5)\n",
      "Requirement already satisfied: scipy in /mnt/software/anaconda37/lib/python3.7/site-packages (from antspyx) (1.7.3)\n",
      "Requirement already satisfied: scikit-image in /mnt/software/anaconda37/lib/python3.7/site-packages (from antspyx) (0.18.3)\n",
      "Requirement already satisfied: scikit-learn in /mnt/software/anaconda37/lib/python3.7/site-packages (from antspyx) (1.0.2)\n",
      "Requirement already satisfied: statsmodels in /mnt/software/anaconda37/lib/python3.7/site-packages (from antspyx) (0.12.1)\n",
      "Collecting webcolors (from antspyx)\n",
      "  Downloading webcolors-1.13-py3-none-any.whl (14 kB)\n",
      "Requirement already satisfied: matplotlib in /mnt/software/anaconda37/lib/python3.7/site-packages (from antspyx) (3.5.0)\n",
      "Requirement already satisfied: pyyaml in /mnt/software/anaconda37/lib/python3.7/site-packages (from antspyx) (6.0)\n",
      "Collecting chart-studio (from antspyx)\n",
      "  Downloading chart_studio-1.1.0-py3-none-any.whl (64 kB)\n",
      "\u001b[2K     \u001b[38;2;114;156;31m━━━━━━━━━━━━━━━━━━━━━━━━━━━━━━━━━━━━━━━━\u001b[0m \u001b[32m64.4/64.4 kB\u001b[0m \u001b[31m1.5 MB/s\u001b[0m eta \u001b[36m0:00:00\u001b[0m MB/s\u001b[0m eta \u001b[36m0:00:01\u001b[0m\n",
      "\u001b[?25hRequirement already satisfied: Pillow in /mnt/software/anaconda37/lib/python3.7/site-packages (from antspyx) (9.4.0)\n",
      "Requirement already satisfied: nibabel in /mnt/software/anaconda37/lib/python3.7/site-packages (from antspyx) (4.0.1)\n",
      "Collecting plotly (from chart-studio->antspyx)\n",
      "  Obtaining dependency information for plotly from https://files.pythonhosted.org/packages/26/5d/1e13b597ed8e54803e9ac6ded18c04cd35d8cbc49016778ec50c4ca9e9d5/plotly-5.16.1-py2.py3-none-any.whl.metadata\n",
      "  Downloading plotly-5.16.1-py2.py3-none-any.whl.metadata (7.0 kB)\n",
      "Requirement already satisfied: requests in /mnt/software/anaconda37/lib/python3.7/site-packages (from chart-studio->antspyx) (2.28.1)\n",
      "Collecting retrying>=1.3.3 (from chart-studio->antspyx)\n",
      "  Downloading retrying-1.3.4-py3-none-any.whl (11 kB)\n",
      "Requirement already satisfied: six in /home/youssef/.local/lib/python3.7/site-packages (from chart-studio->antspyx) (1.15.0)\n",
      "Requirement already satisfied: cycler>=0.10 in /mnt/software/anaconda37/lib/python3.7/site-packages (from matplotlib->antspyx) (0.11.0)\n",
      "Requirement already satisfied: fonttools>=4.22.0 in /mnt/software/anaconda37/lib/python3.7/site-packages (from matplotlib->antspyx) (4.25.0)\n",
      "Requirement already satisfied: kiwisolver>=1.0.1 in /mnt/software/anaconda37/lib/python3.7/site-packages (from matplotlib->antspyx) (1.4.4)\n",
      "Requirement already satisfied: packaging>=20.0 in /mnt/software/anaconda37/lib/python3.7/site-packages (from matplotlib->antspyx) (21.3)\n",
      "Requirement already satisfied: pyparsing>=2.2.1 in /mnt/software/anaconda37/lib/python3.7/site-packages (from matplotlib->antspyx) (3.0.9)\n",
      "Requirement already satisfied: python-dateutil>=2.7 in /mnt/software/anaconda37/lib/python3.7/site-packages (from matplotlib->antspyx) (2.8.2)\n",
      "Requirement already satisfied: setuptools in /mnt/software/anaconda37/lib/python3.7/site-packages (from nibabel->antspyx) (58.0.4)\n",
      "Requirement already satisfied: pytz>=2017.3 in /mnt/software/anaconda37/lib/python3.7/site-packages (from pandas->antspyx) (2022.7)\n",
      "Requirement already satisfied: networkx>=2.0 in /mnt/software/anaconda37/lib/python3.7/site-packages (from scikit-image->antspyx) (2.6.3)\n",
      "Requirement already satisfied: imageio>=2.3.0 in /mnt/software/anaconda37/lib/python3.7/site-packages (from scikit-image->antspyx) (2.9.0)\n",
      "Requirement already satisfied: tifffile>=2019.7.26 in /mnt/software/anaconda37/lib/python3.7/site-packages (from scikit-image->antspyx) (2021.7.2)\n",
      "Collecting PyWavelets>=1.1.1 (from scikit-image->antspyx)\n",
      "  Downloading PyWavelets-1.3.0-cp37-cp37m-manylinux_2_5_x86_64.manylinux1_x86_64.manylinux_2_12_x86_64.manylinux2010_x86_64.whl (6.4 MB)\n",
      "\u001b[2K     \u001b[38;2;114;156;31m━━━━━━━━━━━━━━━━━━━━━━━━━━━━━━━━━━━━━━━━\u001b[0m \u001b[32m6.4/6.4 MB\u001b[0m \u001b[31m18.2 MB/s\u001b[0m eta \u001b[36m0:00:00\u001b[0mm eta \u001b[36m0:00:01\u001b[0m0:01\u001b[0m:01\u001b[0m\n",
      "\u001b[?25hRequirement already satisfied: joblib>=0.11 in /mnt/software/anaconda37/lib/python3.7/site-packages (from scikit-learn->antspyx) (1.1.0)\n",
      "Requirement already satisfied: threadpoolctl>=2.0.0 in /mnt/software/anaconda37/lib/python3.7/site-packages (from scikit-learn->antspyx) (2.2.0)\n",
      "Requirement already satisfied: patsy>=0.5 in /mnt/software/anaconda37/lib/python3.7/site-packages (from statsmodels->antspyx) (0.5.3)\n",
      "Requirement already satisfied: typing-extensions in /home/youssef/.local/lib/python3.7/site-packages (from kiwisolver>=1.0.1->matplotlib->antspyx) (3.7.4.3)\n",
      "Collecting tenacity>=6.2.0 (from plotly->chart-studio->antspyx)\n",
      "  Obtaining dependency information for tenacity>=6.2.0 from https://files.pythonhosted.org/packages/f4/f1/990741d5bb2487d529d20a433210ffa136a367751e454214013b441c4575/tenacity-8.2.3-py3-none-any.whl.metadata\n",
      "  Downloading tenacity-8.2.3-py3-none-any.whl.metadata (1.0 kB)\n",
      "Requirement already satisfied: charset-normalizer<3,>=2 in /mnt/software/anaconda37/lib/python3.7/site-packages (from requests->chart-studio->antspyx) (2.0.4)\n",
      "Requirement already satisfied: idna<4,>=2.5 in /mnt/software/anaconda37/lib/python3.7/site-packages (from requests->chart-studio->antspyx) (3.4)\n",
      "Requirement already satisfied: urllib3<1.27,>=1.21.1 in /mnt/software/anaconda37/lib/python3.7/site-packages (from requests->chart-studio->antspyx) (1.26.3)\n",
      "Requirement already satisfied: certifi>=2017.4.17 in /mnt/software/anaconda37/lib/python3.7/site-packages (from requests->chart-studio->antspyx) (2022.12.7)\n",
      "Downloading antspyx-0.4.2-cp37-cp37m-manylinux_2_17_x86_64.manylinux2014_x86_64.whl (346.0 MB)\n",
      "\u001b[2K   \u001b[38;2;114;156;31m━━━━━━━━━━━━━━━━━━━━━━━━━━━━━━━━━━━━━━━━\u001b[0m \u001b[32m346.0/346.0 MB\u001b[0m \u001b[31m1.2 MB/s\u001b[0m eta \u001b[36m0:00:00\u001b[0mm eta \u001b[36m0:00:01\u001b[0m\u001b[36m0:00:10\u001b[0m\n",
      "\u001b[?25hDownloading plotly-5.16.1-py2.py3-none-any.whl (15.6 MB)\n",
      "\u001b[2K   \u001b[38;2;114;156;31m━━━━━━━━━━━━━━━━━━━━━━━━━━━━━━━━━━━━━━━━\u001b[0m \u001b[32m15.6/15.6 MB\u001b[0m \u001b[31m5.0 MB/s\u001b[0m eta \u001b[36m0:00:00\u001b[0mm eta \u001b[36m0:00:01\u001b[0m[36m0:00:01\u001b[0m\n",
      "\u001b[?25hDownloading tenacity-8.2.3-py3-none-any.whl (24 kB)\n",
      "\u001b[33mDEPRECATION: matlabengineforpython R2020a has a non-standard version number. pip 23.3 will enforce this behaviour change. A possible replacement is to upgrade to a newer version of matlabengineforpython or contact the author to suggest that they release a version with a conforming version number. Discussion can be found at https://github.com/pypa/pip/issues/12063\u001b[0m\u001b[33m\n",
      "\u001b[0mInstalling collected packages: webcolors, tenacity, retrying, PyWavelets, plotly, chart-studio, antspyx\n"
     ]
    }
   ],
   "source": [
    "pip install antspyx"
   ]
  },
  {
   "cell_type": "code",
   "execution_count": 6,
   "id": "44804843",
   "metadata": {},
   "outputs": [
    {
     "ename": "SyntaxError",
     "evalue": "invalid syntax (163662492.py, line 1)",
     "output_type": "error",
     "traceback": [
      "\u001b[0;36m  File \u001b[0;32m\"/tmp/ipykernel_287432/163662492.py\"\u001b[0;36m, line \u001b[0;32m1\u001b[0m\n\u001b[0;31m    git clone https://github.com/ANTsX/ANTsPy.git cd ANTsPy python setup.py install\u001b[0m\n\u001b[0m            ^\u001b[0m\n\u001b[0;31mSyntaxError\u001b[0m\u001b[0;31m:\u001b[0m invalid syntax\n"
     ]
    }
   ],
   "source": [
    "git clone https://github.com/ANTsX/ANTsPy.git cd ANTsPy python setup.py install"
   ]
  },
  {
   "cell_type": "code",
   "execution_count": 7,
   "id": "e3c3a210",
   "metadata": {},
   "outputs": [
    {
     "name": "stdout",
     "output_type": "stream",
     "text": [
      "Defaulting to user installation because normal site-packages is not writeable\n",
      "Collecting antspyx==0.2.0\n",
      "  Downloading https://github.com/ANTsX/ANTsPy/releases/download/v0.2.0/antspyx-0.2.0-cp37-cp37m-linux_x86_64.whl (255.7 MB)\n",
      "\u001b[2K     \u001b[38;2;114;156;31m━━━━━━━━━━━━━━━━━━━━━━━━━━━━━━━━━━━━━━━\u001b[0m \u001b[32m255.7/255.7 MB\u001b[0m \u001b[31m2.1 MB/s\u001b[0m eta \u001b[36m0:00:00\u001b[0mm eta \u001b[36m0:00:01\u001b[0m[36m0:00:01\u001b[0m\n",
      "\u001b[?25h\u001b[33mDEPRECATION: matlabengineforpython R2020a has a non-standard version number. pip 23.3 will enforce this behaviour change. A possible replacement is to upgrade to a newer version of matlabengineforpython or contact the author to suggest that they release a version with a conforming version number. Discussion can be found at https://github.com/pypa/pip/issues/12063\u001b[0m\u001b[33m\n",
      "\u001b[0mInstalling collected packages: antspyx\n",
      "Successfully installed antspyx-0.2.0\n",
      "Note: you may need to restart the kernel to use updated packages.\n"
     ]
    }
   ],
   "source": [
    "pip install https://github.com/ANTsX/ANTsPy/releases/download/v0.2.0/antspyx-0.2.0-cp37-cp37m-linux_x86_64.whl"
   ]
  },
  {
   "cell_type": "code",
   "execution_count": 23,
   "id": "e6abdb6f",
   "metadata": {},
   "outputs": [],
   "source": [
    "import ants\n",
    "import SimpleITK as sitk\n",
    "import nibabel as nib\n",
    "import numpy as np\n",
    "from scipy.ndimage import zoom\n",
    "import matplotlib.pyplot as plt\n",
    "import os\n",
    "#import ants\n",
    "#import pyants"
   ]
  },
  {
   "cell_type": "code",
   "execution_count": 24,
   "id": "9288cb74",
   "metadata": {},
   "outputs": [],
   "source": [
    "def ants_rigid_registration(fixed_image, moving_image, output_image_path=None):\n",
    "    # Perform rigid image registration\n",
    "    registered_image, transformation = pyants.rigid_registration(fixed_image, moving_image)\n",
    "    \n",
    "    # Save the aligned image as a NIfTI file if output path is provided\n",
    "    if output_image_path:\n",
    "        nibabel_image = nib.Nifti1Image(registered_image, fixed_image.affine)\n",
    "        nib.save(nibabel_image, output_image_path)\n",
    "\n",
    "    return registered_image, transformation\n"
   ]
  },
  {
   "cell_type": "code",
   "execution_count": 1,
   "id": "a80b6dcf",
   "metadata": {},
   "outputs": [
    {
     "ename": "NameError",
     "evalue": "name 'nib' is not defined",
     "output_type": "error",
     "traceback": [
      "\u001b[0;31m---------------------------------------------------------------------------\u001b[0m",
      "\u001b[0;31mNameError\u001b[0m                                 Traceback (most recent call last)",
      "\u001b[0;32m/tmp/ipykernel_305068/1936345997.py\u001b[0m in \u001b[0;36m<module>\u001b[0;34m\u001b[0m\n\u001b[1;32m      4\u001b[0m \u001b[0moutput_image_path\u001b[0m \u001b[0;34m=\u001b[0m \u001b[0;34m\"aligned_image.nii.gz\"\u001b[0m\u001b[0;34m\u001b[0m\u001b[0;34m\u001b[0m\u001b[0m\n\u001b[1;32m      5\u001b[0m \u001b[0;34m\u001b[0m\u001b[0m\n\u001b[0;32m----> 6\u001b[0;31m \u001b[0mfixed_image\u001b[0m \u001b[0;34m=\u001b[0m \u001b[0mnib\u001b[0m\u001b[0;34m.\u001b[0m\u001b[0mload\u001b[0m\u001b[0;34m(\u001b[0m\u001b[0mfixed_image_path\u001b[0m\u001b[0;34m)\u001b[0m\u001b[0;34m.\u001b[0m\u001b[0mget_fdata\u001b[0m\u001b[0;34m(\u001b[0m\u001b[0;34m)\u001b[0m\u001b[0;34m\u001b[0m\u001b[0;34m\u001b[0m\u001b[0m\n\u001b[0m\u001b[1;32m      7\u001b[0m \u001b[0mmoving_image\u001b[0m \u001b[0;34m=\u001b[0m \u001b[0mnib\u001b[0m\u001b[0;34m.\u001b[0m\u001b[0mload\u001b[0m\u001b[0;34m(\u001b[0m\u001b[0mmoving_image_path\u001b[0m\u001b[0;34m)\u001b[0m\u001b[0;34m.\u001b[0m\u001b[0mget_fdata\u001b[0m\u001b[0;34m(\u001b[0m\u001b[0;34m)\u001b[0m\u001b[0;34m\u001b[0m\u001b[0;34m\u001b[0m\u001b[0m\n\u001b[1;32m      8\u001b[0m \u001b[0;34m\u001b[0m\u001b[0m\n",
      "\u001b[0;31mNameError\u001b[0m: name 'nib' is not defined"
     ]
    }
   ],
   "source": [
    "# Example usage:\n",
    "fixed_image_path = \"/NAS/dumbo/protocoles/HAMSI/OurData4Mispel_T1Gado/Before_prettt_T1Gd/CHU/Pat8_T1Gado_CHU.nii.gz\"\n",
    "moving_image_path = \"/NAS/dumbo/protocoles/HAMSI/OurData4Mispel_T1Gado/Before_prettt_T1Gd/CHU/Pat8_T1Gado_CHU.nii.gz\"\n",
    "output_image_path = \"aligned_image.nii.gz\"\n",
    "\n",
    "fixed_image = nib.load(fixed_image_path).get_fdata()\n",
    "moving_image = nib.load(moving_image_path).get_fdata()\n",
    "\n",
    "aligned_image, transformation = ants_rigid_registration(fixed_image, moving_image, output_image_path)\n"
   ]
  },
  {
   "cell_type": "code",
   "execution_count": null,
   "id": "a2a9fa2a",
   "metadata": {},
   "outputs": [],
   "source": []
  },
  {
   "cell_type": "code",
   "execution_count": null,
   "id": "8ddb5b5c",
   "metadata": {},
   "outputs": [],
   "source": []
  }
 ],
 "metadata": {
  "kernelspec": {
   "display_name": "Python 3 (ipykernel)",
   "language": "python",
   "name": "python3"
  },
  "language_info": {
   "codemirror_mode": {
    "name": "ipython",
    "version": 3
   },
   "file_extension": ".py",
   "mimetype": "text/x-python",
   "name": "python",
   "nbconvert_exporter": "python",
   "pygments_lexer": "ipython3",
   "version": "3.7.6"
  }
 },
 "nbformat": 4,
 "nbformat_minor": 5
}
