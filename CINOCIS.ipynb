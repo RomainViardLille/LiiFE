{
 "cells": [
  {
   "cell_type": "code",
   "execution_count": 1,
   "metadata": {},
   "outputs": [
    {
     "name": "stdout",
     "output_type": "stream",
     "text": [
      "The history saving thread hit an unexpected error (DatabaseError('database disk image is malformed')).History will not be written to the database.\n"
     ]
    }
   ],
   "source": [
    "import numpy as np\n",
    "import pandas as pd\n",
    "import os,sys\n",
    "import matplotlib.pyplot as plt\n",
    "%matplotlib inline"
   ]
  },
  {
   "cell_type": "code",
   "execution_count": 2,
   "metadata": {},
   "outputs": [],
   "source": [
    "STUDY_PATH=os.path.join('/NAS','coolio','protocoles','CINOCIS')\n",
    "SCRIPT_PATH=os.path.join(STUDY_PATH,'scripts')\n",
    "BIDS_PATH=os.path.join(STUDY_PATH,'BIDS')"
   ]
  },
  {
   "cell_type": "code",
   "execution_count": 3,
   "metadata": {},
   "outputs": [
    {
     "name": "stdout",
     "output_type": "stream",
     "text": [
      "    participant_id sex\n",
      "0          sub-001   F\n",
      "1          sub-001   F\n",
      "2          sub-001   F\n",
      "3          sub-001   F\n",
      "4          sub-001   F\n",
      "..             ...  ..\n",
      "478        sub-133   F\n",
      "479        sub-133   F\n",
      "480        sub-133   F\n",
      "481        sub-133   F\n",
      "482        sub-133   F\n",
      "\n",
      "[483 rows x 2 columns]\n"
     ]
    }
   ],
   "source": [
    "participants_file = os.path.join(BIDS_PATH, 'participants.tsv')\n",
    "participants_df = pd.read_csv(participants_file, sep='\\t')\n",
    "print(participants_df)"
   ]
  },
  {
   "cell_type": "code",
   "execution_count": 8,
   "metadata": {},
   "outputs": [
    {
     "name": "stdout",
     "output_type": "stream",
     "text": [
      "Unique participants written to /NAS/coolio/protocoles/CINOCIS/BIDS/unique_participants.tsv\n"
     ]
    }
   ],
   "source": [
    "# Drop duplicate participant_id entries\n",
    "unique_participants_df = participants_df.drop_duplicates(subset='participant_id')\n",
    "\n",
    "# Write the unique participants to a new TSV file\n",
    "unique_participants_file = os.path.join(BIDS_PATH, 'unique_participants.tsv')\n",
    "unique_participants_df.to_csv(unique_participants_file, sep='\\t', index=False)\n",
    "\n",
    "print(f\"Unique participants written to {unique_participants_file}\")"
   ]
  }
 ],
 "metadata": {
  "kernelspec": {
   "display_name": "conda_env_3.12",
   "language": "python",
   "name": "python3"
  },
  "language_info": {
   "codemirror_mode": {
    "name": "ipython",
    "version": 3
   },
   "file_extension": ".py",
   "mimetype": "text/x-python",
   "name": "python",
   "nbconvert_exporter": "python",
   "pygments_lexer": "ipython3",
   "version": "3.12.5"
  }
 },
 "nbformat": 4,
 "nbformat_minor": 2
}
