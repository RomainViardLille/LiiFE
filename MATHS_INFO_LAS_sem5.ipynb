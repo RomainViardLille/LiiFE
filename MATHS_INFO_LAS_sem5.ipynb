{
 "cells": [
  {
   "cell_type": "markdown",
   "id": "1a4b9e27-7fb6-44a3-9a3e-f1331f3a9b07",
   "metadata": {},
   "source": [
    "# Introduction au traitement d'image avec Python"
   ]
  },
  {
   "cell_type": "markdown",
   "id": "ac39f7ad-397d-46f8-b14b-6d0752fd147d",
   "metadata": {},
   "source": [
    "**Pour commencer, voyons ensemble l'image 2D de type photo/dessin ...**\n",
    "<p>Il existe de nombreux formats avec des avantages et des inconvenients.</p>\n",
    "Les pixels sont codés sous forme de matrice avec un nombre de bits alloués par pixel (4,8,24,36 bits short int signé non signé float double etc..)), ce sont les \"RAW data\"\n",
    "\n",
    "Le format le plus basique est le BitMaP ou BMP, celui-ci est composé d'une en-tête de 54 octets cf. http://www.fastgraph.com/help/bmp_header_format.html \n",
    "D'autres jpg, jpeg, tiff, png etc...varie essentiellement en fonction du type de compression (avec perte, sans perte, du sytsème colorimetrique utilisé, de l'interopérabilité etc...)\n",
    "\n",
    "Il est a noté que nous travaillerons exclusiement sur des images en niveaux de gris (ou NDG). (image couleur (systeme RVB/RGB) = 3 matrices )"
   ]
  },
  {
   "cell_type": "code",
   "execution_count": 1,
   "id": "14b66b2a-1116-4beb-b958-ebd080a3a878",
   "metadata": {},
   "outputs": [
    {
     "data": {
      "text/plain": [
       "list"
      ]
     },
     "execution_count": 1,
     "metadata": {},
     "output_type": "execute_result"
    }
   ],
   "source": [
    "# Création d'une liste afin de stocker les urls des images utilisées\n",
    "urls = [\"http://www.ci2c.fr/IreneJoliotCurie_Einstein.bmp\",\n",
    "       \"http://www.ci2c.fr/IreneJoliotCurie_Einstein_24bit.bmp\",\n",
    "        \"http://www.ci2c.fr/IreneJoliotCurie_Einstein.jpg\",\n",
    "      \"http://www.ci2c.fr/IreneJoliotCurie_Einstein_8bit.bmp\",\n",
    "       \"http://www.ci2c.fr/apple.bmp\"]  \n",
    "type(urls)"
   ]
  },
  {
   "cell_type": "markdown",
   "id": "e43cdf5d-2e30-4c8b-a320-c6b4b85bd583",
   "metadata": {},
   "source": [
    "## Partie 1 : Chargement des dependances "
   ]
  },
  {
   "cell_type": "markdown",
   "id": "c17a816b-b99f-42d3-a38f-8822ec624d77",
   "metadata": {},
   "source": [
    "<p> **Numpy** est une libraire pour manipuler les \"array\" (càd matrice nD) utilisé en algèbre linéaire , transformer de Fourier, et les nombres aléatoires</p>\n",
    "<p> **Pandas** est une librairie pour la manipulation de données et l'analyse de deonnées</p>\n",
    "<p> **CV2** est une librairie pour les tâches de vision par ordinateur</p>\n",
    "<p> **Skimage** est une librairie </p>"
   ]
  },
  {
   "cell_type": "code",
   "execution_count": 14,
   "id": "e863d773-7347-411c-b76f-f318693abd5a",
   "metadata": {},
   "outputs": [
    {
     "name": "stdout",
     "output_type": "stream",
     "text": [
      "numpy :  1.20.1\n"
     ]
    }
   ],
   "source": [
    "import os\n",
    "import numpy as np\n",
    "print(\"numpy : \",np.__version__)\n",
    "import pandas as pd\n",
    "import cv2 as cv \n",
    "#from google.colab.patches import cv2_imshow # for image display\n",
    "from skimage import io\n",
    "from PIL import Image \n",
    "import matplotlib.pylab as plt\n",
    "%matplotlib inline"
   ]
  },
  {
   "cell_type": "code",
   "execution_count": 22,
   "id": "b68365b6-f31a-45d8-b7a6-9bafeee5c935",
   "metadata": {
    "collapsed": true,
    "jupyter": {
     "outputs_hidden": true
    },
    "tags": []
   },
   "outputs": [
    {
     "name": "stdout",
     "output_type": "stream",
     "text": [
      "Defaulting to user installation because normal site-packages is not writeable\n",
      "Collecting opencv-python\n",
      "  Downloading opencv_python-4.6.0.66-cp36-abi3-manylinux_2_17_x86_64.manylinux2014_x86_64.whl (60.9 MB)\n",
      "\u001b[K     |████████████████████████████████| 60.9 MB 78 kB/s  eta 0:00:01\n",
      "\u001b[?25hRequirement already satisfied: numpy>=1.14.5 in /home/romain/.local/lib/python3.7/site-packages (from opencv-python) (1.20.1)\n",
      "Installing collected packages: opencv-python\n",
      "Successfully installed opencv-python-4.6.0.66\n"
     ]
    }
   ],
   "source": [
    "!pip3 install opencv-python"
   ]
  },
  {
   "cell_type": "markdown",
   "id": "fb21a6f9-c894-4815-9396-cf3609838985",
   "metadata": {},
   "source": [
    "Lecture d'une image à partir d'une URL"
   ]
  },
  {
   "cell_type": "code",
   "execution_count": 15,
   "id": "81041018-5aa7-4257-b83a-22579fd538a4",
   "metadata": {
    "collapsed": true,
    "jupyter": {
     "outputs_hidden": true
    },
    "tags": []
   },
   "outputs": [
    {
     "name": "stderr",
     "output_type": "stream",
     "text": [
      "--2022-10-05 19:14:57--  http://www.ci2c.fr/IreneJoliotCurie_Einstein.bmp\n",
      "Connecting to 10.50.2.2:3128... connected.\n",
      "Proxy request sent, awaiting response... 200 OK\n",
      "Length: 1850198 (1.8M) [image/x-ms-bmp]\n",
      "Saving to: ‘IreneJoliotCurie_Einstein.bmp’\n",
      "\n",
      "     0K .......... .......... .......... .......... ..........  2% 1.42M 1s\n",
      "    50K .......... .......... .......... .......... ..........  5% 2.74M 1s\n",
      "   100K .......... .......... .......... .......... ..........  8% 2.68M 1s\n",
      "   150K .......... .......... .......... .......... .......... 11% 36.1M 1s\n",
      "   200K .......... .......... .......... .......... .......... 13% 2.78M 1s\n",
      "   250K .......... .......... .......... .......... .......... 16% 38.7M 0s\n",
      "   300K .......... .......... .......... .......... .......... 19% 2.89M 0s\n",
      "   350K .......... .......... .......... .......... .......... 22% 40.8M 0s\n",
      "   400K .......... .......... .......... .......... .......... 24% 30.4M 0s\n",
      "   450K .......... .......... .......... .......... .......... 27% 3.31M 0s\n",
      "   500K .......... .......... .......... .......... .......... 30% 35.5M 0s\n",
      "   550K .......... .......... .......... .......... .......... 33% 52.9M 0s\n",
      "   600K .......... .......... .......... .......... .......... 35% 40.4M 0s\n",
      "   650K .......... .......... .......... .......... .......... 38% 48.5M 0s\n",
      "   700K .......... .......... .......... .......... .......... 41% 3.38M 0s\n",
      "   750K .......... .......... .......... .......... .......... 44% 44.4M 0s\n",
      "   800K .......... .......... .......... .......... .......... 47% 31.2M 0s\n",
      "   850K .......... .......... .......... .......... .......... 49% 66.8M 0s\n",
      "   900K .......... .......... .......... .......... .......... 52% 86.7M 0s\n",
      "   950K .......... .......... .......... .......... .......... 55% 65.8M 0s\n",
      "  1000K .......... .......... .......... .......... .......... 58% 3.71M 0s\n",
      "  1050K .......... .......... .......... .......... .......... 60% 29.9M 0s\n",
      "  1100K .......... .......... .......... .......... .......... 63% 60.3M 0s\n",
      "  1150K .......... .......... .......... .......... .......... 66% 48.0M 0s\n",
      "  1200K .......... .......... .......... .......... .......... 69% 68.1M 0s\n",
      "  1250K .......... .......... .......... .......... .......... 71% 77.1M 0s\n",
      "  1300K .......... .......... .......... .......... .......... 74% 71.4M 0s\n",
      "  1350K .......... .......... .......... .......... .......... 77% 46.7M 0s\n",
      "  1400K .......... .......... .......... .......... .......... 80% 66.4M 0s\n",
      "  1450K .......... .......... .......... .......... .......... 83% 4.18M 0s\n",
      "  1500K .......... .......... .......... .......... .......... 85% 61.4M 0s\n",
      "  1550K .......... .......... .......... .......... .......... 88% 66.2M 0s\n",
      "  1600K .......... .......... .......... .......... .......... 91% 76.5M 0s\n",
      "  1650K .......... .......... .......... .......... .......... 94% 42.1M 0s\n",
      "  1700K .......... .......... .......... .......... .......... 96% 77.1M 0s\n",
      "  1750K .......... .......... .......... .......... .......... 99% 68.7M 0s\n",
      "  1800K ......                                                100% 82.6M=0.2s\n",
      "\n",
      "2022-10-05 19:14:57 (9.52 MB/s) - ‘IreneJoliotCurie_Einstein.bmp’ saved [1850198/1850198]\n",
      "\n",
      "--2022-10-05 19:14:57--  http://www.ci2c.fr/IreneJoliotCurie_Einstein_24bit.bmp\n",
      "Connecting to 10.50.2.2:3128... connected.\n",
      "Proxy request sent, awaiting response... 200 OK\n",
      "Length: 619702 (605K) [image/x-ms-bmp]\n",
      "Saving to: ‘IreneJoliotCurie_Einstein_24bit.bmp’\n",
      "\n",
      "     0K .......... .......... .......... .......... ..........  8% 10.2M 0s\n",
      "    50K .......... .......... .......... .......... .......... 16% 33.2M 0s\n",
      "   100K .......... .......... .......... .......... .......... 24% 38.3M 0s\n",
      "   150K .......... .......... .......... .......... .......... 33% 40.0M 0s\n",
      "   200K .......... .......... .......... .......... .......... 41% 45.3M 0s\n",
      "   250K .......... .......... .......... .......... .......... 49% 63.3M 0s\n",
      "   300K .......... .......... .......... .......... .......... 57% 43.9M 0s\n",
      "   350K .......... .......... .......... .......... .......... 66% 56.6M 0s\n",
      "   400K .......... .......... .......... .......... .......... 74% 52.0M 0s\n",
      "   450K .......... .......... .......... .......... .......... 82% 62.9M 0s\n",
      "   500K .......... .......... .......... .......... .......... 90% 54.6M 0s\n",
      "   550K .......... .......... .......... .......... .......... 99% 73.1M 0s\n",
      "   600K .....                                                 100%  119M=0.02s\n",
      "\n",
      "2022-10-05 19:14:57 (37.2 MB/s) - ‘IreneJoliotCurie_Einstein_24bit.bmp’ saved [619702/619702]\n",
      "\n",
      "--2022-10-05 19:14:57--  http://www.ci2c.fr/IreneJoliotCurie_Einstein.jpg\n",
      "Connecting to 10.50.2.2:3128... connected.\n",
      "Proxy request sent, awaiting response... 200 OK\n",
      "Length: 124747 (122K) [image/jpeg]\n",
      "Saving to: ‘IreneJoliotCurie_Einstein.jpg’\n",
      "\n",
      "     0K .......... .......... .......... .......... .......... 41% 7.33M 0s\n",
      "    50K .......... .......... .......... .......... .......... 82% 5.57M 0s\n",
      "   100K .......... .......... .                               100%  104M=0.02s\n",
      "\n",
      "2022-10-05 19:14:57 (7.61 MB/s) - ‘IreneJoliotCurie_Einstein.jpg’ saved [124747/124747]\n",
      "\n",
      "--2022-10-05 19:14:57--  http://www.ci2c.fr/IreneJoliotCurie_Einstein_8bit.bmp\n",
      "Connecting to 10.50.2.2:3128... connected.\n",
      "Proxy request sent, awaiting response... 200 OK\n",
      "Length: 309430 (302K) [image/x-ms-bmp]\n",
      "Saving to: ‘IreneJoliotCurie_Einstein_8bit.bmp’\n",
      "\n",
      "     0K .......... .......... .......... .......... .......... 16% 1.44M 0s\n",
      "    50K .......... .......... .......... .......... .......... 33% 2.63M 0s\n",
      "   100K .......... .......... .......... .......... .......... 49% 2.61M 0s\n",
      "   150K .......... .......... .......... .......... .......... 66% 29.3M 0s\n",
      "   200K .......... .......... .......... .......... .......... 82% 2.59M 0s\n",
      "   250K .......... .......... .......... .......... .......... 99% 12.5M 0s\n",
      "   300K ..                                                    100% 39.8M=0.1s\n",
      "\n",
      "2022-10-05 19:14:57 (3.09 MB/s) - ‘IreneJoliotCurie_Einstein_8bit.bmp’ saved [309430/309430]\n",
      "\n"
     ]
    }
   ],
   "source": [
    "# Téléchargeemnt des urls \n",
    "# Boucle sur la liste\n",
    "for url in urls:\n",
    "    str=\"wget \"+url\n",
    "    os.system(str)     #!str"
   ]
  },
  {
   "cell_type": "markdown",
   "id": "c2dc4317-2129-4673-b70f-4e95555233ca",
   "metadata": {},
   "source": [
    "Regarder la taille en kO, qu'observez vous ? pouvez vous l'expliquer ?"
   ]
  },
  {
   "cell_type": "code",
   "execution_count": 65,
   "id": "21d60877-7305-4bf3-8b7a-b470e2461749",
   "metadata": {},
   "outputs": [
    {
     "data": {
      "text/plain": [
       "308238.0"
      ]
     },
     "execution_count": 65,
     "metadata": {},
     "output_type": "execute_result"
    }
   ],
   "source": [
    "716*861"
   ]
  },
  {
   "cell_type": "code",
   "execution_count": 2,
   "id": "e95bb5a7-1134-4c19-a91e-4c342b82104a",
   "metadata": {},
   "outputs": [
    {
     "name": "stdout",
     "output_type": "stream",
     "text": [
      "(b'BM', 6790614, 0, 0, 54, 40, 1880, 1204, 1, 24, 0, 6790560, 2835, 2835, 0, 0)\n"
     ]
    }
   ],
   "source": [
    "import struct\n",
    "\n",
    "with open(urls[4].split('/')[-1], \"rb\") as f:\n",
    "     file_data = f.read()\n",
    "\n",
    "header_data = struct.unpack('<2sIHHIIIIHHIIIIII', file_data[:54])\n",
    "\n",
    "print(header_data)"
   ]
  },
  {
   "cell_type": "code",
   "execution_count": null,
   "id": "b2e63691-504a-4101-b870-5c6868bbef60",
   "metadata": {},
   "outputs": [],
   "source": [
    "Lecture d'une image à partir d'une URL"
   ]
  },
  {
   "cell_type": "code",
   "execution_count": 60,
   "id": "7b376f3f-a8cc-44a7-bbb2-d23eeef7eb3e",
   "metadata": {
    "tags": []
   },
   "outputs": [
    {
     "name": "stdout",
     "output_type": "stream",
     "text": [
      "http://www.ci2c.fr/IreneJoliotCurie_Einstein.bmp\n",
      "(716, 861, 3)\n",
      "http://www.ci2c.fr/IreneJoliotCurie_Einstein_24bit.bmp\n",
      "(716, 861)\n",
      "http://www.ci2c.fr/IreneJoliotCurie_Einstein.jpg\n",
      "(716, 861, 3)\n",
      "http://www.ci2c.fr/IreneJoliotCurie_Einstein_8bit.bmp\n",
      "(716, 861)\n"
     ]
    }
   ],
   "source": [
    "for url in urls:\n",
    "  print(url)\n",
    "  image = io.imread(url) \n",
    "  print(image.shape)\n",
    "  #Image.open('nom_image.format')\n",
    "  #cv.show(image)\n",
    "  #cv.imshow(urls[0].split('/')[-1],image)\n",
    "    \n",
    "  "
   ]
  },
  {
   "cell_type": "code",
   "execution_count": 36,
   "id": "7c914be4-c2c3-4cd9-b5d7-0d60237ab8d7",
   "metadata": {},
   "outputs": [
    {
     "name": "stdout",
     "output_type": "stream",
     "text": [
      "h\n"
     ]
    }
   ],
   "source": [
    "print(os.path.basename(url[0]))"
   ]
  },
  {
   "cell_type": "code",
   "execution_count": 41,
   "id": "362b16f1-5cf6-4a91-846a-36d17de0fea3",
   "metadata": {},
   "outputs": [
    {
     "data": {
      "text/plain": [
       "'http://www.ci2c.fr/IreneJoliotCurie_Einstein.bmp'"
      ]
     },
     "execution_count": 41,
     "metadata": {},
     "output_type": "execute_result"
    }
   ],
   "source": [
    "plt.imshow(image)\n",
    "  #cv2_imshow(image).astype(np.uint24)\n",
    "  print(image.dtype)\n",
    "  plt.hist(image.ravel(),bins = 256, range = [0,400]) \n",
    "  plt.show()\n",
    "  print('\\n')"
   ]
  },
  {
   "cell_type": "code",
   "execution_count": 49,
   "id": "80e9a738-4e24-400f-88de-5939effd6ba0",
   "metadata": {},
   "outputs": [
    {
     "data": {
      "text/plain": [
       "'IreneJoliotCurie_Einstein.bmp'"
      ]
     },
     "execution_count": 49,
     "metadata": {},
     "output_type": "execute_result"
    }
   ],
   "source": []
  },
  {
   "cell_type": "code",
   "execution_count": 3,
   "id": "b5febec3-5f28-44c3-a0f8-e0244fe09496",
   "metadata": {},
   "outputs": [],
   "source": [
    "from PIL import Image\n",
    "\n",
    "img = Image.open('apple.bmp')\n",
    "\n",
    "#.convert('LA')\n",
    "#img.save('greyscale.png')\n"
   ]
  },
  {
   "cell_type": "code",
   "execution_count": 4,
   "id": "f6045685-8f7b-4e2a-afed-f5651993733f",
   "metadata": {},
   "outputs": [
    {
     "data": {
      "text/plain": [
       "PIL.BmpImagePlugin.BmpImageFile"
      ]
     },
     "execution_count": 4,
     "metadata": {},
     "output_type": "execute_result"
    }
   ],
   "source": [
    "type(img)"
   ]
  },
  {
   "cell_type": "code",
   "execution_count": 11,
   "id": "c964aa8c-01a8-45a2-a54f-a4efe2d1aeeb",
   "metadata": {},
   "outputs": [
    {
     "data": {
      "text/plain": [
       "<ImagingCore at 0x7ff54fc78690>"
      ]
     },
     "execution_count": 11,
     "metadata": {},
     "output_type": "execute_result"
    }
   ],
   "source": [
    "img.getdata()"
   ]
  },
  {
   "cell_type": "code",
   "execution_count": 23,
   "id": "d0f46ef4-ae58-42e5-a5ac-053f6dcf9ad8",
   "metadata": {},
   "outputs": [
    {
     "name": "stdout",
     "output_type": "stream",
     "text": [
      "<class 'numpy.ndarray'>\n",
      "(1204, 1880, 3)\n"
     ]
    },
    {
     "ename": "NameError",
     "evalue": "name 'qsddqs' is not defined",
     "output_type": "error",
     "traceback": [
      "\u001b[0;31m---------------------------------------------------------------------------\u001b[0m",
      "\u001b[0;31mNameError\u001b[0m                                 Traceback (most recent call last)",
      "\u001b[0;32m/tmp/ipykernel_3315629/3485444622.py\u001b[0m in \u001b[0;36m<module>\u001b[0;34m\u001b[0m\n\u001b[1;32m     10\u001b[0m \u001b[0mprint\u001b[0m\u001b[0;34m(\u001b[0m\u001b[0mtype\u001b[0m\u001b[0;34m(\u001b[0m\u001b[0mimg\u001b[0m\u001b[0;34m)\u001b[0m\u001b[0;34m)\u001b[0m\u001b[0;34m\u001b[0m\u001b[0;34m\u001b[0m\u001b[0m\n\u001b[1;32m     11\u001b[0m \u001b[0mprint\u001b[0m\u001b[0;34m(\u001b[0m\u001b[0mimg\u001b[0m\u001b[0;34m.\u001b[0m\u001b[0mshape\u001b[0m\u001b[0;34m)\u001b[0m\u001b[0;34m\u001b[0m\u001b[0;34m\u001b[0m\u001b[0m\n\u001b[0;32m---> 12\u001b[0;31m \u001b[0mqsddqs\u001b[0m\u001b[0;34m\u001b[0m\u001b[0;34m\u001b[0m\u001b[0m\n\u001b[0m\u001b[1;32m     13\u001b[0m \u001b[0mplt\u001b[0m\u001b[0;34m.\u001b[0m\u001b[0mimshow\u001b[0m\u001b[0;34m(\u001b[0m\u001b[0mimg\u001b[0m\u001b[0;34m,\u001b[0m \u001b[0mcmap\u001b[0m \u001b[0;34m=\u001b[0m \u001b[0mplt\u001b[0m\u001b[0;34m.\u001b[0m\u001b[0mget_cmap\u001b[0m\u001b[0;34m(\u001b[0m\u001b[0;34m'gray'\u001b[0m\u001b[0;34m)\u001b[0m\u001b[0;34m)\u001b[0m\u001b[0;34m\u001b[0m\u001b[0;34m\u001b[0m\u001b[0m\n\u001b[1;32m     14\u001b[0m \u001b[0;31m#plt.savefig('lena_greyscale.png')\u001b[0m\u001b[0;34m\u001b[0m\u001b[0;34m\u001b[0m\u001b[0;34m\u001b[0m\u001b[0m\n",
      "\u001b[0;31mNameError\u001b[0m: name 'qsddqs' is not defined"
     ]
    }
   ],
   "source": [
    "#import numpy as np\n",
    "#import matplotlib.pyplot as plt\n",
    "#import matplotlib.image as mpimg\n",
    "\n",
    "def rgb2gray(rgb):\n",
    "    return np.dot(rgb[...,:3], [0.299, 0.587, 0.144])   \n",
    "\n",
    "img = mpimg.imread('apple.bmp')\n",
    "\n",
    "print(type(img))\n",
    "print(img.shape)\n",
    "qsddqs\n",
    "plt.imshow(img, cmap = plt.get_cmap('gray'))\n",
    "#plt.savefig('lena_greyscale.png')\n",
    "plt.show()\n",
    "\n",
    "gray = rgb2gray(img)\n",
    "\n",
    "plt.imshow(gray, cmap = plt.get_cmap('gray'))\n",
    "#plt.savefig('lena_greyscale.png')\n",
    "plt.show()\n",
    "\n",
    "plt.imshow(np.dot(img[...,:3], [1,1,1]), cmap = plt.get_cmap('gray'))\n",
    "#plt.savefig('lena_greyscale.png')\n",
    "plt.show()\n",
    "\n",
    "plt.imshow(np.dot(img[...,:3], [0.1,0.8,0.1]), cmap = plt.get_cmap('gray'))\n",
    "#plt.savefig('lena_greyscale.png')\n",
    "plt.show()\n",
    "\n",
    "plt.imshow(np.dot(img[...,:3], [0.8,0.1,0.1]), cmap = plt.get_cmap('gray'))\n",
    "#plt.savefig('lena_greyscale.png')\n",
    "plt.show()\n",
    " "
   ]
  },
  {
   "cell_type": "code",
   "execution_count": null,
   "id": "7dd19648-0b89-40e9-b758-f26e1d5e3047",
   "metadata": {},
   "outputs": [],
   "source": []
  },
  {
   "cell_type": "code",
   "execution_count": null,
   "id": "e28e4aa5-17e2-4c24-a214-39b01bf56ca5",
   "metadata": {},
   "outputs": [],
   "source": [
    "def display_mri(data, title=None, cmap=\"gray\", vmin=-1, vmax=0.8):\n",
    "    fig,axs = plt.subplots(nrows=1, ncols=3, figsize=(20,8))\n",
    "    for ax in axs:\n",
    "        ax.set_xticks(())\n",
    "        ax.set_yticks(())\n",
    "    if title:\n",
    "        fig.suptitle(title)\n",
    "    axs[0].imshow(data[data.shape[0]//2,:,:], cmap=cmap, vmin=vmin, vmax=vmax)\n",
    "    axs[1].imshow(data[:,data.shape[1]//2,:], cmap=cmap, vmin=vmin, vmax=vmax)\n",
    "    ax = axs[2].imshow(data[:,:,data.shape[2]//2], cmap=cmap, vmin=vmin, vmax=vmax)\n",
    "    #fig.colorbar(ax)\n",
    "    fig.tight_layout()\n",
    "    plt.show()"
   ]
  }
 ],
 "metadata": {
  "kernelspec": {
   "display_name": "Python 3 (ipykernel)",
   "language": "python",
   "name": "python3"
  },
  "language_info": {
   "codemirror_mode": {
    "name": "ipython",
    "version": 3
   },
   "file_extension": ".py",
   "mimetype": "text/x-python",
   "name": "python",
   "nbconvert_exporter": "python",
   "pygments_lexer": "ipython3",
   "version": "3.7.6"
  }
 },
 "nbformat": 4,
 "nbformat_minor": 5
}
