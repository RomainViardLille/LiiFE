{
 "cells": [
  {
   "cell_type": "code",
   "execution_count": 29,
   "metadata": {},
   "outputs": [],
   "source": [
    "from dipy.tracking.utils import length\n",
    "# Compute lookup table\n",
    "from dipy.denoise.enhancement_kernel import EnhancementKernel\n",
    "# Apply FBC measures\n",
    "from dipy.tracking.fbcmeasures import FBCMeasures\n",
    "\n",
    "import os, sys, re\n",
    "import argparse\n",
    "import math\n",
    "from decimal import Decimal\n",
    "from os.path import join\n",
    "\n",
    "import numpy as np\n",
    "import matplotlib.pyplot as plt\n",
    "%matplotlib inline\n",
    "import seaborn as sns\n",
    "import scipy.stats\n",
    "import pandas as pd\n",
    "from tqdm import tqdm\n",
    "\n",
    "import glob as glob\n",
    "import nibabel as nib\n",
    "from scipy.stats import t as t_dist\n",
    "from tractseg.libs import plot_utils\n",
    "from sklearn.linear_model import LinearRegression\n",
    "from dipy.tracking.streamline import Streamlines\n",
    "import dipy.stats.analysis as dsa"
   ]
  },
  {
   "cell_type": "code",
   "execution_count": 17,
   "metadata": {},
   "outputs": [
    {
     "name": "stdout",
     "output_type": "stream",
     "text": [
      "LUT computed\n"
     ]
    }
   ],
   "source": [
    "D33 = 1.0\n",
    "D44 = 0.02\n",
    "t = 1\n",
    "k = EnhancementKernel(D33, D44, t)\n",
    "print(\"LUT computed\")"
   ]
  },
  {
   "cell_type": "code",
   "execution_count": 18,
   "metadata": {},
   "outputs": [],
   "source": [
    "TRACTO_TCK_IN=\"/NAS/dumbo/protocoles/CogPhenoPark/DTIanx/Test_DTI/100269SD100714/Nacc_Insula_L_iFOD_corr2_life.tck\""
   ]
  },
  {
   "cell_type": "code",
   "execution_count": 19,
   "metadata": {},
   "outputs": [],
   "source": [
    "sl_file = nib.streamlines.load(TRACTO_TCK_IN)\n",
    "streamlines = sl_file.streamlines"
   ]
  },
  {
   "cell_type": "code",
   "execution_count": 54,
   "metadata": {},
   "outputs": [
    {
     "data": {
      "text/plain": [
       "2911"
      ]
     },
     "execution_count": 54,
     "metadata": {},
     "output_type": "execute_result"
    }
   ],
   "source": [
    "len(streamlines)"
   ]
  },
  {
   "cell_type": "code",
   "execution_count": 20,
   "metadata": {},
   "outputs": [
    {
     "name": "stdout",
     "output_type": "stream",
     "text": [
      "38.587654 24.390692\n",
      "2911\n"
     ]
    }
   ],
   "source": [
    "val=list(length(streamlines))\n",
    "print(np.mean(val),np.std(val))\n",
    "print(len(val))\n",
    "plt.hist(val, bins=100, histtype='step')\n",
    "plt.show()"
   ]
  },
  {
   "cell_type": "code",
   "execution_count": 27,
   "metadata": {},
   "outputs": [],
   "source": [
    "long_streamlines = Streamlines()\n",
    "thres = np.mean(val)+2*np.std(val) \n",
    "for i, sl in enumerate(streamlines):\n",
    "    if val[i] < thres:\n",
    "        long_streamlines.append(sl)"
   ]
  },
  {
   "cell_type": "code",
   "execution_count": 28,
   "metadata": {},
   "outputs": [
    {
     "name": "stdout",
     "output_type": "stream",
     "text": [
      "30.34076 13.915154\n",
      "2468\n"
     ]
    },
    {
     "data": {
      "image/png": "[encoded data removed]",
      "text/plain": [
       "<Figure size 432x288 with 1 Axes>"
      ]
     },
     "metadata": {
      "needs_background": "light"
     },
     "output_type": "display_data"
    }
   ],
   "source": [
    "val=list(length(long_streamlines))\n",
    "print(np.mean(val),np.std(val))\n",
    "print(len(val))\n",
    "plt.hist(val, bins=100, histtype='step')\n",
    "plt.show()"
   ]
  },
  {
   "cell_type": "code",
   "execution_count": 30,
   "metadata": {},
   "outputs": [],
   "source": [
    "weights = dsa.gaussian_weights(long_streamlines)"
   ]
  },
  {
   "cell_type": "code",
   "execution_count": 43,
   "metadata": {},
   "outputs": [
    {
     "name": "stdout",
     "output_type": "stream",
     "text": [
      "0.00040518638573743915 0.00028014873717886995\n"
     ]
    },
    {
     "data": {
      "image/png": "[encoded data removed]",
      "text/plain": [
       "<Figure size 432x288 with 1 Axes>"
      ]
     },
     "metadata": {
      "needs_background": "light"
     },
     "output_type": "display_data"
    }
   ],
   "source": [
    "print(np.mean(weights),np.std(weights))\n",
    "plt.hist(np.mean(weights,axis=1), bins=100, histtype='step')\n",
    "plt.show()"
   ]
  },
  {
   "cell_type": "code",
   "execution_count": 50,
   "metadata": {},
   "outputs": [],
   "source": [
    "mal_streamlines = Streamlines()\n",
    "thres = np.mean(weights)+2*np.std(weights) \n",
    "for i, sl in enumerate(long_streamlines):\n",
    "    if np.mean(weights,axis=1)[i] < thres:\n",
    "        mal_streamlines.append(sl)"
   ]
  },
  {
   "cell_type": "code",
   "execution_count": 51,
   "metadata": {},
   "outputs": [
    {
     "name": "stdout",
     "output_type": "stream",
     "text": [
      "0.0004096681687832855 0.00023661886231366794\n"
     ]
    },
    {
     "data": {
      "image/png": "[encoded data removed]",
      "text/plain": [
       "<Figure size 432x288 with 1 Axes>"
      ]
     },
     "metadata": {
      "needs_background": "light"
     },
     "output_type": "display_data"
    }
   ],
   "source": [
    "weights = dsa.gaussian_weights(mal_streamlines)\n",
    "print(np.mean(weights),np.std(weights))\n",
    "plt.hist(np.mean(weights,axis=1), bins=100, histtype='step')\n",
    "plt.show()"
   ]
  },
  {
   "cell_type": "code",
   "execution_count": 53,
   "metadata": {},
   "outputs": [
    {
     "name": "stdout",
     "output_type": "stream",
     "text": [
      "2441\n"
     ]
    }
   ],
   "source": [
    "print(len(mal_streamlines))\n"
   ]
  },
  {
   "cell_type": "code",
   "execution_count": null,
   "metadata": {},
   "outputs": [],
   "source": []
  }
 ],
 "metadata": {
  "kernelspec": {
   "display_name": "Python 3",
   "language": "python",
   "name": "python3"
  },
  "language_info": {
   "codemirror_mode": {
    "name": "ipython",
    "version": 3
   },
   "file_extension": ".py",
   "mimetype": "text/x-python",
   "name": "python",
   "nbconvert_exporter": "python",
   "pygments_lexer": "ipython3",
   "version": "3.7.6"
  }
 },
 "nbformat": 4,
 "nbformat_minor": 4
}
