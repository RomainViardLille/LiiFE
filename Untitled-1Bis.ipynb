{
 "cells": [],
 "metadata": {
  "kernelspec": {
   "display_name": "conda_env_3.12",
   "language": "python",
   "name": "python3"
  },
  "language_info": {
   "name": "python",
   "version": "3.12.5"
  }
 },
 "nbformat": 4,
 "nbformat_minor": 2
}
