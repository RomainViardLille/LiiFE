{
 "cells": [
  {
   "cell_type": "code",
   "execution_count": 83,
   "id": "53c42b14-9c59-463c-a060-bd94b91847f8",
   "metadata": {},
   "outputs": [],
   "source": [
    "import nibabel as nib\n",
    "import os\n",
    "import numpy as np\n",
    "from scipy.interpolate import griddata\n",
    "from scipy.interpolate import RegularGridInterpolator"
   ]
  },
  {
   "cell_type": "code",
   "execution_count": 95,
   "id": "f458a3e7-a120-4e0c-8364-19357301a415",
   "metadata": {},
   "outputs": [],
   "source": [
    "DIR=os.path.join(\"/NAS\",\"dumbo\",\"protocoles\",\"copitch\",\"data\")\n",
    "img_seg=nib.load(os.path.join(DIR,\"segmhemolysis_meanintensity\",\"FLAIR_dim\",\"sub-01-003\",\"ses1\",\"hemolysisFLAIR-GE_parenchymacontrol_sub-01-003_ses1.nii.gz\"))\n",
    "seg=img_seg.get_fdata()\n",
    "\n",
    "img_val=nib.load(os.path.join(DIR,\"bids\",\"sub-01-003\",\"ses-1\",\"anat\",\"sub-01-003_ses-1_acq-401CS1X2MM3DMULTIGREAXIALSTRICT3D_echo-3_part-mag_MEGRE.nii.gz\"))\n",
    "val=img_val.get_fdata()"
   ]
  },
  {
   "cell_type": "code",
   "execution_count": 120,
   "id": "a24d5d69-9549-4fc9-a981-82886f51a29e",
   "metadata": {},
   "outputs": [
    {
     "name": "stdout",
     "output_type": "stream",
     "text": [
      "/NAS/dumbo/protocoles/copitch/data/segmhemolysis_meanintensity/FLAIR_dim/sub-01-003/ses1/hemolysisFLAIR-GE_parenchymacontrol_sub-01-003_ses1.nii.gz\n",
      "/NAS/dumbo/protocoles/copitch/data/bids/sub-01-003/ses-1/anat/sub-01-003_ses-1_acq-401CS1X2MM3DMULTIGREAXIALSTRICT3D_echo-3_part-mag_MEGRE.nii.gz\n"
     ]
    }
   ],
   "source": [
    "print(os.path.join(DIR,\"segmhemolysis_meanintensity\",\"FLAIR_dim\",\"sub-01-003\",\"ses1\",\"hemolysisFLAIR-GE_parenchymacontrol_sub-01-003_ses1.nii.gz\"))\n",
    "print(os.path.join(DIR,\"bids\",\"sub-01-003\",\"ses-1\",\"anat\",\"sub-01-003_ses-1_acq-401CS1X2MM3DMULTIGREAXIALSTRICT3D_echo-3_part-mag_MEGRE.nii.gz\"))"
   ]
  },
  {
   "cell_type": "code",
   "execution_count": 125,
   "id": "cd35b625-1910-46cc-9b32-93c402c8109f",
   "metadata": {
    "tags": []
   },
   "outputs": [],
   "source": [
    "interpolator=nib.Nifti1Image(val,img_val.affine)\n",
    "interp_func=RegularGridInterpolator((np.linspace(0,255,256),np.linspace(0,255,256),np.linspace(0,79,80)),img_val.get_fdata(),method='linear')\n",
    "vect=[]\n",
    "for index, cluster_bool in np.ndenumerate(seg==5) :\n",
    "    if cluster_bool :\n",
    "        x1,y1,z1=index\n",
    "        x_coord,y_coord,z_coord=img_seg.affine[:3,:3]@[x1,y1,z1]+img_seg.affine[:3,3]\n",
    "        affine_inv=np.linalg.inv(img_val.affine)\n",
    "        #vox_indices=np.dot(affine_inv,[x_coord,y_coord,z_coord,1]).astype(int)[:3]\n",
    "        #interp_value=interpolator.get_fdata()[(vox_indices[0],vox_indices[1],vox_indices[2])]\n",
    "        vox_indices=np.dot(affine_inv,[x_coord,y_coord,z_coord,1])[:3]        \n",
    "        vect.append(vox_indices)    \n",
    "\n"
   ]
  },
  {
   "cell_type": "code",
   "execution_count": null,
   "id": "c72cf439-b6e2-4f02-b304-e6fb295e08e3",
   "metadata": {},
   "outputs": [],
   "source": [
    "interp_value=interp_func([vox_indices[0],vox_indices[1],vox_indices[2]])\n",
    "print(np.mean(vect))"
   ]
  },
  {
   "cell_type": "code",
   "execution_count": 129,
   "id": "08c50f0a-ec4e-43aa-b070-339dd662932e",
   "metadata": {},
   "outputs": [
    {
     "data": {
      "text/plain": [
       "1121368.524494237"
      ]
     },
     "execution_count": 129,
     "metadata": {},
     "output_type": "execute_result"
    }
   ],
   "source": []
  },
  {
   "cell_type": "code",
   "execution_count": 105,
   "id": "ae4a6ead-4634-4fe7-b2e9-61d1896226c2",
   "metadata": {},
   "outputs": [
    {
     "name": "stdout",
     "output_type": "stream",
     "text": [
      "(256, 256, 80)\n"
     ]
    }
   ],
   "source": [
    "print(img_val.get_fdata().shape)"
   ]
  },
  {
   "cell_type": "code",
   "execution_count": 111,
   "id": "39eeec2b-fb42-4b92-8104-4ed5d3d9dca6",
   "metadata": {},
   "outputs": [],
   "source": [
    "#X,Y,Z=np.meshgrid()\n"
   ]
  },
  {
   "cell_type": "code",
   "execution_count": 109,
   "id": "88794db3-019f-410f-aae4-56dd552e240a",
   "metadata": {},
   "outputs": [
    {
     "data": {
      "text/plain": [
       "array([  0.,   1.,   2.,   3.,   4.,   5.,   6.,   7.,   8.,   9.,  10.,\n",
       "        11.,  12.,  13.,  14.,  15.,  16.,  17.,  18.,  19.,  20.,  21.,\n",
       "        22.,  23.,  24.,  25.,  26.,  27.,  28.,  29.,  30.,  31.,  32.,\n",
       "        33.,  34.,  35.,  36.,  37.,  38.,  39.,  40.,  41.,  42.,  43.,\n",
       "        44.,  45.,  46.,  47.,  48.,  49.,  50.,  51.,  52.,  53.,  54.,\n",
       "        55.,  56.,  57.,  58.,  59.,  60.,  61.,  62.,  63.,  64.,  65.,\n",
       "        66.,  67.,  68.,  69.,  70.,  71.,  72.,  73.,  74.,  75.,  76.,\n",
       "        77.,  78.,  79.,  80.,  81.,  82.,  83.,  84.,  85.,  86.,  87.,\n",
       "        88.,  89.,  90.,  91.,  92.,  93.,  94.,  95.,  96.,  97.,  98.,\n",
       "        99., 100., 101., 102., 103., 104., 105., 106., 107., 108., 109.,\n",
       "       110., 111., 112., 113., 114., 115., 116., 117., 118., 119., 120.,\n",
       "       121., 122., 123., 124., 125., 126., 127., 128., 129., 130., 131.,\n",
       "       132., 133., 134., 135., 136., 137., 138., 139., 140., 141., 142.,\n",
       "       143., 144., 145., 146., 147., 148., 149., 150., 151., 152., 153.,\n",
       "       154., 155., 156., 157., 158., 159., 160., 161., 162., 163., 164.,\n",
       "       165., 166., 167., 168., 169., 170., 171., 172., 173., 174., 175.,\n",
       "       176., 177., 178., 179., 180., 181., 182., 183., 184., 185., 186.,\n",
       "       187., 188., 189., 190., 191., 192., 193., 194., 195., 196., 197.,\n",
       "       198., 199., 200., 201., 202., 203., 204., 205., 206., 207., 208.,\n",
       "       209., 210., 211., 212., 213., 214., 215., 216., 217., 218., 219.,\n",
       "       220., 221., 222., 223., 224., 225., 226., 227., 228., 229., 230.,\n",
       "       231., 232., 233., 234., 235., 236., 237., 238., 239., 240., 241.,\n",
       "       242., 243., 244., 245., 246., 247., 248., 249., 250., 251., 252.,\n",
       "       253., 254., 255.])"
      ]
     },
     "execution_count": 109,
     "metadata": {},
     "output_type": "execute_result"
    }
   ],
   "source": []
  },
  {
   "cell_type": "code",
   "execution_count": null,
   "id": "1cf468c3-119a-49c9-beb1-9df9092af894",
   "metadata": {},
   "outputs": [],
   "source": []
  }
 ],
 "metadata": {
  "kernelspec": {
   "display_name": "Python 3 (ipykernel)",
   "language": "python",
   "name": "python3"
  },
  "language_info": {
   "codemirror_mode": {
    "name": "ipython",
    "version": 3
   },
   "file_extension": ".py",
   "mimetype": "text/x-python",
   "name": "python",
   "nbconvert_exporter": "python",
   "pygments_lexer": "ipython3",
   "version": "3.7.6"
  }
 },
 "nbformat": 4,
 "nbformat_minor": 5
}
