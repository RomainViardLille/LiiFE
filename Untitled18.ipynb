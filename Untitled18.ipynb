{
 "cells": [
  {
   "cell_type": "code",
   "execution_count": 3,
   "id": "daa7b7af-b3ea-4a01-94a8-e510fad9ae34",
   "metadata": {},
   "outputs": [],
   "source": [
    "import os, sys\n",
    "import numpy as np\n",
    "import nibabel as nb\n",
    "import glob\n",
    "\n"
   ]
  },
  {
   "cell_type": "code",
   "execution_count": null,
   "id": "c51b13ab-c986-46a2-a4a5-f30fc9fca812",
   "metadata": {},
   "outputs": [],
   "source": [
    "Quant=sys.argv[1] \n",
    "img = nb.load(Quant)\n",
    "dataQuant= img.get_fdata()\n",
    "\n",
    "TrackDensity=sys.argv[2] \n",
    "img = nb.load(TrackDensity)\n",
    "dataDensity = img.get_fdata()\n",
    "\n",
    "nbSeg=len(sys.argv)-3\n",
    "for seg in range(3,3+nbSeg):\n",
    "\timg = nb.load(sys.argv[seg])\n",
    "\tdataDensity = dataDensity + img.get_fdata()\n",
    "\n",
    "val_ret=np.sum(np.multiply(dataDensity,dataQuant))/np.sum(dataDensity)\n",
    "print(np.round(val_ret,6))"
   ]
  },
  {
   "cell_type": "code",
   "execution_count": 7,
   "id": "509fc1d8-7db7-48a3-9a24-b0825618d71a",
   "metadata": {},
   "outputs": [],
   "source": [
    "STUDY_PATH=os.path.join(\"/NAS\",\"deathrow\",\"protocoles\",\"HypoAno\")\n",
    "SCRIPT_PATH=os.path.join(STUDY_PATH,'code')\n",
    "LOG_PATH=os.path.join(SCRIPT_PATH,'log')"
   ]
  },
  {
   "cell_type": "code",
   "execution_count": 23,
   "id": "a918df02-4c88-4c00-b507-f84cedbf78c0",
   "metadata": {},
   "outputs": [
    {
     "name": "stdout",
     "output_type": "stream",
     "text": [
      "1\n",
      "/NAS/deathrow/protocoles/HypoAno/VTA/A4/SEG4SC.nii.gz\n"
     ]
    }
   ],
   "source": [
    "files=glob.glob(os.path.join(STUDY_PATH,'VTA','A4','SEG4SC.nii.gz'))\n",
    "print(len(files))\n",
    "\n",
    "for file in files :\n",
    "    print(file)\n",
    "    img = nb.load(file)    \n",
    "    dataDensity = img.get_fdata()\n",
    "    dataDensity[dataDensity>33]=dataDensity[dataDensity>33]+1    \n",
    "    \n",
    "    imgARC = nb.load(file.replace(\"SEG4SC\",\"ARC_LH_warped\"))\n",
    "    ARC= imgARC.get_fdata()\n",
    "    dataDensity[ARC>0]=34\n",
    "    \n",
    "    imgARC = nb.load(file.replace(\"SEG4SC\",\"ARC_RH_warped\"))\n",
    "    ARC= imgARC.get_fdata()\n",
    "    dataDensity[ARC>0]=67\n",
    "    \n",
    "    nb.save(nb.Nifti1Image(dataDensity, img.affine ),file)"
   ]
  },
  {
   "cell_type": "code",
   "execution_count": 20,
   "id": "3da269de-c134-4506-9852-d8dd84a68f12",
   "metadata": {},
   "outputs": [
    {
     "name": "stdout",
     "output_type": "stream",
     "text": [
      "/NAS/deathrow/protocoles/HypoAno/VTA/A1/ARC_LH_warped.nii.gz\n"
     ]
    }
   ],
   "source": []
  },
  {
   "cell_type": "code",
   "execution_count": null,
   "id": "58101471-9bde-49cd-beb2-0a10047813ea",
   "metadata": {},
   "outputs": [],
   "source": []
  }
 ],
 "metadata": {
  "kernelspec": {
   "display_name": "Python 3",
   "language": "python",
   "name": "python3"
  },
  "language_info": {
   "codemirror_mode": {
    "name": "ipython",
    "version": 3
   },
   "file_extension": ".py",
   "mimetype": "text/x-python",
   "name": "python",
   "nbconvert_exporter": "python",
   "pygments_lexer": "ipython3",
   "version": "3.8.10"
  }
 },
 "nbformat": 4,
 "nbformat_minor": 5
}
