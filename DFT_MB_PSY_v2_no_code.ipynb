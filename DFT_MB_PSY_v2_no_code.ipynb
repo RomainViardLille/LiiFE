{
 "cells": [
  {
   "cell_type": "code",
   "execution_count": 1,
   "id": "9b525747",
   "metadata": {},
   "outputs": [],
   "source": [
    "a=5"
   ]
  },
  {
   "cell_type": "markdown",
   "id": "b43a62a0",
   "metadata": {},
   "source": [
    "# Déclaration et définition des variables"
   ]
  },
  {
   "cell_type": "markdown",
   "id": "458c65f2",
   "metadata": {},
   "source": [
    "# Analyses des sillons par BRAINVISA"
   ]
  },
  {
   "cell_type": "code",
   "execution_count": 2,
   "id": "2d0f300a",
   "metadata": {},
   "outputs": [
    {
     "ename": "NameError",
     "evalue": "name 'test' is not defined",
     "output_type": "error",
     "traceback": [
      "\u001b[0;31m---------------------------------------------------------------------------\u001b[0m",
      "\u001b[0;31mNameError\u001b[0m                                 Traceback (most recent call last)",
      "Input \u001b[0;32mIn [2]\u001b[0m, in \u001b[0;36m<cell line: 0>\u001b[0;34m()\u001b[0m\n\u001b[0;32m----> 1\u001b[0m test\n",
      "\u001b[0;31mNameError\u001b[0m: name 'test' is not defined"
     ]
    }
   ],
   "source": [
    "test\n"
   ]
  },
  {
   "cell_type": "markdown",
   "id": "ec659cd3",
   "metadata": {},
   "source": [
    "Lecture du fichier la correspondance label  et acronyme de Brainvisa"
   ]
  },
  {
   "cell_type": "markdown",
   "id": "2cb3bb0c",
   "metadata": {},
   "source": [
    "Liste de sillons et des paramètres  étudiés "
   ]
  },
  {
   "cell_type": "markdown",
   "id": "04063085",
   "metadata": {},
   "source": [
    "## Première étude "
   ]
  },
  {
   "cell_type": "markdown",
   "id": "d62d250d",
   "metadata": {},
   "source": [
    "### 1.Contrastes de groupes et sous-groupes"
   ]
  },
  {
   "cell_type": "markdown",
   "id": "c6ba2a86",
   "metadata": {},
   "source": [
    "### 2.Corrélations scores neuropsychologiques"
   ]
  },
  {
   "cell_type": "markdown",
   "id": "5570e570",
   "metadata": {},
   "source": [
    "### 3.Corrélations type d’erreurs "
   ]
  },
  {
   "cell_type": "markdown",
   "id": "971e076f",
   "metadata": {},
   "source": [
    "## Deuxième étude "
   ]
  },
  {
   "cell_type": "markdown",
   "id": "ec842f0f",
   "metadata": {},
   "source": [
    "### 1.Corrélations scores neuropsychologiques"
   ]
  },
  {
   "cell_type": "markdown",
   "id": "be586071",
   "metadata": {},
   "source": [
    "### 2.Corrélations fréquence vocale fondamentale"
   ]
  },
  {
   "cell_type": "markdown",
   "id": "92d6081f",
   "metadata": {},
   "source": [
    "# Analyse de l'epaisseur corticale sur fsaverage5"
   ]
  },
  {
   "cell_type": "markdown",
   "id": "0f6c8b54",
   "metadata": {},
   "source": [
    "## Première étude "
   ]
  },
  {
   "cell_type": "markdown",
   "id": "7a2a4ab0",
   "metadata": {},
   "source": [
    "### 1.Contrastes de groupes et sous-groupes"
   ]
  },
  {
   "cell_type": "markdown",
   "id": "7bc2f550",
   "metadata": {},
   "source": [
    "### 2.Corrélations scores neuropsychologiques"
   ]
  }
 ],
 "metadata": {
  "kernelspec": {
   "display_name": "base",
   "language": "python",
   "name": "python3"
  },
  "language_info": {
   "codemirror_mode": {
    "name": "ipython",
    "version": 3
   },
   "file_extension": ".py",
   "mimetype": "text/x-python",
   "name": "python",
   "nbconvert_exporter": "python",
   "pygments_lexer": "ipython3",
   "version": "3.11.5"
  }
 },
 "nbformat": 4,
 "nbformat_minor": 5
}
