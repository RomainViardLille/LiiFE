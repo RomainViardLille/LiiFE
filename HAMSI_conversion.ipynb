{
 "cells": [
  {
   "cell_type": "code",
   "execution_count": 1,
   "metadata": {
    "tags": []
   },
   "outputs": [
    {
     "name": "stdout",
     "output_type": "stream",
     "text": [
      "Defaulting to user installation because normal site-packages is not writeable\n",
      "Requirement already satisfied: dcm2niix in /home/romain/.local/lib/python3.7/site-packages (1.0.20220715)\n",
      "Requirement already satisfied: miutil[web] in /home/romain/.local/lib/python3.7/site-packages (from dcm2niix) (0.10.1)\n",
      "Requirement already satisfied: tqdm>=4.40.0 in /home/romain/.local/lib/python3.7/site-packages (from miutil[web]->dcm2niix) (4.54.1)\n",
      "Requirement already satisfied: requests in /mnt/software/anaconda37/lib/python3.7/site-packages (from miutil[web]->dcm2niix) (2.28.1)\n",
      "Requirement already satisfied: urllib3<1.27,>=1.21.1 in /mnt/software/anaconda37/lib/python3.7/site-packages (from requests->miutil[web]->dcm2niix) (1.26.3)\n",
      "Requirement already satisfied: certifi>=2017.4.17 in /mnt/software/anaconda37/lib/python3.7/site-packages (from requests->miutil[web]->dcm2niix) (2022.12.7)\n",
      "Requirement already satisfied: charset-normalizer<3,>=2 in /mnt/software/anaconda37/lib/python3.7/site-packages (from requests->miutil[web]->dcm2niix) (2.0.4)\n",
      "Requirement already satisfied: idna<4,>=2.5 in /mnt/software/anaconda37/lib/python3.7/site-packages (from requests->miutil[web]->dcm2niix) (3.4)\n",
      "Note: you may need to restart the kernel to use updated packages.\n"
     ]
    }
   ],
   "source": [
    "pip install dcm2niix"
   ]
  },
  {
   "cell_type": "code",
   "execution_count": 2,
   "metadata": {
    "collapsed": true,
    "jupyter": {
     "outputs_hidden": true
    },
    "tags": []
   },
   "outputs": [
    {
     "name": "stdout",
     "output_type": "stream",
     "text": [
      "Defaulting to user installation because normal site-packages is not writeable\n",
      "Requirement already satisfied: nipype in /home/romain/.local/lib/python3.7/site-packages (1.8.5)\n",
      "Requirement already satisfied: pydot>=1.2.3 in /home/romain/.local/lib/python3.7/site-packages (from nipype) (1.4.2)\n",
      "Requirement already satisfied: packaging in /mnt/software/anaconda37/lib/python3.7/site-packages (from nipype) (21.3)\n",
      "Requirement already satisfied: traits!=5.0,<6.4,>=4.6 in /home/romain/.local/lib/python3.7/site-packages (from nipype) (6.3.2)\n",
      "Requirement already satisfied: numpy>=1.17 in /home/romain/.local/lib/python3.7/site-packages (from nipype) (1.20.1)\n",
      "Requirement already satisfied: etelemetry>=0.2.0 in /home/romain/.local/lib/python3.7/site-packages (from nipype) (0.3.0)\n",
      "Requirement already satisfied: scipy>=0.14 in /home/romain/.local/lib/python3.7/site-packages (from nipype) (1.4.1)\n",
      "Requirement already satisfied: click>=6.6.0 in /mnt/software/anaconda37/lib/python3.7/site-packages (from nipype) (8.0.3)\n",
      "Requirement already satisfied: networkx>=2.0 in /mnt/software/anaconda37/lib/python3.7/site-packages (from nipype) (2.6.3)\n",
      "Requirement already satisfied: looseversion in /home/romain/.local/lib/python3.7/site-packages (from nipype) (1.0.2)\n",
      "Requirement already satisfied: python-dateutil>=2.2 in /home/romain/.local/lib/python3.7/site-packages (from nipype) (2.7.3)\n",
      "Requirement already satisfied: prov>=1.5.2 in /home/romain/.local/lib/python3.7/site-packages (from nipype) (2.0.0)\n",
      "Requirement already satisfied: rdflib>=5.0.0 in /home/romain/.local/lib/python3.7/site-packages (from nipype) (6.2.0)\n",
      "Requirement already satisfied: simplejson>=3.8.0 in /home/romain/.local/lib/python3.7/site-packages (from nipype) (3.18.0)\n",
      "Requirement already satisfied: nibabel>=2.1.0 in /home/romain/.local/lib/python3.7/site-packages (from nipype) (3.0.1)\n",
      "Requirement already satisfied: filelock>=3.0.0 in /mnt/software/anaconda37/lib/python3.7/site-packages (from nipype) (3.4.2)\n",
      "Requirement already satisfied: importlib-metadata in /mnt/software/anaconda37/lib/python3.7/site-packages (from click>=6.6.0->nipype) (4.8.2)\n",
      "Requirement already satisfied: requests in /mnt/software/anaconda37/lib/python3.7/site-packages (from etelemetry>=0.2.0->nipype) (2.27.1)\n",
      "Requirement already satisfied: ci-info>=0.2 in /home/romain/.local/lib/python3.7/site-packages (from etelemetry>=0.2.0->nipype) (0.3.0)\n",
      "Requirement already satisfied: lxml>=3.3.5 in /mnt/software/anaconda37/lib/python3.7/site-packages (from prov>=1.5.2->nipype) (4.6.3)\n",
      "Requirement already satisfied: pyparsing>=2.1.4 in /home/romain/.local/lib/python3.7/site-packages (from pydot>=1.2.3->nipype) (2.4.7)\n",
      "Requirement already satisfied: six>=1.5 in /home/romain/.local/lib/python3.7/site-packages (from python-dateutil>=2.2->nipype) (1.15.0)\n",
      "Requirement already satisfied: setuptools in /mnt/software/anaconda37/lib/python3.7/site-packages (from rdflib>=5.0.0->nipype) (58.0.4)\n",
      "Requirement already satisfied: isodate in /home/romain/.local/lib/python3.7/site-packages (from rdflib>=5.0.0->nipype) (0.6.1)\n",
      "Requirement already satisfied: typing-extensions>=3.6.4 in /mnt/software/anaconda37/lib/python3.7/site-packages (from importlib-metadata->click>=6.6.0->nipype) (3.10.0.2)\n",
      "Requirement already satisfied: zipp>=0.5 in /mnt/software/anaconda37/lib/python3.7/site-packages (from importlib-metadata->click>=6.6.0->nipype) (3.7.0)\n",
      "Requirement already satisfied: charset-normalizer~=2.0.0 in /mnt/software/anaconda37/lib/python3.7/site-packages (from requests->etelemetry>=0.2.0->nipype) (2.0.4)\n",
      "Requirement already satisfied: urllib3<1.27,>=1.21.1 in /mnt/software/anaconda37/lib/python3.7/site-packages (from requests->etelemetry>=0.2.0->nipype) (1.26.3)\n",
      "Requirement already satisfied: idna<4,>=2.5 in /mnt/software/anaconda37/lib/python3.7/site-packages (from requests->etelemetry>=0.2.0->nipype) (3.3)\n",
      "Requirement already satisfied: certifi>=2017.4.17 in /mnt/software/anaconda37/lib/python3.7/site-packages (from requests->etelemetry>=0.2.0->nipype) (2021.10.8)\n",
      "Note: you may need to restart the kernel to use updated packages.\n"
     ]
    }
   ],
   "source": [
    "pip install nipype"
   ]
  },
  {
   "cell_type": "code",
   "execution_count": 2,
   "metadata": {},
   "outputs": [
    {
     "name": "stdout",
     "output_type": "stream",
     "text": [
      "Defaulting to user installation because normal site-packages is not writeable\n",
      "Collecting platipy\n",
      "  Downloading platipy-0.5.0-py3-none-any.whl (1.1 MB)\n",
      "\u001b[K     |████████████████████████████████| 1.1 MB 2.0 MB/s eta 0:00:01\n",
      "\u001b[?25hCollecting pandas<2.0.0,>=1.3.0\n",
      "  Downloading pandas-1.3.5-cp37-cp37m-manylinux_2_17_x86_64.manylinux2014_x86_64.whl (11.3 MB)\n",
      "\u001b[K     |████████████████████████████████| 11.3 MB 54.2 MB/s eta 0:00:01\n",
      "\u001b[?25hRequirement already satisfied: matplotlib<4.0.0,>=3.2.2 in /home/romain/.local/lib/python3.7/site-packages (from platipy) (3.3.3)\n",
      "Collecting SimpleITK<3.0.0,>=2.0.2\n",
      "  Downloading SimpleITK-2.3.0.tar.gz (2.1 MB)\n",
      "\u001b[K     |████████████████████████████████| 2.1 MB 21.5 MB/s eta 0:00:01\n",
      "\u001b[?25h  Installing build dependencies ... \u001b[?25ldone\n",
      "\u001b[?25h  Getting requirements to build wheel ... \u001b[?25ldone\n",
      "\u001b[?25h    Preparing wheel metadata ... \u001b[?25ldone\n",
      "\u001b[?25hCollecting pydicom<3.0.0,>=2.1.2\n",
      "  Using cached pydicom-2.4.3-py3-none-any.whl (1.8 MB)\n",
      "Requirement already satisfied: requests<3.0.0,>=2.25.1 in /mnt/software/anaconda37/lib/python3.7/site-packages (from platipy) (2.28.1)\n",
      "Collecting rt-utils<2.0.0,>=1.1.4\n",
      "  Downloading rt_utils-1.2.7-py2.py3-none-any.whl (18 kB)\n",
      "Requirement already satisfied: click<9.0.0,>=8.0.3 in /mnt/software/anaconda37/lib/python3.7/site-packages (from platipy) (8.0.4)\n",
      "Requirement already satisfied: scikit-image<0.19.0,>=0.18.1 in /mnt/software/anaconda37/lib/python3.7/site-packages (from platipy) (0.18.3)\n",
      "Collecting pynetdicom<3.0.0,>=2.0.2\n",
      "  Downloading pynetdicom-2.0.2-py3-none-any.whl (1.6 MB)\n",
      "\u001b[K     |████████████████████████████████| 1.6 MB 71.4 MB/s eta 0:00:01\n",
      "\u001b[?25hRequirement already satisfied: importlib-metadata in /mnt/software/anaconda37/lib/python3.7/site-packages (from click<9.0.0,>=8.0.3->platipy) (4.11.3)\n",
      "Requirement already satisfied: pillow>=6.2.0 in /home/romain/.local/lib/python3.7/site-packages (from matplotlib<4.0.0,>=3.2.2->platipy) (9.4.0)\n",
      "Requirement already satisfied: cycler>=0.10 in /home/romain/.local/lib/python3.7/site-packages (from matplotlib<4.0.0,>=3.2.2->platipy) (0.10.0)\n",
      "Requirement already satisfied: pyparsing!=2.0.4,!=2.1.2,!=2.1.6,>=2.0.3 in /home/romain/.local/lib/python3.7/site-packages (from matplotlib<4.0.0,>=3.2.2->platipy) (2.4.7)\n",
      "Requirement already satisfied: python-dateutil>=2.1 in /home/romain/.local/lib/python3.7/site-packages (from matplotlib<4.0.0,>=3.2.2->platipy) (2.7.3)\n",
      "Requirement already satisfied: kiwisolver>=1.0.1 in /home/romain/.local/lib/python3.7/site-packages (from matplotlib<4.0.0,>=3.2.2->platipy) (1.3.1)\n",
      "Requirement already satisfied: numpy>=1.15 in /home/romain/.local/lib/python3.7/site-packages (from matplotlib<4.0.0,>=3.2.2->platipy) (1.20.1)\n",
      "Requirement already satisfied: six in /home/romain/.local/lib/python3.7/site-packages (from cycler>=0.10->matplotlib<4.0.0,>=3.2.2->platipy) (1.15.0)\n",
      "Requirement already satisfied: pytz>=2017.3 in /home/romain/.local/lib/python3.7/site-packages (from pandas<2.0.0,>=1.3.0->platipy) (2020.4)\n",
      "Requirement already satisfied: idna<4,>=2.5 in /mnt/software/anaconda37/lib/python3.7/site-packages (from requests<3.0.0,>=2.25.1->platipy) (3.4)\n",
      "Requirement already satisfied: certifi>=2017.4.17 in /mnt/software/anaconda37/lib/python3.7/site-packages (from requests<3.0.0,>=2.25.1->platipy) (2022.12.7)\n",
      "Requirement already satisfied: charset-normalizer<3,>=2 in /mnt/software/anaconda37/lib/python3.7/site-packages (from requests<3.0.0,>=2.25.1->platipy) (2.0.4)\n",
      "Requirement already satisfied: urllib3<1.27,>=1.21.1 in /mnt/software/anaconda37/lib/python3.7/site-packages (from requests<3.0.0,>=2.25.1->platipy) (1.26.3)\n",
      "Collecting dataclasses\n",
      "  Downloading dataclasses-0.6-py3-none-any.whl (14 kB)\n",
      "Requirement already satisfied: opencv-python in /home/romain/.local/lib/python3.7/site-packages (from rt-utils<2.0.0,>=1.1.4->platipy) (4.6.0.66)\n",
      "Requirement already satisfied: scipy>=1.0.1 in /home/romain/.local/lib/python3.7/site-packages (from scikit-image<0.19.0,>=0.18.1->platipy) (1.7.3)\n",
      "Requirement already satisfied: networkx>=2.0 in /mnt/software/anaconda37/lib/python3.7/site-packages (from scikit-image<0.19.0,>=0.18.1->platipy) (2.6.3)\n",
      "Requirement already satisfied: imageio>=2.3.0 in /mnt/software/anaconda37/lib/python3.7/site-packages (from scikit-image<0.19.0,>=0.18.1->platipy) (2.9.0)\n",
      "Requirement already satisfied: tifffile>=2019.7.26 in /mnt/software/anaconda37/lib/python3.7/site-packages (from scikit-image<0.19.0,>=0.18.1->platipy) (2021.7.2)\n",
      "Requirement already satisfied: PyWavelets>=1.1.1 in /mnt/software/anaconda37/lib/python3.7/site-packages (from scikit-image<0.19.0,>=0.18.1->platipy) (1.1.1)\n",
      "Requirement already satisfied: typing-extensions>=3.6.4 in /mnt/software/anaconda37/lib/python3.7/site-packages (from importlib-metadata->click<9.0.0,>=8.0.3->platipy) (4.1.1)\n",
      "Requirement already satisfied: zipp>=0.5 in /mnt/software/anaconda37/lib/python3.7/site-packages (from importlib-metadata->click<9.0.0,>=8.0.3->platipy) (3.11.0)\n",
      "Building wheels for collected packages: SimpleITK\n",
      "  Building wheel for SimpleITK (PEP 517) ... \u001b[?25l\\Note: you may need to restart the kernel to use updated packages.\n"
     ]
    }
   ],
   "source": [
    "pip install platipy"
   ]
  },
  {
   "cell_type": "markdown",
   "metadata": {},
   "source": [
    "# Ici les DATAFRAMES (fichier csv)"
   ]
  },
  {
   "cell_type": "code",
   "execution_count": 4,
   "metadata": {},
   "outputs": [],
   "source": [
    "import os, sys\n",
    "import pydicom as dcm\n",
    "import pandas as pd\n",
    "import matplotlib.pyplot as plt #graphiques\n",
    "from os import listdir\n",
    "from os.path import isfile, join\n",
    "#onlyfiles = [f for f in listdir(mypath) if isfile(join(mypath, f))]\n",
    "import glob\n",
    "import dcm2niix as dc\n",
    "#len(glob.glob(join(mypath,\"*\",\"*\",\"MR*\"),recursive=True))\n",
    "from nipype.interfaces.dcm2nii import Dcm2niix"
   ]
  },
  {
   "cell_type": "code",
   "execution_count": 5,
   "metadata": {},
   "outputs": [],
   "source": [
    "PATH_DIR = join('/NAS','dumbo','protocoles','HAMSI')"
   ]
  },
  {
   "cell_type": "code",
   "execution_count": 6,
   "metadata": {},
   "outputs": [],
   "source": [
    "table_FLAIR = pd.read_csv(join(PATH_DIR,\"df_table_FLAIR_GE.csv\"),sep=',')\n",
    "table_T1Gado = pd.read_csv(join(PATH_DIR,\"df_table_T1Gado_GE.csv\"),sep=',')\n",
    "table_T1 = pd.read_csv(join(PATH_DIR,\"df_table_T1_GE.csv\"),sep=',')"
   ]
  },
  {
   "cell_type": "code",
   "execution_count": 30,
   "metadata": {},
   "outputs": [
    {
     "name": "stdout",
     "output_type": "stream",
     "text": [
      "<class 'pandas.core.frame.DataFrame'>\n",
      "RangeIndex: 128 entries, 0 to 127\n",
      "Data columns (total 19 columns):\n",
      " #   Column                                                               Non-Null Count  Dtype \n",
      "---  ------                                                               --------------  ----- \n",
      " 0   IPP_CHU                                                              128 non-null    int64 \n",
      " 1   PatientName                                                          128 non-null    object\n",
      " 2   PatientBirthDate                                                     128 non-null    int64 \n",
      " 3   PatientSex                                                           128 non-null    object\n",
      " 4   AccessionNumber                                                      128 non-null    int64 \n",
      " 5   Modality                                                             128 non-null    object\n",
      " 6   StudyDescription                                                     128 non-null    object\n",
      " 7   StudyDate                                                            128 non-null    int64 \n",
      " 8   StudyTime                                                            128 non-null    int64 \n",
      " 9   StudyInstanceUID                                                     128 non-null    object\n",
      " 10  SeriesDescription                                                    128 non-null    object\n",
      " 11  SeriesTime                                                           128 non-null    int64 \n",
      " 12  SeriesNumber                                                         128 non-null    int64 \n",
      " 13  Slices                                                               128 non-null    int64 \n",
      " 14  SerieInstanceUID                                                     128 non-null    object\n",
      " 15  /NAS/dumbo/protocoles/HAMSI/data//StudyInstanceUID/SerieInstanceUID  128 non-null    object\n",
      " 16  Machine                                                              128 non-null    object\n",
      " 17  Manufacturer Model Name                                              128 non-null    object\n",
      " 18  Station Name                                                         128 non-null    object\n",
      "dtypes: int64(8), object(11)\n",
      "memory usage: 19.1+ KB\n"
     ]
    }
   ],
   "source": [
    "table_FLAIR.info()"
   ]
  },
  {
   "cell_type": "code",
   "execution_count": 29,
   "metadata": {},
   "outputs": [
    {
     "name": "stdout",
     "output_type": "stream",
     "text": [
      "<class 'pandas.core.frame.DataFrame'>\n",
      "RangeIndex: 97 entries, 0 to 96\n",
      "Data columns (total 19 columns):\n",
      " #   Column                                                               Non-Null Count  Dtype \n",
      "---  ------                                                               --------------  ----- \n",
      " 0   IPP_CHU                                                              97 non-null     int64 \n",
      " 1   PatientName                                                          97 non-null     object\n",
      " 2   PatientBirthDate                                                     97 non-null     int64 \n",
      " 3   PatientSex                                                           97 non-null     object\n",
      " 4   AccessionNumber                                                      97 non-null     int64 \n",
      " 5   Modality                                                             97 non-null     object\n",
      " 6   StudyDescription                                                     97 non-null     object\n",
      " 7   StudyDate                                                            97 non-null     int64 \n",
      " 8   StudyTime                                                            97 non-null     int64 \n",
      " 9   StudyInstanceUID                                                     97 non-null     object\n",
      " 10  SeriesDescription                                                    97 non-null     object\n",
      " 11  SeriesTime                                                           97 non-null     int64 \n",
      " 12  SeriesNumber                                                         97 non-null     int64 \n",
      " 13  Slices                                                               97 non-null     int64 \n",
      " 14  SerieInstanceUID                                                     97 non-null     object\n",
      " 15  /NAS/dumbo/protocoles/HAMSI/data//StudyInstanceUID/SerieInstanceUID  97 non-null     object\n",
      " 16  Machine                                                              97 non-null     object\n",
      " 17  Manufacturer Model Name                                              97 non-null     object\n",
      " 18  Station Name                                                         97 non-null     object\n",
      "dtypes: int64(8), object(11)\n",
      "memory usage: 14.5+ KB\n"
     ]
    }
   ],
   "source": [
    "table_T1.info()"
   ]
  },
  {
   "cell_type": "code",
   "execution_count": 31,
   "metadata": {},
   "outputs": [
    {
     "name": "stdout",
     "output_type": "stream",
     "text": [
      "<class 'pandas.core.frame.DataFrame'>\n",
      "RangeIndex: 107 entries, 0 to 106\n",
      "Data columns (total 19 columns):\n",
      " #   Column                                                               Non-Null Count  Dtype \n",
      "---  ------                                                               --------------  ----- \n",
      " 0   IPP_CHU                                                              107 non-null    int64 \n",
      " 1   PatientName                                                          107 non-null    object\n",
      " 2   PatientBirthDate                                                     107 non-null    int64 \n",
      " 3   PatientSex                                                           107 non-null    object\n",
      " 4   AccessionNumber                                                      107 non-null    int64 \n",
      " 5   Modality                                                             107 non-null    object\n",
      " 6   StudyDescription                                                     107 non-null    object\n",
      " 7   StudyDate                                                            107 non-null    int64 \n",
      " 8   StudyTime                                                            107 non-null    int64 \n",
      " 9   StudyInstanceUID                                                     107 non-null    object\n",
      " 10  SeriesDescription                                                    107 non-null    object\n",
      " 11  SeriesTime                                                           107 non-null    int64 \n",
      " 12  SeriesNumber                                                         107 non-null    int64 \n",
      " 13  Slices                                                               107 non-null    int64 \n",
      " 14  SerieInstanceUID                                                     107 non-null    object\n",
      " 15  /NAS/dumbo/protocoles/HAMSI/data//StudyInstanceUID/SerieInstanceUID  107 non-null    object\n",
      " 16  Machine                                                              107 non-null    object\n",
      " 17  Manufacturer Model Name                                              107 non-null    object\n",
      " 18  Station Name                                                         107 non-null    object\n",
      "dtypes: int64(8), object(11)\n",
      "memory usage: 16.0+ KB\n"
     ]
    }
   ],
   "source": [
    "table_T1Gado.info()"
   ]
  },
  {
   "cell_type": "code",
   "execution_count": 7,
   "metadata": {},
   "outputs": [],
   "source": [
    "PATH_DATA = join(PATH_DIR,'data')"
   ]
  },
  {
   "cell_type": "code",
   "execution_count": 34,
   "metadata": {},
   "outputs": [],
   "source": [
    "#tmp_table=table_T1.merge(table_T1Gado,on='StudyInstanceUID').merge(table_FLAIR,on='StudyInstanceUID')\n",
    "big_table=pd.concat([table_T1,table_T1Gado,table_FLAIR])"
   ]
  },
  {
   "cell_type": "code",
   "execution_count": 35,
   "metadata": {},
   "outputs": [
    {
     "name": "stdout",
     "output_type": "stream",
     "text": [
      "<class 'pandas.core.frame.DataFrame'>\n",
      "Int64Index: 332 entries, 0 to 127\n",
      "Data columns (total 19 columns):\n",
      " #   Column                                                               Non-Null Count  Dtype \n",
      "---  ------                                                               --------------  ----- \n",
      " 0   IPP_CHU                                                              332 non-null    int64 \n",
      " 1   PatientName                                                          332 non-null    object\n",
      " 2   PatientBirthDate                                                     332 non-null    int64 \n",
      " 3   PatientSex                                                           332 non-null    object\n",
      " 4   AccessionNumber                                                      332 non-null    int64 \n",
      " 5   Modality                                                             332 non-null    object\n",
      " 6   StudyDescription                                                     332 non-null    object\n",
      " 7   StudyDate                                                            332 non-null    int64 \n",
      " 8   StudyTime                                                            332 non-null    int64 \n",
      " 9   StudyInstanceUID                                                     332 non-null    object\n",
      " 10  SeriesDescription                                                    332 non-null    object\n",
      " 11  SeriesTime                                                           332 non-null    int64 \n",
      " 12  SeriesNumber                                                         332 non-null    int64 \n",
      " 13  Slices                                                               332 non-null    int64 \n",
      " 14  SerieInstanceUID                                                     332 non-null    object\n",
      " 15  /NAS/dumbo/protocoles/HAMSI/data//StudyInstanceUID/SerieInstanceUID  332 non-null    object\n",
      " 16  Machine                                                              332 non-null    object\n",
      " 17  Manufacturer Model Name                                              332 non-null    object\n",
      " 18  Station Name                                                         332 non-null    object\n",
      "dtypes: int64(8), object(11)\n",
      "memory usage: 51.9+ KB\n"
     ]
    }
   ],
   "source": [
    "big_table.info()"
   ]
  },
  {
   "cell_type": "code",
   "execution_count": 44,
   "metadata": {},
   "outputs": [
    {
     "name": "stdout",
     "output_type": "stream",
     "text": [
      "<pandas.core.groupby.generic.SeriesGroupBy object at 0x7fa7bd0aae90>\n"
     ]
    }
   ],
   "source": [
    "test=pd.concat([table_T1,table_T1Gado,table_FLAIR]).groupby('StudyInstanceUID')"
   ]
  },
  {
   "cell_type": "code",
   "execution_count": 53,
   "metadata": {
    "collapsed": true,
    "jupyter": {
     "outputs_hidden": true
    },
    "tags": []
   },
   "outputs": [
    {
     "data": {
      "text/plain": [
       "StudyInstanceUID\n",
       "1.3.51.0.1.1.10.49.10.222.5907244.5907547    1\n",
       "1.3.51.0.1.1.10.49.10.222.5909844.5910147    1\n",
       "1.3.51.0.1.1.10.49.10.222.5912062.5912365    1\n",
       "1.3.51.0.1.1.10.49.10.222.5943231.5943554    1\n",
       "1.3.51.0.1.1.10.49.10.222.5963804.5964141    1\n",
       "                                            ..\n",
       "1.3.51.0.1.1.10.49.10.222.7482133.7483333    1\n",
       "1.3.51.0.1.1.10.49.10.222.7513161.7514388    1\n",
       "1.3.51.0.1.1.10.49.10.222.7524515.7525759    1\n",
       "1.3.51.0.1.1.10.49.10.222.7526446.7527690    1\n",
       "1.3.51.0.1.1.10.49.10.222.7529105.7530349    1\n",
       "Name: IPP_CHU, Length: 137, dtype: int64"
      ]
     },
     "execution_count": 53,
     "metadata": {},
     "output_type": "execute_result"
    }
   ],
   "source": [
    "test['IPP_CHU'].nunique()"
   ]
  },
  {
   "cell_type": "markdown",
   "metadata": {},
   "source": [
    "# Infos dataframe"
   ]
  },
  {
   "cell_type": "code",
   "execution_count": 27,
   "metadata": {
    "collapsed": true,
    "jupyter": {
     "outputs_hidden": true
    },
    "tags": []
   },
   "outputs": [
    {
     "name": "stdout",
     "output_type": "stream",
     "text": [
      "<class 'pandas.core.frame.DataFrame'>\n",
      "Int64Index: 96 entries, 0 to 95\n",
      "Data columns (total 37 columns):\n",
      " #   Column                                                                 Non-Null Count  Dtype \n",
      "---  ------                                                                 --------------  ----- \n",
      " 0   IPP_CHU_x                                                              96 non-null     int64 \n",
      " 1   PatientName_x                                                          96 non-null     object\n",
      " 2   PatientBirthDate_x                                                     96 non-null     int64 \n",
      " 3   PatientSex_x                                                           96 non-null     object\n",
      " 4   AccessionNumber_x                                                      96 non-null     int64 \n",
      " 5   Modality_x                                                             96 non-null     object\n",
      " 6   StudyDescription_x                                                     96 non-null     object\n",
      " 7   StudyDate_x                                                            96 non-null     int64 \n",
      " 8   StudyTime_x                                                            96 non-null     int64 \n",
      " 9   StudyInstanceUID                                                       96 non-null     object\n",
      " 10  SeriesDescription_x                                                    96 non-null     object\n",
      " 11  SeriesTime_x                                                           96 non-null     int64 \n",
      " 12  SeriesNumber_x                                                         96 non-null     int64 \n",
      " 13  Slices_x                                                               96 non-null     int64 \n",
      " 14  SerieInstanceUID_x                                                     96 non-null     object\n",
      " 15  /NAS/dumbo/protocoles/HAMSI/data//StudyInstanceUID/SerieInstanceUID_x  96 non-null     object\n",
      " 16  Machine_x                                                              96 non-null     object\n",
      " 17  Manufacturer Model Name_x                                              96 non-null     object\n",
      " 18  Station Name_x                                                         96 non-null     object\n",
      " 19  IPP_CHU_y                                                              96 non-null     int64 \n",
      " 20  PatientName_y                                                          96 non-null     object\n",
      " 21  PatientBirthDate_y                                                     96 non-null     int64 \n",
      " 22  PatientSex_y                                                           96 non-null     object\n",
      " 23  AccessionNumber_y                                                      96 non-null     int64 \n",
      " 24  Modality_y                                                             96 non-null     object\n",
      " 25  StudyDescription_y                                                     96 non-null     object\n",
      " 26  StudyDate_y                                                            96 non-null     int64 \n",
      " 27  StudyTime_y                                                            96 non-null     int64 \n",
      " 28  SeriesDescription_y                                                    96 non-null     object\n",
      " 29  SeriesTime_y                                                           96 non-null     int64 \n",
      " 30  SeriesNumber_y                                                         96 non-null     int64 \n",
      " 31  Slices_y                                                               96 non-null     int64 \n",
      " 32  SerieInstanceUID_y                                                     96 non-null     object\n",
      " 33  /NAS/dumbo/protocoles/HAMSI/data//StudyInstanceUID/SerieInstanceUID_y  96 non-null     object\n",
      " 34  Machine_y                                                              96 non-null     object\n",
      " 35  Manufacturer Model Name_y                                              96 non-null     object\n",
      " 36  Station Name_y                                                         96 non-null     object\n",
      "dtypes: int64(16), object(21)\n",
      "memory usage: 28.5+ KB\n"
     ]
    }
   ],
   "source": [
    "big_table.info()"
   ]
  },
  {
   "cell_type": "code",
   "execution_count": 86,
   "metadata": {},
   "outputs": [],
   "source": [
    "def convert_dcm_2_nii_x(dcm_folder, output_folder):    \n",
    "  converter = Dcm2niix()    \n",
    "  converter.inputs.source_dir = dcm_folder    \n",
    "  converter.inputs.output_dir = output_folder    \n",
    "  converter.inputs.compress = 'i'    \n",
    "  converter.run()"
   ]
  },
  {
   "cell_type": "code",
   "execution_count": 98,
   "metadata": {
    "tags": []
   },
   "outputs": [],
   "source": [
    "for pt in table_FLAIR.index :\n",
    "    if not (join(PATH_DIR,'data_NIFTI',table_FLAIR.iloc[pt]['StudyInstanceUID'],\"FLAIR.nii.gz\")):\n",
    "        print(join(PATH_DATA,table_FLAIR.iloc[pt]['StudyInstanceUID'],table_FLAIR.iloc[pt]['SerieInstanceUID']))\n",
    "        os.system('mkdir '+join(PATH_DIR,'data_NIFTI',table_FLAIR.iloc[pt]['StudyInstanceUID']))\n",
    "        convert_dcm_2_nii_x((join(PATH_DATA,table_FLAIR.iloc[pt]['StudyInstanceUID'],table_FLAIR.iloc[pt]['SerieInstanceUID'])),join(PATH_DIR,'data_NIFTI',table_FLAIR.iloc[pt]['StudyInstanceUID']))\n",
    "        serie = glob.glob(join(PATH_DIR,'data_NIFTI',table_FLAIR.iloc[pt]['StudyInstanceUID'],table_FLAIR.iloc[pt]['SerieInstanceUID']+\"*.nii.gz\"),recursive = False)\n",
    "        if len(serie)>0:\n",
    "            os.rename(serie[0],join(os.path.dirname(serie[0]),\"FLAIR.nii.gz\"))\n",
    "            os.rename(serie[0].replace(\"nii.gz\",\"json\"),join(os.path.dirname(serie[0]),\"FLAIR.json\"))\n",
    "\n",
    "for pt in table_T1Gado.index :\n",
    "    if not (join(PATH_DIR,'data_NIFTI',table_T1Gado.iloc[pt]['StudyInstanceUID'],\"T1Gado.nii.gz\")):\n",
    "        print(join(PATH_DATA,table_T1Gado.iloc[pt]['StudyInstanceUID'],table_T1Gado.iloc[pt]['SerieInstanceUID']))\n",
    "        os.system('mkdir '+join(PATH_DIR,'data_NIFTI',table_T1Gado.iloc[pt]['StudyInstanceUID']))\n",
    "        convert_dcm_2_nii_x((join(PATH_DATA,table_T1Gado.iloc[pt]['StudyInstanceUID'],table_T1Gado.iloc[pt]['SerieInstanceUID'])),join(PATH_DIR,'data_NIFTI',table_T1Gado.iloc[pt]['StudyInstanceUID']))\n",
    "        serie = glob.glob(join(PATH_DIR,'data_NIFTI',table_T1Gado.iloc[pt]['StudyInstanceUID'],table_T1Gado.iloc[pt]['SerieInstanceUID']+\"*.nii.gz\"),recursive = False)\n",
    "        if len(serie)>0:\n",
    "            os.rename(serie[0],join(os.path.dirname(serie[0]),\"T1Gado.nii.gz\"))\n",
    "            os.rename(serie[0].replace(\"nii.gz\",\"json\"),join(os.path.dirname(serie[0]),\"T1Gado.json\"))        \n",
    "\n",
    "for pt in table_T1.index :\n",
    "    if not (join(PATH_DIR,'data_NIFTI',table_T1.iloc[pt]['StudyInstanceUID'],\"T1.nii.gz\")):    \n",
    "        print(join(PATH_DATA,table_T1.iloc[pt]['StudyInstanceUID'],table_T1.iloc[pt]['SerieInstanceUID']))\n",
    "        os.system('mkdir '+join(PATH_DIR,'data_NIFTI',table_T1.iloc[pt]['StudyInstanceUID']))\n",
    "        convert_dcm_2_nii_x((join(PATH_DATA,table_T1.iloc[pt]['StudyInstanceUID'],table_T1.iloc[pt]['SerieInstanceUID'])),join(PATH_DIR,'data_NIFTI',table_T1.iloc[pt]['StudyInstanceUID']))\n",
    "        serie = glob.glob(join(PATH_DIR,'data_NIFTI',table_T1.iloc[pt]['StudyInstanceUID'],table_T1.iloc[pt]['SerieInstanceUID']+\"*.nii.gz\"),recursive = False)\n",
    "        if len(serie)>0:\n",
    "            os.rename(serie[0],join(os.path.dirname(serie[0]),\"T1.nii.gz\"))\n",
    "            os.rename(serie[0].replace(\"nii.gz\",\"json\"),join(os.path.dirname(serie[0]),\"T1.json\"))            "
   ]
  },
  {
   "cell_type": "code",
   "execution_count": 101,
   "metadata": {
    "collapsed": true,
    "jupyter": {
     "outputs_hidden": true
    },
    "tags": []
   },
   "outputs": [
    {
     "name": "stderr",
     "output_type": "stream",
     "text": [
      "stty: 'standard input': Inappropriate ioctl for device\n",
      "stty: 'standard input': Inappropriate ioctl for device\n",
      "stty: 'standard input': Inappropriate ioctl for device\n",
      "stty: 'standard input': Inappropriate ioctl for device\n",
      "stty: 'standard input': Inappropriate ioctl for device\n",
      "stty: 'standard input': Inappropriate ioctl for device\n"
     ]
    },
    {
     "ename": "RuntimeError",
     "evalue": "Command:\nmatlab -nodesktop -nosplash -singleCompThread -r \"addpath('/home/romain/SVN/python/romain');pyscript_cat12segment;exit\"\nStandard output:\n\n                            < M A T L A B (R) >\n                  Copyright 1984-2014 The MathWorks, Inc.\n                    R2014a (8.3.0.532) 64-bit (glnxa64)\n                             February 11, 2014\n\n \nTo get started, type one of these: helpwin, helpdesk, or demo.\nFor product information, visit www.mathworks.com.\n \nExecuting pyscript_cat12segment at 25-Nov-2022 17:36:24:\nExecuting pyscript_cat12segment at 25-Nov-2022 17:36:24:\n----------------------------------------------------------------------------------------------------\nMATLAB Version: 8.3.0.532 (R2014a)\nMATLAB License Number: 405329\nOperating System: Linux 5.15.0-53-generic #59~20.04.1-Ubuntu SMP Thu Oct 20 15:10:22 UTC 2022 x86_64\nJava Version: Java 1.7.0_11-b21 with Oracle Corporation Java HotSpot(TM) 64-Bit Server VM mixed mode\n----------------------------------------------------------------------------------------------------\nMATLAB                                                Version 8.3        (R2014a)\nSimulink                                              Version 8.3        (R2014a)\nAerospace Blockset                                    Version 3.13       (R2014a)\nAerospace Toolbox                                     Version 2.13       (R2014a)\nBioinformatics Toolbox                                Version 4.4        (R2014a)\nCommunications System Toolbox                         Version 5.6        (R2014a)\nComputer Vision System Toolbox                        Version 6.0        (R2014a)\nControl System Toolbox                                Version 9.7        (R2014a)\nCurve Fitting Toolbox                                 Version 3.4.1      (R2014a)\nDO Qualification Kit                                  Version 2.3        (R2014a)\nDSP System Toolbox                                    Version 8.6        (R2014a)\nDatabase Toolbox                                      Version 5.1        (R2014a)\nDatafeed Toolbox                                      Version 4.7        (R2014a)\nEconometrics Toolbox                                  Version 3.0        (R2014a)\nEmbedded Coder                                        Version 6.6        (R2014a)\nFilter Design HDL Coder                               Version 2.9.5      (R2014a)\nFinancial Instruments Toolbox                         Version 1.3        (R2014a)\nFinancial Toolbox                                     Version 5.3        (R2014a)\nFixed-Point Designer                                  Version 4.2        (R2014a)\nFuzzy Logic Toolbox                                   Version 2.2.19     (R2014a)\nGlobal Optimization Toolbox                           Version 3.2.5      (R2014a)\nHDL Coder                                             Version 3.4        (R2014a)\nHDL Verifier                                          Version 4.4        (R2014a)\nIEC Certification Kit                                 Version 3.3        (R2014a)\nImage Acquisition Toolbox                             Version 4.7        (R2014a)\nImage Processing Toolbox                              Version 9.0        (R2014a)\nInstrument Control Toolbox                            Version 3.5        (R2014a)\nLTE System Toolbox                                    Version 1.1        (R2014a)\nMATLAB Builder JA                                     Version 2.3.1      (R2014a)\nMATLAB Coder                                          Version 2.6        (R2014a)\nMATLAB Compiler                                       Version 5.1        (R2014a)\nMATLAB Report Generator                               Version 3.16       (R2014a)\nMapping Toolbox                                       Version 4.0.1      (R2014a)\nModel Predictive Control Toolbox                      Version 4.2        (R2014a)\nNeural Network Toolbox                                Version 8.2        (R2014a)\nOptimization Toolbox                                  Version 7.0        (R2014a)\nParallel Computing Toolbox                            Version 6.4        (R2014a)\nPartial Differential Equation Toolbox                 Version 1.4        (R2014a)\nPhased Array System Toolbox                           Version 2.2        (R2014a)\nPolyspace Bug Finder                                  Version 1.1        (R2014a)\nPolyspace Code Prover                                 Version 9.1        (R2014a)\nRF Toolbox                                            Version 2.14       (R2014a)\nRobust Control Toolbox                                Version 5.1        (R2014a)\nSignal Processing Toolbox                             Version 6.21       (R2014a)\nSimBiology                                            Version 5.0        (R2014a)\nSimDriveline                                          Version 2.6        (R2014a)\nSimElectronics                                        Version 2.5        (R2014a)\nSimEvents                                             Version 4.3.2      (R2014a)\nSimHydraulics                                         Version 1.14       (R2014a)\nSimMechanics                                          Version 4.4        (R2014a)\nSimPowerSystems                                       Version 6.1        (R2014a)\nSimRF                                                 Version 4.2        (R2014a)\nSimscape                                              Version 3.11       (R2014a)\nSimulink 3D Animation                                 Version 7.1        (R2014a)\nSimulink Code Inspector                               Version 2.1        (R2014a)\nSimulink Coder                                        Version 8.6        (R2014a)\nSimulink Control Design                               Version 4.0        (R2014a)\nSimulink Design Optimization                          Version 2.5        (R2014a)\nSimulink Design Verifier                              Version 2.6        (R2014a)\nSimulink Report Generator                             Version 3.16       (R2014a)\nSimulink Verification and Validation                  Version 3.7        (R2014a)\nStateflow                                             Version 8.3        (R2014a)\nStatistics Toolbox                                    Version 9.0        (R2014a)\nSymbolic Math Toolbox                                 Version 6.0        (R2014a)\nSystem Identification Toolbox                         Version 9.0        (R2014a)\nSystemTest                                            Version 2.6.7      (R2014a)\nWavelet Toolbox                                       Version 4.13       (R2014a)\nStandard error:\nMATLAB code threw an exception:\nSPM not in matlab path\nFile:/home/romain/SVN/python/romain/pyscript_cat12segment.m\nName:pyscript_cat12segment\nLine:7\nReturn code: 0",
     "output_type": "error",
     "traceback": [
      "\u001b[0;31m---------------------------------------------------------------------------\u001b[0m",
      "\u001b[0;31mRuntimeError\u001b[0m                              Traceback (most recent call last)",
      "\u001b[0;32m/tmp/ipykernel_110546/129216946.py\u001b[0m in \u001b[0;36m<module>\u001b[0;34m\u001b[0m\n\u001b[1;32m      2\u001b[0m \u001b[0mpath_mr\u001b[0m \u001b[0;34m=\u001b[0m \u001b[0mjoin\u001b[0m\u001b[0;34m(\u001b[0m\u001b[0mPATH_DIR\u001b[0m\u001b[0;34m,\u001b[0m\u001b[0;34m'data_NIFTI'\u001b[0m\u001b[0;34m,\u001b[0m\u001b[0;34m'1.3.51.0.1.1.10.49.10.222.5982019.5982373'\u001b[0m\u001b[0;34m,\u001b[0m\u001b[0;34m'T1.nii'\u001b[0m\u001b[0;34m)\u001b[0m\u001b[0;34m\u001b[0m\u001b[0;34m\u001b[0m\u001b[0m\n\u001b[1;32m      3\u001b[0m \u001b[0mcat\u001b[0m \u001b[0;34m=\u001b[0m \u001b[0mcat12\u001b[0m\u001b[0;34m.\u001b[0m\u001b[0mCAT12Segment\u001b[0m\u001b[0;34m(\u001b[0m\u001b[0min_files\u001b[0m\u001b[0;34m=\u001b[0m\u001b[0mpath_mr\u001b[0m\u001b[0;34m)\u001b[0m\u001b[0;34m\u001b[0m\u001b[0;34m\u001b[0m\u001b[0m\n\u001b[0;32m----> 4\u001b[0;31m \u001b[0mcat\u001b[0m\u001b[0;34m.\u001b[0m\u001b[0mrun\u001b[0m\u001b[0;34m(\u001b[0m\u001b[0;34m)\u001b[0m\u001b[0;34m\u001b[0m\u001b[0;34m\u001b[0m\u001b[0m\n\u001b[0m",
      "\u001b[0;32m~/.local/lib/python3.7/site-packages/nipype/interfaces/base/core.py\u001b[0m in \u001b[0;36mrun\u001b[0;34m(self, cwd, ignore_exception, **inputs)\u001b[0m\n\u001b[1;32m    396\u001b[0m             \u001b[0;31m# Run interface\u001b[0m\u001b[0;34m\u001b[0m\u001b[0;34m\u001b[0m\u001b[0;34m\u001b[0m\u001b[0m\n\u001b[1;32m    397\u001b[0m             \u001b[0mruntime\u001b[0m \u001b[0;34m=\u001b[0m \u001b[0mself\u001b[0m\u001b[0;34m.\u001b[0m\u001b[0m_pre_run_hook\u001b[0m\u001b[0;34m(\u001b[0m\u001b[0mruntime\u001b[0m\u001b[0;34m)\u001b[0m\u001b[0;34m\u001b[0m\u001b[0;34m\u001b[0m\u001b[0m\n\u001b[0;32m--> 398\u001b[0;31m             \u001b[0mruntime\u001b[0m \u001b[0;34m=\u001b[0m \u001b[0mself\u001b[0m\u001b[0;34m.\u001b[0m\u001b[0m_run_interface\u001b[0m\u001b[0;34m(\u001b[0m\u001b[0mruntime\u001b[0m\u001b[0;34m)\u001b[0m\u001b[0;34m\u001b[0m\u001b[0;34m\u001b[0m\u001b[0m\n\u001b[0m\u001b[1;32m    399\u001b[0m             \u001b[0mruntime\u001b[0m \u001b[0;34m=\u001b[0m \u001b[0mself\u001b[0m\u001b[0;34m.\u001b[0m\u001b[0m_post_run_hook\u001b[0m\u001b[0;34m(\u001b[0m\u001b[0mruntime\u001b[0m\u001b[0;34m)\u001b[0m\u001b[0;34m\u001b[0m\u001b[0;34m\u001b[0m\u001b[0m\n\u001b[1;32m    400\u001b[0m             \u001b[0;31m# Collect outputs\u001b[0m\u001b[0;34m\u001b[0m\u001b[0;34m\u001b[0m\u001b[0;34m\u001b[0m\u001b[0m\n",
      "\u001b[0;32m~/.local/lib/python3.7/site-packages/nipype/interfaces/spm/base.py\u001b[0m in \u001b[0;36m_run_interface\u001b[0;34m(self, runtime)\u001b[0m\n\u001b[1;32m    385\u001b[0m             \u001b[0mdeepcopy\u001b[0m\u001b[0;34m(\u001b[0m\u001b[0mself\u001b[0m\u001b[0;34m.\u001b[0m\u001b[0m_parse_inputs\u001b[0m\u001b[0;34m(\u001b[0m\u001b[0;34m)\u001b[0m\u001b[0;34m)\u001b[0m\u001b[0;34m\u001b[0m\u001b[0;34m\u001b[0m\u001b[0m\n\u001b[1;32m    386\u001b[0m         )\n\u001b[0;32m--> 387\u001b[0;31m         \u001b[0mresults\u001b[0m \u001b[0;34m=\u001b[0m \u001b[0mself\u001b[0m\u001b[0;34m.\u001b[0m\u001b[0mmlab\u001b[0m\u001b[0;34m.\u001b[0m\u001b[0mrun\u001b[0m\u001b[0;34m(\u001b[0m\u001b[0;34m)\u001b[0m\u001b[0;34m\u001b[0m\u001b[0;34m\u001b[0m\u001b[0m\n\u001b[0m\u001b[1;32m    388\u001b[0m         \u001b[0mruntime\u001b[0m\u001b[0;34m.\u001b[0m\u001b[0mreturncode\u001b[0m \u001b[0;34m=\u001b[0m \u001b[0mresults\u001b[0m\u001b[0;34m.\u001b[0m\u001b[0mruntime\u001b[0m\u001b[0;34m.\u001b[0m\u001b[0mreturncode\u001b[0m\u001b[0;34m\u001b[0m\u001b[0;34m\u001b[0m\u001b[0m\n\u001b[1;32m    389\u001b[0m         \u001b[0;32mif\u001b[0m \u001b[0mself\u001b[0m\u001b[0;34m.\u001b[0m\u001b[0mmlab\u001b[0m\u001b[0;34m.\u001b[0m\u001b[0minputs\u001b[0m\u001b[0;34m.\u001b[0m\u001b[0muses_mcr\u001b[0m\u001b[0;34m:\u001b[0m\u001b[0;34m\u001b[0m\u001b[0;34m\u001b[0m\u001b[0m\n",
      "\u001b[0;32m~/.local/lib/python3.7/site-packages/nipype/interfaces/base/core.py\u001b[0m in \u001b[0;36mrun\u001b[0;34m(self, cwd, ignore_exception, **inputs)\u001b[0m\n\u001b[1;32m    396\u001b[0m             \u001b[0;31m# Run interface\u001b[0m\u001b[0;34m\u001b[0m\u001b[0;34m\u001b[0m\u001b[0;34m\u001b[0m\u001b[0m\n\u001b[1;32m    397\u001b[0m             \u001b[0mruntime\u001b[0m \u001b[0;34m=\u001b[0m \u001b[0mself\u001b[0m\u001b[0;34m.\u001b[0m\u001b[0m_pre_run_hook\u001b[0m\u001b[0;34m(\u001b[0m\u001b[0mruntime\u001b[0m\u001b[0;34m)\u001b[0m\u001b[0;34m\u001b[0m\u001b[0;34m\u001b[0m\u001b[0m\n\u001b[0;32m--> 398\u001b[0;31m             \u001b[0mruntime\u001b[0m \u001b[0;34m=\u001b[0m \u001b[0mself\u001b[0m\u001b[0;34m.\u001b[0m\u001b[0m_run_interface\u001b[0m\u001b[0;34m(\u001b[0m\u001b[0mruntime\u001b[0m\u001b[0;34m)\u001b[0m\u001b[0;34m\u001b[0m\u001b[0;34m\u001b[0m\u001b[0m\n\u001b[0m\u001b[1;32m    399\u001b[0m             \u001b[0mruntime\u001b[0m \u001b[0;34m=\u001b[0m \u001b[0mself\u001b[0m\u001b[0;34m.\u001b[0m\u001b[0m_post_run_hook\u001b[0m\u001b[0;34m(\u001b[0m\u001b[0mruntime\u001b[0m\u001b[0;34m)\u001b[0m\u001b[0;34m\u001b[0m\u001b[0;34m\u001b[0m\u001b[0m\n\u001b[1;32m    400\u001b[0m             \u001b[0;31m# Collect outputs\u001b[0m\u001b[0;34m\u001b[0m\u001b[0;34m\u001b[0m\u001b[0;34m\u001b[0m\u001b[0m\n",
      "\u001b[0;32m~/.local/lib/python3.7/site-packages/nipype/interfaces/matlab.py\u001b[0m in \u001b[0;36m_run_interface\u001b[0;34m(self, runtime)\u001b[0m\n\u001b[1;32m    162\u001b[0m             \u001b[0;32mpass\u001b[0m\u001b[0;34m\u001b[0m\u001b[0;34m\u001b[0m\u001b[0m\n\u001b[1;32m    163\u001b[0m         \u001b[0;32mif\u001b[0m \u001b[0;34m\"MATLAB code threw an exception\"\u001b[0m \u001b[0;32min\u001b[0m \u001b[0mruntime\u001b[0m\u001b[0;34m.\u001b[0m\u001b[0mstderr\u001b[0m\u001b[0;34m:\u001b[0m\u001b[0;34m\u001b[0m\u001b[0;34m\u001b[0m\u001b[0m\n\u001b[0;32m--> 164\u001b[0;31m             \u001b[0mself\u001b[0m\u001b[0;34m.\u001b[0m\u001b[0mraise_exception\u001b[0m\u001b[0;34m(\u001b[0m\u001b[0mruntime\u001b[0m\u001b[0;34m)\u001b[0m\u001b[0;34m\u001b[0m\u001b[0;34m\u001b[0m\u001b[0m\n\u001b[0m\u001b[1;32m    165\u001b[0m         \u001b[0;32mreturn\u001b[0m \u001b[0mruntime\u001b[0m\u001b[0;34m\u001b[0m\u001b[0;34m\u001b[0m\u001b[0m\n\u001b[1;32m    166\u001b[0m \u001b[0;34m\u001b[0m\u001b[0m\n",
      "\u001b[0;32m~/.local/lib/python3.7/site-packages/nipype/interfaces/base/core.py\u001b[0m in \u001b[0;36mraise_exception\u001b[0;34m(self, runtime)\u001b[0m\n\u001b[1;32m    688\u001b[0m                 \u001b[0;34m\"Command:\\n{cmdline}\\nStandard output:\\n{stdout}\\n\"\u001b[0m\u001b[0;34m\u001b[0m\u001b[0;34m\u001b[0m\u001b[0m\n\u001b[1;32m    689\u001b[0m                 \u001b[0;34m\"Standard error:\\n{stderr}\\nReturn code: {returncode}\"\u001b[0m\u001b[0;34m\u001b[0m\u001b[0;34m\u001b[0m\u001b[0m\n\u001b[0;32m--> 690\u001b[0;31m             ).format(**runtime.dictcopy())\n\u001b[0m\u001b[1;32m    691\u001b[0m         )\n\u001b[1;32m    692\u001b[0m \u001b[0;34m\u001b[0m\u001b[0m\n",
      "\u001b[0;31mRuntimeError\u001b[0m: Command:\nmatlab -nodesktop -nosplash -singleCompThread -r \"addpath('/home/romain/SVN/python/romain');pyscript_cat12segment;exit\"\nStandard output:\n\n                            < M A T L A B (R) >\n                  Copyright 1984-2014 The MathWorks, Inc.\n                    R2014a (8.3.0.532) 64-bit (glnxa64)\n                             February 11, 2014\n\n \nTo get started, type one of these: helpwin, helpdesk, or demo.\nFor product information, visit www.mathworks.com.\n \nExecuting pyscript_cat12segment at 25-Nov-2022 17:36:24:\nExecuting pyscript_cat12segment at 25-Nov-2022 17:36:24:\n----------------------------------------------------------------------------------------------------\nMATLAB Version: 8.3.0.532 (R2014a)\nMATLAB License Number: 405329\nOperating System: Linux 5.15.0-53-generic #59~20.04.1-Ubuntu SMP Thu Oct 20 15:10:22 UTC 2022 x86_64\nJava Version: Java 1.7.0_11-b21 with Oracle Corporation Java HotSpot(TM) 64-Bit Server VM mixed mode\n----------------------------------------------------------------------------------------------------\nMATLAB                                                Version 8.3        (R2014a)\nSimulink                                              Version 8.3        (R2014a)\nAerospace Blockset                                    Version 3.13       (R2014a)\nAerospace Toolbox                                     Version 2.13       (R2014a)\nBioinformatics Toolbox                                Version 4.4        (R2014a)\nCommunications System Toolbox                         Version 5.6        (R2014a)\nComputer Vision System Toolbox                        Version 6.0        (R2014a)\nControl System Toolbox                                Version 9.7        (R2014a)\nCurve Fitting Toolbox                                 Version 3.4.1      (R2014a)\nDO Qualification Kit                                  Version 2.3        (R2014a)\nDSP System Toolbox                                    Version 8.6        (R2014a)\nDatabase Toolbox                                      Version 5.1        (R2014a)\nDatafeed Toolbox                                      Version 4.7        (R2014a)\nEconometrics Toolbox                                  Version 3.0        (R2014a)\nEmbedded Coder                                        Version 6.6        (R2014a)\nFilter Design HDL Coder                               Version 2.9.5      (R2014a)\nFinancial Instruments Toolbox                         Version 1.3        (R2014a)\nFinancial Toolbox                                     Version 5.3        (R2014a)\nFixed-Point Designer                                  Version 4.2        (R2014a)\nFuzzy Logic Toolbox                                   Version 2.2.19     (R2014a)\nGlobal Optimization Toolbox                           Version 3.2.5      (R2014a)\nHDL Coder                                             Version 3.4        (R2014a)\nHDL Verifier                                          Version 4.4        (R2014a)\nIEC Certification Kit                                 Version 3.3        (R2014a)\nImage Acquisition Toolbox                             Version 4.7        (R2014a)\nImage Processing Toolbox                              Version 9.0        (R2014a)\nInstrument Control Toolbox                            Version 3.5        (R2014a)\nLTE System Toolbox                                    Version 1.1        (R2014a)\nMATLAB Builder JA                                     Version 2.3.1      (R2014a)\nMATLAB Coder                                          Version 2.6        (R2014a)\nMATLAB Compiler                                       Version 5.1        (R2014a)\nMATLAB Report Generator                               Version 3.16       (R2014a)\nMapping Toolbox                                       Version 4.0.1      (R2014a)\nModel Predictive Control Toolbox                      Version 4.2        (R2014a)\nNeural Network Toolbox                                Version 8.2        (R2014a)\nOptimization Toolbox                                  Version 7.0        (R2014a)\nParallel Computing Toolbox                            Version 6.4        (R2014a)\nPartial Differential Equation Toolbox                 Version 1.4        (R2014a)\nPhased Array System Toolbox                           Version 2.2        (R2014a)\nPolyspace Bug Finder                                  Version 1.1        (R2014a)\nPolyspace Code Prover                                 Version 9.1        (R2014a)\nRF Toolbox                                            Version 2.14       (R2014a)\nRobust Control Toolbox                                Version 5.1        (R2014a)\nSignal Processing Toolbox                             Version 6.21       (R2014a)\nSimBiology                                            Version 5.0        (R2014a)\nSimDriveline                                          Version 2.6        (R2014a)\nSimElectronics                                        Version 2.5        (R2014a)\nSimEvents                                             Version 4.3.2      (R2014a)\nSimHydraulics                                         Version 1.14       (R2014a)\nSimMechanics                                          Version 4.4        (R2014a)\nSimPowerSystems                                       Version 6.1        (R2014a)\nSimRF                                                 Version 4.2        (R2014a)\nSimscape                                              Version 3.11       (R2014a)\nSimulink 3D Animation                                 Version 7.1        (R2014a)\nSimulink Code Inspector                               Version 2.1        (R2014a)\nSimulink Coder                                        Version 8.6        (R2014a)\nSimulink Control Design                               Version 4.0        (R2014a)\nSimulink Design Optimization                          Version 2.5        (R2014a)\nSimulink Design Verifier                              Version 2.6        (R2014a)\nSimulink Report Generator                             Version 3.16       (R2014a)\nSimulink Verification and Validation                  Version 3.7        (R2014a)\nStateflow                                             Version 8.3        (R2014a)\nStatistics Toolbox                                    Version 9.0        (R2014a)\nSymbolic Math Toolbox                                 Version 6.0        (R2014a)\nSystem Identification Toolbox                         Version 9.0        (R2014a)\nSystemTest                                            Version 2.6.7      (R2014a)\nWavelet Toolbox                                       Version 4.13       (R2014a)\nStandard error:\nMATLAB code threw an exception:\nSPM not in matlab path\nFile:/home/romain/SVN/python/romain/pyscript_cat12segment.m\nName:pyscript_cat12segment\nLine:7\nReturn code: 0"
     ]
    }
   ],
   "source": [
    "from nipype.interfaces import cat12\n",
    "path_mr = join(PATH_DIR,'data_NIFTI','1.3.51.0.1.1.10.49.10.222.5982019.5982373','T1.nii')\n",
    "cat = cat12.CAT12Segment(in_files=path_mr)\n",
    "cat.run() "
   ]
  },
  {
   "cell_type": "markdown",
   "metadata": {},
   "source": [
    "## Conversion des RTStruct"
   ]
  },
  {
   "cell_type": "code",
   "execution_count": null,
   "metadata": {},
   "outputs": [],
   "source": [
    "import platipy"
   ]
  },
  {
   "cell_type": "code",
   "execution_count": null,
   "metadata": {},
   "outputs": [],
   "source": [
    "\n",
    "# Load the RTStruct file\n",
    "rtstruct = platipy.io.load_rtstruct(path='/NAS/dumbo/protocoles/HAMSI/data/RTStruct/188/COL1/T2_FLAIR/RS1.2.752.243.1.1.20221215124009046.1800.81216.dcm')\n",
    "\n",
    "# Convert the RTStruct to NIFTI\n",
    "nifti = rtstruct.to_nifti()\n",
    "\n",
    "# Save the NIFTI file\n",
    "nifti.save('/NAS/dumbo/protocoles/HAMSI/data/RTStruct_nifti/RT_188.nii.gz')"
   ]
  }
 ],
 "metadata": {
  "kernelspec": {
   "display_name": "Python 3 (ipykernel)",
   "language": "python",
   "name": "python3"
  },
  "language_info": {
   "codemirror_mode": {
    "name": "ipython",
    "version": 3
   },
   "file_extension": ".py",
   "mimetype": "text/x-python",
   "name": "python",
   "nbconvert_exporter": "python",
   "pygments_lexer": "ipython3",
   "version": "3.11.5"
  }
 },
 "nbformat": 4,
 "nbformat_minor": 4
}
