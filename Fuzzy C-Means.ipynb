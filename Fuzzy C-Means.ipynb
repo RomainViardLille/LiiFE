{
 "cells": [
  {
   "cell_type": "code",
   "execution_count": 2,
   "id": "229ad86e",
   "metadata": {},
   "outputs": [],
   "source": [
    "import nibabel as nib\n",
    "import numpy as np\n",
    "from scipy.ndimage import zoom\n",
    "import matplotlib.pyplot as plt\n",
    "from sklearn.decomposition import PCA\n",
    "from sklearn.cluster import KMeans\n",
    "from scipy.stats import pearsonr"
   ]
  },
  {
   "cell_type": "code",
   "execution_count": 3,
   "id": "cf07d5d6",
   "metadata": {},
   "outputs": [
    {
     "name": "stdout",
     "output_type": "stream",
     "text": [
      "Collecting package metadata (current_repodata.json): done\n",
      "Solving environment: done\n",
      "\n",
      "\n",
      "==> WARNING: A newer version of conda exists. <==\n",
      "  current version: 4.12.0\n",
      "  latest version: 23.7.4\n",
      "\n",
      "Please update conda by running\n",
      "\n",
      "    $ conda update -n base -c defaults conda\n",
      "\n",
      "\n",
      "\n",
      "## Package Plan ##\n",
      "\n",
      "  environment location: /home/global/anaconda37\n",
      "\n",
      "  added / updated specs:\n",
      "    - python\n",
      "\n",
      "\n",
      "The following packages will be UPDATED:\n",
      "\n",
      "  openssl                                 1.1.1v-h7f8727e_0 --> 1.1.1w-h7f8727e_0\n",
      "\n",
      "\n",
      "Preparing transaction: done\n",
      "Verifying transaction: failed\n",
      "\n",
      "EnvironmentNotWritableError: The current user does not have write permissions to the target environment.\n",
      "  environment location: /home/global/anaconda37\n",
      "  uid: 2054\n",
      "  gid: 500\n",
      "\n",
      "\n",
      "\n",
      "Note: you may need to restart the kernel to use updated packages.\n"
     ]
    }
   ],
   "source": [
    "conda update python"
   ]
  },
  {
   "cell_type": "code",
   "execution_count": 4,
   "id": "ec54d5d6",
   "metadata": {},
   "outputs": [
    {
     "name": "stdout",
     "output_type": "stream",
     "text": [
      "Collecting package metadata (current_repodata.json): done\n",
      "Solving environment: done\n",
      "\n",
      "\n",
      "==> WARNING: A newer version of conda exists. <==\n",
      "  current version: 4.12.0\n",
      "  latest version: 23.7.4\n",
      "\n",
      "Please update conda by running\n",
      "\n",
      "    $ conda update -n base -c defaults conda\n",
      "\n",
      "\n",
      "\n",
      "## Package Plan ##\n",
      "\n",
      "  environment location: /home/global/anaconda37\n",
      "\n",
      "  added / updated specs:\n",
      "    - conda\n",
      "\n",
      "\n",
      "The following packages will be UPDATED:\n",
      "\n",
      "  openssl                                 1.1.1v-h7f8727e_0 --> 1.1.1w-h7f8727e_0\n",
      "\n",
      "\n",
      "Preparing transaction: done\n",
      "Verifying transaction: failed\n",
      "\n",
      "EnvironmentNotWritableError: The current user does not have write permissions to the target environment.\n",
      "  environment location: /home/global/anaconda37\n",
      "  uid: 2054\n",
      "  gid: 500\n",
      "\n",
      "\n",
      "\n",
      "Note: you may need to restart the kernel to use updated packages.\n"
     ]
    }
   ],
   "source": [
    "conda update -n base -c defaults conda"
   ]
  },
  {
   "cell_type": "code",
   "execution_count": 5,
   "id": "4556f139",
   "metadata": {},
   "outputs": [
    {
     "data": {
      "text/plain": [
       "'3.7.6 | packaged by conda-forge | (default, Jan  7 2020, 22:33:48) \\n[GCC 7.3.0]'"
      ]
     },
     "execution_count": 5,
     "metadata": {},
     "output_type": "execute_result"
    }
   ],
   "source": [
    "import sys\n",
    "sys.version"
   ]
  },
  {
   "cell_type": "code",
   "execution_count": 1,
   "id": "46404784",
   "metadata": {},
   "outputs": [
    {
     "ename": "ModuleNotFoundError",
     "evalue": "No module named 'intensity_normalization'",
     "output_type": "error",
     "traceback": [
      "\u001b[0;31m---------------------------------------------------------------------------\u001b[0m",
      "\u001b[0;31mModuleNotFoundError\u001b[0m                       Traceback (most recent call last)",
      "\u001b[0;32m/tmp/ipykernel_60734/2178372969.py\u001b[0m in \u001b[0;36m<module>\u001b[0;34m\u001b[0m\n\u001b[0;32m----> 1\u001b[0;31m \u001b[0;32mimport\u001b[0m \u001b[0mintensity_normalization\u001b[0m\u001b[0;34m\u001b[0m\u001b[0;34m\u001b[0m\u001b[0m\n\u001b[0m",
      "\u001b[0;31mModuleNotFoundError\u001b[0m: No module named 'intensity_normalization'"
     ]
    }
   ],
   "source": [
    "import intensity_normalization"
   ]
  },
  {
   "cell_type": "code",
   "execution_count": 8,
   "id": "996a6238",
   "metadata": {},
   "outputs": [
    {
     "name": "stdout",
     "output_type": "stream",
     "text": [
      "Collecting package metadata (current_repodata.json): done\n",
      "Solving environment: failed with initial frozen solve. Retrying with flexible solve.\n",
      "Collecting package metadata (repodata.json): done\n",
      "Solving environment: failed with initial frozen solve. Retrying with flexible solve.\n",
      "\n",
      "PackagesNotFoundError: The following packages are not available from current channels:\n",
      "\n",
      "  - intensity-normalization\n",
      "\n",
      "Current channels:\n",
      "\n",
      "  - https://repo.anaconda.com/pkgs/main/linux-64\n",
      "  - https://repo.anaconda.com/pkgs/main/noarch\n",
      "  - https://repo.anaconda.com/pkgs/r/linux-64\n",
      "  - https://repo.anaconda.com/pkgs/r/noarch\n",
      "\n",
      "To search for alternate channels that may provide the conda package you're\n",
      "looking for, navigate to\n",
      "\n",
      "    https://anaconda.org\n",
      "\n",
      "and use the search bar at the top of the page.\n",
      "\n",
      "\n",
      "\n",
      "Note: you may need to restart the kernel to use updated packages.\n"
     ]
    }
   ],
   "source": [
    "conda install intensity-normalization"
   ]
  },
  {
   "cell_type": "code",
   "execution_count": 42,
   "id": "8f751094",
   "metadata": {},
   "outputs": [
    {
     "ename": "ModuleNotFoundError",
     "evalue": "No module named 'intensity_normalization'",
     "output_type": "error",
     "traceback": [
      "\u001b[0;31m---------------------------------------------------------------------------\u001b[0m",
      "\u001b[0;31mModuleNotFoundError\u001b[0m                       Traceback (most recent call last)",
      "\u001b[0;32m/tmp/ipykernel_157229/468645726.py\u001b[0m in \u001b[0;36m<module>\u001b[0;34m\u001b[0m\n\u001b[0;32m----> 1\u001b[0;31m \u001b[0;32mfrom\u001b[0m \u001b[0mintensity_normalization\u001b[0m\u001b[0;34m.\u001b[0m\u001b[0mnormalize\u001b[0m\u001b[0;34m.\u001b[0m\u001b[0mfcm\u001b[0m \u001b[0;32mimport\u001b[0m \u001b[0mFCMNormalize\u001b[0m\u001b[0;34m\u001b[0m\u001b[0;34m\u001b[0m\u001b[0m\n\u001b[0m",
      "\u001b[0;31mModuleNotFoundError\u001b[0m: No module named 'intensity_normalization'"
     ]
    }
   ],
   "source": [
    "from intensity_normalization.normalize.fcm import FCMNormalize"
   ]
  },
  {
   "cell_type": "code",
   "execution_count": 39,
   "id": "8e44f77b",
   "metadata": {},
   "outputs": [
    {
     "name": "stdout",
     "output_type": "stream",
     "text": [
      "Defaulting to user installation because normal site-packages is not writeable\n",
      "\u001b[31mERROR: Ignored the following versions that require a different python version: 2.2.0 Requires-Python !=3.10.*,!=3.11.*,>=3.9; 2.2.1 Requires-Python !=3.10.*,!=3.11.*,>=3.9; 2.2.2 Requires-Python !=3.10.*,!=3.11.*,>=3.9; 2.2.3 Requires-Python !=3.10.*,!=3.11.*,>=3.9; 2.2.4 Requires-Python >=3.9\u001b[0m\u001b[31m\n",
      "\u001b[0m\u001b[31mERROR: Could not find a version that satisfies the requirement intensity-normalization (from versions: 1.4.4, 1.4.5, 2.0.0, 2.0.1, 2.0.2, 2.0.3, 2.1.0, 2.1.1, 2.1.2, 2.1.3, 2.1.4)\u001b[0m\u001b[31m\n",
      "\u001b[0m\u001b[31mERROR: No matching distribution found for intensity-normalization\u001b[0m\u001b[31m\n",
      "\u001b[0m"
     ]
    }
   ],
   "source": [
    "!pip3 install intensity-normalization"
   ]
  },
  {
   "cell_type": "code",
   "execution_count": 1,
   "id": "7d565892",
   "metadata": {},
   "outputs": [
    {
     "name": "stdout",
     "output_type": "stream",
     "text": [
      "Defaulting to user installation because normal site-packages is not writeable\n",
      "\u001b[31mERROR: Ignored the following versions that require a different python version: 2.2.0 Requires-Python !=3.10.*,!=3.11.*,>=3.9; 2.2.1 Requires-Python !=3.10.*,!=3.11.*,>=3.9; 2.2.2 Requires-Python !=3.10.*,!=3.11.*,>=3.9; 2.2.3 Requires-Python !=3.10.*,!=3.11.*,>=3.9; 2.2.4 Requires-Python >=3.9\u001b[0m\u001b[31m\n",
      "\u001b[0m\u001b[31mERROR: Could not find a version that satisfies the requirement intensity-normalization (from versions: 1.4.4, 1.4.5, 2.0.0, 2.0.1, 2.0.2, 2.0.3, 2.1.0, 2.1.1, 2.1.2, 2.1.3, 2.1.4)\u001b[0m\u001b[31m\n",
      "\u001b[0m\u001b[31mERROR: No matching distribution found for intensity-normalization\u001b[0m\u001b[31m\n",
      "\u001b[0mNote: you may need to restart the kernel to use updated packages.\n"
     ]
    }
   ],
   "source": [
    "pip install intensity-normalization"
   ]
  },
  {
   "cell_type": "code",
   "execution_count": 4,
   "id": "1c5e057b",
   "metadata": {},
   "outputs": [
    {
     "ename": "NameError",
     "evalue": "name 'python' is not defined",
     "output_type": "error",
     "traceback": [
      "\u001b[0;31m---------------------------------------------------------------------------\u001b[0m",
      "\u001b[0;31mNameError\u001b[0m                                 Traceback (most recent call last)",
      "\u001b[0;32m/tmp/ipykernel_157229/1576056767.py\u001b[0m in \u001b[0;36m<module>\u001b[0;34m\u001b[0m\n\u001b[0;32m----> 1\u001b[0;31m \u001b[0mpython\u001b[0m \u001b[0;34m-\u001b[0m\u001b[0;34m-\u001b[0m\u001b[0mversion\u001b[0m\u001b[0;34m\u001b[0m\u001b[0;34m\u001b[0m\u001b[0m\n\u001b[0m",
      "\u001b[0;31mNameError\u001b[0m: name 'python' is not defined"
     ]
    }
   ],
   "source": [
    "python --version"
   ]
  },
  {
   "cell_type": "code",
   "execution_count": 5,
   "id": "d147a26b",
   "metadata": {},
   "outputs": [
    {
     "ename": "SyntaxError",
     "evalue": "invalid syntax (629497118.py, line 1)",
     "output_type": "error",
     "traceback": [
      "\u001b[0;36m  File \u001b[0;32m\"/tmp/ipykernel_157229/629497118.py\"\u001b[0;36m, line \u001b[0;32m1\u001b[0m\n\u001b[0;31m    python -m pip install --upgrade pip\u001b[0m\n\u001b[0m                ^\u001b[0m\n\u001b[0;31mSyntaxError\u001b[0m\u001b[0;31m:\u001b[0m invalid syntax\n"
     ]
    }
   ],
   "source": [
    "python -m pip install --upgrade pip"
   ]
  },
  {
   "cell_type": "code",
   "execution_count": 10,
   "id": "4fd2578d",
   "metadata": {},
   "outputs": [],
   "source": [
    "image_brain1=\"/NAS/dumbo/protocoles/HAMSI/OurData4Mispel_T1Gado/Brains/CHU/Pat8_T1Gado_CHU_brain.nii.gz\"\n",
    "image_brain2=\"/NAS/dumbo/protocoles/HAMSI/OurData4Mispel_T1Gado/Brains_Registered/COL_registred_on_CHU/Pat8_COL_registered.nii.gz\"\n",
    "image_mask1= \"/NAS/dumbo/protocoles/HAMSI/OurData4Mispel_T1Gado/Before_prettt_mask/CHU/Pat8_T1Gado_CHU_bet_mask.nii.gz\"\n",
    "image_mask2= \"/NAS/dumbo/protocoles/HAMSI/OurData4Mispel_T1Gado/Masks_Registered/COL_mask_registred/Pat8_COL_mask_registered.nii.gz\""
   ]
  },
  {
   "cell_type": "code",
   "execution_count": 21,
   "id": "b3a23a03",
   "metadata": {},
   "outputs": [],
   "source": [
    "def bland_altman_plot_final(data1, data2, maskfile):\n",
    "    \n",
    "    downsample_factor=25\n",
    "    \n",
    "    image1 = nib.load(data1).get_fdata()[::downsample_factor,::downsample_factor,::downsample_factor]\n",
    "    image2 = nib.load(data2).get_fdata()[::downsample_factor,::downsample_factor,::downsample_factor]\n",
    "    mask = nib.load(maskfile).get_fdata()[::downsample_factor,::downsample_factor,::downsample_factor]\n",
    "    \n",
    "    mean = (image1 + image2) / 2\n",
    "    diff = image1 - image2\n",
    "\n",
    "    mean_diff = np.mean(diff[mask>0])\n",
    "    std_diff = np.std(diff[mask>0], ddof=1)\n",
    "    lower_limit = mean_diff - 1.96 * std_diff\n",
    "    upper_limit = mean_diff + 1.96 * std_diff\n",
    "\n",
    "    plt.figure(figsize=(8, 6))\n",
    "    plt.scatter(mean[mask>0], diff[mask>0], c='b', alpha=0.5, s=30)\n",
    "    plt.axhline(mean_diff, color='red', linestyle='--', linewidth=2)\n",
    "    plt.axhline(lower_limit, color='green', linestyle='--', linewidth=1)\n",
    "    plt.axhline(upper_limit, color='green', linestyle='--', linewidth=1)\n",
    "    plt.xlabel('Moyenne des deux mesures')\n",
    "    plt.ylabel('Différence entre les mesures')\n",
    "    plt.title('Bland-Altman Plot')\n",
    "    plt.grid(True)\n",
    "\n",
    "    plt.show()\n",
    "    \n",
    "    points_within_limits = np.sum((diff[mask>0] >= lower_limit) & (diff[mask>0] <= upper_limit))\n",
    "    all_points = np.sum(mask>0)\n",
    "\n",
    "    return print(f\"Number of points within Bland-Altman limits: {points_within_limits} / {all_points}\")"
   ]
  },
  {
   "cell_type": "code",
   "execution_count": 23,
   "id": "1287ec07",
   "metadata": {},
   "outputs": [],
   "source": [
    "def pearson_correlation(data1, data2, maskfile, downsample_factor=25):\n",
    "\n",
    "    image1 = nib.load(data1).get_fdata()[::downsample_factor, ::downsample_factor, ::downsample_factor]\n",
    "    image2 = nib.load(data2).get_fdata()[::downsample_factor, ::downsample_factor, ::downsample_factor]\n",
    "    mask = nib.load(maskfile).get_fdata()[::downsample_factor, ::downsample_factor, ::downsample_factor]\n",
    "\n",
    "    image1_mask = image1[mask > 0]\n",
    "    image2_mask = image2[mask > 0]\n",
    "\n",
    "    correlation_coefficient, _ = pearsonr(image1_mask, image2_mask)\n",
    "\n",
    "    return correlation_coefficient"
   ]
  },
  {
   "cell_type": "code",
   "execution_count": 17,
   "id": "2392c559",
   "metadata": {},
   "outputs": [],
   "source": [
    "def fcm_tissue_based_normalization(brain_image_path, mask_image_path, num_clusters=3):\n",
    "    brain_image = nib.load(brain_image_path).get_fdata()\n",
    "    mask_image = nib.load(mask_image_path).get_fdata()\n",
    "\n",
    "    brain_image_masked = brain_image * mask_image\n",
    "\n",
    "    # Reshape the masked brain image into a 1D array\n",
    "    brain_image_1d = brain_image_masked[mask_image > 0].reshape(-1, 1)\n",
    "\n",
    "    # Apply PCA to reduce the dimensionality\n",
    "    pca = PCA(n_components=1)\n",
    "    pca_result = pca.fit_transform(brain_image_1d)\n",
    "\n",
    "    # Apply FCM clustering to the PCA result\n",
    "    kmeans = KMeans(n_clusters=num_clusters, random_state=0)\n",
    "    kmeans.fit(pca_result)\n",
    "    cluster_centers = kmeans.cluster_centers_\n",
    "\n",
    "    # Normalize the brain image based on cluster centers\n",
    "    normalized_image = np.zeros_like(brain_image)\n",
    "    for i in range(num_clusters):\n",
    "        cluster_mask = kmeans.labels_ == i\n",
    "        cluster_mean = np.mean(brain_image_1d[cluster_mask])  # Calculate mean within cluster\n",
    "        normalized_image[mask_image > 0] += cluster_mask * (brain_image[mask_image > 0] - cluster_mean)\n",
    "\n",
    "    # Create a new NIfTI image with the normalized values\n",
    "    normalized_image_nifti = nib.Nifti1Image(normalized_image, affine=nib.load(brain_image_path).affine)\n",
    "\n",
    "    return normalized_image_nifti\n"
   ]
  },
  {
   "cell_type": "code",
   "execution_count": 33,
   "id": "746fe317",
   "metadata": {},
   "outputs": [],
   "source": [
    "normalized_image1 = fcm_tissue_based_normalization(image_brain1, image_mask1)\n",
    "normalized_image2 = fcm_tissue_based_normalization(image_brain2, image_mask2)"
   ]
  },
  {
   "cell_type": "code",
   "execution_count": 34,
   "id": "ffe14285",
   "metadata": {},
   "outputs": [],
   "source": [
    "nib.save(normalized_image1, \"/NAS/dumbo/protocoles/HAMSI/OurData4Mispel_T1Gado/Trash/fcm_normalized_image_8.nii.gz\")\n",
    "nib.save(normalized_image2, \"/NAS/dumbo/protocoles/HAMSI/OurData4Mispel_T1Gado/Trash/fcm_normalized_image2_8.nii.gz\")"
   ]
  },
  {
   "cell_type": "code",
   "execution_count": 35,
   "id": "30f315b5",
   "metadata": {},
   "outputs": [],
   "source": [
    "normalized_image1 = \"/NAS/dumbo/protocoles/HAMSI/OurData4Mispel_T1Gado/Trash/fcm_normalized_image_8.nii.gz\"\n",
    "normalized_image2 = \"/NAS/dumbo/protocoles/HAMSI/OurData4Mispel_T1Gado/Trash/fcm_normalized_image2_8.nii.gz\""
   ]
  },
  {
   "cell_type": "code",
   "execution_count": 36,
   "id": "dacd748f",
   "metadata": {},
   "outputs": [
    {
     "data": {
      "image/png": "[encoded data removed]",
      "text/plain": [
       "<Figure size 800x600 with 1 Axes>"
      ]
     },
     "metadata": {},
     "output_type": "display_data"
    },
    {
     "name": "stdout",
     "output_type": "stream",
     "text": [
      "Number of points within Bland-Altman limits: 631 / 660\n"
     ]
    }
   ],
   "source": [
    "bland_altman_plot_final(normalized_image1, normalized_image2, image_mask1)"
   ]
  },
  {
   "cell_type": "code",
   "execution_count": 37,
   "id": "c7c6d09b",
   "metadata": {},
   "outputs": [
    {
     "name": "stdout",
     "output_type": "stream",
     "text": [
      "Pearson Correlation Coefficient : 0.05214496999842029\n"
     ]
    }
   ],
   "source": [
    "print(\"Pearson Correlation Coefficient :\", pearson_correlation(normalized_image1, normalized_image2, image_mask1))"
   ]
  },
  {
   "cell_type": "code",
   "execution_count": null,
   "id": "c62461b2",
   "metadata": {},
   "outputs": [],
   "source": []
  }
 ],
 "metadata": {
  "kernelspec": {
   "display_name": "Python 3 (ipykernel)",
   "language": "python",
   "name": "python3"
  },
  "language_info": {
   "codemirror_mode": {
    "name": "ipython",
    "version": 3
   },
   "file_extension": ".py",
   "mimetype": "text/x-python",
   "name": "python",
   "nbconvert_exporter": "python",
   "pygments_lexer": "ipython3",
   "version": "3.7.6"
  }
 },
 "nbformat": 4,
 "nbformat_minor": 5
}
