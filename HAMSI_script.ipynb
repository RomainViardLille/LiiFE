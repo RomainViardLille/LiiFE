{
 "cells": [
  {
   "cell_type": "code",
   "execution_count": 1,
   "metadata": {
    "tags": []
   },
   "outputs": [
    {
     "name": "stdout",
     "output_type": "stream",
     "text": [
      "Defaulting to user installation because normal site-packages is not writeable\n",
      "Requirement already satisfied: pydicom in /mnt/homes_hdd/neuroa/.local/lib/python3.7/site-packages (2.3.1)\n",
      "Note: you may need to restart the kernel to use updated packages.\n"
     ]
    }
   ],
   "source": [
    "pip install pydicom"
   ]
  },
  {
   "cell_type": "markdown",
   "metadata": {},
   "source": [
    "# Ici les DATAFRAMES (fichier csv)"
   ]
  },
  {
   "cell_type": "code",
   "execution_count": 3,
   "metadata": {},
   "outputs": [],
   "source": [
    "import os, sys\n",
    "import pydicom as dcm\n",
    "import pandas as pd\n",
    "import matplotlib.pyplot as plt #graphiques\n",
    "from os import listdir\n",
    "from os.path import isfile, join\n",
    "#onlyfiles = [f for f in listdir(mypath) if isfile(join(mypath, f))]\n",
    "import glob\n",
    "#len(glob.glob(join(mypath,\"*\",\"*\",\"MR*\"),recursive=True))"
   ]
  },
  {
   "cell_type": "code",
   "execution_count": 4,
   "metadata": {},
   "outputs": [],
   "source": [
    "PATH_DIR = join('/NAS','dumbo','protocoles','HAMSI')"
   ]
  },
  {
   "cell_type": "code",
   "execution_count": 5,
   "metadata": {},
   "outputs": [],
   "source": [
    "ma_table = pd.read_csv(join(PATH_DIR,\"HAMSI_full_info_new.csv\"),sep=';')"
   ]
  },
  {
   "cell_type": "code",
   "execution_count": 6,
   "metadata": {},
   "outputs": [],
   "source": [
    "mypath = join('/NAS','dumbo','protocoles','HAMSI','data')"
   ]
  },
  {
   "cell_type": "code",
   "execution_count": 7,
   "metadata": {
    "tags": []
   },
   "outputs": [
    {
     "name": "stdout",
     "output_type": "stream",
     "text": [
      "    NBREDCAP    IPP_CHU                                       UID1 UID2\n",
      "0          1  102319419  1.3.51.0.1.1.10.49.10.222.5838452.5838738  NaN\n",
      "1          2  102668125                                        NaN  NaN\n",
      "2          3  100111923                                        NaN  NaN\n",
      "3          4     673896  1.3.51.0.1.1.10.49.10.222.5898333.5898631  NaN\n",
      "4          5  102932266  1.3.51.0.1.1.10.49.10.222.5929570.5929882  NaN\n",
      "..       ...        ...                                        ...  ...\n",
      "184      185  500153388  1.3.51.0.1.1.10.49.10.222.7167748.7168806  NaN\n",
      "185      186  103169836  1.3.51.0.1.1.10.49.10.222.7317579.7318700  NaN\n",
      "186      187     717806  1.3.51.0.1.1.10.49.10.222.7330786.7331919  NaN\n",
      "187      188  102962624  1.3.51.0.1.1.10.49.10.222.7342136.7343281  NaN\n",
      "188      189  500178568  1.3.51.0.1.1.10.49.10.222.7400527.7401684  NaN\n",
      "\n",
      "[189 rows x 4 columns]\n"
     ]
    }
   ],
   "source": [
    "#Permer de créer le LUT NbPat <-> IPP CHU <-> UID\n",
    "\n",
    "#cols=['PatientID','StudyInstanceUID']\n",
    "#pd.drop_duplicates(ma_table[cols])\n",
    "\n",
    "#uniqueValues = (ma_table['PatientID'].append(ma_table['StudyInstanceUID'])).unique()\n",
    "#print(uniqueValues)\n",
    "\n",
    "LUT = pd.read_csv(join(PATH_DIR,\"LUT_HAMSI.csv\"),sep=',',dtype=str)\n",
    "for ind in LUT.index:    \n",
    "    IPPCHU=str(LUT.loc[ind,'IPP_CHU'])\n",
    "    STRQUERY='PatientID=='+IPPCHU\n",
    "    #print(IPPCHU,pd.unique(ma_table.query(STRQUERY)['StudyInstanceUID']))\n",
    "    if pd.unique(ma_table.query(STRQUERY)['StudyInstanceUID']).shape[0]>0 :\n",
    "        LUT.loc[ind,'UID1']=pd.unique(ma_table.query(STRQUERY)['StudyInstanceUID'])[0]\n",
    "    if pd.unique(ma_table.query(STRQUERY)['StudyInstanceUID']).shape[0]>1 :\n",
    "        LUT.loc[ind,'UID2']=pd.unique(ma_table.query(STRQUERY)['StudyInstanceUID'])[1]\n",
    "print(LUT)   \n",
    "LUT.to_csv(join(PATH_DIR,\"LUT_HAMSI_complet.csv\"),sep=',') "
   ]
  },
  {
   "cell_type": "code",
   "execution_count": 8,
   "metadata": {
    "tags": []
   },
   "outputs": [
    {
     "name": "stdout",
     "output_type": "stream",
     "text": [
      "/NAS/dumbo/protocoles/HAMSI/OurData4Mispel_T1Gado/CHU_GE/Pat101.nii.gz\n",
      "/NAS/dumbo/protocoles/HAMSI/OurData4Mispel_T1Gado/CHU_GE/Pat102.nii.gz\n",
      "/NAS/dumbo/protocoles/HAMSI/OurData4Mispel_T1Gado/CHU_GE/Pat103.nii.gz\n",
      "/NAS/dumbo/protocoles/HAMSI/OurData4Mispel_T1Gado/CHU_GE/Pat10.nii.gz\n",
      "/NAS/dumbo/protocoles/HAMSI/OurData4Mispel_T1Gado/CHU_GE/Pat112.nii.gz\n",
      "/NAS/dumbo/protocoles/HAMSI/OurData4Mispel_T1Gado/CHU_GE/Pat113.nii.gz\n",
      "/NAS/dumbo/protocoles/HAMSI/OurData4Mispel_T1Gado/CHU_GE/Pat114.nii.gz\n",
      "/NAS/dumbo/protocoles/HAMSI/OurData4Mispel_T1Gado/CHU_GE/Pat116.nii.gz\n",
      "/NAS/dumbo/protocoles/HAMSI/OurData4Mispel_T1Gado/CHU_GE/Pat117.nii.gz\n",
      "/NAS/dumbo/protocoles/HAMSI/OurData4Mispel_T1Gado/CHU_GE/Pat11.nii.gz\n",
      "/NAS/dumbo/protocoles/HAMSI/OurData4Mispel_T1Gado/CHU_GE/Pat124.nii.gz\n",
      "/NAS/dumbo/protocoles/HAMSI/OurData4Mispel_T1Gado/CHU_GE/Pat126.nii.gz\n",
      "/NAS/dumbo/protocoles/HAMSI/OurData4Mispel_T1Gado/CHU_GE/Pat128.nii.gz\n",
      "/NAS/dumbo/protocoles/HAMSI/OurData4Mispel_T1Gado/CHU_GE/Pat129.nii.gz\n",
      "/NAS/dumbo/protocoles/HAMSI/OurData4Mispel_T1Gado/CHU_GE/Pat130.nii.gz\n",
      "/NAS/dumbo/protocoles/HAMSI/OurData4Mispel_T1Gado/CHU_GE/Pat131.nii.gz\n",
      "/NAS/dumbo/protocoles/HAMSI/OurData4Mispel_T1Gado/CHU_GE/Pat133.nii.gz\n",
      "/NAS/dumbo/protocoles/HAMSI/OurData4Mispel_T1Gado/CHU_GE/Pat135.nii.gz\n",
      "/NAS/dumbo/protocoles/HAMSI/OurData4Mispel_T1Gado/CHU_GE/Pat142.nii.gz\n",
      "/NAS/dumbo/protocoles/HAMSI/OurData4Mispel_T1Gado/CHU_GE/Pat143.nii.gz\n",
      "/NAS/dumbo/protocoles/HAMSI/OurData4Mispel_T1Gado/CHU_GE/Pat144.nii.gz\n",
      "/NAS/dumbo/protocoles/HAMSI/OurData4Mispel_T1Gado/CHU_GE/Pat147.nii.gz\n",
      "/NAS/dumbo/protocoles/HAMSI/OurData4Mispel_T1Gado/CHU_GE/Pat149.nii.gz\n",
      "/NAS/dumbo/protocoles/HAMSI/OurData4Mispel_T1Gado/CHU_GE/Pat150.nii.gz\n",
      "/NAS/dumbo/protocoles/HAMSI/OurData4Mispel_T1Gado/CHU_GE/Pat158.nii.gz\n",
      "/NAS/dumbo/protocoles/HAMSI/OurData4Mispel_T1Gado/CHU_GE/Pat159.nii.gz\n",
      "/NAS/dumbo/protocoles/HAMSI/OurData4Mispel_T1Gado/CHU_GE/Pat15.nii.gz\n",
      "/NAS/dumbo/protocoles/HAMSI/OurData4Mispel_T1Gado/CHU_GE/Pat161.nii.gz\n",
      "/NAS/dumbo/protocoles/HAMSI/OurData4Mispel_T1Gado/CHU_GE/Pat165.nii.gz\n",
      "/NAS/dumbo/protocoles/HAMSI/OurData4Mispel_T1Gado/CHU_GE/Pat169.nii.gz\n",
      "/NAS/dumbo/protocoles/HAMSI/OurData4Mispel_T1Gado/CHU_GE/Pat172.nii.gz\n",
      "/NAS/dumbo/protocoles/HAMSI/OurData4Mispel_T1Gado/CHU_GE/Pat175.nii.gz\n",
      "/NAS/dumbo/protocoles/HAMSI/OurData4Mispel_T1Gado/CHU_GE/Pat176.nii.gz\n",
      "/NAS/dumbo/protocoles/HAMSI/OurData4Mispel_T1Gado/CHU_GE/Pat178.nii.gz\n",
      "/NAS/dumbo/protocoles/HAMSI/OurData4Mispel_T1Gado/CHU_GE/Pat17.nii.gz\n",
      "/NAS/dumbo/protocoles/HAMSI/OurData4Mispel_T1Gado/CHU_GE/Pat181.nii.gz\n",
      "/NAS/dumbo/protocoles/HAMSI/OurData4Mispel_T1Gado/CHU_GE/Pat183.nii.gz\n",
      "/NAS/dumbo/protocoles/HAMSI/OurData4Mispel_T1Gado/CHU_GE/Pat184.nii.gz\n",
      "/NAS/dumbo/protocoles/HAMSI/OurData4Mispel_T1Gado/CHU_GE/Pat186.nii.gz\n",
      "/NAS/dumbo/protocoles/HAMSI/OurData4Mispel_T1Gado/CHU_GE/Pat18.nii.gz\n",
      "/NAS/dumbo/protocoles/HAMSI/OurData4Mispel_T1Gado/CHU_GE/Pat20.nii.gz\n",
      "/NAS/dumbo/protocoles/HAMSI/OurData4Mispel_T1Gado/CHU_GE/Pat21.nii.gz\n",
      "/NAS/dumbo/protocoles/HAMSI/OurData4Mispel_T1Gado/CHU_GE/Pat24.nii.gz\n",
      "/NAS/dumbo/protocoles/HAMSI/OurData4Mispel_T1Gado/CHU_GE/Pat26.nii.gz\n",
      "/NAS/dumbo/protocoles/HAMSI/OurData4Mispel_T1Gado/CHU_GE/Pat27.nii.gz\n",
      "/NAS/dumbo/protocoles/HAMSI/OurData4Mispel_T1Gado/CHU_GE/Pat28.nii.gz\n",
      "/NAS/dumbo/protocoles/HAMSI/OurData4Mispel_T1Gado/CHU_GE/Pat2.nii.gz\n",
      "/NAS/dumbo/protocoles/HAMSI/OurData4Mispel_T1Gado/CHU_GE/Pat32.nii.gz\n",
      "/NAS/dumbo/protocoles/HAMSI/OurData4Mispel_T1Gado/CHU_GE/Pat33.nii.gz\n",
      "/NAS/dumbo/protocoles/HAMSI/OurData4Mispel_T1Gado/CHU_GE/Pat35.nii.gz\n",
      "/NAS/dumbo/protocoles/HAMSI/OurData4Mispel_T1Gado/CHU_GE/Pat37.nii.gz\n",
      "/NAS/dumbo/protocoles/HAMSI/OurData4Mispel_T1Gado/CHU_GE/Pat38.nii.gz\n",
      "/NAS/dumbo/protocoles/HAMSI/OurData4Mispel_T1Gado/CHU_GE/Pat39.nii.gz\n",
      "/NAS/dumbo/protocoles/HAMSI/OurData4Mispel_T1Gado/CHU_GE/Pat43.nii.gz\n",
      "/NAS/dumbo/protocoles/HAMSI/OurData4Mispel_T1Gado/CHU_GE/Pat44.nii.gz\n",
      "/NAS/dumbo/protocoles/HAMSI/OurData4Mispel_T1Gado/CHU_GE/Pat46.nii.gz\n",
      "/NAS/dumbo/protocoles/HAMSI/OurData4Mispel_T1Gado/CHU_GE/Pat48.nii.gz\n",
      "/NAS/dumbo/protocoles/HAMSI/OurData4Mispel_T1Gado/CHU_GE/Pat49.nii.gz\n",
      "/NAS/dumbo/protocoles/HAMSI/OurData4Mispel_T1Gado/CHU_GE/Pat4.nii.gz\n",
      "/NAS/dumbo/protocoles/HAMSI/OurData4Mispel_T1Gado/CHU_GE/Pat50.nii.gz\n",
      "/NAS/dumbo/protocoles/HAMSI/OurData4Mispel_T1Gado/CHU_GE/Pat51.nii.gz\n",
      "/NAS/dumbo/protocoles/HAMSI/OurData4Mispel_T1Gado/CHU_GE/Pat52.nii.gz\n",
      "/NAS/dumbo/protocoles/HAMSI/OurData4Mispel_T1Gado/CHU_GE/Pat54.nii.gz\n",
      "/NAS/dumbo/protocoles/HAMSI/OurData4Mispel_T1Gado/CHU_GE/Pat57.nii.gz\n",
      "/NAS/dumbo/protocoles/HAMSI/OurData4Mispel_T1Gado/CHU_GE/Pat59.nii.gz\n",
      "/NAS/dumbo/protocoles/HAMSI/OurData4Mispel_T1Gado/CHU_GE/Pat62.nii.gz\n",
      "/NAS/dumbo/protocoles/HAMSI/OurData4Mispel_T1Gado/CHU_GE/Pat63.nii.gz\n",
      "/NAS/dumbo/protocoles/HAMSI/OurData4Mispel_T1Gado/CHU_GE/Pat64.nii.gz\n",
      "/NAS/dumbo/protocoles/HAMSI/OurData4Mispel_T1Gado/CHU_GE/Pat65.nii.gz\n",
      "/NAS/dumbo/protocoles/HAMSI/OurData4Mispel_T1Gado/CHU_GE/Pat66.nii.gz\n",
      "/NAS/dumbo/protocoles/HAMSI/OurData4Mispel_T1Gado/CHU_GE/Pat68.nii.gz\n",
      "/NAS/dumbo/protocoles/HAMSI/OurData4Mispel_T1Gado/CHU_GE/Pat73.nii.gz\n",
      "/NAS/dumbo/protocoles/HAMSI/OurData4Mispel_T1Gado/CHU_GE/Pat74.nii.gz\n",
      "/NAS/dumbo/protocoles/HAMSI/OurData4Mispel_T1Gado/CHU_GE/Pat77.nii.gz\n",
      "/NAS/dumbo/protocoles/HAMSI/OurData4Mispel_T1Gado/CHU_GE/Pat78.nii.gz\n",
      "/NAS/dumbo/protocoles/HAMSI/OurData4Mispel_T1Gado/CHU_GE/Pat7.nii.gz\n",
      "/NAS/dumbo/protocoles/HAMSI/OurData4Mispel_T1Gado/CHU_GE/Pat80.nii.gz\n",
      "/NAS/dumbo/protocoles/HAMSI/OurData4Mispel_T1Gado/CHU_GE/Pat84.nii.gz\n",
      "/NAS/dumbo/protocoles/HAMSI/OurData4Mispel_T1Gado/CHU_GE/Pat86.nii.gz\n",
      "/NAS/dumbo/protocoles/HAMSI/OurData4Mispel_T1Gado/CHU_GE/Pat87.nii.gz\n",
      "/NAS/dumbo/protocoles/HAMSI/OurData4Mispel_T1Gado/CHU_GE/Pat88.nii.gz\n",
      "/NAS/dumbo/protocoles/HAMSI/OurData4Mispel_T1Gado/CHU_GE/Pat90.nii.gz\n",
      "/NAS/dumbo/protocoles/HAMSI/OurData4Mispel_T1Gado/CHU_GE/Pat92.nii.gz\n",
      "/NAS/dumbo/protocoles/HAMSI/OurData4Mispel_T1Gado/CHU_GE/Pat94.nii.gz\n",
      "/NAS/dumbo/protocoles/HAMSI/OurData4Mispel_T1Gado/CHU_GE/Pat95.nii.gz\n",
      "/NAS/dumbo/protocoles/HAMSI/OurData4Mispel_T1Gado/CHU_GE/Pat96.nii.gz\n",
      "/NAS/dumbo/protocoles/HAMSI/OurData4Mispel_T1Gado/CHU_GE/Pat97.nii.gz\n",
      "/NAS/dumbo/protocoles/HAMSI/OurData4Mispel_T1Gado/CHU_GE/Pat99.nii.gz\n",
      "/NAS/dumbo/protocoles/HAMSI/OurData4Mispel_T1Gado/CHU_GE/Pat100.nii.gz\n",
      "/NAS/dumbo/protocoles/HAMSI/OurData4Mispel_T1Gado/CHU_GE/Pat104.nii.gz\n",
      "/NAS/dumbo/protocoles/HAMSI/OurData4Mispel_T1Gado/CHU_GE/Pat136.nii.gz\n",
      "/NAS/dumbo/protocoles/HAMSI/OurData4Mispel_T1Gado/CHU_GE/Pat137.nii.gz\n",
      "/NAS/dumbo/protocoles/HAMSI/OurData4Mispel_T1Gado/CHU_GE/Pat139.nii.gz\n",
      "/NAS/dumbo/protocoles/HAMSI/OurData4Mispel_T1Gado/CHU_GE/Pat153.nii.gz\n",
      "/NAS/dumbo/protocoles/HAMSI/OurData4Mispel_T1Gado/CHU_GE/Pat138.nii.gz\n",
      "/NAS/dumbo/protocoles/HAMSI/OurData4Mispel_T1Gado/CHU_GE/Pat110.nii.gz\n",
      "/NAS/dumbo/protocoles/HAMSI/OurData4Mispel_T1Gado/CHU_GE/Pat122.nii.gz\n",
      "/NAS/dumbo/protocoles/HAMSI/OurData4Mispel_T1Gado/CHU_GE/Pat174.nii.gz\n",
      "/NAS/dumbo/protocoles/HAMSI/OurData4Mispel_T1Gado/CHU_GE/Pat29.nii.gz\n",
      "/NAS/dumbo/protocoles/HAMSI/OurData4Mispel_T1Gado/CHU_GE/Pat105.nii.gz\n",
      "/NAS/dumbo/protocoles/HAMSI/OurData4Mispel_T1Gado/CHU_GE/Pat13.nii.gz\n",
      "/NAS/dumbo/protocoles/HAMSI/OurData4Mispel_T1Gado/CHU_GE/Pat45.nii.gz\n",
      "/NAS/dumbo/protocoles/HAMSI/OurData4Mispel_T1Gado/CHU_GE/Pat67.nii.gz\n",
      "/NAS/dumbo/protocoles/HAMSI/OurData4Mispel_T1Gado/CHU_GE/Pat166.nii.gz\n",
      "/NAS/dumbo/protocoles/HAMSI/OurData4Mispel_T1Gado/CHU_GE/Pat171.nii.gz\n",
      "/NAS/dumbo/protocoles/HAMSI/OurData4Mispel_T1Gado/CHU_GE/Pat89.nii.gz\n",
      "/NAS/dumbo/protocoles/HAMSI/OurData4Mispel_T1Gado/CHU_GE/Pat154.nii.gz\n",
      "/NAS/dumbo/protocoles/HAMSI/OurData4Mispel_T1Gado/CHU_GE/Pat3.nii.gz\n",
      "/NAS/dumbo/protocoles/HAMSI/OurData4Mispel_T1Gado/CHU_GE/Pat134.nii.gz\n",
      "/NAS/dumbo/protocoles/HAMSI/OurData4Mispel_T1Gado/CHU_GE/Pat160.nii.gz\n",
      "/NAS/dumbo/protocoles/HAMSI/OurData4Mispel_T1Gado/CHU_GE/Pat106.nii.gz\n",
      "/NAS/dumbo/protocoles/HAMSI/OurData4Mispel_T1Gado/CHU_GE/Pat177.nii.gz\n",
      "/NAS/dumbo/protocoles/HAMSI/OurData4Mispel_T1Gado/CHU_GE/Pat58.nii.gz\n",
      "/NAS/dumbo/protocoles/HAMSI/OurData4Mispel_T1Gado/CHU_GE/Pat25.nii.gz\n",
      "/NAS/dumbo/protocoles/HAMSI/OurData4Mispel_T1Gado/CHU_GE/Pat30.nii.gz\n",
      "/NAS/dumbo/protocoles/HAMSI/OurData4Mispel_T1Gado/CHU_GE/Pat145.nii.gz\n",
      "/NAS/dumbo/protocoles/HAMSI/OurData4Mispel_T1Gado/CHU_GE/Pat53.nii.gz\n",
      "/NAS/dumbo/protocoles/HAMSI/OurData4Mispel_T1Gado/CHU_GE/Pat47.nii.gz\n",
      "/NAS/dumbo/protocoles/HAMSI/OurData4Mispel_T1Gado/CHU_GE/Pat140.nii.gz\n",
      "/NAS/dumbo/protocoles/HAMSI/OurData4Mispel_T1Gado/CHU_GE/Pat132.nii.gz\n",
      "/NAS/dumbo/protocoles/HAMSI/OurData4Mispel_T1Gado/CHU_GE/Pat148.nii.gz\n",
      "/NAS/dumbo/protocoles/HAMSI/OurData4Mispel_T1Gado/CHU_GE/Pat71.nii.gz\n",
      "/NAS/dumbo/protocoles/HAMSI/OurData4Mispel_T1Gado/CHU_GE/Pat31.nii.gz\n",
      "/NAS/dumbo/protocoles/HAMSI/OurData4Mispel_T1Gado/CHU_GE/Pat179.nii.gz\n",
      "/NAS/dumbo/protocoles/HAMSI/OurData4Mispel_T1Gado/CHU_GE/Pat34.nii.gz\n",
      "/NAS/dumbo/protocoles/HAMSI/OurData4Mispel_T1Gado/CHU_GE/Pat141.nii.gz\n",
      "/NAS/dumbo/protocoles/HAMSI/OurData4Mispel_T1Gado/CHU_GE/Pat146.nii.gz\n",
      "/NAS/dumbo/protocoles/HAMSI/OurData4Mispel_T1Gado/CHU_GE/Pat120.nii.gz\n",
      "/NAS/dumbo/protocoles/HAMSI/OurData4Mispel_T1Gado/CHU_GE/Pat55.nii.gz\n",
      "/NAS/dumbo/protocoles/HAMSI/OurData4Mispel_T1Gado/CHU_GE/Pat19.nii.gz\n",
      "/NAS/dumbo/protocoles/HAMSI/OurData4Mispel_T1Gado/CHU_GE/Pat107.nii.gz\n",
      "/NAS/dumbo/protocoles/HAMSI/OurData4Mispel_T1Gado/CHU_GE/Pat81.nii.gz\n",
      "/NAS/dumbo/protocoles/HAMSI/OurData4Mispel_T1Gado/CHU_GE/Pat123.nii.gz\n",
      "/NAS/dumbo/protocoles/HAMSI/OurData4Mispel_T1Gado/CHU_GE/Pat14.nii.gz\n",
      "/NAS/dumbo/protocoles/HAMSI/OurData4Mispel_T1Gado/CHU_GE/Pat36.nii.gz\n",
      "/NAS/dumbo/protocoles/HAMSI/OurData4Mispel_T1Gado/CHU_GE/Pat6.nii.gz\n",
      "/NAS/dumbo/protocoles/HAMSI/OurData4Mispel_T1Gado/CHU_GE/Pat56.nii.gz\n",
      "/NAS/dumbo/protocoles/HAMSI/OurData4Mispel_T1Gado/CHU_GE/Pat162.nii.gz\n",
      "/NAS/dumbo/protocoles/HAMSI/OurData4Mispel_T1Gado/CHU_GE/Pat156.nii.gz\n",
      "/NAS/dumbo/protocoles/HAMSI/OurData4Mispel_T1Gado/CHU_GE/Pat151.nii.gz\n",
      "/NAS/dumbo/protocoles/HAMSI/OurData4Mispel_T1Gado/CHU_GE/Pat163.nii.gz\n",
      "/NAS/dumbo/protocoles/HAMSI/OurData4Mispel_T1Gado/CHU_GE/Pat157.nii.gz\n",
      "/NAS/dumbo/protocoles/HAMSI/OurData4Mispel_T1Gado/CHU_GE/Pat152.nii.gz\n",
      "/NAS/dumbo/protocoles/HAMSI/OurData4Mispel_T1Gado/CHU_GE/Pat70.nii.gz\n",
      "/NAS/dumbo/protocoles/HAMSI/OurData4Mispel_T1Gado/CHU_GE/Pat167.nii.gz\n",
      "/NAS/dumbo/protocoles/HAMSI/OurData4Mispel_T1Gado/CHU_GE/Pat125.nii.gz\n",
      "/NAS/dumbo/protocoles/HAMSI/OurData4Mispel_T1Gado/CHU_GE/Pat180.nii.gz\n",
      "/NAS/dumbo/protocoles/HAMSI/OurData4Mispel_T1Gado/CHU_GE/Pat185.nii.gz\n",
      "/NAS/dumbo/protocoles/HAMSI/OurData4Mispel_T1Gado/CHU_GE/Pat187.nii.gz\n",
      "/NAS/dumbo/protocoles/HAMSI/OurData4Mispel_T1Gado/CHU_GE/Pat127.nii.gz\n",
      "/NAS/dumbo/protocoles/HAMSI/OurData4Mispel_T1Gado/CHU_GE/Pat155.nii.gz\n",
      "/NAS/dumbo/protocoles/HAMSI/OurData4Mispel_T1Gado/CHU_GE/Pat82.nii.gz\n",
      "/NAS/dumbo/protocoles/HAMSI/OurData4Mispel_T1Gado/CHU_GE/Pat168.nii.gz\n",
      "/NAS/dumbo/protocoles/HAMSI/OurData4Mispel_T1Gado/CHU_GE/Pat72.nii.gz\n",
      "/NAS/dumbo/protocoles/HAMSI/OurData4Mispel_T1Gado/CHU_GE/Pat41.nii.gz\n",
      "/NAS/dumbo/protocoles/HAMSI/OurData4Mispel_T1Gado/CHU_GE/Pat8.nii.gz\n",
      "/NAS/dumbo/protocoles/HAMSI/OurData4Mispel_T1Gado/CHU_GE/Pat5.nii.gz\n",
      "/NAS/dumbo/protocoles/HAMSI/OurData4Mispel_T1Gado/CHU_GE/Pat75.nii.gz\n",
      "/NAS/dumbo/protocoles/HAMSI/OurData4Mispel_T1Gado/CHU_GE/Pat164.nii.gz\n",
      "/NAS/dumbo/protocoles/HAMSI/OurData4Mispel_T1Gado/CHU_GE/Pat115.nii.gz\n",
      "/NAS/dumbo/protocoles/HAMSI/OurData4Mispel_T1Gado/CHU_GE/Pat61.nii.gz\n",
      "/NAS/dumbo/protocoles/HAMSI/OurData4Mispel_T1Gado/CHU_GE/Pat60.nii.gz\n",
      "/NAS/dumbo/protocoles/HAMSI/OurData4Mispel_T1Gado/CHU_GE/Pat40.nii.gz\n",
      "/NAS/dumbo/protocoles/HAMSI/OurData4Mispel_T1Gado/CHU_GE/Pat182.nii.gz\n",
      "/NAS/dumbo/protocoles/HAMSI/OurData4Mispel_T1Gado/CHU_GE/Pat76.nii.gz\n",
      "/NAS/dumbo/protocoles/HAMSI/OurData4Mispel_T1Gado/CHU_GE/Pat16.nii.gz\n",
      "/NAS/dumbo/protocoles/HAMSI/OurData4Mispel_T1Gado/CHU_GE/Pat173.nii.gz\n",
      "/NAS/dumbo/protocoles/HAMSI/OurData4Mispel_T1Gado/CHU_GE/Pat188.nii.gz\n",
      "/NAS/dumbo/protocoles/HAMSI/OurData4Mispel_T1Gado/CHU_GE/Pat118.nii.gz\n",
      "/NAS/dumbo/protocoles/HAMSI/OurData4Mispel_T1Gado/CHU_GE/Pat42.nii.gz\n",
      "/NAS/dumbo/protocoles/HAMSI/OurData4Mispel_T1Gado/CHU_GE/Pat79.nii.gz\n",
      "/NAS/dumbo/protocoles/HAMSI/OurData4Mispel_T1Gado/CHU_GE/Pat119.nii.gz\n",
      "/NAS/dumbo/protocoles/HAMSI/OurData4Mispel_T1Gado/CHU_GE/Pat12.nii.gz\n",
      "/NAS/dumbo/protocoles/HAMSI/OurData4Mispel_T1Gado/CHU_GE/Pat189.nii.gz\n",
      "/NAS/dumbo/protocoles/HAMSI/OurData4Mispel_T1Gado/CHU_GE/Pat1.nii.gz\n",
      "/NAS/dumbo/protocoles/HAMSI/OurData4Mispel_T1Gado/CHU_GE/Pat22.nii.gz\n",
      "/NAS/dumbo/protocoles/HAMSI/OurData4Mispel_T1Gado/CHU_GE/Pat23.nii.gz\n",
      "/NAS/dumbo/protocoles/HAMSI/OurData4Mispel_T1Gado/CHU_GE/Pat91.nii.gz\n",
      "/NAS/dumbo/protocoles/HAMSI/OurData4Mispel_T1Gado/CHU_GE/Pat93.nii.gz\n",
      "/NAS/dumbo/protocoles/HAMSI/OurData4Mispel_T1Gado/CHU_GE/Pat98.nii.gz\n",
      "/NAS/dumbo/protocoles/HAMSI/OurData4Mispel_T1Gado/CHU_GE/Pat9.nii.gz\n",
      "/NAS/dumbo/protocoles/HAMSI/OurData4Mispel_T1Gado/CHU_GE/Pat108.nii.gz\n",
      "/NAS/dumbo/protocoles/HAMSI/OurData4Mispel_T1Gado/CHU_GE/Pat109.nii.gz\n",
      "/NAS/dumbo/protocoles/HAMSI/OurData4Mispel_T1Gado/CHU_GE/Pat83.nii.gz\n",
      "/NAS/dumbo/protocoles/HAMSI/OurData4Mispel_T1Gado/CHU_GE/Pat85.nii.gz\n"
     ]
    }
   ],
   "source": [
    "PTOnGE = pd.read_csv(join(PATH_DIR,\"df_table_T1Gado_GE.csv\"),sep=',',dtype=str)\n",
    "for file in glob.glob('/NAS/dumbo/protocoles/HAMSI/OurData4Mispel_T1Gado/COL_SIEMENS/Pat*.nii.gz'):\n",
    "    if not os.path.exists(file.replace('COL_SIEMENS','CHU_GE')):\n",
    "        print(file.replace('COL_SIEMENS','CHU_GE'))"
   ]
  },
  {
   "cell_type": "markdown",
   "metadata": {},
   "source": [
    "# Infos dataframe"
   ]
  },
  {
   "cell_type": "code",
   "execution_count": 5,
   "metadata": {},
   "outputs": [
    {
     "name": "stdout",
     "output_type": "stream",
     "text": [
      "PatientSex\n",
      "F     91\n",
      "M    112\n",
      "Name: PatientID, dtype: int64\n"
     ]
    }
   ],
   "source": [
    "resultat = ma_table.groupby('PatientSex')['PatientID'].nunique()\n",
    "print(resultat)"
   ]
  },
  {
   "cell_type": "code",
   "execution_count": 61,
   "metadata": {},
   "outputs": [],
   "source": [
    "ma_table['PatientID']= ma_table['PatientID'].astype(str)"
   ]
  },
  {
   "cell_type": "code",
   "execution_count": 59,
   "metadata": {
    "tags": []
   },
   "outputs": [
    {
     "data": {
      "text/html": [
       "<div>\n",
       "<style scoped>\n",
       "    .dataframe tbody tr th:only-of-type {\n",
       "        vertical-align: middle;\n",
       "    }\n",
       "\n",
       "    .dataframe tbody tr th {\n",
       "        vertical-align: top;\n",
       "    }\n",
       "\n",
       "    .dataframe thead th {\n",
       "        text-align: right;\n",
       "    }\n",
       "</style>\n",
       "<table border=\"1\" class=\"dataframe\">\n",
       "  <thead>\n",
       "    <tr style=\"text-align: right;\">\n",
       "      <th></th>\n",
       "      <th>PatientID</th>\n",
       "      <th>PatientName</th>\n",
       "      <th>PatientBirthDate</th>\n",
       "      <th>PatientSex</th>\n",
       "      <th>AccessionNumber</th>\n",
       "      <th>Modality</th>\n",
       "      <th>StudyDescription</th>\n",
       "      <th>StudyDate</th>\n",
       "      <th>StudyTime</th>\n",
       "      <th>StudyInstanceUID</th>\n",
       "      <th>SeriesDescription</th>\n",
       "      <th>SeriesTime</th>\n",
       "      <th>SeriesNumber</th>\n",
       "      <th>Slices</th>\n",
       "      <th>SerieInstanceUID</th>\n",
       "      <th>/NAS/dumbo/protocoles/HAMSI/data//StudyInstanceUID/SerieInstanceUID</th>\n",
       "      <th>Machine</th>\n",
       "      <th>Manufacturer Model Name</th>\n",
       "      <th>Station Name</th>\n",
       "    </tr>\n",
       "  </thead>\n",
       "  <tbody>\n",
       "    <tr>\n",
       "      <th>10</th>\n",
       "      <td>500142255</td>\n",
       "      <td>ABDOU^AHMED^^^</td>\n",
       "      <td>19680811</td>\n",
       "      <td>M</td>\n",
       "      <td>7036063</td>\n",
       "      <td>MROT</td>\n",
       "      <td>IRM CEREBRALE +</td>\n",
       "      <td>20211202</td>\n",
       "      <td>1433</td>\n",
       "      <td>1.3.51.0.1.1.10.49.10.222.7036063.7037033</td>\n",
       "      <td>Sag CUBE T1</td>\n",
       "      <td>1434</td>\n",
       "      <td>3</td>\n",
       "      <td>272</td>\n",
       "      <td>1.2.840.113619.2.374.2807.1582298.15832.163818...</td>\n",
       "      <td>/NAS/dumbo/protocoles/HAMSI/data//1.3.51.0.1.1...</td>\n",
       "      <td>GE MEDICAL SYSTEMS</td>\n",
       "      <td>Optima MR450w</td>\n",
       "      <td>MR02</td>\n",
       "    </tr>\n",
       "    <tr>\n",
       "      <th>11</th>\n",
       "      <td>500142255</td>\n",
       "      <td>ABDOU^AHMED^^^</td>\n",
       "      <td>19680811</td>\n",
       "      <td>M</td>\n",
       "      <td>7036063</td>\n",
       "      <td>MROT</td>\n",
       "      <td>IRM CEREBRALE +</td>\n",
       "      <td>20211202</td>\n",
       "      <td>1433</td>\n",
       "      <td>1.3.51.0.1.1.10.49.10.222.7036063.7037033</td>\n",
       "      <td>Ax Diffusion b1000</td>\n",
       "      <td>1438</td>\n",
       "      <td>4</td>\n",
       "      <td>46</td>\n",
       "      <td>1.2.840.113619.2.374.2807.1582298.15832.163818...</td>\n",
       "      <td>/NAS/dumbo/protocoles/HAMSI/data//1.3.51.0.1.1...</td>\n",
       "      <td>GE MEDICAL SYSTEMS</td>\n",
       "      <td>Optima MR450w</td>\n",
       "      <td>MR02</td>\n",
       "    </tr>\n",
       "    <tr>\n",
       "      <th>12</th>\n",
       "      <td>500142255</td>\n",
       "      <td>ABDOU^AHMED^^^</td>\n",
       "      <td>19680811</td>\n",
       "      <td>M</td>\n",
       "      <td>7036063</td>\n",
       "      <td>MROT</td>\n",
       "      <td>IRM CEREBRALE +</td>\n",
       "      <td>20211202</td>\n",
       "      <td>1433</td>\n",
       "      <td>1.3.51.0.1.1.10.49.10.222.7036063.7037033</td>\n",
       "      <td>Ax T2* GRE FFE</td>\n",
       "      <td>1440</td>\n",
       "      <td>5</td>\n",
       "      <td>23</td>\n",
       "      <td>1.2.840.113619.2.374.2807.1582298.15832.163818...</td>\n",
       "      <td>/NAS/dumbo/protocoles/HAMSI/data//1.3.51.0.1.1...</td>\n",
       "      <td>GE MEDICAL SYSTEMS</td>\n",
       "      <td>Optima MR450w</td>\n",
       "      <td>MR02</td>\n",
       "    </tr>\n",
       "    <tr>\n",
       "      <th>13</th>\n",
       "      <td>500142255</td>\n",
       "      <td>ABDOU^AHMED^^^</td>\n",
       "      <td>19680811</td>\n",
       "      <td>M</td>\n",
       "      <td>7036063</td>\n",
       "      <td>MROT</td>\n",
       "      <td>IRM CEREBRALE +</td>\n",
       "      <td>20211202</td>\n",
       "      <td>1433</td>\n",
       "      <td>1.3.51.0.1.1.10.49.10.222.7036063.7037033</td>\n",
       "      <td>Sag CUBE T2 FLAIR FS</td>\n",
       "      <td>1442</td>\n",
       "      <td>6</td>\n",
       "      <td>208</td>\n",
       "      <td>1.2.840.113619.2.374.2807.1582298.15832.163818...</td>\n",
       "      <td>/NAS/dumbo/protocoles/HAMSI/data//1.3.51.0.1.1...</td>\n",
       "      <td>GE MEDICAL SYSTEMS</td>\n",
       "      <td>Optima MR450w</td>\n",
       "      <td>MR02</td>\n",
       "    </tr>\n",
       "    <tr>\n",
       "      <th>14</th>\n",
       "      <td>500142255</td>\n",
       "      <td>ABDOU^AHMED^^^</td>\n",
       "      <td>19680811</td>\n",
       "      <td>M</td>\n",
       "      <td>7036063</td>\n",
       "      <td>MROT</td>\n",
       "      <td>IRM CEREBRALE +</td>\n",
       "      <td>20211202</td>\n",
       "      <td>1433</td>\n",
       "      <td>1.3.51.0.1.1.10.49.10.222.7036063.7037033</td>\n",
       "      <td>Sag CUBE T1 Gado</td>\n",
       "      <td>1447</td>\n",
       "      <td>7</td>\n",
       "      <td>272</td>\n",
       "      <td>1.2.840.113619.2.374.2807.1582298.15832.163818...</td>\n",
       "      <td>/NAS/dumbo/protocoles/HAMSI/data//1.3.51.0.1.1...</td>\n",
       "      <td>GE MEDICAL SYSTEMS</td>\n",
       "      <td>Optima MR450w</td>\n",
       "      <td>MR02</td>\n",
       "    </tr>\n",
       "  </tbody>\n",
       "</table>\n",
       "</div>"
      ],
      "text/plain": [
       "    PatientID     PatientName  PatientBirthDate PatientSex AccessionNumber  \\\n",
       "10  500142255  ABDOU^AHMED^^^          19680811          M         7036063   \n",
       "11  500142255  ABDOU^AHMED^^^          19680811          M         7036063   \n",
       "12  500142255  ABDOU^AHMED^^^          19680811          M         7036063   \n",
       "13  500142255  ABDOU^AHMED^^^          19680811          M         7036063   \n",
       "14  500142255  ABDOU^AHMED^^^          19680811          M         7036063   \n",
       "\n",
       "   Modality  StudyDescription  StudyDate  StudyTime  \\\n",
       "10    MROT   IRM CEREBRALE +    20211202       1433   \n",
       "11    MROT   IRM CEREBRALE +    20211202       1433   \n",
       "12    MROT   IRM CEREBRALE +    20211202       1433   \n",
       "13    MROT   IRM CEREBRALE +    20211202       1433   \n",
       "14    MROT   IRM CEREBRALE +    20211202       1433   \n",
       "\n",
       "                             StudyInstanceUID     SeriesDescription  \\\n",
       "10  1.3.51.0.1.1.10.49.10.222.7036063.7037033          Sag CUBE T1    \n",
       "11  1.3.51.0.1.1.10.49.10.222.7036063.7037033    Ax Diffusion b1000   \n",
       "12  1.3.51.0.1.1.10.49.10.222.7036063.7037033        Ax T2* GRE FFE   \n",
       "13  1.3.51.0.1.1.10.49.10.222.7036063.7037033  Sag CUBE T2 FLAIR FS   \n",
       "14  1.3.51.0.1.1.10.49.10.222.7036063.7037033      Sag CUBE T1 Gado   \n",
       "\n",
       "   SeriesTime SeriesNumber  Slices  \\\n",
       "10       1434            3     272   \n",
       "11       1438            4      46   \n",
       "12       1440            5      23   \n",
       "13       1442            6     208   \n",
       "14       1447            7     272   \n",
       "\n",
       "                                     SerieInstanceUID  \\\n",
       "10  1.2.840.113619.2.374.2807.1582298.15832.163818...   \n",
       "11  1.2.840.113619.2.374.2807.1582298.15832.163818...   \n",
       "12  1.2.840.113619.2.374.2807.1582298.15832.163818...   \n",
       "13  1.2.840.113619.2.374.2807.1582298.15832.163818...   \n",
       "14  1.2.840.113619.2.374.2807.1582298.15832.163818...   \n",
       "\n",
       "   /NAS/dumbo/protocoles/HAMSI/data//StudyInstanceUID/SerieInstanceUID  \\\n",
       "10  /NAS/dumbo/protocoles/HAMSI/data//1.3.51.0.1.1...                    \n",
       "11  /NAS/dumbo/protocoles/HAMSI/data//1.3.51.0.1.1...                    \n",
       "12  /NAS/dumbo/protocoles/HAMSI/data//1.3.51.0.1.1...                    \n",
       "13  /NAS/dumbo/protocoles/HAMSI/data//1.3.51.0.1.1...                    \n",
       "14  /NAS/dumbo/protocoles/HAMSI/data//1.3.51.0.1.1...                    \n",
       "\n",
       "               Machine Manufacturer Model Name Station Name  \n",
       "10  GE MEDICAL SYSTEMS           Optima MR450w         MR02  \n",
       "11  GE MEDICAL SYSTEMS           Optima MR450w         MR02  \n",
       "12  GE MEDICAL SYSTEMS           Optima MR450w         MR02  \n",
       "13  GE MEDICAL SYSTEMS           Optima MR450w         MR02  \n",
       "14  GE MEDICAL SYSTEMS           Optima MR450w         MR02  "
      ]
     },
     "execution_count": 59,
     "metadata": {},
     "output_type": "execute_result"
    }
   ],
   "source": [
    "ma_table.head()"
   ]
  },
  {
   "cell_type": "markdown",
   "metadata": {},
   "source": [
    "## Liste des études pour lesquelles le COL n'a pas les images "
   ]
  },
  {
   "cell_type": "code",
   "execution_count": 73,
   "metadata": {},
   "outputs": [],
   "source": [
    "liste_absents_COL = ['1.3.51.0.1.1.10.49.10.222.6146603.6147072', '1.3.51.0.1.1.10.49.10.222.6388844.6389400', '1.3.51.0.1.1.10.49.10.222.6647658.6648386',\n",
    "                '1.3.51.0.1.1.10.49.10.222.6585523.6586221', '1.3.51.0.1.1.10.49.10.222.6622762.6623471', '1.3.51.0.1.1.10.49.10.222.6906538.6907449',\n",
    "                '1.3.51.0.1.1.10.49.10.222.6906161.6907072', '1.3.51.0.1.1.10.49.10.222.7439732.7440916', '1.3.51.0.1.1.10.49.10.222.7477184.7478383']"
   ]
  },
  {
   "cell_type": "code",
   "execution_count": 189,
   "metadata": {
    "tags": []
   },
   "outputs": [
    {
     "name": "stdout",
     "output_type": "stream",
     "text": [
      "1.3.51.0.1.1.10.49.10.222.6970136.6971075\n",
      "1.3.51.0.1.1.10.49.10.222.6970136.6971075\n",
      "1.3.51.0.1.1.10.49.10.222.6970136.6971075\n",
      "1.3.51.0.1.1.10.49.10.222.6970136.6971075\n",
      "1.3.51.0.1.1.10.49.10.222.6585523.6586221\n",
      "1.3.51.0.1.1.10.49.10.222.6585523.6586221\n",
      "1.3.51.0.1.1.10.49.10.222.6585523.6586221\n",
      "1.3.51.0.1.1.10.49.10.222.6585523.6586221\n",
      "1.3.51.0.1.1.10.49.10.222.6585523.6586221\n",
      "1.3.51.0.1.1.10.49.10.222.6242070.6242583\n",
      "1.3.51.0.1.1.10.49.10.222.6242070.6242583\n",
      "1.3.51.0.1.1.10.49.10.222.6242070.6242583\n",
      "1.3.51.0.1.1.10.49.10.222.7000684.7001638\n",
      "1.3.51.0.1.1.10.49.10.222.7000684.7001638\n",
      "1.3.51.0.1.1.10.49.10.222.7000684.7001638\n",
      "1.3.51.0.1.1.10.49.10.222.7000684.7001638\n",
      "1.3.51.0.1.1.10.49.10.222.6253388.6253904\n",
      "1.3.51.0.1.1.10.49.10.222.6253388.6253904\n",
      "1.3.51.0.1.1.10.49.10.222.6253388.6253904\n",
      "1.3.51.0.1.1.10.49.10.222.6095139.6095571\n",
      "1.3.51.0.1.1.10.49.10.222.6095139.6095571\n",
      "1.3.51.0.1.1.10.49.10.222.6095139.6095571\n",
      "1.3.51.0.1.1.10.49.10.222.6095139.6095571\n",
      "1.3.51.0.1.1.10.49.10.222.7097382.7098395\n",
      "1.3.51.0.1.1.10.49.10.222.7097382.7098395\n",
      "1.3.51.0.1.1.10.49.10.222.7097382.7098395\n",
      "1.3.51.0.1.1.10.49.10.222.7097382.7098395\n",
      "1.3.51.0.1.1.10.49.10.222.6623691.6624400\n",
      "1.3.51.0.1.1.10.49.10.222.6623691.6624400\n",
      "1.3.51.0.1.1.10.49.10.222.6623691.6624400\n",
      "1.3.51.0.1.1.10.49.10.222.6623691.6624400\n",
      "1.3.51.0.1.1.10.49.10.222.6623691.6624400\n",
      "1.3.51.0.1.1.10.49.10.222.7386335.7387487\n",
      "1.3.51.0.1.1.10.49.10.222.7386335.7387487\n",
      "1.3.51.0.1.1.10.49.10.222.7386335.7387487\n",
      "1.3.51.0.1.1.10.49.10.222.6739789.6740557\n",
      "1.3.51.0.1.1.10.49.10.222.6739789.6740557\n",
      "1.3.51.0.1.1.10.49.10.222.5909844.5910147\n",
      "1.3.51.0.1.1.10.49.10.222.5909844.5910147\n",
      "1.3.51.0.1.1.10.49.10.222.5909844.5910147\n",
      "1.3.51.0.1.1.10.49.10.222.5909844.5910147\n",
      "1.3.51.0.1.1.10.49.10.222.6487321.6487965\n",
      "1.3.51.0.1.1.10.49.10.222.6487321.6487965\n",
      "1.3.51.0.1.1.10.49.10.222.6487321.6487965\n",
      "1.3.51.0.1.1.10.49.10.222.6487321.6487965\n",
      "1.3.51.0.1.1.10.49.10.222.6863257.6864139\n",
      "1.3.51.0.1.1.10.49.10.222.6863257.6864139\n",
      "1.3.51.0.1.1.10.49.10.222.6367747.6368301\n",
      "1.3.51.0.1.1.10.49.10.222.6367747.6368301\n",
      "1.3.51.0.1.1.10.49.10.222.6367747.6368301\n",
      "1.3.51.0.1.1.10.49.10.222.6367747.6368301\n",
      "1.3.51.0.1.1.10.49.10.222.6054632.6055014\n",
      "1.3.51.0.1.1.10.49.10.222.6054632.6055014\n",
      "1.3.51.0.1.1.10.49.10.222.6054632.6055014\n",
      "1.3.51.0.1.1.10.49.10.222.6054632.6055014\n",
      "1.3.51.0.1.1.10.49.10.222.6054632.6055014\n",
      "1.3.51.0.1.1.10.49.10.222.6987432.6988374\n",
      "1.3.51.0.1.1.10.49.10.222.6987432.6988374\n",
      "1.3.51.0.1.1.10.49.10.222.6987432.6988374\n",
      "1.3.51.0.1.1.10.49.10.222.7247716.7248810\n",
      "1.3.51.0.1.1.10.49.10.222.7247716.7248810\n",
      "1.3.51.0.1.1.10.49.10.222.7247716.7248810\n",
      "1.3.51.0.1.1.10.49.10.222.7247716.7248810\n",
      "1.3.51.0.1.1.10.49.10.222.6117978.6118423\n",
      "1.3.51.0.1.1.10.49.10.222.6117978.6118423\n",
      "1.3.51.0.1.1.10.49.10.222.6117978.6118423\n",
      "1.3.51.0.1.1.10.49.10.222.6117978.6118423\n"
     ]
    }
   ],
   "source": [
    "# Etudes sans T1\n",
    "liste_table = []\n",
    "for x in ma_table['StudyInstanceUID'] : \n",
    "    liste_table.append(x)\n",
    "\n",
    "liste_table_T1 = []\n",
    "for x in df_table_T1['StudyInstanceUID']:\n",
    "    liste_table_T1.append(x)\n",
    "\n",
    "for e in liste_table : \n",
    "    if e not in liste_table_T1 :\n",
    "        print(e)\n",
    "    \n",
    "    # Séries : Sag FSPGR 3D 1mm iso -> biopsie "
   ]
  },
  {
   "cell_type": "markdown",
   "metadata": {},
   "source": [
    "# Suppression des lignes inutiles "
   ]
  },
  {
   "cell_type": "code",
   "execution_count": 43,
   "metadata": {},
   "outputs": [],
   "source": [
    "for x in ma_table.index : \n",
    "    if 'rfmt' in ma_table.loc[x,'SeriesDescription'] \\\n",
    "       or 'RFMT' in ma_table.loc[x,'SeriesDescription'] \\\n",
    "       or 'RFT' in ma_table.loc[x,'SeriesDescription'] \\\n",
    "       or 'DEFAULT PS SERIES' in ma_table.loc[x,'SeriesDescription'] \\\n",
    "       or 'no value' in ma_table.loc[x,'SeriesDescription'] \\\n",
    "       or 'Survey'in ma_table.loc[x,'SeriesDescription'] \\\n",
    "       or 'New' in ma_table.loc[x,'SeriesDescription'] \\\n",
    "       or 'Screen Save'in ma_table.loc[x,'SeriesDescription']: \n",
    "        ma_table.drop(x, inplace = True)"
   ]
  },
  {
   "cell_type": "markdown",
   "metadata": {},
   "source": [
    "Suppression de l'étude avec images importées "
   ]
  },
  {
   "cell_type": "code",
   "execution_count": 44,
   "metadata": {},
   "outputs": [],
   "source": [
    "importe = ma_table[ma_table['StudyInstanceUID']=='1.3.12.2.1107.5.2.18.41963.30000020030714084629200000008'].index\n",
    "ma_table.drop(importe,inplace = True)"
   ]
  },
  {
   "cell_type": "markdown",
   "metadata": {},
   "source": [
    "Suppression des patients passés sur Vida au COL"
   ]
  },
  {
   "cell_type": "code",
   "execution_count": 45,
   "metadata": {},
   "outputs": [],
   "source": [
    "for x in ma_table.index : \n",
    "    if ma_table.loc[x,'StudyInstanceUID'] == '1.3.51.0.1.1.10.49.10.222.7159643.7160695' \\\n",
    "        or ma_table.loc[x,'StudyInstanceUID'] == '1.3.51.0.1.1.10.49.10.222.6137385.6137849' : \n",
    "        ma_table.drop(x, inplace = True)"
   ]
  },
  {
   "cell_type": "markdown",
   "metadata": {},
   "source": [
    "Suppression des séries d'images dérivées"
   ]
  },
  {
   "cell_type": "code",
   "execution_count": 46,
   "metadata": {},
   "outputs": [],
   "source": [
    "for x in ma_table.index : \n",
    "    serie = glob.glob(join(mypath,ma_table.loc[x,'StudyInstanceUID'],ma_table.loc[x,'SerieInstanceUID'],\"MR*\"),recursive = True)\n",
    "    if (len(serie)>0):\n",
    "        ds=dcm.dcmread(serie[0])\n",
    "        if 'DERIVED' in ds.ImageType :\n",
    "            ma_table.drop(x,inplace=True)"
   ]
  },
  {
   "cell_type": "markdown",
   "metadata": {},
   "source": [
    "# Ajout des colonnes concernant la machine IRM utilisée"
   ]
  },
  {
   "cell_type": "code",
   "execution_count": 47,
   "metadata": {},
   "outputs": [],
   "source": [
    "Machines = []\n",
    "Station_Name = []\n",
    "Manufacturer_Model_Name = []\n",
    "\n",
    "for x in ma_table.index : \n",
    "    serie = glob.glob(join(mypath,ma_table.loc[x,'StudyInstanceUID'],ma_table.loc[x,'SerieInstanceUID'],\"MR*\"),recursive = True)\n",
    "    if (len(serie)>0):\n",
    "        ds=dcm.dcmread(serie[0])\n",
    "        Machines.append(ds.Manufacturer)\n",
    "        Station_Name.append(ds.StationName)\n",
    "        Manufacturer_Model_Name.append(ds.ManufacturerModelName)\n",
    "    else : \n",
    "        ma_table.drop(x,inplace = True)\n",
    "        \n",
    "ma_table['Machine'] = Machines\n",
    "ma_table['Manufacturer Model Name'] = Manufacturer_Model_Name\n",
    "ma_table['Station Name'] = Station_Name"
   ]
  },
  {
   "cell_type": "markdown",
   "metadata": {},
   "source": [
    "# Table des séries T1 sans Gado"
   ]
  },
  {
   "cell_type": "code",
   "execution_count": 48,
   "metadata": {},
   "outputs": [],
   "source": [
    "table_T1 = [ma_table.loc[w] for w in ma_table.index if ('T1' in ma_table.loc[w,'SeriesDescription'] \\\n",
    "                                                        and 'Gado' not in ma_table.loc[w,'SeriesDescription'] \\\n",
    "                                                        and 'GADO' not in ma_table.loc[w,'SeriesDescription'] \\\n",
    "                                                        and 'GD' not in ma_table.loc[w,'SeriesDescription']\\\n",
    "                                                        and 'gd' not in ma_table.loc[w,'SeriesDescription'])]\n",
    "df_table_T1 = pd.DataFrame(table_T1)"
   ]
  },
  {
   "cell_type": "markdown",
   "metadata": {},
   "source": [
    "Nombre d'études avec série T1 sans Gado par machine"
   ]
  },
  {
   "cell_type": "code",
   "execution_count": 49,
   "metadata": {},
   "outputs": [
    {
     "data": {
      "text/plain": [
       "Station Name\n",
       "AWP41694            12\n",
       "MR02               122\n",
       "PHILIPS-2RTT9SD     11\n",
       "PHILIPS-SM5K4H7      7\n",
       "SLGACHIEVA          15\n",
       "SLGIRM3T01           1\n",
       "SLGURGIRM01         22\n",
       "Name: StudyInstanceUID, dtype: int64"
      ]
     },
     "execution_count": 49,
     "metadata": {},
     "output_type": "execute_result"
    }
   ],
   "source": [
    "nbT1_parmachine = df_table_T1.groupby('Station Name')['StudyInstanceUID'].nunique()\n",
    "nbT1_parmachine"
   ]
  },
  {
   "cell_type": "code",
   "execution_count": 143,
   "metadata": {},
   "outputs": [
    {
     "data": {
      "text/plain": [
       "190"
      ]
     },
     "execution_count": 143,
     "metadata": {},
     "output_type": "execute_result"
    }
   ],
   "source": [
    "sum(nbT1_parmachine)"
   ]
  },
  {
   "cell_type": "markdown",
   "metadata": {},
   "source": [
    "Représentation graphique de la répartition des études avec T1 sans Gado par machine"
   ]
  },
  {
   "cell_type": "code",
   "execution_count": 61,
   "metadata": {},
   "outputs": [
    {
     "data": {
      "image/png": "[encoded data removed]",
      "text/plain": [
       "<Figure size 576x576 with 1 Axes>"
      ]
     },
     "metadata": {},
     "output_type": "display_data"
    }
   ],
   "source": [
    "labels = nbT1_parmachine.index\n",
    "labels_2 = ['SIEMENS', 'GE', 'Ingenia 1,5T', 'Ingenia 1,5T bis', \n",
    "            'Ingenia 3T', 'Achieva 3T recherche', 'Achieva urgences']\n",
    "mycolors = ['#7fbb8f', '#e6586c', '#7aa6c2', '#9dc6e0', '#c1e7ff', '#fdea83', '#faf1b0']\n",
    "explode = (0.2, 0, 0, 0, 0, 0, 0)\n",
    "fig, ax = plt.subplots(figsize = (8,8))\n",
    "ax.pie(nbT1_parmachine, labels=labels_2, explode = explode, \n",
    "       autopct=lambda p : '{:.0f}% \\n ({:,.0f})'.format(p,p * sum(nbT1_parmachine)/100), \n",
    "       startangle=90, shadow = True, colors = mycolors, pctdistance = 0.8)\n",
    "ax.axis('equal')\n",
    "plt.title('Répartition des études avec série T1 par machine', fontsize=18)\n",
    "plt.savefig('Répartition des séries T1 sans Gado par machine.jpg')\n",
    "plt.show()"
   ]
  },
  {
   "cell_type": "markdown",
   "metadata": {},
   "source": [
    "# Table des séries T1 avec Gado"
   ]
  },
  {
   "cell_type": "code",
   "execution_count": 52,
   "metadata": {},
   "outputs": [],
   "source": [
    "table_T1Gado = [ma_table.loc[w] for w in ma_table.index if ('T1' in ma_table.loc[w,'SeriesDescription'] \\\n",
    "                                                        and ('Gado' in ma_table.loc[w,'SeriesDescription'] \\\n",
    "                                                        or 'GADO' in ma_table.loc[w,'SeriesDescription'] \\\n",
    "                                                        or 'gd' in ma_table.loc[w,'SeriesDescription'] \\\n",
    "                                                        or 'GD' in ma_table.loc[w,'SeriesDescription']))]\n",
    "df_table_T1Gado = pd.DataFrame(table_T1Gado)"
   ]
  },
  {
   "cell_type": "markdown",
   "metadata": {},
   "source": [
    "Nombre d'études avec série T1 Gado par machine"
   ]
  },
  {
   "cell_type": "code",
   "execution_count": 53,
   "metadata": {},
   "outputs": [
    {
     "data": {
      "text/plain": [
       "Station Name\n",
       "AWP41694            12\n",
       "MR02               118\n",
       "PHILIPS-2RTT9SD      3\n",
       "PHILIPS-SM5K4H7      1\n",
       "SLGACHIEVA           1\n",
       "SLGIRM3T01           1\n",
       "SLGURGIRM01         12\n",
       "Name: StudyInstanceUID, dtype: int64"
      ]
     },
     "execution_count": 53,
     "metadata": {},
     "output_type": "execute_result"
    }
   ],
   "source": [
    "nbT1Gado_parmachine = df_table_T1Gado.groupby('Station Name')['StudyInstanceUID'].nunique()\n",
    "nbT1Gado_parmachine"
   ]
  },
  {
   "cell_type": "code",
   "execution_count": 146,
   "metadata": {},
   "outputs": [
    {
     "data": {
      "text/plain": [
       "148"
      ]
     },
     "execution_count": 146,
     "metadata": {},
     "output_type": "execute_result"
    }
   ],
   "source": [
    "sum(nbT1Gado_parmachine)"
   ]
  },
  {
   "cell_type": "markdown",
   "metadata": {},
   "source": [
    "Représentation graphique de la répartition des études avec T1 Gado par machine"
   ]
  },
  {
   "cell_type": "code",
   "execution_count": 54,
   "metadata": {},
   "outputs": [
    {
     "data": {
      "image/png": "[encoded data removed]",
      "text/plain": [
       "<Figure size 576x576 with 1 Axes>"
      ]
     },
     "metadata": {},
     "output_type": "display_data"
    }
   ],
   "source": [
    "labels = nbT1Gado_parmachine.index\n",
    "labels_2 = ['SIEMENS', 'GE', 'Ingenia 1,5T', 'Ingenia 1,5T bis', \n",
    "            'Ingenia 3T', 'Achieva 3T recherche', 'Achieva urgences']\n",
    "mycolors = ['#7fbb8f', '#e6586c', '#7aa6c2', '#9dc6e0', '#c1e7ff', '#fdea83', '#faf1b0']\n",
    "explode = (0.2, 0, 0, 0, 0, 0, 0)\n",
    "fig, ax = plt.subplots(figsize = (8,8))\n",
    "ax.pie(nbT1Gado_parmachine, labels=labels_2, explode = explode, \n",
    "       autopct=lambda p : '{:.0f}% \\n ({:,.0f})'.format(p,p * sum(nbT1Gado_parmachine)/100), \n",
    "       startangle=90, shadow = True, colors = mycolors, pctdistance = 0.8)\n",
    "ax.axis('equal')\n",
    "plt.title('Répartition des études avec série T1 Gado par machine', fontsize=18)\n",
    "plt.savefig('Répartition des séries T1 avec Gado par machine.jpg')\n",
    "plt.show()"
   ]
  },
  {
   "cell_type": "markdown",
   "metadata": {},
   "source": [
    "# Table des Séries T2"
   ]
  },
  {
   "cell_type": "code",
   "execution_count": 55,
   "metadata": {},
   "outputs": [],
   "source": [
    "table_T2 = [ma_table.loc[w] for w in ma_table.index if ('T2' in ma_table.loc[w,'SeriesDescription'] \\\n",
    "                                                        and '*' not in ma_table.loc[w,'SeriesDescription'] \\\n",
    "                                                        and 'ETOILE' not in ma_table.loc[w,'SeriesDescription']\\\n",
    "                                                        and 'FLAIR' not in ma_table.loc[w,'SeriesDescription'])]\n",
    "df_table_T2 = pd.DataFrame(table_T2)"
   ]
  },
  {
   "cell_type": "markdown",
   "metadata": {},
   "source": [
    "Nombre d'études avec série T2 par machine"
   ]
  },
  {
   "cell_type": "code",
   "execution_count": 56,
   "metadata": {},
   "outputs": [
    {
     "data": {
      "text/plain": [
       "Station Name\n",
       "AWP41694           11\n",
       "MR02               37\n",
       "PHILIPS-2RTT9SD     3\n",
       "PHILIPS-SM5K4H7     3\n",
       "SLGACHIEVA         12\n",
       "SLGIRM3T01          1\n",
       "SLGURGIRM01         3\n",
       "Name: StudyInstanceUID, dtype: int64"
      ]
     },
     "execution_count": 56,
     "metadata": {},
     "output_type": "execute_result"
    }
   ],
   "source": [
    "nbT2_parmachine = df_table_T2.groupby('Station Name')['StudyInstanceUID'].nunique()\n",
    "nbT2_parmachine"
   ]
  },
  {
   "cell_type": "code",
   "execution_count": 149,
   "metadata": {},
   "outputs": [
    {
     "data": {
      "text/plain": [
       "70"
      ]
     },
     "execution_count": 149,
     "metadata": {},
     "output_type": "execute_result"
    }
   ],
   "source": [
    "sum(nbT2_parmachine)"
   ]
  },
  {
   "cell_type": "markdown",
   "metadata": {},
   "source": [
    "Représentation graphique de la répartition des études avec T2 par machine"
   ]
  },
  {
   "cell_type": "code",
   "execution_count": 57,
   "metadata": {},
   "outputs": [
    {
     "data": {
      "image/png": "[encoded data removed]",
      "text/plain": [
       "<Figure size 576x576 with 1 Axes>"
      ]
     },
     "metadata": {},
     "output_type": "display_data"
    }
   ],
   "source": [
    "labels = nbT2_parmachine.index\n",
    "labels_2 = ['SIEMENS', 'GE', 'Ingenia 1,5T', 'Ingenia 1,5T bis', \n",
    "            'Ingenia 3T', 'Achieva 3T recherche', 'Achieva urgences']\n",
    "mycolors = ['#7fbb8f', '#e6586c', '#7aa6c2', '#9dc6e0', '#c1e7ff', '#fdea83', '#faf1b0']\n",
    "explode = (0.2, 0, 0, 0, 0, 0, 0)\n",
    "fig, ax = plt.subplots(figsize = (8,8))\n",
    "ax.pie(nbT2_parmachine, labels=labels_2, explode = explode, \n",
    "       autopct=lambda p : '{:.0f}% \\n ({:,.0f})'.format(p,p * sum(nbT2_parmachine)/100), \n",
    "       startangle=90, shadow = True , colors = mycolors, pctdistance = 0.8)\n",
    "ax.axis('equal')\n",
    "plt.title('Répartition des études avec série T2 par machine', fontsize=18)\n",
    "plt.savefig('Répartition des séries T2 par machine.jpg')\n",
    "plt.show()"
   ]
  },
  {
   "cell_type": "markdown",
   "metadata": {},
   "source": [
    "# Table des Séries FLAIR"
   ]
  },
  {
   "cell_type": "code",
   "execution_count": 58,
   "metadata": {},
   "outputs": [],
   "source": [
    "table_FLAIR = [ma_table.loc[w] for w in ma_table.index if ('FLAIR ' in ma_table.loc[w,'SeriesDescription'])]\n",
    "df_table_FLAIR = pd.DataFrame(table_FLAIR)"
   ]
  },
  {
   "cell_type": "markdown",
   "metadata": {},
   "source": [
    "Nombre d'études avec série FLAIR par machine"
   ]
  },
  {
   "cell_type": "code",
   "execution_count": 59,
   "metadata": {},
   "outputs": [
    {
     "data": {
      "text/plain": [
       "Station Name\n",
       "AWP41694            12\n",
       "MR02               137\n",
       "PHILIPS-2RTT9SD     10\n",
       "PHILIPS-SM5K4H7      7\n",
       "SLGACHIEVA           6\n",
       "SLGURGIRM01         16\n",
       "Name: StudyInstanceUID, dtype: int64"
      ]
     },
     "execution_count": 59,
     "metadata": {},
     "output_type": "execute_result"
    }
   ],
   "source": [
    "nbFLAIR_parmachine = df_table_FLAIR.groupby('Station Name')['StudyInstanceUID'].nunique()\n",
    "nbFLAIR_parmachine"
   ]
  },
  {
   "cell_type": "code",
   "execution_count": 152,
   "metadata": {},
   "outputs": [
    {
     "data": {
      "text/plain": [
       "188"
      ]
     },
     "execution_count": 152,
     "metadata": {},
     "output_type": "execute_result"
    }
   ],
   "source": [
    "sum(nbFLAIR_parmachine)"
   ]
  },
  {
   "cell_type": "markdown",
   "metadata": {},
   "source": [
    "Représentation graphique de la répartition des études avec FLAIR par machine"
   ]
  },
  {
   "cell_type": "code",
   "execution_count": 60,
   "metadata": {},
   "outputs": [
    {
     "data": {
      "image/png": "[encoded data removed]",
      "text/plain": [
       "<Figure size 576x576 with 1 Axes>"
      ]
     },
     "metadata": {},
     "output_type": "display_data"
    }
   ],
   "source": [
    "labels_2 = ['SIEMENS', 'GE', 'Ingenia 1,5T', 'Ingenia 1,5T bis', \n",
    "            'Ingenia 3T', 'Achieva urgences']\n",
    "mycolors = ['#7fbb8f', '#e6586c', '#7aa6c2', '#9dc6e0', '#c1e7ff', '#faf1b0']\n",
    "explode = (0.2, 0, 0, 0, 0, 0)\n",
    "fig, ax = plt.subplots(figsize = (8,8))\n",
    "ax.pie(nbFLAIR_parmachine, labels=labels_2, explode = explode, \n",
    "       autopct=lambda p : '{:.0f}% \\n ({:,.0f})'.format(p,p * sum(nbFLAIR_parmachine)/100), \n",
    "       startangle=90, shadow = True, colors = mycolors, pctdistance = 0.8)\n",
    "ax.axis('equal')\n",
    "plt.title('Répartition des études avec série FLAIR par machine', fontsize=18)\n",
    "plt.savefig('Répartition des séries FLAIR par machine.jpg')\n",
    "plt.show()"
   ]
  },
  {
   "cell_type": "markdown",
   "metadata": {},
   "source": [
    "nrun = 1;%X; % enter the number of runs here\n",
    "jobfile = {'/NAS/dumbo/protocoles/HAMSI/code/CAT12_job.m'};\n",
    "jobs = repmat(jobfile, 1, nrun);\n",
    "inputs = cell(0, nrun);\n",
    "for crun = 1:nrun\n",
    "end\n",
    "spm('defaults', 'FMRI');\n",
    "spm_jobman('run', jobs, inputs{:});"
   ]
  },
  {
   "cell_type": "markdown",
   "metadata": {},
   "source": [
    "# Constructions de la table contenant les 3D T1 sans gado et faites sur la GE"
   ]
  },
  {
   "cell_type": "code",
   "execution_count": 42,
   "metadata": {},
   "outputs": [
    {
     "data": {
      "text/plain": [
       "97"
      ]
     },
     "execution_count": 42,
     "metadata": {},
     "output_type": "execute_result"
    }
   ],
   "source": [
    "table_T1_2 = [ma_table.loc[w] for w in ma_table.index if ('Sag CUBE T1 ' == ma_table.loc[w,'SeriesDescription'])] \n",
    "df_table_T1_2 = pd.DataFrame(table_T1_2)\n",
    "\n",
    "table_T1_GE = [df_table_T1_2.loc[w] for w in df_table_T1_2.index if (('MR02' in df_table_T1_2.loc[w,'Station Name']))]\n",
    "df_table_T1_GE = pd.DataFrame(table_T1_GE)"
   ]
  },
  {
   "cell_type": "markdown",
   "metadata": {},
   "source": [
    "Création du fichier csv des séries T1 sans Gado sur la GE"
   ]
  },
  {
   "cell_type": "code",
   "execution_count": 103,
   "metadata": {},
   "outputs": [],
   "source": [
    "df_table_T1_GE.to_csv(os.path.join(PATH_DIR,'df_table_T1_GE.csv'))"
   ]
  },
  {
   "cell_type": "markdown",
   "metadata": {},
   "source": [
    "# Constructions de la table contenant les T1 avec Gado et faites sur la GE"
   ]
  },
  {
   "cell_type": "code",
   "execution_count": 29,
   "metadata": {},
   "outputs": [
    {
     "data": {
      "text/plain": [
       "107"
      ]
     },
     "execution_count": 29,
     "metadata": {},
     "output_type": "execute_result"
    }
   ],
   "source": [
    "table_T1Gado_2 = [df_table_T1Gado.loc[w] for w in df_table_T1Gado.index if (df_table_T1Gado.loc[w,'SeriesDescription']=='Sag CUBE T1 Gado')]\n",
    "df_table_T1Gado_2 = pd.DataFrame(table_T1Gado_2)\n",
    "\n",
    "table_T1Gado_GE = df_table_T1Gado_2[df_table_T1Gado_2['Station Name'] == 'MR02']\n",
    "df_table_T1Gado_GE = pd.DataFrame(table_T1Gado_GE)\n",
    "len(df_table_T1Gado_GE)"
   ]
  },
  {
   "cell_type": "markdown",
   "metadata": {},
   "source": [
    "Création du fichier csv des séries T1 avec Gado sur la GE"
   ]
  },
  {
   "cell_type": "code",
   "execution_count": 105,
   "metadata": {},
   "outputs": [],
   "source": [
    "df_table_T1Gado_GE.to_csv(os.path.join(PATH_DIR,'df_table_T1Gado_GE.csv'))"
   ]
  },
  {
   "cell_type": "markdown",
   "metadata": {},
   "source": [
    "# Constructions de la table contenant les FLAIR  et faites sur la GE"
   ]
  },
  {
   "cell_type": "code",
   "execution_count": 30,
   "metadata": {},
   "outputs": [
    {
     "data": {
      "text/plain": [
       "128"
      ]
     },
     "execution_count": 30,
     "metadata": {},
     "output_type": "execute_result"
    }
   ],
   "source": [
    "table_FLAIR_GE = [df_table_FLAIR.loc[w] for w in df_table_FLAIR.index if (('Sag' in df_table_FLAIR.loc[w,'SeriesDescription']) and (df_table_FLAIR.loc[w,'Station Name']=='MR02'))]\n",
    "df_table_FLAIR_GE = pd.DataFrame(table_FLAIR_GE)"
   ]
  },
  {
   "cell_type": "markdown",
   "metadata": {},
   "source": [
    "Création du fichier csv des séries FLAIR sur la GE"
   ]
  },
  {
   "cell_type": "code",
   "execution_count": 32,
   "metadata": {},
   "outputs": [],
   "source": [
    "df_table_FLAIR_GE.to_csv(os.path.join(PATH_DIR,'df_table_FLAIR_GE.csv'))"
   ]
  },
  {
   "cell_type": "code",
   "execution_count": 21,
   "metadata": {},
   "outputs": [],
   "source": [
    "df_table_FLAIR_GE.to_csv(os.path.join(PATH_DIR,'df_table_FLAIR_GE_2.csv'))\n",
    "# table FLAIR avec ajout de colonnes d'informations sur les séries : TE, TR, verion du logiciel, taille de la matrice"
   ]
  },
  {
   "cell_type": "markdown",
   "metadata": {},
   "source": [
    "Informations sur les séries"
   ]
  },
  {
   "cell_type": "code",
   "execution_count": 18,
   "metadata": {},
   "outputs": [],
   "source": [
    "table_FLAIR_GE_infos = df_table_FLAIR_GE[{'PatientID','StudyInstanceUID','SerieInstanceUID','StudyDate'}]\n",
    "df_table_FLAIR_GE_infos = pd.DataFrame(table_FLAIR_GE_infos)\n",
    "\n",
    "Repetition_Time = []\n",
    "Echo_Time = []\n",
    "Acquisition_Matrix = []\n",
    "Software_Versions = []\n",
    "\n",
    "for x in df_table_FLAIR_GE_infos.index : \n",
    "    serie = glob.glob(join(mypath,df_table_FLAIR_GE_infos.loc[x,'StudyInstanceUID'],df_table_FLAIR_GE_infos.loc[x,'SerieInstanceUID'],\"MR*\"),recursive = True)\n",
    "    ds=dcm.dcmread(serie[0])\n",
    "    Repetition_Time.append(ds.RepetitionTime)\n",
    "    Echo_Time.append(ds.EchoTime)\n",
    "    Acquisition_Matrix.append(ds.AcquisitionMatrix)\n",
    "    Software_Versions.append(ds.SoftwareVersions)\n",
    "        \n",
    "df_table_FLAIR_GE_infos['Software_Versions'] = Software_Versions\n",
    "df_table_FLAIR_GE_infos['Acquisition_Matrix'] = Acquisition_Matrix\n",
    "df_table_FLAIR_GE_infos['Repetition_Time'] = Repetition_Time\n",
    "df_table_FLAIR_GE_infos['Echo_Time'] = Echo_Time"
   ]
  },
  {
   "cell_type": "code",
   "execution_count": 195,
   "metadata": {},
   "outputs": [
    {
     "data": {
      "text/plain": [
       "Repetition_Time\n",
       "6000.0     11\n",
       "6500.0      1\n",
       "6800.0    116\n",
       "Name: SerieInstanceUID, dtype: int64"
      ]
     },
     "execution_count": 195,
     "metadata": {},
     "output_type": "execute_result"
    }
   ],
   "source": [
    "df_table_FLAIR_GE_infos.groupby('Repetition_Time')['SerieInstanceUID'].nunique()"
   ]
  },
  {
   "cell_type": "markdown",
   "metadata": {},
   "source": [
    "Ajout d'une colonne Repetition Time à la table des FLAIR sur la GE"
   ]
  },
  {
   "cell_type": "code",
   "execution_count": 19,
   "metadata": {},
   "outputs": [],
   "source": [
    "df_table_FLAIR_GE['Repetition_Time'] = Repetition_Time"
   ]
  },
  {
   "cell_type": "markdown",
   "metadata": {},
   "source": [
    "# On rassemble les tables T1 et FLAIR sur GE"
   ]
  },
  {
   "cell_type": "code",
   "execution_count": 127,
   "metadata": {},
   "outputs": [
    {
     "data": {
      "text/plain": [
       "91"
      ]
     },
     "execution_count": 127,
     "metadata": {},
     "output_type": "execute_result"
    }
   ],
   "source": [
    "T1_FLAIR_GE = df_table_T1_GE.merge(df_table_FLAIR_GE,left_on='StudyInstanceUID',right_on='StudyInstanceUID',suffixes=('_T1', '_FLAIR'))\n",
    "len(T1_FLAIR_GE)"
   ]
  },
  {
   "cell_type": "markdown",
   "metadata": {},
   "source": [
    "Création du fichier csv des études avec un T1 et un FLAIR sur la GE"
   ]
  },
  {
   "cell_type": "code",
   "execution_count": 34,
   "metadata": {},
   "outputs": [],
   "source": [
    "T1_FLAIR_GE.to_csv(os.path.join(PATH_DIR,'T1_FLAIR_GE.csv'))"
   ]
  },
  {
   "cell_type": "markdown",
   "metadata": {},
   "source": [
    "# On rassemble les tables T1Gado et FLAIR sur GE"
   ]
  },
  {
   "cell_type": "code",
   "execution_count": 128,
   "metadata": {},
   "outputs": [
    {
     "data": {
      "text/plain": [
       "98"
      ]
     },
     "execution_count": 128,
     "metadata": {},
     "output_type": "execute_result"
    }
   ],
   "source": [
    "T1Gado_FLAIR_GE = df_table_T1Gado_GE.merge(df_table_FLAIR_GE,left_on='StudyInstanceUID',right_on='StudyInstanceUID',suffixes=('_T1', '_FLAIR'))\n",
    "len(T1Gado_FLAIR_GE)"
   ]
  },
  {
   "cell_type": "markdown",
   "metadata": {},
   "source": [
    "Création du fichier csv des études avec un T1 Gado et un FLAIR sur la GE"
   ]
  },
  {
   "cell_type": "code",
   "execution_count": 112,
   "metadata": {},
   "outputs": [],
   "source": [
    "T1Gado_FLAIR_GE.to_csv(os.path.join(PATH_DIR,'T1Gado_FLAIR_GE.csv'))"
   ]
  },
  {
   "cell_type": "markdown",
   "metadata": {},
   "source": [
    "# Attribution des scores"
   ]
  },
  {
   "cell_type": "code",
   "execution_count": 31,
   "metadata": {},
   "outputs": [],
   "source": [
    "liste_score = []\n",
    "for x in ma_table['StudyInstanceUID'] : \n",
    "    score = 0\n",
    "    score_T1 = df_table_T1_GE[df_table_T1_GE[\"StudyInstanceUID\"].str.contains(x) == True]\n",
    "    if len(score_T1) >= 1 :\n",
    "        score += 100\n",
    "    score_T1Gado = df_table_T1Gado_GE[df_table_T1Gado_GE[\"StudyInstanceUID\"].str.contains(x) == True]\n",
    "    if len(score_T1Gado) >= 1 :\n",
    "        score += 10\n",
    "    score_FLAIR = df_table_FLAIR_GE[df_table_FLAIR_GE[\"StudyInstanceUID\"].str.contains(x) == True]\n",
    "    if len(score_FLAIR) >= 1 :\n",
    "        score += 1  \n",
    "    liste_score.append(score)"
   ]
  },
  {
   "cell_type": "markdown",
   "metadata": {},
   "source": [
    "Ajout des scores à ma_table"
   ]
  },
  {
   "cell_type": "code",
   "execution_count": 32,
   "metadata": {},
   "outputs": [],
   "source": [
    "ma_table['Score'] = liste_score"
   ]
  },
  {
   "cell_type": "markdown",
   "metadata": {},
   "source": [
    "Création d'un dataframe des scores avec StudyInstanceUID unique"
   ]
  },
  {
   "cell_type": "code",
   "execution_count": 34,
   "metadata": {},
   "outputs": [],
   "source": [
    "score_series = ma_table[{'PatientID', 'PatientName', 'PatientBirthDate', 'PatientSex', 'AccessionNumber', 'StudyDate', 'StudyTime', 'StudyInstanceUID', 'Station Name', 'Score'}]\n",
    "score_series = score_series.reindex(columns = ['PatientID', 'PatientName', 'PatientBirthDate', 'PatientSex', 'AccessionNumber', 'StudyDate', 'StudyTime', 'StudyInstanceUID', 'Station Name', 'Score'])\n",
    "df_score = pd.DataFrame(score_series)\n",
    "df_score.drop_duplicates(subset =\"StudyInstanceUID\", keep = 'first', inplace=True)"
   ]
  },
  {
   "cell_type": "code",
   "execution_count": 175,
   "metadata": {},
   "outputs": [
    {
     "name": "stdout",
     "output_type": "stream",
     "text": [
      "Score\n",
      "0      71\n",
      "1      29\n",
      "10      3\n",
      "11      9\n",
      "101     6\n",
      "110     7\n",
      "111    83\n",
      "Name: StudyInstanceUID, dtype: int64\n"
     ]
    }
   ],
   "source": [
    "repart_scores = ma_table.groupby('Score')['StudyInstanceUID'].nunique()\n",
    "print(repart_scores)"
   ]
  },
  {
   "cell_type": "markdown",
   "metadata": {},
   "source": [
    "# Essais"
   ]
  },
  {
   "cell_type": "code",
   "execution_count": 50,
   "metadata": {},
   "outputs": [],
   "source": [
    "#ma_table = ma_table.sort_values('StudyInstanceUID')"
   ]
  },
  {
   "cell_type": "code",
   "execution_count": 217,
   "metadata": {},
   "outputs": [],
   "source": [
    "# Affichage de la totalité des lignes du dataframe\n",
    "#pd.set_option('display.max_rows', None)"
   ]
  },
  {
   "cell_type": "code",
   "execution_count": 60,
   "metadata": {
    "collapsed": true,
    "jupyter": {
     "outputs_hidden": true
    }
   },
   "outputs": [
    {
     "data": {
      "text/html": [
       "<div>\n",
       "<style scoped>\n",
       "    .dataframe tbody tr th:only-of-type {\n",
       "        vertical-align: middle;\n",
       "    }\n",
       "\n",
       "    .dataframe tbody tr th {\n",
       "        vertical-align: top;\n",
       "    }\n",
       "\n",
       "    .dataframe thead th {\n",
       "        text-align: right;\n",
       "    }\n",
       "</style>\n",
       "<table border=\"1\" class=\"dataframe\">\n",
       "  <thead>\n",
       "    <tr style=\"text-align: right;\">\n",
       "      <th></th>\n",
       "      <th>SeriesDescription</th>\n",
       "      <th>PatientID</th>\n",
       "    </tr>\n",
       "  </thead>\n",
       "  <tbody>\n",
       "    <tr>\n",
       "      <th>1643</th>\n",
       "      <td>LOCA HASTE CERVICAL</td>\n",
       "      <td>500061953</td>\n",
       "    </tr>\n",
       "    <tr>\n",
       "      <th>1645</th>\n",
       "      <td>SAG T2 3D SPACE</td>\n",
       "      <td>500061953</td>\n",
       "    </tr>\n",
       "    <tr>\n",
       "      <th>1644</th>\n",
       "      <td>PhoenixZIPReport</td>\n",
       "      <td>500061953</td>\n",
       "    </tr>\n",
       "    <tr>\n",
       "      <th>2439</th>\n",
       "      <td>T1 SE AXIAL</td>\n",
       "      <td>102887393</td>\n",
       "    </tr>\n",
       "    <tr>\n",
       "      <th>2441</th>\n",
       "      <td>DIFF_RESOLVE 5MM_ADC</td>\n",
       "      <td>102887393</td>\n",
       "    </tr>\n",
       "    <tr>\n",
       "      <th>...</th>\n",
       "      <td>...</td>\n",
       "      <td>...</td>\n",
       "    </tr>\n",
       "    <tr>\n",
       "      <th>2312</th>\n",
       "      <td>Sag CUBE T1</td>\n",
       "      <td>96301</td>\n",
       "    </tr>\n",
       "    <tr>\n",
       "      <th>2313</th>\n",
       "      <td>Ax Diffusion b1000</td>\n",
       "      <td>96301</td>\n",
       "    </tr>\n",
       "    <tr>\n",
       "      <th>2314</th>\n",
       "      <td>Cal Head 24</td>\n",
       "      <td>96301</td>\n",
       "    </tr>\n",
       "    <tr>\n",
       "      <th>2315</th>\n",
       "      <td>Ax T2* GRE FFE</td>\n",
       "      <td>96301</td>\n",
       "    </tr>\n",
       "    <tr>\n",
       "      <th>2316</th>\n",
       "      <td>Sag CUBE T2 FLAIR FS</td>\n",
       "      <td>96301</td>\n",
       "    </tr>\n",
       "  </tbody>\n",
       "</table>\n",
       "<p>2044 rows × 2 columns</p>\n",
       "</div>"
      ],
      "text/plain": [
       "         SeriesDescription  PatientID\n",
       "1643  LOCA HASTE CERVICAL   500061953\n",
       "1645      SAG T2 3D SPACE   500061953\n",
       "1644      PhoenixZIPReport  500061953\n",
       "2439          T1 SE AXIAL   102887393\n",
       "2441  DIFF_RESOLVE 5MM_ADC  102887393\n",
       "...                    ...        ...\n",
       "2312          Sag CUBE T1       96301\n",
       "2313    Ax Diffusion b1000      96301\n",
       "2314          Cal Head 24       96301\n",
       "2315        Ax T2* GRE FFE      96301\n",
       "2316  Sag CUBE T2 FLAIR FS      96301\n",
       "\n",
       "[2044 rows x 2 columns]"
      ]
     },
     "execution_count": 60,
     "metadata": {},
     "output_type": "execute_result"
    }
   ],
   "source": [
    "ma_table[{'SeriesDescription','PatientID'}]"
   ]
  },
  {
   "cell_type": "code",
   "execution_count": 54,
   "metadata": {},
   "outputs": [
    {
     "name": "stdout",
     "output_type": "stream",
     "text": [
      "SeriesDescription\n",
      "PatientID\n"
     ]
    }
   ],
   "source": [
    "for f in ma_table[{'SeriesDescription','PatientID'}]:\n",
    "    print(f)"
   ]
  },
  {
   "cell_type": "code",
   "execution_count": 393,
   "metadata": {
    "collapsed": true,
    "jupyter": {
     "outputs_hidden": true
    }
   },
   "outputs": [
    {
     "ename": "AttributeError",
     "evalue": "'str' object has no attribute 'loc'",
     "output_type": "error",
     "traceback": [
      "\u001b[0;31m-----------------------------------------------------------------------\u001b[0m",
      "\u001b[0;31mAttributeError\u001b[0m                        Traceback (most recent call last)",
      "\u001b[0;32m<ipython-input-393-8df17250823b>\u001b[0m in \u001b[0;36m<module>\u001b[0;34m\u001b[0m\n\u001b[1;32m      1\u001b[0m \u001b[0;31m#onlyfiles = [f for f in listdir(mypath) if isfile(join(mypath, f))]\u001b[0m\u001b[0;34m\u001b[0m\u001b[0;34m\u001b[0m\u001b[0;34m\u001b[0m\u001b[0m\n\u001b[0;32m----> 2\u001b[0;31m \u001b[0monlyfiles\u001b[0m \u001b[0;34m=\u001b[0m \u001b[0;34m[\u001b[0m\u001b[0mf\u001b[0m\u001b[0;34m.\u001b[0m\u001b[0mloc\u001b[0m\u001b[0;34m[\u001b[0m\u001b[0mf\u001b[0m\u001b[0;34m.\u001b[0m\u001b[0mindex\u001b[0m\u001b[0;34m,\u001b[0m\u001b[0;34m'PatientID'\u001b[0m\u001b[0;34m]\u001b[0m \u001b[0;32mfor\u001b[0m \u001b[0mf\u001b[0m \u001b[0;32min\u001b[0m \u001b[0mma_table\u001b[0m\u001b[0;34m[\u001b[0m\u001b[0;34m{\u001b[0m\u001b[0;34m'SeriesDescription'\u001b[0m\u001b[0;34m,\u001b[0m\u001b[0;34m'PatientID'\u001b[0m\u001b[0;34m}\u001b[0m\u001b[0;34m]\u001b[0m \u001b[0;32mif\u001b[0m \u001b[0;34m'T1'\u001b[0m \u001b[0;32min\u001b[0m \u001b[0mf\u001b[0m\u001b[0;34m.\u001b[0m\u001b[0mloc\u001b[0m\u001b[0;34m[\u001b[0m\u001b[0;34m'SeriesDescription'\u001b[0m\u001b[0;34m]\u001b[0m\u001b[0;34m]\u001b[0m\u001b[0;34m\u001b[0m\u001b[0;34m\u001b[0m\u001b[0m\n\u001b[0m\u001b[1;32m      3\u001b[0m \u001b[0monlyfiles\u001b[0m\u001b[0;34m\u001b[0m\u001b[0;34m\u001b[0m\u001b[0m\n",
      "\u001b[0;32m<ipython-input-393-8df17250823b>\u001b[0m in \u001b[0;36m<listcomp>\u001b[0;34m(.0)\u001b[0m\n\u001b[1;32m      1\u001b[0m \u001b[0;31m#onlyfiles = [f for f in listdir(mypath) if isfile(join(mypath, f))]\u001b[0m\u001b[0;34m\u001b[0m\u001b[0;34m\u001b[0m\u001b[0;34m\u001b[0m\u001b[0m\n\u001b[0;32m----> 2\u001b[0;31m \u001b[0monlyfiles\u001b[0m \u001b[0;34m=\u001b[0m \u001b[0;34m[\u001b[0m\u001b[0mf\u001b[0m\u001b[0;34m.\u001b[0m\u001b[0mloc\u001b[0m\u001b[0;34m[\u001b[0m\u001b[0mf\u001b[0m\u001b[0;34m.\u001b[0m\u001b[0mindex\u001b[0m\u001b[0;34m,\u001b[0m\u001b[0;34m'PatientID'\u001b[0m\u001b[0;34m]\u001b[0m \u001b[0;32mfor\u001b[0m \u001b[0mf\u001b[0m \u001b[0;32min\u001b[0m \u001b[0mma_table\u001b[0m\u001b[0;34m[\u001b[0m\u001b[0;34m{\u001b[0m\u001b[0;34m'SeriesDescription'\u001b[0m\u001b[0;34m,\u001b[0m\u001b[0;34m'PatientID'\u001b[0m\u001b[0;34m}\u001b[0m\u001b[0;34m]\u001b[0m \u001b[0;32mif\u001b[0m \u001b[0;34m'T1'\u001b[0m \u001b[0;32min\u001b[0m \u001b[0mf\u001b[0m\u001b[0;34m.\u001b[0m\u001b[0mloc\u001b[0m\u001b[0;34m[\u001b[0m\u001b[0;34m'SeriesDescription'\u001b[0m\u001b[0;34m]\u001b[0m\u001b[0;34m]\u001b[0m\u001b[0;34m\u001b[0m\u001b[0;34m\u001b[0m\u001b[0m\n\u001b[0m\u001b[1;32m      3\u001b[0m \u001b[0monlyfiles\u001b[0m\u001b[0;34m\u001b[0m\u001b[0;34m\u001b[0m\u001b[0m\n",
      "\u001b[0;31mAttributeError\u001b[0m: 'str' object has no attribute 'loc'"
     ]
    }
   ],
   "source": [
    "#onlyfiles = [f for f in listdir(mypath) if isfile(join(mypath, f))]\n",
    "#onlyfiles = [f.loc[f.index,'PatientID'] for f in ma_table[{'SeriesDescription','PatientID'}] if 'T1' in f.loc['SeriesDescription']]   \n",
    "onlyfiles"
   ]
  },
  {
   "cell_type": "code",
   "execution_count": 127,
   "metadata": {},
   "outputs": [
    {
     "data": {
      "text/plain": [
       "555"
      ]
     },
     "execution_count": 127,
     "metadata": {},
     "output_type": "execute_result"
    }
   ],
   "source": [
    "onlyfiles = [f for f in ma_table['SeriesDescription'] if 'T1' in f]\n",
    "len(onlyfiles)"
   ]
  },
  {
   "cell_type": "code",
   "execution_count": 224,
   "metadata": {},
   "outputs": [],
   "source": [
    "#ma_table.loc[ma_table['SeriesDescription']=='rfmt'or ma_table['SeriesDescription']=='RFMT'or ma_table['SeriesDescription']=='RFT' ]\n",
    "#ma_table['SeriesDescription']=='rfmt' # ma_table['SeriesDescription']=='RMFT'"
   ]
  },
  {
   "cell_type": "code",
   "execution_count": 104,
   "metadata": {},
   "outputs": [
    {
     "data": {
      "text/plain": [
       "208"
      ]
     },
     "execution_count": 104,
     "metadata": {},
     "output_type": "execute_result"
    }
   ],
   "source": [
    "len(set(ma_table['StudyInstanceUID']))"
   ]
  },
  {
   "cell_type": "code",
   "execution_count": 37,
   "metadata": {
    "collapsed": true,
    "jupyter": {
     "outputs_hidden": true
    }
   },
   "outputs": [
    {
     "data": {
      "text/plain": [
       "Dataset.file_meta -------------------------------\n",
       "(0002, 0000) File Meta Information Group Length  UL: 216\n",
       "(0002, 0001) File Meta Information Version       OB: b'\\x00\\x01'\n",
       "(0002, 0002) Media Storage SOP Class UID         UI: MR Image Storage\n",
       "(0002, 0003) Media Storage SOP Instance UID      UI: 1.2.840.113619.2.374.2807.1582298.13984.1638181039.209\n",
       "(0002, 0010) Transfer Syntax UID                 UI: Explicit VR Little Endian\n",
       "(0002, 0012) Implementation Class UID            UI: 1.2.276.0.7230010.3.0.3.6.4\n",
       "(0002, 0013) Implementation Version Name         SH: 'OFFIS_DCMTK_364'\n",
       "(0002, 0016) Source Application Entity Title     AE: 'CHRUL_QRP'\n",
       "-------------------------------------------------\n",
       "(0008, 0005) Specific Character Set              CS: 'ISO_IR 100'\n",
       "(0008, 0008) Image Type                          CS: ['ORIGINAL', 'PRIMARY', 'OTHER']\n",
       "(0008, 0016) SOP Class UID                       UI: MR Image Storage\n",
       "(0008, 0018) SOP Instance UID                    UI: 1.2.840.113619.2.374.2807.1582298.13984.1638181039.209\n",
       "(0008, 0020) Study Date                          DA: '20211202'\n",
       "(0008, 0021) Series Date                         DA: '20211202'\n",
       "(0008, 0022) Acquisition Date                    DA: '20211202'\n",
       "(0008, 0023) Content Date                        DA: '20211202'\n",
       "(0008, 0030) Study Time                          TM: '143321'\n",
       "(0008, 0031) Series Time                         TM: '144233'\n",
       "(0008, 0032) Acquisition Time                    TM: '144233'\n",
       "(0008, 0033) Content Time                        TM: '144233'\n",
       "(0008, 0050) Accession Number                    SH: '7036063'\n",
       "(0008, 0060) Modality                            CS: 'MR'\n",
       "(0008, 0070) Manufacturer                        LO: 'GE MEDICAL SYSTEMS'\n",
       "(0008, 0080) Institution Name                    LO: 'HOP Salengro'\n",
       "(0008, 0090) Referring Physician's Name          PN: '^^^^'\n",
       "(0008, 1010) Station Name                        SH: 'MR02'\n",
       "(0008, 1030) Study Description                   LO: 'IRM CEREBRALE +'\n",
       "(0008, 103e) Series Description                  LO: 'Sag CUBE T2 FLAIR FS'\n",
       "(0008, 1090) Manufacturer's Model Name           LO: 'Optima MR450w'\n",
       "(0008, 1110)  Referenced Study Sequence  1 item(s) ---- \n",
       "   (0008, 1150) Referenced SOP Class UID            UI: Detached Study Management SOP Class\n",
       "   (0008, 1155) Referenced SOP Instance UID         UI: 1.3.51.0.1.1.10.49.10.222.7036063.7037033\n",
       "   ---------\n",
       "(0008, 1111)  Referenced Performed Procedure Step Sequence  1 item(s) ---- \n",
       "   (0008, 1150) Referenced SOP Class UID            UI: Modality Performed Procedure Step SOP Class\n",
       "   (0008, 1155) Referenced SOP Instance UID         UI: 1.2.840.113619.6.374.329044658957614023949801722409974473882\n",
       "   ---------\n",
       "(0008, 1140)  Referenced Image Sequence  3 item(s) ---- \n",
       "   (0008, 1150) Referenced SOP Class UID            UI: MR Image Storage\n",
       "   (0008, 1155) Referenced SOP Instance UID         UI: 1.2.840.113619.2.374.2807.1582298.13984.1638181038.75\n",
       "   ---------\n",
       "   (0008, 1150) Referenced SOP Class UID            UI: MR Image Storage\n",
       "   (0008, 1155) Referenced SOP Instance UID         UI: 1.2.840.113619.2.374.2807.1582298.13984.1638181038.66\n",
       "   ---------\n",
       "   (0008, 1150) Referenced SOP Class UID            UI: MR Image Storage\n",
       "   (0008, 1155) Referenced SOP Instance UID         UI: 1.2.840.113619.2.374.2807.1582298.13984.1638181038.57\n",
       "   ---------\n",
       "(0009, 0010) Private Creator                     LO: 'GEMS_IDEN_01'\n",
       "(0009, 1002) [Suite id]                          SH: 'MR02'\n",
       "(0009, 1004) [Product id]                        SH: 'SIGNA'\n",
       "(0009, 1027) [Image actual date]                 SL: 1638456153\n",
       "(0009, 1030) [Service id]                        SH: 'T4185506'\n",
       "(0009, 1031) [Mobile location number]            SH: '9999'\n",
       "(0009, 10e3) [Equipment UID]                     UI: 1.2.840.113619.1.374.5.2807.1582298\n",
       "(0009, 10e9) [Actual series data time stamp]     SL: 1638456153\n",
       "(0010, 0010) Patient's Name                      PN: 'ABDOU^AHMED^^^'\n",
       "(0010, 0020) Patient ID                          LO: '500142255'\n",
       "(0010, 0030) Patient's Birth Date                DA: '19680811'\n",
       "(0010, 0040) Patient's Sex                       CS: 'M'\n",
       "(0010, 1000) Other Patient IDs                   LO: '168085951208479'\n",
       "(0010, 1010) Patient's Age                       AS: '053Y'\n",
       "(0010, 1030) Patient's Weight                    DS: '80.0'\n",
       "(0010, 21b0) Additional Patient History          LT: ''\n",
       "(0018, 0010) Contrast/Bolus Agent                LO: 'Y     y'\n",
       "(0018, 0020) Scanning Sequence                   CS: ['SE', 'IR']\n",
       "(0018, 0021) Sequence Variant                    CS: 'SK'\n",
       "(0018, 0022) Scan Options                        CS: ['SAT_GEMS', 'EDR_GEMS', 'FILTERED_GEMS', 'ACC_GEMS', 'FS']\n",
       "(0018, 0023) MR Acquisition Type                 CS: '3D'\n",
       "(0018, 0025) Angio Flag                          CS: 'N'\n",
       "(0018, 0050) Slice Thickness                     DS: '1.6'\n",
       "(0018, 0080) Repetition Time                     DS: '6800.0'\n",
       "(0018, 0081) Echo Time                           DS: '147.585'\n",
       "(0018, 0082) Inversion Time                      DS: '1871.0'\n",
       "(0018, 0083) Number of Averages                  DS: '1.0'\n",
       "(0018, 0084) Imaging Frequency                   DS: '63.894413'\n",
       "(0018, 0085) Imaged Nucleus                      SH: '1H'\n",
       "(0018, 0086) Echo Number(s)                      IS: '1'\n",
       "(0018, 0087) Magnetic Field Strength             DS: '1.5'\n",
       "(0018, 0088) Spacing Between Slices              DS: '0.799998'\n",
       "(0018, 0091) Echo Train Length                   IS: '220'\n",
       "(0018, 0093) Percent Sampling                    DS: '100.0'\n",
       "(0018, 0094) Percent Phase Field of View         DS: '85.0'\n",
       "(0018, 0095) Pixel Bandwidth                     DS: '162.773'\n",
       "(0018, 1000) Device Serial Number                LO: '00000000T4185506'\n",
       "(0018, 1020) Software Versions                   LO: ['25', 'LX', 'MR Software release:DV25.0_R01_1451.a']\n",
       "(0018, 1030) Protocol Name                       LO: 'RAB CRANE'\n",
       "(0018, 1040) Contrast/Bolus Route                LO: 'IV'\n",
       "(0018, 1088) Heart Rate                          IS: '0'\n",
       "(0018, 1090) Cardiac Number of Images            IS: '0'\n",
       "(0018, 1094) Trigger Window                      IS: '0'\n",
       "(0018, 1100) Reconstruction Diameter             DS: '260.0'\n",
       "(0018, 1250) Receive Coil Name                   SH: 'Head+Neck 40'\n",
       "(0018, 1310) Acquisition Matrix                  US: [0, 224, 224, 0]\n",
       "(0018, 1312) In-plane Phase Encoding Direction   CS: 'ROW'\n",
       "(0018, 1314) Flip Angle                          DS: '90.0'\n",
       "(0018, 1315) Variable Flip Angle Flag            CS: 'N'\n",
       "(0018, 1316) SAR                                 DS: '0.283179'\n",
       "(0018, 5100) Patient Position                    CS: 'HFS'\n",
       "(0019, 0010) Private Creator                     LO: 'GEMS_ACQU_01'\n",
       "(0019, 100f) [Horiz. Frame of ref.]              DS: '360.100006'\n",
       "(0019, 1011) [Series contrast]                   SS: 2\n",
       "(0019, 1012) [Last pseq]                         SS: 89\n",
       "(0019, 1017) [Series plane]                      SS: 16\n",
       "(0019, 1018) [First scan ras]                    LO: 'R'\n",
       "(0019, 1019) [First scan location]               DS: '77.7774'\n",
       "(0019, 101a) [Last scan ras]                     LO: 'L'\n",
       "(0019, 101b) [Last scan loc]                     DS: '-86.4187'\n",
       "(0019, 101e) [Display field of view]             DS: '221.0'\n",
       "(0019, 105a) [Acquisition Duration]              FL: 193951552.0\n",
       "(0019, 107d) [Second echo]                       DS: '0.0'\n",
       "(0019, 107e) [Number of echoes]                  SS: 1\n",
       "(0019, 107f) [Table delta]                       DS: '0.0'\n",
       "(0019, 1081) [Contiguous]                        SS: 0\n",
       "(0019, 1084) [Peak SAR]                          DS: '0.566358'\n",
       "(0019, 1087) [Cardiac repetition time]           DS: '0.0'\n",
       "(0019, 1088) [Images per cardiac cycle]          SS: 0\n",
       "(0019, 108a) [Actual receive gain analog]        SS: 10\n",
       "(0019, 108b) [Actual receive gain digital]       SS: 29\n",
       "(0019, 108d) [Delay after trigger]               DS: '0.0'\n",
       "(0019, 108f) [Swappf]                            SS: 0\n",
       "(0019, 1090) [Pause Interval]                    SS: 0\n",
       "(0019, 1091) [Pause Time]                        DS: '0.0'\n",
       "(0019, 1092) [Slice offset on freq axis]         SL: 0\n",
       "(0019, 1093) [Auto Prescan Center Frequency]     DS: '638944130.0'\n",
       "(0019, 1094) [Auto Prescan Transmit Gain]        SS: 176\n",
       "(0019, 1095) [Auto Prescan Analog receiver gain] SS: 10\n",
       "(0019, 1096) [Auto Prescan Digital receiver gain SS: 29\n",
       "(0019, 1097) [Bitmap defining CVs]               SL: 32\n",
       "(0019, 109b) [Pulse Sequence Mode]               SS: 1\n",
       "(0019, 109c) [Pulse Sequence Name]               LO: 'CubeT2flair'\n",
       "(0019, 109d) [Pulse Sequence Date]               DT: '20141217185347'\n",
       "(0019, 109e) [Internal Pulse Sequence Name]      LO: '3DFSE'\n",
       "(0019, 109f) [Transmitting Coil Type]            SS: 3\n",
       "(0019, 10a0) [Surface Coil Type]                 SS: 0\n",
       "(0019, 10a1) [Extremity Coil flag]               SS: 0\n",
       "(0019, 10a2) [Raw data run number]               SL: 3588\n",
       "(0019, 10a3) [Calibrated Field strength]         UL: 0\n",
       "(0019, 10a4) [SAT fat/water/bone]                SS: 1\n",
       "(0019, 10a7) [User data 0]                       DS: '1.0'\n",
       "(0019, 10a8) [User data 1]                       DS: '0.0'\n",
       "(0019, 10a9) [User data 2]                       DS: '0.0'\n",
       "(0019, 10aa) [User data 3]                       DS: '0.0'\n",
       "(0019, 10ab) [User data 4]                       DS: '0.0'\n",
       "(0019, 10ac) [User data 5]                       DS: '1.0'\n",
       "(0019, 10ad) [User data 6]                       DS: '0.0'\n",
       "(0019, 10ae) [User data 7]                       DS: '2.0'\n",
       "(0019, 10af) [User data 8]                       DS: '0.0'\n",
       "(0019, 10b0) [User data 9]                       DS: '0.0'\n",
       "(0019, 10b1) [User data 10]                      DS: '0.0'\n",
       "(0019, 10b2) [User data 11]                      DS: '0.0'\n",
       "(0019, 10b3) [User data 12]                      DS: '0.0'\n",
       "(0019, 10b4) [User data 13]                      DS: '0.0'\n",
       "(0019, 10b5) [User data 14]                      DS: '0.0'\n",
       "(0019, 10b6) [User data 15]                      DS: '0.0'\n",
       "(0019, 10b7) [User data 16]                      DS: '0.0'\n",
       "(0019, 10b8) [User data 17]                      DS: '0.0'\n",
       "(0019, 10b9) [User data 18]                      DS: '0.0'\n",
       "(0019, 10ba) [User data 19]                      DS: '0.0'\n",
       "(0019, 10bb) [User data 20]                      DS: '0.0'\n",
       "(0019, 10bc) [User data 21]                      DS: '0.0'\n",
       "(0019, 10bd) [User data 22]                      DS: '0.0'\n",
       "(0019, 10be) [Projection angle]                  DS: '0.0'\n",
       "(0019, 10c0) [Saturation planes]                 SS: 0\n",
       "(0019, 10c2) [SAT location R]                    SS: 9990\n",
       "(0019, 10c3) [SAT location L]                    SS: 9990\n",
       "(0019, 10c4) [SAT location A]                    SS: 9990\n",
       "(0019, 10c5) [SAT location P]                    SS: 9990\n",
       "(0019, 10c6) [SAT location H]                    SS: 9990\n",
       "(0019, 10c7) [SAT location F]                    SS: 9990\n",
       "(0019, 10c8) [SAT thickness R/L]                 SS: 0\n",
       "(0019, 10c9) [SAT thickness A/P]                 SS: 0\n",
       "(0019, 10ca) [SAT thickness H/F]                 SS: 0\n",
       "(0019, 10cb) [Phase Contrast flow axis]          SS: 0\n",
       "(0019, 10cc) [Velocity encoding]                 SS: 0\n",
       "(0019, 10cd) [Thickness disclaimer]              SS: 0\n",
       "(0019, 10ce) [Prescan type]                      SS: 2\n",
       "(0019, 10cf) [Prescan status]                    SS: 0\n",
       "(0019, 10d2) [Projection Algorithm]              SS: 0\n",
       "(0019, 10d3) [Projection Algorithm Name]         SH: ''\n",
       "(0019, 10d5) [Fractional echo]                   SS: 2\n",
       "(0019, 10d7) [Cardiac phase number]              SS: 0\n",
       "(0019, 10d8) [Variable echoflag]                 SS: 0\n",
       "(0019, 10d9) [Concatenated SAT {# DTI Diffusion  DS: '0.0'\n",
       "(0019, 10df) [User data 23 {# DTI Diffusion Dir. DS: '0.0'\n",
       "(0019, 10e0) [User data 24 {# DTI Diffusion Dir. DS: '0.0'\n",
       "(0019, 10e2) [Velocity Encode Scale]             DS: '0.0'\n",
       "(0019, 10f2) [Fast phases]                       SS: 0\n",
       "(0019, 10f9) [Transmit gain]                     DS: '176.0'\n",
       "(0020, 000d) Study Instance UID                  UI: 1.3.51.0.1.1.10.49.10.222.7036063.7037033\n",
       "(0020, 000e) Series Instance UID                 UI: 1.2.840.113619.2.374.2807.1582298.15832.1638180963.574\n",
       "(0020, 0010) Study ID                            SH: '12605'\n",
       "(0020, 0011) Series Number                       IS: '6'\n",
       "(0020, 0012) Acquisition Number                  IS: '1'\n",
       "(0020, 0013) Instance Number                     IS: '1'\n",
       "(0020, 0032) Image Position (Patient)            DS: [-62.6997, -170.055, 152.966]\n",
       "(0020, 0037) Image Orientation (Patient)         DS: [-0.0748986, 0.992659, -0.0949687, -0.0413105, -0.0982432, -0.994305]\n",
       "(0020, 0052) Frame of Reference UID              UI: 1.2.840.113619.2.374.2807.1582298.15832.1638180963.569\n",
       "(0020, 0060) Laterality                          CS: ''\n",
       "(0020, 1002) Images in Acquisition               IS: '208'\n",
       "(0020, 1040) Position Reference Indicator        LO: ''\n",
       "(0020, 1041) Slice Location                      DS: '77.77736664'\n",
       "(0020, 9056) Stack ID                            SH: '1'\n",
       "(0020, 9057) In-Stack Position Number            UL: 3\n",
       "(0021, 0010) Private Creator                     LO: 'GEMS_RELA_01'\n",
       "(0021, 1035) [Series from which prescribed]      SS: 1\n",
       "(0021, 1036) [Image from which prescribed]       SS: 22\n",
       "(0021, 1037) [Screen Format]                     SS: 16\n",
       "(0021, 104f) [Locations in acquisition]          SS: 104\n",
       "(0021, 1050) [Graphically prescribed]            SS: 0\n",
       "(0021, 1051) [Rotation from source x rot]        DS: '0.0'\n",
       "(0021, 1052) [Rotation from source y rot]        DS: '0.0'\n",
       "(0021, 1053) [Rotation from source z rot]        DS: '0.0'\n",
       "(0021, 1056) [Num 3D slabs]                      SL: 1\n",
       "(0021, 1057) [Locs per 3D slab]                  SL: 108\n",
       "(0021, 1058) [Overlaps]                          SL: 0\n",
       "(0021, 1059) [Image Filtering 0.5/0.2T]          SL: 0\n",
       "(0021, 105a) [Diffusion direction]               SL: 0\n",
       "(0021, 105b) [Tagging Flip Angle]                DS: '0.0'\n",
       "(0021, 105c) [Tagging Orientation]               DS: '0.0'\n",
       "(0021, 105d) [Tag Spacing]                       DS: '0.0'\n",
       "(0021, 105e) [RTIA_timer]                        DS: '0.0'\n",
       "(0021, 105f) [Fps]                               DS: '0.0'\n",
       "(0021, 1081) [Auto window/level alpha]           DS: '0.0'\n",
       "(0021, 1082) [Auto window/level beta]            DS: '0.0'\n",
       "(0021, 1083) [Auto window/level window]          DS: '0.0'\n",
       "(0021, 1084) [Auto window/level level]           DS: '0.0'\n",
       "(0023, 0010) Private Creator                     LO: 'GEMS_STDY_01'\n",
       "(0023, 1070) [Start time(secs) in first axial]   FD: 0.0\n",
       "(0023, 1074) [No. of updates to header]          SL: 0\n",
       "(0023, 107d) [Indicates study has complete info  SS: 0\n",
       "(0023, 1080)  Private tag data  1 item(s) ---- \n",
       "   (0008, 1120)  Referenced Patient Sequence  1 item(s) ---- \n",
       "      (0008, 1150) Referenced SOP Class UID            UI: Detached Patient Management SOP Class\n",
       "      (0008, 1155) Referenced SOP Instance UID         UI: 1.2.124.113532.80.22204.31588.20211118.125433.118714324\n",
       "      ---------\n",
       "   (0040, 0255) Performed Procedure Type Descriptio LO: ''\n",
       "   ---------\n",
       "(0025, 0010) Private Creator                     LO: 'GEMS_SERS_01'\n",
       "(0025, 1006) [Last pulse sequence used]          SS: 89\n",
       "(0025, 1007) [Images in Series]                  SL: 208\n",
       "(0025, 1010) [Landmark Counter]                  SL: 0\n",
       "(0025, 1011) [Number of Acquisitions]            SS: 1\n",
       "(0025, 1014) [Indicates no. of updates to header SL: 0\n",
       "(0025, 1017) [Series Complete Flag]              SL: 0\n",
       "(0025, 1018) [Number of images archived]         SL: 0\n",
       "(0025, 1019) [Last image number used]            SL: 208\n",
       "(0025, 101a) [Primary Receiver Suite and Host]   SH: 'MR02MR02'\n",
       "(0025, 101b) [Protocol Data Block (compressed)]  OB: Array of 892 elements\n",
       "(0027, 0010) Private Creator                     LO: 'GEMS_IMAG_01'\n",
       "(0027, 1006) [Image archive flag]                SL: 0\n",
       "(0027, 1010) [Scout Type]                        SS: 0\n",
       "(0027, 1030) [Foreign Image Revision]            SH: ''\n",
       "(0027, 1031) [Imaging Mode]                      SS: 9\n",
       "(0027, 1032) [Pulse Sequence]                    SS: 59\n",
       "(0027, 1033) [Imaging Options]                   UL: 1073743904\n",
       "(0027, 1035) [Plane Type]                        SS: 16\n",
       "(0027, 1040) [RAS letter of image location]      SH: 'R'\n",
       "(0027, 1041) [Image location]                    FL: 77.7773666381836\n",
       "(0027, 1060) [Image dimension - X]               FL: 224.0\n",
       "(0027, 1061) [Image dimension - Y]               FL: 224.0\n",
       "(0027, 1062) [Number of Excitations]             FL: 1.0\n",
       "(0028, 0002) Samples per Pixel                   US: 1\n",
       "(0028, 0004) Photometric Interpretation          CS: 'MONOCHROME2'\n",
       "(0028, 0010) Rows                                US: 512\n",
       "(0028, 0011) Columns                             US: 512\n",
       "(0028, 0030) Pixel Spacing                       DS: [0.5078, 0.5078]\n",
       "(0028, 0100) Bits Allocated                      US: 16\n",
       "(0028, 0101) Bits Stored                         US: 16\n",
       "(0028, 0102) High Bit                            US: 15\n",
       "(0028, 0103) Pixel Representation                US: 1\n",
       "(0028, 0106) Smallest Image Pixel Value          SS: 0\n",
       "(0028, 0107) Largest Image Pixel Value           SS: 182\n",
       "(0028, 1050) Window Center                       DS: '91.0'\n",
       "(0028, 1051) Window Width                        DS: '182.0'\n",
       "(0029, 0010) Private Creator                     LO: 'GEMS_IMPS_01'\n",
       "(0029, 0011) Private Creator                     LO: 'TELEMIS'\n",
       "(0029, 1015) [Lower range of Pixels1]            SL: 0\n",
       "(0029, 1016) [Upper range of Pixels1]            SL: 0\n",
       "(0029, 1017) [Lower range of Pixels2]            SL: 0\n",
       "(0029, 1018) [Upper range of Pixels2]            SL: 0\n",
       "(0029, 1026) [Version of the hdr struct]         SS: 2\n",
       "(0029, 1034) [Advantage comp. Overflow]          SL: 16384\n",
       "(0029, 1035) [Advantage comp. Underflow]         SL: 0\n",
       "(0029, 1104) Private tag data                    US: 42\n",
       "(0032, 1032) Requesting Physician                PN: '^^^^'\n",
       "(0040, 0242) Performed Station Name              SH: 'MR02'\n",
       "(0040, 0243) Performed Location                  SH: 'MR02'\n",
       "(0040, 0244) Performed Procedure Step Start Date DA: '20211202'\n",
       "(0040, 0245) Performed Procedure Step Start Time TM: '143315'\n",
       "(0040, 0253) Performed Procedure Step ID         SH: '645.1638451995'\n",
       "(0040, 0254) Performed Procedure Step Descriptio LO: 'IRM CEREBRALE +'\n",
       "(0040, 0275)  Request Attributes Sequence  1 item(s) ---- \n",
       "   (0032, 1060) Requested Procedure Description     LO: 'IRM CEREBRALE +'\n",
       "   (0040, 0006) Scheduled Performing Physician's Na PN: 'AYACHI^MOHAMMED'\n",
       "   (0040, 0007) Scheduled Procedure Step Descriptio LO: 'IRM CEREBRALE +'\n",
       "   (0040, 0008)  Scheduled Protocol Code Sequence  1 item(s) ---- \n",
       "      (0008, 0100) Code Value                          SH: 'IC+'\n",
       "      (0008, 0102) Coding Scheme Designator            SH: 'SA'\n",
       "      (0008, 0104) Code Meaning                        LO: 'IRM CEREBRALE +'\n",
       "      ---------\n",
       "   (0040, 0009) Scheduled Procedure Step ID         SH: '7036063'\n",
       "   (0040, 1001) Requested Procedure ID              SH: '7036063'\n",
       "   ---------\n",
       "(0043, 0010) Private Creator                     LO: 'GEMS_PARM_01'\n",
       "(0043, 1001) [Bitmap of prescan options]         SS: 5\n",
       "(0043, 1002) [Gradient offset in X]              SS: 3\n",
       "(0043, 1003) [Gradient offset in Y]              SS: 0\n",
       "(0043, 1004) [Gradient offset in Z]              SS: -18\n",
       "(0043, 1006) [Number of EPI shots]               SS: 1\n",
       "(0043, 1007) [Views per segment]                 SS: 0\n",
       "(0043, 1008) [Respiratory rate, bpm]             SS: 0\n",
       "(0043, 1009) [Respiratory trigger point]         SS: 0\n",
       "(0043, 100a) [Type of receiver used]             SS: 1\n",
       "(0043, 100b) [DB/dt Peak rate of change of gradi DS: '0.0'\n",
       "(0043, 100c) [dB/dt Limits in units of percent]  DS: '100.0'\n",
       "(0043, 100d) [PSD estimated limit]               DS: '97.640602'\n",
       "(0043, 100e) [PSD estimated limit in tesla per s DS: '0.0'\n",
       "(0043, 1010) [Window value]                      US: 0\n",
       "(0043, 101c) [GE image integrity]                SS: 0\n",
       "(0043, 101d) [Level value]                       SS: 0\n",
       "(0043, 1028) [Unique image iden]                 OB: Array of 80 elements\n",
       "(0043, 1029) [Histogram tables]                  OB: Array of 2068 elements\n",
       "(0043, 102a) [User defined data]                 OB: Array of 5648 elements\n",
       "(0043, 102c) [Effective echo spacing]            SS: 0\n",
       "(0043, 102d) [Filter Mode (String slop field 1 i SH: 'p+'\n",
       "(0043, 102e) [String slop field 2]               SH: ''\n",
       "(0043, 102f) [Image Type (real, imaginary, phase SS: 0\n",
       "(0043, 1030) [Vas collapse flag]                 SS: 0\n",
       "(0043, 1032) [Vas flags]                         SS: 2\n",
       "(0043, 1033) [Neg_scanspacing]                   FL: 0.0\n",
       "(0043, 1034) [Offset Frequency]                  IS: '0'\n",
       "(0043, 1035) [User_usage_tag]                    UL: 0\n",
       "(0043, 1036) [User_fill_map_MSW]                 UL: 0\n",
       "(0043, 1037) [User_fill_map_LSW]                 UL: 0\n",
       "(0043, 1038) [User data 25...User data 48 {User4 FL: Array of 24 elements\n",
       "(0043, 1039) [Slop_int_6... slop_int_9]          IS: [0, 1073774688, 0, 0]\n",
       "(0043, 1060) [Slop_int_10...slop_int_17]         IS: [0, 0, 0, 0, 0, 0, 0, 66]\n",
       "(0043, 1061) [Scanner Study Entity UID]          UI: 1.3.51.0.1.1.10.49.10.222.7036063.7037033\n",
       "(0043, 1062) [Scanner Study ID]                  SH: '12605'\n",
       "(0043, 106f) [Scanner Table Entry (single gradie DS: [0, 0, 0, 0]\n",
       "(0043, 107d) [Recon mode flag word]              US: 0\n",
       "(0043, 1080) [Coil ID Data]                      LO: ['A:0', 'P1:0', 'P2:', 'GEHCmgHxAnOWwC5wbqfzHVkgYpYFLNQL', 'c000000013f7550f', 'P3:', 'GEHCI7HFfVvG51AKqAfF053zLiVoZFas', '1d0000001446f20f', 'P4:0']\n",
       "(0043, 1081) [GE Coil Name]                      LO: 'C-Head+Neck 40'\n",
       "(0043, 1082) [System Configuration Information]  LO: ['SRMode=120', 'GCoilType=11', 'gradientAmp=8921', 'lineFreq=50', 'RFampType=21']\n",
       "(0043, 1083) [Asset R Factors]                   DS: [0.5, 0.5]\n",
       "(0043, 1084) [Additional Asset Data]             LO: ['10000', '11', '-1', '0', '', 'YES', 'ARC']\n",
       "(0043, 1088) [PURE Acquisition Calibration Serie UI: 1.2.840.113619.2.374.2807.1582298.15832.1638180963.570\n",
       "(0043, 1089) [Governing Body, dB/dt, and SAR def LO: ['IEC', 'IEC_FIRST_LEVEL', 'IEC_FIRST_LEVEL']\n",
       "(0043, 108a) [Private In-Plane Phase Encoding Di CS: 'ROW'\n",
       "(0043, 1090) [SAR Definition]                    LO: ['WHOLE_BODY_6_MIN', 'LOCAL_PEAK_6_MIN', 'PARTIAL_BODY_6MIN']\n",
       "(0043, 1091) [SAR value]                         DS: [0.2832, 0.566358, 0.283179]\n",
       "(0043, 1095) [Prescan Reuse String]              LO: ''\n",
       "(0043, 1096) [Content Qualification]             CS: 'PRODUCT'\n",
       "(0043, 1097) [Image Filtering Parameters]        LO: ['2', '1', '1.5 0.2 0.2 6 128 0.6 1.5', '1.5 0.2 0.2 6 128 0.6 1.5', '1.5 0.2 0.2 6 128 0.6 1.5', '100', '0', '0', 'rev=1;a=75;b=2;c=32;d=8;e=3;f=2;g=1;h=10']\n",
       "(0043, 109a) [Rx Stack Identification]           IS: '1'\n",
       "(0043, 10aa) Private tag data                    LO: ['', 'rev=2;g=112.0;h=8.8;i=1.2']\n",
       "(0043, 10b1) Private tag data                    SS: 1\n",
       "(0054, 0081) Number of Slices                    US: 208\n",
       "(0073, 0010) Private Creator                     LO: 'STENTOR'\n",
       "(0073, 1001) [Unknown]                           ST: 'unknown'\n",
       "(0073, 1002) [Private Creator]                   ST: '10.49.24.213'\n",
       "(0073, 1003) [Stentor Remote AETitle Element]    ST: 'MR02'\n",
       "(0073, 1004) [Stentor Local AETitle Element]     ST: 'COL'\n",
       "(0073, 1006) [Stentor Transfer Syntax Value]     LO: '1.2.840.10008.1.2.1'\n",
       "(7fe0, 0010) Pixel Data                          OW: Array of 524288 elements"
      ]
     },
     "execution_count": 37,
     "metadata": {},
     "output_type": "execute_result"
    }
   ],
   "source": [
    "# essais \n",
    "serie = glob.glob(join(mypath,ma_table.loc[13,'StudyInstanceUID'],ma_table.loc[13,'SerieInstanceUID'],\"*\"),recursive = True)\n",
    "ds = dcm.dcmread(serie[0])\n",
    "ds"
   ]
  },
  {
   "cell_type": "code",
   "execution_count": null,
   "metadata": {},
   "outputs": [],
   "source": [
    "#table_T1_GE=df_table_T1_2.set_index(['PatientID'])\n",
    "#table_FLAIR_GE=df_table_FLAIR_2.set_index(['PatientID'])\n",
    "#T1_FLAIR_GE=df_table_T1_2.join(df_table_FLAIR_2,how='left',on='PatientID',lsuffix='T1',rsuffix='FLAIR')\n",
    "#T1_FLAIR_GE.to_csv(os.path.join(PATH_DIR,'T1_FLAIR_GE.csv'))\n",
    "T1_FLAIR_GE = df_table_T1_GE.merge(df_table_FLAIR_GE,left_on='StudyInstanceUID',right_on='StudyInstanceUID',suffixes=('_T1', '_FLAIR'))\n",
    "len(T1_FLAIR_GE)"
   ]
  },
  {
   "cell_type": "markdown",
   "metadata": {},
   "source": [
    "# Ici les fichiers dicoms (dcm)"
   ]
  },
  {
   "cell_type": "code",
   "execution_count": 5,
   "metadata": {
    "collapsed": true,
    "jupyter": {
     "outputs_hidden": true
    }
   },
   "outputs": [
    {
     "data": {
      "text/plain": [
       "Dataset.file_meta -------------------------------\n",
       "(0002, 0000) File Meta Information Group Length  UL: 216\n",
       "(0002, 0001) File Meta Information Version       OB: b'\\x00\\x01'\n",
       "(0002, 0002) Media Storage SOP Class UID         UI: Secondary Capture Image Storage\n",
       "(0002, 0003) Media Storage SOP Instance UID      UI: 1.3.46.670589.50.167746771223637.6700.1623352010063.4\n",
       "(0002, 0010) Transfer Syntax UID                 UI: Explicit VR Little Endian\n",
       "(0002, 0012) Implementation Class UID            UI: 1.2.276.0.7230010.3.0.3.6.4\n",
       "(0002, 0013) Implementation Version Name         SH: 'OFFIS_DCMTK_364'\n",
       "(0002, 0016) Source Application Entity Title     AE: 'CHRUL_QRP'\n",
       "-------------------------------------------------\n",
       "(0008, 0005) Specific Character Set              CS: 'ISO_IR 100'\n",
       "(0008, 0008) Image Type                          CS: ['DERIVED', 'SECONDARY']\n",
       "(0008, 0012) Instance Creation Date              DA: '20210610'\n",
       "(0008, 0013) Instance Creation Time              TM: '190650.063000'\n",
       "(0008, 0016) SOP Class UID                       UI: Secondary Capture Image Storage\n",
       "(0008, 0018) SOP Instance UID                    UI: 1.3.46.670589.50.167746771223637.6700.1623352010063.4\n",
       "(0008, 0020) Study Date                          DA: '20210610'\n",
       "(0008, 0021) Series Date                         DA: '20210610'\n",
       "(0008, 0022) Acquisition Date                    DA: '20210610'\n",
       "(0008, 0023) Content Date                        DA: '20210610'\n",
       "(0008, 0030) Study Time                          TM: '182538'\n",
       "(0008, 0031) Series Time                         TM: '190558.063000'\n",
       "(0008, 0032) Acquisition Time                    TM: '184619.440000'\n",
       "(0008, 0033) Content Time                        TM: '184619.440000'\n",
       "(0008, 0050) Accession Number                    SH: '6731818'\n",
       "(0008, 0060) Modality                            CS: 'MR'\n",
       "(0008, 0064) Conversion Type                     CS: 'WSD'\n",
       "(0008, 0070) Manufacturer                        LO: 'Philips'\n",
       "(0008, 0080) Institution Name                    LO: 'Philips Portal'\n",
       "(0008, 0081) Institution Address                 ST: 'Philips Portal'\n",
       "(0008, 0090) Referring Physician's Name          PN: '^^^^'\n",
       "(0008, 1010) Station Name                        SH: 'PHILIPS-2RTT9SD'\n",
       "(0008, 1030) Study Description                   LO: 'I CERE'\n",
       "(0008, 1032)  Procedure Code Sequence  1 item(s) ---- \n",
       "   (0008, 0100) Code Value                          SH: 'ICERE'\n",
       "   (0008, 0102) Coding Scheme Designator            SH: 'QDOC'\n",
       "   (0008, 0104) Code Meaning                        LO: 'I CERE'\n",
       "   (0008, 010b) Context Group Extension Flag        CS: 'N'\n",
       "   ---------\n",
       "(0008, 103e) Series Description                  LO: '3D_BrainVIEW_T1W'\n",
       "(0008, 1040) Institutional Department Name       LO: 'Philips Portal'\n",
       "(0008, 1050) Performing Physician's Name         PN: 'UNKNOWN'\n",
       "(0008, 1070) Operators' Name                     PN: ''\n",
       "(0008, 1080) Admitting Diagnoses Description     LO: ''\n",
       "(0008, 1090) Manufacturer's Model Name           LO: 'Ingenia'\n",
       "(0008, 1110)  Referenced Study Sequence  1 item(s) ---- \n",
       "   (0008, 1150) Referenced SOP Class UID            UI: Detached Study Management SOP Class\n",
       "   (0008, 1155) Referenced SOP Instance UID         UI: 1.3.51.0.1.1.10.49.10.222.6731818.6732586\n",
       "   (2001, 0010) Private Creator                     LO: 'Philips Imaging DD 001'\n",
       "   (2001, 10c1) [Nested Object Type Name]           LO: 'Reference'\n",
       "   ---------\n",
       "(0010, 0010) Patient's Name                      PN: 'PEUCHAUD^MARIE-PIERRE^^Mme^'\n",
       "(0010, 0020) Patient ID                          LO: '500103566'\n",
       "(0010, 0030) Patient's Birth Date                DA: '19631125'\n",
       "(0010, 0040) Patient's Sex                       CS: 'F'\n",
       "(0010, 1000) Other Patient IDs                   LO: '263113301119436'\n",
       "(0010, 1010) Patient's Age                       AS: '057Y'\n",
       "(0010, 1030) Patient's Weight                    DS: '80.0'\n",
       "(0010, 2000) Medical Alerts                      LO: ''\n",
       "(0010, 2110) Allergies                           LO: ''\n",
       "(0010, 2160) Ethnic Group                        SH: ''\n",
       "(0010, 2180) Occupation                          SH: ''\n",
       "(0010, 21b0) Additional Patient History          LT: ''\n",
       "(0010, 21c0) Pregnancy Status                    US: 1\n",
       "(0010, 4000) Patient Comments                    LT: ''\n",
       "(0018, 0015) Body Part Examined                  CS: 'HEAD'\n",
       "(0018, 1000) Device Serial Number                LO: '70598'\n",
       "(0018, 1010) Secondary Capture Device ID         LO: '2.4.46.678'\n",
       "(0018, 1012) Date of Secondary Capture           DA: '20210610'\n",
       "(0018, 1014) Time of Secondary Capture           TM: '190650.063000'\n",
       "(0018, 1016) Secondary Capture Device Manufactur LO: 'PHILIPS'\n",
       "(0018, 1018) Secondary Capture Device Manufactur LO: 'IntelliSpace Portal'\n",
       "(0018, 1019) Secondary Capture Device Software V LO: 'v11.1.3.11608'\n",
       "(0018, 1020) Software Versions                   LO: 'IntelliSpace 8.0'\n",
       "(0018, 1030) Protocol Name                       LO: '3D_BrainVIEW_T1W'\n",
       "(0018, a001)  Contributing Equipment Sequence  1 item(s) ---- \n",
       "   (0008, 0070) Manufacturer                        LO: 'Philips'\n",
       "   (0008, 0080) Institution Name                    LO: 'Philips Medical Systems'\n",
       "   (0008, 0081) Institution Address                 ST: 'Hospital address'\n",
       "   (0008, 1010) Station Name                        SH: ''\n",
       "   (0008, 1040) Institutional Department Name       LO: 'CTO C and S'\n",
       "   (0008, 1090) Manufacturer's Model Name           LO: ''\n",
       "   (0018, 1000) Device Serial Number                LO: '2.4.46.678'\n",
       "   (0018, 1020) Software Versions                   LO: '11.3.0.0'\n",
       "   (0018, a002) Contribution DateTime               DT: '20210610190650.063023'\n",
       "   (0018, a003) Contribution Description            ST: 'Derived image creation'\n",
       "   (0040, a170)  Purpose of Reference Code Sequence  1 item(s) ---- \n",
       "      (0008, 0100) Code Value                          SH: '109103'\n",
       "      (0008, 0102) Coding Scheme Designator            SH: 'DCM'\n",
       "      (0008, 0104) Code Meaning                        LO: 'Modifying Equipment'\n",
       "      ---------\n",
       "   ---------\n",
       "(0020, 000d) Study Instance UID                  UI: 1.3.51.0.1.1.10.49.10.222.6731818.6732586\n",
       "(0020, 000e) Series Instance UID                 UI: 1.3.46.670589.50.167746771223637.6700.1623351958063\n",
       "(0020, 0010) Study ID                            SH: '6731818'\n",
       "(0020, 0011) Series Number                       IS: '80100'\n",
       "(0020, 0013) Instance Number                     IS: '1'\n",
       "(0020, 0020) Patient Orientation                 CS: ''\n",
       "(0028, 0002) Samples per Pixel                   US: 3\n",
       "(0028, 0004) Photometric Interpretation          CS: 'RGB'\n",
       "(0028, 0006) Planar Configuration                US: 0\n",
       "(0028, 0010) Rows                                US: 931\n",
       "(0028, 0011) Columns                             US: 1637\n",
       "(0028, 0100) Bits Allocated                      US: 8\n",
       "(0028, 0101) Bits Stored                         US: 8\n",
       "(0028, 0102) High Bit                            US: 7\n",
       "(0028, 0103) Pixel Representation                US: 0\n",
       "(0028, 0301) Burned In Annotation                CS: 'YES'\n",
       "(0032, 1032) Requesting Physician                PN: '^^^^'\n",
       "(0032, 1033) Requesting Service                  LO: 'QPROD'\n",
       "(0032, 1060) Requested Procedure Description     LO: 'I CERE'\n",
       "(0032, 1070) Requested Contrast Agent            LO: ''\n",
       "(0032, 4000) Study Comments                      LT: ''\n",
       "(0038, 0050) Special Needs                       LO: ''\n",
       "(0038, 0500) Patient State                       LO: ''\n",
       "(0040, 0006) Scheduled Performing Physician's Na PN: 'UNKNOWN'\n",
       "(0040, 0275)  Request Attributes Sequence  1 item(s) ---- \n",
       "   (0008, 0050) Accession Number                    SH: '6731818'\n",
       "   (0032, 1060) Requested Procedure Description     LO: 'I CERE'\n",
       "   (0040, 0007) Scheduled Procedure Step Descriptio LO: 'I CERE'\n",
       "   (0040, 0008)  Scheduled Protocol Code Sequence  1 item(s) ---- \n",
       "      (0008, 0100) Code Value                          SH: 'ICERE'\n",
       "      (0008, 0102) Coding Scheme Designator            SH: 'SA'\n",
       "      (0008, 0104) Code Meaning                        LO: 'I CERE'\n",
       "      (0008, 010b) Context Group Extension Flag        CS: 'N'\n",
       "      ---------\n",
       "   (0040, 0009) Scheduled Procedure Step ID         SH: '6731818'\n",
       "   (0040, 0012) Pre-Medication                      LO: ''\n",
       "   (0040, 0400) Comments on the Scheduled Procedure LT: ''\n",
       "   (0040, 1001) Requested Procedure ID              SH: '6731818'\n",
       "   ---------\n",
       "(0040, 1001) Requested Procedure ID              SH: '6731818'\n",
       "(0040, 1002) Reason for the Requested Procedure  LO: ''\n",
       "(0040, 1003) Requested Procedure Priority        SH: ''\n",
       "(0040, 1004) Patient Transport Arrangements      LO: ''\n",
       "(0040, 1005) Requested Procedure Location        LO: ''\n",
       "(0040, 1400) Requested Procedure Comments        LT: ''\n",
       "(0040, 2001) Reason for the Imaging Service Requ LO: ''\n",
       "(0040, 2004) Issue Date of Imaging Service Reque DA: '20210610'\n",
       "(0040, 2005) Issue Time of Imaging Service Reque TM: '182538.063000'\n",
       "(0040, 2009) Order Enterer's Location            SH: ''\n",
       "(0040, 2010) Order Callback Phone Number         SH: ''\n",
       "(0040, 2400) Imaging Service Request Comments    LT: ''\n",
       "(0073, 0010) Private Creator                     LO: 'STENTOR'\n",
       "(0073, 1001) [Unknown]                           ST: 'unknown'\n",
       "(0073, 1002) [Private Creator]                   ST: '10.49.24.213'\n",
       "(0073, 1003) [Stentor Remote AETitle Element]    ST: 'SLGPORTAL'\n",
       "(0073, 1004) [Stentor Local AETitle Element]     ST: 'CHRUL'\n",
       "(0073, 1006) [Stentor Transfer Syntax Value]     LO: '1.2.840.10008.1.2.1'\n",
       "(00e1, 0010) Private Creator                     LO: 'ELSCINT1'\n",
       "(01f7, 0010) Private Creator                     LO: 'ELSCINT1'\n",
       "(1001, 0010) Private Creator                     LO: 'Philips Imaging DD 001'\n",
       "(1001, 0011) Private Creator                     LO: 'Philips Imaging DD 124'\n",
       "(2001, 0010) Private Creator                     LO: 'Philips Imaging DD 001'\n",
       "(2001, 1063) [Examination Source]                CS: 'ELSEWHERE'\n",
       "(2001, 10c8) Private tag data                    LO: 'Survey'\n",
       "(2005, 0010) Private Creator                     LO: 'Philips MR Imaging DD 001'\n",
       "(2005, 0011) Private Creator                     LO: 'Philips MR Imaging DD 002'\n",
       "(2005, 0012) Private Creator                     LO: 'Philips MR Imaging DD 003'\n",
       "(2005, 0013) Private Creator                     LO: 'Philips MR Imaging DD 004'\n",
       "(2005, 0014) Private Creator                     LO: 'Philips MR Imaging DD 005'\n",
       "(2005, 105f) [Unknown]                           CS: 'UNKNOWN'\n",
       "(2005, 1060) [Unknown]                           IS: '-1'\n",
       "(2005, 1199) [Unknown]                           UL: 1\n",
       "(2005, 1200) [Unknown]                           UL: 1\n",
       "(2005, 1201) [Unknown]                           UL: 0\n",
       "(2005, 1213) [Unknown]                           UL: 1\n",
       "(2005, 1251) [Unknown]                           SS: 0\n",
       "(2005, 1252) [Unknown]                           SS: 0\n",
       "(2005, 1253) [Unknown]                           SS: 0\n",
       "(2005, 1382) [Unknown]                           UL: 1\n",
       "(2005, 1391) [Unknown]                           PN: ''\n",
       "(2005, 1401) [Unknown]                           UL: 1\n",
       "(2005, 1403) [Unknown]                           UL: 0\n",
       "(2005, 140f)  [Unknown]  1 item(s) ---- \n",
       "   (0008, 002a) Acquisition DateTime                DT: '20210610000000'\n",
       "   (2001, 0010) Private Creator                     LO: 'Philips Imaging DD 001'\n",
       "   (2001, 10c1) [Nested Object Type Name]           LO: 'FOREIGN'\n",
       "   ---------\n",
       "(2005, 142a) [Unknown]                           CS: 'INITIAL'\n",
       "(2005, 142b) [Unknown]                           CS: 'PARTLY_ACCEPTED'\n",
       "(2005, 142c) [Unknown]                           CS: 'PARTLY_ACCEPTED'\n",
       "(2005, 142d) [Unknown]                           CS: 'INITIAL'\n",
       "(2005, 143a) [Unknown]                           LT: Array of 26 elements\n",
       "(7fe0, 0010) Pixel Data                          OW: Array of 4572142 elements"
      ]
     },
     "execution_count": 5,
     "metadata": {},
     "output_type": "execute_result"
    }
   ],
   "source": [
    "FILE=\"/NAS/dumbo/protocoles/HAMSI/data/1.3.51.0.1.1.10.49.10.222.6731818.6732586/1.3.46.670589.50.167746771223637.6700.1623351958063/SC.1.3.46.670589.50.167746771223637.6700.1623352010063.4\"\n",
    "ds=dcm.dcmread(FILE)\n",
    "ds"
   ]
  },
  {
   "cell_type": "code",
   "execution_count": 16,
   "metadata": {},
   "outputs": [],
   "source": [
    "from os import listdir\n",
    "from os.path import isfile, join\n",
    "#onlyfiles = [f for f in listdir(mypath) if isfile(join(mypath, f))]"
   ]
  },
  {
   "cell_type": "code",
   "execution_count": 16,
   "metadata": {},
   "outputs": [
    {
     "name": "stdout",
     "output_type": "stream",
     "text": [
      "/NAS/dumbo/protocoles/HAMSI/data\n"
     ]
    }
   ],
   "source": [
    "mypath = join('/NAS','dumbo','protocoles','HAMSI','data')\n",
    "print(mypath)\n",
    "#listdir(mypath)"
   ]
  },
  {
   "cell_type": "code",
   "execution_count": 18,
   "metadata": {},
   "outputs": [
    {
     "data": {
      "text/plain": [
       "412254"
      ]
     },
     "execution_count": 18,
     "metadata": {},
     "output_type": "execute_result"
    }
   ],
   "source": [
    "import glob\n",
    "len(glob.glob(join(mypath,\"*\",\"*\",\"MR*\"),recursive=True))"
   ]
  }
 ],
 "metadata": {
  "kernelspec": {
   "display_name": "Python 3 (ipykernel)",
   "language": "python",
   "name": "python3"
  },
  "language_info": {
   "codemirror_mode": {
    "name": "ipython",
    "version": 3
   },
   "file_extension": ".py",
   "mimetype": "text/x-python",
   "name": "python",
   "nbconvert_exporter": "python",
   "pygments_lexer": "ipython3",
   "version": "3.7.6"
  }
 },
 "nbformat": 4,
 "nbformat_minor": 4
}
