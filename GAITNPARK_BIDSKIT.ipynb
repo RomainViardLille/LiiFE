{
 "cells": [
  {
   "cell_type": "code",
   "execution_count": 1,
   "id": "general-observer",
   "metadata": {
    "collapsed": true,
    "jupyter": {
     "outputs_hidden": true
    }
   },
   "outputs": [
    {
     "name": "stdout",
     "output_type": "stream",
     "text": [
      "Defaulting to user installation because normal site-packages is not writeable\n",
      "Collecting bidskit\n",
      "  Downloading bidskit-2020.8.1-py3-none-any.whl (22 kB)\n",
      "Requirement already satisfied: pydicom>=1.2.2 in /home/romain/.local/lib/python3.7/site-packages (from bidskit) (1.4.2)\n",
      "Requirement already satisfied: numpy in /home/romain/.local/lib/python3.7/site-packages (from bidskit) (1.20.1)\n",
      "Collecting pybids>=0.9.5\n",
      "  Downloading pybids-0.12.4-py2.py3-none-any.whl (3.2 MB)\n",
      "\u001b[K     |████████████████████████████████| 3.2 MB 7.7 MB/s eta 0:00:01\n",
      "\u001b[?25hRequirement already satisfied: click in /mnt/software/anaconda37/lib/python3.7/site-packages (from pybids>=0.9.5->bidskit) (7.1.2)\n",
      "Requirement already satisfied: sqlalchemy<1.4.0.dev0 in /mnt/software/anaconda37/lib/python3.7/site-packages (from pybids>=0.9.5->bidskit) (1.3.21)\n",
      "Requirement already satisfied: pandas>=0.23 in /home/romain/.local/lib/python3.7/site-packages (from pybids>=0.9.5->bidskit) (1.1.1)\n",
      "Requirement already satisfied: scipy in /home/romain/.local/lib/python3.7/site-packages (from pybids>=0.9.5->bidskit) (1.4.1)\n",
      "Requirement already satisfied: nibabel>=2.1 in /home/romain/.local/lib/python3.7/site-packages (from pybids>=0.9.5->bidskit) (3.0.1)\n",
      "Requirement already satisfied: patsy in /home/romain/.local/lib/python3.7/site-packages (from pybids>=0.9.5->bidskit) (0.5.1)\n",
      "Requirement already satisfied: pytz>=2017.2 in /home/romain/.local/lib/python3.7/site-packages (from pandas>=0.23->pybids>=0.9.5->bidskit) (2020.4)\n",
      "Requirement already satisfied: python-dateutil>=2.7.3 in /home/romain/.local/lib/python3.7/site-packages (from pandas>=0.23->pybids>=0.9.5->bidskit) (2.7.3)\n",
      "Requirement already satisfied: six>=1.5 in /home/romain/.local/lib/python3.7/site-packages (from python-dateutil>=2.7.3->pandas>=0.23->pybids>=0.9.5->bidskit) (1.15.0)\n",
      "Collecting bids-validator\n",
      "  Downloading bids_validator-1.6.0-py2.py3-none-any.whl (15 kB)\n",
      "Collecting num2words\n",
      "  Using cached num2words-0.5.10-py3-none-any.whl (101 kB)\n",
      "Requirement already satisfied: docopt>=0.6.2 in /mnt/software/anaconda37/lib/python3.7/site-packages (from num2words->pybids>=0.9.5->bidskit) (0.6.2)\n",
      "Installing collected packages: num2words, bids-validator, pybids, bidskit\n",
      "\u001b[33m  WARNING: The script pybids is installed in '/home/romain/.local/bin' which is not on PATH.\n",
      "  Consider adding this directory to PATH or, if you prefer to suppress this warning, use --no-warn-script-location.\u001b[0m\n",
      "\u001b[33m  WARNING: The script bidskit is installed in '/home/romain/.local/bin' which is not on PATH.\n",
      "  Consider adding this directory to PATH or, if you prefer to suppress this warning, use --no-warn-script-location.\u001b[0m\n",
      "Successfully installed bids-validator-1.6.0 bidskit-2020.8.1 num2words-0.5.10 pybids-0.12.4\n"
     ]
    }
   ],
   "source": [
    "!pip3 install bidskit"
   ]
  },
  {
   "cell_type": "code",
   "execution_count": 2,
   "id": "banned-alabama",
   "metadata": {},
   "outputs": [
    {
     "name": "stdout",
     "output_type": "stream",
     "text": [
      "/bin/bash: bids-validator: command not found\n"
     ]
    }
   ],
   "source": [
    "!bids-validator"
   ]
  },
  {
   "cell_type": "code",
   "execution_count": 8,
   "id": "decimal-attendance",
   "metadata": {},
   "outputs": [
    {
     "data": {
      "text/plain": [
       "array([[ 0.66666667, -0.33333333, -0.33333333],\n",
       "       [-0.33333333,  0.66666667, -0.33333333],\n",
       "       [-0.33333333, -0.33333333,  0.66666667]])"
      ]
     },
     "execution_count": 8,
     "metadata": {},
     "output_type": "execute_result"
    }
   ],
   "source": [
    "import numpy as np\n",
    "np.eye(3)-(1/3)"
   ]
  },
  {
   "cell_type": "code",
   "execution_count": 7,
   "id": "filled-advantage",
   "metadata": {},
   "outputs": [
    {
     "data": {
      "text/plain": [
       "array([[ 0.5, -0.5],\n",
       "       [-0.5,  0.5]])"
      ]
     },
     "execution_count": 7,
     "metadata": {},
     "output_type": "execute_result"
    }
   ],
   "source": [
    "np.eye(2)-(1/2)"
   ]
  },
  {
   "cell_type": "code",
   "execution_count": 6,
   "id": "speaking-preference",
   "metadata": {},
   "outputs": [
    {
     "data": {
      "text/plain": [
       "array([[1., 0., 0.],\n",
       "       [0., 1., 0.],\n",
       "       [0., 0., 1.]])"
      ]
     },
     "execution_count": 6,
     "metadata": {},
     "output_type": "execute_result"
    }
   ],
   "source": [
    "np.eye(3)"
   ]
  },
  {
   "cell_type": "code",
   "execution_count": null,
   "id": "eb8c70ea-d13b-4570-8df5-85a59327ada1",
   "metadata": {},
   "outputs": [],
   "source": []
  }
 ],
 "metadata": {
  "kernelspec": {
   "display_name": "Python 3 (ipykernel)",
   "language": "python",
   "name": "python3"
  },
  "language_info": {
   "codemirror_mode": {
    "name": "ipython",
    "version": 3
   },
   "file_extension": ".py",
   "mimetype": "text/x-python",
   "name": "python",
   "nbconvert_exporter": "python",
   "pygments_lexer": "ipython3",
   "version": "3.7.6"
  }
 },
 "nbformat": 4,
 "nbformat_minor": 5
}
