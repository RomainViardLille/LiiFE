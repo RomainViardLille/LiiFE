{
 "cells": [
  {
   "cell_type": "code",
   "execution_count": 90,
   "id": "3afc0a81-5993-4cbe-abb1-6869553fa0c7",
   "metadata": {},
   "outputs": [],
   "source": [
    "import nibabel as nib\n",
    "import os,sys\n",
    "import numpy as np\n",
    "from scipy.interpolate import RegularGridInterpolator\n",
    "\n",
    "QUANT=\"/NAS/dumbo/protocoles/copitch/data/bids/sub-01-003/ses-1/anat/sub-01-003_ses-1_acq-401CS1X2MM3DMULTIGREAXIALSTRICT3D_echo-3_part-mag_MEGRE.nii.gz\"\n",
    "LABEL=\"/NAS/dumbo/protocoles/copitch/data/ROIhemolysis_meanintensity/sub01-003/ses1/sub-01-003_ses1_ROImeanintensity_hemolysis_parenchyma.nii.gz\"\n",
    "LABEL_VAL=5\n",
    "\n",
    "img_val=nib.load(QUANT)\n",
    "val=img_val.get_fdata()\n",
    "\n",
    "img_seg=nib.load(LABEL)\n",
    "seg=img_seg.get_fdata()\n",
    "\n",
    "interp_func=RegularGridInterpolator((np.linspace(0,255,256),np.linspace(0,255,256),np.linspace(0,79,80)),img_val.get_fdata())\n",
    "vectRet=[]\n",
    "vectWeight=[]"
   ]
  },
  {
   "cell_type": "code",
   "execution_count": 91,
   "id": "2ab7c480-5aca-4139-a484-b97c4b24b7e4",
   "metadata": {},
   "outputs": [],
   "source": [
    "for index, cluster_bool in np.ndenumerate(seg==LABEL_VAL) :\n",
    "    if cluster_bool :\n",
    "        x1,y1,z1=index\n",
    "        x_coord,y_coord,z_coord=img_seg.affine[:3,:3]@[x1,y1,z1]+img_seg.affine[:3,3]\n",
    "        affine_inv=np.linalg.inv(img_val.affine)\n",
    "        vox_indices=np.dot(affine_inv,[x_coord,y_coord,z_coord,1])[:3]\n",
    "        vectRet.append(vox_indices)    \n",
    "        vectWeight.append(cluster_bool)"
   ]
  },
  {
   "cell_type": "code",
   "execution_count": 68,
   "id": "75834ccd-8680-4387-91a8-24017ddee7da",
   "metadata": {},
   "outputs": [
    {
     "name": "stdout",
     "output_type": "stream",
     "text": [
      "1176247.4790643882\n"
     ]
    }
   ],
   "source": [
    "print(np.mean(interp_func(vectRet)))"
   ]
  },
  {
   "cell_type": "code",
   "execution_count": 92,
   "id": "633e60f7-3e0e-4a0f-8369-3185b13bff62",
   "metadata": {},
   "outputs": [
    {
     "name": "stdout",
     "output_type": "stream",
     "text": [
      "1176247.3811848958\n"
     ]
    }
   ],
   "source": [
    "vectRet_int = [list(map(round,vecteur)) for vecteur in vectRet ]\n",
    "vectRet_int_array=np.array(vectRet_int)\n",
    "print(np.mean(val[vectRet_int_array[:,0],vectRet_int_array[:,1],vectRet_int_array[:,2]]))"
   ]
  },
  {
   "cell_type": "code",
   "execution_count": 95,
   "id": "b68f6a0a-684c-4844-bd91-fe1628fa6106",
   "metadata": {},
   "outputs": [
    {
     "data": {
      "text/plain": [
       "array([1144883.80371094, 1180549.96582031, 1218593.87207031,\n",
       "       1199571.91894531, 1130617.33886719, 1149639.29199219,\n",
       "       1150828.1640625 , 1140128.31542969, 1218593.87207031,\n",
       "       1140128.31542969, 1092573.43261719, 1056907.27050781,\n",
       "       1036696.4453125 , 1325592.35839844, 1243560.18554688,\n",
       "       1168661.24511719, 1109217.64160156, 1096140.04882812,\n",
       "       1371958.36914062, 1267337.62695312, 1259015.52246094])"
      ]
     },
     "execution_count": 95,
     "metadata": {},
     "output_type": "execute_result"
    }
   ],
   "source": []
  }
 ],
 "metadata": {
  "kernelspec": {
   "display_name": "Python 3 (ipykernel)",
   "language": "python",
   "name": "python3"
  },
  "language_info": {
   "codemirror_mode": {
    "name": "ipython",
    "version": 3
   },
   "file_extension": ".py",
   "mimetype": "text/x-python",
   "name": "python",
   "nbconvert_exporter": "python",
   "pygments_lexer": "ipython3",
   "version": "3.7.6"
  }
 },
 "nbformat": 4,
 "nbformat_minor": 5
}
