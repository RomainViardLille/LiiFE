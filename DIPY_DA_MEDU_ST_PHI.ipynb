{
 "cells": [
  {
   "cell_type": "code",
   "execution_count": 14,
   "id": "motivated-wellington",
   "metadata": {},
   "outputs": [],
   "source": [
    "import dipy as dp\n",
    "import glob as glob\n",
    "import os\n",
    "from dipy.io.image import load_nifti, save_nifti\n",
    "import numpy as np\n",
    "from dipy.denoise.patch2self import patch2self\n",
    "import matplotlib.pyplot as plt\n",
    "%matplotlib inline\n"
   ]
  },
  {
   "cell_type": "code",
   "execution_count": 2,
   "id": "available-mambo",
   "metadata": {},
   "outputs": [
    {
     "name": "stdout",
     "output_type": "stream",
     "text": [
      "1.4.0\n"
     ]
    }
   ],
   "source": [
    "print(dp.__version__)"
   ]
  },
  {
   "cell_type": "code",
   "execution_count": 3,
   "id": "thermal-italic",
   "metadata": {},
   "outputs": [],
   "source": [
    "STUDY_PATH='/NAS/deathrow/protocoles/MEDU_ST_PHI/'\n",
    "IMAGES_DIR=os.path.join(STUDY_PATH,'images')\n",
    "TRACTO_DIR=os.path.join(STUDY_PATH,'tracto')\n",
    "FILE_PATH=os.path.join(STUDY_PATH,'liste_pts.csv')"
   ]
  },
  {
   "cell_type": "code",
   "execution_count": 4,
   "id": "consistent-passage",
   "metadata": {},
   "outputs": [],
   "source": [
    "BValFile_MB_TR4600=sorted(glob.glob(os.path.join(IMAGES_DIR,'*','*ORIG_DTI_MB_2500_600_15_9_3X3*.bval')))\n",
    "BValFile_MB_TR2600=sorted(glob.glob(os.path.join(IMAGES_DIR,'*','*ORIG_DTI_MB_4600_600_15_5_3X*.bval')))\n",
    "BValFile_NoMB=sorted(glob.glob(os.path.join(IMAGES_DIR,'*','*ORIG_DTI_PAS_MB_4600_600_15_5_3X*.bval')))"
   ]
  },
  {
   "cell_type": "code",
   "execution_count": 15,
   "id": "automated-section",
   "metadata": {},
   "outputs": [
    {
     "name": "stdout",
     "output_type": "stream",
     "text": [
      "0\n",
      "1\n",
      "2\n",
      "3\n",
      "4\n",
      "5\n",
      "6\n",
      "7\n",
      "8\n",
      "9\n",
      "10\n",
      "11\n",
      "12\n",
      "13\n",
      "14\n",
      "15\n",
      "16\n",
      "17\n",
      "18\n",
      "19\n"
     ]
    }
   ],
   "source": [
    "print(cpt)"
   ]
  },
  {
   "cell_type": "code",
   "execution_count": 17,
   "id": "covered-immigration",
   "metadata": {},
   "outputs": [
    {
     "name": "stderr",
     "output_type": "stream",
     "text": [
      "/home/global/anaconda37/lib/python3.7/site-packages/ipykernel_launcher.py:14: RuntimeWarning: invalid value encountered in sqrt\n",
      "  \n"
     ]
    },
    {
     "name": "stdout",
     "output_type": "stream",
     "text": [
      "The result saved in denoised_0_patch2self.png\n"
     ]
    },
    {
     "name": "stderr",
     "output_type": "stream",
     "text": [
      "/home/global/anaconda37/lib/python3.7/site-packages/ipykernel_launcher.py:14: RuntimeWarning: invalid value encountered in sqrt\n",
      "  \n"
     ]
    },
    {
     "name": "stdout",
     "output_type": "stream",
     "text": [
      "The result saved in denoised_1_patch2self.png\n"
     ]
    },
    {
     "name": "stderr",
     "output_type": "stream",
     "text": [
      "/home/global/anaconda37/lib/python3.7/site-packages/ipykernel_launcher.py:14: RuntimeWarning: invalid value encountered in sqrt\n",
      "  \n"
     ]
    },
    {
     "name": "stdout",
     "output_type": "stream",
     "text": [
      "The result saved in denoised_2_patch2self.png\n",
      "The result saved in denoised_3_patch2self.png\n"
     ]
    },
    {
     "name": "stderr",
     "output_type": "stream",
     "text": [
      "/home/global/anaconda37/lib/python3.7/site-packages/ipykernel_launcher.py:14: RuntimeWarning: invalid value encountered in sqrt\n",
      "  \n"
     ]
    },
    {
     "name": "stdout",
     "output_type": "stream",
     "text": [
      "The result saved in denoised_4_patch2self.png\n"
     ]
    },
    {
     "name": "stderr",
     "output_type": "stream",
     "text": [
      "/home/global/anaconda37/lib/python3.7/site-packages/ipykernel_launcher.py:14: RuntimeWarning: invalid value encountered in sqrt\n",
      "  \n"
     ]
    },
    {
     "name": "stdout",
     "output_type": "stream",
     "text": [
      "The result saved in denoised_5_patch2self.png\n",
      "The result saved in denoised_6_patch2self.png\n",
      "The result saved in denoised_7_patch2self.png\n",
      "The result saved in denoised_8_patch2self.png\n"
     ]
    },
    {
     "name": "stderr",
     "output_type": "stream",
     "text": [
      "/home/global/anaconda37/lib/python3.7/site-packages/ipykernel_launcher.py:14: RuntimeWarning: invalid value encountered in sqrt\n",
      "  \n"
     ]
    },
    {
     "name": "stdout",
     "output_type": "stream",
     "text": [
      "The result saved in denoised_9_patch2self.png\n",
      "The result saved in denoised_10_patch2self.png\n"
     ]
    },
    {
     "name": "stderr",
     "output_type": "stream",
     "text": [
      "/home/global/anaconda37/lib/python3.7/site-packages/ipykernel_launcher.py:14: RuntimeWarning: invalid value encountered in sqrt\n",
      "  \n"
     ]
    },
    {
     "name": "stdout",
     "output_type": "stream",
     "text": [
      "The result saved in denoised_11_patch2self.png\n"
     ]
    },
    {
     "name": "stderr",
     "output_type": "stream",
     "text": [
      "/home/global/anaconda37/lib/python3.7/site-packages/ipykernel_launcher.py:14: RuntimeWarning: invalid value encountered in sqrt\n",
      "  \n"
     ]
    },
    {
     "name": "stdout",
     "output_type": "stream",
     "text": [
      "The result saved in denoised_12_patch2self.png\n"
     ]
    },
    {
     "name": "stderr",
     "output_type": "stream",
     "text": [
      "/home/global/anaconda37/lib/python3.7/site-packages/ipykernel_launcher.py:14: RuntimeWarning: invalid value encountered in sqrt\n",
      "  \n"
     ]
    },
    {
     "name": "stdout",
     "output_type": "stream",
     "text": [
      "The result saved in denoised_13_patch2self.png\n",
      "The result saved in denoised_14_patch2self.png\n"
     ]
    },
    {
     "name": "stderr",
     "output_type": "stream",
     "text": [
      "/home/global/anaconda37/lib/python3.7/site-packages/ipykernel_launcher.py:14: RuntimeWarning: invalid value encountered in sqrt\n",
      "  \n"
     ]
    },
    {
     "name": "stdout",
     "output_type": "stream",
     "text": [
      "The result saved in denoised_15_patch2self.png\n"
     ]
    },
    {
     "name": "stderr",
     "output_type": "stream",
     "text": [
      "/home/global/anaconda37/lib/python3.7/site-packages/ipykernel_launcher.py:14: RuntimeWarning: invalid value encountered in sqrt\n",
      "  \n",
      "/home/global/anaconda37/lib/python3.7/site-packages/ipykernel_launcher.py:17: RuntimeWarning: More than 20 figures have been opened. Figures created through the pyplot interface (`matplotlib.pyplot.figure`) are retained until explicitly closed and may consume too much memory. (To control this warning, see the rcParam `figure.max_open_warning`).\n"
     ]
    },
    {
     "name": "stdout",
     "output_type": "stream",
     "text": [
      "The result saved in denoised_16_patch2self.png\n"
     ]
    },
    {
     "name": "stderr",
     "output_type": "stream",
     "text": [
      "/home/global/anaconda37/lib/python3.7/site-packages/ipykernel_launcher.py:14: RuntimeWarning: invalid value encountered in sqrt\n",
      "  \n"
     ]
    },
    {
     "name": "stdout",
     "output_type": "stream",
     "text": [
      "The result saved in denoised_17_patch2self.png\n",
      "The result saved in denoised_18_patch2self.png\n"
     ]
    },
    {
     "name": "stderr",
     "output_type": "stream",
     "text": [
      "/home/global/anaconda37/lib/python3.7/site-packages/ipykernel_launcher.py:14: RuntimeWarning: invalid value encountered in sqrt\n",
      "  \n"
     ]
    },
    {
     "name": "stdout",
     "output_type": "stream",
     "text": [
      "The result saved in denoised_19_patch2self.png\n"
     ]
    }
   ],
   "source": [
    "for cpt in (np.arange(0,len(BValFile_NoMB),1)):\n",
    "    data, affine = load_nifti(BValFile_NoMB[cpt].replace('bval','nii'))\n",
    "    bvals = np.loadtxt(BValFile_NoMB[cpt])\n",
    "    denoised_arr = patch2self(data, bvals)\n",
    "\n",
    "    # Gets the center slice and the middle volume of the 4D diffusion data.\n",
    "    sli = data.shape[2] // 2\n",
    "    gra = 12  # pick out a random volume for a particular gradient direction\n",
    "\n",
    "    orig = data[:, :, sli, gra]\n",
    "    den = denoised_arr[:, :, sli, gra]\n",
    "\n",
    "    # computes the residuals\n",
    "    rms_diff = np.sqrt((orig - den) ** 2)\n",
    "\n",
    "    fig1, ax = plt.subplots(1, 3, figsize=(12, 6),\n",
    "                            subplot_kw={'xticks': [], 'yticks': []})\n",
    "\n",
    "    fig1.subplots_adjust(hspace=0.3, wspace=0.05)\n",
    "\n",
    "    ax.flat[0].imshow(orig.T, cmap='gray', interpolation='none',\n",
    "                      origin='lower')\n",
    "    ax.flat[0].set_title('Original')\n",
    "    ax.flat[1].imshow(den.T, cmap='gray', interpolation='none',\n",
    "                      origin='lower')\n",
    "    ax.flat[1].set_title('Denoised Output')\n",
    "    ax.flat[2].imshow(rms_diff.T, cmap='gray', interpolation='none',\n",
    "                      origin='lower')\n",
    "    ax.flat[2].set_title('Residuals')\n",
    "\n",
    "    fig1.savefig('denoised_'+str(cpt)+'_patch2self.png')\n",
    "    print('The result saved in denoised_'+str(cpt)+'_patch2self.png')\n",
    "    break"
   ]
  },
  {
   "cell_type": "code",
   "execution_count": 6,
   "id": "clean-calculator",
   "metadata": {},
   "outputs": [
    {
     "name": "stdout",
     "output_type": "stream",
     "text": [
      "60\n"
     ]
    }
   ],
   "source": [
    "listeFilesROI=sorted(glob.glob(os.path.join(TRACTO_DIR,'*','*','ROIPAT*resliced.nii.gz')))\n",
    "print(len(listeFilesROI))\n"
   ]
  },
  {
   "cell_type": "code",
   "execution_count": 7,
   "id": "closing-administrator",
   "metadata": {
    "collapsed": true,
    "jupyter": {
     "outputs_hidden": true
    }
   },
   "outputs": [
    {
     "data": {
      "text/plain": [
       "['/NAS/deathrow/protocoles/MEDU_ST_PHI/tracto/PAT00001/ORIG_DTI_MB_2500_600_15_9_3X3/ROIPAT00001_resliced.nii.gz',\n",
       " '/NAS/deathrow/protocoles/MEDU_ST_PHI/tracto/PAT00001/ORIG_DTI_MB_4600_600_15_5_3X3/ROIPAT00001_resliced.nii.gz',\n",
       " '/NAS/deathrow/protocoles/MEDU_ST_PHI/tracto/PAT00001/ORIG_DTI_PAS_MB_4600_600_15_5_3X3/ROIPAT00001_resliced.nii.gz',\n",
       " '/NAS/deathrow/protocoles/MEDU_ST_PHI/tracto/PAT00002/ORIG_DTI_MB_2500_600_15_9_3X3/ROIPAT00002_resliced.nii.gz',\n",
       " '/NAS/deathrow/protocoles/MEDU_ST_PHI/tracto/PAT00002/ORIG_DTI_MB_4600_600_15_5_3X3/ROIPAT00002_resliced.nii.gz',\n",
       " '/NAS/deathrow/protocoles/MEDU_ST_PHI/tracto/PAT00002/ORIG_DTI_PAS_MB_4600_600_15_5_3X3/ROIPAT00002_resliced.nii.gz',\n",
       " '/NAS/deathrow/protocoles/MEDU_ST_PHI/tracto/PAT00003/ORIG_DTI_MB_2500_600_15_9_3X3/ROIPAT00003_resliced.nii.gz',\n",
       " '/NAS/deathrow/protocoles/MEDU_ST_PHI/tracto/PAT00003/ORIG_DTI_MB_4600_600_15_5_3X3/ROIPAT00003_resliced.nii.gz',\n",
       " '/NAS/deathrow/protocoles/MEDU_ST_PHI/tracto/PAT00003/ORIG_DTI_PAS_MB_4600_600_15_5_3X3/ROIPAT00003_resliced.nii.gz',\n",
       " '/NAS/deathrow/protocoles/MEDU_ST_PHI/tracto/PAT00004/ORIG_DTI_MB_2500_600_15_9_3X3/ROIPAT00004_resliced.nii.gz',\n",
       " '/NAS/deathrow/protocoles/MEDU_ST_PHI/tracto/PAT00004/ORIG_DTI_MB_4600_600_15_5_3X3/ROIPAT00004_resliced.nii.gz',\n",
       " '/NAS/deathrow/protocoles/MEDU_ST_PHI/tracto/PAT00004/ORIG_DTI_PAS_MB_4600_600_15_5_3X3/ROIPAT00004_resliced.nii.gz',\n",
       " '/NAS/deathrow/protocoles/MEDU_ST_PHI/tracto/PAT00005/ORIG_DTI_MB_2500_600_15_9_3X3/ROIPAT00005_resliced.nii.gz',\n",
       " '/NAS/deathrow/protocoles/MEDU_ST_PHI/tracto/PAT00005/ORIG_DTI_MB_4600_600_15_5_3X3/ROIPAT00005_resliced.nii.gz',\n",
       " '/NAS/deathrow/protocoles/MEDU_ST_PHI/tracto/PAT00005/ORIG_DTI_PAS_MB_4600_600_15_5_3X3/ROIPAT00005_resliced.nii.gz',\n",
       " '/NAS/deathrow/protocoles/MEDU_ST_PHI/tracto/PAT00006/ORIG_DTI_MB_2500_600_15_9_3X3/ROIPAT00006_resliced.nii.gz',\n",
       " '/NAS/deathrow/protocoles/MEDU_ST_PHI/tracto/PAT00006/ORIG_DTI_MB_4600_600_15_5_3X3/ROIPAT00006_resliced.nii.gz',\n",
       " '/NAS/deathrow/protocoles/MEDU_ST_PHI/tracto/PAT00006/ORIG_DTI_PAS_MB_4600_600_15_5_3X3/ROIPAT00006_resliced.nii.gz',\n",
       " '/NAS/deathrow/protocoles/MEDU_ST_PHI/tracto/PAT00007/ORIG_DTI_MB_2500_600_15_9_3X3/ROIPAT00007_resliced.nii.gz',\n",
       " '/NAS/deathrow/protocoles/MEDU_ST_PHI/tracto/PAT00007/ORIG_DTI_MB_4600_600_15_5_3X3/ROIPAT00007_resliced.nii.gz',\n",
       " '/NAS/deathrow/protocoles/MEDU_ST_PHI/tracto/PAT00007/ORIG_DTI_PAS_MB_4600_600_15_5_3X3/ROIPAT00007_resliced.nii.gz',\n",
       " '/NAS/deathrow/protocoles/MEDU_ST_PHI/tracto/PAT00008/ORIG_DTI_MB_2500_600_15_9_3X3/ROIPAT00008_resliced.nii.gz',\n",
       " '/NAS/deathrow/protocoles/MEDU_ST_PHI/tracto/PAT00008/ORIG_DTI_MB_4600_600_15_5_3X3/ROIPAT00008_resliced.nii.gz',\n",
       " '/NAS/deathrow/protocoles/MEDU_ST_PHI/tracto/PAT00008/ORIG_DTI_PAS_MB_4600_600_15_5_3X3/ROIPAT00008_resliced.nii.gz',\n",
       " '/NAS/deathrow/protocoles/MEDU_ST_PHI/tracto/PAT00009/ORIG_DTI_MB_2500_600_15_9_3X3/ROIPAT00009_resliced.nii.gz',\n",
       " '/NAS/deathrow/protocoles/MEDU_ST_PHI/tracto/PAT00009/ORIG_DTI_MB_4600_600_15_5_3X3/ROIPAT00009_resliced.nii.gz',\n",
       " '/NAS/deathrow/protocoles/MEDU_ST_PHI/tracto/PAT00009/ORIG_DTI_PAS_MB_4600_600_15_5_3X3/ROIPAT00009_resliced.nii.gz',\n",
       " '/NAS/deathrow/protocoles/MEDU_ST_PHI/tracto/PAT00010/ORIG_DTI_MB_2500_600_15_9_3X3/ROIPAT00010_resliced.nii.gz',\n",
       " '/NAS/deathrow/protocoles/MEDU_ST_PHI/tracto/PAT00010/ORIG_DTI_MB_4600_600_15_5_3X3/ROIPAT00010_resliced.nii.gz',\n",
       " '/NAS/deathrow/protocoles/MEDU_ST_PHI/tracto/PAT00010/ORIG_DTI_PAS_MB_4600_600_15_5_3X3/ROIPAT00010_resliced.nii.gz',\n",
       " '/NAS/deathrow/protocoles/MEDU_ST_PHI/tracto/PAT00011/ORIG_DTI_MB_2500_600_15_9_3X3/ROIPAT00011_resliced.nii.gz',\n",
       " '/NAS/deathrow/protocoles/MEDU_ST_PHI/tracto/PAT00011/ORIG_DTI_MB_4600_600_15_5_3X3/ROIPAT00011_resliced.nii.gz',\n",
       " '/NAS/deathrow/protocoles/MEDU_ST_PHI/tracto/PAT00011/ORIG_DTI_PAS_MB_4600_600_15_5_3X3/ROIPAT00011_resliced.nii.gz',\n",
       " '/NAS/deathrow/protocoles/MEDU_ST_PHI/tracto/PAT00012/ORIG_DTI_MB_2500_600_15_9_3X3/ROIPAT00012_resliced.nii.gz',\n",
       " '/NAS/deathrow/protocoles/MEDU_ST_PHI/tracto/PAT00012/ORIG_DTI_MB_4600_600_15_5_3X3/ROIPAT00012_resliced.nii.gz',\n",
       " '/NAS/deathrow/protocoles/MEDU_ST_PHI/tracto/PAT00012/ORIG_DTI_PAS_MB_4600_600_15_5_3X3/ROIPAT00012_resliced.nii.gz',\n",
       " '/NAS/deathrow/protocoles/MEDU_ST_PHI/tracto/PAT00013/ORIG_DTI_MB_2500_600_15_9_3X3/ROIPAT00013_resliced.nii.gz',\n",
       " '/NAS/deathrow/protocoles/MEDU_ST_PHI/tracto/PAT00013/ORIG_DTI_MB_4600_600_15_5_3X3/ROIPAT00013_resliced.nii.gz',\n",
       " '/NAS/deathrow/protocoles/MEDU_ST_PHI/tracto/PAT00013/ORIG_DTI_PAS_MB_4600_600_15_5_3X3/ROIPAT00013_resliced.nii.gz',\n",
       " '/NAS/deathrow/protocoles/MEDU_ST_PHI/tracto/PAT00014/ORIG_DTI_MB_2500_600_15_9_3X3/ROIPAT00014_resliced.nii.gz',\n",
       " '/NAS/deathrow/protocoles/MEDU_ST_PHI/tracto/PAT00014/ORIG_DTI_MB_4600_600_15_5_3X3/ROIPAT00014_resliced.nii.gz',\n",
       " '/NAS/deathrow/protocoles/MEDU_ST_PHI/tracto/PAT00014/ORIG_DTI_PAS_MB_4600_600_15_5_3X3/ROIPAT00014_resliced.nii.gz',\n",
       " '/NAS/deathrow/protocoles/MEDU_ST_PHI/tracto/PAT00015/ORIG_DTI_MB_2500_600_15_9_3X3/ROIPAT00015_resliced.nii.gz',\n",
       " '/NAS/deathrow/protocoles/MEDU_ST_PHI/tracto/PAT00015/ORIG_DTI_MB_4600_600_15_5_3X3/ROIPAT00015_resliced.nii.gz',\n",
       " '/NAS/deathrow/protocoles/MEDU_ST_PHI/tracto/PAT00015/ORIG_DTI_PAS_MB_4600_600_15_5_3X3/ROIPAT00015_resliced.nii.gz',\n",
       " '/NAS/deathrow/protocoles/MEDU_ST_PHI/tracto/PAT00016/ORIG_DTI_MB_2500_600_15_9_3X3/ROIPAT00016_resliced.nii.gz',\n",
       " '/NAS/deathrow/protocoles/MEDU_ST_PHI/tracto/PAT00016/ORIG_DTI_MB_4600_600_15_5_3X3/ROIPAT00016_resliced.nii.gz',\n",
       " '/NAS/deathrow/protocoles/MEDU_ST_PHI/tracto/PAT00016/ORIG_DTI_PAS_MB_4600_600_15_5_3X3/ROIPAT00016_resliced.nii.gz',\n",
       " '/NAS/deathrow/protocoles/MEDU_ST_PHI/tracto/PAT00017/ORIG_DTI_MB_2500_600_15_9_3X3/ROIPAT00017_resliced.nii.gz',\n",
       " '/NAS/deathrow/protocoles/MEDU_ST_PHI/tracto/PAT00017/ORIG_DTI_MB_4600_600_15_5_3X3/ROIPAT00017_resliced.nii.gz',\n",
       " '/NAS/deathrow/protocoles/MEDU_ST_PHI/tracto/PAT00017/ORIG_DTI_PAS_MB_4600_600_15_5_3X3/ROIPAT00017_resliced.nii.gz',\n",
       " '/NAS/deathrow/protocoles/MEDU_ST_PHI/tracto/PAT00018/ORIG_DTI_MB_2500_600_15_9_3X3/ROIPAT00018_resliced.nii.gz',\n",
       " '/NAS/deathrow/protocoles/MEDU_ST_PHI/tracto/PAT00018/ORIG_DTI_MB_4600_600_15_5_3X3/ROIPAT00018_resliced.nii.gz',\n",
       " '/NAS/deathrow/protocoles/MEDU_ST_PHI/tracto/PAT00018/ORIG_DTI_PAS_MB_4600_600_15_5_3X3/ROIPAT00018_resliced.nii.gz',\n",
       " '/NAS/deathrow/protocoles/MEDU_ST_PHI/tracto/PAT00019/ORIG_DTI_MB_2500_600_15_9_3X3/ROIPAT00019_resliced.nii.gz',\n",
       " '/NAS/deathrow/protocoles/MEDU_ST_PHI/tracto/PAT00019/ORIG_DTI_MB_4600_600_15_5_3X3/ROIPAT00019_resliced.nii.gz',\n",
       " '/NAS/deathrow/protocoles/MEDU_ST_PHI/tracto/PAT00019/ORIG_DTI_PAS_MB_4600_600_15_5_3X3/ROIPAT00019_resliced.nii.gz',\n",
       " '/NAS/deathrow/protocoles/MEDU_ST_PHI/tracto/PAT00020/ORIG_DTI_MB_2500_600_15_9_3X3/ROIPAT00020_resliced.nii.gz',\n",
       " '/NAS/deathrow/protocoles/MEDU_ST_PHI/tracto/PAT00020/ORIG_DTI_MB_4600_600_15_5_3X3/ROIPAT00020_resliced.nii.gz',\n",
       " '/NAS/deathrow/protocoles/MEDU_ST_PHI/tracto/PAT00020/ORIG_DTI_PAS_MB_4600_600_15_5_3X3/ROIPAT00020_resliced.nii.gz']"
      ]
     },
     "execution_count": 7,
     "metadata": {},
     "output_type": "execute_result"
    }
   ],
   "source": [
    "listeFilesROI"
   ]
  },
  {
   "cell_type": "code",
   "execution_count": null,
   "id": "bottom-desire",
   "metadata": {},
   "outputs": [],
   "source": [
    "for cpt,file in enumerate(listeFilesROI):\n",
    "    SUBJ=file.split('/')[6]\n",
    "    DIR=file.split('/')[7]\n",
    "    print(file,SUBJ,DIR)\n",
    "    struct = nib.load(file)\n",
    "    struct_data=np.asanyarray(struct.dataobj)\n",
    "    for val in [10,50,100,255,200,300,400,500] :"
   ]
  },
  {
   "cell_type": "code",
   "execution_count": 20,
   "id": "floating-point",
   "metadata": {},
   "outputs": [],
   "source": [
    "from dipy.segment.mask import median_otsu\n",
    "data, affine = load_nifti(BValFile_NoMB[0].replace('bval','nii'))\n",
    "bvals = np.loadtxt(BValFile_NoMB[0])\n",
    "sli = data.shape[2] // 2\n",
    "gra = 0  # pick out a random volume for a particular gradient direction\n",
    "\n",
    "orig = data[:, :, sli, gra]\n",
    "b0_mask, mask = median_otsu(orig, median_radius=2, numpass=4)"
   ]
  },
  {
   "cell_type": "code",
   "execution_count": 21,
   "id": "specific-laundry",
   "metadata": {},
   "outputs": [
    {
     "data": {
      "text/plain": [
       "<matplotlib.image.AxesImage at 0x7f7bf00e4f50>"
      ]
     },
     "execution_count": 21,
     "metadata": {},
     "output_type": "execute_result"
    },
    {
     "data": {
      "image/png": "[encoded data removed]",
      "text/plain": [
       "<Figure size 432x288 with 1 Axes>"
      ]
     },
     "metadata": {
      "needs_background": "light"
     },
     "output_type": "display_data"
    }
   ],
   "source": [
    "plt.imshow(b0_mask, cmap='gray', interpolation='none',origin='lower')"
   ]
  },
  {
   "cell_type": "code",
   "execution_count": 22,
   "id": "unsigned-culture",
   "metadata": {},
   "outputs": [
    {
     "data": {
      "text/plain": [
       "<matplotlib.image.AxesImage at 0x7f7bf01a1a10>"
      ]
     },
     "execution_count": 22,
     "metadata": {},
     "output_type": "execute_result"
    },
    {
     "data": {
      "image/png": "[encoded data removed]",
      "text/plain": [
       "<Figure size 432x288 with 1 Axes>"
      ]
     },
     "metadata": {
      "needs_background": "light"
     },
     "output_type": "display_data"
    }
   ],
   "source": []
  },
  {
   "cell_type": "code",
   "execution_count": null,
   "id": "eight-bradley",
   "metadata": {},
   "outputs": [],
   "source": []
  }
 ],
 "metadata": {
  "kernelspec": {
   "display_name": "Python 3 (ipykernel)",
   "language": "python",
   "name": "python3"
  },
  "language_info": {
   "codemirror_mode": {
    "name": "ipython",
    "version": 3
   },
   "file_extension": ".py",
   "mimetype": "text/x-python",
   "name": "python",
   "nbconvert_exporter": "python",
   "pygments_lexer": "ipython3",
   "version": "3.7.6"
  }
 },
 "nbformat": 4,
 "nbformat_minor": 5
}
