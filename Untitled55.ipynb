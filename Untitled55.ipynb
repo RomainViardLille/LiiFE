{
 "cells": [
  {
   "cell_type": "code",
   "execution_count": 1,
   "id": "1c20382a",
   "metadata": {},
   "outputs": [],
   "source": [
    "import os\n",
    "import shutil\n",
    "import glob"
   ]
  },
  {
   "cell_type": "code",
   "execution_count": 2,
   "id": "82ea84f9",
   "metadata": {},
   "outputs": [],
   "source": [
    "source_dir = \"/NAS/dumbo/protocoles/HAMSI/OurData4Mispel_T1Gado/data4PDDM\"\n",
    "\n",
    "# Destination directory\n",
    "destination_dir = \"/home/youssef/harmo_4/ALL_training_data\"\n",
    "\n",
    "# Iterate through all the folders in the source directory\n",
    "for folder in os.listdir(source_dir):\n",
    "    # Create a list of files matching the specified pattern in each folder\n",
    "    chu_files = glob.glob(os.path.join(source_dir, folder, f\"Pat*_CHU_zscore_minmax_unbias.nii.gz\"))\n",
    "    col_files = glob.glob(os.path.join(source_dir, folder, f\"Pat*_COL_zscore_minmax_unbias.nii.gz\"))\n",
    "\n",
    "    # Take the first two files from each list\n",
    "    files_to_copy = chu_files[:2] + col_files[:2]\n",
    "\n",
    "    # Copy the selected files to the destination directory\n",
    "    for file in files_to_copy:\n",
    "        shutil.copy(file, destination_dir)"
   ]
  },
  {
   "cell_type": "code",
   "execution_count": null,
   "id": "e63285d3",
   "metadata": {},
   "outputs": [],
   "source": []
  }
 ],
 "metadata": {
  "kernelspec": {
   "display_name": "Python 3 (ipykernel)",
   "language": "python",
   "name": "python3"
  },
  "language_info": {
   "codemirror_mode": {
    "name": "ipython",
    "version": 3
   },
   "file_extension": ".py",
   "mimetype": "text/x-python",
   "name": "python",
   "nbconvert_exporter": "python",
   "pygments_lexer": "ipython3",
   "version": "3.7.6"
  }
 },
 "nbformat": 4,
 "nbformat_minor": 5
}
