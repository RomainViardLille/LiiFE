{
 "cells": [
  {
   "cell_type": "code",
   "execution_count": 1,
   "id": "af783541",
   "metadata": {},
   "outputs": [],
   "source": [
    "import nibabel as nib\n",
    "import numpy as np\n",
    "from scipy.ndimage import zoom\n",
    "import matplotlib.pyplot as plt\n",
    "from scipy.stats import pearsonr\n",
    "from sklearn.metrics import mutual_info_score"
   ]
  },
  {
   "cell_type": "code",
   "execution_count": null,
   "id": "c7440531",
   "metadata": {},
   "outputs": [],
   "source": [
    "def white_stripe_normalization(image_paths, mask_paths):\n",
    "    \n",
    "    normalized_images = []\n",
    "\n",
    "    for image_path, mask_path in zip(image_paths, mask_paths):\n",
    "        \n",
    "        image = nib.load(image_path).get_fdata()\n",
    "        mask = nib.load(mask_path).get_fdata()\n",
    "\n",
    "        brain_tissue = image * mask\n",
    "\n",
    "        mean_intensity = np.mean(brain_tissue[brain_tissue > 0])\n",
    "\n",
    "        normalized_brain_tissue = "
   ]
  }
 ],
 "metadata": {
  "kernelspec": {
   "display_name": "Python 3 (ipykernel)",
   "language": "python",
   "name": "python3"
  },
  "language_info": {
   "codemirror_mode": {
    "name": "ipython",
    "version": 3
   },
   "file_extension": ".py",
   "mimetype": "text/x-python",
   "name": "python",
   "nbconvert_exporter": "python",
   "pygments_lexer": "ipython3",
   "version": "3.7.6"
  }
 },
 "nbformat": 4,
 "nbformat_minor": 5
}
