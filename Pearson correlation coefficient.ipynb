{
 "cells": [
  {
   "cell_type": "code",
   "execution_count": 16,
   "id": "1d98e789",
   "metadata": {},
   "outputs": [],
   "source": [
    "import matplotlib.pyplot as plt\n",
    "import nibabel as nib\n",
    "import numpy as np\n",
    "from scipy.stats import pearsonr\n",
    "from scipy.ndimage import zoom"
   ]
  },
  {
   "cell_type": "code",
   "execution_count": 17,
   "id": "7a2bedc7",
   "metadata": {},
   "outputs": [],
   "source": [
    "image_brain1=\"/NAS/dumbo/protocoles/HAMSI/OurData4Mispel_T1Gado/Brains/CHU/Pat8_T1Gado_CHU_brain.nii.gz\"\n",
    "image_brain2=\"/NAS/dumbo/protocoles/HAMSI/OurData4Mispel_T1Gado/Brains_Registered/COL_registred_on_CHU/Pat8_COL_registered.nii.gz\"\n",
    "image_mask1= \"/NAS/dumbo/protocoles/HAMSI/OurData4Mispel_T1Gado/Before_prettt_mask/CHU/Pat8_T1Gado_CHU_bet_mask.nii.gz\"\n",
    "image_mask2= \"/NAS/dumbo/protocoles/HAMSI/OurData4Mispel_T1Gado/Masks_Registered/COL_mask_registred/Pat8_COL_mask_registered.nii.gz\""
   ]
  },
  {
   "cell_type": "code",
   "execution_count": 13,
   "id": "430e619e",
   "metadata": {},
   "outputs": [],
   "source": [
    "def pearson_correlation_coefficient(data1, data2, downsample_factor=25):\n",
    "\n",
    "  image1 = nib.load(data1).get_fdata()[::downsample_factor,::downsample_factor,::downsample_factor]\n",
    "  image2 = nib.load(data2).get_fdata()[::downsample_factor,::downsample_factor,::downsample_factor]\n",
    "    \n",
    "  correlation_coefficient = stats.pearsonr(image1.flatten(), image2.flatten())\n",
    "\n",
    "  return correlation_coefficient"
   ]
  },
  {
   "cell_type": "code",
   "execution_count": 22,
   "id": "80d06932",
   "metadata": {},
   "outputs": [],
   "source": [
    "def pearson_correlation(data1, data2, maskfile, downsample_factor=25):\n",
    "    # Load images and mask\n",
    "    image1 = nib.load(data1).get_fdata()[::downsample_factor, ::downsample_factor, ::downsample_factor]\n",
    "    image2 = nib.load(data2).get_fdata()[::downsample_factor, ::downsample_factor, ::downsample_factor]\n",
    "    mask = nib.load(maskfile).get_fdata()[::downsample_factor, ::downsample_factor, ::downsample_factor]\n",
    "\n",
    "    image1_masked = image1[mask > 0]\n",
    "    image2_masked = image2[mask > 0]\n",
    "\n",
    "    correlation_coefficient, _ = pearsonr(image1_masked, image2_masked)\n",
    "\n",
    "    return correlation_coefficient"
   ]
  },
  {
   "cell_type": "code",
   "execution_count": 24,
   "id": "e614f449",
   "metadata": {},
   "outputs": [
    {
     "name": "stdout",
     "output_type": "stream",
     "text": [
      "Pearson Correlation Coefficient (with downsampling): 0.7701434702494774\n"
     ]
    }
   ],
   "source": [
    "#correlation = pearson_correlation(image_brain1, image_brain2, image_mask1)\n",
    "print(\"Pearson Correlation Coefficient (with downsampling):\", pearson_correlation(image_brain1, image_brain2, image_mask1))"
   ]
  },
  {
   "cell_type": "code",
   "execution_count": null,
   "id": "f197d683",
   "metadata": {},
   "outputs": [],
   "source": []
  }
 ],
 "metadata": {
  "kernelspec": {
   "display_name": "Python 3 (ipykernel)",
   "language": "python",
   "name": "python3"
  },
  "language_info": {
   "codemirror_mode": {
    "name": "ipython",
    "version": 3
   },
   "file_extension": ".py",
   "mimetype": "text/x-python",
   "name": "python",
   "nbconvert_exporter": "python",
   "pygments_lexer": "ipython3",
   "version": "3.7.6"
  }
 },
 "nbformat": 4,
 "nbformat_minor": 5
}
