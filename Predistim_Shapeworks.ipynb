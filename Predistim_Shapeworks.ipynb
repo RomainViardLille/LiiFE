{
 "cells": [
  {
   "cell_type": "code",
   "execution_count": 2,
   "id": "potential-japanese",
   "metadata": {},
   "outputs": [],
   "source": [
    "import os,sys\n",
    "import argparse\n",
    "import nibabel as nib\n",
    "import numpy as np\n",
    "import nrrd\n",
    "from nibabel.freesurfer.mghformat import load\n",
    "from zipfile import ZipFile\n",
    "import csv\n",
    "sys.path.append('/NAS/deathrow/protocoles/predistim/DualSyndrome_QD/Shape/shapeworks/ShapeWorks-v5.5.0-linux/Examples/Python/')\n",
    "sys.path.append('/NAS/deathrow/protocoles/predistim/DualSyndrome_QD/Shape/shapeworks/ShapeWorks-v5.5.0-linux/bin')\n",
    "\n",
    "from GroomUtils import *\n",
    "from OptimizeUtils import *\n",
    "from AnalyzeUtils import *"
   ]
  },
  {
   "cell_type": "code",
   "execution_count": 30,
   "id": "approved-platform",
   "metadata": {},
   "outputs": [
    {
     "name": "stdout",
     "output_type": "stream",
     "text": [
      "['/home/romain/SVN/python/romain', '/home/global/mrtrix3.0.1/bin', '/home/romain/SVN/python/romain', '/home/global/anaconda37/lib/python37.zip', '/home/global/anaconda37/lib/python3.7', '/home/global/anaconda37/lib/python3.7/lib-dynload', '', '/home/romain/.local/lib/python3.7/site-packages', '/home/global/anaconda37/lib/python3.7/site-packages', '/home/global/anaconda37/lib/python3.7/site-packages/locket-0.2.1-py3.7.egg', '/home/global/anaconda37/lib/python3.7/site-packages/IPython/extensions', '/home/romain/.ipython', '/NAS/deathrow/protocoles/predistim/DualSyndrome_QD/Shape/shapeworks/ShapeWorks-v5.5.0-linux/Examples/Python/', '/NAS/deathrow/protocoles/predistim/DualSyndrome_QD/Shape/shapeworks/ShapeWorks-v5.5.0-linux/bin', '/home/romain/.local/lib/python3.7/site-packages/itk/Configuration/..', '/home/romain/.local/lib/python3.7/site-packages/itk/Configuration/../../lib', '/NAS/deathrow/protocoles/predistim/DualSyndrome_QD/Shape/shapeworks/ShapeWorks-v5.5.0-linux/Examples/Python/', '/NAS/deathrow/protocoles/predistim/DualSyndrome_QD/Shape/shapeworks/ShapeWorks-v5.5.0-linux/bin']\n"
     ]
    }
   ],
   "source": [
    "print(sys.path)"
   ]
  },
  {
   "cell_type": "code",
   "execution_count": 3,
   "id": "special-thickness",
   "metadata": {},
   "outputs": [],
   "source": [
    "STUDY_PATH='/NAS/deathrow/protocoles/predistim/DualSyndrome_QD/Shape/'\n",
    "STRUCT='LC'\n",
    "MASK_PATH=os.path.join(STUDY_PATH,'Masks',STRUCT,'Nii')\n",
    "parentDir = os.path.join(STUDY_PATH,'PrepOutput',STRUCT)"
   ]
  },
  {
   "cell_type": "code",
   "execution_count": 31,
   "id": "fundamental-hearing",
   "metadata": {
    "collapsed": true,
    "jupyter": {
     "outputs_hidden": true
    }
   },
   "outputs": [
    {
     "name": "stdout",
     "output_type": "stream",
     "text": [
      "/home/global/sct_4.3/bin:/home/global/anaconda37/bin:/home/global/anaconda37/condabin:/home/romain/go/bin:/home/global/afni_v2016:/home/global/MSM/homes/ecr05/MSM_HOCR_v2/Ubuntu:/home/global/geckodriver:/home/global:/home/global/ShapeWork51/bin:/home/global:/home/matthieu/programs/palm-alpha95:/home/global/ciftify/ciftify/ciftify/bin:/usr/local/java32/jdk1.8.0_144/bin:/home/global/NiftyFit:/home/romain/SVN/scripts:/home/romain/SVN/scripts/pierre:/home/romain/SVN/scripts/tanguy:/home/romain/SVN/scripts/aurelien:/home/romain/SVN/scripts/renaud:/home/romain/SVN/scripts/renaud/FMRI:/home/romain/SVN/scripts/renaud/DTI:/home/romain/SVN/scripts/renaud/T1:/home/romain/SVN/scripts/renaud/QSM:/home/romain/SVN/python/renaud:/home/romain/SVN/python/renaud/FMRI:/home/romain/SVN/scripts/yann:/home/romain/SVN/scripts/nicolas:/home/romain/SVN/scripts/paul:/home/romain/SVN/scripts/sebastien:/home/romain/SVN/scripts/matthieu:/home/romain/SVN/scripts/julien:/home/romain/SVN/scripts/romain:/usr/local/cuda-7.0/bin:/home/global/BrainParser:/home/global/lcmodel:/home/global/camino/bin:/home/global/Ginkgo:/home/global/matlab_toolbox/libsvm-3.1:/home/global/matlab_toolbox/libsvm-3.1/tools:/home/global/trackvis/dtk:/home/global/mriconvert:/home/global/mricron082014:/home/global/mricro:/home/global/matlab_toolbox/pvelab/IBB_wrapper/pve:/home/global/ANTs_2.2/bin:/home/global/spharm-pdm_v1.12:/home/global/ShapeTools/linux64:/home/global/ShapeTools/linux64/BatchMake_Applications:/home/global/cmake/cmake-3.3.0-rc4-Linux-x86_64/bin:/home/global/dsistudio/build:/home/global/mrtrix3.0.1/bin:/home/global/brainsuite/bin:/home/global/brainsuite:/home/global/workbench_1.4.2_2020/bin_linux64:/home/global/caret/bin_linux64:/home/global/freesurfer6_0/bin:/home/global/freesurfer6_0/fsfast/bin:/home/global/freesurfer6_0/tktools:/home/global/fsl604/bin:/home/global/freesurfer6_0/mni/bin:/home/global/fsl604/bin:/usr/local/matlab/bin:/opt/minc/bin:/opt/minc/pipeline:/usr/local/AIR5.3.0:/usr/ParaView-3.10.0-Linux-x86_64/bin:/opt/sybase/bin:/usr/local/Slicer3-3.6.3-2011-03-04-linux-x86_64:/usr/java/jre1.6.0_25/bin:/home/romain/bin:/usr/local/sbin:/usr/local/bin:/usr/sbin:/usr/bin:/sbin:/bin:/usr/games:/usr/local/games:/snap/bin:/home/global/afni:/home/global/matlab_toolbox/areal/bin:/home/global/circos/current/bin:/usr/local/java32/jdk1.8.0_144/jre/bin:/usr/local/java32/jdk1.8.0_144/jre/bin:/usr/local/go/bin:/home/global/NiftyFit:/home/global/NiftyReg:/home/global/NiftySeg:/NAS/tupac/renaud/HCP/gradunwarp-1.0.2:/NAS/tupac/renaud/HCP/gradunwarp-1.0.2/core\n",
      "/home/global/sct_4.3/bin:/home/global/anaconda37/bin:/home/global/anaconda37/condabin:/home/romain/go/bin:/home/global/afni_v2016:/home/global/MSM/homes/ecr05/MSM_HOCR_v2/Ubuntu:/home/global/geckodriver:/home/global:/home/global/ShapeWork51/bin:/home/global:/home/matthieu/programs/palm-alpha95:/home/global/ciftify/ciftify/ciftify/bin:/usr/local/java32/jdk1.8.0_144/bin:/home/global/NiftyFit:/home/romain/SVN/scripts:/home/romain/SVN/scripts/pierre:/home/romain/SVN/scripts/tanguy:/home/romain/SVN/scripts/aurelien:/home/romain/SVN/scripts/renaud:/home/romain/SVN/scripts/renaud/FMRI:/home/romain/SVN/scripts/renaud/DTI:/home/romain/SVN/scripts/renaud/T1:/home/romain/SVN/scripts/renaud/QSM:/home/romain/SVN/python/renaud:/home/romain/SVN/python/renaud/FMRI:/home/romain/SVN/scripts/yann:/home/romain/SVN/scripts/nicolas:/home/romain/SVN/scripts/paul:/home/romain/SVN/scripts/sebastien:/home/romain/SVN/scripts/matthieu:/home/romain/SVN/scripts/julien:/home/romain/SVN/scripts/romain:/usr/local/cuda-7.0/bin:/home/global/BrainParser:/home/global/lcmodel:/home/global/camino/bin:/home/global/Ginkgo:/home/global/matlab_toolbox/libsvm-3.1:/home/global/matlab_toolbox/libsvm-3.1/tools:/home/global/trackvis/dtk:/home/global/mriconvert:/home/global/mricron082014:/home/global/mricro:/home/global/matlab_toolbox/pvelab/IBB_wrapper/pve:/home/global/ANTs_2.2/bin:/home/global/spharm-pdm_v1.12:/home/global/ShapeTools/linux64:/home/global/ShapeTools/linux64/BatchMake_Applications:/home/global/cmake/cmake-3.3.0-rc4-Linux-x86_64/bin:/home/global/dsistudio/build:/home/global/mrtrix3.0.1/bin:/home/global/brainsuite/bin:/home/global/brainsuite:/home/global/workbench_1.4.2_2020/bin_linux64:/home/global/caret/bin_linux64:/home/global/freesurfer6_0/bin:/home/global/freesurfer6_0/fsfast/bin:/home/global/freesurfer6_0/tktools:/home/global/fsl604/bin:/home/global/freesurfer6_0/mni/bin:/home/global/fsl604/bin:/usr/local/matlab/bin:/opt/minc/bin:/opt/minc/pipeline:/usr/local/AIR5.3.0:/usr/ParaView-3.10.0-Linux-x86_64/bin:/opt/sybase/bin:/usr/local/Slicer3-3.6.3-2011-03-04-linux-x86_64:/usr/java/jre1.6.0_25/bin:/home/romain/bin:/usr/local/sbin:/usr/local/bin:/usr/sbin:/usr/bin:/sbin:/bin:/usr/games:/usr/local/games:/snap/bin:/home/global/afni:/home/global/matlab_toolbox/areal/bin:/home/global/circos/current/bin:/usr/local/java32/jdk1.8.0_144/jre/bin:/usr/local/java32/jdk1.8.0_144/jre/bin:/usr/local/go/bin:/home/global/NiftyFit:/home/global/NiftyReg:/home/global/NiftySeg:/NAS/tupac/renaud/HCP/gradunwarp-1.0.2:/NAS/tupac/renaud/HCP/gradunwarp-1.0.2/core\n"
     ]
    }
   ],
   "source": [
    "#!echo $PATH\n",
    "#!export PATH=$PATH:/NAS/deathrow/protocoles/predistim/DualSyndrome_QD/Shape/shapeworks/ShapeWorks-v5.5.0-linux/bin"
   ]
  },
  {
   "cell_type": "code",
   "execution_count": 4,
   "id": "opposite-bleeding",
   "metadata": {
    "collapsed": true,
    "jupyter": {
     "outputs_hidden": true
    }
   },
   "outputs": [
    {
     "ename": "NameError",
     "evalue": "name 'parentDir' is not defined",
     "output_type": "error",
     "traceback": [
      "\u001b[0;31m---------------------------------------------------------------------------\u001b[0m",
      "\u001b[0;31mNameError\u001b[0m                                 Traceback (most recent call last)",
      "\u001b[0;32m<ipython-input-4-8a7d529f9ddf>\u001b[0m in \u001b[0;36m<module>\u001b[0;34m\u001b[0m\n\u001b[1;32m      1\u001b[0m \u001b[0mfileList\u001b[0m \u001b[0;34m=\u001b[0m \u001b[0msorted\u001b[0m\u001b[0;34m(\u001b[0m\u001b[0mglob\u001b[0m\u001b[0;34m.\u001b[0m\u001b[0mglob\u001b[0m\u001b[0;34m(\u001b[0m\u001b[0mos\u001b[0m\u001b[0;34m.\u001b[0m\u001b[0mpath\u001b[0m\u001b[0;34m.\u001b[0m\u001b[0mjoin\u001b[0m\u001b[0;34m(\u001b[0m\u001b[0mMASK_PATH\u001b[0m\u001b[0;34m,\u001b[0m\u001b[0;34m\"G[123]*.nii.gz\"\u001b[0m\u001b[0;34m)\u001b[0m\u001b[0;34m)\u001b[0m\u001b[0;34m)\u001b[0m\u001b[0;34m\u001b[0m\u001b[0;34m\u001b[0m\u001b[0m\n\u001b[0;32m----> 2\u001b[0;31m \u001b[0;32mif\u001b[0m \u001b[0;32mnot\u001b[0m \u001b[0mos\u001b[0m\u001b[0;34m.\u001b[0m\u001b[0mpath\u001b[0m\u001b[0;34m.\u001b[0m\u001b[0mexists\u001b[0m\u001b[0;34m(\u001b[0m\u001b[0mparentDir\u001b[0m\u001b[0;34m)\u001b[0m\u001b[0;34m:\u001b[0m\u001b[0;34m\u001b[0m\u001b[0;34m\u001b[0m\u001b[0m\n\u001b[0m\u001b[1;32m      3\u001b[0m     \u001b[0mos\u001b[0m\u001b[0;34m.\u001b[0m\u001b[0mmakedirs\u001b[0m\u001b[0;34m(\u001b[0m\u001b[0mparentDir\u001b[0m\u001b[0;34m)\u001b[0m\u001b[0;34m\u001b[0m\u001b[0;34m\u001b[0m\u001b[0m\n\u001b[1;32m      4\u001b[0m \u001b[0;34m\u001b[0m\u001b[0m\n\u001b[1;32m      5\u001b[0m \u001b[0;32mfor\u001b[0m \u001b[0mima\u001b[0m \u001b[0;32min\u001b[0m \u001b[0mfileList\u001b[0m \u001b[0;34m:\u001b[0m\u001b[0;34m\u001b[0m\u001b[0;34m\u001b[0m\u001b[0m\n",
      "\u001b[0;31mNameError\u001b[0m: name 'parentDir' is not defined"
     ]
    }
   ],
   "source": [
    "fileList = sorted(glob.glob(os.path.join(MASK_PATH,\"G[123]*.nii.gz\")))\n",
    "if not os.path.exists(parentDir):\n",
    "    os.makedirs(parentDir)\n",
    "\n",
    "for ima in fileList :\n",
    "    img = nib.load(ima)\n",
    "    print(ima,os.path.join(parentDir,os.path.basename(ima).replace(\".nii.gz\",\".nrrd\")))\n",
    "    #nrrd.write(os.path.join(parentDir,os.path.basename(ima).replace(\".nii.gz\",\".nrrd\")),np.asanyarray(img.get_fdata()))"
   ]
  },
  {
   "cell_type": "code",
   "execution_count": 11,
   "id": "available-choice",
   "metadata": {},
   "outputs": [
    {
     "name": "stdout",
     "output_type": "stream",
     "text": [
      "/NAS/deathrow/protocoles/predistim/DualSyndrome_QD/Shape/PrepOutput/LC/PointFilescorrespondence_512.xml\n"
     ]
    }
   ],
   "source": [
    "#fileList = sorted(glob.glob(os.path.join(parentDir,\"*.nrrd\")))\n",
    "#resampledFiles = applyIsotropicResampling(os.path.join(parentDir,\"resampled\"),fileList,isBinary=True)\n",
    "#paddedFiles = applyPadding(os.path.join(parentDir,\"padded\"),resampledFiles,10)\n",
    "#centerFiles = center(os.path.join(parentDir,\"centered\"),paddedFiles)\n",
    "#comFiles = applyCOMAlignment(os.path.join(parentDir,\"com_aligned\"),centerFiles,None)\n",
    "#medianFile = FindReferenceImage(centerFiles)\n",
    "#rigidFiles_segmentations=applyRigidAlignment(parentDir,comFiles,None,medianFile,processRaw = False)\n",
    "#rigidFiles_segmentations=glob.glob(os.path.join(parentDir,\"*.isores.pad.center.com.aligned.nrrd\"))\n",
    "#croppedFiles = applyCropping(parentDir+ \"cropped/segmentations\",rigidFiles_segmentations,os.path.join(parentDir,\"*.aligned.nrrd\"))\n",
    "#dtFiles = applyDistanceTransforms(parentDir,croppedFiles)    \n",
    "#pointDir = os.path.join(parentDir,'PointFiles')\n",
    "#if not os.path.exists(pointDir):\n",
    "#    os.makedirs(pointDir)\n",
    "\n",
    "parameterDictionary = {\n",
    "    \"starting_particles\" : 64,\n",
    "    \"number_of_particles\" : 512,\n",
    "    \"number_of_levels\" : 4, \n",
    "    \"use_normals\": 0,\n",
    "    \"normal_weight\": 10.0,\n",
    "    \"checkpointing_interval\" : 200,\n",
    "    \"keep_checkpoints\" : 0,\n",
    "    \"iterations_per_split\" : 4000,\n",
    "    \"optimization_iterations\" : 400,\n",
    "    \"starting_regularization\" : 1000,\n",
    "    \"ending_regularization\" : 1,\n",
    "    \"recompute_regularization_interval\" : 2,\n",
    "    \"domains_per_shape\" : 1,\n",
    "    \"relative_weighting\" : 10,\n",
    "    \"initial_relative_weighting\" : 0.1,\n",
    "    \"domain_type\" : 'image',\n",
    "    \"procrustes_interval\" : 1,\n",
    "    \"procrustes_scaling\" : 1,\n",
    "    \"save_init_splits\" : 0,\n",
    "    \"debug_projection\" : 0,\n",
    "    \"mesh_based_attributes\" : 0,\n",
    "    \"verbosity\" : 3\n",
    "}\n",
    "\n",
    "\"\"\"\n",
    "Now we execute a multi-scale (or single-scale) particle optimization function.\n",
    "\"\"\"\n",
    "[localPointFiles, worldPointFiles] = runShapeWorksOptimize(pointDir, dtFiles, parameterDictionary)"
   ]
  },
  {
   "cell_type": "code",
   "execution_count": 15,
   "id": "colored-uzbekistan",
   "metadata": {},
   "outputs": [
    {
     "name": "stdout",
     "output_type": "stream",
     "text": [
      "CMD: a b\n"
     ]
    }
   ],
   "source": [
    "print(\"CMD: \" + \" \".join([\"a\",\"b\"]))"
   ]
  },
  {
   "cell_type": "code",
   "execution_count": 20,
   "id": "civilian-reservoir",
   "metadata": {},
   "outputs": [
    {
     "data": {
      "text/plain": [
       "list"
      ]
     },
     "execution_count": 20,
     "metadata": {},
     "output_type": "execute_result"
    }
   ],
   "source": [
    "type(test)"
   ]
  },
  {
   "cell_type": "code",
   "execution_count": 10,
   "id": "mathematical-idaho",
   "metadata": {},
   "outputs": [
    {
     "data": {
      "text/plain": [
       "'/NAS/deathrow/protocoles/predistim/DualSyndrome_QD/Shape/PrepOutput/LC/PointFiles'"
      ]
     },
     "execution_count": 10,
     "metadata": {},
     "output_type": "execute_result"
    }
   ],
   "source": [
    "pointDir"
   ]
  },
  {
   "cell_type": "code",
   "execution_count": null,
   "id": "proprietary-provider",
   "metadata": {},
   "outputs": [],
   "source": []
  }
 ],
 "metadata": {
  "kernelspec": {
   "display_name": "Python 3",
   "language": "python",
   "name": "python3"
  },
  "language_info": {
   "codemirror_mode": {
    "name": "ipython",
    "version": 3
   },
   "file_extension": ".py",
   "mimetype": "text/x-python",
   "name": "python",
   "nbconvert_exporter": "python",
   "pygments_lexer": "ipython3",
   "version": "3.7.6"
  }
 },
 "nbformat": 4,
 "nbformat_minor": 5
}
