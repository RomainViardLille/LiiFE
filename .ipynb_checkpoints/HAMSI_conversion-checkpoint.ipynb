{
 "cells": [
  {
   "cell_type": "code",
   "execution_count": 3,
   "metadata": {
    "collapsed": true,
    "jupyter": {
     "outputs_hidden": true
    },
    "tags": []
   },
   "outputs": [
    {
     "name": "stdout",
     "output_type": "stream",
     "text": [
      "Defaulting to user installation because normal site-packages is not writeable\n",
      "Requirement already satisfied: dcm2niix in /home/romain/.local/lib/python3.7/site-packages (1.0.20220715)\n",
      "Requirement already satisfied: miutil[web] in /home/romain/.local/lib/python3.7/site-packages (from dcm2niix) (0.10.1)\n",
      "Requirement already satisfied: tqdm>=4.40.0 in /home/romain/.local/lib/python3.7/site-packages (from miutil[web]->dcm2niix) (4.54.1)\n",
      "Requirement already satisfied: requests in /mnt/software/anaconda37/lib/python3.7/site-packages (from miutil[web]->dcm2niix) (2.27.1)\n",
      "Requirement already satisfied: certifi>=2017.4.17 in /mnt/software/anaconda37/lib/python3.7/site-packages (from requests->miutil[web]->dcm2niix) (2021.10.8)\n",
      "Requirement already satisfied: urllib3<1.27,>=1.21.1 in /mnt/software/anaconda37/lib/python3.7/site-packages (from requests->miutil[web]->dcm2niix) (1.26.3)\n",
      "Requirement already satisfied: charset-normalizer~=2.0.0 in /mnt/software/anaconda37/lib/python3.7/site-packages (from requests->miutil[web]->dcm2niix) (2.0.4)\n",
      "Requirement already satisfied: idna<4,>=2.5 in /mnt/software/anaconda37/lib/python3.7/site-packages (from requests->miutil[web]->dcm2niix) (3.3)\n",
      "Note: you may need to restart the kernel to use updated packages.\n"
     ]
    }
   ],
   "source": [
    " pip install dcm2niix"
   ]
  },
  {
   "cell_type": "code",
   "execution_count": 2,
   "metadata": {
    "collapsed": true,
    "jupyter": {
     "outputs_hidden": true
    },
    "tags": []
   },
   "outputs": [
    {
     "name": "stdout",
     "output_type": "stream",
     "text": [
      "Defaulting to user installation because normal site-packages is not writeable\n",
      "Requirement already satisfied: nipype in /home/romain/.local/lib/python3.7/site-packages (1.8.5)\n",
      "Requirement already satisfied: pydot>=1.2.3 in /home/romain/.local/lib/python3.7/site-packages (from nipype) (1.4.2)\n",
      "Requirement already satisfied: packaging in /mnt/software/anaconda37/lib/python3.7/site-packages (from nipype) (21.3)\n",
      "Requirement already satisfied: traits!=5.0,<6.4,>=4.6 in /home/romain/.local/lib/python3.7/site-packages (from nipype) (6.3.2)\n",
      "Requirement already satisfied: numpy>=1.17 in /home/romain/.local/lib/python3.7/site-packages (from nipype) (1.20.1)\n",
      "Requirement already satisfied: etelemetry>=0.2.0 in /home/romain/.local/lib/python3.7/site-packages (from nipype) (0.3.0)\n",
      "Requirement already satisfied: scipy>=0.14 in /home/romain/.local/lib/python3.7/site-packages (from nipype) (1.4.1)\n",
      "Requirement already satisfied: click>=6.6.0 in /mnt/software/anaconda37/lib/python3.7/site-packages (from nipype) (8.0.3)\n",
      "Requirement already satisfied: networkx>=2.0 in /mnt/software/anaconda37/lib/python3.7/site-packages (from nipype) (2.6.3)\n",
      "Requirement already satisfied: looseversion in /home/romain/.local/lib/python3.7/site-packages (from nipype) (1.0.2)\n",
      "Requirement already satisfied: python-dateutil>=2.2 in /home/romain/.local/lib/python3.7/site-packages (from nipype) (2.7.3)\n",
      "Requirement already satisfied: prov>=1.5.2 in /home/romain/.local/lib/python3.7/site-packages (from nipype) (2.0.0)\n",
      "Requirement already satisfied: rdflib>=5.0.0 in /home/romain/.local/lib/python3.7/site-packages (from nipype) (6.2.0)\n",
      "Requirement already satisfied: simplejson>=3.8.0 in /home/romain/.local/lib/python3.7/site-packages (from nipype) (3.18.0)\n",
      "Requirement already satisfied: nibabel>=2.1.0 in /home/romain/.local/lib/python3.7/site-packages (from nipype) (3.0.1)\n",
      "Requirement already satisfied: filelock>=3.0.0 in /mnt/software/anaconda37/lib/python3.7/site-packages (from nipype) (3.4.2)\n",
      "Requirement already satisfied: importlib-metadata in /mnt/software/anaconda37/lib/python3.7/site-packages (from click>=6.6.0->nipype) (4.8.2)\n",
      "Requirement already satisfied: requests in /mnt/software/anaconda37/lib/python3.7/site-packages (from etelemetry>=0.2.0->nipype) (2.27.1)\n",
      "Requirement already satisfied: ci-info>=0.2 in /home/romain/.local/lib/python3.7/site-packages (from etelemetry>=0.2.0->nipype) (0.3.0)\n",
      "Requirement already satisfied: lxml>=3.3.5 in /mnt/software/anaconda37/lib/python3.7/site-packages (from prov>=1.5.2->nipype) (4.6.3)\n",
      "Requirement already satisfied: pyparsing>=2.1.4 in /home/romain/.local/lib/python3.7/site-packages (from pydot>=1.2.3->nipype) (2.4.7)\n",
      "Requirement already satisfied: six>=1.5 in /home/romain/.local/lib/python3.7/site-packages (from python-dateutil>=2.2->nipype) (1.15.0)\n",
      "Requirement already satisfied: setuptools in /mnt/software/anaconda37/lib/python3.7/site-packages (from rdflib>=5.0.0->nipype) (58.0.4)\n",
      "Requirement already satisfied: isodate in /home/romain/.local/lib/python3.7/site-packages (from rdflib>=5.0.0->nipype) (0.6.1)\n",
      "Requirement already satisfied: typing-extensions>=3.6.4 in /mnt/software/anaconda37/lib/python3.7/site-packages (from importlib-metadata->click>=6.6.0->nipype) (3.10.0.2)\n",
      "Requirement already satisfied: zipp>=0.5 in /mnt/software/anaconda37/lib/python3.7/site-packages (from importlib-metadata->click>=6.6.0->nipype) (3.7.0)\n",
      "Requirement already satisfied: charset-normalizer~=2.0.0 in /mnt/software/anaconda37/lib/python3.7/site-packages (from requests->etelemetry>=0.2.0->nipype) (2.0.4)\n",
      "Requirement already satisfied: urllib3<1.27,>=1.21.1 in /mnt/software/anaconda37/lib/python3.7/site-packages (from requests->etelemetry>=0.2.0->nipype) (1.26.3)\n",
      "Requirement already satisfied: idna<4,>=2.5 in /mnt/software/anaconda37/lib/python3.7/site-packages (from requests->etelemetry>=0.2.0->nipype) (3.3)\n",
      "Requirement already satisfied: certifi>=2017.4.17 in /mnt/software/anaconda37/lib/python3.7/site-packages (from requests->etelemetry>=0.2.0->nipype) (2021.10.8)\n",
      "Note: you may need to restart the kernel to use updated packages.\n"
     ]
    }
   ],
   "source": [
    "pip install nipype"
   ]
  },
  {
   "cell_type": "markdown",
   "metadata": {},
   "source": [
    "# Ici les DATAFRAMES (fichier csv)"
   ]
  },
  {
   "cell_type": "code",
   "execution_count": 4,
   "metadata": {},
   "outputs": [],
   "source": [
    "import os, sys\n",
    "import pydicom as dcm\n",
    "import pandas as pd\n",
    "import matplotlib.pyplot as plt #graphiques\n",
    "from os import listdir\n",
    "from os.path import isfile, join\n",
    "#onlyfiles = [f for f in listdir(mypath) if isfile(join(mypath, f))]\n",
    "import glob\n",
    "import dcm2niix as dc\n",
    "#len(glob.glob(join(mypath,\"*\",\"*\",\"MR*\"),recursive=True))\n",
    "from nipype.interfaces.dcm2nii import Dcm2niix"
   ]
  },
  {
   "cell_type": "code",
   "execution_count": 5,
   "metadata": {},
   "outputs": [],
   "source": [
    "PATH_DIR = join('/NAS','dumbo','protocoles','HAMSI')"
   ]
  },
  {
   "cell_type": "code",
   "execution_count": 6,
   "metadata": {},
   "outputs": [],
   "source": [
    "table_FLAIR = pd.read_csv(join(PATH_DIR,\"df_table_FLAIR_GE.csv\"),sep=',')\n",
    "table_T1Gado = pd.read_csv(join(PATH_DIR,\"df_table_T1Gado_GE.csv\"),sep=',')\n",
    "table_T1 = pd.read_csv(join(PATH_DIR,\"df_table_T1_GE.csv\"),sep=',')"
   ]
  },
  {
   "cell_type": "code",
   "execution_count": 30,
   "metadata": {},
   "outputs": [
    {
     "name": "stdout",
     "output_type": "stream",
     "text": [
      "<class 'pandas.core.frame.DataFrame'>\n",
      "RangeIndex: 128 entries, 0 to 127\n",
      "Data columns (total 19 columns):\n",
      " #   Column                                                               Non-Null Count  Dtype \n",
      "---  ------                                                               --------------  ----- \n",
      " 0   IPP_CHU                                                              128 non-null    int64 \n",
      " 1   PatientName                                                          128 non-null    object\n",
      " 2   PatientBirthDate                                                     128 non-null    int64 \n",
      " 3   PatientSex                                                           128 non-null    object\n",
      " 4   AccessionNumber                                                      128 non-null    int64 \n",
      " 5   Modality                                                             128 non-null    object\n",
      " 6   StudyDescription                                                     128 non-null    object\n",
      " 7   StudyDate                                                            128 non-null    int64 \n",
      " 8   StudyTime                                                            128 non-null    int64 \n",
      " 9   StudyInstanceUID                                                     128 non-null    object\n",
      " 10  SeriesDescription                                                    128 non-null    object\n",
      " 11  SeriesTime                                                           128 non-null    int64 \n",
      " 12  SeriesNumber                                                         128 non-null    int64 \n",
      " 13  Slices                                                               128 non-null    int64 \n",
      " 14  SerieInstanceUID                                                     128 non-null    object\n",
      " 15  /NAS/dumbo/protocoles/HAMSI/data//StudyInstanceUID/SerieInstanceUID  128 non-null    object\n",
      " 16  Machine                                                              128 non-null    object\n",
      " 17  Manufacturer Model Name                                              128 non-null    object\n",
      " 18  Station Name                                                         128 non-null    object\n",
      "dtypes: int64(8), object(11)\n",
      "memory usage: 19.1+ KB\n"
     ]
    }
   ],
   "source": [
    "table_FLAIR.info()"
   ]
  },
  {
   "cell_type": "code",
   "execution_count": 29,
   "metadata": {},
   "outputs": [
    {
     "name": "stdout",
     "output_type": "stream",
     "text": [
      "<class 'pandas.core.frame.DataFrame'>\n",
      "RangeIndex: 97 entries, 0 to 96\n",
      "Data columns (total 19 columns):\n",
      " #   Column                                                               Non-Null Count  Dtype \n",
      "---  ------                                                               --------------  ----- \n",
      " 0   IPP_CHU                                                              97 non-null     int64 \n",
      " 1   PatientName                                                          97 non-null     object\n",
      " 2   PatientBirthDate                                                     97 non-null     int64 \n",
      " 3   PatientSex                                                           97 non-null     object\n",
      " 4   AccessionNumber                                                      97 non-null     int64 \n",
      " 5   Modality                                                             97 non-null     object\n",
      " 6   StudyDescription                                                     97 non-null     object\n",
      " 7   StudyDate                                                            97 non-null     int64 \n",
      " 8   StudyTime                                                            97 non-null     int64 \n",
      " 9   StudyInstanceUID                                                     97 non-null     object\n",
      " 10  SeriesDescription                                                    97 non-null     object\n",
      " 11  SeriesTime                                                           97 non-null     int64 \n",
      " 12  SeriesNumber                                                         97 non-null     int64 \n",
      " 13  Slices                                                               97 non-null     int64 \n",
      " 14  SerieInstanceUID                                                     97 non-null     object\n",
      " 15  /NAS/dumbo/protocoles/HAMSI/data//StudyInstanceUID/SerieInstanceUID  97 non-null     object\n",
      " 16  Machine                                                              97 non-null     object\n",
      " 17  Manufacturer Model Name                                              97 non-null     object\n",
      " 18  Station Name                                                         97 non-null     object\n",
      "dtypes: int64(8), object(11)\n",
      "memory usage: 14.5+ KB\n"
     ]
    }
   ],
   "source": [
    "table_T1.info()"
   ]
  },
  {
   "cell_type": "code",
   "execution_count": 31,
   "metadata": {},
   "outputs": [
    {
     "name": "stdout",
     "output_type": "stream",
     "text": [
      "<class 'pandas.core.frame.DataFrame'>\n",
      "RangeIndex: 107 entries, 0 to 106\n",
      "Data columns (total 19 columns):\n",
      " #   Column                                                               Non-Null Count  Dtype \n",
      "---  ------                                                               --------------  ----- \n",
      " 0   IPP_CHU                                                              107 non-null    int64 \n",
      " 1   PatientName                                                          107 non-null    object\n",
      " 2   PatientBirthDate                                                     107 non-null    int64 \n",
      " 3   PatientSex                                                           107 non-null    object\n",
      " 4   AccessionNumber                                                      107 non-null    int64 \n",
      " 5   Modality                                                             107 non-null    object\n",
      " 6   StudyDescription                                                     107 non-null    object\n",
      " 7   StudyDate                                                            107 non-null    int64 \n",
      " 8   StudyTime                                                            107 non-null    int64 \n",
      " 9   StudyInstanceUID                                                     107 non-null    object\n",
      " 10  SeriesDescription                                                    107 non-null    object\n",
      " 11  SeriesTime                                                           107 non-null    int64 \n",
      " 12  SeriesNumber                                                         107 non-null    int64 \n",
      " 13  Slices                                                               107 non-null    int64 \n",
      " 14  SerieInstanceUID                                                     107 non-null    object\n",
      " 15  /NAS/dumbo/protocoles/HAMSI/data//StudyInstanceUID/SerieInstanceUID  107 non-null    object\n",
      " 16  Machine                                                              107 non-null    object\n",
      " 17  Manufacturer Model Name                                              107 non-null    object\n",
      " 18  Station Name                                                         107 non-null    object\n",
      "dtypes: int64(8), object(11)\n",
      "memory usage: 16.0+ KB\n"
     ]
    }
   ],
   "source": [
    "table_T1Gado.info()"
   ]
  },
  {
   "cell_type": "code",
   "execution_count": 7,
   "metadata": {},
   "outputs": [],
   "source": [
    "PATH_DATA = join(PATH_DIR,'data')"
   ]
  },
  {
   "cell_type": "code",
   "execution_count": 34,
   "metadata": {},
   "outputs": [],
   "source": [
    "#tmp_table=table_T1.merge(table_T1Gado,on='StudyInstanceUID').merge(table_FLAIR,on='StudyInstanceUID')\n",
    "big_table=pd.concat([table_T1,table_T1Gado,table_FLAIR])"
   ]
  },
  {
   "cell_type": "code",
   "execution_count": 35,
   "metadata": {},
   "outputs": [
    {
     "name": "stdout",
     "output_type": "stream",
     "text": [
      "<class 'pandas.core.frame.DataFrame'>\n",
      "Int64Index: 332 entries, 0 to 127\n",
      "Data columns (total 19 columns):\n",
      " #   Column                                                               Non-Null Count  Dtype \n",
      "---  ------                                                               --------------  ----- \n",
      " 0   IPP_CHU                                                              332 non-null    int64 \n",
      " 1   PatientName                                                          332 non-null    object\n",
      " 2   PatientBirthDate                                                     332 non-null    int64 \n",
      " 3   PatientSex                                                           332 non-null    object\n",
      " 4   AccessionNumber                                                      332 non-null    int64 \n",
      " 5   Modality                                                             332 non-null    object\n",
      " 6   StudyDescription                                                     332 non-null    object\n",
      " 7   StudyDate                                                            332 non-null    int64 \n",
      " 8   StudyTime                                                            332 non-null    int64 \n",
      " 9   StudyInstanceUID                                                     332 non-null    object\n",
      " 10  SeriesDescription                                                    332 non-null    object\n",
      " 11  SeriesTime                                                           332 non-null    int64 \n",
      " 12  SeriesNumber                                                         332 non-null    int64 \n",
      " 13  Slices                                                               332 non-null    int64 \n",
      " 14  SerieInstanceUID                                                     332 non-null    object\n",
      " 15  /NAS/dumbo/protocoles/HAMSI/data//StudyInstanceUID/SerieInstanceUID  332 non-null    object\n",
      " 16  Machine                                                              332 non-null    object\n",
      " 17  Manufacturer Model Name                                              332 non-null    object\n",
      " 18  Station Name                                                         332 non-null    object\n",
      "dtypes: int64(8), object(11)\n",
      "memory usage: 51.9+ KB\n"
     ]
    }
   ],
   "source": [
    "big_table.info()"
   ]
  },
  {
   "cell_type": "code",
   "execution_count": 44,
   "metadata": {},
   "outputs": [
    {
     "name": "stdout",
     "output_type": "stream",
     "text": [
      "<pandas.core.groupby.generic.SeriesGroupBy object at 0x7fa7bd0aae90>\n"
     ]
    }
   ],
   "source": [
    "test=pd.concat([table_T1,table_T1Gado,table_FLAIR]).groupby('StudyInstanceUID')"
   ]
  },
  {
   "cell_type": "code",
   "execution_count": 53,
   "metadata": {
    "collapsed": true,
    "jupyter": {
     "outputs_hidden": true
    },
    "tags": []
   },
   "outputs": [
    {
     "data": {
      "text/plain": [
       "StudyInstanceUID\n",
       "1.3.51.0.1.1.10.49.10.222.5907244.5907547    1\n",
       "1.3.51.0.1.1.10.49.10.222.5909844.5910147    1\n",
       "1.3.51.0.1.1.10.49.10.222.5912062.5912365    1\n",
       "1.3.51.0.1.1.10.49.10.222.5943231.5943554    1\n",
       "1.3.51.0.1.1.10.49.10.222.5963804.5964141    1\n",
       "                                            ..\n",
       "1.3.51.0.1.1.10.49.10.222.7482133.7483333    1\n",
       "1.3.51.0.1.1.10.49.10.222.7513161.7514388    1\n",
       "1.3.51.0.1.1.10.49.10.222.7524515.7525759    1\n",
       "1.3.51.0.1.1.10.49.10.222.7526446.7527690    1\n",
       "1.3.51.0.1.1.10.49.10.222.7529105.7530349    1\n",
       "Name: IPP_CHU, Length: 137, dtype: int64"
      ]
     },
     "execution_count": 53,
     "metadata": {},
     "output_type": "execute_result"
    }
   ],
   "source": [
    "test['IPP_CHU'].nunique()"
   ]
  },
  {
   "cell_type": "markdown",
   "metadata": {},
   "source": [
    "# Infos dataframe"
   ]
  },
  {
   "cell_type": "code",
   "execution_count": 27,
   "metadata": {
    "collapsed": true,
    "jupyter": {
     "outputs_hidden": true
    },
    "tags": []
   },
   "outputs": [
    {
     "name": "stdout",
     "output_type": "stream",
     "text": [
      "<class 'pandas.core.frame.DataFrame'>\n",
      "Int64Index: 96 entries, 0 to 95\n",
      "Data columns (total 37 columns):\n",
      " #   Column                                                                 Non-Null Count  Dtype \n",
      "---  ------                                                                 --------------  ----- \n",
      " 0   IPP_CHU_x                                                              96 non-null     int64 \n",
      " 1   PatientName_x                                                          96 non-null     object\n",
      " 2   PatientBirthDate_x                                                     96 non-null     int64 \n",
      " 3   PatientSex_x                                                           96 non-null     object\n",
      " 4   AccessionNumber_x                                                      96 non-null     int64 \n",
      " 5   Modality_x                                                             96 non-null     object\n",
      " 6   StudyDescription_x                                                     96 non-null     object\n",
      " 7   StudyDate_x                                                            96 non-null     int64 \n",
      " 8   StudyTime_x                                                            96 non-null     int64 \n",
      " 9   StudyInstanceUID                                                       96 non-null     object\n",
      " 10  SeriesDescription_x                                                    96 non-null     object\n",
      " 11  SeriesTime_x                                                           96 non-null     int64 \n",
      " 12  SeriesNumber_x                                                         96 non-null     int64 \n",
      " 13  Slices_x                                                               96 non-null     int64 \n",
      " 14  SerieInstanceUID_x                                                     96 non-null     object\n",
      " 15  /NAS/dumbo/protocoles/HAMSI/data//StudyInstanceUID/SerieInstanceUID_x  96 non-null     object\n",
      " 16  Machine_x                                                              96 non-null     object\n",
      " 17  Manufacturer Model Name_x                                              96 non-null     object\n",
      " 18  Station Name_x                                                         96 non-null     object\n",
      " 19  IPP_CHU_y                                                              96 non-null     int64 \n",
      " 20  PatientName_y                                                          96 non-null     object\n",
      " 21  PatientBirthDate_y                                                     96 non-null     int64 \n",
      " 22  PatientSex_y                                                           96 non-null     object\n",
      " 23  AccessionNumber_y                                                      96 non-null     int64 \n",
      " 24  Modality_y                                                             96 non-null     object\n",
      " 25  StudyDescription_y                                                     96 non-null     object\n",
      " 26  StudyDate_y                                                            96 non-null     int64 \n",
      " 27  StudyTime_y                                                            96 non-null     int64 \n",
      " 28  SeriesDescription_y                                                    96 non-null     object\n",
      " 29  SeriesTime_y                                                           96 non-null     int64 \n",
      " 30  SeriesNumber_y                                                         96 non-null     int64 \n",
      " 31  Slices_y                                                               96 non-null     int64 \n",
      " 32  SerieInstanceUID_y                                                     96 non-null     object\n",
      " 33  /NAS/dumbo/protocoles/HAMSI/data//StudyInstanceUID/SerieInstanceUID_y  96 non-null     object\n",
      " 34  Machine_y                                                              96 non-null     object\n",
      " 35  Manufacturer Model Name_y                                              96 non-null     object\n",
      " 36  Station Name_y                                                         96 non-null     object\n",
      "dtypes: int64(16), object(21)\n",
      "memory usage: 28.5+ KB\n"
     ]
    }
   ],
   "source": [
    "big_table.info()"
   ]
  },
  {
   "cell_type": "code",
   "execution_count": 86,
   "metadata": {},
   "outputs": [],
   "source": [
    "def convert_dcm_2_nii_x(dcm_folder, output_folder):    \n",
    "  converter = Dcm2niix()    \n",
    "  converter.inputs.source_dir = dcm_folder    \n",
    "  converter.inputs.output_dir = output_folder    \n",
    "  converter.inputs.compress = 'i'    \n",
    "  converter.run()"
   ]
  },
  {
   "cell_type": "code",
   "execution_count": 94,
   "metadata": {
    "collapsed": true,
    "jupyter": {
     "outputs_hidden": true
    },
    "tags": []
   },
   "outputs": [
    {
     "name": "stdout",
     "output_type": "stream",
     "text": [
      "221125-13:01:10,106 nipype.interface INFO:\n",
      "\t stdout 2022-11-25T13:01:10.106227:Chris Rorden's dcm2niiX version v1.0.20211006  (JP2:OpenJPEG) GCC9.3.0 x86-64 (64-bit Linux)\n",
      "221125-13:01:10,107 nipype.interface INFO:\n",
      "\t stdout 2022-11-25T13:01:10.106227:Found 208 DICOM file(s)\n",
      "221125-13:01:10,107 nipype.interface INFO:\n",
      "\t stdout 2022-11-25T13:01:10.106227:Resolved discrepancy between tags (0020,1002; 0021,104F; 0054,0081)\n",
      "221125-13:01:10,108 nipype.interface INFO:\n",
      "\t stdout 2022-11-25T13:01:10.106227:Convert 208 DICOM as /NAS/dumbo/protocoles/HAMSI/data_NIFTI/1.3.51.0.1.1.10.49.10.222.7036063.7037033/1.2.840.113619.2.374.2807.1582298.15832.1638180963.574_RAB_CRANE_20211202143321_6 (512x512x208x1)\n",
      "221125-13:01:17,124 nipype.interface INFO:\n",
      "\t stdout 2022-11-25T13:01:17.124108:Conversion required 10.583818 seconds (6.830744 for core code).\n",
      "221125-13:01:20,303 nipype.interface INFO:\n",
      "\t stdout 2022-11-25T13:01:20.303824:Chris Rorden's dcm2niiX version v1.0.20211006  (JP2:OpenJPEG) GCC9.3.0 x86-64 (64-bit Linux)\n",
      "221125-13:01:20,305 nipype.interface INFO:\n",
      "\t stdout 2022-11-25T13:01:20.303824:Found 208 DICOM file(s)\n",
      "221125-13:01:20,306 nipype.interface INFO:\n",
      "\t stdout 2022-11-25T13:01:20.303824:Resolved discrepancy between tags (0020,1002; 0021,104F; 0054,0081)\n",
      "221125-13:01:20,306 nipype.interface INFO:\n",
      "\t stdout 2022-11-25T13:01:20.303824:Convert 208 DICOM as /NAS/dumbo/protocoles/HAMSI/data_NIFTI/1.3.51.0.1.1.10.49.10.222.6903033.6903944/1.2.840.113619.2.374.2807.1582298.18022.1631600082.520_201_-_Crane_Standard_20210915104022_5 (512x512x208x1)\n",
      "221125-13:01:27,227 nipype.interface INFO:\n",
      "\t stdout 2022-11-25T13:01:27.227578:Conversion required 9.904128 seconds (6.746139 for core code).\n",
      "221125-13:01:30,494 nipype.interface INFO:\n",
      "\t stdout 2022-11-25T13:01:30.494386:Chris Rorden's dcm2niiX version v1.0.20211006  (JP2:OpenJPEG) GCC9.3.0 x86-64 (64-bit Linux)\n",
      "221125-13:01:30,495 nipype.interface INFO:\n",
      "\t stdout 2022-11-25T13:01:30.494386:Found 208 DICOM file(s)\n",
      "221125-13:01:30,495 nipype.interface INFO:\n",
      "\t stdout 2022-11-25T13:01:30.494386:Resolved discrepancy between tags (0020,1002; 0021,104F; 0054,0081)\n",
      "221125-13:01:30,496 nipype.interface INFO:\n",
      "\t stdout 2022-11-25T13:01:30.494386:Convert 208 DICOM as /NAS/dumbo/protocoles/HAMSI/data_NIFTI/1.3.51.0.1.1.10.49.10.222.6555046.6555716/1.2.840.113619.2.374.2807.1582298.14995.1613461173.24_201_-_Crane_Standard_20210216094133_5 (512x512x208x1)\n",
      "221125-13:01:37,629 nipype.interface INFO:\n",
      "\t stdout 2022-11-25T13:01:37.629280:Conversion required 10.206266 seconds (6.964585 for core code).\n",
      "221125-13:01:41,569 nipype.interface INFO:\n",
      "\t stdout 2022-11-25T13:01:41.569297:Chris Rorden's dcm2niiX version v1.0.20211006  (JP2:OpenJPEG) GCC9.3.0 x86-64 (64-bit Linux)\n",
      "221125-13:01:41,570 nipype.interface INFO:\n",
      "\t stdout 2022-11-25T13:01:41.569297:Found 208 DICOM file(s)\n",
      "221125-13:01:41,571 nipype.interface INFO:\n",
      "\t stdout 2022-11-25T13:01:41.569297:Resolved discrepancy between tags (0020,1002; 0021,104F; 0054,0081)\n",
      "221125-13:01:41,572 nipype.interface INFO:\n",
      "\t stdout 2022-11-25T13:01:41.569297:Convert 208 DICOM as /NAS/dumbo/protocoles/HAMSI/data_NIFTI/1.3.51.0.1.1.10.49.10.222.6031255.6031624/1.2.840.113619.2.374.2807.1582298.16335.1582799564.339_201_-_Crane_Standard_20200309112241_7 (512x512x208x1)\n",
      "221125-13:01:48,910 nipype.interface INFO:\n",
      "\t stdout 2022-11-25T13:01:48.910889:Conversion required 10.773706 seconds (7.166043 for core code).\n",
      "221125-13:01:53,133 nipype.interface INFO:\n",
      "\t stdout 2022-11-25T13:01:53.133094:Chris Rorden's dcm2niiX version v1.0.20211006  (JP2:OpenJPEG) GCC9.3.0 x86-64 (64-bit Linux)\n",
      "221125-13:01:53,134 nipype.interface INFO:\n",
      "\t stdout 2022-11-25T13:01:53.133094:Found 208 DICOM file(s)\n",
      "221125-13:01:53,135 nipype.interface INFO:\n",
      "\t stdout 2022-11-25T13:01:53.133094:Resolved discrepancy between tags (0020,1002; 0021,104F; 0054,0081)\n",
      "221125-13:01:53,136 nipype.interface INFO:\n",
      "\t stdout 2022-11-25T13:01:53.133094:Convert 208 DICOM as /NAS/dumbo/protocoles/HAMSI/data_NIFTI/1.3.51.0.1.1.10.49.10.222.7329608.7330734/1.2.840.113619.2.374.2807.1582298.15709.1652425840.865_201_-_Crane_Standard_20220527134420_4 (512x512x208x1)\n",
      "221125-13:02:00,368 nipype.interface INFO:\n",
      "\t stdout 2022-11-25T13:02:00.368600:Conversion required 11.264925 seconds (7.042062 for core code).\n",
      "221125-13:02:04,654 nipype.interface INFO:\n",
      "\t stdout 2022-11-25T13:02:04.654886:Chris Rorden's dcm2niiX version v1.0.20211006  (JP2:OpenJPEG) GCC9.3.0 x86-64 (64-bit Linux)\n",
      "221125-13:02:04,656 nipype.interface INFO:\n",
      "\t stdout 2022-11-25T13:02:04.654886:Found 208 DICOM file(s)\n",
      "221125-13:02:04,656 nipype.interface INFO:\n",
      "\t stdout 2022-11-25T13:02:04.654886:Resolved discrepancy between tags (0020,1002; 0021,104F; 0054,0081)\n",
      "221125-13:02:04,657 nipype.interface INFO:\n",
      "\t stdout 2022-11-25T13:02:04.654886:Convert 208 DICOM as /NAS/dumbo/protocoles/HAMSI/data_NIFTI/1.3.51.0.1.1.10.49.10.222.6125511.6125966/1.2.840.113619.2.374.2807.1582298.14631.1590560217.281_201_-_Crane_Standard_20200527153422_4 (512x512x208x1)\n",
      "221125-13:02:12,203 nipype.interface INFO:\n",
      "\t stdout 2022-11-25T13:02:12.203667:Conversion required 11.636989 seconds (7.390987 for core code).\n",
      "221125-13:02:15,655 nipype.interface INFO:\n",
      "\t stdout 2022-11-25T13:02:15.655847:Chris Rorden's dcm2niiX version v1.0.20211006  (JP2:OpenJPEG) GCC9.3.0 x86-64 (64-bit Linux)\n",
      "221125-13:02:15,657 nipype.interface INFO:\n",
      "\t stdout 2022-11-25T13:02:15.655847:Found 208 DICOM file(s)\n",
      "221125-13:02:15,657 nipype.interface INFO:\n",
      "\t stdout 2022-11-25T13:02:15.655847:Resolved discrepancy between tags (0020,1002; 0021,104F; 0054,0081)\n",
      "221125-13:02:15,657 nipype.interface INFO:\n",
      "\t stdout 2022-11-25T13:02:15.655847:Convert 208 DICOM as /NAS/dumbo/protocoles/HAMSI/data_NIFTI/1.3.51.0.1.1.10.49.10.222.7375728.7376876/1.2.840.113619.2.374.2807.1582298.18723.1655879579.366_201_-_Controle_Post_Op_20220624142828_6 (512x512x208x1)\n",
      "221125-13:02:22,423 nipype.interface INFO:\n",
      "\t stdout 2022-11-25T13:02:22.423716:Conversion required 10.016675 seconds (6.571561 for core code).\n",
      "221125-13:02:26,431 nipype.interface INFO:\n",
      "\t stdout 2022-11-25T13:02:26.431456:Chris Rorden's dcm2niiX version v1.0.20211006  (JP2:OpenJPEG) GCC9.3.0 x86-64 (64-bit Linux)\n",
      "221125-13:02:26,432 nipype.interface INFO:\n",
      "\t stdout 2022-11-25T13:02:26.431456:Found 204 DICOM file(s)\n",
      "221125-13:02:26,432 nipype.interface INFO:\n",
      "\t stdout 2022-11-25T13:02:26.431456:Resolved discrepancy between tags (0020,1002; 0021,104F; 0054,0081)\n",
      "221125-13:02:26,433 nipype.interface INFO:\n",
      "\t stdout 2022-11-25T13:02:26.431456:Convert 204 DICOM as /NAS/dumbo/protocoles/HAMSI/data_NIFTI/1.3.51.0.1.1.10.49.10.222.6047177.6047548/1.2.840.113619.2.374.2807.1582298.15495.1584343292.791_201_-_Crane_Standard_20200319141505_5 (512x512x204x1)\n",
      "221125-13:02:33,252 nipype.interface INFO:\n",
      "\t stdout 2022-11-25T13:02:33.252335:Conversion required 10.639072 seconds (6.625023 for core code).\n",
      "221125-13:02:36,770 nipype.interface INFO:\n",
      "\t stdout 2022-11-25T13:02:36.770251:Chris Rorden's dcm2niiX version v1.0.20211006  (JP2:OpenJPEG) GCC9.3.0 x86-64 (64-bit Linux)\n",
      "221125-13:02:36,771 nipype.interface INFO:\n",
      "\t stdout 2022-11-25T13:02:36.770251:Found 208 DICOM file(s)\n",
      "221125-13:02:36,772 nipype.interface INFO:\n",
      "\t stdout 2022-11-25T13:02:36.770251:Resolved discrepancy between tags (0020,1002; 0021,104F; 0054,0081)\n",
      "221125-13:02:36,772 nipype.interface INFO:\n",
      "\t stdout 2022-11-25T13:02:36.770251:Convert 208 DICOM as /NAS/dumbo/protocoles/HAMSI/data_NIFTI/1.3.51.0.1.1.10.49.10.222.6631177.6631888/1.2.840.113619.2.374.2807.1582298.15069.1616601326.960_RAB_CRANE_20210331104653_8 (512x512x208x1)\n",
      "221125-13:02:44,581 nipype.interface INFO:\n",
      "\t stdout 2022-11-25T13:02:44.581263:Conversion required 11.137448 seconds (7.670363 for core code).\n",
      "221125-13:02:48,754 nipype.interface INFO:\n",
      "\t stdout 2022-11-25T13:02:48.754195:Chris Rorden's dcm2niiX version v1.0.20211006  (JP2:OpenJPEG) GCC9.3.0 x86-64 (64-bit Linux)\n",
      "221125-13:02:48,755 nipype.interface INFO:\n",
      "\t stdout 2022-11-25T13:02:48.754195:Found 208 DICOM file(s)\n",
      "221125-13:02:48,755 nipype.interface INFO:\n",
      "\t stdout 2022-11-25T13:02:48.754195:Resolved discrepancy between tags (0020,1002; 0021,104F; 0054,0081)\n",
      "221125-13:02:48,756 nipype.interface INFO:\n",
      "\t stdout 2022-11-25T13:02:48.754195:Convert 208 DICOM as /NAS/dumbo/protocoles/HAMSI/data_NIFTI/1.3.51.0.1.1.10.49.10.222.6970136.6971075/1.2.840.113619.2.374.2807.1582298.14598.1635400996.918_003_-_Biopsies_Robotisee_20211028120238_4 (512x512x208x1)\n",
      "221125-13:02:56,116 nipype.interface INFO:\n",
      "\t stdout 2022-11-25T13:02:56.116663:Conversion required 11.339170 seconds (7.046583 for core code).\n",
      "221125-13:02:59,721 nipype.interface INFO:\n",
      "\t stdout 2022-11-25T13:02:59.721096:Chris Rorden's dcm2niiX version v1.0.20211006  (JP2:OpenJPEG) GCC9.3.0 x86-64 (64-bit Linux)\n",
      "221125-13:02:59,722 nipype.interface INFO:\n",
      "\t stdout 2022-11-25T13:02:59.721096:Found 208 DICOM file(s)\n",
      "221125-13:02:59,722 nipype.interface INFO:\n",
      "\t stdout 2022-11-25T13:02:59.721096:Resolved discrepancy between tags (0020,1002; 0021,104F; 0054,0081)\n",
      "221125-13:02:59,723 nipype.interface INFO:\n",
      "\t stdout 2022-11-25T13:02:59.721096:Convert 208 DICOM as /NAS/dumbo/protocoles/HAMSI/data_NIFTI/1.3.51.0.1.1.10.49.10.222.6391139.6391699/1.2.840.113619.2.374.2807.1582298.14708.1604904927.309_201_-_Crane_Standard_20201110134348_4 (512x512x208x1)\n",
      "221125-13:03:07,140 nipype.interface INFO:\n",
      "\t stdout 2022-11-25T13:03:07.140947:Conversion required 10.817684 seconds (7.282355 for core code).\n",
      "221125-13:03:10,887 nipype.interface INFO:\n",
      "\t stdout 2022-11-25T13:03:10.886896:Chris Rorden's dcm2niiX version v1.0.20211006  (JP2:OpenJPEG) GCC9.3.0 x86-64 (64-bit Linux)\n",
      "221125-13:03:10,888 nipype.interface INFO:\n",
      "\t stdout 2022-11-25T13:03:10.886896:Found 208 DICOM file(s)\n",
      "221125-13:03:10,888 nipype.interface INFO:\n",
      "\t stdout 2022-11-25T13:03:10.886896:Resolved discrepancy between tags (0020,1002; 0021,104F; 0054,0081)\n",
      "221125-13:03:10,889 nipype.interface INFO:\n",
      "\t stdout 2022-11-25T13:03:10.886896:Convert 208 DICOM as /NAS/dumbo/protocoles/HAMSI/data_NIFTI/1.3.51.0.1.1.10.49.10.222.6062821.6063213/1.2.840.113619.2.374.2807.1582298.12773.1585551952.897_201_-_Crane_Standard_20200403145823_5 (512x512x208x1)\n",
      "221125-13:03:17,662 nipype.interface INFO:\n",
      "\t stdout 2022-11-25T13:03:17.662657:Conversion required 10.329151 seconds (6.589668 for core code).\n",
      "221125-13:03:21,867 nipype.interface INFO:\n",
      "\t stdout 2022-11-25T13:03:21.867180:Chris Rorden's dcm2niiX version v1.0.20211006  (JP2:OpenJPEG) GCC9.3.0 x86-64 (64-bit Linux)\n",
      "221125-13:03:21,868 nipype.interface INFO:\n",
      "\t stdout 2022-11-25T13:03:21.867180:Found 208 DICOM file(s)\n",
      "221125-13:03:21,868 nipype.interface INFO:\n",
      "\t stdout 2022-11-25T13:03:21.867180:Resolved discrepancy between tags (0020,1002; 0021,104F; 0054,0081)\n",
      "221125-13:03:21,868 nipype.interface INFO:\n",
      "\t stdout 2022-11-25T13:03:21.867180:Convert 208 DICOM as /NAS/dumbo/protocoles/HAMSI/data_NIFTI/1.3.51.0.1.1.10.49.10.222.7231473.7232565/1.2.840.113619.2.374.2807.1582298.15810.1648451024.133_201_-_Crane_Standard_20220329144212_6 (512x512x208x1)\n",
      "221125-13:03:29,59 nipype.interface INFO:\n",
      "\t stdout 2022-11-25T13:03:29.059838:Conversion required 11.190712 seconds (6.837137 for core code).\n",
      "221125-13:03:33,259 nipype.interface INFO:\n",
      "\t stdout 2022-11-25T13:03:33.259199:Chris Rorden's dcm2niiX version v1.0.20211006  (JP2:OpenJPEG) GCC9.3.0 x86-64 (64-bit Linux)\n",
      "221125-13:03:33,260 nipype.interface INFO:\n",
      "\t stdout 2022-11-25T13:03:33.259199:Found 208 DICOM file(s)\n",
      "221125-13:03:33,260 nipype.interface INFO:\n",
      "\t stdout 2022-11-25T13:03:33.259199:Resolved discrepancy between tags (0020,1002; 0021,104F; 0054,0081)\n",
      "221125-13:03:33,261 nipype.interface INFO:\n",
      "\t stdout 2022-11-25T13:03:33.259199:Convert 208 DICOM as /NAS/dumbo/protocoles/HAMSI/data_NIFTI/1.3.51.0.1.1.10.49.10.222.7446617.7447807/1.2.840.113619.2.374.2807.1582298.17210.1659429408.563_201_-_Crane_Standard_20220810104231_6 (512x512x208x1)\n",
      "221125-13:03:40,787 nipype.interface INFO:\n",
      "\t stdout 2022-11-25T13:03:40.787483:Conversion required 11.523211 seconds (7.385277 for core code).\n",
      "221125-13:03:44,372 nipype.interface INFO:\n",
      "\t stdout 2022-11-25T13:03:44.372845:Chris Rorden's dcm2niiX version v1.0.20211006  (JP2:OpenJPEG) GCC9.3.0 x86-64 (64-bit Linux)\n",
      "221125-13:03:44,374 nipype.interface INFO:\n",
      "\t stdout 2022-11-25T13:03:44.372845:Found 208 DICOM file(s)\n",
      "221125-13:03:44,374 nipype.interface INFO:\n",
      "\t stdout 2022-11-25T13:03:44.372845:Resolved discrepancy between tags (0020,1002; 0021,104F; 0054,0081)\n",
      "221125-13:03:44,375 nipype.interface INFO:\n",
      "\t stdout 2022-11-25T13:03:44.372845:Convert 208 DICOM as /NAS/dumbo/protocoles/HAMSI/data_NIFTI/1.3.51.0.1.1.10.49.10.222.6585523.6586221/1.2.840.113619.2.374.2807.1582298.15459.1613718409.547_002_-_Neuronav_20210309082423_3 (512x512x208x1)\n",
      "221125-13:03:51,273 nipype.interface INFO:\n",
      "\t stdout 2022-11-25T13:03:51.273691:Conversion required 10.292617 seconds (6.712161 for core code).\n",
      "221125-13:03:54,882 nipype.interface INFO:\n",
      "\t stdout 2022-11-25T13:03:54.882845:Chris Rorden's dcm2niiX version v1.0.20211006  (JP2:OpenJPEG) GCC9.3.0 x86-64 (64-bit Linux)\n",
      "221125-13:03:54,884 nipype.interface INFO:\n",
      "\t stdout 2022-11-25T13:03:54.882845:Found 208 DICOM file(s)\n",
      "221125-13:03:54,884 nipype.interface INFO:\n",
      "\t stdout 2022-11-25T13:03:54.882845:Resolved discrepancy between tags (0020,1002; 0021,104F; 0054,0081)\n",
      "221125-13:03:54,885 nipype.interface INFO:\n",
      "\t stdout 2022-11-25T13:03:54.882845:Convert 208 DICOM as /NAS/dumbo/protocoles/HAMSI/data_NIFTI/1.3.51.0.1.1.10.49.10.222.6061574.6061966/1.2.840.113619.2.374.2807.1582298.12773.1585551952.809_201_-_Crane_Standard_20200402132115_7 (512x512x208x1)\n",
      "221125-13:04:02,72 nipype.interface INFO:\n",
      "\t stdout 2022-11-25T13:04:02.071967:Conversion required 10.602111 seconds (7.016754 for core code).\n",
      "221125-13:04:05,409 nipype.interface INFO:\n",
      "\t stdout 2022-11-25T13:04:05.409785:Chris Rorden's dcm2niiX version v1.0.20211006  (JP2:OpenJPEG) GCC9.3.0 x86-64 (64-bit Linux)\n",
      "221125-13:04:05,411 nipype.interface INFO:\n",
      "\t stdout 2022-11-25T13:04:05.409785:Found 204 DICOM file(s)\n",
      "221125-13:04:05,411 nipype.interface INFO:\n",
      "\t stdout 2022-11-25T13:04:05.409785:Resolved discrepancy between tags (0020,1002; 0021,104F; 0054,0081)\n",
      "221125-13:04:05,412 nipype.interface INFO:\n",
      "\t stdout 2022-11-25T13:04:05.409785:Convert 204 DICOM as /NAS/dumbo/protocoles/HAMSI/data_NIFTI/1.3.51.0.1.1.10.49.10.222.5982019.5982373/1.2.840.113619.2.374.2807.1582298.15441.1581319886.528_201_-_Crane_Standard_20200210142037_6 (512x512x204x1)\n",
      "221125-13:04:12,170 nipype.interface INFO:\n",
      "\t stdout 2022-11-25T13:04:12.170377:Conversion required 9.902455 seconds (6.555162 for core code).\n",
      "221125-13:04:17,948 nipype.interface INFO:\n",
      "\t stdout 2022-11-25T13:04:17.948347:Chris Rorden's dcm2niiX version v1.0.20211006  (JP2:OpenJPEG) GCC9.3.0 x86-64 (64-bit Linux)\n",
      "221125-13:04:17,949 nipype.interface INFO:\n",
      "\t stdout 2022-11-25T13:04:17.948347:Found 208 DICOM file(s)\n",
      "221125-13:04:17,949 nipype.interface INFO:\n",
      "\t stdout 2022-11-25T13:04:17.948347:Resolved discrepancy between tags (0020,1002; 0021,104F; 0054,0081)\n",
      "221125-13:04:17,950 nipype.interface INFO:\n",
      "\t stdout 2022-11-25T13:04:17.948347:Convert 208 DICOM as /NAS/dumbo/protocoles/HAMSI/data_NIFTI/1.3.51.0.1.1.10.49.10.222.6370883.6371437/1.2.840.113619.2.374.2807.1582298.15447.1603695845.645_201_-_Crane_Standard_20201028101003_5 (512x512x208x1)\n",
      "221125-13:04:25,117 nipype.interface INFO:\n",
      "\t stdout 2022-11-25T13:04:25.117540:Conversion required 12.749160 seconds (6.991697 for core code).\n",
      "221125-13:04:29,163 nipype.interface INFO:\n",
      "\t stdout 2022-11-25T13:04:29.163443:Chris Rorden's dcm2niiX version v1.0.20211006  (JP2:OpenJPEG) GCC9.3.0 x86-64 (64-bit Linux)\n",
      "221125-13:04:29,164 nipype.interface INFO:\n",
      "\t stdout 2022-11-25T13:04:29.163443:Found 208 DICOM file(s)\n",
      "221125-13:04:29,164 nipype.interface INFO:\n",
      "\t stdout 2022-11-25T13:04:29.163443:Resolved discrepancy between tags (0020,1002; 0021,104F; 0054,0081)\n",
      "221125-13:04:29,165 nipype.interface INFO:\n",
      "\t stdout 2022-11-25T13:04:29.163443:Convert 208 DICOM as /NAS/dumbo/protocoles/HAMSI/data_NIFTI/1.3.51.0.1.1.10.49.10.222.7480078.7481278/1.2.840.113619.2.374.2807.1582298.17611.1661341682.99_201_-_Crane_Standard_20220901152303_7 (512x512x208x1)\n",
      "221125-13:04:36,525 nipype.interface INFO:\n",
      "\t stdout 2022-11-25T13:04:36.525385:Conversion required 11.187448 seconds (7.214209 for core code).\n",
      "221125-13:04:40,502 nipype.interface INFO:\n",
      "\t stdout 2022-11-25T13:04:40.502442:Chris Rorden's dcm2niiX version v1.0.20211006  (JP2:OpenJPEG) GCC9.3.0 x86-64 (64-bit Linux)\n",
      "221125-13:04:40,503 nipype.interface INFO:\n",
      "\t stdout 2022-11-25T13:04:40.502442:Found 208 DICOM file(s)\n",
      "221125-13:04:40,504 nipype.interface INFO:\n",
      "\t stdout 2022-11-25T13:04:40.502442:Resolved discrepancy between tags (0020,1002; 0021,104F; 0054,0081)\n",
      "221125-13:04:40,505 nipype.interface INFO:\n",
      "\t stdout 2022-11-25T13:04:40.502442:Convert 208 DICOM as /NAS/dumbo/protocoles/HAMSI/data_NIFTI/1.3.51.0.1.1.10.49.10.222.7472826.7474024/1.2.840.113619.2.374.2807.1582298.17611.1661341681.782_201_-_Crane_Standard_20220829112325_6 (512x512x208x1)\n",
      "221125-13:04:47,734 nipype.interface INFO:\n",
      "\t stdout 2022-11-25T13:04:47.734406:Conversion required 11.013178 seconds (7.068101 for core code).\n",
      "221125-13:04:51,722 nipype.interface INFO:\n",
      "\t stdout 2022-11-25T13:04:51.722115:Chris Rorden's dcm2niiX version v1.0.20211006  (JP2:OpenJPEG) GCC9.3.0 x86-64 (64-bit Linux)\n",
      "221125-13:04:51,723 nipype.interface INFO:\n",
      "\t stdout 2022-11-25T13:04:51.722115:Found 208 DICOM file(s)\n",
      "221125-13:04:51,723 nipype.interface INFO:\n",
      "\t stdout 2022-11-25T13:04:51.722115:Resolved discrepancy between tags (0020,1002; 0021,104F; 0054,0081)\n",
      "221125-13:04:51,724 nipype.interface INFO:\n",
      "\t stdout 2022-11-25T13:04:51.722115:Convert 208 DICOM as /NAS/dumbo/protocoles/HAMSI/data_NIFTI/1.3.51.0.1.1.10.49.10.222.7274701.7275815/1.2.840.113619.2.374.2807.1582298.17676.1650867626.923_201_-_Crane_Standard_20220425161457_7 (512x512x208x1)\n",
      "221125-13:04:58,585 nipype.interface INFO:\n",
      "\t stdout 2022-11-25T13:04:58.584952:Conversion required 10.658190 seconds (6.668252 for core code).\n",
      "221125-13:05:02,490 nipype.interface INFO:\n",
      "\t stdout 2022-11-25T13:05:02.490402:Chris Rorden's dcm2niiX version v1.0.20211006  (JP2:OpenJPEG) GCC9.3.0 x86-64 (64-bit Linux)\n",
      "221125-13:05:02,491 nipype.interface INFO:\n",
      "\t stdout 2022-11-25T13:05:02.490402:Found 208 DICOM file(s)\n",
      "221125-13:05:02,492 nipype.interface INFO:\n",
      "\t stdout 2022-11-25T13:05:02.490402:Resolved discrepancy between tags (0020,1002; 0021,104F; 0054,0081)\n",
      "221125-13:05:02,492 nipype.interface INFO:\n",
      "\t stdout 2022-11-25T13:05:02.490402:Convert 208 DICOM as /NAS/dumbo/protocoles/HAMSI/data_NIFTI/1.3.51.0.1.1.10.49.10.222.7181502.7182575/1.2.840.113619.2.374.2807.1582298.15861.1645603804.691_RAB_CRANE_20220301145000_4 (512x512x208x1)\n",
      "221125-13:05:09,246 nipype.interface INFO:\n",
      "\t stdout 2022-11-25T13:05:09.246845:Conversion required 10.460482 seconds (6.570065 for core code).\n",
      "221125-13:05:14,11 nipype.interface INFO:\n",
      "\t stdout 2022-11-25T13:05:14.011164:Chris Rorden's dcm2niiX version v1.0.20211006  (JP2:OpenJPEG) GCC9.3.0 x86-64 (64-bit Linux)\n",
      "221125-13:05:14,12 nipype.interface INFO:\n",
      "\t stdout 2022-11-25T13:05:14.011164:Found 208 DICOM file(s)\n",
      "221125-13:05:14,12 nipype.interface INFO:\n",
      "\t stdout 2022-11-25T13:05:14.011164:Resolved discrepancy between tags (0020,1002; 0021,104F; 0054,0081)\n",
      "221125-13:05:14,13 nipype.interface INFO:\n",
      "\t stdout 2022-11-25T13:05:14.011164:Convert 208 DICOM as /NAS/dumbo/protocoles/HAMSI/data_NIFTI/1.3.51.0.1.1.10.49.10.222.5912062.5912365/1.2.840.113619.2.374.2807.1582298.15666.1577950293.939_201_-_Crane_Standard_20200102144912_5 (512x512x208x1)\n",
      "221125-13:05:21,5 nipype.interface INFO:\n",
      "\t stdout 2022-11-25T13:05:21.005114:Conversion required 11.562172 seconds (6.797967 for core code).\n",
      "221125-13:05:28,122 nipype.interface INFO:\n",
      "\t stdout 2022-11-25T13:05:28.122036:Chris Rorden's dcm2niiX version v1.0.20211006  (JP2:OpenJPEG) GCC9.3.0 x86-64 (64-bit Linux)\n",
      "221125-13:05:28,123 nipype.interface INFO:\n",
      "\t stdout 2022-11-25T13:05:28.122036:Found 208 DICOM file(s)\n",
      "221125-13:05:28,123 nipype.interface INFO:\n",
      "\t stdout 2022-11-25T13:05:28.122036:Resolved discrepancy between tags (0020,1002; 0021,104F; 0054,0081)\n",
      "221125-13:05:28,124 nipype.interface INFO:\n",
      "\t stdout 2022-11-25T13:05:28.122036:Convert 208 DICOM as /NAS/dumbo/protocoles/HAMSI/data_NIFTI/1.3.51.0.1.1.10.49.10.222.5943231.5943554/1.2.840.113619.2.374.2807.1582298.15177.1579505388.809_201_-_Crane_Standard_20200120161021_6 (512x512x208x1)\n",
      "221125-13:05:34,886 nipype.interface INFO:\n",
      "\t stdout 2022-11-25T13:05:34.886686:Conversion required 13.689019 seconds (6.593716 for core code).\n",
      "221125-13:05:39,860 nipype.interface INFO:\n",
      "\t stdout 2022-11-25T13:05:39.860701:Chris Rorden's dcm2niiX version v1.0.20211006  (JP2:OpenJPEG) GCC9.3.0 x86-64 (64-bit Linux)\n",
      "221125-13:05:39,862 nipype.interface INFO:\n",
      "\t stdout 2022-11-25T13:05:39.860701:Found 272 DICOM file(s)\n",
      "221125-13:05:39,864 nipype.interface INFO:\n",
      "\t stdout 2022-11-25T13:05:39.860701:Resolved discrepancy between tags (0020,1002; 0021,104F; 0054,0081)\n",
      "221125-13:05:39,865 nipype.interface INFO:\n",
      "\t stdout 2022-11-25T13:05:39.860701:Convert 272 DICOM as /NAS/dumbo/protocoles/HAMSI/data_NIFTI/1.3.51.0.1.1.10.49.10.222.6242070.6242583/1.2.840.113619.2.374.2807.1582298.15084.1597044006.640_002_-_Neuronav_20200810132404_4 (256x256x272x1)\n",
      "221125-13:05:42,548 nipype.interface INFO:\n",
      "\t stdout 2022-11-25T13:05:42.548154:Conversion required 7.444216 seconds (2.802655 for core code).\n",
      "221125-13:05:46,427 nipype.interface INFO:\n",
      "\t stdout 2022-11-25T13:05:46.427044:Chris Rorden's dcm2niiX version v1.0.20211006  (JP2:OpenJPEG) GCC9.3.0 x86-64 (64-bit Linux)\n",
      "221125-13:05:46,428 nipype.interface INFO:\n",
      "\t stdout 2022-11-25T13:05:46.427044:Found 208 DICOM file(s)\n",
      "221125-13:05:46,428 nipype.interface INFO:\n",
      "\t stdout 2022-11-25T13:05:46.427044:Resolved discrepancy between tags (0020,1002; 0021,104F; 0054,0081)\n",
      "221125-13:05:46,429 nipype.interface INFO:\n",
      "\t stdout 2022-11-25T13:05:46.427044:Convert 208 DICOM as /NAS/dumbo/protocoles/HAMSI/data_NIFTI/1.3.51.0.1.1.10.49.10.222.5907244.5907547/1.2.840.113619.2.374.2807.1582298.15664.1577692442.105_201_-_Crane_Standard_20191230093745_6 (512x512x208x1)\n",
      "221125-13:05:53,517 nipype.interface INFO:\n",
      "\t stdout 2022-11-25T13:05:53.517073:Conversion required 10.762905 seconds (6.908962 for core code).\n",
      "221125-13:05:56,937 nipype.interface INFO:\n",
      "\t stdout 2022-11-25T13:05:56.937653:Chris Rorden's dcm2niiX version v1.0.20211006  (JP2:OpenJPEG) GCC9.3.0 x86-64 (64-bit Linux)\n",
      "221125-13:05:56,938 nipype.interface INFO:\n",
      "\t stdout 2022-11-25T13:05:56.937653:Found 208 DICOM file(s)\n",
      "221125-13:05:56,939 nipype.interface INFO:\n",
      "\t stdout 2022-11-25T13:05:56.937653:Resolved discrepancy between tags (0020,1002; 0021,104F; 0054,0081)\n",
      "221125-13:05:56,939 nipype.interface INFO:\n",
      "\t stdout 2022-11-25T13:05:56.937653:Convert 208 DICOM as /NAS/dumbo/protocoles/HAMSI/data_NIFTI/1.3.51.0.1.1.10.49.10.222.7476865.7478064/1.2.840.113619.2.374.2807.1582298.17611.1661341682.4_201_-_Crane_Standard_20220831140221_7 (512x512x208x1)\n",
      "221125-13:06:03,944 nipype.interface INFO:\n",
      "\t stdout 2022-11-25T13:06:03.944688:Conversion required 10.235339 seconds (6.819657 for core code).\n",
      "221125-13:06:10,8 nipype.interface INFO:\n",
      "\t stdout 2022-11-25T13:06:10.008492:Chris Rorden's dcm2niiX version v1.0.20211006  (JP2:OpenJPEG) GCC9.3.0 x86-64 (64-bit Linux)\n",
      "221125-13:06:10,9 nipype.interface INFO:\n",
      "\t stdout 2022-11-25T13:06:10.008492:Found 272 DICOM file(s)\n",
      "221125-13:06:10,10 nipype.interface INFO:\n",
      "\t stdout 2022-11-25T13:06:10.008492:Resolved discrepancy between tags (0020,1002; 0021,104F; 0054,0081)\n",
      "221125-13:06:10,10 nipype.interface INFO:\n",
      "\t stdout 2022-11-25T13:06:10.008492:Convert 272 DICOM as /NAS/dumbo/protocoles/HAMSI/data_NIFTI/1.3.51.0.1.1.10.49.10.222.7000684.7001638/1.2.840.113619.2.374.2807.1582298.14742.1637220293.954_003_-_Biopsies_Robotisee_20211118112927_4 (256x256x272x1)\n",
      "221125-13:06:12,391 nipype.interface INFO:\n",
      "\t stdout 2022-11-25T13:06:12.391656:Conversion required 8.253160 seconds (2.478145 for core code).\n",
      "221125-13:06:16,583 nipype.interface INFO:\n",
      "\t stdout 2022-11-25T13:06:16.582899:Chris Rorden's dcm2niiX version v1.0.20211006  (JP2:OpenJPEG) GCC9.3.0 x86-64 (64-bit Linux)\n",
      "221125-13:06:16,583 nipype.interface INFO:\n",
      "\t stdout 2022-11-25T13:06:16.582899:Found 208 DICOM file(s)\n",
      "221125-13:06:16,584 nipype.interface INFO:\n",
      "\t stdout 2022-11-25T13:06:16.582899:Resolved discrepancy between tags (0020,1002; 0021,104F; 0054,0081)\n",
      "221125-13:06:16,584 nipype.interface INFO:\n",
      "\t stdout 2022-11-25T13:06:16.582899:Convert 208 DICOM as /NAS/dumbo/protocoles/HAMSI/data_NIFTI/1.3.51.0.1.1.10.49.10.222.7382516.7383668/1.2.840.113619.2.374.2807.1582298.18723.1655879579.577_201_-_Crane_Standard_20220629105351_7 (512x512x208x1)\n",
      "221125-13:06:23,947 nipype.interface INFO:\n",
      "\t stdout 2022-11-25T13:06:23.947266:Conversion required 11.363379 seconds (7.221656 for core code).\n",
      "221125-13:06:27,749 nipype.interface INFO:\n",
      "\t stdout 2022-11-25T13:06:27.748890:Chris Rorden's dcm2niiX version v1.0.20211006  (JP2:OpenJPEG) GCC9.3.0 x86-64 (64-bit Linux)\n",
      "221125-13:06:27,749 nipype.interface INFO:\n",
      "\t stdout 2022-11-25T13:06:27.748890:Found 208 DICOM file(s)\n",
      "221125-13:06:27,750 nipype.interface INFO:\n",
      "\t stdout 2022-11-25T13:06:27.748890:Resolved discrepancy between tags (0020,1002; 0021,104F; 0054,0081)\n",
      "221125-13:06:27,750 nipype.interface INFO:\n",
      "\t stdout 2022-11-25T13:06:27.748890:Convert 208 DICOM as /NAS/dumbo/protocoles/HAMSI/data_NIFTI/1.3.51.0.1.1.10.49.10.222.7524515.7525759/1.2.840.113619.2.374.2807.1582298.15602.1663740941.909_201_-_Crane_Standard_20220927155817_7 (512x512x208x1)\n",
      "221125-13:06:34,808 nipype.interface INFO:\n",
      "\t stdout 2022-11-25T13:06:34.808608:Conversion required 10.661901 seconds (6.909639 for core code).\n",
      "221125-13:06:38,55 nipype.interface INFO:\n",
      "\t stdout 2022-11-25T13:06:38.054923:Chris Rorden's dcm2niiX version v1.0.20211006  (JP2:OpenJPEG) GCC9.3.0 x86-64 (64-bit Linux)\n",
      "221125-13:06:38,56 nipype.interface INFO:\n",
      "\t stdout 2022-11-25T13:06:38.054923:Found 208 DICOM file(s)\n",
      "221125-13:06:38,56 nipype.interface INFO:\n",
      "\t stdout 2022-11-25T13:06:38.054923:Resolved discrepancy between tags (0020,1002; 0021,104F; 0054,0081)\n",
      "221125-13:06:38,56 nipype.interface INFO:\n",
      "\t stdout 2022-11-25T13:06:38.054923:Convert 208 DICOM as /NAS/dumbo/protocoles/HAMSI/data_NIFTI/1.3.51.0.1.1.10.49.10.222.5963804.5964141/1.2.840.113619.2.374.2807.1582298.16263.1580300533.411_201_-_Crane_Standard_20200130135245_7 (512x512x208x1)\n",
      "221125-13:06:44,819 nipype.interface INFO:\n",
      "\t stdout 2022-11-25T13:06:44.819038:Conversion required 9.818142 seconds (6.581330 for core code).\n",
      "221125-13:06:51,111 nipype.interface INFO:\n",
      "\t stdout 2022-11-25T13:06:51.111176:Chris Rorden's dcm2niiX version v1.0.20211006  (JP2:OpenJPEG) GCC9.3.0 x86-64 (64-bit Linux)\n",
      "221125-13:06:51,112 nipype.interface INFO:\n",
      "\t stdout 2022-11-25T13:06:51.111176:Found 272 DICOM file(s)\n",
      "221125-13:06:51,113 nipype.interface INFO:\n",
      "\t stdout 2022-11-25T13:06:51.111176:Resolved discrepancy between tags (0020,1002; 0021,104F; 0054,0081)\n",
      "221125-13:06:51,114 nipype.interface INFO:\n",
      "\t stdout 2022-11-25T13:06:51.111176:Convert 272 DICOM as /NAS/dumbo/protocoles/HAMSI/data_NIFTI/1.3.51.0.1.1.10.49.10.222.6095139.6095571/1.2.840.113619.2.374.2807.1582298.15013.1588659154.195_003_-_Biopsies_Robotisee_20200505102409_4 (256x256x272x1)\n",
      "221125-13:06:53,697 nipype.interface INFO:\n",
      "\t stdout 2022-11-25T13:06:53.697216:Conversion required 8.669150 seconds (2.681588 for core code).\n",
      "221125-13:06:57,895 nipype.interface INFO:\n",
      "\t stdout 2022-11-25T13:06:57.895595:Chris Rorden's dcm2niiX version v1.0.20211006  (JP2:OpenJPEG) GCC9.3.0 x86-64 (64-bit Linux)\n",
      "221125-13:06:57,897 nipype.interface INFO:\n",
      "\t stdout 2022-11-25T13:06:57.895595:Found 208 DICOM file(s)\n",
      "221125-13:06:57,897 nipype.interface INFO:\n",
      "\t stdout 2022-11-25T13:06:57.895595:Resolved discrepancy between tags (0020,1002; 0021,104F; 0054,0081)\n",
      "221125-13:06:57,898 nipype.interface INFO:\n",
      "\t stdout 2022-11-25T13:06:57.895595:Convert 208 DICOM as /NAS/dumbo/protocoles/HAMSI/data_NIFTI/1.3.51.0.1.1.10.49.10.222.6348895.6349440/1.2.840.113619.2.374.2807.1582298.14813.1601964910.725_201_-_Crane_Standard_20201014114002_6 (512x512x208x1)\n",
      "221125-13:07:05,205 nipype.interface INFO:\n",
      "\t stdout 2022-11-25T13:07:05.205141:Conversion required 11.310298 seconds (7.184740 for core code).\n",
      "221125-13:07:09,747 nipype.interface INFO:\n",
      "\t stdout 2022-11-25T13:07:09.747254:Chris Rorden's dcm2niiX version v1.0.20211006  (JP2:OpenJPEG) GCC9.3.0 x86-64 (64-bit Linux)\n",
      "221125-13:07:09,748 nipype.interface INFO:\n",
      "\t stdout 2022-11-25T13:07:09.747254:Found 208 DICOM file(s)\n",
      "221125-13:07:09,749 nipype.interface INFO:\n",
      "\t stdout 2022-11-25T13:07:09.747254:Resolved discrepancy between tags (0020,1002; 0021,104F; 0054,0081)\n",
      "221125-13:07:09,749 nipype.interface INFO:\n",
      "\t stdout 2022-11-25T13:07:09.747254:Convert 208 DICOM as /NAS/dumbo/protocoles/HAMSI/data_NIFTI/1.3.51.0.1.1.10.49.10.222.7422018.7423198/1.2.840.113619.2.374.2807.1582298.17385.1658733595.136_201_-_Crane_Standard_20220725103535_7 (512x512x208x1)\n",
      "221125-13:07:16,849 nipype.interface INFO:\n",
      "\t stdout 2022-11-25T13:07:16.849610:Conversion required 11.445895 seconds (6.940663 for core code).\n",
      "221125-13:07:20,748 nipype.interface INFO:\n",
      "\t stdout 2022-11-25T13:07:20.748616:Chris Rorden's dcm2niiX version v1.0.20211006  (JP2:OpenJPEG) GCC9.3.0 x86-64 (64-bit Linux)\n",
      "221125-13:07:20,749 nipype.interface INFO:\n",
      "\t stdout 2022-11-25T13:07:20.748616:Found 208 DICOM file(s)\n",
      "221125-13:07:20,749 nipype.interface INFO:\n",
      "\t stdout 2022-11-25T13:07:20.748616:Resolved discrepancy between tags (0020,1002; 0021,104F; 0054,0081)\n",
      "221125-13:07:20,750 nipype.interface INFO:\n",
      "\t stdout 2022-11-25T13:07:20.748616:Convert 208 DICOM as /NAS/dumbo/protocoles/HAMSI/data_NIFTI/1.3.51.0.1.1.10.49.10.222.6052467.6052846/1.2.840.113619.2.374.2807.1582298.12663.1585063994.278_201_-_Crane_Standard_20200325091243_4 (512x512x208x1)\n",
      "221125-13:07:28,168 nipype.interface INFO:\n",
      "\t stdout 2022-11-25T13:07:28.168436:Conversion required 11.127980 seconds (7.241815 for core code).\n",
      "221125-13:07:32,70 nipype.interface INFO:\n",
      "\t stdout 2022-11-25T13:07:32.069998:Chris Rorden's dcm2niiX version v1.0.20211006  (JP2:OpenJPEG) GCC9.3.0 x86-64 (64-bit Linux)\n",
      "221125-13:07:32,72 nipype.interface INFO:\n",
      "\t stdout 2022-11-25T13:07:32.069998:Found 204 DICOM file(s)\n",
      "221125-13:07:32,72 nipype.interface INFO:\n",
      "\t stdout 2022-11-25T13:07:32.069998:Resolved discrepancy between tags (0020,1002; 0021,104F; 0054,0081)\n",
      "221125-13:07:32,73 nipype.interface INFO:\n",
      "\t stdout 2022-11-25T13:07:32.069998:Convert 204 DICOM as /NAS/dumbo/protocoles/HAMSI/data_NIFTI/1.3.51.0.1.1.10.49.10.222.6697524.6698275/1.2.840.113619.2.374.2807.1582298.16411.1620022306.467_201_-_Crane_Standard_20210510121222_6 (512x512x204x1)\n",
      "221125-13:07:39,655 nipype.interface INFO:\n",
      "\t stdout 2022-11-25T13:07:39.655779:Conversion required 11.280255 seconds (7.462316 for core code).\n",
      "221125-13:07:43,48 nipype.interface INFO:\n",
      "\t stdout 2022-11-25T13:07:43.047887:Chris Rorden's dcm2niiX version v1.0.20211006  (JP2:OpenJPEG) GCC9.3.0 x86-64 (64-bit Linux)\n",
      "221125-13:07:43,49 nipype.interface INFO:\n",
      "\t stdout 2022-11-25T13:07:43.047887:Found 208 DICOM file(s)\n",
      "221125-13:07:43,50 nipype.interface INFO:\n",
      "\t stdout 2022-11-25T13:07:43.047887:Resolved discrepancy between tags (0020,1002; 0021,104F; 0054,0081)\n",
      "221125-13:07:43,50 nipype.interface INFO:\n",
      "\t stdout 2022-11-25T13:07:43.047887:Convert 208 DICOM as /NAS/dumbo/protocoles/HAMSI/data_NIFTI/1.3.51.0.1.1.10.49.10.222.6455650.6456250/1.2.840.113619.2.374.2807.1582298.15679.1608111132.245_201_-_Crane_Standard_20201217132346_8 (512x512x208x1)\n",
      "221125-13:07:50,226 nipype.interface INFO:\n",
      "\t stdout 2022-11-25T13:07:50.225982:Conversion required 10.372223 seconds (7.026281 for core code).\n",
      "221125-13:07:55,454 nipype.interface INFO:\n",
      "\t stdout 2022-11-25T13:07:55.454618:Chris Rorden's dcm2niiX version v1.0.20211006  (JP2:OpenJPEG) GCC9.3.0 x86-64 (64-bit Linux)\n",
      "221125-13:07:55,455 nipype.interface INFO:\n",
      "\t stdout 2022-11-25T13:07:55.454618:Found 272 DICOM file(s)\n",
      "221125-13:07:55,456 nipype.interface INFO:\n",
      "\t stdout 2022-11-25T13:07:55.454618:Resolved discrepancy between tags (0020,1002; 0021,104F; 0054,0081)\n",
      "221125-13:07:55,457 nipype.interface INFO:\n",
      "\t stdout 2022-11-25T13:07:55.454618:Convert 272 DICOM as /NAS/dumbo/protocoles/HAMSI/data_NIFTI/1.3.51.0.1.1.10.49.10.222.7097382.7098395/1.2.840.113619.2.374.2807.1582298.15372.1641281494.228_003_-_Biopsies_Robotisee_20220113103220_4 (256x256x272x1)\n",
      "221125-13:07:58,97 nipype.interface INFO:\n",
      "\t stdout 2022-11-25T13:07:58.097614:Conversion required 7.653961 seconds (2.745116 for core code).\n",
      "221125-13:08:02,500 nipype.interface INFO:\n",
      "\t stdout 2022-11-25T13:08:02.499904:Chris Rorden's dcm2niiX version v1.0.20211006  (JP2:OpenJPEG) GCC9.3.0 x86-64 (64-bit Linux)\n",
      "221125-13:08:02,500 nipype.interface INFO:\n",
      "\t stdout 2022-11-25T13:08:02.499904:Found 208 DICOM file(s)\n",
      "221125-13:08:02,501 nipype.interface INFO:\n",
      "\t stdout 2022-11-25T13:08:02.499904:Resolved discrepancy between tags (0020,1002; 0021,104F; 0054,0081)\n",
      "221125-13:08:02,501 nipype.interface INFO:\n",
      "\t stdout 2022-11-25T13:08:02.499904:Convert 208 DICOM as /NAS/dumbo/protocoles/HAMSI/data_NIFTI/1.3.51.0.1.1.10.49.10.222.6062831.6063223/1.2.840.113619.2.374.2807.1582298.12773.1585551952.887_201_-_Crane_Standard_20200403142603_5 (512x512x208x1)\n",
      "221125-13:08:09,691 nipype.interface INFO:\n",
      "\t stdout 2022-11-25T13:08:09.691609:Conversion required 11.388801 seconds (6.985469 for core code).\n",
      "221125-13:08:13,164 nipype.interface INFO:\n",
      "\t stdout 2022-11-25T13:08:13.164081:Chris Rorden's dcm2niiX version v1.0.20211006  (JP2:OpenJPEG) GCC9.3.0 x86-64 (64-bit Linux)\n",
      "221125-13:08:13,165 nipype.interface INFO:\n",
      "\t stdout 2022-11-25T13:08:13.164081:Found 208 DICOM file(s)\n",
      "221125-13:08:13,165 nipype.interface INFO:\n",
      "\t stdout 2022-11-25T13:08:13.164081:Resolved discrepancy between tags (0020,1002; 0021,104F; 0054,0081)\n",
      "221125-13:08:13,166 nipype.interface INFO:\n",
      "\t stdout 2022-11-25T13:08:13.164081:Convert 208 DICOM as /NAS/dumbo/protocoles/HAMSI/data_NIFTI/1.3.51.0.1.1.10.49.10.222.6623691.6624400/1.2.840.113619.2.374.2807.1582298.15069.1616601327.40_003_-_Biopsies_Robotisee_20210401101945_3 (512x512x208x1)\n",
      "221125-13:08:20,615 nipype.interface INFO:\n",
      "\t stdout 2022-11-25T13:08:20.615301:Conversion required 10.710927 seconds (7.290060 for core code).\n",
      "221125-13:08:24,407 nipype.interface INFO:\n",
      "\t stdout 2022-11-25T13:08:24.407258:Chris Rorden's dcm2niiX version v1.0.20211006  (JP2:OpenJPEG) GCC9.3.0 x86-64 (64-bit Linux)\n",
      "221125-13:08:24,408 nipype.interface INFO:\n",
      "\t stdout 2022-11-25T13:08:24.407258:Found 208 DICOM file(s)\n",
      "221125-13:08:24,408 nipype.interface INFO:\n",
      "\t stdout 2022-11-25T13:08:24.407258:Resolved discrepancy between tags (0020,1002; 0021,104F; 0054,0081)\n",
      "221125-13:08:24,409 nipype.interface INFO:\n",
      "\t stdout 2022-11-25T13:08:24.407258:Convert 208 DICOM as /NAS/dumbo/protocoles/HAMSI/data_NIFTI/1.3.51.0.1.1.10.49.10.222.7337413.7338555/1.2.840.113619.2.374.2807.1582298.16434.1654066143.49_201_-_Crane_Standard_20220601153609_7 (512x512x208x1)\n",
      "221125-13:08:31,347 nipype.interface INFO:\n",
      "\t stdout 2022-11-25T13:08:31.347906:Conversion required 10.541180 seconds (6.745792 for core code).\n",
      "221125-13:08:35,230 nipype.interface INFO:\n",
      "\t stdout 2022-11-25T13:08:35.229981:Chris Rorden's dcm2niiX version v1.0.20211006  (JP2:OpenJPEG) GCC9.3.0 x86-64 (64-bit Linux)\n",
      "221125-13:08:35,231 nipype.interface INFO:\n",
      "\t stdout 2022-11-25T13:08:35.229981:Found 208 DICOM file(s)\n",
      "221125-13:08:35,231 nipype.interface INFO:\n",
      "\t stdout 2022-11-25T13:08:35.229981:Resolved discrepancy between tags (0020,1002; 0021,104F; 0054,0081)\n",
      "221125-13:08:35,232 nipype.interface INFO:\n",
      "\t stdout 2022-11-25T13:08:35.229981:Convert 208 DICOM as /NAS/dumbo/protocoles/HAMSI/data_NIFTI/1.3.51.0.1.1.10.49.10.222.6598166.6598870/1.2.840.113619.2.374.2807.1582298.15459.1613718409.830_RAB_CRANE_20210312140711_4 (512x512x208x1)\n",
      "221125-13:08:42,74 nipype.interface INFO:\n",
      "\t stdout 2022-11-25T13:08:42.074417:Conversion required 10.530246 seconds (6.671361 for core code).\n",
      "221125-13:08:44,792 nipype.interface INFO:\n",
      "\t stdout 2022-11-25T13:08:44.792301:Chris Rorden's dcm2niiX version v1.0.20211006  (JP2:OpenJPEG) GCC9.3.0 x86-64 (64-bit Linux)\n",
      "221125-13:08:44,793 nipype.interface INFO:\n",
      "\t stdout 2022-11-25T13:08:44.792301:Found 208 DICOM file(s)\n",
      "221125-13:08:44,794 nipype.interface INFO:\n",
      "\t stdout 2022-11-25T13:08:44.792301:Resolved discrepancy between tags (0020,1002; 0021,104F; 0054,0081)\n",
      "221125-13:08:44,795 nipype.interface INFO:\n",
      "\t stdout 2022-11-25T13:08:44.792301:Convert 208 DICOM as /NAS/dumbo/protocoles/HAMSI/data_NIFTI/1.3.51.0.1.1.10.49.10.222.7482133.7483333/1.2.840.113619.2.374.2807.1582298.17611.1661341682.183_201_-_Crane_Standard_20220902160541_6 (512x512x208x1)\n",
      "221125-13:08:51,866 nipype.interface INFO:\n",
      "\t stdout 2022-11-25T13:08:51.866567:Conversion required 9.594761 seconds (6.878258 for core code).\n",
      "221125-13:08:55,278 nipype.interface INFO:\n",
      "\t stdout 2022-11-25T13:08:55.278153:Chris Rorden's dcm2niiX version v1.0.20211006  (JP2:OpenJPEG) GCC9.3.0 x86-64 (64-bit Linux)\n",
      "221125-13:08:55,279 nipype.interface INFO:\n",
      "\t stdout 2022-11-25T13:08:55.278153:Found 208 DICOM file(s)\n",
      "221125-13:08:55,280 nipype.interface INFO:\n",
      "\t stdout 2022-11-25T13:08:55.278153:Resolved discrepancy between tags (0020,1002; 0021,104F; 0054,0081)\n",
      "221125-13:08:55,280 nipype.interface INFO:\n",
      "\t stdout 2022-11-25T13:08:55.278153:Convert 208 DICOM as /NAS/dumbo/protocoles/HAMSI/data_NIFTI/1.3.51.0.1.1.10.49.10.222.7477184.7478383/1.2.840.113619.2.374.2807.1582298.17611.1661341681.975_201_-_Crane_Standard_20220831104450_8 (512x512x208x1)\n",
      "221125-13:09:02,973 nipype.interface INFO:\n",
      "\t stdout 2022-11-25T13:09:02.973614:Conversion required 10.900789 seconds (7.426804 for core code).\n",
      "221125-13:09:06,579 nipype.interface INFO:\n",
      "\t stdout 2022-11-25T13:09:06.579304:Chris Rorden's dcm2niiX version v1.0.20211006  (JP2:OpenJPEG) GCC9.3.0 x86-64 (64-bit Linux)\n",
      "221125-13:09:06,580 nipype.interface INFO:\n",
      "\t stdout 2022-11-25T13:09:06.579304:Found 208 DICOM file(s)\n",
      "221125-13:09:06,581 nipype.interface INFO:\n",
      "\t stdout 2022-11-25T13:09:06.579304:Resolved discrepancy between tags (0020,1002; 0021,104F; 0054,0081)\n",
      "221125-13:09:06,581 nipype.interface INFO:\n",
      "\t stdout 2022-11-25T13:09:06.579304:Convert 208 DICOM as /NAS/dumbo/protocoles/HAMSI/data_NIFTI/1.3.51.0.1.1.10.49.10.222.7386335.7387487/1.2.840.113619.2.374.2807.1582298.17046.1657116299.984_003_-_Biopsies_Robotisee_20220707113215_4 (512x512x208x1)\n",
      "221125-13:09:13,559 nipype.interface INFO:\n",
      "\t stdout 2022-11-25T13:09:13.559503:Conversion required 10.395613 seconds (6.793287 for core code).\n",
      "221125-13:09:17,312 nipype.interface INFO:\n",
      "\t stdout 2022-11-25T13:09:17.312759:Chris Rorden's dcm2niiX version v1.0.20211006  (JP2:OpenJPEG) GCC9.3.0 x86-64 (64-bit Linux)\n",
      "221125-13:09:17,313 nipype.interface INFO:\n",
      "\t stdout 2022-11-25T13:09:17.312759:Found 208 DICOM file(s)\n",
      "221125-13:09:17,314 nipype.interface INFO:\n",
      "\t stdout 2022-11-25T13:09:17.312759:Resolved discrepancy between tags (0020,1002; 0021,104F; 0054,0081)\n",
      "221125-13:09:17,315 nipype.interface INFO:\n",
      "\t stdout 2022-11-25T13:09:17.312759:Convert 208 DICOM as /NAS/dumbo/protocoles/HAMSI/data_NIFTI/1.3.51.0.1.1.10.49.10.222.6580349.6581031/1.2.840.113619.2.374.2807.1582298.15459.1613718409.182_201_-_Crane_Standard_20210302144459_10 (512x512x208x1)\n",
      "221125-13:09:24,632 nipype.interface INFO:\n",
      "\t stdout 2022-11-25T13:09:24.632174:Conversion required 10.874891 seconds (7.151711 for core code).\n",
      "221125-13:09:28,114 nipype.interface INFO:\n",
      "\t stdout 2022-11-25T13:09:28.114226:Chris Rorden's dcm2niiX version v1.0.20211006  (JP2:OpenJPEG) GCC9.3.0 x86-64 (64-bit Linux)\n",
      "221125-13:09:28,115 nipype.interface INFO:\n",
      "\t stdout 2022-11-25T13:09:28.114226:Found 208 DICOM file(s)\n",
      "221125-13:09:28,116 nipype.interface INFO:\n",
      "\t stdout 2022-11-25T13:09:28.114226:Resolved discrepancy between tags (0020,1002; 0021,104F; 0054,0081)\n",
      "221125-13:09:28,116 nipype.interface INFO:\n",
      "\t stdout 2022-11-25T13:09:28.114226:Convert 208 DICOM as /NAS/dumbo/protocoles/HAMSI/data_NIFTI/1.3.51.0.1.1.10.49.10.222.6448963.6449557/1.2.840.113619.2.374.2807.1582298.15598.1607930102.37_201_-_Crane_Standard_20201214144403_4 (512x512x208x1)\n",
      "221125-13:09:35,574 nipype.interface INFO:\n",
      "\t stdout 2022-11-25T13:09:35.574325:Conversion required 10.680778 seconds (7.301240 for core code).\n",
      "221125-13:09:38,905 nipype.interface INFO:\n",
      "\t stdout 2022-11-25T13:09:38.905563:Chris Rorden's dcm2niiX version v1.0.20211006  (JP2:OpenJPEG) GCC9.3.0 x86-64 (64-bit Linux)\n",
      "221125-13:09:38,906 nipype.interface INFO:\n",
      "\t stdout 2022-11-25T13:09:38.905563:Found 208 DICOM file(s)\n",
      "221125-13:09:38,907 nipype.interface INFO:\n",
      "\t stdout 2022-11-25T13:09:38.905563:Resolved discrepancy between tags (0020,1002; 0021,104F; 0054,0081)\n",
      "221125-13:09:38,907 nipype.interface INFO:\n",
      "\t stdout 2022-11-25T13:09:38.905563:Convert 208 DICOM as /NAS/dumbo/protocoles/HAMSI/data_NIFTI/1.3.51.0.1.1.10.49.10.222.6527623.6528282/1.2.840.113619.2.374.2807.1582298.15541.1611325033.588_201_-_Crane_Standard_20210201135115_8 (512x512x208x1)\n",
      "221125-13:09:46,446 nipype.interface INFO:\n",
      "\t stdout 2022-11-25T13:09:46.446310:Conversion required 10.675330 seconds (7.382807 for core code).\n",
      "221125-13:09:49,454 nipype.interface INFO:\n",
      "\t stdout 2022-11-25T13:09:49.454829:Chris Rorden's dcm2niiX version v1.0.20211006  (JP2:OpenJPEG) GCC9.3.0 x86-64 (64-bit Linux)\n",
      "221125-13:09:49,455 nipype.interface INFO:\n",
      "\t stdout 2022-11-25T13:09:49.454829:Found 204 DICOM file(s)\n",
      "221125-13:09:49,456 nipype.interface INFO:\n",
      "\t stdout 2022-11-25T13:09:49.454829:Resolved discrepancy between tags (0020,1002; 0021,104F; 0054,0081)\n",
      "221125-13:09:49,456 nipype.interface INFO:\n",
      "\t stdout 2022-11-25T13:09:49.454829:Convert 204 DICOM as /NAS/dumbo/protocoles/HAMSI/data_NIFTI/1.3.51.0.1.1.10.49.10.222.6609029.6609738/1.2.840.113619.2.374.2807.1582298.15376.1615894193.93_RAB_CRANE_20210318120105_7 (512x512x204x1)\n",
      "221125-13:09:56,746 nipype.interface INFO:\n",
      "\t stdout 2022-11-25T13:09:56.746306:Conversion required 10.100093 seconds (7.126284 for core code).\n",
      "221125-13:10:00,282 nipype.interface INFO:\n",
      "\t stdout 2022-11-25T13:10:00.282280:Chris Rorden's dcm2niiX version v1.0.20211006  (JP2:OpenJPEG) GCC9.3.0 x86-64 (64-bit Linux)\n",
      "221125-13:10:00,283 nipype.interface INFO:\n",
      "\t stdout 2022-11-25T13:10:00.282280:Found 204 DICOM file(s)\n",
      "221125-13:10:00,284 nipype.interface INFO:\n",
      "\t stdout 2022-11-25T13:10:00.282280:Resolved discrepancy between tags (0020,1002; 0021,104F; 0054,0081)\n",
      "221125-13:10:00,284 nipype.interface INFO:\n",
      "\t stdout 2022-11-25T13:10:00.282280:Convert 204 DICOM as /NAS/dumbo/protocoles/HAMSI/data_NIFTI/1.3.51.0.1.1.10.49.10.222.6518808.6519461/1.2.840.113619.2.374.2807.1582298.15541.1611325033.230_BRANLOMAN_20210126153955_5 (512x512x204x1)\n",
      "221125-13:10:07,597 nipype.interface INFO:\n",
      "\t stdout 2022-11-25T13:10:07.597304:Conversion required 10.521313 seconds (7.146356 for core code).\n",
      "221125-13:10:11,3 nipype.interface INFO:\n",
      "\t stdout 2022-11-25T13:10:11.003461:Chris Rorden's dcm2niiX version v1.0.20211006  (JP2:OpenJPEG) GCC9.3.0 x86-64 (64-bit Linux)\n",
      "221125-13:10:11,4 nipype.interface INFO:\n",
      "\t stdout 2022-11-25T13:10:11.003461:Found 208 DICOM file(s)\n",
      "221125-13:10:11,5 nipype.interface INFO:\n",
      "\t stdout 2022-11-25T13:10:11.003461:Resolved discrepancy between tags (0020,1002; 0021,104F; 0054,0081)\n",
      "221125-13:10:11,5 nipype.interface INFO:\n",
      "\t stdout 2022-11-25T13:10:11.003461:Convert 208 DICOM as /NAS/dumbo/protocoles/HAMSI/data_NIFTI/1.3.51.0.1.1.10.49.10.222.7042891.7043867/1.2.840.113619.2.374.2807.1582298.15164.1639410474.239_201_-_Crane_Standard_20211228084558_7 (512x512x208x1)\n",
      "221125-13:10:18,370 nipype.interface INFO:\n",
      "\t stdout 2022-11-25T13:10:18.370237:Conversion required 10.583329 seconds (7.195186 for core code).\n",
      "221125-13:10:21,585 nipype.interface INFO:\n",
      "\t stdout 2022-11-25T13:10:21.585278:Chris Rorden's dcm2niiX version v1.0.20211006  (JP2:OpenJPEG) GCC9.3.0 x86-64 (64-bit Linux)\n",
      "221125-13:10:21,586 nipype.interface INFO:\n",
      "\t stdout 2022-11-25T13:10:21.585278:Found 208 DICOM file(s)\n",
      "221125-13:10:21,586 nipype.interface INFO:\n",
      "\t stdout 2022-11-25T13:10:21.585278:Resolved discrepancy between tags (0020,1002; 0021,104F; 0054,0081)\n",
      "221125-13:10:21,587 nipype.interface INFO:\n",
      "\t stdout 2022-11-25T13:10:21.585278:Convert 208 DICOM as /NAS/dumbo/protocoles/HAMSI/data_NIFTI/1.3.51.0.1.1.10.49.10.222.6639037.6639757/1.2.840.113619.2.374.2807.1582298.15069.1616601327.248_201_-_Crane_Standard_20210406123530_4 (512x512x208x1)\n",
      "221125-13:10:28,561 nipype.interface INFO:\n",
      "\t stdout 2022-11-25T13:10:28.561311:Conversion required 9.994591 seconds (6.787919 for core code).\n",
      "221125-13:10:32,538 nipype.interface INFO:\n",
      "\t stdout 2022-11-25T13:10:32.538181:Chris Rorden's dcm2niiX version v1.0.20211006  (JP2:OpenJPEG) GCC9.3.0 x86-64 (64-bit Linux)\n",
      "221125-13:10:32,539 nipype.interface INFO:\n",
      "\t stdout 2022-11-25T13:10:32.538181:Found 208 DICOM file(s)\n",
      "221125-13:10:32,540 nipype.interface INFO:\n",
      "\t stdout 2022-11-25T13:10:32.538181:Resolved discrepancy between tags (0020,1002; 0021,104F; 0054,0081)\n",
      "221125-13:10:32,540 nipype.interface INFO:\n",
      "\t stdout 2022-11-25T13:10:32.538181:Convert 208 DICOM as /NAS/dumbo/protocoles/HAMSI/data_NIFTI/1.3.51.0.1.1.10.49.10.222.7282017.7283133/1.2.840.113619.2.374.2807.1582298.15832.1651062618.728_RAB_CRANE_20220428155809_6 (512x512x208x1)\n",
      "221125-13:10:39,729 nipype.interface INFO:\n",
      "\t stdout 2022-11-25T13:10:39.729860:Conversion required 10.894350 seconds (7.022902 for core code).\n",
      "221125-13:10:43,737 nipype.interface INFO:\n",
      "\t stdout 2022-11-25T13:10:43.737561:Chris Rorden's dcm2niiX version v1.0.20211006  (JP2:OpenJPEG) GCC9.3.0 x86-64 (64-bit Linux)\n",
      "221125-13:10:43,738 nipype.interface INFO:\n",
      "\t stdout 2022-11-25T13:10:43.737561:Found 208 DICOM file(s)\n",
      "221125-13:10:43,739 nipype.interface INFO:\n",
      "\t stdout 2022-11-25T13:10:43.737561:Resolved discrepancy between tags (0020,1002; 0021,104F; 0054,0081)\n",
      "221125-13:10:43,739 nipype.interface INFO:\n",
      "\t stdout 2022-11-25T13:10:43.737561:Convert 208 DICOM as /NAS/dumbo/protocoles/HAMSI/data_NIFTI/1.3.51.0.1.1.10.49.10.222.7466874.7468072/1.2.840.113619.2.374.2807.1582298.17611.1661341681.865_201_-_Crane_Standard_20220829161830_3 (512x512x208x1)\n",
      "221125-13:10:51,144 nipype.interface INFO:\n",
      "\t stdout 2022-11-25T13:10:51.144170:Conversion required 11.219639 seconds (7.234519 for core code).\n",
      "221125-13:10:54,633 nipype.interface INFO:\n",
      "\t stdout 2022-11-25T13:10:54.633691:Chris Rorden's dcm2niiX version v1.0.20211006  (JP2:OpenJPEG) GCC9.3.0 x86-64 (64-bit Linux)\n",
      "221125-13:10:54,634 nipype.interface INFO:\n",
      "\t stdout 2022-11-25T13:10:54.633691:Found 208 DICOM file(s)\n",
      "221125-13:10:54,635 nipype.interface INFO:\n",
      "\t stdout 2022-11-25T13:10:54.633691:Resolved discrepancy between tags (0020,1002; 0021,104F; 0054,0081)\n",
      "221125-13:10:54,635 nipype.interface INFO:\n",
      "\t stdout 2022-11-25T13:10:54.633691:Convert 208 DICOM as /NAS/dumbo/protocoles/HAMSI/data_NIFTI/1.3.51.0.1.1.10.49.10.222.6060369.6060757/1.2.840.113619.2.374.2807.1582298.12773.1585551952.761_201_-_Crane_Standard_20200401155726_9 (512x512x208x1)\n",
      "221125-13:11:01,792 nipype.interface INFO:\n",
      "\t stdout 2022-11-25T13:11:01.792934:Conversion required 10.455613 seconds (6.989077 for core code).\n",
      "221125-13:11:05,960 nipype.interface INFO:\n",
      "\t stdout 2022-11-25T13:11:05.960783:Chris Rorden's dcm2niiX version v1.0.20211006  (JP2:OpenJPEG) GCC9.3.0 x86-64 (64-bit Linux)\n",
      "221125-13:11:05,962 nipype.interface INFO:\n",
      "\t stdout 2022-11-25T13:11:05.960783:Found 208 DICOM file(s)\n",
      "221125-13:11:05,962 nipype.interface INFO:\n",
      "\t stdout 2022-11-25T13:11:05.960783:Resolved discrepancy between tags (0020,1002; 0021,104F; 0054,0081)\n",
      "221125-13:11:05,963 nipype.interface INFO:\n",
      "\t stdout 2022-11-25T13:11:05.960783:Convert 208 DICOM as /NAS/dumbo/protocoles/HAMSI/data_NIFTI/1.3.51.0.1.1.10.49.10.222.6658670.6659403/1.2.840.113619.2.374.2807.1582298.16541.1619013091.344_003_-_Biopsies_Robotisee_20210422105522_4 (512x512x208x1)\n",
      "221125-13:11:13,20 nipype.interface INFO:\n",
      "\t stdout 2022-11-25T13:11:13.019956:Conversion required 11.012248 seconds (6.869214 for core code).\n",
      "221125-13:11:16,71 nipype.interface INFO:\n",
      "\t stdout 2022-11-25T13:11:16.071390:Chris Rorden's dcm2niiX version v1.0.20211006  (JP2:OpenJPEG) GCC9.3.0 x86-64 (64-bit Linux)\n",
      "221125-13:11:16,72 nipype.interface INFO:\n",
      "\t stdout 2022-11-25T13:11:16.071390:Found 208 DICOM file(s)\n",
      "221125-13:11:16,73 nipype.interface INFO:\n",
      "\t stdout 2022-11-25T13:11:16.071390:Resolved discrepancy between tags (0020,1002; 0021,104F; 0054,0081)\n",
      "221125-13:11:16,73 nipype.interface INFO:\n",
      "\t stdout 2022-11-25T13:11:16.071390:Convert 208 DICOM as /NAS/dumbo/protocoles/HAMSI/data_NIFTI/1.3.51.0.1.1.10.49.10.222.6748910.6749699/1.2.840.113619.2.374.2807.1582298.18201.1621407793.101_RAB_CRANE_20210609132906_6 (512x512x208x1)\n",
      "221125-13:11:23,226 nipype.interface INFO:\n",
      "\t stdout 2022-11-25T13:11:23.226009:Conversion required 10.003961 seconds (6.974246 for core code).\n",
      "221125-13:11:27,145 nipype.interface INFO:\n",
      "\t stdout 2022-11-25T13:11:27.145267:Chris Rorden's dcm2niiX version v1.0.20211006  (JP2:OpenJPEG) GCC9.3.0 x86-64 (64-bit Linux)\n",
      "221125-13:11:27,146 nipype.interface INFO:\n",
      "\t stdout 2022-11-25T13:11:27.145267:Found 204 DICOM file(s)\n",
      "221125-13:11:27,147 nipype.interface INFO:\n",
      "\t stdout 2022-11-25T13:11:27.145267:Resolved discrepancy between tags (0020,1002; 0021,104F; 0054,0081)\n",
      "221125-13:11:27,147 nipype.interface INFO:\n",
      "\t stdout 2022-11-25T13:11:27.145267:Convert 204 DICOM as /NAS/dumbo/protocoles/HAMSI/data_NIFTI/1.3.51.0.1.1.10.49.10.222.6484438.6485082/1.2.840.113619.2.374.2807.1582298.16181.1610014508.706_201_-_Crane_Standard_20210107142057_8 (512x512x204x1)\n",
      "221125-13:11:34,71 nipype.interface INFO:\n",
      "\t stdout 2022-11-25T13:11:34.071606:Conversion required 10.649050 seconds (6.732066 for core code).\n",
      "221125-13:11:37,906 nipype.interface INFO:\n",
      "\t stdout 2022-11-25T13:11:37.906385:Chris Rorden's dcm2niiX version v1.0.20211006  (JP2:OpenJPEG) GCC9.3.0 x86-64 (64-bit Linux)\n",
      "221125-13:11:37,908 nipype.interface INFO:\n",
      "\t stdout 2022-11-25T13:11:37.906385:Found 208 DICOM file(s)\n",
      "221125-13:11:37,908 nipype.interface INFO:\n",
      "\t stdout 2022-11-25T13:11:37.906385:Resolved discrepancy between tags (0020,1002; 0021,104F; 0054,0081)\n",
      "221125-13:11:37,909 nipype.interface INFO:\n",
      "\t stdout 2022-11-25T13:11:37.906385:Convert 208 DICOM as /NAS/dumbo/protocoles/HAMSI/data_NIFTI/1.3.51.0.1.1.10.49.10.222.7332734.7333867/1.2.840.113619.2.374.2807.1582298.15709.1652425840.955_201_-_Crane_Standard_20220530140139_6 (512x512x208x1)\n",
      "221125-13:11:44,985 nipype.interface INFO:\n",
      "\t stdout 2022-11-25T13:11:44.985491:Conversion required 10.716005 seconds (6.783058 for core code).\n",
      "221125-13:11:48,805 nipype.interface INFO:\n",
      "\t stdout 2022-11-25T13:11:48.805760:Chris Rorden's dcm2niiX version v1.0.20211006  (JP2:OpenJPEG) GCC9.3.0 x86-64 (64-bit Linux)\n",
      "221125-13:11:48,806 nipype.interface INFO:\n",
      "\t stdout 2022-11-25T13:11:48.805760:Found 208 DICOM file(s)\n",
      "221125-13:11:48,807 nipype.interface INFO:\n",
      "\t stdout 2022-11-25T13:11:48.805760:Resolved discrepancy between tags (0020,1002; 0021,104F; 0054,0081)\n",
      "221125-13:11:48,807 nipype.interface INFO:\n",
      "\t stdout 2022-11-25T13:11:48.805760:Convert 208 DICOM as /NAS/dumbo/protocoles/HAMSI/data_NIFTI/1.3.51.0.1.1.10.49.10.222.6915789.6916702/1.2.840.113619.2.374.2807.1582298.17488.1632299265.544_201_-_Crane_Standard_20210922110257_8 (512x512x208x1)\n",
      "221125-13:11:56,198 nipype.interface INFO:\n",
      "\t stdout 2022-11-25T13:11:56.198559:Conversion required 11.008741 seconds (7.228225 for core code).\n",
      "221125-13:11:59,743 nipype.interface INFO:\n",
      "\t stdout 2022-11-25T13:11:59.742873:Chris Rorden's dcm2niiX version v1.0.20211006  (JP2:OpenJPEG) GCC9.3.0 x86-64 (64-bit Linux)\n",
      "221125-13:11:59,744 nipype.interface INFO:\n",
      "\t stdout 2022-11-25T13:11:59.742873:Found 208 DICOM file(s)\n",
      "221125-13:11:59,744 nipype.interface INFO:\n",
      "\t stdout 2022-11-25T13:11:59.742873:Resolved discrepancy between tags (0020,1002; 0021,104F; 0054,0081)\n",
      "221125-13:11:59,745 nipype.interface INFO:\n",
      "\t stdout 2022-11-25T13:11:59.742873:Convert 208 DICOM as /NAS/dumbo/protocoles/HAMSI/data_NIFTI/1.3.51.0.1.1.10.49.10.222.6030639.6031008/1.2.840.113619.2.374.2807.1582298.16335.1582799564.308_201_-_Crane_Standard_20200309092034_4 (512x512x208x1)\n",
      "221125-13:12:07,105 nipype.interface INFO:\n",
      "\t stdout 2022-11-25T13:12:07.104988:Conversion required 10.712977 seconds (7.183725 for core code).\n",
      "221125-13:12:10,644 nipype.interface INFO:\n",
      "\t stdout 2022-11-25T13:12:10.644069:Chris Rorden's dcm2niiX version v1.0.20211006  (JP2:OpenJPEG) GCC9.3.0 x86-64 (64-bit Linux)\n",
      "221125-13:12:10,645 nipype.interface INFO:\n",
      "\t stdout 2022-11-25T13:12:10.644069:Found 208 DICOM file(s)\n",
      "221125-13:12:10,645 nipype.interface INFO:\n",
      "\t stdout 2022-11-25T13:12:10.644069:Resolved discrepancy between tags (0020,1002; 0021,104F; 0054,0081)\n",
      "221125-13:12:10,645 nipype.interface INFO:\n",
      "\t stdout 2022-11-25T13:12:10.644069:Convert 208 DICOM as /NAS/dumbo/protocoles/HAMSI/data_NIFTI/1.3.51.0.1.1.10.49.10.222.5991543.5991902/1.2.840.113619.2.374.2807.1582298.15689.1581492481.129_201_-_Crane_Standard_20200214111102_7 (512x512x208x1)\n",
      "221125-13:12:17,724 nipype.interface INFO:\n",
      "\t stdout 2022-11-25T13:12:17.724541:Conversion required 10.257565 seconds (6.907363 for core code).\n",
      "221125-13:12:21,162 nipype.interface INFO:\n",
      "\t stdout 2022-11-25T13:12:21.162091:Chris Rorden's dcm2niiX version v1.0.20211006  (JP2:OpenJPEG) GCC9.3.0 x86-64 (64-bit Linux)\n",
      "221125-13:12:21,163 nipype.interface INFO:\n",
      "\t stdout 2022-11-25T13:12:21.162091:Found 204 DICOM file(s)\n",
      "221125-13:12:21,163 nipype.interface INFO:\n",
      "\t stdout 2022-11-25T13:12:21.162091:Resolved discrepancy between tags (0020,1002; 0021,104F; 0054,0081)\n",
      "221125-13:12:21,164 nipype.interface INFO:\n",
      "\t stdout 2022-11-25T13:12:21.162091:Convert 204 DICOM as /NAS/dumbo/protocoles/HAMSI/data_NIFTI/1.3.51.0.1.1.10.49.10.222.7346223.7347368/1.2.840.113619.2.374.2807.1582298.16434.1654066143.357_201_-_Crane_Standard_20220608110111_7 (512x512x204x1)\n",
      "221125-13:12:28,744 nipype.interface INFO:\n",
      "\t stdout 2022-11-25T13:12:28.744387:Conversion required 10.828558 seconds (7.422706 for core code).\n",
      "221125-13:12:32,591 nipype.interface INFO:\n",
      "\t stdout 2022-11-25T13:12:32.591841:Chris Rorden's dcm2niiX version v1.0.20211006  (JP2:OpenJPEG) GCC9.3.0 x86-64 (64-bit Linux)\n",
      "221125-13:12:32,593 nipype.interface INFO:\n",
      "\t stdout 2022-11-25T13:12:32.591841:Found 208 DICOM file(s)\n",
      "221125-13:12:32,593 nipype.interface INFO:\n",
      "\t stdout 2022-11-25T13:12:32.591841:Resolved discrepancy between tags (0020,1002; 0021,104F; 0054,0081)\n",
      "221125-13:12:32,593 nipype.interface INFO:\n",
      "\t stdout 2022-11-25T13:12:32.591841:Convert 208 DICOM as /NAS/dumbo/protocoles/HAMSI/data_NIFTI/1.3.51.0.1.1.10.49.10.222.6690773.6691520/1.2.840.113619.2.374.2807.1582298.16411.1620022306.285_201_-_Crane_Standard_20210505133813_4 (512x512x208x1)\n",
      "221125-13:12:39,657 nipype.interface INFO:\n",
      "\t stdout 2022-11-25T13:12:39.657541:Conversion required 10.705496 seconds (6.890964 for core code).\n",
      "221125-13:12:44,821 nipype.interface INFO:\n",
      "\t stdout 2022-11-25T13:12:44.821113:Chris Rorden's dcm2niiX version v1.0.20211006  (JP2:OpenJPEG) GCC9.3.0 x86-64 (64-bit Linux)\n",
      "221125-13:12:44,822 nipype.interface INFO:\n",
      "\t stdout 2022-11-25T13:12:44.821113:Found 272 DICOM file(s)\n",
      "221125-13:12:44,823 nipype.interface INFO:\n",
      "\t stdout 2022-11-25T13:12:44.821113:Resolved discrepancy between tags (0020,1002; 0021,104F; 0054,0081)\n",
      "221125-13:12:44,824 nipype.interface INFO:\n",
      "\t stdout 2022-11-25T13:12:44.821113:Convert 272 DICOM as /NAS/dumbo/protocoles/HAMSI/data_NIFTI/1.3.51.0.1.1.10.49.10.222.6739789.6740557/1.2.840.113619.2.374.2807.1582298.18201.1621407793.140_003_-_Biopsies_Robotisee_20210610093334_3 (256x256x272x1)\n",
      "221125-13:12:47,407 nipype.interface INFO:\n",
      "\t stdout 2022-11-25T13:12:47.407035:Conversion required 7.530975 seconds (2.696993 for core code).\n",
      "221125-13:12:51,402 nipype.interface INFO:\n",
      "\t stdout 2022-11-25T13:12:51.402696:Chris Rorden's dcm2niiX version v1.0.20211006  (JP2:OpenJPEG) GCC9.3.0 x86-64 (64-bit Linux)\n",
      "221125-13:12:51,403 nipype.interface INFO:\n",
      "\t stdout 2022-11-25T13:12:51.402696:Found 208 DICOM file(s)\n",
      "221125-13:12:51,404 nipype.interface INFO:\n",
      "\t stdout 2022-11-25T13:12:51.402696:Resolved discrepancy between tags (0020,1002; 0021,104F; 0054,0081)\n",
      "221125-13:12:51,404 nipype.interface INFO:\n",
      "\t stdout 2022-11-25T13:12:51.402696:Convert 208 DICOM as /NAS/dumbo/protocoles/HAMSI/data_NIFTI/1.3.51.0.1.1.10.49.10.222.6317479.6318011/1.2.840.113619.2.374.2807.1582298.14776.1601015168.671_201_-_Crane_Standard_20200925150724_4 (512x512x208x1)\n",
      "221125-13:12:58,292 nipype.interface INFO:\n",
      "\t stdout 2022-11-25T13:12:58.292365:Conversion required 10.687730 seconds (6.680017 for core code).\n",
      "221125-13:13:02,612 nipype.interface INFO:\n",
      "\t stdout 2022-11-25T13:13:02.611983:Chris Rorden's dcm2niiX version v1.0.20211006  (JP2:OpenJPEG) GCC9.3.0 x86-64 (64-bit Linux)\n",
      "221125-13:13:02,612 nipype.interface INFO:\n",
      "\t stdout 2022-11-25T13:13:02.611983:Found 208 DICOM file(s)\n",
      "221125-13:13:02,613 nipype.interface INFO:\n",
      "\t stdout 2022-11-25T13:13:02.611983:Resolved discrepancy between tags (0020,1002; 0021,104F; 0054,0081)\n",
      "221125-13:13:02,613 nipype.interface INFO:\n",
      "\t stdout 2022-11-25T13:13:02.611983:Convert 208 DICOM as /NAS/dumbo/protocoles/HAMSI/data_NIFTI/1.3.51.0.1.1.10.49.10.222.6807163.6807995/1.2.840.113619.2.374.2807.1582298.17961.1626070427.793_201_-_Crane_Standard_20210713155333_7 (512x512x208x1)\n",
      "221125-13:13:09,967 nipype.interface INFO:\n",
      "\t stdout 2022-11-25T13:13:09.967818:Conversion required 11.469627 seconds (7.168445 for core code).\n",
      "221125-13:13:13,755 nipype.interface INFO:\n",
      "\t stdout 2022-11-25T13:13:13.755270:Chris Rorden's dcm2niiX version v1.0.20211006  (JP2:OpenJPEG) GCC9.3.0 x86-64 (64-bit Linux)\n",
      "221125-13:13:13,756 nipype.interface INFO:\n",
      "\t stdout 2022-11-25T13:13:13.755270:Found 208 DICOM file(s)\n",
      "221125-13:13:13,757 nipype.interface INFO:\n",
      "\t stdout 2022-11-25T13:13:13.755270:Resolved discrepancy between tags (0020,1002; 0021,104F; 0054,0081)\n",
      "221125-13:13:13,758 nipype.interface INFO:\n",
      "\t stdout 2022-11-25T13:13:13.755270:Convert 208 DICOM as /NAS/dumbo/protocoles/HAMSI/data_NIFTI/1.3.51.0.1.1.10.49.10.222.6286226.6286744/1.2.840.113619.2.374.2807.1582298.15537.1599459020.344_201_-_Crane_Standard_20200908115755_6 (512x512x208x1)\n",
      "221125-13:13:20,909 nipype.interface INFO:\n",
      "\t stdout 2022-11-25T13:13:20.909577:Conversion required 10.725189 seconds (6.975428 for core code).\n",
      "221125-13:13:24,876 nipype.interface INFO:\n",
      "\t stdout 2022-11-25T13:13:24.876731:Chris Rorden's dcm2niiX version v1.0.20211006  (JP2:OpenJPEG) GCC9.3.0 x86-64 (64-bit Linux)\n",
      "221125-13:13:24,877 nipype.interface INFO:\n",
      "\t stdout 2022-11-25T13:13:24.876731:Found 208 DICOM file(s)\n",
      "221125-13:13:24,878 nipype.interface INFO:\n",
      "\t stdout 2022-11-25T13:13:24.876731:Resolved discrepancy between tags (0020,1002; 0021,104F; 0054,0081)\n",
      "221125-13:13:24,878 nipype.interface INFO:\n",
      "\t stdout 2022-11-25T13:13:24.876731:Convert 208 DICOM as /NAS/dumbo/protocoles/HAMSI/data_NIFTI/1.3.51.0.1.1.10.49.10.222.6234792.6235302/1.2.840.113619.2.374.2807.1582298.14619.1596532990.608_201_-_Crane_Standard_20200805105302_7 (512x512x208x1)\n",
      "221125-13:13:32,190 nipype.interface INFO:\n",
      "\t stdout 2022-11-25T13:13:32.190452:Conversion required 11.078547 seconds (7.171522 for core code).\n",
      "221125-13:13:35,727 nipype.interface INFO:\n",
      "\t stdout 2022-11-25T13:13:35.727633:Chris Rorden's dcm2niiX version v1.0.20211006  (JP2:OpenJPEG) GCC9.3.0 x86-64 (64-bit Linux)\n",
      "221125-13:13:35,729 nipype.interface INFO:\n",
      "\t stdout 2022-11-25T13:13:35.727633:Found 204 DICOM file(s)\n",
      "221125-13:13:35,729 nipype.interface INFO:\n",
      "\t stdout 2022-11-25T13:13:35.727633:Resolved discrepancy between tags (0020,1002; 0021,104F; 0054,0081)\n",
      "221125-13:13:35,730 nipype.interface INFO:\n",
      "\t stdout 2022-11-25T13:13:35.727633:Convert 204 DICOM as /NAS/dumbo/protocoles/HAMSI/data_NIFTI/1.3.51.0.1.1.10.49.10.222.6073605.6074012/1.2.840.113619.2.374.2807.1582298.13478.1586845539.817_201_-_Crane_Standard_20200415113027_7 (512x512x204x1)\n",
      "221125-13:13:42,999 nipype.interface INFO:\n",
      "\t stdout 2022-11-25T13:13:42.999869:Conversion required 10.616351 seconds (7.122909 for core code).\n",
      "221125-13:13:47,20 nipype.interface INFO:\n",
      "\t stdout 2022-11-25T13:13:47.020755:Chris Rorden's dcm2niiX version v1.0.20211006  (JP2:OpenJPEG) GCC9.3.0 x86-64 (64-bit Linux)\n",
      "221125-13:13:47,22 nipype.interface INFO:\n",
      "\t stdout 2022-11-25T13:13:47.020755:Found 208 DICOM file(s)\n",
      "221125-13:13:47,22 nipype.interface INFO:\n",
      "\t stdout 2022-11-25T13:13:47.020755:Resolved discrepancy between tags (0020,1002; 0021,104F; 0054,0081)\n",
      "221125-13:13:47,23 nipype.interface INFO:\n",
      "\t stdout 2022-11-25T13:13:47.020755:Convert 208 DICOM as /NAS/dumbo/protocoles/HAMSI/data_NIFTI/1.3.51.0.1.1.10.49.10.222.6264976.6265492/1.2.840.113619.2.374.2807.1582298.14795.1598254154.33_201_-_Crane_Standard_20200825150359_6 (512x512x208x1)\n",
      "221125-13:13:54,140 nipype.interface INFO:\n",
      "\t stdout 2022-11-25T13:13:54.140398:Conversion required 10.847561 seconds (6.930921 for core code).\n",
      "221125-13:13:58,442 nipype.interface INFO:\n",
      "\t stdout 2022-11-25T13:13:58.442436:Chris Rorden's dcm2niiX version v1.0.20211006  (JP2:OpenJPEG) GCC9.3.0 x86-64 (64-bit Linux)\n",
      "221125-13:13:58,443 nipype.interface INFO:\n",
      "\t stdout 2022-11-25T13:13:58.442436:Found 208 DICOM file(s)\n",
      "221125-13:13:58,444 nipype.interface INFO:\n",
      "\t stdout 2022-11-25T13:13:58.442436:Resolved discrepancy between tags (0020,1002; 0021,104F; 0054,0081)\n",
      "221125-13:13:58,444 nipype.interface INFO:\n",
      "\t stdout 2022-11-25T13:13:58.442436:Convert 208 DICOM as /NAS/dumbo/protocoles/HAMSI/data_NIFTI/1.3.51.0.1.1.10.49.10.222.7341570.7342712/1.2.840.113619.2.374.2807.1582298.16434.1654066143.212_201_-_Crane_Standard_20220603154249_6 (512x512x208x1)\n",
      "221125-13:14:05,890 nipype.interface INFO:\n",
      "\t stdout 2022-11-25T13:14:05.890636:Conversion required 11.549515 seconds (7.289975 for core code).\n",
      "221125-13:14:10,73 nipype.interface INFO:\n",
      "\t stdout 2022-11-25T13:14:10.072989:Chris Rorden's dcm2niiX version v1.0.20211006  (JP2:OpenJPEG) GCC9.3.0 x86-64 (64-bit Linux)\n",
      "221125-13:14:10,74 nipype.interface INFO:\n",
      "\t stdout 2022-11-25T13:14:10.072989:Found 208 DICOM file(s)\n",
      "221125-13:14:10,75 nipype.interface INFO:\n",
      "\t stdout 2022-11-25T13:14:10.072989:Resolved discrepancy between tags (0020,1002; 0021,104F; 0054,0081)\n",
      "221125-13:14:10,75 nipype.interface INFO:\n",
      "\t stdout 2022-11-25T13:14:10.072989:Convert 208 DICOM as /NAS/dumbo/protocoles/HAMSI/data_NIFTI/1.3.51.0.1.1.10.49.10.222.6851813.6852687/1.2.840.113619.2.374.2807.1582298.16306.1628497288.103_201_-_Crane_Standard_20210812135753_7 (512x512x208x1)\n",
      "221125-13:14:17,675 nipype.interface INFO:\n",
      "\t stdout 2022-11-25T13:14:17.675038:Conversion required 11.586788 seconds (7.453276 for core code).\n",
      "221125-13:14:21,959 nipype.interface INFO:\n",
      "\t stdout 2022-11-25T13:14:21.958995:Chris Rorden's dcm2niiX version v1.0.20211006  (JP2:OpenJPEG) GCC9.3.0 x86-64 (64-bit Linux)\n",
      "221125-13:14:21,960 nipype.interface INFO:\n",
      "\t stdout 2022-11-25T13:14:21.958995:Found 208 DICOM file(s)\n",
      "221125-13:14:21,960 nipype.interface INFO:\n",
      "\t stdout 2022-11-25T13:14:21.958995:Resolved discrepancy between tags (0020,1002; 0021,104F; 0054,0081)\n",
      "221125-13:14:21,961 nipype.interface INFO:\n",
      "\t stdout 2022-11-25T13:14:21.958995:Convert 208 DICOM as /NAS/dumbo/protocoles/HAMSI/data_NIFTI/1.3.51.0.1.1.10.49.10.222.7114094.7115124/1.2.840.113619.2.374.2807.1582298.15372.1641281494.599_201_-_Crane_Standard_20220120143402_4 (512x512x208x1)\n",
      "221125-13:14:29,150 nipype.interface INFO:\n",
      "\t stdout 2022-11-25T13:14:29.150502:Conversion required 11.120946 seconds (7.031394 for core code).\n",
      "221125-13:14:33,274 nipype.interface INFO:\n",
      "\t stdout 2022-11-25T13:14:33.274579:Chris Rorden's dcm2niiX version v1.0.20211006  (JP2:OpenJPEG) GCC9.3.0 x86-64 (64-bit Linux)\n",
      "221125-13:14:33,275 nipype.interface INFO:\n",
      "\t stdout 2022-11-25T13:14:33.274579:Found 208 DICOM file(s)\n",
      "221125-13:14:33,276 nipype.interface INFO:\n",
      "\t stdout 2022-11-25T13:14:33.274579:Resolved discrepancy between tags (0020,1002; 0021,104F; 0054,0081)\n",
      "221125-13:14:33,276 nipype.interface INFO:\n",
      "\t stdout 2022-11-25T13:14:33.274579:Convert 208 DICOM as /NAS/dumbo/protocoles/HAMSI/data_NIFTI/1.3.51.0.1.1.10.49.10.222.7365769.7366917/1.2.840.113619.2.374.2807.1582298.16099.1655707730.906_201_-_Controle_Post_Op_20220620112202_7 (512x512x208x1)\n",
      "221125-13:14:40,529 nipype.interface INFO:\n",
      "\t stdout 2022-11-25T13:14:40.529184:Conversion required 11.186314 seconds (7.107917 for core code).\n",
      "221125-13:14:48,796 nipype.interface INFO:\n",
      "\t stdout 2022-11-25T13:14:48.796124:Chris Rorden's dcm2niiX version v1.0.20211006  (JP2:OpenJPEG) GCC9.3.0 x86-64 (64-bit Linux)\n",
      "221125-13:14:48,797 nipype.interface INFO:\n",
      "\t stdout 2022-11-25T13:14:48.796124:Found 208 DICOM file(s)\n",
      "221125-13:14:48,797 nipype.interface INFO:\n",
      "\t stdout 2022-11-25T13:14:48.796124:Resolved discrepancy between tags (0020,1002; 0021,104F; 0054,0081)\n",
      "221125-13:14:48,798 nipype.interface INFO:\n",
      "\t stdout 2022-11-25T13:14:48.796124:Convert 208 DICOM as /NAS/dumbo/protocoles/HAMSI/data_NIFTI/1.3.51.0.1.1.10.49.10.222.7425979.7427159/1.2.840.113619.2.374.2807.1582298.16401.1658905095.350_201_-_Crane_Standard_20220727102412_5 (512x512x208x1)\n",
      "221125-13:14:56,169 nipype.interface INFO:\n",
      "\t stdout 2022-11-25T13:14:56.169272:Conversion required 15.448872 seconds (7.209513 for core code).\n",
      "221125-13:14:59,627 nipype.interface INFO:\n",
      "\t stdout 2022-11-25T13:14:59.627508:Chris Rorden's dcm2niiX version v1.0.20211006  (JP2:OpenJPEG) GCC9.3.0 x86-64 (64-bit Linux)\n",
      "221125-13:14:59,628 nipype.interface INFO:\n",
      "\t stdout 2022-11-25T13:14:59.627508:Found 208 DICOM file(s)\n",
      "221125-13:14:59,629 nipype.interface INFO:\n",
      "\t stdout 2022-11-25T13:14:59.627508:Resolved discrepancy between tags (0020,1002; 0021,104F; 0054,0081)\n",
      "221125-13:14:59,629 nipype.interface INFO:\n",
      "\t stdout 2022-11-25T13:14:59.627508:Convert 208 DICOM as /NAS/dumbo/protocoles/HAMSI/data_NIFTI/1.3.51.0.1.1.10.49.10.222.6332023.6332562/1.2.840.113619.2.374.2807.1582298.14803.1601878343.311_201_-_Crane_Standard_20201005144344_7 (512x512x208x1)\n",
      "221125-13:15:06,905 nipype.interface INFO:\n",
      "\t stdout 2022-11-25T13:15:06.905848:Conversion required 10.536201 seconds (7.124114 for core code).\n",
      "221125-13:15:10,948 nipype.interface INFO:\n",
      "\t stdout 2022-11-25T13:15:10.948829:Chris Rorden's dcm2niiX version v1.0.20211006  (JP2:OpenJPEG) GCC9.3.0 x86-64 (64-bit Linux)\n",
      "221125-13:15:10,950 nipype.interface INFO:\n",
      "\t stdout 2022-11-25T13:15:10.948829:Found 208 DICOM file(s)\n",
      "221125-13:15:10,950 nipype.interface INFO:\n",
      "\t stdout 2022-11-25T13:15:10.948829:Resolved discrepancy between tags (0020,1002; 0021,104F; 0054,0081)\n",
      "221125-13:15:10,950 nipype.interface INFO:\n",
      "\t stdout 2022-11-25T13:15:10.948829:Convert 208 DICOM as /NAS/dumbo/protocoles/HAMSI/data_NIFTI/1.3.51.0.1.1.10.49.10.222.7191997.7193077/1.2.840.113619.2.374.2807.1582298.15861.1645603805.16_201_-_Crane_Standard_20220307141029_6 (512x512x208x1)\n",
      "221125-13:15:18,10 nipype.interface INFO:\n",
      "\t stdout 2022-11-25T13:15:18.010234:Conversion required 10.911116 seconds (6.873791 for core code).\n",
      "221125-13:15:22,372 nipype.interface INFO:\n",
      "\t stdout 2022-11-25T13:15:22.372586:Chris Rorden's dcm2niiX version v1.0.20211006  (JP2:OpenJPEG) GCC9.3.0 x86-64 (64-bit Linux)\n",
      "221125-13:15:22,373 nipype.interface INFO:\n",
      "\t stdout 2022-11-25T13:15:22.372586:Found 208 DICOM file(s)\n",
      "221125-13:15:22,374 nipype.interface INFO:\n",
      "\t stdout 2022-11-25T13:15:22.372586:Resolved discrepancy between tags (0020,1002; 0021,104F; 0054,0081)\n",
      "221125-13:15:22,374 nipype.interface INFO:\n",
      "\t stdout 2022-11-25T13:15:22.372586:Convert 208 DICOM as /NAS/dumbo/protocoles/HAMSI/data_NIFTI/1.3.51.0.1.1.10.49.10.222.6991654.6992605/1.2.840.113619.2.374.2807.1582298.14598.1635400997.270_RAB_CRANE_20211105123539_4 (512x512x208x1)\n",
      "221125-13:15:29,359 nipype.interface INFO:\n",
      "\t stdout 2022-11-25T13:15:29.359688:Conversion required 11.137243 seconds (6.786705 for core code).\n",
      "221125-13:15:34,332 nipype.interface INFO:\n",
      "\t stdout 2022-11-25T13:15:34.332143:Chris Rorden's dcm2niiX version v1.0.20211006  (JP2:OpenJPEG) GCC9.3.0 x86-64 (64-bit Linux)\n",
      "221125-13:15:34,333 nipype.interface INFO:\n",
      "\t stdout 2022-11-25T13:15:34.332143:Found 204 DICOM file(s)\n",
      "221125-13:15:34,333 nipype.interface INFO:\n",
      "\t stdout 2022-11-25T13:15:34.332143:Resolved discrepancy between tags (0020,1002; 0021,104F; 0054,0081)\n",
      "221125-13:15:34,334 nipype.interface INFO:\n",
      "\t stdout 2022-11-25T13:15:34.332143:Convert 204 DICOM as /NAS/dumbo/protocoles/HAMSI/data_NIFTI/1.3.51.0.1.1.10.49.10.222.6377606.6378162/1.2.840.113619.2.374.2807.1582298.14674.1604305833.360_201_-_Crane_Standard_20201102132931_6 (512x512x204x1)\n",
      "221125-13:15:41,392 nipype.interface INFO:\n",
      "\t stdout 2022-11-25T13:15:41.392148:Conversion required 11.827372 seconds (6.885022 for core code).\n",
      "221125-13:15:49,352 nipype.interface INFO:\n",
      "\t stdout 2022-11-25T13:15:49.352207:Chris Rorden's dcm2niiX version v1.0.20211006  (JP2:OpenJPEG) GCC9.3.0 x86-64 (64-bit Linux)\n",
      "221125-13:15:49,353 nipype.interface INFO:\n",
      "\t stdout 2022-11-25T13:15:49.352207:Found 272 DICOM file(s)\n",
      "221125-13:15:49,353 nipype.interface INFO:\n",
      "\t stdout 2022-11-25T13:15:49.352207:Resolved discrepancy between tags (0020,1002; 0021,104F; 0054,0081)\n",
      "221125-13:15:49,354 nipype.interface INFO:\n",
      "\t stdout 2022-11-25T13:15:49.352207:Convert 272 DICOM as /NAS/dumbo/protocoles/HAMSI/data_NIFTI/1.3.51.0.1.1.10.49.10.222.6241232.6241745/1.2.840.113619.2.374.2807.1582298.15084.1597044006.633_201_-_Crane_Standard_20200810114917_6 (512x512x272x1)\n",
      "221125-13:15:58,626 nipype.interface INFO:\n",
      "\t stdout 2022-11-25T13:15:58.625955:Conversion required 17.035685 seconds (9.086939 for core code).\n",
      "221125-13:16:02,234 nipype.interface INFO:\n",
      "\t stdout 2022-11-25T13:16:02.234328:Chris Rorden's dcm2niiX version v1.0.20211006  (JP2:OpenJPEG) GCC9.3.0 x86-64 (64-bit Linux)\n",
      "221125-13:16:02,235 nipype.interface INFO:\n",
      "\t stdout 2022-11-25T13:16:02.234328:Found 208 DICOM file(s)\n",
      "221125-13:16:02,236 nipype.interface INFO:\n",
      "\t stdout 2022-11-25T13:16:02.234328:Resolved discrepancy between tags (0020,1002; 0021,104F; 0054,0081)\n",
      "221125-13:16:02,237 nipype.interface INFO:\n",
      "\t stdout 2022-11-25T13:16:02.234328:Convert 208 DICOM as /NAS/dumbo/protocoles/HAMSI/data_NIFTI/1.3.51.0.1.1.10.49.10.222.6301149.6301676/1.2.840.113619.2.374.2807.1582298.14742.1600066238.544_201_-_Crane_Standard_20200916140432_7 (512x512x208x1)\n",
      "221125-13:16:09,440 nipype.interface INFO:\n",
      "\t stdout 2022-11-25T13:16:09.440066:Conversion required 10.618892 seconds (7.020896 for core code).\n",
      "221125-13:16:14,378 nipype.interface INFO:\n",
      "\t stdout 2022-11-25T13:16:14.378108:Chris Rorden's dcm2niiX version v1.0.20211006  (JP2:OpenJPEG) GCC9.3.0 x86-64 (64-bit Linux)\n",
      "221125-13:16:14,379 nipype.interface INFO:\n",
      "\t stdout 2022-11-25T13:16:14.378108:Found 272 DICOM file(s)\n",
      "221125-13:16:14,380 nipype.interface INFO:\n",
      "\t stdout 2022-11-25T13:16:14.378108:Resolved discrepancy between tags (0020,1002; 0021,104F; 0054,0081)\n",
      "221125-13:16:14,380 nipype.interface INFO:\n",
      "\t stdout 2022-11-25T13:16:14.378108:Convert 272 DICOM as /NAS/dumbo/protocoles/HAMSI/data_NIFTI/1.3.51.0.1.1.10.49.10.222.5909844.5910147/1.2.840.113619.2.374.2807.1582298.15664.1577692442.158_003_-_Biopsies_Robotisee_20191231123015_4 (256x256x272x1)\n",
      "221125-13:16:17,62 nipype.interface INFO:\n",
      "\t stdout 2022-11-25T13:16:17.062702:Conversion required 7.372082 seconds (2.793580 for core code).\n",
      "221125-13:16:21,173 nipype.interface INFO:\n",
      "\t stdout 2022-11-25T13:16:21.173503:Chris Rorden's dcm2niiX version v1.0.20211006  (JP2:OpenJPEG) GCC9.3.0 x86-64 (64-bit Linux)\n",
      "221125-13:16:21,175 nipype.interface INFO:\n",
      "\t stdout 2022-11-25T13:16:21.173503:Found 204 DICOM file(s)\n",
      "221125-13:16:21,175 nipype.interface INFO:\n",
      "\t stdout 2022-11-25T13:16:21.173503:Resolved discrepancy between tags (0020,1002; 0021,104F; 0054,0081)\n",
      "221125-13:16:21,176 nipype.interface INFO:\n",
      "\t stdout 2022-11-25T13:16:21.173503:Convert 204 DICOM as /NAS/dumbo/protocoles/HAMSI/data_NIFTI/1.3.51.0.1.1.10.49.10.222.7205832.7206915/1.2.840.113619.2.374.2807.1582298.15674.1646812308.98_201_-_Crane_Standard_20220315103500_5 (512x512x204x1)\n",
      "221125-13:16:28,271 nipype.interface INFO:\n",
      "\t stdout 2022-11-25T13:16:28.271722:Conversion required 11.010258 seconds (6.932956 for core code).\n",
      "221125-13:16:32,368 nipype.interface INFO:\n",
      "\t stdout 2022-11-25T13:16:32.368789:Chris Rorden's dcm2niiX version v1.0.20211006  (JP2:OpenJPEG) GCC9.3.0 x86-64 (64-bit Linux)\n",
      "221125-13:16:32,369 nipype.interface INFO:\n",
      "\t stdout 2022-11-25T13:16:32.368789:Found 208 DICOM file(s)\n",
      "221125-13:16:32,370 nipype.interface INFO:\n",
      "\t stdout 2022-11-25T13:16:32.368789:Resolved discrepancy between tags (0020,1002; 0021,104F; 0054,0081)\n",
      "221125-13:16:32,370 nipype.interface INFO:\n",
      "\t stdout 2022-11-25T13:16:32.368789:Convert 208 DICOM as /NAS/dumbo/protocoles/HAMSI/data_NIFTI/1.3.51.0.1.1.10.49.10.222.7529105.7530349/1.2.840.113619.2.374.2807.1582298.17196.1664347683.747_RAB_CRANE_20220929153553_7 (512x512x208x1)\n",
      "221125-13:16:39,402 nipype.interface INFO:\n",
      "\t stdout 2022-11-25T13:16:39.402077:Conversion required 10.917168 seconds (6.854820 for core code).\n",
      "221125-13:16:43,312 nipype.interface INFO:\n",
      "\t stdout 2022-11-25T13:16:43.312213:Chris Rorden's dcm2niiX version v1.0.20211006  (JP2:OpenJPEG) GCC9.3.0 x86-64 (64-bit Linux)\n",
      "221125-13:16:43,313 nipype.interface INFO:\n",
      "\t stdout 2022-11-25T13:16:43.312213:Found 208 DICOM file(s)\n",
      "221125-13:16:43,313 nipype.interface INFO:\n",
      "\t stdout 2022-11-25T13:16:43.312213:Resolved discrepancy between tags (0020,1002; 0021,104F; 0054,0081)\n",
      "221125-13:16:43,314 nipype.interface INFO:\n",
      "\t stdout 2022-11-25T13:16:43.312213:Convert 208 DICOM as /NAS/dumbo/protocoles/HAMSI/data_NIFTI/1.3.51.0.1.1.10.49.10.222.6298979.6299506/1.2.840.113619.2.374.2807.1582298.14742.1600066238.411_201_-_Crane_Standard_20200915140238_6 (512x512x208x1)\n",
      "221125-13:16:51,70 nipype.interface INFO:\n",
      "\t stdout 2022-11-25T13:16:51.070442:Conversion required 11.469627 seconds (7.615725 for core code).\n",
      "221125-13:16:55,117 nipype.interface INFO:\n",
      "\t stdout 2022-11-25T13:16:55.117693:Chris Rorden's dcm2niiX version v1.0.20211006  (JP2:OpenJPEG) GCC9.3.0 x86-64 (64-bit Linux)\n",
      "221125-13:16:55,119 nipype.interface INFO:\n",
      "\t stdout 2022-11-25T13:16:55.117693:Found 208 DICOM file(s)\n",
      "221125-13:16:55,119 nipype.interface INFO:\n",
      "\t stdout 2022-11-25T13:16:55.117693:Resolved discrepancy between tags (0020,1002; 0021,104F; 0054,0081)\n",
      "221125-13:16:55,120 nipype.interface INFO:\n",
      "\t stdout 2022-11-25T13:16:55.117693:Convert 208 DICOM as /NAS/dumbo/protocoles/HAMSI/data_NIFTI/1.3.51.0.1.1.10.49.10.222.7063269.7064262/1.2.840.113619.2.374.2807.1582298.15164.1639410473.793_RAB_CRANE_20211217133653_6 (512x512x208x1)\n",
      "221125-13:17:02,319 nipype.interface INFO:\n",
      "\t stdout 2022-11-25T13:17:02.319488:Conversion required 11.052588 seconds (7.027036 for core code).\n",
      "221125-13:17:05,454 nipype.interface INFO:\n",
      "\t stdout 2022-11-25T13:17:05.454524:Chris Rorden's dcm2niiX version v1.0.20211006  (JP2:OpenJPEG) GCC9.3.0 x86-64 (64-bit Linux)\n",
      "221125-13:17:05,455 nipype.interface INFO:\n",
      "\t stdout 2022-11-25T13:17:05.454524:Found 208 DICOM file(s)\n",
      "221125-13:17:05,455 nipype.interface INFO:\n",
      "\t stdout 2022-11-25T13:17:05.454524:Resolved discrepancy between tags (0020,1002; 0021,104F; 0054,0081)\n",
      "221125-13:17:05,456 nipype.interface INFO:\n",
      "\t stdout 2022-11-25T13:17:05.454524:Convert 208 DICOM as /NAS/dumbo/protocoles/HAMSI/data_NIFTI/1.3.51.0.1.1.10.49.10.222.6572525.6573204/1.2.840.113619.2.374.2807.1582298.15459.1613718408.910_201_-_Crane_Standard_20210225101417_6 (512x512x208x1)\n",
      "221125-13:17:12,840 nipype.interface INFO:\n",
      "\t stdout 2022-11-25T13:17:12.840021:Conversion required 10.325657 seconds (7.211709 for core code).\n",
      "221125-13:17:16,769 nipype.interface INFO:\n",
      "\t stdout 2022-11-25T13:17:16.769081:Chris Rorden's dcm2niiX version v1.0.20211006  (JP2:OpenJPEG) GCC9.3.0 x86-64 (64-bit Linux)\n",
      "221125-13:17:16,770 nipype.interface INFO:\n",
      "\t stdout 2022-11-25T13:17:16.769081:Found 216 DICOM file(s)\n",
      "221125-13:17:16,770 nipype.interface INFO:\n",
      "\t stdout 2022-11-25T13:17:16.769081:Resolved discrepancy between tags (0020,1002; 0021,104F; 0054,0081)\n",
      "221125-13:17:16,770 nipype.interface INFO:\n",
      "\t stdout 2022-11-25T13:17:16.769081:Convert 216 DICOM as /NAS/dumbo/protocoles/HAMSI/data_NIFTI/1.3.51.0.1.1.10.49.10.222.6260102.6260618/1.2.840.113619.2.374.2807.1582298.14755.1597730911.415_201_-_Crane_Standard_20200821144531_4 (512x512x216x1)\n",
      "221125-13:17:24,544 nipype.interface INFO:\n",
      "\t stdout 2022-11-25T13:17:24.544326:Conversion required 11.507946 seconds (7.618229 for core code).\n",
      "221125-13:17:27,997 nipype.interface INFO:\n",
      "\t stdout 2022-11-25T13:17:27.997770:Chris Rorden's dcm2niiX version v1.0.20211006  (JP2:OpenJPEG) GCC9.3.0 x86-64 (64-bit Linux)\n",
      "221125-13:17:27,998 nipype.interface INFO:\n",
      "\t stdout 2022-11-25T13:17:27.997770:Found 208 DICOM file(s)\n",
      "221125-13:17:27,999 nipype.interface INFO:\n",
      "\t stdout 2022-11-25T13:17:27.997770:Resolved discrepancy between tags (0020,1002; 0021,104F; 0054,0081)\n",
      "221125-13:17:28,0 nipype.interface INFO:\n",
      "\t stdout 2022-11-25T13:17:27.997770:Convert 208 DICOM as /NAS/dumbo/protocoles/HAMSI/data_NIFTI/1.3.51.0.1.1.10.49.10.222.6201418.6201904/1.2.840.113619.2.374.2807.1582298.15680.1594793067.111_201_-_Crane_Standard_20200715105703_6 (512x512x208x1)\n",
      "221125-13:17:35,621 nipype.interface INFO:\n",
      "\t stdout 2022-11-25T13:17:35.621109:Conversion required 10.877829 seconds (7.480635 for core code).\n",
      "221125-13:17:40,789 nipype.interface INFO:\n",
      "\t stdout 2022-11-25T13:17:40.789683:Chris Rorden's dcm2niiX version v1.0.20211006  (JP2:OpenJPEG) GCC9.3.0 x86-64 (64-bit Linux)\n",
      "221125-13:17:40,790 nipype.interface INFO:\n",
      "\t stdout 2022-11-25T13:17:40.789683:Found 272 DICOM file(s)\n",
      "221125-13:17:40,791 nipype.interface INFO:\n",
      "\t stdout 2022-11-25T13:17:40.789683:Resolved discrepancy between tags (0020,1002; 0021,104F; 0054,0081)\n",
      "221125-13:17:40,791 nipype.interface INFO:\n",
      "\t stdout 2022-11-25T13:17:40.789683:Convert 272 DICOM as /NAS/dumbo/protocoles/HAMSI/data_NIFTI/1.3.51.0.1.1.10.49.10.222.6487321.6487965/1.2.840.113619.2.374.2807.1582298.15514.1610350549.265_003_-_Biopsies_Robotisee_20210114085829_4 (256x256x272x1)\n",
      "221125-13:17:43,442 nipype.interface INFO:\n",
      "\t stdout 2022-11-25T13:17:43.442923:Conversion required 7.611242 seconds (2.754896 for core code).\n",
      "221125-13:17:46,668 nipype.interface INFO:\n",
      "\t stdout 2022-11-25T13:17:46.668701:Chris Rorden's dcm2niiX version v1.0.20211006  (JP2:OpenJPEG) GCC9.3.0 x86-64 (64-bit Linux)\n",
      "221125-13:17:46,669 nipype.interface INFO:\n",
      "\t stdout 2022-11-25T13:17:46.668701:Found 208 DICOM file(s)\n",
      "221125-13:17:46,670 nipype.interface INFO:\n",
      "\t stdout 2022-11-25T13:17:46.668701:Resolved discrepancy between tags (0020,1002; 0021,104F; 0054,0081)\n",
      "221125-13:17:46,670 nipype.interface INFO:\n",
      "\t stdout 2022-11-25T13:17:46.668701:Convert 208 DICOM as /NAS/dumbo/protocoles/HAMSI/data_NIFTI/1.3.51.0.1.1.10.49.10.222.6057196.6057578/1.2.840.113619.2.374.2807.1582298.12773.1585551952.594_201_-_Crane_Standard_20200330103101_7 (512x512x208x1)\n",
      "221125-13:17:53,587 nipype.interface INFO:\n",
      "\t stdout 2022-11-25T13:17:53.587109:Conversion required 9.950083 seconds (6.716313 for core code).\n",
      "221125-13:17:57,665 nipype.interface INFO:\n",
      "\t stdout 2022-11-25T13:17:57.665680:Chris Rorden's dcm2niiX version v1.0.20211006  (JP2:OpenJPEG) GCC9.3.0 x86-64 (64-bit Linux)\n",
      "221125-13:17:57,667 nipype.interface INFO:\n",
      "\t stdout 2022-11-25T13:17:57.665680:Found 208 DICOM file(s)\n",
      "221125-13:17:57,668 nipype.interface INFO:\n",
      "\t stdout 2022-11-25T13:17:57.665680:Resolved discrepancy between tags (0020,1002; 0021,104F; 0054,0081)\n",
      "221125-13:17:57,668 nipype.interface INFO:\n",
      "\t stdout 2022-11-25T13:17:57.665680:Convert 208 DICOM as /NAS/dumbo/protocoles/HAMSI/data_NIFTI/1.3.51.0.1.1.10.49.10.222.7434988.7436171/1.2.840.113619.2.374.2807.1582298.17210.1659429408.284_201_-_Crane_Standard_20220802142722_7 (512x512x208x1)\n",
      "221125-13:18:05,334 nipype.interface INFO:\n",
      "\t stdout 2022-11-25T13:18:05.334822:Conversion required 11.499395 seconds (7.539552 for core code).\n",
      "221125-13:18:09,429 nipype.interface INFO:\n",
      "\t stdout 2022-11-25T13:18:09.429191:Chris Rorden's dcm2niiX version v1.0.20211006  (JP2:OpenJPEG) GCC9.3.0 x86-64 (64-bit Linux)\n",
      "221125-13:18:09,430 nipype.interface INFO:\n",
      "\t stdout 2022-11-25T13:18:09.429191:Found 208 DICOM file(s)\n",
      "221125-13:18:09,430 nipype.interface INFO:\n",
      "\t stdout 2022-11-25T13:18:09.429191:Resolved discrepancy between tags (0020,1002; 0021,104F; 0054,0081)\n",
      "221125-13:18:09,431 nipype.interface INFO:\n",
      "\t stdout 2022-11-25T13:18:09.429191:Convert 208 DICOM as /NAS/dumbo/protocoles/HAMSI/data_NIFTI/1.3.51.0.1.1.10.49.10.222.6913579.6914492/1.2.840.113619.2.374.2807.1582298.17980.1632205034.977_201_-_Crane_Standard_20210921123536_6 (512x512x208x1)\n",
      "221125-13:18:16,421 nipype.interface INFO:\n",
      "\t stdout 2022-11-25T13:18:16.421895:Conversion required 10.892144 seconds (6.813565 for core code).\n",
      "221125-13:18:19,864 nipype.interface INFO:\n",
      "\t stdout 2022-11-25T13:18:19.864570:Chris Rorden's dcm2niiX version v1.0.20211006  (JP2:OpenJPEG) GCC9.3.0 x86-64 (64-bit Linux)\n",
      "221125-13:18:19,865 nipype.interface INFO:\n",
      "\t stdout 2022-11-25T13:18:19.864570:Found 208 DICOM file(s)\n",
      "221125-13:18:19,865 nipype.interface INFO:\n",
      "\t stdout 2022-11-25T13:18:19.864570:Resolved discrepancy between tags (0020,1002; 0021,104F; 0054,0081)\n",
      "221125-13:18:19,866 nipype.interface INFO:\n",
      "\t stdout 2022-11-25T13:18:19.864570:Convert 208 DICOM as /NAS/dumbo/protocoles/HAMSI/data_NIFTI/1.3.51.0.1.1.10.49.10.222.7258122.7259221/1.2.840.113619.2.374.2807.1582298.16114.1649662177.259_201_-_Crane_Standard_20220413164156_6 (512x512x208x1)\n",
      "221125-13:18:27,69 nipype.interface INFO:\n",
      "\t stdout 2022-11-25T13:18:27.068997:Conversion required 10.447976 seconds (7.048786 for core code).\n",
      "221125-13:18:30,699 nipype.interface INFO:\n",
      "\t stdout 2022-11-25T13:18:30.699577:Chris Rorden's dcm2niiX version v1.0.20211006  (JP2:OpenJPEG) GCC9.3.0 x86-64 (64-bit Linux)\n",
      "221125-13:18:30,700 nipype.interface INFO:\n",
      "\t stdout 2022-11-25T13:18:30.699577:Found 208 DICOM file(s)\n",
      "221125-13:18:30,701 nipype.interface INFO:\n",
      "\t stdout 2022-11-25T13:18:30.699577:Resolved discrepancy between tags (0020,1002; 0021,104F; 0054,0081)\n",
      "221125-13:18:30,701 nipype.interface INFO:\n",
      "\t stdout 2022-11-25T13:18:30.699577:Convert 208 DICOM as /NAS/dumbo/protocoles/HAMSI/data_NIFTI/1.3.51.0.1.1.10.49.10.222.7325426.7326552/1.2.840.113619.2.374.2807.1582298.15709.1652425840.757_RAB_CRANE_20220524140826_8 (512x512x208x1)\n",
      "221125-13:18:38,56 nipype.interface INFO:\n",
      "\t stdout 2022-11-25T13:18:38.056294:Conversion required 10.785275 seconds (7.196217 for core code).\n",
      "221125-13:18:41,873 nipype.interface INFO:\n",
      "\t stdout 2022-11-25T13:18:41.873486:Chris Rorden's dcm2niiX version v1.0.20211006  (JP2:OpenJPEG) GCC9.3.0 x86-64 (64-bit Linux)\n",
      "221125-13:18:41,874 nipype.interface INFO:\n",
      "\t stdout 2022-11-25T13:18:41.873486:Found 208 DICOM file(s)\n",
      "221125-13:18:41,875 nipype.interface INFO:\n",
      "\t stdout 2022-11-25T13:18:41.873486:Resolved discrepancy between tags (0020,1002; 0021,104F; 0054,0081)\n",
      "221125-13:18:41,876 nipype.interface INFO:\n",
      "\t stdout 2022-11-25T13:18:41.873486:Convert 208 DICOM as /NAS/dumbo/protocoles/HAMSI/data_NIFTI/1.3.51.0.1.1.10.49.10.222.6097689.6098127/1.2.840.113619.2.374.2807.1582298.15013.1588659154.274_201_-_Crane_Standard_20200506153552_6 (512x512x208x1)\n",
      "221125-13:18:48,984 nipype.interface INFO:\n",
      "\t stdout 2022-11-25T13:18:48.984527:Conversion required 10.723665 seconds (6.955592 for core code).\n",
      "221125-13:18:52,462 nipype.interface INFO:\n",
      "\t stdout 2022-11-25T13:18:52.462420:Chris Rorden's dcm2niiX version v1.0.20211006  (JP2:OpenJPEG) GCC9.3.0 x86-64 (64-bit Linux)\n",
      "221125-13:18:52,463 nipype.interface INFO:\n",
      "\t stdout 2022-11-25T13:18:52.462420:Found 208 DICOM file(s)\n",
      "221125-13:18:52,464 nipype.interface INFO:\n",
      "\t stdout 2022-11-25T13:18:52.462420:Resolved discrepancy between tags (0020,1002; 0021,104F; 0054,0081)\n",
      "221125-13:18:52,465 nipype.interface INFO:\n",
      "\t stdout 2022-11-25T13:18:52.462420:Convert 208 DICOM as /NAS/dumbo/protocoles/HAMSI/data_NIFTI/1.3.51.0.1.1.10.49.10.222.6957551.6958490/1.2.840.113619.2.374.2807.1582298.14809.1634741131.391_003_-_Biopsies_Robotisee_20211021122048_6 (512x512x208x1)\n",
      "221125-13:19:00,201 nipype.interface INFO:\n",
      "\t stdout 2022-11-25T13:19:00.201658:Conversion required 10.940833 seconds (7.590623 for core code).\n",
      "221125-13:19:03,977 nipype.interface INFO:\n",
      "\t stdout 2022-11-25T13:19:03.977251:Chris Rorden's dcm2niiX version v1.0.20211006  (JP2:OpenJPEG) GCC9.3.0 x86-64 (64-bit Linux)\n",
      "221125-13:19:03,978 nipype.interface INFO:\n",
      "\t stdout 2022-11-25T13:19:03.977251:Found 208 DICOM file(s)\n",
      "221125-13:19:03,979 nipype.interface INFO:\n",
      "\t stdout 2022-11-25T13:19:03.977251:Resolved discrepancy between tags (0020,1002; 0021,104F; 0054,0081)\n",
      "221125-13:19:03,979 nipype.interface INFO:\n",
      "\t stdout 2022-11-25T13:19:03.977251:Convert 208 DICOM as /NAS/dumbo/protocoles/HAMSI/data_NIFTI/1.3.51.0.1.1.10.49.10.222.7123903.7124936/1.2.840.113619.2.374.2807.1582298.17740.1643186259.495_201_-_Crane_Standard_20220126143109_6 (512x512x208x1)\n",
      "221125-13:19:11,210 nipype.interface INFO:\n",
      "\t stdout 2022-11-25T13:19:11.210326:Conversion required 10.805823 seconds (7.069863 for core code).\n",
      "221125-13:19:15,351 nipype.interface INFO:\n",
      "\t stdout 2022-11-25T13:19:15.351032:Chris Rorden's dcm2niiX version v1.0.20211006  (JP2:OpenJPEG) GCC9.3.0 x86-64 (64-bit Linux)\n",
      "221125-13:19:15,352 nipype.interface INFO:\n",
      "\t stdout 2022-11-25T13:19:15.351032:Found 208 DICOM file(s)\n",
      "221125-13:19:15,352 nipype.interface INFO:\n",
      "\t stdout 2022-11-25T13:19:15.351032:Resolved discrepancy between tags (0020,1002; 0021,104F; 0054,0081)\n",
      "221125-13:19:15,353 nipype.interface INFO:\n",
      "\t stdout 2022-11-25T13:19:15.351032:Convert 208 DICOM as /NAS/dumbo/protocoles/HAMSI/data_NIFTI/1.3.51.0.1.1.10.49.10.222.7381019.7382171/1.2.840.113619.2.374.2807.1582298.18723.1655879579.519_201_-_Crane_Standard_20220628141702_6 (512x512x208x1)\n",
      "221125-13:19:22,432 nipype.interface INFO:\n",
      "\t stdout 2022-11-25T13:19:22.432309:Conversion required 11.027347 seconds (6.944172 for core code).\n",
      "221125-13:19:26,711 nipype.interface INFO:\n",
      "\t stdout 2022-11-25T13:19:26.711798:Chris Rorden's dcm2niiX version v1.0.20211006  (JP2:OpenJPEG) GCC9.3.0 x86-64 (64-bit Linux)\n",
      "221125-13:19:26,713 nipype.interface INFO:\n",
      "\t stdout 2022-11-25T13:19:26.711798:Found 208 DICOM file(s)\n",
      "221125-13:19:26,713 nipype.interface INFO:\n",
      "\t stdout 2022-11-25T13:19:26.711798:Resolved discrepancy between tags (0020,1002; 0021,104F; 0054,0081)\n",
      "221125-13:19:26,714 nipype.interface INFO:\n",
      "\t stdout 2022-11-25T13:19:26.711798:Convert 208 DICOM as /NAS/dumbo/protocoles/HAMSI/data_NIFTI/1.3.51.0.1.1.10.49.10.222.6577119.6577798/1.2.840.113619.2.374.2807.1582298.15459.1613718409.100_201_-_Crane_Standard_20210301095314_7 (512x512x208x1)\n",
      "221125-13:19:34,368 nipype.interface INFO:\n",
      "\t stdout 2022-11-25T13:19:34.368551:Conversion required 11.685954 seconds (7.498876 for core code).\n"
     ]
    },
    {
     "name": "stderr",
     "output_type": "stream",
     "text": [
      "mkdir: cannot create directory ‘/NAS/dumbo/protocoles/HAMSI/data_NIFTI/1.3.51.0.1.1.10.49.10.222.6577119.6577798’: File exists\n"
     ]
    },
    {
     "name": "stdout",
     "output_type": "stream",
     "text": [
      "221125-13:19:37,971 nipype.interface INFO:\n",
      "\t stdout 2022-11-25T13:19:37.971840:Chris Rorden's dcm2niiX version v1.0.20211006  (JP2:OpenJPEG) GCC9.3.0 x86-64 (64-bit Linux)\n",
      "221125-13:19:37,972 nipype.interface INFO:\n",
      "\t stdout 2022-11-25T13:19:37.971840:Found 208 DICOM file(s)\n",
      "221125-13:19:37,973 nipype.interface INFO:\n",
      "\t stdout 2022-11-25T13:19:37.971840:Resolved discrepancy between tags (0020,1002; 0021,104F; 0054,0081)\n",
      "221125-13:19:37,973 nipype.interface INFO:\n",
      "\t stdout 2022-11-25T13:19:37.971840:Convert 208 DICOM as /NAS/dumbo/protocoles/HAMSI/data_NIFTI/1.3.51.0.1.1.10.49.10.222.6577119.6577798/1.2.840.113619.2.374.2807.1582298.15459.1613718409.102_201_-_Crane_Standard_20210301095314_9 (512x512x208x1)\n",
      "221125-13:19:46,151 nipype.interface INFO:\n",
      "\t stdout 2022-11-25T13:19:46.151407:Conversion required 11.585942 seconds (8.055859 for core code).\n",
      "221125-13:19:50,847 nipype.interface INFO:\n",
      "\t stdout 2022-11-25T13:19:50.847464:Chris Rorden's dcm2niiX version v1.0.20211006  (JP2:OpenJPEG) GCC9.3.0 x86-64 (64-bit Linux)\n",
      "221125-13:19:50,849 nipype.interface INFO:\n",
      "\t stdout 2022-11-25T13:19:50.847464:Found 208 DICOM file(s)\n",
      "221125-13:19:50,849 nipype.interface INFO:\n",
      "\t stdout 2022-11-25T13:19:50.847464:Resolved discrepancy between tags (0020,1002; 0021,104F; 0054,0081)\n",
      "221125-13:19:50,850 nipype.interface INFO:\n",
      "\t stdout 2022-11-25T13:19:50.847464:Convert 208 DICOM as /NAS/dumbo/protocoles/HAMSI/data_NIFTI/1.3.51.0.1.1.10.49.10.222.6596352.6597056/1.2.840.113619.2.374.2807.1582298.15459.1613718409.733_RAB_CRANE_20210311113710_8 (512x512x208x1)\n",
      "221125-13:19:58,265 nipype.interface INFO:\n",
      "\t stdout 2022-11-25T13:19:58.265347:Conversion required 11.749794 seconds (7.265537 for core code).\n",
      "221125-13:20:01,777 nipype.interface INFO:\n",
      "\t stdout 2022-11-25T13:20:01.777709:Chris Rorden's dcm2niiX version v1.0.20211006  (JP2:OpenJPEG) GCC9.3.0 x86-64 (64-bit Linux)\n",
      "221125-13:20:01,779 nipype.interface INFO:\n",
      "\t stdout 2022-11-25T13:20:01.777709:Found 208 DICOM file(s)\n",
      "221125-13:20:01,780 nipype.interface INFO:\n",
      "\t stdout 2022-11-25T13:20:01.777709:Resolved discrepancy between tags (0020,1002; 0021,104F; 0054,0081)\n",
      "221125-13:20:01,780 nipype.interface INFO:\n",
      "\t stdout 2022-11-25T13:20:01.777709:Convert 208 DICOM as /NAS/dumbo/protocoles/HAMSI/data_NIFTI/1.3.51.0.1.1.10.49.10.222.6906538.6907449/1.2.840.113619.2.374.2807.1582298.17559.1631772954.653_201_-_Crane_Standard_20210916153716_5 (512x512x208x1)\n",
      "221125-13:20:09,634 nipype.interface INFO:\n",
      "\t stdout 2022-11-25T13:20:09.634453:Conversion required 11.176045 seconds (7.716873 for core code).\n",
      "221125-13:20:14,830 nipype.interface INFO:\n",
      "\t stdout 2022-11-25T13:20:14.830274:Chris Rorden's dcm2niiX version v1.0.20211006  (JP2:OpenJPEG) GCC9.3.0 x86-64 (64-bit Linux)\n",
      "221125-13:20:14,831 nipype.interface INFO:\n",
      "\t stdout 2022-11-25T13:20:14.830274:Found 224 DICOM file(s)\n",
      "221125-13:20:14,832 nipype.interface INFO:\n",
      "\t stdout 2022-11-25T13:20:14.830274:Resolved discrepancy between tags (0020,1002; 0021,104F; 0054,0081)\n",
      "221125-13:20:14,832 nipype.interface INFO:\n",
      "\t stdout 2022-11-25T13:20:14.830274:Convert 224 DICOM as /NAS/dumbo/protocoles/HAMSI/data_NIFTI/1.3.51.0.1.1.10.49.10.222.6726763.6727524/1.2.840.113619.2.374.2807.1582298.18201.1621407792.447_002_-_Neuronav_20210528103107_4 (512x512x224x1)\n",
      "221125-13:20:24,65 nipype.interface INFO:\n",
      "\t stdout 2022-11-25T13:20:24.065610:Conversion required 14.216793 seconds (9.027641 for core code).\n",
      "221125-13:20:29,631 nipype.interface INFO:\n",
      "\t stdout 2022-11-25T13:20:29.631205:Chris Rorden's dcm2niiX version v1.0.20211006  (JP2:OpenJPEG) GCC9.3.0 x86-64 (64-bit Linux)\n",
      "221125-13:20:29,632 nipype.interface INFO:\n",
      "\t stdout 2022-11-25T13:20:29.631205:Found 208 DICOM file(s)\n",
      "221125-13:20:29,632 nipype.interface INFO:\n",
      "\t stdout 2022-11-25T13:20:29.631205:Resolved discrepancy between tags (0020,1002; 0021,104F; 0054,0081)\n",
      "221125-13:20:29,633 nipype.interface INFO:\n",
      "\t stdout 2022-11-25T13:20:29.631205:Convert 208 DICOM as /NAS/dumbo/protocoles/HAMSI/data_NIFTI/1.3.51.0.1.1.10.49.10.222.6915210.6916123/1.2.840.113619.2.374.2807.1582298.19134.1632294112.641_201_-_Crane_Standard_20210922090158_6 (512x512x208x1)\n",
      "221125-13:20:36,971 nipype.interface INFO:\n",
      "\t stdout 2022-11-25T13:20:36.971750:Conversion required 12.701656 seconds (7.221808 for core code).\n",
      "221125-13:20:40,674 nipype.interface INFO:\n",
      "\t stdout 2022-11-25T13:20:40.673915:Chris Rorden's dcm2niiX version v1.0.20211006  (JP2:OpenJPEG) GCC9.3.0 x86-64 (64-bit Linux)\n",
      "221125-13:20:40,675 nipype.interface INFO:\n",
      "\t stdout 2022-11-25T13:20:40.673915:Found 208 DICOM file(s)\n",
      "221125-13:20:40,675 nipype.interface INFO:\n",
      "\t stdout 2022-11-25T13:20:40.673915:Resolved discrepancy between tags (0020,1002; 0021,104F; 0054,0081)\n",
      "221125-13:20:40,676 nipype.interface INFO:\n",
      "\t stdout 2022-11-25T13:20:40.673915:Convert 208 DICOM as /NAS/dumbo/protocoles/HAMSI/data_NIFTI/1.3.51.0.1.1.10.49.10.222.6967820.6968759/1.2.840.113619.2.374.2807.1582298.14809.1634741131.419_201_-_Crane_Standard_20211021151348_6 (512x512x208x1)\n",
      "221125-13:20:48,168 nipype.interface INFO:\n",
      "\t stdout 2022-11-25T13:20:48.168652:Conversion required 11.007668 seconds (7.205673 for core code).\n",
      "221125-13:20:51,848 nipype.interface INFO:\n",
      "\t stdout 2022-11-25T13:20:51.848113:Chris Rorden's dcm2niiX version v1.0.20211006  (JP2:OpenJPEG) GCC9.3.0 x86-64 (64-bit Linux)\n",
      "221125-13:20:51,849 nipype.interface INFO:\n",
      "\t stdout 2022-11-25T13:20:51.848113:Found 208 DICOM file(s)\n",
      "221125-13:20:51,849 nipype.interface INFO:\n",
      "\t stdout 2022-11-25T13:20:51.848113:Resolved discrepancy between tags (0020,1002; 0021,104F; 0054,0081)\n",
      "221125-13:20:51,850 nipype.interface INFO:\n",
      "\t stdout 2022-11-25T13:20:51.848113:Convert 208 DICOM as /NAS/dumbo/protocoles/HAMSI/data_NIFTI/1.3.51.0.1.1.10.49.10.222.7526446.7527690/1.2.840.113619.2.374.2807.1582298.17196.1664347683.658_201_-_Crane_Standard_20220928141450_8 (512x512x208x1)\n",
      "221125-13:20:59,272 nipype.interface INFO:\n",
      "\t stdout 2022-11-25T13:20:59.272751:Conversion required 10.910707 seconds (7.254176 for core code).\n",
      "221125-13:21:03,517 nipype.interface INFO:\n",
      "\t stdout 2022-11-25T13:21:03.517412:Chris Rorden's dcm2niiX version v1.0.20211006  (JP2:OpenJPEG) GCC9.3.0 x86-64 (64-bit Linux)\n",
      "221125-13:21:03,518 nipype.interface INFO:\n",
      "\t stdout 2022-11-25T13:21:03.517412:Found 272 DICOM file(s)\n",
      "221125-13:21:03,519 nipype.interface INFO:\n",
      "\t stdout 2022-11-25T13:21:03.517412:Resolved discrepancy between tags (0020,1002; 0021,104F; 0054,0081)\n",
      "221125-13:21:03,519 nipype.interface INFO:\n",
      "\t stdout 2022-11-25T13:21:03.517412:Convert 272 DICOM as /NAS/dumbo/protocoles/HAMSI/data_NIFTI/1.3.51.0.1.1.10.49.10.222.6054632.6055014/1.2.840.113619.2.374.2807.1582298.12773.1585551952.669_003_-_Biopsies_Robotisee_20200331090213_5 (256x256x272x1)\n",
      "221125-13:21:06,115 nipype.interface INFO:\n",
      "\t stdout 2022-11-25T13:21:06.115793:Conversion required 6.654371 seconds (2.697198 for core code).\n",
      "221125-13:21:12,437 nipype.interface INFO:\n",
      "\t stdout 2022-11-25T13:21:12.436983:Chris Rorden's dcm2niiX version v1.0.20211006  (JP2:OpenJPEG) GCC9.3.0 x86-64 (64-bit Linux)\n",
      "221125-13:21:12,438 nipype.interface INFO:\n",
      "\t stdout 2022-11-25T13:21:12.436983:Found 272 DICOM file(s)\n",
      "221125-13:21:12,438 nipype.interface INFO:\n",
      "\t stdout 2022-11-25T13:21:12.436983:Resolved discrepancy between tags (0020,1002; 0021,104F; 0054,0081)\n",
      "221125-13:21:12,439 nipype.interface INFO:\n",
      "\t stdout 2022-11-25T13:21:12.436983:Convert 272 DICOM as /NAS/dumbo/protocoles/HAMSI/data_NIFTI/1.3.51.0.1.1.10.49.10.222.6987432.6988374/1.2.840.113619.2.374.2807.1582298.14598.1635400997.211_003_-_Biopsies_Robotisee_20211104125944_4 (512x512x272x1)\n",
      "221125-13:21:22,3 nipype.interface INFO:\n",
      "\t stdout 2022-11-25T13:21:22.003035:Conversion required 15.693448 seconds (9.339934 for core code).\n",
      "221125-13:21:24,889 nipype.interface INFO:\n",
      "\t stdout 2022-11-25T13:21:24.888929:Chris Rorden's dcm2niiX version v1.0.20211006  (JP2:OpenJPEG) GCC9.3.0 x86-64 (64-bit Linux)\n",
      "221125-13:21:24,890 nipype.interface INFO:\n",
      "\t stdout 2022-11-25T13:21:24.888929:Found 208 DICOM file(s)\n",
      "221125-13:21:24,890 nipype.interface INFO:\n",
      "\t stdout 2022-11-25T13:21:24.888929:Resolved discrepancy between tags (0020,1002; 0021,104F; 0054,0081)\n",
      "221125-13:21:24,891 nipype.interface INFO:\n",
      "\t stdout 2022-11-25T13:21:24.888929:Convert 208 DICOM as /NAS/dumbo/protocoles/HAMSI/data_NIFTI/1.3.51.0.1.1.10.49.10.222.6084088.6084507/1.2.840.113619.2.374.2807.1582298.14000.1587366668.636_201_-_Crane_Standard_20200424102118_6 (512x512x208x1)\n",
      "221125-13:21:32,239 nipype.interface INFO:\n",
      "\t stdout 2022-11-25T13:21:32.239774:Conversion required 10.025053 seconds (7.184495 for core code).\n",
      "221125-13:21:36,375 nipype.interface INFO:\n",
      "\t stdout 2022-11-25T13:21:36.375724:Chris Rorden's dcm2niiX version v1.0.20211006  (JP2:OpenJPEG) GCC9.3.0 x86-64 (64-bit Linux)\n",
      "221125-13:21:36,376 nipype.interface INFO:\n",
      "\t stdout 2022-11-25T13:21:36.375724:Found 204 DICOM file(s)\n",
      "221125-13:21:36,377 nipype.interface INFO:\n",
      "\t stdout 2022-11-25T13:21:36.375724:Resolved discrepancy between tags (0020,1002; 0021,104F; 0054,0081)\n",
      "221125-13:21:36,377 nipype.interface INFO:\n",
      "\t stdout 2022-11-25T13:21:36.375724:Convert 204 DICOM as /NAS/dumbo/protocoles/HAMSI/data_NIFTI/1.3.51.0.1.1.10.49.10.222.7407539.7408700/1.2.840.113619.2.374.2807.1582298.17874.1657701077.305_201_-_Crane_Standard_20220715143248_6 (512x512x204x1)\n",
      "221125-13:21:43,736 nipype.interface INFO:\n",
      "\t stdout 2022-11-25T13:21:43.736694:Conversion required 11.297504 seconds (7.212846 for core code).\n",
      "221125-13:21:47,487 nipype.interface INFO:\n",
      "\t stdout 2022-11-25T13:21:47.487271:Chris Rorden's dcm2niiX version v1.0.20211006  (JP2:OpenJPEG) GCC9.3.0 x86-64 (64-bit Linux)\n",
      "221125-13:21:47,488 nipype.interface INFO:\n",
      "\t stdout 2022-11-25T13:21:47.487271:Found 208 DICOM file(s)\n",
      "221125-13:21:47,488 nipype.interface INFO:\n",
      "\t stdout 2022-11-25T13:21:47.487271:Resolved discrepancy between tags (0020,1002; 0021,104F; 0054,0081)\n",
      "221125-13:21:47,489 nipype.interface INFO:\n",
      "\t stdout 2022-11-25T13:21:47.487271:Convert 208 DICOM as /NAS/dumbo/protocoles/HAMSI/data_NIFTI/1.3.51.0.1.1.10.49.10.222.7353897.7355042/1.2.840.113619.2.374.2807.1582298.16434.1654066143.575_201_-_Crane_Standard_20220613113236_6 (512x512x208x1)\n",
      "221125-13:21:54,980 nipype.interface INFO:\n",
      "\t stdout 2022-11-25T13:21:54.980049:Conversion required 11.049858 seconds (7.322273 for core code).\n",
      "221125-13:21:58,58 nipype.interface INFO:\n",
      "\t stdout 2022-11-25T13:21:58.058444:Chris Rorden's dcm2niiX version v1.0.20211006  (JP2:OpenJPEG) GCC9.3.0 x86-64 (64-bit Linux)\n",
      "221125-13:21:58,59 nipype.interface INFO:\n",
      "\t stdout 2022-11-25T13:21:58.058444:Found 208 DICOM file(s)\n",
      "221125-13:21:58,59 nipype.interface INFO:\n",
      "\t stdout 2022-11-25T13:21:58.058444:Resolved discrepancy between tags (0020,1002; 0021,104F; 0054,0081)\n",
      "221125-13:21:58,60 nipype.interface INFO:\n",
      "\t stdout 2022-11-25T13:21:58.058444:Convert 208 DICOM as /NAS/dumbo/protocoles/HAMSI/data_NIFTI/1.3.51.0.1.1.10.49.10.222.6069678.6070080/1.2.840.113619.2.374.2807.1582298.14597.1586518492.85_201_-_Crane_Standard_20200410140848_7 (512x512x208x1)\n",
      "221125-13:22:05,552 nipype.interface INFO:\n",
      "\t stdout 2022-11-25T13:22:05.552017:Conversion required 10.383184 seconds (7.313510 for core code).\n",
      "221125-13:22:09,207 nipype.interface INFO:\n",
      "\t stdout 2022-11-25T13:22:09.207010:Chris Rorden's dcm2niiX version v1.0.20211006  (JP2:OpenJPEG) GCC9.3.0 x86-64 (64-bit Linux)\n",
      "221125-13:22:09,208 nipype.interface INFO:\n",
      "\t stdout 2022-11-25T13:22:09.207010:Found 208 DICOM file(s)\n",
      "221125-13:22:09,209 nipype.interface INFO:\n",
      "\t stdout 2022-11-25T13:22:09.207010:Resolved discrepancy between tags (0020,1002; 0021,104F; 0054,0081)\n",
      "221125-13:22:09,209 nipype.interface INFO:\n",
      "\t stdout 2022-11-25T13:22:09.207010:Convert 208 DICOM as /NAS/dumbo/protocoles/HAMSI/data_NIFTI/1.3.51.0.1.1.10.49.10.222.6406444.6407010/1.2.840.113619.2.374.2807.1582298.14977.1605685019.977_201_-_Crane_Standard_20201120085632_4 (512x512x208x1)\n",
      "221125-13:22:16,461 nipype.interface INFO:\n",
      "\t stdout 2022-11-25T13:22:16.461914:Conversion required 10.712449 seconds (7.070178 for core code).\n",
      "221125-13:22:20,205 nipype.interface INFO:\n",
      "\t stdout 2022-11-25T13:22:20.205837:Chris Rorden's dcm2niiX version v1.0.20211006  (JP2:OpenJPEG) GCC9.3.0 x86-64 (64-bit Linux)\n",
      "221125-13:22:20,207 nipype.interface INFO:\n",
      "\t stdout 2022-11-25T13:22:20.205837:Found 208 DICOM file(s)\n",
      "221125-13:22:20,208 nipype.interface INFO:\n",
      "\t stdout 2022-11-25T13:22:20.205837:Resolved discrepancy between tags (0020,1002; 0021,104F; 0054,0081)\n",
      "221125-13:22:20,208 nipype.interface INFO:\n",
      "\t stdout 2022-11-25T13:22:20.205837:Convert 208 DICOM as /NAS/dumbo/protocoles/HAMSI/data_NIFTI/1.3.51.0.1.1.10.49.10.222.6707341.6708096/1.2.840.113619.2.374.2807.1582298.16411.1620022306.749_201_-_Crane_Standard_20210517120818_6 (512x512x208x1)\n",
      "221125-13:22:27,360 nipype.interface INFO:\n",
      "\t stdout 2022-11-25T13:22:27.360297:Conversion required 10.691633 seconds (6.966500 for core code).\n",
      "221125-13:22:30,860 nipype.interface INFO:\n",
      "\t stdout 2022-11-25T13:22:30.860545:Chris Rorden's dcm2niiX version v1.0.20211006  (JP2:OpenJPEG) GCC9.3.0 x86-64 (64-bit Linux)\n",
      "221125-13:22:30,861 nipype.interface INFO:\n",
      "\t stdout 2022-11-25T13:22:30.860545:Found 204 DICOM file(s)\n",
      "221125-13:22:30,862 nipype.interface INFO:\n",
      "\t stdout 2022-11-25T13:22:30.860545:Resolved discrepancy between tags (0020,1002; 0021,104F; 0054,0081)\n",
      "221125-13:22:30,862 nipype.interface INFO:\n",
      "\t stdout 2022-11-25T13:22:30.860545:Convert 204 DICOM as /NAS/dumbo/protocoles/HAMSI/data_NIFTI/1.3.51.0.1.1.10.49.10.222.7471186.7472384/1.2.840.113619.2.374.2807.1582298.17611.1661341681.722_201_-_Crane_Standard_20220826154646_6 (512x512x204x1)\n",
      "221125-13:22:37,933 nipype.interface INFO:\n",
      "\t stdout 2022-11-25T13:22:37.933432:Conversion required 10.349015 seconds (6.896936 for core code).\n",
      "221125-13:22:41,925 nipype.interface INFO:\n",
      "\t stdout 2022-11-25T13:22:41.925392:Chris Rorden's dcm2niiX version v1.0.20211006  (JP2:OpenJPEG) GCC9.3.0 x86-64 (64-bit Linux)\n",
      "221125-13:22:41,926 nipype.interface INFO:\n",
      "\t stdout 2022-11-25T13:22:41.925392:Found 208 DICOM file(s)\n",
      "221125-13:22:41,927 nipype.interface INFO:\n",
      "\t stdout 2022-11-25T13:22:41.925392:Resolved discrepancy between tags (0020,1002; 0021,104F; 0054,0081)\n",
      "221125-13:22:41,927 nipype.interface INFO:\n",
      "\t stdout 2022-11-25T13:22:41.925392:Convert 208 DICOM as /NAS/dumbo/protocoles/HAMSI/data_NIFTI/1.3.51.0.1.1.10.49.10.222.7106906.7107923/1.2.840.113619.2.374.2807.1582298.15372.1641281494.353_201_-_Crane_Standard_20220117112348_8 (512x512x208x1)\n",
      "221125-13:22:49,355 nipype.interface INFO:\n",
      "\t stdout 2022-11-25T13:22:49.355264:Conversion required 11.171208 seconds (7.276186 for core code).\n",
      "221125-13:22:53,162 nipype.interface INFO:\n",
      "\t stdout 2022-11-25T13:22:53.162374:Chris Rorden's dcm2niiX version v1.0.20211006  (JP2:OpenJPEG) GCC9.3.0 x86-64 (64-bit Linux)\n",
      "221125-13:22:53,163 nipype.interface INFO:\n",
      "\t stdout 2022-11-25T13:22:53.162374:Found 212 DICOM file(s)\n",
      "221125-13:22:53,164 nipype.interface INFO:\n",
      "\t stdout 2022-11-25T13:22:53.162374:Resolved discrepancy between tags (0020,1002; 0021,104F; 0054,0081)\n",
      "221125-13:22:53,164 nipype.interface INFO:\n",
      "\t stdout 2022-11-25T13:22:53.162374:Convert 212 DICOM as /NAS/dumbo/protocoles/HAMSI/data_NIFTI/1.3.51.0.1.1.10.49.10.222.7247716.7248810/1.2.840.113619.2.374.2807.1582298.16112.1649917467.641_003_-_Biopsies_Robotisee_20220414125018_5 (512x512x212x1)\n",
      "221125-13:23:00,564 nipype.interface INFO:\n",
      "\t stdout 2022-11-25T13:23:00.564435:Conversion required 11.016274 seconds (7.209966 for core code).\n",
      "221125-13:23:04,260 nipype.interface INFO:\n",
      "\t stdout 2022-11-25T13:23:04.260675:Chris Rorden's dcm2niiX version v1.0.20211006  (JP2:OpenJPEG) GCC9.3.0 x86-64 (64-bit Linux)\n",
      "221125-13:23:04,261 nipype.interface INFO:\n",
      "\t stdout 2022-11-25T13:23:04.260675:Found 208 DICOM file(s)\n",
      "221125-13:23:04,262 nipype.interface INFO:\n",
      "\t stdout 2022-11-25T13:23:04.260675:Resolved discrepancy between tags (0020,1002; 0021,104F; 0054,0081)\n",
      "221125-13:23:04,262 nipype.interface INFO:\n",
      "\t stdout 2022-11-25T13:23:04.260675:Convert 208 DICOM as /NAS/dumbo/protocoles/HAMSI/data_NIFTI/1.3.51.0.1.1.10.49.10.222.6186430.6186916/1.2.840.113619.2.374.2807.1582298.14741.1593414844.958_201_-_Crane_Standard_20200703154510_5 (512x512x208x1)\n",
      "221125-13:23:11,263 nipype.interface INFO:\n",
      "\t stdout 2022-11-25T13:23:11.263392:Conversion required 10.509459 seconds (6.817481 for core code).\n",
      "221125-13:23:15,114 nipype.interface INFO:\n",
      "\t stdout 2022-11-25T13:23:15.114802:Chris Rorden's dcm2niiX version v1.0.20211006  (JP2:OpenJPEG) GCC9.3.0 x86-64 (64-bit Linux)\n",
      "221125-13:23:15,116 nipype.interface INFO:\n",
      "\t stdout 2022-11-25T13:23:15.114802:Found 208 DICOM file(s)\n",
      "221125-13:23:15,116 nipype.interface INFO:\n",
      "\t stdout 2022-11-25T13:23:15.114802:Resolved discrepancy between tags (0020,1002; 0021,104F; 0054,0081)\n",
      "221125-13:23:15,116 nipype.interface INFO:\n",
      "\t stdout 2022-11-25T13:23:15.114802:Convert 208 DICOM as /NAS/dumbo/protocoles/HAMSI/data_NIFTI/1.3.51.0.1.1.10.49.10.222.7084724.7085731/1.2.840.113619.2.374.2807.1582298.14830.1641197678.236_201_-_Crane_Standard_20220103133427_5 (512x512x208x1)\n",
      "221125-13:23:22,303 nipype.interface INFO:\n",
      "\t stdout 2022-11-25T13:23:22.303634:Conversion required 10.808914 seconds (6.996025 for core code).\n",
      "221125-13:23:26,819 nipype.interface INFO:\n",
      "\t stdout 2022-11-25T13:23:26.819026:Chris Rorden's dcm2niiX version v1.0.20211006  (JP2:OpenJPEG) GCC9.3.0 x86-64 (64-bit Linux)\n",
      "221125-13:23:26,820 nipype.interface INFO:\n",
      "\t stdout 2022-11-25T13:23:26.819026:Found 224 DICOM file(s)\n",
      "221125-13:23:26,820 nipype.interface INFO:\n",
      "\t stdout 2022-11-25T13:23:26.819026:Resolved discrepancy between tags (0020,1002; 0021,104F; 0054,0081)\n",
      "221125-13:23:26,821 nipype.interface INFO:\n",
      "\t stdout 2022-11-25T13:23:26.819026:Convert 224 DICOM as /NAS/dumbo/protocoles/HAMSI/data_NIFTI/1.3.51.0.1.1.10.49.10.222.6117978.6118423/1.2.840.113619.2.374.2807.1582298.15140.1589786765.59_003_-_Biopsies_Robotisee_20200522103406_4 (512x512x224x1)\n",
      "221125-13:23:35,31 nipype.interface INFO:\n",
      "\t stdout 2022-11-25T13:23:35.031601:Conversion required 12.540137 seconds (8.021028 for core code).\n",
      "221125-13:23:38,561 nipype.interface INFO:\n",
      "\t stdout 2022-11-25T13:23:38.561864:Chris Rorden's dcm2niiX version v1.0.20211006  (JP2:OpenJPEG) GCC9.3.0 x86-64 (64-bit Linux)\n",
      "221125-13:23:38,563 nipype.interface INFO:\n",
      "\t stdout 2022-11-25T13:23:38.561864:Found 208 DICOM file(s)\n",
      "221125-13:23:38,563 nipype.interface INFO:\n",
      "\t stdout 2022-11-25T13:23:38.561864:Resolved discrepancy between tags (0020,1002; 0021,104F; 0054,0081)\n",
      "221125-13:23:38,564 nipype.interface INFO:\n",
      "\t stdout 2022-11-25T13:23:38.561864:Convert 208 DICOM as /NAS/dumbo/protocoles/HAMSI/data_NIFTI/1.3.51.0.1.1.10.49.10.222.6647658.6648386/1.2.840.113619.2.374.2807.1582298.14597.1617963326.418_201_-_Crane_Standard_20210409154009_7 (512x512x208x1)\n",
      "221125-13:23:45,829 nipype.interface INFO:\n",
      "\t stdout 2022-11-25T13:23:45.829674:Conversion required 10.570761 seconds (7.096298 for core code).\n",
      "221125-13:23:49,173 nipype.interface INFO:\n",
      "\t stdout 2022-11-25T13:23:49.173233:Chris Rorden's dcm2niiX version v1.0.20211006  (JP2:OpenJPEG) GCC9.3.0 x86-64 (64-bit Linux)\n",
      "221125-13:23:49,174 nipype.interface INFO:\n",
      "\t stdout 2022-11-25T13:23:49.173233:Found 208 DICOM file(s)\n",
      "221125-13:23:49,175 nipype.interface INFO:\n",
      "\t stdout 2022-11-25T13:23:49.173233:Resolved discrepancy between tags (0020,1002; 0021,104F; 0054,0081)\n",
      "221125-13:23:49,175 nipype.interface INFO:\n",
      "\t stdout 2022-11-25T13:23:49.173233:Convert 208 DICOM as /NAS/dumbo/protocoles/HAMSI/data_NIFTI/1.3.51.0.1.1.10.49.10.222.6073600.6074007/1.2.840.113619.2.374.2807.1582298.13478.1586845539.806_201_-_Crane_Standard_20200415104851_7 (512x512x208x1)\n",
      "221125-13:23:56,613 nipype.interface INFO:\n",
      "\t stdout 2022-11-25T13:23:56.613753:Conversion required 10.538511 seconds (7.113766 for core code).\n",
      "221125-13:24:01,6 nipype.interface INFO:\n",
      "\t stdout 2022-11-25T13:24:01.005972:Chris Rorden's dcm2niiX version v1.0.20211006  (JP2:OpenJPEG) GCC9.3.0 x86-64 (64-bit Linux)\n",
      "221125-13:24:01,7 nipype.interface INFO:\n",
      "\t stdout 2022-11-25T13:24:01.005972:Found 208 DICOM file(s)\n",
      "221125-13:24:01,7 nipype.interface INFO:\n",
      "\t stdout 2022-11-25T13:24:01.005972:Resolved discrepancy between tags (0020,1002; 0021,104F; 0054,0081)\n",
      "221125-13:24:01,8 nipype.interface INFO:\n",
      "\t stdout 2022-11-25T13:24:01.005972:Convert 208 DICOM as /NAS/dumbo/protocoles/HAMSI/data_NIFTI/1.3.51.0.1.1.10.49.10.222.6004235.6004598/1.2.840.113619.2.374.2807.1582298.15063.1581923809.201_201_-_Crane_Standard_20200221114802_4 (512x512x208x1)\n",
      "221125-13:24:08,158 nipype.interface INFO:\n",
      "\t stdout 2022-11-25T13:24:08.158844:Conversion required 11.340855 seconds (6.985607 for core code).\n",
      "221125-13:24:12,5 nipype.interface INFO:\n",
      "\t stdout 2022-11-25T13:24:12.005452:Chris Rorden's dcm2niiX version v1.0.20211006  (JP2:OpenJPEG) GCC9.3.0 x86-64 (64-bit Linux)\n",
      "221125-13:24:12,6 nipype.interface INFO:\n",
      "\t stdout 2022-11-25T13:24:12.005452:Found 208 DICOM file(s)\n",
      "221125-13:24:12,6 nipype.interface INFO:\n",
      "\t stdout 2022-11-25T13:24:12.005452:Resolved discrepancy between tags (0020,1002; 0021,104F; 0054,0081)\n",
      "221125-13:24:12,7 nipype.interface INFO:\n",
      "\t stdout 2022-11-25T13:24:12.005452:Convert 208 DICOM as /NAS/dumbo/protocoles/HAMSI/data_NIFTI/1.3.51.0.1.1.10.49.10.222.6880936.6881829/1.2.840.113619.2.374.2807.1582298.17841.1629731913.238_201_-_Crane_Standard_20210901135656_4 (512x512x208x1)\n",
      "221125-13:24:19,470 nipype.interface INFO:\n",
      "\t stdout 2022-11-25T13:24:19.470224:Conversion required 11.103338 seconds (7.299529 for core code).\n",
      "221125-13:24:23,541 nipype.interface INFO:\n",
      "\t stdout 2022-11-25T13:24:23.541071:Chris Rorden's dcm2niiX version v1.0.20211006  (JP2:OpenJPEG) GCC9.3.0 x86-64 (64-bit Linux)\n",
      "221125-13:24:23,542 nipype.interface INFO:\n",
      "\t stdout 2022-11-25T13:24:23.541071:Found 208 DICOM file(s)\n",
      "221125-13:24:23,542 nipype.interface INFO:\n",
      "\t stdout 2022-11-25T13:24:23.541071:Resolved discrepancy between tags (0020,1002; 0021,104F; 0054,0081)\n",
      "221125-13:24:23,543 nipype.interface INFO:\n",
      "\t stdout 2022-11-25T13:24:23.541071:Convert 208 DICOM as /NAS/dumbo/protocoles/HAMSI/data_NIFTI/1.3.51.0.1.1.10.49.10.222.7410144.7411312/1.2.840.113619.2.374.2807.1582298.16927.1658127406.831_201_-_Crane_Standard_20220718105036_7 (512x512x208x1)\n",
      "221125-13:24:30,833 nipype.interface INFO:\n",
      "\t stdout 2022-11-25T13:24:30.833407:Conversion required 11.165930 seconds (7.136554 for core code).\n",
      "221125-13:24:34,639 nipype.interface INFO:\n",
      "\t stdout 2022-11-25T13:24:34.639268:Chris Rorden's dcm2niiX version v1.0.20211006  (JP2:OpenJPEG) GCC9.3.0 x86-64 (64-bit Linux)\n",
      "221125-13:24:34,640 nipype.interface INFO:\n",
      "\t stdout 2022-11-25T13:24:34.639268:Found 208 DICOM file(s)\n",
      "221125-13:24:34,640 nipype.interface INFO:\n",
      "\t stdout 2022-11-25T13:24:34.639268:Resolved discrepancy between tags (0020,1002; 0021,104F; 0054,0081)\n",
      "221125-13:24:34,641 nipype.interface INFO:\n",
      "\t stdout 2022-11-25T13:24:34.639268:Convert 208 DICOM as /NAS/dumbo/protocoles/HAMSI/data_NIFTI/1.3.51.0.1.1.10.49.10.222.7148950.7149991/1.2.840.113619.2.374.2807.1582298.16884.1644320355.544_201_-_Crane_Standard_20220210113237_7 (512x512x208x1)\n",
      "221125-13:24:41,946 nipype.interface INFO:\n",
      "\t stdout 2022-11-25T13:24:41.946273:Conversion required 10.912877 seconds (7.134614 for core code).\n"
     ]
    },
    {
     "name": "stderr",
     "output_type": "stream",
     "text": [
      "mkdir: cannot create directory ‘/NAS/dumbo/protocoles/HAMSI/data_NIFTI/1.3.51.0.1.1.10.49.10.222.7036063.7037033’: File exists\n"
     ]
    },
    {
     "name": "stdout",
     "output_type": "stream",
     "text": [
      "221125-13:24:42,678 nipype.interface INFO:\n",
      "\t stdout 2022-11-25T13:24:42.678735:Chris Rorden's dcm2niiX version v1.0.20211006  (JP2:OpenJPEG) GCC9.3.0 x86-64 (64-bit Linux)\n",
      "221125-13:24:42,679 nipype.interface INFO:\n",
      "\t stdout 2022-11-25T13:24:42.678735:Found 272 DICOM file(s)\n",
      "221125-13:24:42,679 nipype.interface INFO:\n",
      "\t stdout 2022-11-25T13:24:42.678735:Resolved discrepancy between tags (0020,1002; 0021,104F; 0054,0081)\n",
      "221125-13:24:42,680 nipype.interface INFO:\n",
      "\t stdout 2022-11-25T13:24:42.678735:Convert 272 DICOM as /NAS/dumbo/protocoles/HAMSI/data_NIFTI/1.3.51.0.1.1.10.49.10.222.7036063.7037033/1.2.840.113619.2.374.2807.1582298.15832.1638180963.575_RAB_CRANE_20211202143321_7 (512x512x272x1)\n",
      "221125-13:24:51,984 nipype.interface INFO:\n",
      "\t stdout 2022-11-25T13:24:51.984552:Conversion required 9.819939 seconds (9.032186 for core code).\n"
     ]
    },
    {
     "name": "stderr",
     "output_type": "stream",
     "text": [
      "mkdir: cannot create directory ‘/NAS/dumbo/protocoles/HAMSI/data_NIFTI/1.3.51.0.1.1.10.49.10.222.6903033.6903944’: File exists\n"
     ]
    },
    {
     "name": "stdout",
     "output_type": "stream",
     "text": [
      "221125-13:24:52,710 nipype.interface INFO:\n",
      "\t stdout 2022-11-25T13:24:52.710423:Chris Rorden's dcm2niiX version v1.0.20211006  (JP2:OpenJPEG) GCC9.3.0 x86-64 (64-bit Linux)\n",
      "221125-13:24:52,711 nipype.interface INFO:\n",
      "\t stdout 2022-11-25T13:24:52.710423:Found 280 DICOM file(s)\n",
      "221125-13:24:52,712 nipype.interface INFO:\n",
      "\t stdout 2022-11-25T13:24:52.710423:Resolved discrepancy between tags (0020,1002; 0021,104F; 0054,0081)\n",
      "221125-13:24:52,712 nipype.interface INFO:\n",
      "\t stdout 2022-11-25T13:24:52.710423:Convert 280 DICOM as /NAS/dumbo/protocoles/HAMSI/data_NIFTI/1.3.51.0.1.1.10.49.10.222.6903033.6903944/1.2.840.113619.2.374.2807.1582298.18022.1631600082.522_201_-_Crane_Standard_20210915104022_8 (512x512x280x1)\n",
      "221125-13:25:02,707 nipype.interface INFO:\n",
      "\t stdout 2022-11-25T13:25:02.707324:Conversion required 10.527483 seconds (9.748618 for core code).\n"
     ]
    },
    {
     "name": "stderr",
     "output_type": "stream",
     "text": [
      "mkdir: cannot create directory ‘/NAS/dumbo/protocoles/HAMSI/data_NIFTI/1.3.51.0.1.1.10.49.10.222.6555046.6555716’: File exists\n"
     ]
    },
    {
     "name": "stdout",
     "output_type": "stream",
     "text": [
      "221125-13:25:03,480 nipype.interface INFO:\n",
      "\t stdout 2022-11-25T13:25:03.480614:Chris Rorden's dcm2niiX version v1.0.20211006  (JP2:OpenJPEG) GCC9.3.0 x86-64 (64-bit Linux)\n",
      "221125-13:25:03,481 nipype.interface INFO:\n",
      "\t stdout 2022-11-25T13:25:03.480614:Found 280 DICOM file(s)\n",
      "221125-13:25:03,482 nipype.interface INFO:\n",
      "\t stdout 2022-11-25T13:25:03.480614:Resolved discrepancy between tags (0020,1002; 0021,104F; 0054,0081)\n",
      "221125-13:25:03,482 nipype.interface INFO:\n",
      "\t stdout 2022-11-25T13:25:03.480614:Convert 280 DICOM as /NAS/dumbo/protocoles/HAMSI/data_NIFTI/1.3.51.0.1.1.10.49.10.222.6555046.6555716/1.2.840.113619.2.374.2807.1582298.14995.1613461173.26_201_-_Crane_Standard_20210216094133_7 (512x512x280x1)\n",
      "221125-13:25:13,238 nipype.interface INFO:\n",
      "\t stdout 2022-11-25T13:25:13.238130:Conversion required 10.308663 seconds (9.514973 for core code).\n",
      "221125-13:25:14,11 nipype.interface INFO:\n",
      "\t stdout 2022-11-25T13:25:14.011785:Chris Rorden's dcm2niiX version v1.0.20211006  (JP2:OpenJPEG) GCC9.3.0 x86-64 (64-bit Linux)\n",
      "221125-13:25:14,13 nipype.interface INFO:\n",
      "\t stdout 2022-11-25T13:25:14.011785:Found 272 DICOM file(s)\n",
      "221125-13:25:14,13 nipype.interface INFO:\n",
      "\t stdout 2022-11-25T13:25:14.011785:Resolved discrepancy between tags (0020,1002; 0021,104F; 0054,0081)\n",
      "221125-13:25:14,14 nipype.interface INFO:\n",
      "\t stdout 2022-11-25T13:25:14.011785:Convert 272 DICOM as /NAS/dumbo/protocoles/HAMSI/data_NIFTI/1.3.51.0.1.1.10.49.10.222.6450553.6451151/1.2.840.113619.2.374.2807.1582298.15598.1607930102.115_201_-_Crane_Standard_20201215135021_7 (512x512x272x1)\n",
      "221125-13:25:23,721 nipype.interface INFO:\n",
      "\t stdout 2022-11-25T13:25:23.721897:Conversion required 10.294232 seconds (9.454373 for core code).\n"
     ]
    },
    {
     "name": "stderr",
     "output_type": "stream",
     "text": [
      "mkdir: cannot create directory ‘/NAS/dumbo/protocoles/HAMSI/data_NIFTI/1.3.51.0.1.1.10.49.10.222.6031255.6031624’: File exists\n"
     ]
    },
    {
     "name": "stdout",
     "output_type": "stream",
     "text": [
      "221125-13:25:24,397 nipype.interface INFO:\n",
      "\t stdout 2022-11-25T13:25:24.397470:Chris Rorden's dcm2niiX version v1.0.20211006  (JP2:OpenJPEG) GCC9.3.0 x86-64 (64-bit Linux)\n",
      "221125-13:25:24,398 nipype.interface INFO:\n",
      "\t stdout 2022-11-25T13:25:24.397470:Found 272 DICOM file(s)\n",
      "221125-13:25:24,398 nipype.interface INFO:\n",
      "\t stdout 2022-11-25T13:25:24.397470:Resolved discrepancy between tags (0020,1002; 0021,104F; 0054,0081)\n",
      "221125-13:25:24,399 nipype.interface INFO:\n",
      "\t stdout 2022-11-25T13:25:24.397470:Convert 272 DICOM as /NAS/dumbo/protocoles/HAMSI/data_NIFTI/1.3.51.0.1.1.10.49.10.222.6031255.6031624/1.2.840.113619.2.374.2807.1582298.16335.1582799564.340_201_-_Crane_Standard_20200309112241_8 (512x512x272x1)\n",
      "221125-13:25:33,841 nipype.interface INFO:\n",
      "\t stdout 2022-11-25T13:25:33.841908:Conversion required 9.918888 seconds (9.192150 for core code).\n"
     ]
    },
    {
     "name": "stderr",
     "output_type": "stream",
     "text": [
      "mkdir: cannot create directory ‘/NAS/dumbo/protocoles/HAMSI/data_NIFTI/1.3.51.0.1.1.10.49.10.222.7329608.7330734’: File exists\n"
     ]
    },
    {
     "name": "stdout",
     "output_type": "stream",
     "text": [
      "221125-13:25:34,547 nipype.interface INFO:\n",
      "\t stdout 2022-11-25T13:25:34.546932:Chris Rorden's dcm2niiX version v1.0.20211006  (JP2:OpenJPEG) GCC9.3.0 x86-64 (64-bit Linux)\n",
      "221125-13:25:34,547 nipype.interface INFO:\n",
      "\t stdout 2022-11-25T13:25:34.546932:Found 272 DICOM file(s)\n",
      "221125-13:25:34,548 nipype.interface INFO:\n",
      "\t stdout 2022-11-25T13:25:34.546932:Resolved discrepancy between tags (0020,1002; 0021,104F; 0054,0081)\n",
      "221125-13:25:34,548 nipype.interface INFO:\n",
      "\t stdout 2022-11-25T13:25:34.546932:Convert 272 DICOM as /NAS/dumbo/protocoles/HAMSI/data_NIFTI/1.3.51.0.1.1.10.49.10.222.7329608.7330734/1.2.840.113619.2.374.2807.1582298.15709.1652425840.867_201_-_Crane_Standard_20220527134420_7 (512x512x272x1)\n",
      "221125-13:25:44,271 nipype.interface INFO:\n",
      "\t stdout 2022-11-25T13:25:44.271789:Conversion required 10.235370 seconds (9.460675 for core code).\n"
     ]
    },
    {
     "name": "stderr",
     "output_type": "stream",
     "text": [
      "mkdir: cannot create directory ‘/NAS/dumbo/protocoles/HAMSI/data_NIFTI/1.3.51.0.1.1.10.49.10.222.6125511.6125966’: File exists\n"
     ]
    },
    {
     "name": "stdout",
     "output_type": "stream",
     "text": [
      "221125-13:25:44,965 nipype.interface INFO:\n",
      "\t stdout 2022-11-25T13:25:44.965835:Chris Rorden's dcm2niiX version v1.0.20211006  (JP2:OpenJPEG) GCC9.3.0 x86-64 (64-bit Linux)\n",
      "221125-13:25:44,966 nipype.interface INFO:\n",
      "\t stdout 2022-11-25T13:25:44.965835:Found 272 DICOM file(s)\n",
      "221125-13:25:44,967 nipype.interface INFO:\n",
      "\t stdout 2022-11-25T13:25:44.965835:Resolved discrepancy between tags (0020,1002; 0021,104F; 0054,0081)\n",
      "221125-13:25:44,967 nipype.interface INFO:\n",
      "\t stdout 2022-11-25T13:25:44.965835:Convert 272 DICOM as /NAS/dumbo/protocoles/HAMSI/data_NIFTI/1.3.51.0.1.1.10.49.10.222.6125511.6125966/1.2.840.113619.2.374.2807.1582298.14631.1590560217.284_201_-_Crane_Standard_20200527153422_7 (512x512x272x1)\n",
      "221125-13:25:54,866 nipype.interface INFO:\n",
      "\t stdout 2022-11-25T13:25:54.866743:Conversion required 10.391864 seconds (9.683593 for core code).\n"
     ]
    },
    {
     "name": "stderr",
     "output_type": "stream",
     "text": [
      "mkdir: cannot create directory ‘/NAS/dumbo/protocoles/HAMSI/data_NIFTI/1.3.51.0.1.1.10.49.10.222.7375728.7376876’: File exists\n"
     ]
    },
    {
     "name": "stdout",
     "output_type": "stream",
     "text": [
      "221125-13:25:55,573 nipype.interface INFO:\n",
      "\t stdout 2022-11-25T13:25:55.573385:Chris Rorden's dcm2niiX version v1.0.20211006  (JP2:OpenJPEG) GCC9.3.0 x86-64 (64-bit Linux)\n",
      "221125-13:25:55,574 nipype.interface INFO:\n",
      "\t stdout 2022-11-25T13:25:55.573385:Found 272 DICOM file(s)\n",
      "221125-13:25:55,574 nipype.interface INFO:\n",
      "\t stdout 2022-11-25T13:25:55.573385:Resolved discrepancy between tags (0020,1002; 0021,104F; 0054,0081)\n",
      "221125-13:25:55,574 nipype.interface INFO:\n",
      "\t stdout 2022-11-25T13:25:55.573385:Convert 272 DICOM as /NAS/dumbo/protocoles/HAMSI/data_NIFTI/1.3.51.0.1.1.10.49.10.222.7375728.7376876/1.2.840.113619.2.374.2807.1582298.18723.1655879579.369_201_-_Controle_Post_Op_20220624142828_8 (512x512x272x1)\n",
      "221125-13:26:04,383 nipype.interface INFO:\n",
      "\t stdout 2022-11-25T13:26:04.383873:Conversion required 9.333093 seconds (8.505731 for core code).\n"
     ]
    },
    {
     "name": "stderr",
     "output_type": "stream",
     "text": [
      "mkdir: cannot create directory ‘/NAS/dumbo/protocoles/HAMSI/data_NIFTI/1.3.51.0.1.1.10.49.10.222.6047177.6047548’: File exists\n"
     ]
    },
    {
     "name": "stdout",
     "output_type": "stream",
     "text": [
      "221125-13:26:05,85 nipype.interface INFO:\n",
      "\t stdout 2022-11-25T13:26:05.085317:Chris Rorden's dcm2niiX version v1.0.20211006  (JP2:OpenJPEG) GCC9.3.0 x86-64 (64-bit Linux)\n",
      "221125-13:26:05,86 nipype.interface INFO:\n",
      "\t stdout 2022-11-25T13:26:05.085317:Found 272 DICOM file(s)\n",
      "221125-13:26:05,86 nipype.interface INFO:\n",
      "\t stdout 2022-11-25T13:26:05.085317:Resolved discrepancy between tags (0020,1002; 0021,104F; 0054,0081)\n",
      "221125-13:26:05,86 nipype.interface INFO:\n",
      "\t stdout 2022-11-25T13:26:05.085317:Convert 272 DICOM as /NAS/dumbo/protocoles/HAMSI/data_NIFTI/1.3.51.0.1.1.10.49.10.222.6047177.6047548/1.2.840.113619.2.374.2807.1582298.15495.1584343292.793_201_-_Crane_Standard_20200319141505_7 (512x512x272x1)\n",
      "221125-13:26:14,574 nipype.interface INFO:\n",
      "\t stdout 2022-11-25T13:26:14.574828:Conversion required 9.981705 seconds (9.205949 for core code).\n"
     ]
    },
    {
     "name": "stderr",
     "output_type": "stream",
     "text": [
      "mkdir: cannot create directory ‘/NAS/dumbo/protocoles/HAMSI/data_NIFTI/1.3.51.0.1.1.10.49.10.222.6631177.6631888’: File exists\n"
     ]
    },
    {
     "name": "stdout",
     "output_type": "stream",
     "text": [
      "221125-13:26:15,342 nipype.interface INFO:\n",
      "\t stdout 2022-11-25T13:26:15.342009:Chris Rorden's dcm2niiX version v1.0.20211006  (JP2:OpenJPEG) GCC9.3.0 x86-64 (64-bit Linux)\n",
      "221125-13:26:15,343 nipype.interface INFO:\n",
      "\t stdout 2022-11-25T13:26:15.342009:Found 272 DICOM file(s)\n",
      "221125-13:26:15,343 nipype.interface INFO:\n",
      "\t stdout 2022-11-25T13:26:15.342009:Resolved discrepancy between tags (0020,1002; 0021,104F; 0054,0081)\n",
      "221125-13:26:15,343 nipype.interface INFO:\n",
      "\t stdout 2022-11-25T13:26:15.342009:Convert 272 DICOM as /NAS/dumbo/protocoles/HAMSI/data_NIFTI/1.3.51.0.1.1.10.49.10.222.6631177.6631888/1.2.840.113619.2.374.2807.1582298.15069.1616601326.961_RAB_CRANE_20210331104653_9 (512x512x272x1)\n",
      "221125-13:26:25,193 nipype.interface INFO:\n",
      "\t stdout 2022-11-25T13:26:25.193464:Conversion required 10.419173 seconds (9.663854 for core code).\n"
     ]
    },
    {
     "name": "stderr",
     "output_type": "stream",
     "text": [
      "mkdir: cannot create directory ‘/NAS/dumbo/protocoles/HAMSI/data_NIFTI/1.3.51.0.1.1.10.49.10.222.6631177.6631888’: File exists\n"
     ]
    },
    {
     "name": "stdout",
     "output_type": "stream",
     "text": [
      "221125-13:26:33,514 nipype.interface INFO:\n",
      "\t stdout 2022-11-25T13:26:33.514440:Chris Rorden's dcm2niiX version v1.0.20211006  (JP2:OpenJPEG) GCC9.3.0 x86-64 (64-bit Linux)\n",
      "221125-13:26:33,515 nipype.interface INFO:\n",
      "\t stdout 2022-11-25T13:26:33.514440:Found 272 DICOM file(s)\n",
      "221125-13:26:33,515 nipype.interface INFO:\n",
      "\t stdout 2022-11-25T13:26:33.514440:Resolved discrepancy between tags (0020,1002; 0021,104F; 0054,0081)\n",
      "221125-13:26:33,516 nipype.interface INFO:\n",
      "\t stdout 2022-11-25T13:26:33.514440:Convert 272 DICOM as /NAS/dumbo/protocoles/HAMSI/data_NIFTI/1.3.51.0.1.1.10.49.10.222.6631177.6631888/1.2.840.113619.2.374.2807.1582298.15069.1616601326.962_RAB_CRANE_20210331104653_10 (512x512x272x1)\n",
      "221125-13:26:43,642 nipype.interface INFO:\n",
      "\t stdout 2022-11-25T13:26:43.642644:Conversion required 18.238749 seconds (9.984074 for core code).\n"
     ]
    },
    {
     "name": "stderr",
     "output_type": "stream",
     "text": [
      "mkdir: cannot create directory ‘/NAS/dumbo/protocoles/HAMSI/data_NIFTI/1.3.51.0.1.1.10.49.10.222.6391139.6391699’: File exists\n"
     ]
    },
    {
     "name": "stdout",
     "output_type": "stream",
     "text": [
      "221125-13:26:51,209 nipype.interface INFO:\n",
      "\t stdout 2022-11-25T13:26:51.209619:Chris Rorden's dcm2niiX version v1.0.20211006  (JP2:OpenJPEG) GCC9.3.0 x86-64 (64-bit Linux)\n",
      "221125-13:26:51,210 nipype.interface INFO:\n",
      "\t stdout 2022-11-25T13:26:51.209619:Found 272 DICOM file(s)\n",
      "221125-13:26:51,210 nipype.interface INFO:\n",
      "\t stdout 2022-11-25T13:26:51.209619:Resolved discrepancy between tags (0020,1002; 0021,104F; 0054,0081)\n",
      "221125-13:26:51,211 nipype.interface INFO:\n",
      "\t stdout 2022-11-25T13:26:51.209619:Convert 272 DICOM as /NAS/dumbo/protocoles/HAMSI/data_NIFTI/1.3.51.0.1.1.10.49.10.222.6391139.6391699/1.2.840.113619.2.374.2807.1582298.14708.1604904927.312_201_-_Crane_Standard_20201110134348_7 (512x512x272x1)\n",
      "221125-13:27:01,763 nipype.interface INFO:\n",
      "\t stdout 2022-11-25T13:27:01.763389:Conversion required 17.747055 seconds (10.430085 for core code).\n"
     ]
    },
    {
     "name": "stderr",
     "output_type": "stream",
     "text": [
      "mkdir: cannot create directory ‘/NAS/dumbo/protocoles/HAMSI/data_NIFTI/1.3.51.0.1.1.10.49.10.222.6062821.6063213’: File exists\n"
     ]
    },
    {
     "name": "stdout",
     "output_type": "stream",
     "text": [
      "221125-13:27:11,447 nipype.interface INFO:\n",
      "\t stdout 2022-11-25T13:27:11.447340:Chris Rorden's dcm2niiX version v1.0.20211006  (JP2:OpenJPEG) GCC9.3.0 x86-64 (64-bit Linux)\n",
      "221125-13:27:11,448 nipype.interface INFO:\n",
      "\t stdout 2022-11-25T13:27:11.447340:Found 272 DICOM file(s)\n",
      "221125-13:27:11,448 nipype.interface INFO:\n",
      "\t stdout 2022-11-25T13:27:11.447340:Resolved discrepancy between tags (0020,1002; 0021,104F; 0054,0081)\n",
      "221125-13:27:11,449 nipype.interface INFO:\n",
      "\t stdout 2022-11-25T13:27:11.447340:Convert 272 DICOM as /NAS/dumbo/protocoles/HAMSI/data_NIFTI/1.3.51.0.1.1.10.49.10.222.6062821.6063213/1.2.840.113619.2.374.2807.1582298.12773.1585551952.900_201_-_Crane_Standard_20200403145823_8 (512x512x272x1)\n",
      "221125-13:27:20,433 nipype.interface INFO:\n",
      "\t stdout 2022-11-25T13:27:20.433280:Conversion required 18.457331 seconds (8.764641 for core code).\n"
     ]
    },
    {
     "name": "stderr",
     "output_type": "stream",
     "text": [
      "mkdir: cannot create directory ‘/NAS/dumbo/protocoles/HAMSI/data_NIFTI/1.3.51.0.1.1.10.49.10.222.7231473.7232565’: File exists\n"
     ]
    },
    {
     "name": "stdout",
     "output_type": "stream",
     "text": [
      "221125-13:27:29,126 nipype.interface INFO:\n",
      "\t stdout 2022-11-25T13:27:29.126207:Chris Rorden's dcm2niiX version v1.0.20211006  (JP2:OpenJPEG) GCC9.3.0 x86-64 (64-bit Linux)\n",
      "221125-13:27:29,127 nipype.interface INFO:\n",
      "\t stdout 2022-11-25T13:27:29.126207:Found 272 DICOM file(s)\n",
      "221125-13:27:29,127 nipype.interface INFO:\n",
      "\t stdout 2022-11-25T13:27:29.126207:Resolved discrepancy between tags (0020,1002; 0021,104F; 0054,0081)\n",
      "221125-13:27:29,127 nipype.interface INFO:\n",
      "\t stdout 2022-11-25T13:27:29.126207:Convert 272 DICOM as /NAS/dumbo/protocoles/HAMSI/data_NIFTI/1.3.51.0.1.1.10.49.10.222.7231473.7232565/1.2.840.113619.2.374.2807.1582298.15810.1648451024.136_201_-_Crane_Standard_20220329144212_9 (512x512x272x1)\n",
      "221125-13:27:38,756 nipype.interface INFO:\n",
      "\t stdout 2022-11-25T13:27:38.755970:Conversion required 18.127928 seconds (9.410095 for core code).\n"
     ]
    },
    {
     "name": "stderr",
     "output_type": "stream",
     "text": [
      "mkdir: cannot create directory ‘/NAS/dumbo/protocoles/HAMSI/data_NIFTI/1.3.51.0.1.1.10.49.10.222.7446617.7447807’: File exists\n"
     ]
    },
    {
     "name": "stdout",
     "output_type": "stream",
     "text": [
      "221125-13:27:43,980 nipype.interface INFO:\n",
      "\t stdout 2022-11-25T13:27:43.980041:Chris Rorden's dcm2niiX version v1.0.20211006  (JP2:OpenJPEG) GCC9.3.0 x86-64 (64-bit Linux)\n",
      "221125-13:27:43,981 nipype.interface INFO:\n",
      "\t stdout 2022-11-25T13:27:43.980041:Found 272 DICOM file(s)\n",
      "221125-13:27:43,981 nipype.interface INFO:\n",
      "\t stdout 2022-11-25T13:27:43.980041:Resolved discrepancy between tags (0020,1002; 0021,104F; 0054,0081)\n",
      "221125-13:27:43,982 nipype.interface INFO:\n",
      "\t stdout 2022-11-25T13:27:43.980041:Convert 272 DICOM as /NAS/dumbo/protocoles/HAMSI/data_NIFTI/1.3.51.0.1.1.10.49.10.222.7446617.7447807/1.2.840.113619.2.374.2807.1582298.17210.1659429408.564_201_-_Crane_Standard_20220810104231_7 (512x512x272x1)\n",
      "221125-13:27:54,258 nipype.interface INFO:\n",
      "\t stdout 2022-11-25T13:27:54.258410:Conversion required 15.301344 seconds (10.123691 for core code).\n"
     ]
    },
    {
     "name": "stderr",
     "output_type": "stream",
     "text": [
      "mkdir: cannot create directory ‘/NAS/dumbo/protocoles/HAMSI/data_NIFTI/1.3.51.0.1.1.10.49.10.222.6061574.6061966’: File exists\n"
     ]
    },
    {
     "name": "stdout",
     "output_type": "stream",
     "text": [
      "221125-13:28:01,946 nipype.interface INFO:\n",
      "\t stdout 2022-11-25T13:28:01.945936:Chris Rorden's dcm2niiX version v1.0.20211006  (JP2:OpenJPEG) GCC9.3.0 x86-64 (64-bit Linux)\n",
      "221125-13:28:01,946 nipype.interface INFO:\n",
      "\t stdout 2022-11-25T13:28:01.945936:Found 272 DICOM file(s)\n",
      "221125-13:28:01,947 nipype.interface INFO:\n",
      "\t stdout 2022-11-25T13:28:01.945936:Resolved discrepancy between tags (0020,1002; 0021,104F; 0054,0081)\n",
      "221125-13:28:01,947 nipype.interface INFO:\n",
      "\t stdout 2022-11-25T13:28:01.945936:Convert 272 DICOM as /NAS/dumbo/protocoles/HAMSI/data_NIFTI/1.3.51.0.1.1.10.49.10.222.6061574.6061966/1.2.840.113619.2.374.2807.1582298.12773.1585551952.810_201_-_Crane_Standard_20200402132115_8 (512x512x272x1)\n",
      "221125-13:28:11,763 nipype.interface INFO:\n",
      "\t stdout 2022-11-25T13:28:11.763488:Conversion required 17.305835 seconds (9.620262 for core code).\n"
     ]
    },
    {
     "name": "stderr",
     "output_type": "stream",
     "text": [
      "mkdir: cannot create directory ‘/NAS/dumbo/protocoles/HAMSI/data_NIFTI/1.3.51.0.1.1.10.49.10.222.5982019.5982373’: File exists\n"
     ]
    },
    {
     "name": "stdout",
     "output_type": "stream",
     "text": [
      "221125-13:28:17,703 nipype.interface INFO:\n",
      "\t stdout 2022-11-25T13:28:17.702994:Chris Rorden's dcm2niiX version v1.0.20211006  (JP2:OpenJPEG) GCC9.3.0 x86-64 (64-bit Linux)\n",
      "221125-13:28:17,704 nipype.interface INFO:\n",
      "\t stdout 2022-11-25T13:28:17.702994:Found 272 DICOM file(s)\n",
      "221125-13:28:17,704 nipype.interface INFO:\n",
      "\t stdout 2022-11-25T13:28:17.702994:Resolved discrepancy between tags (0020,1002; 0021,104F; 0054,0081)\n",
      "221125-13:28:17,704 nipype.interface INFO:\n",
      "\t stdout 2022-11-25T13:28:17.702994:Convert 272 DICOM as /NAS/dumbo/protocoles/HAMSI/data_NIFTI/1.3.51.0.1.1.10.49.10.222.5982019.5982373/1.2.840.113619.2.374.2807.1582298.15441.1581319886.529_201_-_Crane_Standard_20200210142037_7 (512x512x272x1)\n",
      "221125-13:28:26,283 nipype.interface INFO:\n",
      "\t stdout 2022-11-25T13:28:26.283522:Conversion required 14.304442 seconds (8.315339 for core code).\n"
     ]
    },
    {
     "name": "stderr",
     "output_type": "stream",
     "text": [
      "mkdir: cannot create directory ‘/NAS/dumbo/protocoles/HAMSI/data_NIFTI/1.3.51.0.1.1.10.49.10.222.5982019.5982373’: File exists\n"
     ]
    },
    {
     "name": "stdout",
     "output_type": "stream",
     "text": [
      "221125-13:28:33,352 nipype.interface INFO:\n",
      "\t stdout 2022-11-25T13:28:33.352142:Chris Rorden's dcm2niiX version v1.0.20211006  (JP2:OpenJPEG) GCC9.3.0 x86-64 (64-bit Linux)\n",
      "221125-13:28:33,353 nipype.interface INFO:\n",
      "\t stdout 2022-11-25T13:28:33.352142:Found 272 DICOM file(s)\n",
      "221125-13:28:33,353 nipype.interface INFO:\n",
      "\t stdout 2022-11-25T13:28:33.352142:Resolved discrepancy between tags (0020,1002; 0021,104F; 0054,0081)\n",
      "221125-13:28:33,354 nipype.interface INFO:\n",
      "\t stdout 2022-11-25T13:28:33.352142:Convert 272 DICOM as /NAS/dumbo/protocoles/HAMSI/data_NIFTI/1.3.51.0.1.1.10.49.10.222.5982019.5982373/1.2.840.113619.2.374.2807.1582298.15441.1581319886.530_201_-_Crane_Standard_20200210142037_8 (512x512x272x1)\n",
      "221125-13:28:42,33 nipype.interface INFO:\n",
      "\t stdout 2022-11-25T13:28:42.033429:Conversion required 15.551990 seconds (8.415541 for core code).\n"
     ]
    },
    {
     "name": "stderr",
     "output_type": "stream",
     "text": [
      "mkdir: cannot create directory ‘/NAS/dumbo/protocoles/HAMSI/data_NIFTI/1.3.51.0.1.1.10.49.10.222.6370883.6371437’: File exists\n"
     ]
    },
    {
     "name": "stdout",
     "output_type": "stream",
     "text": [
      "221125-13:28:51,150 nipype.interface INFO:\n",
      "\t stdout 2022-11-25T13:28:51.150372:Chris Rorden's dcm2niiX version v1.0.20211006  (JP2:OpenJPEG) GCC9.3.0 x86-64 (64-bit Linux)\n",
      "221125-13:28:51,151 nipype.interface INFO:\n",
      "\t stdout 2022-11-25T13:28:51.150372:Found 272 DICOM file(s)\n",
      "221125-13:28:51,151 nipype.interface INFO:\n",
      "\t stdout 2022-11-25T13:28:51.150372:Resolved discrepancy between tags (0020,1002; 0021,104F; 0054,0081)\n",
      "221125-13:28:51,152 nipype.interface INFO:\n",
      "\t stdout 2022-11-25T13:28:51.150372:Convert 272 DICOM as /NAS/dumbo/protocoles/HAMSI/data_NIFTI/1.3.51.0.1.1.10.49.10.222.6370883.6371437/1.2.840.113619.2.374.2807.1582298.15447.1603695845.648_201_-_Crane_Standard_20201028101003_8 (512x512x272x1)\n",
      "221125-13:29:01,144 nipype.interface INFO:\n",
      "\t stdout 2022-11-25T13:29:01.144871:Conversion required 18.775362 seconds (9.801218 for core code).\n"
     ]
    },
    {
     "name": "stderr",
     "output_type": "stream",
     "text": [
      "mkdir: cannot create directory ‘/NAS/dumbo/protocoles/HAMSI/data_NIFTI/1.3.51.0.1.1.10.49.10.222.7480078.7481278’: File exists\n"
     ]
    },
    {
     "name": "stdout",
     "output_type": "stream",
     "text": [
      "221125-13:29:08,153 nipype.interface INFO:\n",
      "\t stdout 2022-11-25T13:29:08.153257:Chris Rorden's dcm2niiX version v1.0.20211006  (JP2:OpenJPEG) GCC9.3.0 x86-64 (64-bit Linux)\n",
      "221125-13:29:08,154 nipype.interface INFO:\n",
      "\t stdout 2022-11-25T13:29:08.153257:Found 272 DICOM file(s)\n",
      "221125-13:29:08,154 nipype.interface INFO:\n",
      "\t stdout 2022-11-25T13:29:08.153257:Resolved discrepancy between tags (0020,1002; 0021,104F; 0054,0081)\n",
      "221125-13:29:08,155 nipype.interface INFO:\n",
      "\t stdout 2022-11-25T13:29:08.153257:Convert 272 DICOM as /NAS/dumbo/protocoles/HAMSI/data_NIFTI/1.3.51.0.1.1.10.49.10.222.7480078.7481278/1.2.840.113619.2.374.2807.1582298.17611.1661341682.101_201_-_Crane_Standard_20220901152303_9 (512x512x272x1)\n",
      "221125-13:29:18,839 nipype.interface INFO:\n",
      "\t stdout 2022-11-25T13:29:18.839924:Conversion required 17.494714 seconds (10.540073 for core code).\n"
     ]
    },
    {
     "name": "stderr",
     "output_type": "stream",
     "text": [
      "mkdir: cannot create directory ‘/NAS/dumbo/protocoles/HAMSI/data_NIFTI/1.3.51.0.1.1.10.49.10.222.7472826.7474024’: File exists\n"
     ]
    },
    {
     "name": "stdout",
     "output_type": "stream",
     "text": [
      "221125-13:29:28,487 nipype.interface INFO:\n",
      "\t stdout 2022-11-25T13:29:28.486973:Chris Rorden's dcm2niiX version v1.0.20211006  (JP2:OpenJPEG) GCC9.3.0 x86-64 (64-bit Linux)\n",
      "221125-13:29:28,488 nipype.interface INFO:\n",
      "\t stdout 2022-11-25T13:29:28.486973:Found 272 DICOM file(s)\n",
      "221125-13:29:28,488 nipype.interface INFO:\n",
      "\t stdout 2022-11-25T13:29:28.486973:Resolved discrepancy between tags (0020,1002; 0021,104F; 0054,0081)\n",
      "221125-13:29:28,489 nipype.interface INFO:\n",
      "\t stdout 2022-11-25T13:29:28.486973:Convert 272 DICOM as /NAS/dumbo/protocoles/HAMSI/data_NIFTI/1.3.51.0.1.1.10.49.10.222.7472826.7474024/1.2.840.113619.2.374.2807.1582298.17611.1661341681.783_201_-_Crane_Standard_20220829112325_7 (512x512x272x1)\n",
      "221125-13:29:37,937 nipype.interface INFO:\n",
      "\t stdout 2022-11-25T13:29:37.937400:Conversion required 18.887030 seconds (9.270088 for core code).\n"
     ]
    },
    {
     "name": "stderr",
     "output_type": "stream",
     "text": [
      "mkdir: cannot create directory ‘/NAS/dumbo/protocoles/HAMSI/data_NIFTI/1.3.51.0.1.1.10.49.10.222.7274701.7275815’: File exists\n"
     ]
    },
    {
     "name": "stdout",
     "output_type": "stream",
     "text": [
      "221125-13:29:43,497 nipype.interface INFO:\n",
      "\t stdout 2022-11-25T13:29:43.497303:Chris Rorden's dcm2niiX version v1.0.20211006  (JP2:OpenJPEG) GCC9.3.0 x86-64 (64-bit Linux)\n",
      "221125-13:29:43,498 nipype.interface INFO:\n",
      "\t stdout 2022-11-25T13:29:43.497303:Found 272 DICOM file(s)\n",
      "221125-13:29:43,499 nipype.interface INFO:\n",
      "\t stdout 2022-11-25T13:29:43.497303:Resolved discrepancy between tags (0020,1002; 0021,104F; 0054,0081)\n",
      "221125-13:29:43,499 nipype.interface INFO:\n",
      "\t stdout 2022-11-25T13:29:43.497303:Convert 272 DICOM as /NAS/dumbo/protocoles/HAMSI/data_NIFTI/1.3.51.0.1.1.10.49.10.222.7274701.7275815/1.2.840.113619.2.374.2807.1582298.17676.1650867626.926_201_-_Crane_Standard_20220425161457_10 (512x512x272x1)\n",
      "221125-13:29:52,877 nipype.interface INFO:\n",
      "\t stdout 2022-11-25T13:29:52.877220:Conversion required 14.741170 seconds (9.144468 for core code).\n"
     ]
    },
    {
     "name": "stderr",
     "output_type": "stream",
     "text": [
      "mkdir: cannot create directory ‘/NAS/dumbo/protocoles/HAMSI/data_NIFTI/1.3.51.0.1.1.10.49.10.222.7181502.7182575’: File exists\n"
     ]
    },
    {
     "name": "stdout",
     "output_type": "stream",
     "text": [
      "221125-13:29:58,733 nipype.interface INFO:\n",
      "\t stdout 2022-11-25T13:29:58.733212:Chris Rorden's dcm2niiX version v1.0.20211006  (JP2:OpenJPEG) GCC9.3.0 x86-64 (64-bit Linux)\n",
      "221125-13:29:58,734 nipype.interface INFO:\n",
      "\t stdout 2022-11-25T13:29:58.733212:Found 272 DICOM file(s)\n",
      "221125-13:29:58,734 nipype.interface INFO:\n",
      "\t stdout 2022-11-25T13:29:58.733212:Resolved discrepancy between tags (0020,1002; 0021,104F; 0054,0081)\n",
      "221125-13:29:58,734 nipype.interface INFO:\n",
      "\t stdout 2022-11-25T13:29:58.733212:Convert 272 DICOM as /NAS/dumbo/protocoles/HAMSI/data_NIFTI/1.3.51.0.1.1.10.49.10.222.7181502.7182575/1.2.840.113619.2.374.2807.1582298.15861.1645603804.694_RAB_CRANE_20220301145000_7 (512x512x272x1)\n",
      "221125-13:30:08,299 nipype.interface INFO:\n",
      "\t stdout 2022-11-25T13:30:08.299952:Conversion required 15.226403 seconds (9.344107 for core code).\n"
     ]
    },
    {
     "name": "stderr",
     "output_type": "stream",
     "text": [
      "mkdir: cannot create directory ‘/NAS/dumbo/protocoles/HAMSI/data_NIFTI/1.3.51.0.1.1.10.49.10.222.7181502.7182575’: File exists\n"
     ]
    },
    {
     "name": "stdout",
     "output_type": "stream",
     "text": [
      "221125-13:30:17,3 nipype.interface INFO:\n",
      "\t stdout 2022-11-25T13:30:17.003120:Chris Rorden's dcm2niiX version v1.0.20211006  (JP2:OpenJPEG) GCC9.3.0 x86-64 (64-bit Linux)\n",
      "221125-13:30:17,3 nipype.interface INFO:\n",
      "\t stdout 2022-11-25T13:30:17.003120:Found 272 DICOM file(s)\n",
      "221125-13:30:17,4 nipype.interface INFO:\n",
      "\t stdout 2022-11-25T13:30:17.003120:Resolved discrepancy between tags (0020,1002; 0021,104F; 0054,0081)\n",
      "221125-13:30:17,4 nipype.interface INFO:\n",
      "\t stdout 2022-11-25T13:30:17.003120:Convert 272 DICOM as /NAS/dumbo/protocoles/HAMSI/data_NIFTI/1.3.51.0.1.1.10.49.10.222.7181502.7182575/1.2.840.113619.2.374.2807.1582298.15861.1645603804.695_RAB_CRANE_20220301145000_8 (512x512x272x1)\n",
      "221125-13:30:26,649 nipype.interface INFO:\n",
      "\t stdout 2022-11-25T13:30:26.649924:Conversion required 18.126946 seconds (9.426226 for core code).\n"
     ]
    },
    {
     "name": "stderr",
     "output_type": "stream",
     "text": [
      "mkdir: cannot create directory ‘/NAS/dumbo/protocoles/HAMSI/data_NIFTI/1.3.51.0.1.1.10.49.10.222.5912062.5912365’: File exists\n"
     ]
    },
    {
     "name": "stdout",
     "output_type": "stream",
     "text": [
      "221125-13:30:35,15 nipype.interface INFO:\n",
      "\t stdout 2022-11-25T13:30:35.015146:Chris Rorden's dcm2niiX version v1.0.20211006  (JP2:OpenJPEG) GCC9.3.0 x86-64 (64-bit Linux)\n",
      "221125-13:30:35,16 nipype.interface INFO:\n",
      "\t stdout 2022-11-25T13:30:35.015146:Found 272 DICOM file(s)\n",
      "221125-13:30:35,16 nipype.interface INFO:\n",
      "\t stdout 2022-11-25T13:30:35.015146:Resolved discrepancy between tags (0020,1002; 0021,104F; 0054,0081)\n",
      "221125-13:30:35,16 nipype.interface INFO:\n",
      "\t stdout 2022-11-25T13:30:35.015146:Convert 272 DICOM as /NAS/dumbo/protocoles/HAMSI/data_NIFTI/1.3.51.0.1.1.10.49.10.222.5912062.5912365/1.2.840.113619.2.374.2807.1582298.15666.1577950293.941_201_-_Crane_Standard_20200102144912_7 (512x512x272x1)\n",
      "221125-13:30:44,436 nipype.interface INFO:\n",
      "\t stdout 2022-11-25T13:30:44.436447:Conversion required 17.429047 seconds (9.203113 for core code).\n"
     ]
    },
    {
     "name": "stderr",
     "output_type": "stream",
     "text": [
      "mkdir: cannot create directory ‘/NAS/dumbo/protocoles/HAMSI/data_NIFTI/1.3.51.0.1.1.10.49.10.222.5907244.5907547’: File exists\n"
     ]
    },
    {
     "name": "stdout",
     "output_type": "stream",
     "text": [
      "221125-13:30:51,726 nipype.interface INFO:\n",
      "\t stdout 2022-11-25T13:30:51.726441:Chris Rorden's dcm2niiX version v1.0.20211006  (JP2:OpenJPEG) GCC9.3.0 x86-64 (64-bit Linux)\n",
      "221125-13:30:51,727 nipype.interface INFO:\n",
      "\t stdout 2022-11-25T13:30:51.726441:Found 272 DICOM file(s)\n",
      "221125-13:30:51,728 nipype.interface INFO:\n",
      "\t stdout 2022-11-25T13:30:51.726441:Resolved discrepancy between tags (0020,1002; 0021,104F; 0054,0081)\n",
      "221125-13:30:51,728 nipype.interface INFO:\n",
      "\t stdout 2022-11-25T13:30:51.726441:Convert 272 DICOM as /NAS/dumbo/protocoles/HAMSI/data_NIFTI/1.3.51.0.1.1.10.49.10.222.5907244.5907547/1.2.840.113619.2.374.2807.1582298.15664.1577692442.106_201_-_Crane_Standard_20191230093745_7 (512x512x272x1)\n",
      "221125-13:31:01,55 nipype.interface INFO:\n",
      "\t stdout 2022-11-25T13:31:01.055414:Conversion required 16.422966 seconds (9.113170 for core code).\n"
     ]
    },
    {
     "name": "stderr",
     "output_type": "stream",
     "text": [
      "mkdir: cannot create directory ‘/NAS/dumbo/protocoles/HAMSI/data_NIFTI/1.3.51.0.1.1.10.49.10.222.7476865.7478064’: File exists\n"
     ]
    },
    {
     "name": "stdout",
     "output_type": "stream",
     "text": [
      "221125-13:31:09,45 nipype.interface INFO:\n",
      "\t stdout 2022-11-25T13:31:09.045013:Chris Rorden's dcm2niiX version v1.0.20211006  (JP2:OpenJPEG) GCC9.3.0 x86-64 (64-bit Linux)\n",
      "221125-13:31:09,45 nipype.interface INFO:\n",
      "\t stdout 2022-11-25T13:31:09.045013:Found 272 DICOM file(s)\n",
      "221125-13:31:09,46 nipype.interface INFO:\n",
      "\t stdout 2022-11-25T13:31:09.045013:Resolved discrepancy between tags (0020,1002; 0021,104F; 0054,0081)\n",
      "221125-13:31:09,47 nipype.interface INFO:\n",
      "\t stdout 2022-11-25T13:31:09.045013:Convert 272 DICOM as /NAS/dumbo/protocoles/HAMSI/data_NIFTI/1.3.51.0.1.1.10.49.10.222.7476865.7478064/1.2.840.113619.2.374.2807.1582298.17611.1661341682.6_201_-_Crane_Standard_20220831140221_9 (512x512x272x1)\n",
      "221125-13:31:18,670 nipype.interface INFO:\n",
      "\t stdout 2022-11-25T13:31:18.670165:Conversion required 17.418549 seconds (9.407879 for core code).\n"
     ]
    },
    {
     "name": "stderr",
     "output_type": "stream",
     "text": [
      "mkdir: cannot create directory ‘/NAS/dumbo/protocoles/HAMSI/data_NIFTI/1.3.51.0.1.1.10.49.10.222.7382516.7383668’: File exists\n"
     ]
    },
    {
     "name": "stdout",
     "output_type": "stream",
     "text": [
      "221125-13:31:22,642 nipype.interface INFO:\n",
      "\t stdout 2022-11-25T13:31:22.641987:Chris Rorden's dcm2niiX version v1.0.20211006  (JP2:OpenJPEG) GCC9.3.0 x86-64 (64-bit Linux)\n",
      "221125-13:31:22,642 nipype.interface INFO:\n",
      "\t stdout 2022-11-25T13:31:22.641987:Found 272 DICOM file(s)\n",
      "221125-13:31:22,643 nipype.interface INFO:\n",
      "\t stdout 2022-11-25T13:31:22.641987:Resolved discrepancy between tags (0020,1002; 0021,104F; 0054,0081)\n",
      "221125-13:31:22,643 nipype.interface INFO:\n",
      "\t stdout 2022-11-25T13:31:22.641987:Convert 272 DICOM as /NAS/dumbo/protocoles/HAMSI/data_NIFTI/1.3.51.0.1.1.10.49.10.222.7382516.7383668/1.2.840.113619.2.374.2807.1582298.18723.1655879579.578_201_-_Crane_Standard_20220629105351_8 (512x512x272x1)\n",
      "221125-13:31:32,534 nipype.interface INFO:\n",
      "\t stdout 2022-11-25T13:31:32.534884:Conversion required 13.658328 seconds (9.707278 for core code).\n",
      "221125-13:31:40,245 nipype.interface INFO:\n",
      "\t stdout 2022-11-25T13:31:40.245510:Chris Rorden's dcm2niiX version v1.0.20211006  (JP2:OpenJPEG) GCC9.3.0 x86-64 (64-bit Linux)\n",
      "221125-13:31:40,246 nipype.interface INFO:\n",
      "\t stdout 2022-11-25T13:31:40.245510:Found 272 DICOM file(s)\n",
      "221125-13:31:40,246 nipype.interface INFO:\n",
      "\t stdout 2022-11-25T13:31:40.245510:Resolved discrepancy between tags (0020,1002; 0021,104F; 0054,0081)\n",
      "221125-13:31:40,247 nipype.interface INFO:\n",
      "\t stdout 2022-11-25T13:31:40.245510:Convert 272 DICOM as /NAS/dumbo/protocoles/HAMSI/data_NIFTI/1.3.51.0.1.1.10.49.10.222.6266046.6266562/1.2.840.113619.2.374.2807.1582298.15652.1598425537.833_201_-_Crane_Standard_20200826103602_9 (512x512x272x1)\n",
      "221125-13:31:50,287 nipype.interface INFO:\n",
      "\t stdout 2022-11-25T13:31:50.287125:Conversion required 17.543645 seconds (9.876001 for core code).\n"
     ]
    },
    {
     "name": "stderr",
     "output_type": "stream",
     "text": [
      "mkdir: cannot create directory ‘/NAS/dumbo/protocoles/HAMSI/data_NIFTI/1.3.51.0.1.1.10.49.10.222.7524515.7525759’: File exists\n"
     ]
    },
    {
     "name": "stdout",
     "output_type": "stream",
     "text": [
      "221125-13:32:00,150 nipype.interface INFO:\n",
      "\t stdout 2022-11-25T13:32:00.150475:Chris Rorden's dcm2niiX version v1.0.20211006  (JP2:OpenJPEG) GCC9.3.0 x86-64 (64-bit Linux)\n",
      "221125-13:32:00,151 nipype.interface INFO:\n",
      "\t stdout 2022-11-25T13:32:00.150475:Found 272 DICOM file(s)\n",
      "221125-13:32:00,151 nipype.interface INFO:\n",
      "\t stdout 2022-11-25T13:32:00.150475:Resolved discrepancy between tags (0020,1002; 0021,104F; 0054,0081)\n",
      "221125-13:32:00,152 nipype.interface INFO:\n",
      "\t stdout 2022-11-25T13:32:00.150475:Convert 272 DICOM as /NAS/dumbo/protocoles/HAMSI/data_NIFTI/1.3.51.0.1.1.10.49.10.222.7524515.7525759/1.2.840.113619.2.374.2807.1582298.15602.1663740941.910_201_-_Crane_Standard_20220927155817_8 (512x512x272x1)\n",
      "221125-13:32:09,534 nipype.interface INFO:\n",
      "\t stdout 2022-11-25T13:32:09.534845:Conversion required 19.040202 seconds (9.184042 for core code).\n",
      "221125-13:32:18,248 nipype.interface INFO:\n",
      "\t stdout 2022-11-25T13:32:18.248807:Chris Rorden's dcm2niiX version v1.0.20211006  (JP2:OpenJPEG) GCC9.3.0 x86-64 (64-bit Linux)\n",
      "221125-13:32:18,249 nipype.interface INFO:\n",
      "\t stdout 2022-11-25T13:32:18.248807:Found 272 DICOM file(s)\n",
      "221125-13:32:18,250 nipype.interface INFO:\n",
      "\t stdout 2022-11-25T13:32:18.248807:Resolved discrepancy between tags (0020,1002; 0021,104F; 0054,0081)\n",
      "221125-13:32:18,250 nipype.interface INFO:\n",
      "\t stdout 2022-11-25T13:32:18.248807:Convert 272 DICOM as /NAS/dumbo/protocoles/HAMSI/data_NIFTI/1.3.51.0.1.1.10.49.10.222.7193171.7194251/1.2.840.113619.2.374.2807.1582298.15861.1645603805.80_201_-_Crane_Standard_20220308102655_7 (512x512x272x1)\n",
      "221125-13:32:28,517 nipype.interface INFO:\n",
      "\t stdout 2022-11-25T13:32:28.517752:Conversion required 18.784865 seconds (10.084592 for core code).\n"
     ]
    },
    {
     "name": "stderr",
     "output_type": "stream",
     "text": [
      "mkdir: cannot create directory ‘/NAS/dumbo/protocoles/HAMSI/data_NIFTI/1.3.51.0.1.1.10.49.10.222.5963804.5964141’: File exists\n"
     ]
    },
    {
     "name": "stdout",
     "output_type": "stream",
     "text": [
      "221125-13:32:33,488 nipype.interface INFO:\n",
      "\t stdout 2022-11-25T13:32:33.488126:Chris Rorden's dcm2niiX version v1.0.20211006  (JP2:OpenJPEG) GCC9.3.0 x86-64 (64-bit Linux)\n",
      "221125-13:32:33,488 nipype.interface INFO:\n",
      "\t stdout 2022-11-25T13:32:33.488126:Found 272 DICOM file(s)\n",
      "221125-13:32:33,489 nipype.interface INFO:\n",
      "\t stdout 2022-11-25T13:32:33.488126:Resolved discrepancy between tags (0020,1002; 0021,104F; 0054,0081)\n",
      "221125-13:32:33,489 nipype.interface INFO:\n",
      "\t stdout 2022-11-25T13:32:33.488126:Convert 272 DICOM as /NAS/dumbo/protocoles/HAMSI/data_NIFTI/1.3.51.0.1.1.10.49.10.222.5963804.5964141/1.2.840.113619.2.374.2807.1582298.16263.1580300533.412_201_-_Crane_Standard_20200130135245_8 (512x512x272x1)\n",
      "221125-13:32:42,188 nipype.interface INFO:\n",
      "\t stdout 2022-11-25T13:32:42.188674:Conversion required 13.472205 seconds (8.496894 for core code).\n"
     ]
    },
    {
     "name": "stderr",
     "output_type": "stream",
     "text": [
      "mkdir: cannot create directory ‘/NAS/dumbo/protocoles/HAMSI/data_NIFTI/1.3.51.0.1.1.10.49.10.222.5963804.5964141’: File exists\n"
     ]
    },
    {
     "name": "stdout",
     "output_type": "stream",
     "text": [
      "221125-13:32:48,122 nipype.interface INFO:\n",
      "\t stdout 2022-11-25T13:32:48.122686:Chris Rorden's dcm2niiX version v1.0.20211006  (JP2:OpenJPEG) GCC9.3.0 x86-64 (64-bit Linux)\n",
      "221125-13:32:48,123 nipype.interface INFO:\n",
      "\t stdout 2022-11-25T13:32:48.122686:Found 272 DICOM file(s)\n",
      "221125-13:32:48,124 nipype.interface INFO:\n",
      "\t stdout 2022-11-25T13:32:48.122686:Resolved discrepancy between tags (0020,1002; 0021,104F; 0054,0081)\n",
      "221125-13:32:48,124 nipype.interface INFO:\n",
      "\t stdout 2022-11-25T13:32:48.122686:Convert 272 DICOM as /NAS/dumbo/protocoles/HAMSI/data_NIFTI/1.3.51.0.1.1.10.49.10.222.5963804.5964141/1.2.840.113619.2.374.2807.1582298.16263.1580300533.413_201_-_Crane_Standard_20200130135245_9 (512x512x272x1)\n",
      "221125-13:32:57,235 nipype.interface INFO:\n",
      "\t stdout 2022-11-25T13:32:57.235196:Conversion required 14.835177 seconds (8.906026 for core code).\n"
     ]
    },
    {
     "name": "stderr",
     "output_type": "stream",
     "text": [
      "mkdir: cannot create directory ‘/NAS/dumbo/protocoles/HAMSI/data_NIFTI/1.3.51.0.1.1.10.49.10.222.6348895.6349440’: File exists\n"
     ]
    },
    {
     "name": "stdout",
     "output_type": "stream",
     "text": [
      "221125-13:33:04,24 nipype.interface INFO:\n",
      "\t stdout 2022-11-25T13:33:04.024566:Chris Rorden's dcm2niiX version v1.0.20211006  (JP2:OpenJPEG) GCC9.3.0 x86-64 (64-bit Linux)\n",
      "221125-13:33:04,25 nipype.interface INFO:\n",
      "\t stdout 2022-11-25T13:33:04.024566:Found 272 DICOM file(s)\n",
      "221125-13:33:04,25 nipype.interface INFO:\n",
      "\t stdout 2022-11-25T13:33:04.024566:Resolved discrepancy between tags (0020,1002; 0021,104F; 0054,0081)\n",
      "221125-13:33:04,26 nipype.interface INFO:\n",
      "\t stdout 2022-11-25T13:33:04.024566:Convert 272 DICOM as /NAS/dumbo/protocoles/HAMSI/data_NIFTI/1.3.51.0.1.1.10.49.10.222.6348895.6349440/1.2.840.113619.2.374.2807.1582298.14813.1601964910.727_201_-_Crane_Standard_20201014114002_8 (512x512x272x1)\n",
      "221125-13:33:14,601 nipype.interface INFO:\n",
      "\t stdout 2022-11-25T13:33:14.600981:Conversion required 17.016991 seconds (10.475879 for core code).\n"
     ]
    },
    {
     "name": "stderr",
     "output_type": "stream",
     "text": [
      "mkdir: cannot create directory ‘/NAS/dumbo/protocoles/HAMSI/data_NIFTI/1.3.51.0.1.1.10.49.10.222.6052467.6052846’: File exists\n"
     ]
    },
    {
     "name": "stdout",
     "output_type": "stream",
     "text": [
      "221125-13:33:20,538 nipype.interface INFO:\n",
      "\t stdout 2022-11-25T13:33:20.538837:Chris Rorden's dcm2niiX version v1.0.20211006  (JP2:OpenJPEG) GCC9.3.0 x86-64 (64-bit Linux)\n",
      "221125-13:33:20,540 nipype.interface INFO:\n",
      "\t stdout 2022-11-25T13:33:20.538837:Found 272 DICOM file(s)\n",
      "221125-13:33:20,540 nipype.interface INFO:\n",
      "\t stdout 2022-11-25T13:33:20.538837:Resolved discrepancy between tags (0020,1002; 0021,104F; 0054,0081)\n",
      "221125-13:33:20,541 nipype.interface INFO:\n",
      "\t stdout 2022-11-25T13:33:20.538837:Convert 272 DICOM as /NAS/dumbo/protocoles/HAMSI/data_NIFTI/1.3.51.0.1.1.10.49.10.222.6052467.6052846/1.2.840.113619.2.374.2807.1582298.12663.1585063994.282_201_-_Crane_Standard_20200325091243_7 (512x512x272x1)\n",
      "221125-13:33:30,516 nipype.interface INFO:\n",
      "\t stdout 2022-11-25T13:33:30.516742:Conversion required 15.721221 seconds (9.788078 for core code).\n"
     ]
    },
    {
     "name": "stderr",
     "output_type": "stream",
     "text": [
      "mkdir: cannot create directory ‘/NAS/dumbo/protocoles/HAMSI/data_NIFTI/1.3.51.0.1.1.10.49.10.222.6697524.6698275’: File exists\n"
     ]
    },
    {
     "name": "stdout",
     "output_type": "stream",
     "text": [
      "221125-13:33:38,9 nipype.interface INFO:\n",
      "\t stdout 2022-11-25T13:33:38.009513:Chris Rorden's dcm2niiX version v1.0.20211006  (JP2:OpenJPEG) GCC9.3.0 x86-64 (64-bit Linux)\n",
      "221125-13:33:38,10 nipype.interface INFO:\n",
      "\t stdout 2022-11-25T13:33:38.009513:Found 272 DICOM file(s)\n",
      "221125-13:33:38,10 nipype.interface INFO:\n",
      "\t stdout 2022-11-25T13:33:38.009513:Resolved discrepancy between tags (0020,1002; 0021,104F; 0054,0081)\n",
      "221125-13:33:38,11 nipype.interface INFO:\n",
      "\t stdout 2022-11-25T13:33:38.009513:Convert 272 DICOM as /NAS/dumbo/protocoles/HAMSI/data_NIFTI/1.3.51.0.1.1.10.49.10.222.6697524.6698275/1.2.840.113619.2.374.2807.1582298.16411.1620022306.468_201_-_Crane_Standard_20210510121222_7 (512x512x272x1)\n",
      "221125-13:33:48,282 nipype.interface INFO:\n",
      "\t stdout 2022-11-25T13:33:48.282708:Conversion required 17.564797 seconds (10.180903 for core code).\n"
     ]
    },
    {
     "name": "stderr",
     "output_type": "stream",
     "text": [
      "mkdir: cannot create directory ‘/NAS/dumbo/protocoles/HAMSI/data_NIFTI/1.3.51.0.1.1.10.49.10.222.6455650.6456250’: File exists\n"
     ]
    },
    {
     "name": "stdout",
     "output_type": "stream",
     "text": [
      "221125-13:33:54,668 nipype.interface INFO:\n",
      "\t stdout 2022-11-25T13:33:54.668285:Chris Rorden's dcm2niiX version v1.0.20211006  (JP2:OpenJPEG) GCC9.3.0 x86-64 (64-bit Linux)\n",
      "221125-13:33:54,669 nipype.interface INFO:\n",
      "\t stdout 2022-11-25T13:33:54.668285:Found 272 DICOM file(s)\n",
      "221125-13:33:54,670 nipype.interface INFO:\n",
      "\t stdout 2022-11-25T13:33:54.668285:Resolved discrepancy between tags (0020,1002; 0021,104F; 0054,0081)\n",
      "221125-13:33:54,670 nipype.interface INFO:\n",
      "\t stdout 2022-11-25T13:33:54.668285:Convert 272 DICOM as /NAS/dumbo/protocoles/HAMSI/data_NIFTI/1.3.51.0.1.1.10.49.10.222.6455650.6456250/1.2.840.113619.2.374.2807.1582298.15679.1608111132.246_201_-_Crane_Standard_20201217132346_9 (512x512x272x1)\n",
      "221125-13:34:04,97 nipype.interface INFO:\n",
      "\t stdout 2022-11-25T13:34:04.097326:Conversion required 15.597629 seconds (9.216019 for core code).\n"
     ]
    },
    {
     "name": "stderr",
     "output_type": "stream",
     "text": [
      "mkdir: cannot create directory ‘/NAS/dumbo/protocoles/HAMSI/data_NIFTI/1.3.51.0.1.1.10.49.10.222.6062831.6063223’: File exists\n"
     ]
    },
    {
     "name": "stdout",
     "output_type": "stream",
     "text": [
      "221125-13:34:11,334 nipype.interface INFO:\n",
      "\t stdout 2022-11-25T13:34:11.334106:Chris Rorden's dcm2niiX version v1.0.20211006  (JP2:OpenJPEG) GCC9.3.0 x86-64 (64-bit Linux)\n",
      "221125-13:34:11,334 nipype.interface INFO:\n",
      "\t stdout 2022-11-25T13:34:11.334106:Found 272 DICOM file(s)\n",
      "221125-13:34:11,335 nipype.interface INFO:\n",
      "\t stdout 2022-11-25T13:34:11.334106:Resolved discrepancy between tags (0020,1002; 0021,104F; 0054,0081)\n",
      "221125-13:34:11,335 nipype.interface INFO:\n",
      "\t stdout 2022-11-25T13:34:11.334106:Convert 272 DICOM as /NAS/dumbo/protocoles/HAMSI/data_NIFTI/1.3.51.0.1.1.10.49.10.222.6062831.6063223/1.2.840.113619.2.374.2807.1582298.12773.1585551952.889_201_-_Crane_Standard_20200403142603_7 (512x512x272x1)\n",
      "221125-13:34:19,843 nipype.interface INFO:\n",
      "\t stdout 2022-11-25T13:34:19.843477:Conversion required 15.549185 seconds (8.252002 for core code).\n"
     ]
    },
    {
     "name": "stderr",
     "output_type": "stream",
     "text": [
      "mkdir: cannot create directory ‘/NAS/dumbo/protocoles/HAMSI/data_NIFTI/1.3.51.0.1.1.10.49.10.222.6598166.6598870’: File exists\n"
     ]
    },
    {
     "name": "stdout",
     "output_type": "stream",
     "text": [
      "221125-13:34:25,887 nipype.interface INFO:\n",
      "\t stdout 2022-11-25T13:34:25.887229:Chris Rorden's dcm2niiX version v1.0.20211006  (JP2:OpenJPEG) GCC9.3.0 x86-64 (64-bit Linux)\n",
      "221125-13:34:25,888 nipype.interface INFO:\n",
      "\t stdout 2022-11-25T13:34:25.887229:Found 272 DICOM file(s)\n",
      "221125-13:34:25,888 nipype.interface INFO:\n",
      "\t stdout 2022-11-25T13:34:25.887229:Resolved discrepancy between tags (0020,1002; 0021,104F; 0054,0081)\n",
      "221125-13:34:25,889 nipype.interface INFO:\n",
      "\t stdout 2022-11-25T13:34:25.887229:Convert 272 DICOM as /NAS/dumbo/protocoles/HAMSI/data_NIFTI/1.3.51.0.1.1.10.49.10.222.6598166.6598870/1.2.840.113619.2.374.2807.1582298.15459.1613718409.833_RAB_CRANE_20210312140711_7 (512x512x272x1)\n",
      "221125-13:34:34,533 nipype.interface INFO:\n",
      "\t stdout 2022-11-25T13:34:34.533104:Conversion required 14.487654 seconds (8.436136 for core code).\n"
     ]
    },
    {
     "name": "stderr",
     "output_type": "stream",
     "text": [
      "mkdir: cannot create directory ‘/NAS/dumbo/protocoles/HAMSI/data_NIFTI/1.3.51.0.1.1.10.49.10.222.6598166.6598870’: File exists\n"
     ]
    },
    {
     "name": "stdout",
     "output_type": "stream",
     "text": [
      "221125-13:34:40,245 nipype.interface INFO:\n",
      "\t stdout 2022-11-25T13:34:40.245445:Chris Rorden's dcm2niiX version v1.0.20211006  (JP2:OpenJPEG) GCC9.3.0 x86-64 (64-bit Linux)\n",
      "221125-13:34:40,246 nipype.interface INFO:\n",
      "\t stdout 2022-11-25T13:34:40.245445:Found 272 DICOM file(s)\n",
      "221125-13:34:40,246 nipype.interface INFO:\n",
      "\t stdout 2022-11-25T13:34:40.245445:Resolved discrepancy between tags (0020,1002; 0021,104F; 0054,0081)\n",
      "221125-13:34:40,247 nipype.interface INFO:\n",
      "\t stdout 2022-11-25T13:34:40.245445:Convert 272 DICOM as /NAS/dumbo/protocoles/HAMSI/data_NIFTI/1.3.51.0.1.1.10.49.10.222.6598166.6598870/1.2.840.113619.2.374.2807.1582298.15459.1613718409.834_RAB_CRANE_20210312140711_8 (512x512x272x1)\n",
      "221125-13:34:49,323 nipype.interface INFO:\n",
      "\t stdout 2022-11-25T13:34:49.323585:Conversion required 14.592081 seconds (8.900949 for core code).\n"
     ]
    },
    {
     "name": "stderr",
     "output_type": "stream",
     "text": [
      "mkdir: cannot create directory ‘/NAS/dumbo/protocoles/HAMSI/data_NIFTI/1.3.51.0.1.1.10.49.10.222.7482133.7483333’: File exists\n"
     ]
    },
    {
     "name": "stdout",
     "output_type": "stream",
     "text": [
      "221125-13:34:54,37 nipype.interface INFO:\n",
      "\t stdout 2022-11-25T13:34:54.037465:Chris Rorden's dcm2niiX version v1.0.20211006  (JP2:OpenJPEG) GCC9.3.0 x86-64 (64-bit Linux)\n",
      "221125-13:34:54,38 nipype.interface INFO:\n",
      "\t stdout 2022-11-25T13:34:54.037465:Found 272 DICOM file(s)\n",
      "221125-13:34:54,39 nipype.interface INFO:\n",
      "\t stdout 2022-11-25T13:34:54.037465:Resolved discrepancy between tags (0020,1002; 0021,104F; 0054,0081)\n",
      "221125-13:34:54,40 nipype.interface INFO:\n",
      "\t stdout 2022-11-25T13:34:54.037465:Convert 272 DICOM as /NAS/dumbo/protocoles/HAMSI/data_NIFTI/1.3.51.0.1.1.10.49.10.222.7482133.7483333/1.2.840.113619.2.374.2807.1582298.17611.1661341682.185_201_-_Crane_Standard_20220902160541_8 (512x512x272x1)\n",
      "221125-13:35:03,286 nipype.interface INFO:\n",
      "\t stdout 2022-11-25T13:35:03.286222:Conversion required 13.590685 seconds (9.013501 for core code).\n"
     ]
    },
    {
     "name": "stderr",
     "output_type": "stream",
     "text": [
      "mkdir: cannot create directory ‘/NAS/dumbo/protocoles/HAMSI/data_NIFTI/1.3.51.0.1.1.10.49.10.222.6580349.6581031’: File exists\n"
     ]
    },
    {
     "name": "stdout",
     "output_type": "stream",
     "text": [
      "221125-13:35:10,924 nipype.interface INFO:\n",
      "\t stdout 2022-11-25T13:35:10.924092:Chris Rorden's dcm2niiX version v1.0.20211006  (JP2:OpenJPEG) GCC9.3.0 x86-64 (64-bit Linux)\n",
      "221125-13:35:10,924 nipype.interface INFO:\n",
      "\t stdout 2022-11-25T13:35:10.924092:Found 272 DICOM file(s)\n",
      "221125-13:35:10,925 nipype.interface INFO:\n",
      "\t stdout 2022-11-25T13:35:10.924092:Resolved discrepancy between tags (0020,1002; 0021,104F; 0054,0081)\n",
      "221125-13:35:10,926 nipype.interface INFO:\n",
      "\t stdout 2022-11-25T13:35:10.924092:Convert 272 DICOM as /NAS/dumbo/protocoles/HAMSI/data_NIFTI/1.3.51.0.1.1.10.49.10.222.6580349.6581031/1.2.840.113619.2.374.2807.1582298.15459.1613718409.183_201_-_Crane_Standard_20210302144459_11 (512x512x272x1)\n",
      "221125-13:35:20,307 nipype.interface INFO:\n",
      "\t stdout 2022-11-25T13:35:20.307205:Conversion required 16.805634 seconds (9.205210 for core code).\n",
      "221125-13:35:26,39 nipype.interface INFO:\n",
      "\t stdout 2022-11-25T13:35:26.039687:Chris Rorden's dcm2niiX version v1.0.20211006  (JP2:OpenJPEG) GCC9.3.0 x86-64 (64-bit Linux)\n",
      "221125-13:35:26,40 nipype.interface INFO:\n",
      "\t stdout 2022-11-25T13:35:26.039687:Found 272 DICOM file(s)\n",
      "221125-13:35:26,41 nipype.interface INFO:\n",
      "\t stdout 2022-11-25T13:35:26.039687:Resolved discrepancy between tags (0020,1002; 0021,104F; 0054,0081)\n",
      "221125-13:35:26,41 nipype.interface INFO:\n",
      "\t stdout 2022-11-25T13:35:26.039687:Convert 272 DICOM as /NAS/dumbo/protocoles/HAMSI/data_NIFTI/1.3.51.0.1.1.10.49.10.222.6088422.6088846/1.2.840.113619.2.374.2807.1582298.14971.1587731204.312_201_-_Crane_Standard_20200428141729_6 (512x512x272x1)\n",
      "221125-13:35:35,651 nipype.interface INFO:\n",
      "\t stdout 2022-11-25T13:35:35.651836:Conversion required 15.084075 seconds (9.406113 for core code).\n"
     ]
    },
    {
     "name": "stderr",
     "output_type": "stream",
     "text": [
      "mkdir: cannot create directory ‘/NAS/dumbo/protocoles/HAMSI/data_NIFTI/1.3.51.0.1.1.10.49.10.222.6448963.6449557’: File exists\n"
     ]
    },
    {
     "name": "stdout",
     "output_type": "stream",
     "text": [
      "221125-13:35:45,92 nipype.interface INFO:\n",
      "\t stdout 2022-11-25T13:35:45.092550:Chris Rorden's dcm2niiX version v1.0.20211006  (JP2:OpenJPEG) GCC9.3.0 x86-64 (64-bit Linux)\n",
      "221125-13:35:45,93 nipype.interface INFO:\n",
      "\t stdout 2022-11-25T13:35:45.092550:Found 272 DICOM file(s)\n",
      "221125-13:35:45,94 nipype.interface INFO:\n",
      "\t stdout 2022-11-25T13:35:45.092550:Resolved discrepancy between tags (0020,1002; 0021,104F; 0054,0081)\n",
      "221125-13:35:45,94 nipype.interface INFO:\n",
      "\t stdout 2022-11-25T13:35:45.092550:Convert 272 DICOM as /NAS/dumbo/protocoles/HAMSI/data_NIFTI/1.3.51.0.1.1.10.49.10.222.6448963.6449557/1.2.840.113619.2.374.2807.1582298.15598.1607930102.40_201_-_Crane_Standard_20201214144403_7 (512x512x272x1)\n",
      "221125-13:35:54,995 nipype.interface INFO:\n",
      "\t stdout 2022-11-25T13:35:54.995573:Conversion required 19.136822 seconds (9.752084 for core code).\n"
     ]
    },
    {
     "name": "stderr",
     "output_type": "stream",
     "text": [
      "mkdir: cannot create directory ‘/NAS/dumbo/protocoles/HAMSI/data_NIFTI/1.3.51.0.1.1.10.49.10.222.6518808.6519461’: File exists\n"
     ]
    },
    {
     "name": "stdout",
     "output_type": "stream",
     "text": [
      "221125-13:36:01,813 nipype.interface INFO:\n",
      "\t stdout 2022-11-25T13:36:01.813034:Chris Rorden's dcm2niiX version v1.0.20211006  (JP2:OpenJPEG) GCC9.3.0 x86-64 (64-bit Linux)\n",
      "221125-13:36:01,813 nipype.interface INFO:\n",
      "\t stdout 2022-11-25T13:36:01.813034:Found 272 DICOM file(s)\n",
      "221125-13:36:01,814 nipype.interface INFO:\n",
      "\t stdout 2022-11-25T13:36:01.813034:Resolved discrepancy between tags (0020,1002; 0021,104F; 0054,0081)\n",
      "221125-13:36:01,814 nipype.interface INFO:\n",
      "\t stdout 2022-11-25T13:36:01.813034:Convert 272 DICOM as /NAS/dumbo/protocoles/HAMSI/data_NIFTI/1.3.51.0.1.1.10.49.10.222.6518808.6519461/1.2.840.113619.2.374.2807.1582298.15541.1611325033.233_BRANLOMAN_20210126153955_8 (512x512x272x1)\n",
      "221125-13:36:11,424 nipype.interface INFO:\n",
      "\t stdout 2022-11-25T13:36:11.424946:Conversion required 16.214577 seconds (9.434173 for core code).\n"
     ]
    },
    {
     "name": "stderr",
     "output_type": "stream",
     "text": [
      "mkdir: cannot create directory ‘/NAS/dumbo/protocoles/HAMSI/data_NIFTI/1.3.51.0.1.1.10.49.10.222.7042891.7043867’: File exists\n"
     ]
    },
    {
     "name": "stdout",
     "output_type": "stream",
     "text": [
      "221125-13:36:17,576 nipype.interface INFO:\n",
      "\t stdout 2022-11-25T13:36:17.576308:Chris Rorden's dcm2niiX version v1.0.20211006  (JP2:OpenJPEG) GCC9.3.0 x86-64 (64-bit Linux)\n",
      "221125-13:36:17,577 nipype.interface INFO:\n",
      "\t stdout 2022-11-25T13:36:17.576308:Found 272 DICOM file(s)\n",
      "221125-13:36:17,577 nipype.interface INFO:\n",
      "\t stdout 2022-11-25T13:36:17.576308:Resolved discrepancy between tags (0020,1002; 0021,104F; 0054,0081)\n",
      "221125-13:36:17,578 nipype.interface INFO:\n",
      "\t stdout 2022-11-25T13:36:17.576308:Convert 272 DICOM as /NAS/dumbo/protocoles/HAMSI/data_NIFTI/1.3.51.0.1.1.10.49.10.222.7042891.7043867/1.2.840.113619.2.374.2807.1582298.15164.1639410474.240_201_-_Crane_Standard_20211228084558_8 (512x512x272x1)\n",
      "221125-13:36:26,733 nipype.interface INFO:\n",
      "\t stdout 2022-11-25T13:36:26.733083:Conversion required 15.108288 seconds (8.951323 for core code).\n",
      "221125-13:36:32,51 nipype.interface INFO:\n",
      "\t stdout 2022-11-25T13:36:32.051510:Chris Rorden's dcm2niiX version v1.0.20211006  (JP2:OpenJPEG) GCC9.3.0 x86-64 (64-bit Linux)\n",
      "221125-13:36:32,52 nipype.interface INFO:\n",
      "\t stdout 2022-11-25T13:36:32.051510:Found 272 DICOM file(s)\n",
      "221125-13:36:32,53 nipype.interface INFO:\n",
      "\t stdout 2022-11-25T13:36:32.051510:Resolved discrepancy between tags (0020,1002; 0021,104F; 0054,0081)\n",
      "221125-13:36:32,53 nipype.interface INFO:\n",
      "\t stdout 2022-11-25T13:36:32.051510:Convert 272 DICOM as /NAS/dumbo/protocoles/HAMSI/data_NIFTI/1.3.51.0.1.1.10.49.10.222.6810840.6811677/1.2.840.113619.2.374.2807.1582298.17961.1626070427.925_201_-_Crane_Standard_20210716114700_7 (512x512x272x1)\n",
      "221125-13:36:41,424 nipype.interface INFO:\n",
      "\t stdout 2022-11-25T13:36:41.423961:Conversion required 14.493090 seconds (9.137096 for core code).\n"
     ]
    },
    {
     "name": "stderr",
     "output_type": "stream",
     "text": [
      "mkdir: cannot create directory ‘/NAS/dumbo/protocoles/HAMSI/data_NIFTI/1.3.51.0.1.1.10.49.10.222.6639037.6639757’: File exists\n"
     ]
    },
    {
     "name": "stdout",
     "output_type": "stream",
     "text": [
      "221125-13:36:48,261 nipype.interface INFO:\n",
      "\t stdout 2022-11-25T13:36:48.260881:Chris Rorden's dcm2niiX version v1.0.20211006  (JP2:OpenJPEG) GCC9.3.0 x86-64 (64-bit Linux)\n",
      "221125-13:36:48,262 nipype.interface INFO:\n",
      "\t stdout 2022-11-25T13:36:48.260881:Found 272 DICOM file(s)\n",
      "221125-13:36:48,262 nipype.interface INFO:\n",
      "\t stdout 2022-11-25T13:36:48.260881:Resolved discrepancy between tags (0020,1002; 0021,104F; 0054,0081)\n",
      "221125-13:36:48,263 nipype.interface INFO:\n",
      "\t stdout 2022-11-25T13:36:48.260881:Convert 272 DICOM as /NAS/dumbo/protocoles/HAMSI/data_NIFTI/1.3.51.0.1.1.10.49.10.222.6639037.6639757/1.2.840.113619.2.374.2807.1582298.15069.1616601327.253_201_-_Crane_Standard_20210406123530_9 (512x512x272x1)\n",
      "221125-13:36:57,361 nipype.interface INFO:\n",
      "\t stdout 2022-11-25T13:36:57.361120:Conversion required 15.730653 seconds (8.854881 for core code).\n"
     ]
    },
    {
     "name": "stderr",
     "output_type": "stream",
     "text": [
      "mkdir: cannot create directory ‘/NAS/dumbo/protocoles/HAMSI/data_NIFTI/1.3.51.0.1.1.10.49.10.222.7282017.7283133’: File exists\n"
     ]
    },
    {
     "name": "stdout",
     "output_type": "stream",
     "text": [
      "221125-13:37:03,874 nipype.interface INFO:\n",
      "\t stdout 2022-11-25T13:37:03.873945:Chris Rorden's dcm2niiX version v1.0.20211006  (JP2:OpenJPEG) GCC9.3.0 x86-64 (64-bit Linux)\n",
      "221125-13:37:03,874 nipype.interface INFO:\n",
      "\t stdout 2022-11-25T13:37:03.873945:Found 272 DICOM file(s)\n",
      "221125-13:37:03,875 nipype.interface INFO:\n",
      "\t stdout 2022-11-25T13:37:03.873945:Resolved discrepancy between tags (0020,1002; 0021,104F; 0054,0081)\n",
      "221125-13:37:03,875 nipype.interface INFO:\n",
      "\t stdout 2022-11-25T13:37:03.873945:Convert 272 DICOM as /NAS/dumbo/protocoles/HAMSI/data_NIFTI/1.3.51.0.1.1.10.49.10.222.7282017.7283133/1.2.840.113619.2.374.2807.1582298.15832.1651062618.729_RAB_CRANE_20220428155809_7 (512x512x272x1)\n",
      "221125-13:37:13,458 nipype.interface INFO:\n",
      "\t stdout 2022-11-25T13:37:13.458781:Conversion required 15.882986 seconds (9.395308 for core code).\n"
     ]
    },
    {
     "name": "stderr",
     "output_type": "stream",
     "text": [
      "mkdir: cannot create directory ‘/NAS/dumbo/protocoles/HAMSI/data_NIFTI/1.3.51.0.1.1.10.49.10.222.6060369.6060757’: File exists\n"
     ]
    },
    {
     "name": "stdout",
     "output_type": "stream",
     "text": [
      "221125-13:37:19,133 nipype.interface INFO:\n",
      "\t stdout 2022-11-25T13:37:19.133099:Chris Rorden's dcm2niiX version v1.0.20211006  (JP2:OpenJPEG) GCC9.3.0 x86-64 (64-bit Linux)\n",
      "221125-13:37:19,134 nipype.interface INFO:\n",
      "\t stdout 2022-11-25T13:37:19.133099:Found 272 DICOM file(s)\n",
      "221125-13:37:19,134 nipype.interface INFO:\n",
      "\t stdout 2022-11-25T13:37:19.133099:Resolved discrepancy between tags (0020,1002; 0021,104F; 0054,0081)\n",
      "221125-13:37:19,135 nipype.interface INFO:\n",
      "\t stdout 2022-11-25T13:37:19.133099:Convert 272 DICOM as /NAS/dumbo/protocoles/HAMSI/data_NIFTI/1.3.51.0.1.1.10.49.10.222.6060369.6060757/1.2.840.113619.2.374.2807.1582298.12773.1585551952.762_201_-_Crane_Standard_20200401155726_10 (512x512x272x1)\n",
      "221125-13:37:28,932 nipype.interface INFO:\n",
      "\t stdout 2022-11-25T13:37:28.932935:Conversion required 15.270691 seconds (9.619851 for core code).\n"
     ]
    },
    {
     "name": "stderr",
     "output_type": "stream",
     "text": [
      "mkdir: cannot create directory ‘/NAS/dumbo/protocoles/HAMSI/data_NIFTI/1.3.51.0.1.1.10.49.10.222.6484438.6485082’: File exists\n"
     ]
    },
    {
     "name": "stdout",
     "output_type": "stream",
     "text": [
      "221125-13:37:36,163 nipype.interface INFO:\n",
      "\t stdout 2022-11-25T13:37:36.163697:Chris Rorden's dcm2niiX version v1.0.20211006  (JP2:OpenJPEG) GCC9.3.0 x86-64 (64-bit Linux)\n",
      "221125-13:37:36,164 nipype.interface INFO:\n",
      "\t stdout 2022-11-25T13:37:36.163697:Found 272 DICOM file(s)\n",
      "221125-13:37:36,165 nipype.interface INFO:\n",
      "\t stdout 2022-11-25T13:37:36.163697:Resolved discrepancy between tags (0020,1002; 0021,104F; 0054,0081)\n",
      "221125-13:37:36,165 nipype.interface INFO:\n",
      "\t stdout 2022-11-25T13:37:36.163697:Convert 272 DICOM as /NAS/dumbo/protocoles/HAMSI/data_NIFTI/1.3.51.0.1.1.10.49.10.222.6484438.6485082/1.2.840.113619.2.374.2807.1582298.16181.1610014508.707_201_-_Crane_Standard_20210107142057_9 (512x512x272x1)\n",
      "221125-13:37:45,189 nipype.interface INFO:\n",
      "\t stdout 2022-11-25T13:37:45.189728:Conversion required 16.059072 seconds (8.803628 for core code).\n"
     ]
    },
    {
     "name": "stderr",
     "output_type": "stream",
     "text": [
      "mkdir: cannot create directory ‘/NAS/dumbo/protocoles/HAMSI/data_NIFTI/1.3.51.0.1.1.10.49.10.222.7332734.7333867’: File exists\n"
     ]
    },
    {
     "name": "stdout",
     "output_type": "stream",
     "text": [
      "221125-13:37:51,176 nipype.interface INFO:\n",
      "\t stdout 2022-11-25T13:37:51.176474:Chris Rorden's dcm2niiX version v1.0.20211006  (JP2:OpenJPEG) GCC9.3.0 x86-64 (64-bit Linux)\n",
      "221125-13:37:51,177 nipype.interface INFO:\n",
      "\t stdout 2022-11-25T13:37:51.176474:Found 272 DICOM file(s)\n",
      "221125-13:37:51,177 nipype.interface INFO:\n",
      "\t stdout 2022-11-25T13:37:51.176474:Resolved discrepancy between tags (0020,1002; 0021,104F; 0054,0081)\n",
      "221125-13:37:51,178 nipype.interface INFO:\n",
      "\t stdout 2022-11-25T13:37:51.176474:Convert 272 DICOM as /NAS/dumbo/protocoles/HAMSI/data_NIFTI/1.3.51.0.1.1.10.49.10.222.7332734.7333867/1.2.840.113619.2.374.2807.1582298.15709.1652425840.956_201_-_Crane_Standard_20220530140139_7 (512x512x272x1)\n",
      "221125-13:38:00,433 nipype.interface INFO:\n",
      "\t stdout 2022-11-25T13:38:00.433722:Conversion required 15.045947 seconds (9.031978 for core code).\n"
     ]
    },
    {
     "name": "stderr",
     "output_type": "stream",
     "text": [
      "mkdir: cannot create directory ‘/NAS/dumbo/protocoles/HAMSI/data_NIFTI/1.3.51.0.1.1.10.49.10.222.6915789.6916702’: File exists\n"
     ]
    },
    {
     "name": "stdout",
     "output_type": "stream",
     "text": [
      "221125-13:38:08,464 nipype.interface INFO:\n",
      "\t stdout 2022-11-25T13:38:08.464270:Chris Rorden's dcm2niiX version v1.0.20211006  (JP2:OpenJPEG) GCC9.3.0 x86-64 (64-bit Linux)\n",
      "221125-13:38:08,465 nipype.interface INFO:\n",
      "\t stdout 2022-11-25T13:38:08.464270:Found 272 DICOM file(s)\n",
      "221125-13:38:08,465 nipype.interface INFO:\n",
      "\t stdout 2022-11-25T13:38:08.464270:Resolved discrepancy between tags (0020,1002; 0021,104F; 0054,0081)\n",
      "221125-13:38:08,465 nipype.interface INFO:\n",
      "\t stdout 2022-11-25T13:38:08.464270:Convert 272 DICOM as /NAS/dumbo/protocoles/HAMSI/data_NIFTI/1.3.51.0.1.1.10.49.10.222.6915789.6916702/1.2.840.113619.2.374.2807.1582298.17488.1632299265.545_201_-_Crane_Standard_20210922110257_9 (512x512x272x1)\n",
      "221125-13:38:18,352 nipype.interface INFO:\n",
      "\t stdout 2022-11-25T13:38:18.352602:Conversion required 17.474950 seconds (9.725152 for core code).\n"
     ]
    },
    {
     "name": "stderr",
     "output_type": "stream",
     "text": [
      "mkdir: cannot create directory ‘/NAS/dumbo/protocoles/HAMSI/data_NIFTI/1.3.51.0.1.1.10.49.10.222.6030639.6031008’: File exists\n"
     ]
    },
    {
     "name": "stdout",
     "output_type": "stream",
     "text": [
      "221125-13:38:26,625 nipype.interface INFO:\n",
      "\t stdout 2022-11-25T13:38:26.625492:Chris Rorden's dcm2niiX version v1.0.20211006  (JP2:OpenJPEG) GCC9.3.0 x86-64 (64-bit Linux)\n",
      "221125-13:38:26,626 nipype.interface INFO:\n",
      "\t stdout 2022-11-25T13:38:26.625492:Found 272 DICOM file(s)\n",
      "221125-13:38:26,626 nipype.interface INFO:\n",
      "\t stdout 2022-11-25T13:38:26.625492:Resolved discrepancy between tags (0020,1002; 0021,104F; 0054,0081)\n",
      "221125-13:38:26,627 nipype.interface INFO:\n",
      "\t stdout 2022-11-25T13:38:26.625492:Convert 272 DICOM as /NAS/dumbo/protocoles/HAMSI/data_NIFTI/1.3.51.0.1.1.10.49.10.222.6030639.6031008/1.2.840.113619.2.374.2807.1582298.16335.1582799564.311_201_-_Crane_Standard_20200309092034_7 (512x512x272x1)\n",
      "221125-13:38:36,54 nipype.interface INFO:\n",
      "\t stdout 2022-11-25T13:38:36.054480:Conversion required 17.495998 seconds (9.230464 for core code).\n"
     ]
    },
    {
     "name": "stderr",
     "output_type": "stream",
     "text": [
      "mkdir: cannot create directory ‘/NAS/dumbo/protocoles/HAMSI/data_NIFTI/1.3.51.0.1.1.10.49.10.222.5991543.5991902’: File exists\n"
     ]
    },
    {
     "name": "stdout",
     "output_type": "stream",
     "text": [
      "221125-13:38:42,784 nipype.interface INFO:\n",
      "\t stdout 2022-11-25T13:38:42.784794:Chris Rorden's dcm2niiX version v1.0.20211006  (JP2:OpenJPEG) GCC9.3.0 x86-64 (64-bit Linux)\n",
      "221125-13:38:42,785 nipype.interface INFO:\n",
      "\t stdout 2022-11-25T13:38:42.784794:Found 272 DICOM file(s)\n",
      "221125-13:38:42,786 nipype.interface INFO:\n",
      "\t stdout 2022-11-25T13:38:42.784794:Resolved discrepancy between tags (0020,1002; 0021,104F; 0054,0081)\n",
      "221125-13:38:42,786 nipype.interface INFO:\n",
      "\t stdout 2022-11-25T13:38:42.784794:Convert 272 DICOM as /NAS/dumbo/protocoles/HAMSI/data_NIFTI/1.3.51.0.1.1.10.49.10.222.5991543.5991902/1.2.840.113619.2.374.2807.1582298.15689.1581492481.130_201_-_Crane_Standard_20200214111102_8 (512x512x272x1)\n",
      "221125-13:38:51,889 nipype.interface INFO:\n",
      "\t stdout 2022-11-25T13:38:51.889208:Conversion required 15.639322 seconds (8.879734 for core code).\n"
     ]
    },
    {
     "name": "stderr",
     "output_type": "stream",
     "text": [
      "mkdir: cannot create directory ‘/NAS/dumbo/protocoles/HAMSI/data_NIFTI/1.3.51.0.1.1.10.49.10.222.7346223.7347368’: File exists\n"
     ]
    },
    {
     "name": "stdout",
     "output_type": "stream",
     "text": [
      "221125-13:38:56,303 nipype.interface INFO:\n",
      "\t stdout 2022-11-25T13:38:56.303514:Chris Rorden's dcm2niiX version v1.0.20211006  (JP2:OpenJPEG) GCC9.3.0 x86-64 (64-bit Linux)\n",
      "221125-13:38:56,304 nipype.interface INFO:\n",
      "\t stdout 2022-11-25T13:38:56.303514:Found 272 DICOM file(s)\n",
      "221125-13:38:56,304 nipype.interface INFO:\n",
      "\t stdout 2022-11-25T13:38:56.303514:Resolved discrepancy between tags (0020,1002; 0021,104F; 0054,0081)\n",
      "221125-13:38:56,305 nipype.interface INFO:\n",
      "\t stdout 2022-11-25T13:38:56.303514:Convert 272 DICOM as /NAS/dumbo/protocoles/HAMSI/data_NIFTI/1.3.51.0.1.1.10.49.10.222.7346223.7347368/1.2.840.113619.2.374.2807.1582298.16434.1654066143.358_201_-_Crane_Standard_20220608110111_8 (512x512x272x1)\n",
      "221125-13:39:05,385 nipype.interface INFO:\n",
      "\t stdout 2022-11-25T13:39:05.385300:Conversion required 13.295390 seconds (8.840552 for core code).\n"
     ]
    },
    {
     "name": "stderr",
     "output_type": "stream",
     "text": [
      "mkdir: cannot create directory ‘/NAS/dumbo/protocoles/HAMSI/data_NIFTI/1.3.51.0.1.1.10.49.10.222.6690773.6691520’: File exists\n"
     ]
    },
    {
     "name": "stdout",
     "output_type": "stream",
     "text": [
      "221125-13:39:13,503 nipype.interface INFO:\n",
      "\t stdout 2022-11-25T13:39:13.503776:Chris Rorden's dcm2niiX version v1.0.20211006  (JP2:OpenJPEG) GCC9.3.0 x86-64 (64-bit Linux)\n",
      "221125-13:39:13,504 nipype.interface INFO:\n",
      "\t stdout 2022-11-25T13:39:13.503776:Found 272 DICOM file(s)\n",
      "221125-13:39:13,504 nipype.interface INFO:\n",
      "\t stdout 2022-11-25T13:39:13.503776:Resolved discrepancy between tags (0020,1002; 0021,104F; 0054,0081)\n",
      "221125-13:39:13,505 nipype.interface INFO:\n",
      "\t stdout 2022-11-25T13:39:13.503776:Convert 272 DICOM as /NAS/dumbo/protocoles/HAMSI/data_NIFTI/1.3.51.0.1.1.10.49.10.222.6690773.6691520/1.2.840.113619.2.374.2807.1582298.16411.1620022306.290_201_-_Crane_Standard_20210505133813_9 (512x512x272x1)\n",
      "221125-13:39:22,618 nipype.interface INFO:\n",
      "\t stdout 2022-11-25T13:39:22.618093:Conversion required 17.027488 seconds (8.862777 for core code).\n"
     ]
    },
    {
     "name": "stderr",
     "output_type": "stream",
     "text": [
      "mkdir: cannot create directory ‘/NAS/dumbo/protocoles/HAMSI/data_NIFTI/1.3.51.0.1.1.10.49.10.222.6317479.6318011’: File exists\n"
     ]
    },
    {
     "name": "stdout",
     "output_type": "stream",
     "text": [
      "221125-13:39:29,336 nipype.interface INFO:\n",
      "\t stdout 2022-11-25T13:39:29.336049:Chris Rorden's dcm2niiX version v1.0.20211006  (JP2:OpenJPEG) GCC9.3.0 x86-64 (64-bit Linux)\n",
      "221125-13:39:29,336 nipype.interface INFO:\n",
      "\t stdout 2022-11-25T13:39:29.336049:Found 280 DICOM file(s)\n",
      "221125-13:39:29,337 nipype.interface INFO:\n",
      "\t stdout 2022-11-25T13:39:29.336049:Resolved discrepancy between tags (0020,1002; 0021,104F; 0054,0081)\n",
      "221125-13:39:29,337 nipype.interface INFO:\n",
      "\t stdout 2022-11-25T13:39:29.336049:Convert 280 DICOM as /NAS/dumbo/protocoles/HAMSI/data_NIFTI/1.3.51.0.1.1.10.49.10.222.6317479.6318011/1.2.840.113619.2.374.2807.1582298.14776.1601015168.674_201_-_Crane_Standard_20200925150724_7 (512x512x280x1)\n",
      "221125-13:39:38,10 nipype.interface INFO:\n",
      "\t stdout 2022-11-25T13:39:38.010812:Conversion required 15.182148 seconds (8.393811 for core code).\n"
     ]
    },
    {
     "name": "stderr",
     "output_type": "stream",
     "text": [
      "mkdir: cannot create directory ‘/NAS/dumbo/protocoles/HAMSI/data_NIFTI/1.3.51.0.1.1.10.49.10.222.6807163.6807995’: File exists\n"
     ]
    },
    {
     "name": "stdout",
     "output_type": "stream",
     "text": [
      "221125-13:39:45,128 nipype.interface INFO:\n",
      "\t stdout 2022-11-25T13:39:45.128691:Chris Rorden's dcm2niiX version v1.0.20211006  (JP2:OpenJPEG) GCC9.3.0 x86-64 (64-bit Linux)\n",
      "221125-13:39:45,129 nipype.interface INFO:\n",
      "\t stdout 2022-11-25T13:39:45.128691:Found 272 DICOM file(s)\n",
      "221125-13:39:45,130 nipype.interface INFO:\n",
      "\t stdout 2022-11-25T13:39:45.128691:Resolved discrepancy between tags (0020,1002; 0021,104F; 0054,0081)\n",
      "221125-13:39:45,130 nipype.interface INFO:\n",
      "\t stdout 2022-11-25T13:39:45.128691:Convert 272 DICOM as /NAS/dumbo/protocoles/HAMSI/data_NIFTI/1.3.51.0.1.1.10.49.10.222.6807163.6807995/1.2.840.113619.2.374.2807.1582298.17961.1626070427.794_201_-_Crane_Standard_20210713155333_8 (512x512x272x1)\n",
      "221125-13:39:53,932 nipype.interface INFO:\n",
      "\t stdout 2022-11-25T13:39:53.932230:Conversion required 15.717001 seconds (8.540137 for core code).\n"
     ]
    },
    {
     "name": "stderr",
     "output_type": "stream",
     "text": [
      "mkdir: cannot create directory ‘/NAS/dumbo/protocoles/HAMSI/data_NIFTI/1.3.51.0.1.1.10.49.10.222.6073605.6074012’: File exists\n"
     ]
    },
    {
     "name": "stdout",
     "output_type": "stream",
     "text": [
      "221125-13:40:01,199 nipype.interface INFO:\n",
      "\t stdout 2022-11-25T13:40:01.199498:Chris Rorden's dcm2niiX version v1.0.20211006  (JP2:OpenJPEG) GCC9.3.0 x86-64 (64-bit Linux)\n",
      "221125-13:40:01,200 nipype.interface INFO:\n",
      "\t stdout 2022-11-25T13:40:01.199498:Found 272 DICOM file(s)\n",
      "221125-13:40:01,200 nipype.interface INFO:\n",
      "\t stdout 2022-11-25T13:40:01.199498:Resolved discrepancy between tags (0020,1002; 0021,104F; 0054,0081)\n",
      "221125-13:40:01,201 nipype.interface INFO:\n",
      "\t stdout 2022-11-25T13:40:01.199498:Convert 272 DICOM as /NAS/dumbo/protocoles/HAMSI/data_NIFTI/1.3.51.0.1.1.10.49.10.222.6073605.6074012/1.2.840.113619.2.374.2807.1582298.13478.1586845539.819_201_-_Crane_Standard_20200415113027_9 (512x512x272x1)\n",
      "221125-13:40:10,577 nipype.interface INFO:\n",
      "\t stdout 2022-11-25T13:40:10.577534:Conversion required 16.450837 seconds (9.198468 for core code).\n"
     ]
    },
    {
     "name": "stderr",
     "output_type": "stream",
     "text": [
      "mkdir: cannot create directory ‘/NAS/dumbo/protocoles/HAMSI/data_NIFTI/1.3.51.0.1.1.10.49.10.222.6264976.6265492’: File exists\n"
     ]
    },
    {
     "name": "stdout",
     "output_type": "stream",
     "text": [
      "221125-13:40:17,944 nipype.interface INFO:\n",
      "\t stdout 2022-11-25T13:40:17.944787:Chris Rorden's dcm2niiX version v1.0.20211006  (JP2:OpenJPEG) GCC9.3.0 x86-64 (64-bit Linux)\n",
      "221125-13:40:17,945 nipype.interface INFO:\n",
      "\t stdout 2022-11-25T13:40:17.944787:Found 272 DICOM file(s)\n",
      "221125-13:40:17,945 nipype.interface INFO:\n",
      "\t stdout 2022-11-25T13:40:17.944787:Resolved discrepancy between tags (0020,1002; 0021,104F; 0054,0081)\n",
      "221125-13:40:17,946 nipype.interface INFO:\n",
      "\t stdout 2022-11-25T13:40:17.944787:Convert 272 DICOM as /NAS/dumbo/protocoles/HAMSI/data_NIFTI/1.3.51.0.1.1.10.49.10.222.6264976.6265492/1.2.840.113619.2.374.2807.1582298.14795.1598254154.34_201_-_Crane_Standard_20200825150359_7 (512x512x272x1)\n",
      "221125-13:40:26,976 nipype.interface INFO:\n",
      "\t stdout 2022-11-25T13:40:26.976363:Conversion required 16.194616 seconds (8.788861 for core code).\n"
     ]
    },
    {
     "name": "stderr",
     "output_type": "stream",
     "text": [
      "mkdir: cannot create directory ‘/NAS/dumbo/protocoles/HAMSI/data_NIFTI/1.3.51.0.1.1.10.49.10.222.7341570.7342712’: File exists\n"
     ]
    },
    {
     "name": "stdout",
     "output_type": "stream",
     "text": [
      "221125-13:40:32,318 nipype.interface INFO:\n",
      "\t stdout 2022-11-25T13:40:32.318241:Chris Rorden's dcm2niiX version v1.0.20211006  (JP2:OpenJPEG) GCC9.3.0 x86-64 (64-bit Linux)\n",
      "221125-13:40:32,319 nipype.interface INFO:\n",
      "\t stdout 2022-11-25T13:40:32.318241:Found 272 DICOM file(s)\n",
      "221125-13:40:32,319 nipype.interface INFO:\n",
      "\t stdout 2022-11-25T13:40:32.318241:Resolved discrepancy between tags (0020,1002; 0021,104F; 0054,0081)\n",
      "221125-13:40:32,319 nipype.interface INFO:\n",
      "\t stdout 2022-11-25T13:40:32.318241:Convert 272 DICOM as /NAS/dumbo/protocoles/HAMSI/data_NIFTI/1.3.51.0.1.1.10.49.10.222.7341570.7342712/1.2.840.113619.2.374.2807.1582298.16434.1654066143.215_201_-_Crane_Standard_20220603154249_9 (512x512x272x1)\n",
      "221125-13:40:41,412 nipype.interface INFO:\n",
      "\t stdout 2022-11-25T13:40:41.412865:Conversion required 14.222830 seconds (8.850071 for core code).\n"
     ]
    },
    {
     "name": "stderr",
     "output_type": "stream",
     "text": [
      "mkdir: cannot create directory ‘/NAS/dumbo/protocoles/HAMSI/data_NIFTI/1.3.51.0.1.1.10.49.10.222.6851813.6852687’: File exists\n"
     ]
    },
    {
     "name": "stdout",
     "output_type": "stream",
     "text": [
      "221125-13:40:47,630 nipype.interface INFO:\n",
      "\t stdout 2022-11-25T13:40:47.630747:Chris Rorden's dcm2niiX version v1.0.20211006  (JP2:OpenJPEG) GCC9.3.0 x86-64 (64-bit Linux)\n",
      "221125-13:40:47,631 nipype.interface INFO:\n",
      "\t stdout 2022-11-25T13:40:47.630747:Found 272 DICOM file(s)\n",
      "221125-13:40:47,632 nipype.interface INFO:\n",
      "\t stdout 2022-11-25T13:40:47.630747:Resolved discrepancy between tags (0020,1002; 0021,104F; 0054,0081)\n",
      "221125-13:40:47,632 nipype.interface INFO:\n",
      "\t stdout 2022-11-25T13:40:47.630747:Convert 272 DICOM as /NAS/dumbo/protocoles/HAMSI/data_NIFTI/1.3.51.0.1.1.10.49.10.222.6851813.6852687/1.2.840.113619.2.374.2807.1582298.16306.1628497288.104_201_-_Crane_Standard_20210812135753_8 (512x512x272x1)\n",
      "221125-13:40:56,758 nipype.interface INFO:\n",
      "\t stdout 2022-11-25T13:40:56.758162:Conversion required 15.148569 seconds (8.934874 for core code).\n"
     ]
    },
    {
     "name": "stderr",
     "output_type": "stream",
     "text": [
      "mkdir: cannot create directory ‘/NAS/dumbo/protocoles/HAMSI/data_NIFTI/1.3.51.0.1.1.10.49.10.222.7365769.7366917’: File exists\n"
     ]
    },
    {
     "name": "stdout",
     "output_type": "stream",
     "text": [
      "221125-13:41:03,395 nipype.interface INFO:\n",
      "\t stdout 2022-11-25T13:41:03.395540:Chris Rorden's dcm2niiX version v1.0.20211006  (JP2:OpenJPEG) GCC9.3.0 x86-64 (64-bit Linux)\n",
      "221125-13:41:03,396 nipype.interface INFO:\n",
      "\t stdout 2022-11-25T13:41:03.395540:Found 272 DICOM file(s)\n",
      "221125-13:41:03,397 nipype.interface INFO:\n",
      "\t stdout 2022-11-25T13:41:03.395540:Resolved discrepancy between tags (0020,1002; 0021,104F; 0054,0081)\n",
      "221125-13:41:03,398 nipype.interface INFO:\n",
      "\t stdout 2022-11-25T13:41:03.395540:Convert 272 DICOM as /NAS/dumbo/protocoles/HAMSI/data_NIFTI/1.3.51.0.1.1.10.49.10.222.7365769.7366917/1.2.840.113619.2.374.2807.1582298.16099.1655707730.910_201_-_Controle_Post_Op_20220620112202_11 (512x512x272x1)\n",
      "221125-13:41:12,819 nipype.interface INFO:\n",
      "\t stdout 2022-11-25T13:41:12.819314:Conversion required 15.869978 seconds (9.225645 for core code).\n"
     ]
    },
    {
     "name": "stderr",
     "output_type": "stream",
     "text": [
      "mkdir: cannot create directory ‘/NAS/dumbo/protocoles/HAMSI/data_NIFTI/1.3.51.0.1.1.10.49.10.222.7425979.7427159’: File exists\n"
     ]
    },
    {
     "name": "stdout",
     "output_type": "stream",
     "text": [
      "221125-13:41:20,534 nipype.interface INFO:\n",
      "\t stdout 2022-11-25T13:41:20.534560:Chris Rorden's dcm2niiX version v1.0.20211006  (JP2:OpenJPEG) GCC9.3.0 x86-64 (64-bit Linux)\n",
      "221125-13:41:20,535 nipype.interface INFO:\n",
      "\t stdout 2022-11-25T13:41:20.534560:Found 272 DICOM file(s)\n",
      "221125-13:41:20,535 nipype.interface INFO:\n",
      "\t stdout 2022-11-25T13:41:20.534560:Resolved discrepancy between tags (0020,1002; 0021,104F; 0054,0081)\n",
      "221125-13:41:20,536 nipype.interface INFO:\n",
      "\t stdout 2022-11-25T13:41:20.534560:Convert 272 DICOM as /NAS/dumbo/protocoles/HAMSI/data_NIFTI/1.3.51.0.1.1.10.49.10.222.7425979.7427159/1.2.840.113619.2.374.2807.1582298.16401.1658905095.352_201_-_Crane_Standard_20220727102412_8 (512x512x272x1)\n",
      "221125-13:41:30,54 nipype.interface INFO:\n",
      "\t stdout 2022-11-25T13:41:30.054198:Conversion required 17.031556 seconds (9.324459 for core code).\n"
     ]
    },
    {
     "name": "stderr",
     "output_type": "stream",
     "text": [
      "mkdir: cannot create directory ‘/NAS/dumbo/protocoles/HAMSI/data_NIFTI/1.3.51.0.1.1.10.49.10.222.6332023.6332562’: File exists\n"
     ]
    },
    {
     "name": "stdout",
     "output_type": "stream",
     "text": [
      "221125-13:41:37,48 nipype.interface INFO:\n",
      "\t stdout 2022-11-25T13:41:37.048179:Chris Rorden's dcm2niiX version v1.0.20211006  (JP2:OpenJPEG) GCC9.3.0 x86-64 (64-bit Linux)\n",
      "221125-13:41:37,49 nipype.interface INFO:\n",
      "\t stdout 2022-11-25T13:41:37.048179:Found 272 DICOM file(s)\n",
      "221125-13:41:37,49 nipype.interface INFO:\n",
      "\t stdout 2022-11-25T13:41:37.048179:Resolved discrepancy between tags (0020,1002; 0021,104F; 0054,0081)\n",
      "221125-13:41:37,50 nipype.interface INFO:\n",
      "\t stdout 2022-11-25T13:41:37.048179:Convert 272 DICOM as /NAS/dumbo/protocoles/HAMSI/data_NIFTI/1.3.51.0.1.1.10.49.10.222.6332023.6332562/1.2.840.113619.2.374.2807.1582298.14803.1601878343.312_201_-_Crane_Standard_20201005144344_8 (512x512x272x1)\n",
      "221125-13:41:46,568 nipype.interface INFO:\n",
      "\t stdout 2022-11-25T13:41:46.568783:Conversion required 16.305836 seconds (9.357325 for core code).\n"
     ]
    },
    {
     "name": "stderr",
     "output_type": "stream",
     "text": [
      "mkdir: cannot create directory ‘/NAS/dumbo/protocoles/HAMSI/data_NIFTI/1.3.51.0.1.1.10.49.10.222.7191997.7193077’: File exists\n"
     ]
    },
    {
     "name": "stdout",
     "output_type": "stream",
     "text": [
      "221125-13:41:55,569 nipype.interface INFO:\n",
      "\t stdout 2022-11-25T13:41:55.569084:Chris Rorden's dcm2niiX version v1.0.20211006  (JP2:OpenJPEG) GCC9.3.0 x86-64 (64-bit Linux)\n",
      "221125-13:41:55,570 nipype.interface INFO:\n",
      "\t stdout 2022-11-25T13:41:55.569084:Found 272 DICOM file(s)\n",
      "221125-13:41:55,570 nipype.interface INFO:\n",
      "\t stdout 2022-11-25T13:41:55.569084:Resolved discrepancy between tags (0020,1002; 0021,104F; 0054,0081)\n",
      "221125-13:41:55,570 nipype.interface INFO:\n",
      "\t stdout 2022-11-25T13:41:55.569084:Convert 272 DICOM as /NAS/dumbo/protocoles/HAMSI/data_NIFTI/1.3.51.0.1.1.10.49.10.222.7191997.7193077/1.2.840.113619.2.374.2807.1582298.15861.1645603805.17_201_-_Crane_Standard_20220307141029_7 (512x512x272x1)\n",
      "221125-13:42:04,499 nipype.interface INFO:\n",
      "\t stdout 2022-11-25T13:42:04.499943:Conversion required 17.735495 seconds (8.711764 for core code).\n"
     ]
    },
    {
     "name": "stderr",
     "output_type": "stream",
     "text": [
      "mkdir: cannot create directory ‘/NAS/dumbo/protocoles/HAMSI/data_NIFTI/1.3.51.0.1.1.10.49.10.222.6991654.6992605’: File exists\n"
     ]
    },
    {
     "name": "stdout",
     "output_type": "stream",
     "text": [
      "221125-13:42:10,959 nipype.interface INFO:\n",
      "\t stdout 2022-11-25T13:42:10.958960:Chris Rorden's dcm2niiX version v1.0.20211006  (JP2:OpenJPEG) GCC9.3.0 x86-64 (64-bit Linux)\n",
      "221125-13:42:10,959 nipype.interface INFO:\n",
      "\t stdout 2022-11-25T13:42:10.958960:Found 272 DICOM file(s)\n",
      "221125-13:42:10,960 nipype.interface INFO:\n",
      "\t stdout 2022-11-25T13:42:10.958960:Resolved discrepancy between tags (0020,1002; 0021,104F; 0054,0081)\n",
      "221125-13:42:10,960 nipype.interface INFO:\n",
      "\t stdout 2022-11-25T13:42:10.958960:Convert 272 DICOM as /NAS/dumbo/protocoles/HAMSI/data_NIFTI/1.3.51.0.1.1.10.49.10.222.6991654.6992605/1.2.840.113619.2.374.2807.1582298.14598.1635400997.274_RAB_CRANE_20211105123539_8 (512x512x272x1)\n",
      "221125-13:42:20,26 nipype.interface INFO:\n",
      "\t stdout 2022-11-25T13:42:20.026469:Conversion required 15.331354 seconds (8.778994 for core code).\n"
     ]
    },
    {
     "name": "stderr",
     "output_type": "stream",
     "text": [
      "mkdir: cannot create directory ‘/NAS/dumbo/protocoles/HAMSI/data_NIFTI/1.3.51.0.1.1.10.49.10.222.6377606.6378162’: File exists\n"
     ]
    },
    {
     "name": "stdout",
     "output_type": "stream",
     "text": [
      "221125-13:42:27,123 nipype.interface INFO:\n",
      "\t stdout 2022-11-25T13:42:27.123651:Chris Rorden's dcm2niiX version v1.0.20211006  (JP2:OpenJPEG) GCC9.3.0 x86-64 (64-bit Linux)\n",
      "221125-13:42:27,124 nipype.interface INFO:\n",
      "\t stdout 2022-11-25T13:42:27.123651:Found 272 DICOM file(s)\n",
      "221125-13:42:27,125 nipype.interface INFO:\n",
      "\t stdout 2022-11-25T13:42:27.123651:Resolved discrepancy between tags (0020,1002; 0021,104F; 0054,0081)\n",
      "221125-13:42:27,125 nipype.interface INFO:\n",
      "\t stdout 2022-11-25T13:42:27.123651:Convert 272 DICOM as /NAS/dumbo/protocoles/HAMSI/data_NIFTI/1.3.51.0.1.1.10.49.10.222.6377606.6378162/1.2.840.113619.2.374.2807.1582298.14674.1604305833.362_201_-_Crane_Standard_20201102132931_8 (512x512x272x1)\n",
      "221125-13:42:36,298 nipype.interface INFO:\n",
      "\t stdout 2022-11-25T13:42:36.298402:Conversion required 16.073968 seconds (8.955663 for core code).\n"
     ]
    },
    {
     "name": "stderr",
     "output_type": "stream",
     "text": [
      "mkdir: cannot create directory ‘/NAS/dumbo/protocoles/HAMSI/data_NIFTI/1.3.51.0.1.1.10.49.10.222.6301149.6301676’: File exists\n"
     ]
    },
    {
     "name": "stdout",
     "output_type": "stream",
     "text": [
      "221125-13:42:43,371 nipype.interface INFO:\n",
      "\t stdout 2022-11-25T13:42:43.371881:Chris Rorden's dcm2niiX version v1.0.20211006  (JP2:OpenJPEG) GCC9.3.0 x86-64 (64-bit Linux)\n",
      "221125-13:42:43,372 nipype.interface INFO:\n",
      "\t stdout 2022-11-25T13:42:43.371881:Found 272 DICOM file(s)\n",
      "221125-13:42:43,373 nipype.interface INFO:\n",
      "\t stdout 2022-11-25T13:42:43.371881:Resolved discrepancy between tags (0020,1002; 0021,104F; 0054,0081)\n",
      "221125-13:42:43,373 nipype.interface INFO:\n",
      "\t stdout 2022-11-25T13:42:43.371881:Convert 272 DICOM as /NAS/dumbo/protocoles/HAMSI/data_NIFTI/1.3.51.0.1.1.10.49.10.222.6301149.6301676/1.2.840.113619.2.374.2807.1582298.14742.1600066238.545_201_-_Crane_Standard_20200916140432_8 (512x512x272x1)\n",
      "221125-13:42:52,571 nipype.interface INFO:\n",
      "\t stdout 2022-11-25T13:42:52.571215:Conversion required 16.053449 seconds (8.983883 for core code).\n"
     ]
    },
    {
     "name": "stderr",
     "output_type": "stream",
     "text": [
      "mkdir: cannot create directory ‘/NAS/dumbo/protocoles/HAMSI/data_NIFTI/1.3.51.0.1.1.10.49.10.222.7205832.7206915’: File exists\n"
     ]
    },
    {
     "name": "stdout",
     "output_type": "stream",
     "text": [
      "221125-13:42:59,939 nipype.interface INFO:\n",
      "\t stdout 2022-11-25T13:42:59.939237:Chris Rorden's dcm2niiX version v1.0.20211006  (JP2:OpenJPEG) GCC9.3.0 x86-64 (64-bit Linux)\n",
      "221125-13:42:59,940 nipype.interface INFO:\n",
      "\t stdout 2022-11-25T13:42:59.939237:Found 272 DICOM file(s)\n",
      "221125-13:42:59,940 nipype.interface INFO:\n",
      "\t stdout 2022-11-25T13:42:59.939237:Resolved discrepancy between tags (0020,1002; 0021,104F; 0054,0081)\n",
      "221125-13:42:59,941 nipype.interface INFO:\n",
      "\t stdout 2022-11-25T13:42:59.939237:Convert 272 DICOM as /NAS/dumbo/protocoles/HAMSI/data_NIFTI/1.3.51.0.1.1.10.49.10.222.7205832.7206915/1.2.840.113619.2.374.2807.1582298.15674.1646812308.100_201_-_Crane_Standard_20220315103500_7 (512x512x272x1)\n",
      "221125-13:43:09,900 nipype.interface INFO:\n",
      "\t stdout 2022-11-25T13:43:09.900952:Conversion required 17.135102 seconds (9.797952 for core code).\n"
     ]
    },
    {
     "name": "stderr",
     "output_type": "stream",
     "text": [
      "mkdir: cannot create directory ‘/NAS/dumbo/protocoles/HAMSI/data_NIFTI/1.3.51.0.1.1.10.49.10.222.7529105.7530349’: File exists\n"
     ]
    },
    {
     "name": "stdout",
     "output_type": "stream",
     "text": [
      "221125-13:43:18,277 nipype.interface INFO:\n",
      "\t stdout 2022-11-25T13:43:18.277484:Chris Rorden's dcm2niiX version v1.0.20211006  (JP2:OpenJPEG) GCC9.3.0 x86-64 (64-bit Linux)\n",
      "221125-13:43:18,278 nipype.interface INFO:\n",
      "\t stdout 2022-11-25T13:43:18.277484:Found 272 DICOM file(s)\n",
      "221125-13:43:18,278 nipype.interface INFO:\n",
      "\t stdout 2022-11-25T13:43:18.277484:Resolved discrepancy between tags (0020,1002; 0021,104F; 0054,0081)\n",
      "221125-13:43:18,279 nipype.interface INFO:\n",
      "\t stdout 2022-11-25T13:43:18.277484:Convert 272 DICOM as /NAS/dumbo/protocoles/HAMSI/data_NIFTI/1.3.51.0.1.1.10.49.10.222.7529105.7530349/1.2.840.113619.2.374.2807.1582298.17196.1664347683.748_RAB_CRANE_20220929153553_8 (512x512x272x1)\n",
      "221125-13:43:28,209 nipype.interface INFO:\n",
      "\t stdout 2022-11-25T13:43:28.209600:Conversion required 18.099190 seconds (9.759975 for core code).\n"
     ]
    },
    {
     "name": "stderr",
     "output_type": "stream",
     "text": [
      "mkdir: cannot create directory ‘/NAS/dumbo/protocoles/HAMSI/data_NIFTI/1.3.51.0.1.1.10.49.10.222.6298979.6299506’: File exists\n"
     ]
    },
    {
     "name": "stdout",
     "output_type": "stream",
     "text": [
      "221125-13:43:33,410 nipype.interface INFO:\n",
      "\t stdout 2022-11-25T13:43:33.410414:Chris Rorden's dcm2niiX version v1.0.20211006  (JP2:OpenJPEG) GCC9.3.0 x86-64 (64-bit Linux)\n",
      "221125-13:43:33,411 nipype.interface INFO:\n",
      "\t stdout 2022-11-25T13:43:33.410414:Found 272 DICOM file(s)\n",
      "221125-13:43:33,412 nipype.interface INFO:\n",
      "\t stdout 2022-11-25T13:43:33.410414:Resolved discrepancy between tags (0020,1002; 0021,104F; 0054,0081)\n",
      "221125-13:43:33,412 nipype.interface INFO:\n",
      "\t stdout 2022-11-25T13:43:33.410414:Convert 272 DICOM as /NAS/dumbo/protocoles/HAMSI/data_NIFTI/1.3.51.0.1.1.10.49.10.222.6298979.6299506/1.2.840.113619.2.374.2807.1582298.14742.1600066238.412_201_-_Crane_Standard_20200915140238_8 (512x512x272x1)\n",
      "221125-13:43:43,147 nipype.interface INFO:\n",
      "\t stdout 2022-11-25T13:43:43.147124:Conversion required 14.740863 seconds (9.542418 for core code).\n",
      "221125-13:43:50,373 nipype.interface INFO:\n",
      "\t stdout 2022-11-25T13:43:50.373154:Chris Rorden's dcm2niiX version v1.0.20211006  (JP2:OpenJPEG) GCC9.3.0 x86-64 (64-bit Linux)\n",
      "221125-13:43:50,374 nipype.interface INFO:\n",
      "\t stdout 2022-11-25T13:43:50.373154:Found 272 DICOM file(s)\n",
      "221125-13:43:50,374 nipype.interface INFO:\n",
      "\t stdout 2022-11-25T13:43:50.373154:Resolved discrepancy between tags (0020,1002; 0021,104F; 0054,0081)\n",
      "221125-13:43:50,374 nipype.interface INFO:\n",
      "\t stdout 2022-11-25T13:43:50.373154:Convert 272 DICOM as /NAS/dumbo/protocoles/HAMSI/data_NIFTI/1.3.51.0.1.1.10.49.10.222.6550151.6550821/1.2.840.113619.2.374.2807.1582298.14959.1613114134.191_201_-_Crane_Standard_20210212121404_7 (512x512x272x1)\n",
      "221125-13:43:59,899 nipype.interface INFO:\n",
      "\t stdout 2022-11-25T13:43:59.899671:Conversion required 16.541227 seconds (9.327276 for core code).\n"
     ]
    },
    {
     "name": "stderr",
     "output_type": "stream",
     "text": [
      "mkdir: cannot create directory ‘/NAS/dumbo/protocoles/HAMSI/data_NIFTI/1.3.51.0.1.1.10.49.10.222.7063269.7064262’: File exists\n"
     ]
    },
    {
     "name": "stdout",
     "output_type": "stream",
     "text": [
      "221125-13:44:05,730 nipype.interface INFO:\n",
      "\t stdout 2022-11-25T13:44:05.730616:Chris Rorden's dcm2niiX version v1.0.20211006  (JP2:OpenJPEG) GCC9.3.0 x86-64 (64-bit Linux)\n",
      "221125-13:44:05,731 nipype.interface INFO:\n",
      "\t stdout 2022-11-25T13:44:05.730616:Found 272 DICOM file(s)\n",
      "221125-13:44:05,732 nipype.interface INFO:\n",
      "\t stdout 2022-11-25T13:44:05.730616:Resolved discrepancy between tags (0020,1002; 0021,104F; 0054,0081)\n",
      "221125-13:44:05,732 nipype.interface INFO:\n",
      "\t stdout 2022-11-25T13:44:05.730616:Convert 272 DICOM as /NAS/dumbo/protocoles/HAMSI/data_NIFTI/1.3.51.0.1.1.10.49.10.222.7063269.7064262/1.2.840.113619.2.374.2807.1582298.15164.1639410473.794_RAB_CRANE_20211217133653_7 (512x512x272x1)\n",
      "221125-13:44:15,92 nipype.interface INFO:\n",
      "\t stdout 2022-11-25T13:44:15.092446:Conversion required 14.990004 seconds (9.173243 for core code).\n"
     ]
    },
    {
     "name": "stderr",
     "output_type": "stream",
     "text": [
      "mkdir: cannot create directory ‘/NAS/dumbo/protocoles/HAMSI/data_NIFTI/1.3.51.0.1.1.10.49.10.222.6572525.6573204’: File exists\n"
     ]
    },
    {
     "name": "stdout",
     "output_type": "stream",
     "text": [
      "221125-13:44:18,931 nipype.interface INFO:\n",
      "\t stdout 2022-11-25T13:44:18.931620:Chris Rorden's dcm2niiX version v1.0.20211006  (JP2:OpenJPEG) GCC9.3.0 x86-64 (64-bit Linux)\n",
      "221125-13:44:18,932 nipype.interface INFO:\n",
      "\t stdout 2022-11-25T13:44:18.931620:Found 208 DICOM file(s)\n",
      "221125-13:44:18,932 nipype.interface INFO:\n",
      "\t stdout 2022-11-25T13:44:18.931620:Resolved discrepancy between tags (0020,1002; 0021,104F; 0054,0081)\n",
      "221125-13:44:18,933 nipype.interface INFO:\n",
      "\t stdout 2022-11-25T13:44:18.931620:Convert 208 DICOM as /NAS/dumbo/protocoles/HAMSI/data_NIFTI/1.3.51.0.1.1.10.49.10.222.6572525.6573204/1.2.840.113619.2.374.2807.1582298.15459.1613718408.912_201_-_Crane_Standard_20210225101417_8 (512x512x208x1)\n",
      "221125-13:44:26,615 nipype.interface INFO:\n",
      "\t stdout 2022-11-25T13:44:26.615433:Conversion required 11.331346 seconds (7.549828 for core code).\n"
     ]
    },
    {
     "name": "stderr",
     "output_type": "stream",
     "text": [
      "mkdir: cannot create directory ‘/NAS/dumbo/protocoles/HAMSI/data_NIFTI/1.3.51.0.1.1.10.49.10.222.6260102.6260618’: File exists\n"
     ]
    },
    {
     "name": "stdout",
     "output_type": "stream",
     "text": [
      "221125-13:44:32,997 nipype.interface INFO:\n",
      "\t stdout 2022-11-25T13:44:32.997268:Chris Rorden's dcm2niiX version v1.0.20211006  (JP2:OpenJPEG) GCC9.3.0 x86-64 (64-bit Linux)\n",
      "221125-13:44:32,998 nipype.interface INFO:\n",
      "\t stdout 2022-11-25T13:44:32.997268:Found 288 DICOM file(s)\n",
      "221125-13:44:32,998 nipype.interface INFO:\n",
      "\t stdout 2022-11-25T13:44:32.997268:Resolved discrepancy between tags (0020,1002; 0021,104F; 0054,0081)\n",
      "221125-13:44:32,998 nipype.interface INFO:\n",
      "\t stdout 2022-11-25T13:44:32.997268:Convert 288 DICOM as /NAS/dumbo/protocoles/HAMSI/data_NIFTI/1.3.51.0.1.1.10.49.10.222.6260102.6260618/1.2.840.113619.2.374.2807.1582298.14755.1597730911.420_201_-_Crane_Standard_20200821144531_9 (512x512x288x1)\n",
      "221125-13:44:43,316 nipype.interface INFO:\n",
      "\t stdout 2022-11-25T13:44:43.316341:Conversion required 16.491623 seconds (10.141419 for core code).\n"
     ]
    },
    {
     "name": "stderr",
     "output_type": "stream",
     "text": [
      "mkdir: cannot create directory ‘/NAS/dumbo/protocoles/HAMSI/data_NIFTI/1.3.51.0.1.1.10.49.10.222.6201418.6201904’: File exists\n"
     ]
    },
    {
     "name": "stdout",
     "output_type": "stream",
     "text": [
      "221125-13:44:51,419 nipype.interface INFO:\n",
      "\t stdout 2022-11-25T13:44:51.419459:Chris Rorden's dcm2niiX version v1.0.20211006  (JP2:OpenJPEG) GCC9.3.0 x86-64 (64-bit Linux)\n",
      "221125-13:44:51,420 nipype.interface INFO:\n",
      "\t stdout 2022-11-25T13:44:51.419459:Found 272 DICOM file(s)\n",
      "221125-13:44:51,421 nipype.interface INFO:\n",
      "\t stdout 2022-11-25T13:44:51.419459:Resolved discrepancy between tags (0020,1002; 0021,104F; 0054,0081)\n",
      "221125-13:44:51,421 nipype.interface INFO:\n",
      "\t stdout 2022-11-25T13:44:51.419459:Convert 272 DICOM as /NAS/dumbo/protocoles/HAMSI/data_NIFTI/1.3.51.0.1.1.10.49.10.222.6201418.6201904/1.2.840.113619.2.374.2807.1582298.15680.1594793067.112_201_-_Crane_Standard_20200715105703_7 (512x512x272x1)\n",
      "221125-13:45:01,170 nipype.interface INFO:\n",
      "\t stdout 2022-11-25T13:45:01.170452:Conversion required 17.646960 seconds (9.588590 for core code).\n",
      "221125-13:45:08,414 nipype.interface INFO:\n",
      "\t stdout 2022-11-25T13:45:08.414173:Chris Rorden's dcm2niiX version v1.0.20211006  (JP2:OpenJPEG) GCC9.3.0 x86-64 (64-bit Linux)\n",
      "221125-13:45:08,415 nipype.interface INFO:\n",
      "\t stdout 2022-11-25T13:45:08.414173:Found 272 DICOM file(s)\n",
      "221125-13:45:08,415 nipype.interface INFO:\n",
      "\t stdout 2022-11-25T13:45:08.414173:Resolved discrepancy between tags (0020,1002; 0021,104F; 0054,0081)\n",
      "221125-13:45:08,416 nipype.interface INFO:\n",
      "\t stdout 2022-11-25T13:45:08.414173:Convert 272 DICOM as /NAS/dumbo/protocoles/HAMSI/data_NIFTI/1.3.51.0.1.1.10.49.10.222.7513161.7514388/1.2.840.113619.2.374.2807.1582298.15602.1663740941.576_201_-_Crane_Standard_20220921115219_9 (512x512x272x1)\n",
      "221125-13:45:18,238 nipype.interface INFO:\n",
      "\t stdout 2022-11-25T13:45:18.238705:Conversion required 16.860745 seconds (9.639707 for core code).\n"
     ]
    },
    {
     "name": "stderr",
     "output_type": "stream",
     "text": [
      "mkdir: cannot create directory ‘/NAS/dumbo/protocoles/HAMSI/data_NIFTI/1.3.51.0.1.1.10.49.10.222.6057196.6057578’: File exists\n"
     ]
    },
    {
     "name": "stdout",
     "output_type": "stream",
     "text": [
      "221125-13:45:24,465 nipype.interface INFO:\n",
      "\t stdout 2022-11-25T13:45:24.464914:Chris Rorden's dcm2niiX version v1.0.20211006  (JP2:OpenJPEG) GCC9.3.0 x86-64 (64-bit Linux)\n",
      "221125-13:45:24,465 nipype.interface INFO:\n",
      "\t stdout 2022-11-25T13:45:24.464914:Found 272 DICOM file(s)\n",
      "221125-13:45:24,466 nipype.interface INFO:\n",
      "\t stdout 2022-11-25T13:45:24.464914:Resolved discrepancy between tags (0020,1002; 0021,104F; 0054,0081)\n",
      "221125-13:45:24,466 nipype.interface INFO:\n",
      "\t stdout 2022-11-25T13:45:24.464914:Convert 272 DICOM as /NAS/dumbo/protocoles/HAMSI/data_NIFTI/1.3.51.0.1.1.10.49.10.222.6057196.6057578/1.2.840.113619.2.374.2807.1582298.12773.1585551952.593_201_-_Crane_Standard_20200330103101_6 (512x512x272x1)\n",
      "221125-13:45:33,209 nipype.interface INFO:\n",
      "\t stdout 2022-11-25T13:45:33.208948:Conversion required 14.768505 seconds (8.487627 for core code).\n"
     ]
    },
    {
     "name": "stderr",
     "output_type": "stream",
     "text": [
      "mkdir: cannot create directory ‘/NAS/dumbo/protocoles/HAMSI/data_NIFTI/1.3.51.0.1.1.10.49.10.222.7434988.7436171’: File exists\n"
     ]
    },
    {
     "name": "stdout",
     "output_type": "stream",
     "text": [
      "221125-13:45:39,529 nipype.interface INFO:\n",
      "\t stdout 2022-11-25T13:45:39.529824:Chris Rorden's dcm2niiX version v1.0.20211006  (JP2:OpenJPEG) GCC9.3.0 x86-64 (64-bit Linux)\n",
      "221125-13:45:39,530 nipype.interface INFO:\n",
      "\t stdout 2022-11-25T13:45:39.529824:Found 272 DICOM file(s)\n",
      "221125-13:45:39,531 nipype.interface INFO:\n",
      "\t stdout 2022-11-25T13:45:39.529824:Resolved discrepancy between tags (0020,1002; 0021,104F; 0054,0081)\n",
      "221125-13:45:39,531 nipype.interface INFO:\n",
      "\t stdout 2022-11-25T13:45:39.529824:Convert 272 DICOM as /NAS/dumbo/protocoles/HAMSI/data_NIFTI/1.3.51.0.1.1.10.49.10.222.7434988.7436171/1.2.840.113619.2.374.2807.1582298.17210.1659429408.286_201_-_Crane_Standard_20220802142722_9 (512x512x272x1)\n",
      "221125-13:45:49,750 nipype.interface INFO:\n",
      "\t stdout 2022-11-25T13:45:49.750164:Conversion required 16.346977 seconds (10.090818 for core code).\n"
     ]
    },
    {
     "name": "stderr",
     "output_type": "stream",
     "text": [
      "mkdir: cannot create directory ‘/NAS/dumbo/protocoles/HAMSI/data_NIFTI/1.3.51.0.1.1.10.49.10.222.6913579.6914492’: File exists\n"
     ]
    },
    {
     "name": "stdout",
     "output_type": "stream",
     "text": [
      "221125-13:45:57,190 nipype.interface INFO:\n",
      "\t stdout 2022-11-25T13:45:57.190029:Chris Rorden's dcm2niiX version v1.0.20211006  (JP2:OpenJPEG) GCC9.3.0 x86-64 (64-bit Linux)\n",
      "221125-13:45:57,190 nipype.interface INFO:\n",
      "\t stdout 2022-11-25T13:45:57.190029:Found 272 DICOM file(s)\n",
      "221125-13:45:57,191 nipype.interface INFO:\n",
      "\t stdout 2022-11-25T13:45:57.190029:Resolved discrepancy between tags (0020,1002; 0021,104F; 0054,0081)\n",
      "221125-13:45:57,191 nipype.interface INFO:\n",
      "\t stdout 2022-11-25T13:45:57.190029:Convert 272 DICOM as /NAS/dumbo/protocoles/HAMSI/data_NIFTI/1.3.51.0.1.1.10.49.10.222.6913579.6914492/1.2.840.113619.2.374.2807.1582298.17980.1632205034.978_201_-_Crane_Standard_20210921123536_8 (512x512x272x1)\n",
      "221125-13:46:06,337 nipype.interface INFO:\n",
      "\t stdout 2022-11-25T13:46:06.337095:Conversion required 16.376478 seconds (8.930493 for core code).\n"
     ]
    },
    {
     "name": "stderr",
     "output_type": "stream",
     "text": [
      "mkdir: cannot create directory ‘/NAS/dumbo/protocoles/HAMSI/data_NIFTI/1.3.51.0.1.1.10.49.10.222.7258122.7259221’: File exists\n"
     ]
    },
    {
     "name": "stdout",
     "output_type": "stream",
     "text": [
      "221125-13:46:12,277 nipype.interface INFO:\n",
      "\t stdout 2022-11-25T13:46:12.277042:Chris Rorden's dcm2niiX version v1.0.20211006  (JP2:OpenJPEG) GCC9.3.0 x86-64 (64-bit Linux)\n",
      "221125-13:46:12,277 nipype.interface INFO:\n",
      "\t stdout 2022-11-25T13:46:12.277042:Found 272 DICOM file(s)\n",
      "221125-13:46:12,278 nipype.interface INFO:\n",
      "\t stdout 2022-11-25T13:46:12.277042:Resolved discrepancy between tags (0020,1002; 0021,104F; 0054,0081)\n",
      "221125-13:46:12,278 nipype.interface INFO:\n",
      "\t stdout 2022-11-25T13:46:12.277042:Convert 272 DICOM as /NAS/dumbo/protocoles/HAMSI/data_NIFTI/1.3.51.0.1.1.10.49.10.222.7258122.7259221/1.2.840.113619.2.374.2807.1582298.16114.1649662177.260_201_-_Crane_Standard_20220413164156_7 (512x512x272x1)\n",
      "221125-13:46:23,252 nipype.interface INFO:\n",
      "\t stdout 2022-11-25T13:46:23.252080:Conversion required 16.713270 seconds (10.399731 for core code).\n"
     ]
    },
    {
     "name": "stderr",
     "output_type": "stream",
     "text": [
      "mkdir: cannot create directory ‘/NAS/dumbo/protocoles/HAMSI/data_NIFTI/1.3.51.0.1.1.10.49.10.222.7325426.7326552’: File exists\n"
     ]
    },
    {
     "name": "stdout",
     "output_type": "stream",
     "text": [
      "221125-13:46:29,755 nipype.interface INFO:\n",
      "\t stdout 2022-11-25T13:46:29.754926:Chris Rorden's dcm2niiX version v1.0.20211006  (JP2:OpenJPEG) GCC9.3.0 x86-64 (64-bit Linux)\n",
      "221125-13:46:29,756 nipype.interface INFO:\n",
      "\t stdout 2022-11-25T13:46:29.754926:Found 272 DICOM file(s)\n",
      "221125-13:46:29,756 nipype.interface INFO:\n",
      "\t stdout 2022-11-25T13:46:29.754926:Resolved discrepancy between tags (0020,1002; 0021,104F; 0054,0081)\n",
      "221125-13:46:29,757 nipype.interface INFO:\n",
      "\t stdout 2022-11-25T13:46:29.754926:Convert 272 DICOM as /NAS/dumbo/protocoles/HAMSI/data_NIFTI/1.3.51.0.1.1.10.49.10.222.7325426.7326552/1.2.840.113619.2.374.2807.1582298.15709.1652425840.759_RAB_CRANE_20220524140826_10 (512x512x272x1)\n",
      "221125-13:46:39,475 nipype.interface INFO:\n",
      "\t stdout 2022-11-25T13:46:39.475132:Conversion required 15.731252 seconds (9.566985 for core code).\n",
      "221125-13:46:46,447 nipype.interface INFO:\n",
      "\t stdout 2022-11-25T13:46:46.447669:Chris Rorden's dcm2niiX version v1.0.20211006  (JP2:OpenJPEG) GCC9.3.0 x86-64 (64-bit Linux)\n",
      "221125-13:46:46,448 nipype.interface INFO:\n",
      "\t stdout 2022-11-25T13:46:46.447669:Found 272 DICOM file(s)\n",
      "221125-13:46:46,449 nipype.interface INFO:\n",
      "\t stdout 2022-11-25T13:46:46.447669:Resolved discrepancy between tags (0020,1002; 0021,104F; 0054,0081)\n",
      "221125-13:46:46,449 nipype.interface INFO:\n",
      "\t stdout 2022-11-25T13:46:46.447669:Convert 272 DICOM as /NAS/dumbo/protocoles/HAMSI/data_NIFTI/1.3.51.0.1.1.10.49.10.222.7059176.7060169/1.2.840.113619.2.374.2807.1582298.15164.1639410473.617_201_-_Crane_Standard_20211215154915_7 (512x512x272x1)\n",
      "221125-13:46:55,630 nipype.interface INFO:\n",
      "\t stdout 2022-11-25T13:46:55.630545:Conversion required 15.954238 seconds (8.963960 for core code).\n"
     ]
    },
    {
     "name": "stderr",
     "output_type": "stream",
     "text": [
      "mkdir: cannot create directory ‘/NAS/dumbo/protocoles/HAMSI/data_NIFTI/1.3.51.0.1.1.10.49.10.222.7123903.7124936’: File exists\n"
     ]
    },
    {
     "name": "stdout",
     "output_type": "stream",
     "text": [
      "221125-13:47:02,856 nipype.interface INFO:\n",
      "\t stdout 2022-11-25T13:47:02.856062:Chris Rorden's dcm2niiX version v1.0.20211006  (JP2:OpenJPEG) GCC9.3.0 x86-64 (64-bit Linux)\n",
      "221125-13:47:02,857 nipype.interface INFO:\n",
      "\t stdout 2022-11-25T13:47:02.856062:Found 272 DICOM file(s)\n",
      "221125-13:47:02,857 nipype.interface INFO:\n",
      "\t stdout 2022-11-25T13:47:02.856062:Resolved discrepancy between tags (0020,1002; 0021,104F; 0054,0081)\n",
      "221125-13:47:02,858 nipype.interface INFO:\n",
      "\t stdout 2022-11-25T13:47:02.856062:Convert 272 DICOM as /NAS/dumbo/protocoles/HAMSI/data_NIFTI/1.3.51.0.1.1.10.49.10.222.7123903.7124936/1.2.840.113619.2.374.2807.1582298.17740.1643186259.497_201_-_Crane_Standard_20220126143109_8 (512x512x272x1)\n",
      "221125-13:47:12,486 nipype.interface INFO:\n",
      "\t stdout 2022-11-25T13:47:12.486862:Conversion required 16.643863 seconds (9.465093 for core code).\n"
     ]
    },
    {
     "name": "stderr",
     "output_type": "stream",
     "text": [
      "mkdir: cannot create directory ‘/NAS/dumbo/protocoles/HAMSI/data_NIFTI/1.3.51.0.1.1.10.49.10.222.7381019.7382171’: File exists\n"
     ]
    },
    {
     "name": "stdout",
     "output_type": "stream",
     "text": [
      "221125-13:47:17,707 nipype.interface INFO:\n",
      "\t stdout 2022-11-25T13:47:17.707483:Chris Rorden's dcm2niiX version v1.0.20211006  (JP2:OpenJPEG) GCC9.3.0 x86-64 (64-bit Linux)\n",
      "221125-13:47:17,708 nipype.interface INFO:\n",
      "\t stdout 2022-11-25T13:47:17.707483:Found 272 DICOM file(s)\n",
      "221125-13:47:17,708 nipype.interface INFO:\n",
      "\t stdout 2022-11-25T13:47:17.707483:Resolved discrepancy between tags (0020,1002; 0021,104F; 0054,0081)\n",
      "221125-13:47:17,708 nipype.interface INFO:\n",
      "\t stdout 2022-11-25T13:47:17.707483:Convert 272 DICOM as /NAS/dumbo/protocoles/HAMSI/data_NIFTI/1.3.51.0.1.1.10.49.10.222.7381019.7382171/1.2.840.113619.2.374.2807.1582298.18723.1655879579.520_201_-_Crane_Standard_20220628141702_7 (512x512x272x1)\n",
      "221125-13:47:27,138 nipype.interface INFO:\n",
      "\t stdout 2022-11-25T13:47:27.138653:Conversion required 14.440669 seconds (9.255773 for core code).\n"
     ]
    },
    {
     "name": "stderr",
     "output_type": "stream",
     "text": [
      "mkdir: cannot create directory ‘/NAS/dumbo/protocoles/HAMSI/data_NIFTI/1.3.51.0.1.1.10.49.10.222.6577119.6577798’: File exists\n"
     ]
    },
    {
     "name": "stdout",
     "output_type": "stream",
     "text": [
      "221125-13:47:33,923 nipype.interface INFO:\n",
      "\t stdout 2022-11-25T13:47:33.923298:Chris Rorden's dcm2niiX version v1.0.20211006  (JP2:OpenJPEG) GCC9.3.0 x86-64 (64-bit Linux)\n",
      "221125-13:47:33,924 nipype.interface INFO:\n",
      "\t stdout 2022-11-25T13:47:33.923298:Found 272 DICOM file(s)\n",
      "221125-13:47:33,924 nipype.interface INFO:\n",
      "\t stdout 2022-11-25T13:47:33.923298:Resolved discrepancy between tags (0020,1002; 0021,104F; 0054,0081)\n",
      "221125-13:47:33,925 nipype.interface INFO:\n",
      "\t stdout 2022-11-25T13:47:33.923298:Convert 272 DICOM as /NAS/dumbo/protocoles/HAMSI/data_NIFTI/1.3.51.0.1.1.10.49.10.222.6577119.6577798/1.2.840.113619.2.374.2807.1582298.15459.1613718409.101_201_-_Crane_Standard_20210301095314_8 (512x512x272x1)\n",
      "221125-13:47:44,115 nipype.interface INFO:\n",
      "\t stdout 2022-11-25T13:47:44.115184:Conversion required 16.782676 seconds (9.975055 for core code).\n"
     ]
    },
    {
     "name": "stderr",
     "output_type": "stream",
     "text": [
      "mkdir: cannot create directory ‘/NAS/dumbo/protocoles/HAMSI/data_NIFTI/1.3.51.0.1.1.10.49.10.222.6906538.6907449’: File exists\n"
     ]
    },
    {
     "name": "stdout",
     "output_type": "stream",
     "text": [
      "221125-13:47:49,387 nipype.interface INFO:\n",
      "\t stdout 2022-11-25T13:47:49.387444:Chris Rorden's dcm2niiX version v1.0.20211006  (JP2:OpenJPEG) GCC9.3.0 x86-64 (64-bit Linux)\n",
      "221125-13:47:49,388 nipype.interface INFO:\n",
      "\t stdout 2022-11-25T13:47:49.387444:Found 280 DICOM file(s)\n",
      "221125-13:47:49,388 nipype.interface INFO:\n",
      "\t stdout 2022-11-25T13:47:49.387444:Resolved discrepancy between tags (0020,1002; 0021,104F; 0054,0081)\n",
      "221125-13:47:49,389 nipype.interface INFO:\n",
      "\t stdout 2022-11-25T13:47:49.387444:Convert 280 DICOM as /NAS/dumbo/protocoles/HAMSI/data_NIFTI/1.3.51.0.1.1.10.49.10.222.6906538.6907449/1.2.840.113619.2.374.2807.1582298.17559.1631772954.655_201_-_Crane_Standard_20210916153716_7 (512x512x280x1)\n",
      "221125-13:47:59,700 nipype.interface INFO:\n",
      "\t stdout 2022-11-25T13:47:59.700347:Conversion required 15.375506 seconds (10.150214 for core code).\n"
     ]
    },
    {
     "name": "stderr",
     "output_type": "stream",
     "text": [
      "mkdir: cannot create directory ‘/NAS/dumbo/protocoles/HAMSI/data_NIFTI/1.3.51.0.1.1.10.49.10.222.6915210.6916123’: File exists\n"
     ]
    },
    {
     "name": "stdout",
     "output_type": "stream",
     "text": [
      "221125-13:48:07,547 nipype.interface INFO:\n",
      "\t stdout 2022-11-25T13:48:07.547574:Chris Rorden's dcm2niiX version v1.0.20211006  (JP2:OpenJPEG) GCC9.3.0 x86-64 (64-bit Linux)\n",
      "221125-13:48:07,548 nipype.interface INFO:\n",
      "\t stdout 2022-11-25T13:48:07.547574:Found 272 DICOM file(s)\n",
      "221125-13:48:07,548 nipype.interface INFO:\n",
      "\t stdout 2022-11-25T13:48:07.547574:Resolved discrepancy between tags (0020,1002; 0021,104F; 0054,0081)\n",
      "221125-13:48:07,548 nipype.interface INFO:\n",
      "\t stdout 2022-11-25T13:48:07.547574:Convert 272 DICOM as /NAS/dumbo/protocoles/HAMSI/data_NIFTI/1.3.51.0.1.1.10.49.10.222.6915210.6916123/1.2.840.113619.2.374.2807.1582298.19134.1632294112.642_201_-_Crane_Standard_20210922090158_7 (512x512x272x1)\n",
      "221125-13:48:17,711 nipype.interface INFO:\n",
      "\t stdout 2022-11-25T13:48:17.711874:Conversion required 17.802996 seconds (10.034617 for core code).\n"
     ]
    },
    {
     "name": "stderr",
     "output_type": "stream",
     "text": [
      "mkdir: cannot create directory ‘/NAS/dumbo/protocoles/HAMSI/data_NIFTI/1.3.51.0.1.1.10.49.10.222.6967820.6968759’: File exists\n"
     ]
    },
    {
     "name": "stdout",
     "output_type": "stream",
     "text": [
      "221125-13:48:23,380 nipype.interface INFO:\n",
      "\t stdout 2022-11-25T13:48:23.379974:Chris Rorden's dcm2niiX version v1.0.20211006  (JP2:OpenJPEG) GCC9.3.0 x86-64 (64-bit Linux)\n",
      "221125-13:48:23,381 nipype.interface INFO:\n",
      "\t stdout 2022-11-25T13:48:23.379974:Found 272 DICOM file(s)\n",
      "221125-13:48:23,381 nipype.interface INFO:\n",
      "\t stdout 2022-11-25T13:48:23.379974:Resolved discrepancy between tags (0020,1002; 0021,104F; 0054,0081)\n",
      "221125-13:48:23,381 nipype.interface INFO:\n",
      "\t stdout 2022-11-25T13:48:23.379974:Convert 272 DICOM as /NAS/dumbo/protocoles/HAMSI/data_NIFTI/1.3.51.0.1.1.10.49.10.222.6967820.6968759/1.2.840.113619.2.374.2807.1582298.14809.1634741131.420_201_-_Crane_Standard_20211021151348_7 (512x512x272x1)\n",
      "221125-13:48:32,790 nipype.interface INFO:\n",
      "\t stdout 2022-11-25T13:48:32.790936:Conversion required 14.865236 seconds (9.196033 for core code).\n"
     ]
    },
    {
     "name": "stderr",
     "output_type": "stream",
     "text": [
      "mkdir: cannot create directory ‘/NAS/dumbo/protocoles/HAMSI/data_NIFTI/1.3.51.0.1.1.10.49.10.222.7526446.7527690’: File exists\n"
     ]
    },
    {
     "name": "stdout",
     "output_type": "stream",
     "text": [
      "221125-13:48:38,384 nipype.interface INFO:\n",
      "\t stdout 2022-11-25T13:48:38.384300:Chris Rorden's dcm2niiX version v1.0.20211006  (JP2:OpenJPEG) GCC9.3.0 x86-64 (64-bit Linux)\n",
      "221125-13:48:38,385 nipype.interface INFO:\n",
      "\t stdout 2022-11-25T13:48:38.384300:Found 272 DICOM file(s)\n",
      "221125-13:48:38,385 nipype.interface INFO:\n",
      "\t stdout 2022-11-25T13:48:38.384300:Resolved discrepancy between tags (0020,1002; 0021,104F; 0054,0081)\n",
      "221125-13:48:38,386 nipype.interface INFO:\n",
      "\t stdout 2022-11-25T13:48:38.384300:Convert 272 DICOM as /NAS/dumbo/protocoles/HAMSI/data_NIFTI/1.3.51.0.1.1.10.49.10.222.7526446.7527690/1.2.840.113619.2.374.2807.1582298.17196.1664347683.659_201_-_Crane_Standard_20220928141450_9 (512x512x272x1)\n",
      "221125-13:48:48,398 nipype.interface INFO:\n",
      "\t stdout 2022-11-25T13:48:48.398167:Conversion required 15.405273 seconds (9.758829 for core code).\n"
     ]
    },
    {
     "name": "stderr",
     "output_type": "stream",
     "text": [
      "mkdir: cannot create directory ‘/NAS/dumbo/protocoles/HAMSI/data_NIFTI/1.3.51.0.1.1.10.49.10.222.6084088.6084507’: File exists\n"
     ]
    },
    {
     "name": "stdout",
     "output_type": "stream",
     "text": [
      "221125-13:48:54,391 nipype.interface INFO:\n",
      "\t stdout 2022-11-25T13:48:54.391510:Chris Rorden's dcm2niiX version v1.0.20211006  (JP2:OpenJPEG) GCC9.3.0 x86-64 (64-bit Linux)\n",
      "221125-13:48:54,392 nipype.interface INFO:\n",
      "\t stdout 2022-11-25T13:48:54.391510:Found 272 DICOM file(s)\n",
      "221125-13:48:54,393 nipype.interface INFO:\n",
      "\t stdout 2022-11-25T13:48:54.391510:Resolved discrepancy between tags (0020,1002; 0021,104F; 0054,0081)\n",
      "221125-13:48:54,393 nipype.interface INFO:\n",
      "\t stdout 2022-11-25T13:48:54.391510:Convert 272 DICOM as /NAS/dumbo/protocoles/HAMSI/data_NIFTI/1.3.51.0.1.1.10.49.10.222.6084088.6084507/1.2.840.113619.2.374.2807.1582298.14000.1587366668.637_201_-_Crane_Standard_20200424102118_7 (512x512x272x1)\n",
      "221125-13:49:04,325 nipype.interface INFO:\n",
      "\t stdout 2022-11-25T13:49:04.325933:Conversion required 15.705547 seconds (9.728021 for core code).\n"
     ]
    },
    {
     "name": "stderr",
     "output_type": "stream",
     "text": [
      "mkdir: cannot create directory ‘/NAS/dumbo/protocoles/HAMSI/data_NIFTI/1.3.51.0.1.1.10.49.10.222.7407539.7408700’: File exists\n"
     ]
    },
    {
     "name": "stdout",
     "output_type": "stream",
     "text": [
      "221125-13:49:11,21 nipype.interface INFO:\n",
      "\t stdout 2022-11-25T13:49:11.021404:Chris Rorden's dcm2niiX version v1.0.20211006  (JP2:OpenJPEG) GCC9.3.0 x86-64 (64-bit Linux)\n",
      "221125-13:49:11,22 nipype.interface INFO:\n",
      "\t stdout 2022-11-25T13:49:11.021404:Found 272 DICOM file(s)\n",
      "221125-13:49:11,23 nipype.interface INFO:\n",
      "\t stdout 2022-11-25T13:49:11.021404:Resolved discrepancy between tags (0020,1002; 0021,104F; 0054,0081)\n",
      "221125-13:49:11,23 nipype.interface INFO:\n",
      "\t stdout 2022-11-25T13:49:11.021404:Convert 272 DICOM as /NAS/dumbo/protocoles/HAMSI/data_NIFTI/1.3.51.0.1.1.10.49.10.222.7407539.7408700/1.2.840.113619.2.374.2807.1582298.17874.1657701077.308_201_-_Crane_Standard_20220715143248_9 (512x512x272x1)\n",
      "221125-13:49:21,706 nipype.interface INFO:\n",
      "\t stdout 2022-11-25T13:49:21.706457:Conversion required 17.166861 seconds (10.549872 for core code).\n"
     ]
    },
    {
     "name": "stderr",
     "output_type": "stream",
     "text": [
      "mkdir: cannot create directory ‘/NAS/dumbo/protocoles/HAMSI/data_NIFTI/1.3.51.0.1.1.10.49.10.222.7353897.7355042’: File exists\n"
     ]
    },
    {
     "name": "stdout",
     "output_type": "stream",
     "text": [
      "221125-13:49:28,992 nipype.interface INFO:\n",
      "\t stdout 2022-11-25T13:49:28.991909:Chris Rorden's dcm2niiX version v1.0.20211006  (JP2:OpenJPEG) GCC9.3.0 x86-64 (64-bit Linux)\n",
      "221125-13:49:28,992 nipype.interface INFO:\n",
      "\t stdout 2022-11-25T13:49:28.991909:Found 272 DICOM file(s)\n",
      "221125-13:49:28,993 nipype.interface INFO:\n",
      "\t stdout 2022-11-25T13:49:28.991909:Resolved discrepancy between tags (0020,1002; 0021,104F; 0054,0081)\n",
      "221125-13:49:28,993 nipype.interface INFO:\n",
      "\t stdout 2022-11-25T13:49:28.991909:Convert 272 DICOM as /NAS/dumbo/protocoles/HAMSI/data_NIFTI/1.3.51.0.1.1.10.49.10.222.7353897.7355042/1.2.840.113619.2.374.2807.1582298.16434.1654066143.576_201_-_Crane_Standard_20220613113236_7 (512x512x272x1)\n",
      "221125-13:49:39,155 nipype.interface INFO:\n",
      "\t stdout 2022-11-25T13:49:39.155338:Conversion required 17.241764 seconds (10.002582 for core code).\n"
     ]
    },
    {
     "name": "stderr",
     "output_type": "stream",
     "text": [
      "mkdir: cannot create directory ‘/NAS/dumbo/protocoles/HAMSI/data_NIFTI/1.3.51.0.1.1.10.49.10.222.6069678.6070080’: File exists\n"
     ]
    },
    {
     "name": "stdout",
     "output_type": "stream",
     "text": [
      "221125-13:49:46,487 nipype.interface INFO:\n",
      "\t stdout 2022-11-25T13:49:46.487749:Chris Rorden's dcm2niiX version v1.0.20211006  (JP2:OpenJPEG) GCC9.3.0 x86-64 (64-bit Linux)\n",
      "221125-13:49:46,488 nipype.interface INFO:\n",
      "\t stdout 2022-11-25T13:49:46.487749:Found 280 DICOM file(s)\n",
      "221125-13:49:46,489 nipype.interface INFO:\n",
      "\t stdout 2022-11-25T13:49:46.487749:Resolved discrepancy between tags (0020,1002; 0021,104F; 0054,0081)\n",
      "221125-13:49:46,489 nipype.interface INFO:\n",
      "\t stdout 2022-11-25T13:49:46.487749:Convert 280 DICOM as /NAS/dumbo/protocoles/HAMSI/data_NIFTI/1.3.51.0.1.1.10.49.10.222.6069678.6070080/1.2.840.113619.2.374.2807.1582298.14597.1586518492.86_201_-_Crane_Standard_20200410140848_8 (512x512x280x1)\n",
      "221125-13:49:56,671 nipype.interface INFO:\n",
      "\t stdout 2022-11-25T13:49:56.671513:Conversion required 17.311602 seconds (10.019163 for core code).\n"
     ]
    },
    {
     "name": "stderr",
     "output_type": "stream",
     "text": [
      "mkdir: cannot create directory ‘/NAS/dumbo/protocoles/HAMSI/data_NIFTI/1.3.51.0.1.1.10.49.10.222.6406444.6407010’: File exists\n"
     ]
    },
    {
     "name": "stdout",
     "output_type": "stream",
     "text": [
      "221125-13:50:03,39 nipype.interface INFO:\n",
      "\t stdout 2022-11-25T13:50:03.039250:Chris Rorden's dcm2niiX version v1.0.20211006  (JP2:OpenJPEG) GCC9.3.0 x86-64 (64-bit Linux)\n",
      "221125-13:50:03,40 nipype.interface INFO:\n",
      "\t stdout 2022-11-25T13:50:03.039250:Found 272 DICOM file(s)\n",
      "221125-13:50:03,40 nipype.interface INFO:\n",
      "\t stdout 2022-11-25T13:50:03.039250:Resolved discrepancy between tags (0020,1002; 0021,104F; 0054,0081)\n",
      "221125-13:50:03,41 nipype.interface INFO:\n",
      "\t stdout 2022-11-25T13:50:03.039250:Convert 272 DICOM as /NAS/dumbo/protocoles/HAMSI/data_NIFTI/1.3.51.0.1.1.10.49.10.222.6406444.6407010/1.2.840.113619.2.374.2807.1582298.14977.1605685019.981_201_-_Crane_Standard_20201120085632_8 (512x512x272x1)\n",
      "221125-13:50:11,923 nipype.interface INFO:\n",
      "\t stdout 2022-11-25T13:50:11.923040:Conversion required 15.046978 seconds (8.663862 for core code).\n"
     ]
    },
    {
     "name": "stderr",
     "output_type": "stream",
     "text": [
      "mkdir: cannot create directory ‘/NAS/dumbo/protocoles/HAMSI/data_NIFTI/1.3.51.0.1.1.10.49.10.222.7471186.7472384’: File exists\n"
     ]
    },
    {
     "name": "stdout",
     "output_type": "stream",
     "text": [
      "221125-13:50:18,952 nipype.interface INFO:\n",
      "\t stdout 2022-11-25T13:50:18.952038:Chris Rorden's dcm2niiX version v1.0.20211006  (JP2:OpenJPEG) GCC9.3.0 x86-64 (64-bit Linux)\n",
      "221125-13:50:18,953 nipype.interface INFO:\n",
      "\t stdout 2022-11-25T13:50:18.952038:Found 272 DICOM file(s)\n",
      "221125-13:50:18,954 nipype.interface INFO:\n",
      "\t stdout 2022-11-25T13:50:18.952038:Resolved discrepancy between tags (0020,1002; 0021,104F; 0054,0081)\n",
      "221125-13:50:18,954 nipype.interface INFO:\n",
      "\t stdout 2022-11-25T13:50:18.952038:Convert 272 DICOM as /NAS/dumbo/protocoles/HAMSI/data_NIFTI/1.3.51.0.1.1.10.49.10.222.7471186.7472384/1.2.840.113619.2.374.2807.1582298.17611.1661341681.723_201_-_Crane_Standard_20220826154646_7 (512x512x272x1)\n",
      "221125-13:50:28,529 nipype.interface INFO:\n",
      "\t stdout 2022-11-25T13:50:28.529574:Conversion required 16.358886 seconds (9.389660 for core code).\n"
     ]
    },
    {
     "name": "stderr",
     "output_type": "stream",
     "text": [
      "mkdir: cannot create directory ‘/NAS/dumbo/protocoles/HAMSI/data_NIFTI/1.3.51.0.1.1.10.49.10.222.7106906.7107923’: File exists\n"
     ]
    },
    {
     "name": "stdout",
     "output_type": "stream",
     "text": [
      "221125-13:50:37,483 nipype.interface INFO:\n",
      "\t stdout 2022-11-25T13:50:37.483193:Chris Rorden's dcm2niiX version v1.0.20211006  (JP2:OpenJPEG) GCC9.3.0 x86-64 (64-bit Linux)\n",
      "221125-13:50:37,484 nipype.interface INFO:\n",
      "\t stdout 2022-11-25T13:50:37.483193:Found 272 DICOM file(s)\n",
      "221125-13:50:37,484 nipype.interface INFO:\n",
      "\t stdout 2022-11-25T13:50:37.483193:Resolved discrepancy between tags (0020,1002; 0021,104F; 0054,0081)\n",
      "221125-13:50:37,484 nipype.interface INFO:\n",
      "\t stdout 2022-11-25T13:50:37.483193:Convert 272 DICOM as /NAS/dumbo/protocoles/HAMSI/data_NIFTI/1.3.51.0.1.1.10.49.10.222.7106906.7107923/1.2.840.113619.2.374.2807.1582298.15372.1641281494.354_201_-_Crane_Standard_20220117112348_9 (512x512x272x1)\n",
      "221125-13:50:47,78 nipype.interface INFO:\n",
      "\t stdout 2022-11-25T13:50:47.078685:Conversion required 18.351190 seconds (9.439938 for core code).\n",
      "221125-13:50:52,399 nipype.interface INFO:\n",
      "\t stdout 2022-11-25T13:50:52.398889:Chris Rorden's dcm2niiX version v1.0.20211006  (JP2:OpenJPEG) GCC9.3.0 x86-64 (64-bit Linux)\n",
      "221125-13:50:52,400 nipype.interface INFO:\n",
      "\t stdout 2022-11-25T13:50:52.398889:Found 272 DICOM file(s)\n",
      "221125-13:50:52,400 nipype.interface INFO:\n",
      "\t stdout 2022-11-25T13:50:52.398889:Resolved discrepancy between tags (0020,1002; 0021,104F; 0054,0081)\n",
      "221125-13:50:52,401 nipype.interface INFO:\n",
      "\t stdout 2022-11-25T13:50:52.398889:Convert 272 DICOM as /NAS/dumbo/protocoles/HAMSI/data_NIFTI/1.3.51.0.1.1.10.49.10.222.6078455.6078870/1.2.840.113619.2.374.2807.1582298.14000.1587366668.302_201_-_Crane_Standard_20200420091201_8 (512x512x272x1)\n",
      "221125-13:51:02,370 nipype.interface INFO:\n",
      "\t stdout 2022-11-25T13:51:02.370325:Conversion required 15.094201 seconds (9.774398 for core code).\n"
     ]
    },
    {
     "name": "stderr",
     "output_type": "stream",
     "text": [
      "mkdir: cannot create directory ‘/NAS/dumbo/protocoles/HAMSI/data_NIFTI/1.3.51.0.1.1.10.49.10.222.7084724.7085731’: File exists\n"
     ]
    },
    {
     "name": "stdout",
     "output_type": "stream",
     "text": [
      "221125-13:51:09,78 nipype.interface INFO:\n",
      "\t stdout 2022-11-25T13:51:09.078280:Chris Rorden's dcm2niiX version v1.0.20211006  (JP2:OpenJPEG) GCC9.3.0 x86-64 (64-bit Linux)\n",
      "221125-13:51:09,79 nipype.interface INFO:\n",
      "\t stdout 2022-11-25T13:51:09.078280:Found 272 DICOM file(s)\n",
      "221125-13:51:09,80 nipype.interface INFO:\n",
      "\t stdout 2022-11-25T13:51:09.078280:Resolved discrepancy between tags (0020,1002; 0021,104F; 0054,0081)\n",
      "221125-13:51:09,80 nipype.interface INFO:\n",
      "\t stdout 2022-11-25T13:51:09.078280:Convert 272 DICOM as /NAS/dumbo/protocoles/HAMSI/data_NIFTI/1.3.51.0.1.1.10.49.10.222.7084724.7085731/1.2.840.113619.2.374.2807.1582298.14830.1641197678.239_201_-_Crane_Standard_20220103133427_8 (512x512x272x1)\n",
      "221125-13:51:18,375 nipype.interface INFO:\n",
      "\t stdout 2022-11-25T13:51:18.375652:Conversion required 15.790721 seconds (9.085174 for core code).\n"
     ]
    },
    {
     "name": "stderr",
     "output_type": "stream",
     "text": [
      "mkdir: cannot create directory ‘/NAS/dumbo/protocoles/HAMSI/data_NIFTI/1.3.51.0.1.1.10.49.10.222.6647658.6648386’: File exists\n"
     ]
    },
    {
     "name": "stdout",
     "output_type": "stream",
     "text": [
      "221125-13:51:24,981 nipype.interface INFO:\n",
      "\t stdout 2022-11-25T13:51:24.981282:Chris Rorden's dcm2niiX version v1.0.20211006  (JP2:OpenJPEG) GCC9.3.0 x86-64 (64-bit Linux)\n",
      "221125-13:51:24,982 nipype.interface INFO:\n",
      "\t stdout 2022-11-25T13:51:24.981282:Found 272 DICOM file(s)\n",
      "221125-13:51:24,982 nipype.interface INFO:\n",
      "\t stdout 2022-11-25T13:51:24.981282:Resolved discrepancy between tags (0020,1002; 0021,104F; 0054,0081)\n",
      "221125-13:51:24,983 nipype.interface INFO:\n",
      "\t stdout 2022-11-25T13:51:24.981282:Convert 272 DICOM as /NAS/dumbo/protocoles/HAMSI/data_NIFTI/1.3.51.0.1.1.10.49.10.222.6647658.6648386/1.2.840.113619.2.374.2807.1582298.14597.1617963326.419_201_-_Crane_Standard_20210409154009_8 (512x512x272x1)\n",
      "221125-13:51:34,388 nipype.interface INFO:\n",
      "\t stdout 2022-11-25T13:51:34.388415:Conversion required 15.792112 seconds (9.215756 for core code).\n"
     ]
    },
    {
     "name": "stderr",
     "output_type": "stream",
     "text": [
      "mkdir: cannot create directory ‘/NAS/dumbo/protocoles/HAMSI/data_NIFTI/1.3.51.0.1.1.10.49.10.222.6004235.6004598’: File exists\n"
     ]
    },
    {
     "name": "stdout",
     "output_type": "stream",
     "text": [
      "221125-13:51:38,414 nipype.interface INFO:\n",
      "\t stdout 2022-11-25T13:51:38.414196:Chris Rorden's dcm2niiX version v1.0.20211006  (JP2:OpenJPEG) GCC9.3.0 x86-64 (64-bit Linux)\n",
      "221125-13:51:38,414 nipype.interface INFO:\n",
      "\t stdout 2022-11-25T13:51:38.414196:Found 208 DICOM file(s)\n",
      "221125-13:51:38,415 nipype.interface INFO:\n",
      "\t stdout 2022-11-25T13:51:38.414196:Resolved discrepancy between tags (0020,1002; 0021,104F; 0054,0081)\n",
      "221125-13:51:38,415 nipype.interface INFO:\n",
      "\t stdout 2022-11-25T13:51:38.414196:Convert 208 DICOM as /NAS/dumbo/protocoles/HAMSI/data_NIFTI/1.3.51.0.1.1.10.49.10.222.6004235.6004598/1.2.840.113619.2.374.2807.1582298.15063.1581923809.204_201_-_Crane_Standard_20200221114802_7 (512x512x208x1)\n",
      "221125-13:51:46,43 nipype.interface INFO:\n",
      "\t stdout 2022-11-25T13:51:46.043536:Conversion required 11.453451 seconds (7.503962 for core code).\n"
     ]
    },
    {
     "name": "stderr",
     "output_type": "stream",
     "text": [
      "mkdir: cannot create directory ‘/NAS/dumbo/protocoles/HAMSI/data_NIFTI/1.3.51.0.1.1.10.49.10.222.6880936.6881829’: File exists\n"
     ]
    },
    {
     "name": "stdout",
     "output_type": "stream",
     "text": [
      "221125-13:51:54,326 nipype.interface INFO:\n",
      "\t stdout 2022-11-25T13:51:54.326264:Chris Rorden's dcm2niiX version v1.0.20211006  (JP2:OpenJPEG) GCC9.3.0 x86-64 (64-bit Linux)\n",
      "221125-13:51:54,327 nipype.interface INFO:\n",
      "\t stdout 2022-11-25T13:51:54.326264:Found 272 DICOM file(s)\n",
      "221125-13:51:54,328 nipype.interface INFO:\n",
      "\t stdout 2022-11-25T13:51:54.326264:Resolved discrepancy between tags (0020,1002; 0021,104F; 0054,0081)\n",
      "221125-13:51:54,328 nipype.interface INFO:\n",
      "\t stdout 2022-11-25T13:51:54.326264:Convert 272 DICOM as /NAS/dumbo/protocoles/HAMSI/data_NIFTI/1.3.51.0.1.1.10.49.10.222.6880936.6881829/1.2.840.113619.2.374.2807.1582298.17841.1629731913.241_201_-_Crane_Standard_20210901135656_7 (512x512x272x1)\n",
      "221125-13:52:04,472 nipype.interface INFO:\n",
      "\t stdout 2022-11-25T13:52:04.472227:Conversion required 18.227684 seconds (9.983493 for core code).\n"
     ]
    },
    {
     "name": "stderr",
     "output_type": "stream",
     "text": [
      "mkdir: cannot create directory ‘/NAS/dumbo/protocoles/HAMSI/data_NIFTI/1.3.51.0.1.1.10.49.10.222.7410144.7411312’: File exists\n"
     ]
    },
    {
     "name": "stdout",
     "output_type": "stream",
     "text": [
      "221125-13:52:09,652 nipype.interface INFO:\n",
      "\t stdout 2022-11-25T13:52:09.652262:Chris Rorden's dcm2niiX version v1.0.20211006  (JP2:OpenJPEG) GCC9.3.0 x86-64 (64-bit Linux)\n",
      "221125-13:52:09,653 nipype.interface INFO:\n",
      "\t stdout 2022-11-25T13:52:09.652262:Found 272 DICOM file(s)\n",
      "221125-13:52:09,653 nipype.interface INFO:\n",
      "\t stdout 2022-11-25T13:52:09.652262:Resolved discrepancy between tags (0020,1002; 0021,104F; 0054,0081)\n",
      "221125-13:52:09,654 nipype.interface INFO:\n",
      "\t stdout 2022-11-25T13:52:09.652262:Convert 272 DICOM as /NAS/dumbo/protocoles/HAMSI/data_NIFTI/1.3.51.0.1.1.10.49.10.222.7410144.7411312/1.2.840.113619.2.374.2807.1582298.16927.1658127406.832_201_-_Crane_Standard_20220718105036_9 (512x512x272x1)\n",
      "221125-13:52:20,109 nipype.interface INFO:\n",
      "\t stdout 2022-11-25T13:52:20.109570:Conversion required 15.436270 seconds (10.335390 for core code).\n"
     ]
    },
    {
     "name": "stderr",
     "output_type": "stream",
     "text": [
      "mkdir: cannot create directory ‘/NAS/dumbo/protocoles/HAMSI/data_NIFTI/1.3.51.0.1.1.10.49.10.222.7148950.7149991’: File exists\n"
     ]
    },
    {
     "name": "stdout",
     "output_type": "stream",
     "text": [
      "221125-13:52:26,572 nipype.interface INFO:\n",
      "\t stdout 2022-11-25T13:52:26.572321:Chris Rorden's dcm2niiX version v1.0.20211006  (JP2:OpenJPEG) GCC9.3.0 x86-64 (64-bit Linux)\n",
      "221125-13:52:26,573 nipype.interface INFO:\n",
      "\t stdout 2022-11-25T13:52:26.572321:Found 272 DICOM file(s)\n",
      "221125-13:52:26,573 nipype.interface INFO:\n",
      "\t stdout 2022-11-25T13:52:26.572321:Resolved discrepancy between tags (0020,1002; 0021,104F; 0054,0081)\n",
      "221125-13:52:26,574 nipype.interface INFO:\n",
      "\t stdout 2022-11-25T13:52:26.572321:Convert 272 DICOM as /NAS/dumbo/protocoles/HAMSI/data_NIFTI/1.3.51.0.1.1.10.49.10.222.7148950.7149991/1.2.840.113619.2.374.2807.1582298.16884.1644320355.552_201_-_Crane_Standard_20220210113237_16 (512x512x272x1)\n",
      "221125-13:52:36,454 nipype.interface INFO:\n",
      "\t stdout 2022-11-25T13:52:36.454261:Conversion required 16.136512 seconds (9.714581 for core code).\n",
      "221125-13:52:41,231 nipype.interface INFO:\n",
      "\t stdout 2022-11-25T13:52:41.231209:Chris Rorden's dcm2niiX version v1.0.20211006  (JP2:OpenJPEG) GCC9.3.0 x86-64 (64-bit Linux)\n",
      "221125-13:52:41,232 nipype.interface INFO:\n",
      "\t stdout 2022-11-25T13:52:41.231209:Found 272 DICOM file(s)\n",
      "221125-13:52:41,232 nipype.interface INFO:\n",
      "\t stdout 2022-11-25T13:52:41.231209:Resolved discrepancy between tags (0020,1002; 0021,104F; 0054,0081)\n",
      "221125-13:52:41,233 nipype.interface INFO:\n",
      "\t stdout 2022-11-25T13:52:41.231209:Convert 272 DICOM as /NAS/dumbo/protocoles/HAMSI/data_NIFTI/1.3.51.0.1.1.10.49.10.222.6906121.6907032/1.2.840.113619.2.374.2807.1582298.17559.1631772954.633_201_-_Crane_Standard_20210916141930_9 (512x512x272x1)\n",
      "221125-13:52:50,728 nipype.interface INFO:\n",
      "\t stdout 2022-11-25T13:52:50.728606:Conversion required 14.070561 seconds (9.165504 for core code).\n"
     ]
    },
    {
     "name": "stderr",
     "output_type": "stream",
     "text": [
      "mkdir: cannot create directory ‘/NAS/dumbo/protocoles/HAMSI/data_NIFTI/1.3.51.0.1.1.10.49.10.222.7036063.7037033’: File exists\n"
     ]
    },
    {
     "name": "stdout",
     "output_type": "stream",
     "text": [
      "221125-13:52:56,230 nipype.interface INFO:\n",
      "\t stdout 2022-11-25T13:52:56.230449:Chris Rorden's dcm2niiX version v1.0.20211006  (JP2:OpenJPEG) GCC9.3.0 x86-64 (64-bit Linux)\n",
      "221125-13:52:56,231 nipype.interface INFO:\n",
      "\t stdout 2022-11-25T13:52:56.230449:Found 272 DICOM file(s)\n",
      "221125-13:52:56,231 nipype.interface INFO:\n",
      "\t stdout 2022-11-25T13:52:56.230449:Resolved discrepancy between tags (0020,1002; 0021,104F; 0054,0081)\n",
      "221125-13:52:56,232 nipype.interface INFO:\n",
      "\t stdout 2022-11-25T13:52:56.230449:Convert 272 DICOM as /NAS/dumbo/protocoles/HAMSI/data_NIFTI/1.3.51.0.1.1.10.49.10.222.7036063.7037033/1.2.840.113619.2.374.2807.1582298.15832.1638180963.571_RAB_CRANE_20211202143321_3 (512x512x272x1)\n",
      "221125-13:53:05,804 nipype.interface INFO:\n",
      "\t stdout 2022-11-25T13:53:05.804007:Conversion required 14.878460 seconds (9.302415 for core code).\n"
     ]
    },
    {
     "name": "stderr",
     "output_type": "stream",
     "text": [
      "mkdir: cannot create directory ‘/NAS/dumbo/protocoles/HAMSI/data_NIFTI/1.3.51.0.1.1.10.49.10.222.6903033.6903944’: File exists\n"
     ]
    },
    {
     "name": "stdout",
     "output_type": "stream",
     "text": [
      "221125-13:53:12,320 nipype.interface INFO:\n",
      "\t stdout 2022-11-25T13:53:12.320531:Chris Rorden's dcm2niiX version v1.0.20211006  (JP2:OpenJPEG) GCC9.3.0 x86-64 (64-bit Linux)\n",
      "221125-13:53:12,321 nipype.interface INFO:\n",
      "\t stdout 2022-11-25T13:53:12.320531:Found 280 DICOM file(s)\n",
      "221125-13:53:12,321 nipype.interface INFO:\n",
      "\t stdout 2022-11-25T13:53:12.320531:Resolved discrepancy between tags (0020,1002; 0021,104F; 0054,0081)\n",
      "221125-13:53:12,322 nipype.interface INFO:\n",
      "\t stdout 2022-11-25T13:53:12.320531:Convert 280 DICOM as /NAS/dumbo/protocoles/HAMSI/data_NIFTI/1.3.51.0.1.1.10.49.10.222.6903033.6903944/1.2.840.113619.2.374.2807.1582298.18022.1631600082.521_201_-_Crane_Standard_20210915104022_6 (512x512x280x1)\n",
      "221125-13:53:22,410 nipype.interface INFO:\n",
      "\t stdout 2022-11-25T13:53:22.410468:Conversion required 16.406384 seconds (9.776320 for core code).\n"
     ]
    },
    {
     "name": "stderr",
     "output_type": "stream",
     "text": [
      "mkdir: cannot create directory ‘/NAS/dumbo/protocoles/HAMSI/data_NIFTI/1.3.51.0.1.1.10.49.10.222.6555046.6555716’: File exists\n"
     ]
    },
    {
     "name": "stdout",
     "output_type": "stream",
     "text": [
      "221125-13:53:28,997 nipype.interface INFO:\n",
      "\t stdout 2022-11-25T13:53:28.997527:Chris Rorden's dcm2niiX version v1.0.20211006  (JP2:OpenJPEG) GCC9.3.0 x86-64 (64-bit Linux)\n",
      "221125-13:53:28,998 nipype.interface INFO:\n",
      "\t stdout 2022-11-25T13:53:28.997527:Found 280 DICOM file(s)\n",
      "221125-13:53:28,999 nipype.interface INFO:\n",
      "\t stdout 2022-11-25T13:53:28.997527:Resolved discrepancy between tags (0020,1002; 0021,104F; 0054,0081)\n",
      "221125-13:53:28,999 nipype.interface INFO:\n",
      "\t stdout 2022-11-25T13:53:28.997527:Convert 280 DICOM as /NAS/dumbo/protocoles/HAMSI/data_NIFTI/1.3.51.0.1.1.10.49.10.222.6555046.6555716/1.2.840.113619.2.374.2807.1582298.14995.1613461173.25_201_-_Crane_Standard_20210216094133_6 (512x512x280x1)\n",
      "221125-13:53:39,295 nipype.interface INFO:\n",
      "\t stdout 2022-11-25T13:53:39.295192:Conversion required 16.648742 seconds (10.127154 for core code).\n"
     ]
    },
    {
     "name": "stderr",
     "output_type": "stream",
     "text": [
      "mkdir: cannot create directory ‘/NAS/dumbo/protocoles/HAMSI/data_NIFTI/1.3.51.0.1.1.10.49.10.222.6450553.6451151’: File exists\n"
     ]
    },
    {
     "name": "stdout",
     "output_type": "stream",
     "text": [
      "221125-13:53:45,251 nipype.interface INFO:\n",
      "\t stdout 2022-11-25T13:53:45.251178:Chris Rorden's dcm2niiX version v1.0.20211006  (JP2:OpenJPEG) GCC9.3.0 x86-64 (64-bit Linux)\n",
      "221125-13:53:45,252 nipype.interface INFO:\n",
      "\t stdout 2022-11-25T13:53:45.251178:Found 272 DICOM file(s)\n",
      "221125-13:53:45,252 nipype.interface INFO:\n",
      "\t stdout 2022-11-25T13:53:45.251178:Resolved discrepancy between tags (0020,1002; 0021,104F; 0054,0081)\n",
      "221125-13:53:45,252 nipype.interface INFO:\n",
      "\t stdout 2022-11-25T13:53:45.251178:Convert 272 DICOM as /NAS/dumbo/protocoles/HAMSI/data_NIFTI/1.3.51.0.1.1.10.49.10.222.6450553.6451151/1.2.840.113619.2.374.2807.1582298.15598.1607930102.111_201_-_Crane_Standard_20201215135021_3 (512x512x272x1)\n",
      "221125-13:53:55,365 nipype.interface INFO:\n",
      "\t stdout 2022-11-25T13:53:55.365332:Conversion required 15.863335 seconds (9.808065 for core code).\n"
     ]
    },
    {
     "name": "stderr",
     "output_type": "stream",
     "text": [
      "mkdir: cannot create directory ‘/NAS/dumbo/protocoles/HAMSI/data_NIFTI/1.3.51.0.1.1.10.49.10.222.6031255.6031624’: File exists\n"
     ]
    },
    {
     "name": "stdout",
     "output_type": "stream",
     "text": [
      "221125-13:54:01,258 nipype.interface INFO:\n",
      "\t stdout 2022-11-25T13:54:01.258813:Chris Rorden's dcm2niiX version v1.0.20211006  (JP2:OpenJPEG) GCC9.3.0 x86-64 (64-bit Linux)\n",
      "221125-13:54:01,259 nipype.interface INFO:\n",
      "\t stdout 2022-11-25T13:54:01.258813:Found 272 DICOM file(s)\n",
      "221125-13:54:01,260 nipype.interface INFO:\n",
      "\t stdout 2022-11-25T13:54:01.258813:Resolved discrepancy between tags (0020,1002; 0021,104F; 0054,0081)\n",
      "221125-13:54:01,260 nipype.interface INFO:\n",
      "\t stdout 2022-11-25T13:54:01.258813:Convert 272 DICOM as /NAS/dumbo/protocoles/HAMSI/data_NIFTI/1.3.51.0.1.1.10.49.10.222.6031255.6031624/1.2.840.113619.2.374.2807.1582298.16335.1582799564.335_201_-_Crane_Standard_20200309112241_3 (512x512x272x1)\n",
      "221125-13:54:10,948 nipype.interface INFO:\n",
      "\t stdout 2022-11-25T13:54:10.948076:Conversion required 15.378347 seconds (9.514107 for core code).\n"
     ]
    },
    {
     "name": "stderr",
     "output_type": "stream",
     "text": [
      "mkdir: cannot create directory ‘/NAS/dumbo/protocoles/HAMSI/data_NIFTI/1.3.51.0.1.1.10.49.10.222.7329608.7330734’: File exists\n"
     ]
    },
    {
     "name": "stdout",
     "output_type": "stream",
     "text": [
      "221125-13:54:18,984 nipype.interface INFO:\n",
      "\t stdout 2022-11-25T13:54:18.984889:Chris Rorden's dcm2niiX version v1.0.20211006  (JP2:OpenJPEG) GCC9.3.0 x86-64 (64-bit Linux)\n",
      "221125-13:54:18,985 nipype.interface INFO:\n",
      "\t stdout 2022-11-25T13:54:18.984889:Found 272 DICOM file(s)\n",
      "221125-13:54:18,986 nipype.interface INFO:\n",
      "\t stdout 2022-11-25T13:54:18.984889:Resolved discrepancy between tags (0020,1002; 0021,104F; 0054,0081)\n",
      "221125-13:54:18,986 nipype.interface INFO:\n",
      "\t stdout 2022-11-25T13:54:18.984889:Convert 272 DICOM as /NAS/dumbo/protocoles/HAMSI/data_NIFTI/1.3.51.0.1.1.10.49.10.222.7329608.7330734/1.2.840.113619.2.374.2807.1582298.15709.1652425840.864_201_-_Crane_Standard_20220527134420_3 (512x512x272x1)\n",
      "221125-13:54:28,570 nipype.interface INFO:\n",
      "\t stdout 2022-11-25T13:54:28.570175:Conversion required 17.422880 seconds (9.395488 for core code).\n"
     ]
    },
    {
     "name": "stderr",
     "output_type": "stream",
     "text": [
      "mkdir: cannot create directory ‘/NAS/dumbo/protocoles/HAMSI/data_NIFTI/1.3.51.0.1.1.10.49.10.222.6125511.6125966’: File exists\n"
     ]
    },
    {
     "name": "stdout",
     "output_type": "stream",
     "text": [
      "221125-13:54:33,631 nipype.interface INFO:\n",
      "\t stdout 2022-11-25T13:54:33.631320:Chris Rorden's dcm2niiX version v1.0.20211006  (JP2:OpenJPEG) GCC9.3.0 x86-64 (64-bit Linux)\n",
      "221125-13:54:33,632 nipype.interface INFO:\n",
      "\t stdout 2022-11-25T13:54:33.631320:Found 272 DICOM file(s)\n",
      "221125-13:54:33,632 nipype.interface INFO:\n",
      "\t stdout 2022-11-25T13:54:33.631320:Resolved discrepancy between tags (0020,1002; 0021,104F; 0054,0081)\n",
      "221125-13:54:33,632 nipype.interface INFO:\n",
      "\t stdout 2022-11-25T13:54:33.631320:Convert 272 DICOM as /NAS/dumbo/protocoles/HAMSI/data_NIFTI/1.3.51.0.1.1.10.49.10.222.6125511.6125966/1.2.840.113619.2.374.2807.1582298.14631.1590560217.280_201_-_Crane_Standard_20200527153422_3 (512x512x272x1)\n",
      "221125-13:54:43,621 nipype.interface INFO:\n",
      "\t stdout 2022-11-25T13:54:43.621733:Conversion required 14.844188 seconds (9.841607 for core code).\n"
     ]
    },
    {
     "name": "stderr",
     "output_type": "stream",
     "text": [
      "mkdir: cannot create directory ‘/NAS/dumbo/protocoles/HAMSI/data_NIFTI/1.3.51.0.1.1.10.49.10.222.7375728.7376876’: File exists\n"
     ]
    },
    {
     "name": "stdout",
     "output_type": "stream",
     "text": [
      "221125-13:54:48,706 nipype.interface INFO:\n",
      "\t stdout 2022-11-25T13:54:48.706553:Chris Rorden's dcm2niiX version v1.0.20211006  (JP2:OpenJPEG) GCC9.3.0 x86-64 (64-bit Linux)\n",
      "221125-13:54:48,707 nipype.interface INFO:\n",
      "\t stdout 2022-11-25T13:54:48.706553:Found 272 DICOM file(s)\n",
      "221125-13:54:48,708 nipype.interface INFO:\n",
      "\t stdout 2022-11-25T13:54:48.706553:Resolved discrepancy between tags (0020,1002; 0021,104F; 0054,0081)\n",
      "221125-13:54:48,708 nipype.interface INFO:\n",
      "\t stdout 2022-11-25T13:54:48.706553:Convert 272 DICOM as /NAS/dumbo/protocoles/HAMSI/data_NIFTI/1.3.51.0.1.1.10.49.10.222.7375728.7376876/1.2.840.113619.2.374.2807.1582298.18723.1655879579.363_201_-_Controle_Post_Op_20220624142828_3 (512x512x272x1)\n",
      "221125-13:54:57,264 nipype.interface INFO:\n",
      "\t stdout 2022-11-25T13:54:57.264863:Conversion required 13.448626 seconds (8.314283 for core code).\n"
     ]
    },
    {
     "name": "stderr",
     "output_type": "stream",
     "text": [
      "mkdir: cannot create directory ‘/NAS/dumbo/protocoles/HAMSI/data_NIFTI/1.3.51.0.1.1.10.49.10.222.6047177.6047548’: File exists\n"
     ]
    },
    {
     "name": "stdout",
     "output_type": "stream",
     "text": [
      "221125-13:55:04,62 nipype.interface INFO:\n",
      "\t stdout 2022-11-25T13:55:04.062564:Chris Rorden's dcm2niiX version v1.0.20211006  (JP2:OpenJPEG) GCC9.3.0 x86-64 (64-bit Linux)\n",
      "221125-13:55:04,63 nipype.interface INFO:\n",
      "\t stdout 2022-11-25T13:55:04.062564:Found 272 DICOM file(s)\n",
      "221125-13:55:04,64 nipype.interface INFO:\n",
      "\t stdout 2022-11-25T13:55:04.062564:Resolved discrepancy between tags (0020,1002; 0021,104F; 0054,0081)\n",
      "221125-13:55:04,64 nipype.interface INFO:\n",
      "\t stdout 2022-11-25T13:55:04.062564:Convert 272 DICOM as /NAS/dumbo/protocoles/HAMSI/data_NIFTI/1.3.51.0.1.1.10.49.10.222.6047177.6047548/1.2.840.113619.2.374.2807.1582298.15495.1584343292.789_201_-_Crane_Standard_20200319141505_3 (512x512x272x1)\n",
      "221125-13:55:13,102 nipype.interface INFO:\n",
      "\t stdout 2022-11-25T13:55:13.102145:Conversion required 15.634574 seconds (8.815967 for core code).\n"
     ]
    },
    {
     "name": "stderr",
     "output_type": "stream",
     "text": [
      "mkdir: cannot create directory ‘/NAS/dumbo/protocoles/HAMSI/data_NIFTI/1.3.51.0.1.1.10.49.10.222.6631177.6631888’: File exists\n"
     ]
    },
    {
     "name": "stdout",
     "output_type": "stream",
     "text": [
      "221125-13:55:18,733 nipype.interface INFO:\n",
      "\t stdout 2022-11-25T13:55:18.732958:Chris Rorden's dcm2niiX version v1.0.20211006  (JP2:OpenJPEG) GCC9.3.0 x86-64 (64-bit Linux)\n",
      "221125-13:55:18,733 nipype.interface INFO:\n",
      "\t stdout 2022-11-25T13:55:18.732958:Found 272 DICOM file(s)\n",
      "221125-13:55:18,734 nipype.interface INFO:\n",
      "\t stdout 2022-11-25T13:55:18.732958:Resolved discrepancy between tags (0020,1002; 0021,104F; 0054,0081)\n",
      "221125-13:55:18,734 nipype.interface INFO:\n",
      "\t stdout 2022-11-25T13:55:18.732958:Convert 272 DICOM as /NAS/dumbo/protocoles/HAMSI/data_NIFTI/1.3.51.0.1.1.10.49.10.222.6631177.6631888/1.2.840.113619.2.374.2807.1582298.15069.1616601326.955_RAB_CRANE_20210331104653_3 (512x512x272x1)\n",
      "221125-13:55:28,618 nipype.interface INFO:\n",
      "\t stdout 2022-11-25T13:55:28.618058:Conversion required 15.311299 seconds (9.749224 for core code).\n"
     ]
    },
    {
     "name": "stderr",
     "output_type": "stream",
     "text": [
      "mkdir: cannot create directory ‘/NAS/dumbo/protocoles/HAMSI/data_NIFTI/1.3.51.0.1.1.10.49.10.222.6391139.6391699’: File exists\n"
     ]
    },
    {
     "name": "stdout",
     "output_type": "stream",
     "text": [
      "221125-13:55:36,440 nipype.interface INFO:\n",
      "\t stdout 2022-11-25T13:55:36.440466:Chris Rorden's dcm2niiX version v1.0.20211006  (JP2:OpenJPEG) GCC9.3.0 x86-64 (64-bit Linux)\n",
      "221125-13:55:36,442 nipype.interface INFO:\n",
      "\t stdout 2022-11-25T13:55:36.440466:Found 272 DICOM file(s)\n",
      "221125-13:55:36,442 nipype.interface INFO:\n",
      "\t stdout 2022-11-25T13:55:36.440466:Resolved discrepancy between tags (0020,1002; 0021,104F; 0054,0081)\n",
      "221125-13:55:36,443 nipype.interface INFO:\n",
      "\t stdout 2022-11-25T13:55:36.440466:Convert 272 DICOM as /NAS/dumbo/protocoles/HAMSI/data_NIFTI/1.3.51.0.1.1.10.49.10.222.6391139.6391699/1.2.840.113619.2.374.2807.1582298.14708.1604904927.308_201_-_Crane_Standard_20201110134348_3 (512x512x272x1)\n",
      "221125-13:55:46,691 nipype.interface INFO:\n",
      "\t stdout 2022-11-25T13:55:46.691650:Conversion required 17.877205 seconds (10.135705 for core code).\n"
     ]
    },
    {
     "name": "stderr",
     "output_type": "stream",
     "text": [
      "mkdir: cannot create directory ‘/NAS/dumbo/protocoles/HAMSI/data_NIFTI/1.3.51.0.1.1.10.49.10.222.6062821.6063213’: File exists\n"
     ]
    },
    {
     "name": "stdout",
     "output_type": "stream",
     "text": [
      "221125-13:55:53,922 nipype.interface INFO:\n",
      "\t stdout 2022-11-25T13:55:53.921943:Chris Rorden's dcm2niiX version v1.0.20211006  (JP2:OpenJPEG) GCC9.3.0 x86-64 (64-bit Linux)\n",
      "221125-13:55:53,922 nipype.interface INFO:\n",
      "\t stdout 2022-11-25T13:55:53.921943:Found 272 DICOM file(s)\n",
      "221125-13:55:53,923 nipype.interface INFO:\n",
      "\t stdout 2022-11-25T13:55:53.921943:Resolved discrepancy between tags (0020,1002; 0021,104F; 0054,0081)\n",
      "221125-13:55:53,923 nipype.interface INFO:\n",
      "\t stdout 2022-11-25T13:55:53.921943:Convert 272 DICOM as /NAS/dumbo/protocoles/HAMSI/data_NIFTI/1.3.51.0.1.1.10.49.10.222.6062821.6063213/1.2.840.113619.2.374.2807.1582298.12773.1585551952.895_201_-_Crane_Standard_20200403145823_3 (512x512x272x1)\n",
      "221125-13:56:02,880 nipype.interface INFO:\n",
      "\t stdout 2022-11-25T13:56:02.880699:Conversion required 15.985219 seconds (8.726016 for core code).\n"
     ]
    },
    {
     "name": "stderr",
     "output_type": "stream",
     "text": [
      "mkdir: cannot create directory ‘/NAS/dumbo/protocoles/HAMSI/data_NIFTI/1.3.51.0.1.1.10.49.10.222.7231473.7232565’: File exists\n"
     ]
    },
    {
     "name": "stdout",
     "output_type": "stream",
     "text": [
      "221125-13:56:09,485 nipype.interface INFO:\n",
      "\t stdout 2022-11-25T13:56:09.485070:Chris Rorden's dcm2niiX version v1.0.20211006  (JP2:OpenJPEG) GCC9.3.0 x86-64 (64-bit Linux)\n",
      "221125-13:56:09,486 nipype.interface INFO:\n",
      "\t stdout 2022-11-25T13:56:09.485070:Found 272 DICOM file(s)\n",
      "221125-13:56:09,486 nipype.interface INFO:\n",
      "\t stdout 2022-11-25T13:56:09.485070:Resolved discrepancy between tags (0020,1002; 0021,104F; 0054,0081)\n",
      "221125-13:56:09,487 nipype.interface INFO:\n",
      "\t stdout 2022-11-25T13:56:09.485070:Convert 272 DICOM as /NAS/dumbo/protocoles/HAMSI/data_NIFTI/1.3.51.0.1.1.10.49.10.222.7231473.7232565/1.2.840.113619.2.374.2807.1582298.15810.1648451024.134_201_-_Crane_Standard_20220329144212_7 (512x512x272x1)\n",
      "221125-13:56:18,516 nipype.interface INFO:\n",
      "\t stdout 2022-11-25T13:56:18.516157:Conversion required 15.433720 seconds (8.793644 for core code).\n"
     ]
    },
    {
     "name": "stderr",
     "output_type": "stream",
     "text": [
      "mkdir: cannot create directory ‘/NAS/dumbo/protocoles/HAMSI/data_NIFTI/1.3.51.0.1.1.10.49.10.222.7446617.7447807’: File exists\n"
     ]
    },
    {
     "name": "stdout",
     "output_type": "stream",
     "text": [
      "221125-13:56:23,689 nipype.interface INFO:\n",
      "\t stdout 2022-11-25T13:56:23.689541:Chris Rorden's dcm2niiX version v1.0.20211006  (JP2:OpenJPEG) GCC9.3.0 x86-64 (64-bit Linux)\n",
      "221125-13:56:23,690 nipype.interface INFO:\n",
      "\t stdout 2022-11-25T13:56:23.689541:Found 272 DICOM file(s)\n",
      "221125-13:56:23,690 nipype.interface INFO:\n",
      "\t stdout 2022-11-25T13:56:23.689541:Resolved discrepancy between tags (0020,1002; 0021,104F; 0054,0081)\n",
      "221125-13:56:23,690 nipype.interface INFO:\n",
      "\t stdout 2022-11-25T13:56:23.689541:Convert 272 DICOM as /NAS/dumbo/protocoles/HAMSI/data_NIFTI/1.3.51.0.1.1.10.49.10.222.7446617.7447807/1.2.840.113619.2.374.2807.1582298.17210.1659429408.560_201_-_Crane_Standard_20220810104231_3 (512x512x272x1)\n",
      "221125-13:56:33,965 nipype.interface INFO:\n",
      "\t stdout 2022-11-25T13:56:33.964965:Conversion required 15.254400 seconds (10.150181 for core code).\n"
     ]
    },
    {
     "name": "stderr",
     "output_type": "stream",
     "text": [
      "mkdir: cannot create directory ‘/NAS/dumbo/protocoles/HAMSI/data_NIFTI/1.3.51.0.1.1.10.49.10.222.6061574.6061966’: File exists\n"
     ]
    },
    {
     "name": "stdout",
     "output_type": "stream",
     "text": [
      "221125-13:56:40,350 nipype.interface INFO:\n",
      "\t stdout 2022-11-25T13:56:40.350344:Chris Rorden's dcm2niiX version v1.0.20211006  (JP2:OpenJPEG) GCC9.3.0 x86-64 (64-bit Linux)\n",
      "221125-13:56:40,351 nipype.interface INFO:\n",
      "\t stdout 2022-11-25T13:56:40.350344:Found 272 DICOM file(s)\n",
      "221125-13:56:40,352 nipype.interface INFO:\n",
      "\t stdout 2022-11-25T13:56:40.350344:Resolved discrepancy between tags (0020,1002; 0021,104F; 0054,0081)\n",
      "221125-13:56:40,352 nipype.interface INFO:\n",
      "\t stdout 2022-11-25T13:56:40.350344:Convert 272 DICOM as /NAS/dumbo/protocoles/HAMSI/data_NIFTI/1.3.51.0.1.1.10.49.10.222.6061574.6061966/1.2.840.113619.2.374.2807.1582298.12773.1585551952.805_201_-_Crane_Standard_20200402132115_3 (512x512x272x1)\n",
      "221125-13:56:49,975 nipype.interface INFO:\n",
      "\t stdout 2022-11-25T13:56:49.975070:Conversion required 15.811347 seconds (9.445638 for core code).\n"
     ]
    },
    {
     "name": "stderr",
     "output_type": "stream",
     "text": [
      "mkdir: cannot create directory ‘/NAS/dumbo/protocoles/HAMSI/data_NIFTI/1.3.51.0.1.1.10.49.10.222.5982019.5982373’: File exists\n"
     ]
    },
    {
     "name": "stdout",
     "output_type": "stream",
     "text": [
      "221125-13:56:54,945 nipype.interface INFO:\n",
      "\t stdout 2022-11-25T13:56:54.945221:Chris Rorden's dcm2niiX version v1.0.20211006  (JP2:OpenJPEG) GCC9.3.0 x86-64 (64-bit Linux)\n",
      "221125-13:56:54,946 nipype.interface INFO:\n",
      "\t stdout 2022-11-25T13:56:54.945221:Found 272 DICOM file(s)\n",
      "221125-13:56:54,946 nipype.interface INFO:\n",
      "\t stdout 2022-11-25T13:56:54.945221:Resolved discrepancy between tags (0020,1002; 0021,104F; 0054,0081)\n",
      "221125-13:56:54,946 nipype.interface INFO:\n",
      "\t stdout 2022-11-25T13:56:54.945221:Convert 272 DICOM as /NAS/dumbo/protocoles/HAMSI/data_NIFTI/1.3.51.0.1.1.10.49.10.222.5982019.5982373/1.2.840.113619.2.374.2807.1582298.15441.1581319886.525_201_-_Crane_Standard_20200210142037_3 (512x512x272x1)\n",
      "221125-13:57:03,791 nipype.interface INFO:\n",
      "\t stdout 2022-11-25T13:57:03.791579:Conversion required 13.619462 seconds (8.598214 for core code).\n"
     ]
    },
    {
     "name": "stderr",
     "output_type": "stream",
     "text": [
      "mkdir: cannot create directory ‘/NAS/dumbo/protocoles/HAMSI/data_NIFTI/1.3.51.0.1.1.10.49.10.222.6370883.6371437’: File exists\n"
     ]
    },
    {
     "name": "stdout",
     "output_type": "stream",
     "text": [
      "221125-13:57:12,84 nipype.interface INFO:\n",
      "\t stdout 2022-11-25T13:57:12.084449:Chris Rorden's dcm2niiX version v1.0.20211006  (JP2:OpenJPEG) GCC9.3.0 x86-64 (64-bit Linux)\n",
      "221125-13:57:12,85 nipype.interface INFO:\n",
      "\t stdout 2022-11-25T13:57:12.084449:Found 272 DICOM file(s)\n",
      "221125-13:57:12,86 nipype.interface INFO:\n",
      "\t stdout 2022-11-25T13:57:12.084449:Resolved discrepancy between tags (0020,1002; 0021,104F; 0054,0081)\n",
      "221125-13:57:12,86 nipype.interface INFO:\n",
      "\t stdout 2022-11-25T13:57:12.084449:Convert 272 DICOM as /NAS/dumbo/protocoles/HAMSI/data_NIFTI/1.3.51.0.1.1.10.49.10.222.6370883.6371437/1.2.840.113619.2.374.2807.1582298.15447.1603695845.643_201_-_Crane_Standard_20201028101003_3 (512x512x272x1)\n",
      "221125-13:57:22,135 nipype.interface INFO:\n",
      "\t stdout 2022-11-25T13:57:22.135594:Conversion required 18.142651 seconds (9.891396 for core code).\n"
     ]
    },
    {
     "name": "stderr",
     "output_type": "stream",
     "text": [
      "mkdir: cannot create directory ‘/NAS/dumbo/protocoles/HAMSI/data_NIFTI/1.3.51.0.1.1.10.49.10.222.7480078.7481278’: File exists\n"
     ]
    },
    {
     "name": "stdout",
     "output_type": "stream",
     "text": [
      "221125-13:57:30,128 nipype.interface INFO:\n",
      "\t stdout 2022-11-25T13:57:30.128440:Chris Rorden's dcm2niiX version v1.0.20211006  (JP2:OpenJPEG) GCC9.3.0 x86-64 (64-bit Linux)\n",
      "221125-13:57:30,129 nipype.interface INFO:\n",
      "\t stdout 2022-11-25T13:57:30.128440:Found 272 DICOM file(s)\n",
      "221125-13:57:30,130 nipype.interface INFO:\n",
      "\t stdout 2022-11-25T13:57:30.128440:Resolved discrepancy between tags (0020,1002; 0021,104F; 0054,0081)\n",
      "221125-13:57:30,130 nipype.interface INFO:\n",
      "\t stdout 2022-11-25T13:57:30.128440:Convert 272 DICOM as /NAS/dumbo/protocoles/HAMSI/data_NIFTI/1.3.51.0.1.1.10.49.10.222.7480078.7481278/1.2.840.113619.2.374.2807.1582298.17611.1661341682.96_201_-_Crane_Standard_20220901152303_4 (512x512x272x1)\n",
      "221125-13:57:40,665 nipype.interface INFO:\n",
      "\t stdout 2022-11-25T13:57:40.665256:Conversion required 18.334881 seconds (10.410297 for core code).\n"
     ]
    },
    {
     "name": "stderr",
     "output_type": "stream",
     "text": [
      "mkdir: cannot create directory ‘/NAS/dumbo/protocoles/HAMSI/data_NIFTI/1.3.51.0.1.1.10.49.10.222.7472826.7474024’: File exists\n"
     ]
    },
    {
     "name": "stdout",
     "output_type": "stream",
     "text": [
      "221125-13:57:47,569 nipype.interface INFO:\n",
      "\t stdout 2022-11-25T13:57:47.569157:Chris Rorden's dcm2niiX version v1.0.20211006  (JP2:OpenJPEG) GCC9.3.0 x86-64 (64-bit Linux)\n",
      "221125-13:57:47,570 nipype.interface INFO:\n",
      "\t stdout 2022-11-25T13:57:47.569157:Found 272 DICOM file(s)\n",
      "221125-13:57:47,571 nipype.interface INFO:\n",
      "\t stdout 2022-11-25T13:57:47.569157:Resolved discrepancy between tags (0020,1002; 0021,104F; 0054,0081)\n",
      "221125-13:57:47,571 nipype.interface INFO:\n",
      "\t stdout 2022-11-25T13:57:47.569157:Convert 272 DICOM as /NAS/dumbo/protocoles/HAMSI/data_NIFTI/1.3.51.0.1.1.10.49.10.222.7472826.7474024/1.2.840.113619.2.374.2807.1582298.17611.1661341681.779_201_-_Crane_Standard_20220829112325_3 (512x512x272x1)\n",
      "221125-13:57:57,264 nipype.interface INFO:\n",
      "\t stdout 2022-11-25T13:57:57.264235:Conversion required 16.389345 seconds (9.518480 for core code).\n"
     ]
    },
    {
     "name": "stderr",
     "output_type": "stream",
     "text": [
      "mkdir: cannot create directory ‘/NAS/dumbo/protocoles/HAMSI/data_NIFTI/1.3.51.0.1.1.10.49.10.222.7274701.7275815’: File exists\n"
     ]
    },
    {
     "name": "stdout",
     "output_type": "stream",
     "text": [
      "221125-13:58:04,373 nipype.interface INFO:\n",
      "\t stdout 2022-11-25T13:58:04.373764:Chris Rorden's dcm2niiX version v1.0.20211006  (JP2:OpenJPEG) GCC9.3.0 x86-64 (64-bit Linux)\n",
      "221125-13:58:04,374 nipype.interface INFO:\n",
      "\t stdout 2022-11-25T13:58:04.373764:Found 272 DICOM file(s)\n",
      "221125-13:58:04,374 nipype.interface INFO:\n",
      "\t stdout 2022-11-25T13:58:04.373764:Resolved discrepancy between tags (0020,1002; 0021,104F; 0054,0081)\n",
      "221125-13:58:04,375 nipype.interface INFO:\n",
      "\t stdout 2022-11-25T13:58:04.373764:Convert 272 DICOM as /NAS/dumbo/protocoles/HAMSI/data_NIFTI/1.3.51.0.1.1.10.49.10.222.7274701.7275815/1.2.840.113619.2.374.2807.1582298.17676.1650867626.921_201_-_Crane_Standard_20220425161457_5 (512x512x272x1)\n",
      "221125-13:58:13,862 nipype.interface INFO:\n",
      "\t stdout 2022-11-25T13:58:13.862261:Conversion required 16.400039 seconds (9.277302 for core code).\n"
     ]
    },
    {
     "name": "stderr",
     "output_type": "stream",
     "text": [
      "mkdir: cannot create directory ‘/NAS/dumbo/protocoles/HAMSI/data_NIFTI/1.3.51.0.1.1.10.49.10.222.7181502.7182575’: File exists\n"
     ]
    },
    {
     "name": "stdout",
     "output_type": "stream",
     "text": [
      "221125-13:58:19,974 nipype.interface INFO:\n",
      "\t stdout 2022-11-25T13:58:19.974419:Chris Rorden's dcm2niiX version v1.0.20211006  (JP2:OpenJPEG) GCC9.3.0 x86-64 (64-bit Linux)\n",
      "221125-13:58:19,975 nipype.interface INFO:\n",
      "\t stdout 2022-11-25T13:58:19.974419:Found 272 DICOM file(s)\n",
      "221125-13:58:19,975 nipype.interface INFO:\n",
      "\t stdout 2022-11-25T13:58:19.974419:Resolved discrepancy between tags (0020,1002; 0021,104F; 0054,0081)\n",
      "221125-13:58:19,975 nipype.interface INFO:\n",
      "\t stdout 2022-11-25T13:58:19.974419:Convert 272 DICOM as /NAS/dumbo/protocoles/HAMSI/data_NIFTI/1.3.51.0.1.1.10.49.10.222.7181502.7182575/1.2.840.113619.2.374.2807.1582298.15861.1645603804.690_RAB_CRANE_20220301145000_3 (512x512x272x1)\n",
      "221125-13:58:29,69 nipype.interface INFO:\n",
      "\t stdout 2022-11-25T13:58:29.069281:Conversion required 14.990979 seconds (8.875773 for core code).\n"
     ]
    },
    {
     "name": "stderr",
     "output_type": "stream",
     "text": [
      "mkdir: cannot create directory ‘/NAS/dumbo/protocoles/HAMSI/data_NIFTI/1.3.51.0.1.1.10.49.10.222.5912062.5912365’: File exists\n"
     ]
    },
    {
     "name": "stdout",
     "output_type": "stream",
     "text": [
      "221125-13:58:35,491 nipype.interface INFO:\n",
      "\t stdout 2022-11-25T13:58:35.491553:Chris Rorden's dcm2niiX version v1.0.20211006  (JP2:OpenJPEG) GCC9.3.0 x86-64 (64-bit Linux)\n",
      "221125-13:58:35,492 nipype.interface INFO:\n",
      "\t stdout 2022-11-25T13:58:35.491553:Found 272 DICOM file(s)\n",
      "221125-13:58:35,492 nipype.interface INFO:\n",
      "\t stdout 2022-11-25T13:58:35.491553:Resolved discrepancy between tags (0020,1002; 0021,104F; 0054,0081)\n",
      "221125-13:58:35,493 nipype.interface INFO:\n",
      "\t stdout 2022-11-25T13:58:35.491553:Convert 272 DICOM as /NAS/dumbo/protocoles/HAMSI/data_NIFTI/1.3.51.0.1.1.10.49.10.222.5912062.5912365/1.2.840.113619.2.374.2807.1582298.15666.1577950293.936_201_-_Crane_Standard_20200102144912_3 (512x512x272x1)\n",
      "221125-13:58:45,26 nipype.interface INFO:\n",
      "\t stdout 2022-11-25T13:58:45.026205:Conversion required 15.759066 seconds (9.313364 for core code).\n"
     ]
    },
    {
     "name": "stderr",
     "output_type": "stream",
     "text": [
      "mkdir: cannot create directory ‘/NAS/dumbo/protocoles/HAMSI/data_NIFTI/1.3.51.0.1.1.10.49.10.222.5943231.5943554’: File exists\n"
     ]
    },
    {
     "name": "stdout",
     "output_type": "stream",
     "text": [
      "221125-13:58:51,555 nipype.interface INFO:\n",
      "\t stdout 2022-11-25T13:58:51.555755:Chris Rorden's dcm2niiX version v1.0.20211006  (JP2:OpenJPEG) GCC9.3.0 x86-64 (64-bit Linux)\n",
      "221125-13:58:51,556 nipype.interface INFO:\n",
      "\t stdout 2022-11-25T13:58:51.555755:Found 272 DICOM file(s)\n",
      "221125-13:58:51,556 nipype.interface INFO:\n",
      "\t stdout 2022-11-25T13:58:51.555755:Resolved discrepancy between tags (0020,1002; 0021,104F; 0054,0081)\n",
      "221125-13:58:51,557 nipype.interface INFO:\n",
      "\t stdout 2022-11-25T13:58:51.555755:Convert 272 DICOM as /NAS/dumbo/protocoles/HAMSI/data_NIFTI/1.3.51.0.1.1.10.49.10.222.5943231.5943554/1.2.840.113619.2.374.2807.1582298.15177.1579505388.806_201_-_Crane_Standard_20200120161021_3 (512x512x272x1)\n",
      "221125-13:59:00,837 nipype.interface INFO:\n",
      "\t stdout 2022-11-25T13:59:00.837378:Conversion required 15.616660 seconds (9.112831 for core code).\n"
     ]
    },
    {
     "name": "stderr",
     "output_type": "stream",
     "text": [
      "mkdir: cannot create directory ‘/NAS/dumbo/protocoles/HAMSI/data_NIFTI/1.3.51.0.1.1.10.49.10.222.5907244.5907547’: File exists\n"
     ]
    },
    {
     "name": "stdout",
     "output_type": "stream",
     "text": [
      "221125-13:59:07,778 nipype.interface INFO:\n",
      "\t stdout 2022-11-25T13:59:07.778884:Chris Rorden's dcm2niiX version v1.0.20211006  (JP2:OpenJPEG) GCC9.3.0 x86-64 (64-bit Linux)\n",
      "221125-13:59:07,779 nipype.interface INFO:\n",
      "\t stdout 2022-11-25T13:59:07.778884:Found 272 DICOM file(s)\n",
      "221125-13:59:07,780 nipype.interface INFO:\n",
      "\t stdout 2022-11-25T13:59:07.778884:Resolved discrepancy between tags (0020,1002; 0021,104F; 0054,0081)\n",
      "221125-13:59:07,780 nipype.interface INFO:\n",
      "\t stdout 2022-11-25T13:59:07.778884:Convert 272 DICOM as /NAS/dumbo/protocoles/HAMSI/data_NIFTI/1.3.51.0.1.1.10.49.10.222.5907244.5907547/1.2.840.113619.2.374.2807.1582298.15664.1577692442.102_201_-_Crane_Standard_20191230093745_3 (512x512x272x1)\n",
      "221125-13:59:17,123 nipype.interface INFO:\n",
      "\t stdout 2022-11-25T13:59:17.123568:Conversion required 16.087902 seconds (9.135750 for core code).\n"
     ]
    },
    {
     "name": "stderr",
     "output_type": "stream",
     "text": [
      "mkdir: cannot create directory ‘/NAS/dumbo/protocoles/HAMSI/data_NIFTI/1.3.51.0.1.1.10.49.10.222.7382516.7383668’: File exists\n"
     ]
    },
    {
     "name": "stdout",
     "output_type": "stream",
     "text": [
      "221125-13:59:22,287 nipype.interface INFO:\n",
      "\t stdout 2022-11-25T13:59:22.287266:Chris Rorden's dcm2niiX version v1.0.20211006  (JP2:OpenJPEG) GCC9.3.0 x86-64 (64-bit Linux)\n",
      "221125-13:59:22,288 nipype.interface INFO:\n",
      "\t stdout 2022-11-25T13:59:22.287266:Found 272 DICOM file(s)\n",
      "221125-13:59:22,288 nipype.interface INFO:\n",
      "\t stdout 2022-11-25T13:59:22.287266:Resolved discrepancy between tags (0020,1002; 0021,104F; 0054,0081)\n",
      "221125-13:59:22,289 nipype.interface INFO:\n",
      "\t stdout 2022-11-25T13:59:22.287266:Convert 272 DICOM as /NAS/dumbo/protocoles/HAMSI/data_NIFTI/1.3.51.0.1.1.10.49.10.222.7382516.7383668/1.2.840.113619.2.374.2807.1582298.18723.1655879579.574_201_-_Crane_Standard_20220629105351_4 (512x512x272x1)\n",
      "221125-13:59:32,173 nipype.interface INFO:\n",
      "\t stdout 2022-11-25T13:59:32.173410:Conversion required 14.826434 seconds (9.733316 for core code).\n"
     ]
    },
    {
     "name": "stderr",
     "output_type": "stream",
     "text": [
      "mkdir: cannot create directory ‘/NAS/dumbo/protocoles/HAMSI/data_NIFTI/1.3.51.0.1.1.10.49.10.222.7524515.7525759’: File exists\n"
     ]
    },
    {
     "name": "stdout",
     "output_type": "stream",
     "text": [
      "221125-13:59:39,494 nipype.interface INFO:\n",
      "\t stdout 2022-11-25T13:59:39.494764:Chris Rorden's dcm2niiX version v1.0.20211006  (JP2:OpenJPEG) GCC9.3.0 x86-64 (64-bit Linux)\n",
      "221125-13:59:39,495 nipype.interface INFO:\n",
      "\t stdout 2022-11-25T13:59:39.494764:Found 272 DICOM file(s)\n",
      "221125-13:59:39,495 nipype.interface INFO:\n",
      "\t stdout 2022-11-25T13:59:39.494764:Resolved discrepancy between tags (0020,1002; 0021,104F; 0054,0081)\n",
      "221125-13:59:39,496 nipype.interface INFO:\n",
      "\t stdout 2022-11-25T13:59:39.494764:Convert 272 DICOM as /NAS/dumbo/protocoles/HAMSI/data_NIFTI/1.3.51.0.1.1.10.49.10.222.7524515.7525759/1.2.840.113619.2.374.2807.1582298.15602.1663740941.905_201_-_Crane_Standard_20220927155817_3 (512x512x272x1)\n",
      "221125-13:59:48,773 nipype.interface INFO:\n",
      "\t stdout 2022-11-25T13:59:48.773126:Conversion required 16.395669 seconds (9.071949 for core code).\n"
     ]
    },
    {
     "name": "stderr",
     "output_type": "stream",
     "text": [
      "mkdir: cannot create directory ‘/NAS/dumbo/protocoles/HAMSI/data_NIFTI/1.3.51.0.1.1.10.49.10.222.5963804.5964141’: File exists\n"
     ]
    },
    {
     "name": "stdout",
     "output_type": "stream",
     "text": [
      "221125-13:59:55,871 nipype.interface INFO:\n",
      "\t stdout 2022-11-25T13:59:55.871829:Chris Rorden's dcm2niiX version v1.0.20211006  (JP2:OpenJPEG) GCC9.3.0 x86-64 (64-bit Linux)\n",
      "221125-13:59:55,873 nipype.interface INFO:\n",
      "\t stdout 2022-11-25T13:59:55.871829:Found 272 DICOM file(s)\n",
      "221125-13:59:55,873 nipype.interface INFO:\n",
      "\t stdout 2022-11-25T13:59:55.871829:Resolved discrepancy between tags (0020,1002; 0021,104F; 0054,0081)\n",
      "221125-13:59:55,873 nipype.interface INFO:\n",
      "\t stdout 2022-11-25T13:59:55.871829:Convert 272 DICOM as /NAS/dumbo/protocoles/HAMSI/data_NIFTI/1.3.51.0.1.1.10.49.10.222.5963804.5964141/1.2.840.113619.2.374.2807.1582298.16263.1580300533.407_201_-_Crane_Standard_20200130135245_3 (512x512x272x1)\n",
      "221125-14:00:05,165 nipype.interface INFO:\n",
      "\t stdout 2022-11-25T14:00:05.165294:Conversion required 16.195625 seconds (9.115542 for core code).\n"
     ]
    },
    {
     "name": "stderr",
     "output_type": "stream",
     "text": [
      "mkdir: cannot create directory ‘/NAS/dumbo/protocoles/HAMSI/data_NIFTI/1.3.51.0.1.1.10.49.10.222.6348895.6349440’: File exists\n"
     ]
    },
    {
     "name": "stdout",
     "output_type": "stream",
     "text": [
      "221125-14:00:10,570 nipype.interface INFO:\n",
      "\t stdout 2022-11-25T14:00:10.570026:Chris Rorden's dcm2niiX version v1.0.20211006  (JP2:OpenJPEG) GCC9.3.0 x86-64 (64-bit Linux)\n",
      "221125-14:00:10,570 nipype.interface INFO:\n",
      "\t stdout 2022-11-25T14:00:10.570026:Found 272 DICOM file(s)\n",
      "221125-14:00:10,571 nipype.interface INFO:\n",
      "\t stdout 2022-11-25T14:00:10.570026:Resolved discrepancy between tags (0020,1002; 0021,104F; 0054,0081)\n",
      "221125-14:00:10,571 nipype.interface INFO:\n",
      "\t stdout 2022-11-25T14:00:10.570026:Convert 272 DICOM as /NAS/dumbo/protocoles/HAMSI/data_NIFTI/1.3.51.0.1.1.10.49.10.222.6348895.6349440/1.2.840.113619.2.374.2807.1582298.14813.1601964910.722_201_-_Crane_Standard_20201014114002_4 (512x512x272x1)\n",
      "221125-14:00:21,0 nipype.interface INFO:\n",
      "\t stdout 2022-11-25T14:00:21.000097:Conversion required 15.644032 seconds (10.337610 for core code).\n"
     ]
    },
    {
     "name": "stderr",
     "output_type": "stream",
     "text": [
      "mkdir: cannot create directory ‘/NAS/dumbo/protocoles/HAMSI/data_NIFTI/1.3.51.0.1.1.10.49.10.222.6052467.6052846’: File exists\n"
     ]
    },
    {
     "name": "stdout",
     "output_type": "stream",
     "text": [
      "221125-14:00:26,440 nipype.interface INFO:\n",
      "\t stdout 2022-11-25T14:00:26.440821:Chris Rorden's dcm2niiX version v1.0.20211006  (JP2:OpenJPEG) GCC9.3.0 x86-64 (64-bit Linux)\n",
      "221125-14:00:26,441 nipype.interface INFO:\n",
      "\t stdout 2022-11-25T14:00:26.440821:Found 272 DICOM file(s)\n",
      "221125-14:00:26,442 nipype.interface INFO:\n",
      "\t stdout 2022-11-25T14:00:26.440821:Resolved discrepancy between tags (0020,1002; 0021,104F; 0054,0081)\n",
      "221125-14:00:26,442 nipype.interface INFO:\n",
      "\t stdout 2022-11-25T14:00:26.440821:Convert 272 DICOM as /NAS/dumbo/protocoles/HAMSI/data_NIFTI/1.3.51.0.1.1.10.49.10.222.6052467.6052846/1.2.840.113619.2.374.2807.1582298.12663.1585063994.277_201_-_Crane_Standard_20200325091243_3 (512x512x272x1)\n",
      "221125-14:00:36,862 nipype.interface INFO:\n",
      "\t stdout 2022-11-25T14:00:36.862738:Conversion required 15.649188 seconds (10.112593 for core code).\n"
     ]
    },
    {
     "name": "stderr",
     "output_type": "stream",
     "text": [
      "mkdir: cannot create directory ‘/NAS/dumbo/protocoles/HAMSI/data_NIFTI/1.3.51.0.1.1.10.49.10.222.6697524.6698275’: File exists\n"
     ]
    },
    {
     "name": "stdout",
     "output_type": "stream",
     "text": [
      "221125-14:00:42,884 nipype.interface INFO:\n",
      "\t stdout 2022-11-25T14:00:42.884878:Chris Rorden's dcm2niiX version v1.0.20211006  (JP2:OpenJPEG) GCC9.3.0 x86-64 (64-bit Linux)\n",
      "221125-14:00:42,885 nipype.interface INFO:\n",
      "\t stdout 2022-11-25T14:00:42.884878:Found 272 DICOM file(s)\n",
      "221125-14:00:42,886 nipype.interface INFO:\n",
      "\t stdout 2022-11-25T14:00:42.884878:Resolved discrepancy between tags (0020,1002; 0021,104F; 0054,0081)\n",
      "221125-14:00:42,886 nipype.interface INFO:\n",
      "\t stdout 2022-11-25T14:00:42.884878:Convert 272 DICOM as /NAS/dumbo/protocoles/HAMSI/data_NIFTI/1.3.51.0.1.1.10.49.10.222.6697524.6698275/1.2.840.113619.2.374.2807.1582298.16411.1620022306.464_201_-_Crane_Standard_20210510121222_3 (512x512x272x1)\n",
      "221125-14:00:53,11 nipype.interface INFO:\n",
      "\t stdout 2022-11-25T14:00:53.011713:Conversion required 15.954501 seconds (10.037186 for core code).\n"
     ]
    },
    {
     "name": "stderr",
     "output_type": "stream",
     "text": [
      "mkdir: cannot create directory ‘/NAS/dumbo/protocoles/HAMSI/data_NIFTI/1.3.51.0.1.1.10.49.10.222.6455650.6456250’: File exists\n"
     ]
    },
    {
     "name": "stdout",
     "output_type": "stream",
     "text": [
      "221125-14:00:58,897 nipype.interface INFO:\n",
      "\t stdout 2022-11-25T14:00:58.896971:Chris Rorden's dcm2niiX version v1.0.20211006  (JP2:OpenJPEG) GCC9.3.0 x86-64 (64-bit Linux)\n",
      "221125-14:00:58,897 nipype.interface INFO:\n",
      "\t stdout 2022-11-25T14:00:58.896971:Found 272 DICOM file(s)\n",
      "221125-14:00:58,898 nipype.interface INFO:\n",
      "\t stdout 2022-11-25T14:00:58.896971:Resolved discrepancy between tags (0020,1002; 0021,104F; 0054,0081)\n",
      "221125-14:00:58,898 nipype.interface INFO:\n",
      "\t stdout 2022-11-25T14:00:58.896971:Convert 272 DICOM as /NAS/dumbo/protocoles/HAMSI/data_NIFTI/1.3.51.0.1.1.10.49.10.222.6455650.6456250/1.2.840.113619.2.374.2807.1582298.15679.1608111132.240_201_-_Crane_Standard_20201217132346_3 (512x512x272x1)\n",
      "221125-14:01:08,492 nipype.interface INFO:\n",
      "\t stdout 2022-11-25T14:01:08.492705:Conversion required 15.280535 seconds (9.428253 for core code).\n"
     ]
    },
    {
     "name": "stderr",
     "output_type": "stream",
     "text": [
      "mkdir: cannot create directory ‘/NAS/dumbo/protocoles/HAMSI/data_NIFTI/1.3.51.0.1.1.10.49.10.222.6062831.6063223’: File exists\n"
     ]
    },
    {
     "name": "stdout",
     "output_type": "stream",
     "text": [
      "221125-14:01:14,522 nipype.interface INFO:\n",
      "\t stdout 2022-11-25T14:01:14.522400:Chris Rorden's dcm2niiX version v1.0.20211006  (JP2:OpenJPEG) GCC9.3.0 x86-64 (64-bit Linux)\n",
      "221125-14:01:14,523 nipype.interface INFO:\n",
      "\t stdout 2022-11-25T14:01:14.522400:Found 272 DICOM file(s)\n",
      "221125-14:01:14,524 nipype.interface INFO:\n",
      "\t stdout 2022-11-25T14:01:14.522400:Resolved discrepancy between tags (0020,1002; 0021,104F; 0054,0081)\n",
      "221125-14:01:14,525 nipype.interface INFO:\n",
      "\t stdout 2022-11-25T14:01:14.522400:Convert 272 DICOM as /NAS/dumbo/protocoles/HAMSI/data_NIFTI/1.3.51.0.1.1.10.49.10.222.6062831.6063223/1.2.840.113619.2.374.2807.1582298.12773.1585551952.885_201_-_Crane_Standard_20200403142603_3 (512x512x272x1)\n",
      "221125-14:01:23,535 nipype.interface INFO:\n",
      "\t stdout 2022-11-25T14:01:23.535352:Conversion required 14.846050 seconds (8.794943 for core code).\n"
     ]
    },
    {
     "name": "stderr",
     "output_type": "stream",
     "text": [
      "mkdir: cannot create directory ‘/NAS/dumbo/protocoles/HAMSI/data_NIFTI/1.3.51.0.1.1.10.49.10.222.6598166.6598870’: File exists\n"
     ]
    },
    {
     "name": "stdout",
     "output_type": "stream",
     "text": [
      "221125-14:01:30,681 nipype.interface INFO:\n",
      "\t stdout 2022-11-25T14:01:30.680912:Chris Rorden's dcm2niiX version v1.0.20211006  (JP2:OpenJPEG) GCC9.3.0 x86-64 (64-bit Linux)\n",
      "221125-14:01:30,681 nipype.interface INFO:\n",
      "\t stdout 2022-11-25T14:01:30.680912:Found 272 DICOM file(s)\n",
      "221125-14:01:30,682 nipype.interface INFO:\n",
      "\t stdout 2022-11-25T14:01:30.680912:Resolved discrepancy between tags (0020,1002; 0021,104F; 0054,0081)\n",
      "221125-14:01:30,682 nipype.interface INFO:\n",
      "\t stdout 2022-11-25T14:01:30.680912:Convert 272 DICOM as /NAS/dumbo/protocoles/HAMSI/data_NIFTI/1.3.51.0.1.1.10.49.10.222.6598166.6598870/1.2.840.113619.2.374.2807.1582298.15459.1613718409.829_RAB_CRANE_20210312140711_3 (512x512x272x1)\n",
      "221125-14:01:40,125 nipype.interface INFO:\n",
      "\t stdout 2022-11-25T14:01:40.125122:Conversion required 16.378855 seconds (9.285476 for core code).\n"
     ]
    },
    {
     "name": "stderr",
     "output_type": "stream",
     "text": [
      "mkdir: cannot create directory ‘/NAS/dumbo/protocoles/HAMSI/data_NIFTI/1.3.51.0.1.1.10.49.10.222.7482133.7483333’: File exists\n"
     ]
    },
    {
     "name": "stdout",
     "output_type": "stream",
     "text": [
      "221125-14:01:45,701 nipype.interface INFO:\n",
      "\t stdout 2022-11-25T14:01:45.701863:Chris Rorden's dcm2niiX version v1.0.20211006  (JP2:OpenJPEG) GCC9.3.0 x86-64 (64-bit Linux)\n",
      "221125-14:01:45,702 nipype.interface INFO:\n",
      "\t stdout 2022-11-25T14:01:45.701863:Found 272 DICOM file(s)\n",
      "221125-14:01:45,703 nipype.interface INFO:\n",
      "\t stdout 2022-11-25T14:01:45.701863:Resolved discrepancy between tags (0020,1002; 0021,104F; 0054,0081)\n",
      "221125-14:01:45,703 nipype.interface INFO:\n",
      "\t stdout 2022-11-25T14:01:45.701863:Convert 272 DICOM as /NAS/dumbo/protocoles/HAMSI/data_NIFTI/1.3.51.0.1.1.10.49.10.222.7482133.7483333/1.2.840.113619.2.374.2807.1582298.17611.1661341682.182_201_-_Crane_Standard_20220902160541_5 (512x512x272x1)\n",
      "221125-14:01:54,945 nipype.interface INFO:\n",
      "\t stdout 2022-11-25T14:01:54.945184:Conversion required 14.628058 seconds (9.029450 for core code).\n"
     ]
    },
    {
     "name": "stderr",
     "output_type": "stream",
     "text": [
      "mkdir: cannot create directory ‘/NAS/dumbo/protocoles/HAMSI/data_NIFTI/1.3.51.0.1.1.10.49.10.222.6580349.6581031’: File exists\n"
     ]
    },
    {
     "name": "stdout",
     "output_type": "stream",
     "text": [
      "221125-14:02:00,983 nipype.interface INFO:\n",
      "\t stdout 2022-11-25T14:02:00.983100:Chris Rorden's dcm2niiX version v1.0.20211006  (JP2:OpenJPEG) GCC9.3.0 x86-64 (64-bit Linux)\n",
      "221125-14:02:00,984 nipype.interface INFO:\n",
      "\t stdout 2022-11-25T14:02:00.983100:Found 272 DICOM file(s)\n",
      "221125-14:02:00,984 nipype.interface INFO:\n",
      "\t stdout 2022-11-25T14:02:00.983100:Resolved discrepancy between tags (0020,1002; 0021,104F; 0054,0081)\n",
      "221125-14:02:00,985 nipype.interface INFO:\n",
      "\t stdout 2022-11-25T14:02:00.983100:Convert 272 DICOM as /NAS/dumbo/protocoles/HAMSI/data_NIFTI/1.3.51.0.1.1.10.49.10.222.6580349.6581031/1.2.840.113619.2.374.2807.1582298.15459.1613718409.177_201_-_Crane_Standard_20210302144459_4 (512x512x272x1)\n",
      "221125-14:02:10,418 nipype.interface INFO:\n",
      "\t stdout 2022-11-25T14:02:10.418570:Conversion required 15.278875 seconds (9.254652 for core code).\n"
     ]
    },
    {
     "name": "stderr",
     "output_type": "stream",
     "text": [
      "mkdir: cannot create directory ‘/NAS/dumbo/protocoles/HAMSI/data_NIFTI/1.3.51.0.1.1.10.49.10.222.6088422.6088846’: File exists\n"
     ]
    },
    {
     "name": "stdout",
     "output_type": "stream",
     "text": [
      "221125-14:02:17,776 nipype.interface INFO:\n",
      "\t stdout 2022-11-25T14:02:17.776534:Chris Rorden's dcm2niiX version v1.0.20211006  (JP2:OpenJPEG) GCC9.3.0 x86-64 (64-bit Linux)\n",
      "221125-14:02:17,777 nipype.interface INFO:\n",
      "\t stdout 2022-11-25T14:02:17.776534:Found 272 DICOM file(s)\n",
      "221125-14:02:17,777 nipype.interface INFO:\n",
      "\t stdout 2022-11-25T14:02:17.776534:Resolved discrepancy between tags (0020,1002; 0021,104F; 0054,0081)\n",
      "221125-14:02:17,778 nipype.interface INFO:\n",
      "\t stdout 2022-11-25T14:02:17.776534:Convert 272 DICOM as /NAS/dumbo/protocoles/HAMSI/data_NIFTI/1.3.51.0.1.1.10.49.10.222.6088422.6088846/1.2.840.113619.2.374.2807.1582298.14971.1587731204.310_201_-_Crane_Standard_20200428141729_3 (512x512x272x1)\n",
      "221125-14:02:27,102 nipype.interface INFO:\n",
      "\t stdout 2022-11-25T14:02:27.101957:Conversion required 16.477096 seconds (9.132817 for core code).\n"
     ]
    },
    {
     "name": "stderr",
     "output_type": "stream",
     "text": [
      "mkdir: cannot create directory ‘/NAS/dumbo/protocoles/HAMSI/data_NIFTI/1.3.51.0.1.1.10.49.10.222.6448963.6449557’: File exists\n"
     ]
    },
    {
     "name": "stdout",
     "output_type": "stream",
     "text": [
      "221125-14:02:32,952 nipype.interface INFO:\n",
      "\t stdout 2022-11-25T14:02:32.952675:Chris Rorden's dcm2niiX version v1.0.20211006  (JP2:OpenJPEG) GCC9.3.0 x86-64 (64-bit Linux)\n",
      "221125-14:02:32,953 nipype.interface INFO:\n",
      "\t stdout 2022-11-25T14:02:32.952675:Found 272 DICOM file(s)\n",
      "221125-14:02:32,954 nipype.interface INFO:\n",
      "\t stdout 2022-11-25T14:02:32.952675:Resolved discrepancy between tags (0020,1002; 0021,104F; 0054,0081)\n",
      "221125-14:02:32,954 nipype.interface INFO:\n",
      "\t stdout 2022-11-25T14:02:32.952675:Convert 272 DICOM as /NAS/dumbo/protocoles/HAMSI/data_NIFTI/1.3.51.0.1.1.10.49.10.222.6448963.6449557/1.2.840.113619.2.374.2807.1582298.15598.1607930102.36_201_-_Crane_Standard_20201214144403_3 (512x512x272x1)\n",
      "221125-14:02:43,252 nipype.interface INFO:\n",
      "\t stdout 2022-11-25T14:02:43.252757:Conversion required 15.939035 seconds (10.164821 for core code).\n"
     ]
    },
    {
     "name": "stderr",
     "output_type": "stream",
     "text": [
      "mkdir: cannot create directory ‘/NAS/dumbo/protocoles/HAMSI/data_NIFTI/1.3.51.0.1.1.10.49.10.222.6527623.6528282’: File exists\n"
     ]
    },
    {
     "name": "stdout",
     "output_type": "stream",
     "text": [
      "221125-14:02:50,238 nipype.interface INFO:\n",
      "\t stdout 2022-11-25T14:02:50.238454:Chris Rorden's dcm2niiX version v1.0.20211006  (JP2:OpenJPEG) GCC9.3.0 x86-64 (64-bit Linux)\n",
      "221125-14:02:50,239 nipype.interface INFO:\n",
      "\t stdout 2022-11-25T14:02:50.238454:Found 272 DICOM file(s)\n",
      "221125-14:02:50,239 nipype.interface INFO:\n",
      "\t stdout 2022-11-25T14:02:50.238454:Resolved discrepancy between tags (0020,1002; 0021,104F; 0054,0081)\n",
      "221125-14:02:50,240 nipype.interface INFO:\n",
      "\t stdout 2022-11-25T14:02:50.238454:Convert 272 DICOM as /NAS/dumbo/protocoles/HAMSI/data_NIFTI/1.3.51.0.1.1.10.49.10.222.6527623.6528282/1.2.840.113619.2.374.2807.1582298.15541.1611325033.584_201_-_Crane_Standard_20210201135115_4 (512x512x272x1)\n",
      "221125-14:03:00,211 nipype.interface INFO:\n",
      "\t stdout 2022-11-25T14:03:00.211943:Conversion required 16.765997 seconds (9.837911 for core code).\n"
     ]
    },
    {
     "name": "stderr",
     "output_type": "stream",
     "text": [
      "mkdir: cannot create directory ‘/NAS/dumbo/protocoles/HAMSI/data_NIFTI/1.3.51.0.1.1.10.49.10.222.6609029.6609738’: File exists\n"
     ]
    },
    {
     "name": "stdout",
     "output_type": "stream",
     "text": [
      "221125-14:03:07,286 nipype.interface INFO:\n",
      "\t stdout 2022-11-25T14:03:07.286287:Chris Rorden's dcm2niiX version v1.0.20211006  (JP2:OpenJPEG) GCC9.3.0 x86-64 (64-bit Linux)\n",
      "221125-14:03:07,287 nipype.interface INFO:\n",
      "\t stdout 2022-11-25T14:03:07.286287:Found 272 DICOM file(s)\n",
      "221125-14:03:07,287 nipype.interface INFO:\n",
      "\t stdout 2022-11-25T14:03:07.286287:Resolved discrepancy between tags (0020,1002; 0021,104F; 0054,0081)\n",
      "221125-14:03:07,288 nipype.interface INFO:\n",
      "\t stdout 2022-11-25T14:03:07.286287:Convert 272 DICOM as /NAS/dumbo/protocoles/HAMSI/data_NIFTI/1.3.51.0.1.1.10.49.10.222.6609029.6609738/1.2.840.113619.2.374.2807.1582298.15376.1615894193.89_RAB_CRANE_20210318120105_3 (512x512x272x1)\n",
      "221125-14:03:17,275 nipype.interface INFO:\n",
      "\t stdout 2022-11-25T14:03:17.275070:Conversion required 16.860286 seconds (9.855371 for core code).\n"
     ]
    },
    {
     "name": "stderr",
     "output_type": "stream",
     "text": [
      "mkdir: cannot create directory ‘/NAS/dumbo/protocoles/HAMSI/data_NIFTI/1.3.51.0.1.1.10.49.10.222.6518808.6519461’: File exists\n"
     ]
    },
    {
     "name": "stdout",
     "output_type": "stream",
     "text": [
      "221125-14:03:25,282 nipype.interface INFO:\n",
      "\t stdout 2022-11-25T14:03:25.282516:Chris Rorden's dcm2niiX version v1.0.20211006  (JP2:OpenJPEG) GCC9.3.0 x86-64 (64-bit Linux)\n",
      "221125-14:03:25,283 nipype.interface INFO:\n",
      "\t stdout 2022-11-25T14:03:25.282516:Found 272 DICOM file(s)\n",
      "221125-14:03:25,284 nipype.interface INFO:\n",
      "\t stdout 2022-11-25T14:03:25.282516:Resolved discrepancy between tags (0020,1002; 0021,104F; 0054,0081)\n",
      "221125-14:03:25,284 nipype.interface INFO:\n",
      "\t stdout 2022-11-25T14:03:25.282516:Convert 272 DICOM as /NAS/dumbo/protocoles/HAMSI/data_NIFTI/1.3.51.0.1.1.10.49.10.222.6518808.6519461/1.2.840.113619.2.374.2807.1582298.15541.1611325033.228_BRANLOMAN_20210126153955_3 (512x512x272x1)\n",
      "221125-14:03:35,198 nipype.interface INFO:\n",
      "\t stdout 2022-11-25T14:03:35.198164:Conversion required 17.724917 seconds (9.767238 for core code).\n"
     ]
    },
    {
     "name": "stderr",
     "output_type": "stream",
     "text": [
      "mkdir: cannot create directory ‘/NAS/dumbo/protocoles/HAMSI/data_NIFTI/1.3.51.0.1.1.10.49.10.222.7042891.7043867’: File exists\n"
     ]
    },
    {
     "name": "stdout",
     "output_type": "stream",
     "text": [
      "221125-14:03:41,500 nipype.interface INFO:\n",
      "\t stdout 2022-11-25T14:03:41.500585:Chris Rorden's dcm2niiX version v1.0.20211006  (JP2:OpenJPEG) GCC9.3.0 x86-64 (64-bit Linux)\n",
      "221125-14:03:41,501 nipype.interface INFO:\n",
      "\t stdout 2022-11-25T14:03:41.500585:Found 272 DICOM file(s)\n",
      "221125-14:03:41,502 nipype.interface INFO:\n",
      "\t stdout 2022-11-25T14:03:41.500585:Resolved discrepancy between tags (0020,1002; 0021,104F; 0054,0081)\n",
      "221125-14:03:41,502 nipype.interface INFO:\n",
      "\t stdout 2022-11-25T14:03:41.500585:Convert 272 DICOM as /NAS/dumbo/protocoles/HAMSI/data_NIFTI/1.3.51.0.1.1.10.49.10.222.7042891.7043867/1.2.840.113619.2.374.2807.1582298.15164.1639410474.235_201_-_Crane_Standard_20211228084558_3 (512x512x272x1)\n",
      "221125-14:03:50,724 nipype.interface INFO:\n",
      "\t stdout 2022-11-25T14:03:50.724080:Conversion required 15.311098 seconds (9.008108 for core code).\n"
     ]
    },
    {
     "name": "stderr",
     "output_type": "stream",
     "text": [
      "mkdir: cannot create directory ‘/NAS/dumbo/protocoles/HAMSI/data_NIFTI/1.3.51.0.1.1.10.49.10.222.6810840.6811677’: File exists\n"
     ]
    },
    {
     "name": "stdout",
     "output_type": "stream",
     "text": [
      "221125-14:03:56,844 nipype.interface INFO:\n",
      "\t stdout 2022-11-25T14:03:56.844473:Chris Rorden's dcm2niiX version v1.0.20211006  (JP2:OpenJPEG) GCC9.3.0 x86-64 (64-bit Linux)\n",
      "221125-14:03:56,845 nipype.interface INFO:\n",
      "\t stdout 2022-11-25T14:03:56.844473:Found 272 DICOM file(s)\n",
      "221125-14:03:56,845 nipype.interface INFO:\n",
      "\t stdout 2022-11-25T14:03:56.844473:Resolved discrepancy between tags (0020,1002; 0021,104F; 0054,0081)\n",
      "221125-14:03:56,846 nipype.interface INFO:\n",
      "\t stdout 2022-11-25T14:03:56.844473:Convert 272 DICOM as /NAS/dumbo/protocoles/HAMSI/data_NIFTI/1.3.51.0.1.1.10.49.10.222.6810840.6811677/1.2.840.113619.2.374.2807.1582298.17961.1626070427.922_201_-_Crane_Standard_20210716114700_4 (512x512x272x1)\n",
      "221125-14:04:06,208 nipype.interface INFO:\n",
      "\t stdout 2022-11-25T14:04:06.208072:Conversion required 15.290933 seconds (9.142945 for core code).\n"
     ]
    },
    {
     "name": "stderr",
     "output_type": "stream",
     "text": [
      "mkdir: cannot create directory ‘/NAS/dumbo/protocoles/HAMSI/data_NIFTI/1.3.51.0.1.1.10.49.10.222.6639037.6639757’: File exists\n"
     ]
    },
    {
     "name": "stdout",
     "output_type": "stream",
     "text": [
      "221125-14:04:13,785 nipype.interface INFO:\n",
      "\t stdout 2022-11-25T14:04:13.785591:Chris Rorden's dcm2niiX version v1.0.20211006  (JP2:OpenJPEG) GCC9.3.0 x86-64 (64-bit Linux)\n",
      "221125-14:04:13,786 nipype.interface INFO:\n",
      "\t stdout 2022-11-25T14:04:13.785591:Found 272 DICOM file(s)\n",
      "221125-14:04:13,787 nipype.interface INFO:\n",
      "\t stdout 2022-11-25T14:04:13.785591:Resolved discrepancy between tags (0020,1002; 0021,104F; 0054,0081)\n",
      "221125-14:04:13,788 nipype.interface INFO:\n",
      "\t stdout 2022-11-25T14:04:13.785591:Convert 272 DICOM as /NAS/dumbo/protocoles/HAMSI/data_NIFTI/1.3.51.0.1.1.10.49.10.222.6639037.6639757/1.2.840.113619.2.374.2807.1582298.15069.1616601327.247_201_-_Crane_Standard_20210406123530_3 (512x512x272x1)\n",
      "221125-14:04:22,943 nipype.interface INFO:\n",
      "\t stdout 2022-11-25T14:04:22.943857:Conversion required 16.517185 seconds (8.939563 for core code).\n"
     ]
    },
    {
     "name": "stderr",
     "output_type": "stream",
     "text": [
      "mkdir: cannot create directory ‘/NAS/dumbo/protocoles/HAMSI/data_NIFTI/1.3.51.0.1.1.10.49.10.222.7282017.7283133’: File exists\n"
     ]
    },
    {
     "name": "stdout",
     "output_type": "stream",
     "text": [
      "221125-14:04:29,528 nipype.interface INFO:\n",
      "\t stdout 2022-11-25T14:04:29.528179:Chris Rorden's dcm2niiX version v1.0.20211006  (JP2:OpenJPEG) GCC9.3.0 x86-64 (64-bit Linux)\n",
      "221125-14:04:29,529 nipype.interface INFO:\n",
      "\t stdout 2022-11-25T14:04:29.528179:Found 272 DICOM file(s)\n",
      "221125-14:04:29,529 nipype.interface INFO:\n",
      "\t stdout 2022-11-25T14:04:29.528179:Resolved discrepancy between tags (0020,1002; 0021,104F; 0054,0081)\n",
      "221125-14:04:29,529 nipype.interface INFO:\n",
      "\t stdout 2022-11-25T14:04:29.528179:Convert 272 DICOM as /NAS/dumbo/protocoles/HAMSI/data_NIFTI/1.3.51.0.1.1.10.49.10.222.7282017.7283133/1.2.840.113619.2.374.2807.1582298.15832.1651062618.725_RAB_CRANE_20220428155809_3 (512x512x272x1)\n",
      "221125-14:04:39,287 nipype.interface INFO:\n",
      "\t stdout 2022-11-25T14:04:39.287828:Conversion required 16.143620 seconds (9.600921 for core code).\n"
     ]
    },
    {
     "name": "stderr",
     "output_type": "stream",
     "text": [
      "mkdir: cannot create directory ‘/NAS/dumbo/protocoles/HAMSI/data_NIFTI/1.3.51.0.1.1.10.49.10.222.6484438.6485082’: File exists\n"
     ]
    },
    {
     "name": "stdout",
     "output_type": "stream",
     "text": [
      "221125-14:04:45,477 nipype.interface INFO:\n",
      "\t stdout 2022-11-25T14:04:45.477688:Chris Rorden's dcm2niiX version v1.0.20211006  (JP2:OpenJPEG) GCC9.3.0 x86-64 (64-bit Linux)\n",
      "221125-14:04:45,478 nipype.interface INFO:\n",
      "\t stdout 2022-11-25T14:04:45.477688:Found 272 DICOM file(s)\n",
      "221125-14:04:45,479 nipype.interface INFO:\n",
      "\t stdout 2022-11-25T14:04:45.477688:Resolved discrepancy between tags (0020,1002; 0021,104F; 0054,0081)\n",
      "221125-14:04:45,479 nipype.interface INFO:\n",
      "\t stdout 2022-11-25T14:04:45.477688:Convert 272 DICOM as /NAS/dumbo/protocoles/HAMSI/data_NIFTI/1.3.51.0.1.1.10.49.10.222.6484438.6485082/1.2.840.113619.2.374.2807.1582298.16181.1610014508.701_201_-_Crane_Standard_20210107142057_3 (512x512x272x1)\n",
      "221125-14:04:54,895 nipype.interface INFO:\n",
      "\t stdout 2022-11-25T14:04:54.895449:Conversion required 15.407231 seconds (9.253774 for core code).\n"
     ]
    },
    {
     "name": "stderr",
     "output_type": "stream",
     "text": [
      "mkdir: cannot create directory ‘/NAS/dumbo/protocoles/HAMSI/data_NIFTI/1.3.51.0.1.1.10.49.10.222.7332734.7333867’: File exists\n"
     ]
    },
    {
     "name": "stdout",
     "output_type": "stream",
     "text": [
      "221125-14:05:01,691 nipype.interface INFO:\n",
      "\t stdout 2022-11-25T14:05:01.691015:Chris Rorden's dcm2niiX version v1.0.20211006  (JP2:OpenJPEG) GCC9.3.0 x86-64 (64-bit Linux)\n",
      "221125-14:05:01,692 nipype.interface INFO:\n",
      "\t stdout 2022-11-25T14:05:01.691015:Found 272 DICOM file(s)\n",
      "221125-14:05:01,692 nipype.interface INFO:\n",
      "\t stdout 2022-11-25T14:05:01.691015:Resolved discrepancy between tags (0020,1002; 0021,104F; 0054,0081)\n",
      "221125-14:05:01,693 nipype.interface INFO:\n",
      "\t stdout 2022-11-25T14:05:01.691015:Convert 272 DICOM as /NAS/dumbo/protocoles/HAMSI/data_NIFTI/1.3.51.0.1.1.10.49.10.222.7332734.7333867/1.2.840.113619.2.374.2807.1582298.15709.1652425840.952_201_-_Crane_Standard_20220530140139_3 (512x512x272x1)\n",
      "221125-14:05:11,96 nipype.interface INFO:\n",
      "\t stdout 2022-11-25T14:05:11.096268:Conversion required 16.005467 seconds (9.200357 for core code).\n"
     ]
    },
    {
     "name": "stderr",
     "output_type": "stream",
     "text": [
      "mkdir: cannot create directory ‘/NAS/dumbo/protocoles/HAMSI/data_NIFTI/1.3.51.0.1.1.10.49.10.222.6915789.6916702’: File exists\n"
     ]
    },
    {
     "name": "stdout",
     "output_type": "stream",
     "text": [
      "221125-14:05:17,793 nipype.interface INFO:\n",
      "\t stdout 2022-11-25T14:05:17.793393:Chris Rorden's dcm2niiX version v1.0.20211006  (JP2:OpenJPEG) GCC9.3.0 x86-64 (64-bit Linux)\n",
      "221125-14:05:17,794 nipype.interface INFO:\n",
      "\t stdout 2022-11-25T14:05:17.793393:Found 272 DICOM file(s)\n",
      "221125-14:05:17,794 nipype.interface INFO:\n",
      "\t stdout 2022-11-25T14:05:17.793393:Resolved discrepancy between tags (0020,1002; 0021,104F; 0054,0081)\n",
      "221125-14:05:17,795 nipype.interface INFO:\n",
      "\t stdout 2022-11-25T14:05:17.793393:Convert 272 DICOM as /NAS/dumbo/protocoles/HAMSI/data_NIFTI/1.3.51.0.1.1.10.49.10.222.6915789.6916702/1.2.840.113619.2.374.2807.1582298.17488.1632299265.539_201_-_Crane_Standard_20210922110257_3 (512x512x272x1)\n",
      "221125-14:05:28,98 nipype.interface INFO:\n",
      "\t stdout 2022-11-25T14:05:28.098668:Conversion required 16.786581 seconds (10.182004 for core code).\n"
     ]
    },
    {
     "name": "stderr",
     "output_type": "stream",
     "text": [
      "mkdir: cannot create directory ‘/NAS/dumbo/protocoles/HAMSI/data_NIFTI/1.3.51.0.1.1.10.49.10.222.6030639.6031008’: File exists\n"
     ]
    },
    {
     "name": "stdout",
     "output_type": "stream",
     "text": [
      "221125-14:05:34,344 nipype.interface INFO:\n",
      "\t stdout 2022-11-25T14:05:34.344605:Chris Rorden's dcm2niiX version v1.0.20211006  (JP2:OpenJPEG) GCC9.3.0 x86-64 (64-bit Linux)\n",
      "221125-14:05:34,345 nipype.interface INFO:\n",
      "\t stdout 2022-11-25T14:05:34.344605:Found 272 DICOM file(s)\n",
      "221125-14:05:34,345 nipype.interface INFO:\n",
      "\t stdout 2022-11-25T14:05:34.344605:Resolved discrepancy between tags (0020,1002; 0021,104F; 0054,0081)\n",
      "221125-14:05:34,346 nipype.interface INFO:\n",
      "\t stdout 2022-11-25T14:05:34.344605:Convert 272 DICOM as /NAS/dumbo/protocoles/HAMSI/data_NIFTI/1.3.51.0.1.1.10.49.10.222.6030639.6031008/1.2.840.113619.2.374.2807.1582298.16335.1582799564.307_201_-_Crane_Standard_20200309092034_3 (512x512x272x1)\n",
      "221125-14:05:44,36 nipype.interface INFO:\n",
      "\t stdout 2022-11-25T14:05:44.036432:Conversion required 15.735085 seconds (9.519570 for core code).\n"
     ]
    },
    {
     "name": "stderr",
     "output_type": "stream",
     "text": [
      "mkdir: cannot create directory ‘/NAS/dumbo/protocoles/HAMSI/data_NIFTI/1.3.51.0.1.1.10.49.10.222.5991543.5991902’: File exists\n"
     ]
    },
    {
     "name": "stdout",
     "output_type": "stream",
     "text": [
      "221125-14:05:50,150 nipype.interface INFO:\n",
      "\t stdout 2022-11-25T14:05:50.149910:Chris Rorden's dcm2niiX version v1.0.20211006  (JP2:OpenJPEG) GCC9.3.0 x86-64 (64-bit Linux)\n",
      "221125-14:05:50,150 nipype.interface INFO:\n",
      "\t stdout 2022-11-25T14:05:50.149910:Found 272 DICOM file(s)\n",
      "221125-14:05:50,151 nipype.interface INFO:\n",
      "\t stdout 2022-11-25T14:05:50.149910:Resolved discrepancy between tags (0020,1002; 0021,104F; 0054,0081)\n",
      "221125-14:05:50,151 nipype.interface INFO:\n",
      "\t stdout 2022-11-25T14:05:50.149910:Convert 272 DICOM as /NAS/dumbo/protocoles/HAMSI/data_NIFTI/1.3.51.0.1.1.10.49.10.222.5991543.5991902/1.2.840.113619.2.374.2807.1582298.15689.1581492481.126_201_-_Crane_Standard_20200214111102_4 (512x512x272x1)\n",
      "221125-14:05:59,540 nipype.interface INFO:\n",
      "\t stdout 2022-11-25T14:05:59.539964:Conversion required 15.298088 seconds (9.197476 for core code).\n"
     ]
    },
    {
     "name": "stderr",
     "output_type": "stream",
     "text": [
      "mkdir: cannot create directory ‘/NAS/dumbo/protocoles/HAMSI/data_NIFTI/1.3.51.0.1.1.10.49.10.222.7346223.7347368’: File exists\n"
     ]
    },
    {
     "name": "stdout",
     "output_type": "stream",
     "text": [
      "221125-14:06:04,862 nipype.interface INFO:\n",
      "\t stdout 2022-11-25T14:06:04.862762:Chris Rorden's dcm2niiX version v1.0.20211006  (JP2:OpenJPEG) GCC9.3.0 x86-64 (64-bit Linux)\n",
      "221125-14:06:04,863 nipype.interface INFO:\n",
      "\t stdout 2022-11-25T14:06:04.862762:Found 272 DICOM file(s)\n",
      "221125-14:06:04,864 nipype.interface INFO:\n",
      "\t stdout 2022-11-25T14:06:04.862762:Resolved discrepancy between tags (0020,1002; 0021,104F; 0054,0081)\n",
      "221125-14:06:04,864 nipype.interface INFO:\n",
      "\t stdout 2022-11-25T14:06:04.862762:Convert 272 DICOM as /NAS/dumbo/protocoles/HAMSI/data_NIFTI/1.3.51.0.1.1.10.49.10.222.7346223.7347368/1.2.840.113619.2.374.2807.1582298.16434.1654066143.353_201_-_Crane_Standard_20220608110111_3 (512x512x272x1)\n",
      "221125-14:06:13,878 nipype.interface INFO:\n",
      "\t stdout 2022-11-25T14:06:13.878439:Conversion required 14.135419 seconds (8.650879 for core code).\n"
     ]
    },
    {
     "name": "stderr",
     "output_type": "stream",
     "text": [
      "mkdir: cannot create directory ‘/NAS/dumbo/protocoles/HAMSI/data_NIFTI/1.3.51.0.1.1.10.49.10.222.6690773.6691520’: File exists\n"
     ]
    },
    {
     "name": "stdout",
     "output_type": "stream",
     "text": [
      "221125-14:06:20,713 nipype.interface INFO:\n",
      "\t stdout 2022-11-25T14:06:20.713228:Chris Rorden's dcm2niiX version v1.0.20211006  (JP2:OpenJPEG) GCC9.3.0 x86-64 (64-bit Linux)\n",
      "221125-14:06:20,714 nipype.interface INFO:\n",
      "\t stdout 2022-11-25T14:06:20.713228:Found 272 DICOM file(s)\n",
      "221125-14:06:20,714 nipype.interface INFO:\n",
      "\t stdout 2022-11-25T14:06:20.713228:Resolved discrepancy between tags (0020,1002; 0021,104F; 0054,0081)\n",
      "221125-14:06:20,715 nipype.interface INFO:\n",
      "\t stdout 2022-11-25T14:06:20.713228:Convert 272 DICOM as /NAS/dumbo/protocoles/HAMSI/data_NIFTI/1.3.51.0.1.1.10.49.10.222.6690773.6691520/1.2.840.113619.2.374.2807.1582298.16411.1620022306.284_201_-_Crane_Standard_20210505133813_3 (512x512x272x1)\n",
      "221125-14:06:29,584 nipype.interface INFO:\n",
      "\t stdout 2022-11-25T14:06:29.584775:Conversion required 15.502671 seconds (8.637124 for core code).\n"
     ]
    },
    {
     "name": "stderr",
     "output_type": "stream",
     "text": [
      "mkdir: cannot create directory ‘/NAS/dumbo/protocoles/HAMSI/data_NIFTI/1.3.51.0.1.1.10.49.10.222.6807163.6807995’: File exists\n"
     ]
    },
    {
     "name": "stdout",
     "output_type": "stream",
     "text": [
      "221125-14:06:35,675 nipype.interface INFO:\n",
      "\t stdout 2022-11-25T14:06:35.675580:Chris Rorden's dcm2niiX version v1.0.20211006  (JP2:OpenJPEG) GCC9.3.0 x86-64 (64-bit Linux)\n",
      "221125-14:06:35,677 nipype.interface INFO:\n",
      "\t stdout 2022-11-25T14:06:35.675580:Found 272 DICOM file(s)\n",
      "221125-14:06:35,678 nipype.interface INFO:\n",
      "\t stdout 2022-11-25T14:06:35.675580:Resolved discrepancy between tags (0020,1002; 0021,104F; 0054,0081)\n",
      "221125-14:06:35,679 nipype.interface INFO:\n",
      "\t stdout 2022-11-25T14:06:35.675580:Convert 272 DICOM as /NAS/dumbo/protocoles/HAMSI/data_NIFTI/1.3.51.0.1.1.10.49.10.222.6807163.6807995/1.2.840.113619.2.374.2807.1582298.17961.1626070427.789_201_-_Crane_Standard_20210713155333_3 (512x512x272x1)\n",
      "221125-14:06:44,624 nipype.interface INFO:\n",
      "\t stdout 2022-11-25T14:06:44.624645:Conversion required 14.833966 seconds (8.718594 for core code).\n"
     ]
    },
    {
     "name": "stderr",
     "output_type": "stream",
     "text": [
      "mkdir: cannot create directory ‘/NAS/dumbo/protocoles/HAMSI/data_NIFTI/1.3.51.0.1.1.10.49.10.222.6073605.6074012’: File exists\n"
     ]
    },
    {
     "name": "stdout",
     "output_type": "stream",
     "text": [
      "221125-14:06:50,422 nipype.interface INFO:\n",
      "\t stdout 2022-11-25T14:06:50.421928:Chris Rorden's dcm2niiX version v1.0.20211006  (JP2:OpenJPEG) GCC9.3.0 x86-64 (64-bit Linux)\n",
      "221125-14:06:50,422 nipype.interface INFO:\n",
      "\t stdout 2022-11-25T14:06:50.421928:Found 272 DICOM file(s)\n",
      "221125-14:06:50,423 nipype.interface INFO:\n",
      "\t stdout 2022-11-25T14:06:50.421928:Resolved discrepancy between tags (0020,1002; 0021,104F; 0054,0081)\n",
      "221125-14:06:50,423 nipype.interface INFO:\n",
      "\t stdout 2022-11-25T14:06:50.421928:Convert 272 DICOM as /NAS/dumbo/protocoles/HAMSI/data_NIFTI/1.3.51.0.1.1.10.49.10.222.6073605.6074012/1.2.840.113619.2.374.2807.1582298.13478.1586845539.814_201_-_Crane_Standard_20200415113027_4 (512x512x272x1)\n",
      "221125-14:07:00,64 nipype.interface INFO:\n",
      "\t stdout 2022-11-25T14:07:00.064482:Conversion required 15.237078 seconds (9.482128 for core code).\n"
     ]
    },
    {
     "name": "stderr",
     "output_type": "stream",
     "text": [
      "mkdir: cannot create directory ‘/NAS/dumbo/protocoles/HAMSI/data_NIFTI/1.3.51.0.1.1.10.49.10.222.6264976.6265492’: File exists\n"
     ]
    },
    {
     "name": "stdout",
     "output_type": "stream",
     "text": [
      "221125-14:07:08,354 nipype.interface INFO:\n",
      "\t stdout 2022-11-25T14:07:08.354167:Chris Rorden's dcm2niiX version v1.0.20211006  (JP2:OpenJPEG) GCC9.3.0 x86-64 (64-bit Linux)\n",
      "221125-14:07:08,355 nipype.interface INFO:\n",
      "\t stdout 2022-11-25T14:07:08.354167:Found 272 DICOM file(s)\n",
      "221125-14:07:08,355 nipype.interface INFO:\n",
      "\t stdout 2022-11-25T14:07:08.354167:Resolved discrepancy between tags (0020,1002; 0021,104F; 0054,0081)\n",
      "221125-14:07:08,356 nipype.interface INFO:\n",
      "\t stdout 2022-11-25T14:07:08.354167:Convert 272 DICOM as /NAS/dumbo/protocoles/HAMSI/data_NIFTI/1.3.51.0.1.1.10.49.10.222.6264976.6265492/1.2.840.113619.2.374.2807.1582298.14795.1598254154.30_201_-_Crane_Standard_20200825150359_3 (512x512x272x1)\n",
      "221125-14:07:17,622 nipype.interface INFO:\n",
      "\t stdout 2022-11-25T14:07:17.622221:Conversion required 17.357105 seconds (9.059622 for core code).\n"
     ]
    },
    {
     "name": "stderr",
     "output_type": "stream",
     "text": [
      "mkdir: cannot create directory ‘/NAS/dumbo/protocoles/HAMSI/data_NIFTI/1.3.51.0.1.1.10.49.10.222.7341570.7342712’: File exists\n"
     ]
    },
    {
     "name": "stdout",
     "output_type": "stream",
     "text": [
      "221125-14:07:25,552 nipype.interface INFO:\n",
      "\t stdout 2022-11-25T14:07:25.552508:Chris Rorden's dcm2niiX version v1.0.20211006  (JP2:OpenJPEG) GCC9.3.0 x86-64 (64-bit Linux)\n",
      "221125-14:07:25,553 nipype.interface INFO:\n",
      "\t stdout 2022-11-25T14:07:25.552508:Found 272 DICOM file(s)\n",
      "221125-14:07:25,554 nipype.interface INFO:\n",
      "\t stdout 2022-11-25T14:07:25.552508:Resolved discrepancy between tags (0020,1002; 0021,104F; 0054,0081)\n",
      "221125-14:07:25,554 nipype.interface INFO:\n",
      "\t stdout 2022-11-25T14:07:25.552508:Convert 272 DICOM as /NAS/dumbo/protocoles/HAMSI/data_NIFTI/1.3.51.0.1.1.10.49.10.222.7341570.7342712/1.2.840.113619.2.374.2807.1582298.16434.1654066143.209_201_-_Crane_Standard_20220603154249_4 (512x512x272x1)\n",
      "221125-14:07:34,904 nipype.interface INFO:\n",
      "\t stdout 2022-11-25T14:07:34.904308:Conversion required 17.068460 seconds (9.141750 for core code).\n"
     ]
    },
    {
     "name": "stderr",
     "output_type": "stream",
     "text": [
      "mkdir: cannot create directory ‘/NAS/dumbo/protocoles/HAMSI/data_NIFTI/1.3.51.0.1.1.10.49.10.222.6851813.6852687’: File exists\n"
     ]
    },
    {
     "name": "stdout",
     "output_type": "stream",
     "text": [
      "221125-14:07:41,146 nipype.interface INFO:\n",
      "\t stdout 2022-11-25T14:07:41.146601:Chris Rorden's dcm2niiX version v1.0.20211006  (JP2:OpenJPEG) GCC9.3.0 x86-64 (64-bit Linux)\n",
      "221125-14:07:41,147 nipype.interface INFO:\n",
      "\t stdout 2022-11-25T14:07:41.146601:Found 272 DICOM file(s)\n",
      "221125-14:07:41,148 nipype.interface INFO:\n",
      "\t stdout 2022-11-25T14:07:41.146601:Resolved discrepancy between tags (0020,1002; 0021,104F; 0054,0081)\n",
      "221125-14:07:41,148 nipype.interface INFO:\n",
      "\t stdout 2022-11-25T14:07:41.146601:Convert 272 DICOM as /NAS/dumbo/protocoles/HAMSI/data_NIFTI/1.3.51.0.1.1.10.49.10.222.6851813.6852687/1.2.840.113619.2.374.2807.1582298.16306.1628497288.99_201_-_Crane_Standard_20210812135753_3 (512x512x272x1)\n",
      "221125-14:07:50,447 nipype.interface INFO:\n",
      "\t stdout 2022-11-25T14:07:50.447632:Conversion required 15.346934 seconds (9.113018 for core code).\n"
     ]
    },
    {
     "name": "stderr",
     "output_type": "stream",
     "text": [
      "mkdir: cannot create directory ‘/NAS/dumbo/protocoles/HAMSI/data_NIFTI/1.3.51.0.1.1.10.49.10.222.6851813.6852687’: File exists\n"
     ]
    },
    {
     "name": "stdout",
     "output_type": "stream",
     "text": [
      "221125-14:07:58,680 nipype.interface INFO:\n",
      "\t stdout 2022-11-25T14:07:58.680453:Chris Rorden's dcm2niiX version v1.0.20211006  (JP2:OpenJPEG) GCC9.3.0 x86-64 (64-bit Linux)\n",
      "221125-14:07:58,681 nipype.interface INFO:\n",
      "\t stdout 2022-11-25T14:07:58.680453:Found 272 DICOM file(s)\n",
      "221125-14:07:58,681 nipype.interface INFO:\n",
      "\t stdout 2022-11-25T14:07:58.680453:Resolved discrepancy between tags (0020,1002; 0021,104F; 0054,0081)\n",
      "221125-14:07:58,682 nipype.interface INFO:\n",
      "\t stdout 2022-11-25T14:07:58.680453:Convert 272 DICOM as /NAS/dumbo/protocoles/HAMSI/data_NIFTI/1.3.51.0.1.1.10.49.10.222.6851813.6852687/1.2.840.113619.2.374.2807.1582298.16306.1628497288.101_201_-_Crane_Standard_20210812135753_5 (512x512x272x1)\n",
      "221125-14:08:08,286 nipype.interface INFO:\n",
      "\t stdout 2022-11-25T14:08:08.286225:Conversion required 17.639934 seconds (9.426687 for core code).\n"
     ]
    },
    {
     "name": "stderr",
     "output_type": "stream",
     "text": [
      "mkdir: cannot create directory ‘/NAS/dumbo/protocoles/HAMSI/data_NIFTI/1.3.51.0.1.1.10.49.10.222.7114094.7115124’: File exists\n"
     ]
    },
    {
     "name": "stdout",
     "output_type": "stream",
     "text": [
      "221125-14:08:14,745 nipype.interface INFO:\n",
      "\t stdout 2022-11-25T14:08:14.745575:Chris Rorden's dcm2niiX version v1.0.20211006  (JP2:OpenJPEG) GCC9.3.0 x86-64 (64-bit Linux)\n",
      "221125-14:08:14,746 nipype.interface INFO:\n",
      "\t stdout 2022-11-25T14:08:14.745575:Found 272 DICOM file(s)\n",
      "221125-14:08:14,746 nipype.interface INFO:\n",
      "\t stdout 2022-11-25T14:08:14.745575:Resolved discrepancy between tags (0020,1002; 0021,104F; 0054,0081)\n",
      "221125-14:08:14,747 nipype.interface INFO:\n",
      "\t stdout 2022-11-25T14:08:14.745575:Convert 272 DICOM as /NAS/dumbo/protocoles/HAMSI/data_NIFTI/1.3.51.0.1.1.10.49.10.222.7114094.7115124/1.2.840.113619.2.374.2807.1582298.15372.1641281494.598_201_-_Crane_Standard_20220120143402_3 (512x512x272x1)\n",
      "221125-14:08:24,394 nipype.interface INFO:\n",
      "\t stdout 2022-11-25T14:08:24.394385:Conversion required 15.869039 seconds (9.460670 for core code).\n"
     ]
    },
    {
     "name": "stderr",
     "output_type": "stream",
     "text": [
      "mkdir: cannot create directory ‘/NAS/dumbo/protocoles/HAMSI/data_NIFTI/1.3.51.0.1.1.10.49.10.222.7365769.7366917’: File exists\n"
     ]
    },
    {
     "name": "stdout",
     "output_type": "stream",
     "text": [
      "221125-14:08:30,288 nipype.interface INFO:\n",
      "\t stdout 2022-11-25T14:08:30.288718:Chris Rorden's dcm2niiX version v1.0.20211006  (JP2:OpenJPEG) GCC9.3.0 x86-64 (64-bit Linux)\n",
      "221125-14:08:30,289 nipype.interface INFO:\n",
      "\t stdout 2022-11-25T14:08:30.288718:Found 272 DICOM file(s)\n",
      "221125-14:08:30,290 nipype.interface INFO:\n",
      "\t stdout 2022-11-25T14:08:30.288718:Resolved discrepancy between tags (0020,1002; 0021,104F; 0054,0081)\n",
      "221125-14:08:30,290 nipype.interface INFO:\n",
      "\t stdout 2022-11-25T14:08:30.288718:Convert 272 DICOM as /NAS/dumbo/protocoles/HAMSI/data_NIFTI/1.3.51.0.1.1.10.49.10.222.7365769.7366917/1.2.840.113619.2.374.2807.1582298.16099.1655707730.902_201_-_Controle_Post_Op_20220620112202_3 (512x512x272x1)\n",
      "221125-14:08:39,820 nipype.interface INFO:\n",
      "\t stdout 2022-11-25T14:08:39.820047:Conversion required 15.205179 seconds (9.369645 for core code).\n"
     ]
    },
    {
     "name": "stderr",
     "output_type": "stream",
     "text": [
      "mkdir: cannot create directory ‘/NAS/dumbo/protocoles/HAMSI/data_NIFTI/1.3.51.0.1.1.10.49.10.222.7425979.7427159’: File exists\n"
     ]
    },
    {
     "name": "stdout",
     "output_type": "stream",
     "text": [
      "221125-14:08:45,785 nipype.interface INFO:\n",
      "\t stdout 2022-11-25T14:08:45.785279:Chris Rorden's dcm2niiX version v1.0.20211006  (JP2:OpenJPEG) GCC9.3.0 x86-64 (64-bit Linux)\n",
      "221125-14:08:45,786 nipype.interface INFO:\n",
      "\t stdout 2022-11-25T14:08:45.785279:Found 272 DICOM file(s)\n",
      "221125-14:08:45,786 nipype.interface INFO:\n",
      "\t stdout 2022-11-25T14:08:45.785279:Resolved discrepancy between tags (0020,1002; 0021,104F; 0054,0081)\n",
      "221125-14:08:45,787 nipype.interface INFO:\n",
      "\t stdout 2022-11-25T14:08:45.785279:Convert 272 DICOM as /NAS/dumbo/protocoles/HAMSI/data_NIFTI/1.3.51.0.1.1.10.49.10.222.7425979.7427159/1.2.840.113619.2.374.2807.1582298.16401.1658905095.348_201_-_Crane_Standard_20220727102412_3 (512x512x272x1)\n",
      "221125-14:08:55,418 nipype.interface INFO:\n",
      "\t stdout 2022-11-25T14:08:55.418893:Conversion required 15.399070 seconds (9.450601 for core code).\n"
     ]
    },
    {
     "name": "stderr",
     "output_type": "stream",
     "text": [
      "mkdir: cannot create directory ‘/NAS/dumbo/protocoles/HAMSI/data_NIFTI/1.3.51.0.1.1.10.49.10.222.7191997.7193077’: File exists\n"
     ]
    },
    {
     "name": "stdout",
     "output_type": "stream",
     "text": [
      "221125-14:09:03,124 nipype.interface INFO:\n",
      "\t stdout 2022-11-25T14:09:03.124526:Chris Rorden's dcm2niiX version v1.0.20211006  (JP2:OpenJPEG) GCC9.3.0 x86-64 (64-bit Linux)\n",
      "221125-14:09:03,125 nipype.interface INFO:\n",
      "\t stdout 2022-11-25T14:09:03.124526:Found 272 DICOM file(s)\n",
      "221125-14:09:03,126 nipype.interface INFO:\n",
      "\t stdout 2022-11-25T14:09:03.124526:Resolved discrepancy between tags (0020,1002; 0021,104F; 0054,0081)\n",
      "221125-14:09:03,126 nipype.interface INFO:\n",
      "\t stdout 2022-11-25T14:09:03.124526:Convert 272 DICOM as /NAS/dumbo/protocoles/HAMSI/data_NIFTI/1.3.51.0.1.1.10.49.10.222.7191997.7193077/1.2.840.113619.2.374.2807.1582298.15861.1645603805.13_201_-_Crane_Standard_20220307141029_3 (512x512x272x1)\n",
      "221125-14:09:12,253 nipype.interface INFO:\n",
      "\t stdout 2022-11-25T14:09:12.253167:Conversion required 16.625807 seconds (8.924849 for core code).\n"
     ]
    },
    {
     "name": "stderr",
     "output_type": "stream",
     "text": [
      "mkdir: cannot create directory ‘/NAS/dumbo/protocoles/HAMSI/data_NIFTI/1.3.51.0.1.1.10.49.10.222.6991654.6992605’: File exists\n"
     ]
    },
    {
     "name": "stdout",
     "output_type": "stream",
     "text": [
      "221125-14:09:19,402 nipype.interface INFO:\n",
      "\t stdout 2022-11-25T14:09:19.402707:Chris Rorden's dcm2niiX version v1.0.20211006  (JP2:OpenJPEG) GCC9.3.0 x86-64 (64-bit Linux)\n",
      "221125-14:09:19,403 nipype.interface INFO:\n",
      "\t stdout 2022-11-25T14:09:19.402707:Found 272 DICOM file(s)\n",
      "221125-14:09:19,404 nipype.interface INFO:\n",
      "\t stdout 2022-11-25T14:09:19.402707:Resolved discrepancy between tags (0020,1002; 0021,104F; 0054,0081)\n",
      "221125-14:09:19,405 nipype.interface INFO:\n",
      "\t stdout 2022-11-25T14:09:19.402707:Convert 272 DICOM as /NAS/dumbo/protocoles/HAMSI/data_NIFTI/1.3.51.0.1.1.10.49.10.222.6991654.6992605/1.2.840.113619.2.374.2807.1582298.14598.1635400997.269_RAB_CRANE_20211105123539_3 (512x512x272x1)\n",
      "221125-14:09:28,367 nipype.interface INFO:\n",
      "\t stdout 2022-11-25T14:09:28.367443:Conversion required 15.919461 seconds (8.695688 for core code).\n"
     ]
    },
    {
     "name": "stderr",
     "output_type": "stream",
     "text": [
      "mkdir: cannot create directory ‘/NAS/dumbo/protocoles/HAMSI/data_NIFTI/1.3.51.0.1.1.10.49.10.222.6377606.6378162’: File exists\n"
     ]
    },
    {
     "name": "stdout",
     "output_type": "stream",
     "text": [
      "221125-14:09:36,23 nipype.interface INFO:\n",
      "\t stdout 2022-11-25T14:09:36.023251:Chris Rorden's dcm2niiX version v1.0.20211006  (JP2:OpenJPEG) GCC9.3.0 x86-64 (64-bit Linux)\n",
      "221125-14:09:36,24 nipype.interface INFO:\n",
      "\t stdout 2022-11-25T14:09:36.023251:Found 272 DICOM file(s)\n",
      "221125-14:09:36,24 nipype.interface INFO:\n",
      "\t stdout 2022-11-25T14:09:36.023251:Resolved discrepancy between tags (0020,1002; 0021,104F; 0054,0081)\n",
      "221125-14:09:36,24 nipype.interface INFO:\n",
      "\t stdout 2022-11-25T14:09:36.023251:Convert 272 DICOM as /NAS/dumbo/protocoles/HAMSI/data_NIFTI/1.3.51.0.1.1.10.49.10.222.6377606.6378162/1.2.840.113619.2.374.2807.1582298.14674.1604305833.358_201_-_Crane_Standard_20201102132931_4 (512x512x272x1)\n",
      "221125-14:09:45,505 nipype.interface INFO:\n",
      "\t stdout 2022-11-25T14:09:45.505366:Conversion required 16.929488 seconds (9.280688 for core code).\n"
     ]
    },
    {
     "name": "stderr",
     "output_type": "stream",
     "text": [
      "mkdir: cannot create directory ‘/NAS/dumbo/protocoles/HAMSI/data_NIFTI/1.3.51.0.1.1.10.49.10.222.7205832.7206915’: File exists\n"
     ]
    },
    {
     "name": "stdout",
     "output_type": "stream",
     "text": [
      "221125-14:09:52,498 nipype.interface INFO:\n",
      "\t stdout 2022-11-25T14:09:52.498023:Chris Rorden's dcm2niiX version v1.0.20211006  (JP2:OpenJPEG) GCC9.3.0 x86-64 (64-bit Linux)\n",
      "221125-14:09:52,499 nipype.interface INFO:\n",
      "\t stdout 2022-11-25T14:09:52.498023:Found 272 DICOM file(s)\n",
      "221125-14:09:52,499 nipype.interface INFO:\n",
      "\t stdout 2022-11-25T14:09:52.498023:Resolved discrepancy between tags (0020,1002; 0021,104F; 0054,0081)\n",
      "221125-14:09:52,500 nipype.interface INFO:\n",
      "\t stdout 2022-11-25T14:09:52.498023:Convert 272 DICOM as /NAS/dumbo/protocoles/HAMSI/data_NIFTI/1.3.51.0.1.1.10.49.10.222.7205832.7206915/1.2.840.113619.2.374.2807.1582298.15674.1646812308.96_201_-_Crane_Standard_20220315103500_3 (512x512x272x1)\n",
      "221125-14:10:02,364 nipype.interface INFO:\n",
      "\t stdout 2022-11-25T14:10:02.364905:Conversion required 16.668443 seconds (9.705066 for core code).\n"
     ]
    },
    {
     "name": "stderr",
     "output_type": "stream",
     "text": [
      "mkdir: cannot create directory ‘/NAS/dumbo/protocoles/HAMSI/data_NIFTI/1.3.51.0.1.1.10.49.10.222.7529105.7530349’: File exists\n"
     ]
    },
    {
     "name": "stdout",
     "output_type": "stream",
     "text": [
      "221125-14:10:09,125 nipype.interface INFO:\n",
      "\t stdout 2022-11-25T14:10:09.125519:Chris Rorden's dcm2niiX version v1.0.20211006  (JP2:OpenJPEG) GCC9.3.0 x86-64 (64-bit Linux)\n",
      "221125-14:10:09,126 nipype.interface INFO:\n",
      "\t stdout 2022-11-25T14:10:09.125519:Found 272 DICOM file(s)\n",
      "221125-14:10:09,127 nipype.interface INFO:\n",
      "\t stdout 2022-11-25T14:10:09.125519:Resolved discrepancy between tags (0020,1002; 0021,104F; 0054,0081)\n",
      "221125-14:10:09,127 nipype.interface INFO:\n",
      "\t stdout 2022-11-25T14:10:09.125519:Convert 272 DICOM as /NAS/dumbo/protocoles/HAMSI/data_NIFTI/1.3.51.0.1.1.10.49.10.222.7529105.7530349/1.2.840.113619.2.374.2807.1582298.17196.1664347683.743_RAB_CRANE_20220929153553_3 (512x512x272x1)\n",
      "221125-14:10:18,775 nipype.interface INFO:\n",
      "\t stdout 2022-11-25T14:10:18.775169:Conversion required 16.211140 seconds (9.437414 for core code).\n"
     ]
    },
    {
     "name": "stderr",
     "output_type": "stream",
     "text": [
      "mkdir: cannot create directory ‘/NAS/dumbo/protocoles/HAMSI/data_NIFTI/1.3.51.0.1.1.10.49.10.222.6298979.6299506’: File exists\n"
     ]
    },
    {
     "name": "stdout",
     "output_type": "stream",
     "text": [
      "221125-14:10:26,939 nipype.interface INFO:\n",
      "\t stdout 2022-11-25T14:10:26.939267:Chris Rorden's dcm2niiX version v1.0.20211006  (JP2:OpenJPEG) GCC9.3.0 x86-64 (64-bit Linux)\n",
      "221125-14:10:26,940 nipype.interface INFO:\n",
      "\t stdout 2022-11-25T14:10:26.939267:Found 272 DICOM file(s)\n",
      "221125-14:10:26,940 nipype.interface INFO:\n",
      "\t stdout 2022-11-25T14:10:26.939267:Resolved discrepancy between tags (0020,1002; 0021,104F; 0054,0081)\n",
      "221125-14:10:26,941 nipype.interface INFO:\n",
      "\t stdout 2022-11-25T14:10:26.939267:Convert 272 DICOM as /NAS/dumbo/protocoles/HAMSI/data_NIFTI/1.3.51.0.1.1.10.49.10.222.6298979.6299506/1.2.840.113619.2.374.2807.1582298.14742.1600066238.408_201_-_Crane_Standard_20200915140238_3 (512x512x272x1)\n",
      "221125-14:10:36,254 nipype.interface INFO:\n",
      "\t stdout 2022-11-25T14:10:36.254462:Conversion required 17.286632 seconds (9.131975 for core code).\n"
     ]
    },
    {
     "name": "stderr",
     "output_type": "stream",
     "text": [
      "mkdir: cannot create directory ‘/NAS/dumbo/protocoles/HAMSI/data_NIFTI/1.3.51.0.1.1.10.49.10.222.6550151.6550821’: File exists\n"
     ]
    },
    {
     "name": "stdout",
     "output_type": "stream",
     "text": [
      "221125-14:10:43,502 nipype.interface INFO:\n",
      "\t stdout 2022-11-25T14:10:43.502896:Chris Rorden's dcm2niiX version v1.0.20211006  (JP2:OpenJPEG) GCC9.3.0 x86-64 (64-bit Linux)\n",
      "221125-14:10:43,503 nipype.interface INFO:\n",
      "\t stdout 2022-11-25T14:10:43.502896:Found 272 DICOM file(s)\n",
      "221125-14:10:43,504 nipype.interface INFO:\n",
      "\t stdout 2022-11-25T14:10:43.502896:Resolved discrepancy between tags (0020,1002; 0021,104F; 0054,0081)\n",
      "221125-14:10:43,504 nipype.interface INFO:\n",
      "\t stdout 2022-11-25T14:10:43.502896:Convert 272 DICOM as /NAS/dumbo/protocoles/HAMSI/data_NIFTI/1.3.51.0.1.1.10.49.10.222.6550151.6550821/1.2.840.113619.2.374.2807.1582298.14959.1613114134.189_201_-_Crane_Standard_20210212121404_5 (512x512x272x1)\n",
      "221125-14:10:53,12 nipype.interface INFO:\n",
      "\t stdout 2022-11-25T14:10:53.012781:Conversion required 16.543152 seconds (9.321032 for core code).\n"
     ]
    },
    {
     "name": "stderr",
     "output_type": "stream",
     "text": [
      "mkdir: cannot create directory ‘/NAS/dumbo/protocoles/HAMSI/data_NIFTI/1.3.51.0.1.1.10.49.10.222.7063269.7064262’: File exists\n"
     ]
    },
    {
     "name": "stdout",
     "output_type": "stream",
     "text": [
      "221125-14:10:59,586 nipype.interface INFO:\n",
      "\t stdout 2022-11-25T14:10:59.586065:Chris Rorden's dcm2niiX version v1.0.20211006  (JP2:OpenJPEG) GCC9.3.0 x86-64 (64-bit Linux)\n",
      "221125-14:10:59,587 nipype.interface INFO:\n",
      "\t stdout 2022-11-25T14:10:59.586065:Found 272 DICOM file(s)\n",
      "221125-14:10:59,587 nipype.interface INFO:\n",
      "\t stdout 2022-11-25T14:10:59.586065:Resolved discrepancy between tags (0020,1002; 0021,104F; 0054,0081)\n",
      "221125-14:10:59,587 nipype.interface INFO:\n",
      "\t stdout 2022-11-25T14:10:59.586065:Convert 272 DICOM as /NAS/dumbo/protocoles/HAMSI/data_NIFTI/1.3.51.0.1.1.10.49.10.222.7063269.7064262/1.2.840.113619.2.374.2807.1582298.15164.1639410473.790_RAB_CRANE_20211217133653_3 (512x512x272x1)\n",
      "221125-14:11:09,128 nipype.interface INFO:\n",
      "\t stdout 2022-11-25T14:11:09.128739:Conversion required 15.909058 seconds (9.356647 for core code).\n"
     ]
    },
    {
     "name": "stderr",
     "output_type": "stream",
     "text": [
      "mkdir: cannot create directory ‘/NAS/dumbo/protocoles/HAMSI/data_NIFTI/1.3.51.0.1.1.10.49.10.222.6260102.6260618’: File exists\n"
     ]
    },
    {
     "name": "stdout",
     "output_type": "stream",
     "text": [
      "221125-14:11:16,824 nipype.interface INFO:\n",
      "\t stdout 2022-11-25T14:11:16.824655:Chris Rorden's dcm2niiX version v1.0.20211006  (JP2:OpenJPEG) GCC9.3.0 x86-64 (64-bit Linux)\n",
      "221125-14:11:16,825 nipype.interface INFO:\n",
      "\t stdout 2022-11-25T14:11:16.824655:Found 288 DICOM file(s)\n",
      "221125-14:11:16,825 nipype.interface INFO:\n",
      "\t stdout 2022-11-25T14:11:16.824655:Resolved discrepancy between tags (0020,1002; 0021,104F; 0054,0081)\n",
      "221125-14:11:16,826 nipype.interface INFO:\n",
      "\t stdout 2022-11-25T14:11:16.824655:Convert 288 DICOM as /NAS/dumbo/protocoles/HAMSI/data_NIFTI/1.3.51.0.1.1.10.49.10.222.6260102.6260618/1.2.840.113619.2.374.2807.1582298.14755.1597730911.414_201_-_Crane_Standard_20200821144531_3 (512x512x288x1)\n",
      "221125-14:11:26,956 nipype.interface INFO:\n",
      "\t stdout 2022-11-25T14:11:26.955988:Conversion required 17.627682 seconds (9.946258 for core code).\n"
     ]
    },
    {
     "name": "stderr",
     "output_type": "stream",
     "text": [
      "mkdir: cannot create directory ‘/NAS/dumbo/protocoles/HAMSI/data_NIFTI/1.3.51.0.1.1.10.49.10.222.6201418.6201904’: File exists\n"
     ]
    },
    {
     "name": "stdout",
     "output_type": "stream",
     "text": [
      "221125-14:11:33,839 nipype.interface INFO:\n",
      "\t stdout 2022-11-25T14:11:33.839411:Chris Rorden's dcm2niiX version v1.0.20211006  (JP2:OpenJPEG) GCC9.3.0 x86-64 (64-bit Linux)\n",
      "221125-14:11:33,840 nipype.interface INFO:\n",
      "\t stdout 2022-11-25T14:11:33.839411:Found 272 DICOM file(s)\n",
      "221125-14:11:33,840 nipype.interface INFO:\n",
      "\t stdout 2022-11-25T14:11:33.839411:Resolved discrepancy between tags (0020,1002; 0021,104F; 0054,0081)\n",
      "221125-14:11:33,841 nipype.interface INFO:\n",
      "\t stdout 2022-11-25T14:11:33.839411:Convert 272 DICOM as /NAS/dumbo/protocoles/HAMSI/data_NIFTI/1.3.51.0.1.1.10.49.10.222.6201418.6201904/1.2.840.113619.2.374.2807.1582298.15680.1594793067.108_201_-_Crane_Standard_20200715105703_3 (512x512x272x1)\n",
      "221125-14:11:43,765 nipype.interface INFO:\n",
      "\t stdout 2022-11-25T14:11:43.765008:Conversion required 16.612680 seconds (9.765906 for core code).\n"
     ]
    },
    {
     "name": "stderr",
     "output_type": "stream",
     "text": [
      "mkdir: cannot create directory ‘/NAS/dumbo/protocoles/HAMSI/data_NIFTI/1.3.51.0.1.1.10.49.10.222.7513161.7514388’: File exists\n"
     ]
    },
    {
     "name": "stdout",
     "output_type": "stream",
     "text": [
      "221125-14:11:51,190 nipype.interface INFO:\n",
      "\t stdout 2022-11-25T14:11:51.190180:Chris Rorden's dcm2niiX version v1.0.20211006  (JP2:OpenJPEG) GCC9.3.0 x86-64 (64-bit Linux)\n",
      "221125-14:11:51,191 nipype.interface INFO:\n",
      "\t stdout 2022-11-25T14:11:51.190180:Found 272 DICOM file(s)\n",
      "221125-14:11:51,191 nipype.interface INFO:\n",
      "\t stdout 2022-11-25T14:11:51.190180:Resolved discrepancy between tags (0020,1002; 0021,104F; 0054,0081)\n",
      "221125-14:11:51,192 nipype.interface INFO:\n",
      "\t stdout 2022-11-25T14:11:51.190180:Convert 272 DICOM as /NAS/dumbo/protocoles/HAMSI/data_NIFTI/1.3.51.0.1.1.10.49.10.222.7513161.7514388/1.2.840.113619.2.374.2807.1582298.15602.1663740941.569_201_-_Crane_Standard_20220921115219_3 (512x512x272x1)\n",
      "221125-14:12:00,696 nipype.interface INFO:\n",
      "\t stdout 2022-11-25T14:12:00.696864:Conversion required 16.720484 seconds (9.311432 for core code).\n"
     ]
    },
    {
     "name": "stderr",
     "output_type": "stream",
     "text": [
      "mkdir: cannot create directory ‘/NAS/dumbo/protocoles/HAMSI/data_NIFTI/1.3.51.0.1.1.10.49.10.222.6057196.6057578’: File exists\n"
     ]
    },
    {
     "name": "stdout",
     "output_type": "stream",
     "text": [
      "221125-14:12:05,495 nipype.interface INFO:\n",
      "\t stdout 2022-11-25T14:12:05.495244:Chris Rorden's dcm2niiX version v1.0.20211006  (JP2:OpenJPEG) GCC9.3.0 x86-64 (64-bit Linux)\n",
      "221125-14:12:05,496 nipype.interface INFO:\n",
      "\t stdout 2022-11-25T14:12:05.495244:Found 272 DICOM file(s)\n",
      "221125-14:12:05,496 nipype.interface INFO:\n",
      "\t stdout 2022-11-25T14:12:05.495244:Resolved discrepancy between tags (0020,1002; 0021,104F; 0054,0081)\n",
      "221125-14:12:05,497 nipype.interface INFO:\n",
      "\t stdout 2022-11-25T14:12:05.495244:Convert 272 DICOM as /NAS/dumbo/protocoles/HAMSI/data_NIFTI/1.3.51.0.1.1.10.49.10.222.6057196.6057578/1.2.840.113619.2.374.2807.1582298.12773.1585551952.592_201_-_Crane_Standard_20200330103101_5 (512x512x272x1)\n",
      "221125-14:12:14,496 nipype.interface INFO:\n",
      "\t stdout 2022-11-25T14:12:14.496382:Conversion required 13.598983 seconds (8.737709 for core code).\n"
     ]
    },
    {
     "name": "stderr",
     "output_type": "stream",
     "text": [
      "mkdir: cannot create directory ‘/NAS/dumbo/protocoles/HAMSI/data_NIFTI/1.3.51.0.1.1.10.49.10.222.7434988.7436171’: File exists\n"
     ]
    },
    {
     "name": "stdout",
     "output_type": "stream",
     "text": [
      "221125-14:12:21,456 nipype.interface INFO:\n",
      "\t stdout 2022-11-25T14:12:21.456828:Chris Rorden's dcm2niiX version v1.0.20211006  (JP2:OpenJPEG) GCC9.3.0 x86-64 (64-bit Linux)\n",
      "221125-14:12:21,457 nipype.interface INFO:\n",
      "\t stdout 2022-11-25T14:12:21.456828:Found 272 DICOM file(s)\n",
      "221125-14:12:21,458 nipype.interface INFO:\n",
      "\t stdout 2022-11-25T14:12:21.456828:Resolved discrepancy between tags (0020,1002; 0021,104F; 0054,0081)\n",
      "221125-14:12:21,458 nipype.interface INFO:\n",
      "\t stdout 2022-11-25T14:12:21.456828:Convert 272 DICOM as /NAS/dumbo/protocoles/HAMSI/data_NIFTI/1.3.51.0.1.1.10.49.10.222.7434988.7436171/1.2.840.113619.2.374.2807.1582298.17210.1659429408.280_201_-_Crane_Standard_20220802142722_3 (512x512x272x1)\n",
      "221125-14:12:31,826 nipype.interface INFO:\n",
      "\t stdout 2022-11-25T14:12:31.826523:Conversion required 17.111897 seconds (10.277290 for core code).\n"
     ]
    },
    {
     "name": "stderr",
     "output_type": "stream",
     "text": [
      "mkdir: cannot create directory ‘/NAS/dumbo/protocoles/HAMSI/data_NIFTI/1.3.51.0.1.1.10.49.10.222.6913579.6914492’: File exists\n"
     ]
    },
    {
     "name": "stdout",
     "output_type": "stream",
     "text": [
      "221125-14:12:37,689 nipype.interface INFO:\n",
      "\t stdout 2022-11-25T14:12:37.689044:Chris Rorden's dcm2niiX version v1.0.20211006  (JP2:OpenJPEG) GCC9.3.0 x86-64 (64-bit Linux)\n",
      "221125-14:12:37,690 nipype.interface INFO:\n",
      "\t stdout 2022-11-25T14:12:37.689044:Found 272 DICOM file(s)\n",
      "221125-14:12:37,690 nipype.interface INFO:\n",
      "\t stdout 2022-11-25T14:12:37.689044:Resolved discrepancy between tags (0020,1002; 0021,104F; 0054,0081)\n",
      "221125-14:12:37,691 nipype.interface INFO:\n",
      "\t stdout 2022-11-25T14:12:37.689044:Convert 272 DICOM as /NAS/dumbo/protocoles/HAMSI/data_NIFTI/1.3.51.0.1.1.10.49.10.222.6913579.6914492/1.2.840.113619.2.374.2807.1582298.17980.1632205034.974_201_-_Crane_Standard_20210921123536_3 (512x512x272x1)\n",
      "221125-14:12:47,40 nipype.interface INFO:\n",
      "\t stdout 2022-11-25T14:12:47.040157:Conversion required 15.020895 seconds (9.155443 for core code).\n"
     ]
    },
    {
     "name": "stderr",
     "output_type": "stream",
     "text": [
      "mkdir: cannot create directory ‘/NAS/dumbo/protocoles/HAMSI/data_NIFTI/1.3.51.0.1.1.10.49.10.222.7258122.7259221’: File exists\n"
     ]
    },
    {
     "name": "stdout",
     "output_type": "stream",
     "text": [
      "221125-14:12:55,367 nipype.interface INFO:\n",
      "\t stdout 2022-11-25T14:12:55.367423:Chris Rorden's dcm2niiX version v1.0.20211006  (JP2:OpenJPEG) GCC9.3.0 x86-64 (64-bit Linux)\n",
      "221125-14:12:55,368 nipype.interface INFO:\n",
      "\t stdout 2022-11-25T14:12:55.367423:Found 272 DICOM file(s)\n",
      "221125-14:12:55,368 nipype.interface INFO:\n",
      "\t stdout 2022-11-25T14:12:55.367423:Resolved discrepancy between tags (0020,1002; 0021,104F; 0054,0081)\n",
      "221125-14:12:55,369 nipype.interface INFO:\n",
      "\t stdout 2022-11-25T14:12:55.367423:Convert 272 DICOM as /NAS/dumbo/protocoles/HAMSI/data_NIFTI/1.3.51.0.1.1.10.49.10.222.7258122.7259221/1.2.840.113619.2.374.2807.1582298.16114.1649662177.258_201_-_Crane_Standard_20220413164156_5 (512x512x272x1)\n",
      "221125-14:13:05,252 nipype.interface INFO:\n",
      "\t stdout 2022-11-25T14:13:05.252846:Conversion required 18.016173 seconds (9.744749 for core code).\n"
     ]
    },
    {
     "name": "stderr",
     "output_type": "stream",
     "text": [
      "mkdir: cannot create directory ‘/NAS/dumbo/protocoles/HAMSI/data_NIFTI/1.3.51.0.1.1.10.49.10.222.7325426.7326552’: File exists\n"
     ]
    },
    {
     "name": "stdout",
     "output_type": "stream",
     "text": [
      "221125-14:13:11,263 nipype.interface INFO:\n",
      "\t stdout 2022-11-25T14:13:11.263373:Chris Rorden's dcm2niiX version v1.0.20211006  (JP2:OpenJPEG) GCC9.3.0 x86-64 (64-bit Linux)\n",
      "221125-14:13:11,264 nipype.interface INFO:\n",
      "\t stdout 2022-11-25T14:13:11.263373:Found 272 DICOM file(s)\n",
      "221125-14:13:11,264 nipype.interface INFO:\n",
      "\t stdout 2022-11-25T14:13:11.263373:Resolved discrepancy between tags (0020,1002; 0021,104F; 0054,0081)\n",
      "221125-14:13:11,265 nipype.interface INFO:\n",
      "\t stdout 2022-11-25T14:13:11.263373:Convert 272 DICOM as /NAS/dumbo/protocoles/HAMSI/data_NIFTI/1.3.51.0.1.1.10.49.10.222.7325426.7326552/1.2.840.113619.2.374.2807.1582298.15709.1652425840.754_RAB_CRANE_20220524140826_5 (512x512x272x1)\n",
      "221125-14:13:21,485 nipype.interface INFO:\n",
      "\t stdout 2022-11-25T14:13:21.485021:Conversion required 16.033339 seconds (10.080303 for core code).\n"
     ]
    },
    {
     "name": "stderr",
     "output_type": "stream",
     "text": [
      "mkdir: cannot create directory ‘/NAS/dumbo/protocoles/HAMSI/data_NIFTI/1.3.51.0.1.1.10.49.10.222.7059176.7060169’: File exists\n"
     ]
    },
    {
     "name": "stdout",
     "output_type": "stream",
     "text": [
      "221125-14:13:28,0 nipype.interface INFO:\n",
      "\t stdout 2022-11-25T14:13:28.000126:Chris Rorden's dcm2niiX version v1.0.20211006  (JP2:OpenJPEG) GCC9.3.0 x86-64 (64-bit Linux)\n",
      "221125-14:13:28,1 nipype.interface INFO:\n",
      "\t stdout 2022-11-25T14:13:28.000126:Found 272 DICOM file(s)\n",
      "221125-14:13:28,1 nipype.interface INFO:\n",
      "\t stdout 2022-11-25T14:13:28.000126:Resolved discrepancy between tags (0020,1002; 0021,104F; 0054,0081)\n",
      "221125-14:13:28,1 nipype.interface INFO:\n",
      "\t stdout 2022-11-25T14:13:28.000126:Convert 272 DICOM as /NAS/dumbo/protocoles/HAMSI/data_NIFTI/1.3.51.0.1.1.10.49.10.222.7059176.7060169/1.2.840.113619.2.374.2807.1582298.15164.1639410473.613_201_-_Crane_Standard_20211215154915_3 (512x512x272x1)\n",
      "221125-14:13:37,296 nipype.interface INFO:\n",
      "\t stdout 2022-11-25T14:13:37.296123:Conversion required 15.598101 seconds (9.075201 for core code).\n"
     ]
    },
    {
     "name": "stderr",
     "output_type": "stream",
     "text": [
      "mkdir: cannot create directory ‘/NAS/dumbo/protocoles/HAMSI/data_NIFTI/1.3.51.0.1.1.10.49.10.222.7123903.7124936’: File exists\n"
     ]
    },
    {
     "name": "stdout",
     "output_type": "stream",
     "text": [
      "221125-14:13:43,523 nipype.interface INFO:\n",
      "\t stdout 2022-11-25T14:13:43.523522:Chris Rorden's dcm2niiX version v1.0.20211006  (JP2:OpenJPEG) GCC9.3.0 x86-64 (64-bit Linux)\n",
      "221125-14:13:43,524 nipype.interface INFO:\n",
      "\t stdout 2022-11-25T14:13:43.523522:Found 272 DICOM file(s)\n",
      "221125-14:13:43,524 nipype.interface INFO:\n",
      "\t stdout 2022-11-25T14:13:43.523522:Resolved discrepancy between tags (0020,1002; 0021,104F; 0054,0081)\n",
      "221125-14:13:43,525 nipype.interface INFO:\n",
      "\t stdout 2022-11-25T14:13:43.523522:Convert 272 DICOM as /NAS/dumbo/protocoles/HAMSI/data_NIFTI/1.3.51.0.1.1.10.49.10.222.7123903.7124936/1.2.840.113619.2.374.2807.1582298.17740.1643186259.493_201_-_Crane_Standard_20220126143109_4 (512x512x272x1)\n",
      "221125-14:13:53,518 nipype.interface INFO:\n",
      "\t stdout 2022-11-25T14:13:53.518017:Conversion required 16.022062 seconds (9.856418 for core code).\n"
     ]
    },
    {
     "name": "stderr",
     "output_type": "stream",
     "text": [
      "mkdir: cannot create directory ‘/NAS/dumbo/protocoles/HAMSI/data_NIFTI/1.3.51.0.1.1.10.49.10.222.7381019.7382171’: File exists\n"
     ]
    },
    {
     "name": "stdout",
     "output_type": "stream",
     "text": [
      "221125-14:14:00,451 nipype.interface INFO:\n",
      "\t stdout 2022-11-25T14:14:00.450985:Chris Rorden's dcm2niiX version v1.0.20211006  (JP2:OpenJPEG) GCC9.3.0 x86-64 (64-bit Linux)\n",
      "221125-14:14:00,452 nipype.interface INFO:\n",
      "\t stdout 2022-11-25T14:14:00.450985:Found 272 DICOM file(s)\n",
      "221125-14:14:00,452 nipype.interface INFO:\n",
      "\t stdout 2022-11-25T14:14:00.450985:Resolved discrepancy between tags (0020,1002; 0021,104F; 0054,0081)\n",
      "221125-14:14:00,452 nipype.interface INFO:\n",
      "\t stdout 2022-11-25T14:14:00.450985:Convert 272 DICOM as /NAS/dumbo/protocoles/HAMSI/data_NIFTI/1.3.51.0.1.1.10.49.10.222.7381019.7382171/1.2.840.113619.2.374.2807.1582298.18723.1655879579.516_201_-_Crane_Standard_20220628141702_3 (512x512x272x1)\n",
      "221125-14:14:10,87 nipype.interface INFO:\n",
      "\t stdout 2022-11-25T14:14:10.087800:Conversion required 16.374349 seconds (9.461315 for core code).\n"
     ]
    },
    {
     "name": "stderr",
     "output_type": "stream",
     "text": [
      "mkdir: cannot create directory ‘/NAS/dumbo/protocoles/HAMSI/data_NIFTI/1.3.51.0.1.1.10.49.10.222.6577119.6577798’: File exists\n"
     ]
    },
    {
     "name": "stdout",
     "output_type": "stream",
     "text": [
      "221125-14:14:16,184 nipype.interface INFO:\n",
      "\t stdout 2022-11-25T14:14:16.184444:Chris Rorden's dcm2niiX version v1.0.20211006  (JP2:OpenJPEG) GCC9.3.0 x86-64 (64-bit Linux)\n",
      "221125-14:14:16,185 nipype.interface INFO:\n",
      "\t stdout 2022-11-25T14:14:16.184444:Found 272 DICOM file(s)\n",
      "221125-14:14:16,185 nipype.interface INFO:\n",
      "\t stdout 2022-11-25T14:14:16.184444:Resolved discrepancy between tags (0020,1002; 0021,104F; 0054,0081)\n",
      "221125-14:14:16,186 nipype.interface INFO:\n",
      "\t stdout 2022-11-25T14:14:16.184444:Convert 272 DICOM as /NAS/dumbo/protocoles/HAMSI/data_NIFTI/1.3.51.0.1.1.10.49.10.222.6577119.6577798/1.2.840.113619.2.374.2807.1582298.15459.1613718409.96_201_-_Crane_Standard_20210301095314_3 (512x512x272x1)\n",
      "221125-14:14:26,83 nipype.interface INFO:\n",
      "\t stdout 2022-11-25T14:14:26.083410:Conversion required 15.799126 seconds (9.782763 for core code).\n"
     ]
    },
    {
     "name": "stderr",
     "output_type": "stream",
     "text": [
      "mkdir: cannot create directory ‘/NAS/dumbo/protocoles/HAMSI/data_NIFTI/1.3.51.0.1.1.10.49.10.222.6596352.6597056’: File exists\n"
     ]
    },
    {
     "name": "stdout",
     "output_type": "stream",
     "text": [
      "221125-14:14:33,528 nipype.interface INFO:\n",
      "\t stdout 2022-11-25T14:14:33.528091:Chris Rorden's dcm2niiX version v1.0.20211006  (JP2:OpenJPEG) GCC9.3.0 x86-64 (64-bit Linux)\n",
      "221125-14:14:33,529 nipype.interface INFO:\n",
      "\t stdout 2022-11-25T14:14:33.528091:Found 272 DICOM file(s)\n",
      "221125-14:14:33,529 nipype.interface INFO:\n",
      "\t stdout 2022-11-25T14:14:33.528091:Resolved discrepancy between tags (0020,1002; 0021,104F; 0054,0081)\n",
      "221125-14:14:33,530 nipype.interface INFO:\n",
      "\t stdout 2022-11-25T14:14:33.528091:Convert 272 DICOM as /NAS/dumbo/protocoles/HAMSI/data_NIFTI/1.3.51.0.1.1.10.49.10.222.6596352.6597056/1.2.840.113619.2.374.2807.1582298.15459.1613718409.729_RAB_CRANE_20210311113710_4 (512x512x272x1)\n",
      "221125-14:14:42,532 nipype.interface INFO:\n",
      "\t stdout 2022-11-25T14:14:42.532274:Conversion required 16.241597 seconds (8.815353 for core code).\n"
     ]
    },
    {
     "name": "stderr",
     "output_type": "stream",
     "text": [
      "mkdir: cannot create directory ‘/NAS/dumbo/protocoles/HAMSI/data_NIFTI/1.3.51.0.1.1.10.49.10.222.6906538.6907449’: File exists\n"
     ]
    },
    {
     "name": "stdout",
     "output_type": "stream",
     "text": [
      "221125-14:14:47,604 nipype.interface INFO:\n",
      "\t stdout 2022-11-25T14:14:47.604430:Chris Rorden's dcm2niiX version v1.0.20211006  (JP2:OpenJPEG) GCC9.3.0 x86-64 (64-bit Linux)\n",
      "221125-14:14:47,605 nipype.interface INFO:\n",
      "\t stdout 2022-11-25T14:14:47.604430:Found 280 DICOM file(s)\n",
      "221125-14:14:47,605 nipype.interface INFO:\n",
      "\t stdout 2022-11-25T14:14:47.604430:Resolved discrepancy between tags (0020,1002; 0021,104F; 0054,0081)\n",
      "221125-14:14:47,606 nipype.interface INFO:\n",
      "\t stdout 2022-11-25T14:14:47.604430:Convert 280 DICOM as /NAS/dumbo/protocoles/HAMSI/data_NIFTI/1.3.51.0.1.1.10.49.10.222.6906538.6907449/1.2.840.113619.2.374.2807.1582298.17559.1631772954.654_201_-_Crane_Standard_20210916153716_6 (512x512x280x1)\n",
      "221125-14:14:57,635 nipype.interface INFO:\n",
      "\t stdout 2022-11-25T14:14:57.635634:Conversion required 14.904917 seconds (9.860084 for core code).\n"
     ]
    },
    {
     "name": "stderr",
     "output_type": "stream",
     "text": [
      "mkdir: cannot create directory ‘/NAS/dumbo/protocoles/HAMSI/data_NIFTI/1.3.51.0.1.1.10.49.10.222.6915210.6916123’: File exists\n"
     ]
    },
    {
     "name": "stdout",
     "output_type": "stream",
     "text": [
      "221125-14:15:03,443 nipype.interface INFO:\n",
      "\t stdout 2022-11-25T14:15:03.442903:Chris Rorden's dcm2niiX version v1.0.20211006  (JP2:OpenJPEG) GCC9.3.0 x86-64 (64-bit Linux)\n",
      "221125-14:15:03,443 nipype.interface INFO:\n",
      "\t stdout 2022-11-25T14:15:03.442903:Found 272 DICOM file(s)\n",
      "221125-14:15:03,444 nipype.interface INFO:\n",
      "\t stdout 2022-11-25T14:15:03.442903:Resolved discrepancy between tags (0020,1002; 0021,104F; 0054,0081)\n",
      "221125-14:15:03,445 nipype.interface INFO:\n",
      "\t stdout 2022-11-25T14:15:03.442903:Convert 272 DICOM as /NAS/dumbo/protocoles/HAMSI/data_NIFTI/1.3.51.0.1.1.10.49.10.222.6915210.6916123/1.2.840.113619.2.374.2807.1582298.19134.1632294112.638_201_-_Crane_Standard_20210922090158_3 (512x512x272x1)\n",
      "221125-14:15:13,269 nipype.interface INFO:\n",
      "\t stdout 2022-11-25T14:15:13.269008:Conversion required 15.430426 seconds (9.700259 for core code).\n"
     ]
    },
    {
     "name": "stderr",
     "output_type": "stream",
     "text": [
      "mkdir: cannot create directory ‘/NAS/dumbo/protocoles/HAMSI/data_NIFTI/1.3.51.0.1.1.10.49.10.222.6967820.6968759’: File exists\n"
     ]
    },
    {
     "name": "stdout",
     "output_type": "stream",
     "text": [
      "221125-14:15:20,134 nipype.interface INFO:\n",
      "\t stdout 2022-11-25T14:15:20.134883:Chris Rorden's dcm2niiX version v1.0.20211006  (JP2:OpenJPEG) GCC9.3.0 x86-64 (64-bit Linux)\n",
      "221125-14:15:20,136 nipype.interface INFO:\n",
      "\t stdout 2022-11-25T14:15:20.134883:Found 272 DICOM file(s)\n",
      "221125-14:15:20,137 nipype.interface INFO:\n",
      "\t stdout 2022-11-25T14:15:20.134883:Resolved discrepancy between tags (0020,1002; 0021,104F; 0054,0081)\n",
      "221125-14:15:20,138 nipype.interface INFO:\n",
      "\t stdout 2022-11-25T14:15:20.134883:Convert 272 DICOM as /NAS/dumbo/protocoles/HAMSI/data_NIFTI/1.3.51.0.1.1.10.49.10.222.6967820.6968759/1.2.840.113619.2.374.2807.1582298.14809.1634741131.416_201_-_Crane_Standard_20211021151348_3 (512x512x272x1)\n",
      "221125-14:15:29,700 nipype.interface INFO:\n",
      "\t stdout 2022-11-25T14:15:29.700855:Conversion required 16.228317 seconds (9.379946 for core code).\n"
     ]
    },
    {
     "name": "stderr",
     "output_type": "stream",
     "text": [
      "mkdir: cannot create directory ‘/NAS/dumbo/protocoles/HAMSI/data_NIFTI/1.3.51.0.1.1.10.49.10.222.7526446.7527690’: File exists\n"
     ]
    },
    {
     "name": "stdout",
     "output_type": "stream",
     "text": [
      "221125-14:15:39,36 nipype.interface INFO:\n",
      "\t stdout 2022-11-25T14:15:39.036132:Chris Rorden's dcm2niiX version v1.0.20211006  (JP2:OpenJPEG) GCC9.3.0 x86-64 (64-bit Linux)\n",
      "221125-14:15:39,37 nipype.interface INFO:\n",
      "\t stdout 2022-11-25T14:15:39.036132:Found 272 DICOM file(s)\n",
      "221125-14:15:39,37 nipype.interface INFO:\n",
      "\t stdout 2022-11-25T14:15:39.036132:Resolved discrepancy between tags (0020,1002; 0021,104F; 0054,0081)\n",
      "221125-14:15:39,37 nipype.interface INFO:\n",
      "\t stdout 2022-11-25T14:15:39.036132:Convert 272 DICOM as /NAS/dumbo/protocoles/HAMSI/data_NIFTI/1.3.51.0.1.1.10.49.10.222.7526446.7527690/1.2.840.113619.2.374.2807.1582298.17196.1664347683.653_201_-_Crane_Standard_20220928141450_4 (512x512x272x1)\n",
      "221125-14:15:48,808 nipype.interface INFO:\n",
      "\t stdout 2022-11-25T14:15:48.808726:Conversion required 18.898511 seconds (9.641702 for core code).\n"
     ]
    },
    {
     "name": "stderr",
     "output_type": "stream",
     "text": [
      "mkdir: cannot create directory ‘/NAS/dumbo/protocoles/HAMSI/data_NIFTI/1.3.51.0.1.1.10.49.10.222.6084088.6084507’: File exists\n"
     ]
    },
    {
     "name": "stdout",
     "output_type": "stream",
     "text": [
      "221125-14:15:54,815 nipype.interface INFO:\n",
      "\t stdout 2022-11-25T14:15:54.815525:Chris Rorden's dcm2niiX version v1.0.20211006  (JP2:OpenJPEG) GCC9.3.0 x86-64 (64-bit Linux)\n",
      "221125-14:15:54,816 nipype.interface INFO:\n",
      "\t stdout 2022-11-25T14:15:54.815525:Found 272 DICOM file(s)\n",
      "221125-14:15:54,816 nipype.interface INFO:\n",
      "\t stdout 2022-11-25T14:15:54.815525:Resolved discrepancy between tags (0020,1002; 0021,104F; 0054,0081)\n",
      "221125-14:15:54,817 nipype.interface INFO:\n",
      "\t stdout 2022-11-25T14:15:54.815525:Convert 272 DICOM as /NAS/dumbo/protocoles/HAMSI/data_NIFTI/1.3.51.0.1.1.10.49.10.222.6084088.6084507/1.2.840.113619.2.374.2807.1582298.14000.1587366668.635_201_-_Crane_Standard_20200424102118_5 (512x512x272x1)\n",
      "221125-14:16:04,447 nipype.interface INFO:\n",
      "\t stdout 2022-11-25T14:16:04.447634:Conversion required 15.444689 seconds (9.451476 for core code).\n"
     ]
    },
    {
     "name": "stderr",
     "output_type": "stream",
     "text": [
      "mkdir: cannot create directory ‘/NAS/dumbo/protocoles/HAMSI/data_NIFTI/1.3.51.0.1.1.10.49.10.222.7407539.7408700’: File exists\n"
     ]
    },
    {
     "name": "stdout",
     "output_type": "stream",
     "text": [
      "221125-14:16:12,2 nipype.interface INFO:\n",
      "\t stdout 2022-11-25T14:16:12.002681:Chris Rorden's dcm2niiX version v1.0.20211006  (JP2:OpenJPEG) GCC9.3.0 x86-64 (64-bit Linux)\n",
      "221125-14:16:12,3 nipype.interface INFO:\n",
      "\t stdout 2022-11-25T14:16:12.002681:Found 272 DICOM file(s)\n",
      "221125-14:16:12,4 nipype.interface INFO:\n",
      "\t stdout 2022-11-25T14:16:12.002681:Resolved discrepancy between tags (0020,1002; 0021,104F; 0054,0081)\n",
      "221125-14:16:12,4 nipype.interface INFO:\n",
      "\t stdout 2022-11-25T14:16:12.002681:Convert 272 DICOM as /NAS/dumbo/protocoles/HAMSI/data_NIFTI/1.3.51.0.1.1.10.49.10.222.7407539.7408700/1.2.840.113619.2.374.2807.1582298.17874.1657701077.303_201_-_Crane_Standard_20220715143248_4 (512x512x272x1)\n",
      "221125-14:16:21,973 nipype.interface INFO:\n",
      "\t stdout 2022-11-25T14:16:21.973110:Conversion required 17.328128 seconds (9.827966 for core code).\n"
     ]
    },
    {
     "name": "stderr",
     "output_type": "stream",
     "text": [
      "mkdir: cannot create directory ‘/NAS/dumbo/protocoles/HAMSI/data_NIFTI/1.3.51.0.1.1.10.49.10.222.7353897.7355042’: File exists\n"
     ]
    },
    {
     "name": "stdout",
     "output_type": "stream",
     "text": [
      "221125-14:16:28,460 nipype.interface INFO:\n",
      "\t stdout 2022-11-25T14:16:28.460793:Chris Rorden's dcm2niiX version v1.0.20211006  (JP2:OpenJPEG) GCC9.3.0 x86-64 (64-bit Linux)\n",
      "221125-14:16:28,461 nipype.interface INFO:\n",
      "\t stdout 2022-11-25T14:16:28.460793:Found 272 DICOM file(s)\n",
      "221125-14:16:28,462 nipype.interface INFO:\n",
      "\t stdout 2022-11-25T14:16:28.460793:Resolved discrepancy between tags (0020,1002; 0021,104F; 0054,0081)\n",
      "221125-14:16:28,462 nipype.interface INFO:\n",
      "\t stdout 2022-11-25T14:16:28.460793:Convert 272 DICOM as /NAS/dumbo/protocoles/HAMSI/data_NIFTI/1.3.51.0.1.1.10.49.10.222.7353897.7355042/1.2.840.113619.2.374.2807.1582298.16434.1654066143.572_201_-_Crane_Standard_20220613113236_3 (512x512x272x1)\n",
      "221125-14:16:38,204 nipype.interface INFO:\n",
      "\t stdout 2022-11-25T14:16:38.204223:Conversion required 16.035672 seconds (9.572003 for core code).\n"
     ]
    },
    {
     "name": "stderr",
     "output_type": "stream",
     "text": [
      "mkdir: cannot create directory ‘/NAS/dumbo/protocoles/HAMSI/data_NIFTI/1.3.51.0.1.1.10.49.10.222.6406444.6407010’: File exists\n"
     ]
    },
    {
     "name": "stdout",
     "output_type": "stream",
     "text": [
      "221125-14:16:44,753 nipype.interface INFO:\n",
      "\t stdout 2022-11-25T14:16:44.753582:Chris Rorden's dcm2niiX version v1.0.20211006  (JP2:OpenJPEG) GCC9.3.0 x86-64 (64-bit Linux)\n",
      "221125-14:16:44,754 nipype.interface INFO:\n",
      "\t stdout 2022-11-25T14:16:44.753582:Found 272 DICOM file(s)\n",
      "221125-14:16:44,754 nipype.interface INFO:\n",
      "\t stdout 2022-11-25T14:16:44.753582:Resolved discrepancy between tags (0020,1002; 0021,104F; 0054,0081)\n",
      "221125-14:16:44,755 nipype.interface INFO:\n",
      "\t stdout 2022-11-25T14:16:44.753582:Convert 272 DICOM as /NAS/dumbo/protocoles/HAMSI/data_NIFTI/1.3.51.0.1.1.10.49.10.222.6406444.6407010/1.2.840.113619.2.374.2807.1582298.14977.1605685019.976_201_-_Crane_Standard_20201120085632_3 (512x512x272x1)\n",
      "221125-14:16:53,585 nipype.interface INFO:\n",
      "\t stdout 2022-11-25T14:16:53.585308:Conversion required 15.169560 seconds (8.600584 for core code).\n"
     ]
    },
    {
     "name": "stderr",
     "output_type": "stream",
     "text": [
      "mkdir: cannot create directory ‘/NAS/dumbo/protocoles/HAMSI/data_NIFTI/1.3.51.0.1.1.10.49.10.222.7471186.7472384’: File exists\n"
     ]
    },
    {
     "name": "stdout",
     "output_type": "stream",
     "text": [
      "221125-14:16:59,76 nipype.interface INFO:\n",
      "\t stdout 2022-11-25T14:16:59.076727:Chris Rorden's dcm2niiX version v1.0.20211006  (JP2:OpenJPEG) GCC9.3.0 x86-64 (64-bit Linux)\n",
      "221125-14:16:59,77 nipype.interface INFO:\n",
      "\t stdout 2022-11-25T14:16:59.076727:Found 272 DICOM file(s)\n",
      "221125-14:16:59,78 nipype.interface INFO:\n",
      "\t stdout 2022-11-25T14:16:59.076727:Resolved discrepancy between tags (0020,1002; 0021,104F; 0054,0081)\n",
      "221125-14:16:59,78 nipype.interface INFO:\n",
      "\t stdout 2022-11-25T14:16:59.076727:Convert 272 DICOM as /NAS/dumbo/protocoles/HAMSI/data_NIFTI/1.3.51.0.1.1.10.49.10.222.7471186.7472384/1.2.840.113619.2.374.2807.1582298.17611.1661341681.721_201_-_Crane_Standard_20220826154646_5 (512x512x272x1)\n",
      "221125-14:17:08,579 nipype.interface INFO:\n",
      "\t stdout 2022-11-25T14:17:08.579783:Conversion required 14.766256 seconds (9.319887 for core code).\n"
     ]
    },
    {
     "name": "stderr",
     "output_type": "stream",
     "text": [
      "mkdir: cannot create directory ‘/NAS/dumbo/protocoles/HAMSI/data_NIFTI/1.3.51.0.1.1.10.49.10.222.7106906.7107923’: File exists\n"
     ]
    },
    {
     "name": "stdout",
     "output_type": "stream",
     "text": [
      "221125-14:17:14,866 nipype.interface INFO:\n",
      "\t stdout 2022-11-25T14:17:14.866767:Chris Rorden's dcm2niiX version v1.0.20211006  (JP2:OpenJPEG) GCC9.3.0 x86-64 (64-bit Linux)\n",
      "221125-14:17:14,868 nipype.interface INFO:\n",
      "\t stdout 2022-11-25T14:17:14.866767:Found 272 DICOM file(s)\n",
      "221125-14:17:14,868 nipype.interface INFO:\n",
      "\t stdout 2022-11-25T14:17:14.866767:Resolved discrepancy between tags (0020,1002; 0021,104F; 0054,0081)\n",
      "221125-14:17:14,869 nipype.interface INFO:\n",
      "\t stdout 2022-11-25T14:17:14.866767:Convert 272 DICOM as /NAS/dumbo/protocoles/HAMSI/data_NIFTI/1.3.51.0.1.1.10.49.10.222.7106906.7107923/1.2.840.113619.2.374.2807.1582298.15372.1641281494.348_201_-_Crane_Standard_20220117112348_3 (512x512x272x1)\n",
      "221125-14:17:24,658 nipype.interface INFO:\n",
      "\t stdout 2022-11-25T14:17:24.658537:Conversion required 15.876217 seconds (9.631795 for core code).\n"
     ]
    },
    {
     "name": "stderr",
     "output_type": "stream",
     "text": [
      "mkdir: cannot create directory ‘/NAS/dumbo/protocoles/HAMSI/data_NIFTI/1.3.51.0.1.1.10.49.10.222.7084724.7085731’: File exists\n"
     ]
    },
    {
     "name": "stdout",
     "output_type": "stream",
     "text": [
      "221125-14:17:31,119 nipype.interface INFO:\n",
      "\t stdout 2022-11-25T14:17:31.119587:Chris Rorden's dcm2niiX version v1.0.20211006  (JP2:OpenJPEG) GCC9.3.0 x86-64 (64-bit Linux)\n",
      "221125-14:17:31,120 nipype.interface INFO:\n",
      "\t stdout 2022-11-25T14:17:31.119587:Found 272 DICOM file(s)\n",
      "221125-14:17:31,120 nipype.interface INFO:\n",
      "\t stdout 2022-11-25T14:17:31.119587:Resolved discrepancy between tags (0020,1002; 0021,104F; 0054,0081)\n",
      "221125-14:17:31,121 nipype.interface INFO:\n",
      "\t stdout 2022-11-25T14:17:31.119587:Convert 272 DICOM as /NAS/dumbo/protocoles/HAMSI/data_NIFTI/1.3.51.0.1.1.10.49.10.222.7084724.7085731/1.2.840.113619.2.374.2807.1582298.14830.1641197678.235_201_-_Crane_Standard_20220103133427_4 (512x512x272x1)\n",
      "221125-14:17:40,185 nipype.interface INFO:\n",
      "\t stdout 2022-11-25T14:17:40.185102:Conversion required 15.333966 seconds (8.852809 for core code).\n"
     ]
    },
    {
     "name": "stderr",
     "output_type": "stream",
     "text": [
      "mkdir: cannot create directory ‘/NAS/dumbo/protocoles/HAMSI/data_NIFTI/1.3.51.0.1.1.10.49.10.222.6647658.6648386’: File exists\n"
     ]
    },
    {
     "name": "stdout",
     "output_type": "stream",
     "text": [
      "221125-14:17:47,448 nipype.interface INFO:\n",
      "\t stdout 2022-11-25T14:17:47.448522:Chris Rorden's dcm2niiX version v1.0.20211006  (JP2:OpenJPEG) GCC9.3.0 x86-64 (64-bit Linux)\n",
      "221125-14:17:47,449 nipype.interface INFO:\n",
      "\t stdout 2022-11-25T14:17:47.448522:Found 272 DICOM file(s)\n",
      "221125-14:17:47,449 nipype.interface INFO:\n",
      "\t stdout 2022-11-25T14:17:47.448522:Resolved discrepancy between tags (0020,1002; 0021,104F; 0054,0081)\n",
      "221125-14:17:47,450 nipype.interface INFO:\n",
      "\t stdout 2022-11-25T14:17:47.448522:Convert 272 DICOM as /NAS/dumbo/protocoles/HAMSI/data_NIFTI/1.3.51.0.1.1.10.49.10.222.6647658.6648386/1.2.840.113619.2.374.2807.1582298.14597.1617963326.415_201_-_Crane_Standard_20210409154009_4 (512x512x272x1)\n",
      "221125-14:17:56,852 nipype.interface INFO:\n",
      "\t stdout 2022-11-25T14:17:56.851970:Conversion required 16.446414 seconds (9.207360 for core code).\n"
     ]
    },
    {
     "name": "stderr",
     "output_type": "stream",
     "text": [
      "mkdir: cannot create directory ‘/NAS/dumbo/protocoles/HAMSI/data_NIFTI/1.3.51.0.1.1.10.49.10.222.6073600.6074007’: File exists\n"
     ]
    },
    {
     "name": "stdout",
     "output_type": "stream",
     "text": [
      "221125-14:18:03,489 nipype.interface INFO:\n",
      "\t stdout 2022-11-25T14:18:03.489171:Chris Rorden's dcm2niiX version v1.0.20211006  (JP2:OpenJPEG) GCC9.3.0 x86-64 (64-bit Linux)\n",
      "221125-14:18:03,490 nipype.interface INFO:\n",
      "\t stdout 2022-11-25T14:18:03.489171:Found 272 DICOM file(s)\n",
      "221125-14:18:03,490 nipype.interface INFO:\n",
      "\t stdout 2022-11-25T14:18:03.489171:Resolved discrepancy between tags (0020,1002; 0021,104F; 0054,0081)\n",
      "221125-14:18:03,491 nipype.interface INFO:\n",
      "\t stdout 2022-11-25T14:18:03.489171:Convert 272 DICOM as /NAS/dumbo/protocoles/HAMSI/data_NIFTI/1.3.51.0.1.1.10.49.10.222.6073600.6074007/1.2.840.113619.2.374.2807.1582298.13478.1586845539.802_201_-_Crane_Standard_20200415104851_3 (512x512x272x1)\n",
      "221125-14:18:13,940 nipype.interface INFO:\n",
      "\t stdout 2022-11-25T14:18:13.940529:Conversion required 16.893841 seconds (10.359297 for core code).\n"
     ]
    },
    {
     "name": "stderr",
     "output_type": "stream",
     "text": [
      "mkdir: cannot create directory ‘/NAS/dumbo/protocoles/HAMSI/data_NIFTI/1.3.51.0.1.1.10.49.10.222.6880936.6881829’: File exists\n"
     ]
    },
    {
     "name": "stdout",
     "output_type": "stream",
     "text": [
      "221125-14:18:20,767 nipype.interface INFO:\n",
      "\t stdout 2022-11-25T14:18:20.767481:Chris Rorden's dcm2niiX version v1.0.20211006  (JP2:OpenJPEG) GCC9.3.0 x86-64 (64-bit Linux)\n",
      "221125-14:18:20,768 nipype.interface INFO:\n",
      "\t stdout 2022-11-25T14:18:20.767481:Found 272 DICOM file(s)\n",
      "221125-14:18:20,768 nipype.interface INFO:\n",
      "\t stdout 2022-11-25T14:18:20.767481:Resolved discrepancy between tags (0020,1002; 0021,104F; 0054,0081)\n",
      "221125-14:18:20,769 nipype.interface INFO:\n",
      "\t stdout 2022-11-25T14:18:20.767481:Convert 272 DICOM as /NAS/dumbo/protocoles/HAMSI/data_NIFTI/1.3.51.0.1.1.10.49.10.222.6880936.6881829/1.2.840.113619.2.374.2807.1582298.17841.1629731913.235_201_-_Crane_Standard_20210901135656_3 (512x512x272x1)\n",
      "221125-14:18:30,644 nipype.interface INFO:\n",
      "\t stdout 2022-11-25T14:18:30.644812:Conversion required 16.510668 seconds (9.719867 for core code).\n"
     ]
    },
    {
     "name": "stderr",
     "output_type": "stream",
     "text": [
      "mkdir: cannot create directory ‘/NAS/dumbo/protocoles/HAMSI/data_NIFTI/1.3.51.0.1.1.10.49.10.222.7148950.7149991’: File exists\n"
     ]
    },
    {
     "name": "stdout",
     "output_type": "stream",
     "text": [
      "221125-14:18:37,975 nipype.interface INFO:\n",
      "\t stdout 2022-11-25T14:18:37.975282:Chris Rorden's dcm2niiX version v1.0.20211006  (JP2:OpenJPEG) GCC9.3.0 x86-64 (64-bit Linux)\n",
      "221125-14:18:37,976 nipype.interface INFO:\n",
      "\t stdout 2022-11-25T14:18:37.975282:Found 272 DICOM file(s)\n",
      "221125-14:18:37,976 nipype.interface INFO:\n",
      "\t stdout 2022-11-25T14:18:37.975282:Resolved discrepancy between tags (0020,1002; 0021,104F; 0054,0081)\n",
      "221125-14:18:37,977 nipype.interface INFO:\n",
      "\t stdout 2022-11-25T14:18:37.975282:Convert 272 DICOM as /NAS/dumbo/protocoles/HAMSI/data_NIFTI/1.3.51.0.1.1.10.49.10.222.7148950.7149991/1.2.840.113619.2.374.2807.1582298.16884.1644320355.540_201_-_Crane_Standard_20220210113237_3 (512x512x272x1)\n",
      "221125-14:18:47,836 nipype.interface INFO:\n",
      "\t stdout 2022-11-25T14:18:47.836133:Conversion required 16.992334 seconds (9.711942 for core code).\n"
     ]
    },
    {
     "name": "stderr",
     "output_type": "stream",
     "text": [
      "mkdir: cannot create directory ‘/NAS/dumbo/protocoles/HAMSI/data_NIFTI/1.3.51.0.1.1.10.49.10.222.6906121.6907032’: File exists\n"
     ]
    },
    {
     "name": "stdout",
     "output_type": "stream",
     "text": [
      "221125-14:18:54,686 nipype.interface INFO:\n",
      "\t stdout 2022-11-25T14:18:54.686165:Chris Rorden's dcm2niiX version v1.0.20211006  (JP2:OpenJPEG) GCC9.3.0 x86-64 (64-bit Linux)\n",
      "221125-14:18:54,687 nipype.interface INFO:\n",
      "\t stdout 2022-11-25T14:18:54.686165:Found 272 DICOM file(s)\n",
      "221125-14:18:54,687 nipype.interface INFO:\n",
      "\t stdout 2022-11-25T14:18:54.686165:Resolved discrepancy between tags (0020,1002; 0021,104F; 0054,0081)\n",
      "221125-14:18:54,688 nipype.interface INFO:\n",
      "\t stdout 2022-11-25T14:18:54.686165:Convert 272 DICOM as /NAS/dumbo/protocoles/HAMSI/data_NIFTI/1.3.51.0.1.1.10.49.10.222.6906121.6907032/1.2.840.113619.2.374.2807.1582298.17559.1631772954.631_201_-_Crane_Standard_20210916141930_8 (512x512x272x1)\n",
      "221125-14:19:03,990 nipype.interface INFO:\n",
      "\t stdout 2022-11-25T14:19:03.990531:Conversion required 15.945596 seconds (9.111978 for core code).\n"
     ]
    }
   ],
   "source": [
    "for pt in table_FLAIR.index :\n",
    "    if not (join(PATH_DIR,'data_NIFTI',table_FLAIR.iloc[pt]['StudyInstanceUID']),\"FLAIR.nii.gz\")):\n",
    "        print(join(PATH_DATA,table_FLAIR.iloc[pt]['StudyInstanceUID'],table_FLAIR.iloc[pt]['SerieInstanceUID']))\n",
    "        os.system('mkdir '+join(PATH_DIR,'data_NIFTI',table_FLAIR.iloc[pt]['StudyInstanceUID']))\n",
    "        convert_dcm_2_nii_x((join(PATH_DATA,table_FLAIR.iloc[pt]['StudyInstanceUID'],table_FLAIR.iloc[pt]['SerieInstanceUID'])),join(PATH_DIR,'data_NIFTI',table_FLAIR.iloc[pt]['StudyInstanceUID']))\n",
    "        serie = glob.glob(join(PATH_DIR,'data_NIFTI',table_FLAIR.iloc[pt]['StudyInstanceUID'],table_FLAIR.iloc[pt]['SerieInstanceUID']+\"*.nii.gz\"),recursive = False)\n",
    "        if len(serie)>0:\n",
    "            os.rename(serie[0],join(os.path.dirname(serie[0]),\"FLAIR.nii.gz\"))\n",
    "            os.rename(serie[0].replace(\"nii.gz\",\"json\"),join(os.path.dirname(serie[0]),\"FLAIR.json\"))\n",
    "\n",
    "for pt in table_T1Gado.index :\n",
    "    if not (join(PATH_DIR,'data_NIFTI',table_T1Gado.iloc[pt]['StudyInstanceUID']),\"T1Gado.nii.gz\")):\n",
    "        print(join(PATH_DATA,table_T1Gado.iloc[pt]['StudyInstanceUID'],table_T1Gado.iloc[pt]['SerieInstanceUID']))\n",
    "        os.system('mkdir '+join(PATH_DIR,'data_NIFTI',table_T1Gado.iloc[pt]['StudyInstanceUID']))\n",
    "        convert_dcm_2_nii_x((join(PATH_DATA,table_T1Gado.iloc[pt]['StudyInstanceUID'],table_T1Gado.iloc[pt]['SerieInstanceUID'])),join(PATH_DIR,'data_NIFTI',table_T1Gado.iloc[pt]['StudyInstanceUID']))\n",
    "        serie = glob.glob(join(PATH_DIR,'data_NIFTI',table_T1Gado.iloc[pt]['StudyInstanceUID'],table_T1Gado.iloc[pt]['SerieInstanceUID']+\"*.nii.gz\"),recursive = False)\n",
    "        if len(serie)>0:\n",
    "            os.rename(serie[0],join(os.path.dirname(serie[0]),\"T1Gado.nii.gz\"))\n",
    "            os.rename(serie[0].replace(\"nii.gz\",\"json\"),join(os.path.dirname(serie[0]),\"T1Gado.json\"))        \n",
    "\n",
    "for pt in table_T1.index :\n",
    "    if not (join(PATH_DIR,'data_NIFTI',table_T1.iloc[pt]['StudyInstanceUID']),\"T1.nii.gz\")):    \n",
    "        print(join(PATH_DATA,table_T1.iloc[pt]['StudyInstanceUID'],table_T1.iloc[pt]['SerieInstanceUID']))\n",
    "        os.system('mkdir '+join(PATH_DIR,'data_NIFTI',table_T1.iloc[pt]['StudyInstanceUID']))\n",
    "        convert_dcm_2_nii_x((join(PATH_DATA,table_T1.iloc[pt]['StudyInstanceUID'],table_T1.iloc[pt]['SerieInstanceUID'])),join(PATH_DIR,'data_NIFTI',table_T1.iloc[pt]['StudyInstanceUID']))\n",
    "        serie = glob.glob(join(PATH_DIR,'data_NIFTI',table_T1.iloc[pt]['StudyInstanceUID'],table_T1.iloc[pt]['SerieInstanceUID']+\"*.nii.gz\"),recursive = False)\n",
    "        if len(serie)>0:\n",
    "            os.rename(serie[0],join(os.path.dirname(serie[0]),\"T1.nii.gz\"))\n",
    "            os.rename(serie[0].replace(\"nii.gz\",\"json\"),join(os.path.dirname(serie[0]),\"T1.json\"))            "
   ]
  },
  {
   "cell_type": "code",
   "execution_count": 96,
   "metadata": {},
   "outputs": [
    {
     "name": "stderr",
     "output_type": "stream",
     "text": [
      "stty: 'standard input': Inappropriate ioctl for device\n",
      "stty: 'standard input': Inappropriate ioctl for device\n",
      "stty: 'standard input': Inappropriate ioctl for device\n"
     ]
    },
    {
     "ename": "TraitError",
     "evalue": "Each element of the 'in_files' trait of a CAT12SegmentInputSpec instance must be a pathlike object or string representing an existing file, but a value of '/NAS/dumbo/protocoles/HAMSI/data_NIFTI/1.3.51.0.1.1.10.49.10.222.5982019.5982373/T1.nii.gz' <class 'str'> was specified.",
     "output_type": "error",
     "traceback": [
      "\u001b[0;31m---------------------------------------------------------------------------\u001b[0m",
      "\u001b[0;31mTraitError\u001b[0m                                Traceback (most recent call last)",
      "\u001b[0;32m/tmp/ipykernel_110546/1042277193.py\u001b[0m in \u001b[0;36m<module>\u001b[0;34m\u001b[0m\n\u001b[1;32m      1\u001b[0m \u001b[0;32mfrom\u001b[0m \u001b[0mnipype\u001b[0m\u001b[0;34m.\u001b[0m\u001b[0minterfaces\u001b[0m \u001b[0;32mimport\u001b[0m \u001b[0mcat12\u001b[0m\u001b[0;34m\u001b[0m\u001b[0;34m\u001b[0m\u001b[0m\n\u001b[1;32m      2\u001b[0m \u001b[0mpath_mr\u001b[0m \u001b[0;34m=\u001b[0m \u001b[0mjoin\u001b[0m\u001b[0;34m(\u001b[0m\u001b[0mPATH_DIR\u001b[0m\u001b[0;34m,\u001b[0m\u001b[0;34m'data_NIFTI'\u001b[0m\u001b[0;34m,\u001b[0m\u001b[0;34m'1.3.51.0.1.1.10.49.10.222.5982019.5982373'\u001b[0m\u001b[0;34m,\u001b[0m\u001b[0;34m'T1.nii.gz'\u001b[0m\u001b[0;34m)\u001b[0m\u001b[0;34m\u001b[0m\u001b[0;34m\u001b[0m\u001b[0m\n\u001b[0;32m----> 3\u001b[0;31m \u001b[0mcat\u001b[0m \u001b[0;34m=\u001b[0m \u001b[0mcat12\u001b[0m\u001b[0;34m.\u001b[0m\u001b[0mCAT12Segment\u001b[0m\u001b[0;34m(\u001b[0m\u001b[0min_files\u001b[0m\u001b[0;34m=\u001b[0m\u001b[0mpath_mr\u001b[0m\u001b[0;34m)\u001b[0m\u001b[0;34m\u001b[0m\u001b[0;34m\u001b[0m\u001b[0m\n\u001b[0m\u001b[1;32m      4\u001b[0m \u001b[0mcat\u001b[0m\u001b[0;34m.\u001b[0m\u001b[0mrun\u001b[0m\u001b[0;34m(\u001b[0m\u001b[0;34m)\u001b[0m\u001b[0;34m\u001b[0m\u001b[0;34m\u001b[0m\u001b[0m\n",
      "\u001b[0;32m~/.local/lib/python3.7/site-packages/nipype/interfaces/cat12/preprocess.py\u001b[0m in \u001b[0;36m__init__\u001b[0;34m(self, **inputs)\u001b[0m\n\u001b[1;32m    514\u001b[0m             \u001b[0mself\u001b[0m\u001b[0;34m.\u001b[0m\u001b[0m_jobname\u001b[0m \u001b[0;34m=\u001b[0m \u001b[0;34m\"cat.estwrite\"\u001b[0m\u001b[0;34m\u001b[0m\u001b[0;34m\u001b[0m\u001b[0m\n\u001b[1;32m    515\u001b[0m \u001b[0;34m\u001b[0m\u001b[0m\n\u001b[0;32m--> 516\u001b[0;31m         \u001b[0mSPMCommand\u001b[0m\u001b[0;34m.\u001b[0m\u001b[0m__init__\u001b[0m\u001b[0;34m(\u001b[0m\u001b[0mself\u001b[0m\u001b[0;34m,\u001b[0m \u001b[0;34m**\u001b[0m\u001b[0minputs\u001b[0m\u001b[0;34m)\u001b[0m\u001b[0;34m\u001b[0m\u001b[0;34m\u001b[0m\u001b[0m\n\u001b[0m\u001b[1;32m    517\u001b[0m \u001b[0;34m\u001b[0m\u001b[0m\n\u001b[1;32m    518\u001b[0m     \u001b[0;32mdef\u001b[0m \u001b[0m_format_arg\u001b[0m\u001b[0;34m(\u001b[0m\u001b[0mself\u001b[0m\u001b[0;34m,\u001b[0m \u001b[0mopt\u001b[0m\u001b[0;34m,\u001b[0m \u001b[0mspec\u001b[0m\u001b[0;34m,\u001b[0m \u001b[0mval\u001b[0m\u001b[0;34m)\u001b[0m\u001b[0;34m:\u001b[0m\u001b[0;34m\u001b[0m\u001b[0;34m\u001b[0m\u001b[0m\n",
      "\u001b[0;32m~/.local/lib/python3.7/site-packages/nipype/interfaces/spm/base.py\u001b[0m in \u001b[0;36m__init__\u001b[0;34m(self, **inputs)\u001b[0m\n\u001b[1;32m    308\u001b[0m \u001b[0;34m\u001b[0m\u001b[0m\n\u001b[1;32m    309\u001b[0m     \u001b[0;32mdef\u001b[0m \u001b[0m__init__\u001b[0m\u001b[0;34m(\u001b[0m\u001b[0mself\u001b[0m\u001b[0;34m,\u001b[0m \u001b[0;34m**\u001b[0m\u001b[0minputs\u001b[0m\u001b[0;34m)\u001b[0m\u001b[0;34m:\u001b[0m\u001b[0;34m\u001b[0m\u001b[0;34m\u001b[0m\u001b[0m\n\u001b[0;32m--> 310\u001b[0;31m         \u001b[0msuper\u001b[0m\u001b[0;34m(\u001b[0m\u001b[0mSPMCommand\u001b[0m\u001b[0;34m,\u001b[0m \u001b[0mself\u001b[0m\u001b[0;34m)\u001b[0m\u001b[0;34m.\u001b[0m\u001b[0m__init__\u001b[0m\u001b[0;34m(\u001b[0m\u001b[0;34m**\u001b[0m\u001b[0minputs\u001b[0m\u001b[0;34m)\u001b[0m\u001b[0;34m\u001b[0m\u001b[0;34m\u001b[0m\u001b[0m\n\u001b[0m\u001b[1;32m    311\u001b[0m         self.inputs.on_trait_change(\n\u001b[1;32m    312\u001b[0m             \u001b[0mself\u001b[0m\u001b[0;34m.\u001b[0m\u001b[0m_matlab_cmd_update\u001b[0m\u001b[0;34m,\u001b[0m \u001b[0;34m[\u001b[0m\u001b[0;34m\"matlab_cmd\"\u001b[0m\u001b[0;34m,\u001b[0m \u001b[0;34m\"mfile\"\u001b[0m\u001b[0;34m,\u001b[0m \u001b[0;34m\"paths\"\u001b[0m\u001b[0;34m,\u001b[0m \u001b[0;34m\"use_mcr\"\u001b[0m\u001b[0;34m]\u001b[0m\u001b[0;34m\u001b[0m\u001b[0;34m\u001b[0m\u001b[0m\n",
      "\u001b[0;32m~/.local/lib/python3.7/site-packages/nipype/interfaces/base/core.py\u001b[0m in \u001b[0;36m__init__\u001b[0;34m(self, from_file, resource_monitor, ignore_exception, **inputs)\u001b[0m\n\u001b[1;32m    200\u001b[0m         \u001b[0;32mif\u001b[0m \u001b[0munavailable_traits\u001b[0m\u001b[0;34m:\u001b[0m\u001b[0;34m\u001b[0m\u001b[0;34m\u001b[0m\u001b[0m\n\u001b[1;32m    201\u001b[0m             \u001b[0mself\u001b[0m\u001b[0;34m.\u001b[0m\u001b[0minputs\u001b[0m\u001b[0;34m.\u001b[0m\u001b[0mtrait_set\u001b[0m\u001b[0;34m(\u001b[0m\u001b[0;34m**\u001b[0m\u001b[0;34m{\u001b[0m\u001b[0mk\u001b[0m\u001b[0;34m:\u001b[0m \u001b[0mUndefined\u001b[0m \u001b[0;32mfor\u001b[0m \u001b[0mk\u001b[0m \u001b[0;32min\u001b[0m \u001b[0munavailable_traits\u001b[0m\u001b[0;34m}\u001b[0m\u001b[0;34m)\u001b[0m\u001b[0;34m\u001b[0m\u001b[0;34m\u001b[0m\u001b[0m\n\u001b[0;32m--> 202\u001b[0;31m         \u001b[0mself\u001b[0m\u001b[0;34m.\u001b[0m\u001b[0minputs\u001b[0m\u001b[0;34m.\u001b[0m\u001b[0mtrait_set\u001b[0m\u001b[0;34m(\u001b[0m\u001b[0;34m**\u001b[0m\u001b[0minputs\u001b[0m\u001b[0;34m)\u001b[0m\u001b[0;34m\u001b[0m\u001b[0;34m\u001b[0m\u001b[0m\n\u001b[0m\u001b[1;32m    203\u001b[0m \u001b[0;34m\u001b[0m\u001b[0m\n\u001b[1;32m    204\u001b[0m         \u001b[0mself\u001b[0m\u001b[0;34m.\u001b[0m\u001b[0mignore_exception\u001b[0m \u001b[0;34m=\u001b[0m \u001b[0mignore_exception\u001b[0m\u001b[0;34m\u001b[0m\u001b[0;34m\u001b[0m\u001b[0m\n",
      "\u001b[0;32m~/.local/lib/python3.7/site-packages/traits/has_traits.py\u001b[0m in \u001b[0;36mtrait_set\u001b[0;34m(self, trait_change_notify, **traits)\u001b[0m\n\u001b[1;32m   1518\u001b[0m         \u001b[0;32melse\u001b[0m\u001b[0;34m:\u001b[0m\u001b[0;34m\u001b[0m\u001b[0;34m\u001b[0m\u001b[0m\n\u001b[1;32m   1519\u001b[0m             \u001b[0;32mfor\u001b[0m \u001b[0mname\u001b[0m\u001b[0;34m,\u001b[0m \u001b[0mvalue\u001b[0m \u001b[0;32min\u001b[0m \u001b[0mtraits\u001b[0m\u001b[0;34m.\u001b[0m\u001b[0mitems\u001b[0m\u001b[0;34m(\u001b[0m\u001b[0;34m)\u001b[0m\u001b[0;34m:\u001b[0m\u001b[0;34m\u001b[0m\u001b[0;34m\u001b[0m\u001b[0m\n\u001b[0;32m-> 1520\u001b[0;31m                 \u001b[0msetattr\u001b[0m\u001b[0;34m(\u001b[0m\u001b[0mself\u001b[0m\u001b[0;34m,\u001b[0m \u001b[0mname\u001b[0m\u001b[0;34m,\u001b[0m \u001b[0mvalue\u001b[0m\u001b[0;34m)\u001b[0m\u001b[0;34m\u001b[0m\u001b[0;34m\u001b[0m\u001b[0m\n\u001b[0m\u001b[1;32m   1521\u001b[0m \u001b[0;34m\u001b[0m\u001b[0m\n\u001b[1;32m   1522\u001b[0m         \u001b[0;32mreturn\u001b[0m \u001b[0mself\u001b[0m\u001b[0;34m\u001b[0m\u001b[0;34m\u001b[0m\u001b[0m\n",
      "\u001b[0;32m~/.local/lib/python3.7/site-packages/nipype/interfaces/base/traits_extension.py\u001b[0m in \u001b[0;36mvalidate\u001b[0;34m(self, objekt, name, value)\u001b[0m\n\u001b[1;32m    423\u001b[0m         ):\n\u001b[1;32m    424\u001b[0m             \u001b[0mnewvalue\u001b[0m \u001b[0;34m=\u001b[0m \u001b[0;34m[\u001b[0m\u001b[0mvalue\u001b[0m\u001b[0;34m]\u001b[0m\u001b[0;34m\u001b[0m\u001b[0;34m\u001b[0m\u001b[0m\n\u001b[0;32m--> 425\u001b[0;31m         \u001b[0mvalue\u001b[0m \u001b[0;34m=\u001b[0m \u001b[0msuper\u001b[0m\u001b[0;34m(\u001b[0m\u001b[0mMultiObject\u001b[0m\u001b[0;34m,\u001b[0m \u001b[0mself\u001b[0m\u001b[0;34m)\u001b[0m\u001b[0;34m.\u001b[0m\u001b[0mvalidate\u001b[0m\u001b[0;34m(\u001b[0m\u001b[0mobjekt\u001b[0m\u001b[0;34m,\u001b[0m \u001b[0mname\u001b[0m\u001b[0;34m,\u001b[0m \u001b[0mnewvalue\u001b[0m\u001b[0;34m)\u001b[0m\u001b[0;34m\u001b[0m\u001b[0;34m\u001b[0m\u001b[0m\n\u001b[0m\u001b[1;32m    426\u001b[0m \u001b[0;34m\u001b[0m\u001b[0m\n\u001b[1;32m    427\u001b[0m         \u001b[0;32mif\u001b[0m \u001b[0mvalue\u001b[0m\u001b[0;34m:\u001b[0m\u001b[0;34m\u001b[0m\u001b[0;34m\u001b[0m\u001b[0m\n",
      "\u001b[0;32m~/.local/lib/python3.7/site-packages/traits/trait_types.py\u001b[0m in \u001b[0;36mvalidate\u001b[0;34m(self, object, name, value)\u001b[0m\n\u001b[1;32m   2697\u001b[0m                 \u001b[0;32mreturn\u001b[0m \u001b[0mvalue\u001b[0m\u001b[0;34m\u001b[0m\u001b[0;34m\u001b[0m\u001b[0m\n\u001b[1;32m   2698\u001b[0m \u001b[0;34m\u001b[0m\u001b[0m\n\u001b[0;32m-> 2699\u001b[0;31m             \u001b[0;32mreturn\u001b[0m \u001b[0mTraitListObject\u001b[0m\u001b[0;34m(\u001b[0m\u001b[0mself\u001b[0m\u001b[0;34m,\u001b[0m \u001b[0mobject\u001b[0m\u001b[0;34m,\u001b[0m \u001b[0mname\u001b[0m\u001b[0;34m,\u001b[0m \u001b[0mvalue\u001b[0m\u001b[0;34m)\u001b[0m\u001b[0;34m\u001b[0m\u001b[0;34m\u001b[0m\u001b[0m\n\u001b[0m\u001b[1;32m   2700\u001b[0m \u001b[0;34m\u001b[0m\u001b[0m\n\u001b[1;32m   2701\u001b[0m         \u001b[0mself\u001b[0m\u001b[0;34m.\u001b[0m\u001b[0merror\u001b[0m\u001b[0;34m(\u001b[0m\u001b[0mobject\u001b[0m\u001b[0;34m,\u001b[0m \u001b[0mname\u001b[0m\u001b[0;34m,\u001b[0m \u001b[0mvalue\u001b[0m\u001b[0;34m)\u001b[0m\u001b[0;34m\u001b[0m\u001b[0;34m\u001b[0m\u001b[0m\n",
      "\u001b[0;32m~/.local/lib/python3.7/site-packages/traits/trait_list_object.py\u001b[0m in \u001b[0;36m__init__\u001b[0;34m(self, trait, object, name, value)\u001b[0m\n\u001b[1;32m    583\u001b[0m             \u001b[0mvalue\u001b[0m\u001b[0;34m,\u001b[0m\u001b[0;34m\u001b[0m\u001b[0;34m\u001b[0m\u001b[0m\n\u001b[1;32m    584\u001b[0m             \u001b[0mitem_validator\u001b[0m\u001b[0;34m=\u001b[0m\u001b[0mself\u001b[0m\u001b[0;34m.\u001b[0m\u001b[0m_item_validator\u001b[0m\u001b[0;34m,\u001b[0m\u001b[0;34m\u001b[0m\u001b[0;34m\u001b[0m\u001b[0m\n\u001b[0;32m--> 585\u001b[0;31m             \u001b[0mnotifiers\u001b[0m\u001b[0;34m=\u001b[0m\u001b[0;34m[\u001b[0m\u001b[0mself\u001b[0m\u001b[0;34m.\u001b[0m\u001b[0mnotifier\u001b[0m\u001b[0;34m]\u001b[0m\u001b[0;34m,\u001b[0m\u001b[0;34m\u001b[0m\u001b[0;34m\u001b[0m\u001b[0m\n\u001b[0m\u001b[1;32m    586\u001b[0m         )\n\u001b[1;32m    587\u001b[0m \u001b[0;34m\u001b[0m\u001b[0m\n",
      "\u001b[0;32m~/.local/lib/python3.7/site-packages/traits/trait_list_object.py\u001b[0m in \u001b[0;36m__init__\u001b[0;34m(self, iterable, item_validator, notifiers)\u001b[0m\n\u001b[1;32m    211\u001b[0m         \u001b[0;32mif\u001b[0m \u001b[0mitem_validator\u001b[0m \u001b[0;32mis\u001b[0m \u001b[0;32mnot\u001b[0m \u001b[0;32mNone\u001b[0m\u001b[0;34m:\u001b[0m\u001b[0;34m\u001b[0m\u001b[0;34m\u001b[0m\u001b[0m\n\u001b[1;32m    212\u001b[0m             \u001b[0mself\u001b[0m\u001b[0;34m.\u001b[0m\u001b[0mitem_validator\u001b[0m \u001b[0;34m=\u001b[0m \u001b[0mitem_validator\u001b[0m\u001b[0;34m\u001b[0m\u001b[0;34m\u001b[0m\u001b[0m\n\u001b[0;32m--> 213\u001b[0;31m         \u001b[0msuper\u001b[0m\u001b[0;34m(\u001b[0m\u001b[0;34m)\u001b[0m\u001b[0;34m.\u001b[0m\u001b[0m__init__\u001b[0m\u001b[0;34m(\u001b[0m\u001b[0mself\u001b[0m\u001b[0;34m.\u001b[0m\u001b[0mitem_validator\u001b[0m\u001b[0;34m(\u001b[0m\u001b[0mitem\u001b[0m\u001b[0;34m)\u001b[0m \u001b[0;32mfor\u001b[0m \u001b[0mitem\u001b[0m \u001b[0;32min\u001b[0m \u001b[0miterable\u001b[0m\u001b[0;34m)\u001b[0m\u001b[0;34m\u001b[0m\u001b[0;34m\u001b[0m\u001b[0m\n\u001b[0m\u001b[1;32m    214\u001b[0m         \u001b[0;32mif\u001b[0m \u001b[0mnotifiers\u001b[0m \u001b[0;32mis\u001b[0m \u001b[0;32mnot\u001b[0m \u001b[0;32mNone\u001b[0m\u001b[0;34m:\u001b[0m\u001b[0;34m\u001b[0m\u001b[0;34m\u001b[0m\u001b[0m\n\u001b[1;32m    215\u001b[0m             \u001b[0mself\u001b[0m\u001b[0;34m.\u001b[0m\u001b[0mnotifiers\u001b[0m \u001b[0;34m=\u001b[0m \u001b[0mlist\u001b[0m\u001b[0;34m(\u001b[0m\u001b[0mnotifiers\u001b[0m\u001b[0;34m)\u001b[0m\u001b[0;34m\u001b[0m\u001b[0;34m\u001b[0m\u001b[0m\n",
      "\u001b[0;32m~/.local/lib/python3.7/site-packages/traits/trait_list_object.py\u001b[0m in \u001b[0;36m<genexpr>\u001b[0;34m(.0)\u001b[0m\n\u001b[1;32m    211\u001b[0m         \u001b[0;32mif\u001b[0m \u001b[0mitem_validator\u001b[0m \u001b[0;32mis\u001b[0m \u001b[0;32mnot\u001b[0m \u001b[0;32mNone\u001b[0m\u001b[0;34m:\u001b[0m\u001b[0;34m\u001b[0m\u001b[0;34m\u001b[0m\u001b[0m\n\u001b[1;32m    212\u001b[0m             \u001b[0mself\u001b[0m\u001b[0;34m.\u001b[0m\u001b[0mitem_validator\u001b[0m \u001b[0;34m=\u001b[0m \u001b[0mitem_validator\u001b[0m\u001b[0;34m\u001b[0m\u001b[0;34m\u001b[0m\u001b[0m\n\u001b[0;32m--> 213\u001b[0;31m         \u001b[0msuper\u001b[0m\u001b[0;34m(\u001b[0m\u001b[0;34m)\u001b[0m\u001b[0;34m.\u001b[0m\u001b[0m__init__\u001b[0m\u001b[0;34m(\u001b[0m\u001b[0mself\u001b[0m\u001b[0;34m.\u001b[0m\u001b[0mitem_validator\u001b[0m\u001b[0;34m(\u001b[0m\u001b[0mitem\u001b[0m\u001b[0;34m)\u001b[0m \u001b[0;32mfor\u001b[0m \u001b[0mitem\u001b[0m \u001b[0;32min\u001b[0m \u001b[0miterable\u001b[0m\u001b[0;34m)\u001b[0m\u001b[0;34m\u001b[0m\u001b[0;34m\u001b[0m\u001b[0m\n\u001b[0m\u001b[1;32m    214\u001b[0m         \u001b[0;32mif\u001b[0m \u001b[0mnotifiers\u001b[0m \u001b[0;32mis\u001b[0m \u001b[0;32mnot\u001b[0m \u001b[0;32mNone\u001b[0m\u001b[0;34m:\u001b[0m\u001b[0;34m\u001b[0m\u001b[0;34m\u001b[0m\u001b[0m\n\u001b[1;32m    215\u001b[0m             \u001b[0mself\u001b[0m\u001b[0;34m.\u001b[0m\u001b[0mnotifiers\u001b[0m \u001b[0;34m=\u001b[0m \u001b[0mlist\u001b[0m\u001b[0;34m(\u001b[0m\u001b[0mnotifiers\u001b[0m\u001b[0;34m)\u001b[0m\u001b[0;34m\u001b[0m\u001b[0;34m\u001b[0m\u001b[0m\n",
      "\u001b[0;32m~/.local/lib/python3.7/site-packages/traits/trait_list_object.py\u001b[0m in \u001b[0;36m_item_validator\u001b[0;34m(self, value)\u001b[0m\n\u001b[1;32m    863\u001b[0m \u001b[0;34m\u001b[0m\u001b[0m\n\u001b[1;32m    864\u001b[0m         \u001b[0;32mtry\u001b[0m\u001b[0;34m:\u001b[0m\u001b[0;34m\u001b[0m\u001b[0;34m\u001b[0m\u001b[0m\n\u001b[0;32m--> 865\u001b[0;31m             \u001b[0;32mreturn\u001b[0m \u001b[0mtrait_validator\u001b[0m\u001b[0;34m(\u001b[0m\u001b[0mobject\u001b[0m\u001b[0;34m,\u001b[0m \u001b[0mself\u001b[0m\u001b[0;34m.\u001b[0m\u001b[0mname\u001b[0m\u001b[0;34m,\u001b[0m \u001b[0mvalue\u001b[0m\u001b[0;34m)\u001b[0m\u001b[0;34m\u001b[0m\u001b[0;34m\u001b[0m\u001b[0m\n\u001b[0m\u001b[1;32m    866\u001b[0m         \u001b[0;32mexcept\u001b[0m \u001b[0mTraitError\u001b[0m \u001b[0;32mas\u001b[0m \u001b[0mexcp\u001b[0m\u001b[0;34m:\u001b[0m\u001b[0;34m\u001b[0m\u001b[0;34m\u001b[0m\u001b[0m\n\u001b[1;32m    867\u001b[0m             \u001b[0mexcp\u001b[0m\u001b[0;34m.\u001b[0m\u001b[0mset_prefix\u001b[0m\u001b[0;34m(\u001b[0m\u001b[0;34m\"Each element of the\"\u001b[0m\u001b[0;34m)\u001b[0m\u001b[0;34m\u001b[0m\u001b[0;34m\u001b[0m\u001b[0m\n",
      "\u001b[0;32m~/.local/lib/python3.7/site-packages/nipype/interfaces/base/traits_extension.py\u001b[0m in \u001b[0;36mvalidate\u001b[0;34m(self, objekt, name, value, return_pathlike)\u001b[0m\n\u001b[1;32m    332\u001b[0m             \u001b[0mfname\u001b[0m \u001b[0;34m=\u001b[0m \u001b[0mvalue\u001b[0m\u001b[0;34m.\u001b[0m\u001b[0mname\u001b[0m\u001b[0;34m\u001b[0m\u001b[0;34m\u001b[0m\u001b[0m\n\u001b[1;32m    333\u001b[0m             \u001b[0;32mif\u001b[0m \u001b[0;32mnot\u001b[0m \u001b[0many\u001b[0m\u001b[0;34m(\u001b[0m\u001b[0;34m(\u001b[0m\u001b[0mfname\u001b[0m\u001b[0;34m.\u001b[0m\u001b[0mendswith\u001b[0m\u001b[0;34m(\u001b[0m\u001b[0me\u001b[0m\u001b[0;34m)\u001b[0m \u001b[0;32mfor\u001b[0m \u001b[0me\u001b[0m \u001b[0;32min\u001b[0m \u001b[0mself\u001b[0m\u001b[0;34m.\u001b[0m\u001b[0m_exts\u001b[0m\u001b[0;34m)\u001b[0m\u001b[0;34m)\u001b[0m\u001b[0;34m:\u001b[0m\u001b[0;34m\u001b[0m\u001b[0;34m\u001b[0m\u001b[0m\n\u001b[0;32m--> 334\u001b[0;31m                 \u001b[0mself\u001b[0m\u001b[0;34m.\u001b[0m\u001b[0merror\u001b[0m\u001b[0;34m(\u001b[0m\u001b[0mobjekt\u001b[0m\u001b[0;34m,\u001b[0m \u001b[0mname\u001b[0m\u001b[0;34m,\u001b[0m \u001b[0mstr\u001b[0m\u001b[0;34m(\u001b[0m\u001b[0mvalue\u001b[0m\u001b[0;34m)\u001b[0m\u001b[0;34m)\u001b[0m\u001b[0;34m\u001b[0m\u001b[0;34m\u001b[0m\u001b[0m\n\u001b[0m\u001b[1;32m    335\u001b[0m \u001b[0;34m\u001b[0m\u001b[0m\n\u001b[1;32m    336\u001b[0m         \u001b[0;32mif\u001b[0m \u001b[0;32mnot\u001b[0m \u001b[0mreturn_pathlike\u001b[0m\u001b[0;34m:\u001b[0m\u001b[0;34m\u001b[0m\u001b[0;34m\u001b[0m\u001b[0m\n",
      "\u001b[0;32m~/.local/lib/python3.7/site-packages/traits/base_trait_handler.py\u001b[0m in \u001b[0;36merror\u001b[0;34m(self, object, name, value)\u001b[0m\n\u001b[1;32m     73\u001b[0m         \"\"\"\n\u001b[1;32m     74\u001b[0m         raise TraitError(\n\u001b[0;32m---> 75\u001b[0;31m             \u001b[0mobject\u001b[0m\u001b[0;34m,\u001b[0m \u001b[0mname\u001b[0m\u001b[0;34m,\u001b[0m \u001b[0mself\u001b[0m\u001b[0;34m.\u001b[0m\u001b[0mfull_info\u001b[0m\u001b[0;34m(\u001b[0m\u001b[0mobject\u001b[0m\u001b[0;34m,\u001b[0m \u001b[0mname\u001b[0m\u001b[0;34m,\u001b[0m \u001b[0mvalue\u001b[0m\u001b[0;34m)\u001b[0m\u001b[0;34m,\u001b[0m \u001b[0mvalue\u001b[0m\u001b[0;34m\u001b[0m\u001b[0;34m\u001b[0m\u001b[0m\n\u001b[0m\u001b[1;32m     76\u001b[0m         )\n\u001b[1;32m     77\u001b[0m \u001b[0;34m\u001b[0m\u001b[0m\n",
      "\u001b[0;31mTraitError\u001b[0m: Each element of the 'in_files' trait of a CAT12SegmentInputSpec instance must be a pathlike object or string representing an existing file, but a value of '/NAS/dumbo/protocoles/HAMSI/data_NIFTI/1.3.51.0.1.1.10.49.10.222.5982019.5982373/T1.nii.gz' <class 'str'> was specified."
     ]
    }
   ],
   "source": [
    "from nipype.interfaces import cat12\n",
    "path_mr = join(PATH_DIR,'data_NIFTI','1.3.51.0.1.1.10.49.10.222.5982019.5982373','T1.nii.gz')\n",
    "cat = cat12.CAT12Segment(in_files=path_mr)\n",
    "cat.run() "
   ]
  },
  {
   "cell_type": "code",
   "execution_count": null,
   "metadata": {},
   "outputs": [],
   "source": []
  }
 ],
 "metadata": {
  "kernelspec": {
   "display_name": "Python 3 (ipykernel)",
   "language": "python",
   "name": "python3"
  },
  "language_info": {
   "codemirror_mode": {
    "name": "ipython",
    "version": 3
   },
   "file_extension": ".py",
   "mimetype": "text/x-python",
   "name": "python",
   "nbconvert_exporter": "python",
   "pygments_lexer": "ipython3",
   "version": "3.7.6"
  }
 },
 "nbformat": 4,
 "nbformat_minor": 4
}
