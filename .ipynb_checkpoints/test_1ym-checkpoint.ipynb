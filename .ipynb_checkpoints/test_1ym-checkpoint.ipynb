{
 "cells": [
  {
   "cell_type": "code",
   "execution_count": 7,
   "id": "4ec53326",
   "metadata": {},
   "outputs": [
    {
     "name": "stdout",
     "output_type": "stream",
     "text": [
      "Defaulting to user installation because normal site-packages is not writeable\n",
      "Collecting dcm2niix\n",
      "  Using cached dcm2niix-1.0.20220715.tar.gz (451 kB)\n",
      "  Installing build dependencies ... \u001b[?25ldone\n",
      "\u001b[?25h  Getting requirements to build wheel ... \u001b[?25ldone\n",
      "\u001b[?25h    Preparing wheel metadata ... \u001b[?25ldone\n",
      "\u001b[?25hCollecting miutil[web]\n",
      "  Using cached miutil-0.12.0-py3-none-any.whl (18 kB)\n",
      "Requirement already satisfied: tqdm>=4.40.0 in /mnt/software/anaconda37/lib/python3.7/site-packages (from miutil[web]->dcm2niix) (4.62.3)\n",
      "Requirement already satisfied: requests in /mnt/software/anaconda37/lib/python3.7/site-packages (from miutil[web]->dcm2niix) (2.27.1)\n",
      "Requirement already satisfied: idna<4,>=2.5 in /mnt/software/anaconda37/lib/python3.7/site-packages (from requests->miutil[web]->dcm2niix) (3.3)\n",
      "Requirement already satisfied: urllib3<1.27,>=1.21.1 in /mnt/software/anaconda37/lib/python3.7/site-packages (from requests->miutil[web]->dcm2niix) (1.26.3)\n",
      "Requirement already satisfied: charset-normalizer~=2.0.0 in /mnt/software/anaconda37/lib/python3.7/site-packages (from requests->miutil[web]->dcm2niix) (2.0.4)\n",
      "Requirement already satisfied: certifi>=2017.4.17 in /mnt/software/anaconda37/lib/python3.7/site-packages (from requests->miutil[web]->dcm2niix) (2022.12.7)\n",
      "Building wheels for collected packages: dcm2niix\n",
      "  Building wheel for dcm2niix (PEP 517) ... \u001b[?25ldone\n",
      "\u001b[?25h  Created wheel for dcm2niix: filename=dcm2niix-1.0.20220715-py3-none-any.whl size=12219 sha256=de1b94ac35f77dd6f6a8c10974979e560be103aec796e0cb023a227ed6d44246\n",
      "  Stored in directory: /home/youssef/.cache/pip/wheels/5d/21/ac/86f2d9687153b30c5b5b4092f49cc2c1fd69a851437960f7fa\n",
      "Successfully built dcm2niix\n",
      "Installing collected packages: miutil, dcm2niix\n",
      "\u001b[33m  WARNING: The scripts cuinfo and mbeautify are installed in '/home/youssef/.local/bin' which is not on PATH.\n",
      "  Consider adding this directory to PATH or, if you prefer to suppress this warning, use --no-warn-script-location.\u001b[0m\n",
      "\u001b[33m  WARNING: The script dcm2niix is installed in '/home/youssef/.local/bin' which is not on PATH.\n",
      "  Consider adding this directory to PATH or, if you prefer to suppress this warning, use --no-warn-script-location.\u001b[0m\n",
      "Successfully installed dcm2niix-1.0.20220715 miutil-0.12.0\n",
      "Note: you may need to restart the kernel to use updated packages.\n"
     ]
    }
   ],
   "source": [
    " pip install dcm2niix"
   ]
  },
  {
   "cell_type": "code",
   "execution_count": 8,
   "id": "1d3c38d4",
   "metadata": {},
   "outputs": [
    {
     "name": "stdout",
     "output_type": "stream",
     "text": [
      "Defaulting to user installation because normal site-packages is not writeable\n",
      "Collecting nipype\n",
      "  Downloading nipype-1.8.6-py3-none-any.whl (3.2 MB)\n",
      "\u001b[K     |████████████████████████████████| 3.2 MB 1.3 MB/s eta 0:00:01\n",
      "\u001b[?25hRequirement already satisfied: click>=6.6.0 in /mnt/software/anaconda37/lib/python3.7/site-packages (from nipype) (8.0.3)\n",
      "Requirement already satisfied: networkx>=2.0 in /mnt/software/anaconda37/lib/python3.7/site-packages (from nipype) (2.6.3)\n",
      "Requirement already satisfied: python-dateutil>=2.2 in /mnt/software/anaconda37/lib/python3.7/site-packages (from nipype) (2.8.2)\n",
      "Collecting pydot>=1.2.3\n",
      "  Downloading pydot-1.4.2-py2.py3-none-any.whl (21 kB)\n",
      "Collecting etelemetry>=0.2.0\n",
      "  Downloading etelemetry-0.3.0-py3-none-any.whl (6.3 kB)\n",
      "Collecting traits!=5.0,<6.4,>=4.6\n",
      "  Downloading traits-6.3.2-cp37-cp37m-manylinux_2_5_x86_64.manylinux1_x86_64.manylinux_2_12_x86_64.manylinux2010_x86_64.whl (5.1 MB)\n",
      "\u001b[K     |████████████████████████████████| 5.1 MB 35.0 MB/s eta 0:00:01\n",
      "\u001b[?25hRequirement already satisfied: packaging in /mnt/software/anaconda37/lib/python3.7/site-packages (from nipype) (21.3)\n",
      "Collecting simplejson>=3.8.0\n",
      "  Downloading simplejson-3.19.1-cp37-cp37m-manylinux_2_5_x86_64.manylinux1_x86_64.manylinux_2_17_x86_64.manylinux2014_x86_64.whl (126 kB)\n",
      "\u001b[K     |████████████████████████████████| 126 kB 36.1 MB/s eta 0:00:01\n",
      "\u001b[?25hCollecting rdflib>=5.0.0\n",
      "  Downloading rdflib-6.3.2-py3-none-any.whl (528 kB)\n",
      "\u001b[K     |████████████████████████████████| 528 kB 58.3 MB/s eta 0:00:01\n",
      "\u001b[?25hRequirement already satisfied: scipy>=0.14 in /mnt/software/anaconda37/lib/python3.7/site-packages (from nipype) (1.7.3)\n",
      "Collecting looseversion\n",
      "  Downloading looseversion-1.3.0-py2.py3-none-any.whl (8.2 kB)\n",
      "Requirement already satisfied: filelock>=3.0.0 in /mnt/software/anaconda37/lib/python3.7/site-packages (from nipype) (3.4.2)\n",
      "Requirement already satisfied: numpy>=1.17 in /mnt/software/anaconda37/lib/python3.7/site-packages (from nipype) (1.20.3)\n",
      "Collecting prov>=1.5.2\n",
      "  Downloading prov-2.0.0-py3-none-any.whl (421 kB)\n",
      "\u001b[K     |████████████████████████████████| 421 kB 57.9 MB/s eta 0:00:01\n",
      "\u001b[?25hRequirement already satisfied: nibabel>=2.1.0 in /mnt/software/anaconda37/lib/python3.7/site-packages (from nipype) (4.0.1)\n",
      "Requirement already satisfied: importlib-metadata in /mnt/software/anaconda37/lib/python3.7/site-packages (from click>=6.6.0->nipype) (4.8.2)\n",
      "Requirement already satisfied: requests in /mnt/software/anaconda37/lib/python3.7/site-packages (from etelemetry>=0.2.0->nipype) (2.27.1)\n",
      "Collecting ci-info>=0.2\n",
      "  Downloading ci_info-0.3.0-py3-none-any.whl (7.8 kB)\n",
      "Requirement already satisfied: setuptools in /mnt/software/anaconda37/lib/python3.7/site-packages (from nibabel>=2.1.0->nipype) (58.0.4)\n",
      "Requirement already satisfied: pyparsing!=3.0.5,>=2.0.2 in /mnt/software/anaconda37/lib/python3.7/site-packages (from packaging->nipype) (3.0.4)\n",
      "Requirement already satisfied: lxml>=3.3.5 in /mnt/software/anaconda37/lib/python3.7/site-packages (from prov>=1.5.2->nipype) (4.6.3)\n",
      "Requirement already satisfied: six>=1.5 in /mnt/software/anaconda37/lib/python3.7/site-packages (from python-dateutil>=2.2->nipype) (1.16.0)\n",
      "Collecting isodate<0.7.0,>=0.6.0\n",
      "  Downloading isodate-0.6.1-py2.py3-none-any.whl (41 kB)\n",
      "\u001b[K     |████████████████████████████████| 41 kB 546 kB/s  eta 0:00:01\n",
      "\u001b[?25hRequirement already satisfied: typing-extensions>=3.6.4 in /mnt/software/anaconda37/lib/python3.7/site-packages (from importlib-metadata->click>=6.6.0->nipype) (3.10.0.2)\n",
      "Requirement already satisfied: zipp>=0.5 in /mnt/software/anaconda37/lib/python3.7/site-packages (from importlib-metadata->click>=6.6.0->nipype) (3.7.0)\n",
      "Requirement already satisfied: idna<4,>=2.5 in /mnt/software/anaconda37/lib/python3.7/site-packages (from requests->etelemetry>=0.2.0->nipype) (3.3)\n",
      "Requirement already satisfied: certifi>=2017.4.17 in /mnt/software/anaconda37/lib/python3.7/site-packages (from requests->etelemetry>=0.2.0->nipype) (2022.12.7)\n",
      "Requirement already satisfied: urllib3<1.27,>=1.21.1 in /mnt/software/anaconda37/lib/python3.7/site-packages (from requests->etelemetry>=0.2.0->nipype) (1.26.3)\n",
      "Requirement already satisfied: charset-normalizer~=2.0.0 in /mnt/software/anaconda37/lib/python3.7/site-packages (from requests->etelemetry>=0.2.0->nipype) (2.0.4)\n",
      "Installing collected packages: isodate, rdflib, ci-info, traits, simplejson, pydot, prov, looseversion, etelemetry, nipype\n",
      "\u001b[33m  WARNING: The scripts csv2rdf, rdf2dot, rdfgraphisomorphism, rdfpipe and rdfs2dot are installed in '/home/youssef/.local/bin' which is not on PATH.\n",
      "  Consider adding this directory to PATH or, if you prefer to suppress this warning, use --no-warn-script-location.\u001b[0m\n",
      "\u001b[33m  WARNING: The script nipypecli is installed in '/home/youssef/.local/bin' which is not on PATH.\n",
      "  Consider adding this directory to PATH or, if you prefer to suppress this warning, use --no-warn-script-location.\u001b[0m\n",
      "Successfully installed ci-info-0.3.0 etelemetry-0.3.0 isodate-0.6.1 looseversion-1.3.0 nipype-1.8.6 prov-2.0.0 pydot-1.4.2 rdflib-6.3.2 simplejson-3.19.1 traits-6.3.2\n",
      "Note: you may need to restart the kernel to use updated packages.\n"
     ]
    }
   ],
   "source": [
    "pip install nipype"
   ]
  },
  {
   "cell_type": "code",
   "execution_count": 9,
   "id": "647f0a91",
   "metadata": {},
   "outputs": [
    {
     "name": "stdout",
     "output_type": "stream",
     "text": [
      "Defaulting to user installation because normal site-packages is not writeable\n",
      "Requirement already satisfied: pip in /mnt/software/anaconda37/lib/python3.7/site-packages (21.2.2)\n",
      "Collecting pip\n",
      "  Using cached pip-23.2.1-py3-none-any.whl (2.1 MB)\n",
      "Installing collected packages: pip\n",
      "\u001b[33m  WARNING: The scripts pip, pip3, pip3.11 and pip3.7 are installed in '/home/youssef/.local/bin' which is not on PATH.\n",
      "  Consider adding this directory to PATH or, if you prefer to suppress this warning, use --no-warn-script-location.\u001b[0m\n",
      "Successfully installed pip-23.2.1\n",
      "Note: you may need to restart the kernel to use updated packages.\n"
     ]
    }
   ],
   "source": [
    "pip install --upgrade pip"
   ]
  },
  {
   "cell_type": "code",
   "execution_count": 12,
   "id": "c23cca31",
   "metadata": {},
   "outputs": [
    {
     "name": "stdout",
     "output_type": "stream",
     "text": [
      "Defaulting to user installation because normal site-packages is not writeable\n",
      "Requirement already satisfied: pydicom in /home/youssef/.local/lib/python3.7/site-packages (2.4.3)\n",
      "\u001b[33mDEPRECATION: matlabengineforpython R2020a has a non-standard version number. pip 23.3 will enforce this behaviour change. A possible replacement is to upgrade to a newer version of matlabengineforpython or contact the author to suggest that they release a version with a conforming version number. Discussion can be found at https://github.com/pypa/pip/issues/12063\u001b[0m\u001b[33m\n",
      "\u001b[0m\u001b[33mDEPRECATION: pyodbc 4.0.0-unsupported has a non-standard version number. pip 23.3 will enforce this behaviour change. A possible replacement is to upgrade to a newer version of pyodbc or contact the author to suggest that they release a version with a conforming version number. Discussion can be found at https://github.com/pypa/pip/issues/12063\u001b[0m\u001b[33m\n",
      "\u001b[0mNote: you may need to restart the kernel to use updated packages.\n"
     ]
    }
   ],
   "source": [
    "pip install pydicom"
   ]
  },
  {
   "cell_type": "code",
   "execution_count": 1,
   "id": "1f8fdab6",
   "metadata": {},
   "outputs": [
    {
     "name": "stdout",
     "output_type": "stream",
     "text": [
      "Defaulting to user installation because normal site-packages is not writeable\n",
      "Requirement already satisfied: numpy in /mnt/software/anaconda37/lib/python3.7/site-packages (1.20.3)\n",
      "\u001b[33mDEPRECATION: matlabengineforpython R2020a has a non-standard version number. pip 23.3 will enforce this behaviour change. A possible replacement is to upgrade to a newer version of matlabengineforpython or contact the author to suggest that they release a version with a conforming version number. Discussion can be found at https://github.com/pypa/pip/issues/12063\u001b[0m\u001b[33m\n",
      "\u001b[0m\u001b[33mDEPRECATION: pyodbc 4.0.0-unsupported has a non-standard version number. pip 23.3 will enforce this behaviour change. A possible replacement is to upgrade to a newer version of pyodbc or contact the author to suggest that they release a version with a conforming version number. Discussion can be found at https://github.com/pypa/pip/issues/12063\u001b[0m\u001b[33m\n",
      "\u001b[0mNote: you may need to restart the kernel to use updated packages.\n"
     ]
    }
   ],
   "source": [
    "pip install numpy"
   ]
  },
  {
   "cell_type": "code",
   "execution_count": 1,
   "id": "98ef7dc0",
   "metadata": {},
   "outputs": [
    {
     "name": "stdout",
     "output_type": "stream",
     "text": [
      "Defaulting to user installation because normal site-packages is not writeable\n",
      "Collecting mkl\n",
      "  Obtaining dependency information for mkl from https://files.pythonhosted.org/packages/c0/35/740b9b13fac697e0cf4ee7e5fe8d61b3249d3099daf3f684935b66613136/mkl-2023.2.0-py2.py3-none-manylinux1_x86_64.whl.metadata\n",
      "  Downloading mkl-2023.2.0-py2.py3-none-manylinux1_x86_64.whl.metadata (1.4 kB)\n",
      "Collecting intel-openmp==2023.* (from mkl)\n",
      "  Obtaining dependency information for intel-openmp==2023.* from https://files.pythonhosted.org/packages/e2/bb/00ce7622dfc2d500f8a8489d13e07b93ac8d5a44cc748905bb7f494e591e/intel_openmp-2023.2.0-py2.py3-none-manylinux1_x86_64.whl.metadata\n",
      "  Downloading intel_openmp-2023.2.0-py2.py3-none-manylinux1_x86_64.whl.metadata (1.2 kB)\n",
      "Collecting tbb==2021.* (from mkl)\n",
      "  Obtaining dependency information for tbb==2021.* from https://files.pythonhosted.org/packages/79/a8/01ac205ff1f68f543aa73d69d6947218cd0973992a4b60cf0a4bfe507561/tbb-2021.10.0-py2.py3-none-manylinux1_x86_64.whl.metadata\n",
      "  Downloading tbb-2021.10.0-py2.py3-none-manylinux1_x86_64.whl.metadata (1.0 kB)\n",
      "Downloading mkl-2023.2.0-py2.py3-none-manylinux1_x86_64.whl (258.0 MB)\n",
      "\u001b[2K   \u001b[38;2;114;156;31m━━━━━━━━━━━━━━━━━━━━━━━━━━━━━━━━━━━━━━━━\u001b[0m \u001b[32m258.0/258.0 MB\u001b[0m \u001b[31m1.9 MB/s\u001b[0m eta \u001b[36m0:00:00\u001b[0mm eta \u001b[36m0:00:01\u001b[0m[36m0:00:02\u001b[0mm\n",
      "\u001b[?25hDownloading intel_openmp-2023.2.0-py2.py3-none-manylinux1_x86_64.whl (20.2 MB)\n",
      "\u001b[2K   \u001b[38;2;114;156;31m━━━━━━━━━━━━━━━━━━━━━━━━━━━━━━━━━━━━━━━━\u001b[0m \u001b[32m20.2/20.2 MB\u001b[0m \u001b[31m3.3 MB/s\u001b[0m eta \u001b[36m0:00:00\u001b[0mm eta \u001b[36m0:00:01\u001b[0m[36m0:00:01\u001b[0m\n",
      "\u001b[?25hDownloading tbb-2021.10.0-py2.py3-none-manylinux1_x86_64.whl (4.4 MB)\n",
      "\u001b[2K   \u001b[38;2;114;156;31m━━━━━━━━━━━━━━━━━━━━━━━━━━━━━━━━━━━━━━━━\u001b[0m \u001b[32m4.4/4.4 MB\u001b[0m \u001b[31m4.0 MB/s\u001b[0m eta \u001b[36m0:00:00\u001b[0mm eta \u001b[36m0:00:01\u001b[0m[36m0:00:01\u001b[0m\n",
      "\u001b[?25h\u001b[33mDEPRECATION: matlabengineforpython R2020a has a non-standard version number. pip 23.3 will enforce this behaviour change. A possible replacement is to upgrade to a newer version of matlabengineforpython or contact the author to suggest that they release a version with a conforming version number. Discussion can be found at https://github.com/pypa/pip/issues/12063\u001b[0m\u001b[33m\n",
      "\u001b[0m\u001b[33mDEPRECATION: pyodbc 4.0.0-unsupported has a non-standard version number. pip 23.3 will enforce this behaviour change. A possible replacement is to upgrade to a newer version of pyodbc or contact the author to suggest that they release a version with a conforming version number. Discussion can be found at https://github.com/pypa/pip/issues/12063\u001b[0m\u001b[33m\n",
      "\u001b[0mInstalling collected packages: tbb, intel-openmp, mkl\n",
      "Successfully installed intel-openmp-2023.2.0 mkl-2023.2.0 tbb-2021.10.0\n",
      "Note: you may need to restart the kernel to use updated packages.\n"
     ]
    }
   ],
   "source": [
    "pip install mkl"
   ]
  },
  {
   "cell_type": "code",
   "execution_count": 7,
   "id": "02aa3725",
   "metadata": {},
   "outputs": [
    {
     "name": "stdout",
     "output_type": "stream",
     "text": [
      "Defaulting to user installation because normal site-packages is not writeable\n",
      "Requirement already satisfied: opencv-python in /home/youssef/.local/lib/python3.7/site-packages (4.8.0.76)\n",
      "Requirement already satisfied: numpy>=1.17.0 in /mnt/software/anaconda37/lib/python3.7/site-packages (from opencv-python) (1.20.3)\n",
      "\u001b[33mDEPRECATION: matlabengineforpython R2020a has a non-standard version number. pip 23.3 will enforce this behaviour change. A possible replacement is to upgrade to a newer version of matlabengineforpython or contact the author to suggest that they release a version with a conforming version number. Discussion can be found at https://github.com/pypa/pip/issues/12063\u001b[0m\u001b[33m\n",
      "\u001b[0m\u001b[33mDEPRECATION: pyodbc 4.0.0-unsupported has a non-standard version number. pip 23.3 will enforce this behaviour change. A possible replacement is to upgrade to a newer version of pyodbc or contact the author to suggest that they release a version with a conforming version number. Discussion can be found at https://github.com/pypa/pip/issues/12063\u001b[0m\u001b[33m\n",
      "\u001b[0mNote: you may need to restart the kernel to use updated packages.\n"
     ]
    }
   ],
   "source": [
    "pip install opencv-python"
   ]
  },
  {
   "cell_type": "code",
   "execution_count": 1,
   "id": "c37ef888",
   "metadata": {},
   "outputs": [],
   "source": [
    "import os, sys\n",
    "import pydicom as dcm\n",
    "import pandas as pd\n",
    "import matplotlib.pyplot as plt #graphiques\n",
    "from os import listdir\n",
    "from os.path import isfile, join\n",
    "#onlyfiles = [f for f in listdir(mypath) if isfile(join(mypath, f))]\n",
    "import glob\n",
    "import dcm2niix as dc\n",
    "#len(glob.glob(join(mypath,\"*\",\"*\",\"MR*\"),recursive=True))\n",
    "from nipype.interfaces.dcm2nii import Dcm2niix\n",
    "import nibabel as nib\n",
    "import cv2"
   ]
  },
  {
   "cell_type": "code",
   "execution_count": 2,
   "id": "32058a54",
   "metadata": {},
   "outputs": [],
   "source": [
    "directory_path = '/NAS/dumbo/protocoles/HAMSI/nifti_CHU'\n",
    "\n",
    "# Liste pour stocker les images T1 chargées\n",
    "t1_images = []"
   ]
  },
  {
   "cell_type": "code",
   "execution_count": null,
   "id": "6232b485",
   "metadata": {},
   "outputs": [
    {
     "name": "stdout",
     "output_type": "stream",
     "text": [
      "Le fichier T1.nii.gz n'existe pas dans le dossier 1.3.51.0.1.1.10.49.10.222.6585523.6586221.\n",
      "Le fichier T1.nii.gz n'existe pas dans le dossier 1.3.51.0.1.1.10.49.10.222.6242070.6242583.\n",
      "Le fichier T1.nii.gz n'existe pas dans le dossier 1.3.51.0.1.1.10.49.10.222.7476865.7478064.\n",
      "Le fichier T1.nii.gz n'existe pas dans le dossier 1.3.51.0.1.1.10.49.10.222.7000684.7001638.\n",
      "Le fichier T1.nii.gz n'existe pas dans le dossier 1.3.51.0.1.1.10.49.10.222.7422018.7423198.\n",
      "Le fichier T1.nii.gz n'existe pas dans le dossier 1.3.51.0.1.1.10.49.10.222.7337413.7338555.\n",
      "Le fichier T1.nii.gz n'existe pas dans le dossier 1.3.51.0.1.1.10.49.10.222.7477184.7478383.\n",
      "Le fichier T1.nii.gz n'existe pas dans le dossier 1.3.51.0.1.1.10.49.10.222.7466874.7468072.\n",
      "Le fichier T1.nii.gz n'existe pas dans le dossier 1.3.51.0.1.1.10.49.10.222.6658670.6659403.\n",
      "Le fichier T1.nii.gz n'existe pas dans le dossier 1.3.51.0.1.1.10.49.10.222.6286226.6286744.\n",
      "Le fichier T1.nii.gz n'existe pas dans le dossier 1.3.51.0.1.1.10.49.10.222.6332023.6332562.\n",
      "Le fichier T1.nii.gz n'existe pas dans le dossier 1.3.51.0.1.1.10.49.10.222.6241232.6241745.\n",
      "Le fichier T1.nii.gz n'existe pas dans le dossier 1.3.51.0.1.1.10.49.10.222.6301149.6301676.\n",
      "Le fichier T1.nii.gz n'existe pas dans le dossier 1.3.51.0.1.1.10.49.10.222.5909844.5910147.\n",
      "Le fichier T1.nii.gz n'existe pas dans le dossier 1.3.51.0.1.1.10.49.10.222.6572525.6573204.\n",
      "Le fichier T1.nii.gz n'existe pas dans le dossier 1.3.51.0.1.1.10.49.10.222.6487321.6487965.\n",
      "Le fichier T1.nii.gz n'existe pas dans le dossier 1.3.51.0.1.1.10.49.10.222.6097689.6098127.\n",
      "Le fichier T1.nii.gz n'existe pas dans le dossier 1.3.51.0.1.1.10.49.10.222.6054632.6055014.\n",
      "Le fichier T1.nii.gz n'existe pas dans le dossier 1.3.51.0.1.1.10.49.10.222.6987432.6988374.\n",
      "Le fichier T1.nii.gz n'existe pas dans le dossier 1.3.51.0.1.1.10.49.10.222.6069678.6070080.\n",
      "Le fichier T1.nii.gz n'existe pas dans le dossier 1.3.51.0.1.1.10.49.10.222.6004235.6004598.\n",
      "Le fichier T1.nii.gz n'existe pas dans le dossier 1.3.51.0.1.1.10.49.10.222.7410144.7411312.\n",
      "Le fichier T1.nii.gz n'existe pas dans le dossier 1.3.51.0.1.1.10.49.10.222.6266046.6266562.\n",
      "Le fichier T1.nii.gz n'existe pas dans le dossier 1.3.51.0.1.1.10.49.10.222.6078455.6078870.\n"
     ]
    }
   ],
   "source": [
    "# Parcourez chaque sous-dossier du répertoire principal\n",
    "for subdir in os.listdir(directory_path):\n",
    "    subdir_path = os.path.join(directory_path, subdir)\n",
    "    \n",
    "    # Assurez-vous que c'est un dossier\n",
    "    if os.path.isdir(subdir_path):\n",
    "        t1_file_path = os.path.join(subdir_path, 'T1.nii.gz')\n",
    "        \n",
    "        # Assurez-vous que le fichier T1.nii.gz existe dans le sous-dossier\n",
    "        if os.path.exists(t1_file_path):\n",
    "            nii_image = nib.load(t1_file_path)\n",
    "            nii_data = nii_image.get_fdata()\n",
    "            t1_images.append(nii_data)\n",
    "        else:\n",
    "            print(f\"Le fichier T1.nii.gz n'existe pas dans le dossier {subdir}.\")"
   ]
  },
  {
   "cell_type": "code",
   "execution_count": 1,
   "id": "ab544c85",
   "metadata": {},
   "outputs": [
    {
     "ename": "NameError",
     "evalue": "name 't1_images' is not defined",
     "output_type": "error",
     "traceback": [
      "\u001b[0;31m---------------------------------------------------------------------------\u001b[0m",
      "\u001b[0;31mNameError\u001b[0m                                 Traceback (most recent call last)",
      "\u001b[0;32m/tmp/ipykernel_25521/946772185.py\u001b[0m in \u001b[0;36m<module>\u001b[0;34m\u001b[0m\n\u001b[0;32m----> 1\u001b[0;31m \u001b[0;32mfor\u001b[0m \u001b[0mi\u001b[0m\u001b[0;34m,\u001b[0m \u001b[0mimage\u001b[0m \u001b[0;32min\u001b[0m \u001b[0menumerate\u001b[0m\u001b[0;34m(\u001b[0m\u001b[0mt1_images\u001b[0m\u001b[0;34m)\u001b[0m\u001b[0;34m:\u001b[0m\u001b[0;34m\u001b[0m\u001b[0;34m\u001b[0m\u001b[0m\n\u001b[0m\u001b[1;32m      2\u001b[0m     \u001b[0mshape\u001b[0m \u001b[0;34m=\u001b[0m \u001b[0mimage\u001b[0m\u001b[0;34m.\u001b[0m\u001b[0mshape\u001b[0m\u001b[0;34m\u001b[0m\u001b[0;34m\u001b[0m\u001b[0m\n\u001b[1;32m      3\u001b[0m     \u001b[0mprint\u001b[0m\u001b[0;34m(\u001b[0m\u001b[0;34mf\"Shape de l'image {i + 1}: {shape}\"\u001b[0m\u001b[0;34m)\u001b[0m\u001b[0;34m\u001b[0m\u001b[0;34m\u001b[0m\u001b[0m\n",
      "\u001b[0;31mNameError\u001b[0m: name 't1_images' is not defined"
     ]
    }
   ],
   "source": [
    "for i, image in enumerate(t1_images):\n",
    "    shape = image.shape\n",
    "    print(f\"Shape de l'image {i + 1}: {shape}\")"
   ]
  },
  {
   "cell_type": "code",
   "execution_count": null,
   "id": "b4700617",
   "metadata": {},
   "outputs": [],
   "source": []
  }
 ],
 "metadata": {
  "kernelspec": {
   "display_name": "Python 3 (ipykernel)",
   "language": "python",
   "name": "python3"
  },
  "language_info": {
   "codemirror_mode": {
    "name": "ipython",
    "version": 3
   },
   "file_extension": ".py",
   "mimetype": "text/x-python",
   "name": "python",
   "nbconvert_exporter": "python",
   "pygments_lexer": "ipython3",
   "version": "3.7.6"
  }
 },
 "nbformat": 4,
 "nbformat_minor": 5
}
