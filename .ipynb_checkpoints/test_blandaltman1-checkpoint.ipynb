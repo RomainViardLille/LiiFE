{
 "cells": [
  {
   "cell_type": "code",
   "execution_count": 21,
   "id": "e2c40e8a",
   "metadata": {},
   "outputs": [],
   "source": [
    "import os\n",
    "import nibabel as nib\n",
    "import numpy as np\n",
    "import matplotlib.pyplot as plt\n",
    "from scipy.ndimage import zoom"
   ]
  },
  {
   "cell_type": "code",
   "execution_count": 22,
   "id": "28410b3b",
   "metadata": {},
   "outputs": [],
   "source": [
    "\"\"\"\"\n",
    "def bland_altman_plot(image_file1, image_file2):\n",
    "    # Load NIfTI images\n",
    "    image1 = nib.load(image_file1)\n",
    "    image2 = nib.load(image_file2)\n",
    "\n",
    "    # Get image data as numpy arrays\n",
    "    data1 = image1.get_fdata()\n",
    "    data2 = image2.get_fdata()\n",
    "\n",
    "    # Calculate the mean and the difference between the two images\n",
    "    mean = (data1 + data2) / 2\n",
    "    diff = data1 - data2\n",
    "\n",
    "    # Create the Bland-Altman plot\n",
    "    plt.figure(figsize=(8, 6))\n",
    "    plt.scatter(mean, diff, alpha=0.5)\n",
    "    plt.axhline(np.mean(diff), color='red', linestyle='--', label='Mean Difference')\n",
    "    plt.axhline(1.96 * np.std(diff), color='gray', linestyle='--', label='Upper Limit of Agreement')\n",
    "    plt.axhline(-1.96 * np.std(diff), color='gray', linestyle='--', label='Lower Limit of Agreement')\n",
    "\n",
    "    # Customize the plot\n",
    "    plt.xlabel('Mean of Measurements')\n",
    "    plt.ylabel('Difference between Measurements')\n",
    "    plt.title('Bland-Altman Plot')\n",
    "    plt.legend()\n",
    "\n",
    "    # Show the plot\n",
    "    plt.grid(True)\n",
    "    plt.show()\n"
   ]
  },
  {
   "cell_type": "code",
   "execution_count": 19,
   "id": "887da140",
   "metadata": {},
   "outputs": [
    {
     "data": {
      "text/plain": [
       "'\"\"\\ndef resample_images(image1, image2):\\n    # Load NIfTI images\\n    image1 = nib.load(image_file1)\\n    image2 = nib.load(image_file2)\\n    \\n    # Load NIfTI images\\n    image1_data = image1.get_fdata()\\n    image2_data = image2.get_fdata()\\n\\n    # Ensure both images have the same shape\\n    if image1_data.shape != image2_data.shape:\\n        # Calculate the target shape as the maximum shape along each dimension\\n        target_shape = tuple(max(d1, d2) for d1, d2 in zip(image1_data.shape, image2_data.shape))\\n\\n        # Calculate the scaling factors for resampling\\n        scale_factors = [t / c for t, c in zip(target_shape, image1_data.shape)]\\n\\n        # Perform resampling for both images\\n        resampled_image1_data = zoom(image1_data, scale_factors)\\n        resampled_image2_data = zoom(image2_data, scale_factors)\\n\\n        # Create new NIfTI images with the resampled data\\n        resampled_image1 = nib.Nifti1Image(resampled_image1_data, affine=image1.affine)\\n        resampled_image2 = nib.Nifti1Image(resampled_image2_data, affine=image2.affine)\\n\\n        return resampled_image1, resampled_image2\\n    else:\\n        return image1, image2\\n'"
      ]
     },
     "execution_count": 19,
     "metadata": {},
     "output_type": "execute_result"
    }
   ],
   "source": [
    "\"\"\"\"\"\n",
    "def resample_images(image1, image2):\n",
    "    # Load NIfTI images\n",
    "    image1 = nib.load(image_file1)\n",
    "    image2 = nib.load(image_file2)\n",
    "    \n",
    "    # Load NIfTI images\n",
    "    image1_data = image1.get_fdata()\n",
    "    image2_data = image2.get_fdata()\n",
    "\n",
    "    # Ensure both images have the same shape\n",
    "    if image1_data.shape != image2_data.shape:\n",
    "        # Calculate the target shape as the maximum shape along each dimension\n",
    "        target_shape = tuple(max(d1, d2) for d1, d2 in zip(image1_data.shape, image2_data.shape))\n",
    "\n",
    "        # Calculate the scaling factors for resampling\n",
    "        scale_factors = [t / c for t, c in zip(target_shape, image1_data.shape)]\n",
    "\n",
    "        # Perform resampling for both images\n",
    "        resampled_image1_data = zoom(image1_data, scale_factors)\n",
    "        resampled_image2_data = zoom(image2_data, scale_factors)\n",
    "\n",
    "        # Create new NIfTI images with the resampled data\n",
    "        resampled_image1 = nib.Nifti1Image(resampled_image1_data, affine=image1.affine)\n",
    "        resampled_image2 = nib.Nifti1Image(resampled_image2_data, affine=image2.affine)\n",
    "\n",
    "        return resampled_image1, resampled_image2\n",
    "    else:\n",
    "        return image1, image2\n",
    "\"\"\"\"\"    "
   ]
  },
  {
   "cell_type": "code",
   "execution_count": 28,
   "id": "59078882",
   "metadata": {},
   "outputs": [],
   "source": [
    "def bland_altman_plot(image1, image2):\n",
    "    # Get image data as numpy arrays\n",
    "    data1 = image1.get_fdata()\n",
    "    data2 = image2.get_fdata()\n",
    "\n",
    "    # Calculate the mean and the difference between the two images\n",
    "    mean = (data1 + data2) / 2\n",
    "    diff = data1 - data2\n",
    "\n",
    "    # Create the Bland-Altman plot\n",
    "    plt.figure(figsize=(8, 6))\n",
    "    plt.scatter(mean, diff, alpha=0.5)\n",
    "    plt.axhline(np.mean(diff), color='red', linestyle='--', label='Mean Difference')\n",
    "    plt.axhline(1.96 * np.std(diff), color='gray', linestyle='--', label='Upper Limit of Agreement')\n",
    "    plt.axhline(-1.96 * np.std(diff), color='gray', linestyle='--', label='Lower Limit of Agreement')\n",
    "\n",
    "    # Customize the plot\n",
    "    plt.xlabel('Mean of Measurements')\n",
    "    plt.ylabel('Difference between Measurements')\n",
    "    plt.title('Bland-Altman Plot')\n",
    "    plt.legend()\n",
    "\n",
    "    # Show the plot\n",
    "    plt.grid(True)\n",
    "    plt.show()"
   ]
  },
  {
   "cell_type": "code",
   "execution_count": 23,
   "id": "5bc85bb6",
   "metadata": {},
   "outputs": [],
   "source": [
    "def resample_images(image1, image2):\n",
    "    # Load NIfTI images\n",
    "    image1_data = image1.get_fdata()\n",
    "    image2_data = image2.get_fdata()\n",
    "\n",
    "    # Ensure both images have the same shape\n",
    "    if image1_data.shape != image2_data.shape:\n",
    "        # Calculate the target shape as the minimum shape along each dimension\n",
    "        target_shape = tuple(min(d1, d2) for d1, d2 in zip(image1_data.shape, image2_data.shape))\n",
    "\n",
    "        # Calculate the scaling factors for resampling\n",
    "        scale_factors = [t / c for t, c in zip(target_shape, image1_data.shape)]\n",
    "\n",
    "        # Perform resampling for both images\n",
    "        resampled_image1_data = zoom(image1_data, scale_factors)\n",
    "        resampled_image2_data = zoom(image2_data, scale_factors)\n",
    "\n",
    "        # Create new NIfTI images with the resampled data\n",
    "        resampled_image1 = nib.Nifti1Image(resampled_image1_data, affine=image1.affine)\n",
    "        resampled_image2 = nib.Nifti1Image(resampled_image2_data, affine=image2.affine)\n",
    "\n",
    "        return resampled_image1, resampled_image2\n",
    "    else:\n",
    "        return image1, image2"
   ]
  },
  {
   "cell_type": "code",
   "execution_count": 24,
   "id": "d2eed316",
   "metadata": {},
   "outputs": [],
   "source": [
    "# Example usage with your file paths:\n",
    "image_file1 = \"/NAS/dumbo/protocoles/HAMSI/OurData4Mispel_T1Gado/Before_prettt_T1Gd/CHU/Pat8_T1Gado_CHU.nii.gz\"\n",
    "image_file2 = \"/NAS/dumbo/protocoles/HAMSI/OurData4Mispel_T1Gado/Before_prettt_T1Gd/COL/Pat8_T1Gado_COL.nii.gz\""
   ]
  },
  {
   "cell_type": "code",
   "execution_count": 25,
   "id": "a5e5b2b1",
   "metadata": {},
   "outputs": [],
   "source": [
    "# Load NIfTI images\n",
    "image1 = nib.load(image_file1)\n",
    "image2 = nib.load(image_file2)"
   ]
  },
  {
   "cell_type": "code",
   "execution_count": 26,
   "id": "66c80613",
   "metadata": {},
   "outputs": [],
   "source": [
    "# Resample both images to have the same dimensions\n",
    "resampled_image1, resampled_image2 = resample_images(image1, image2)"
   ]
  },
  {
   "cell_type": "code",
   "execution_count": 29,
   "id": "e2b0c241",
   "metadata": {},
   "outputs": [
    {
     "ename": "ValueError",
     "evalue": "operands could not be broadcast together with shapes (272,448,448) (288,392,392) ",
     "output_type": "error",
     "traceback": [
      "\u001b[0;31m---------------------------------------------------------------------------\u001b[0m",
      "\u001b[0;31mValueError\u001b[0m                                Traceback (most recent call last)",
      "\u001b[0;32m/tmp/ipykernel_37180/3806801739.py\u001b[0m in \u001b[0;36m<module>\u001b[0;34m\u001b[0m\n\u001b[1;32m      1\u001b[0m \u001b[0;31m# Now you can proceed with creating the Bland-Altman plot using the resampled images\u001b[0m\u001b[0;34m\u001b[0m\u001b[0;34m\u001b[0m\u001b[0;34m\u001b[0m\u001b[0m\n\u001b[0;32m----> 2\u001b[0;31m \u001b[0mbland_altman_plot\u001b[0m\u001b[0;34m(\u001b[0m\u001b[0mresampled_image1\u001b[0m\u001b[0;34m,\u001b[0m \u001b[0mresampled_image2\u001b[0m\u001b[0;34m)\u001b[0m\u001b[0;34m\u001b[0m\u001b[0;34m\u001b[0m\u001b[0m\n\u001b[0m",
      "\u001b[0;32m/tmp/ipykernel_37180/3216930905.py\u001b[0m in \u001b[0;36mbland_altman_plot\u001b[0;34m(image1, image2)\u001b[0m\n\u001b[1;32m      5\u001b[0m \u001b[0;34m\u001b[0m\u001b[0m\n\u001b[1;32m      6\u001b[0m     \u001b[0;31m# Calculate the mean and the difference between the two images\u001b[0m\u001b[0;34m\u001b[0m\u001b[0;34m\u001b[0m\u001b[0;34m\u001b[0m\u001b[0m\n\u001b[0;32m----> 7\u001b[0;31m     \u001b[0mmean\u001b[0m \u001b[0;34m=\u001b[0m \u001b[0;34m(\u001b[0m\u001b[0mdata1\u001b[0m \u001b[0;34m+\u001b[0m \u001b[0mdata2\u001b[0m\u001b[0;34m)\u001b[0m \u001b[0;34m/\u001b[0m \u001b[0;36m2\u001b[0m\u001b[0;34m\u001b[0m\u001b[0;34m\u001b[0m\u001b[0m\n\u001b[0m\u001b[1;32m      8\u001b[0m     \u001b[0mdiff\u001b[0m \u001b[0;34m=\u001b[0m \u001b[0mdata1\u001b[0m \u001b[0;34m-\u001b[0m \u001b[0mdata2\u001b[0m\u001b[0;34m\u001b[0m\u001b[0;34m\u001b[0m\u001b[0m\n\u001b[1;32m      9\u001b[0m \u001b[0;34m\u001b[0m\u001b[0m\n",
      "\u001b[0;31mValueError\u001b[0m: operands could not be broadcast together with shapes (272,448,448) (288,392,392) "
     ]
    }
   ],
   "source": [
    "# Now you can proceed with creating the Bland-Altman plot using the resampled images\n",
    "bland_altman_plot(resampled_image1, resampled_image2)"
   ]
  },
  {
   "cell_type": "code",
   "execution_count": 20,
   "id": "fc81b611",
   "metadata": {},
   "outputs": [
    {
     "ename": "ValueError",
     "evalue": "operands could not be broadcast together with shapes (272,512,512) (288,448,448) ",
     "output_type": "error",
     "traceback": [
      "\u001b[0;31m---------------------------------------------------------------------------\u001b[0m",
      "\u001b[0;31mValueError\u001b[0m                                Traceback (most recent call last)",
      "\u001b[0;32m/tmp/ipykernel_37180/1839465799.py\u001b[0m in \u001b[0;36m<module>\u001b[0;34m\u001b[0m\n\u001b[0;32m----> 1\u001b[0;31m \u001b[0mbland_altman_plot\u001b[0m\u001b[0;34m(\u001b[0m\u001b[0mimage_file1\u001b[0m\u001b[0;34m,\u001b[0m \u001b[0mimage_file2\u001b[0m\u001b[0;34m)\u001b[0m\u001b[0;34m\u001b[0m\u001b[0;34m\u001b[0m\u001b[0m\n\u001b[0m",
      "\u001b[0;32m/tmp/ipykernel_37180/2947197907.py\u001b[0m in \u001b[0;36mbland_altman_plot\u001b[0;34m(image_file1, image_file2)\u001b[0m\n\u001b[1;32m      9\u001b[0m \u001b[0;34m\u001b[0m\u001b[0m\n\u001b[1;32m     10\u001b[0m     \u001b[0;31m# Calculate the mean and the difference between the two images\u001b[0m\u001b[0;34m\u001b[0m\u001b[0;34m\u001b[0m\u001b[0;34m\u001b[0m\u001b[0m\n\u001b[0;32m---> 11\u001b[0;31m     \u001b[0mmean\u001b[0m \u001b[0;34m=\u001b[0m \u001b[0;34m(\u001b[0m\u001b[0mdata1\u001b[0m \u001b[0;34m+\u001b[0m \u001b[0mdata2\u001b[0m\u001b[0;34m)\u001b[0m \u001b[0;34m/\u001b[0m \u001b[0;36m2\u001b[0m\u001b[0;34m\u001b[0m\u001b[0;34m\u001b[0m\u001b[0m\n\u001b[0m\u001b[1;32m     12\u001b[0m     \u001b[0mdiff\u001b[0m \u001b[0;34m=\u001b[0m \u001b[0mdata1\u001b[0m \u001b[0;34m-\u001b[0m \u001b[0mdata2\u001b[0m\u001b[0;34m\u001b[0m\u001b[0;34m\u001b[0m\u001b[0m\n\u001b[1;32m     13\u001b[0m \u001b[0;34m\u001b[0m\u001b[0m\n",
      "\u001b[0;31mValueError\u001b[0m: operands could not be broadcast together with shapes (272,512,512) (288,448,448) "
     ]
    }
   ],
   "source": [
    "bland_altman_plot(image_file1, image_file2)"
   ]
  },
  {
   "cell_type": "code",
   "execution_count": 11,
   "id": "3dbacb8b",
   "metadata": {},
   "outputs": [
    {
     "ename": "NameError",
     "evalue": "name 'zoom' is not defined",
     "output_type": "error",
     "traceback": [
      "\u001b[0;31m---------------------------------------------------------------------------\u001b[0m",
      "\u001b[0;31mNameError\u001b[0m                                 Traceback (most recent call last)",
      "\u001b[0;32m/tmp/ipykernel_2995595/4088904807.py\u001b[0m in \u001b[0;36m<module>\u001b[0;34m\u001b[0m\n\u001b[0;32m----> 1\u001b[0;31m \u001b[0mresample_images\u001b[0m\u001b[0;34m(\u001b[0m\u001b[0mimage_file1\u001b[0m\u001b[0;34m,\u001b[0m \u001b[0mimage_file2\u001b[0m\u001b[0;34m)\u001b[0m\u001b[0;34m\u001b[0m\u001b[0;34m\u001b[0m\u001b[0m\n\u001b[0m",
      "\u001b[0;32m/tmp/ipykernel_2995595/2283864381.py\u001b[0m in \u001b[0;36mresample_images\u001b[0;34m(image1, image2)\u001b[0m\n\u001b[1;32m     17\u001b[0m \u001b[0;34m\u001b[0m\u001b[0m\n\u001b[1;32m     18\u001b[0m         \u001b[0;31m# Perform resampling for both images\u001b[0m\u001b[0;34m\u001b[0m\u001b[0;34m\u001b[0m\u001b[0;34m\u001b[0m\u001b[0m\n\u001b[0;32m---> 19\u001b[0;31m         \u001b[0mresampled_image1_data\u001b[0m \u001b[0;34m=\u001b[0m \u001b[0mzoom\u001b[0m\u001b[0;34m(\u001b[0m\u001b[0mimage1_data\u001b[0m\u001b[0;34m,\u001b[0m \u001b[0mscale_factors\u001b[0m\u001b[0;34m)\u001b[0m\u001b[0;34m\u001b[0m\u001b[0;34m\u001b[0m\u001b[0m\n\u001b[0m\u001b[1;32m     20\u001b[0m         \u001b[0mresampled_image2_data\u001b[0m \u001b[0;34m=\u001b[0m \u001b[0mzoom\u001b[0m\u001b[0;34m(\u001b[0m\u001b[0mimage2_data\u001b[0m\u001b[0;34m,\u001b[0m \u001b[0mscale_factors\u001b[0m\u001b[0;34m)\u001b[0m\u001b[0;34m\u001b[0m\u001b[0;34m\u001b[0m\u001b[0m\n\u001b[1;32m     21\u001b[0m \u001b[0;34m\u001b[0m\u001b[0m\n",
      "\u001b[0;31mNameError\u001b[0m: name 'zoom' is not defined"
     ]
    }
   ],
   "source": [
    "resample_images(image_file1, image_file2)"
   ]
  },
  {
   "cell_type": "code",
   "execution_count": 13,
   "id": "cdceeba1",
   "metadata": {},
   "outputs": [
    {
     "data": {
      "text/plain": [
       "(272, 512, 512)"
      ]
     },
     "execution_count": 13,
     "metadata": {},
     "output_type": "execute_result"
    }
   ],
   "source": [
    "    image1 = nib.load(image_file1)\n",
    "    image1_data = image1.get_fdata()\n",
    "image1_data.shape"
   ]
  },
  {
   "cell_type": "code",
   "execution_count": null,
   "id": "02fb5029-02e3-4dec-ba5f-662470b32aa7",
   "metadata": {},
   "outputs": [],
   "source": []
  }
 ],
 "metadata": {
  "kernelspec": {
   "display_name": "Python 3 (ipykernel)",
   "language": "python",
   "name": "python3"
  },
  "language_info": {
   "codemirror_mode": {
    "name": "ipython",
    "version": 3
   },
   "file_extension": ".py",
   "mimetype": "text/x-python",
   "name": "python",
   "nbconvert_exporter": "python",
   "pygments_lexer": "ipython3",
   "version": "3.7.6"
  }
 },
 "nbformat": 4,
 "nbformat_minor": 5
}
