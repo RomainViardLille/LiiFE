{
 "cells": [
  {
   "cell_type": "code",
   "execution_count": 1,
   "id": "5ae886f5",
   "metadata": {},
   "outputs": [
    {
     "name": "stdout",
     "output_type": "stream",
     "text": [
      "Collecting git+https://github.com/pyplati/platipy.git\n",
      "  Cloning https://github.com/pyplati/platipy.git to /tmp/pip-req-build-8i100shy\n",
      "  Running command git clone --filter=blob:none --quiet https://github.com/pyplati/platipy.git /tmp/pip-req-build-8i100shy\n",
      "  Resolved https://github.com/pyplati/platipy.git to commit 9b82dcc5a6fb33ea98e4b1e1c078653303406bc2\n",
      "  Installing build dependencies ... \u001b[?25ldone\n",
      "\u001b[?25h  Getting requirements to build wheel ... \u001b[?25ldone\n",
      "\u001b[?25h  Preparing metadata (pyproject.toml) ... \u001b[?25ldone\n",
      "\u001b[?25hCollecting SimpleITK<3.0.0,>=2.0.2 (from platipy==0.0.0)\n",
      "  Obtaining dependency information for SimpleITK<3.0.0,>=2.0.2 from https://files.pythonhosted.org/packages/60/6c/466f3f44070844b5e83a43310c2ec464c0bcd346244615d8c734c527490e/SimpleITK-2.3.1-cp311-cp311-manylinux_2_17_x86_64.manylinux2014_x86_64.whl.metadata\n",
      "  Downloading SimpleITK-2.3.1-cp311-cp311-manylinux_2_17_x86_64.manylinux2014_x86_64.whl.metadata (7.9 kB)\n",
      "Requirement already satisfied: click<9.0.0,>=8.0.3 in /home/global/Anaconda3-2023.09/lib/python3.11/site-packages (from platipy==0.0.0) (8.0.4)\n",
      "Requirement already satisfied: matplotlib<4.0.0,>=3.2.2 in /home/global/Anaconda3-2023.09/lib/python3.11/site-packages (from platipy==0.0.0) (3.7.2)\n",
      "Requirement already satisfied: pandas<3.0.0,>=2.0.3 in /home/global/Anaconda3-2023.09/lib/python3.11/site-packages (from platipy==0.0.0) (2.0.3)\n",
      "Collecting pydicom<3.0.0,>=2.1.2 (from platipy==0.0.0)\n",
      "  Obtaining dependency information for pydicom<3.0.0,>=2.1.2 from https://files.pythonhosted.org/packages/24/fe/d74445ca70ca30328a0c07ba50d9558741882a524ae92a7b482cce7ec6bf/pydicom-2.4.3-py3-none-any.whl.metadata\n",
      "  Using cached pydicom-2.4.3-py3-none-any.whl.metadata (7.8 kB)\n",
      "Collecting pynetdicom<3.0.0,>=2.0.2 (from platipy==0.0.0)\n",
      "  Using cached pynetdicom-2.0.2-py3-none-any.whl (1.6 MB)\n",
      "Requirement already satisfied: requests<3.0.0,>=2.25.1 in /home/global/Anaconda3-2023.09/lib/python3.11/site-packages (from platipy==0.0.0) (2.31.0)\n",
      "Collecting rt-utils<2.0.0,>=1.1.4 (from platipy==0.0.0)\n",
      "  Using cached rt_utils-1.2.7-py2.py3-none-any.whl (18 kB)\n",
      "Requirement already satisfied: scikit-image>=0.18.1 in /home/global/Anaconda3-2023.09/lib/python3.11/site-packages (from platipy==0.0.0) (0.20.0)\n",
      "Requirement already satisfied: contourpy>=1.0.1 in /home/global/Anaconda3-2023.09/lib/python3.11/site-packages (from matplotlib<4.0.0,>=3.2.2->platipy==0.0.0) (1.0.5)\n",
      "Requirement already satisfied: cycler>=0.10 in /home/global/Anaconda3-2023.09/lib/python3.11/site-packages (from matplotlib<4.0.0,>=3.2.2->platipy==0.0.0) (0.11.0)\n",
      "Requirement already satisfied: fonttools>=4.22.0 in /home/global/Anaconda3-2023.09/lib/python3.11/site-packages (from matplotlib<4.0.0,>=3.2.2->platipy==0.0.0) (4.25.0)\n",
      "Requirement already satisfied: kiwisolver>=1.0.1 in /home/global/Anaconda3-2023.09/lib/python3.11/site-packages (from matplotlib<4.0.0,>=3.2.2->platipy==0.0.0) (1.4.4)\n",
      "Requirement already satisfied: numpy>=1.20 in /home/global/Anaconda3-2023.09/lib/python3.11/site-packages (from matplotlib<4.0.0,>=3.2.2->platipy==0.0.0) (1.24.3)\n",
      "Requirement already satisfied: packaging>=20.0 in /home/global/Anaconda3-2023.09/lib/python3.11/site-packages (from matplotlib<4.0.0,>=3.2.2->platipy==0.0.0) (23.1)\n",
      "Requirement already satisfied: pillow>=6.2.0 in /home/global/Anaconda3-2023.09/lib/python3.11/site-packages (from matplotlib<4.0.0,>=3.2.2->platipy==0.0.0) (9.4.0)\n",
      "Requirement already satisfied: pyparsing<3.1,>=2.3.1 in /home/global/Anaconda3-2023.09/lib/python3.11/site-packages (from matplotlib<4.0.0,>=3.2.2->platipy==0.0.0) (3.0.9)\n",
      "Requirement already satisfied: python-dateutil>=2.7 in /home/global/Anaconda3-2023.09/lib/python3.11/site-packages (from matplotlib<4.0.0,>=3.2.2->platipy==0.0.0) (2.8.2)\n",
      "Requirement already satisfied: pytz>=2020.1 in /home/global/Anaconda3-2023.09/lib/python3.11/site-packages (from pandas<3.0.0,>=2.0.3->platipy==0.0.0) (2023.3.post1)\n",
      "Requirement already satisfied: tzdata>=2022.1 in /home/global/Anaconda3-2023.09/lib/python3.11/site-packages (from pandas<3.0.0,>=2.0.3->platipy==0.0.0) (2023.3)\n",
      "Requirement already satisfied: charset-normalizer<4,>=2 in /home/global/Anaconda3-2023.09/lib/python3.11/site-packages (from requests<3.0.0,>=2.25.1->platipy==0.0.0) (2.0.4)\n",
      "Requirement already satisfied: idna<4,>=2.5 in /home/global/Anaconda3-2023.09/lib/python3.11/site-packages (from requests<3.0.0,>=2.25.1->platipy==0.0.0) (3.4)\n",
      "Requirement already satisfied: urllib3<3,>=1.21.1 in /home/global/Anaconda3-2023.09/lib/python3.11/site-packages (from requests<3.0.0,>=2.25.1->platipy==0.0.0) (1.26.16)\n",
      "Requirement already satisfied: certifi>=2017.4.17 in /home/global/Anaconda3-2023.09/lib/python3.11/site-packages (from requests<3.0.0,>=2.25.1->platipy==0.0.0) (2023.7.22)\n",
      "Collecting opencv-python (from rt-utils<2.0.0,>=1.1.4->platipy==0.0.0)\n",
      "  Obtaining dependency information for opencv-python from https://files.pythonhosted.org/packages/b7/8a/b2f7e1a434d56bf1d7570fc5941ace0847404e1032d7f1f0b8fed896568d/opencv_python-4.8.1.78-cp37-abi3-manylinux_2_17_x86_64.manylinux2014_x86_64.whl.metadata\n",
      "  Using cached opencv_python-4.8.1.78-cp37-abi3-manylinux_2_17_x86_64.manylinux2014_x86_64.whl.metadata (19 kB)\n",
      "Collecting dataclasses (from rt-utils<2.0.0,>=1.1.4->platipy==0.0.0)\n",
      "  Using cached dataclasses-0.6-py3-none-any.whl (14 kB)\n",
      "Requirement already satisfied: scipy>=1.8 in /home/global/Anaconda3-2023.09/lib/python3.11/site-packages (from scikit-image>=0.18.1->platipy==0.0.0) (1.11.1)\n",
      "Requirement already satisfied: networkx>=2.8 in /home/global/Anaconda3-2023.09/lib/python3.11/site-packages (from scikit-image>=0.18.1->platipy==0.0.0) (3.1)\n",
      "Requirement already satisfied: imageio>=2.4.1 in /home/global/Anaconda3-2023.09/lib/python3.11/site-packages (from scikit-image>=0.18.1->platipy==0.0.0) (2.31.1)\n",
      "Requirement already satisfied: tifffile>=2019.7.26 in /home/global/Anaconda3-2023.09/lib/python3.11/site-packages (from scikit-image>=0.18.1->platipy==0.0.0) (2023.4.12)\n",
      "Requirement already satisfied: PyWavelets>=1.1.1 in /home/global/Anaconda3-2023.09/lib/python3.11/site-packages (from scikit-image>=0.18.1->platipy==0.0.0) (1.4.1)\n",
      "Requirement already satisfied: lazy_loader>=0.1 in /home/global/Anaconda3-2023.09/lib/python3.11/site-packages (from scikit-image>=0.18.1->platipy==0.0.0) (0.2)\n",
      "Requirement already satisfied: six>=1.5 in /home/global/Anaconda3-2023.09/lib/python3.11/site-packages (from python-dateutil>=2.7->matplotlib<4.0.0,>=3.2.2->platipy==0.0.0) (1.16.0)\n",
      "Using cached pydicom-2.4.3-py3-none-any.whl (1.8 MB)\n",
      "Downloading SimpleITK-2.3.1-cp311-cp311-manylinux_2_17_x86_64.manylinux2014_x86_64.whl (52.7 MB)\n",
      "\u001b[2K   \u001b[38;2;114;156;31m━━━━━━━━━━━━━━━━━━━━━━━━━━━━━━━━━━━━━━━━\u001b[0m \u001b[32m52.7/52.7 MB\u001b[0m \u001b[31m9.8 MB/s\u001b[0m eta \u001b[36m0:00:00\u001b[0m0m eta \u001b[36m0:00:01\u001b[0m0:01\u001b[0m:01\u001b[0m\n",
      "\u001b[?25hUsing cached opencv_python-4.8.1.78-cp37-abi3-manylinux_2_17_x86_64.manylinux2014_x86_64.whl (61.7 MB)\n",
      "Building wheels for collected packages: platipy\n",
      "  Building wheel for platipy (pyproject.toml) ... \u001b[?25ldone\n",
      "\u001b[?25h  Created wheel for platipy: filename=platipy-0.0.0-py3-none-any.whl size=1063321 sha256=2d9e3b4018cfb354e0e15bd73b42b7715506ca811f214f32018ed7f7982ffcf9\n",
      "  Stored in directory: /tmp/pip-ephem-wheel-cache-j621nl51/wheels/b1/94/49/24cefe60e084b2d3c79bc4eb5ef1ac5e3d98eeb854b7adef93\n",
      "Successfully built platipy\n",
      "Installing collected packages: SimpleITK, dataclasses, pydicom, opencv-python, rt-utils, pynetdicom, platipy\n",
      "Successfully installed SimpleITK-2.3.1 dataclasses-0.6 opencv-python-4.8.1.78 platipy-0.0.0 pydicom-2.4.3 pynetdicom-2.0.2 rt-utils-1.2.7\n"
     ]
    }
   ],
   "source": [
    "import os\n",
    "\n",
    "try:\n",
    "    import platipy\n",
    "except:\n",
    "    !pip install git+https://github.com/pyplati/platipy.git\n",
    "    import platipy\n",
    "\n",
    "from pathlib import Path\n",
    "\n",
    "from platipy.dicom.io.rtstruct_to_nifti import convert_rtstruct\n",
    "from platipy.imaging.tests.data import get_lung_dicom"
   ]
  },
  {
   "cell_type": "code",
   "execution_count": 8,
   "id": "d6c8fe3b",
   "metadata": {},
   "outputs": [],
   "source": [
    "STUDY_DIR=os.path.join(\"/NAS\",\"dumbo\",\"protocoles\",\"HAMSI\")\n",
    "#ct_path = dcm_path.joinpath(STUDY_DIR,)\n",
    "#rts_path = dcm_path.joinpath(STUDY_DIR,)"
   ]
  },
  {
   "cell_type": "code",
   "execution_count": 5,
   "id": "d7dd9a03",
   "metadata": {},
   "outputs": [],
   "source": [
    "import glob"
   ]
  },
  {
   "cell_type": "code",
   "execution_count": 9,
   "id": "2c9e8781",
   "metadata": {},
   "outputs": [],
   "source": [
    "for file in glob.glob(os.path.join(STUDY_DIR,\"data\",\"RTStruct\",\"COL1\",\"T1_SPACE_Gd\",\"RS*.dcm\")):\n",
    "    print(file)"
   ]
  },
  {
   "cell_type": "code",
   "execution_count": 10,
   "id": "4995ccf2",
   "metadata": {},
   "outputs": [
    {
     "data": {
      "text/plain": [
       "'/NAS/dumbo/protocoles/HAMSI/data/RTStruct/COL1/T1_SPACE_Gd/RS*.dcm'"
      ]
     },
     "execution_count": 10,
     "metadata": {},
     "output_type": "execute_result"
    }
   ],
   "source": [
    "os.path.join(STUDY_DIR,\"data\",\"RTStruct\",\"COL1\",\"T1_SPACE_Gd\",\"RS*.dcm\")"
   ]
  },
  {
   "cell_type": "code",
   "execution_count": null,
   "id": "5b2ccd53",
   "metadata": {},
   "outputs": [],
   "source": []
  }
 ],
 "metadata": {
  "kernelspec": {
   "display_name": "Python 3 (ipykernel)",
   "language": "python",
   "name": "python3"
  },
  "language_info": {
   "codemirror_mode": {
    "name": "ipython",
    "version": 3
   },
   "file_extension": ".py",
   "mimetype": "text/x-python",
   "name": "python",
   "nbconvert_exporter": "python",
   "pygments_lexer": "ipython3",
   "version": "3.11.5"
  }
 },
 "nbformat": 4,
 "nbformat_minor": 5
}
