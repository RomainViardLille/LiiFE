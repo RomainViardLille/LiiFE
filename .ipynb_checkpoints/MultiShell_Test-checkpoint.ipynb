{
 "cells": [
  {
   "cell_type": "code",
   "execution_count": 1,
   "metadata": {},
   "outputs": [],
   "source": [
    "import numpy as np\n",
    "import csv \n",
    "import os\n",
    "import matplotlib.pyplot as plt\n",
    "%matplotlib inline\n",
    "\n",
    "import nibabel as nib\n",
    "import pandas as pd \n",
    "import glob as glob\n",
    "from scipy import stats\n",
    "from mpl_toolkits import mplot3d\n",
    "\n",
    "import dipy as dp\n",
    "from dipy.io import read_bvals_bvecs\n",
    "from dipy.core.gradients import gradient_table\n",
    "from dipy.tracking.utils import length\n",
    "# Compute lookup table\n",
    "from dipy.denoise.enhancement_kernel import EnhancementKernel\n",
    "# Apply FBC measures\n",
    "from dipy.tracking.fbcmeasures import FBCMeasures\n",
    "from dipy.io.streamline import load_tck\n",
    "from dipy.viz import actor, window\n",
    "from dipy.tracking.streamline import transform_streamlines\n",
    "from dipy.segment.clustering import QuickBundles\n",
    "from dipy.segment.metric import AveragePointwiseEuclideanMetric,ResampleFeature\n",
    "from dipy.tracking.streamline import Streamlines\n",
    "import dipy.tracking.streamline as dts\n",
    "import dipy.stats.analysis as dsa"
   ]
  },
  {
   "cell_type": "code",
   "execution_count": 7,
   "metadata": {},
   "outputs": [
    {
     "name": "stdout",
     "output_type": "stream",
     "text": [
      "1.4.0\n"
     ]
    }
   ],
   "source": [
    "print(dp.__version__)"
   ]
  },
  {
   "cell_type": "code",
   "execution_count": 3,
   "metadata": {},
   "outputs": [],
   "source": [
    "STUDY_PATH='/NAS/deathrow/mri_data/test_NAILA/Tests_Dti_Multi_Shells/'\n",
    "BVEC_ABCD_file=os.path.join(STUDY_PATH,'data','RVMULTIB^X_I_CERE_2020-09-16','20200916101617_RVMULTIB_X_501_DTI-baseABCD.bvec')\n",
    "BVAL_ABCD_file=os.path.join(STUDY_PATH,'data','RVMULTIB^X_I_CERE_2020-09-16','20200916101617_RVMULTIB_X_501_DTI-baseABCD.bval')\n",
    "\n",
    "BVEC_MSh_file=os.path.join(STUDY_PATH,'data','RVMULTIB2^X_I_CERE_2020-09-16','20200916142334_RVMULTIB2_X_201_DTI-Msh-8-32-60_P.bvec')\n",
    "BVAL_MSh_file=os.path.join(STUDY_PATH,'data','RVMULTIB2^X_I_CERE_2020-09-16','20200916142334_RVMULTIB2_X_201_DTI-Msh-8-32-60_P.bval')\n",
    "\n",
    "BVEC_FULL_ABCD_file=os.path.join(STUDY_PATH,'data','RV_MultiB_FullABCD','dti.bvec')\n",
    "BVAL_FULL_ABCD_file=os.path.join(STUDY_PATH,'data','RV_MultiB_FullABCD','dti.bval')"
   ]
  },
  {
   "cell_type": "code",
   "execution_count": 23,
   "metadata": {},
   "outputs": [
    {
     "name": "stdout",
     "output_type": "stream",
     "text": [
      "Unnamed-631868870 *************** Unnamed-631868870_DTI-baseABCD_20200813090750_501.bval ***************\n",
      "[0.e+00 1.e-03 5.e+02 1.e+03 2.e+03 3.e+03]\n",
      "Unnamed-631868870 *************** Unnamed-631868870_DTI-Msh-8-32-60_20200813090750_601.bval ***************\n",
      "[0.e+00 1.e-01 1.e+03 2.e+03 3.e+03]\n",
      "Unnamed-631868870 *************** Unnamed-631868870_DTI-Msh-8-32-60_b800-1500-2500_20200813090750_701.bval ***************\n",
      "[0.0e+00 1.0e-01 8.0e+02 1.5e+03 2.5e+03]\n",
      "Unnamed-631868870 *************** dti.bval ***************\n",
      "[0.e+00 1.e-01 1.e+03 2.e+03 3.e+03]\n",
      "RVMULTIB2^X_I_CERE_2020-09-16 *************** 20200916142334_RVMULTIB2_X_201_DTI-Msh-8-32-60_P.bval ***************\n",
      "[0.e+00 1.e-01 1.e+03 2.e+03 3.e+03]\n",
      "RVMULTIB^X_I_CERE_2020-09-16 *************** 20200916101617_RVMULTIB_X_301_DTI-baseABCD_Fieldmap_P.bval ***************\n",
      "[0.]\n",
      "RVMULTIB^X_I_CERE_2020-09-16 *************** 20200916101617_RVMULTIB_X_701_WIP_DTI_32_DIR_SENSE.bval ***************\n",
      "[   0. 1000.]\n",
      "RVMULTIB^X_I_CERE_2020-09-16 *************** 20200916101617_RVMULTIB_X_601_correction_dti.bval ***************\n",
      "[   0. 1000.]\n",
      "RVMULTIB^X_I_CERE_2020-09-16 *************** 20200916101617_RVMULTIB_X_501_DTI-baseABCD.bval ***************\n",
      "[0.e+00 1.e-03 5.e+02 1.e+03 2.e+03 3.e+03]\n",
      "RVMULTIB^X_I_CERE_2020-09-16 *************** 20200916101617_RVMULTIB_X_401_DTI-baseABCD_Fieldmap_A.bval ***************\n",
      "[0.]\n",
      "TEST_DTI^X_DTI_2020-10-15 *************** 20201015075242_TEST_DTI_X_201_DTI_1.bval ***************\n",
      "[0.e+00 1.e-03 5.e+02 1.e+03 2.e+03 3.e+03]\n",
      "TEST_DTI^X_DTI_2020-10-15 *************** 20201015075242_TEST_DTI_X_501_DTI_2.bval ***************\n",
      "[0.e+00 1.e-03 5.e+02 1.e+03 2.e+03 3.e+03]\n",
      "RV_MultiB_FullABCD *************** 20201015075242_TEST_DTI_X_201_DTI_1.bval ***************\n",
      "[0.e+00 1.e-03 5.e+02 1.e+03 2.e+03 3.e+03]\n",
      "RV_MultiB_FullABCD *************** 20201015075242_TEST_DTI_X_501_DTI_2.bval ***************\n",
      "[0.e+00 1.e-03 5.e+02 1.e+03 2.e+03 3.e+03]\n",
      "RV_MultiB_FullABCD *************** dti.bval ***************\n",
      "[0.e+00 1.e-03 5.e+02 1.e+03 2.e+03 3.e+03]\n",
      "test_DTI_Msh_NB_2021-01-28 *************** 20210128083020_test_DTI_Msh_NB_1001_WIP_DTI-Msh-8-32-60_MB_4_9.14.bval ***************\n",
      "[0.e+00 1.e-01 1.e+03 2.e+03 3.e+03]\n",
      "test_DTI_Msh_NB_2021-01-28 *************** 20210128083020_test_DTI_Msh_NB_401_WIP_DTI-baseABCD_Fieldmap_A.bval ***************\n",
      "[0.]\n",
      "test_DTI_Msh_NB_2021-01-28 *************** 20210128083020_test_DTI_Msh_NB_301_WIP_DTI-baseABCD_Fieldmap_P.bval ***************\n",
      "[0.]\n",
      "test_DTI_Msh_NB_2021-01-28 *************** 20210128083020_test_DTI_Msh_NB_801_WIP_DTI-Msh-8-25-45_MB_3_09.08.bval ***************\n",
      "[0.e+00 1.e-01 1.e+03 2.e+03 3.e+03]\n",
      "TEST_DTIB_1000-32_no_name_20210216 *************** dti.bval ***************\n",
      "[   0. 1000.]\n",
      "TEST_DTIB_1000-32_no_name_20210216 *************** dti_corr.bval ***************\n",
      "[   0. 1000.]\n",
      "()\n"
     ]
    }
   ],
   "source": [
    "CMD=()\n",
    "for FILE in glob.glob(os.path.join(STUDY_PATH,'data','*','*.bval')):\n",
    "    bvals,bvecs=read_bvals_bvecs(FILE,(FILE.replace('bval','bvec')))\n",
    "    print(FILE.split('/')[7],\"***************\",FILE.split('/')[8],\"***************\")\n",
    "    gtab_ABCD=gradient_table(bvals,bvecs)\n",
    "    print(np.unique(gtab_ABCD.bvals))\n",
    "print(CMD)"
   ]
  },
  {
   "cell_type": "code",
   "execution_count": null,
   "metadata": {},
   "outputs": [],
   "source": [
    "bvals,bvecs=read_bvals_bvecs(FILE,(FILE.replace('bval','bvec')))"
   ]
  },
  {
   "cell_type": "code",
   "execution_count": 4,
   "metadata": {},
   "outputs": [],
   "source": [
    "bvals,bvecs=read_bvals_bvecs(BVAL_ABCD_file,BVEC_ABCD_file)\n",
    "gtab_ABCD=gradient_table(bvals,bvecs)\n",
    "bvals,bvecs=read_bvals_bvecs(BVAL_MSh_file,BVEC_MSh_file)\n",
    "gtab_MSh=gradient_table(bvals,bvecs)\n",
    "bvals,bvecs=read_bvals_bvecs(BVAL_FULL_ABCD_file,BVEC_FULL_ABCD_file)\n",
    "gtab_FULL_ABCD=gradient_table(bvals,bvecs)"
   ]
  },
  {
   "cell_type": "code",
   "execution_count": 5,
   "metadata": {},
   "outputs": [
    {
     "name": "stdout",
     "output_type": "stream",
     "text": [
      "[0.e+00 1.e-03 5.e+02 1.e+03 2.e+03 3.e+03]\n",
      "51\n",
      "[0.e+00 1.e-01 1.e+03 2.e+03 3.e+03]\n",
      "111\n",
      "[0.e+00 1.e-03 5.e+02 1.e+03 2.e+03 3.e+03]\n",
      "102\n"
     ]
    }
   ],
   "source": [
    "print(np.unique(gtab_ABCD.bvals))\n",
    "print(len(gtab_ABCD.bvecs))\n",
    "print(np.unique(gtab_MSh.bvals))\n",
    "print(len(gtab_MSh.bvecs))\n",
    "print(np.unique(gtab_FULL_ABCD.bvals))\n",
    "print(len(gtab_FULL_ABCD.bvecs))"
   ]
  },
  {
   "cell_type": "code",
   "execution_count": 6,
   "metadata": {},
   "outputs": [
    {
     "name": "stdout",
     "output_type": "stream",
     "text": [
      "0.0  ABCD :  1  MSh :  1  FULL_ABCD :  2\n",
      "0.001  ABCD :  2  MSh :  0  FULL_ABCD :  5\n",
      "500.0  ABCD :  4  MSh :  0  FULL_ABCD :  6\n",
      "1000.0  ABCD :  7  MSh :  8  FULL_ABCD :  15\n",
      "2000.0  ABCD :  8  MSh :  32  FULL_ABCD :  15\n",
      "3000.0  ABCD :  29  MSh :  60  FULL_ABCD :  59\n"
     ]
    }
   ],
   "source": [
    "for bval in np.unique(gtab_ABCD.bvals):\n",
    "    print(bval,\" ABCD : \",len(gtab_ABCD.bvecs[gtab_ABCD.bvals==bval,:]),\" MSh : \",len(gtab_MSh.bvecs[gtab_MSh.bvals==bval,:]),\" FULL_ABCD : \",len(gtab_FULL_ABCD.bvecs[gtab_FULL_ABCD.bvals==bval,:]))"
   ]
  },
  {
   "cell_type": "code",
   "execution_count": 11,
   "metadata": {},
   "outputs": [
    {
     "data": {
      "text/plain": [
       "10"
      ]
     },
     "execution_count": 11,
     "metadata": {},
     "output_type": "execute_result"
    }
   ],
   "source": [
    "len(gtab_MSh.bvecs[gtab_MSh.bvals==0.1,:])"
   ]
  },
  {
   "cell_type": "code",
   "execution_count": 27,
   "metadata": {},
   "outputs": [
    {
     "data": {
      "text/plain": [
       "<mpl_toolkits.mplot3d.art3d.Path3DCollection at 0x7ff20c1a3510>"
      ]
     },
     "execution_count": 27,
     "metadata": {},
     "output_type": "execute_result"
    },
    {
     "data": {
      "image/png": "[encoded data removed]",
      "text/plain": [
       "<Figure size 432x288 with 1 Axes>"
      ]
     },
     "metadata": {
      "needs_background": "light"
     },
     "output_type": "display_data"
    }
   ],
   "source": [
    "ax = plt.axes(projection='3d')\n",
    "ax.scatter3D(gtab_ABCD.bvecs[:,0],gtab_ABCD.bvecs[:,1],gtab_ABCD.bvecs[:,2],'r')\n",
    "ax.scatter3D(gtab_FULL_ABCD.bvecs[:,0],gtab_FULL_ABCD.bvecs[:,1],gtab_FULL_ABCD.bvecs[:,2])\n",
    "ax.scatter3D(gtab_MSh.bvecs[:,0],gtab_MSh.bvecs[:,1],gtab_MSh.bvecs[:,2],'b')\n",
    "#ax.scatter3D(gtab.bvecs[gtab.bvals==3000,0],gtab.bvecs[gtab.bvals==3000,1],gtab.bvecs[gtab.bvals==3000,2],'r')"
   ]
  },
  {
   "cell_type": "code",
   "execution_count": 5,
   "metadata": {},
   "outputs": [],
   "source": [
    "#fdwi = os.path.join(STUDY_PATH,'data_4_mrtrix','RV_MultiB_FullABCD','dti_denoised_unr_preproc_DefautTRO.nii.gz')\n",
    "#fbval = os.path.join(STUDY_PATH,'data','RV_MultiB_FullABCD','dti.bval')\n",
    "#fbvec = os.path.join(STUDY_PATH,'data','RV_MultiB_FullABCD','dti.bvec')\n",
    "\n",
    "fdwi = os.path.join(STUDY_PATH,'data_4_mrtrix','subjNaila_2','dti_denoised_unr_preproc_DefautTRO.nii.gz')\n",
    "mask_file = os.path.join(STUDY_PATH,'data_4_mrtrix','subjNaila_2','mask_dti_denoised_unr_preproc_DefautTRO.nii.gz')\n",
    "fbval = os.path.join(STUDY_PATH,'data','Unnamed-631868870','dti.bval')\n",
    "fbvec = os.path.join(STUDY_PATH,'data','Unnamed-631868870','dti.bvec')\n",
    "\n",
    "from dipy.io.image import load_nifti, save_nifti\n",
    "from dipy.io import read_bvals_bvecs\n",
    "from dipy.core.gradients import gradient_table\n",
    "from dipy.reconst.dti import TensorModel\n",
    "\n",
    "data, affine = load_nifti(fdwi)\n",
    "bvals, bvecs = read_bvals_bvecs(fbval, fbvec)\n",
    "gtab = gradient_table(bvals, bvecs)\n",
    "\n",
    "tenmodel = TensorModel(gtab)\n",
    "tenfit = tenmodel.fit(data)"
   ]
  },
  {
   "cell_type": "code",
   "execution_count": 6,
   "metadata": {},
   "outputs": [],
   "source": [
    "save_nifti(os.path.join(STUDY_PATH,'data_4_mrtrix','subjNaila_2','fa_dipy.nii.gz'), tenfit.fa, affine)"
   ]
  },
  {
   "cell_type": "code",
   "execution_count": 6,
   "metadata": {},
   "outputs": [],
   "source": [
    "#bundle = nib.streamlines.load()\n",
    "\n",
    "FA_img = nib.load(os.path.join(STUDY_PATH,'data_4_mrtrix','subjRV_ABCD','fa.nii.gz'))\n",
    "FA = FA_img.get_fdata()"
   ]
  },
  {
   "cell_type": "markdown",
   "metadata": {},
   "source": [
    "### Visu tracto cerveau entier avec encodage couleur = direction "
   ]
  },
  {
   "cell_type": "code",
   "execution_count": 51,
   "metadata": {},
   "outputs": [],
   "source": [
    "small_wb=load_tck(os.path.join(STUDY_PATH,'data_4_mrtrix','subjRV_ABCD','smallerSIFT_200k.tck'),os.path.join(STUDY_PATH,'data_4_mrtrix','subjRV_ABCD','fa.nii.gz'))\n",
    "streamlines = transform_streamlines(small_wb.streamlines, np.linalg.inv(FA_img.affine))\n",
    "# Reduce streamline count\n",
    "streamlines = streamlines[::4]"
   ]
  },
  {
   "cell_type": "code",
   "execution_count": 52,
   "metadata": {},
   "outputs": [],
   "source": [
    "renderer = window.Scene()\n",
    "\n",
    "sl_actor = actor.streamtube(streamlines, linewidth=0.1, opacity=0.2)\n",
    "renderer.add(sl_actor)\n",
    "window.show(renderer)"
   ]
  },
  {
   "cell_type": "markdown",
   "metadata": {},
   "source": [
    "### Visu tracto cerveau entier avec encodage couleur = FA"
   ]
  },
  {
   "cell_type": "code",
   "execution_count": 48,
   "metadata": {},
   "outputs": [],
   "source": [
    "renderer = window.Scene()\n",
    "\n",
    "# Reduce streamline count\n",
    "#streamlines = streamlines[::2]\n",
    "\n",
    "hue = (0.0, 0.0)  # red only\n",
    "saturation = (0.0, 1.0)  # white to red\n",
    "\n",
    "lut_cmap = actor.colormap_lookup_table(hue_range=hue,saturation_range=saturation)\n",
    "\n",
    "#stream_actor3 = actor.line(bundle_native, fa, linewidth=0.1,lookup_colormap=lut_cmap)\n",
    "bar2 = actor.scalar_bar(lut_cmap)\n",
    "renderer.add(bar2)\n",
    "\n",
    "sl_actor = actor.streamtube(streamlines,FA, linewidth=0.1, opacity=0.2,lookup_colormap=lut_cmap)\n",
    "renderer.add(sl_actor)\n",
    "\n",
    "window.show(renderer)"
   ]
  },
  {
   "cell_type": "markdown",
   "metadata": {},
   "source": [
    "### Visu d'un tract moteur "
   ]
  },
  {
   "cell_type": "code",
   "execution_count": 63,
   "metadata": {},
   "outputs": [],
   "source": [
    "renderer = window.Scene()\n",
    "small_wb=load_tck(os.path.join(STUDY_PATH,'data_4_mrtrix','subjRV_ABCD','full_moto8-188.tck'),os.path.join(STUDY_PATH,'data_4_mrtrix','subjRV_ABCD','fa.nii.gz'))\n",
    "streamlines = list(transform_streamlines(small_wb.streamlines, np.linalg.inv(FA_img.affine)))\n",
    "\n",
    "# Reduce streamline count\n",
    "#streamlines = streamlines[::2]\n",
    "\n",
    "hue = (0.0, 0.0)  # red only\n",
    "saturation = (0.0, 1.0)  # white to red\n",
    "\n",
    "lut_cmap = actor.colormap_lookup_table(hue_range=hue,saturation_range=saturation)\n",
    "\n",
    "#stream_actor3 = actor.line(bundle_native, fa, linewidth=0.1,lookup_colormap=lut_cmap)\n",
    "bar2 = actor.scalar_bar(lut_cmap)\n",
    "renderer.add(bar2)\n",
    "\n",
    "sl_actor = actor.streamtube(streamlines,FA, linewidth=0.1, opacity=0.2,lookup_colormap=lut_cmap)\n",
    "renderer.add(sl_actor)\n",
    "\n",
    "window.show(renderer)"
   ]
  },
  {
   "cell_type": "markdown",
   "metadata": {},
   "source": [
    "FILTRAGE "
   ]
  },
  {
   "cell_type": "code",
   "execution_count": 79,
   "metadata": {},
   "outputs": [],
   "source": [
    "D33 = 1.0\n",
    "D44 = 0.02\n",
    "t = 1\n",
    "k = EnhancementKernel(D33, D44, t)\n",
    "bundle_moto=load_tck(os.path.join(STUDY_PATH,'data_4_mrtrix','subjRV_ABCD','full_moto8-188.tck'),os.path.join(STUDY_PATH,'data_4_mrtrix','subjRV_ABCD','fa.nii.gz'))\n",
    "\n",
    "fbc = FBCMeasures(bundle_moto.streamlines,k,num_threads=6,verbose=True)\n",
    "# Calculate LFBC for original fibers\n",
    "fbc_sl_orig, clrs_orig, rfbc_orig = fbc.get_points_rfbc_thresholded(0, emphasis=0.01,verbose=True)\n",
    "\n",
    "# Apply a threshold on the RFBC to remove spurious fibers\n",
    "fbc_sl_thres, clrs_thres, rfbc_thres = fbc.get_points_rfbc_thresholded(0.125, emphasis=0.01,verbose=True)\n",
    "\n",
    "tracto = nib.streamlines.tractogram.Tractogram(fbc_sl_thres,affine_to_rasmm=np.identity(4))\n",
    "nib.streamlines.save(tracto,os.path.join(STUDY_PATH,'data_4_mrtrix','subjRV_ABCD','filt_full_moto8-188.tck'))  "
   ]
  },
  {
   "cell_type": "markdown",
   "metadata": {},
   "source": [
    "### Visu d'un tract moteur après filtrage"
   ]
  },
  {
   "cell_type": "code",
   "execution_count": 64,
   "metadata": {},
   "outputs": [],
   "source": [
    "renderer = window.Scene()\n",
    "bundle_moto=load_tck(os.path.join(STUDY_PATH,'data_4_mrtrix','subjRV_ABCD','filt_full_moto8-188.tck'),os.path.join(STUDY_PATH,'data_4_mrtrix','subjRV_ABCD','fa.nii.gz'))\n",
    "streamlines = transform_streamlines(bundle_moto.streamlines, np.linalg.inv(FA_img.affine))\n",
    "\n",
    "# Reduce streamline count\n",
    "#streamlines = streamlines[::2]\n",
    "\n",
    "hue = (0.0, 0.0)  # red only\n",
    "saturation = (0.0, 1.0)  # white to red\n",
    "\n",
    "lut_cmap = actor.colormap_lookup_table(hue_range=hue,saturation_range=saturation)\n",
    "\n",
    "#stream_actor3 = actor.line(bundle_native, fa, linewidth=0.1,lookup_colormap=lut_cmap)\n",
    "bar2 = actor.scalar_bar(lut_cmap)\n",
    "renderer.add(bar2)\n",
    "\n",
    "sl_actor = actor.streamtube(streamlines,FA, linewidth=0.1, opacity=0.2,lookup_colormap=lut_cmap)\n",
    "renderer.add(sl_actor)\n",
    "\n",
    "window.show(renderer)"
   ]
  },
  {
   "cell_type": "code",
   "execution_count": 23,
   "metadata": {},
   "outputs": [],
   "source": [
    "def resample_fibers(streamlines, nb_points=12):\n",
    "    streamlines_new = []\n",
    "    for sl in streamlines:\n",
    "        feature = ResampleFeature(nb_points=nb_points)\n",
    "        streamlines_new.append(feature.extract(sl))\n",
    "    return streamlines_new"
   ]
  },
  {
   "cell_type": "code",
   "execution_count": 25,
   "metadata": {},
   "outputs": [],
   "source": [
    "def resample_to_same_distance(streamlines, max_nr_points=10, ANTI_INTERPOL_MULT=1):\n",
    "    dist = sl_length(streamlines).max() / max_nr_points\n",
    "    new_streamlines = []\n",
    "    for sl in streamlines:\n",
    "        l = sl_length(sl)\n",
    "        nr_segments = int(l / dist)\n",
    "        sl_new = set_number_of_points(sl, nb_points=nr_segments * ANTI_INTERPOL_MULT)\n",
    "        new_streamlines.append(sl_new)\n",
    "    return new_streamlines"
   ]
  },
  {
   "cell_type": "markdown",
   "metadata": {},
   "source": [
    "### Visu du cluster "
   ]
  },
  {
   "cell_type": "code",
   "execution_count": 54,
   "metadata": {},
   "outputs": [],
   "source": [
    "feature = ResampleFeature(nb_points=100)\n",
    "metric = AveragePointwiseEuclideanMetric()\n",
    "qb = QuickBundles(np.inf, metric=metric)\n",
    "r_streamlines=resample_fibers(streamlines,100)\n",
    "clusters = qb.cluster(r_streamlines)\n",
    "centroids = Streamlines(clusters.centroids)"
   ]
  },
  {
   "cell_type": "code",
   "execution_count": 66,
   "metadata": {},
   "outputs": [],
   "source": [
    "renderer = window.Scene()\n",
    "bundle_moto=load_tck(os.path.join(STUDY_PATH,'data_4_mrtrix','subjRV_ABCD','filt_full_moto8-188.tck'),os.path.join(STUDY_PATH,'data_4_mrtrix','subjRV_ABCD','fa.nii.gz'))\n",
    "streamlines = transform_streamlines(bundle_moto.streamlines, np.linalg.inv(FA_img.affine))\n",
    "\n",
    "# Reduce streamline count\n",
    "#streamlines = streamlines[::2]\n",
    "\n",
    "hue = (0.0, 0.0)  # red only\n",
    "saturation = (0.0, 1.0)  # white to red\n",
    "\n",
    "lut_cmap = actor.colormap_lookup_table(scale_range=(0.3,0.8),hue_range=hue,saturation_range=saturation)\n",
    "\n",
    "#stream_actor3 = actor.line(bundle_native, fa, linewidth=0.1,lookup_colormap=lut_cmap)\n",
    "bar2 = actor.scalar_bar(lut_cmap)\n",
    "renderer.add(bar2)\n",
    "\n",
    "sl_actor = actor.streamtube(streamlines,FA, linewidth=0.1, opacity=0.2,lookup_colormap=lut_cmap)\n",
    "renderer.add(sl_actor)\n",
    "\n",
    "sl_actor = actor.streamtube(clusters.centroids,FA, linewidth=1, opacity=1,lookup_colormap=lut_cmap)\n",
    "renderer.add(sl_actor)\n",
    "\n",
    "window.show(renderer)"
   ]
  },
  {
   "cell_type": "markdown",
   "metadata": {},
   "source": [
    "### Visu du profile"
   ]
  },
  {
   "cell_type": "code",
   "execution_count": 61,
   "metadata": {},
   "outputs": [],
   "source": [
    "#standard_af_l = cluster_af_l.centroids[0]\n",
    "oriented_moto = dts.orient_by_streamline(streamlines, clusters.centroids[0])\n",
    "w_moto = dsa.gaussian_weights(streamlines)"
   ]
  },
  {
   "cell_type": "code",
   "execution_count": 62,
   "metadata": {},
   "outputs": [
    {
     "data": {
      "text/plain": [
       "Text(0.5, 0, 'Node along track')"
      ]
     },
     "execution_count": 62,
     "metadata": {},
     "output_type": "execute_result"
    },
    {
     "data": {
      "image/png": "[encoded data removed]",
      "text/plain": [
       "<Figure size 432x288 with 1 Axes>"
      ]
     },
     "metadata": {
      "needs_background": "light"
     },
     "output_type": "display_data"
    }
   ],
   "source": [
    "profile = dsa.afq_profile(FA, oriented_moto,np.eye(4),weights=w_moto)\n",
    "fig, ax1 = plt.subplots(1, 1)\n",
    "ax1.plot(profile)\n",
    "ax1.set_ylabel(\"Fractional anisotropy\")\n",
    "ax1.set_xlabel(\"Node along track\")"
   ]
  },
  {
   "cell_type": "code",
   "execution_count": 81,
   "metadata": {},
   "outputs": [],
   "source": [
    "from tractseg.python_api import run_tractseg"
   ]
  },
  {
   "cell_type": "code",
   "execution_count": 82,
   "metadata": {},
   "outputs": [],
   "source": [
    "#peaks = nib.load(os.path.join(STUDY_PATH,'data_4_mrtrix','subjRV_ABCD','fixels','peak.nii.gz'))\n",
    "peaks = nib.load(os.path.join(STUDY_PATH,'data_4_mrtrix','subjRV_ABCD','sh_wm_norm.nii.gz'))"
   ]
  },
  {
   "cell_type": "code",
   "execution_count": 83,
   "metadata": {},
   "outputs": [
    {
     "ename": "IndexError",
     "evalue": "tuple index out of range",
     "output_type": "error",
     "traceback": [
      "\u001b[0;31m---------------------------------------------------------------------------\u001b[0m",
      "\u001b[0;31mIndexError\u001b[0m                                Traceback (most recent call last)",
      "\u001b[0;32m<ipython-input-83-6c2963d52e2a>\u001b[0m in \u001b[0;36m<module>\u001b[0;34m\u001b[0m\n\u001b[0;32m----> 1\u001b[0;31m \u001b[0msegmentation\u001b[0m \u001b[0;34m=\u001b[0m \u001b[0mrun_tractseg\u001b[0m\u001b[0;34m(\u001b[0m\u001b[0mpeaks\u001b[0m\u001b[0;34m)\u001b[0m\u001b[0;34m\u001b[0m\u001b[0;34m\u001b[0m\u001b[0m\n\u001b[0m",
      "\u001b[0;32m~/.local/lib/python3.7/site-packages/tractseg/python_api.py\u001b[0m in \u001b[0;36mrun_tractseg\u001b[0;34m(data, output_type, single_orientation, dropout_sampling, threshold, bundle_specific_postprocessing, get_probs, peak_threshold, postprocess, peak_regression_part, input_type, blob_size_thr, nr_cpus, verbose, manual_exp_name, inference_batch_size, tract_definition, bedpostX_input, tract_segmentations_path, TOM_dilation, unit_test)\u001b[0m\n\u001b[1;32m    145\u001b[0m \u001b[0;34m\u001b[0m\u001b[0m\n\u001b[1;32m    146\u001b[0m     \u001b[0;31m#runtime on HCP data: 0.9s\u001b[0m\u001b[0;34m\u001b[0m\u001b[0;34m\u001b[0m\u001b[0;34m\u001b[0m\u001b[0m\n\u001b[0;32m--> 147\u001b[0;31m     \u001b[0mdata\u001b[0m\u001b[0;34m,\u001b[0m \u001b[0mseg_None\u001b[0m\u001b[0;34m,\u001b[0m \u001b[0mbbox\u001b[0m\u001b[0;34m,\u001b[0m \u001b[0moriginal_shape\u001b[0m \u001b[0;34m=\u001b[0m \u001b[0mdata_utils\u001b[0m\u001b[0;34m.\u001b[0m\u001b[0mcrop_to_nonzero\u001b[0m\u001b[0;34m(\u001b[0m\u001b[0mdata\u001b[0m\u001b[0;34m)\u001b[0m\u001b[0;34m\u001b[0m\u001b[0;34m\u001b[0m\u001b[0m\n\u001b[0m\u001b[1;32m    148\u001b[0m     \u001b[0;31m# runtime on HCP data: 0.5s\u001b[0m\u001b[0;34m\u001b[0m\u001b[0;34m\u001b[0m\u001b[0;34m\u001b[0m\u001b[0m\n\u001b[1;32m    149\u001b[0m     data, transformation = data_utils.pad_and_scale_img_to_square_img(data, target_size=Config.INPUT_DIM[0],\n",
      "\u001b[0;32m~/.local/lib/python3.7/site-packages/tractseg/libs/data_utils.py\u001b[0m in \u001b[0;36mcrop_to_nonzero\u001b[0;34m(data, seg, bbox)\u001b[0m\n\u001b[1;32m    118\u001b[0m     \u001b[0moriginal_shape\u001b[0m \u001b[0;34m=\u001b[0m \u001b[0mdata\u001b[0m\u001b[0;34m.\u001b[0m\u001b[0mshape\u001b[0m\u001b[0;34m\u001b[0m\u001b[0;34m\u001b[0m\u001b[0m\n\u001b[1;32m    119\u001b[0m     \u001b[0;32mif\u001b[0m \u001b[0mbbox\u001b[0m \u001b[0;32mis\u001b[0m \u001b[0;32mNone\u001b[0m\u001b[0;34m:\u001b[0m\u001b[0;34m\u001b[0m\u001b[0;34m\u001b[0m\u001b[0m\n\u001b[0;32m--> 120\u001b[0;31m         \u001b[0mbbox\u001b[0m \u001b[0;34m=\u001b[0m \u001b[0mget_bbox_from_mask\u001b[0m\u001b[0;34m(\u001b[0m\u001b[0mdata\u001b[0m\u001b[0;34m,\u001b[0m \u001b[0;36m0\u001b[0m\u001b[0;34m)\u001b[0m\u001b[0;34m\u001b[0m\u001b[0;34m\u001b[0m\u001b[0m\n\u001b[0m\u001b[1;32m    121\u001b[0m \u001b[0;34m\u001b[0m\u001b[0m\n\u001b[1;32m    122\u001b[0m     \u001b[0mcropped_data\u001b[0m \u001b[0;34m=\u001b[0m \u001b[0;34m[\u001b[0m\u001b[0;34m]\u001b[0m\u001b[0;34m\u001b[0m\u001b[0;34m\u001b[0m\u001b[0m\n",
      "\u001b[0;32m~/.local/lib/python3.7/site-packages/tractseg/libs/data_utils.py\u001b[0m in \u001b[0;36mget_bbox_from_mask\u001b[0;34m(mask, outside_value)\u001b[0m\n\u001b[1;32m    103\u001b[0m     \u001b[0mminzidx\u001b[0m \u001b[0;34m=\u001b[0m \u001b[0mint\u001b[0m\u001b[0;34m(\u001b[0m\u001b[0mnp\u001b[0m\u001b[0;34m.\u001b[0m\u001b[0mmin\u001b[0m\u001b[0;34m(\u001b[0m\u001b[0mmask_voxel_coords\u001b[0m\u001b[0;34m[\u001b[0m\u001b[0;36m0\u001b[0m\u001b[0;34m]\u001b[0m\u001b[0;34m)\u001b[0m\u001b[0;34m)\u001b[0m\u001b[0;34m\u001b[0m\u001b[0;34m\u001b[0m\u001b[0m\n\u001b[1;32m    104\u001b[0m     \u001b[0mmaxzidx\u001b[0m \u001b[0;34m=\u001b[0m \u001b[0mint\u001b[0m\u001b[0;34m(\u001b[0m\u001b[0mnp\u001b[0m\u001b[0;34m.\u001b[0m\u001b[0mmax\u001b[0m\u001b[0;34m(\u001b[0m\u001b[0mmask_voxel_coords\u001b[0m\u001b[0;34m[\u001b[0m\u001b[0;36m0\u001b[0m\u001b[0;34m]\u001b[0m\u001b[0;34m)\u001b[0m\u001b[0;34m)\u001b[0m \u001b[0;34m+\u001b[0m \u001b[0;36m1\u001b[0m\u001b[0;34m\u001b[0m\u001b[0;34m\u001b[0m\u001b[0m\n\u001b[0;32m--> 105\u001b[0;31m     \u001b[0mminxidx\u001b[0m \u001b[0;34m=\u001b[0m \u001b[0mint\u001b[0m\u001b[0;34m(\u001b[0m\u001b[0mnp\u001b[0m\u001b[0;34m.\u001b[0m\u001b[0mmin\u001b[0m\u001b[0;34m(\u001b[0m\u001b[0mmask_voxel_coords\u001b[0m\u001b[0;34m[\u001b[0m\u001b[0;36m1\u001b[0m\u001b[0;34m]\u001b[0m\u001b[0;34m)\u001b[0m\u001b[0;34m)\u001b[0m\u001b[0;34m\u001b[0m\u001b[0;34m\u001b[0m\u001b[0m\n\u001b[0m\u001b[1;32m    106\u001b[0m     \u001b[0mmaxxidx\u001b[0m \u001b[0;34m=\u001b[0m \u001b[0mint\u001b[0m\u001b[0;34m(\u001b[0m\u001b[0mnp\u001b[0m\u001b[0;34m.\u001b[0m\u001b[0mmax\u001b[0m\u001b[0;34m(\u001b[0m\u001b[0mmask_voxel_coords\u001b[0m\u001b[0;34m[\u001b[0m\u001b[0;36m1\u001b[0m\u001b[0;34m]\u001b[0m\u001b[0;34m)\u001b[0m\u001b[0;34m)\u001b[0m \u001b[0;34m+\u001b[0m \u001b[0;36m1\u001b[0m\u001b[0;34m\u001b[0m\u001b[0;34m\u001b[0m\u001b[0m\n\u001b[1;32m    107\u001b[0m     \u001b[0mminyidx\u001b[0m \u001b[0;34m=\u001b[0m \u001b[0mint\u001b[0m\u001b[0;34m(\u001b[0m\u001b[0mnp\u001b[0m\u001b[0;34m.\u001b[0m\u001b[0mmin\u001b[0m\u001b[0;34m(\u001b[0m\u001b[0mmask_voxel_coords\u001b[0m\u001b[0;34m[\u001b[0m\u001b[0;36m2\u001b[0m\u001b[0;34m]\u001b[0m\u001b[0;34m)\u001b[0m\u001b[0;34m)\u001b[0m\u001b[0;34m\u001b[0m\u001b[0;34m\u001b[0m\u001b[0m\n",
      "\u001b[0;31mIndexError\u001b[0m: tuple index out of range"
     ]
    }
   ],
   "source": [
    "segmentation = run_tractseg(peaks)"
   ]
  },
  {
   "cell_type": "code",
   "execution_count": 77,
   "metadata": {},
   "outputs": [
    {
     "data": {
      "text/plain": [
       "(144, 144, 81, 45)"
      ]
     },
     "execution_count": 77,
     "metadata": {},
     "output_type": "execute_result"
    }
   ],
   "source": [
    "peaks.shape"
   ]
  },
  {
   "cell_type": "code",
   "execution_count": 86,
   "metadata": {},
   "outputs": [],
   "source": [
    "from tractseg.libs.img_utils import *"
   ]
  },
  {
   "cell_type": "code",
   "execution_count": 88,
   "metadata": {},
   "outputs": [
    {
     "ename": "NameError",
     "evalue": "name 'plot_streamlines_with_brain_mask_and_endings_mask' is not defined",
     "output_type": "error",
     "traceback": [
      "\u001b[0;31m---------------------------------------------------------------------------\u001b[0m",
      "\u001b[0;31mNameError\u001b[0m                                 Traceback (most recent call last)",
      "\u001b[0;32m<ipython-input-88-e0dce30bdd2a>\u001b[0m in \u001b[0;36m<module>\u001b[0;34m\u001b[0m\n\u001b[0;32m----> 1\u001b[0;31m plot_streamlines_with_brain_mask_and_endings_mask(os.path.join(STUDY_PATH,'data_4_mrtrix','subjRV_ABCD','filt_full_moto8-188.tck'),\n\u001b[0m\u001b[1;32m      2\u001b[0m                                                   \u001b[0mos\u001b[0m\u001b[0;34m.\u001b[0m\u001b[0mpath\u001b[0m\u001b[0;34m.\u001b[0m\u001b[0mjoin\u001b[0m\u001b[0;34m(\u001b[0m\u001b[0mSTUDY_PATH\u001b[0m\u001b[0;34m,\u001b[0m\u001b[0;34m'data_4_mrtrix'\u001b[0m\u001b[0;34m,\u001b[0m\u001b[0;34m'subjRV_ABCD'\u001b[0m\u001b[0;34m,\u001b[0m\u001b[0;34m'mask_dti_denoised_unr_preproc_DefautTRO.nii.gz'\u001b[0m\u001b[0;34m)\u001b[0m\u001b[0;34m,\u001b[0m\u001b[0;34m\u001b[0m\u001b[0;34m\u001b[0m\u001b[0m\n\u001b[1;32m      3\u001b[0m                                                   \u001b[0mos\u001b[0m\u001b[0;34m.\u001b[0m\u001b[0mpath\u001b[0m\u001b[0;34m.\u001b[0m\u001b[0mjoin\u001b[0m\u001b[0;34m(\u001b[0m\u001b[0mSTUDY_PATH\u001b[0m\u001b[0;34m,\u001b[0m\u001b[0;34m'data_4_mrtrix'\u001b[0m\u001b[0;34m,\u001b[0m\u001b[0;34m'subjRV_ABCD'\u001b[0m\u001b[0;34m,\u001b[0m\u001b[0;34m'aparc.a2009s+aseg_coreg_re_rl.nii.gz'\u001b[0m\u001b[0;34m)\u001b[0m\u001b[0;34m,\u001b[0m\u001b[0;34m\u001b[0m\u001b[0;34m\u001b[0m\u001b[0m\n\u001b[1;32m      4\u001b[0m                                                   subsampling=1)\n",
      "\u001b[0;31mNameError\u001b[0m: name 'plot_streamlines_with_brain_mask_and_endings_mask' is not defined"
     ]
    }
   ],
   "source": [
    "plot_streamlines_with_brain_mask_and_endings_mask(os.path.join(STUDY_PATH,'data_4_mrtrix','subjRV_ABCD','filt_full_moto8-188.tck'),\n",
    "                                                  os.path.join(STUDY_PATH,'data_4_mrtrix','subjRV_ABCD','mask_dti_denoised_unr_preproc_DefautTRO.nii.gz'),\n",
    "                                                  os.path.join(STUDY_PATH,'data_4_mrtrix','subjRV_ABCD','aparc.a2009s+aseg_coreg_re_rl.nii.gz'),\n",
    "                                                  subsampling=1)"
   ]
  },
  {
   "cell_type": "code",
   "execution_count": 90,
   "metadata": {},
   "outputs": [],
   "source": [
    "from tractseg.libs import fiber_utils"
   ]
  },
  {
   "cell_type": "code",
   "execution_count": 91,
   "metadata": {},
   "outputs": [],
   "source": [
    "reference_affine=FA_img.affine\n",
    "reference_shape=FA_img.get_fdata().shape[:3]\n",
    "fiber_utils.convert_tck_to_trk(os.path.join(STUDY_PATH,'data_4_mrtrix','subjRV_ABCD','smallerSIFT_200k.tck'),os.path.join(STUDY_PATH,'data_4_mrtrix','subjRV_ABCD','smallerSIFT_200k_testpy.trk'),reference_affine,reference_shape)"
   ]
  },
  {
   "cell_type": "code",
   "execution_count": 94,
   "metadata": {},
   "outputs": [
    {
     "name": "stderr",
     "output_type": "stream",
     "text": [
      "ERROR:StatefulTractogram:Voxel space values lower than 0.0\n"
     ]
    },
    {
     "ename": "ValueError",
     "evalue": "Bounding box is not valid in voxel space, cannot load a valid file if some coordinates are invalid.Please set bbox_valid_check to False and then usethe function remove_invalid_streamlines to discardinvalid streamlines.",
     "output_type": "error",
     "traceback": [
      "\u001b[0;31m---------------------------------------------------------------------------\u001b[0m",
      "\u001b[0;31mValueError\u001b[0m                                Traceback (most recent call last)",
      "\u001b[0;32m<ipython-input-94-2862adaefea4>\u001b[0m in \u001b[0;36m<module>\u001b[0;34m\u001b[0m\n\u001b[1;32m      1\u001b[0m \u001b[0;32mfrom\u001b[0m \u001b[0mdipy\u001b[0m\u001b[0;34m.\u001b[0m\u001b[0mio\u001b[0m\u001b[0;34m.\u001b[0m\u001b[0mstreamline\u001b[0m \u001b[0;32mimport\u001b[0m \u001b[0mload_trk\u001b[0m\u001b[0;34m\u001b[0m\u001b[0;34m\u001b[0m\u001b[0m\n\u001b[1;32m      2\u001b[0m \u001b[0mTEST_PATH\u001b[0m\u001b[0;34m=\u001b[0m\u001b[0;34m'/home/romain/Téléchargements/wmql_example_dataset'\u001b[0m\u001b[0;34m\u001b[0m\u001b[0;34m\u001b[0m\u001b[0m\n\u001b[0;32m----> 3\u001b[0;31m \u001b[0mtest\u001b[0m\u001b[0;34m=\u001b[0m\u001b[0mload_trk\u001b[0m\u001b[0;34m(\u001b[0m\u001b[0mos\u001b[0m\u001b[0;34m.\u001b[0m\u001b[0mpath\u001b[0m\u001b[0;34m.\u001b[0m\u001b[0mjoin\u001b[0m\u001b[0;34m(\u001b[0m\u001b[0mTEST_PATH\u001b[0m\u001b[0;34m,\u001b[0m\u001b[0;34m'IIT2mean.trk'\u001b[0m\u001b[0;34m)\u001b[0m\u001b[0;34m,\u001b[0m\u001b[0mos\u001b[0m\u001b[0;34m.\u001b[0m\u001b[0mpath\u001b[0m\u001b[0;34m.\u001b[0m\u001b[0mjoin\u001b[0m\u001b[0;34m(\u001b[0m\u001b[0mTEST_PATH\u001b[0m\u001b[0;34m,\u001b[0m\u001b[0;34m'MNI152_wmparc_1mm_small.nii.gz'\u001b[0m\u001b[0;34m)\u001b[0m\u001b[0;34m)\u001b[0m\u001b[0;34m\u001b[0m\u001b[0;34m\u001b[0m\u001b[0m\n\u001b[0m",
      "\u001b[0;32m~/.local/lib/python3.7/site-packages/dipy/io/streamline.py\u001b[0m in \u001b[0;36mf_gen\u001b[0;34m(filename, reference, to_space, to_origin, bbox_valid_check, trk_header_check)\u001b[0m\n\u001b[1;32m    200\u001b[0m                               \u001b[0mto_origin\u001b[0m\u001b[0;34m=\u001b[0m\u001b[0mto_origin\u001b[0m\u001b[0;34m,\u001b[0m\u001b[0;34m\u001b[0m\u001b[0;34m\u001b[0m\u001b[0m\n\u001b[1;32m    201\u001b[0m                               \u001b[0mbbox_valid_check\u001b[0m\u001b[0;34m=\u001b[0m\u001b[0mbbox_valid_check\u001b[0m\u001b[0;34m,\u001b[0m\u001b[0;34m\u001b[0m\u001b[0;34m\u001b[0m\u001b[0m\n\u001b[0;32m--> 202\u001b[0;31m                               trk_header_check=trk_header_check)\n\u001b[0m\u001b[1;32m    203\u001b[0m         \u001b[0;32mreturn\u001b[0m \u001b[0msft\u001b[0m\u001b[0;34m\u001b[0m\u001b[0;34m\u001b[0m\u001b[0m\n\u001b[1;32m    204\u001b[0m \u001b[0;34m\u001b[0m\u001b[0m\n",
      "\u001b[0;32m~/.local/lib/python3.7/site-packages/dipy/io/streamline.py\u001b[0m in \u001b[0;36mload_tractogram\u001b[0;34m(filename, reference, to_space, to_origin, bbox_valid_check, trk_header_check)\u001b[0m\n\u001b[1;32m    166\u001b[0m \u001b[0;34m\u001b[0m\u001b[0m\n\u001b[1;32m    167\u001b[0m     \u001b[0;32mif\u001b[0m \u001b[0mbbox_valid_check\u001b[0m \u001b[0;32mand\u001b[0m \u001b[0;32mnot\u001b[0m \u001b[0msft\u001b[0m\u001b[0;34m.\u001b[0m\u001b[0mis_bbox_in_vox_valid\u001b[0m\u001b[0;34m(\u001b[0m\u001b[0;34m)\u001b[0m\u001b[0;34m:\u001b[0m\u001b[0;34m\u001b[0m\u001b[0;34m\u001b[0m\u001b[0m\n\u001b[0;32m--> 168\u001b[0;31m         raise ValueError('Bounding box is not valid in voxel space, cannot '\n\u001b[0m\u001b[1;32m    169\u001b[0m                          \u001b[0;34m'load a valid file if some coordinates are invalid.'\u001b[0m\u001b[0;34m\u001b[0m\u001b[0;34m\u001b[0m\u001b[0m\n\u001b[1;32m    170\u001b[0m                          \u001b[0;34m'Please set bbox_valid_check to False and then use'\u001b[0m\u001b[0;34m\u001b[0m\u001b[0;34m\u001b[0m\u001b[0m\n",
      "\u001b[0;31mValueError\u001b[0m: Bounding box is not valid in voxel space, cannot load a valid file if some coordinates are invalid.Please set bbox_valid_check to False and then usethe function remove_invalid_streamlines to discardinvalid streamlines."
     ]
    }
   ],
   "source": [
    "from dipy.io.streamline import load_trk\n",
    "TEST_PATH='/home/romain/Téléchargements/wmql_example_dataset'\n",
    "test=load_trk(os.path.join(TEST_PATH,'IIT2mean.trk'),os.path.join(TEST_PATH,'MNI152_wmparc_1mm_small.nii.gz'))"
   ]
  },
  {
   "cell_type": "code",
   "execution_count": 119,
   "metadata": {},
   "outputs": [
    {
     "name": "stderr",
     "output_type": "stream",
     "text": [
      "ERROR:root:Affine not equal\n",
      "ERROR:root:Trk file header does not match the provided reference\n"
     ]
    }
   ],
   "source": [
    "LONG_STUDY_PATH=os.path.join(STUDY_PATH,'data_4_mrtrix','subjRV_ABCD')\n",
    "img = nib.load(os.path.join(LONG_STUDY_PATH,'mean_b0_preprocessed_re.nii.gz'))\n",
    "reference_affine=img.affine\n",
    "reference_shape=img.get_fdata().shape[:3]\n",
    "fiber_utils.convert_tck_to_trk(os.path.join(LONG_STUDY_PATH,'smallerSIFT_200k.tck'),os.path.join(LONG_STUDY_PATH,'test.trk'),reference_affine,reference_shape)"
   ]
  },
  {
   "cell_type": "code",
   "execution_count": 146,
   "metadata": {},
   "outputs": [],
   "source": [
    "test2=load_trk(os.path.join(LONG_STUDY_PATH,'smallerSIFT_200k.trk'),os.path.join(LONG_STUDY_PATH,'mean_b0_preprocessed_re.nii.gz'))"
   ]
  },
  {
   "cell_type": "code",
   "execution_count": 100,
   "metadata": {},
   "outputs": [
    {
     "data": {
      "text/plain": [
       "array([[ -1.66666996,  -0.        ,  -0.        , 114.24726105],\n",
       "       [ -0.        ,  -1.66666996,  -0.        , 138.28134155],\n",
       "       [  0.        ,   0.        ,   2.        , -53.91680527],\n",
       "       [  0.        ,   0.        ,   0.        ,   1.        ]])"
      ]
     },
     "execution_count": 100,
     "metadata": {},
     "output_type": "execute_result"
    }
   ],
   "source": [
    "reference_affine"
   ]
  },
  {
   "cell_type": "code",
   "execution_count": 191,
   "metadata": {},
   "outputs": [
    {
     "name": "stdout",
     "output_type": "stream",
     "text": [
      "<class 'nibabel.nifti1.Nifti1Header'> object, endian='<'\n",
      "sizeof_hdr      : 348\n",
      "data_type       : b''\n",
      "db_name         : b''\n",
      "extents         : 0\n",
      "session_error   : 0\n",
      "regular         : b''\n",
      "dim_info        : 0\n",
      "dim             : [  3 144 144  81   1   1   1   1]\n",
      "intent_p1       : 0.0\n",
      "intent_p2       : 0.0\n",
      "intent_p3       : 0.0\n",
      "intent_code     : none\n",
      "datatype        : float32\n",
      "bitpix          : 32\n",
      "slice_start     : 0\n",
      "pixdim          : [1.      1.66667 1.66667 2.      0.      1.      1.      1.     ]\n",
      "vox_offset      : 0.0\n",
      "scl_slope       : nan\n",
      "scl_inter       : nan\n",
      "slice_end       : 0\n",
      "slice_code      : unknown\n",
      "xyzt_units      : 10\n",
      "cal_max         : 0.0\n",
      "cal_min         : 0.0\n",
      "slice_duration  : 0.0\n",
      "toffset         : 0.0\n",
      "glmax           : 0\n",
      "glmin           : 0\n",
      "descrip         : b'FreeSurfer Jan 18 2017'\n",
      "aux_file        : b''\n",
      "qform_code      : scanner\n",
      "sform_code      : scanner\n",
      "quatern_b       : 0.0\n",
      "quatern_c       : 0.0\n",
      "quatern_d       : 0.0\n",
      "qoffset_x       : -125.75322\n",
      "qoffset_y       : -101.71911\n",
      "qoffset_z       : -53.916805\n",
      "srow_x          : [   1.6666698    0.           0.        -125.75322  ]\n",
      "srow_y          : [   0.           1.6666698    0.        -101.71911  ]\n",
      "srow_z          : [  0.         0.         2.       -53.916805]\n",
      "intent_name     : b''\n",
      "magic           : b'n+1'\n"
     ]
    }
   ],
   "source": [
    "print(img.header)"
   ]
  },
  {
   "cell_type": "code",
   "execution_count": 187,
   "metadata": {},
   "outputs": [
    {
     "data": {
      "text/plain": [
       "{'magic_number': b'TRACK',\n",
       " 'dimensions': array([144, 144,  81], dtype=int16),\n",
       " 'voxel_sizes': array([1.6666698, 1.6666698, 2.       ], dtype=float32),\n",
       " 'origin': array([0., 0., 0.], dtype=float32),\n",
       " 'nb_scalars_per_point': 0,\n",
       " 'scalar_name': array([b'', b'', b'', b'', b'', b'', b'', b'', b'', b''], dtype='|S20'),\n",
       " 'nb_properties_per_streamline': 0,\n",
       " 'property_name': array([b'', b'', b'', b'', b'', b'', b'', b'', b'', b''], dtype='|S20'),\n",
       " 'voxel_to_rasmm': array([[1.6666698, 0.       , 0.       , 0.       ],\n",
       "        [0.       , 1.6666698, 0.       , 0.       ],\n",
       "        [0.       , 0.       , 2.       , 0.       ],\n",
       "        [0.       , 0.       , 0.       , 1.       ]], dtype=float32),\n",
       " 'reserved': b'',\n",
       " 'voxel_order': b'RAS',\n",
       " 'pad2': b'',\n",
       " 'image_orientation_patient': array([-1.,  0.,  0.,  0., -1.,  0.], dtype=float32),\n",
       " 'pad1': b'',\n",
       " 'invert_x': b'',\n",
       " 'invert_y': b'',\n",
       " 'invert_z': b'',\n",
       " 'swap_xy': b'',\n",
       " 'swap_yz': b'',\n",
       " 'swap_zx': b'',\n",
       " 'nb_streamlines': 200000,\n",
       " 'version': 2,\n",
       " 'hdr_size': 1000,\n",
       " 'endianness': '<',\n",
       " '_offset_data': 1000}"
      ]
     },
     "execution_count": 187,
     "metadata": {},
     "output_type": "execute_result"
    }
   ],
   "source": [
    "nib.streamlines.load(os.path.join(LONG_STUDY_PATH,'test.trk')).header"
   ]
  },
  {
   "cell_type": "code",
   "execution_count": 173,
   "metadata": {},
   "outputs": [
    {
     "data": {
      "text/plain": [
       "<Space.RASMM: 'rasmm'>"
      ]
     },
     "execution_count": 173,
     "metadata": {},
     "output_type": "execute_result"
    }
   ],
   "source": [
    "from dipy.io import streamline\n",
    "bundleTRK=streamline.load_tractogram(os.path.join(LONG_STUDY_PATH,'smallerSIFT_200ktovoxmm.trk'),os.path.join(LONG_STUDY_PATH,'mean_b0_preprocessed_re.nii.gz'))\n",
    "#bundleTRK.affine\n",
    "#bundleTRK.is_bbox_in_vox_valid()\n",
    "#bundleTRK.to_vox()\n",
    "bundleTRK.space"
   ]
  },
  {
   "cell_type": "code",
   "execution_count": 169,
   "metadata": {},
   "outputs": [
    {
     "data": {
      "text/plain": [
       "{'magic_number': b'TRACK',\n",
       " 'dimensions': array([144, 144,  81], dtype=int16),\n",
       " 'voxel_sizes': array([1.6666698, 1.6666698, 2.       ], dtype=float32),\n",
       " 'origin': array([0., 0., 0.], dtype=float32),\n",
       " 'nb_scalars_per_point': 0,\n",
       " 'scalar_name': array([b'', b'', b'', b'', b'', b'', b'', b'', b'', b''], dtype='|S20'),\n",
       " 'nb_properties_per_streamline': 0,\n",
       " 'property_name': array([b'', b'', b'', b'', b'', b'', b'', b'', b'', b''], dtype='|S20'),\n",
       " 'voxel_to_rasmm': array([[1.6666698, 0.       , 0.       , 0.       ],\n",
       "        [0.       , 1.6666698, 0.       , 0.       ],\n",
       "        [0.       , 0.       , 2.       , 0.       ],\n",
       "        [0.       , 0.       , 0.       , 1.       ]], dtype=float32),\n",
       " 'reserved': b'',\n",
       " 'voxel_order': b'RAS',\n",
       " 'pad2': b'',\n",
       " 'image_orientation_patient': array([-1.,  0.,  0.,  0., -1.,  0.], dtype=float32),\n",
       " 'pad1': b'',\n",
       " 'invert_x': b'',\n",
       " 'invert_y': b'',\n",
       " 'invert_z': b'',\n",
       " 'swap_xy': b'',\n",
       " 'swap_yz': b'',\n",
       " 'swap_zx': b'',\n",
       " 'nb_streamlines': 200000,\n",
       " 'version': 2,\n",
       " 'hdr_size': 1000,\n",
       " 'endianness': '<',\n",
       " '_offset_data': 1000}"
      ]
     },
     "execution_count": 169,
     "metadata": {},
     "output_type": "execute_result"
    }
   ],
   "source": [
    "nib.streamlines.load(os.path.join(LONG_STUDY_PATH,'test.trk')).header"
   ]
  },
  {
   "cell_type": "code",
   "execution_count": 177,
   "metadata": {},
   "outputs": [
    {
     "name": "stdout",
     "output_type": "stream",
     "text": [
      "{'magic_number': b'TRACK', 'dimensions': array([144, 144,  81], dtype=int16), 'voxel_sizes': array([1.66667, 1.66667, 2.     ], dtype=float32), 'origin': array([0., 0., 0.], dtype=float32), 'nb_scalars_per_point': 0, 'scalar_name': array([b'', b'', b'', b'', b'', b'', b'', b'', b'', b''], dtype='|S20'), 'nb_properties_per_streamline': 0, 'property_name': array([b'', b'', b'', b'', b'', b'', b'', b'', b'', b''], dtype='|S20'), 'voxel_to_rasmm': array([[   1.6666698,    0.       ,    0.       , -125.75322  ],\n",
      "       [   0.       ,    1.6666698,    0.       , -101.71911  ],\n",
      "       [   0.       ,    0.       ,    2.       ,  -53.916805 ],\n",
      "       [   0.       ,    0.       ,    0.       ,    1.       ]],\n",
      "      dtype=float32), 'reserved': b'', 'voxel_order': b'RAS', 'pad2': b'', 'image_orientation_patient': array([0., 0., 0., 0., 0., 0.], dtype=float32), 'pad1': b'', 'invert_x': b'', 'invert_y': b'', 'invert_z': b'', 'swap_xy': b'', 'swap_yz': b'', 'swap_zx': b'', 'nb_streamlines': 200000, 'version': 2, 'hdr_size': 1000, 'endianness': '<', '_offset_data': 1000}\n"
     ]
    }
   ],
   "source": [
    "test=nib.streamlines.load(os.path.join(LONG_STUDY_PATH,'smallerSIFT_200k.trk'))"
   ]
  },
  {
   "cell_type": "code",
   "execution_count": 199,
   "metadata": {},
   "outputs": [],
   "source": [
    "test.header['origin']=[125.75,101.7,-53.9]\n",
    "nib.streamlines.save(test.tractogram,os.path.join(LONG_STUDY_PATH,'smallerSIFT_200k2test.trk'),header=test.header)"
   ]
  },
  {
   "cell_type": "code",
   "execution_count": 198,
   "metadata": {},
   "outputs": [
    {
     "data": {
      "text/plain": [
       "{'magic_number': b'TRACK',\n",
       " 'dimensions': array([182, 218, 182], dtype=int16),\n",
       " 'voxel_sizes': array([1., 1., 1.], dtype=float32),\n",
       " 'origin': array([-90., 126., -72.], dtype=float32),\n",
       " 'nb_scalars_per_point': 0,\n",
       " 'scalar_name': array([b'', b'', b'', b'', b'', b'', b'', b'', b'', b''], dtype='|S20'),\n",
       " 'nb_properties_per_streamline': 0,\n",
       " 'property_name': array([b'', b'', b'', b'', b'', b'', b'', b'', b'', b''], dtype='|S20'),\n",
       " 'voxel_to_rasmm': array([[  -1.,    0.,    0.,   90.],\n",
       "        [   0.,    1.,    0., -126.],\n",
       "        [   0.,    0.,    1.,  -72.],\n",
       "        [   0.,    0.,    0.,    1.]], dtype=float32),\n",
       " 'reserved': b'',\n",
       " 'voxel_order': b'LAS',\n",
       " 'pad2': b'',\n",
       " 'image_orientation_patient': array([ 1.,  0.,  0.,  0., -1.,  0.], dtype=float32),\n",
       " 'pad1': b'',\n",
       " 'invert_x': b'',\n",
       " 'invert_y': b'',\n",
       " 'invert_z': b'',\n",
       " 'swap_xy': b'',\n",
       " 'swap_yz': b'',\n",
       " 'swap_zx': b'',\n",
       " 'nb_streamlines': 25249,\n",
       " 'version': 2,\n",
       " 'hdr_size': 1000,\n",
       " 'endianness': '<',\n",
       " '_offset_data': 1000}"
      ]
     },
     "execution_count": 198,
     "metadata": {},
     "output_type": "execute_result"
    }
   ],
   "source": [
    "nib.streamlines.load(os.path.join('/home','romain','Téléchargements','wmql_example_dataset','IIT2mean.trk')).header"
   ]
  },
  {
   "cell_type": "code",
   "execution_count": 167,
   "metadata": {},
   "outputs": [
    {
     "name": "stdout",
     "output_type": "stream",
     "text": [
      "<class 'nibabel.nifti1.Nifti1Image'>\n",
      "data shape (182, 218, 182)\n",
      "affine: \n",
      "[[  -1.    0.    0.   90.]\n",
      " [   0.    1.    0. -126.]\n",
      " [   0.    0.    1.  -72.]\n",
      " [   0.    0.    0.    1.]]\n",
      "metadata:\n",
      "<class 'nibabel.nifti1.Nifti1Header'> object, endian='<'\n",
      "sizeof_hdr      : 348\n",
      "data_type       : b''\n",
      "db_name         : b''\n",
      "extents         : 0\n",
      "session_error   : 0\n",
      "regular         : b'r'\n",
      "dim_info        : 0\n",
      "dim             : [  3 182 218 182   1   1   1   1]\n",
      "intent_p1       : 0.0\n",
      "intent_p2       : 0.0\n",
      "intent_p3       : 0.0\n",
      "intent_code     : none\n",
      "datatype        : int16\n",
      "bitpix          : 16\n",
      "slice_start     : 0\n",
      "pixdim          : [-1.  1.  1.  1.  1.  1.  1.  1.]\n",
      "vox_offset      : 0.0\n",
      "scl_slope       : nan\n",
      "scl_inter       : nan\n",
      "slice_end       : 0\n",
      "slice_code      : unknown\n",
      "xyzt_units      : 10\n",
      "cal_max         : 8000.0\n",
      "cal_min         : 3000.0\n",
      "slice_duration  : 0.0\n",
      "toffset         : 0.0\n",
      "glmax           : 0\n",
      "glmin           : 0\n",
      "descrip         : b'FSL3.3'\n",
      "aux_file        : b''\n",
      "qform_code      : mni\n",
      "sform_code      : mni\n",
      "quatern_b       : 0.0\n",
      "quatern_c       : 1.0\n",
      "quatern_d       : 0.0\n",
      "qoffset_x       : 90.0\n",
      "qoffset_y       : -126.0\n",
      "qoffset_z       : -72.0\n",
      "srow_x          : [-1.  0.  0. 90.]\n",
      "srow_y          : [   0.    1.    0. -126.]\n",
      "srow_z          : [  0.   0.   1. -72.]\n",
      "intent_name     : b''\n",
      "magic           : b'n+1'\n"
     ]
    },
    {
     "ename": "AttributeError",
     "evalue": "'NoneType' object has no attribute 'header'",
     "output_type": "error",
     "traceback": [
      "\u001b[0;31m---------------------------------------------------------------------------\u001b[0m",
      "\u001b[0;31mAttributeError\u001b[0m                            Traceback (most recent call last)",
      "\u001b[0;32m<ipython-input-167-88e3139ac3e7>\u001b[0m in \u001b[0;36m<module>\u001b[0;34m\u001b[0m\n\u001b[0;32m----> 1\u001b[0;31m \u001b[0mprint\u001b[0m\u001b[0;34m(\u001b[0m\u001b[0mnib\u001b[0m\u001b[0;34m.\u001b[0m\u001b[0mload\u001b[0m\u001b[0;34m(\u001b[0m\u001b[0mos\u001b[0m\u001b[0;34m.\u001b[0m\u001b[0mpath\u001b[0m\u001b[0;34m.\u001b[0m\u001b[0mjoin\u001b[0m\u001b[0;34m(\u001b[0m\u001b[0;34m'/home'\u001b[0m\u001b[0;34m,\u001b[0m\u001b[0;34m'romain'\u001b[0m\u001b[0;34m,\u001b[0m\u001b[0;34m'Téléchargements'\u001b[0m\u001b[0;34m,\u001b[0m\u001b[0;34m'wmql_example_dataset'\u001b[0m\u001b[0;34m,\u001b[0m\u001b[0;34m'MNI152_wmparc_1mm_small.nii.gz'\u001b[0m\u001b[0;34m)\u001b[0m\u001b[0;34m)\u001b[0m\u001b[0;34m)\u001b[0m\u001b[0;34m.\u001b[0m\u001b[0mheader\u001b[0m\u001b[0;34m\u001b[0m\u001b[0;34m\u001b[0m\u001b[0m\n\u001b[0m",
      "\u001b[0;31mAttributeError\u001b[0m: 'NoneType' object has no attribute 'header'"
     ]
    }
   ],
   "source": [
    "print(nib.load(os.path.join('/home','romain','Téléchargements','wmql_example_dataset','MNI152_wmparc_1mm_small.nii.gz'))).header"
   ]
  },
  {
   "cell_type": "code",
   "execution_count": 168,
   "metadata": {},
   "outputs": [
    {
     "name": "stdout",
     "output_type": "stream",
     "text": [
      "<class 'nibabel.nifti1.Nifti1Image'>\n",
      "data shape (144, 144, 81)\n",
      "affine: \n",
      "[[   1.66666985    0.            0.         -125.7532196 ]\n",
      " [   0.            1.66666985    0.         -101.71910858]\n",
      " [   0.            0.            2.          -53.91680527]\n",
      " [   0.            0.            0.            1.        ]]\n",
      "metadata:\n",
      "<class 'nibabel.nifti1.Nifti1Header'> object, endian='<'\n",
      "sizeof_hdr      : 348\n",
      "data_type       : b''\n",
      "db_name         : b''\n",
      "extents         : 0\n",
      "session_error   : 0\n",
      "regular         : b''\n",
      "dim_info        : 0\n",
      "dim             : [  3 144 144  81   1   1   1   1]\n",
      "intent_p1       : 0.0\n",
      "intent_p2       : 0.0\n",
      "intent_p3       : 0.0\n",
      "intent_code     : none\n",
      "datatype        : float32\n",
      "bitpix          : 32\n",
      "slice_start     : 0\n",
      "pixdim          : [1.      1.66667 1.66667 2.      0.      1.      1.      1.     ]\n",
      "vox_offset      : 0.0\n",
      "scl_slope       : nan\n",
      "scl_inter       : nan\n",
      "slice_end       : 0\n",
      "slice_code      : unknown\n",
      "xyzt_units      : 10\n",
      "cal_max         : 0.0\n",
      "cal_min         : 0.0\n",
      "slice_duration  : 0.0\n",
      "toffset         : 0.0\n",
      "glmax           : 0\n",
      "glmin           : 0\n",
      "descrip         : b'FreeSurfer Jan 18 2017'\n",
      "aux_file        : b''\n",
      "qform_code      : scanner\n",
      "sform_code      : scanner\n",
      "quatern_b       : 0.0\n",
      "quatern_c       : 0.0\n",
      "quatern_d       : 0.0\n",
      "qoffset_x       : -125.75322\n",
      "qoffset_y       : -101.71911\n",
      "qoffset_z       : -53.916805\n",
      "srow_x          : [   1.6666698    0.           0.        -125.75322  ]\n",
      "srow_y          : [   0.           1.6666698    0.        -101.71911  ]\n",
      "srow_z          : [  0.         0.         2.       -53.916805]\n",
      "intent_name     : b''\n",
      "magic           : b'n+1'\n"
     ]
    },
    {
     "ename": "AttributeError",
     "evalue": "'NoneType' object has no attribute 'header'",
     "output_type": "error",
     "traceback": [
      "\u001b[0;31m---------------------------------------------------------------------------\u001b[0m",
      "\u001b[0;31mAttributeError\u001b[0m                            Traceback (most recent call last)",
      "\u001b[0;32m<ipython-input-168-2b1a2ccee9ae>\u001b[0m in \u001b[0;36m<module>\u001b[0;34m\u001b[0m\n\u001b[0;32m----> 1\u001b[0;31m \u001b[0mprint\u001b[0m\u001b[0;34m(\u001b[0m\u001b[0mnib\u001b[0m\u001b[0;34m.\u001b[0m\u001b[0mload\u001b[0m\u001b[0;34m(\u001b[0m\u001b[0mos\u001b[0m\u001b[0;34m.\u001b[0m\u001b[0mpath\u001b[0m\u001b[0;34m.\u001b[0m\u001b[0mjoin\u001b[0m\u001b[0;34m(\u001b[0m\u001b[0mLONG_STUDY_PATH\u001b[0m\u001b[0;34m,\u001b[0m\u001b[0;34m'mean_b0_preprocessed_re.nii.gz'\u001b[0m\u001b[0;34m)\u001b[0m\u001b[0;34m)\u001b[0m\u001b[0;34m)\u001b[0m\u001b[0;34m.\u001b[0m\u001b[0mheader\u001b[0m\u001b[0;34m\u001b[0m\u001b[0;34m\u001b[0m\u001b[0m\n\u001b[0m",
      "\u001b[0;31mAttributeError\u001b[0m: 'NoneType' object has no attribute 'header'"
     ]
    }
   ],
   "source": [
    "print(nib.load(os.path.join(LONG_STUDY_PATH,'mean_b0_preprocessed_re.nii.gz'))).header"
   ]
  },
  {
   "cell_type": "code",
   "execution_count": 147,
   "metadata": {},
   "outputs": [
    {
     "name": "stderr",
     "output_type": "stream",
     "text": [
      "ERROR:StatefulTractogram:Voxel space values lower than 0.0\n"
     ]
    },
    {
     "ename": "ValueError",
     "evalue": "Bounding box is not valid in voxel space, cannot load a valid file if some coordinates are invalid.Please set bbox_valid_check to False and then usethe function remove_invalid_streamlines to discardinvalid streamlines.",
     "output_type": "error",
     "traceback": [
      "\u001b[0;31m---------------------------------------------------------------------------\u001b[0m",
      "\u001b[0;31mValueError\u001b[0m                                Traceback (most recent call last)",
      "\u001b[0;32m<ipython-input-147-90d8124bf561>\u001b[0m in \u001b[0;36m<module>\u001b[0;34m\u001b[0m\n\u001b[0;32m----> 1\u001b[0;31m \u001b[0mbundleTRK\u001b[0m\u001b[0;34m=\u001b[0m\u001b[0mstreamline\u001b[0m\u001b[0;34m.\u001b[0m\u001b[0mload_tractogram\u001b[0m\u001b[0;34m(\u001b[0m\u001b[0mos\u001b[0m\u001b[0;34m.\u001b[0m\u001b[0mpath\u001b[0m\u001b[0;34m.\u001b[0m\u001b[0mjoin\u001b[0m\u001b[0;34m(\u001b[0m\u001b[0;34m'/home'\u001b[0m\u001b[0;34m,\u001b[0m\u001b[0;34m'romain'\u001b[0m\u001b[0;34m,\u001b[0m\u001b[0;34m'Téléchargements'\u001b[0m\u001b[0;34m,\u001b[0m\u001b[0;34m'wmql_example_dataset'\u001b[0m\u001b[0;34m,\u001b[0m\u001b[0;34m'IIT2mean.trk'\u001b[0m\u001b[0;34m)\u001b[0m\u001b[0;34m,\u001b[0m\u001b[0mos\u001b[0m\u001b[0;34m.\u001b[0m\u001b[0mpath\u001b[0m\u001b[0;34m.\u001b[0m\u001b[0mjoin\u001b[0m\u001b[0;34m(\u001b[0m\u001b[0;34m'/home'\u001b[0m\u001b[0;34m,\u001b[0m\u001b[0;34m'romain'\u001b[0m\u001b[0;34m,\u001b[0m\u001b[0;34m'Téléchargements'\u001b[0m\u001b[0;34m,\u001b[0m\u001b[0;34m'wmql_example_dataset'\u001b[0m\u001b[0;34m,\u001b[0m\u001b[0;34m'MNI152_wmparc_1mm_small.nii.gz'\u001b[0m\u001b[0;34m)\u001b[0m\u001b[0;34m)\u001b[0m\u001b[0;34m\u001b[0m\u001b[0;34m\u001b[0m\u001b[0m\n\u001b[0m\u001b[1;32m      2\u001b[0m \u001b[0mbundleTRK\u001b[0m\u001b[0;34m.\u001b[0m\u001b[0mis_bbox_in_vox_valid\u001b[0m\u001b[0;34m(\u001b[0m\u001b[0;34m)\u001b[0m\u001b[0;34m\u001b[0m\u001b[0;34m\u001b[0m\u001b[0m\n",
      "\u001b[0;32m~/.local/lib/python3.7/site-packages/dipy/io/streamline.py\u001b[0m in \u001b[0;36mload_tractogram\u001b[0;34m(filename, reference, to_space, to_origin, bbox_valid_check, trk_header_check)\u001b[0m\n\u001b[1;32m    166\u001b[0m \u001b[0;34m\u001b[0m\u001b[0m\n\u001b[1;32m    167\u001b[0m     \u001b[0;32mif\u001b[0m \u001b[0mbbox_valid_check\u001b[0m \u001b[0;32mand\u001b[0m \u001b[0;32mnot\u001b[0m \u001b[0msft\u001b[0m\u001b[0;34m.\u001b[0m\u001b[0mis_bbox_in_vox_valid\u001b[0m\u001b[0;34m(\u001b[0m\u001b[0;34m)\u001b[0m\u001b[0;34m:\u001b[0m\u001b[0;34m\u001b[0m\u001b[0;34m\u001b[0m\u001b[0m\n\u001b[0;32m--> 168\u001b[0;31m         raise ValueError('Bounding box is not valid in voxel space, cannot '\n\u001b[0m\u001b[1;32m    169\u001b[0m                          \u001b[0;34m'load a valid file if some coordinates are invalid.'\u001b[0m\u001b[0;34m\u001b[0m\u001b[0;34m\u001b[0m\u001b[0m\n\u001b[1;32m    170\u001b[0m                          \u001b[0;34m'Please set bbox_valid_check to False and then use'\u001b[0m\u001b[0;34m\u001b[0m\u001b[0;34m\u001b[0m\u001b[0m\n",
      "\u001b[0;31mValueError\u001b[0m: Bounding box is not valid in voxel space, cannot load a valid file if some coordinates are invalid.Please set bbox_valid_check to False and then usethe function remove_invalid_streamlines to discardinvalid streamlines."
     ]
    }
   ],
   "source": [
    "bundleTRK=streamline.load_tractogram(os.path.join('/home','romain','Téléchargements','wmql_example_dataset','IIT2mean.trk'),os.path.join('/home','romain','Téléchargements','wmql_example_dataset','MNI152_wmparc_1mm_small.nii.gz'))\n",
    "bundleTRK.is_bbox_in_vox_valid()"
   ]
  },
  {
   "cell_type": "code",
   "execution_count": 174,
   "metadata": {},
   "outputs": [],
   "source": [
    "from nibabel.streamlines import Field\n",
    "from dipy.io import utils"
   ]
  },
  {
   "cell_type": "code",
   "execution_count": 129,
   "metadata": {},
   "outputs": [
    {
     "name": "stdout",
     "output_type": "stream",
     "text": [
      "[[   1.6666698    0.           0.        -125.75322  ]\n",
      " [   0.           1.6666698    0.        -101.71911  ]\n",
      " [   0.           0.           2.         -53.916805 ]\n",
      " [   0.           0.           0.           1.       ]] [144 144  81] [1.66667 1.66667 2.     ] RAS\n"
     ]
    }
   ],
   "source": [
    "affine_1, dimensions_1, voxel_sizes_1, voxel_order_1 = utils.get_reference_info(os.path.join(LONG_STUDY_PATH,'smallerSIFT_200k.trk'))\n",
    "print(affine_1, dimensions_1, voxel_sizes_1, voxel_order_1)"
   ]
  },
  {
   "cell_type": "code",
   "execution_count": 118,
   "metadata": {},
   "outputs": [
    {
     "name": "stdout",
     "output_type": "stream",
     "text": [
      "[[   1.6666698    0.           0.        -125.75322  ]\n",
      " [   0.           1.6666698    0.        -101.71911  ]\n",
      " [   0.           0.           2.         -53.916805 ]\n",
      " [   0.           0.           0.           1.       ]] [144 144  81] [1.66667 1.66667 2.     ] RAS\n"
     ]
    }
   ],
   "source": [
    "affine_1, dimensions_1, voxel_sizes_1, voxel_order_1 = utils.get_reference_info(os.path.join(LONG_STUDY_PATH,'mean_b0_preprocessed_re.nii.gz'))\n",
    "print(affine_1, dimensions_1, voxel_sizes_1, voxel_order_1)"
   ]
  },
  {
   "cell_type": "code",
   "execution_count": 128,
   "metadata": {},
   "outputs": [
    {
     "name": "stdout",
     "output_type": "stream",
     "text": [
      "[[   1.66667    0.         0.      -125.75322]\n",
      " [   0.         1.66667    0.      -101.71911]\n",
      " [   0.         0.         2.       -53.91681]\n",
      " [   0.         0.         0.         1.     ]] [144 144  81] [1.66667 1.66667 2.     ] RAS\n"
     ]
    }
   ],
   "source": [
    "affine_1, dimensions_1, voxel_sizes_1, voxel_order_1 = utils.get_reference_info(os.path.join(LONG_STUDY_PATH,'aparc.a2009s+aseg_coreg_re_rl.nii.gz'))\n",
    "print(affine_1, dimensions_1, voxel_sizes_1, voxel_order_1)"
   ]
  },
  {
   "cell_type": "code",
   "execution_count": 126,
   "metadata": {},
   "outputs": [
    {
     "name": "stdout",
     "output_type": "stream",
     "text": [
      "[[  -1.    0.    0.   90.]\n",
      " [   0.    1.    0. -126.]\n",
      " [   0.    0.    1.  -72.]\n",
      " [   0.    0.    0.    1.]] [182 218 182] [1. 1. 1.] LAS\n"
     ]
    }
   ],
   "source": [
    "affine_1, dimensions_1, voxel_sizes_1, voxel_order_1 = utils.get_reference_info(os.path.join('/home','romain','Téléchargements','wmql_example_dataset','MNI152_wmparc_1mm_small.nii.gz'))\n",
    "print(affine_1, dimensions_1, voxel_sizes_1, voxel_order_1)"
   ]
  },
  {
   "cell_type": "code",
   "execution_count": 127,
   "metadata": {},
   "outputs": [
    {
     "name": "stdout",
     "output_type": "stream",
     "text": [
      "[[  -1.    0.    0.   90.]\n",
      " [   0.    1.    0. -126.]\n",
      " [   0.    0.    1.  -72.]\n",
      " [   0.    0.    0.    1.]] [182 218 182] [1. 1. 1.] LAS\n"
     ]
    }
   ],
   "source": [
    "affine_1, dimensions_1, voxel_sizes_1, voxel_order_1 = utils.get_reference_info(os.path.join('/home','romain','Téléchargements','wmql_example_dataset','IIT2mean.trk'))\n",
    "print(affine_1, dimensions_1, voxel_sizes_1, voxel_order_1)"
   ]
  },
  {
   "cell_type": "code",
   "execution_count": 132,
   "metadata": {
    "collapsed": true,
    "jupyter": {
     "outputs_hidden": true
    }
   },
   "outputs": [
    {
     "name": "stderr",
     "output_type": "stream",
     "text": [
      "ERROR:StatefulTractogram:Voxel space values lower than 0.0\n"
     ]
    },
    {
     "ename": "ValueError",
     "evalue": "Bounding box is not valid in voxel space, cannot load a valid file if some coordinates are invalid.Please set bbox_valid_check to False and then usethe function remove_invalid_streamlines to discardinvalid streamlines.",
     "output_type": "error",
     "traceback": [
      "\u001b[0;31m---------------------------------------------------------------------------\u001b[0m",
      "\u001b[0;31mValueError\u001b[0m                                Traceback (most recent call last)",
      "\u001b[0;32m<ipython-input-132-57f33f7c3779>\u001b[0m in \u001b[0;36m<module>\u001b[0;34m\u001b[0m\n\u001b[0;32m----> 1\u001b[0;31m \u001b[0mtest3\u001b[0m\u001b[0;34m=\u001b[0m\u001b[0mload_trk\u001b[0m\u001b[0;34m(\u001b[0m\u001b[0mos\u001b[0m\u001b[0;34m.\u001b[0m\u001b[0mpath\u001b[0m\u001b[0;34m.\u001b[0m\u001b[0mjoin\u001b[0m\u001b[0;34m(\u001b[0m\u001b[0;34m'/home'\u001b[0m\u001b[0;34m,\u001b[0m\u001b[0;34m'romain'\u001b[0m\u001b[0;34m,\u001b[0m\u001b[0;34m'Téléchargements'\u001b[0m\u001b[0;34m,\u001b[0m\u001b[0;34m'wmql_example_dataset'\u001b[0m\u001b[0;34m,\u001b[0m\u001b[0;34m'IIT2mean.trk'\u001b[0m\u001b[0;34m)\u001b[0m\u001b[0;34m,\u001b[0m\u001b[0mos\u001b[0m\u001b[0;34m.\u001b[0m\u001b[0mpath\u001b[0m\u001b[0;34m.\u001b[0m\u001b[0mjoin\u001b[0m\u001b[0;34m(\u001b[0m\u001b[0;34m'/home'\u001b[0m\u001b[0;34m,\u001b[0m\u001b[0;34m'romain'\u001b[0m\u001b[0;34m,\u001b[0m\u001b[0;34m'Téléchargements'\u001b[0m\u001b[0;34m,\u001b[0m\u001b[0;34m'wmql_example_dataset'\u001b[0m\u001b[0;34m,\u001b[0m\u001b[0;34m'MNI152_wmparc_1mm_small.nii.gz'\u001b[0m\u001b[0;34m)\u001b[0m\u001b[0;34m)\u001b[0m\u001b[0;34m\u001b[0m\u001b[0;34m\u001b[0m\u001b[0m\n\u001b[0m",
      "\u001b[0;32m~/.local/lib/python3.7/site-packages/dipy/io/streamline.py\u001b[0m in \u001b[0;36mf_gen\u001b[0;34m(filename, reference, to_space, to_origin, bbox_valid_check, trk_header_check)\u001b[0m\n\u001b[1;32m    200\u001b[0m                               \u001b[0mto_origin\u001b[0m\u001b[0;34m=\u001b[0m\u001b[0mto_origin\u001b[0m\u001b[0;34m,\u001b[0m\u001b[0;34m\u001b[0m\u001b[0;34m\u001b[0m\u001b[0m\n\u001b[1;32m    201\u001b[0m                               \u001b[0mbbox_valid_check\u001b[0m\u001b[0;34m=\u001b[0m\u001b[0mbbox_valid_check\u001b[0m\u001b[0;34m,\u001b[0m\u001b[0;34m\u001b[0m\u001b[0;34m\u001b[0m\u001b[0m\n\u001b[0;32m--> 202\u001b[0;31m                               trk_header_check=trk_header_check)\n\u001b[0m\u001b[1;32m    203\u001b[0m         \u001b[0;32mreturn\u001b[0m \u001b[0msft\u001b[0m\u001b[0;34m\u001b[0m\u001b[0;34m\u001b[0m\u001b[0m\n\u001b[1;32m    204\u001b[0m \u001b[0;34m\u001b[0m\u001b[0m\n",
      "\u001b[0;32m~/.local/lib/python3.7/site-packages/dipy/io/streamline.py\u001b[0m in \u001b[0;36mload_tractogram\u001b[0;34m(filename, reference, to_space, to_origin, bbox_valid_check, trk_header_check)\u001b[0m\n\u001b[1;32m    166\u001b[0m \u001b[0;34m\u001b[0m\u001b[0m\n\u001b[1;32m    167\u001b[0m     \u001b[0;32mif\u001b[0m \u001b[0mbbox_valid_check\u001b[0m \u001b[0;32mand\u001b[0m \u001b[0;32mnot\u001b[0m \u001b[0msft\u001b[0m\u001b[0;34m.\u001b[0m\u001b[0mis_bbox_in_vox_valid\u001b[0m\u001b[0;34m(\u001b[0m\u001b[0;34m)\u001b[0m\u001b[0;34m:\u001b[0m\u001b[0;34m\u001b[0m\u001b[0;34m\u001b[0m\u001b[0m\n\u001b[0;32m--> 168\u001b[0;31m         raise ValueError('Bounding box is not valid in voxel space, cannot '\n\u001b[0m\u001b[1;32m    169\u001b[0m                          \u001b[0;34m'load a valid file if some coordinates are invalid.'\u001b[0m\u001b[0;34m\u001b[0m\u001b[0;34m\u001b[0m\u001b[0m\n\u001b[1;32m    170\u001b[0m                          \u001b[0;34m'Please set bbox_valid_check to False and then use'\u001b[0m\u001b[0;34m\u001b[0m\u001b[0;34m\u001b[0m\u001b[0m\n",
      "\u001b[0;31mValueError\u001b[0m: Bounding box is not valid in voxel space, cannot load a valid file if some coordinates are invalid.Please set bbox_valid_check to False and then usethe function remove_invalid_streamlines to discardinvalid streamlines."
     ]
    }
   ],
   "source": [
    "test3=load_trk(os.path.join('/home','romain','Téléchargements','wmql_example_dataset','IIT2mean.trk'),os.path.join('/home','romain','Téléchargements','wmql_example_dataset','MNI152_wmparc_1mm_small.nii.gz'))"
   ]
  }
 ],
 "metadata": {
  "kernelspec": {
   "display_name": "Python 3",
   "language": "python",
   "name": "python3"
  },
  "language_info": {
   "codemirror_mode": {
    "name": "ipython",
    "version": 3
   },
   "file_extension": ".py",
   "mimetype": "text/x-python",
   "name": "python",
   "nbconvert_exporter": "python",
   "pygments_lexer": "ipython3",
   "version": "3.7.6"
  }
 },
 "nbformat": 4,
 "nbformat_minor": 4
}
