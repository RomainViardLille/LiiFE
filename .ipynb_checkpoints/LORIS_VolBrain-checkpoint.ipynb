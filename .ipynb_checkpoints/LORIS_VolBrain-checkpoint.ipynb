{
 "cells": [
  {
   "cell_type": "code",
   "execution_count": 3,
   "id": "61563ac6-2dff-4c5b-b7b0-d36b72415bf3",
   "metadata": {},
   "outputs": [],
   "source": [
    "from selenium import webdriver\n",
    "from selenium.webdriver.common.keys import Keys\n",
    "from selenium.webdriver.firefox.options import Options\n",
    "from selenium.webdriver import Firefox\n",
    "from selenium.webdriver.support.ui import WebDriverWait\n",
    "import os,sys,datetime,random,re\n",
    "from collections import OrderedDict\n",
    "import csv\n",
    "import itertools\n",
    "import time\n",
    "from shutil import copyfile\n",
    "import glob\n",
    "import pandas as pd \n",
    "import urllib3\n",
    "import requests\n",
    "from clint.textui import progress\n",
    "import import_ipynb"
   ]
  },
  {
   "cell_type": "code",
   "execution_count": 4,
   "id": "892f2f39-4371-4cd8-bab5-e2fb32a441c1",
   "metadata": {},
   "outputs": [],
   "source": [
    "STUDY_PATH=os.path.join('/NAS','dumbo','protocoles','PRE-AD_LORIS_MCGILL')"
   ]
  },
  {
   "cell_type": "code",
   "execution_count": 5,
   "id": "9426b3d3-fb1a-4e54-982e-2fe2f45a43c9",
   "metadata": {},
   "outputs": [],
   "source": [
    "myDict = {\"romain.viard@chru-lille.fr\":\"romainviardchru\",\n",
    "          \"a.viard@outlook.fr\":\"aviardoutlook\",\n",
    "          \"j.viard@outlook.fr\":\"jviardoutlook\",\n",
    "          \"romain_viard@yahoo.fr\":\"xIO52ts0UWm5\",\n",
    "          \"juliette.mitjans@yahoo.fr\":\"mdpvolbrain\",\n",
    "          \"rhumun@gmail.com\":\"EYyS9kx1UhWo\",\n",
    "          \"renaud.lopes@gmail.com\":\"Ci2c@chru\",\n",
    "          \"clement.bne@gmail.com\":\"ci2clille\",\n",
    "          \"quentinvannodmichel@gmail.com\":\"p53q37rst\",\n",
    "          \"gregkuch@msn.com\":\"greg2004\",\n",
    "          \"e_nedeva@hotmail.com\":\"VolbrainMdp\",\n",
    "          \"jbdavion@hotmail.fr\":\"neuro2309\",\n",
    "          \"mo.gautherot@laposte.net\":\"neuromorgan\",\n",
    "          \"gautherotmorgan0@gmail.com\":\"neuromorgan\",\n",
    "          \"morgan.gautherot.consulting@gmail.com\":\"neuromorgan\",\n",
    "          \"meetup.data.lille@gmail.com\":\"neuromorgan\",\n",
    "          \"ai4you.official@gmail.com\":\"neuromorgan\",\n",
    "          \"hugodeprojetmj@gmail.com\":\"neuromorgan\",\n",
    "          \"morgan.gautherot@univ-lille.fr\":\"neuromorgan\",\n",
    "          \"neuro.volbrain1@gmail.com\":\"neuromorgan\",\n",
    "          \"neuro.volbrain2@gmail.com\":\"neuromorgan\",\n",
    "          \"the-loulmas@hotmail.fr\":\"neuromorgan\",\n",
    "          \"ancelin95@hotmail.fr\":\"neuromorgan\",\n",
    "          \"vincentroca9@gmail.com\":\"neuromorgan\",\n",
    "          \"helice_fr@hotmail.fr\":\"neuromorgan\"}\n",
    "myDictSorted=OrderedDict(sorted(myDict.items(), key=lambda t: t[0],reverse=True))"
   ]
  },
  {
   "cell_type": "code",
   "execution_count": 16,
   "id": "cc44af97-a570-42f7-961a-c5dd42cc158e",
   "metadata": {
    "tags": []
   },
   "outputs": [
    {
     "name": "stdout",
     "output_type": "stream",
     "text": [
      "241\n",
      "vincentroca9@gmail.com\n",
      "241\n"
     ]
    },
    {
     "name": "stderr",
     "output_type": "stream",
     "text": [
      "/home/global/anaconda37/lib/python3.7/site-packages/ipykernel_launcher.py:23: DeprecationWarning: use options instead of firefox_options\n"
     ]
    },
    {
     "name": "stdout",
     "output_type": "stream",
     "text": [
      "0\n",
      "sub-5526728\n",
      "the-loulmas@hotmail.fr\n",
      "251\n"
     ]
    },
    {
     "name": "stderr",
     "output_type": "stream",
     "text": [
      "/home/global/anaconda37/lib/python3.7/site-packages/ipykernel_launcher.py:23: DeprecationWarning: use options instead of firefox_options\n"
     ]
    },
    {
     "name": "stdout",
     "output_type": "stream",
     "text": [
      "0\n",
      "sub-6270973\n",
      "252\n",
      "the-loulmas@hotmail.fr\n",
      "/NAS/dumbo/protocoles/PRE-AD_LORIS_MCGILL/bids/sub-7863867/ses-PREEN00/anat/sub-7863867_ses-PREEN00_run-001_T1w.nii.gz\n",
      "/NAS/dumbo/protocoles/PRE-AD_LORIS_MCGILL/volbrain/sub_7863867_vb.nii.gz\n",
      "255\n",
      "the-loulmas@hotmail.fr\n",
      "/NAS/dumbo/protocoles/PRE-AD_LORIS_MCGILL/bids/sub-3663941/ses-PREEN00/anat/sub-3663941_ses-PREEN00_run-001_T1w.nii.gz\n",
      "/NAS/dumbo/protocoles/PRE-AD_LORIS_MCGILL/volbrain/sub_3663941_vb.nii.gz\n",
      "romain_viard@yahoo.fr\n",
      "261\n"
     ]
    },
    {
     "name": "stderr",
     "output_type": "stream",
     "text": [
      "/home/global/anaconda37/lib/python3.7/site-packages/ipykernel_launcher.py:23: DeprecationWarning: use options instead of firefox_options\n"
     ]
    },
    {
     "name": "stdout",
     "output_type": "stream",
     "text": [
      "0\n",
      "sub-9142946\n",
      "romain.viard@chru-lille.fr\n",
      "271\n"
     ]
    },
    {
     "name": "stderr",
     "output_type": "stream",
     "text": [
      "/home/global/anaconda37/lib/python3.7/site-packages/ipykernel_launcher.py:23: DeprecationWarning: use options instead of firefox_options\n"
     ]
    },
    {
     "name": "stdout",
     "output_type": "stream",
     "text": [
      "0\n",
      "sub-9678578\n",
      "275\n",
      "romain.viard@chru-lille.fr\n",
      "/NAS/dumbo/protocoles/PRE-AD_LORIS_MCGILL/bids/sub-3730353/ses-PREEN00/anat/sub-3730353_ses-PREEN00_run-001_T1w.nii.gz\n",
      "/NAS/dumbo/protocoles/PRE-AD_LORIS_MCGILL/volbrain/sub_3730353_vb.nii.gz\n",
      "rhumun@gmail.com\n",
      "281\n"
     ]
    },
    {
     "name": "stderr",
     "output_type": "stream",
     "text": [
      "/home/global/anaconda37/lib/python3.7/site-packages/ipykernel_launcher.py:23: DeprecationWarning: use options instead of firefox_options\n"
     ]
    },
    {
     "name": "stdout",
     "output_type": "stream",
     "text": [
      "1\n",
      "sub-2245781\n",
      "renaud.lopes@gmail.com\n",
      "290\n"
     ]
    },
    {
     "name": "stderr",
     "output_type": "stream",
     "text": [
      "/home/global/anaconda37/lib/python3.7/site-packages/ipykernel_launcher.py:23: DeprecationWarning: use options instead of firefox_options\n"
     ]
    },
    {
     "name": "stdout",
     "output_type": "stream",
     "text": [
      "0\n",
      "sub-6949554\n",
      "quentinvannodmichel@gmail.com\n",
      "300\n"
     ]
    },
    {
     "name": "stderr",
     "output_type": "stream",
     "text": [
      "/home/global/anaconda37/lib/python3.7/site-packages/ipykernel_launcher.py:23: DeprecationWarning: use options instead of firefox_options\n"
     ]
    },
    {
     "name": "stdout",
     "output_type": "stream",
     "text": [
      "1\n",
      "sub-8831117\n",
      "neuro.volbrain2@gmail.com\n",
      "309\n"
     ]
    },
    {
     "name": "stderr",
     "output_type": "stream",
     "text": [
      "/home/global/anaconda37/lib/python3.7/site-packages/ipykernel_launcher.py:23: DeprecationWarning: use options instead of firefox_options\n"
     ]
    },
    {
     "name": "stdout",
     "output_type": "stream",
     "text": [
      "1\n"
     ]
    },
    {
     "ename": "IndexError",
     "evalue": "list index out of range",
     "output_type": "error",
     "traceback": [
      "\u001b[0;31m---------------------------------------------------------------------------\u001b[0m",
      "\u001b[0;31mIndexError\u001b[0m                                Traceback (most recent call last)",
      "\u001b[0;32m<ipython-input-16-9a050b0a1404>\u001b[0m in \u001b[0;36m<module>\u001b[0;34m\u001b[0m\n\u001b[1;32m     37\u001b[0m         \u001b[0mdeb\u001b[0m \u001b[0;34m+=\u001b[0m \u001b[0;36m1\u001b[0m\u001b[0;34m\u001b[0m\u001b[0;34m\u001b[0m\u001b[0m\n\u001b[1;32m     38\u001b[0m     \u001b[0mprint\u001b[0m\u001b[0;34m(\u001b[0m\u001b[0mdeb\u001b[0m\u001b[0;34m)\u001b[0m\u001b[0;34m\u001b[0m\u001b[0;34m\u001b[0m\u001b[0m\n\u001b[0;32m---> 39\u001b[0;31m     \u001b[0mprint\u001b[0m\u001b[0;34m(\u001b[0m\u001b[0mdata\u001b[0m\u001b[0;34m[\u001b[0m\u001b[0mnumPat\u001b[0m\u001b[0;34m]\u001b[0m\u001b[0;34m[\u001b[0m\u001b[0;36m0\u001b[0m\u001b[0;34m]\u001b[0m\u001b[0;34m)\u001b[0m\u001b[0;34m\u001b[0m\u001b[0;34m\u001b[0m\u001b[0m\n\u001b[0m\u001b[1;32m     40\u001b[0m     \u001b[0;32mfor\u001b[0m \u001b[0mcpt\u001b[0m \u001b[0;32min\u001b[0m \u001b[0mrange\u001b[0m\u001b[0;34m(\u001b[0m\u001b[0mdeb\u001b[0m\u001b[0;34m,\u001b[0m\u001b[0;36m10\u001b[0m\u001b[0;34m)\u001b[0m\u001b[0;34m:\u001b[0m\u001b[0;34m\u001b[0m\u001b[0;34m\u001b[0m\u001b[0m\n\u001b[1;32m     41\u001b[0m         \u001b[0;32mif\u001b[0m \u001b[0;32mTrue\u001b[0m \u001b[0;34m:\u001b[0m \u001b[0;31m#numPat < 1 :\u001b[0m\u001b[0;34m\u001b[0m\u001b[0;34m\u001b[0m\u001b[0m\n",
      "\u001b[0;31mIndexError\u001b[0m: list index out of range"
     ]
    }
   ],
   "source": [
    "ladate=datetime.datetime.today().strftime('%Y-%m-%d')\n",
    "\n",
    "fh = open(os.path.join(STUDY_PATH,'bids','participants.tsv'))\n",
    "reader = csv.reader(fh, delimiter = '\\t')\n",
    "data = [v for v in itertools.islice(reader,0, None)]\n",
    "\n",
    "inputFile = open(os.path.join(STUDY_PATH,'bids','nbPat.txt'))\n",
    "numPat = int(inputFile.readline())\n",
    "inputFile.close()\n",
    "print(numPat)\n",
    "\n",
    "#for eval_order in range(0,len(myDictSorted)) :\n",
    "for cle,valeur in myDictSorted.items():    \n",
    "#    if numPat > 1 :\n",
    "#        break\n",
    "#    cle=\"rhumun@gmail.com\"\n",
    "#    valeur=\"EYyS9kx1UhWo\"\n",
    "    print(cle)\n",
    "    print(numPat)\n",
    "    \n",
    "    options = Options()\n",
    "    options.add_argument(\"--headless\")\n",
    "    driver = Firefox(firefox_options=options)\n",
    "    driver.get(\"http://volbrain.upv.es/index.php\")\n",
    "    elem = driver.find_element_by_name(\"email\")\n",
    "    elem.send_keys(cle)\n",
    "    elem = driver.find_element_by_name(\"password\")\n",
    "    elem.send_keys(valeur)\n",
    "    elem = driver.find_element_by_name(\"sub\")\n",
    "    elem.click()   \n",
    "    \n",
    "    elem = driver.find_element_by_name(\"job_list\")\n",
    "    html_tab_vol_brain=elem.get_attribute('innerHTML')\n",
    "    txt_tab_vol_brain=elem.text\n",
    "    deb=0\n",
    "    for m in re.finditer(\" \"+str(ladate)+\" \",txt_tab_vol_brain):\n",
    "        deb += 1\n",
    "    print(deb)    \n",
    "    print(data[numPat][0])\n",
    "    for cpt in range(deb,10): \n",
    "        if True : #numPat < 1 :        \n",
    "            PT_PATH=os.path.join(STUDY_PATH,'bids',data[numPat][0],'ses-PREEN00','anat')\n",
    "            T1_filenameFS=os.path.join(PT_PATH,data[numPat][0]+'''_ses-PREEN00_run-001_T1w.nii.gz''')\n",
    "            if os.path.exists(T1_filenameFS) :\n",
    "                #print(T1_filenameFS)\n",
    "\n",
    "                #while  ( (len(glob.glob(STUDY_PATH+'''data\\\\volbrain\\\\'''+data[numPat][0]+'*')) > 0 ) or not (os.path.isfile(T1_filenameFS)) ): \n",
    "                #    if numPat > 1 :\n",
    "                #        break\n",
    "                #    numPat=numPat+1\n",
    "                #    print(numPat)\n",
    "                #    PT_PATH=os.path.join(STUDY_PATH,data[numPat][0],'ses-PREEN00','anat')\n",
    "                #   T1_filenameFS=os.path.join(PT_PATH,data[numPat][0]+'''_ses-PREEN00_run-001_T1w.nii.gz''')\n",
    "\n",
    "                #if numPat > 1 :\n",
    "                #    break\n",
    "\n",
    "                T1_filenameR = os.path.join(STUDY_PATH,'volbrain',data[numPat][0]+'''_vb.nii.gz''')\n",
    "                T1_filenameR=T1_filenameR.replace(\"sub-\",\"sub_\")\n",
    "                if not os.path.exists(T1_filenameR) :\n",
    "                    copyfile(T1_filenameFS,T1_filenameR)            \n",
    "                    #age = data[numPat][2] \n",
    "                    #sexe = data[numPat][1] \n",
    "                    time.sleep(2)\n",
    "                    elem = driver.find_element_by_id(\"pipeline1\")\n",
    "                    elem.click()\n",
    "                    elem = driver.find_element_by_name(\"volbrain_t1_file\")\n",
    "                    elem.send_keys(T1_filenameR)\n",
    "                    #elem = driver.find_element_by_name(\"volbrain_patientssex\")\n",
    "                    #elem.send_keys(sexe)\n",
    "                    #elem = driver.find_element_by_name(\"volbrain_patientsage\")\n",
    "                    #elem.send_keys(age)\n",
    "                    elem = driver.find_element_by_name(\"button_volbrain\")\n",
    "                    elem.click()\n",
    "                    time.sleep(120)\n",
    "\n",
    "                    print(numPat)\n",
    "                    print(cle)\n",
    "                    print(T1_filenameFS)\n",
    "                    print(T1_filenameR)\n",
    "\n",
    "                    outputFile = open(os.path.join(STUDY_PATH,'bids','nbPat.txt'),'w')\n",
    "                    outputFile.write(str(numPat));\n",
    "                    outputFile.close()\n",
    "                else :\n",
    "                    #print(\"already proceed\")\n",
    "                    cpt=cpt-1\n",
    "            else : \n",
    "                #print(\"don't exist\")\n",
    "                cpt=cpt-1\n",
    "            numPat=numPat+1\n",
    "            \n",
    "    driver.stop_client()       "
   ]
  },
  {
   "cell_type": "code",
   "execution_count": 7,
   "id": "72badffb-8a2d-40b7-a960-9ba3e84474bc",
   "metadata": {},
   "outputs": [
    {
     "name": "stdout",
     "output_type": "stream",
     "text": [
      "2021-06-18\n",
      "2021-06-18\n",
      "2021-06-18\n",
      "2021-06-18\n",
      "2021-06-18\n",
      "2021-06-18\n",
      "2021-06-18\n",
      "2021-06-18\n",
      "2021-06-18\n",
      "2021-06-18\n",
      "2021-06-18\n",
      "2021-06-18\n",
      "2021-06-18\n",
      "2021-06-18\n",
      "2021-06-18\n",
      "2021-06-18\n",
      "2021-06-18\n",
      "2021-06-18\n",
      "2021-06-18\n",
      "2021-06-18\n",
      "2021-06-18\n",
      "2021-06-18\n",
      "2021-06-18\n",
      "2021-06-18\n",
      "2021-06-18\n"
     ]
    }
   ],
   "source": [
    "for cle,valeur in myDictSorted.items():\n",
    "    getProceedTask(cle,valeur)"
   ]
  },
  {
   "cell_type": "code",
   "execution_count": 6,
   "id": "a467e056-dff0-4c00-a4a9-9d3ce9043b9c",
   "metadata": {},
   "outputs": [],
   "source": [
    "def getProceedTask(idvb,pwd):\n",
    "    ladate=datetime.datetime.today().strftime('%Y-%m-%d')\n",
    "    #print(ladate)\n",
    "    ladate=\"180621\"\n",
    "    print(ladate)\n",
    "    options = Options()\n",
    "    options.headless = True\n",
    "    driver = Firefox(options=options)\n",
    "    driver.implicitly_wait(15)\n",
    "    #WebDriverWait(driver, timeout=5).until(document_initialised)\n",
    "    driver.get(\"http://volbrain.upv.es/index.php\")\n",
    "    elem = driver.find_element_by_name(\"email\")\n",
    "    elem.send_keys(idvb)\n",
    "    elem = driver.find_element_by_name(\"password\")\n",
    "    elem.send_keys(pwd)\n",
    "    elem = driver.find_element_by_name(\"sub\")\n",
    "    elem.click()   \n",
    "    elem = driver.find_element_by_name(\"job_list\")\n",
    "    html_tab_vol_brain=elem.get_attribute('innerHTML')\n",
    "    txt_tab_vol_brain=elem.text\n",
    "    \n",
    "    for n in range(2,6,1):\n",
    "        driver.execute_script(\"loadJobList(\"+str(n)+\")\")\n",
    "        elem = driver.find_element_by_name(\"job_list\")\n",
    "        html_tab_vol_brain=html_tab_vol_brain+elem.get_attribute('innerHTML')\n",
    "        txt_tab_vol_brain=txt_tab_vol_brain+elem.text\n",
    "\n",
    "    #print(html_tab_vol_brain)\n",
    "    \n",
    "    regex=\"https:\\/\\/files.volbrain.upv.es.{1,50}?\"+str(ladate)+\".{1,10}?zip\"\n",
    "   \n",
    "    #for m in re.finditer(\" \"+str(ladate)+\" \",txt_tab_vol_brain):\n",
    "    #    deb -= 1\n",
    "        \n",
    "    for it in re.finditer(regex,html_tab_vol_brain) :\n",
    "        mystr=html_tab_vol_brain[it.start():it.end()]        \n",
    "        filepath=os.path.join(STUDY_PATH,'volbrain',mystr[30:])\n",
    "        if not os.path.isfile(filepath) :\n",
    "            print(mystr)\n",
    "            attempts = 0\n",
    "            while attempts < 3:\n",
    "                try:\n",
    "                    #response = urllib3.urlopen(mystr, timeout = 5)\n",
    "                    #content = response.read()\n",
    "                    \n",
    "                    #http = urllib3.PoolManager(timeout=10.0)\n",
    "                    #r = http.request('GET', mystr, retries=10)                   \n",
    "                    \n",
    "                    #f = open(filepath, 'w' )\n",
    "                    #f.write( \"coucou\" )\n",
    "                    #f.close() \n",
    "                    \n",
    "                    r = requests.get(mystr, stream=True)\n",
    "                    with open(filepath, 'wb') as f:\n",
    "                        total_length = int(r.headers.get('content-length'))\n",
    "                        for chunk in progress.bar(r.iter_content(chunk_size=1024), expected_size=(total_length/1024) + 1): \n",
    "                            if chunk:\n",
    "                                f.write(chunk)\n",
    "                                f.flush()                                      \n",
    "                    \n",
    "                    #!wget mystr\n",
    "                    \n",
    "                    break\n",
    "                except urllib3.exceptions.NewConnectionError: #urllib3.URLError as e:\n",
    "                    attempts += 1\n",
    "                    print(type(e)) \n",
    "        \n",
    "        if os.path.isfile(os.path.join(STUDY_PATH,'volbrain',mystr[30:44])): #(mystr[30:].startswith('1') | mystr[30:].startswith('0')) :\n",
    "            #print(os.path.join(STUDY_PATH,'volbrain',mystr[30:44]))\n",
    "            os.remove(os.path.join(STUDY_PATH,'volbrain',mystr[30:44])) \n",
    "        \n",
    "    driver.stop_client()       \n",
    "    driver.close()"
   ]
  },
  {
   "cell_type": "code",
   "execution_count": null,
   "id": "ad915f44-fc87-403e-8ea3-5e05b8294a05",
   "metadata": {},
   "outputs": [],
   "source": []
  }
 ],
 "metadata": {
  "kernelspec": {
   "display_name": "Python 3",
   "language": "python",
   "name": "python3"
  },
  "language_info": {
   "codemirror_mode": {
    "name": "ipython",
    "version": 3
   },
   "file_extension": ".py",
   "mimetype": "text/x-python",
   "name": "python",
   "nbconvert_exporter": "python",
   "pygments_lexer": "ipython3",
   "version": "3.7.6"
  }
 },
 "nbformat": 4,
 "nbformat_minor": 5
}
