{
 "cells": [
  {
   "cell_type": "markdown",
   "id": "6eca314d",
   "metadata": {},
   "source": [
    "# Libraries"
   ]
  },
  {
   "cell_type": "code",
   "execution_count": 4,
   "id": "7f968397",
   "metadata": {},
   "outputs": [],
   "source": [
    "import os\n",
    "import nibabel as nib\n",
    "import numpy as np\n",
    "from scipy.ndimage import zoom\n",
    "import matplotlib.pyplot as plt\n",
    "from scipy.stats import pearsonr\n",
    "from sklearn.metrics import mutual_info_score\n",
    "import shutil\n",
    "import random"
   ]
  },
  {
   "cell_type": "markdown",
   "id": "427b2f3c",
   "metadata": {},
   "source": [
    "# Importing data"
   ]
  },
  {
   "cell_type": "code",
   "execution_count": 2,
   "id": "0c4edc23",
   "metadata": {},
   "outputs": [],
   "source": [
    "data_dir = \"/NAS/dumbo/protocoles/HAMSI/OurData4Mispel_T1Gado\""
   ]
  },
  {
   "cell_type": "markdown",
   "id": "89876252",
   "metadata": {},
   "source": [
    "# Functions"
   ]
  },
  {
   "cell_type": "code",
   "execution_count": null,
   "id": "69dc27cd",
   "metadata": {},
   "outputs": [],
   "source": [
    "def plot_combined_histogram_mask(image1_path, image2_path, mask_path, bins=50):\n",
    "    \n",
    "    image1 = nib.load(image1_path).get_fdata()\n",
    "    image2 = nib.load(image2_path).get_fdata()\n",
    "    mask = nib.load(mask_path).get_fdata()\n",
    "\n",
    "    filtered_values1 = image1[mask>0]\n",
    "    filtered_values2 = image2[mask>0]\n",
    "\n",
    "    min_value = min(np.min(filtered_values1), np.min(filtered_values2))\n",
    "    max_value = max(np.max(filtered_values1), np.max(filtered_values2))\n",
    "\n",
    "    plt.hist(filtered_values1.ravel(), bins=bins, range=(min_value, max_value), color='blue', alpha=0.5, label='Image 1')\n",
    "\n",
    "    plt.hist(filtered_values2.ravel(), bins=bins, range=(min_value, max_value), color='red', alpha=0.5, label='Image 2')\n",
    "\n",
    "    #plt.title('Combined Histogram of Image 1 and Image 2 (Values >= 0)')\n",
    "    plt.title('Combined Histogram of Image 1 and Image 2')\n",
    "    plt.grid(True)\n",
    "    \n",
    "    plt.legend()\n",
    "\n",
    "    plt.show()"
   ]
  },
  {
   "cell_type": "code",
   "execution_count": null,
   "id": "b6b41a9f",
   "metadata": {},
   "outputs": [],
   "source": [
    "def bland_altman_plot_final(data1, data2, maskfile):\n",
    "    \n",
    "    downsample_factor=25\n",
    "    \n",
    "    image1 = nib.load(data1).get_fdata()[::downsample_factor,::downsample_factor,::downsample_factor]\n",
    "    image2 = nib.load(data2).get_fdata()[::downsample_factor,::downsample_factor,::downsample_factor]\n",
    "    mask = nib.load(maskfile).get_fdata()[::downsample_factor,::downsample_factor,::downsample_factor]\n",
    "    \n",
    "    mean = (image1 + image2) / 2\n",
    "    diff = image1 - image2\n",
    "\n",
    "    mean_diff = np.mean(diff[mask>0])\n",
    "    std_diff = np.std(diff[mask>0], ddof=1)\n",
    "    lower_limit = mean_diff - 1.96 * std_diff\n",
    "    upper_limit = mean_diff + 1.96 * std_diff\n",
    "\n",
    "    plt.figure(figsize=(8, 6))\n",
    "    plt.scatter(mean[mask>0], diff[mask>0], c='b', alpha=0.5, s=30)\n",
    "    plt.axhline(mean_diff, color='red', linestyle='--', linewidth=2)\n",
    "    plt.axhline(lower_limit, color='green', linestyle='--', linewidth=1)\n",
    "    plt.axhline(upper_limit, color='green', linestyle='--', linewidth=1)\n",
    "    plt.xlabel('Moyenne des deux mesures')\n",
    "    plt.ylabel('Différence entre les mesures')\n",
    "    plt.title('Bland-Altman Plot')\n",
    "    plt.grid(True)\n",
    "\n",
    "    plt.show()\n",
    "    \n",
    "    points_within_limits = np.sum((diff[mask>0] >= lower_limit) & (diff[mask>0] <= upper_limit))\n",
    "    all_points = np.sum(mask>0)\n",
    "\n",
    "    return print(f\"Number of points within Bland-Altman limits: {points_within_limits} / {all_points}\")"
   ]
  },
  {
   "cell_type": "markdown",
   "id": "e1d66810",
   "metadata": {},
   "source": [
    "# Slicing data"
   ]
  },
  {
   "cell_type": "markdown",
   "id": "0f4b8be9",
   "metadata": {},
   "source": [
    "# Normalizing with z-score"
   ]
  },
  {
   "cell_type": "markdown",
   "id": "068fcc1d",
   "metadata": {},
   "source": [
    "# Mesure de similarité"
   ]
  },
  {
   "cell_type": "markdown",
   "id": "c2dd1c84",
   "metadata": {},
   "source": [
    "### Bland atman plot"
   ]
  },
  {
   "cell_type": "markdown",
   "id": "3b88dafa",
   "metadata": {},
   "source": [
    "### Correlation coefficent"
   ]
  },
  {
   "cell_type": "markdown",
   "id": "75922bc0",
   "metadata": {},
   "source": [
    "### Mutual information"
   ]
  },
  {
   "cell_type": "markdown",
   "id": "8d03b31f",
   "metadata": {},
   "source": [
    "# Diffusion model"
   ]
  },
  {
   "cell_type": "raw",
   "id": "acb7dcd1",
   "metadata": {},
   "source": [
    "data\n",
    "└───training\n",
    "│   └───42_1\n",
    "│       │   BL_42_slice1_BL.nii.gz\n",
    "│       │   FU_42_slice1_FU.nii.gz\n",
    "│   └───42_2\n",
    "│       │  BL_42_slice2_BL.nii.gz\n",
    "│       │  FU_42_slice2_FU.nii.gz\n",
    "│   └───42_3\n",
    "│       │  ...\n",
    "└───test\n",
    "│   └───50_test (will be transformed to target contrast using the trained model)\n",
    "│       └───50_1\n",
    "│           │   BL_50_slice1_BL.nii.gz\n",
    "│       └───50_2\n",
    "│           │   BL_50_slice2_BL.nii.gz\n",
    "│       └───50_3\n",
    "│           │  ...\n",
    "│   └───50_test_gt (only used for visualization / difference calculation)\n",
    "│       └───50_1\n",
    "│           │   FU_50_slice1_FU.nii.gz\n",
    "│       └───50_2\n",
    "│           │   FU_50_slice2_FU.nii.gz\n",
    "│       └───50_3\n",
    "│           │  ..."
   ]
  },
  {
   "cell_type": "code",
   "execution_count": null,
   "id": "1a8ed90f",
   "metadata": {},
   "outputs": [],
   "source": []
  }
 ],
 "metadata": {
  "kernelspec": {
   "display_name": "Python 3 (ipykernel)",
   "language": "python",
   "name": "python3"
  },
  "language_info": {
   "codemirror_mode": {
    "name": "ipython",
    "version": 3
   },
   "file_extension": ".py",
   "mimetype": "text/x-python",
   "name": "python",
   "nbconvert_exporter": "python",
   "pygments_lexer": "ipython3",
   "version": "3.7.6"
  }
 },
 "nbformat": 4,
 "nbformat_minor": 5
}
