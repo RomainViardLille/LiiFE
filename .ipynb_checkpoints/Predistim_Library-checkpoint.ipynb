{
 "cells": [
  {
   "cell_type": "code",
   "execution_count": 2,
   "metadata": {},
   "outputs": [],
   "source": [
    "import os\n",
    "import pandas as pd \n",
    "import numpy as np\n",
    "from sklearn.linear_model import LinearRegression\n"
   ]
  },
  {
   "cell_type": "code",
   "execution_count": 3,
   "metadata": {},
   "outputs": [],
   "source": [
    "STUDY_PATH=os.path.join(\"/NAS\",\"deathrow\",\"protocoles\",\"predistim\")\n",
    "CQ_FILE=os.path.join(STUDY_PATH,'Predistim_MRIdata_v20200406_update20201204.xlsx')\n",
    "CLI_FILE=os.path.join(STUDY_PATH,'DataCli_20210104_09122020.xlsx')\n",
    "SNP_FILE=os.path.join(STUDY_PATH,'SNPs_dosages_20201106.xlsx')\n",
    "IMA_FILE=os.path.join(STUDY_PATH,'20210105_T1_R2_QSM_Values.xlsx')\n",
    "#STUDY_PATH=os.path.join('D:','LINUX','Predistim')"
   ]
  },
  {
   "cell_type": "code",
   "execution_count": 4,
   "metadata": {},
   "outputs": [],
   "source": [
    "def getCQT1AndMultiTE(ptID):\n",
    "    retT1=-1;retT2=-1\n",
    "    CQData = pd.read_excel(CQ_FILE,index_col=0,engine='openpyxl')\n",
    "    if ptID in CQData.index :\n",
    "        if not np.isnan(CQData['QC_3DT1'][ptID]) : retT1=CQData['QC_3DT1'][ptID]\n",
    "        if not np.isnan(CQData['QC_3DMULTI'][ptID]) : retT2=CQData['QC_3DMULTI'][ptID]\n",
    "    return retT1,retT2 "
   ]
  },
  {
   "cell_type": "code",
   "execution_count": 5,
   "metadata": {},
   "outputs": [],
   "source": [
    "def getAgeAndSexe(ptID):    \n",
    "    age=-1;sexe=-1\n",
    "    ClinicalData = pd.read_excel(CLI_FILE,index_col=0)\n",
    "    if ptID in ClinicalData.index :\n",
    "        if not np.isnan(ClinicalData['Age'][ptID]) : age=ClinicalData['Age'][ptID]\n",
    "        if not np.isnan(ClinicalData['Sexe'][ptID]) : sexe=ClinicalData['Sexe'][ptID]\n",
    "    return age,sexe"
   ]
  },
  {
   "cell_type": "code",
   "execution_count": 6,
   "metadata": {},
   "outputs": [],
   "source": [
    "def get3DT1File(ptID):\n",
    "    file_3DT1=''\n",
    "    for DIR in (['2020-12-04','2020-11-27','2020-04-15','2020-04-02','2019-11-29','2018-12-12_3dmultigre','2018-07-30_t1_segmentations']):\n",
    "        if os.path.exists(os.path.join(STUDY_PATH,DIR,ptID[0:2],ptID,'M00','mri_3dt1_t1_geo_nifti.nii.gz')) :\n",
    "            file_3DT1=os.path.join(STUDY_PATH,DIR,ptID[0:2],ptID,'M00','mri_3dt1_t1_geo_nifti.nii.gz');break\n",
    "        elif os.path.exists(os.path.join(STUDY_PATH,DIR,ptID[0:2],ptID,'M00','mri_3dt1_t1_nobias_geo_nifti.nii.gz')) :\n",
    "            file_3DT1=os.path.join(STUDY_PATH,DIR,ptID[0:2],ptID,'M00','mri_3dt1_t1_nobias_geo_nifti.nii.gz');break\n",
    "        elif os.path.exists(os.path.join(STUDY_PATH,DIR,ptID[0:2],ptID,'M00','mri_3dt1_t1_nifti.nii.gz')) :\n",
    "            file_3DT1=os.path.join(STUDY_PATH,DIR,ptID[0:2],ptID,'M00','mri_3dt1_t1_nifti.nii.gz');break\n",
    "        elif os.path.exists(os.path.join(STUDY_PATH,DIR,ptID[0:2],ptID,'M00','mri_3dt1_t1_nobias_nifti.nii.gz')) :\n",
    "            file_3DT1=os.path.join(STUDY_PATH,DIR,ptID[0:2],ptID,'M00','mri_3dt1_t1_nobias_nifti.nii.gz');break       \n",
    "        elif os.path.exists(os.path.join(STUDY_PATH,DIR,ptID[0:2],ptID,'M00','mri_3dt1_t1_unknown_geo_nifti.nii.gz')) :\n",
    "            file_3DT1=os.path.join(STUDY_PATH,DIR,ptID[0:2],ptID,'M00','mri_3dt1_t1_unknown_geo_nifti.nii.gz');break     \n",
    "        #elif os.path.exists(os.path.join(STUDY_PATH,DIR,ptID[0:2],ptID,'M00','freesurfer_nu.nii.gz')) :\n",
    "        #    file_3DT1=os.path.join(STUDY_PATH,DIR,ptID[0:2],ptID,'M00','freesurfer_nu.nii.gz');break\n",
    "        #elif os.path.exists(os.path.join(STUDY_PATH,DIR,ptID[0:2],ptID,'M00','freesurfer_nu.nii.gz')) :\n",
    "        #    file_3DT1=os.path.join(STUDY_PATH,DIR,ptID[0:2],ptID,'M00','freesurfer_nu.nii.gz');break        \n",
    "        \n",
    "    return file_3DT1"
   ]
  },
  {
   "cell_type": "code",
   "execution_count": 7,
   "metadata": {},
   "outputs": [],
   "source": [
    "def getMultiTEFile(ptID):\n",
    "    file_3DT1=''\n",
    "    for DIR in (['2020-12-04','2020-11-27','2020-04-15','2020-04-02','2019-11-29','2018-12-12_3dmultigre','2018-07-30_t1_segmentations']):    \n",
    "        if os.path.exists(os.path.join(STUDY_PATH,DIR,ptID[0:2],ptID,'M00','mri_3dmultigre_multigre_geo_nifti.nii.gz')) :\n",
    "            file_3DT1=os.path.join(STUDY_PATH,DIR,ptID[0:2],ptID,'M00','mri_3dmultigre_multigre_geo_nifti.nii.gz');break\n",
    "        elif os.path.exists(os.path.join(STUDY_PATH,DIR,ptID[0:2],ptID,'M00','mri_3dmultigre_multigre_nobias_geo_nifti.nii.gz')) :\n",
    "            file_3DT1=os.path.join(STUDY_PATH,DIR,ptID[0:2],ptID,'M00','mri_3dmultigre_multigre_nobias_geo_nifti.nii.gz');break\n",
    "        elif os.path.exists(os.path.join(STUDY_PATH,DIR,ptID[0:2],ptID,'M00','mri_3dmultigre_multigre_unknown_geo_nifti.nii.gz')) :\n",
    "            file_3DT1=os.path.join(STUDY_PATH,DIR,ptID[0:2],ptID,'M00','mri_3dmultigre_multigre_unknown_geo_nifti.nii.gz');break        \n",
    "        elif os.path.exists(os.path.join(STUDY_PATH,DIR,ptID[0:2],ptID,'M00','mri_3dmultigre_multigre_nifti.nii.gz')) :\n",
    "            file_3DT1=os.path.join(STUDY_PATH,DIR,ptID[0:2],ptID,'M00','mri_3dmultigre_multigre_nifti.nii.gz');break\n",
    "        elif os.path.exists(os.path.join(STUDY_PATH,DIR,ptID[0:2],ptID,'M00','mri_3dmultigre_multigre_nobias_nifti.nii.gz')) :\n",
    "            file_3DT1=os.path.join(STUDY_PATH,DIR,ptID[0:2],ptID,'M00','mri_3dmultigre_multigre_nobias_nifti.nii.gz');break\n",
    "        elif os.path.exists(os.path.join(STUDY_PATH,DIR,ptID[0:2],ptID,'M00','mri_3dmultigre_multigre_nobias_nifti.nii.gz')) :\n",
    "            file_3DT1=os.path.join(STUDY_PATH,DIR,ptID[0:2],ptID,'M00','mri_3dmultigre_multigre_nobias_nifti.nii.gz');break    \n",
    "\n",
    "    return file_3DT1\n",
    "#df = pd.read_csv(file_name,sep = ';"
   ]
  },
  {
   "cell_type": "code",
   "execution_count": 8,
   "metadata": {},
   "outputs": [],
   "source": [
    "def CQ(SUBJ,THRES):\n",
    "    CQT1,CQTE=getCQT1AndMultiTE(SUBJ)    \n",
    "    if int(CQT1)>int(THRES) and not os.path.exists(os.path.join(STUDY_PATH,'3DT1',SUBJ,'3DT1_'+SUBJ+'.nii.gz')):\n",
    "        print('pas de 3DT1 : ',SUBJ)\n",
    "    if int(CQT1)>int(THRES)and not os.path.exists(os.path.join(STUDY_PATH,'3DT1',SUBJ,'aparc_aseg_resliced_on_3DT1.nii.gz')):\n",
    "        print('pas de segmentation HCP/FS : ',SUBJ)\n",
    "    if int(CQT1)>int(THRES) and not os.path.exists(os.path.join(STUDY_PATH,'3DT1',SUBJ,'native_lab_'+SUBJ+'_resliced.nii.gz')):\n",
    "        print('pas de segmentation VOLBRAIN : ',SUBJ)  \n",
    "    if int(CQT1)>int(THRES) and CQTE>THRES and not os.path.exists(os.path.join(STUDY_PATH,'3DT1',SUBJ,'FLASH_RN_L_'+SUBJ+'_on3DT1.nii.gz')):\n",
    "        print('pas de segmentation atlas : ',SUBJ)                      \n",
    "    if int(CQT1)>int(THRES)and int(CQTE)>int(THRES) and not os.path.exists(os.path.join(STUDY_PATH,'R2',SUBJ,'R2_lin_3DT1.nii.gz')):\n",
    "        print('pas de carte R2 : ',SUBJ)\n",
    "    if int(CQT1)>int(THRES) and int(CQTE)>int(THRES) and (SUBJ[0:2] in ['01','06','07','08','17','19']) and not os.path.exists(os.path.join(STUDY_PATH,'QSM',SUBJ,'QSM_lin_3DT1.nii.gz')):\n",
    "        print('pas de carte QSM : ',SUBJ)"
   ]
  },
  {
   "cell_type": "code",
   "execution_count": null,
   "metadata": {},
   "outputs": [],
   "source": [
    "def unconfound(y, confound, group_data=False):\n",
    "    \"\"\"\n",
    "    This will remove the influence \"confound\" has on \"y\".\n",
    "    If the data is made up of two groups, the group label (indicating the group) must be the first column of\n",
    "    'confound'. The group label will be considered when fitting the linear model, but will not be considered when\n",
    "    calculating the residuals.\n",
    "    Args:\n",
    "        y: [samples, targets]\n",
    "        confound: [samples, confounds]\n",
    "        group_data: if the data is made up of two groups (e.g. for t-test) or is just\n",
    "                    one group (e.g. for correlation analysis)\n",
    "    Returns:\n",
    "        y_correct: [samples, targets]\n",
    "    \"\"\"\n",
    "    # Demeaning beforehand or using intercept=True has similar effect\n",
    "    #y = demean(y)\n",
    "    #confound = demean(confound)\n",
    "\n",
    "    lr = LinearRegression(fit_intercept=True).fit(confound, y)  # lr.coef_: [targets, confounds]\n",
    "    if group_data:\n",
    "        y_predicted_by_confound = lr.coef_[:, 1:] @ confound[:, 1:].T\n",
    "    else:\n",
    "        y_predicted_by_confound = lr.coef_ @ confound.T  # [targets, samples]\n",
    "    y_corrected = y.T - y_predicted_by_confound\n",
    "    return y_corrected.T  # [samples, targets]"
   ]
  }
 ],
 "metadata": {
  "kernelspec": {
   "display_name": "Python 3",
   "language": "python",
   "name": "python3"
  },
  "language_info": {
   "codemirror_mode": {
    "name": "ipython",
    "version": 3
   },
   "file_extension": ".py",
   "mimetype": "text/x-python",
   "name": "python",
   "nbconvert_exporter": "python",
   "pygments_lexer": "ipython3",
   "version": "3.7.6"
  }
 },
 "nbformat": 4,
 "nbformat_minor": 4
}
