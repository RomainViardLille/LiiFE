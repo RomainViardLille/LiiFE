{
 "cells": [
  {
   "cell_type": "code",
   "execution_count": 27,
   "id": "a0b4a98c",
   "metadata": {},
   "outputs": [],
   "source": [
    "import os\n",
    "import nibabel as nib\n",
    "import numpy as np\n",
    "import matplotlib.pyplot as plt"
   ]
  },
  {
   "cell_type": "code",
   "execution_count": 18,
   "id": "49c6656c",
   "metadata": {},
   "outputs": [],
   "source": [
    "data_dir = \"/NAS/dumbo/protocoles/HAMSI/OurData4Mispel_T1Gado/Normalized\""
   ]
  },
  {
   "cell_type": "code",
   "execution_count": 19,
   "id": "85b6f9cc",
   "metadata": {},
   "outputs": [],
   "source": [
    "patient_ids = [\"Pat8\", \"Pat9\", \"Pat11\", \"Pat13\", \"Pat14\", \"Pat15\", \"Pat16\", \"Pat17\", \"Pat19\", \"Pat21\", \"Pat23\", \"Pat24\", \"Pat25\", \"Pat27\", \"Pat29\", \"Pat30\", \"Pat31\", \"Pat32\", \"Pat33\", \"Pat34\", \"Pat35\", \"Pat36\", \"Pat38\", \"Pat40\", \"Pat41\", \"Pat42\", \"Pat44\", \"Pat46\", \"Pat47\", \"Pat48\", \"Pat49\", \"Pat50\", \"Pat51\", \"Pat52\", \"Pat54\", \"Pat57\", \"Pat58\", \"Pat62\", \"Pat68\", \"Pat76\", \"Pat77\", \"Pat79\", \"Pat80\", \"Pat81\", \"Pat83\", \"Pat86\", \"Pat87\", \"Pat88\", \"Pat90\", \"Pat91\", \"Pat92\", \"Pat93\", \"Pat94\", \"Pat95\", \"Pat99\", \"Pat100\", \"Pat101\", \"Pat102\", \"Pat103\", \"Pat104\", \"Pat105\", \"Pat107\", \"Pat109\", \"Pat112\", \"Pat113\", \"Pat114\", \"Pat115\", \"Pat116\", \"Pat118\", \"Pat119\", \"Pat120\", \"Pat122\", \"Pat124\", \"Pat125\", \"Pat126\", \"Pat127\", \"Pat128\", \"Pat129\", \"Pat130\", \"Pat132\", \"Pat133\", \"Pat134\", \"Pat135\", \"Pat136\", \"Pat137\", \"Pat138\", \"Pat139\", \"Pat140\", \"Pat141\", \"Pat143\", \"Pat144\", \"Pat145\", \"Pat146\", \"Pat147\", \"Pat174\"]"
   ]
  },
  {
   "cell_type": "code",
   "execution_count": 23,
   "id": "e88acc23",
   "metadata": {},
   "outputs": [],
   "source": [
    "def load_image(patient_id, machine, data_dir, crop_shape, resize_shape):\n",
    "    # Define the filename based on the machine\n",
    "    if machine == \"CHU\":\n",
    "        filename = f\"{patient_id}_T1Gado_CHU_brain_zscore.nii.gz\"\n",
    "    else:\n",
    "        filename = f\"{patient_id}_COL_registered_zscore.nii.gz\"\n",
    "\n",
    "    image_path = os.path.join(data_dir, filename)\n",
    "\n",
    "    # Check if the file exists\n",
    "    if not os.path.exists(image_path):\n",
    "        return None  # Image file not found\n",
    "\n",
    "    # Load the NIfTI image lazily\n",
    "    nifti_image = nib.load(image_path)\n",
    "\n",
    "    # Crop and resize the image on-the-fly\n",
    "    cropped_resized_image = crop_and_resize(nifti_image, crop_shape, resize_shape)\n",
    "\n",
    "    return cropped_resized_image"
   ]
  },
  {
   "cell_type": "code",
   "execution_count": 24,
   "id": "e1a54a05",
   "metadata": {},
   "outputs": [],
   "source": [
    "def crop_and_resize(nifti_image, crop_shape, resize_shape):\n",
    "    image_data = nifti_image.get_fdata()\n",
    "    \n",
    "    # Crop the image\n",
    "    cropped_image = image_data[:crop_shape[0], :crop_shape[1], :crop_shape[2]]\n",
    "\n",
    "    # Resize the cropped image\n",
    "    resized_image = np.zeros(resize_shape, dtype=cropped_image.dtype)\n",
    "    for i in range(resized_image.shape[2]):\n",
    "        resized_image[:, :, i] = np.resize(cropped_image[:, :, i], resize_shape[:2])\n",
    "\n",
    "    return resized_image"
   ]
  },
  {
   "cell_type": "code",
   "execution_count": 25,
   "id": "80b6b74c",
   "metadata": {},
   "outputs": [
    {
     "name": "stdout",
     "output_type": "stream",
     "text": [
      "Preprocessed image shape: (64, 64, 64)\n"
     ]
    }
   ],
   "source": [
    "example_patient_id = \"Pat8\"\n",
    "example_machine = \"COL\"  # or \"CHU\"\n",
    "crop_shape = (128, 128, 128)  # Define your crop shape\n",
    "resize_shape = (64, 64, 64)  # Define your resize shape\n",
    "\n",
    "preprocessed_image = load_image(example_patient_id, example_machine, data_dir, crop_shape, resize_shape)\n",
    "\n",
    "if preprocessed_image is not None:\n",
    "    # Now, 'preprocessed_image' contains the preprocessed MRI data for the specified patient and machine\n",
    "    print(f\"Preprocessed image shape: {preprocessed_image.shape}\")\n",
    "else:\n",
    "    print(\"Image not found.\")"
   ]
  },
  {
   "cell_type": "code",
   "execution_count": 34,
   "id": "f0228d54",
   "metadata": {},
   "outputs": [
    {
     "data": {
      "image/png": "[encoded data removed]",
      "text/plain": [
       "<Figure size 640x480 with 2 Axes>"
      ]
     },
     "metadata": {},
     "output_type": "display_data"
    }
   ],
   "source": [
    "slice_number = 55  # Change this to the desired slice number\n",
    "plt.imshow(preprocessed_image[:, :, slice_number])\n",
    "plt.title('NIfTI Image')\n",
    "plt.colorbar()\n",
    "plt.show()\n"
   ]
  },
  {
   "cell_type": "code",
   "execution_count": null,
   "id": "58f8cdc1",
   "metadata": {},
   "outputs": [],
   "source": []
  }
 ],
 "metadata": {
  "kernelspec": {
   "display_name": "Python 3 (ipykernel)",
   "language": "python",
   "name": "python3"
  },
  "language_info": {
   "codemirror_mode": {
    "name": "ipython",
    "version": 3
   },
   "file_extension": ".py",
   "mimetype": "text/x-python",
   "name": "python",
   "nbconvert_exporter": "python",
   "pygments_lexer": "ipython3",
   "version": "3.7.6"
  }
 },
 "nbformat": 4,
 "nbformat_minor": 5
}
