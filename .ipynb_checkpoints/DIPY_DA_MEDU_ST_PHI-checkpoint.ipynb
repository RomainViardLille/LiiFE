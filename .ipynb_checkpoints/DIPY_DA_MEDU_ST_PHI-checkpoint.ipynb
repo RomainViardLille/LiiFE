{
 "cells": [
  {
   "cell_type": "code",
   "execution_count": 16,
   "id": "roman-upset",
   "metadata": {},
   "outputs": [],
   "source": [
    "import dipy as dp\n",
    "import glob as glob\n",
    "import os\n",
    "from dipy.io.image import load_nifti, save_nifti\n",
    "import numpy as np"
   ]
  },
  {
   "cell_type": "code",
   "execution_count": 4,
   "id": "sophisticated-assault",
   "metadata": {},
   "outputs": [
    {
     "name": "stdout",
     "output_type": "stream",
     "text": [
      "1.4.0\n"
     ]
    }
   ],
   "source": [
    "print(dp.__version__)"
   ]
  },
  {
   "cell_type": "code",
   "execution_count": 10,
   "id": "indoor-chemistry",
   "metadata": {},
   "outputs": [],
   "source": [
    "STUDY_PATH='/NAS/deathrow/protocoles/MEDU_ST_PHI/'\n",
    "IMAGES_DIR=os.path.join(STUDY_PATH,'images')\n",
    "TRACTO_DIR=os.path.join(STUDY_PATH,'tracto')\n",
    "FILE_PATH=os.path.join(STUDY_PATH,'liste_pts.csv')"
   ]
  },
  {
   "cell_type": "code",
   "execution_count": 11,
   "id": "possible-settle",
   "metadata": {},
   "outputs": [],
   "source": [
    "BValFile_MB_TR4600=sorted(glob.glob(os.path.join(IMAGES_DIR,'*','*ORIG_DTI_MB_2500_600_15_9_3X3*.bval')))\n",
    "BValFile_MB_TR2600=sorted(glob.glob(os.path.join(IMAGES_DIR,'*','*ORIG_DTI_MB_4600_600_15_5_3X*.bval')))\n",
    "BValFile_NoMB=sorted(glob.glob(os.path.join(IMAGES_DIR,'*','*ORIG_DTI_PAS_MB_4600_600_15_5_3X*.bval')))"
   ]
  },
  {
   "cell_type": "code",
   "execution_count": 14,
   "id": "framed-journalist",
   "metadata": {},
   "outputs": [
    {
     "data": {
      "text/plain": [
       "'/NAS/deathrow/protocoles/MEDU_ST_PHI/images/PAT00001/PAT00001_ORIG_DTI_PAS_MB_4600_600_15_5_3X3_40004.nii'"
      ]
     },
     "execution_count": 14,
     "metadata": {},
     "output_type": "execute_result"
    }
   ],
   "source": [
    "\n"
   ]
  },
  {
   "cell_type": "code",
   "execution_count": 15,
   "id": "revised-anatomy",
   "metadata": {},
   "outputs": [
    {
     "ename": "NameError",
     "evalue": "name 'load_nifti' is not defined",
     "output_type": "error",
     "traceback": [
      "\u001b[0;31m---------------------------------------------------------------------------\u001b[0m",
      "\u001b[0;31mNameError\u001b[0m                                 Traceback (most recent call last)",
      "\u001b[0;32m<ipython-input-15-976e29fc3390>\u001b[0m in \u001b[0;36m<module>\u001b[0;34m\u001b[0m\n\u001b[0;32m----> 1\u001b[0;31m \u001b[0mdata\u001b[0m\u001b[0;34m,\u001b[0m \u001b[0maffine\u001b[0m \u001b[0;34m=\u001b[0m \u001b[0mload_nifti\u001b[0m\u001b[0;34m(\u001b[0m\u001b[0mBValFile_NoMB\u001b[0m\u001b[0;34m[\u001b[0m\u001b[0;36m0\u001b[0m\u001b[0;34m]\u001b[0m\u001b[0;34m.\u001b[0m\u001b[0mreplace\u001b[0m\u001b[0;34m(\u001b[0m\u001b[0;34m'bval'\u001b[0m\u001b[0;34m,\u001b[0m\u001b[0;34m'nii'\u001b[0m\u001b[0;34m)\u001b[0m\u001b[0;34m)\u001b[0m\u001b[0;34m\u001b[0m\u001b[0;34m\u001b[0m\u001b[0m\n\u001b[0m\u001b[1;32m      2\u001b[0m \u001b[0mbvals\u001b[0m \u001b[0;34m=\u001b[0m \u001b[0mnp\u001b[0m\u001b[0;34m.\u001b[0m\u001b[0mloadtxt\u001b[0m\u001b[0;34m(\u001b[0m\u001b[0mhardi_bval_fname\u001b[0m\u001b[0;34m)\u001b[0m\u001b[0;34m\u001b[0m\u001b[0;34m\u001b[0m\u001b[0m\n\u001b[1;32m      3\u001b[0m \u001b[0mdenoised_arr\u001b[0m \u001b[0;34m=\u001b[0m \u001b[0mpatch2self\u001b[0m\u001b[0;34m(\u001b[0m\u001b[0mdata\u001b[0m\u001b[0;34m,\u001b[0m \u001b[0mbvals\u001b[0m\u001b[0;34m)\u001b[0m\u001b[0;34m\u001b[0m\u001b[0;34m\u001b[0m\u001b[0m\n",
      "\u001b[0;31mNameError\u001b[0m: name 'load_nifti' is not defined"
     ]
    }
   ],
   "source": [
    "data, affine = load_nifti(BValFile_NoMB[0].replace('bval','nii'))\n",
    "bvals = np.loadtxt(hardi_bval_fname)\n",
    "denoised_arr = patch2self(data, bvals)"
   ]
  },
  {
   "cell_type": "code",
   "execution_count": null,
   "id": "facial-pathology",
   "metadata": {},
   "outputs": [],
   "source": []
  }
 ],
 "metadata": {
  "kernelspec": {
   "display_name": "Python 3",
   "language": "python",
   "name": "python3"
  },
  "language_info": {
   "codemirror_mode": {
    "name": "ipython",
    "version": 3
   },
   "file_extension": ".py",
   "mimetype": "text/x-python",
   "name": "python",
   "nbconvert_exporter": "python",
   "pygments_lexer": "ipython3",
   "version": "3.7.6"
  }
 },
 "nbformat": 4,
 "nbformat_minor": 5
}
