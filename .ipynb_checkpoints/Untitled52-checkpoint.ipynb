{
 "cells": [
  {
   "cell_type": "code",
   "execution_count": 6,
   "id": "f5e6f77d",
   "metadata": {},
   "outputs": [
    {
     "name": "stdout",
     "output_type": "stream",
     "text": [
      "0th percentile: 0.82\n",
      "25.0th percentile: 5.00\n",
      "50.0th percentile: 5.13\n",
      "75.0th percentile: 5.25\n",
      "100th percentile: 5.49\n"
     ]
    }
   ],
   "source": [
    "import pandas as pd\n",
    "import numpy as np\n",
    "\n",
    "# Load the Excel file into a DataFrame\n",
    "file_path = \"/home/youssef/Downloads/results_normalized_final.xls\"\n",
    "df = pd.read_excel(file_path)\n",
    "\n",
    "# Extract the values from the \"Mutual Information\" column\n",
    "mutual_information_values = df[\"Mutual Information\"].tolist()\n",
    "\n",
    "# Calculate the quantiles\n",
    "quantiles = np.quantile(mutual_information_values, [0, 0.25, 0.5, 0.75, 1])\n",
    "\n",
    "# Display the results with two decimal places\n",
    "for i, q in enumerate([0, 0.25, 0.5, 0.75, 1]):\n",
    "    print(f\"{q * 100}th percentile: {quantiles[i]:.2f}\")\n",
    "\n"
   ]
  },
  {
   "cell_type": "code",
   "execution_count": null,
   "id": "855ad7b3",
   "metadata": {},
   "outputs": [],
   "source": []
  }
 ],
 "metadata": {
  "kernelspec": {
   "display_name": "Python 3 (ipykernel)",
   "language": "python",
   "name": "python3"
  },
  "language_info": {
   "codemirror_mode": {
    "name": "ipython",
    "version": 3
   },
   "file_extension": ".py",
   "mimetype": "text/x-python",
   "name": "python",
   "nbconvert_exporter": "python",
   "pygments_lexer": "ipython3",
   "version": "3.7.6"
  }
 },
 "nbformat": 4,
 "nbformat_minor": 5
}
