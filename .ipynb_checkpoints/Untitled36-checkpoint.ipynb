{
 "cells": [
  {
   "cell_type": "code",
   "execution_count": null,
   "id": "a4da19be-225b-4b67-9d2b-b1d40f165cd5",
   "metadata": {},
   "outputs": [],
   "source": [
    "import os, sys\n",
    "import numpy as np\n",
    "import nibabel as nb\n",
    "\n"
   ]
  },
  {
   "cell_type": "code",
   "execution_count": null,
   "id": "2f698a59-a19d-4020-9dc3-be01cb6bb548",
   "metadata": {},
   "outputs": [],
   "source": [
    "fileName=\"/NAS/dumbo/protocoles/GAITnPARK/bids/sub-1_056/ses-0/fmap/sub-1_056_ses-0_acq-601DTI-CORR2D_corr_dwi.nii.gz\"\n",
    "imgNifti = nb.load(fileName)\n",
    "dataOri= imgNifti.get_fdata()\n",
    "data= imgNifti.get_fdata()\n",
    "\n",
    "for cpt in range(0,data.shape[3]+1)\n",
    "\tdata[:,:,:,cpt] = np.roll(data[:,:,:,cpt] , [-1,0,0])\n",
    "\tdata[:,:,:,cpt] = np.roll(data[:,:,:,cpt] , [0,1,0])\n",
    "\n",
    "nb.save(nb.Nifti1Image(data, imgNifti.affine ),fileName)"
   ]
  }
 ],
 "metadata": {
  "kernelspec": {
   "display_name": "Python 3 (ipykernel)",
   "language": "python",
   "name": "python3"
  },
  "language_info": {
   "name": ""
  }
 },
 "nbformat": 4,
 "nbformat_minor": 5
}
