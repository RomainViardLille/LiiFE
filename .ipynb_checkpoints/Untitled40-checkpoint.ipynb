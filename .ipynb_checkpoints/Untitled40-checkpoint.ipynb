{
 "cells": [
  {
   "cell_type": "code",
   "execution_count": 4,
   "id": "66bd5a6e-60bf-464d-918e-d70417c5fd26",
   "metadata": {},
   "outputs": [],
   "source": [
    "import os, sys\n",
    "import numpy as np\n",
    "import nibabel as nb"
   ]
  },
  {
   "cell_type": "code",
   "execution_count": 36,
   "id": "cfd9e754-7f47-4c15-b91a-deaf06b1d9e2",
   "metadata": {
    "collapsed": true,
    "jupyter": {
     "outputs_hidden": true
    },
    "tags": []
   },
   "outputs": [
    {
     "name": "stdout",
     "output_type": "stream",
     "text": [
      "603.7118637561798\n",
      "596.004903793335\n",
      "95.0525062084198\n",
      "172.1221058368683\n",
      "116.88889276981354\n",
      "170.83761250972748\n",
      "95.0525062084198\n",
      "154.13919925689697\n",
      "596.004903793335\n",
      "425.1672912836075\n",
      "172.1221058368683\n",
      "79.6385862827301\n",
      "170.83761250972748\n",
      "119.45787942409515\n",
      "154.13919925689697\n",
      "150.28571927547455\n",
      "425.1672912836075\n",
      "326.26130509376526\n",
      "79.6385862827301\n",
      "77.06959962844849\n",
      "119.45787942409515\n",
      "53.94871973991394\n",
      "150.28571927547455\n",
      "91.19902622699738\n"
     ]
    }
   ],
   "source": [
    "fileName=\"/NAS/dumbo/protocoles/GAITnPARK/bids/sub-1_056/ses-0/fmap/sub-1_056_ses-0_acq-601DTI-CORR2D_corr_dwi.nii.gz\"\n",
    "imgNifti = nb.load(fileName)\n",
    "dataOri= imgNifti.get_fdata()\n",
    "data= imgNifti.get_fdata()\n",
    "\n",
    "for cpt in range(0,data.shape[3]):\n",
    "    print(dataOri[70,88,40,cpt])\n",
    "    data[:,:,:,cpt] = np.roll(dataOri[:,:,:,cpt],[0,0,1])\n",
    "    print(data[70,88,40,cpt])\n",
    "\n",
    "fileName=\"/NAS/dumbo/protocoles/GAITnPARK/bids/sub-1_056/ses-0/fmap/sub-1_056_ses-0_acq-601DTI-CORR2D_corr_dwi_mod001.nii.gz\"\n",
    "nb.save(nb.Nifti1Image(data, imgNifti.affine ),fileName)\n",
    "\n",
    "for cpt in range(0,data.shape[3]):\n",
    "    print(dataOri[70,88,40,cpt])\n",
    "    data[:,:,:,cpt] = np.roll(dataOri[:,:,:,cpt],[0,1,0])\n",
    "    print(data[70,88,40,cpt])\n",
    "\n",
    "fileName=\"/NAS/dumbo/protocoles/GAITnPARK/bids/sub-1_056/ses-0/fmap/sub-1_056_ses-0_acq-601DTI-CORR2D_corr_dwi_mod010.nii.gz\"\n",
    "nb.save(nb.Nifti1Image(data, imgNifti.affine ),fileName)\n",
    "\n",
    "for cpt in range(0,data.shape[3]):\n",
    "    print(dataOri[70,88,40,cpt])\n",
    "    data[:,:,:,cpt] = np.roll(dataOri[:,:,:,cpt],[1,0,0])\n",
    "    print(data[70,88,40,cpt])\n",
    "\n",
    "fileName=\"/NAS/dumbo/protocoles/GAITnPARK/bids/sub-1_056/ses-0/fmap/sub-1_056_ses-0_acq-601DTI-CORR2D_corr_dwi_mod100.nii.gz\"\n",
    "nb.save(nb.Nifti1Image(data, imgNifti.affine ),fileName)"
   ]
  },
  {
   "cell_type": "code",
   "execution_count": 47,
   "id": "328673f0-2650-4b75-bc39-b37293a7549e",
   "metadata": {},
   "outputs": [
    {
     "name": "stdout",
     "output_type": "stream",
     "text": [
      "[[0 1]\n",
      " [2 3]\n",
      " [4 5]\n",
      " [6 7]\n",
      " [8 9]]\n"
     ]
    },
    {
     "data": {
      "text/plain": [
       "array([[2, 3],\n",
       "       [4, 5],\n",
       "       [6, 7],\n",
       "       [8, 9],\n",
       "       [0, 1]])"
      ]
     },
     "execution_count": 47,
     "metadata": {},
     "output_type": "execute_result"
    }
   ],
   "source": [
    "x = np.arange(10)\n",
    "x2 = np.reshape(x, (5,2))\n",
    "print(x2)\n",
    "x2= np.roll(x2,-1,axis=0)\n",
    "x2"
   ]
  },
  {
   "cell_type": "code",
   "execution_count": 48,
   "id": "09a55f86-a05f-40ef-8916-1a11cb77e6ef",
   "metadata": {},
   "outputs": [
    {
     "name": "stdout",
     "output_type": "stream",
     "text": [
      "603.7118637561798\n",
      "452.14165115356445\n",
      "95.0525062084198\n",
      "147.71673262119293\n",
      "116.88889276981354\n",
      "143.8632526397705\n",
      "95.0525062084198\n",
      "187.53602576255798\n"
     ]
    }
   ],
   "source": [
    "fileName=\"/NAS/dumbo/protocoles/GAITnPARK/bids/sub-1_056/ses-0/fmap/sub-1_056_ses-0_acq-601DTI-CORR2D_corr_dwi.nii.gz\"\n",
    "imgNifti = nb.load(fileName)\n",
    "data= imgNifti.get_fdata()\n",
    "\n",
    "for cpt in range(0,data.shape[3]):\n",
    "    print(data[70,88,40,cpt])\n",
    "    data[:,:,:,cpt] = np.roll(data[:,:,:,cpt],-1,axis=0)\n",
    "    data[:,:,:,cpt] = np.roll(data[:,:,:,cpt],1,axis=1)\n",
    "    print(data[70,88,40,cpt])\n",
    "\n",
    "fileName=\"/NAS/dumbo/protocoles/GAITnPARK/bids/sub-1_056/ses-0/fmap/sub-1_056_ses-0_acq-601DTI-CORR2D_corr_dwi_modF.nii.gz\"\n",
    "nb.save(nb.Nifti1Image(data, imgNifti.affine ),fileName)\n"
   ]
  },
  {
   "cell_type": "code",
   "execution_count": 20,
   "id": "e9d09408-abce-499a-beb4-384b48b88cf1",
   "metadata": {},
   "outputs": [
    {
     "data": {
      "text/plain": [
       "603.7118637561798"
      ]
     },
     "execution_count": 20,
     "metadata": {},
     "output_type": "execute_result"
    }
   ],
   "source": [
    "dataOri[70,88,40,0]"
   ]
  },
  {
   "cell_type": "code",
   "execution_count": 24,
   "id": "880aedf8-f839-42fe-bb56-dfd3544aa401",
   "metadata": {},
   "outputs": [
    {
     "data": {
      "text/plain": [
       "95.0525062084198"
      ]
     },
     "execution_count": 24,
     "metadata": {},
     "output_type": "execute_result"
    }
   ],
   "source": [
    "np.roll(np.roll(data[:,:,:,cpt],[-1,0,0]),[0,1,0])[70,88,40]"
   ]
  },
  {
   "cell_type": "code",
   "execution_count": 26,
   "id": "8e33d340-c91b-4f75-97d7-7bf9f35a0e90",
   "metadata": {},
   "outputs": [
    {
     "data": {
      "text/plain": [
       "3"
      ]
     },
     "execution_count": 26,
     "metadata": {},
     "output_type": "execute_result"
    }
   ],
   "source": [
    "cpt"
   ]
  },
  {
   "cell_type": "code",
   "execution_count": null,
   "id": "61cd5a18-03ab-40dd-9adc-96c45507ab31",
   "metadata": {},
   "outputs": [],
   "source": []
  }
 ],
 "metadata": {
  "kernelspec": {
   "display_name": "Python 3 (ipykernel)",
   "language": "python",
   "name": "python3"
  },
  "language_info": {
   "codemirror_mode": {
    "name": "ipython",
    "version": 3
   },
   "file_extension": ".py",
   "mimetype": "text/x-python",
   "name": "python",
   "nbconvert_exporter": "python",
   "pygments_lexer": "ipython3",
   "version": "3.7.6"
  }
 },
 "nbformat": 4,
 "nbformat_minor": 5
}
