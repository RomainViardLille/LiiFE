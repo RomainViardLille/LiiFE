{
 "cells": [
  {
   "cell_type": "code",
   "execution_count": 4,
   "metadata": {},
   "outputs": [],
   "source": [
    "import nibabel as nib\n",
    "import numpy as np\n",
    "import os\n",
    "import glob\n",
    "from sklearn.linear_model import LinearRegression\n",
    "import plotnine as p9\n",
    "import matplotlib.pyplot as plt\n",
    "%matplotlib inline\n",
    "import csv\n",
    "import statsmodels.api as sm\n",
    "from scipy import stats\n",
    "from radiomics import featureextractor, getTestCase\n",
    "import SimpleITK as sitk\n",
    "import import_ipynb\n",
    "from Predistim_Library import *"
   ]
  },
  {
   "cell_type": "markdown",
   "metadata": {},
   "source": [
    "###  Lecture fichier Quality Check"
   ]
  },
  {
   "cell_type": "code",
   "execution_count": 68,
   "metadata": {},
   "outputs": [
    {
     "name": "stdout",
     "output_type": "stream",
     "text": [
      "n =  797\n"
     ]
    },
    {
     "data": {
      "text/plain": [
       "Index(['Centre', 'Date consentement', 'Date d'IRM Dicom', '3DT1 sur sftp',\n",
       "       '3DMULTIGRE sur sftp', 'constructeur', 'modèle', 'champ', 'logiciel',\n",
       "       'antenne', 'respect du protocole', 'QC_3DT1', 'décision 3DT1\\n',\n",
       "       'commentaire ARC 3DT1 qualité (paramètres)', 'respect du protocole.1',\n",
       "       'QC_3DMULTI', 'décision 3DMULTI',\n",
       "       'commentaire ARC 3DMULTI qualité (paramètres)',\n",
       "       '3DT1 sans correction de distorsion géométrique',\n",
       "       '3DT1 avec correction de distorsion géométrique',\n",
       "       '3DMULTIGRE sans correction de distorsion géométrique',\n",
       "       '3DMULTIGRE avec correction de distorsion géométrique',\n",
       "       'Phase sans  correction de distorsion géométrique',\n",
       "       'Phase avec  correction de distorsion géométrique',\n",
       "       'Im/Re sans correction de distorsion géométrique',\n",
       "       'Im/Re avec  correction de distorsion géométrique',\n",
       "       'phase constructeur',\n",
       "       'phase / magnitude recalculée à partir de Im et Re Philips',\n",
       "       'phase reconstruite ACC / C2P Siemens'],\n",
       "      dtype='object')"
      ]
     },
     "execution_count": 68,
     "metadata": {},
     "output_type": "execute_result"
    }
   ],
   "source": [
    "#CQData = pd.read_csv(os.path.join(STUDY_PATH,'CQData20200406.csv'),index_col=0,sep=';')\n",
    "CQData = pd.read_excel(CQ_FILE,index_col=0)\n",
    "print(\"n = \",len(CQData))\n",
    "CQData.columns"
   ]
  },
  {
   "cell_type": "markdown",
   "metadata": {},
   "source": [
    "### Lecture du fichier de données genomique"
   ]
  },
  {
   "cell_type": "code",
   "execution_count": 5,
   "metadata": {},
   "outputs": [
    {
     "name": "stdout",
     "output_type": "stream",
     "text": [
      "n =  637\n"
     ]
    }
   ],
   "source": [
    "#GenomicData = pd.read_excel(os.path.join(STUDY_PATH,'SNPs_Predistim.xlsx'),usecols=[\"NUM_PAT\",\"SNP_ACSL4\",\"SNP_GPx4\",\"cluster_SNP\"],index_col=0)\n",
    "GenomicData = pd.read_excel(os.path.join(STUDY_PATH,'SNPs_dosages_20201106.xlsx'),index_col=0,converters = {'PatientNB': int})\n",
    "print(\"n = \",len(GenomicData))"
   ]
  },
  {
   "cell_type": "markdown",
   "metadata": {},
   "source": [
    "### Lecture du fichier de données démographique (extraction du 22/06/2020)"
   ]
  },
  {
   "cell_type": "code",
   "execution_count": 51,
   "metadata": {},
   "outputs": [
    {
     "name": "stdout",
     "output_type": "stream",
     "text": [
      "n =  834\n",
      "Index(['PatientID', 'Age', 'DIS_DUR_DIAG_V0', 'BMI', 'Sexe', 'Centre',\n",
      "       'UPDRS_III_WOFF_V0', 'DOPA_SEN_V0', 'UPDRS_TOT_OFF_V0', 'HY_OFF_V0',\n",
      "       'LEDD_TOT_V0'],\n",
      "      dtype='object')\n"
     ]
    }
   ],
   "source": [
    "ClinicalData = pd.read_excel(os.path.join(STUDY_PATH,'DataCli_09122020.xlsx'),index_col=1)\n",
    "#Cli_Gen_data=Cli_Gen_data.set_index(['PatientNB'])\n",
    "print(\"n = \",len(ClinicalData))\n",
    "print(ClinicalData.columns)"
   ]
  },
  {
   "cell_type": "markdown",
   "metadata": {},
   "source": [
    "### CQ"
   ]
  },
  {
   "cell_type": "code",
   "execution_count": 71,
   "metadata": {},
   "outputs": [
    {
     "name": "stdout",
     "output_type": "stream",
     "text": [
      "14 {'19047MA', '13020BE', '02051BG', '13006ZP', '10036FM', '13005VA', '13015IR', '10037LJ', '13023DJ', '13026RD', '19031CF', '04010BC', '10044HF', '09026PF'}\n",
      "51 {'05008DM', '15014BG', '15005CB', '15032DM', '17036GD', '02051GB', '17063EE', '15030LN', '15003LJ', '01036LD', '09015CA', '15019CJ', '14051AV', '15033CC', '15018HJ', '19031GF', '20004DG', '09009GM', '15004MJ', '10037FM', '09003ME', '11005DJ', '15024MD', '09005SN', '15031BF', '15006BB', '15012LM', '15035CJ', '13015LR', '09006JY', '07034HC', '17074VG', '13005VM', '08027BB', '15023FP', '16027DB', '17007JY', '08021MM', '15011MP', '11003DM', '17012BF', '13026', '15022SJ', '15021EA', '13023', '13020', '10036LJ', '15015BM', '15020FI', '11002HD', '15009PJ'}\n",
      "848\n",
      "587\n",
      "326\n",
      "304\n"
     ]
    }
   ],
   "source": [
    "CQ_DB=set(CQData.index)\n",
    "Full_DB=set(ClinicalData.set_index(['PatientID']).index)\n",
    "print(len(CQ_DB-Full_DB),CQ_DB-Full_DB)\n",
    "print(len(Full_DB-CQ_DB),Full_DB-CQ_DB)\n",
    "\n",
    "print(len(CQ_DB | Full_DB))\n",
    "\n",
    "T1_DB=set(CQData.loc[CQData['QC_3DT1']>2].index)\n",
    "print(len(T1_DB))\n",
    "\n",
    "TE_DB=set(CQData.loc[CQData['QC_3DMULTI']>2].index)\n",
    "print(len(TE_DB))\n",
    "\n",
    "print(len(T1_DB & TE_DB))"
   ]
  },
  {
   "cell_type": "code",
   "execution_count": 73,
   "metadata": {},
   "outputs": [
    {
     "name": "stdout",
     "output_type": "stream",
     "text": [
      "646 {'02071BM', '02045PJ', '02083SG', '02064CA', '02067BE', '02084DI', '02059WC', '02085PP', '02080RM', '02089SL', '02079MZ', '02081HC', '14004IJ', '02069VF', '02075LP', '02073MD', '02046CA', '02051BG', '02090DA', '02040DC', '02087TD', '02053MC', '02070DJ', '02058NP', '02082SR', '02078RM', '02057DH', '02063VC'}\n",
      "661 {'02071BM', '02045PJ', '02083SG', '02064CA', '02067BE', '02084DI', '02059WC', '02085PP', '02080RM', '02089SL', '02079MZ', '02081HC', '14004IJ', '02069VF', '02075LP', '02073MD', '02046CA', '02051BG', '02090DA', '02040DC', '02087TD', '02053MC', '02070DJ', '02058NP', '02082SR', '02078RM', '02057DH', '02063VC'}\n",
      "639 {'02071BM', '02045PJ', '10028GJ', '02083SG', '02064CA', '02067BE', '02084DI', '10020NJ', '02059WC', '02085PP', '02080RM', '02089SL', '02079MZ', '02081HC', '14004IJ', '02069VF', '02075LP', '10006AP', '02073MD', '02046CA', '02051BG', '02090DA', '02040DC', '02087TD', '10035MP', '02053MC', '02070DJ', '02058NP', '02082SR', '02078RM', '02057DH', '02063VC'}\n",
      "640 {'02071BM', '02045PJ', '06060BE', '02083SG', '02064CA', '02067BE', '02084DI', '02043GA', '02059WC', '02085PP', '02080RM', '02089SL', '02079MZ', '02081HC', '14004IJ', '02069VF', '02075LP', '02073MD', '02046CA', '02051BG', '02090DA', '02029DS', '02040DC', '06009SG', '02087TD', '02053MC', '02070DJ', '02058NP', '02082SR', '02078RM', '02057DH', '06029BN', '02063VC'}\n",
      "637 {'02071BM', '02045PJ', '06084LC', '02083SG', '02064CA', '02067BE', '02084DI', '02059WC', '02085PP', '02080RM', '06053GP', '02089SL', '02079MZ', '20007MF', '02081HC', '06083LM', '14004IJ', '02069VF', '02075LP', '02073MD', '02046CA', '02051BG', '02090DA', '02040DC', '02087TD', '02053MC', '02070DJ', '02058NP', '02082SR', '02078RM', '02057DH', '06029BN', '02063VC'}\n"
     ]
    }
   ],
   "source": [
    "tmp=[]\n",
    "file_list=glob.glob(os.path.join(STUDY_PATH,'HCP','*','T1w','T1w.nii.gz'))\n",
    "for file in file_list :\n",
    "    tmp.append(file.split('/')[6])\n",
    "T1_FILE_DB=set(tmp)\n",
    "print(len(T1_FILE_DB),T1_DB-T1_FILE_DB)\n",
    "\n",
    "tmp=[]\n",
    "file_list=glob.glob(os.path.join(STUDY_PATH,'volbrain','native_*','native_lab_n_mmni_*.nii'))\n",
    "for file in file_list :\n",
    "    tmp.append(file.split('/')[6].split('_')[1])\n",
    "VB_FILE_DB=set(tmp)\n",
    "print(len(VB_FILE_DB),T1_DB-VB_FILE_DB)\n",
    "\n",
    "tmp=[]\n",
    "file_list=glob.glob(os.path.join(STUDY_PATH,'3DT1','*','FLASH_RN_L*.nii.gz'))\n",
    "for file in file_list :\n",
    "    tmp.append(file.split('/')[6])\n",
    "SUBC_FILE_DB=set(tmp)\n",
    "print(len(SUBC_FILE_DB),T1_DB-SUBC_FILE_DB)\n",
    "\n",
    "tmp=[]\n",
    "file_list=glob.glob(os.path.join(STUDY_PATH,'HCP','*','T1w','aparc+aseg.nii.gz'))\n",
    "for file in file_list :\n",
    "    tmp.append(file.split('/')[6])\n",
    "APARC_ASEG_FILE_DB=set(tmp)\n",
    "print(len(APARC_ASEG_FILE_DB),T1_DB-APARC_ASEG_FILE_DB)\n",
    "\n",
    "tmp=[]\n",
    "file_list=glob.glob(os.path.join(STUDY_PATH,'2020-04-15','*','*','M00','freesurfer_aparc+aseg.nii.gz'))\n",
    "#print(len(file_list))\n",
    "for file in file_list :\n",
    "    tmp.append(file.split('/')[7])\n",
    "\n",
    "APARC_ASEG_FILE_DB2=set(tmp)\n",
    "print(len(APARC_ASEG_FILE_DB2),T1_DB-APARC_ASEG_FILE_DB2)"
   ]
  },
  {
   "cell_type": "code",
   "execution_count": 351,
   "metadata": {
    "collapsed": true,
    "jupyter": {
     "outputs_hidden": true
    }
   },
   "outputs": [
    {
     "data": {
      "text/plain": [
       "{10031,\n",
       " 20031,\n",
       " 40001,\n",
       " 40002,\n",
       " 40003,\n",
       " 40004,\n",
       " 40005,\n",
       " 40006,\n",
       " 40007,\n",
       " 40008,\n",
       " 40009,\n",
       " 40011,\n",
       " 40012,\n",
       " 40013,\n",
       " 40014,\n",
       " 40015,\n",
       " 40016,\n",
       " 40017,\n",
       " 50004,\n",
       " 50008,\n",
       " 50014,\n",
       " 50015,\n",
       " 50016,\n",
       " 50020,\n",
       " 50025,\n",
       " 50026,\n",
       " 50037,\n",
       " 60001,\n",
       " 60068,\n",
       " 60084,\n",
       " 60090,\n",
       " 60091,\n",
       " 60092,\n",
       " 60093,\n",
       " 80001,\n",
       " 80002,\n",
       " 80003,\n",
       " 80004,\n",
       " 80005,\n",
       " 80006,\n",
       " 80007,\n",
       " 80008,\n",
       " 80009,\n",
       " 80010,\n",
       " 80011,\n",
       " 80012,\n",
       " 80013,\n",
       " 80014,\n",
       " 80015,\n",
       " 80016,\n",
       " 80017,\n",
       " 80018,\n",
       " 80019,\n",
       " 80020,\n",
       " 80021,\n",
       " 80022,\n",
       " 80023,\n",
       " 80024,\n",
       " 80025,\n",
       " 80026,\n",
       " 80027,\n",
       " 80028,\n",
       " 80029,\n",
       " 80030,\n",
       " 80031,\n",
       " 80032,\n",
       " 80033,\n",
       " 80034,\n",
       " 80035,\n",
       " 80036,\n",
       " 80037,\n",
       " 80038,\n",
       " 80039,\n",
       " 80040,\n",
       " 80041,\n",
       " 80042,\n",
       " 90001,\n",
       " 90002,\n",
       " 90003,\n",
       " 90004,\n",
       " 90005,\n",
       " 90006,\n",
       " 90007,\n",
       " 90008,\n",
       " 90009,\n",
       " 90010,\n",
       " 90011,\n",
       " 90012,\n",
       " 90013,\n",
       " 90014,\n",
       " 90015,\n",
       " 90016,\n",
       " 90017,\n",
       " 90018,\n",
       " 90019,\n",
       " 90020,\n",
       " 90021,\n",
       " 90022,\n",
       " 90023,\n",
       " 130001,\n",
       " 130002,\n",
       " 130003,\n",
       " 130004,\n",
       " 130005,\n",
       " 130007,\n",
       " 130008,\n",
       " 130009,\n",
       " 130010,\n",
       " 130011,\n",
       " 130012,\n",
       " 130013,\n",
       " 130014,\n",
       " 130015,\n",
       " 130016,\n",
       " 130017,\n",
       " 130018,\n",
       " 130019,\n",
       " 130020,\n",
       " 130021,\n",
       " 130022,\n",
       " 130023,\n",
       " 130024,\n",
       " 130025,\n",
       " 130026,\n",
       " 130027,\n",
       " 130028,\n",
       " 130029,\n",
       " 130031,\n",
       " 130032,\n",
       " 130033,\n",
       " 130034,\n",
       " 130035,\n",
       " 130036,\n",
       " 130037,\n",
       " 130038,\n",
       " 130039,\n",
       " 130041,\n",
       " 130042,\n",
       " 130043,\n",
       " 130044,\n",
       " 130045,\n",
       " 130046,\n",
       " 130047,\n",
       " 130048,\n",
       " 130049,\n",
       " 130050,\n",
       " 130051,\n",
       " 130052,\n",
       " 130053,\n",
       " 130054,\n",
       " 130055,\n",
       " 130056,\n",
       " 130057,\n",
       " 140001,\n",
       " 140004,\n",
       " 140009,\n",
       " 140011,\n",
       " 140013,\n",
       " 140018,\n",
       " 140019,\n",
       " 140020,\n",
       " 140021,\n",
       " 140022,\n",
       " 140023,\n",
       " 140024,\n",
       " 140025,\n",
       " 140026,\n",
       " 140027,\n",
       " 140028,\n",
       " 140029,\n",
       " 140030,\n",
       " 140051,\n",
       " 150002,\n",
       " 150021,\n",
       " 150032,\n",
       " 150033,\n",
       " 150034,\n",
       " 150035,\n",
       " 150036,\n",
       " 160027,\n",
       " 170063,\n",
       " 170074,\n",
       " 180001,\n",
       " 180002,\n",
       " 180003,\n",
       " 180004,\n",
       " 180005,\n",
       " 180006,\n",
       " 180007,\n",
       " 180008,\n",
       " 180009,\n",
       " 180010,\n",
       " 180011,\n",
       " 180012,\n",
       " 180013,\n",
       " 180014,\n",
       " 180015,\n",
       " 180016,\n",
       " 180017,\n",
       " 180018,\n",
       " 180019}"
      ]
     },
     "execution_count": 351,
     "metadata": {},
     "output_type": "execute_result"
    }
   ],
   "source": [
    "set(ClinicalData.index)-set(GenomicData.index)"
   ]
  },
  {
   "cell_type": "code",
   "execution_count": 352,
   "metadata": {},
   "outputs": [],
   "source": [
    "#list_Cli_Gen=ClinicalData.index.intersection(GenomicData.index)\n",
    "#ClinicalData=ClinicalData.loc[list_Cli_Gen]\n",
    "#GenomicData=GenomicData.loc[list_Cli_Gen]\n",
    "Cli_Gen_data=ClinicalData.join(GenomicData)\n",
    "Cli_Gen_data=Cli_Gen_data.set_index(['PatientID'])"
   ]
  },
  {
   "cell_type": "code",
   "execution_count": null,
   "metadata": {},
   "outputs": [],
   "source": [
    "SUBJ='01011BB'\n",
    "PARA='R2'\n",
    "file=os.path.join(STUDY_PATH,PARA,SUBJ,PARA+'_lin_3DT1.nii.gz') \n",
    "img_data=np.asanyarray(nib.load(file).dataobj)\n",
    "name_struct='r_FLASH_SN'\n",
    "#for cpt2,name_struct in enumerate(['r_FLASH_RN','r_FLASH_SN','r_QSM_GPe','r_QSM_GPi','r_FLASH_STh','r_MP2RAGE_STR']):\n",
    "struct_L_ = nib.load(os.path.join(STUDY_PATH,'R2',SUBJ,name_struct+'_L_'+SUBJ+'_on_3DT1.nii.gz'))\n",
    "struct_R_ = nib.load(os.path.join(STUDY_PATH,'R2',SUBJ,name_struct+'_R_'+SUBJ+'_on_3DT1.nii.gz'))\n",
    "struct_data=np.asanyarray(struct_R_.dataobj)+np.asanyarray(struct_L_.dataobj)\n",
    "tmp = (struct_data>0)\n",
    "\n",
    "struct = nib.load(os.path.join(STUDY_PATH,'volbrain','native_'+SUBJ,'native_lab_'+SUBJ+'_resliced.nii.gz'))\n",
    "struct_data=np.asanyarray(struct.dataobj)                    \n",
    "tmp = ((struct_data==3) | (struct_data==4))\n",
    "\n",
    "plot=p9.ggplot()+ p9.geom_histogram(p9.aes(img_data[tmp>0]),binwidth=1)+p9.xlab(\"Caudate\")\n",
    "plot.draw()"
   ]
  },
  {
   "cell_type": "code",
   "execution_count": 47,
   "metadata": {},
   "outputs": [
    {
     "name": "stderr",
     "output_type": "stream",
     "text": [
      "/home/romain/.local/lib/python3.7/site-packages/plotnine/ggplot.py:729: PlotnineWarning: Saving 6.4 x 4.8 in image.\n",
      "/home/romain/.local/lib/python3.7/site-packages/plotnine/ggplot.py:730: PlotnineWarning: Filename: /NAS/deathrow/protocoles/predistim/Dist_Caudate.jpg\n"
     ]
    }
   ],
   "source": [
    "plot.save(os.path.join(STUDY_PATH,'Dist_Caudate.jpg'))"
   ]
  },
  {
   "cell_type": "code",
   "execution_count": 16,
   "metadata": {},
   "outputs": [
    {
     "data": {
      "text/plain": [
       "'/NAS/deathrow/protocoles/predistim/R2/01011BB/r_FLASH_SN_L_01011BB_on_3DT1.nii.gz'"
      ]
     },
     "execution_count": 16,
     "metadata": {},
     "output_type": "execute_result"
    }
   ],
   "source": [
    "os.path.join(STUDY_PATH,'R2',SUBJ,name_struct+'_L_'+SUBJ+'_on_3DT1.nii.gz')"
   ]
  },
  {
   "cell_type": "code",
   "execution_count": null,
   "metadata": {},
   "outputs": [],
   "source": []
  }
 ],
 "metadata": {
  "kernelspec": {
   "display_name": "Python 3",
   "language": "python",
   "name": "python3"
  },
  "language_info": {
   "codemirror_mode": {
    "name": "ipython",
    "version": 3
   },
   "file_extension": ".py",
   "mimetype": "text/x-python",
   "name": "python",
   "nbconvert_exporter": "python",
   "pygments_lexer": "ipython3",
   "version": "3.7.6"
  }
 },
 "nbformat": 4,
 "nbformat_minor": 4
}
