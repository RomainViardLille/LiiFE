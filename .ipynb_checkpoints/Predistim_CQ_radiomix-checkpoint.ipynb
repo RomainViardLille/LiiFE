{
 "cells": [
  {
   "cell_type": "code",
   "execution_count": 42,
   "id": "5607cdea-f2ab-4e02-a16e-2fd21c6fbfbb",
   "metadata": {},
   "outputs": [],
   "source": [
    "import os\n",
    "import radiomics as rm\n",
    "import nibabel as nib\n",
    "import numpy as np\n",
    "import os,sys\n",
    "import pandas as pd \n",
    "import glob\n",
    "import matplotlib.pyplot as plt\n",
    "import SimpleITK as sitk\n",
    "from radiomics import featureextractor, getTestCase\n",
    "%matplotlib inline\n",
    "from scipy.stats import kurtosis\n",
    "#from Predistim_Library import *\n",
    "STUDY_PATH=os.path.join(\"/NAS\",\"deathrow\",\"protocoles\",\"predistim\")\n",
    "from scipy.ndimage import gaussian_filter\n"
   ]
  },
  {
   "cell_type": "markdown",
   "id": "5bdd8611-4bce-41f5-a26b-c26b73149cdb",
   "metadata": {},
   "source": [
    "### AVANT"
   ]
  },
  {
   "cell_type": "code",
   "execution_count": 15,
   "id": "a97930da-e021-43b6-8317-2c37af8fdd37",
   "metadata": {},
   "outputs": [
    {
     "name": "stdout",
     "output_type": "stream",
     "text": [
      "/NAS/deathrow/protocoles/predistim/HCP/06036ID/T1w/06036ID/mri/T1FS_resliced.nii.gz /NAS/deathrow/protocoles/predistim/R2/06036ID/R2_lin_3DT1.nii.gz /NAS/deathrow/protocoles/predistim/QSM/06036ID/QSM_lin_3DT1.nii.gz /NAS/deathrow/protocoles/predistim/3DT1/06036ID/native_lab_06036ID_resliced.nii.gz \n"
     ]
    }
   ],
   "source": [
    "SUBJ=\"06036ID\"#\"02049AT\"\n",
    "CMD=\"\"\n",
    "file=os.path.join(STUDY_PATH,'HCP',SUBJ,'T1w',SUBJ,'mri','T1FS_resliced.nii.gz')\n",
    "CMD+=file+\" \"\n",
    "\n",
    "PARA='R2' #R2 / QSM\n",
    "file=os.path.join(STUDY_PATH,PARA,SUBJ,PARA+'_lin_3DT1.nii.gz') \n",
    "img_data=np.asanyarray(nib.load(file).dataobj)\n",
    "\n",
    "CMD+=file+\" \"\n",
    "PARA='QSM'\n",
    "file=os.path.join(STUDY_PATH,PARA,SUBJ,PARA+'_lin_3DT1.nii.gz') \n",
    "CMD+=file+\" \"\n",
    "struct_file=os.path.join(STUDY_PATH,'3DT1',SUBJ,'native_lab_'+SUBJ+'_resliced.nii.gz')\n",
    "CMD+=struct_file+\" \"\n",
    "\n",
    "#struct_file=os.path.join(STUDY_PATH,'HCP',SUBJ,'T1w',SUBJ,'mri','aparc+aseg_resliced.nii.gz')\n",
    "#CMD+=struct_file+\" \"\n",
    "#name_struct='FLASH_SN_L_'\n",
    "#struct_file=os.path.join(STUDY_PATH,'3DT1',SUBJ,name_struct+SUBJ+'_on3DT1.nii.gz')\n",
    "#CMD+=struct_file+\" \"\n",
    "print(CMD)"
   ]
  },
  {
   "cell_type": "code",
   "execution_count": 12,
   "id": "fa7c8d7d-4497-4b90-90c7-cb5cdde2cbf4",
   "metadata": {
    "jupyter": {
     "source_hidden": true
    },
    "tags": []
   },
   "outputs": [
    {
     "name": "stdout",
     "output_type": "stream",
     "text": [
      "/NAS/deathrow/protocoles/predistim/HCP/02049AT/T1w/02049AT/mri/T1FS_nativeT1_new.nii.gz /NAS/deathrow/protocoles/predistim/R2/02049AT/R2_lin_3DT1.nii.gz /NAS/deathrow/protocoles/predistim/QSM/02049AT/QSM_lin_3DT1.nii.gz /NAS/deathrow/protocoles/predistim/3DT1/02049AT/native_lab_02049AT_resliced.nii.gz /NAS/deathrow/protocoles/predistim/HCP/02049AT/T1w/02049AT/mri/aparc+aseg_nativeT1_new.nii.gz /NAS/deathrow/protocoles/predistim/3DT1/02049AT/FLASH_SN_L_02049AT_on3DT1.nii.gz \n"
     ]
    }
   ],
   "source": [
    "SUBJ=\"02049AT\"#\"02075LP\"\n",
    "CMD=\"\"\n",
    "file=os.path.join(STUDY_PATH,'HCP',SUBJ,'T1w',SUBJ,'mri','T1FS_nativeT1_new.nii.gz')\n",
    "CMD+=file+\" \"\n",
    "\n",
    "#img_data=np.asanyarray(nib.load(file).dataobj)\n",
    "PARA='R2' #R2 / QSM\n",
    "file=os.path.join(STUDY_PATH,PARA,SUBJ,PARA+'_lin_3DT1.nii.gz') \n",
    "CMD+=file+\" \"\n",
    "PARA='QSM'\n",
    "file=os.path.join(STUDY_PATH,PARA,SUBJ,PARA+'_lin_3DT1.nii.gz') \n",
    "CMD+=file+\" \"\n",
    "struct_file=os.path.join(STUDY_PATH,'3DT1',SUBJ,'native_lab_'+SUBJ+'_resliced.nii.gz')\n",
    "CMD+=struct_file+\" \"\n",
    "\n",
    "struct_file=os.path.join(STUDY_PATH,'HCP',SUBJ,'T1w',SUBJ,'mri','aparc+aseg_nativeT1_new.nii.gz')\n",
    "CMD+=struct_file+\" \"\n",
    "name_struct='FLASH_SN_L_'\n",
    "struct_file=os.path.join(STUDY_PATH,'3DT1',SUBJ,name_struct+SUBJ+'_on3DT1.nii.gz')\n",
    "CMD+=struct_file+\" \"\n",
    "print(CMD)"
   ]
  },
  {
   "cell_type": "code",
   "execution_count": 46,
   "id": "83672d06-e869-4176-872b-e8ca0a165c4b",
   "metadata": {},
   "outputs": [
    {
     "name": "stdout",
     "output_type": "stream",
     "text": [
      "/NAS/deathrow/protocoles/predistim/R2/06036ID/R2_lin_3DT1.nii.gz\n",
      "/NAS/deathrow/protocoles/predistim/3DT1/06036ID/native_lab_06036ID_resliced.nii.gz\n"
     ]
    },
    {
     "name": "stderr",
     "output_type": "stream",
     "text": [
      "GLCM is symmetrical, therefore Sum Average = 2 * Joint Average, only 1 needs to be calculated\n"
     ]
    },
    {
     "name": "stdout",
     "output_type": "stream",
     "text": [
      "53.094092359238495\n",
      "9542\n",
      "50.28993817241423\n",
      "53.094092359238495\n"
     ]
    },
    {
     "data": {
      "text/plain": [
       "(array([1.000e+01, 1.700e+01, 2.500e+01, 4.300e+01, 5.400e+01, 7.100e+01,\n",
       "        1.320e+02, 1.870e+02, 3.540e+02, 7.010e+02, 8.490e+02, 9.420e+02,\n",
       "        1.088e+03, 1.247e+03, 1.194e+03, 9.600e+02, 4.710e+02, 3.190e+02,\n",
       "        2.180e+02, 1.410e+02, 1.010e+02, 5.900e+01, 4.200e+01, 4.000e+01,\n",
       "        2.900e+01, 2.600e+01, 1.500e+01, 1.600e+01, 1.700e+01, 1.300e+01,\n",
       "        1.500e+01, 1.800e+01, 1.400e+01, 6.000e+00, 6.000e+00, 4.000e+00,\n",
       "        7.000e+00, 4.000e+00, 8.000e+00, 7.000e+00, 2.000e+00, 6.000e+00,\n",
       "        2.000e+00, 5.000e+00, 2.000e+00, 3.000e+00, 4.000e+00, 1.000e+00,\n",
       "        3.000e+00, 1.000e+00, 5.000e+00, 1.000e+00, 2.000e+00, 0.000e+00,\n",
       "        1.000e+00, 3.000e+00, 3.000e+00, 1.000e+00, 2.000e+00, 2.000e+00,\n",
       "        0.000e+00, 0.000e+00, 1.000e+00, 0.000e+00, 0.000e+00, 1.000e+00,\n",
       "        0.000e+00, 1.000e+00, 2.000e+00, 2.000e+00, 2.000e+00, 0.000e+00,\n",
       "        1.000e+00, 1.000e+00, 1.000e+00, 1.000e+00, 3.000e+00, 0.000e+00,\n",
       "        0.000e+00, 1.000e+00, 0.000e+00, 0.000e+00, 0.000e+00, 0.000e+00,\n",
       "        0.000e+00, 0.000e+00, 0.000e+00, 0.000e+00, 0.000e+00, 0.000e+00,\n",
       "        1.000e+00, 0.000e+00, 0.000e+00, 0.000e+00, 1.000e+00, 1.000e+00,\n",
       "        0.000e+00, 2.000e+00, 0.000e+00, 1.000e+00]),\n",
       " array([21.05281347, 21.34518472, 21.63755597, 21.92992721, 22.22229846,\n",
       "        22.51466971, 22.80704096, 23.0994122 , 23.39178345, 23.6841547 ,\n",
       "        23.97652594, 24.26889719, 24.56126844, 24.85363968, 25.14601093,\n",
       "        25.43838218, 25.73075343, 26.02312467, 26.31549592, 26.60786717,\n",
       "        26.90023841, 27.19260966, 27.48498091, 27.77735215, 28.0697234 ,\n",
       "        28.36209465, 28.6544659 , 28.94683714, 29.23920839, 29.53157964,\n",
       "        29.82395088, 30.11632213, 30.40869338, 30.70106462, 30.99343587,\n",
       "        31.28580712, 31.57817837, 31.87054961, 32.16292086, 32.45529211,\n",
       "        32.74766335, 33.0400346 , 33.33240585, 33.62477709, 33.91714834,\n",
       "        34.20951959, 34.50189084, 34.79426208, 35.08663333, 35.37900458,\n",
       "        35.67137582, 35.96374707, 36.25611832, 36.54848956, 36.84086081,\n",
       "        37.13323206, 37.42560331, 37.71797455, 38.0103458 , 38.30271705,\n",
       "        38.59508829, 38.88745954, 39.17983079, 39.47220203, 39.76457328,\n",
       "        40.05694453, 40.34931577, 40.64168702, 40.93405827, 41.22642952,\n",
       "        41.51880076, 41.81117201, 42.10354326, 42.3959145 , 42.68828575,\n",
       "        42.980657  , 43.27302824, 43.56539949, 43.85777074, 44.15014199,\n",
       "        44.44251323, 44.73488448, 45.02725573, 45.31962697, 45.61199822,\n",
       "        45.90436947, 46.19674071, 46.48911196, 46.78148321, 47.07385446,\n",
       "        47.3662257 , 47.65859695, 47.9509682 , 48.24333944, 48.53571069,\n",
       "        48.82808194, 49.12045318, 49.41282443, 49.70519568, 49.99756693,\n",
       "        50.28993817]),\n",
       " <BarContainer object of 100 artists>)"
      ]
     },
     "execution_count": 46,
     "metadata": {},
     "output_type": "execute_result"
    },
    {
     "data": {
      "image/png": "[encoded data removed]",
      "text/plain": [
       "<Figure size 432x288 with 1 Axes>"
      ]
     },
     "metadata": {
      "needs_background": "light"
     },
     "output_type": "display_data"
    }
   ],
   "source": [
    "SUBJ=\"06036ID\"#\"02049AT\"\n",
    "PARA='R2' #R2 / QSM\n",
    "\n",
    "file=os.path.join(STUDY_PATH,PARA,SUBJ,PARA+'_lin_3DT1.nii.gz') \n",
    "img_data=np.asanyarray(nib.load(file).dataobj)\n",
    "img_data=np.abs(img_data)\n",
    "img_data=gaussian_filter(img_data,sigma=2.548)\n",
    "\n",
    "struct_file=os.path.join(STUDY_PATH,'3DT1',SUBJ,'native_lab_'+SUBJ+'_resliced.nii.gz')\n",
    "struct = nib.load(struct_file)\n",
    "\n",
    "print(file)\n",
    "print(struct_file)\n",
    "#VOLBRAIN caudé 3/4, Putamen 5/6, thalamus 7/8, Globus pallidus 9/10, hipocampus 11/12, amigdala 13/14\n",
    "struct_data=np.asanyarray(struct.dataobj,dtype=int)\n",
    "tmp = ((struct_data==12) | (struct_data==11))\n",
    "#tmp = (struct_data>0.5)\n",
    "params = os.path.join(\"/\",\"home\",\"romain\",\"SVN\",\"python\",\"romain\",\"Params2.yaml\")\n",
    "sitk_img = sitk.GetImageFromArray(img_data)\n",
    "sitk_mask = sitk.GetImageFromArray(tmp.astype(int))\n",
    "extractor = featureextractor.RadiomicsFeatureExtractor(params)\n",
    "result = extractor.execute(sitk_img,sitk_mask)\n",
    "print(result['original_firstorder_Kurtosis'])\n",
    "print(len(img_data[tmp]))\n",
    "print(np.nanmax(img_data[tmp]))\n",
    "#print(result)\n",
    "sous_data_set=img_data[tmp]\n",
    "print(kurtosis(sous_data_set,fisher=False))\n",
    "plt.hist(sous_data_set,100)"
   ]
  },
  {
   "cell_type": "code",
   "execution_count": 43,
   "id": "a68987db-a2a2-4f7e-b626-68e566b7e7f3",
   "metadata": {},
   "outputs": [
    {
     "name": "stdout",
     "output_type": "stream",
     "text": [
      "/NAS/deathrow/protocoles/predistim/R2/06036ID/R2_lin_3DT1.nii.gz\n",
      "/NAS/deathrow/protocoles/predistim/3DT1/06036ID/native_lab_06036ID_resliced.nii.gz\n"
     ]
    },
    {
     "name": "stderr",
     "output_type": "stream",
     "text": [
      "GLCM is symmetrical, therefore Sum Average = 2 * Joint Average, only 1 needs to be calculated\n"
     ]
    },
    {
     "name": "stdout",
     "output_type": "stream",
     "text": [
      "212.050643100979\n",
      "9542\n",
      "140.88020610927492\n",
      "212.05064310097896\n"
     ]
    },
    {
     "data": {
      "text/plain": [
       "(array([1.000e+00, 0.000e+00, 0.000e+00, 0.000e+00, 0.000e+00, 0.000e+00,\n",
       "        0.000e+00, 0.000e+00, 1.000e+00, 0.000e+00, 0.000e+00, 0.000e+00,\n",
       "        0.000e+00, 0.000e+00, 2.000e+00, 1.000e+00, 0.000e+00, 1.000e+00,\n",
       "        0.000e+00, 2.000e+00, 2.000e+00, 2.000e+00, 8.000e+00, 9.000e+00,\n",
       "        1.300e+01, 1.700e+01, 9.100e+01, 4.170e+02, 1.703e+03, 2.620e+03,\n",
       "        2.353e+03, 1.396e+03, 6.090e+02, 1.750e+02, 4.700e+01, 2.600e+01,\n",
       "        1.100e+01, 7.000e+00, 3.000e+00, 0.000e+00, 5.000e+00, 4.000e+00,\n",
       "        2.000e+00, 2.000e+00, 0.000e+00, 1.000e+00, 3.000e+00, 2.000e+00,\n",
       "        1.000e+00, 0.000e+00, 0.000e+00, 1.000e+00, 3.000e+00, 0.000e+00,\n",
       "        0.000e+00, 0.000e+00, 0.000e+00, 0.000e+00, 0.000e+00, 0.000e+00,\n",
       "        0.000e+00, 0.000e+00, 0.000e+00, 0.000e+00, 0.000e+00, 0.000e+00,\n",
       "        0.000e+00, 0.000e+00, 0.000e+00, 0.000e+00, 0.000e+00, 0.000e+00,\n",
       "        0.000e+00, 0.000e+00, 0.000e+00, 0.000e+00, 0.000e+00, 0.000e+00,\n",
       "        0.000e+00, 0.000e+00, 0.000e+00, 0.000e+00, 0.000e+00, 0.000e+00,\n",
       "        0.000e+00, 0.000e+00, 0.000e+00, 0.000e+00, 0.000e+00, 0.000e+00,\n",
       "        0.000e+00, 0.000e+00, 0.000e+00, 0.000e+00, 0.000e+00, 0.000e+00,\n",
       "        0.000e+00, 0.000e+00, 0.000e+00, 1.000e+00]),\n",
       " array([-25.84479826, -24.17754822, -22.51029817, -20.84304813,\n",
       "        -19.17579808, -17.50854804, -15.841298  , -14.17404795,\n",
       "        -12.50679791, -10.83954787,  -9.17229782,  -7.50504778,\n",
       "         -5.83779773,  -4.17054769,  -2.50329765,  -0.8360476 ,\n",
       "          0.83120244,   2.49845248,   4.16570253,   5.83295257,\n",
       "          7.50020261,   9.16745266,  10.8347027 ,  12.50195275,\n",
       "         14.16920279,  15.83645283,  17.50370288,  19.17095292,\n",
       "         20.83820296,  22.50545301,  24.17270305,  25.8399531 ,\n",
       "         27.50720314,  29.17445318,  30.84170323,  32.50895327,\n",
       "         34.17620331,  35.84345336,  37.5107034 ,  39.17795344,\n",
       "         40.84520349,  42.51245353,  44.17970358,  45.84695362,\n",
       "         47.51420366,  49.18145371,  50.84870375,  52.51595379,\n",
       "         54.18320384,  55.85045388,  57.51770393,  59.18495397,\n",
       "         60.85220401,  62.51945406,  64.1867041 ,  65.85395414,\n",
       "         67.52120419,  69.18845423,  70.85570427,  72.52295432,\n",
       "         74.19020436,  75.85745441,  77.52470445,  79.19195449,\n",
       "         80.85920454,  82.52645458,  84.19370462,  85.86095467,\n",
       "         87.52820471,  89.19545476,  90.8627048 ,  92.52995484,\n",
       "         94.19720489,  95.86445493,  97.53170497,  99.19895502,\n",
       "        100.86620506, 102.5334551 , 104.20070515, 105.86795519,\n",
       "        107.53520524, 109.20245528, 110.86970532, 112.53695537,\n",
       "        114.20420541, 115.87145545, 117.5387055 , 119.20595554,\n",
       "        120.87320559, 122.54045563, 124.20770567, 125.87495572,\n",
       "        127.54220576, 129.2094558 , 130.87670585, 132.54395589,\n",
       "        134.21120593, 135.87845598, 137.54570602, 139.21295607,\n",
       "        140.88020611]),\n",
       " <BarContainer object of 100 artists>)"
      ]
     },
     "execution_count": 43,
     "metadata": {},
     "output_type": "execute_result"
    },
    {
     "data": {
      "image/png": "[encoded data removed]",
      "text/plain": [
       "<Figure size 432x288 with 1 Axes>"
      ]
     },
     "metadata": {
      "needs_background": "light"
     },
     "output_type": "display_data"
    }
   ],
   "source": [
    "SUBJ=\"06036ID\"#\"02049AT\"\n",
    "PARA='R2' #R2 / QSM\n",
    "\n",
    "file=os.path.join(STUDY_PATH,PARA,SUBJ,PARA+'_lin_3DT1.nii.gz') \n",
    "img_data=np.asanyarray(nib.load(file).dataobj)\n",
    "struct_file=os.path.join(STUDY_PATH,'3DT1',SUBJ,'native_lab_'+SUBJ+'_resliced.nii.gz')\n",
    "struct = nib.load(struct_file)\n",
    "\n",
    "print(file)\n",
    "print(struct_file)\n",
    "#VOLBRAIN caudé 3/4, Putamen 5/6, thalamus 7/8, Globus pallidus 9/10, hipocampus 11/12, amigdala 13/14\n",
    "struct_data=np.asanyarray(struct.dataobj,dtype=int)\n",
    "tmp = ((struct_data==12) | (struct_data==11))\n",
    "#tmp = (struct_data>0.5)\n",
    "params = os.path.join(\"/\",\"home\",\"romain\",\"SVN\",\"python\",\"romain\",\"Params2.yaml\")\n",
    "sitk_img = sitk.GetImageFromArray(img_data)\n",
    "sitk_mask = sitk.GetImageFromArray(tmp.astype(int))\n",
    "extractor = featureextractor.RadiomicsFeatureExtractor(params)\n",
    "result = extractor.execute(sitk_img,sitk_mask)\n",
    "print(result['original_firstorder_Kurtosis'])\n",
    "print(len(img_data[tmp]))\n",
    "print(np.nanmax(img_data[tmp]))\n",
    "#print(result)\n",
    "sous_data_set=img_data[tmp]\n",
    "print(kurtosis(sous_data_set,fisher=False))\n",
    "plt.hist(sous_data_set,100)"
   ]
  },
  {
   "cell_type": "code",
   "execution_count": 47,
   "id": "a5faf843-e6c5-4cec-8854-2fedbff378e7",
   "metadata": {},
   "outputs": [],
   "source": [
    "OLD_MAX=np.nanmax(img_data)\n",
    "OLD_MIN=np.nanmin(img_data)\n",
    "NEW_MIN=-1\n",
    "NEW_MAX=1\n",
    "\n",
    "X_FACTOR=(NEW_MAX-NEW_MIN)/(OLD_MAX-OLD_MIN)"
   ]
  },
  {
   "cell_type": "code",
   "execution_count": 48,
   "id": "4b4ea644-e03e-4ff9-b01f-c4c6c03ebfac",
   "metadata": {},
   "outputs": [
    {
     "name": "stdout",
     "output_type": "stream",
     "text": [
      "115991.15541815001 0.006349491269091832 1.7242694947492404e-05\n"
     ]
    }
   ],
   "source": [
    "print(OLD_MAX,OLD_MIN,X_FACTOR)"
   ]
  },
  {
   "cell_type": "code",
   "execution_count": 51,
   "id": "d4882d97-5a14-4fcc-8a6b-41b0244597e4",
   "metadata": {},
   "outputs": [],
   "source": [
    "test=img_data-OLD_MIN*X_FACTOR-NEW_MIN"
   ]
  },
  {
   "cell_type": "code",
   "execution_count": 50,
   "id": "d43f06ed-3204-4b26-9a8f-94d4f4624122",
   "metadata": {},
   "outputs": [
    {
     "data": {
      "text/plain": [
       "array([[[0.02755383, 0.02766596, 0.02785479, ..., 0.02642243,\n",
       "         0.02654069, 0.02662247],\n",
       "        [0.02758386, 0.02767635, 0.02783165, ..., 0.0263541 ,\n",
       "         0.02642613, 0.02648231],\n",
       "        [0.02759198, 0.02765555, 0.02776201, ..., 0.02625015,\n",
       "         0.02625167, 0.02626876],\n",
       "        ...,\n",
       "        [0.00209928, 0.00207766, 0.00202655, ..., 0.00135425,\n",
       "         0.00126545, 0.00121441],\n",
       "        [0.00212972, 0.00210768, 0.00205811, ..., 0.0014943 ,\n",
       "         0.00142391, 0.00138456],\n",
       "        [0.00214782, 0.00212507, 0.00207578, ..., 0.001573  ,\n",
       "         0.00151273, 0.00147978]],\n",
       "\n",
       "       [[0.08671224, 0.08699741, 0.08747491, ..., 0.08362363,\n",
       "         0.08397133, 0.08420259],\n",
       "        [0.08676836, 0.08700166, 0.08739167, ..., 0.08344992,\n",
       "         0.08367057, 0.08383147],\n",
       "        [0.08675393, 0.08691088, 0.08717363, ..., 0.08318854,\n",
       "         0.08321255, 0.08326438],\n",
       "        ...,\n",
       "        [0.02201966, 0.02195528, 0.02179824, ..., 0.01967906,\n",
       "         0.01941349, 0.01926258],\n",
       "        [0.02211354, 0.02204808, 0.02189583, ..., 0.02010519,\n",
       "         0.01989307, 0.01977635],\n",
       "        [0.02216975, 0.02210246, 0.02195151, ..., 0.0203426 ,\n",
       "         0.02015954, 0.0200613 ]],\n",
       "\n",
       "       [[0.26167442, 0.26242543, 0.26367129, ..., 0.25260019,\n",
       "         0.25368721, 0.25438834],\n",
       "        [0.2617505 , 0.26235729, 0.26336274, ..., 0.25211577,\n",
       "         0.25283187, 0.25332711],\n",
       "        [0.26158046, 0.26197533, 0.26263215, ..., 0.25139239,\n",
       "         0.25152624, 0.25169746],\n",
       "        ...,\n",
       "        [0.0894215 , 0.08921454, 0.08870161, ..., 0.08173235,\n",
       "         0.08088392, 0.08040639],\n",
       "        [0.08973334, 0.08952159, 0.08902135, ..., 0.08309492,\n",
       "         0.08241744, 0.08204983],\n",
       "        [0.08991879, 0.08970089, 0.08920412, ..., 0.08385076,\n",
       "         0.08326574, 0.0829572 ]],\n",
       "\n",
       "       ...,\n",
       "\n",
       "       [[0.08237202, 0.08233975, 0.08223549, ..., 0.08248488,\n",
       "         0.08236686, 0.08228083],\n",
       "        [0.08217827, 0.08215336, 0.08206955, ..., 0.08264415,\n",
       "         0.08241472, 0.08225501],\n",
       "        [0.08188446, 0.08187399, 0.08182793, ..., 0.08292976,\n",
       "         0.08252575, 0.08225053],\n",
       "        ...,\n",
       "        [0.27198379, 0.27124157, 0.26993296, ..., 0.26250172,\n",
       "         0.26573807, 0.26773974],\n",
       "        [0.27078775, 0.27042627, 0.26972266, ..., 0.2629013 ,\n",
       "         0.26588737, 0.26769004],\n",
       "        [0.27004983, 0.2699043 , 0.26954329, ..., 0.26303467,\n",
       "         0.26590663, 0.2676124 ]],\n",
       "\n",
       "       [[0.01983454, 0.01983264, 0.01981487, ..., 0.01990611,\n",
       "         0.01986165, 0.0198303 ],\n",
       "        [0.01977105, 0.01977211, 0.01976167, ..., 0.01995852,\n",
       "         0.01988145, 0.01982834],\n",
       "        [0.0196735 , 0.01968012, 0.01968294, ..., 0.02005259,\n",
       "         0.01992462, 0.01983754],\n",
       "        ...,\n",
       "        [0.09057361, 0.09032261, 0.08987479, ..., 0.08722566,\n",
       "         0.08842023, 0.08915542],\n",
       "        [0.09004941, 0.08993801, 0.08971314, ..., 0.08731876,\n",
       "         0.08842578, 0.08909028],\n",
       "        [0.08973091, 0.08969837, 0.08959927, ..., 0.08733475,\n",
       "         0.08840245, 0.08903289]],\n",
       "\n",
       "       [[0.00138157, 0.0013865 , 0.00139061, ..., 0.0014253 ,\n",
       "         0.00140228, 0.00138707],\n",
       "        [0.00135939, 0.00136589, 0.00137327, ..., 0.00144462,\n",
       "         0.00141248, 0.00139103],\n",
       "        [0.00132471, 0.00133401, 0.0013471 , ..., 0.0014793 ,\n",
       "         0.00143314, 0.00140207],\n",
       "        ...,\n",
       "        [0.02902471, 0.02893584, 0.02877496, ..., 0.02779748,\n",
       "         0.02826604, 0.02855313],\n",
       "        [0.02879169, 0.02875686, 0.02868262, ..., 0.02781168,\n",
       "         0.02824866, 0.02850979],\n",
       "        [0.02865182, 0.0286474 , 0.02862186, ..., 0.02780451,\n",
       "         0.02822762, 0.02847642]]])"
      ]
     },
     "execution_count": 50,
     "metadata": {},
     "output_type": "execute_result"
    }
   ],
   "source": [
    "test"
   ]
  },
  {
   "cell_type": "code",
   "execution_count": null,
   "id": "394890c6-00b4-4c2e-995b-7000f7428be6",
   "metadata": {},
   "outputs": [],
   "source": []
  }
 ],
 "metadata": {
  "kernelspec": {
   "display_name": "Python 3",
   "language": "python",
   "name": "python3"
  },
  "language_info": {
   "codemirror_mode": {
    "name": "ipython",
    "version": 3
   },
   "file_extension": ".py",
   "mimetype": "text/x-python",
   "name": "python",
   "nbconvert_exporter": "python",
   "pygments_lexer": "ipython3",
   "version": "3.7.6"
  }
 },
 "nbformat": 4,
 "nbformat_minor": 5
}
