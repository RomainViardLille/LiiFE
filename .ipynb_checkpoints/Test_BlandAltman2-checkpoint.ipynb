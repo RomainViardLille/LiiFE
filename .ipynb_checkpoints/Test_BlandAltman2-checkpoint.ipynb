{
 "cells": [
  {
   "cell_type": "code",
   "execution_count": 1,
   "id": "f8f41d94",
   "metadata": {},
   "outputs": [],
   "source": [
    "import nibabel as nib\n",
    "import numpy as np\n",
    "from scipy.ndimage import zoom\n",
    "import matplotlib.pyplot as plt"
   ]
  },
  {
   "cell_type": "code",
   "execution_count": 2,
   "id": "a1a47f91",
   "metadata": {},
   "outputs": [],
   "source": [
    "\"\"\"\"\n",
    "def resample_images(image1, image2):\n",
    "    # Load NIfTI images\n",
    "    image1_data = image1.get_fdata()\n",
    "    image2_data = image2.get_fdata()\n",
    "\n",
    "    # Ensure both images have the same shape\n",
    "    if image1_data.shape != image2_data.shape:\n",
    "        # Calculate the target shape as the minimum shape along each dimension\n",
    "        target_shape = tuple(min(d1, d2) for d1, d2 in zip(image1_data.shape, image2_data.shape))\n",
    "\n",
    "        # Calculate the scaling factors for resampling\n",
    "        scale_factors = [t / c for t, c in zip(target_shape, image1_data.shape)]\n",
    "\n",
    "        # Perform resampling for both images\n",
    "        resampled_image1_data = zoom(image1_data, scale_factors)\n",
    "        resampled_image2_data = zoom(image2_data, scale_factors)\n",
    "\n",
    "        # Create new NIfTI images with the resampled data\n",
    "        resampled_image1 = nib.Nifti1Image(resampled_image1_data, affine=image1.affine)\n",
    "        resampled_image2 = nib.Nifti1Image(resampled_image2_data, affine=image2.affine)\n",
    "\n",
    "        return resampled_image1, resampled_image2\n",
    "    else:\n",
    "        return image1, image2"
   ]
  },
  {
   "cell_type": "code",
   "execution_count": 5,
   "id": "25289299",
   "metadata": {},
   "outputs": [],
   "source": [
    "def resample_and_crop_images(image1, image2):\n",
    "    # Load NIfTI images\n",
    "    image1_data = image1.get_fdata()\n",
    "    image2_data = image2.get_fdata()\n",
    "\n",
    "    # Calculate the target shape as the minimum shape along each dimension\n",
    "    target_shape = tuple(min(d1, d2) for d1, d2 in zip(image1_data.shape, image2_data.shape))\n",
    "\n",
    "    # Calculate the scaling factors for resampling\n",
    "    scale_factors = [t / c for t, c in zip(target_shape, image1_data.shape)]\n",
    "\n",
    "    # Perform resampling for both images\n",
    "    resampled_image1_data = zoom(image1_data, scale_factors)\n",
    "    resampled_image2_data = zoom(image2_data, scale_factors)\n",
    "\n",
    "    # Calculate cropping indices to keep the center of the images\n",
    "    crop_indices1 = tuple(slice((d1 - t) // 2, (d1 + t) // 2) for d1, t in zip(resampled_image1_data.shape, target_shape))\n",
    "    crop_indices2 = tuple(slice((d2 - t) // 2, (d2 + t) // 2) for d2, t in zip(resampled_image2_data.shape, target_shape))\n",
    "\n",
    "    # Crop both images to the same shape\n",
    "    cropped_image1_data = resampled_image1_data[crop_indices1]\n",
    "    cropped_image2_data = resampled_image2_data[crop_indices2]\n",
    "\n",
    "    # Create new NIfTI images with the cropped data\n",
    "    cropped_image1 = nib.Nifti1Image(cropped_image1_data, affine=image1.affine)\n",
    "    cropped_image2 = nib.Nifti1Image(cropped_image2_data, affine=image2.affine)\n",
    "\n",
    "    return cropped_image1, cropped_image2\n"
   ]
  },
  {
   "cell_type": "code",
   "execution_count": 6,
   "id": "6748bf18",
   "metadata": {},
   "outputs": [],
   "source": [
    "def bland_altman_plot(image1, image2):\n",
    "    # Get image data as numpy arrays\n",
    "    data1 = image1.get_fdata()\n",
    "    data2 = image2.get_fdata()\n",
    "\n",
    "    # Calculate the mean and the difference between the two images\n",
    "    mean = (data1 + data2) / 2\n",
    "    diff = data1 - data2\n",
    "\n",
    "    # Create the Bland-Altman plot\n",
    "    plt.figure(figsize=(8, 6))\n",
    "    plt.scatter(mean, diff, alpha=0.5)\n",
    "    plt.axhline(np.mean(diff), color='red', linestyle='--', label='Mean Difference')\n",
    "    plt.axhline(1.96 * np.std(diff), color='gray', linestyle='--', label='Upper Limit of Agreement')\n",
    "    plt.axhline(-1.96 * np.std(diff), color='gray', linestyle='--', label='Lower Limit of Agreement')\n",
    "\n",
    "    # Customize the plot\n",
    "    plt.xlabel('Mean of Measurements')\n",
    "    plt.ylabel('Difference between Measurements')\n",
    "    plt.title('Bland-Altman Plot')\n",
    "    plt.legend()\n",
    "\n",
    "    # Show the plot\n",
    "    plt.grid(True)\n",
    "    plt.show()"
   ]
  },
  {
   "cell_type": "code",
   "execution_count": 7,
   "id": "b5484414",
   "metadata": {},
   "outputs": [
    {
     "ename": "ValueError",
     "evalue": "operands could not be broadcast together with shapes (272,448,448) (288,392,392) ",
     "output_type": "error",
     "traceback": [
      "\u001b[0;31m---------------------------------------------------------------------------\u001b[0m",
      "\u001b[0;31mValueError\u001b[0m                                Traceback (most recent call last)",
      "\u001b[0;32m/tmp/ipykernel_135321/117717280.py\u001b[0m in \u001b[0;36m<module>\u001b[0;34m\u001b[0m\n\u001b[1;32m     11\u001b[0m \u001b[0;34m\u001b[0m\u001b[0m\n\u001b[1;32m     12\u001b[0m \u001b[0;31m# Now you can proceed with creating the Bland-Altman plot using the resampled images\u001b[0m\u001b[0;34m\u001b[0m\u001b[0;34m\u001b[0m\u001b[0;34m\u001b[0m\u001b[0m\n\u001b[0;32m---> 13\u001b[0;31m \u001b[0mbland_altman_plot\u001b[0m\u001b[0;34m(\u001b[0m\u001b[0mresampled_image1\u001b[0m\u001b[0;34m,\u001b[0m \u001b[0mresampled_image2\u001b[0m\u001b[0;34m)\u001b[0m\u001b[0;34m\u001b[0m\u001b[0;34m\u001b[0m\u001b[0m\n\u001b[0m",
      "\u001b[0;32m/tmp/ipykernel_135321/3216930905.py\u001b[0m in \u001b[0;36mbland_altman_plot\u001b[0;34m(image1, image2)\u001b[0m\n\u001b[1;32m      5\u001b[0m \u001b[0;34m\u001b[0m\u001b[0m\n\u001b[1;32m      6\u001b[0m     \u001b[0;31m# Calculate the mean and the difference between the two images\u001b[0m\u001b[0;34m\u001b[0m\u001b[0;34m\u001b[0m\u001b[0;34m\u001b[0m\u001b[0m\n\u001b[0;32m----> 7\u001b[0;31m     \u001b[0mmean\u001b[0m \u001b[0;34m=\u001b[0m \u001b[0;34m(\u001b[0m\u001b[0mdata1\u001b[0m \u001b[0;34m+\u001b[0m \u001b[0mdata2\u001b[0m\u001b[0;34m)\u001b[0m \u001b[0;34m/\u001b[0m \u001b[0;36m2\u001b[0m\u001b[0;34m\u001b[0m\u001b[0;34m\u001b[0m\u001b[0m\n\u001b[0m\u001b[1;32m      8\u001b[0m     \u001b[0mdiff\u001b[0m \u001b[0;34m=\u001b[0m \u001b[0mdata1\u001b[0m \u001b[0;34m-\u001b[0m \u001b[0mdata2\u001b[0m\u001b[0;34m\u001b[0m\u001b[0;34m\u001b[0m\u001b[0m\n\u001b[1;32m      9\u001b[0m \u001b[0;34m\u001b[0m\u001b[0m\n",
      "\u001b[0;31mValueError\u001b[0m: operands could not be broadcast together with shapes (272,448,448) (288,392,392) "
     ]
    }
   ],
   "source": [
    "# Example usage with your file paths:\n",
    "image_file1 = \"/NAS/dumbo/protocoles/HAMSI/OurData4Mispel_T1Gado/Before_prettt_T1Gd/CHU/Pat8_T1Gado_CHU.nii.gz\"\n",
    "image_file2 = \"/NAS/dumbo/protocoles/HAMSI/OurData4Mispel_T1Gado/Before_prettt_T1Gd/COL/Pat8_T1Gado_COL.nii.gz\"\n",
    "\n",
    "# Load NIfTI images\n",
    "image1 = nib.load(image_file1)\n",
    "image2 = nib.load(image_file2)\n",
    "\n",
    "# Resample both images to have the same dimensions\n",
    "resampled_image1, resampled_image2 = resample_images(image1, image2)\n",
    "\n",
    "# Now you can proceed with creating the Bland-Altman plot using the resampled images\n",
    "bland_altman_plot(resampled_image1, resampled_image2)"
   ]
  },
  {
   "cell_type": "code",
   "execution_count": 8,
   "id": "c55d9cf9",
   "metadata": {},
   "outputs": [
    {
     "ename": "ValueError",
     "evalue": "operands could not be broadcast together with shapes (272,448,448) (272,28,28) ",
     "output_type": "error",
     "traceback": [
      "\u001b[0;31m---------------------------------------------------------------------------\u001b[0m",
      "\u001b[0;31mValueError\u001b[0m                                Traceback (most recent call last)",
      "\u001b[0;32m/tmp/ipykernel_135321/2068555643.py\u001b[0m in \u001b[0;36m<module>\u001b[0;34m\u001b[0m\n\u001b[1;32m     10\u001b[0m \u001b[0;34m\u001b[0m\u001b[0m\n\u001b[1;32m     11\u001b[0m \u001b[0;31m# Now you can proceed with creating the Bland-Altman plot using the cropped images\u001b[0m\u001b[0;34m\u001b[0m\u001b[0;34m\u001b[0m\u001b[0;34m\u001b[0m\u001b[0m\n\u001b[0;32m---> 12\u001b[0;31m \u001b[0mbland_altman_plot\u001b[0m\u001b[0;34m(\u001b[0m\u001b[0mcropped_image1\u001b[0m\u001b[0;34m,\u001b[0m \u001b[0mcropped_image2\u001b[0m\u001b[0;34m)\u001b[0m\u001b[0;34m\u001b[0m\u001b[0;34m\u001b[0m\u001b[0m\n\u001b[0m",
      "\u001b[0;32m/tmp/ipykernel_135321/3216930905.py\u001b[0m in \u001b[0;36mbland_altman_plot\u001b[0;34m(image1, image2)\u001b[0m\n\u001b[1;32m      5\u001b[0m \u001b[0;34m\u001b[0m\u001b[0m\n\u001b[1;32m      6\u001b[0m     \u001b[0;31m# Calculate the mean and the difference between the two images\u001b[0m\u001b[0;34m\u001b[0m\u001b[0;34m\u001b[0m\u001b[0;34m\u001b[0m\u001b[0m\n\u001b[0;32m----> 7\u001b[0;31m     \u001b[0mmean\u001b[0m \u001b[0;34m=\u001b[0m \u001b[0;34m(\u001b[0m\u001b[0mdata1\u001b[0m \u001b[0;34m+\u001b[0m \u001b[0mdata2\u001b[0m\u001b[0;34m)\u001b[0m \u001b[0;34m/\u001b[0m \u001b[0;36m2\u001b[0m\u001b[0;34m\u001b[0m\u001b[0;34m\u001b[0m\u001b[0m\n\u001b[0m\u001b[1;32m      8\u001b[0m     \u001b[0mdiff\u001b[0m \u001b[0;34m=\u001b[0m \u001b[0mdata1\u001b[0m \u001b[0;34m-\u001b[0m \u001b[0mdata2\u001b[0m\u001b[0;34m\u001b[0m\u001b[0;34m\u001b[0m\u001b[0m\n\u001b[1;32m      9\u001b[0m \u001b[0;34m\u001b[0m\u001b[0m\n",
      "\u001b[0;31mValueError\u001b[0m: operands could not be broadcast together with shapes (272,448,448) (272,28,28) "
     ]
    }
   ],
   "source": [
    "image_file1 = \"/NAS/dumbo/protocoles/HAMSI/OurData4Mispel_T1Gado/Before_prettt_T1Gd/CHU/Pat8_T1Gado_CHU.nii.gz\"\n",
    "image_file2 = \"/NAS/dumbo/protocoles/HAMSI/OurData4Mispel_T1Gado/Before_prettt_T1Gd/COL/Pat8_T1Gado_COL.nii.gz\"\n",
    "\n",
    "# Load NIfTI images\n",
    "image1 = nib.load(image_file1)\n",
    "image2 = nib.load(image_file2)\n",
    "\n",
    "# Resample and crop both images to have the same dimensions\n",
    "cropped_image1, cropped_image2 = resample_and_crop_images(image1, image2)\n",
    "\n",
    "# Now you can proceed with creating the Bland-Altman plot using the cropped images\n",
    "bland_altman_plot(cropped_image1, cropped_image2)\n"
   ]
  },
  {
   "cell_type": "code",
   "execution_count": null,
   "id": "94a13561",
   "metadata": {},
   "outputs": [],
   "source": []
  }
 ],
 "metadata": {
  "kernelspec": {
   "display_name": "Python 3 (ipykernel)",
   "language": "python",
   "name": "python3"
  },
  "language_info": {
   "codemirror_mode": {
    "name": "ipython",
    "version": 3
   },
   "file_extension": ".py",
   "mimetype": "text/x-python",
   "name": "python",
   "nbconvert_exporter": "python",
   "pygments_lexer": "ipython3",
   "version": "3.7.6"
  }
 },
 "nbformat": 4,
 "nbformat_minor": 5
}
