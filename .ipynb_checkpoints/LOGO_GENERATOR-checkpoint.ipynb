{
 "cells": [
  {
   "cell_type": "code",
   "execution_count": 2,
   "id": "c5c83595-b240-4979-9a0b-e7b41cc55d26",
   "metadata": {
    "tags": []
   },
   "outputs": [
    {
     "name": "stdout",
     "output_type": "stream",
     "text": [
      "sudo: pip: command not found\n"
     ]
    }
   ],
   "source": [
    "! sudo pip install qrocde --proxy=http://10.50.2.2:3128 -vvv"
   ]
  },
  {
   "cell_type": "code",
   "execution_count": 3,
   "id": "034d14b2-0a6b-460e-9433-902e804f7128",
   "metadata": {},
   "outputs": [
    {
     "name": "stdout",
     "output_type": "stream",
     "text": [
      "Collecting pyqrcode\n",
      "  Downloading PyQRCode-1.2.1.zip (41 kB)\n",
      "\u001b[2K     \u001b[38;2;114;156;31m━━━━━━━━━━━━━━━━━━━━━━━━━━━━━━━━━━━━━━━━\u001b[0m \u001b[32m41.9/41.9 kB\u001b[0m \u001b[31m1.4 MB/s\u001b[0m eta \u001b[36m0:00:00\u001b[0m\n",
      "\u001b[?25h  Preparing metadata (setup.py) ... \u001b[?25ldone\n",
      "\u001b[?25hBuilding wheels for collected packages: pyqrcode\n",
      "  Building wheel for pyqrcode (setup.py) ... \u001b[?25ldone\n",
      "\u001b[?25h  Created wheel for pyqrcode: filename=PyQRCode-1.2.1-py3-none-any.whl size=36227 sha256=b24da7c7aa40fc3dee805bc6c31b0305aa497d4523b405a5862850482c3cd00b\n",
      "  Stored in directory: /home/romain/.cache/pip/wheels/f5/db/22/ade11e0c0854d1bb2fcc673dc90f6495ee2c0d2b6eb41492e3\n",
      "Successfully built pyqrcode\n",
      "Installing collected packages: pyqrcode\n",
      "Successfully installed pyqrcode-1.2.1\n"
     ]
    }
   ],
   "source": [
    "! pip install pyqrcode"
   ]
  },
  {
   "cell_type": "raw",
   "id": "87ee8fa0-1056-4dd1-a057-4704da8a4a94",
   "metadata": {},
   "source": [
    "import png"
   ]
  },
  {
   "cell_type": "code",
   "execution_count": 12,
   "id": "9f75a44d-7e69-4e6a-8ab9-9355cea02be4",
   "metadata": {
    "tags": []
   },
   "outputs": [
    {
     "name": "stdout",
     "output_type": "stream",
     "text": [
      "Collecting pypng\n",
      "  Using cached pypng-0.20220715.0-py3-none-any.whl (58 kB)\n",
      "Installing collected packages: pypng\n",
      "Successfully installed pypng-0.20220715.0\n"
     ]
    }
   ],
   "source": [
    "! pip install pypng"
   ]
  },
  {
   "cell_type": "code",
   "execution_count": 4,
   "id": "001dbf1b-d4c8-41ba-b968-626bd7598b9d",
   "metadata": {},
   "outputs": [],
   "source": [
    "import pyqrcode\n",
    "from pyqrcode import QRCode\n",
    "from PIL import Image"
   ]
  },
  {
   "cell_type": "code",
   "execution_count": null,
   "id": "957a720a-bec1-477a-822f-8faafb5e5afb",
   "metadata": {},
   "outputs": [],
   "source": [
    "#Génération d'un QR code pour la thèse à Vincent "
   ]
  },
  {
   "cell_type": "code",
   "execution_count": 13,
   "id": "8bc27861-659b-4adb-ad23-4f1c6ce844de",
   "metadata": {
    "tags": []
   },
   "outputs": [],
   "source": [
    "dest=\"https://univ-lille-fr.zoom.us/j/93185065858?pwd=WEFNaWJLQWVZSzJPUHJOekduUEVIQT09\"\n",
    "myQR=QRCode(dest,error='H',version=8)\n",
    "myQR.png('/NAS/tupac/divers/these_TheRoc.png',scale=5,module_color=(95, 132, 144), background=(255,255,255))"
   ]
  },
  {
   "cell_type": "code",
   "execution_count": null,
   "id": "3604afcd-c22e-479b-8416-40c1d7112b0e",
   "metadata": {},
   "outputs": [],
   "source": [
    "##Génration d'un QRCode pour "
   ]
  },
  {
   "cell_type": "code",
   "execution_count": 17,
   "id": "63c90322-8ec2-460a-a508-3f49d4a3cafe",
   "metadata": {},
   "outputs": [],
   "source": [
    "dest=\"https://ums-plbs.univ-lille.fr/imagerie-et-ia-2022\"\n",
    "myQR=QRCode(dest,error='H',version=6)\n",
    "myQR.png('/NAS/tupac/divers/ImAgerie&IA_info.png',scale=20,module_color=(95, 132, 144), background=(255,255,255))\n",
    "\n",
    "dest=\"https://univ-lille-fr.zoom.us/s/99543946020\"\n",
    "#dest=\"http://localhost:9999/lab?token=d3fc356ae36def4dcbab83d07609e33af0aa6499651b374e\"\n",
    "myQR=QRCode(dest,error='H',version=6)\n",
    "myQR.png('/NAS/tupac/divers/ImAgerie&IA_zoom.png',scale=20,module_color=(95, 132, 144), background=(255,255,255))\n",
    "\n",
    "#im=Image.open('/NAS/tupac/divers/ImAgerie&IA.png')"
   ]
  },
  {
   "cell_type": "code",
   "execution_count": 9,
   "id": "121f1278-1175-4e5d-b4d4-4ee7dde9b47c",
   "metadata": {},
   "outputs": [
    {
     "name": "stdout",
     "output_type": "stream",
     "text": [
      "(980, 980)\n",
      "(2058, 943)\n",
      "(514, 235)\n"
     ]
    }
   ],
   "source": [
    "#dest=\"https://www.lepotcommun.fr/pot/ruxth315\"\n",
    "dest=\"https://ums-plbs.univ-lille.fr/imagerie-et-ia-2022\"\n",
    "myQR=QRCode(dest,error='H',version=6)\n",
    "myQR.png('/NAS/tupac/divers/qrcode.png',scale=20,module_color=(95, 132, 144), background=(255,255,255))\n",
    "im=Image.open('/NAS/tupac/divers/qrcode.png')\n",
    "\n",
    "qr_width,qr_height=im.size\n",
    "print(im.size)\n",
    "im=im.convert(\"RGBA\")\n",
    "logo=Image.open('/NAS/tupac/divers/LOGO_V2_2.png')\n",
    "logo_width,logo_height=logo.size\n",
    "print(logo.size)\n",
    "logo=logo.resize((int(logo_width/4),int(logo_height/4)))\n",
    "logo_width,logo_height=logo.size\n",
    "print(logo.size)\n",
    "\n",
    "# Calculate xmin, ymin, xmax, ymax to put the logo\n",
    "xmin = int((qr_width / 2) - (logo_width / 2))\n",
    "xmax = int((qr_width / 2) + (logo_width / 2))\n",
    "ymin = int((qr_height / 2) - (logo_height / 2))\n",
    "ymax = int((qr_height / 2) + (logo_height / 2))\n",
    "#box=(135,135,235,235)\n",
    "#im.crop(box)\n",
    "\n",
    "im.paste(logo,(xmin, ymin))\n",
    "#im.save('/NAS/tupac/divers/QRLOGO_V2.png')\n",
    "im.save('/NAS/tupac/divers/PotCommunTheseMorgan.png')"
   ]
  },
  {
   "cell_type": "code",
   "execution_count": null,
   "id": "3cb167a7-ba45-4582-9d98-c932d475ab31",
   "metadata": {},
   "outputs": [],
   "source": [
    "dest=\"http://ci2c.fr/\"\n",
    "myQR=QRCode(dest,error='H',version=5)\n",
    "myQR.png('/NAS/tupac/divers/qrcode.png',scale=20,module_color=(95, 132, 144), background=(255,255,255))\n",
    "im=Image.open('/NAS/tupac/divers/qrcode.png')\n",
    "\n",
    "qr_width,qr_height=im.size\n",
    "print(im.size)\n",
    "im=im.convert(\"RGBA\")\n",
    "logo=Image.open('/NAS/tupac/divers/LOGO3_V3.png')\n",
    "logo_width,logo_height=logo.size\n",
    "print(logo.size)\n",
    "logo=logo.resize((int(logo_width/7),int(logo_height/7)))\n",
    "logo_width,logo_height=logo.size\n",
    "print(logo.size)\n",
    "\n",
    "# Calculate xmin, ymin, xmax, ymax to put the logo\n",
    "xmin = int((qr_width / 2) - (logo_width / 2))\n",
    "xmax = int((qr_width / 2) + (logo_width / 2))\n",
    "ymin = int((qr_height / 2) - (logo_height / 2))\n",
    "ymax = int((qr_height / 2) + (logo_height / 2))\n",
    "#box=(135,135,235,235)\n",
    "#im.crop(box)\n",
    "\n",
    "im.paste(logo,(xmin, ymin))\n",
    "im\n",
    "#im.save('/NAS/tupac/divers/QRLOGO_V3.png')"
   ]
  },
  {
   "cell_type": "code",
   "execution_count": null,
   "id": "369bd0b8-aac8-4d2d-8358-cb3907cfe6fb",
   "metadata": {},
   "outputs": [],
   "source": [
    "myQR"
   ]
  },
  {
   "cell_type": "markdown",
   "id": "fc4a4a00-a88c-46be-980b-3f14f7a3c06a",
   "metadata": {},
   "source": [
    "## Vcard version"
   ]
  },
  {
   "cell_type": "code",
   "execution_count": 121,
   "id": "87a0f5f8-f2ed-416d-9fbf-28dcfdf0bef9",
   "metadata": {},
   "outputs": [
    {
     "name": "stdout",
     "output_type": "stream",
     "text": [
      "(930, 930)\n",
      "(3199, 1233)\n",
      "(457, 176)\n"
     ]
    },
    {
     "data": {
      "image/png": "[encoded data removed]",
      "text/plain": [
       "<PIL.Image.Image image mode=RGBA size=930x930 at 0x7F5BB8267A90>"
      ]
     },
     "execution_count": 121,
     "metadata": {},
     "output_type": "execute_result"
    }
   ],
   "source": [
    "data = '''BEGIN:VCARD\n",
    "VERSION:4.0\n",
    "FN:VIARD Romain\n",
    "N:VIARD;Romain;;Dr;\n",
    "TITLE:Research engineer\n",
    "ORG:CHU Lille;UMS 2014 - US 41 - Plateformes Lilloises en Biologie & Santé \n",
    "URL:http://ci2c.fr/\n",
    "EMAIL:romain.viard@chu-lille.fr\n",
    "TEL;TYPE=cell:(+33)629410210\n",
    "REV:20211019T1054001Z\n",
    "END:VCARD '''\n",
    "\n",
    "#BDAY:19790402\n",
    "#PHOTO:MEDIATYPE=image/png:http://ci2c.fr/images/arianes_logo.png\n",
    "#LOGO:MEDIATYPE=image/png:https://ums-plbs.univ-lille.fr/fileadmin/_processed_/e/a/csm_logo_1ab869cd14.png\n",
    "#NOTE:Structural and Functionnal Brain Connectivity \n",
    "#ADR;TYPE=work:;Service IRM Hôpital Roger Salengro;Avenue du Pr Emile Laine;Lille;;59037;France\n",
    "#Coord GPS\n",
    "\n",
    "myQR=QRCode(data,error='H',version=17)\n",
    "myQR.png('/NAS/tupac/divers/qrcode_vcard.png',scale=10,module_color=(95, 132, 144), background=(255,255,255))\n",
    "im=Image.open('/NAS/tupac/divers/qrcode_vcard.png')\n",
    "\n",
    "qr_width,qr_height=im.size\n",
    "print(im.size)\n",
    "im=im.convert(\"RGBA\")\n",
    "logo=Image.open('/NAS/tupac/divers/LOGO3_V3.png')\n",
    "logo_width,logo_height=logo.size\n",
    "print(logo.size)\n",
    "logo=logo.resize((int(logo_width/7),int(logo_height/7)))\n",
    "logo_width,logo_height=logo.size\n",
    "print(logo.size)\n",
    "\n",
    "# Calculate xmin, ymin, xmax, ymax to put the logo\n",
    "xmin = int((qr_width / 2) - (logo_width / 2))\n",
    "xmax = int((qr_width / 2) + (logo_width / 2))\n",
    "ymin = int((qr_height / 2) - (logo_height / 2))\n",
    "ymax = int((qr_height / 2) + (logo_height / 2))\n",
    "#box=(135,135,235,235)\n",
    "#im.crop(box)\n",
    "\n",
    "im.paste(logo,(xmin, ymin))\n",
    "im\n",
    "#im.save('/NAS/tupac/divers/QRLOGO_V3.png')"
   ]
  },
  {
   "cell_type": "code",
   "execution_count": 122,
   "id": "d619f47e-dec4-4b60-8399-20e81befce09",
   "metadata": {},
   "outputs": [],
   "source": [
    "im.save('/NAS/tupac/divers/QRLOGO_V3_vcard.png')"
   ]
  },
  {
   "cell_type": "code",
   "execution_count": 19,
   "id": "da6664c7-4ce1-4a3e-8674-1bfb4dc08d5c",
   "metadata": {},
   "outputs": [
    {
     "name": "stdout",
     "output_type": "stream",
     "text": [
      "Defaulting to user installation because normal site-packages is not writeable\n",
      "Collecting icalendar\n",
      "  Downloading icalendar-5.0.0-py2.py3-none-any.whl (89 kB)\n",
      "\u001b[K     |████████████████████████████████| 89 kB 3.0 MB/s eta 0:00:01\n",
      "\u001b[?25hCollecting backports.zoneinfo\n",
      "  Downloading backports.zoneinfo-0.2.1-cp37-cp37m-manylinux1_x86_64.whl (70 kB)\n",
      "\u001b[K     |████████████████████████████████| 70 kB 3.6 MB/s eta 0:00:011\n",
      "\u001b[?25hRequirement already satisfied: python-dateutil in /home/romain/.local/lib/python3.7/site-packages (from icalendar) (2.7.3)\n",
      "Requirement already satisfied: pytz in /home/romain/.local/lib/python3.7/site-packages (from icalendar) (2020.4)\n",
      "Requirement already satisfied: six>=1.5 in /home/romain/.local/lib/python3.7/site-packages (from python-dateutil->icalendar) (1.15.0)\n",
      "Installing collected packages: backports.zoneinfo, icalendar\n",
      "Successfully installed backports.zoneinfo-0.2.1 icalendar-5.0.0\n"
     ]
    }
   ],
   "source": [
    "! pip install icalendar"
   ]
  },
  {
   "cell_type": "code",
   "execution_count": 20,
   "id": "07c4f984-2360-4276-8890-4979a16353da",
   "metadata": {},
   "outputs": [],
   "source": [
    "from icalendar import Calendar, Event\n",
    "from datetime import datetime\n",
    "from pytz import UTC # timezone\n",
    "\n",
    "cal = Calendar()\n",
    "cal.add('prodid', '-//My calendar product//mxm.dk//')\n",
    "cal.add('version', '2.0')\n",
    "\n",
    "event = Event()\n",
    "event.add('summary', 'Python meeting about calendaring')\n",
    "event.add('dtstart', datetime(2005,4,4,8,0,0,tzinfo=UTC))\n",
    "event.add('dtend', datetime(2005,4,4,10,0,0,tzinfo=UTC))\n",
    "event.add('dtstamp', datetime(2005,4,4,0,10,0,tzinfo=UTC))\n",
    "event['uid'] = '20050115T101010/27346262376@mxm.dk'\n",
    "event.add('priority', 5)\n",
    "\n",
    "cal.add_component(event)\n",
    "\n",
    "f = open('example.ics', 'wb')\n",
    "f.write(cal.to_ical())\n",
    "f.close()"
   ]
  },
  {
   "cell_type": "code",
   "execution_count": 11,
   "id": "2e2a0dd2-0243-41b8-8ad4-e10651da1360",
   "metadata": {},
   "outputs": [
    {
     "ename": "ModuleNotFoundError",
     "evalue": "No module named 'png'",
     "output_type": "error",
     "traceback": [
      "\u001b[0;31m---------------------------------------------------------------------------\u001b[0m",
      "\u001b[0;31mModuleNotFoundError\u001b[0m                       Traceback (most recent call last)",
      "Input \u001b[0;32mIn [11]\u001b[0m, in \u001b[0;36m<cell line: 0>\u001b[0;34m()\u001b[0m\n\u001b[1;32m      1\u001b[0m data \u001b[38;5;241m=\u001b[39m \u001b[38;5;124m'''\u001b[39m\u001b[38;5;124mBEGIN:VCALENDAR\u001b[39m\n\u001b[1;32m      2\u001b[0m \u001b[38;5;124mVERSION:2.0\u001b[39m\n\u001b[1;32m      3\u001b[0m \u001b[38;5;124mPRODID:-//My calendar product//mxm.dk//\u001b[39m\n\u001b[0;32m   (...)\u001b[0m\n\u001b[1;32m     11\u001b[0m \u001b[38;5;124mEND:VEVENT\u001b[39m\n\u001b[1;32m     12\u001b[0m \u001b[38;5;124mEND:VCALENDAR \u001b[39m\u001b[38;5;124m'''\u001b[39m\n\u001b[1;32m     14\u001b[0m myQR\u001b[38;5;241m=\u001b[39mQRCode(data,error\u001b[38;5;241m=\u001b[39m\u001b[38;5;124m'\u001b[39m\u001b[38;5;124mH\u001b[39m\u001b[38;5;124m'\u001b[39m,version\u001b[38;5;241m=\u001b[39m\u001b[38;5;241m20\u001b[39m)\n\u001b[0;32m---> 15\u001b[0m myQR\u001b[38;5;241m.\u001b[39mpng(\u001b[38;5;124m'\u001b[39m\u001b[38;5;124m/NAS/tupac/divers/qrcode_vcard.png\u001b[39m\u001b[38;5;124m'\u001b[39m,scale\u001b[38;5;241m=\u001b[39m\u001b[38;5;241m10\u001b[39m,module_color\u001b[38;5;241m=\u001b[39m(\u001b[38;5;241m95\u001b[39m, \u001b[38;5;241m132\u001b[39m, \u001b[38;5;241m144\u001b[39m), background\u001b[38;5;241m=\u001b[39m(\u001b[38;5;241m255\u001b[39m,\u001b[38;5;241m255\u001b[39m,\u001b[38;5;241m255\u001b[39m))\n\u001b[1;32m     16\u001b[0m im\u001b[38;5;241m=\u001b[39mImage\u001b[38;5;241m.\u001b[39mopen(\u001b[38;5;124m'\u001b[39m\u001b[38;5;124m/NAS/tupac/divers/ImAgerie_vcal.png\u001b[39m\u001b[38;5;124m'\u001b[39m)\n",
      "File \u001b[0;32m/home/global/Anaconda3-2023.09/lib/python3.11/site-packages/pyqrcode/__init__.py:462\u001b[0m, in \u001b[0;36mQRCode.png\u001b[0;34m(self, file, scale, module_color, background, quiet_zone)\u001b[0m\n\u001b[1;32m    416\u001b[0m \u001b[38;5;28;01mdef\u001b[39;00m \u001b[38;5;21mpng\u001b[39m(\u001b[38;5;28mself\u001b[39m, file, scale\u001b[38;5;241m=\u001b[39m\u001b[38;5;241m1\u001b[39m, module_color\u001b[38;5;241m=\u001b[39m(\u001b[38;5;241m0\u001b[39m, \u001b[38;5;241m0\u001b[39m, \u001b[38;5;241m0\u001b[39m, \u001b[38;5;241m255\u001b[39m),\n\u001b[1;32m    417\u001b[0m         background\u001b[38;5;241m=\u001b[39m(\u001b[38;5;241m255\u001b[39m, \u001b[38;5;241m255\u001b[39m, \u001b[38;5;241m255\u001b[39m, \u001b[38;5;241m255\u001b[39m), quiet_zone\u001b[38;5;241m=\u001b[39m\u001b[38;5;241m4\u001b[39m):\n\u001b[1;32m    418\u001b[0m \u001b[38;5;250m    \u001b[39m\u001b[38;5;124;03m\"\"\"This method writes the QR code out as an PNG image. The resulting\u001b[39;00m\n\u001b[1;32m    419\u001b[0m \u001b[38;5;124;03m    PNG has a bit depth of 1. The file parameter is used to specify where\u001b[39;00m\n\u001b[1;32m    420\u001b[0m \u001b[38;5;124;03m    to write the image to. It can either be an writable stream or a\u001b[39;00m\n\u001b[0;32m   (...)\u001b[0m\n\u001b[1;32m    460\u001b[0m \u001b[38;5;124;03m                     background=(0xff, 0xff, 0xff, 0x88)) #50% transparent white\u001b[39;00m\n\u001b[1;32m    461\u001b[0m \u001b[38;5;124;03m    \"\"\"\u001b[39;00m\n\u001b[0;32m--> 462\u001b[0m     builder\u001b[38;5;241m.\u001b[39m_png(\u001b[38;5;28mself\u001b[39m\u001b[38;5;241m.\u001b[39mcode, \u001b[38;5;28mself\u001b[39m\u001b[38;5;241m.\u001b[39mversion, file, scale,\n\u001b[1;32m    463\u001b[0m                  module_color, background, quiet_zone)\n",
      "File \u001b[0;32m/home/global/Anaconda3-2023.09/lib/python3.11/site-packages/pyqrcode/builder.py:1266\u001b[0m, in \u001b[0;36m_png\u001b[0;34m(code, version, file, scale, module_color, background, quiet_zone, debug)\u001b[0m\n\u001b[1;32m   1244\u001b[0m \u001b[38;5;28;01mdef\u001b[39;00m \u001b[38;5;21m_png\u001b[39m(code, version, file, scale\u001b[38;5;241m=\u001b[39m\u001b[38;5;241m1\u001b[39m, module_color\u001b[38;5;241m=\u001b[39m(\u001b[38;5;241m0\u001b[39m, \u001b[38;5;241m0\u001b[39m, \u001b[38;5;241m0\u001b[39m, \u001b[38;5;241m255\u001b[39m),\n\u001b[1;32m   1245\u001b[0m          background\u001b[38;5;241m=\u001b[39m(\u001b[38;5;241m255\u001b[39m, \u001b[38;5;241m255\u001b[39m, \u001b[38;5;241m255\u001b[39m, \u001b[38;5;241m255\u001b[39m), quiet_zone\u001b[38;5;241m=\u001b[39m\u001b[38;5;241m4\u001b[39m, debug\u001b[38;5;241m=\u001b[39m\u001b[38;5;28;01mFalse\u001b[39;00m):\n\u001b[1;32m   1246\u001b[0m \u001b[38;5;250m    \u001b[39m\u001b[38;5;124;03m\"\"\"See: pyqrcode.QRCode.png()\u001b[39;00m\n\u001b[1;32m   1247\u001b[0m \n\u001b[1;32m   1248\u001b[0m \u001b[38;5;124;03m    This function was abstracted away from QRCode to allow for the output of\u001b[39;00m\n\u001b[0;32m   (...)\u001b[0m\n\u001b[1;32m   1264\u001b[0m \u001b[38;5;124;03m            modules) to the output (default: ``False``).\u001b[39;00m\n\u001b[1;32m   1265\u001b[0m \u001b[38;5;124;03m    \"\"\"\u001b[39;00m\n\u001b[0;32m-> 1266\u001b[0m     \u001b[38;5;28;01mimport\u001b[39;00m \u001b[38;5;21;01mpng\u001b[39;00m\n\u001b[1;32m   1268\u001b[0m     \u001b[38;5;66;03m# Coerce scale parameter into an integer\u001b[39;00m\n\u001b[1;32m   1269\u001b[0m     \u001b[38;5;28;01mtry\u001b[39;00m:\n",
      "\u001b[0;31mModuleNotFoundError\u001b[0m: No module named 'png'"
     ]
    }
   ],
   "source": [
    "data = '''BEGIN:VCALENDAR\n",
    "VERSION:2.0\n",
    "PRODID:-//My calendar product//mxm.dk//\n",
    "BEGIN:VEVENT\n",
    "SUMMARY:Python meeting about calendaring\n",
    "DTSTART;VALUE=DATE-TIME:20050404T080000Z\n",
    "DTEND;VALUE=DATE-TIME:20050404T100000Z\n",
    "DTSTAMP;VALUE=DATE-TIME:20050404T001000Z\n",
    "UID:20050115T101010/27346262376@mxm.dk\n",
    "PRIORITY:5\n",
    "END:VEVENT\n",
    "END:VCALENDAR '''\n",
    "\n",
    "myQR=QRCode(data,error='H',version=20)\n",
    "myQR.png('/NAS/tupac/divers/qrcode_vcard.png',scale=10,module_color=(95, 132, 144), background=(255,255,255))\n",
    "im=Image.open('/NAS/tupac/divers/ImAgerie_vcal.png')\n"
   ]
  },
  {
   "cell_type": "code",
   "execution_count": null,
   "id": "32d3694b-7fa9-4aef-b7b9-f789a5b68742",
   "metadata": {},
   "outputs": [],
   "source": []
  }
 ],
 "metadata": {
  "kernelspec": {
   "display_name": "Python 3 (ipykernel)",
   "language": "python",
   "name": "python3"
  },
  "language_info": {
   "codemirror_mode": {
    "name": "ipython",
    "version": 3
   },
   "file_extension": ".py",
   "mimetype": "text/x-python",
   "name": "python",
   "nbconvert_exporter": "python",
   "pygments_lexer": "ipython3",
   "version": "3.11.5"
  }
 },
 "nbformat": 4,
 "nbformat_minor": 5
}
