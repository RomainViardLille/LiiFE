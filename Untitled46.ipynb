{
 "cells": [
  {
   "cell_type": "code",
   "execution_count": null,
   "id": "75265d40-6bb4-4ab9-be3a-525f7b683d10",
   "metadata": {},
   "outputs": [],
   "source": [
    "pip install platipy"
   ]
  },
  {
   "cell_type": "code",
   "execution_count": null,
   "id": "e5c62f9f-0a6b-41d2-87a3-3b287d212122",
   "metadata": {},
   "outputs": [],
   "source": [
    "import platly"
   ]
  },
  {
   "cell_type": "code",
   "execution_count": null,
   "id": "1e54e205",
   "metadata": {},
   "outputs": [],
   "source": []
  }
 ],
 "metadata": {
  "kernelspec": {
   "display_name": "Python 3 (ipykernel)",
   "language": "python",
   "name": "python3"
  },
  "language_info": {
   "codemirror_mode": {
    "name": "ipython",
    "version": 3
   },
   "file_extension": ".py",
   "mimetype": "text/x-python",
   "name": "python",
   "nbconvert_exporter": "python",
   "pygments_lexer": "ipython3",
   "version": "3.7.6"
  }
 },
 "nbformat": 4,
 "nbformat_minor": 5
}
