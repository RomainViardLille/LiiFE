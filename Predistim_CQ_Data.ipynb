{
 "cells": [
  {
   "cell_type": "code",
   "execution_count": 5,
   "metadata": {},
   "outputs": [],
   "source": [
    "import nibabel as nib\n",
    "import numpy as np\n",
    "import os\n",
    "import glob\n",
    "from sklearn.linear_model import LinearRegression\n",
    "#import plotnine as p9\n",
    "import matplotlib.pyplot as plt\n",
    "#%matplotlib inline\n",
    "import csv\n",
    "import statsmodels.api as sm\n",
    "from scipy import stats\n",
    "#from radiomics import featureextractor, getTestCase\n",
    "import SimpleITK as sitk\n",
    "#import import_ipynb\n",
    "#from Predistim_Library import *"
   ]
  },
  {
   "cell_type": "markdown",
   "metadata": {},
   "source": [
    "###  Lecture fichier Quality Check"
   ]
  },
  {
   "cell_type": "code",
   "execution_count": 6,
   "metadata": {
    "tags": []
   },
   "outputs": [
    {
     "ename": "NameError",
     "evalue": "name 'pd' is not defined",
     "output_type": "error",
     "traceback": [
      "\u001b[0;31m---------------------------------------------------------------------------\u001b[0m",
      "\u001b[0;31mNameError\u001b[0m                                 Traceback (most recent call last)",
      "Input \u001b[0;32mIn [6]\u001b[0m, in \u001b[0;36m<cell line: 0>\u001b[0;34m()\u001b[0m\n\u001b[1;32m      1\u001b[0m \u001b[38;5;66;03m#CQData = pd.read_csv(os.path.join(STUDY_PATH,'CQData20200406.csv'),index_col=0,sep=';')\u001b[39;00m\n\u001b[0;32m----> 2\u001b[0m CQData \u001b[38;5;241m=\u001b[39m pd\u001b[38;5;241m.\u001b[39mread_excel(CQ_FILE,index_col\u001b[38;5;241m=\u001b[39m\u001b[38;5;241m0\u001b[39m)\n\u001b[1;32m      3\u001b[0m \u001b[38;5;28mprint\u001b[39m(\u001b[38;5;124m\"\u001b[39m\u001b[38;5;124mn = \u001b[39m\u001b[38;5;124m\"\u001b[39m,\u001b[38;5;28mlen\u001b[39m(CQData))\n\u001b[1;32m      4\u001b[0m CQData\u001b[38;5;241m.\u001b[39mcolumns\n",
      "\u001b[0;31mNameError\u001b[0m: name 'pd' is not defined"
     ]
    }
   ],
   "source": [
    "#CQData = pd.read_csv(os.path.join(STUDY_PATH,'CQData20200406.csv'),index_col=0,sep=';')\n",
    "CQData = pd.read_excel(CQ_FILE,index_col=0)\n",
    "print(\"n = \",len(CQData))\n",
    "CQData.columns"
   ]
  },
  {
   "cell_type": "markdown",
   "metadata": {},
   "source": [
    "### Lecture du fichier de données genomique"
   ]
  },
  {
   "cell_type": "code",
   "execution_count": null,
   "metadata": {},
   "outputs": [],
   "source": [
    "#GenomicData = pd.read_excel(os.path.join(STUDY_PATH,'SNPs_Predistim.xlsx'),usecols=[\"NUM_PAT\",\"SNP_ACSL4\",\"SNP_GPx4\",\"cluster_SNP\"],index_col=0)\n",
    "GenomicData = pd.read_excel(SNP_FILE,index_col=0,converters = {'PatientNB': int})\n",
    "print(\"n = \",len(GenomicData))"
   ]
  },
  {
   "cell_type": "markdown",
   "metadata": {},
   "source": [
    "### Lecture du fichier de données démographique (extraction du 22/06/2020)"
   ]
  },
  {
   "cell_type": "code",
   "execution_count": 5,
   "metadata": {},
   "outputs": [
    {
     "ename": "XLRDError",
     "evalue": "Excel xlsx file; not supported",
     "output_type": "error",
     "traceback": [
      "\u001b[0;31m---------------------------------------------------------------------------\u001b[0m",
      "\u001b[0;31mXLRDError\u001b[0m                                 Traceback (most recent call last)",
      "\u001b[0;32m/tmp/ipykernel_1960692/3764868132.py\u001b[0m in \u001b[0;36m<module>\u001b[0;34m\u001b[0m\n\u001b[0;32m----> 1\u001b[0;31m \u001b[0mClinicalData\u001b[0m \u001b[0;34m=\u001b[0m \u001b[0mpd\u001b[0m\u001b[0;34m.\u001b[0m\u001b[0mread_excel\u001b[0m\u001b[0;34m(\u001b[0m\u001b[0mCLI_FILE\u001b[0m\u001b[0;34m,\u001b[0m\u001b[0mindex_col\u001b[0m\u001b[0;34m=\u001b[0m\u001b[0;36m1\u001b[0m\u001b[0;34m)\u001b[0m\u001b[0;34m\u001b[0m\u001b[0;34m\u001b[0m\u001b[0m\n\u001b[0m\u001b[1;32m      2\u001b[0m \u001b[0;31m#Cli_Gen_data=Cli_Gen_data.set_index(['PatientNB'])\u001b[0m\u001b[0;34m\u001b[0m\u001b[0;34m\u001b[0m\u001b[0;34m\u001b[0m\u001b[0m\n\u001b[1;32m      3\u001b[0m \u001b[0mprint\u001b[0m\u001b[0;34m(\u001b[0m\u001b[0;34m\"n = \"\u001b[0m\u001b[0;34m,\u001b[0m\u001b[0mlen\u001b[0m\u001b[0;34m(\u001b[0m\u001b[0mClinicalData\u001b[0m\u001b[0;34m)\u001b[0m\u001b[0;34m)\u001b[0m\u001b[0;34m\u001b[0m\u001b[0;34m\u001b[0m\u001b[0m\n\u001b[1;32m      4\u001b[0m \u001b[0mprint\u001b[0m\u001b[0;34m(\u001b[0m\u001b[0mClinicalData\u001b[0m\u001b[0;34m.\u001b[0m\u001b[0mcolumns\u001b[0m\u001b[0;34m)\u001b[0m\u001b[0;34m\u001b[0m\u001b[0;34m\u001b[0m\u001b[0m\n",
      "\u001b[0;32m~/.local/lib/python3.7/site-packages/pandas/util/_decorators.py\u001b[0m in \u001b[0;36mwrapper\u001b[0;34m(*args, **kwargs)\u001b[0m\n\u001b[1;32m    294\u001b[0m                 )\n\u001b[1;32m    295\u001b[0m                 \u001b[0mwarnings\u001b[0m\u001b[0;34m.\u001b[0m\u001b[0mwarn\u001b[0m\u001b[0;34m(\u001b[0m\u001b[0mmsg\u001b[0m\u001b[0;34m,\u001b[0m \u001b[0mFutureWarning\u001b[0m\u001b[0;34m,\u001b[0m \u001b[0mstacklevel\u001b[0m\u001b[0;34m=\u001b[0m\u001b[0mstacklevel\u001b[0m\u001b[0;34m)\u001b[0m\u001b[0;34m\u001b[0m\u001b[0;34m\u001b[0m\u001b[0m\n\u001b[0;32m--> 296\u001b[0;31m             \u001b[0;32mreturn\u001b[0m \u001b[0mfunc\u001b[0m\u001b[0;34m(\u001b[0m\u001b[0;34m*\u001b[0m\u001b[0margs\u001b[0m\u001b[0;34m,\u001b[0m \u001b[0;34m**\u001b[0m\u001b[0mkwargs\u001b[0m\u001b[0;34m)\u001b[0m\u001b[0;34m\u001b[0m\u001b[0;34m\u001b[0m\u001b[0m\n\u001b[0m\u001b[1;32m    297\u001b[0m \u001b[0;34m\u001b[0m\u001b[0m\n\u001b[1;32m    298\u001b[0m         \u001b[0;32mreturn\u001b[0m \u001b[0mwrapper\u001b[0m\u001b[0;34m\u001b[0m\u001b[0;34m\u001b[0m\u001b[0m\n",
      "\u001b[0;32m~/.local/lib/python3.7/site-packages/pandas/io/excel/_base.py\u001b[0m in \u001b[0;36mread_excel\u001b[0;34m(io, sheet_name, header, names, index_col, usecols, squeeze, dtype, engine, converters, true_values, false_values, skiprows, nrows, na_values, keep_default_na, na_filter, verbose, parse_dates, date_parser, thousands, comment, skipfooter, convert_float, mangle_dupe_cols)\u001b[0m\n\u001b[1;32m    302\u001b[0m \u001b[0;34m\u001b[0m\u001b[0m\n\u001b[1;32m    303\u001b[0m     \u001b[0;32mif\u001b[0m \u001b[0;32mnot\u001b[0m \u001b[0misinstance\u001b[0m\u001b[0;34m(\u001b[0m\u001b[0mio\u001b[0m\u001b[0;34m,\u001b[0m \u001b[0mExcelFile\u001b[0m\u001b[0;34m)\u001b[0m\u001b[0;34m:\u001b[0m\u001b[0;34m\u001b[0m\u001b[0;34m\u001b[0m\u001b[0m\n\u001b[0;32m--> 304\u001b[0;31m         \u001b[0mio\u001b[0m \u001b[0;34m=\u001b[0m \u001b[0mExcelFile\u001b[0m\u001b[0;34m(\u001b[0m\u001b[0mio\u001b[0m\u001b[0;34m,\u001b[0m \u001b[0mengine\u001b[0m\u001b[0;34m=\u001b[0m\u001b[0mengine\u001b[0m\u001b[0;34m)\u001b[0m\u001b[0;34m\u001b[0m\u001b[0;34m\u001b[0m\u001b[0m\n\u001b[0m\u001b[1;32m    305\u001b[0m     \u001b[0;32melif\u001b[0m \u001b[0mengine\u001b[0m \u001b[0;32mand\u001b[0m \u001b[0mengine\u001b[0m \u001b[0;34m!=\u001b[0m \u001b[0mio\u001b[0m\u001b[0;34m.\u001b[0m\u001b[0mengine\u001b[0m\u001b[0;34m:\u001b[0m\u001b[0;34m\u001b[0m\u001b[0;34m\u001b[0m\u001b[0m\n\u001b[1;32m    306\u001b[0m         raise ValueError(\n",
      "\u001b[0;32m~/.local/lib/python3.7/site-packages/pandas/io/excel/_base.py\u001b[0m in \u001b[0;36m__init__\u001b[0;34m(self, path_or_buffer, engine)\u001b[0m\n\u001b[1;32m    865\u001b[0m         \u001b[0mself\u001b[0m\u001b[0;34m.\u001b[0m\u001b[0m_io\u001b[0m \u001b[0;34m=\u001b[0m \u001b[0mstringify_path\u001b[0m\u001b[0;34m(\u001b[0m\u001b[0mpath_or_buffer\u001b[0m\u001b[0;34m)\u001b[0m\u001b[0;34m\u001b[0m\u001b[0;34m\u001b[0m\u001b[0m\n\u001b[1;32m    866\u001b[0m \u001b[0;34m\u001b[0m\u001b[0m\n\u001b[0;32m--> 867\u001b[0;31m         \u001b[0mself\u001b[0m\u001b[0;34m.\u001b[0m\u001b[0m_reader\u001b[0m \u001b[0;34m=\u001b[0m \u001b[0mself\u001b[0m\u001b[0;34m.\u001b[0m\u001b[0m_engines\u001b[0m\u001b[0;34m[\u001b[0m\u001b[0mengine\u001b[0m\u001b[0;34m]\u001b[0m\u001b[0;34m(\u001b[0m\u001b[0mself\u001b[0m\u001b[0;34m.\u001b[0m\u001b[0m_io\u001b[0m\u001b[0;34m)\u001b[0m\u001b[0;34m\u001b[0m\u001b[0;34m\u001b[0m\u001b[0m\n\u001b[0m\u001b[1;32m    868\u001b[0m \u001b[0;34m\u001b[0m\u001b[0m\n\u001b[1;32m    869\u001b[0m     \u001b[0;32mdef\u001b[0m \u001b[0m__fspath__\u001b[0m\u001b[0;34m(\u001b[0m\u001b[0mself\u001b[0m\u001b[0;34m)\u001b[0m\u001b[0;34m:\u001b[0m\u001b[0;34m\u001b[0m\u001b[0;34m\u001b[0m\u001b[0m\n",
      "\u001b[0;32m~/.local/lib/python3.7/site-packages/pandas/io/excel/_xlrd.py\u001b[0m in \u001b[0;36m__init__\u001b[0;34m(self, filepath_or_buffer)\u001b[0m\n\u001b[1;32m     20\u001b[0m         \u001b[0merr_msg\u001b[0m \u001b[0;34m=\u001b[0m \u001b[0;34m\"Install xlrd >= 1.0.0 for Excel support\"\u001b[0m\u001b[0;34m\u001b[0m\u001b[0;34m\u001b[0m\u001b[0m\n\u001b[1;32m     21\u001b[0m         \u001b[0mimport_optional_dependency\u001b[0m\u001b[0;34m(\u001b[0m\u001b[0;34m\"xlrd\"\u001b[0m\u001b[0;34m,\u001b[0m \u001b[0mextra\u001b[0m\u001b[0;34m=\u001b[0m\u001b[0merr_msg\u001b[0m\u001b[0;34m)\u001b[0m\u001b[0;34m\u001b[0m\u001b[0;34m\u001b[0m\u001b[0m\n\u001b[0;32m---> 22\u001b[0;31m         \u001b[0msuper\u001b[0m\u001b[0;34m(\u001b[0m\u001b[0;34m)\u001b[0m\u001b[0;34m.\u001b[0m\u001b[0m__init__\u001b[0m\u001b[0;34m(\u001b[0m\u001b[0mfilepath_or_buffer\u001b[0m\u001b[0;34m)\u001b[0m\u001b[0;34m\u001b[0m\u001b[0;34m\u001b[0m\u001b[0m\n\u001b[0m\u001b[1;32m     23\u001b[0m \u001b[0;34m\u001b[0m\u001b[0m\n\u001b[1;32m     24\u001b[0m     \u001b[0;34m@\u001b[0m\u001b[0mproperty\u001b[0m\u001b[0;34m\u001b[0m\u001b[0;34m\u001b[0m\u001b[0m\n",
      "\u001b[0;32m~/.local/lib/python3.7/site-packages/pandas/io/excel/_base.py\u001b[0m in \u001b[0;36m__init__\u001b[0;34m(self, filepath_or_buffer)\u001b[0m\n\u001b[1;32m    351\u001b[0m             \u001b[0mself\u001b[0m\u001b[0;34m.\u001b[0m\u001b[0mbook\u001b[0m \u001b[0;34m=\u001b[0m \u001b[0mself\u001b[0m\u001b[0;34m.\u001b[0m\u001b[0mload_workbook\u001b[0m\u001b[0;34m(\u001b[0m\u001b[0mfilepath_or_buffer\u001b[0m\u001b[0;34m)\u001b[0m\u001b[0;34m\u001b[0m\u001b[0;34m\u001b[0m\u001b[0m\n\u001b[1;32m    352\u001b[0m         \u001b[0;32melif\u001b[0m \u001b[0misinstance\u001b[0m\u001b[0;34m(\u001b[0m\u001b[0mfilepath_or_buffer\u001b[0m\u001b[0;34m,\u001b[0m \u001b[0mstr\u001b[0m\u001b[0;34m)\u001b[0m\u001b[0;34m:\u001b[0m\u001b[0;34m\u001b[0m\u001b[0;34m\u001b[0m\u001b[0m\n\u001b[0;32m--> 353\u001b[0;31m             \u001b[0mself\u001b[0m\u001b[0;34m.\u001b[0m\u001b[0mbook\u001b[0m \u001b[0;34m=\u001b[0m \u001b[0mself\u001b[0m\u001b[0;34m.\u001b[0m\u001b[0mload_workbook\u001b[0m\u001b[0;34m(\u001b[0m\u001b[0mfilepath_or_buffer\u001b[0m\u001b[0;34m)\u001b[0m\u001b[0;34m\u001b[0m\u001b[0;34m\u001b[0m\u001b[0m\n\u001b[0m\u001b[1;32m    354\u001b[0m         \u001b[0;32melif\u001b[0m \u001b[0misinstance\u001b[0m\u001b[0;34m(\u001b[0m\u001b[0mfilepath_or_buffer\u001b[0m\u001b[0;34m,\u001b[0m \u001b[0mbytes\u001b[0m\u001b[0;34m)\u001b[0m\u001b[0;34m:\u001b[0m\u001b[0;34m\u001b[0m\u001b[0;34m\u001b[0m\u001b[0m\n\u001b[1;32m    355\u001b[0m             \u001b[0mself\u001b[0m\u001b[0;34m.\u001b[0m\u001b[0mbook\u001b[0m \u001b[0;34m=\u001b[0m \u001b[0mself\u001b[0m\u001b[0;34m.\u001b[0m\u001b[0mload_workbook\u001b[0m\u001b[0;34m(\u001b[0m\u001b[0mBytesIO\u001b[0m\u001b[0;34m(\u001b[0m\u001b[0mfilepath_or_buffer\u001b[0m\u001b[0;34m)\u001b[0m\u001b[0;34m)\u001b[0m\u001b[0;34m\u001b[0m\u001b[0;34m\u001b[0m\u001b[0m\n",
      "\u001b[0;32m~/.local/lib/python3.7/site-packages/pandas/io/excel/_xlrd.py\u001b[0m in \u001b[0;36mload_workbook\u001b[0;34m(self, filepath_or_buffer)\u001b[0m\n\u001b[1;32m     35\u001b[0m             \u001b[0;32mreturn\u001b[0m \u001b[0mopen_workbook\u001b[0m\u001b[0;34m(\u001b[0m\u001b[0mfile_contents\u001b[0m\u001b[0;34m=\u001b[0m\u001b[0mdata\u001b[0m\u001b[0;34m)\u001b[0m\u001b[0;34m\u001b[0m\u001b[0;34m\u001b[0m\u001b[0m\n\u001b[1;32m     36\u001b[0m         \u001b[0;32melse\u001b[0m\u001b[0;34m:\u001b[0m\u001b[0;34m\u001b[0m\u001b[0;34m\u001b[0m\u001b[0m\n\u001b[0;32m---> 37\u001b[0;31m             \u001b[0;32mreturn\u001b[0m \u001b[0mopen_workbook\u001b[0m\u001b[0;34m(\u001b[0m\u001b[0mfilepath_or_buffer\u001b[0m\u001b[0;34m)\u001b[0m\u001b[0;34m\u001b[0m\u001b[0;34m\u001b[0m\u001b[0m\n\u001b[0m\u001b[1;32m     38\u001b[0m \u001b[0;34m\u001b[0m\u001b[0m\n\u001b[1;32m     39\u001b[0m     \u001b[0;34m@\u001b[0m\u001b[0mproperty\u001b[0m\u001b[0;34m\u001b[0m\u001b[0;34m\u001b[0m\u001b[0m\n",
      "\u001b[0;32m/home/global/anaconda37/lib/python3.7/site-packages/xlrd/__init__.py\u001b[0m in \u001b[0;36mopen_workbook\u001b[0;34m(filename, logfile, verbosity, use_mmap, file_contents, encoding_override, formatting_info, on_demand, ragged_rows, ignore_workbook_corruption)\u001b[0m\n\u001b[1;32m    168\u001b[0m     \u001b[0;31m# files that xlrd can parse don't start with the expected signature.\u001b[0m\u001b[0;34m\u001b[0m\u001b[0;34m\u001b[0m\u001b[0;34m\u001b[0m\u001b[0m\n\u001b[1;32m    169\u001b[0m     \u001b[0;32mif\u001b[0m \u001b[0mfile_format\u001b[0m \u001b[0;32mand\u001b[0m \u001b[0mfile_format\u001b[0m \u001b[0;34m!=\u001b[0m \u001b[0;34m'xls'\u001b[0m\u001b[0;34m:\u001b[0m\u001b[0;34m\u001b[0m\u001b[0;34m\u001b[0m\u001b[0m\n\u001b[0;32m--> 170\u001b[0;31m         \u001b[0;32mraise\u001b[0m \u001b[0mXLRDError\u001b[0m\u001b[0;34m(\u001b[0m\u001b[0mFILE_FORMAT_DESCRIPTIONS\u001b[0m\u001b[0;34m[\u001b[0m\u001b[0mfile_format\u001b[0m\u001b[0;34m]\u001b[0m\u001b[0;34m+\u001b[0m\u001b[0;34m'; not supported'\u001b[0m\u001b[0;34m)\u001b[0m\u001b[0;34m\u001b[0m\u001b[0;34m\u001b[0m\u001b[0m\n\u001b[0m\u001b[1;32m    171\u001b[0m \u001b[0;34m\u001b[0m\u001b[0m\n\u001b[1;32m    172\u001b[0m     bk = open_workbook_xls(\n",
      "\u001b[0;31mXLRDError\u001b[0m: Excel xlsx file; not supported"
     ]
    }
   ],
   "source": [
    "ClinicalData = pd.read_excel(CLI_FILE,index_col=1)\n",
    "#Cli_Gen_data=Cli_Gen_data.set_index(['PatientNB'])\n",
    "print(\"n = \",len(ClinicalData))\n",
    "print(ClinicalData.columns)"
   ]
  },
  {
   "cell_type": "markdown",
   "metadata": {},
   "source": [
    "### CQ"
   ]
  },
  {
   "cell_type": "code",
   "execution_count": 5,
   "metadata": {},
   "outputs": [
    {
     "name": "stdout",
     "output_type": "stream",
     "text": [
      "14 {'10037LJ', '10036FM', '19031CF', '13023DJ', '13020BE', '10044HF', '19047MA', '13006ZP', '13005VA', '09026PF', '13015IR', '13026RD', '02051BG', '04010BC'}\n",
      "51 {'15019CJ', '15023FP', '15024MD', '15012LM', '07034HC', '17063EE', '15018HJ', '13005VM', '02051GB', '20004DG', '13023', '09005SN', '19031GF', '15035CJ', '09003ME', '10037FM', '15014BG', '15009PJ', '14051AV', '15011MP', '11005DJ', '09006JY', '17036GD', '13020', '13015LR', '09015CA', '15030LN', '08027BB', '11002HD', '15020FI', '15005CB', '09009GM', '15032DM', '05008DM', '11003DM', '15022SJ', '15033CC', '17074VG', '10036LJ', '16027DB', '13026', '15031BF', '15006BB', '01036LD', '17012BF', '08021MM', '15004MJ', '17007JY', '15015BM', '15003LJ', '15021EA'}\n",
      "848\n",
      "678\n",
      "451\n",
      "449\n"
     ]
    }
   ],
   "source": [
    "CQ_DB=set(CQData.index)\n",
    "Full_DB=set(ClinicalData.set_index(['PatientID']).index)\n",
    "print(len(CQ_DB-Full_DB),CQ_DB-Full_DB)\n",
    "print(len(Full_DB-CQ_DB),Full_DB-CQ_DB)\n",
    "\n",
    "print(len(CQ_DB | Full_DB))\n",
    "\n",
    "T1_DB=set(CQData.loc[CQData['QC_3DT1']>1].index)\n",
    "print(len(T1_DB))\n",
    "\n",
    "TE_DB=set(CQData.loc[CQData['QC_3DMULTI']>1].index)\n",
    "print(len(TE_DB))\n",
    "\n",
    "print(len(T1_DB & TE_DB))"
   ]
  },
  {
   "cell_type": "code",
   "execution_count": 6,
   "metadata": {},
   "outputs": [
    {
     "data": {
      "text/plain": [
       "set()"
      ]
     },
     "execution_count": 6,
     "metadata": {},
     "output_type": "execute_result"
    }
   ],
   "source": [
    "file_list=glob.glob(os.path.join(STUDY_PATH,'3DT1','*','3DT1_*.nii.gz'))\n",
    "file_list = [os.path.dirname(w)for w in file_list]\n",
    "file_list = [w.replace(os.path.join(STUDY_PATH,'3DT1/'),'') for w in file_list]\n",
    "T1_DB-set(file_list)"
   ]
  },
  {
   "cell_type": "code",
   "execution_count": 7,
   "metadata": {},
   "outputs": [
    {
     "data": {
      "text/plain": [
       "{'13026RD', '13045MS', '13053RS', '13056OA'}"
      ]
     },
     "execution_count": 7,
     "metadata": {},
     "output_type": "execute_result"
    }
   ],
   "source": [
    "set(file_list)-T1_DB"
   ]
  },
  {
   "cell_type": "code",
   "execution_count": 12,
   "metadata": {},
   "outputs": [
    {
     "name": "stdout",
     "output_type": "stream",
     "text": [
      "646 {'02059WC', '14004IJ', '02058NP', '02080RM', '02051BG', '02075LP', '02053MC', '02063VC', '02064CA', '02083SG', '02057DH', '02081HC', '02040DC', '02078RM', '02079MZ', '02085PP', '02046CA', '02084DI', '02082SR', '02089SL', '02067BE', '02073MD', '02069VF', '02071BM', '02045PJ', '02070DJ', '02087TD', '02090DA'}\n",
      "661 {'02059WC', '14004IJ', '02058NP', '02080RM', '02051BG', '02075LP', '02053MC', '02063VC', '02064CA', '02083SG', '02057DH', '02081HC', '02040DC', '02078RM', '02079MZ', '02085PP', '02046CA', '02084DI', '02082SR', '02089SL', '02067BE', '02073MD', '02069VF', '02071BM', '02045PJ', '02070DJ', '02087TD', '02090DA'}\n",
      "639 {'10028GJ', '10006AP', '02059WC', '14004IJ', '02058NP', '02080RM', '02051BG', '02075LP', '02053MC', '02063VC', '02064CA', '02083SG', '02057DH', '10035MP', '02081HC', '02040DC', '02078RM', '02079MZ', '10020NJ', '02085PP', '02046CA', '02084DI', '02082SR', '02089SL', '02067BE', '02073MD', '02069VF', '02071BM', '02045PJ', '02070DJ', '02087TD', '02090DA'}\n",
      "640 {'02059WC', '14004IJ', '02058NP', '02080RM', '02051BG', '02075LP', '02043GA', '02053MC', '02063VC', '02064CA', '02083SG', '02057DH', '02081HC', '02040DC', '06060BE', '02078RM', '02079MZ', '02029DS', '02085PP', '02046CA', '02084DI', '02082SR', '02089SL', '02067BE', '06029BN', '02073MD', '02069VF', '02071BM', '06009SG', '02045PJ', '02070DJ', '02087TD', '02090DA'}\n",
      "637 {'02059WC', '14004IJ', '02058NP', '02080RM', '02051BG', '02075LP', '02053MC', '02063VC', '02064CA', '02083SG', '02057DH', '06053GP', '02081HC', '02040DC', '06083LM', '02078RM', '20007MF', '02079MZ', '02085PP', '02084DI', '02046CA', '02082SR', '02089SL', '02067BE', '06029BN', '02073MD', '02069VF', '02071BM', '02045PJ', '02070DJ', '02087TD', '02090DA', '06084LC'}\n"
     ]
    }
   ],
   "source": [
    "tmp=[]\n",
    "file_list=glob.glob(os.path.join(STUDY_PATH,'HCP','*','T1w','T1w.nii.gz'))\n",
    "for file in file_list :\n",
    "    tmp.append(file.split('/')[6])\n",
    "T1_FILE_DB=set(tmp)\n",
    "print(len(T1_FILE_DB),T1_DB-T1_FILE_DB)\n",
    "\n",
    "tmp=[]\n",
    "file_list=glob.glob(os.path.join(STUDY_PATH,'volbrain','native_*','native_lab_n_mmni_*.nii'))\n",
    "for file in file_list :\n",
    "    tmp.append(file.split('/')[6].split('_')[1])\n",
    "VB_FILE_DB=set(tmp)\n",
    "print(len(VB_FILE_DB),T1_DB-VB_FILE_DB)\n",
    "\n",
    "tmp=[]\n",
    "file_list=glob.glob(os.path.join(STUDY_PATH,'3DT1','*','FLASH_RN_L*.nii.gz'))\n",
    "for file in file_list :\n",
    "    tmp.append(file.split('/')[6])\n",
    "SUBC_FILE_DB=set(tmp)\n",
    "print(len(SUBC_FILE_DB),T1_DB-SUBC_FILE_DB)\n",
    "\n",
    "tmp=[]\n",
    "file_list=glob.glob(os.path.join(STUDY_PATH,'HCP','*','T1w','aparc+aseg.nii.gz'))\n",
    "for file in file_list :\n",
    "    tmp.append(file.split('/')[6])\n",
    "APARC_ASEG_FILE_DB=set(tmp)\n",
    "print(len(APARC_ASEG_FILE_DB),T1_DB-APARC_ASEG_FILE_DB)\n",
    "\n",
    "tmp=[]\n",
    "file_list=glob.glob(os.path.join(STUDY_PATH,'2020-04-15','*','*','M00','freesurfer_aparc+aseg.nii.gz'))\n",
    "#print(len(file_list))\n",
    "for file in file_list :\n",
    "    tmp.append(file.split('/')[7])\n",
    "\n",
    "APARC_ASEG_FILE_DB2=set(tmp)\n",
    "print(len(APARC_ASEG_FILE_DB2),T1_DB-APARC_ASEG_FILE_DB2)"
   ]
  },
  {
   "cell_type": "code",
   "execution_count": 351,
   "metadata": {
    "collapsed": true,
    "jupyter": {
     "outputs_hidden": true
    },
    "tags": []
   },
   "outputs": [
    {
     "data": {
      "text/plain": [
       "{10031,\n",
       " 20031,\n",
       " 40001,\n",
       " 40002,\n",
       " 40003,\n",
       " 40004,\n",
       " 40005,\n",
       " 40006,\n",
       " 40007,\n",
       " 40008,\n",
       " 40009,\n",
       " 40011,\n",
       " 40012,\n",
       " 40013,\n",
       " 40014,\n",
       " 40015,\n",
       " 40016,\n",
       " 40017,\n",
       " 50004,\n",
       " 50008,\n",
       " 50014,\n",
       " 50015,\n",
       " 50016,\n",
       " 50020,\n",
       " 50025,\n",
       " 50026,\n",
       " 50037,\n",
       " 60001,\n",
       " 60068,\n",
       " 60084,\n",
       " 60090,\n",
       " 60091,\n",
       " 60092,\n",
       " 60093,\n",
       " 80001,\n",
       " 80002,\n",
       " 80003,\n",
       " 80004,\n",
       " 80005,\n",
       " 80006,\n",
       " 80007,\n",
       " 80008,\n",
       " 80009,\n",
       " 80010,\n",
       " 80011,\n",
       " 80012,\n",
       " 80013,\n",
       " 80014,\n",
       " 80015,\n",
       " 80016,\n",
       " 80017,\n",
       " 80018,\n",
       " 80019,\n",
       " 80020,\n",
       " 80021,\n",
       " 80022,\n",
       " 80023,\n",
       " 80024,\n",
       " 80025,\n",
       " 80026,\n",
       " 80027,\n",
       " 80028,\n",
       " 80029,\n",
       " 80030,\n",
       " 80031,\n",
       " 80032,\n",
       " 80033,\n",
       " 80034,\n",
       " 80035,\n",
       " 80036,\n",
       " 80037,\n",
       " 80038,\n",
       " 80039,\n",
       " 80040,\n",
       " 80041,\n",
       " 80042,\n",
       " 90001,\n",
       " 90002,\n",
       " 90003,\n",
       " 90004,\n",
       " 90005,\n",
       " 90006,\n",
       " 90007,\n",
       " 90008,\n",
       " 90009,\n",
       " 90010,\n",
       " 90011,\n",
       " 90012,\n",
       " 90013,\n",
       " 90014,\n",
       " 90015,\n",
       " 90016,\n",
       " 90017,\n",
       " 90018,\n",
       " 90019,\n",
       " 90020,\n",
       " 90021,\n",
       " 90022,\n",
       " 90023,\n",
       " 130001,\n",
       " 130002,\n",
       " 130003,\n",
       " 130004,\n",
       " 130005,\n",
       " 130007,\n",
       " 130008,\n",
       " 130009,\n",
       " 130010,\n",
       " 130011,\n",
       " 130012,\n",
       " 130013,\n",
       " 130014,\n",
       " 130015,\n",
       " 130016,\n",
       " 130017,\n",
       " 130018,\n",
       " 130019,\n",
       " 130020,\n",
       " 130021,\n",
       " 130022,\n",
       " 130023,\n",
       " 130024,\n",
       " 130025,\n",
       " 130026,\n",
       " 130027,\n",
       " 130028,\n",
       " 130029,\n",
       " 130031,\n",
       " 130032,\n",
       " 130033,\n",
       " 130034,\n",
       " 130035,\n",
       " 130036,\n",
       " 130037,\n",
       " 130038,\n",
       " 130039,\n",
       " 130041,\n",
       " 130042,\n",
       " 130043,\n",
       " 130044,\n",
       " 130045,\n",
       " 130046,\n",
       " 130047,\n",
       " 130048,\n",
       " 130049,\n",
       " 130050,\n",
       " 130051,\n",
       " 130052,\n",
       " 130053,\n",
       " 130054,\n",
       " 130055,\n",
       " 130056,\n",
       " 130057,\n",
       " 140001,\n",
       " 140004,\n",
       " 140009,\n",
       " 140011,\n",
       " 140013,\n",
       " 140018,\n",
       " 140019,\n",
       " 140020,\n",
       " 140021,\n",
       " 140022,\n",
       " 140023,\n",
       " 140024,\n",
       " 140025,\n",
       " 140026,\n",
       " 140027,\n",
       " 140028,\n",
       " 140029,\n",
       " 140030,\n",
       " 140051,\n",
       " 150002,\n",
       " 150021,\n",
       " 150032,\n",
       " 150033,\n",
       " 150034,\n",
       " 150035,\n",
       " 150036,\n",
       " 160027,\n",
       " 170063,\n",
       " 170074,\n",
       " 180001,\n",
       " 180002,\n",
       " 180003,\n",
       " 180004,\n",
       " 180005,\n",
       " 180006,\n",
       " 180007,\n",
       " 180008,\n",
       " 180009,\n",
       " 180010,\n",
       " 180011,\n",
       " 180012,\n",
       " 180013,\n",
       " 180014,\n",
       " 180015,\n",
       " 180016,\n",
       " 180017,\n",
       " 180018,\n",
       " 180019}"
      ]
     },
     "execution_count": 351,
     "metadata": {},
     "output_type": "execute_result"
    }
   ],
   "source": [
    "set(ClinicalData.index)-set(GenomicData.index)"
   ]
  },
  {
   "cell_type": "code",
   "execution_count": 352,
   "metadata": {},
   "outputs": [],
   "source": [
    "#list_Cli_Gen=ClinicalData.index.intersection(GenomicData.index)\n",
    "#ClinicalData=ClinicalData.loc[list_Cli_Gen]\n",
    "#GenomicData=GenomicData.loc[list_Cli_Gen]\n",
    "Cli_Gen_data=ClinicalData.join(GenomicData)\n",
    "Cli_Gen_data=Cli_Gen_data.set_index(['PatientID'])"
   ]
  },
  {
   "cell_type": "code",
   "execution_count": null,
   "metadata": {},
   "outputs": [],
   "source": [
    "SUBJ='01011BB'\n",
    "PARA='R2'\n",
    "file=os.path.join(STUDY_PATH,PARA,SUBJ,PARA+'_lin_3DT1.nii.gz') \n",
    "img_data=np.asanyarray(nib.load(file).dataobj)\n",
    "name_struct='r_FLASH_SN'\n",
    "#for cpt2,name_struct in enumerate(['r_FLASH_RN','r_FLASH_SN','r_QSM_GPe','r_QSM_GPi','r_FLASH_STh','r_MP2RAGE_STR']):\n",
    "struct_L_ = nib.load(os.path.join(STUDY_PATH,'R2',SUBJ,name_struct+'_L_'+SUBJ+'_on_3DT1.nii.gz'))\n",
    "struct_R_ = nib.load(os.path.join(STUDY_PATH,'R2',SUBJ,name_struct+'_R_'+SUBJ+'_on_3DT1.nii.gz'))\n",
    "struct_data=np.asanyarray(struct_R_.dataobj)+np.asanyarray(struct_L_.dataobj)\n",
    "tmp = (struct_data>0)\n",
    "\n",
    "struct = nib.load(os.path.join(STUDY_PATH,'volbrain','native_'+SUBJ,'native_lab_'+SUBJ+'_resliced.nii.gz'))\n",
    "struct_data=np.asanyarray(struct.dataobj)                    \n",
    "tmp = ((struct_data==3) | (struct_data==4))\n",
    "\n",
    "plot=p9.ggplot()+ p9.geom_histogram(p9.aes(img_data[tmp>0]),binwidth=1)+p9.xlab(\"Caudate\")\n",
    "plot.draw()"
   ]
  },
  {
   "cell_type": "code",
   "execution_count": 47,
   "metadata": {},
   "outputs": [
    {
     "name": "stderr",
     "output_type": "stream",
     "text": [
      "/home/romain/.local/lib/python3.7/site-packages/plotnine/ggplot.py:729: PlotnineWarning: Saving 6.4 x 4.8 in image.\n",
      "/home/romain/.local/lib/python3.7/site-packages/plotnine/ggplot.py:730: PlotnineWarning: Filename: /NAS/deathrow/protocoles/predistim/Dist_Caudate.jpg\n"
     ]
    }
   ],
   "source": [
    "plot.save(os.path.join(STUDY_PATH,'Dist_Caudate.jpg'))"
   ]
  },
  {
   "cell_type": "code",
   "execution_count": 16,
   "metadata": {},
   "outputs": [
    {
     "data": {
      "text/plain": [
       "'/NAS/deathrow/protocoles/predistim/R2/01011BB/r_FLASH_SN_L_01011BB_on_3DT1.nii.gz'"
      ]
     },
     "execution_count": 16,
     "metadata": {},
     "output_type": "execute_result"
    }
   ],
   "source": [
    "os.path.join(STUDY_PATH,'R2',SUBJ,name_struct+'_L_'+SUBJ+'_on_3DT1.nii.gz')"
   ]
  },
  {
   "cell_type": "markdown",
   "metadata": {},
   "source": [
    "# Pour les étudiants de LAS"
   ]
  },
  {
   "cell_type": "code",
   "execution_count": 102,
   "metadata": {},
   "outputs": [
    {
     "name": "stdout",
     "output_type": "stream",
     "text": [
      "n =  816\n",
      "Index(['Age', 'BMI', 'Sexe'], dtype='object')\n",
      "<class 'pandas.core.frame.DataFrame'>\n",
      "Index: 816 entries, 01001SR to nan\n",
      "Data columns (total 3 columns):\n",
      " #   Column  Non-Null Count  Dtype  \n",
      "---  ------  --------------  -----  \n",
      " 0   Age     813 non-null    float64\n",
      " 1   BMI     772 non-null    float64\n",
      " 2   Sexe    812 non-null    float64\n",
      "dtypes: float64(3)\n",
      "memory usage: 25.5+ KB\n",
      "None\n",
      "              Age         BMI        Sexe\n",
      "count  813.000000  772.000000  812.000000\n",
      "mean    59.881919   25.218912    1.350985\n",
      "std      8.397210    4.400802    0.477572\n",
      "min      0.000000   15.000000    1.000000\n",
      "25%     56.000000   22.000000    1.000000\n",
      "50%     61.000000   25.000000    1.000000\n",
      "75%     66.000000   28.000000    2.000000\n",
      "max     73.000000   43.000000    2.000000\n"
     ]
    }
   ],
   "source": [
    "ClinicalData = pd.read_csv(os.path.join(STUDY_PATH,'DataCli_LAS.csv'),index_col=0,sep=',')\n",
    "#Cli_Gen_data=Cli_Gen_data.set_index(['PatientNB'])\n",
    "#ClinicalData['Sexe']= ClinicalData['Sexe'].astype(bool)\n",
    "print(\"n = \",len(ClinicalData))\n",
    "print(ClinicalData.columns)\n",
    "print(ClinicalData.info())\n",
    "print(ClinicalData.describe())\n"
   ]
  },
  {
   "cell_type": "code",
   "execution_count": 103,
   "metadata": {},
   "outputs": [
    {
     "name": "stdout",
     "output_type": "stream",
     "text": [
      "n =  679\n",
      "<class 'pandas.core.frame.DataFrame'>\n",
      "Index: 679 entries, 01001SR to 20029DA\n",
      "Data columns (total 1 columns):\n",
      " #   Column     Non-Null Count  Dtype  \n",
      "---  ------     --------------  -----  \n",
      " 0   Vol_(mm3)  678 non-null    float64\n",
      "dtypes: float64(1)\n",
      "memory usage: 10.6+ KB\n",
      "None\n"
     ]
    }
   ],
   "source": [
    "VolData = pd.read_excel(os.path.join(STUDY_PATH,'volCranien.xls'),index_col=0)\n",
    "#Cli_Gen_data=Cli_Gen_data.set_index(['PatientNB'])\n",
    "print(\"n = \",len(VolData))\n",
    "print(VolData.info())"
   ]
  },
  {
   "cell_type": "code",
   "execution_count": 104,
   "metadata": {},
   "outputs": [
    {
     "name": "stdout",
     "output_type": "stream",
     "text": [
      "<class 'pandas.core.frame.DataFrame'>\n",
      "Index: 652 entries, 01001SR to 20029DA\n",
      "Data columns (total 4 columns):\n",
      " #   Column     Non-Null Count  Dtype  \n",
      "---  ------     --------------  -----  \n",
      " 0   Vol_(mm3)  651 non-null    float64\n",
      " 1   Age        651 non-null    float64\n",
      " 2   BMI        615 non-null    float64\n",
      " 3   Sexe       650 non-null    float64\n",
      "dtypes: float64(4)\n",
      "memory usage: 25.5+ KB\n"
     ]
    }
   ],
   "source": [
    "myDataFrame=VolData.merge(ClinicalData,left_index=True,right_index=True)\n",
    "myDataFrame.info()"
   ]
  },
  {
   "cell_type": "code",
   "execution_count": 105,
   "metadata": {},
   "outputs": [],
   "source": [
    "myDataFrame.to_csv(os.path.join(STUDY_PATH,'df_Predisitim_LAS.csv'))"
   ]
  },
  {
   "cell_type": "code",
   "execution_count": 106,
   "metadata": {},
   "outputs": [
    {
     "name": "stdout",
     "output_type": "stream",
     "text": [
      "<class 'pandas.core.frame.DataFrame'>\n",
      "RangeIndex: 652 entries, 0 to 651\n",
      "Data columns (total 5 columns):\n",
      " #   Column      Non-Null Count  Dtype  \n",
      "---  ------      --------------  -----  \n",
      " 0   Unnamed: 0  652 non-null    object \n",
      " 1   Vol_(mm3)   651 non-null    float64\n",
      " 2   Age         651 non-null    float64\n",
      " 3   BMI         615 non-null    float64\n",
      " 4   Sexe        650 non-null    float64\n",
      "dtypes: float64(4), object(1)\n",
      "memory usage: 25.6+ KB\n"
     ]
    }
   ],
   "source": [
    "test = pd.read_csv(os.path.join(STUDY_PATH,'df_Predisitim_LAS.csv'))\n",
    "test.describe()\n",
    "test.info()"
   ]
  },
  {
   "cell_type": "code",
   "execution_count": 107,
   "metadata": {},
   "outputs": [
    {
     "data": {
      "text/plain": [
       "Index(['Vol_(mm3)', 'Age', 'BMI', 'Sexe'], dtype='object')"
      ]
     },
     "execution_count": 107,
     "metadata": {},
     "output_type": "execute_result"
    }
   ],
   "source": [
    "myDataFrame.columns"
   ]
  },
  {
   "cell_type": "code",
   "execution_count": 108,
   "metadata": {},
   "outputs": [
    {
     "data": {
      "text/plain": [
       "Sexe\n",
       "1.0    25.575000\n",
       "2.0    24.367442\n",
       "Name: BMI, dtype: float64"
      ]
     },
     "execution_count": 108,
     "metadata": {},
     "output_type": "execute_result"
    }
   ],
   "source": [
    "myDataFrame.groupby(['Sexe']).mean()['BMI']"
   ]
  },
  {
   "cell_type": "code",
   "execution_count": 109,
   "metadata": {},
   "outputs": [
    {
     "data": {
      "text/html": [
       "<div>\n",
       "<style scoped>\n",
       "    .dataframe tbody tr th:only-of-type {\n",
       "        vertical-align: middle;\n",
       "    }\n",
       "\n",
       "    .dataframe tbody tr th {\n",
       "        vertical-align: top;\n",
       "    }\n",
       "\n",
       "    .dataframe thead th {\n",
       "        text-align: right;\n",
       "    }\n",
       "</style>\n",
       "<table border=\"1\" class=\"dataframe\">\n",
       "  <thead>\n",
       "    <tr style=\"text-align: right;\">\n",
       "      <th></th>\n",
       "      <th>count</th>\n",
       "      <th>mean</th>\n",
       "      <th>std</th>\n",
       "      <th>min</th>\n",
       "      <th>25%</th>\n",
       "      <th>50%</th>\n",
       "      <th>75%</th>\n",
       "      <th>max</th>\n",
       "    </tr>\n",
       "    <tr>\n",
       "      <th>Sexe</th>\n",
       "      <th></th>\n",
       "      <th></th>\n",
       "      <th></th>\n",
       "      <th></th>\n",
       "      <th></th>\n",
       "      <th></th>\n",
       "      <th></th>\n",
       "      <th></th>\n",
       "    </tr>\n",
       "  </thead>\n",
       "  <tbody>\n",
       "    <tr>\n",
       "      <th>1.0</th>\n",
       "      <td>400.0</td>\n",
       "      <td>25.575000</td>\n",
       "      <td>4.090379</td>\n",
       "      <td>17.0</td>\n",
       "      <td>23.0</td>\n",
       "      <td>25.0</td>\n",
       "      <td>28.0</td>\n",
       "      <td>43.0</td>\n",
       "    </tr>\n",
       "    <tr>\n",
       "      <th>2.0</th>\n",
       "      <td>215.0</td>\n",
       "      <td>24.367442</td>\n",
       "      <td>4.877936</td>\n",
       "      <td>15.0</td>\n",
       "      <td>21.0</td>\n",
       "      <td>24.0</td>\n",
       "      <td>27.0</td>\n",
       "      <td>42.0</td>\n",
       "    </tr>\n",
       "  </tbody>\n",
       "</table>\n",
       "</div>"
      ],
      "text/plain": [
       "      count       mean       std   min   25%   50%   75%   max\n",
       "Sexe                                                          \n",
       "1.0   400.0  25.575000  4.090379  17.0  23.0  25.0  28.0  43.0\n",
       "2.0   215.0  24.367442  4.877936  15.0  21.0  24.0  27.0  42.0"
      ]
     },
     "execution_count": 109,
     "metadata": {},
     "output_type": "execute_result"
    }
   ],
   "source": [
    "myDataFrame.groupby(['Sexe'])['BMI'].describe()"
   ]
  },
  {
   "cell_type": "code",
   "execution_count": 110,
   "metadata": {},
   "outputs": [
    {
     "data": {
      "text/html": [
       "<div>\n",
       "<style scoped>\n",
       "    .dataframe tbody tr th:only-of-type {\n",
       "        vertical-align: middle;\n",
       "    }\n",
       "\n",
       "    .dataframe tbody tr th {\n",
       "        vertical-align: top;\n",
       "    }\n",
       "\n",
       "    .dataframe thead th {\n",
       "        text-align: right;\n",
       "    }\n",
       "</style>\n",
       "<table border=\"1\" class=\"dataframe\">\n",
       "  <thead>\n",
       "    <tr style=\"text-align: right;\">\n",
       "      <th></th>\n",
       "      <th>count</th>\n",
       "      <th>mean</th>\n",
       "      <th>std</th>\n",
       "      <th>min</th>\n",
       "      <th>25%</th>\n",
       "      <th>50%</th>\n",
       "      <th>75%</th>\n",
       "      <th>max</th>\n",
       "    </tr>\n",
       "    <tr>\n",
       "      <th>Sexe</th>\n",
       "      <th></th>\n",
       "      <th></th>\n",
       "      <th></th>\n",
       "      <th></th>\n",
       "      <th></th>\n",
       "      <th></th>\n",
       "      <th></th>\n",
       "      <th></th>\n",
       "    </tr>\n",
       "  </thead>\n",
       "  <tbody>\n",
       "    <tr>\n",
       "      <th>1.0</th>\n",
       "      <td>422.0</td>\n",
       "      <td>1.525607e+06</td>\n",
       "      <td>123565.905671</td>\n",
       "      <td>908043.0</td>\n",
       "      <td>1443707.0</td>\n",
       "      <td>1519454.0</td>\n",
       "      <td>1603618.0</td>\n",
       "      <td>1979771.0</td>\n",
       "    </tr>\n",
       "    <tr>\n",
       "      <th>2.0</th>\n",
       "      <td>227.0</td>\n",
       "      <td>1.330809e+06</td>\n",
       "      <td>103884.725451</td>\n",
       "      <td>1079919.0</td>\n",
       "      <td>1251250.0</td>\n",
       "      <td>1333266.0</td>\n",
       "      <td>1413264.0</td>\n",
       "      <td>1566651.0</td>\n",
       "    </tr>\n",
       "  </tbody>\n",
       "</table>\n",
       "</div>"
      ],
      "text/plain": [
       "      count          mean            std        min        25%        50%  \\\n",
       "Sexe                                                                        \n",
       "1.0   422.0  1.525607e+06  123565.905671   908043.0  1443707.0  1519454.0   \n",
       "2.0   227.0  1.330809e+06  103884.725451  1079919.0  1251250.0  1333266.0   \n",
       "\n",
       "            75%        max  \n",
       "Sexe                        \n",
       "1.0   1603618.0  1979771.0  \n",
       "2.0   1413264.0  1566651.0  "
      ]
     },
     "execution_count": 110,
     "metadata": {},
     "output_type": "execute_result"
    }
   ],
   "source": [
    "myDataFrame.groupby(['Sexe'])['Vol_(mm3)'].describe()"
   ]
  },
  {
   "cell_type": "code",
   "execution_count": 89,
   "metadata": {},
   "outputs": [],
   "source": [
    "hist=myDataFrame['Vol_(mm3)'].hist(by=myDataFrame['Sexe'])\n",
    "plt.savefig(\"hist_LAS.png\", bbox_inches='tight', dpi=100)"
   ]
  }
 ],
 "metadata": {
  "kernelspec": {
   "display_name": "Python 3 (ipykernel)",
   "language": "python",
   "name": "python3"
  },
  "language_info": {
   "codemirror_mode": {
    "name": "ipython",
    "version": 3
   },
   "file_extension": ".py",
   "mimetype": "text/x-python",
   "name": "python",
   "nbconvert_exporter": "python",
   "pygments_lexer": "ipython3",
   "version": "3.11.5"
  }
 },
 "nbformat": 4,
 "nbformat_minor": 4
}
