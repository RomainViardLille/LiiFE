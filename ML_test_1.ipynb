{
 "cells": [
  {
   "cell_type": "code",
   "execution_count": 1,
   "id": "c8321cd8",
   "metadata": {},
   "outputs": [],
   "source": [
    "import os\n",
    "import torch\n",
    "import torchvision\n",
    "import numpy as np\n",
    "import tensorboard\n",
    "import omegaconf\n",
    "from PIL import Image\n",
    "import sklearn\n",
    "import matplotlib.pyplot as plt\n",
    "import setproctitle\n",
    "import SimpleITK\n",
    "import albumentations as A\n",
    "import einops\n",
    "import pandas as pd\n",
    "import pandasql as psql\n",
    "import art\n",
    "import nibabel as nib\n",
    "import byol_pytorch\n",
    "import visdom\n",
    "import blobfile"
   ]
  },
  {
   "cell_type": "code",
   "execution_count": 4,
   "id": "6f0fe9ba",
   "metadata": {
    "scrolled": true
   },
   "outputs": [
    {
     "ename": "RuntimeError",
     "evalue": "Found no NVIDIA driver on your system. Please check that you have an NVIDIA GPU and installed a driver from http://www.nvidia.com/Download/index.aspx",
     "output_type": "error",
     "traceback": [
      "\u001b[0;31m---------------------------------------------------------------------------\u001b[0m",
      "\u001b[0;31mRuntimeError\u001b[0m                              Traceback (most recent call last)",
      "\u001b[0;32m/tmp/ipykernel_692170/693240422.py\u001b[0m in \u001b[0;36m<module>\u001b[0;34m\u001b[0m\n\u001b[0;32m----> 1\u001b[0;31m \u001b[0mtorch\u001b[0m\u001b[0;34m.\u001b[0m\u001b[0mcuda\u001b[0m\u001b[0;34m.\u001b[0m\u001b[0mget_device_properties\u001b[0m\u001b[0;34m(\u001b[0m\u001b[0;36m0\u001b[0m\u001b[0;34m)\u001b[0m\u001b[0;34m.\u001b[0m\u001b[0mtotal_memory\u001b[0m\u001b[0;34m\u001b[0m\u001b[0;34m\u001b[0m\u001b[0m\n\u001b[0m",
      "\u001b[0;32m~/.local/lib/python3.7/site-packages/torch/cuda/__init__.py\u001b[0m in \u001b[0;36mget_device_properties\u001b[0;34m(device)\u001b[0m\n\u001b[1;32m    369\u001b[0m         \u001b[0m_CudaDeviceProperties\u001b[0m\u001b[0;34m:\u001b[0m \u001b[0mthe\u001b[0m \u001b[0mproperties\u001b[0m \u001b[0mof\u001b[0m \u001b[0mthe\u001b[0m \u001b[0mdevice\u001b[0m\u001b[0;34m\u001b[0m\u001b[0;34m\u001b[0m\u001b[0m\n\u001b[1;32m    370\u001b[0m     \"\"\"\n\u001b[0;32m--> 371\u001b[0;31m     \u001b[0m_lazy_init\u001b[0m\u001b[0;34m(\u001b[0m\u001b[0;34m)\u001b[0m  \u001b[0;31m# will define _get_device_properties\u001b[0m\u001b[0;34m\u001b[0m\u001b[0;34m\u001b[0m\u001b[0m\n\u001b[0m\u001b[1;32m    372\u001b[0m     \u001b[0mdevice\u001b[0m \u001b[0;34m=\u001b[0m \u001b[0m_get_device_index\u001b[0m\u001b[0;34m(\u001b[0m\u001b[0mdevice\u001b[0m\u001b[0;34m,\u001b[0m \u001b[0moptional\u001b[0m\u001b[0;34m=\u001b[0m\u001b[0;32mTrue\u001b[0m\u001b[0;34m)\u001b[0m\u001b[0;34m\u001b[0m\u001b[0;34m\u001b[0m\u001b[0m\n\u001b[1;32m    373\u001b[0m     \u001b[0;32mif\u001b[0m \u001b[0mdevice\u001b[0m \u001b[0;34m<\u001b[0m \u001b[0;36m0\u001b[0m \u001b[0;32mor\u001b[0m \u001b[0mdevice\u001b[0m \u001b[0;34m>=\u001b[0m \u001b[0mdevice_count\u001b[0m\u001b[0;34m(\u001b[0m\u001b[0;34m)\u001b[0m\u001b[0;34m:\u001b[0m\u001b[0;34m\u001b[0m\u001b[0;34m\u001b[0m\u001b[0m\n",
      "\u001b[0;32m~/.local/lib/python3.7/site-packages/torch/cuda/__init__.py\u001b[0m in \u001b[0;36m_lazy_init\u001b[0;34m()\u001b[0m\n\u001b[1;32m    227\u001b[0m         \u001b[0;32mif\u001b[0m \u001b[0;34m'CUDA_MODULE_LOADING'\u001b[0m \u001b[0;32mnot\u001b[0m \u001b[0;32min\u001b[0m \u001b[0mos\u001b[0m\u001b[0;34m.\u001b[0m\u001b[0menviron\u001b[0m\u001b[0;34m:\u001b[0m\u001b[0;34m\u001b[0m\u001b[0;34m\u001b[0m\u001b[0m\n\u001b[1;32m    228\u001b[0m             \u001b[0mos\u001b[0m\u001b[0;34m.\u001b[0m\u001b[0menviron\u001b[0m\u001b[0;34m[\u001b[0m\u001b[0;34m'CUDA_MODULE_LOADING'\u001b[0m\u001b[0;34m]\u001b[0m \u001b[0;34m=\u001b[0m \u001b[0;34m'LAZY'\u001b[0m\u001b[0;34m\u001b[0m\u001b[0;34m\u001b[0m\u001b[0m\n\u001b[0;32m--> 229\u001b[0;31m         \u001b[0mtorch\u001b[0m\u001b[0;34m.\u001b[0m\u001b[0m_C\u001b[0m\u001b[0;34m.\u001b[0m\u001b[0m_cuda_init\u001b[0m\u001b[0;34m(\u001b[0m\u001b[0;34m)\u001b[0m\u001b[0;34m\u001b[0m\u001b[0;34m\u001b[0m\u001b[0m\n\u001b[0m\u001b[1;32m    230\u001b[0m         \u001b[0;31m# Some of the queued calls may reentrantly call _lazy_init();\u001b[0m\u001b[0;34m\u001b[0m\u001b[0;34m\u001b[0m\u001b[0;34m\u001b[0m\u001b[0m\n\u001b[1;32m    231\u001b[0m         \u001b[0;31m# we need to just return without initializing in that case.\u001b[0m\u001b[0;34m\u001b[0m\u001b[0;34m\u001b[0m\u001b[0;34m\u001b[0m\u001b[0m\n",
      "\u001b[0;31mRuntimeError\u001b[0m: Found no NVIDIA driver on your system. Please check that you have an NVIDIA GPU and installed a driver from http://www.nvidia.com/Download/index.aspx"
     ]
    }
   ],
   "source": [
    "torch.cuda.get_device_properties(0).total_memory"
   ]
  },
  {
   "cell_type": "code",
   "execution_count": 3,
   "id": "93db2569",
   "metadata": {
    "collapsed": true
   },
   "outputs": [
    {
     "name": "stdout",
     "output_type": "stream",
     "text": [
      "Defaulting to user installation because normal site-packages is not writeable\n",
      "Collecting torch\n",
      "  Downloading torch-1.13.1-cp37-cp37m-manylinux1_x86_64.whl (887.5 MB)\n",
      "\u001b[2K     \u001b[38;2;114;156;31m━━━━━━━━━━━━━━━━━━━━━━━━━━━━━━━━━━━━━\u001b[0m \u001b[32m887.5/887.5 MB\u001b[0m \u001b[31m716.7 kB/s\u001b[0m eta \u001b[36m0:00:00\u001b[0mm eta \u001b[36m0:00:01\u001b[0m[36m0:00:05\u001b[0m\n",
      "\u001b[?25hRequirement already satisfied: typing-extensions in /home/youssef/.local/lib/python3.7/site-packages (from torch) (3.7.4.3)\n",
      "Collecting nvidia-cuda-runtime-cu11==11.7.99 (from torch)\n",
      "  Downloading nvidia_cuda_runtime_cu11-11.7.99-py3-none-manylinux1_x86_64.whl (849 kB)\n",
      "\u001b[2K     \u001b[38;2;114;156;31m━━━━━━━━━━━━━━━━━━━━━━━━━━━━━━━━━━━━━━━\u001b[0m \u001b[32m849.3/849.3 kB\u001b[0m \u001b[31m8.3 MB/s\u001b[0m eta \u001b[36m0:00:00\u001b[0m31m10.4 MB/s\u001b[0m eta \u001b[36m0:00:01\u001b[0m\n",
      "\u001b[?25hCollecting nvidia-cudnn-cu11==8.5.0.96 (from torch)\n",
      "  Downloading nvidia_cudnn_cu11-8.5.0.96-2-py3-none-manylinux1_x86_64.whl (557.1 MB)\n",
      "\u001b[2K     \u001b[38;2;114;156;31m━━━━━━━━━━━━━━━━━━━━━━━━━━━━━━━━━━━━━━━\u001b[0m \u001b[32m557.1/557.1 MB\u001b[0m \u001b[31m1.5 MB/s\u001b[0m eta \u001b[36m0:00:00\u001b[0mm eta \u001b[36m0:00:01\u001b[0m[36m0:00:01\u001b[0m\n",
      "\u001b[?25hCollecting nvidia-cublas-cu11==11.10.3.66 (from torch)\n",
      "  Downloading nvidia_cublas_cu11-11.10.3.66-py3-none-manylinux1_x86_64.whl (317.1 MB)\n",
      "\u001b[2K     \u001b[38;2;114;156;31m━━━━━━━━━━━━━━━━━━━━━━━━━━━━━━━━━━━━━━━\u001b[0m \u001b[32m317.1/317.1 MB\u001b[0m \u001b[31m2.1 MB/s\u001b[0m eta \u001b[36m0:00:00\u001b[0mm eta \u001b[36m0:00:01\u001b[0m[36m0:00:01\u001b[0m\n",
      "\u001b[?25hCollecting nvidia-cuda-nvrtc-cu11==11.7.99 (from torch)\n",
      "  Downloading nvidia_cuda_nvrtc_cu11-11.7.99-2-py3-none-manylinux1_x86_64.whl (21.0 MB)\n",
      "\u001b[2K     \u001b[38;2;114;156;31m━━━━━━━━━━━━━━━━━━━━━━━━━━━━━━━━━━━━━━━━\u001b[0m \u001b[32m21.0/21.0 MB\u001b[0m \u001b[31m12.8 MB/s\u001b[0m eta \u001b[36m0:00:00\u001b[0mm eta \u001b[36m0:00:01\u001b[0m0:01\u001b[0m:01\u001b[0m\n",
      "\u001b[?25hRequirement already satisfied: setuptools in /mnt/software/anaconda37/lib/python3.7/site-packages (from nvidia-cublas-cu11==11.10.3.66->torch) (58.0.4)\n",
      "Requirement already satisfied: wheel in /mnt/software/anaconda37/lib/python3.7/site-packages (from nvidia-cublas-cu11==11.10.3.66->torch) (0.38.4)\n",
      "\u001b[33mDEPRECATION: matlabengineforpython R2020a has a non-standard version number. pip 23.3 will enforce this behaviour change. A possible replacement is to upgrade to a newer version of matlabengineforpython or contact the author to suggest that they release a version with a conforming version number. Discussion can be found at https://github.com/pypa/pip/issues/12063\u001b[0m\u001b[33m\n",
      "\u001b[0mInstalling collected packages: nvidia-cuda-runtime-cu11, nvidia-cuda-nvrtc-cu11, nvidia-cublas-cu11, nvidia-cudnn-cu11, torch\n",
      "Successfully installed nvidia-cublas-cu11-11.10.3.66 nvidia-cuda-nvrtc-cu11-11.7.99 nvidia-cuda-runtime-cu11-11.7.99 nvidia-cudnn-cu11-8.5.0.96 torch-1.13.1\n",
      "Note: you may need to restart the kernel to use updated packages.\n"
     ]
    }
   ],
   "source": [
    "pip install torch"
   ]
  },
  {
   "cell_type": "code",
   "execution_count": 5,
   "id": "38c589c4",
   "metadata": {
    "collapsed": true
   },
   "outputs": [
    {
     "name": "stdout",
     "output_type": "stream",
     "text": [
      "Defaulting to user installation because normal site-packages is not writeable\n",
      "Collecting torchvision\n",
      "  Downloading torchvision-0.14.1-cp37-cp37m-manylinux1_x86_64.whl (24.2 MB)\n",
      "\u001b[2K     \u001b[38;2;114;156;31m━━━━━━━━━━━━━━━━━━━━━━━━━━━━━━━━━━━━━━━━\u001b[0m \u001b[32m24.2/24.2 MB\u001b[0m \u001b[31m16.8 MB/s\u001b[0m eta \u001b[36m0:00:00\u001b[0mm eta \u001b[36m0:00:01\u001b[0m[36m0:00:01\u001b[0m\n",
      "\u001b[?25hRequirement already satisfied: typing-extensions in /home/youssef/.local/lib/python3.7/site-packages (from torchvision) (3.7.4.3)\n",
      "Requirement already satisfied: numpy in /home/youssef/.local/lib/python3.7/site-packages (from torchvision) (1.19.5)\n",
      "Requirement already satisfied: requests in /mnt/software/anaconda37/lib/python3.7/site-packages (from torchvision) (2.28.1)\n",
      "Requirement already satisfied: torch==1.13.1 in /home/youssef/.local/lib/python3.7/site-packages (from torchvision) (1.13.1)\n",
      "Requirement already satisfied: pillow!=8.3.*,>=5.3.0 in /mnt/software/anaconda37/lib/python3.7/site-packages (from torchvision) (9.4.0)\n",
      "Requirement already satisfied: nvidia-cuda-runtime-cu11==11.7.99 in /home/youssef/.local/lib/python3.7/site-packages (from torch==1.13.1->torchvision) (11.7.99)\n",
      "Requirement already satisfied: nvidia-cudnn-cu11==8.5.0.96 in /home/youssef/.local/lib/python3.7/site-packages (from torch==1.13.1->torchvision) (8.5.0.96)\n",
      "Requirement already satisfied: nvidia-cublas-cu11==11.10.3.66 in /home/youssef/.local/lib/python3.7/site-packages (from torch==1.13.1->torchvision) (11.10.3.66)\n",
      "Requirement already satisfied: nvidia-cuda-nvrtc-cu11==11.7.99 in /home/youssef/.local/lib/python3.7/site-packages (from torch==1.13.1->torchvision) (11.7.99)\n",
      "Requirement already satisfied: setuptools in /mnt/software/anaconda37/lib/python3.7/site-packages (from nvidia-cublas-cu11==11.10.3.66->torch==1.13.1->torchvision) (58.0.4)\n",
      "Requirement already satisfied: wheel in /mnt/software/anaconda37/lib/python3.7/site-packages (from nvidia-cublas-cu11==11.10.3.66->torch==1.13.1->torchvision) (0.38.4)\n",
      "Requirement already satisfied: charset-normalizer<3,>=2 in /mnt/software/anaconda37/lib/python3.7/site-packages (from requests->torchvision) (2.0.4)\n",
      "Requirement already satisfied: idna<4,>=2.5 in /mnt/software/anaconda37/lib/python3.7/site-packages (from requests->torchvision) (3.4)\n",
      "Requirement already satisfied: urllib3<1.27,>=1.21.1 in /mnt/software/anaconda37/lib/python3.7/site-packages (from requests->torchvision) (1.26.3)\n",
      "Requirement already satisfied: certifi>=2017.4.17 in /mnt/software/anaconda37/lib/python3.7/site-packages (from requests->torchvision) (2022.12.7)\n",
      "\u001b[33mDEPRECATION: matlabengineforpython R2020a has a non-standard version number. pip 23.3 will enforce this behaviour change. A possible replacement is to upgrade to a newer version of matlabengineforpython or contact the author to suggest that they release a version with a conforming version number. Discussion can be found at https://github.com/pypa/pip/issues/12063\u001b[0m\u001b[33m\n",
      "\u001b[0mInstalling collected packages: torchvision\n",
      "Successfully installed torchvision-0.14.1\n",
      "Note: you may need to restart the kernel to use updated packages.\n"
     ]
    }
   ],
   "source": [
    "pip install torchvision"
   ]
  },
  {
   "cell_type": "code",
   "execution_count": 7,
   "id": "1311d235",
   "metadata": {
    "collapsed": true
   },
   "outputs": [
    {
     "name": "stdout",
     "output_type": "stream",
     "text": [
      "Defaulting to user installation because normal site-packages is not writeable\n",
      "Collecting Omegaconf\n",
      "  Downloading omegaconf-2.3.0-py3-none-any.whl (79 kB)\n",
      "\u001b[2K     \u001b[38;2;114;156;31m━━━━━━━━━━━━━━━━━━━━━━━━━━━━━━━━━━━━━━━━\u001b[0m \u001b[32m79.5/79.5 kB\u001b[0m \u001b[31m1.6 MB/s\u001b[0m eta \u001b[36m0:00:00\u001b[0m MB/s\u001b[0m eta \u001b[36m0:00:01\u001b[0m\n",
      "\u001b[?25hCollecting antlr4-python3-runtime==4.9.* (from Omegaconf)\n",
      "  Downloading antlr4-python3-runtime-4.9.3.tar.gz (117 kB)\n",
      "\u001b[2K     \u001b[38;2;114;156;31m━━━━━━━━━━━━━━━━━━━━━━━━━━━━━━━━━━━━━━━\u001b[0m \u001b[32m117.0/117.0 kB\u001b[0m \u001b[31m3.8 MB/s\u001b[0m eta \u001b[36m0:00:00\u001b[0m\n",
      "\u001b[?25h  Preparing metadata (setup.py) ... \u001b[?25ldone\n",
      "\u001b[?25hRequirement already satisfied: PyYAML>=5.1.0 in /mnt/software/anaconda37/lib/python3.7/site-packages (from Omegaconf) (6.0)\n",
      "Building wheels for collected packages: antlr4-python3-runtime\n",
      "  Building wheel for antlr4-python3-runtime (setup.py) ... \u001b[?25ldone\n",
      "\u001b[?25h  Created wheel for antlr4-python3-runtime: filename=antlr4_python3_runtime-4.9.3-py3-none-any.whl size=144575 sha256=a23a5b5e60a689ff6fbf7fd11d723e9b049d205d0ba0457409508970916b1766\n",
      "  Stored in directory: /home/youssef/.cache/pip/wheels/8b/8d/53/2af8772d9aec614e3fc65e53d4a993ad73c61daa8bbd85a873\n",
      "Successfully built antlr4-python3-runtime\n",
      "\u001b[33mDEPRECATION: matlabengineforpython R2020a has a non-standard version number. pip 23.3 will enforce this behaviour change. A possible replacement is to upgrade to a newer version of matlabengineforpython or contact the author to suggest that they release a version with a conforming version number. Discussion can be found at https://github.com/pypa/pip/issues/12063\u001b[0m\u001b[33m\n",
      "\u001b[0mInstalling collected packages: antlr4-python3-runtime, Omegaconf\n",
      "Successfully installed Omegaconf-2.3.0 antlr4-python3-runtime-4.9.3\n",
      "Note: you may need to restart the kernel to use updated packages.\n"
     ]
    }
   ],
   "source": [
    "pip install Omegaconf"
   ]
  },
  {
   "cell_type": "code",
   "execution_count": 9,
   "id": "cdcfd187",
   "metadata": {
    "collapsed": true
   },
   "outputs": [
    {
     "name": "stdout",
     "output_type": "stream",
     "text": [
      "Defaulting to user installation because normal site-packages is not writeable\n",
      "Collecting setproctitle\n",
      "  Downloading setproctitle-1.3.2-cp37-cp37m-manylinux_2_5_x86_64.manylinux1_x86_64.manylinux_2_17_x86_64.manylinux2014_x86_64.whl (30 kB)\n",
      "\u001b[33mDEPRECATION: matlabengineforpython R2020a has a non-standard version number. pip 23.3 will enforce this behaviour change. A possible replacement is to upgrade to a newer version of matlabengineforpython or contact the author to suggest that they release a version with a conforming version number. Discussion can be found at https://github.com/pypa/pip/issues/12063\u001b[0m\u001b[33m\n",
      "\u001b[0mInstalling collected packages: setproctitle\n",
      "Successfully installed setproctitle-1.3.2\n",
      "Note: you may need to restart the kernel to use updated packages.\n"
     ]
    }
   ],
   "source": [
    "pip install setproctitle"
   ]
  },
  {
   "cell_type": "code",
   "execution_count": 11,
   "id": "36aa5189",
   "metadata": {
    "collapsed": true
   },
   "outputs": [
    {
     "name": "stdout",
     "output_type": "stream",
     "text": [
      "Defaulting to user installation because normal site-packages is not writeable\n",
      "Collecting albumentations\n",
      "  Obtaining dependency information for albumentations from https://files.pythonhosted.org/packages/9b/f6/c486cedb4f75147232f32ec4c97026714cfef7c7e247a1f0427bc5489f66/albumentations-1.3.1-py3-none-any.whl.metadata\n",
      "  Downloading albumentations-1.3.1-py3-none-any.whl.metadata (34 kB)\n",
      "Requirement already satisfied: numpy>=1.11.1 in /home/youssef/.local/lib/python3.7/site-packages (from albumentations) (1.19.5)\n",
      "Requirement already satisfied: scipy>=1.1.0 in /mnt/software/anaconda37/lib/python3.7/site-packages (from albumentations) (1.7.3)\n",
      "Requirement already satisfied: scikit-image>=0.16.1 in /mnt/software/anaconda37/lib/python3.7/site-packages (from albumentations) (0.18.3)\n",
      "Requirement already satisfied: PyYAML in /mnt/software/anaconda37/lib/python3.7/site-packages (from albumentations) (6.0)\n",
      "Collecting qudida>=0.0.4 (from albumentations)\n",
      "  Downloading qudida-0.0.4-py3-none-any.whl (3.5 kB)\n",
      "Collecting opencv-python-headless>=4.1.1 (from albumentations)\n",
      "  Obtaining dependency information for opencv-python-headless>=4.1.1 from https://files.pythonhosted.org/packages/21/6d/abf701fa71ff22e3617ec9b46197f9ff5bba16dfefa7ee259b60216112eb/opencv_python_headless-4.8.0.76-cp37-abi3-manylinux_2_17_x86_64.manylinux2014_x86_64.whl.metadata\n",
      "  Downloading opencv_python_headless-4.8.0.76-cp37-abi3-manylinux_2_17_x86_64.manylinux2014_x86_64.whl.metadata (19 kB)\n",
      "Requirement already satisfied: scikit-learn>=0.19.1 in /mnt/software/anaconda37/lib/python3.7/site-packages (from qudida>=0.0.4->albumentations) (1.0.2)\n",
      "Requirement already satisfied: typing-extensions in /home/youssef/.local/lib/python3.7/site-packages (from qudida>=0.0.4->albumentations) (3.7.4.3)\n",
      "Requirement already satisfied: matplotlib!=3.0.0,>=2.0.0 in /mnt/software/anaconda37/lib/python3.7/site-packages (from scikit-image>=0.16.1->albumentations) (3.5.0)\n",
      "Requirement already satisfied: networkx>=2.0 in /mnt/software/anaconda37/lib/python3.7/site-packages (from scikit-image>=0.16.1->albumentations) (2.6.3)\n",
      "Requirement already satisfied: pillow!=7.1.0,!=7.1.1,>=4.3.0 in /mnt/software/anaconda37/lib/python3.7/site-packages (from scikit-image>=0.16.1->albumentations) (9.4.0)\n",
      "Requirement already satisfied: imageio>=2.3.0 in /mnt/software/anaconda37/lib/python3.7/site-packages (from scikit-image>=0.16.1->albumentations) (2.9.0)\n",
      "Requirement already satisfied: tifffile>=2019.7.26 in /mnt/software/anaconda37/lib/python3.7/site-packages (from scikit-image>=0.16.1->albumentations) (2021.7.2)\n",
      "Requirement already satisfied: PyWavelets>=1.1.1 in /home/youssef/.local/lib/python3.7/site-packages (from scikit-image>=0.16.1->albumentations) (1.3.0)\n",
      "Requirement already satisfied: cycler>=0.10 in /mnt/software/anaconda37/lib/python3.7/site-packages (from matplotlib!=3.0.0,>=2.0.0->scikit-image>=0.16.1->albumentations) (0.11.0)\n",
      "Requirement already satisfied: fonttools>=4.22.0 in /mnt/software/anaconda37/lib/python3.7/site-packages (from matplotlib!=3.0.0,>=2.0.0->scikit-image>=0.16.1->albumentations) (4.25.0)\n",
      "Requirement already satisfied: kiwisolver>=1.0.1 in /mnt/software/anaconda37/lib/python3.7/site-packages (from matplotlib!=3.0.0,>=2.0.0->scikit-image>=0.16.1->albumentations) (1.4.4)\n",
      "Requirement already satisfied: packaging>=20.0 in /mnt/software/anaconda37/lib/python3.7/site-packages (from matplotlib!=3.0.0,>=2.0.0->scikit-image>=0.16.1->albumentations) (21.3)\n",
      "Requirement already satisfied: pyparsing>=2.2.1 in /mnt/software/anaconda37/lib/python3.7/site-packages (from matplotlib!=3.0.0,>=2.0.0->scikit-image>=0.16.1->albumentations) (3.0.9)\n",
      "Requirement already satisfied: python-dateutil>=2.7 in /mnt/software/anaconda37/lib/python3.7/site-packages (from matplotlib!=3.0.0,>=2.0.0->scikit-image>=0.16.1->albumentations) (2.8.2)\n",
      "Requirement already satisfied: joblib>=0.11 in /mnt/software/anaconda37/lib/python3.7/site-packages (from scikit-learn>=0.19.1->qudida>=0.0.4->albumentations) (1.1.0)\n",
      "Requirement already satisfied: threadpoolctl>=2.0.0 in /mnt/software/anaconda37/lib/python3.7/site-packages (from scikit-learn>=0.19.1->qudida>=0.0.4->albumentations) (2.2.0)\n",
      "Requirement already satisfied: six>=1.5 in /home/youssef/.local/lib/python3.7/site-packages (from python-dateutil>=2.7->matplotlib!=3.0.0,>=2.0.0->scikit-image>=0.16.1->albumentations) (1.15.0)\n",
      "Downloading albumentations-1.3.1-py3-none-any.whl (125 kB)\n",
      "\u001b[2K   \u001b[38;2;114;156;31m━━━━━━━━━━━━━━━━━━━━━━━━━━━━━━━━━━━━━━━━\u001b[0m \u001b[32m125.7/125.7 kB\u001b[0m \u001b[31m3.1 MB/s\u001b[0m eta \u001b[36m0:00:00\u001b[0m[36m0:00:01\u001b[0m\n",
      "\u001b[?25hDownloading opencv_python_headless-4.8.0.76-cp37-abi3-manylinux_2_17_x86_64.manylinux2014_x86_64.whl (49.1 MB)\n",
      "\u001b[2K   \u001b[38;2;114;156;31m━━━━━━━━━━━━━━━━━━━━━━━━━━━━━━━━━━━━━━━━\u001b[0m \u001b[32m49.1/49.1 MB\u001b[0m \u001b[31m7.0 MB/s\u001b[0m eta \u001b[36m0:00:00\u001b[0m0m eta \u001b[36m0:00:01\u001b[0m[36m0:00:01\u001b[0m\n",
      "\u001b[?25h\u001b[33mDEPRECATION: matlabengineforpython R2020a has a non-standard version number. pip 23.3 will enforce this behaviour change. A possible replacement is to upgrade to a newer version of matlabengineforpython or contact the author to suggest that they release a version with a conforming version number. Discussion can be found at https://github.com/pypa/pip/issues/12063\u001b[0m\u001b[33m\n",
      "\u001b[0mInstalling collected packages: opencv-python-headless, qudida, albumentations\n",
      "Successfully installed albumentations-1.3.1 opencv-python-headless-4.8.0.76 qudida-0.0.4\n",
      "Note: you may need to restart the kernel to use updated packages.\n"
     ]
    }
   ],
   "source": [
    "pip install albumentations"
   ]
  },
  {
   "cell_type": "code",
   "execution_count": 2,
   "id": "c550e06f",
   "metadata": {
    "collapsed": true
   },
   "outputs": [
    {
     "name": "stdout",
     "output_type": "stream",
     "text": [
      "Defaulting to user installation because normal site-packages is not writeable\n",
      "Requirement already satisfied: albumentations in /home/youssef/.local/lib/python3.7/site-packages (1.3.1)\n",
      "Requirement already satisfied: numpy>=1.11.1 in /home/youssef/.local/lib/python3.7/site-packages (from albumentations) (1.19.5)\n",
      "Requirement already satisfied: scipy>=1.1.0 in /mnt/software/anaconda37/lib/python3.7/site-packages (from albumentations) (1.7.3)\n",
      "Requirement already satisfied: scikit-image>=0.16.1 in /mnt/software/anaconda37/lib/python3.7/site-packages (from albumentations) (0.18.3)\n",
      "Requirement already satisfied: PyYAML in /mnt/software/anaconda37/lib/python3.7/site-packages (from albumentations) (6.0)\n",
      "Requirement already satisfied: qudida>=0.0.4 in /home/youssef/.local/lib/python3.7/site-packages (from albumentations) (0.0.4)\n",
      "Requirement already satisfied: opencv-python-headless>=4.1.1 in /home/youssef/.local/lib/python3.7/site-packages (from albumentations) (4.8.0.76)\n",
      "Requirement already satisfied: scikit-learn>=0.19.1 in /mnt/software/anaconda37/lib/python3.7/site-packages (from qudida>=0.0.4->albumentations) (1.0.2)\n",
      "Requirement already satisfied: typing-extensions in /home/youssef/.local/lib/python3.7/site-packages (from qudida>=0.0.4->albumentations) (3.7.4.3)\n",
      "Requirement already satisfied: matplotlib!=3.0.0,>=2.0.0 in /mnt/software/anaconda37/lib/python3.7/site-packages (from scikit-image>=0.16.1->albumentations) (3.5.0)\n",
      "Requirement already satisfied: networkx>=2.0 in /mnt/software/anaconda37/lib/python3.7/site-packages (from scikit-image>=0.16.1->albumentations) (2.6.3)\n",
      "Requirement already satisfied: pillow!=7.1.0,!=7.1.1,>=4.3.0 in /mnt/software/anaconda37/lib/python3.7/site-packages (from scikit-image>=0.16.1->albumentations) (9.4.0)\n",
      "Requirement already satisfied: imageio>=2.3.0 in /mnt/software/anaconda37/lib/python3.7/site-packages (from scikit-image>=0.16.1->albumentations) (2.9.0)\n",
      "Requirement already satisfied: tifffile>=2019.7.26 in /mnt/software/anaconda37/lib/python3.7/site-packages (from scikit-image>=0.16.1->albumentations) (2021.7.2)\n",
      "Requirement already satisfied: PyWavelets>=1.1.1 in /home/youssef/.local/lib/python3.7/site-packages (from scikit-image>=0.16.1->albumentations) (1.3.0)\n",
      "Requirement already satisfied: cycler>=0.10 in /mnt/software/anaconda37/lib/python3.7/site-packages (from matplotlib!=3.0.0,>=2.0.0->scikit-image>=0.16.1->albumentations) (0.11.0)\n",
      "Requirement already satisfied: fonttools>=4.22.0 in /mnt/software/anaconda37/lib/python3.7/site-packages (from matplotlib!=3.0.0,>=2.0.0->scikit-image>=0.16.1->albumentations) (4.25.0)\n",
      "Requirement already satisfied: kiwisolver>=1.0.1 in /mnt/software/anaconda37/lib/python3.7/site-packages (from matplotlib!=3.0.0,>=2.0.0->scikit-image>=0.16.1->albumentations) (1.4.4)\n",
      "Requirement already satisfied: packaging>=20.0 in /mnt/software/anaconda37/lib/python3.7/site-packages (from matplotlib!=3.0.0,>=2.0.0->scikit-image>=0.16.1->albumentations) (21.3)\n",
      "Requirement already satisfied: pyparsing>=2.2.1 in /mnt/software/anaconda37/lib/python3.7/site-packages (from matplotlib!=3.0.0,>=2.0.0->scikit-image>=0.16.1->albumentations) (3.0.9)\n",
      "Requirement already satisfied: python-dateutil>=2.7 in /mnt/software/anaconda37/lib/python3.7/site-packages (from matplotlib!=3.0.0,>=2.0.0->scikit-image>=0.16.1->albumentations) (2.8.2)\n",
      "Requirement already satisfied: joblib>=0.11 in /mnt/software/anaconda37/lib/python3.7/site-packages (from scikit-learn>=0.19.1->qudida>=0.0.4->albumentations) (1.1.0)\n",
      "Requirement already satisfied: threadpoolctl>=2.0.0 in /mnt/software/anaconda37/lib/python3.7/site-packages (from scikit-learn>=0.19.1->qudida>=0.0.4->albumentations) (2.2.0)\n",
      "Requirement already satisfied: six>=1.5 in /home/youssef/.local/lib/python3.7/site-packages (from python-dateutil>=2.7->matplotlib!=3.0.0,>=2.0.0->scikit-image>=0.16.1->albumentations) (1.15.0)\n",
      "\u001b[33mDEPRECATION: matlabengineforpython R2020a has a non-standard version number. pip 23.3 will enforce this behaviour change. A possible replacement is to upgrade to a newer version of matlabengineforpython or contact the author to suggest that they release a version with a conforming version number. Discussion can be found at https://github.com/pypa/pip/issues/12063\u001b[0m\u001b[33m\n",
      "\u001b[0mNote: you may need to restart the kernel to use updated packages.\n"
     ]
    }
   ],
   "source": [
    "pip install --upgrade albumentations"
   ]
  },
  {
   "cell_type": "code",
   "execution_count": 4,
   "id": "a3abc61e",
   "metadata": {
    "collapsed": true
   },
   "outputs": [
    {
     "name": "stdout",
     "output_type": "stream",
     "text": [
      "Defaulting to user installation because normal site-packages is not writeable\n",
      "Requirement already satisfied: typing-extensions in /home/youssef/.local/lib/python3.7/site-packages (3.7.4.3)\n",
      "Collecting typing-extensions\n",
      "  Obtaining dependency information for typing-extensions from https://files.pythonhosted.org/packages/ec/6b/63cc3df74987c36fe26157ee12e09e8f9db4de771e0f3404263117e75b95/typing_extensions-4.7.1-py3-none-any.whl.metadata\n",
      "  Downloading typing_extensions-4.7.1-py3-none-any.whl.metadata (3.1 kB)\n",
      "Using cached typing_extensions-4.7.1-py3-none-any.whl (33 kB)\n",
      "\u001b[33mDEPRECATION: matlabengineforpython R2020a has a non-standard version number. pip 23.3 will enforce this behaviour change. A possible replacement is to upgrade to a newer version of matlabengineforpython or contact the author to suggest that they release a version with a conforming version number. Discussion can be found at https://github.com/pypa/pip/issues/12063\u001b[0m\u001b[33m\n",
      "\u001b[0mInstalling collected packages: typing-extensions\n",
      "  Attempting uninstall: typing-extensions\n",
      "    Found existing installation: typing-extensions 3.7.4.3\n",
      "    Uninstalling typing-extensions-3.7.4.3:\n",
      "      Successfully uninstalled typing-extensions-3.7.4.3\n",
      "\u001b[31mERROR: pip's dependency resolver does not currently take into account all the packages that are installed. This behaviour is the source of the following dependency conflicts.\n",
      "tensorflow 2.4.1 requires typing-extensions~=3.7.4, but you have typing-extensions 4.7.1 which is incompatible.\u001b[0m\u001b[31m\n",
      "\u001b[0mSuccessfully installed typing-extensions-4.7.1\n",
      "Note: you may need to restart the kernel to use updated packages.\n"
     ]
    }
   ],
   "source": [
    "pip install --upgrade typing-extensions"
   ]
  },
  {
   "cell_type": "code",
   "execution_count": 7,
   "id": "6bab4d48",
   "metadata": {
    "collapsed": true
   },
   "outputs": [
    {
     "name": "stdout",
     "output_type": "stream",
     "text": [
      "Defaulting to user installation because normal site-packages is not writeable\n",
      "Collecting albumentations==0.5.1\n",
      "  Downloading albumentations-0.5.1-py3-none-any.whl (71 kB)\n",
      "\u001b[2K     \u001b[38;2;114;156;31m━━━━━━━━━━━━━━━━━━━━━━━━━━━━━━━━━━━━━━━━\u001b[0m \u001b[32m71.9/71.9 kB\u001b[0m \u001b[31m1.4 MB/s\u001b[0m eta \u001b[36m0:00:00\u001b[0mm eta \u001b[36m0:00:01\u001b[0m\n",
      "\u001b[?25hRequirement already satisfied: numpy>=1.11.1 in /home/youssef/.local/lib/python3.7/site-packages (from albumentations==0.5.1) (1.19.5)\n",
      "Requirement already satisfied: scipy in /mnt/software/anaconda37/lib/python3.7/site-packages (from albumentations==0.5.1) (1.7.3)\n",
      "Requirement already satisfied: scikit-image>=0.16.1 in /mnt/software/anaconda37/lib/python3.7/site-packages (from albumentations==0.5.1) (0.18.3)\n",
      "Collecting imgaug>=0.4.0 (from albumentations==0.5.1)\n",
      "  Downloading imgaug-0.4.0-py2.py3-none-any.whl (948 kB)\n",
      "\u001b[2K     \u001b[38;2;114;156;31m━━━━━━━━━━━━━━━━━━━━━━━━━━━━━━━━━━━━━━━\u001b[0m \u001b[32m948.0/948.0 kB\u001b[0m \u001b[31m8.3 MB/s\u001b[0m eta \u001b[36m0:00:00\u001b[0mm eta \u001b[36m0:00:01\u001b[0m0:01\u001b[0m\n",
      "\u001b[?25hRequirement already satisfied: PyYAML in /mnt/software/anaconda37/lib/python3.7/site-packages (from albumentations==0.5.1) (6.0)\n",
      "Requirement already satisfied: opencv-python-headless>=4.1.1 in /home/youssef/.local/lib/python3.7/site-packages (from albumentations==0.5.1) (4.8.0.76)\n",
      "Requirement already satisfied: six in /home/youssef/.local/lib/python3.7/site-packages (from imgaug>=0.4.0->albumentations==0.5.1) (1.15.0)\n",
      "Requirement already satisfied: Pillow in /mnt/software/anaconda37/lib/python3.7/site-packages (from imgaug>=0.4.0->albumentations==0.5.1) (9.4.0)\n",
      "Requirement already satisfied: matplotlib in /mnt/software/anaconda37/lib/python3.7/site-packages (from imgaug>=0.4.0->albumentations==0.5.1) (3.5.0)\n",
      "Requirement already satisfied: opencv-python in /home/youssef/.local/lib/python3.7/site-packages (from imgaug>=0.4.0->albumentations==0.5.1) (4.8.0.76)\n",
      "Requirement already satisfied: imageio in /mnt/software/anaconda37/lib/python3.7/site-packages (from imgaug>=0.4.0->albumentations==0.5.1) (2.9.0)\n",
      "Collecting Shapely (from imgaug>=0.4.0->albumentations==0.5.1)\n",
      "  Downloading shapely-2.0.1-cp37-cp37m-manylinux_2_17_x86_64.manylinux2014_x86_64.whl (2.3 MB)\n",
      "\u001b[2K     \u001b[38;2;114;156;31m━━━━━━━━━━━━━━━━━━━━━━━━━━━━━━━━━━━━━━━━\u001b[0m \u001b[32m2.3/2.3 MB\u001b[0m \u001b[31m27.5 MB/s\u001b[0m eta \u001b[36m0:00:00\u001b[0mm eta \u001b[36m0:00:01\u001b[0m[36m0:00:01\u001b[0m\n",
      "\u001b[?25hRequirement already satisfied: networkx>=2.0 in /mnt/software/anaconda37/lib/python3.7/site-packages (from scikit-image>=0.16.1->albumentations==0.5.1) (2.6.3)\n",
      "Requirement already satisfied: tifffile>=2019.7.26 in /mnt/software/anaconda37/lib/python3.7/site-packages (from scikit-image>=0.16.1->albumentations==0.5.1) (2021.7.2)\n",
      "Requirement already satisfied: PyWavelets>=1.1.1 in /home/youssef/.local/lib/python3.7/site-packages (from scikit-image>=0.16.1->albumentations==0.5.1) (1.3.0)\n",
      "Requirement already satisfied: cycler>=0.10 in /mnt/software/anaconda37/lib/python3.7/site-packages (from matplotlib->imgaug>=0.4.0->albumentations==0.5.1) (0.11.0)\n",
      "Requirement already satisfied: fonttools>=4.22.0 in /mnt/software/anaconda37/lib/python3.7/site-packages (from matplotlib->imgaug>=0.4.0->albumentations==0.5.1) (4.25.0)\n",
      "Requirement already satisfied: kiwisolver>=1.0.1 in /mnt/software/anaconda37/lib/python3.7/site-packages (from matplotlib->imgaug>=0.4.0->albumentations==0.5.1) (1.4.4)\n",
      "Requirement already satisfied: packaging>=20.0 in /mnt/software/anaconda37/lib/python3.7/site-packages (from matplotlib->imgaug>=0.4.0->albumentations==0.5.1) (21.3)\n",
      "Requirement already satisfied: pyparsing>=2.2.1 in /mnt/software/anaconda37/lib/python3.7/site-packages (from matplotlib->imgaug>=0.4.0->albumentations==0.5.1) (3.0.9)\n",
      "Requirement already satisfied: python-dateutil>=2.7 in /mnt/software/anaconda37/lib/python3.7/site-packages (from matplotlib->imgaug>=0.4.0->albumentations==0.5.1) (2.8.2)\n",
      "Requirement already satisfied: typing-extensions in /home/youssef/.local/lib/python3.7/site-packages (from kiwisolver>=1.0.1->matplotlib->imgaug>=0.4.0->albumentations==0.5.1) (4.7.1)\n",
      "\u001b[33mDEPRECATION: matlabengineforpython R2020a has a non-standard version number. pip 23.3 will enforce this behaviour change. A possible replacement is to upgrade to a newer version of matlabengineforpython or contact the author to suggest that they release a version with a conforming version number. Discussion can be found at https://github.com/pypa/pip/issues/12063\u001b[0m\u001b[33m\n",
      "\u001b[0mInstalling collected packages: Shapely, imgaug, albumentations\n",
      "  Attempting uninstall: albumentations\n",
      "    Found existing installation: albumentations 1.3.1\n",
      "    Uninstalling albumentations-1.3.1:\n",
      "      Successfully uninstalled albumentations-1.3.1\n",
      "Successfully installed Shapely-2.0.1 albumentations-0.5.1 imgaug-0.4.0\n",
      "Note: you may need to restart the kernel to use updated packages.\n"
     ]
    }
   ],
   "source": [
    "pip install albumentations==0.5.1"
   ]
  },
  {
   "cell_type": "code",
   "execution_count": 10,
   "id": "795e3d65",
   "metadata": {
    "collapsed": true
   },
   "outputs": [
    {
     "name": "stdout",
     "output_type": "stream",
     "text": [
      "Defaulting to user installation because normal site-packages is not writeable\n",
      "Collecting einops\n",
      "  Downloading einops-0.6.1-py3-none-any.whl (42 kB)\n",
      "\u001b[2K     \u001b[38;2;114;156;31m━━━━━━━━━━━━━━━━━━━━━━━━━━━━━━━━━━━━━━━━\u001b[0m \u001b[32m42.2/42.2 kB\u001b[0m \u001b[31m1.2 MB/s\u001b[0m eta \u001b[36m0:00:00\u001b[0m\n",
      "\u001b[?25h\u001b[33mDEPRECATION: matlabengineforpython R2020a has a non-standard version number. pip 23.3 will enforce this behaviour change. A possible replacement is to upgrade to a newer version of matlabengineforpython or contact the author to suggest that they release a version with a conforming version number. Discussion can be found at https://github.com/pypa/pip/issues/12063\u001b[0m\u001b[33m\n",
      "\u001b[0mInstalling collected packages: einops\n",
      "Successfully installed einops-0.6.1\n",
      "Note: you may need to restart the kernel to use updated packages.\n"
     ]
    }
   ],
   "source": [
    "pip install einops"
   ]
  },
  {
   "cell_type": "code",
   "execution_count": 12,
   "id": "ba8de0c7",
   "metadata": {
    "collapsed": true
   },
   "outputs": [
    {
     "name": "stdout",
     "output_type": "stream",
     "text": [
      "Defaulting to user installation because normal site-packages is not writeable\n",
      "Collecting pandasql\n",
      "  Downloading pandasql-0.7.3.tar.gz (26 kB)\n",
      "  Preparing metadata (setup.py) ... \u001b[?25ldone\n",
      "\u001b[?25hRequirement already satisfied: numpy in /home/youssef/.local/lib/python3.7/site-packages (from pandasql) (1.19.5)\n",
      "Requirement already satisfied: pandas in /mnt/software/anaconda37/lib/python3.7/site-packages (from pandasql) (1.3.5)\n",
      "Requirement already satisfied: sqlalchemy in /mnt/software/anaconda37/lib/python3.7/site-packages (from pandasql) (1.4.39)\n",
      "Requirement already satisfied: python-dateutil>=2.7.3 in /mnt/software/anaconda37/lib/python3.7/site-packages (from pandas->pandasql) (2.8.2)\n",
      "Requirement already satisfied: pytz>=2017.3 in /mnt/software/anaconda37/lib/python3.7/site-packages (from pandas->pandasql) (2022.7)\n",
      "Requirement already satisfied: importlib-metadata in /mnt/software/anaconda37/lib/python3.7/site-packages (from sqlalchemy->pandasql) (4.11.3)\n",
      "Requirement already satisfied: greenlet!=0.4.17 in /mnt/software/anaconda37/lib/python3.7/site-packages (from sqlalchemy->pandasql) (2.0.1)\n",
      "Requirement already satisfied: six>=1.5 in /home/youssef/.local/lib/python3.7/site-packages (from python-dateutil>=2.7.3->pandas->pandasql) (1.15.0)\n",
      "Requirement already satisfied: zipp>=0.5 in /mnt/software/anaconda37/lib/python3.7/site-packages (from importlib-metadata->sqlalchemy->pandasql) (3.11.0)\n",
      "Requirement already satisfied: typing-extensions>=3.6.4 in /home/youssef/.local/lib/python3.7/site-packages (from importlib-metadata->sqlalchemy->pandasql) (4.7.1)\n",
      "Building wheels for collected packages: pandasql\n",
      "  Building wheel for pandasql (setup.py) ... \u001b[?25ldone\n",
      "\u001b[?25h  Created wheel for pandasql: filename=pandasql-0.7.3-py3-none-any.whl size=26787 sha256=d172339a7f762b627eb32976b98458c974cd3d5a7b04701b1f072725cd094e7e\n",
      "  Stored in directory: /home/youssef/.cache/pip/wheels/5c/4b/ec/41f4e116c8053c3654e2c2a47c62b4fca34cc67ef7b55deb7f\n",
      "Successfully built pandasql\n",
      "\u001b[33mDEPRECATION: matlabengineforpython R2020a has a non-standard version number. pip 23.3 will enforce this behaviour change. A possible replacement is to upgrade to a newer version of matlabengineforpython or contact the author to suggest that they release a version with a conforming version number. Discussion can be found at https://github.com/pypa/pip/issues/12063\u001b[0m\u001b[33m\n",
      "\u001b[0mInstalling collected packages: pandasql\n",
      "Successfully installed pandasql-0.7.3\n",
      "Note: you may need to restart the kernel to use updated packages.\n"
     ]
    }
   ],
   "source": [
    "pip install pandasql"
   ]
  },
  {
   "cell_type": "code",
   "execution_count": 14,
   "id": "39d0fbac",
   "metadata": {
    "collapsed": true
   },
   "outputs": [
    {
     "name": "stdout",
     "output_type": "stream",
     "text": [
      "Defaulting to user installation because normal site-packages is not writeable\n",
      "Collecting art\n",
      "  Obtaining dependency information for art from https://files.pythonhosted.org/packages/fc/53/d8792ac2ebb494db0e0ba3ad3f0a9ee71144a5ced266441166f7d038a37e/art-6.1-py3-none-any.whl.metadata\n",
      "  Downloading art-6.1-py3-none-any.whl.metadata (69 kB)\n",
      "\u001b[2K     \u001b[38;2;114;156;31m━━━━━━━━━━━━━━━━━━━━━━━━━━━━━━━━━━━━━━━━\u001b[0m \u001b[32m69.9/69.9 kB\u001b[0m \u001b[31m1.6 MB/s\u001b[0m eta \u001b[36m0:00:00\u001b[0m MB/s\u001b[0m eta \u001b[36m0:00:01\u001b[0m\n",
      "\u001b[?25hDownloading art-6.1-py3-none-any.whl (599 kB)\n",
      "\u001b[2K   \u001b[38;2;114;156;31m━━━━━━━━━━━━━━━━━━━━━━━━━━━━━━━━━━━━━━━━\u001b[0m \u001b[32m599.8/599.8 kB\u001b[0m \u001b[31m6.9 MB/s\u001b[0m eta \u001b[36m0:00:00\u001b[0mm eta \u001b[36m0:00:01\u001b[0m[36m0:00:01\u001b[0m\n",
      "\u001b[?25h\u001b[33mDEPRECATION: matlabengineforpython R2020a has a non-standard version number. pip 23.3 will enforce this behaviour change. A possible replacement is to upgrade to a newer version of matlabengineforpython or contact the author to suggest that they release a version with a conforming version number. Discussion can be found at https://github.com/pypa/pip/issues/12063\u001b[0m\u001b[33m\n",
      "\u001b[0mInstalling collected packages: art\n",
      "Successfully installed art-6.1\n",
      "Note: you may need to restart the kernel to use updated packages.\n"
     ]
    }
   ],
   "source": [
    "pip install art"
   ]
  },
  {
   "cell_type": "code",
   "execution_count": 16,
   "id": "f9bf5842",
   "metadata": {
    "collapsed": true
   },
   "outputs": [
    {
     "name": "stdout",
     "output_type": "stream",
     "text": [
      "Defaulting to user installation because normal site-packages is not writeable\n",
      "Collecting byol_pytorch\n",
      "  Downloading byol_pytorch-0.6.0-py3-none-any.whl (4.9 kB)\n",
      "Requirement already satisfied: torch>=1.6 in /home/youssef/.local/lib/python3.7/site-packages (from byol_pytorch) (1.13.1)\n",
      "Requirement already satisfied: torchvision>=0.8 in /home/youssef/.local/lib/python3.7/site-packages (from byol_pytorch) (0.14.1)\n",
      "Requirement already satisfied: typing-extensions in /home/youssef/.local/lib/python3.7/site-packages (from torch>=1.6->byol_pytorch) (4.7.1)\n",
      "Requirement already satisfied: nvidia-cuda-runtime-cu11==11.7.99 in /home/youssef/.local/lib/python3.7/site-packages (from torch>=1.6->byol_pytorch) (11.7.99)\n",
      "Requirement already satisfied: nvidia-cudnn-cu11==8.5.0.96 in /home/youssef/.local/lib/python3.7/site-packages (from torch>=1.6->byol_pytorch) (8.5.0.96)\n",
      "Requirement already satisfied: nvidia-cublas-cu11==11.10.3.66 in /home/youssef/.local/lib/python3.7/site-packages (from torch>=1.6->byol_pytorch) (11.10.3.66)\n",
      "Requirement already satisfied: nvidia-cuda-nvrtc-cu11==11.7.99 in /home/youssef/.local/lib/python3.7/site-packages (from torch>=1.6->byol_pytorch) (11.7.99)\n",
      "Requirement already satisfied: setuptools in /mnt/software/anaconda37/lib/python3.7/site-packages (from nvidia-cublas-cu11==11.10.3.66->torch>=1.6->byol_pytorch) (58.0.4)\n",
      "Requirement already satisfied: wheel in /mnt/software/anaconda37/lib/python3.7/site-packages (from nvidia-cublas-cu11==11.10.3.66->torch>=1.6->byol_pytorch) (0.38.4)\n",
      "Requirement already satisfied: numpy in /home/youssef/.local/lib/python3.7/site-packages (from torchvision>=0.8->byol_pytorch) (1.19.5)\n",
      "Requirement already satisfied: requests in /mnt/software/anaconda37/lib/python3.7/site-packages (from torchvision>=0.8->byol_pytorch) (2.28.1)\n",
      "Requirement already satisfied: pillow!=8.3.*,>=5.3.0 in /mnt/software/anaconda37/lib/python3.7/site-packages (from torchvision>=0.8->byol_pytorch) (9.4.0)\n",
      "Requirement already satisfied: charset-normalizer<3,>=2 in /mnt/software/anaconda37/lib/python3.7/site-packages (from requests->torchvision>=0.8->byol_pytorch) (2.0.4)\n",
      "Requirement already satisfied: idna<4,>=2.5 in /mnt/software/anaconda37/lib/python3.7/site-packages (from requests->torchvision>=0.8->byol_pytorch) (3.4)\n",
      "Requirement already satisfied: urllib3<1.27,>=1.21.1 in /mnt/software/anaconda37/lib/python3.7/site-packages (from requests->torchvision>=0.8->byol_pytorch) (1.26.3)\n",
      "Requirement already satisfied: certifi>=2017.4.17 in /mnt/software/anaconda37/lib/python3.7/site-packages (from requests->torchvision>=0.8->byol_pytorch) (2022.12.7)\n",
      "\u001b[33mDEPRECATION: matlabengineforpython R2020a has a non-standard version number. pip 23.3 will enforce this behaviour change. A possible replacement is to upgrade to a newer version of matlabengineforpython or contact the author to suggest that they release a version with a conforming version number. Discussion can be found at https://github.com/pypa/pip/issues/12063\u001b[0m\u001b[33m\n",
      "\u001b[0mInstalling collected packages: byol_pytorch\n",
      "Successfully installed byol_pytorch-0.6.0\n",
      "Note: you may need to restart the kernel to use updated packages.\n"
     ]
    }
   ],
   "source": [
    "pip install byol_pytorch"
   ]
  },
  {
   "cell_type": "code",
   "execution_count": 19,
   "id": "bb8444d7",
   "metadata": {
    "collapsed": true
   },
   "outputs": [
    {
     "name": "stdout",
     "output_type": "stream",
     "text": [
      "Defaulting to user installation because normal site-packages is not writeable\n",
      "Collecting visdom\n",
      "  Downloading visdom-0.2.4.tar.gz (1.4 MB)\n",
      "\u001b[2K     \u001b[38;2;114;156;31m━━━━━━━━━━━━━━━━━━━━━━━━━━━━━━━━━━━━━━━━\u001b[0m \u001b[32m1.4/1.4 MB\u001b[0m \u001b[31m8.4 MB/s\u001b[0m eta \u001b[36m0:00:00\u001b[0mm eta \u001b[36m0:00:01\u001b[0m[36m0:00:01\u001b[0m\n",
      "\u001b[?25h  Preparing metadata (setup.py) ... \u001b[?25ldone\n",
      "\u001b[?25hRequirement already satisfied: numpy>=1.8 in /home/youssef/.local/lib/python3.7/site-packages (from visdom) (1.19.5)\n",
      "Requirement already satisfied: scipy in /mnt/software/anaconda37/lib/python3.7/site-packages (from visdom) (1.7.3)\n",
      "Requirement already satisfied: requests in /mnt/software/anaconda37/lib/python3.7/site-packages (from visdom) (2.28.1)\n",
      "Requirement already satisfied: tornado in /mnt/software/anaconda37/lib/python3.7/site-packages (from visdom) (6.2)\n",
      "Requirement already satisfied: six in /home/youssef/.local/lib/python3.7/site-packages (from visdom) (1.15.0)\n",
      "Collecting jsonpatch (from visdom)\n",
      "  Obtaining dependency information for jsonpatch from https://files.pythonhosted.org/packages/73/07/02e16ed01e04a374e644b575638ec7987ae846d25ad97bcc9945a3ee4b0e/jsonpatch-1.33-py2.py3-none-any.whl.metadata\n",
      "  Downloading jsonpatch-1.33-py2.py3-none-any.whl.metadata (3.0 kB)\n",
      "Requirement already satisfied: websocket-client in /mnt/software/anaconda37/lib/python3.7/site-packages (from visdom) (0.58.0)\n",
      "Requirement already satisfied: networkx in /mnt/software/anaconda37/lib/python3.7/site-packages (from visdom) (2.6.3)\n",
      "Requirement already satisfied: pillow in /mnt/software/anaconda37/lib/python3.7/site-packages (from visdom) (9.4.0)\n",
      "Collecting jsonpointer>=1.9 (from jsonpatch->visdom)\n",
      "  Obtaining dependency information for jsonpointer>=1.9 from https://files.pythonhosted.org/packages/12/f6/0232cc0c617e195f06f810534d00b74d2f348fe71b2118009ad8ad31f878/jsonpointer-2.4-py2.py3-none-any.whl.metadata\n",
      "  Downloading jsonpointer-2.4-py2.py3-none-any.whl.metadata (2.5 kB)\n",
      "Requirement already satisfied: charset-normalizer<3,>=2 in /mnt/software/anaconda37/lib/python3.7/site-packages (from requests->visdom) (2.0.4)\n",
      "Requirement already satisfied: idna<4,>=2.5 in /mnt/software/anaconda37/lib/python3.7/site-packages (from requests->visdom) (3.4)\n",
      "Requirement already satisfied: urllib3<1.27,>=1.21.1 in /mnt/software/anaconda37/lib/python3.7/site-packages (from requests->visdom) (1.26.3)\n",
      "Requirement already satisfied: certifi>=2017.4.17 in /mnt/software/anaconda37/lib/python3.7/site-packages (from requests->visdom) (2022.12.7)\n",
      "Downloading jsonpatch-1.33-py2.py3-none-any.whl (12 kB)\n",
      "Downloading jsonpointer-2.4-py2.py3-none-any.whl (7.8 kB)\n",
      "Building wheels for collected packages: visdom\n",
      "  Building wheel for visdom (setup.py) ... \u001b[?25ldone\n",
      "\u001b[?25h  Created wheel for visdom: filename=visdom-0.2.4-py3-none-any.whl size=1408217 sha256=ecba93332fe65cbdc6f0f6bbfeec7e2b1d43fdde1baca609b08144dc48bc7b86\n",
      "  Stored in directory: /home/youssef/.cache/pip/wheels/03/09/bf/233ac12008c9485f5572058b4f5e49ecd0366f690ec159bbe1\n",
      "Successfully built visdom\n",
      "\u001b[33mDEPRECATION: matlabengineforpython R2020a has a non-standard version number. pip 23.3 will enforce this behaviour change. A possible replacement is to upgrade to a newer version of matlabengineforpython or contact the author to suggest that they release a version with a conforming version number. Discussion can be found at https://github.com/pypa/pip/issues/12063\u001b[0m\u001b[33m\n",
      "\u001b[0mInstalling collected packages: jsonpointer, jsonpatch, visdom\n",
      "Successfully installed jsonpatch-1.33 jsonpointer-2.4 visdom-0.2.4\n",
      "Note: you may need to restart the kernel to use updated packages.\n"
     ]
    }
   ],
   "source": [
    "pip install visdom"
   ]
  },
  {
   "cell_type": "code",
   "execution_count": 21,
   "id": "c7b5cbe5",
   "metadata": {
    "collapsed": true
   },
   "outputs": [
    {
     "name": "stdout",
     "output_type": "stream",
     "text": [
      "Defaulting to user installation because normal site-packages is not writeable\n",
      "Collecting blobfile\n",
      "  Downloading blobfile-2.0.2-py3-none-any.whl (74 kB)\n",
      "\u001b[2K     \u001b[38;2;114;156;31m━━━━━━━━━━━━━━━━━━━━━━━━━━━━━━━━━━━━━━━━\u001b[0m \u001b[32m74.5/74.5 kB\u001b[0m \u001b[31m1.7 MB/s\u001b[0m eta \u001b[36m0:00:00\u001b[0m MB/s\u001b[0m eta \u001b[36m0:00:01\u001b[0m\n",
      "\u001b[?25hCollecting pycryptodomex~=3.8 (from blobfile)\n",
      "  Obtaining dependency information for pycryptodomex~=3.8 from https://files.pythonhosted.org/packages/23/23/3f3d042c96ff7bece5b126365593b1f9c8e3ae62ce80d44e9da39c5e8a73/pycryptodomex-3.19.0-cp35-abi3-manylinux_2_17_x86_64.manylinux2014_x86_64.whl.metadata\n",
      "  Downloading pycryptodomex-3.19.0-cp35-abi3-manylinux_2_17_x86_64.manylinux2014_x86_64.whl.metadata (3.4 kB)\n",
      "Requirement already satisfied: urllib3<3,>=1.25.3 in /mnt/software/anaconda37/lib/python3.7/site-packages (from blobfile) (1.26.3)\n",
      "Collecting lxml~=4.9 (from blobfile)\n",
      "  Obtaining dependency information for lxml~=4.9 from https://files.pythonhosted.org/packages/06/d4/f95105414c4bf7e4c87ec5e3c600dd88909c628d77a2760c0e5ef186bba4/lxml-4.9.3-cp37-cp37m-manylinux_2_28_x86_64.whl.metadata\n",
      "  Downloading lxml-4.9.3-cp37-cp37m-manylinux_2_28_x86_64.whl.metadata (3.8 kB)\n",
      "Requirement already satisfied: filelock~=3.0 in /mnt/software/anaconda37/lib/python3.7/site-packages (from blobfile) (3.9.0)\n",
      "Downloading lxml-4.9.3-cp37-cp37m-manylinux_2_28_x86_64.whl (7.4 MB)\n",
      "\u001b[2K   \u001b[38;2;114;156;31m━━━━━━━━━━━━━━━━━━━━━━━━━━━━━━━━━━━━━━━━\u001b[0m \u001b[32m7.4/7.4 MB\u001b[0m \u001b[31m18.6 MB/s\u001b[0m eta \u001b[36m0:00:00\u001b[0mm eta \u001b[36m0:00:01\u001b[0m[36m0:00:01\u001b[0m\n",
      "\u001b[?25hDownloading pycryptodomex-3.19.0-cp35-abi3-manylinux_2_17_x86_64.manylinux2014_x86_64.whl (2.1 MB)\n",
      "\u001b[2K   \u001b[38;2;114;156;31m━━━━━━━━━━━━━━━━━━━━━━━━━━━━━━━━━━━━━━━━\u001b[0m \u001b[32m2.1/2.1 MB\u001b[0m \u001b[31m19.0 MB/s\u001b[0m eta \u001b[36m0:00:00\u001b[0mm eta \u001b[36m0:00:01\u001b[0m0:01\u001b[0m:01\u001b[0m\n",
      "\u001b[?25h\u001b[33mDEPRECATION: matlabengineforpython R2020a has a non-standard version number. pip 23.3 will enforce this behaviour change. A possible replacement is to upgrade to a newer version of matlabengineforpython or contact the author to suggest that they release a version with a conforming version number. Discussion can be found at https://github.com/pypa/pip/issues/12063\u001b[0m\u001b[33m\n",
      "\u001b[0mInstalling collected packages: pycryptodomex, lxml, blobfile\n",
      "Successfully installed blobfile-2.0.2 lxml-4.9.3 pycryptodomex-3.19.0\n",
      "Note: you may need to restart the kernel to use updated packages.\n"
     ]
    }
   ],
   "source": [
    "pip install blobfile"
   ]
  },
  {
   "cell_type": "code",
   "execution_count": 25,
   "id": "0a7c4eef",
   "metadata": {
    "collapsed": true
   },
   "outputs": [
    {
     "name": "stdout",
     "output_type": "stream",
     "text": [
      "Defaulting to user installation because normal site-packages is not writeable\n",
      "Requirement already satisfied: albumentations in /home/youssef/.local/lib/python3.7/site-packages (0.5.1)\n",
      "Collecting albumentations\n",
      "  Obtaining dependency information for albumentations from https://files.pythonhosted.org/packages/9b/f6/c486cedb4f75147232f32ec4c97026714cfef7c7e247a1f0427bc5489f66/albumentations-1.3.1-py3-none-any.whl.metadata\n",
      "  Using cached albumentations-1.3.1-py3-none-any.whl.metadata (34 kB)\n",
      "Requirement already satisfied: numpy>=1.11.1 in /home/youssef/.local/lib/python3.7/site-packages (from albumentations) (1.19.5)\n",
      "Requirement already satisfied: scipy>=1.1.0 in /mnt/software/anaconda37/lib/python3.7/site-packages (from albumentations) (1.7.3)\n",
      "Requirement already satisfied: scikit-image>=0.16.1 in /mnt/software/anaconda37/lib/python3.7/site-packages (from albumentations) (0.18.3)\n",
      "Requirement already satisfied: PyYAML in /mnt/software/anaconda37/lib/python3.7/site-packages (from albumentations) (6.0)\n",
      "Requirement already satisfied: qudida>=0.0.4 in /home/youssef/.local/lib/python3.7/site-packages (from albumentations) (0.0.4)\n",
      "Requirement already satisfied: opencv-python-headless>=4.1.1 in /home/youssef/.local/lib/python3.7/site-packages (from albumentations) (4.8.0.76)\n",
      "Requirement already satisfied: scikit-learn>=0.19.1 in /mnt/software/anaconda37/lib/python3.7/site-packages (from qudida>=0.0.4->albumentations) (1.0.2)\n",
      "Requirement already satisfied: typing-extensions in /home/youssef/.local/lib/python3.7/site-packages (from qudida>=0.0.4->albumentations) (4.7.1)\n",
      "Requirement already satisfied: matplotlib!=3.0.0,>=2.0.0 in /mnt/software/anaconda37/lib/python3.7/site-packages (from scikit-image>=0.16.1->albumentations) (3.5.0)\n",
      "Requirement already satisfied: networkx>=2.0 in /mnt/software/anaconda37/lib/python3.7/site-packages (from scikit-image>=0.16.1->albumentations) (2.6.3)\n",
      "Requirement already satisfied: pillow!=7.1.0,!=7.1.1,>=4.3.0 in /mnt/software/anaconda37/lib/python3.7/site-packages (from scikit-image>=0.16.1->albumentations) (9.4.0)\n",
      "Requirement already satisfied: imageio>=2.3.0 in /mnt/software/anaconda37/lib/python3.7/site-packages (from scikit-image>=0.16.1->albumentations) (2.9.0)\n",
      "Requirement already satisfied: tifffile>=2019.7.26 in /mnt/software/anaconda37/lib/python3.7/site-packages (from scikit-image>=0.16.1->albumentations) (2021.7.2)\n",
      "Requirement already satisfied: PyWavelets>=1.1.1 in /home/youssef/.local/lib/python3.7/site-packages (from scikit-image>=0.16.1->albumentations) (1.3.0)\n",
      "Requirement already satisfied: cycler>=0.10 in /mnt/software/anaconda37/lib/python3.7/site-packages (from matplotlib!=3.0.0,>=2.0.0->scikit-image>=0.16.1->albumentations) (0.11.0)\n",
      "Requirement already satisfied: fonttools>=4.22.0 in /mnt/software/anaconda37/lib/python3.7/site-packages (from matplotlib!=3.0.0,>=2.0.0->scikit-image>=0.16.1->albumentations) (4.25.0)\n",
      "Requirement already satisfied: kiwisolver>=1.0.1 in /mnt/software/anaconda37/lib/python3.7/site-packages (from matplotlib!=3.0.0,>=2.0.0->scikit-image>=0.16.1->albumentations) (1.4.4)\n",
      "Requirement already satisfied: packaging>=20.0 in /mnt/software/anaconda37/lib/python3.7/site-packages (from matplotlib!=3.0.0,>=2.0.0->scikit-image>=0.16.1->albumentations) (21.3)\n",
      "Requirement already satisfied: pyparsing>=2.2.1 in /mnt/software/anaconda37/lib/python3.7/site-packages (from matplotlib!=3.0.0,>=2.0.0->scikit-image>=0.16.1->albumentations) (3.0.9)\n",
      "Requirement already satisfied: python-dateutil>=2.7 in /mnt/software/anaconda37/lib/python3.7/site-packages (from matplotlib!=3.0.0,>=2.0.0->scikit-image>=0.16.1->albumentations) (2.8.2)\n",
      "Requirement already satisfied: joblib>=0.11 in /mnt/software/anaconda37/lib/python3.7/site-packages (from scikit-learn>=0.19.1->qudida>=0.0.4->albumentations) (1.1.0)\n",
      "Requirement already satisfied: threadpoolctl>=2.0.0 in /mnt/software/anaconda37/lib/python3.7/site-packages (from scikit-learn>=0.19.1->qudida>=0.0.4->albumentations) (2.2.0)\n",
      "Requirement already satisfied: six>=1.5 in /home/youssef/.local/lib/python3.7/site-packages (from python-dateutil>=2.7->matplotlib!=3.0.0,>=2.0.0->scikit-image>=0.16.1->albumentations) (1.15.0)\n",
      "Using cached albumentations-1.3.1-py3-none-any.whl (125 kB)\n",
      "\u001b[33mDEPRECATION: matlabengineforpython R2020a has a non-standard version number. pip 23.3 will enforce this behaviour change. A possible replacement is to upgrade to a newer version of matlabengineforpython or contact the author to suggest that they release a version with a conforming version number. Discussion can be found at https://github.com/pypa/pip/issues/12063\u001b[0m\u001b[33m\n",
      "\u001b[0mInstalling collected packages: albumentations\n",
      "  Attempting uninstall: albumentations\n",
      "    Found existing installation: albumentations 0.5.1\n",
      "    Uninstalling albumentations-0.5.1:\n",
      "      Successfully uninstalled albumentations-0.5.1\n",
      "Successfully installed albumentations-1.3.1\n",
      "Note: you may need to restart the kernel to use updated packages.\n"
     ]
    }
   ],
   "source": [
    "pip install --upgrade albumentations"
   ]
  },
  {
   "cell_type": "code",
   "execution_count": 2,
   "id": "ef5b83e6",
   "metadata": {},
   "outputs": [],
   "source": [
    "data_dir = \"/NAS/dumbo/protocoles/HAMSI/OurData4Mispel_T1Gado/Normalized\""
   ]
  },
  {
   "cell_type": "code",
   "execution_count": 3,
   "id": "2c360d4d",
   "metadata": {
    "scrolled": true
   },
   "outputs": [],
   "source": [
    "patient_ids = [\"Pat8\", \"Pat9\", \"Pat11\", \"Pat13\", \"Pat14\", \"Pat15\", \"Pat16\", \"Pat17\", \"Pat19\", \"Pat21\", \"Pat23\", \"Pat24\", \"Pat25\", \"Pat27\", \"Pat29\", \"Pat30\", \"Pat31\", \"Pat32\", \"Pat33\", \"Pat34\", \"Pat35\", \"Pat36\", \"Pat38\", \"Pat40\", \"Pat41\", \"Pat42\", \"Pat44\", \"Pat46\", \"Pat47\", \"Pat48\", \"Pat49\", \"Pat50\", \"Pat51\", \"Pat52\", \"Pat54\", \"Pat57\", \"Pat58\", \"Pat62\", \"Pat68\", \"Pat76\", \"Pat77\", \"Pat79\", \"Pat80\", \"Pat81\", \"Pat83\", \"Pat86\", \"Pat87\", \"Pat88\", \"Pat90\", \"Pat91\", \"Pat92\", \"Pat93\", \"Pat94\", \"Pat95\", \"Pat99\", \"Pat100\", \"Pat101\", \"Pat102\", \"Pat103\", \"Pat104\", \"Pat105\", \"Pat107\", \"Pat109\", \"Pat112\", \"Pat113\", \"Pat114\", \"Pat115\", \"Pat116\", \"Pat118\", \"Pat119\", \"Pat120\", \"Pat122\", \"Pat124\", \"Pat125\", \"Pat126\", \"Pat127\", \"Pat128\", \"Pat129\", \"Pat130\", \"Pat132\", \"Pat133\", \"Pat134\", \"Pat135\", \"Pat136\", \"Pat137\", \"Pat138\", \"Pat139\", \"Pat140\", \"Pat141\", \"Pat143\", \"Pat144\", \"Pat145\", \"Pat146\", \"Pat147\", \"Pat174\"]"
   ]
  },
  {
   "cell_type": "code",
   "execution_count": null,
   "id": "7a7f3f8a",
   "metadata": {},
   "outputs": [],
   "source": [
    "images = {}\n",
    "\n",
    "for patient_id in patient_ids:\n",
    "        image_filename = f\"{patient_id}_COL_registered_zscore.nii.gz\"\n",
    "        image_path = os.path.join(data_dir, image_filename)\n",
    "        if os.path.exists(image_path):\n",
    "            nifti_image = nib.load(image_path)\n",
    "            image_data = nifti_image.get_fdata()\n",
    "            \n",
    "            #for p image_data.shape[0])\n",
    "            images[f\"{patient_id}\"] = image_data"
   ]
  },
  {
   "cell_type": "code",
   "execution_count": 11,
   "id": "0678cbf8",
   "metadata": {},
   "outputs": [
    {
     "data": {
      "text/plain": [
       "(272, 512, 512)"
      ]
     },
     "execution_count": 11,
     "metadata": {},
     "output_type": "execute_result"
    }
   ],
   "source": [
    "image_data.shape"
   ]
  },
  {
   "cell_type": "code",
   "execution_count": null,
   "id": "41ce2348",
   "metadata": {},
   "outputs": [],
   "source": []
  }
 ],
 "metadata": {
  "kernelspec": {
   "display_name": "Python 3 (ipykernel)",
   "language": "python",
   "name": "python3"
  },
  "language_info": {
   "codemirror_mode": {
    "name": "ipython",
    "version": 3
   },
   "file_extension": ".py",
   "mimetype": "text/x-python",
   "name": "python",
   "nbconvert_exporter": "python",
   "pygments_lexer": "ipython3",
   "version": "3.7.6"
  }
 },
 "nbformat": 4,
 "nbformat_minor": 5
}
