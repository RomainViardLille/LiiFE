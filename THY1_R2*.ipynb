{
 "cells": [
  {
   "cell_type": "code",
   "execution_count": null,
   "metadata": {},
   "outputs": [],
   "source": [
    "import numpy as np\n",
    "import pandas as pd\n",
    "import os,sys,glob\n",
    "import matplotlib.pyplot as plt\n",
    "%matplotlib inline"
   ]
  },
  {
   "cell_type": "code",
   "execution_count": null,
   "metadata": {},
   "outputs": [],
   "source": [
    "STUDY_PATH=os.path.join('/NAS','coolio','protocoles','CINOCIS')\n",
    "SCRIPT_PATH=os.path.join(STUDY_PATH,'scripts')\n",
    "BIDS_PATH=os.path.join(STUDY_PATH,'BIDS')"
   ]
  }
 ],
 "metadata": {
  "language_info": {
   "name": "python"
  }
 },
 "nbformat": 4,
 "nbformat_minor": 2
}
