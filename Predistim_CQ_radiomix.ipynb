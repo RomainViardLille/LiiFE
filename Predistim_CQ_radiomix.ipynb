{
 "cells": [
  {
   "cell_type": "code",
   "execution_count": 2,
   "id": "5607cdea-f2ab-4e02-a16e-2fd21c6fbfbb",
   "metadata": {},
   "outputs": [],
   "source": [
    "import os\n",
    "import radiomics as rm\n",
    "import nibabel as nib\n",
    "import numpy as np\n",
    "import os,sys\n",
    "import pandas as pd \n",
    "import glob\n",
    "import matplotlib.pyplot as plt\n",
    "import SimpleITK as sitk\n",
    "from radiomics import featureextractor, getTestCase\n",
    "%matplotlib inline\n",
    "from scipy.stats import kurtosis\n",
    "#from Predistim_Library import *\n",
    "STUDY_PATH=os.path.join(\"/NAS\",\"deathrow\",\"protocoles\",\"predistim\")\n",
    "from scipy.ndimage import gaussian_filter\n"
   ]
  },
  {
   "cell_type": "code",
   "execution_count": 4,
   "id": "6728ff60-7a52-4f46-baf5-86aafcd126cd",
   "metadata": {},
   "outputs": [
    {
     "name": "stdout",
     "output_type": "stream",
     "text": [
      "2\n",
      "3\n",
      "4\n"
     ]
    }
   ],
   "source": [
    "for cpt in range(2,5) : \n",
    "    print(cpt)\n",
    "    \n",
    "        "
   ]
  },
  {
   "cell_type": "markdown",
   "id": "5bdd8611-4bce-41f5-a26b-c26b73149cdb",
   "metadata": {},
   "source": [
    "### AVANT"
   ]
  },
  {
   "cell_type": "code",
   "execution_count": 15,
   "id": "a97930da-e021-43b6-8317-2c37af8fdd37",
   "metadata": {},
   "outputs": [
    {
     "name": "stdout",
     "output_type": "stream",
     "text": [
      "/NAS/deathrow/protocoles/predistim/HCP/06036ID/T1w/06036ID/mri/T1FS_resliced.nii.gz /NAS/deathrow/protocoles/predistim/R2/06036ID/R2_lin_3DT1.nii.gz /NAS/deathrow/protocoles/predistim/QSM/06036ID/QSM_lin_3DT1.nii.gz /NAS/deathrow/protocoles/predistim/3DT1/06036ID/native_lab_06036ID_resliced.nii.gz \n"
     ]
    }
   ],
   "source": [
    "SUBJ=\"06036ID\"#\"02049AT\"\n",
    "CMD=\"\"\n",
    "file=os.path.join(STUDY_PATH,'HCP',SUBJ,'T1w',SUBJ,'mri','T1FS_resliced.nii.gz')\n",
    "CMD+=file+\" \"\n",
    "\n",
    "PARA='R2' #R2 / QSM\n",
    "file=os.path.join(STUDY_PATH,PARA,SUBJ,PARA+'_lin_3DT1.nii.gz') \n",
    "img_data=np.asanyarray(nib.load(file).dataobj)\n",
    "\n",
    "CMD+=file+\" \"\n",
    "PARA='QSM'\n",
    "file=os.path.join(STUDY_PATH,PARA,SUBJ,PARA+'_lin_3DT1.nii.gz') \n",
    "CMD+=file+\" \"\n",
    "struct_file=os.path.join(STUDY_PATH,'3DT1',SUBJ,'native_lab_'+SUBJ+'_resliced.nii.gz')\n",
    "CMD+=struct_file+\" \"\n",
    "\n",
    "#struct_file=os.path.join(STUDY_PATH,'HCP',SUBJ,'T1w',SUBJ,'mri','aparc+aseg_resliced.nii.gz')\n",
    "#CMD+=struct_file+\" \"\n",
    "#name_struct='FLASH_SN_L_'\n",
    "#struct_file=os.path.join(STUDY_PATH,'3DT1',SUBJ,name_struct+SUBJ+'_on3DT1.nii.gz')\n",
    "#CMD+=struct_file+\" \"\n",
    "print(CMD)"
   ]
  },
  {
   "cell_type": "code",
   "execution_count": 12,
   "id": "fa7c8d7d-4497-4b90-90c7-cb5cdde2cbf4",
   "metadata": {
    "jupyter": {
     "source_hidden": true
    },
    "tags": []
   },
   "outputs": [
    {
     "name": "stdout",
     "output_type": "stream",
     "text": [
      "/NAS/deathrow/protocoles/predistim/HCP/02049AT/T1w/02049AT/mri/T1FS_nativeT1_new.nii.gz /NAS/deathrow/protocoles/predistim/R2/02049AT/R2_lin_3DT1.nii.gz /NAS/deathrow/protocoles/predistim/QSM/02049AT/QSM_lin_3DT1.nii.gz /NAS/deathrow/protocoles/predistim/3DT1/02049AT/native_lab_02049AT_resliced.nii.gz /NAS/deathrow/protocoles/predistim/HCP/02049AT/T1w/02049AT/mri/aparc+aseg_nativeT1_new.nii.gz /NAS/deathrow/protocoles/predistim/3DT1/02049AT/FLASH_SN_L_02049AT_on3DT1.nii.gz \n"
     ]
    }
   ],
   "source": [
    "SUBJ=\"02049AT\"#\"02075LP\"\n",
    "CMD=\"\"\n",
    "file=os.path.join(STUDY_PATH,'HCP',SUBJ,'T1w',SUBJ,'mri','T1FS_nativeT1_new.nii.gz')\n",
    "CMD+=file+\" \"\n",
    "\n",
    "#img_data=np.asanyarray(nib.load(file).dataobj)\n",
    "PARA='R2' #R2 / QSM\n",
    "file=os.path.join(STUDY_PATH,PARA,SUBJ,PARA+'_lin_3DT1.nii.gz') \n",
    "CMD+=file+\" \"\n",
    "PARA='QSM'\n",
    "file=os.path.join(STUDY_PATH,PARA,SUBJ,PARA+'_lin_3DT1.nii.gz') \n",
    "CMD+=file+\" \"\n",
    "struct_file=os.path.join(STUDY_PATH,'3DT1',SUBJ,'native_lab_'+SUBJ+'_resliced.nii.gz')\n",
    "CMD+=struct_file+\" \"\n",
    "\n",
    "struct_file=os.path.join(STUDY_PATH,'HCP',SUBJ,'T1w',SUBJ,'mri','aparc+aseg_nativeT1_new.nii.gz')\n",
    "CMD+=struct_file+\" \"\n",
    "name_struct='FLASH_SN_L_'\n",
    "struct_file=os.path.join(STUDY_PATH,'3DT1',SUBJ,name_struct+SUBJ+'_on3DT1.nii.gz')\n",
    "CMD+=struct_file+\" \"\n",
    "print(CMD)"
   ]
  },
  {
   "cell_type": "code",
   "execution_count": 62,
   "id": "a68987db-a2a2-4f7e-b626-68e566b7e7f3",
   "metadata": {
    "tags": []
   },
   "outputs": [
    {
     "name": "stdout",
     "output_type": "stream",
     "text": [
      "/NAS/deathrow/protocoles/predistim/HCP/06057CT/T1w/06057CT/mri/T1FS_resliced.nii.gz\n",
      "/NAS/deathrow/protocoles/predistim/3DT1/06057CT/native_lab_06057CT_resliced.nii.gz\n"
     ]
    },
    {
     "name": "stderr",
     "output_type": "stream",
     "text": [
      "GLCM is symmetrical, therefore Sum Average = 2 * Joint Average, only 1 needs to be calculated\n"
     ]
    },
    {
     "name": "stdout",
     "output_type": "stream",
     "text": [
      "4.528848254068404\n",
      "7072\n",
      "110.11597\n",
      "4.528848568898905\n"
     ]
    },
    {
     "data": {
      "text/plain": [
       "(array([  1.,   0.,   0.,   0.,   0.,   0.,   0.,   0.,   1.,   1.,   0.,\n",
       "          1.,   1.,   1.,   3.,   3.,   3.,   1.,   5.,   3.,   6.,   5.,\n",
       "          6.,   9.,  10.,  11.,  11.,  12.,  13.,  13.,  24.,  18.,  22.,\n",
       "         23.,  31.,  23.,  38.,  38.,  43.,  42.,  48.,  65.,  50.,  70.,\n",
       "         93., 118., 132., 184., 188., 237., 286., 318., 329., 363., 353.,\n",
       "        348., 337., 315., 309., 283., 242., 231., 189., 162., 153., 152.,\n",
       "        116.,  94.,  71.,  76.,  64.,  52.,  55.,  65.,  47.,  59.,  38.,\n",
       "         37.,  35.,  33.,  32.,  24.,  19.,  32.,  24.,  27.,  19.,  15.,\n",
       "         20.,  15.,   4.,   6.,   3.,   4.,   3.,   1.,   2.,   0.,   0.,\n",
       "          3.]),\n",
       " array([ 11.288055 ,  12.276335 ,  13.264614 ,  14.2528925,  15.241172 ,\n",
       "         16.22945  ,  17.21773  ,  18.206009 ,  19.194288 ,  20.182568 ,\n",
       "         21.170847 ,  22.159126 ,  23.147406 ,  24.135683 ,  25.123962 ,\n",
       "         26.112242 ,  27.100521 ,  28.0888   ,  29.07708  ,  30.06536  ,\n",
       "         31.053638 ,  32.041916 ,  33.030197 ,  34.018475 ,  35.006756 ,\n",
       "         35.995033 ,  36.98331  ,  37.971592 ,  38.95987  ,  39.94815  ,\n",
       "         40.936428 ,  41.92471  ,  42.912987 ,  43.901268 ,  44.889545 ,\n",
       "         45.877823 ,  46.866104 ,  47.85438  ,  48.842663 ,  49.83094  ,\n",
       "         50.81922  ,  51.8075   ,  52.795776 ,  53.784058 ,  54.772335 ,\n",
       "         55.760616 ,  56.748894 ,  57.737175 ,  58.725452 ,  59.713734 ,\n",
       "         60.70201  ,  61.69029  ,  62.67857  ,  63.666847 ,  64.65513  ,\n",
       "         65.64341  ,  66.63168  ,  67.619965 ,  68.608246 ,  69.59652  ,\n",
       "         70.5848   ,  71.57308  ,  72.56136  ,  73.54964  ,  74.53792  ,\n",
       "         75.5262   ,  76.51448  ,  77.502754 ,  78.491035 ,  79.47932  ,\n",
       "         80.46759  ,  81.45587  ,  82.44415  ,  83.432434 ,  84.42071  ,\n",
       "         85.40899  ,  86.39727  ,  87.385544 ,  88.373825 ,  89.36211  ,\n",
       "         90.35039  ,  91.33866  ,  92.32694  ,  93.31522  ,  94.3035   ,\n",
       "         95.29178  ,  96.28006  ,  97.26834  ,  98.256615 ,  99.244896 ,\n",
       "        100.23318  , 101.22146  , 102.20973  , 103.19801  , 104.186295 ,\n",
       "        105.17457  , 106.16285  , 107.15113  , 108.13941  , 109.127686 ,\n",
       "        110.11597  ], dtype=float32),\n",
       " <BarContainer object of 100 artists>)"
      ]
     },
     "execution_count": 62,
     "metadata": {},
     "output_type": "execute_result"
    },
    {
     "data": {
      "image/png": "[encoded data removed]",
      "text/plain": [
       "<Figure size 432x288 with 1 Axes>"
      ]
     },
     "metadata": {
      "needs_background": "light"
     },
     "output_type": "display_data"
    }
   ],
   "source": [
    "SUBJ=\"06057CT\"#\"02049AT\"\n",
    "PARA='R2' #R2 / QSM\n",
    "\n",
    "#file=os.path.join(STUDY_PATH,PARA,SUBJ,PARA+'_lin_3DT1.nii.gz') \n",
    "file=os.path.join(STUDY_PATH,'HCP',SUBJ,'T1w',SUBJ,'mri','T1FS_resliced.nii.gz')\n",
    "img_data=np.asanyarray(nib.load(file).dataobj)\n",
    "struct_file=os.path.join(STUDY_PATH,'3DT1',SUBJ,'native_lab_'+SUBJ+'_resliced.nii.gz')\n",
    "struct = nib.load(struct_file)\n",
    "\n",
    "print(file)\n",
    "print(struct_file)\n",
    "#VOLBRAIN caudé 3/4, Putamen 5/6, thalamus 7/8, Globus pallidus 9/10, hipocampus 11/12, amigdala 13/14\n",
    "struct_data=np.asanyarray(struct.dataobj,dtype=int)\n",
    "tmp = ((struct_data==12) | (struct_data==11))\n",
    "#tmp = (struct_data>0.5)\n",
    "params = os.path.join(\"/\",\"home\",\"romain\",\"SVN\",\"python\",\"romain\",\"Params2.yaml\")\n",
    "sitk_img = sitk.GetImageFromArray(img_data)\n",
    "sitk_mask = sitk.GetImageFromArray(tmp.astype(int))\n",
    "extractor = featureextractor.RadiomicsFeatureExtractor(params)\n",
    "result = extractor.execute(sitk_img,sitk_mask)\n",
    "print(result['original_firstorder_Kurtosis'])\n",
    "print(len(img_data[tmp]))\n",
    "print(np.nanmax(img_data[tmp]))\n",
    "#print(result)\n",
    "sous_data_set=img_data[tmp]\n",
    "print(kurtosis(sous_data_set,fisher=False))\n",
    "plt.hist(sous_data_set,100)"
   ]
  },
  {
   "cell_type": "code",
   "execution_count": 63,
   "id": "14df373f-51d0-4e7c-b3e9-7bdcc3170dac",
   "metadata": {},
   "outputs": [
    {
     "data": {
      "text/plain": [
       "67.11653"
      ]
     },
     "execution_count": 63,
     "metadata": {},
     "output_type": "execute_result"
    }
   ],
   "source": [
    "np.mean(sous_data_set)"
   ]
  },
  {
   "cell_type": "code",
   "execution_count": 59,
   "id": "83672d06-e869-4176-872b-e8ca0a165c4b",
   "metadata": {
    "tags": []
   },
   "outputs": [
    {
     "name": "stdout",
     "output_type": "stream",
     "text": [
      "/NAS/deathrow/protocoles/predistim/R2/06057CT/R2_lin_3DT1.nii.gz\n",
      "/NAS/deathrow/protocoles/predistim/3DT1/06057CT/native_lab_06057CT_resliced.nii.gz\n"
     ]
    },
    {
     "name": "stderr",
     "output_type": "stream",
     "text": [
      "GLCM is symmetrical, therefore Sum Average = 2 * Joint Average, only 1 needs to be calculated\n"
     ]
    },
    {
     "name": "stdout",
     "output_type": "stream",
     "text": [
      "2.964911918989767\n",
      "7072\n",
      "31.705741391424795\n",
      "2.964911918989767\n"
     ]
    },
    {
     "data": {
      "text/plain": [
       "(array([  5.,   7.,   2.,   9.,  12.,  10.,  12.,  22.,  17.,  15.,  24.,\n",
       "         22.,  28.,  32.,  27.,  41.,  33.,  42.,  31.,  51.,  53.,  49.,\n",
       "         52.,  68.,  66.,  72.,  81.,  93., 100., 112., 108., 162., 166.,\n",
       "        191., 193., 168., 221., 190., 191., 186., 164., 169., 190., 174.,\n",
       "        176., 168., 173., 187., 182., 168., 168., 114., 128., 128., 148.,\n",
       "        109.,  95., 103.,  93., 108.,  86.,  77.,  76.,  79.,  88.,  60.,\n",
       "         67.,  61.,  57.,  61.,  53.,  41.,  46.,  42.,  49.,  28.,  32.,\n",
       "         22.,  24.,  31.,  17.,  12.,   5.,   9.,   7.,   4.,   2.,   3.,\n",
       "          4.,   4.,   2.,   2.,   2.,   3.,   0.,   2.,   1.,   2.,   0.,\n",
       "          2.]),\n",
       " array([20.63588964, 20.74658816, 20.85728667, 20.96798519, 21.07868371,\n",
       "        21.18938223, 21.30008074, 21.41077926, 21.52147778, 21.6321763 ,\n",
       "        21.74287481, 21.85357333, 21.96427185, 22.07497037, 22.18566888,\n",
       "        22.2963674 , 22.40706592, 22.51776444, 22.62846295, 22.73916147,\n",
       "        22.84985999, 22.96055851, 23.07125703, 23.18195554, 23.29265406,\n",
       "        23.40335258, 23.5140511 , 23.62474961, 23.73544813, 23.84614665,\n",
       "        23.95684517, 24.06754368, 24.1782422 , 24.28894072, 24.39963924,\n",
       "        24.51033775, 24.62103627, 24.73173479, 24.84243331, 24.95313182,\n",
       "        25.06383034, 25.17452886, 25.28522738, 25.39592589, 25.50662441,\n",
       "        25.61732293, 25.72802145, 25.83871996, 25.94941848, 26.060117  ,\n",
       "        26.17081552, 26.28151403, 26.39221255, 26.50291107, 26.61360959,\n",
       "        26.7243081 , 26.83500662, 26.94570514, 27.05640366, 27.16710217,\n",
       "        27.27780069, 27.38849921, 27.49919773, 27.60989624, 27.72059476,\n",
       "        27.83129328, 27.9419918 , 28.05269031, 28.16338883, 28.27408735,\n",
       "        28.38478587, 28.49548438, 28.6061829 , 28.71688142, 28.82757994,\n",
       "        28.93827845, 29.04897697, 29.15967549, 29.27037401, 29.38107252,\n",
       "        29.49177104, 29.60246956, 29.71316808, 29.82386659, 29.93456511,\n",
       "        30.04526363, 30.15596215, 30.26666066, 30.37735918, 30.4880577 ,\n",
       "        30.59875622, 30.70945473, 30.82015325, 30.93085177, 31.04155029,\n",
       "        31.1522488 , 31.26294732, 31.37364584, 31.48434436, 31.59504287,\n",
       "        31.70574139]),\n",
       " <BarContainer object of 100 artists>)"
      ]
     },
     "execution_count": 59,
     "metadata": {},
     "output_type": "execute_result"
    },
    {
     "data": {
      "image/png": "[encoded data removed]",
      "text/plain": [
       "<Figure size 432x288 with 1 Axes>"
      ]
     },
     "metadata": {
      "needs_background": "light"
     },
     "output_type": "display_data"
    }
   ],
   "source": [
    "SUBJ=\"06057CT\"#\"02049AT\"\n",
    "PARA='R2' #R2 / QSM\n",
    "\n",
    "file=os.path.join(STUDY_PATH,PARA,SUBJ,PARA+'_lin_3DT1.nii.gz') \n",
    "img_data=np.asanyarray(nib.load(file).dataobj)\n",
    "img_data=np.abs(img_data)\n",
    "img_data=gaussian_filter(img_data,sigma=2.548)\n",
    "\n",
    "struct_file=os.path.join(STUDY_PATH,'3DT1',SUBJ,'native_lab_'+SUBJ+'_resliced.nii.gz')\n",
    "struct = nib.load(struct_file)\n",
    "\n",
    "print(file)\n",
    "print(struct_file)\n",
    "#VOLBRAIN caudé 3/4, Putamen 5/6, thalamus 7/8, Globus pallidus 9/10, hipocampus 11/12, amigdala 13/14\n",
    "struct_data=np.asanyarray(struct.dataobj,dtype=int)\n",
    "tmp = ((struct_data==12) | (struct_data==11))\n",
    "#tmp = (struct_data>0.5)\n",
    "params = os.path.join(\"/\",\"home\",\"romain\",\"SVN\",\"python\",\"romain\",\"Params2.yaml\")\n",
    "sitk_img = sitk.GetImageFromArray(img_data)\n",
    "sitk_mask = sitk.GetImageFromArray(tmp.astype(int))\n",
    "extractor = featureextractor.RadiomicsFeatureExtractor(params)\n",
    "result = extractor.execute(sitk_img,sitk_mask)\n",
    "print(result['original_firstorder_Kurtosis'])\n",
    "print(len(img_data[tmp]))\n",
    "print(np.nanmax(img_data[tmp]))\n",
    "#print(result)\n",
    "sous_data_set=img_data[tmp]\n",
    "print(kurtosis(sous_data_set,fisher=False))\n",
    "plt.hist(sous_data_set,100)"
   ]
  },
  {
   "cell_type": "code",
   "execution_count": 53,
   "id": "a5faf843-e6c5-4cec-8854-2fedbff378e7",
   "metadata": {},
   "outputs": [],
   "source": [
    "OLD_MAX=np.nanmax(img_data)\n",
    "OLD_MIN=np.nanmin(img_data)\n",
    "NEW_MIN=-1\n",
    "NEW_MAX=1\n",
    "\n",
    "X_FACTOR=(NEW_MAX-NEW_MIN)/(OLD_MAX-OLD_MIN)"
   ]
  },
  {
   "cell_type": "code",
   "execution_count": 57,
   "id": "4b4ea644-e03e-4ff9-b01f-c4c6c03ebfac",
   "metadata": {},
   "outputs": [
    {
     "name": "stdout",
     "output_type": "stream",
     "text": [
      "115991.15541815001 0.006349491269091832 1.7242694947492404e-05\n"
     ]
    },
    {
     "data": {
      "text/plain": [
       "(array([1.000e+01, 1.700e+01, 2.500e+01, 4.300e+01, 5.400e+01, 7.100e+01,\n",
       "        1.320e+02, 1.870e+02, 3.540e+02, 7.010e+02, 8.490e+02, 9.420e+02,\n",
       "        1.088e+03, 1.247e+03, 1.194e+03, 9.600e+02, 4.710e+02, 3.190e+02,\n",
       "        2.180e+02, 1.410e+02, 1.010e+02, 5.900e+01, 4.200e+01, 4.000e+01,\n",
       "        2.900e+01, 2.600e+01, 1.500e+01, 1.600e+01, 1.700e+01, 1.300e+01,\n",
       "        1.500e+01, 1.800e+01, 1.400e+01, 6.000e+00, 6.000e+00, 4.000e+00,\n",
       "        7.000e+00, 4.000e+00, 8.000e+00, 7.000e+00, 2.000e+00, 6.000e+00,\n",
       "        2.000e+00, 5.000e+00, 2.000e+00, 3.000e+00, 4.000e+00, 1.000e+00,\n",
       "        3.000e+00, 1.000e+00, 5.000e+00, 1.000e+00, 2.000e+00, 0.000e+00,\n",
       "        1.000e+00, 3.000e+00, 3.000e+00, 1.000e+00, 2.000e+00, 2.000e+00,\n",
       "        0.000e+00, 0.000e+00, 1.000e+00, 0.000e+00, 0.000e+00, 1.000e+00,\n",
       "        0.000e+00, 1.000e+00, 2.000e+00, 2.000e+00, 2.000e+00, 0.000e+00,\n",
       "        1.000e+00, 1.000e+00, 1.000e+00, 1.000e+00, 3.000e+00, 0.000e+00,\n",
       "        0.000e+00, 1.000e+00, 0.000e+00, 0.000e+00, 0.000e+00, 0.000e+00,\n",
       "        0.000e+00, 0.000e+00, 0.000e+00, 0.000e+00, 0.000e+00, 0.000e+00,\n",
       "        1.000e+00, 0.000e+00, 0.000e+00, 0.000e+00, 1.000e+00, 1.000e+00,\n",
       "        0.000e+00, 2.000e+00, 0.000e+00, 1.000e+00]),\n",
       " array([22.05281336, 22.34518461, 22.63755586, 22.92992711, 23.22229835,\n",
       "        23.5146696 , 23.80704085, 24.09941209, 24.39178334, 24.68415459,\n",
       "        24.97652583, 25.26889708, 25.56126833, 25.85363958, 26.14601082,\n",
       "        26.43838207, 26.73075332, 27.02312456, 27.31549581, 27.60786706,\n",
       "        27.9002383 , 28.19260955, 28.4849808 , 28.77735205, 29.06972329,\n",
       "        29.36209454, 29.65446579, 29.94683703, 30.23920828, 30.53157953,\n",
       "        30.82395077, 31.11632202, 31.40869327, 31.70106452, 31.99343576,\n",
       "        32.28580701, 32.57817826, 32.8705495 , 33.16292075, 33.455292  ,\n",
       "        33.74766324, 34.04003449, 34.33240574, 34.62477698, 34.91714823,\n",
       "        35.20951948, 35.50189073, 35.79426197, 36.08663322, 36.37900447,\n",
       "        36.67137571, 36.96374696, 37.25611821, 37.54848945, 37.8408607 ,\n",
       "        38.13323195, 38.4256032 , 38.71797444, 39.01034569, 39.30271694,\n",
       "        39.59508818, 39.88745943, 40.17983068, 40.47220192, 40.76457317,\n",
       "        41.05694442, 41.34931567, 41.64168691, 41.93405816, 42.22642941,\n",
       "        42.51880065, 42.8111719 , 43.10354315, 43.39591439, 43.68828564,\n",
       "        43.98065689, 44.27302814, 44.56539938, 44.85777063, 45.15014188,\n",
       "        45.44251312, 45.73488437, 46.02725562, 46.31962686, 46.61199811,\n",
       "        46.90436936, 47.19674061, 47.48911185, 47.7814831 , 48.07385435,\n",
       "        48.36622559, 48.65859684, 48.95096809, 49.24333933, 49.53571058,\n",
       "        49.82808183, 50.12045307, 50.41282432, 50.70519557, 50.99756682,\n",
       "        51.28993806]),\n",
       " <BarContainer object of 100 artists>)"
      ]
     },
     "execution_count": 57,
     "metadata": {},
     "output_type": "execute_result"
    },
    {
     "data": {
      "image/png": "[encoded data removed]",
      "text/plain": [
       "<Figure size 432x288 with 1 Axes>"
      ]
     },
     "metadata": {
      "needs_background": "light"
     },
     "output_type": "display_data"
    }
   ],
   "source": [
    "print(OLD_MAX,OLD_MIN,X_FACTOR)\n",
    "plt.hist(sous_data_set,100)"
   ]
  },
  {
   "cell_type": "code",
   "execution_count": 58,
   "id": "d4882d97-5a14-4fcc-8a6b-41b0244597e4",
   "metadata": {},
   "outputs": [
    {
     "data": {
      "text/plain": [
       "(array([1.000e+01, 1.700e+01, 2.500e+01, 4.300e+01, 5.400e+01, 7.100e+01,\n",
       "        1.320e+02, 1.870e+02, 3.540e+02, 7.010e+02, 8.490e+02, 9.420e+02,\n",
       "        1.088e+03, 1.247e+03, 1.194e+03, 9.600e+02, 4.710e+02, 3.190e+02,\n",
       "        2.180e+02, 1.410e+02, 1.010e+02, 5.900e+01, 4.200e+01, 4.000e+01,\n",
       "        2.900e+01, 2.600e+01, 1.500e+01, 1.600e+01, 1.700e+01, 1.300e+01,\n",
       "        1.500e+01, 1.800e+01, 1.400e+01, 6.000e+00, 6.000e+00, 4.000e+00,\n",
       "        7.000e+00, 4.000e+00, 8.000e+00, 7.000e+00, 2.000e+00, 6.000e+00,\n",
       "        2.000e+00, 5.000e+00, 2.000e+00, 3.000e+00, 4.000e+00, 1.000e+00,\n",
       "        3.000e+00, 1.000e+00, 5.000e+00, 1.000e+00, 2.000e+00, 0.000e+00,\n",
       "        1.000e+00, 3.000e+00, 3.000e+00, 1.000e+00, 2.000e+00, 2.000e+00,\n",
       "        0.000e+00, 0.000e+00, 1.000e+00, 0.000e+00, 0.000e+00, 1.000e+00,\n",
       "        0.000e+00, 1.000e+00, 2.000e+00, 2.000e+00, 2.000e+00, 0.000e+00,\n",
       "        1.000e+00, 1.000e+00, 1.000e+00, 1.000e+00, 3.000e+00, 0.000e+00,\n",
       "        0.000e+00, 1.000e+00, 0.000e+00, 0.000e+00, 0.000e+00, 0.000e+00,\n",
       "        0.000e+00, 0.000e+00, 0.000e+00, 0.000e+00, 0.000e+00, 0.000e+00,\n",
       "        1.000e+00, 0.000e+00, 0.000e+00, 0.000e+00, 1.000e+00, 1.000e+00,\n",
       "        0.000e+00, 2.000e+00, 0.000e+00, 1.000e+00]),\n",
       " array([22.05281336, 22.34518461, 22.63755586, 22.92992711, 23.22229835,\n",
       "        23.5146696 , 23.80704085, 24.09941209, 24.39178334, 24.68415459,\n",
       "        24.97652583, 25.26889708, 25.56126833, 25.85363958, 26.14601082,\n",
       "        26.43838207, 26.73075332, 27.02312456, 27.31549581, 27.60786706,\n",
       "        27.9002383 , 28.19260955, 28.4849808 , 28.77735205, 29.06972329,\n",
       "        29.36209454, 29.65446579, 29.94683703, 30.23920828, 30.53157953,\n",
       "        30.82395077, 31.11632202, 31.40869327, 31.70106452, 31.99343576,\n",
       "        32.28580701, 32.57817826, 32.8705495 , 33.16292075, 33.455292  ,\n",
       "        33.74766324, 34.04003449, 34.33240574, 34.62477698, 34.91714823,\n",
       "        35.20951948, 35.50189073, 35.79426197, 36.08663322, 36.37900447,\n",
       "        36.67137571, 36.96374696, 37.25611821, 37.54848945, 37.8408607 ,\n",
       "        38.13323195, 38.4256032 , 38.71797444, 39.01034569, 39.30271694,\n",
       "        39.59508818, 39.88745943, 40.17983068, 40.47220192, 40.76457317,\n",
       "        41.05694442, 41.34931567, 41.64168691, 41.93405816, 42.22642941,\n",
       "        42.51880065, 42.8111719 , 43.10354315, 43.39591439, 43.68828564,\n",
       "        43.98065689, 44.27302814, 44.56539938, 44.85777063, 45.15014188,\n",
       "        45.44251312, 45.73488437, 46.02725562, 46.31962686, 46.61199811,\n",
       "        46.90436936, 47.19674061, 47.48911185, 47.7814831 , 48.07385435,\n",
       "        48.36622559, 48.65859684, 48.95096809, 49.24333933, 49.53571058,\n",
       "        49.82808183, 50.12045307, 50.41282432, 50.70519557, 50.99756682,\n",
       "        51.28993806]),\n",
       " <BarContainer object of 100 artists>)"
      ]
     },
     "execution_count": 58,
     "metadata": {},
     "output_type": "execute_result"
    },
    {
     "data": {
      "image/png": "[encoded data removed]",
      "text/plain": [
       "<Figure size 432x288 with 1 Axes>"
      ]
     },
     "metadata": {
      "needs_background": "light"
     },
     "output_type": "display_data"
    }
   ],
   "source": [
    "img_data=img_data-OLD_MIN*X_FACTOR-NEW_MIN\n",
    "plt.hist(sous_data_set,100)"
   ]
  },
  {
   "cell_type": "code",
   "execution_count": 56,
   "id": "d43f06ed-3204-4b26-9a8f-94d4f4624122",
   "metadata": {},
   "outputs": [
    {
     "name": "stderr",
     "output_type": "stream",
     "text": [
      "GLCM is symmetrical, therefore Sum Average = 2 * Joint Average, only 1 needs to be calculated\n"
     ]
    },
    {
     "name": "stdout",
     "output_type": "stream",
     "text": [
      "53.094092359238466\n",
      "9542\n",
      "51.28993806293189\n",
      "53.094092359238466\n"
     ]
    },
    {
     "data": {
      "text/plain": [
       "(array([1.000e+01, 1.700e+01, 2.500e+01, 4.300e+01, 5.400e+01, 7.100e+01,\n",
       "        1.320e+02, 1.870e+02, 3.540e+02, 7.010e+02, 8.490e+02, 9.420e+02,\n",
       "        1.088e+03, 1.247e+03, 1.194e+03, 9.600e+02, 4.710e+02, 3.190e+02,\n",
       "        2.180e+02, 1.410e+02, 1.010e+02, 5.900e+01, 4.200e+01, 4.000e+01,\n",
       "        2.900e+01, 2.600e+01, 1.500e+01, 1.600e+01, 1.700e+01, 1.300e+01,\n",
       "        1.500e+01, 1.800e+01, 1.400e+01, 6.000e+00, 6.000e+00, 4.000e+00,\n",
       "        7.000e+00, 4.000e+00, 8.000e+00, 7.000e+00, 2.000e+00, 6.000e+00,\n",
       "        2.000e+00, 5.000e+00, 2.000e+00, 3.000e+00, 4.000e+00, 1.000e+00,\n",
       "        3.000e+00, 1.000e+00, 5.000e+00, 1.000e+00, 2.000e+00, 0.000e+00,\n",
       "        1.000e+00, 3.000e+00, 3.000e+00, 1.000e+00, 2.000e+00, 2.000e+00,\n",
       "        0.000e+00, 0.000e+00, 1.000e+00, 0.000e+00, 0.000e+00, 1.000e+00,\n",
       "        0.000e+00, 1.000e+00, 2.000e+00, 2.000e+00, 2.000e+00, 0.000e+00,\n",
       "        1.000e+00, 1.000e+00, 1.000e+00, 1.000e+00, 3.000e+00, 0.000e+00,\n",
       "        0.000e+00, 1.000e+00, 0.000e+00, 0.000e+00, 0.000e+00, 0.000e+00,\n",
       "        0.000e+00, 0.000e+00, 0.000e+00, 0.000e+00, 0.000e+00, 0.000e+00,\n",
       "        1.000e+00, 0.000e+00, 0.000e+00, 0.000e+00, 1.000e+00, 1.000e+00,\n",
       "        0.000e+00, 2.000e+00, 0.000e+00, 1.000e+00]),\n",
       " array([22.05281336, 22.34518461, 22.63755586, 22.92992711, 23.22229835,\n",
       "        23.5146696 , 23.80704085, 24.09941209, 24.39178334, 24.68415459,\n",
       "        24.97652583, 25.26889708, 25.56126833, 25.85363958, 26.14601082,\n",
       "        26.43838207, 26.73075332, 27.02312456, 27.31549581, 27.60786706,\n",
       "        27.9002383 , 28.19260955, 28.4849808 , 28.77735205, 29.06972329,\n",
       "        29.36209454, 29.65446579, 29.94683703, 30.23920828, 30.53157953,\n",
       "        30.82395077, 31.11632202, 31.40869327, 31.70106452, 31.99343576,\n",
       "        32.28580701, 32.57817826, 32.8705495 , 33.16292075, 33.455292  ,\n",
       "        33.74766324, 34.04003449, 34.33240574, 34.62477698, 34.91714823,\n",
       "        35.20951948, 35.50189073, 35.79426197, 36.08663322, 36.37900447,\n",
       "        36.67137571, 36.96374696, 37.25611821, 37.54848945, 37.8408607 ,\n",
       "        38.13323195, 38.4256032 , 38.71797444, 39.01034569, 39.30271694,\n",
       "        39.59508818, 39.88745943, 40.17983068, 40.47220192, 40.76457317,\n",
       "        41.05694442, 41.34931567, 41.64168691, 41.93405816, 42.22642941,\n",
       "        42.51880065, 42.8111719 , 43.10354315, 43.39591439, 43.68828564,\n",
       "        43.98065689, 44.27302814, 44.56539938, 44.85777063, 45.15014188,\n",
       "        45.44251312, 45.73488437, 46.02725562, 46.31962686, 46.61199811,\n",
       "        46.90436936, 47.19674061, 47.48911185, 47.7814831 , 48.07385435,\n",
       "        48.36622559, 48.65859684, 48.95096809, 49.24333933, 49.53571058,\n",
       "        49.82808183, 50.12045307, 50.41282432, 50.70519557, 50.99756682,\n",
       "        51.28993806]),\n",
       " <BarContainer object of 100 artists>)"
      ]
     },
     "execution_count": 56,
     "metadata": {},
     "output_type": "execute_result"
    },
    {
     "data": {
      "image/png": "[encoded data removed]",
      "text/plain": [
       "<Figure size 432x288 with 1 Axes>"
      ]
     },
     "metadata": {
      "needs_background": "light"
     },
     "output_type": "display_data"
    }
   ],
   "source": [
    "sitk_img = sitk.GetImageFromArray(img_data)\n",
    "sitk_mask = sitk.GetImageFromArray(tmp.astype(int))\n",
    "extractor = featureextractor.RadiomicsFeatureExtractor(params)\n",
    "result = extractor.execute(sitk_img,sitk_mask)\n",
    "print(result['original_firstorder_Kurtosis'])\n",
    "print(len(img_data[tmp]))\n",
    "print(np.nanmax(img_data[tmp]))\n",
    "#print(result)\n",
    "sous_data_set=img_data[tmp]\n",
    "print(kurtosis(sous_data_set,fisher=False))\n",
    "plt.hist(sous_data_set,100)"
   ]
  },
  {
   "cell_type": "code",
   "execution_count": null,
   "id": "394890c6-00b4-4c2e-995b-7000f7428be6",
   "metadata": {},
   "outputs": [],
   "source": []
  }
 ],
 "metadata": {
  "kernelspec": {
   "display_name": "Python 3 (ipykernel)",
   "language": "python",
   "name": "python3"
  },
  "language_info": {
   "codemirror_mode": {
    "name": "ipython",
    "version": 3
   },
   "file_extension": ".py",
   "mimetype": "text/x-python",
   "name": "python",
   "nbconvert_exporter": "python",
   "pygments_lexer": "ipython3",
   "version": "3.7.6"
  }
 },
 "nbformat": 4,
 "nbformat_minor": 5
}
