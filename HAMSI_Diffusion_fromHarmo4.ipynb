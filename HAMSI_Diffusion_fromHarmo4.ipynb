{
 "cells": [
  {
   "cell_type": "code",
   "execution_count": 4,
   "id": "97216c60-7edb-427b-9b34-4bd72b64d264",
   "metadata": {
    "tags": []
   },
   "outputs": [],
   "source": [
    "import torch\n",
    "import nibabel as nib\n",
    "import numpy as np\n",
    "from torch.utils.data import Dataset, DataLoader\n",
    "import glob\n",
    "from denoising_diffusion_pytorch import Unet, GaussianDiffusion\n",
    "from torch.cuda.amp import GradScaler, autocast\n",
    "from torch.optim.lr_scheduler import StepLR\n",
    "import matplotlib.pyplot as plt\n",
    "from torchvision.utils import save_image\n",
    "\n",
    "#from data_load import load_data\n",
    "#from model import define_model\n",
    "#from harmonize import generate_harmonized_image\n",
    "#from model import define_diffusion\n",
    "#from training import train_model\n",
    "#from training_enhanced import train_model"
   ]
  },
  {
   "cell_type": "code",
   "execution_count": 5,
   "id": "481155cc-9708-4a59-8285-546dc37eeb90",
   "metadata": {
    "tags": []
   },
   "outputs": [],
   "source": [
    "import denoising_diffusion_pytorch as ddp"
   ]
  },
  {
   "cell_type": "code",
   "execution_count": null,
   "id": "fee1c580-ff88-4ac0-a9fb-3022367ea5a5",
   "metadata": {},
   "outputs": [],
   "source": [
    "ddp.karras_unet_3d."
   ]
  },
  {
   "cell_type": "code",
   "execution_count": 43,
   "id": "b50dfa21-e425-4802-adcd-ea589202efd9",
   "metadata": {
    "collapsed": true,
    "jupyter": {
     "outputs_hidden": true
    },
    "tags": []
   },
   "outputs": [
    {
     "name": "stdout",
     "output_type": "stream",
     "text": [
      "Collecting git+https://github.com/lucidrains/denoising-diffusion-pytorch.git\n",
      "  Cloning https://github.com/lucidrains/denoising-diffusion-pytorch.git to /tmp/pip-req-build-q655p2ar\n",
      "  Running command git clone --filter=blob:none --quiet https://github.com/lucidrains/denoising-diffusion-pytorch.git /tmp/pip-req-build-q655p2ar\n",
      "  Resolved https://github.com/lucidrains/denoising-diffusion-pytorch.git to commit d0c68fc6828291f2c66f6caccb8f4635d9613732\n",
      "  Preparing metadata (setup.py) ... \u001b[?25ldone\n",
      "\u001b[?25hRequirement already satisfied: accelerate in /home/romain/.local/lib/python3.7/site-packages (from denoising-diffusion-pytorch==1.11.0) (0.20.3)\n",
      "Requirement already satisfied: einops in /home/romain/.local/lib/python3.7/site-packages (from denoising-diffusion-pytorch==1.11.0) (0.6.1)\n",
      "Collecting ema-pytorch>=0.4.2\n",
      "  Downloading ema_pytorch-0.4.2-py3-none-any.whl (8.4 kB)\n",
      "Requirement already satisfied: numpy in /home/romain/.local/lib/python3.7/site-packages (from denoising-diffusion-pytorch==1.11.0) (1.20.1)\n",
      "Requirement already satisfied: pillow in /home/romain/.local/lib/python3.7/site-packages (from denoising-diffusion-pytorch==1.11.0) (9.4.0)\n",
      "Requirement already satisfied: pytorch-fid in /home/romain/.local/lib/python3.7/site-packages (from denoising-diffusion-pytorch==1.11.0) (0.3.0)\n",
      "Requirement already satisfied: torch in /home/romain/.local/lib/python3.7/site-packages (from denoising-diffusion-pytorch==1.11.0) (1.13.1)\n",
      "Requirement already satisfied: torchvision in /home/romain/.local/lib/python3.7/site-packages (from denoising-diffusion-pytorch==1.11.0) (0.14.1)\n",
      "Requirement already satisfied: tqdm in /home/romain/.local/lib/python3.7/site-packages (from denoising-diffusion-pytorch==1.11.0) (4.54.1)\n",
      "Requirement already satisfied: beartype in /home/youssef/.conda/envs/HAMSI3.7/lib/python3.7/site-packages (from ema-pytorch>=0.4.2->denoising-diffusion-pytorch==1.11.0) (0.14.1)\n",
      "Requirement already satisfied: nvidia-cublas-cu11==11.10.3.66 in /home/romain/.local/lib/python3.7/site-packages (from torch->denoising-diffusion-pytorch==1.11.0) (11.10.3.66)\n",
      "Requirement already satisfied: nvidia-cuda-runtime-cu11==11.7.99 in /home/romain/.local/lib/python3.7/site-packages (from torch->denoising-diffusion-pytorch==1.11.0) (11.7.99)\n",
      "Requirement already satisfied: nvidia-cuda-nvrtc-cu11==11.7.99 in /home/romain/.local/lib/python3.7/site-packages (from torch->denoising-diffusion-pytorch==1.11.0) (11.7.99)\n",
      "Requirement already satisfied: typing-extensions in /home/youssef/.conda/envs/HAMSI3.7/lib/python3.7/site-packages (from torch->denoising-diffusion-pytorch==1.11.0) (4.3.0)\n",
      "Requirement already satisfied: nvidia-cudnn-cu11==8.5.0.96 in /home/romain/.local/lib/python3.7/site-packages (from torch->denoising-diffusion-pytorch==1.11.0) (8.5.0.96)\n",
      "Requirement already satisfied: wheel in /home/youssef/.conda/envs/HAMSI3.7/lib/python3.7/site-packages (from nvidia-cublas-cu11==11.10.3.66->torch->denoising-diffusion-pytorch==1.11.0) (0.38.4)\n",
      "Requirement already satisfied: setuptools in /home/youssef/.conda/envs/HAMSI3.7/lib/python3.7/site-packages (from nvidia-cublas-cu11==11.10.3.66->torch->denoising-diffusion-pytorch==1.11.0) (65.6.3)\n",
      "Requirement already satisfied: packaging>=20.0 in /home/youssef/.conda/envs/HAMSI3.7/lib/python3.7/site-packages (from accelerate->denoising-diffusion-pytorch==1.11.0) (22.0)\n",
      "Requirement already satisfied: pyyaml in /home/youssef/.conda/envs/HAMSI3.7/lib/python3.7/site-packages (from accelerate->denoising-diffusion-pytorch==1.11.0) (6.0.1)\n",
      "Requirement already satisfied: psutil in /home/romain/.local/lib/python3.7/site-packages (from accelerate->denoising-diffusion-pytorch==1.11.0) (5.7.3)\n",
      "Requirement already satisfied: scipy in /home/romain/.local/lib/python3.7/site-packages (from pytorch-fid->denoising-diffusion-pytorch==1.11.0) (1.7.3)\n",
      "Requirement already satisfied: requests in /home/youssef/.conda/envs/HAMSI3.7/lib/python3.7/site-packages (from torchvision->denoising-diffusion-pytorch==1.11.0) (2.28.1)\n",
      "Requirement already satisfied: charset-normalizer<3,>=2 in /home/youssef/.conda/envs/HAMSI3.7/lib/python3.7/site-packages (from requests->torchvision->denoising-diffusion-pytorch==1.11.0) (2.0.4)\n",
      "Requirement already satisfied: certifi>=2017.4.17 in /home/youssef/.conda/envs/HAMSI3.7/lib/python3.7/site-packages (from requests->torchvision->denoising-diffusion-pytorch==1.11.0) (2022.12.7)\n",
      "Requirement already satisfied: idna<4,>=2.5 in /home/youssef/.conda/envs/HAMSI3.7/lib/python3.7/site-packages (from requests->torchvision->denoising-diffusion-pytorch==1.11.0) (3.4)\n",
      "Requirement already satisfied: urllib3<1.27,>=1.21.1 in /home/youssef/.conda/envs/HAMSI3.7/lib/python3.7/site-packages (from requests->torchvision->denoising-diffusion-pytorch==1.11.0) (1.26.14)\n",
      "Building wheels for collected packages: denoising-diffusion-pytorch\n",
      "  Building wheel for denoising-diffusion-pytorch (setup.py) ... \u001b[?25ldone\n",
      "\u001b[?25h  Created wheel for denoising-diffusion-pytorch: filename=denoising_diffusion_pytorch-1.11.0-py3-none-any.whl size=72399 sha256=cb14666d50f30d4158c564dcd671cb0018cadea32c2ad54a751d05055a1f1c63\n",
      "  Stored in directory: /tmp/pip-ephem-wheel-cache-mgp9gzq0/wheels/56/5b/f3/ccc11fbc1e79a8237edc623c1ab66d28d3d4e4c1ad379f83b0\n",
      "Successfully built denoising-diffusion-pytorch\n",
      "Installing collected packages: ema-pytorch, denoising-diffusion-pytorch\n",
      "  Attempting uninstall: ema-pytorch\n",
      "    Found existing installation: ema-pytorch 0.2.3\n",
      "    Uninstalling ema-pytorch-0.2.3:\n",
      "      Successfully uninstalled ema-pytorch-0.2.3\n",
      "  Attempting uninstall: denoising-diffusion-pytorch\n",
      "    Found existing installation: denoising-diffusion-pytorch 1.9.0\n",
      "    Uninstalling denoising-diffusion-pytorch-1.9.0:\n",
      "      Successfully uninstalled denoising-diffusion-pytorch-1.9.0\n",
      "Successfully installed denoising-diffusion-pytorch-1.11.0 ema-pytorch-0.4.2\n",
      "\n",
      "\u001b[1m[\u001b[0m\u001b[34;49mnotice\u001b[0m\u001b[1;39;49m]\u001b[0m\u001b[39;49m A new release of pip available: \u001b[0m\u001b[31;49m23.3.1\u001b[0m\u001b[39;49m -> \u001b[0m\u001b[32;49m24.0\u001b[0m\n",
      "\u001b[1m[\u001b[0m\u001b[34;49mnotice\u001b[0m\u001b[1;39;49m]\u001b[0m\u001b[39;49m To update, run: \u001b[0m\u001b[32;49mpip install --upgrade pip\u001b[0m\n",
      "Note: you may need to restart the kernel to use updated packages.\n"
     ]
    }
   ],
   "source": [
    "#pip install git+https://github.com/lucidrains/denoising-diffusion-pytorch.git"
   ]
  },
  {
   "cell_type": "code",
   "execution_count": 2,
   "id": "8d15c9ba-4fa0-46a7-867b-3d9ab8c83b32",
   "metadata": {
    "tags": []
   },
   "outputs": [],
   "source": [
    "class NiftiiDataset(Dataset):\n",
    "    def __init__(self, source_paths, target_paths):\n",
    "        self.source_slices = []\n",
    "        self.target_slices = []\n",
    "\n",
    "        for source_path, target_path in zip(source_paths, target_paths):\n",
    "            source_nii = nib.load(source_path)\n",
    "            target_nii = nib.load(target_path)\n",
    "\n",
    "            source_img = torch.tensor(source_nii.get_fdata(dtype=np.float32))\n",
    "            target_img = torch.tensor(target_nii.get_fdata(dtype=np.float32))\n",
    "\n",
    "            source_slice = source_img[:, :, source_img.shape[2] // 2].unsqueeze(0)\n",
    "            target_slice = target_img[:, :, target_img.shape[2] // 2].unsqueeze(0)\n",
    "\n",
    "            self.source_slices.append(source_slice)\n",
    "            self.target_slices.append(target_slice)\n",
    "\n",
    "    def __len__(self):\n",
    "        return len(self.source_slices)\n",
    "\n",
    "    def __getitem__(self, idx):\n",
    "        return self.source_slices[idx], self.target_slices[idx]"
   ]
  },
  {
   "cell_type": "code",
   "execution_count": 24,
   "id": "c7893a29-cb8c-4c11-9b13-bea9893393c5",
   "metadata": {
    "tags": []
   },
   "outputs": [],
   "source": [
    "def load_data():\n",
    "    source_image_paths = sorted(glob.glob(\"/home/youssef/harmo_4/ALL_training_data/Pat11*_CHU_zscore_minmax_unbias.nii.gz\"))\n",
    "    target_image_paths = sorted(glob.glob(\"/home/youssef/harmo_4/ALL_training_data/Pat11*_COL_zscore_minmax_unbias.nii.gz\"))\n",
    "\n",
    "    dataset = NiftiiDataset(source_image_paths, target_image_paths)\n",
    "    dataloader = DataLoader(dataset, batch_size=2)\n",
    "\n",
    "    return dataloader"
   ]
  },
  {
   "cell_type": "code",
   "execution_count": 21,
   "id": "dbbd942c-4d4f-45bc-a328-5414b786fc05",
   "metadata": {
    "tags": []
   },
   "outputs": [],
   "source": [
    "def define_model():\n",
    "    model = Unet(\n",
    "        dim = 128,  # Increased dimensions\n",
    "        dim_mults = (1, 2, 4, 8),\n",
    "        channels = 1,  # Assuming grayscale MRI images\n",
    "        self_condition = True  # Enable self-conditioning\n",
    "    )\n",
    "\n",
    "    return model"
   ]
  },
  {
   "cell_type": "code",
   "execution_count": 5,
   "id": "c5800349-8f44-400d-ba3a-041b7fae3eb3",
   "metadata": {
    "tags": []
   },
   "outputs": [],
   "source": [
    "def define_diffusion(model):\n",
    "    diffusion = GaussianDiffusion(\n",
    "        model = model,\n",
    "        image_size = 256,\n",
    "        timesteps = 1000,\n",
    "        objective = 'pred_noise',  # Change the objective if needed\n",
    "        beta_schedule = 'cosine',  # Changing noise schedule to cosine\n",
    "    )\n",
    "\n",
    "    return diffusion"
   ]
  },
  {
   "cell_type": "code",
   "execution_count": 30,
   "id": "584f6899-944f-4eb9-92c1-1ddefd93ee0c",
   "metadata": {
    "tags": []
   },
   "outputs": [],
   "source": [
    "def train_model(dataloader, model, diffusion):\n",
    "    device = torch.device(\"cuda\" if torch.cuda.is_available() else \"cpu\")\n",
    "    model.to(device)\n",
    "\n",
    "    criterion = torch.nn.KLDivLoss\n",
    "    optimizer = torch.optim.Adam(model.parameters(), lr=1e-4)\n",
    "    scheduler = StepLR(optimizer, step_size=10, gamma=0.1)  # Adjust step_size and gamma as needed\n",
    "\n",
    "    scaler = GradScaler()  # Initialize GradScaler\n",
    "\n",
    "    for epoch in range(20): \n",
    "        cpt=0\n",
    "        for source_slice, target_slice in dataloader:\n",
    "            source_slice, target_slice = source_slice.to(device), target_slice.to(device)\n",
    "            optimizer.zero_grad()\n",
    "\n",
    "            timesteps = 1000\n",
    "            t = torch.randint(0, timesteps, (source_slice.size(0),), device=source_slice.device)\n",
    "\n",
    "            save_image(target_slice, 'target_'+str(epoch)+'_'+str(cpt)+'.png')\n",
    "            save_image(source_slice, 'source_'+str(epoch)+'_'+str(cpt)+'.png')\n",
    "            # Use autocast to run the forward pass in mixed precision\n",
    "            with autocast():\n",
    "                reconstructed_slice = model(source_slice, t)\n",
    "                loss = criterion(reconstructed_slice, target_slice)\n",
    "                save_image(reconstructed_slice,'reconstruct_'+str(epoch)+'_'+str(cpt)+'.png')\n",
    "\n",
    "            # Use GradScaler to scale the loss and call backward\n",
    "            scaler.scale(loss).backward()\n",
    "            # Use GradScaler to step the optimizer\n",
    "            scaler.step(optimizer)\n",
    "            # Update the scale for next iteration\n",
    "            scaler.update()\n",
    "            cpt=cpt+1\n",
    "            print(f\"Epoch {epoch+1}, Loss: {loss.item()}\")\n",
    "\n",
    "        scheduler.step()  # Update the learning rate\n",
    "        print(f\"Learning rate adjusted to: {scheduler.get_last_lr()[0]}\")\n",
    "\n",
    "    torch.save(model.state_dict(), 'savedmodel_different_model_pat8.pt')\n",
    "    save_image(source_slice, 'harmonized_slice_88.png')"
   ]
  },
  {
   "cell_type": "code",
   "execution_count": 26,
   "id": "13bcf2aa-c61a-4361-91f7-e90f50e684d6",
   "metadata": {
    "tags": []
   },
   "outputs": [],
   "source": [
    "def generate_harmonized_image(model_path, source_image_path, target_image_path):\n",
    "    # Load the trained model\n",
    "    model = define_model()\n",
    "    model.load_state_dict(torch.load(model_path))\n",
    "    model.eval()\n",
    "\n",
    "    # Load the source and target images\n",
    "    source_nii = nib.load(source_image_path)\n",
    "    target_nii = nib.load(target_image_path)\n",
    "\n",
    "    source_img = torch.tensor(source_nii.get_fdata(dtype=np.float32))\n",
    "    target_img = torch.tensor(target_nii.get_fdata(dtype=np.float32))\n",
    "\n",
    "    source_slice = source_img[:, :, source_img.shape[2] // 2].unsqueeze(0).unsqueeze(0)\n",
    "    target_slice = target_img[:, :, target_img.shape[2] // 2].unsqueeze(0).unsqueeze(0)\n",
    "\n",
    "    # Generate a random timestep\n",
    "    timesteps = 1000\n",
    "    t = torch.randint(0, timesteps, (source_slice.size(0),), device=source_slice.device)\n",
    "\n",
    "    # Generate the harmonized image\n",
    "    with torch.no_grad():\n",
    "        harmonized_slice = model(source_slice, t)\n",
    "\n",
    "    # Save the harmonized image\n",
    "    save_image(harmonized_slice, '/home/youssef/harmo_4/harmonized_result/harmonized_slice8_dm_10ep.png')"
   ]
  },
  {
   "cell_type": "code",
   "execution_count": 31,
   "id": "7f1c9a0b-c2cc-476a-b234-9205b53deab5",
   "metadata": {
    "tags": []
   },
   "outputs": [
    {
     "name": "stdout",
     "output_type": "stream",
     "text": [
      "4 4\n"
     ]
    },
    {
     "data": {
      "text/html": [
       "<pre style=\"white-space:pre;overflow-x:auto;line-height:normal;font-family:Menlo,'DejaVu Sans Mono',consolas,'Courier New',monospace\"><span style=\"color: #800000; text-decoration-color: #800000\">╭─────────────────────────────── </span><span style=\"color: #800000; text-decoration-color: #800000; font-weight: bold\">Traceback </span><span style=\"color: #bf7f7f; text-decoration-color: #bf7f7f; font-weight: bold\">(most recent call last)</span><span style=\"color: #800000; text-decoration-color: #800000\"> ────────────────────────────────╮</span>\n",
       "<span style=\"color: #800000; text-decoration-color: #800000\">│</span> in <span style=\"color: #00ff00; text-decoration-color: #00ff00\">&lt;module&gt;</span>:<span style=\"color: #0000ff; text-decoration-color: #0000ff\">11</span>                                                                                   <span style=\"color: #800000; text-decoration-color: #800000\">│</span>\n",
       "<span style=\"color: #800000; text-decoration-color: #800000\">│</span>                                                                                                  <span style=\"color: #800000; text-decoration-color: #800000\">│</span>\n",
       "<span style=\"color: #800000; text-decoration-color: #800000\">│</span>   <span style=\"color: #7f7f7f; text-decoration-color: #7f7f7f\"> 8 </span>                                                                                            <span style=\"color: #800000; text-decoration-color: #800000\">│</span>\n",
       "<span style=\"color: #800000; text-decoration-color: #800000\">│</span>   <span style=\"color: #7f7f7f; text-decoration-color: #7f7f7f\"> 9 </span>                                                                                            <span style=\"color: #800000; text-decoration-color: #800000\">│</span>\n",
       "<span style=\"color: #800000; text-decoration-color: #800000\">│</span>   <span style=\"color: #7f7f7f; text-decoration-color: #7f7f7f\">10 </span><span style=\"color: #0000ff; text-decoration-color: #0000ff\">if</span> <span style=\"color: #ff0000; text-decoration-color: #ff0000\">__name__</span> == <span style=\"color: #808000; text-decoration-color: #808000\">\"__main__\"</span>:                                                                  <span style=\"color: #800000; text-decoration-color: #800000\">│</span>\n",
       "<span style=\"color: #800000; text-decoration-color: #800000\">│</span> <span style=\"color: #800000; text-decoration-color: #800000\">❱ </span>11 <span style=\"color: #7f7f7f; text-decoration-color: #7f7f7f\">│   </span>main()                                                                                  <span style=\"color: #800000; text-decoration-color: #800000\">│</span>\n",
       "<span style=\"color: #800000; text-decoration-color: #800000\">│</span>   <span style=\"color: #7f7f7f; text-decoration-color: #7f7f7f\">12 </span>                                                                                            <span style=\"color: #800000; text-decoration-color: #800000\">│</span>\n",
       "<span style=\"color: #800000; text-decoration-color: #800000\">│</span>                                                                                                  <span style=\"color: #800000; text-decoration-color: #800000\">│</span>\n",
       "<span style=\"color: #800000; text-decoration-color: #800000\">│</span> in <span style=\"color: #00ff00; text-decoration-color: #00ff00\">main</span>:<span style=\"color: #0000ff; text-decoration-color: #0000ff\">7</span>                                                                                        <span style=\"color: #800000; text-decoration-color: #800000\">│</span>\n",
       "<span style=\"color: #800000; text-decoration-color: #800000\">│</span>                                                                                                  <span style=\"color: #800000; text-decoration-color: #800000\">│</span>\n",
       "<span style=\"color: #800000; text-decoration-color: #800000\">│</span>   <span style=\"color: #7f7f7f; text-decoration-color: #7f7f7f\"> 4 </span><span style=\"color: #7f7f7f; text-decoration-color: #7f7f7f\">│   </span><span style=\"color: #7f7f7f; text-decoration-color: #7f7f7f\">#model = define_model().to(device)</span>                                                      <span style=\"color: #800000; text-decoration-color: #800000\">│</span>\n",
       "<span style=\"color: #800000; text-decoration-color: #800000\">│</span>   <span style=\"color: #7f7f7f; text-decoration-color: #7f7f7f\"> 5 </span><span style=\"color: #7f7f7f; text-decoration-color: #7f7f7f\">│   </span>model = define_model()                                                                  <span style=\"color: #800000; text-decoration-color: #800000\">│</span>\n",
       "<span style=\"color: #800000; text-decoration-color: #800000\">│</span>   <span style=\"color: #7f7f7f; text-decoration-color: #7f7f7f\"> 6 </span><span style=\"color: #7f7f7f; text-decoration-color: #7f7f7f\">│   </span>diffusion = define_diffusion(model)                                                     <span style=\"color: #800000; text-decoration-color: #800000\">│</span>\n",
       "<span style=\"color: #800000; text-decoration-color: #800000\">│</span> <span style=\"color: #800000; text-decoration-color: #800000\">❱ </span> 7 <span style=\"color: #7f7f7f; text-decoration-color: #7f7f7f\">│   </span>train_model(dataloader, model, diffusion)                                               <span style=\"color: #800000; text-decoration-color: #800000\">│</span>\n",
       "<span style=\"color: #800000; text-decoration-color: #800000\">│</span>   <span style=\"color: #7f7f7f; text-decoration-color: #7f7f7f\"> 8 </span>                                                                                            <span style=\"color: #800000; text-decoration-color: #800000\">│</span>\n",
       "<span style=\"color: #800000; text-decoration-color: #800000\">│</span>   <span style=\"color: #7f7f7f; text-decoration-color: #7f7f7f\"> 9 </span>                                                                                            <span style=\"color: #800000; text-decoration-color: #800000\">│</span>\n",
       "<span style=\"color: #800000; text-decoration-color: #800000\">│</span>   <span style=\"color: #7f7f7f; text-decoration-color: #7f7f7f\">10 </span><span style=\"color: #0000ff; text-decoration-color: #0000ff\">if</span> <span style=\"color: #ff0000; text-decoration-color: #ff0000\">__name__</span> == <span style=\"color: #808000; text-decoration-color: #808000\">\"__main__\"</span>:                                                                  <span style=\"color: #800000; text-decoration-color: #800000\">│</span>\n",
       "<span style=\"color: #800000; text-decoration-color: #800000\">│</span>                                                                                                  <span style=\"color: #800000; text-decoration-color: #800000\">│</span>\n",
       "<span style=\"color: #800000; text-decoration-color: #800000\">│</span> in <span style=\"color: #00ff00; text-decoration-color: #00ff00\">train_model</span>:<span style=\"color: #0000ff; text-decoration-color: #0000ff\">25</span>                                                                                <span style=\"color: #800000; text-decoration-color: #800000\">│</span>\n",
       "<span style=\"color: #800000; text-decoration-color: #800000\">│</span>                                                                                                  <span style=\"color: #800000; text-decoration-color: #800000\">│</span>\n",
       "<span style=\"color: #800000; text-decoration-color: #800000\">│</span>   <span style=\"color: #7f7f7f; text-decoration-color: #7f7f7f\">22 </span><span style=\"color: #7f7f7f; text-decoration-color: #7f7f7f\">│   │   │   </span><span style=\"color: #7f7f7f; text-decoration-color: #7f7f7f\"># Use autocast to run the forward pass in mixed precision</span>                       <span style=\"color: #800000; text-decoration-color: #800000\">│</span>\n",
       "<span style=\"color: #800000; text-decoration-color: #800000\">│</span>   <span style=\"color: #7f7f7f; text-decoration-color: #7f7f7f\">23 </span><span style=\"color: #7f7f7f; text-decoration-color: #7f7f7f\">│   │   │   </span><span style=\"color: #0000ff; text-decoration-color: #0000ff\">with</span> autocast():                                                                <span style=\"color: #800000; text-decoration-color: #800000\">│</span>\n",
       "<span style=\"color: #800000; text-decoration-color: #800000\">│</span>   <span style=\"color: #7f7f7f; text-decoration-color: #7f7f7f\">24 </span><span style=\"color: #7f7f7f; text-decoration-color: #7f7f7f\">│   │   │   │   </span>reconstructed_slice = model(source_slice, t)                                <span style=\"color: #800000; text-decoration-color: #800000\">│</span>\n",
       "<span style=\"color: #800000; text-decoration-color: #800000\">│</span> <span style=\"color: #800000; text-decoration-color: #800000\">❱ </span>25 <span style=\"color: #7f7f7f; text-decoration-color: #7f7f7f\">│   │   │   │   </span>loss = criterion(reconstructed_slice, target_slice)                         <span style=\"color: #800000; text-decoration-color: #800000\">│</span>\n",
       "<span style=\"color: #800000; text-decoration-color: #800000\">│</span>   <span style=\"color: #7f7f7f; text-decoration-color: #7f7f7f\">26 </span><span style=\"color: #7f7f7f; text-decoration-color: #7f7f7f\">│   │   │   │   </span>save_image(reconstructed_slice,<span style=\"color: #808000; text-decoration-color: #808000\">'reconstruct_'</span>+<span style=\"color: #00ffff; text-decoration-color: #00ffff\">str</span>(epoch)+<span style=\"color: #808000; text-decoration-color: #808000\">'_'</span>+<span style=\"color: #00ffff; text-decoration-color: #00ffff\">str</span>(cpt)+<span style=\"color: #808000; text-decoration-color: #808000\">'.</span>    <span style=\"color: #800000; text-decoration-color: #800000\">│</span>\n",
       "<span style=\"color: #800000; text-decoration-color: #800000\">│</span>   <span style=\"color: #7f7f7f; text-decoration-color: #7f7f7f\">27 </span><span style=\"color: #7f7f7f; text-decoration-color: #7f7f7f\">│   │   │   </span>                                                                                <span style=\"color: #800000; text-decoration-color: #800000\">│</span>\n",
       "<span style=\"color: #800000; text-decoration-color: #800000\">│</span>   <span style=\"color: #7f7f7f; text-decoration-color: #7f7f7f\">28 </span><span style=\"color: #7f7f7f; text-decoration-color: #7f7f7f\">│   │   │   </span><span style=\"color: #7f7f7f; text-decoration-color: #7f7f7f\"># Use GradScaler to scale the loss and call backward</span>                            <span style=\"color: #800000; text-decoration-color: #800000\">│</span>\n",
       "<span style=\"color: #800000; text-decoration-color: #800000\">│</span>                                                                                                  <span style=\"color: #800000; text-decoration-color: #800000\">│</span>\n",
       "<span style=\"color: #800000; text-decoration-color: #800000\">│</span> <span style=\"color: #bfbf7f; text-decoration-color: #bfbf7f\">/home/romain/.local/lib/python3.7/site-packages/torch/nn/modules/</span><span style=\"color: #808000; text-decoration-color: #808000; font-weight: bold\">loss.py</span>:<span style=\"color: #0000ff; text-decoration-color: #0000ff\">467</span> in <span style=\"color: #00ff00; text-decoration-color: #00ff00\">__init__</span>         <span style=\"color: #800000; text-decoration-color: #800000\">│</span>\n",
       "<span style=\"color: #800000; text-decoration-color: #800000\">│</span>                                                                                                  <span style=\"color: #800000; text-decoration-color: #800000\">│</span>\n",
       "<span style=\"color: #800000; text-decoration-color: #800000\">│</span>   <span style=\"color: #7f7f7f; text-decoration-color: #7f7f7f\"> 464 </span><span style=\"color: #7f7f7f; text-decoration-color: #7f7f7f\">│   </span>__constants__ = [<span style=\"color: #808000; text-decoration-color: #808000\">'reduction'</span>]                                                         <span style=\"color: #800000; text-decoration-color: #800000\">│</span>\n",
       "<span style=\"color: #800000; text-decoration-color: #800000\">│</span>   <span style=\"color: #7f7f7f; text-decoration-color: #7f7f7f\"> 465 </span><span style=\"color: #7f7f7f; text-decoration-color: #7f7f7f\">│   </span>                                                                                      <span style=\"color: #800000; text-decoration-color: #800000\">│</span>\n",
       "<span style=\"color: #800000; text-decoration-color: #800000\">│</span>   <span style=\"color: #7f7f7f; text-decoration-color: #7f7f7f\"> 466 </span><span style=\"color: #7f7f7f; text-decoration-color: #7f7f7f\">│   </span><span style=\"color: #0000ff; text-decoration-color: #0000ff\">def</span> <span style=\"color: #00ff00; text-decoration-color: #00ff00\">__init__</span>(<span style=\"color: #00ffff; text-decoration-color: #00ffff\">self</span>, size_average=<span style=\"color: #0000ff; text-decoration-color: #0000ff\">None</span>, reduce=<span style=\"color: #0000ff; text-decoration-color: #0000ff\">None</span>, reduction: <span style=\"color: #00ffff; text-decoration-color: #00ffff\">str</span> = <span style=\"color: #808000; text-decoration-color: #808000\">'mean'</span>, log_targ  <span style=\"color: #800000; text-decoration-color: #800000\">│</span>\n",
       "<span style=\"color: #800000; text-decoration-color: #800000\">│</span> <span style=\"color: #800000; text-decoration-color: #800000\">❱ </span> 467 <span style=\"color: #7f7f7f; text-decoration-color: #7f7f7f\">│   │   </span><span style=\"color: #00ffff; text-decoration-color: #00ffff\">super</span>(KLDivLoss, <span style=\"color: #00ffff; text-decoration-color: #00ffff\">self</span>).<span style=\"color: #00ff00; text-decoration-color: #00ff00\">__init__</span>(size_average, reduce, reduction)                  <span style=\"color: #800000; text-decoration-color: #800000\">│</span>\n",
       "<span style=\"color: #800000; text-decoration-color: #800000\">│</span>   <span style=\"color: #7f7f7f; text-decoration-color: #7f7f7f\"> 468 </span><span style=\"color: #7f7f7f; text-decoration-color: #7f7f7f\">│   │   </span><span style=\"color: #00ffff; text-decoration-color: #00ffff\">self</span>.log_target = log_target                                                      <span style=\"color: #800000; text-decoration-color: #800000\">│</span>\n",
       "<span style=\"color: #800000; text-decoration-color: #800000\">│</span>   <span style=\"color: #7f7f7f; text-decoration-color: #7f7f7f\"> 469 </span><span style=\"color: #7f7f7f; text-decoration-color: #7f7f7f\">│   </span>                                                                                      <span style=\"color: #800000; text-decoration-color: #800000\">│</span>\n",
       "<span style=\"color: #800000; text-decoration-color: #800000\">│</span>   <span style=\"color: #7f7f7f; text-decoration-color: #7f7f7f\"> 470 </span><span style=\"color: #7f7f7f; text-decoration-color: #7f7f7f\">│   </span><span style=\"color: #0000ff; text-decoration-color: #0000ff\">def</span> <span style=\"color: #00ff00; text-decoration-color: #00ff00\">forward</span>(<span style=\"color: #00ffff; text-decoration-color: #00ffff\">self</span>, <span style=\"color: #00ffff; text-decoration-color: #00ffff\">input</span>: Tensor, target: Tensor) -&gt; Tensor:                           <span style=\"color: #800000; text-decoration-color: #800000\">│</span>\n",
       "<span style=\"color: #800000; text-decoration-color: #800000\">│</span>                                                                                                  <span style=\"color: #800000; text-decoration-color: #800000\">│</span>\n",
       "<span style=\"color: #800000; text-decoration-color: #800000\">│</span> <span style=\"color: #bfbf7f; text-decoration-color: #bfbf7f\">/home/romain/.local/lib/python3.7/site-packages/torch/nn/modules/</span><span style=\"color: #808000; text-decoration-color: #808000; font-weight: bold\">loss.py</span>:<span style=\"color: #0000ff; text-decoration-color: #0000ff\">23</span> in <span style=\"color: #00ff00; text-decoration-color: #00ff00\">__init__</span>          <span style=\"color: #800000; text-decoration-color: #800000\">│</span>\n",
       "<span style=\"color: #800000; text-decoration-color: #800000\">│</span>                                                                                                  <span style=\"color: #800000; text-decoration-color: #800000\">│</span>\n",
       "<span style=\"color: #800000; text-decoration-color: #800000\">│</span>   <span style=\"color: #7f7f7f; text-decoration-color: #7f7f7f\">  20 </span><span style=\"color: #7f7f7f; text-decoration-color: #7f7f7f\">│   </span><span style=\"color: #0000ff; text-decoration-color: #0000ff\">def</span> <span style=\"color: #00ff00; text-decoration-color: #00ff00\">__init__</span>(<span style=\"color: #00ffff; text-decoration-color: #00ffff\">self</span>, size_average=<span style=\"color: #0000ff; text-decoration-color: #0000ff\">None</span>, reduce=<span style=\"color: #0000ff; text-decoration-color: #0000ff\">None</span>, reduction: <span style=\"color: #00ffff; text-decoration-color: #00ffff\">str</span> = <span style=\"color: #808000; text-decoration-color: #808000\">'mean'</span>) -&gt; <span style=\"color: #0000ff; text-decoration-color: #0000ff\">None</span>:  <span style=\"color: #800000; text-decoration-color: #800000\">│</span>\n",
       "<span style=\"color: #800000; text-decoration-color: #800000\">│</span>   <span style=\"color: #7f7f7f; text-decoration-color: #7f7f7f\">  21 </span><span style=\"color: #7f7f7f; text-decoration-color: #7f7f7f\">│   │   </span><span style=\"color: #00ffff; text-decoration-color: #00ffff\">super</span>(_Loss, <span style=\"color: #00ffff; text-decoration-color: #00ffff\">self</span>).<span style=\"color: #00ff00; text-decoration-color: #00ff00\">__init__</span>()                                                     <span style=\"color: #800000; text-decoration-color: #800000\">│</span>\n",
       "<span style=\"color: #800000; text-decoration-color: #800000\">│</span>   <span style=\"color: #7f7f7f; text-decoration-color: #7f7f7f\">  22 </span><span style=\"color: #7f7f7f; text-decoration-color: #7f7f7f\">│   │   </span><span style=\"color: #0000ff; text-decoration-color: #0000ff\">if</span> size_average <span style=\"color: #ff00ff; text-decoration-color: #ff00ff\">is</span> <span style=\"color: #ff00ff; text-decoration-color: #ff00ff\">not</span> <span style=\"color: #0000ff; text-decoration-color: #0000ff\">None</span> <span style=\"color: #ff00ff; text-decoration-color: #ff00ff\">or</span> reduce <span style=\"color: #ff00ff; text-decoration-color: #ff00ff\">is</span> <span style=\"color: #ff00ff; text-decoration-color: #ff00ff\">not</span> <span style=\"color: #0000ff; text-decoration-color: #0000ff\">None</span>:                                <span style=\"color: #800000; text-decoration-color: #800000\">│</span>\n",
       "<span style=\"color: #800000; text-decoration-color: #800000\">│</span> <span style=\"color: #800000; text-decoration-color: #800000\">❱ </span>  23 <span style=\"color: #7f7f7f; text-decoration-color: #7f7f7f\">│   │   │   </span><span style=\"color: #00ffff; text-decoration-color: #00ffff\">self</span>.reduction: <span style=\"color: #00ffff; text-decoration-color: #00ffff\">str</span> = _Reduction.legacy_get_string(size_average, reduce)      <span style=\"color: #800000; text-decoration-color: #800000\">│</span>\n",
       "<span style=\"color: #800000; text-decoration-color: #800000\">│</span>   <span style=\"color: #7f7f7f; text-decoration-color: #7f7f7f\">  24 </span><span style=\"color: #7f7f7f; text-decoration-color: #7f7f7f\">│   │   </span><span style=\"color: #0000ff; text-decoration-color: #0000ff\">else</span>:                                                                             <span style=\"color: #800000; text-decoration-color: #800000\">│</span>\n",
       "<span style=\"color: #800000; text-decoration-color: #800000\">│</span>   <span style=\"color: #7f7f7f; text-decoration-color: #7f7f7f\">  25 </span><span style=\"color: #7f7f7f; text-decoration-color: #7f7f7f\">│   │   │   </span><span style=\"color: #00ffff; text-decoration-color: #00ffff\">self</span>.reduction = reduction                                                    <span style=\"color: #800000; text-decoration-color: #800000\">│</span>\n",
       "<span style=\"color: #800000; text-decoration-color: #800000\">│</span>   <span style=\"color: #7f7f7f; text-decoration-color: #7f7f7f\">  26 </span>                                                                                          <span style=\"color: #800000; text-decoration-color: #800000\">│</span>\n",
       "<span style=\"color: #800000; text-decoration-color: #800000\">│</span>                                                                                                  <span style=\"color: #800000; text-decoration-color: #800000\">│</span>\n",
       "<span style=\"color: #800000; text-decoration-color: #800000\">│</span> <span style=\"color: #bfbf7f; text-decoration-color: #bfbf7f\">/home/romain/.local/lib/python3.7/site-packages/torch/nn/</span><span style=\"color: #808000; text-decoration-color: #808000; font-weight: bold\">_reduction.py</span>:<span style=\"color: #0000ff; text-decoration-color: #0000ff\">35</span> in <span style=\"color: #00ff00; text-decoration-color: #00ff00\">legacy_get_string</span>   <span style=\"color: #800000; text-decoration-color: #800000\">│</span>\n",
       "<span style=\"color: #800000; text-decoration-color: #800000\">│</span>                                                                                                  <span style=\"color: #800000; text-decoration-color: #800000\">│</span>\n",
       "<span style=\"color: #800000; text-decoration-color: #800000\">│</span>   <span style=\"color: #7f7f7f; text-decoration-color: #7f7f7f\">32 </span><span style=\"color: #7f7f7f; text-decoration-color: #7f7f7f\">│   </span><span style=\"color: #0000ff; text-decoration-color: #0000ff\">if</span> reduce <span style=\"color: #ff00ff; text-decoration-color: #ff00ff\">is</span> <span style=\"color: #0000ff; text-decoration-color: #0000ff\">None</span>:                                                                      <span style=\"color: #800000; text-decoration-color: #800000\">│</span>\n",
       "<span style=\"color: #800000; text-decoration-color: #800000\">│</span>   <span style=\"color: #7f7f7f; text-decoration-color: #7f7f7f\">33 </span><span style=\"color: #7f7f7f; text-decoration-color: #7f7f7f\">│   │   </span>reduce = <span style=\"color: #0000ff; text-decoration-color: #0000ff\">True</span>                                                                       <span style=\"color: #800000; text-decoration-color: #800000\">│</span>\n",
       "<span style=\"color: #800000; text-decoration-color: #800000\">│</span>   <span style=\"color: #7f7f7f; text-decoration-color: #7f7f7f\">34 </span><span style=\"color: #7f7f7f; text-decoration-color: #7f7f7f\">│   </span>                                                                                        <span style=\"color: #800000; text-decoration-color: #800000\">│</span>\n",
       "<span style=\"color: #800000; text-decoration-color: #800000\">│</span> <span style=\"color: #800000; text-decoration-color: #800000\">❱ </span>35 <span style=\"color: #7f7f7f; text-decoration-color: #7f7f7f\">│   </span><span style=\"color: #0000ff; text-decoration-color: #0000ff\">if</span> size_average <span style=\"color: #ff00ff; text-decoration-color: #ff00ff\">and</span> reduce:                                                             <span style=\"color: #800000; text-decoration-color: #800000\">│</span>\n",
       "<span style=\"color: #800000; text-decoration-color: #800000\">│</span>   <span style=\"color: #7f7f7f; text-decoration-color: #7f7f7f\">36 </span><span style=\"color: #7f7f7f; text-decoration-color: #7f7f7f\">│   │   </span>ret = <span style=\"color: #808000; text-decoration-color: #808000\">'mean'</span>                                                                        <span style=\"color: #800000; text-decoration-color: #800000\">│</span>\n",
       "<span style=\"color: #800000; text-decoration-color: #800000\">│</span>   <span style=\"color: #7f7f7f; text-decoration-color: #7f7f7f\">37 </span><span style=\"color: #7f7f7f; text-decoration-color: #7f7f7f\">│   </span><span style=\"color: #0000ff; text-decoration-color: #0000ff\">elif</span> reduce:                                                                            <span style=\"color: #800000; text-decoration-color: #800000\">│</span>\n",
       "<span style=\"color: #800000; text-decoration-color: #800000\">│</span>   <span style=\"color: #7f7f7f; text-decoration-color: #7f7f7f\">38 </span><span style=\"color: #7f7f7f; text-decoration-color: #7f7f7f\">│   │   </span>ret = <span style=\"color: #808000; text-decoration-color: #808000\">'sum'</span>                                                                         <span style=\"color: #800000; text-decoration-color: #800000\">│</span>\n",
       "<span style=\"color: #800000; text-decoration-color: #800000\">╰──────────────────────────────────────────────────────────────────────────────────────────────────╯</span>\n",
       "<span style=\"color: #ff0000; text-decoration-color: #ff0000; font-weight: bold\">RuntimeError: </span>Boolean value of Tensor with more than one value is ambiguous\n",
       "</pre>\n"
      ],
      "text/plain": [
       "\u001b[31m╭─\u001b[0m\u001b[31m──────────────────────────────\u001b[0m\u001b[31m \u001b[0m\u001b[1;31mTraceback \u001b[0m\u001b[1;2;31m(most recent call last)\u001b[0m\u001b[31m \u001b[0m\u001b[31m───────────────────────────────\u001b[0m\u001b[31m─╮\u001b[0m\n",
       "\u001b[31m│\u001b[0m in \u001b[92m<module>\u001b[0m:\u001b[94m11\u001b[0m                                                                                   \u001b[31m│\u001b[0m\n",
       "\u001b[31m│\u001b[0m                                                                                                  \u001b[31m│\u001b[0m\n",
       "\u001b[31m│\u001b[0m   \u001b[2m 8 \u001b[0m                                                                                            \u001b[31m│\u001b[0m\n",
       "\u001b[31m│\u001b[0m   \u001b[2m 9 \u001b[0m                                                                                            \u001b[31m│\u001b[0m\n",
       "\u001b[31m│\u001b[0m   \u001b[2m10 \u001b[0m\u001b[94mif\u001b[0m \u001b[91m__name__\u001b[0m == \u001b[33m\"\u001b[0m\u001b[33m__main__\u001b[0m\u001b[33m\"\u001b[0m:                                                                  \u001b[31m│\u001b[0m\n",
       "\u001b[31m│\u001b[0m \u001b[31m❱ \u001b[0m11 \u001b[2m│   \u001b[0mmain()                                                                                  \u001b[31m│\u001b[0m\n",
       "\u001b[31m│\u001b[0m   \u001b[2m12 \u001b[0m                                                                                            \u001b[31m│\u001b[0m\n",
       "\u001b[31m│\u001b[0m                                                                                                  \u001b[31m│\u001b[0m\n",
       "\u001b[31m│\u001b[0m in \u001b[92mmain\u001b[0m:\u001b[94m7\u001b[0m                                                                                        \u001b[31m│\u001b[0m\n",
       "\u001b[31m│\u001b[0m                                                                                                  \u001b[31m│\u001b[0m\n",
       "\u001b[31m│\u001b[0m   \u001b[2m 4 \u001b[0m\u001b[2m│   \u001b[0m\u001b[2m#model = define_model().to(device)\u001b[0m                                                      \u001b[31m│\u001b[0m\n",
       "\u001b[31m│\u001b[0m   \u001b[2m 5 \u001b[0m\u001b[2m│   \u001b[0mmodel = define_model()                                                                  \u001b[31m│\u001b[0m\n",
       "\u001b[31m│\u001b[0m   \u001b[2m 6 \u001b[0m\u001b[2m│   \u001b[0mdiffusion = define_diffusion(model)                                                     \u001b[31m│\u001b[0m\n",
       "\u001b[31m│\u001b[0m \u001b[31m❱ \u001b[0m 7 \u001b[2m│   \u001b[0mtrain_model(dataloader, model, diffusion)                                               \u001b[31m│\u001b[0m\n",
       "\u001b[31m│\u001b[0m   \u001b[2m 8 \u001b[0m                                                                                            \u001b[31m│\u001b[0m\n",
       "\u001b[31m│\u001b[0m   \u001b[2m 9 \u001b[0m                                                                                            \u001b[31m│\u001b[0m\n",
       "\u001b[31m│\u001b[0m   \u001b[2m10 \u001b[0m\u001b[94mif\u001b[0m \u001b[91m__name__\u001b[0m == \u001b[33m\"\u001b[0m\u001b[33m__main__\u001b[0m\u001b[33m\"\u001b[0m:                                                                  \u001b[31m│\u001b[0m\n",
       "\u001b[31m│\u001b[0m                                                                                                  \u001b[31m│\u001b[0m\n",
       "\u001b[31m│\u001b[0m in \u001b[92mtrain_model\u001b[0m:\u001b[94m25\u001b[0m                                                                                \u001b[31m│\u001b[0m\n",
       "\u001b[31m│\u001b[0m                                                                                                  \u001b[31m│\u001b[0m\n",
       "\u001b[31m│\u001b[0m   \u001b[2m22 \u001b[0m\u001b[2m│   │   │   \u001b[0m\u001b[2m# Use autocast to run the forward pass in mixed precision\u001b[0m                       \u001b[31m│\u001b[0m\n",
       "\u001b[31m│\u001b[0m   \u001b[2m23 \u001b[0m\u001b[2m│   │   │   \u001b[0m\u001b[94mwith\u001b[0m autocast():                                                                \u001b[31m│\u001b[0m\n",
       "\u001b[31m│\u001b[0m   \u001b[2m24 \u001b[0m\u001b[2m│   │   │   │   \u001b[0mreconstructed_slice = model(source_slice, t)                                \u001b[31m│\u001b[0m\n",
       "\u001b[31m│\u001b[0m \u001b[31m❱ \u001b[0m25 \u001b[2m│   │   │   │   \u001b[0mloss = criterion(reconstructed_slice, target_slice)                         \u001b[31m│\u001b[0m\n",
       "\u001b[31m│\u001b[0m   \u001b[2m26 \u001b[0m\u001b[2m│   │   │   │   \u001b[0msave_image(reconstructed_slice,\u001b[33m'\u001b[0m\u001b[33mreconstruct_\u001b[0m\u001b[33m'\u001b[0m+\u001b[96mstr\u001b[0m(epoch)+\u001b[33m'\u001b[0m\u001b[33m_\u001b[0m\u001b[33m'\u001b[0m+\u001b[96mstr\u001b[0m(cpt)+\u001b[33m'\u001b[0m\u001b[33m.\u001b[0m    \u001b[31m│\u001b[0m\n",
       "\u001b[31m│\u001b[0m   \u001b[2m27 \u001b[0m\u001b[2m│   │   │   \u001b[0m                                                                                \u001b[31m│\u001b[0m\n",
       "\u001b[31m│\u001b[0m   \u001b[2m28 \u001b[0m\u001b[2m│   │   │   \u001b[0m\u001b[2m# Use GradScaler to scale the loss and call backward\u001b[0m                            \u001b[31m│\u001b[0m\n",
       "\u001b[31m│\u001b[0m                                                                                                  \u001b[31m│\u001b[0m\n",
       "\u001b[31m│\u001b[0m \u001b[2;33m/home/romain/.local/lib/python3.7/site-packages/torch/nn/modules/\u001b[0m\u001b[1;33mloss.py\u001b[0m:\u001b[94m467\u001b[0m in \u001b[92m__init__\u001b[0m         \u001b[31m│\u001b[0m\n",
       "\u001b[31m│\u001b[0m                                                                                                  \u001b[31m│\u001b[0m\n",
       "\u001b[31m│\u001b[0m   \u001b[2m 464 \u001b[0m\u001b[2m│   \u001b[0m__constants__ = [\u001b[33m'\u001b[0m\u001b[33mreduction\u001b[0m\u001b[33m'\u001b[0m]                                                         \u001b[31m│\u001b[0m\n",
       "\u001b[31m│\u001b[0m   \u001b[2m 465 \u001b[0m\u001b[2m│   \u001b[0m                                                                                      \u001b[31m│\u001b[0m\n",
       "\u001b[31m│\u001b[0m   \u001b[2m 466 \u001b[0m\u001b[2m│   \u001b[0m\u001b[94mdef\u001b[0m \u001b[92m__init__\u001b[0m(\u001b[96mself\u001b[0m, size_average=\u001b[94mNone\u001b[0m, reduce=\u001b[94mNone\u001b[0m, reduction: \u001b[96mstr\u001b[0m = \u001b[33m'\u001b[0m\u001b[33mmean\u001b[0m\u001b[33m'\u001b[0m, log_targ  \u001b[31m│\u001b[0m\n",
       "\u001b[31m│\u001b[0m \u001b[31m❱ \u001b[0m 467 \u001b[2m│   │   \u001b[0m\u001b[96msuper\u001b[0m(KLDivLoss, \u001b[96mself\u001b[0m).\u001b[92m__init__\u001b[0m(size_average, reduce, reduction)                  \u001b[31m│\u001b[0m\n",
       "\u001b[31m│\u001b[0m   \u001b[2m 468 \u001b[0m\u001b[2m│   │   \u001b[0m\u001b[96mself\u001b[0m.log_target = log_target                                                      \u001b[31m│\u001b[0m\n",
       "\u001b[31m│\u001b[0m   \u001b[2m 469 \u001b[0m\u001b[2m│   \u001b[0m                                                                                      \u001b[31m│\u001b[0m\n",
       "\u001b[31m│\u001b[0m   \u001b[2m 470 \u001b[0m\u001b[2m│   \u001b[0m\u001b[94mdef\u001b[0m \u001b[92mforward\u001b[0m(\u001b[96mself\u001b[0m, \u001b[96minput\u001b[0m: Tensor, target: Tensor) -> Tensor:                           \u001b[31m│\u001b[0m\n",
       "\u001b[31m│\u001b[0m                                                                                                  \u001b[31m│\u001b[0m\n",
       "\u001b[31m│\u001b[0m \u001b[2;33m/home/romain/.local/lib/python3.7/site-packages/torch/nn/modules/\u001b[0m\u001b[1;33mloss.py\u001b[0m:\u001b[94m23\u001b[0m in \u001b[92m__init__\u001b[0m          \u001b[31m│\u001b[0m\n",
       "\u001b[31m│\u001b[0m                                                                                                  \u001b[31m│\u001b[0m\n",
       "\u001b[31m│\u001b[0m   \u001b[2m  20 \u001b[0m\u001b[2m│   \u001b[0m\u001b[94mdef\u001b[0m \u001b[92m__init__\u001b[0m(\u001b[96mself\u001b[0m, size_average=\u001b[94mNone\u001b[0m, reduce=\u001b[94mNone\u001b[0m, reduction: \u001b[96mstr\u001b[0m = \u001b[33m'\u001b[0m\u001b[33mmean\u001b[0m\u001b[33m'\u001b[0m) -> \u001b[94mNone\u001b[0m:  \u001b[31m│\u001b[0m\n",
       "\u001b[31m│\u001b[0m   \u001b[2m  21 \u001b[0m\u001b[2m│   │   \u001b[0m\u001b[96msuper\u001b[0m(_Loss, \u001b[96mself\u001b[0m).\u001b[92m__init__\u001b[0m()                                                     \u001b[31m│\u001b[0m\n",
       "\u001b[31m│\u001b[0m   \u001b[2m  22 \u001b[0m\u001b[2m│   │   \u001b[0m\u001b[94mif\u001b[0m size_average \u001b[95mis\u001b[0m \u001b[95mnot\u001b[0m \u001b[94mNone\u001b[0m \u001b[95mor\u001b[0m reduce \u001b[95mis\u001b[0m \u001b[95mnot\u001b[0m \u001b[94mNone\u001b[0m:                                \u001b[31m│\u001b[0m\n",
       "\u001b[31m│\u001b[0m \u001b[31m❱ \u001b[0m  23 \u001b[2m│   │   │   \u001b[0m\u001b[96mself\u001b[0m.reduction: \u001b[96mstr\u001b[0m = _Reduction.legacy_get_string(size_average, reduce)      \u001b[31m│\u001b[0m\n",
       "\u001b[31m│\u001b[0m   \u001b[2m  24 \u001b[0m\u001b[2m│   │   \u001b[0m\u001b[94melse\u001b[0m:                                                                             \u001b[31m│\u001b[0m\n",
       "\u001b[31m│\u001b[0m   \u001b[2m  25 \u001b[0m\u001b[2m│   │   │   \u001b[0m\u001b[96mself\u001b[0m.reduction = reduction                                                    \u001b[31m│\u001b[0m\n",
       "\u001b[31m│\u001b[0m   \u001b[2m  26 \u001b[0m                                                                                          \u001b[31m│\u001b[0m\n",
       "\u001b[31m│\u001b[0m                                                                                                  \u001b[31m│\u001b[0m\n",
       "\u001b[31m│\u001b[0m \u001b[2;33m/home/romain/.local/lib/python3.7/site-packages/torch/nn/\u001b[0m\u001b[1;33m_reduction.py\u001b[0m:\u001b[94m35\u001b[0m in \u001b[92mlegacy_get_string\u001b[0m   \u001b[31m│\u001b[0m\n",
       "\u001b[31m│\u001b[0m                                                                                                  \u001b[31m│\u001b[0m\n",
       "\u001b[31m│\u001b[0m   \u001b[2m32 \u001b[0m\u001b[2m│   \u001b[0m\u001b[94mif\u001b[0m reduce \u001b[95mis\u001b[0m \u001b[94mNone\u001b[0m:                                                                      \u001b[31m│\u001b[0m\n",
       "\u001b[31m│\u001b[0m   \u001b[2m33 \u001b[0m\u001b[2m│   │   \u001b[0mreduce = \u001b[94mTrue\u001b[0m                                                                       \u001b[31m│\u001b[0m\n",
       "\u001b[31m│\u001b[0m   \u001b[2m34 \u001b[0m\u001b[2m│   \u001b[0m                                                                                        \u001b[31m│\u001b[0m\n",
       "\u001b[31m│\u001b[0m \u001b[31m❱ \u001b[0m35 \u001b[2m│   \u001b[0m\u001b[94mif\u001b[0m size_average \u001b[95mand\u001b[0m reduce:                                                             \u001b[31m│\u001b[0m\n",
       "\u001b[31m│\u001b[0m   \u001b[2m36 \u001b[0m\u001b[2m│   │   \u001b[0mret = \u001b[33m'\u001b[0m\u001b[33mmean\u001b[0m\u001b[33m'\u001b[0m                                                                        \u001b[31m│\u001b[0m\n",
       "\u001b[31m│\u001b[0m   \u001b[2m37 \u001b[0m\u001b[2m│   \u001b[0m\u001b[94melif\u001b[0m reduce:                                                                            \u001b[31m│\u001b[0m\n",
       "\u001b[31m│\u001b[0m   \u001b[2m38 \u001b[0m\u001b[2m│   │   \u001b[0mret = \u001b[33m'\u001b[0m\u001b[33msum\u001b[0m\u001b[33m'\u001b[0m                                                                         \u001b[31m│\u001b[0m\n",
       "\u001b[31m╰──────────────────────────────────────────────────────────────────────────────────────────────────╯\u001b[0m\n",
       "\u001b[1;91mRuntimeError: \u001b[0mBoolean value of Tensor with more than one value is ambiguous\n"
      ]
     },
     "metadata": {},
     "output_type": "display_data"
    }
   ],
   "source": [
    "def main():\n",
    "    #device = torch.device(\"cuda\" if torch.cuda.is_available() else \"cpu\")\n",
    "    dataloader = load_data()\n",
    "    #model = define_model().to(device)\n",
    "    model = define_model()\n",
    "    diffusion = define_diffusion(model)\n",
    "    train_model(dataloader, model, diffusion)\n",
    "\n",
    "\n",
    "if __name__ == \"__main__\":\n",
    "    main()"
   ]
  },
  {
   "cell_type": "code",
   "execution_count": null,
   "id": "02181add-b90e-4620-91a5-d976e024a165",
   "metadata": {},
   "outputs": [],
   "source": [
    "#source_image_path = \"/home/youssef/harmo_4/test_data/Pat42_CHU_zscore_minmax_unbias.nii.gz\"\n",
    "#target_image_path = \"/home/youssef/harmo_4/test_data/Pat42_COL_zscore_minmax_unbias.nii.gz\"\n",
    "source_image_path = \"/home/youssef/harmo_4/training_data/Pat8_CHU_zscore_minmax_unbias.nii.gz\"\n",
    "target_image_path = \"/home/youssef/harmo_4/training_data/Pat8_COL_zscore_minmax_unbias.nii.gz\"\n",
    "model_path = \"/home/youssef/harmo_4/trained_model/savedmodel_different_model_pat8.pt\"\n",
    "\n",
    "generate_harmonized_image(model_path, source_image_path, target_image_path)\n",
    "#generate_harmonized_image('savedmodel.pt', source_image_path, target_image_path)"
   ]
  }
 ],
 "metadata": {
  "kernelspec": {
   "display_name": "Python 3 (ipykernel)",
   "language": "python",
   "name": "python3"
  },
  "language_info": {
   "codemirror_mode": {
    "name": "ipython",
    "version": 3
   },
   "file_extension": ".py",
   "mimetype": "text/x-python",
   "name": "python",
   "nbconvert_exporter": "python",
   "pygments_lexer": "ipython3",
   "version": "3.7.16"
  }
 },
 "nbformat": 4,
 "nbformat_minor": 5
}
