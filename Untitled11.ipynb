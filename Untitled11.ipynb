{
 "cells": [
  {
   "cell_type": "code",
   "execution_count": 2,
   "id": "senior-serbia",
   "metadata": {},
   "outputs": [
    {
     "name": "stderr",
     "output_type": "stream",
     "text": [
      "/home/global/anaconda37/lib/python3.7/site-packages/ipykernel_launcher.py:2: UserWarning: The DICOM readers are highly experimental, unstable, and only work for Siemens time-series at the moment\n",
      "Please use with caution.  We would be grateful for your help in improving them\n",
      "  \n"
     ]
    }
   ],
   "source": [
    "import pydicom as pydicom\n",
    "import nibabel.nicom.csareader as csareader\n",
    "\n",
    "rowcol_to_niftidim = {'COL': 'i', 'ROW': 'j'}\n",
    "pedp_to_sign = {0: '-', 1: ''} \n",
    "\n",
    "def get_bids_phase_encoding_direction(dicom_path):\n",
    "    \"\"\"Return BIDS PhaseEncodingDirection string (i, j, k, i-, j-, k-) for DICOM at dicom_path.\n",
    "\n",
    "    NOTE: work-in-progress\n",
    "    \"\"\" \n",
    "    dcm = pydicom.read_file(dicom_path)\n",
    "    inplane_pe_dir = dcm_pa[int('00181312', 16)].value\n",
    "    csa_str = dcm[int('00291010', 16)].value\n",
    "    csa_tr = csareader.read(csa_str)\n",
    "    pedp = csa_tr['tags']['PhaseEncodingDirectionPositive']['items'][0]\n",
    "    ij = rowcol_to_niftidim[inplane_pe_dir]\n",
    "    sign = pedp_to_sign[pedp]\n",
    "    return '{}{}'.format(ij, sign)"
   ]
  },
  {
   "cell_type": "code",
   "execution_count": 4,
   "id": "lyric-recipe",
   "metadata": {},
   "outputs": [
    {
     "ename": "NameError",
     "evalue": "name 'dcm_pa' is not defined",
     "output_type": "error",
     "traceback": [
      "\u001b[0;31m---------------------------------------------------------------------------\u001b[0m",
      "\u001b[0;31mNameError\u001b[0m                                 Traceback (most recent call last)",
      "\u001b[0;32m<ipython-input-4-8a15bb71a0a8>\u001b[0m in \u001b[0;36m<module>\u001b[0;34m\u001b[0m\n\u001b[0;32m----> 1\u001b[0;31m \u001b[0mget_bids_phase_encoding_direction\u001b[0m\u001b[0;34m(\u001b[0m\u001b[0;34m\"/NAS/deathrow/mri_data/test_NAILA/Tests_Dti_Multi_Shells/data/RVMULTIB^X_I_CERE_2020-09-16/301_DTI-baseABCD_Fieldmap_P/MR_1.3.46.670589.11.34037.5.0.6976.2020091610333807656.dcm\"\u001b[0m\u001b[0;34m)\u001b[0m\u001b[0;34m\u001b[0m\u001b[0;34m\u001b[0m\u001b[0m\n\u001b[0m",
      "\u001b[0;32m<ipython-input-2-f01ef44a4a3a>\u001b[0m in \u001b[0;36mget_bids_phase_encoding_direction\u001b[0;34m(dicom_path)\u001b[0m\n\u001b[1;32m     11\u001b[0m     \"\"\" \n\u001b[1;32m     12\u001b[0m     \u001b[0mdcm\u001b[0m \u001b[0;34m=\u001b[0m \u001b[0mpydicom\u001b[0m\u001b[0;34m.\u001b[0m\u001b[0mread_file\u001b[0m\u001b[0;34m(\u001b[0m\u001b[0mdicom_path\u001b[0m\u001b[0;34m)\u001b[0m\u001b[0;34m\u001b[0m\u001b[0;34m\u001b[0m\u001b[0m\n\u001b[0;32m---> 13\u001b[0;31m     \u001b[0minplane_pe_dir\u001b[0m \u001b[0;34m=\u001b[0m \u001b[0mdcm_pa\u001b[0m\u001b[0;34m[\u001b[0m\u001b[0mint\u001b[0m\u001b[0;34m(\u001b[0m\u001b[0;34m'00181312'\u001b[0m\u001b[0;34m,\u001b[0m \u001b[0;36m16\u001b[0m\u001b[0;34m)\u001b[0m\u001b[0;34m]\u001b[0m\u001b[0;34m.\u001b[0m\u001b[0mvalue\u001b[0m\u001b[0;34m\u001b[0m\u001b[0;34m\u001b[0m\u001b[0m\n\u001b[0m\u001b[1;32m     14\u001b[0m     \u001b[0mcsa_str\u001b[0m \u001b[0;34m=\u001b[0m \u001b[0mdcm\u001b[0m\u001b[0;34m[\u001b[0m\u001b[0mint\u001b[0m\u001b[0;34m(\u001b[0m\u001b[0;34m'00291010'\u001b[0m\u001b[0;34m,\u001b[0m \u001b[0;36m16\u001b[0m\u001b[0;34m)\u001b[0m\u001b[0;34m]\u001b[0m\u001b[0;34m.\u001b[0m\u001b[0mvalue\u001b[0m\u001b[0;34m\u001b[0m\u001b[0;34m\u001b[0m\u001b[0m\n\u001b[1;32m     15\u001b[0m     \u001b[0mcsa_tr\u001b[0m \u001b[0;34m=\u001b[0m \u001b[0mcsareader\u001b[0m\u001b[0;34m.\u001b[0m\u001b[0mread\u001b[0m\u001b[0;34m(\u001b[0m\u001b[0mcsa_str\u001b[0m\u001b[0;34m)\u001b[0m\u001b[0;34m\u001b[0m\u001b[0;34m\u001b[0m\u001b[0m\n",
      "\u001b[0;31mNameError\u001b[0m: name 'dcm_pa' is not defined"
     ]
    }
   ],
   "source": [
    "get_bids_phase_encoding_direction(\"/NAS/deathrow/mri_data/test_NAILA/Tests_Dti_Multi_Shells/data/RVMULTIB^X_I_CERE_2020-09-16/301_DTI-baseABCD_Fieldmap_P/MR_1.3.46.670589.11.34037.5.0.6976.2020091610333807656.dcm\")"
   ]
  }
 ],
 "metadata": {
  "kernelspec": {
   "display_name": "Python 3",
   "language": "python",
   "name": "python3"
  },
  "language_info": {
   "codemirror_mode": {
    "name": "ipython",
    "version": 3
   },
   "file_extension": ".py",
   "mimetype": "text/x-python",
   "name": "python",
   "nbconvert_exporter": "python",
   "pygments_lexer": "ipython3",
   "version": "3.7.6"
  }
 },
 "nbformat": 4,
 "nbformat_minor": 5
}
