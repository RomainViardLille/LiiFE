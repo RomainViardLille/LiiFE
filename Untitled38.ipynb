{
 "cells": [
  {
   "cell_type": "code",
   "execution_count": 1,
   "id": "4396bf51",
   "metadata": {},
   "outputs": [],
   "source": [
    "import os\n",
    "import nibabel as nib\n",
    "import numpy as np"
   ]
  },
  {
   "cell_type": "code",
   "execution_count": 2,
   "id": "e68501ff",
   "metadata": {},
   "outputs": [],
   "source": [
    "#data_dir = \"/NAS/dumbo/protocoles/HAMSI/OurData4Mispel_T1Gado/Normalized\""
   ]
  },
  {
   "cell_type": "code",
   "execution_count": 3,
   "id": "9f391690",
   "metadata": {},
   "outputs": [],
   "source": [
    "patient_ids = [\n",
    "    \"Pat8\", \"Pat9\", \"Pat11\", \"Pat13\", \"Pat14\", \"Pat15\", \"Pat16\", \"Pat17\", \"Pat19\", \"Pat21\",\n",
    "    \"Pat23\", \"Pat24\", \"Pat25\", \"Pat27\", \"Pat29\", \"Pat30\", \"Pat31\", \"Pat32\", \"Pat33\", \"Pat34\",\n",
    "    \"Pat35\", \"Pat36\", \"Pat38\", \"Pat40\", \"Pat41\", \"Pat42\", \"Pat44\", \"Pat46\", \"Pat47\", \"Pat48\",\n",
    "    \"Pat49\", \"Pat50\", \"Pat51\", \"Pat52\", \"Pat54\", \"Pat57\", \"Pat58\", \"Pat62\", \"Pat68\", \"Pat76\",\n",
    "    \"Pat77\", \"Pat79\", \"Pat80\", \"Pat81\", \"Pat83\", \"Pat86\", \"Pat87\", \"Pat88\", \"Pat90\", \"Pat91\",\n",
    "    \"Pat92\", \"Pat93\", \"Pat94\", \"Pat95\", \"Pat99\", \"Pat100\", \"Pat101\", \"Pat102\", \"Pat103\", \"Pat104\",\n",
    "    \"Pat105\", \"Pat107\", \"Pat109\", \"Pat112\", \"Pat113\", \"Pat114\", \"Pat115\", \"Pat116\", \"Pat118\",\n",
    "    \"Pat119\", \"Pat120\", \"Pat122\", \"Pat124\", \"Pat125\", \"Pat126\", \"Pat127\", \"Pat128\", \"Pat129\",\n",
    "    \"Pat130\", \"Pat132\", \"Pat133\", \"Pat134\", \"Pat135\", \"Pat136\", \"Pat137\", \"Pat138\", \"Pat139\",\n",
    "    \"Pat140\", \"Pat141\", \"Pat143\", \"Pat144\", \"Pat145\", \"Pat146\", \"Pat147\", \"Pat174\"\n",
    "]\n"
   ]
  },
  {
   "cell_type": "code",
   "execution_count": 4,
   "id": "61cc1a50",
   "metadata": {},
   "outputs": [],
   "source": [
    "def load_mri_data(patient_id, machine):\n",
    "    if machine == \"CHU\":\n",
    "        image_filename = f\"{patient_id}_T1Gado_CHU_brain_zscore.nii.gz\"\n",
    "    elif machine == \"COL\":\n",
    "        image_filename = f\"{patient_id}_COL_registered_zscore.nii.gz\"\n",
    "    else:\n",
    "        return None  # Handle unsupported machines\n",
    "    \n",
    "    file_path = os.path.join(data_dir, image_filename)\n",
    "    \n",
    "    if os.path.exists(file_path):\n",
    "        img = nib.load(file_path)\n",
    "        data = img.get_fdata()\n",
    "        return data\n",
    "    else:\n",
    "        return None"
   ]
  },
  {
   "cell_type": "code",
   "execution_count": 5,
   "id": "4ffe5fd8",
   "metadata": {},
   "outputs": [
    {
     "ename": "SyntaxError",
     "evalue": "unexpected EOF while parsing (212773946.py, line 6)",
     "output_type": "error",
     "traceback": [
      "\u001b[0;36m  File \u001b[0;32m\"/tmp/ipykernel_1048363/212773946.py\"\u001b[0;36m, line \u001b[0;32m6\u001b[0m\n\u001b[0;31m    if mri_data is not None:\u001b[0m\n\u001b[0m                            ^\u001b[0m\n\u001b[0;31mSyntaxError\u001b[0m\u001b[0;31m:\u001b[0m unexpected EOF while parsing\n"
     ]
    }
   ],
   "source": [
    "machines = [\"COL\", \"CHU\"]\n",
    "\n",
    "for patient_id in patient_ids:\n",
    "    for machine in machines:\n",
    "        mri_data = load_mri_data(patient_id, machine)\n",
    "        if mri_data is not None:"
   ]
  },
  {
   "cell_type": "code",
   "execution_count": null,
   "id": "3cbe47cf",
   "metadata": {},
   "outputs": [],
   "source": []
  }
 ],
 "metadata": {
  "kernelspec": {
   "display_name": "Python 3 (ipykernel)",
   "language": "python",
   "name": "python3"
  },
  "language_info": {
   "codemirror_mode": {
    "name": "ipython",
    "version": 3
   },
   "file_extension": ".py",
   "mimetype": "text/x-python",
   "name": "python",
   "nbconvert_exporter": "python",
   "pygments_lexer": "ipython3",
   "version": "3.7.6"
  }
 },
 "nbformat": 4,
 "nbformat_minor": 5
}
