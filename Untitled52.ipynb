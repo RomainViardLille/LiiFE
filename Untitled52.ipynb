{
 "cells": [
  {
   "cell_type": "code",
   "execution_count": 45,
   "id": "bb3078df",
   "metadata": {},
   "outputs": [
    {
     "name": "stdout",
     "output_type": "stream",
     "text": [
      " 0.12\n",
      " 0.26\n",
      " 0.36\n",
      " 0.45\n",
      " 0.64\n"
     ]
    }
   ],
   "source": [
    "import pandas as pd\n",
    "import numpy as np\n",
    "\n",
    "file_path = \"/home/youssef/Downloads/results_raw(1).csv\"\n",
    "df = pd.read_csv(file_path)\n",
    "\n",
    "pearson_correlation_values = df[\"Pearson Correlation\"].tolist()\n",
    "\n",
    "quantiles = np.quantile(pearson_correlation_values, [0, 0.25, 0.5, 0.75, 1])\n",
    "\n",
    "for i, q in enumerate([0, 0.25, 0.5, 0.75, 1]):\n",
    "    print(f\" {quantiles[i]:.2f}\")\n",
    "\n",
    "\n"
   ]
  },
  {
   "cell_type": "code",
   "execution_count": 40,
   "id": "f25a076d",
   "metadata": {},
   "outputs": [
    {
     "name": "stdout",
     "output_type": "stream",
     "text": [
      "^C\n",
      "Traceback (most recent call last):\n",
      "  File \"/home/global/anaconda37/lib/python3.7/runpy.py\", line 193, in _run_module_as_main\n",
      "    \"__main__\", mod_spec)\n",
      "  File \"/home/global/anaconda37/lib/python3.7/runpy.py\", line 85, in _run_code\n",
      "    exec(code, run_globals)\n",
      "  File \"/home/global/anaconda37/lib/python3.7/site-packages/pip/__main__.py\", line 31, in <module>\n",
      "    sys.exit(_main())\n",
      "  File \"/home/global/anaconda37/lib/python3.7/site-packages/pip/_internal/cli/main.py\", line 68, in main\n",
      "    command = create_command(cmd_name, isolated=(\"--isolated\" in cmd_args))\n",
      "  File \"/home/global/anaconda37/lib/python3.7/site-packages/pip/_internal/commands/__init__.py\", line 94, in create_command\n",
      "    module = importlib.import_module(module_path)\n",
      "  File \"/home/global/anaconda37/lib/python3.7/importlib/__init__.py\", line 127, in import_module\n",
      "    return _bootstrap._gcd_import(name[level:], package, level)\n",
      "  File \"<frozen importlib._bootstrap>\", line 1006, in _gcd_import\n",
      "  File \"<frozen importlib._bootstrap>\", line 983, in _find_and_load\n",
      "  File \"<frozen importlib._bootstrap>\", line 967, in _find_and_load_unlocked\n",
      "  File \"<frozen importlib._bootstrap>\", line 677, in _load_unlocked\n",
      "  File \"<frozen importlib._bootstrap_external>\", line 728, in exec_module\n",
      "  File \"<frozen importlib._bootstrap>\", line 219, in _call_with_frames_removed\n",
      "  File \"/home/global/anaconda37/lib/python3.7/site-packages/pip/_internal/commands/install.py\", line 14, in <module>\n",
      "    from pip._internal.cli.req_command import (\n",
      "  File \"/home/global/anaconda37/lib/python3.7/site-packages/pip/_internal/cli/req_command.py\", line 20, in <module>\n",
      "    from pip._internal.index.collector import LinkCollector\n",
      "  File \"/home/global/anaconda37/lib/python3.7/site-packages/pip/_internal/index/collector.py\", line 35, in <module>\n",
      "    from pip._internal.network.session import PipSession\n",
      "  File \"/home/global/anaconda37/lib/python3.7/site-packages/pip/_internal/network/session.py\", line 40, in <module>\n",
      "    from pip._internal.network.auth import MultiDomainBasicAuth\n",
      "  File \"/home/global/anaconda37/lib/python3.7/site-packages/pip/_internal/network/auth.py\", line 29, in <module>\n",
      "    import keyring\n",
      "  File \"/home/global/anaconda37/lib/python3.7/site-packages/keyring/__init__.py\", line 1, in <module>\n",
      "    from .core import (\n",
      "  File \"/home/global/anaconda37/lib/python3.7/site-packages/keyring/core.py\", line 11, in <module>\n",
      "    from . import backend, credentials\n",
      "  File \"/home/global/anaconda37/lib/python3.7/site-packages/keyring/backend.py\", line 14, in <module>\n",
      "    from . import credentials, errors, util\n",
      "  File \"<frozen importlib._bootstrap>\", line 983, in _find_and_load\n",
      "  File \"<frozen importlib._bootstrap>\", line 967, in _find_and_load_unlocked\n",
      "  File \"<frozen importlib._bootstrap>\", line 677, in _load_unlocked\n",
      "  File \"<frozen importlib._bootstrap_external>\", line 724, in exec_module\n",
      "  File \"<frozen importlib._bootstrap_external>\", line 818, in get_code\n",
      "  File \"<frozen importlib._bootstrap_external>\", line 917, in get_data\n",
      "KeyboardInterrupt\n",
      "Note: you may need to restart the kernel to use updated packages.\n"
     ]
    }
   ],
   "source": [
    "pip install odfpy\n"
   ]
  },
  {
   "cell_type": "code",
   "execution_count": null,
   "id": "f4b2a780",
   "metadata": {},
   "outputs": [],
   "source": []
  }
 ],
 "metadata": {
  "kernelspec": {
   "display_name": "Python 3 (ipykernel)",
   "language": "python",
   "name": "python3"
  },
  "language_info": {
   "codemirror_mode": {
    "name": "ipython",
    "version": 3
   },
   "file_extension": ".py",
   "mimetype": "text/x-python",
   "name": "python",
   "nbconvert_exporter": "python",
   "pygments_lexer": "ipython3",
   "version": "3.7.6"
  }
 },
 "nbformat": 4,
 "nbformat_minor": 5
}
