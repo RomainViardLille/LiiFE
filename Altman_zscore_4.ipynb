{
 "cells": [
  {
   "cell_type": "code",
   "execution_count": 1,
   "id": "18c1a923",
   "metadata": {},
   "outputs": [],
   "source": [
    "import nibabel as nib\n",
    "import numpy as np\n",
    "from scipy.ndimage import zoom\n",
    "import matplotlib.pyplot as plt"
   ]
  },
  {
   "cell_type": "code",
   "execution_count": 2,
   "id": "7444005b",
   "metadata": {},
   "outputs": [],
   "source": [
    "brain_image1_path = \"/NAS/dumbo/protocoles/HAMSI/OurData4Mispel_T1Gado/Brains/CHU/Pat8_T1Gado_CHU_brain.nii.gz\"\n",
    "brain_image2_path = \"/NAS/dumbo/protocoles/HAMSI/OurData4Mispel_T1Gado/Brains_Registered/COL_registred_on_CHU/Pat8_COL_registered.nii.gz\"\n",
    "\n",
    "# Paths to the masks\n",
    "mask1_path = \"/NAS/dumbo/protocoles/HAMSI/OurData4Mispel_T1Gado/Before_prettt_mask/CHU/Pat8_T1Gado_CHU_bet_mask.nii.gz\"\n",
    "mask2_path = \"/NAS/dumbo/protocoles/HAMSI/OurData4Mispel_T1Gado/Masks_Registered/COL_mask_registred/Pat8_COL_mask_registered.nii.gz\"\n",
    "\n",
    "# Load the images and masks\n",
    "brain_image1 = nib.load(brain_image1_path)\n",
    "brain_image2 = nib.load(brain_image2_path)\n",
    "mask1 = nib.load(mask1_path).get_fdata()\n",
    "mask2 = nib.load(mask2_path).get_fdata()"
   ]
  },
  {
   "cell_type": "code",
   "execution_count": 3,
   "id": "798420a9",
   "metadata": {},
   "outputs": [],
   "source": [
    "mean1 = np.mean(brain_image1.get_fdata()[mask1 > 0])\n",
    "std1 = np.std(brain_image1.get_fdata()[mask1 > 0])\n",
    "mean2 = np.mean(brain_image2.get_fdata()[mask2 > 0])\n",
    "std2 = np.std(brain_image2.get_fdata()[mask2 > 0])\n",
    "\n",
    "# Z-score normalization for both images\n",
    "normalized_data1 = (brain_image1.get_fdata() - mean1) / std1\n",
    "normalized_data2 = (brain_image2.get_fdata() - mean2) / std2\n",
    "\n",
    "# Create new NIfTI images with the normalized data\n",
    "normalized_image1 = nib.Nifti1Image(normalized_data1, affine=brain_image1.affine)\n",
    "normalized_image2 = nib.Nifti1Image(normalized_data2, affine=brain_image2.affine)\n",
    "\n"
   ]
  },
  {
   "cell_type": "code",
   "execution_count": null,
   "id": "b7cfb998",
   "metadata": {},
   "outputs": [],
   "source": [
    "def bland_altman_plot(data1, data2):\n",
    "    \n",
    "\n",
    "    \n",
    "    mean = (data1.get_fdata() + data2.get_fdata()) / 2\n",
    "    diff = data1.get_fdata() - data2.get_fdata()\n",
    "\n",
    "    mean_diff = np.mean(diff)\n",
    "    std_diff = np.std(diff, ddof=1)\n",
    "    lower_limit = mean_diff - 1.96 * std_diff\n",
    "    upper_limit = mean_diff + 1.96 * std_diff\n",
    "\n",
    "    \n",
    "    non_zero_diff = diff[diff != 0]\n",
    "\n",
    "    #percent_non_zero_diff = len(non_zero_diff) / len(diff) * 100\n",
    "\n",
    "    plt.figure(figsize=(8, 6))\n",
    "    plt.scatter(mean, diff, c='b', alpha=0.5, s=30)\n",
    "    plt.axhline(mean_diff, color='red', linestyle='--', linewidth=2)\n",
    "    plt.axhline(lower_limit, color='green', linestyle='--', linewidth=1)\n",
    "    plt.axhline(upper_limit, color='green', linestyle='--', linewidth=1)\n",
    "    plt.xlabel('Moyenne des deux mesures')\n",
    "    plt.ylabel('Différence entre les mesures')\n",
    "    plt.title('Bland-Altman Plot')\n",
    "    plt.grid(True)\n",
    "\n",
    "    #plt.text(0.05, 0.1, f'Non-zero differences: {percent_non_zero_diff:.2f}%', transform=plt.gca().transAxes)\n",
    "    \n",
    "    # Show the plot\n",
    "    plt.show()\n",
    "\n",
    "# Create the Bland-Altman plot for the normalized images\n",
    "bland_altman_plot(normalized_image1, normalized_image2)"
   ]
  },
  {
   "cell_type": "code",
   "execution_count": null,
   "id": "602e9e7e",
   "metadata": {},
   "outputs": [],
   "source": []
  }
 ],
 "metadata": {
  "kernelspec": {
   "display_name": "Python 3 (ipykernel)",
   "language": "python",
   "name": "python3"
  },
  "language_info": {
   "codemirror_mode": {
    "name": "ipython",
    "version": 3
   },
   "file_extension": ".py",
   "mimetype": "text/x-python",
   "name": "python",
   "nbconvert_exporter": "python",
   "pygments_lexer": "ipython3",
   "version": "3.7.6"
  }
 },
 "nbformat": 4,
 "nbformat_minor": 5
}
