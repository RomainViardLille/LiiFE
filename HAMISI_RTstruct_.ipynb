{
 "cells": [
  {
   "cell_type": "code",
   "execution_count": null,
   "id": "4171260e",
   "metadata": {
    "scrolled": true
   },
   "outputs": [],
   "source": [
    "import os\n",
    "import glob\n",
    "\n",
    "try:\n",
    "    import platipy\n",
    "except:\n",
    "    !pip install git+https://github.com/pyplati/platipy.git\n",
    "    import platipy\n",
    "\n",
    "from pathlib import Path\n",
    "\n",
    "from platipy.dicom.io.rtstruct_to_nifti import convert_rtstruct\n",
    "from platipy.imaging.tests.data import get_lung_dicom"
   ]
  },
  {
   "cell_type": "code",
   "execution_count": 8,
   "id": "dd15c9ef",
   "metadata": {},
   "outputs": [],
   "source": [
    "STUDY_DIR=os.path.join(\"/NAS\",\"dumbo\",\"protocoles\",\"HAMSI\")\n",
    "#ct_path = dcm_path.joinpath(STUDY_DIR,)\n",
    "#rts_path = dcm_path.joinpath(STUDY_DIR,)"
   ]
  },
  {
   "cell_type": "code",
   "execution_count": 5,
   "id": "b3f3812d",
   "metadata": {},
   "outputs": [],
   "source": []
  },
  {
   "cell_type": "code",
   "execution_count": 21,
   "id": "e366a4a9",
   "metadata": {},
   "outputs": [],
   "source": [
    "RT=set()\n",
    "for file in glob.glob(os.path.join(STUDY_DIR,\"data\",\"RTStruct\",\"*\",\"COL1\",\"T1_SPACE_Gd\",\"RS*.dcm\")):\n",
    "    RT.add(file.split(\"/\")[7])\n",
    "\n",
    "T1gd=set()\n",
    "for file in glob.glob(os.path.join(STUDY_DIR,\"OurData4Mispel_T1Gado\",\"data4PDDM\",\"Pat*\",\"Pat*_COL.nii.gz\")):\n",
    "    T1gd.add(file.split(\"/\")[7][3:])\n"
   ]
  },
  {
   "cell_type": "code",
   "execution_count": 23,
   "id": "04376377",
   "metadata": {},
   "outputs": [
    {
     "data": {
      "text/plain": [
       "{'100',\n",
       " '101',\n",
       " '103',\n",
       " '104',\n",
       " '105',\n",
       " '107',\n",
       " '109',\n",
       " '112',\n",
       " '113',\n",
       " '114',\n",
       " '116',\n",
       " '118',\n",
       " '119',\n",
       " '124',\n",
       " '126',\n",
       " '127',\n",
       " '128',\n",
       " '129',\n",
       " '130',\n",
       " '132',\n",
       " '133',\n",
       " '134',\n",
       " '135',\n",
       " '136',\n",
       " '139',\n",
       " '141',\n",
       " '143',\n",
       " '145',\n",
       " '146',\n",
       " '174'}"
      ]
     },
     "execution_count": 23,
     "metadata": {},
     "output_type": "execute_result"
    }
   ],
   "source": [
    "T1gd.intersection(RT)"
   ]
  },
  {
   "cell_type": "code",
   "execution_count": 15,
   "id": "bf79b3c3",
   "metadata": {},
   "outputs": [
    {
     "data": {
      "text/plain": [
       "'/NAS/dumbo/protocoles/HAMSI/data/RTStruct/COL1/T1_SPACE_Gd/RS*.dcm'"
      ]
     },
     "execution_count": 15,
     "metadata": {},
     "output_type": "execute_result"
    }
   ],
   "source": [
    "os.path.join(STUDY_DIR,\"data\",\"RTStruct\",\"*\",\"COL1\",\"T1_SPACE_Gd\",\"RS*.dcm\")"
   ]
  },
  {
   "cell_type": "code",
   "execution_count": 14,
   "id": "cbd72c0e",
   "metadata": {},
   "outputs": [
    {
     "name": "stdout",
     "output_type": "stream",
     "text": [
      "ls: cannot access 'test': No such file or directory\r\n"
     ]
    }
   ],
   "source": [
    "! ls test"
   ]
  },
  {
   "cell_type": "code",
   "execution_count": null,
   "id": "9d4887e2",
   "metadata": {},
   "outputs": [],
   "source": []
  }
 ],
 "metadata": {
  "kernelspec": {
   "display_name": "Python 3 (ipykernel)",
   "language": "python",
   "name": "python3"
  },
  "language_info": {
   "codemirror_mode": {
    "name": "ipython",
    "version": 3
   },
   "file_extension": ".py",
   "mimetype": "text/x-python",
   "name": "python",
   "nbconvert_exporter": "python",
   "pygments_lexer": "ipython3",
   "version": "3.11.5"
  }
 },
 "nbformat": 4,
 "nbformat_minor": 5
}
