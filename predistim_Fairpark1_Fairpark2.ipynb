{
 "cells": [
  {
   "cell_type": "code",
   "execution_count": 27,
   "id": "8aea667f-3abb-42f6-8450-22576bf3e18e",
   "metadata": {},
   "outputs": [],
   "source": [
    "import os\n",
    "import pandas as pd \n",
    "import numpy as np\n",
    "\n",
    "%matplotlib inline\n",
    "#mycolumns = [\"RN_L\",\"RN_R\",\"GPi_L\",\"GPi_R\",\"GPe_L\",\"GPe_R\",\"SN_L\",\"SN_R\",\"Left_putamen\",\"Right_putamen\",\"Left_caudate\",\"Right_caudate\",\"Left_globus_pallidus\",\"Right_globus_pallidus\",\"Left_thalamus\",\"Right_thalamus\",\"STh_L\",\"STh_R\"] "
   ]
  },
  {
   "cell_type": "code",
   "execution_count": null,
   "id": "60afd7b5-7e7d-4acf-884d-882a2f5757af",
   "metadata": {},
   "outputs": [],
   "source": [
    "#FP2 (dumbo) imagerie à V0 \n",
    "#fichier FAIRPARKII_BASELINE_20220516_111200 contient MDS PDQ 39 CGI PGI MOCA (à al racine)\n",
    "#fichier FAIRPARKII_Complet_Vraifinal contient donnéés demo AGE SEXE delai depuis diagnostique (dans le travail de clmeentine)\n",
    "\n",
    "#Predisitim (deathrow) imagerie à V0 score à V0 et a 1 an\n",
    "#fichier Data_Cli_2020-06_22.xlsx MOCA UPDRS-III_Tot Hoehn_Yahr on/off SCHWAB on/off année_premier_symptome année_diag MDS MOCA PDQ39 \n",
    "#Demo_Clinique_Aout2019\n"
   ]
  },
  {
   "cell_type": "code",
   "execution_count": 28,
   "id": "dbd7a13b-68eb-495e-8c6b-8b6530d15fa5",
   "metadata": {},
   "outputs": [],
   "source": [
    "CQ_FILE=os.path.join(\"/NAS\",\"dumbo\",\"protocoles\",\"FAIRPARKII\",\"resT2Struct.csv\")\n",
    "val = pd.read_csv(CQ_FILE,index_col=0)"
   ]
  },
  {
   "cell_type": "code",
   "execution_count": 29,
   "id": "7121bd53-b36f-4001-b25a-6e41da32bec4",
   "metadata": {
    "collapsed": true,
    "jupyter": {
     "outputs_hidden": true
    },
    "tags": []
   },
   "outputs": [
    {
     "name": "stdout",
     "output_type": "stream",
     "text": [
      "GPe_L 28.044109 25.54457025 30.2341385\n",
      "GPe_R 27.656520999999998 25.094008000000002 30.03605825\n",
      "GPi_L 30.9838785 28.878200749999998 33.60812425\n",
      "GPi_R 30.0726685 27.781330999999998 32.726561000000004\n",
      "RN_L 31.659883999999998 29.565728500000002 34.10229175\n",
      "RN_R 30.8843745 29.1373985 33.26850775\n",
      "SN_L 28.210506 25.150235000000002 30.870293\n",
      "SN_R 28.6509585 25.893023749999998 31.89527025\n",
      "STh_L nan nan nan\n",
      "STh_R nan nan nan\n",
      "STR_L 36.7391455 35.50755125 38.336216\n",
      "STR_R 36.904844 35.480073250000004 38.4609035\n",
      "Left_ventricle 53.437912499999996 51.747868249999996 54.97808475\n",
      "Right_ventricle 53.309209499999994 51.458786 54.99466700000001\n",
      "Left_caudate 38.522062000000005 36.849076 39.8971005\n",
      "Right_caudate 36.68221 35.303648249999995 37.862207999999995\n",
      "Left_putamen 32.769299000000004 30.883602 34.4295215\n",
      "Right_putamen 33.932318 31.83329225 35.728344750000005\n",
      "Left_thalamus 38.367541 37.4193635 39.2769275\n",
      "Right_thalamus 38.0428355 36.9899055 39.06410675\n",
      "Left_globus_pallidus 26.366890999999995 24.185456 28.636178500000003\n",
      "Right_globus_pallidus 26.438581499999998 24.38906125 28.601748\n",
      "Left_hipocampus 41.2058495 40.172149499999996 42.14352075\n",
      "Right_hipocampus 41.678764 40.6351515 42.68100775\n",
      "Left_amigdala 42.9853335 41.9175495 43.925821\n",
      "Right_amigdala 43.272073999999996 42.26411575 44.4860685\n",
      "Left_accumbens 40.9962875 39.54295025 42.186608\n",
      "Right_accumbens 39.783066000000005 38.420869 41.144002\n"
     ]
    }
   ],
   "source": [
    "for col in val.columns:\n",
    "    print(col, np.median(val[col].values),np.quantile(val[col].values,0.25),np.quantile(val[col].values,0.75))"
   ]
  },
  {
   "cell_type": "code",
   "execution_count": 30,
   "id": "4af0d1f8-d9fe-4380-935b-9fe46750bc47",
   "metadata": {},
   "outputs": [],
   "source": [
    "df = pd.read_excel(os.path.join(\"/NAS\",\"dumbo\",\"protocoles\",\"FAIRPARKII\",\"resT2_FAIRPARK_20210927.xlsx\"),index_col=0,engine='openpyxl')"
   ]
  },
  {
   "cell_type": "code",
   "execution_count": 31,
   "id": "6999fcd7-9e2b-4331-8481-8d1057df97bd",
   "metadata": {
    "collapsed": true,
    "jupyter": {
     "outputs_hidden": true
    },
    "tags": []
   },
   "outputs": [
    {
     "name": "stdout",
     "output_type": "stream",
     "text": [
      "RN_L 31.659883999999998 29.5657285 34.102291750000006\n",
      "RN_R 30.8843745 29.1373985 33.26850775\n",
      "GPi_L 30.983878500000003 28.878200749999998 33.60812425\n",
      "GPi_R 30.0726685 27.781331 32.726561000000004\n",
      "GPe_L 28.044109 25.54457025 30.2341385\n",
      "GPe_R 27.656520999999998 25.094008000000002 30.03605825\n",
      "SN_L 28.210506000000002 25.150235 30.870293\n",
      "SN_R 28.6509585 25.893023749999998 31.89527025\n",
      "Left_putamen 32.769299 30.883602 34.4295215\n",
      "Right_putamen 33.93231800000001 31.83329225 35.728344750000005\n",
      "Left_caudate 38.522062 36.849076 39.8971005\n",
      "Right_caudate 36.68221 35.303648249999995 37.86220799999999\n",
      "Left_globus_pallidus 26.366891000000003 24.185456 28.6361785\n",
      "Right_globus_pallidus 26.438581499999998 24.38906125 28.601748\n",
      "Left_thalamus 38.367541 37.419363499999996 39.2769275\n",
      "Right_thalamus 38.042835499999995 36.9899055 39.06410675\n",
      "STh_L nan nan nan\n",
      "STh_R nan nan nan\n"
     ]
    }
   ],
   "source": [
    "for col in df.columns:\n",
    "    print(col, np.median(df[col].values),np.quantile(df[col].values,0.25),np.quantile(df[col].values,0.75))"
   ]
  },
  {
   "cell_type": "code",
   "execution_count": 33,
   "id": "790ae065-87e9-4d2a-8cdb-f7fd8fbe1afb",
   "metadata": {},
   "outputs": [],
   "source": [
    "df = pd.read_csv(os.path.join(\"/NAS\",\"deathrow\",\"protocoles\",\"predistim\",\"20211203_T1_R2_QSM_Values_Lat.csv\"),index_col=0)"
   ]
  },
  {
   "cell_type": "code",
   "execution_count": 43,
   "id": "51364e9d-7753-44ff-8a0b-75716cbbb346",
   "metadata": {},
   "outputs": [
    {
     "name": "stdout",
     "output_type": "stream",
     "text": [
      "R2_Median_Ventricules_L 18.268496206409985 17.739051750296156 19.796433286836564\n",
      "R2_Median_Ventricules_R 18.408188150009238 17.961581965802512 19.762871303613373\n",
      "R2_Median_Caudate_L 27.197304028793265 26.430189646737094 27.95814949286482\n",
      "R2_Median_Caudate_R 27.174747436493618 25.996097564896054 27.959260749239448\n",
      "R2_Median_Putamen_L 30.00868667569221 28.410004638449884 31.828946541090055\n",
      "R2_Median_Putamen_R 30.134383212536974 28.391819447440795 31.9375134425679\n",
      "R2_Median_Thalamus_L 26.22753097514113 25.384787777323346 27.38146756744577\n",
      "R2_Median_Thalamus_R 26.252013884738023 25.56523960951892 27.38477921975429\n",
      "R2_Median_Globus_pallidus_L 39.435123921163935 34.58654807483677 42.60493262967197\n",
      "R2_Median_Globus_pallidus_R 37.971283213382776 34.18598783620059 42.359453915458\n",
      "R2_Median_Hippocampus_L 24.533697500733936 23.987849217068362 25.588473029256594\n",
      "R2_Median_Hippocampus_R 24.658095771792958 23.981641646093987 25.739797264208775\n",
      "R2_Median_Amigdala_L 23.841591254018887 22.830981180957203 25.097148610673774\n",
      "R2_Median_Amigdala_R 24.132806538180496 23.241825837090644 25.497998328424902\n",
      "R2_Median_CingulaireAnt_L 23.94620244333325 23.296659344796545 24.604007580554136\n",
      "R2_Median_CingulaireAnt_R 23.80290728537405 23.243261486877834 24.50442166291894\n",
      "R2_Median_FrontalSup_L 24.76326759743916 24.312581985456898 25.20295201018898\n",
      "R2_Median_FrontalSup_R 24.726461954728336 24.28836643744638 25.23766415052532\n",
      "R2_Median_Ventricule_R 17.942412608498174 17.37572529100416 19.608236311831337\n",
      "R2_Median_Ventricule_L 17.862099693633382 17.331876258414052 20.740253455753336\n",
      "R2_Median_WM_R 26.218850476055923 25.40087725775905 26.909137157204242\n",
      "R2_Median_WM_L 26.317710230844426 25.609668540324137 27.00818584956165\n",
      "R2_Median_FLASH_RN_L_ 34.822439238084996 31.932530676765147 37.304990079351704\n",
      "R2_Median_FLASH_SN_L_ 41.22274663799284 36.807885242277166 46.140022924822205\n",
      "R2_Median_QSM_GPe_L_ 38.889389314732234 35.33168962758799 41.603476549181465\n",
      "R2_Median_QSM_GPi_L_ 35.211819411411994 31.892113307307426 37.708095727172136\n",
      "R2_Median_FLASH_STh_L_ 33.5982274172318 30.80654922591947 37.85607554113535\n",
      "R2_Median_MP2RAGE_STR_L_ 28.424868015694507 27.386723764741888 29.447836978659062\n",
      "R2_Median_FLASH_RN_R_ 34.40851179005086 32.90608651395064 37.40067038613219\n",
      "R2_Median_FLASH_SN_R_ 40.68051465699189 36.4952473431695 46.8389904321206\n",
      "R2_Median_QSM_GPe_R_ 37.77252000884498 34.86427513902364 41.51783035992179\n",
      "R2_Median_QSM_GPi_R_ 34.24387832492866 31.69756758866822 37.0640506720834\n",
      "R2_Median_FLASH_STh_R_ 33.08104435047643 30.39677847828849 37.241639969385496\n",
      "R2_Median_MP2RAGE_STR_R_ 28.31311029993372 27.065819687898994 29.22030037698574\n"
     ]
    }
   ],
   "source": [
    "filter_col = [col for col in df if col.startswith('R2_Median')]\n",
    "for col in filter_col:\n",
    "    print(col, np.median(df[col].dropna().values),np.quantile(df[col].dropna().values,0.25),np.quantile(df[col].dropna().values,0.75))"
   ]
  },
  {
   "cell_type": "code",
   "execution_count": null,
   "id": "04b80c9e-7c44-40f3-ba04-d33d6c5e6959",
   "metadata": {},
   "outputs": [],
   "source": []
  }
 ],
 "metadata": {
  "kernelspec": {
   "display_name": "Python 3 (ipykernel)",
   "language": "python",
   "name": "python3"
  },
  "language_info": {
   "codemirror_mode": {
    "name": "ipython",
    "version": 3
   },
   "file_extension": ".py",
   "mimetype": "text/x-python",
   "name": "python",
   "nbconvert_exporter": "python",
   "pygments_lexer": "ipython3",
   "version": "3.11.5"
  }
 },
 "nbformat": 4,
 "nbformat_minor": 5
}
