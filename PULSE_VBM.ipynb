{
 "cells": [
  {
   "cell_type": "code",
   "execution_count": 4,
   "id": "661bcf06",
   "metadata": {},
   "outputs": [
    {
     "name": "stderr",
     "output_type": "stream",
     "text": [
      "UsageError: Line magic function `%import` not found.\n"
     ]
    }
   ],
   "source": [
    "import os\n",
    "import glob\n",
    "import pandas as pd \n",
    "import numpy as np\n",
    "%import plotnine as p9 https://andysbrainbook.readthedocs.io/en/latest/index.html\n",
    "https://andysbrainbook.readthedocs.io/en/latest/index.html\n",
    "https://andysbrainbook.readthedocs.io/en/latest/index.html\n",
    "\n",
    "import matplotlib.pyplot as plt\n",
    "import seaborn as sns\n",
    "import nibabel as nib\n",
    "from scipy import stats\n",
    "import statsmodels as sm\n",
    "%matplotlib inline\n",
    "from sklearn.linear_model import LinearRegression"
   ]
  },
  {
   "cell_type": "code",
   "execution_count": 5,
   "id": "3aed5c0d",
   "metadata": {},
   "outputs": [],
   "source": [
    "DIR=os.path.join(\"/NAS\",\"tupac\",\"protocoles\",\"PULSE\")"
   ]
  },
  {
   "cell_type": "code",
   "execution_count": 149,
   "id": "6e52bcfd",
   "metadata": {},
   "outputs": [],
   "source": [
    "CLI_COMPLET=os.path.join(DIR,\"StatPulseKFE.xlsx\")\n",
    "GroupData_Full = pd.read_excel(CLI_COMPLET,index_col=0,engine='openpyxl')\n",
    "GroupData_Full.index=GroupData_Full.index.astype(str)"
   ]
  },
  {
   "cell_type": "code",
   "execution_count": 165,
   "id": "d60ad297",
   "metadata": {},
   "outputs": [
    {
     "data": {
      "text/plain": [
       "Index(['TOTAL_CAFEINE_V0', 'CONSO_TABAC_V0', 'CONSO_ALCOOL_V0', 'AGE', 'Sexe',\n",
       "       'IMC_V0', 'Disease_duration', 'Time_from_PS_to_inclusion', 'ALS_PHENO',\n",
       "       'Deglutition_V0', 'RILUZOLE', 'ECAS_SPE_V0', 'ECAS_NONSPE_V0',\n",
       "       'ECAS_Total_V0', 'Niveau_educ', 'Deces', 'Survival_time',\n",
       "       'Score_ALSFRS_V0', 'ALSFRS_rate_V0', 'NfL', 'SNP', 'CYP1A2', 'CYP1A1',\n",
       "       'AHR', 'POR', 'XDH'],\n",
       "      dtype='object')"
      ]
     },
     "execution_count": 165,
     "metadata": {},
     "output_type": "execute_result"
    }
   ],
   "source": [
    "GroupData_Full.columns"
   ]
  },
  {
   "cell_type": "code",
   "execution_count": 150,
   "id": "b5ccab68",
   "metadata": {},
   "outputs": [
    {
     "data": {
      "text/html": [
       "<div>\n",
       "<style scoped>\n",
       "    .dataframe tbody tr th:only-of-type {\n",
       "        vertical-align: middle;\n",
       "    }\n",
       "\n",
       "    .dataframe tbody tr th {\n",
       "        vertical-align: top;\n",
       "    }\n",
       "\n",
       "    .dataframe thead th {\n",
       "        text-align: right;\n",
       "    }\n",
       "</style>\n",
       "<table border=\"1\" class=\"dataframe\">\n",
       "  <thead>\n",
       "    <tr style=\"text-align: right;\">\n",
       "      <th></th>\n",
       "      <th>TOTAL_CAFEINE_V0</th>\n",
       "      <th>AGE</th>\n",
       "      <th>Sexe</th>\n",
       "      <th>IMC_V0</th>\n",
       "      <th>RILUZOLE</th>\n",
       "      <th>Time_from_PS_to_inclusion</th>\n",
       "      <th>CONSO_TABAC_V0</th>\n",
       "      <th>Deglutition_V0</th>\n",
       "      <th>CONSO_ALCOOL_V0</th>\n",
       "      <th>Niveau_educ</th>\n",
       "    </tr>\n",
       "    <tr>\n",
       "      <th>ID</th>\n",
       "      <th></th>\n",
       "      <th></th>\n",
       "      <th></th>\n",
       "      <th></th>\n",
       "      <th></th>\n",
       "      <th></th>\n",
       "      <th></th>\n",
       "      <th></th>\n",
       "      <th></th>\n",
       "      <th></th>\n",
       "    </tr>\n",
       "  </thead>\n",
       "  <tbody>\n",
       "    <tr>\n",
       "      <th>1001</th>\n",
       "      <td>574.0</td>\n",
       "      <td>44.0</td>\n",
       "      <td>1.0</td>\n",
       "      <td>20.160701</td>\n",
       "      <td>1.0</td>\n",
       "      <td>23.0</td>\n",
       "      <td>0.0</td>\n",
       "      <td>2.0</td>\n",
       "      <td>0.00</td>\n",
       "      <td>14.0</td>\n",
       "    </tr>\n",
       "    <tr>\n",
       "      <th>1003</th>\n",
       "      <td>145.0</td>\n",
       "      <td>55.0</td>\n",
       "      <td>2.0</td>\n",
       "      <td>26.370238</td>\n",
       "      <td>1.0</td>\n",
       "      <td>15.0</td>\n",
       "      <td>0.0</td>\n",
       "      <td>1.0</td>\n",
       "      <td>0.00</td>\n",
       "      <td>10.0</td>\n",
       "    </tr>\n",
       "    <tr>\n",
       "      <th>1004</th>\n",
       "      <td>304.0</td>\n",
       "      <td>67.0</td>\n",
       "      <td>2.0</td>\n",
       "      <td>16.233091</td>\n",
       "      <td>1.0</td>\n",
       "      <td>11.0</td>\n",
       "      <td>0.0</td>\n",
       "      <td>2.0</td>\n",
       "      <td>0.00</td>\n",
       "      <td>9.0</td>\n",
       "    </tr>\n",
       "    <tr>\n",
       "      <th>1005</th>\n",
       "      <td>981.1</td>\n",
       "      <td>51.0</td>\n",
       "      <td>1.0</td>\n",
       "      <td>32.111952</td>\n",
       "      <td>1.0</td>\n",
       "      <td>13.0</td>\n",
       "      <td>0.0</td>\n",
       "      <td>1.0</td>\n",
       "      <td>1.00</td>\n",
       "      <td>20.0</td>\n",
       "    </tr>\n",
       "    <tr>\n",
       "      <th>1007</th>\n",
       "      <td>240.5</td>\n",
       "      <td>63.0</td>\n",
       "      <td>2.0</td>\n",
       "      <td>17.099278</td>\n",
       "      <td>1.0</td>\n",
       "      <td>12.0</td>\n",
       "      <td>0.0</td>\n",
       "      <td>1.0</td>\n",
       "      <td>0.46</td>\n",
       "      <td>16.0</td>\n",
       "    </tr>\n",
       "    <tr>\n",
       "      <th>...</th>\n",
       "      <td>...</td>\n",
       "      <td>...</td>\n",
       "      <td>...</td>\n",
       "      <td>...</td>\n",
       "      <td>...</td>\n",
       "      <td>...</td>\n",
       "      <td>...</td>\n",
       "      <td>...</td>\n",
       "      <td>...</td>\n",
       "      <td>...</td>\n",
       "    </tr>\n",
       "    <tr>\n",
       "      <th>19042</th>\n",
       "      <td>731.5</td>\n",
       "      <td>67.0</td>\n",
       "      <td>1.0</td>\n",
       "      <td>25.648918</td>\n",
       "      <td>1.0</td>\n",
       "      <td>6.0</td>\n",
       "      <td>0.0</td>\n",
       "      <td>1.0</td>\n",
       "      <td>0.14</td>\n",
       "      <td>9.0</td>\n",
       "    </tr>\n",
       "    <tr>\n",
       "      <th>19043</th>\n",
       "      <td>538.0</td>\n",
       "      <td>66.0</td>\n",
       "      <td>1.0</td>\n",
       "      <td>21.870000</td>\n",
       "      <td>1.0</td>\n",
       "      <td>11.0</td>\n",
       "      <td>0.0</td>\n",
       "      <td>1.0</td>\n",
       "      <td>0.29</td>\n",
       "      <td>12.0</td>\n",
       "    </tr>\n",
       "    <tr>\n",
       "      <th>19044</th>\n",
       "      <td>363.5</td>\n",
       "      <td>70.0</td>\n",
       "      <td>2.0</td>\n",
       "      <td>29.320000</td>\n",
       "      <td>1.0</td>\n",
       "      <td>NaN</td>\n",
       "      <td>0.0</td>\n",
       "      <td>1.0</td>\n",
       "      <td>0.14</td>\n",
       "      <td>9.0</td>\n",
       "    </tr>\n",
       "    <tr>\n",
       "      <th>19045</th>\n",
       "      <td>277.0</td>\n",
       "      <td>58.0</td>\n",
       "      <td>1.0</td>\n",
       "      <td>24.960000</td>\n",
       "      <td>1.0</td>\n",
       "      <td>10.0</td>\n",
       "      <td>7.0</td>\n",
       "      <td>1.0</td>\n",
       "      <td>4.00</td>\n",
       "      <td>9.0</td>\n",
       "    </tr>\n",
       "    <tr>\n",
       "      <th>19046</th>\n",
       "      <td>158.3</td>\n",
       "      <td>70.0</td>\n",
       "      <td>1.0</td>\n",
       "      <td>24.680000</td>\n",
       "      <td>1.0</td>\n",
       "      <td>10.0</td>\n",
       "      <td>0.0</td>\n",
       "      <td>1.0</td>\n",
       "      <td>1.00</td>\n",
       "      <td>20.0</td>\n",
       "    </tr>\n",
       "  </tbody>\n",
       "</table>\n",
       "<p>378 rows × 10 columns</p>\n",
       "</div>"
      ],
      "text/plain": [
       "       TOTAL_CAFEINE_V0   AGE  Sexe     IMC_V0  RILUZOLE  \\\n",
       "ID                                                         \n",
       "1001              574.0  44.0   1.0  20.160701       1.0   \n",
       "1003              145.0  55.0   2.0  26.370238       1.0   \n",
       "1004              304.0  67.0   2.0  16.233091       1.0   \n",
       "1005              981.1  51.0   1.0  32.111952       1.0   \n",
       "1007              240.5  63.0   2.0  17.099278       1.0   \n",
       "...                 ...   ...   ...        ...       ...   \n",
       "19042             731.5  67.0   1.0  25.648918       1.0   \n",
       "19043             538.0  66.0   1.0  21.870000       1.0   \n",
       "19044             363.5  70.0   2.0  29.320000       1.0   \n",
       "19045             277.0  58.0   1.0  24.960000       1.0   \n",
       "19046             158.3  70.0   1.0  24.680000       1.0   \n",
       "\n",
       "       Time_from_PS_to_inclusion  CONSO_TABAC_V0  Deglutition_V0  \\\n",
       "ID                                                                 \n",
       "1001                        23.0             0.0             2.0   \n",
       "1003                        15.0             0.0             1.0   \n",
       "1004                        11.0             0.0             2.0   \n",
       "1005                        13.0             0.0             1.0   \n",
       "1007                        12.0             0.0             1.0   \n",
       "...                          ...             ...             ...   \n",
       "19042                        6.0             0.0             1.0   \n",
       "19043                       11.0             0.0             1.0   \n",
       "19044                        NaN             0.0             1.0   \n",
       "19045                       10.0             7.0             1.0   \n",
       "19046                       10.0             0.0             1.0   \n",
       "\n",
       "       CONSO_ALCOOL_V0  Niveau_educ  \n",
       "ID                                   \n",
       "1001              0.00         14.0  \n",
       "1003              0.00         10.0  \n",
       "1004              0.00          9.0  \n",
       "1005              1.00         20.0  \n",
       "1007              0.46         16.0  \n",
       "...                ...          ...  \n",
       "19042             0.14          9.0  \n",
       "19043             0.29         12.0  \n",
       "19044             0.14          9.0  \n",
       "19045             4.00          9.0  \n",
       "19046             1.00         20.0  \n",
       "\n",
       "[378 rows x 10 columns]"
      ]
     },
     "execution_count": 150,
     "metadata": {},
     "output_type": "execute_result"
    }
   ],
   "source": [
    "cols=['TOTAL_CAFEINE_V0','AGE','Sexe','IMC_V0','RILUZOLE','Time_from_PS_to_inclusion','CONSO_TABAC_V0','Deglutition_V0','CONSO_ALCOOL_V0','Niveau_educ']\n",
    "GroupData_Full[cols]"
   ]
  },
  {
   "cell_type": "code",
   "execution_count": 151,
   "id": "4af0a5bf",
   "metadata": {},
   "outputs": [],
   "source": [
    "list_subj_ima=[]\n",
    "for ima in glob.iglob(os.path.join(DIR,\"VBM\",\"smwc1sub-*.nii\")) :\n",
    "    SUBJ=ima.replace(os.path.join(DIR,\"VBM\",\"smwc1sub-\"),\"\")[:5]\n",
    "    if SUBJ.startswith('0'):\n",
    "        list_subj_ima.append(SUBJ[1:])\n",
    "    else :\n",
    "        list_subj_ima.append(SUBJ)"
   ]
  },
  {
   "cell_type": "code",
   "execution_count": 152,
   "id": "ad5c5389",
   "metadata": {},
   "outputs": [],
   "source": [
    "mydesignmatrix=GroupData_Full[cols].loc[GroupData_Full.index.isin(list_subj_ima)].dropna()"
   ]
  },
  {
   "cell_type": "code",
   "execution_count": 153,
   "id": "8fb0cf86",
   "metadata": {
    "tags": []
   },
   "outputs": [],
   "source": [
    "mydesignmatrix.insert(len(mydesignmatrix.columns),'intercept',1)"
   ]
  },
  {
   "cell_type": "code",
   "execution_count": 154,
   "id": "f791e4d3",
   "metadata": {
    "collapsed": true,
    "jupyter": {
     "outputs_hidden": true
    },
    "tags": []
   },
   "outputs": [
    {
     "data": {
      "text/plain": [
       "Text(1.7700000000000031, 0.5, 'maps')"
      ]
     },
     "execution_count": 154,
     "metadata": {},
     "output_type": "execute_result"
    },
    {
     "data": {
      "image/png": "[encoded data removed]",
      "text/plain": [
       "<Figure size 254.16x720 with 1 Axes>"
      ]
     },
     "metadata": {
      "needs_background": "light"
     },
     "output_type": "display_data"
    }
   ],
   "source": [
    "from nilearn import plotting\n",
    "ax = plotting.plot_design_matrix(mydesignmatrix)\n",
    "ax.set_title('Second level design matrix', fontsize=12)\n",
    "ax.set_ylabel('maps')"
   ]
  },
  {
   "cell_type": "code",
   "execution_count": 156,
   "id": "8727ec17",
   "metadata": {
    "tags": []
   },
   "outputs": [],
   "source": [
    "gray_matter_map_filenames=[]\n",
    "for ind in mydesignmatrix.index :\n",
    "    if len(ind)==5 :\n",
    "        gray_matter_map_filenames.append(glob.glob(os.path.join(DIR,\"VBM\",\"smwc1sub-\"+ind+\"*.nii\"))[0])\n",
    "    else :\n",
    "        gray_matter_map_filenames.append(glob.glob(os.path.join(DIR,\"VBM\",\"smwc1sub-0\"+ind+\"*.nii\"))[0])\n",
    "    "
   ]
  },
  {
   "cell_type": "code",
   "execution_count": 157,
   "id": "2ba06303",
   "metadata": {},
   "outputs": [],
   "source": [
    "from nilearn.image import resample_to_img\n",
    "\n",
    "mask_img = resample_to_img(\n",
    "    gm_mask,\n",
    "    gray_matter_map_filenames[0],\n",
    "    interpolation=\"nearest\",\n",
    ")"
   ]
  },
  {
   "cell_type": "code",
   "execution_count": 158,
   "id": "62655aff",
   "metadata": {},
   "outputs": [
    {
     "data": {
      "text/plain": [
       "SecondLevelModel(mask_img=<nibabel.nifti1.Nifti1Image object at 0x7f2077f18710>,\n",
       "                 smoothing_fwhm=2.0)"
      ]
     },
     "execution_count": 158,
     "metadata": {},
     "output_type": "execute_result"
    }
   ],
   "source": [
    "from nilearn.glm.second_level import SecondLevelModel\n",
    "second_level_model = SecondLevelModel(smoothing_fwhm=2.0,mask_img=mask_img)\n",
    "second_level_model.fit(\n",
    "    gray_matter_map_filenames,\n",
    "    design_matrix=mydesignmatrix,\n",
    ")"
   ]
  },
  {
   "cell_type": "code",
   "execution_count": 166,
   "id": "8141352b",
   "metadata": {},
   "outputs": [
    {
     "data": {
      "text/plain": [
       "(144, 11)"
      ]
     },
     "execution_count": 166,
     "metadata": {},
     "output_type": "execute_result"
    }
   ],
   "source": [
    "mydesignmatrix.shape"
   ]
  },
  {
   "cell_type": "code",
   "execution_count": 159,
   "id": "60fd09d4",
   "metadata": {},
   "outputs": [],
   "source": [
    "z_map = second_level_model.compute_contrast(\n",
    "    second_level_contrast=[1, 0, 0, 0, 0, 0, 0, 0, 0, 0,0],\n",
    "    output_type=\"z_score\",\n",
    ")"
   ]
  },
  {
   "cell_type": "code",
   "execution_count": 164,
   "id": "1a6014f0",
   "metadata": {},
   "outputs": [
    {
     "name": "stdout",
     "output_type": "stream",
     "text": [
      "The FDR=.05-corrected threshold is: inf\n"
     ]
    },
    {
     "name": "stderr",
     "output_type": "stream",
     "text": [
      "/home/romain/.local/lib/python3.7/site-packages/nilearn/plotting/displays.py:880: UserWarning: empty mask\n"
     ]
    },
    {
     "data": {
      "image/png": "[encoded data removed]",
      "text/plain": [
       "<Figure size 367.2x165.6 with 3 Axes>"
      ]
     },
     "metadata": {},
     "output_type": "display_data"
    }
   ],
   "source": [
    "from nilearn.glm import threshold_stats_img\n",
    "\n",
    "_, threshold = threshold_stats_img(z_map, alpha=0.05, height_control=\"fdr\")\n",
    "print(f\"The FDR=.05-corrected threshold is: {threshold:03g}\")\n",
    "\n",
    "display = plotting.plot_stat_map(\n",
    "    z_map,\n",
    "    threshold=threshold,\n",
    "    colorbar=True,\n",
    "    display_mode=\"z\",\n",
    "    cut_coords=[16.6,39],\n",
    "    title=\"Cafeine effect on gray matter density (FDR = .05)\",\n",
    ")\n",
    "plotting.show()"
   ]
  },
  {
   "cell_type": "code",
   "execution_count": 162,
   "id": "dc4e632c",
   "metadata": {},
   "outputs": [],
   "source": [
    "from nilearn.reporting import make_glm_report\n",
    "\n",
    "icbm152_2009 = datasets.fetch_icbm152_2009()\n",
    "report = make_glm_report(\n",
    "    model=second_level_model,\n",
    "    contrasts=[1, 0, 0, 0, 0, 0, 0, 0, 0, 0,0],\n",
    "    bg_img=icbm152_2009[\"t1\"],\n",
    ")"
   ]
  },
  {
   "cell_type": "code",
   "execution_count": 163,
   "id": "d51fc0b4",
   "metadata": {},
   "outputs": [],
   "source": [
    "report.save_as_html('VBMreport.html')"
   ]
  },
  {
   "cell_type": "code",
   "execution_count": null,
   "id": "a7319e68",
   "metadata": {},
   "outputs": [],
   "source": []
  }
 ],
 "metadata": {
  "kernelspec": {
   "display_name": "Python 3 (ipykernel)",
   "language": "python",
   "name": "python3"
  },
  "language_info": {
   "codemirror_mode": {
    "name": "ipython",
    "version": 3
   },
   "file_extension": ".py",
   "mimetype": "text/x-python",
   "name": "python",
   "nbconvert_exporter": "python",
   "pygments_lexer": "ipython3",
   "version": "3.11.5"
  }
 },
 "nbformat": 4,
 "nbformat_minor": 5
}
