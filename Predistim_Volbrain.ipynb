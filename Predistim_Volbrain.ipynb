{
 "cells": [
  {
   "cell_type": "code",
   "execution_count": 5,
   "metadata": {},
   "outputs": [
    {
     "name": "stdout",
     "output_type": "stream",
     "text": [
      "importing Jupyter notebook from Predistim_Library.ipynb\n"
     ]
    }
   ],
   "source": [
    "from selenium import webdriver\n",
    "from selenium.webdriver.common.keys import Keys\n",
    "from selenium.webdriver.firefox.options import Options\n",
    "from selenium.webdriver import Firefox\n",
    "from selenium.webdriver.support.ui import WebDriverWait\n",
    "import os,sys,datetime,random,re\n",
    "from collections import OrderedDict\n",
    "import csv\n",
    "import itertools\n",
    "import time\n",
    "from shutil import copyfile\n",
    "import glob\n",
    "import pandas as pd \n",
    "import urllib3\n",
    "import requests\n",
    "from clint.textui import progress\n",
    "import import_ipynb\n",
    "from Predistim_Library import *"
   ]
  },
  {
   "cell_type": "code",
   "execution_count": 3,
   "metadata": {},
   "outputs": [],
   "source": [
    "myDict = {\"romain.viard@chru-lille.fr\":\"romainviardchru\",\n",
    "          \"a.viard@outlook.fr\":\"aviardoutlook\",\n",
    "          \"j.viard@outlook.fr\":\"jviardoutlook\",\n",
    "          \"romain_viard@yahoo.fr\":\"xIO52ts0UWm5\",\n",
    "          \"juliette.mitjans@yahoo.fr\":\"mdpvolbrain\",\n",
    "          \"rhumun@gmail.com\":\"EYyS9kx1UhWo\",\n",
    "          \"renaud.lopes@gmail.com\":\"Ci2c@chru\",\n",
    "          \"clement.bne@gmail.com\":\"ci2clille\",\n",
    "          \"quentinvannodmichel@gmail.com\":\"p53q37rst\",\n",
    "          \"gregkuch@msn.com\":\"greg2004\",\n",
    "          \"e_nedeva@hotmail.com\":\"VolbrainMdp\",\n",
    "          \"jbdavion@hotmail.fr\":\"neuro2309\",\n",
    "          \"mo.gautherot@laposte.net\":\"neuromorgan\",\n",
    "          \"gautherotmorgan0@gmail.com\":\"neuromorgan\",\n",
    "          \"morgan.gautherot.consulting@gmail.com\":\"neuromorgan\",\n",
    "          \"meetup.data.lille@gmail.com\":\"neuromorgan\",\n",
    "          \"ai4you.official@gmail.com\":\"neuromorgan\",\n",
    "          \"hugodeprojetmj@gmail.com\":\"neuromorgan\",\n",
    "          \"morgan.gautherot@univ-lille.fr\":\"neuromorgan\",\n",
    "          \"neuro.volbrain1@gmail.com\":\"neuromorgan\",\n",
    "          \"neuro.volbrain2@gmail.com\":\"neuromorgan\",\n",
    "          \"the-loulmas@hotmail.fr\":\"neuromorgan\",\n",
    "          \"ancelin95@hotmail.fr\":\"neuromorgan\",\n",
    "          \"vincentroca9@gmail.com\":\"neuromorgan\",\n",
    "          \"helice_fr@hotmail.fr\":\"neuromorgan\"}\n",
    "myDictSorted=OrderedDict(sorted(myDict.items(), key=lambda t: t[0],reverse=True))"
   ]
  },
  {
   "cell_type": "code",
   "execution_count": 24,
   "metadata": {
    "collapsed": true,
    "jupyter": {
     "outputs_hidden": true
    }
   },
   "outputs": [
    {
     "name": "stdout",
     "output_type": "stream",
     "text": [
      "0\n",
      "rhumun@gmail.com\n",
      "0\n"
     ]
    },
    {
     "name": "stderr",
     "output_type": "stream",
     "text": [
      "C:\\Users\\romain\\Anaconda3\\lib\\site-packages\\ipykernel_launcher.py:42: DeprecationWarning: use options instead of firefox_options\n"
     ]
    },
    {
     "name": "stdout",
     "output_type": "stream",
     "text": [
      "0\n",
      "01001SR\n",
      "D:\\LINUX\\Predistim\\data\\2020-04-02\\01\\01001SR\\M00\\mri_3dt1_t1_nifti.nii.gz\n",
      "0\n",
      "rhumun@gmail.com\n",
      "D:\\LINUX\\Predistim\\data\\2020-04-02\\01\\01001SR\\M00\\mri_3dt1_t1_nifti.nii.gz\n",
      "D:\\LINUX\\Predistim\\data\\2020-04-02\\01\\01001SR\\M00\\01001SRtest.nii.gz\n",
      "rhumun@gmail.com\n",
      "1\n",
      "0\n"
     ]
    },
    {
     "ename": "IndexError",
     "evalue": "list index out of range",
     "output_type": "error",
     "traceback": [
      "\u001b[1;31m---------------------------------------------------------------------------\u001b[0m",
      "\u001b[1;31mIndexError\u001b[0m                                Traceback (most recent call last)",
      "\u001b[1;32m<ipython-input-24-b478352eb177>\u001b[0m in \u001b[0;36m<module>\u001b[1;34m\u001b[0m\n\u001b[0;32m     56\u001b[0m         \u001b[0mdeb\u001b[0m \u001b[1;33m+=\u001b[0m \u001b[1;36m1\u001b[0m\u001b[1;33m\u001b[0m\u001b[1;33m\u001b[0m\u001b[0m\n\u001b[0;32m     57\u001b[0m     \u001b[0mprint\u001b[0m\u001b[1;33m(\u001b[0m\u001b[0mdeb\u001b[0m\u001b[1;33m)\u001b[0m\u001b[1;33m\u001b[0m\u001b[1;33m\u001b[0m\u001b[0m\n\u001b[1;32m---> 58\u001b[1;33m     \u001b[0mprint\u001b[0m\u001b[1;33m(\u001b[0m\u001b[0mdata\u001b[0m\u001b[1;33m[\u001b[0m\u001b[0mnumPat\u001b[0m\u001b[1;33m]\u001b[0m\u001b[1;33m[\u001b[0m\u001b[1;36m0\u001b[0m\u001b[1;33m]\u001b[0m\u001b[1;33m)\u001b[0m\u001b[1;33m\u001b[0m\u001b[1;33m\u001b[0m\u001b[0m\n\u001b[0m\u001b[0;32m     59\u001b[0m     \u001b[1;32mfor\u001b[0m \u001b[0mcpt\u001b[0m \u001b[1;32min\u001b[0m \u001b[0mrange\u001b[0m\u001b[1;33m(\u001b[0m\u001b[0mdeb\u001b[0m\u001b[1;33m,\u001b[0m\u001b[1;36m10\u001b[0m\u001b[1;33m)\u001b[0m\u001b[1;33m:\u001b[0m\u001b[1;33m\u001b[0m\u001b[1;33m\u001b[0m\u001b[0m\n\u001b[0;32m     60\u001b[0m         \u001b[1;32mif\u001b[0m \u001b[0mnumPat\u001b[0m \u001b[1;33m<\u001b[0m \u001b[1;36m1\u001b[0m \u001b[1;33m:\u001b[0m\u001b[1;33m\u001b[0m\u001b[1;33m\u001b[0m\u001b[0m\n",
      "\u001b[1;31mIndexError\u001b[0m: list index out of range"
     ]
    }
   ],
   "source": [
    "ladate=datetime.datetime.today().strftime('%Y-%m-%d')\n",
    "\n",
    "fh = open(STUDY_PATH+'listePatTMP.tsv')\n",
    "reader = csv.reader(fh, delimiter = '\\t')\n",
    "data = [v for v in itertools.islice(reader,0, None)]\n",
    "\n",
    "inputFile = open(STUDY_PATH+'nbPat.txt')\n",
    "numPat = int(inputFile.readline())\n",
    "inputFile.close()\n",
    "print(numPat)\n",
    "\n",
    "#for eval_order in range(0,len(myDictSorted)) :\n",
    "for cle,valeur in myDictSorted.items():    \n",
    "    if numPat > 1 :\n",
    "        break\n",
    "    cle=\"rhumun@gmail.com\"\n",
    "    valeur=\"EYyS9kx1UhWo\"\n",
    "    print(cle)\n",
    "    print(numPat)\n",
    "    \n",
    "    options = Options()\n",
    "    options.add_argument(\"--headless\")\n",
    "    driver = Firefox(firefox_options=options)\n",
    "    driver.get(\"http://volbrain.upv.es/index.php\")\n",
    "    elem = driver.find_element_by_name(\"email\")\n",
    "    elem.send_keys(cle)\n",
    "    elem = driver.find_element_by_name(\"password\")\n",
    "    elem.send_keys(valeur)\n",
    "    elem = driver.find_element_by_name(\"sub\")\n",
    "    elem.click()   \n",
    "    \n",
    "    elem = driver.find_element_by_name(\"job_list\")\n",
    "    html_tab_vol_brain=elem.get_attribute('innerHTML')\n",
    "    txt_tab_vol_brain=elem.text\n",
    "    deb=0\n",
    "    for m in re.finditer(\" \"+str(ladate)+\" \",txt_tab_vol_brain):\n",
    "        deb += 1\n",
    "    print(deb)    \n",
    "    print(data[numPat][0])\n",
    "    for cpt in range(deb,10): \n",
    "        if numPat < 1 :           \n",
    "            PT_PATH=STUDY_PATH+'''data\\\\2020-04-02\\\\'''+data[numPat][0][:2]+'''\\\\'''+data[numPat][0]+'''\\\\M00\\\\'''\n",
    "            T1_filenameFS=PT_PATH+'''mri_3dt1_t1_geo_nifti.nii.gz'''\n",
    "\n",
    "            #if not (os.path.isfile(T1_filenameFS)) :\n",
    "            #    T1_filenameFS = '''/NAS/deathrow/protocoles/predistim/2018-07-30_t1_segmentations/'''+data[numPat][0][:2]+'''/'''+data[numPat][0]+'''/M00/mri_3dt1_t1_geo_nifti.nii.gz'''\n",
    "\n",
    "            if not (os.path.isfile(T1_filenameFS)) :\n",
    "                T1_filenameFS = PT_PATH+'''mri_3dt1_t1_nifti.nii.gz'''\n",
    "\n",
    "            print(T1_filenameFS)\n",
    "            while  ( (len(glob.glob(STUDY_PATH+'''data\\\\volbrain\\\\'''+data[numPat][0]+'*')) > 0 ) or not (os.path.isfile(T1_filenameFS)) ): \n",
    "                if numPat > 1 :\n",
    "                    break\n",
    "                numPat=numPat+1\n",
    "                print(numPat)\n",
    "                PT_PATH=STUDY_PATH+'''data\\\\2020-04-02\\\\'''+data[numPat][0][:2]+'''\\\\'''+data[numPat][0]+'''\\\\M00\\\\'''\n",
    "                T1_filenameFS=PT_PATH+'''mri_3dt1_t1_geo_nifti.nii.gz'''\n",
    "\n",
    "                if not (os.path.isfile(T1_filenameFS)) :\n",
    "                    T1_filenameFS = PT_PATH+'''mri_3dt1_t1_nifti.nii.gz'''\n",
    "\n",
    "            if numPat > 1 :\n",
    "                break\n",
    "\n",
    "            T1_filenameR = PT_PATH+data[numPat][0]+'''test.nii.gz'''     \n",
    "            copyfile(T1_filenameFS,T1_filenameR)            \n",
    "            age = data[numPat][2] \n",
    "            sexe = data[numPat][1] \n",
    "            time.sleep(2)\n",
    "            elem = driver.find_element_by_id(\"pipeline1\")\n",
    "            elem.click()\n",
    "            elem = driver.find_element_by_name(\"volbrain_t1_file\")\n",
    "            elem.send_keys(T1_filenameR)\n",
    "            elem = driver.find_element_by_name(\"volbrain_patientssex\")\n",
    "            elem.send_keys(sexe)\n",
    "            elem = driver.find_element_by_name(\"volbrain_patientsage\")\n",
    "            elem.send_keys(age)\n",
    "            elem = driver.find_element_by_name(\"button_volbrain\")\n",
    "            elem.click()\n",
    "            time.sleep(120)\n",
    "\n",
    "            print(numPat)\n",
    "            print(cle)\n",
    "            print(T1_filenameFS)\n",
    "            print(T1_filenameR)\n",
    "\n",
    "            outputFile = open(STUDY_PATH+'nbPat.txt','w')\n",
    "            outputFile.write(str(numPat));\n",
    "            outputFile.close()\n",
    "            numPat=numPat+1\n",
    "            \n",
    "    driver.stop_client()       "
   ]
  },
  {
   "cell_type": "code",
   "execution_count": 32,
   "metadata": {
    "collapsed": true,
    "jupyter": {
     "outputs_hidden": true
    }
   },
   "outputs": [
    {
     "ename": "ModuleNotFoundError",
     "evalue": "No module named 'urllib2'",
     "output_type": "error",
     "traceback": [
      "\u001b[1;31m---------------------------------------------------------------------------\u001b[0m",
      "\u001b[1;31mModuleNotFoundError\u001b[0m                       Traceback (most recent call last)",
      "\u001b[1;32m<ipython-input-32-378f81fe8c62>\u001b[0m in \u001b[0;36m<module>\u001b[1;34m\u001b[0m\n\u001b[0;32m      9\u001b[0m \u001b[1;32mimport\u001b[0m \u001b[0mtime\u001b[0m\u001b[1;33m\u001b[0m\u001b[1;33m\u001b[0m\u001b[0m\n\u001b[0;32m     10\u001b[0m \u001b[1;32mfrom\u001b[0m \u001b[0mshutil\u001b[0m \u001b[1;32mimport\u001b[0m \u001b[0mcopyfile\u001b[0m\u001b[1;33m\u001b[0m\u001b[1;33m\u001b[0m\u001b[0m\n\u001b[1;32m---> 11\u001b[1;33m \u001b[1;32mimport\u001b[0m \u001b[0murllib2\u001b[0m\u001b[1;33m\u001b[0m\u001b[1;33m\u001b[0m\u001b[0m\n\u001b[0m\u001b[0;32m     12\u001b[0m \u001b[1;33m\u001b[0m\u001b[0m\n\u001b[0;32m     13\u001b[0m \u001b[0mladate\u001b[0m\u001b[1;33m=\u001b[0m\u001b[0mdatetime\u001b[0m\u001b[1;33m.\u001b[0m\u001b[0mdatetime\u001b[0m\u001b[1;33m.\u001b[0m\u001b[0mtoday\u001b[0m\u001b[1;33m(\u001b[0m\u001b[1;33m)\u001b[0m\u001b[1;33m.\u001b[0m\u001b[0mstrftime\u001b[0m\u001b[1;33m(\u001b[0m\u001b[1;34m'%Y-%m-%d'\u001b[0m\u001b[1;33m)\u001b[0m \u001b[1;31m#\"310719\"\u001b[0m\u001b[1;33m\u001b[0m\u001b[1;33m\u001b[0m\u001b[0m\n",
      "\u001b[1;31mModuleNotFoundError\u001b[0m: No module named 'urllib2'"
     ]
    }
   ],
   "source": [
    "from selenium import webdriver\n",
    "from selenium.webdriver.common.keys import Keys\n",
    "from selenium.webdriver.firefox.options import Options\n",
    "from selenium.webdriver import Firefox\n",
    "import os,sys,datetime,random,re\n",
    "from collections import OrderedDict\n",
    "import csv\n",
    "import itertools\n",
    "import time\n",
    "from shutil import copyfile\n",
    "import urllib2\n",
    "\n",
    "ladate=datetime.datetime.today().strftime('%Y-%m-%d') #\"310719\" \n",
    "myDict = {\"romain_viard@yahoo.fr\":\"xIO52ts0UWm5\",\"juliette.mitjans@yahoo.fr\":\"mdpvolbrain\",\"rhumun@gmail.com\":\"EYyS9kx1UhWo\",\"renaud.lopes@gmail.com\":\"Ci2c@chru\",\"clement.bne@gmail.com\":\"ci2clille\",\"quentinvannodmichel@gmail.com\":\"p53q37rst\",\"gregkuch@msn.com\":\"greg2004\",\"e_nedeva@hotmail.com\":\"VolbrainMdp\",\"jbdavion@hotmail.fr\":\"neuro2309\"}\n",
    "myDictSorted=OrderedDict(sorted(myDict.items(), key=lambda t: t[0],reverse=True))\n",
    "\n",
    "#fh = open('/NAS/deathrow/protocoles/predistim/listePat.tsv')\n",
    "#reader = csv.reader(fh, delimiter = '\\t')\n",
    "#data = [v for v in itertools.islice(reader,0, None)]\n",
    "\n",
    "#for eval_order in range(0,len(myDictSorted)) :\n",
    "for cle,valeur in myDictSorted.items():\n",
    "\n",
    "    #cle = myDictSorted.items()[eval_order][0]\n",
    "    #valeur = myDictSorted.items()[eval_order][1]\n",
    "    #print(cle)\n",
    "    options = Options()\n",
    "    options.add_argument(\"--headless\")\n",
    "    driver = Firefox(firefox_options=options)\n",
    "    driver.get(\"http://volbrain.upv.es/index.php\")\n",
    "    elem = driver.find_element_by_name(\"email\")\n",
    "    elem.send_keys(cle)\n",
    "    elem = driver.find_element_by_name(\"password\")\n",
    "    elem.send_keys(valeur)\n",
    "    elem = driver.find_element_by_name(\"sub\")\n",
    "    elem.click()   \n",
    "    \n",
    "    elem = driver.find_element_by_name(\"job_list\")\n",
    "    html_tab_vol_brain=elem.get_attribute('innerHTML')\n",
    "    txt_tab_vol_brain=elem.text\n",
    "    #Deuxième page\n",
    "    myvar=\"loadJobList(2)\"\n",
    "    driver.execute_script(myvar)\n",
    "    elem = driver.find_element_by_name(\"job_list\")\n",
    "    html_tab_vol_brain=html_tab_vol_brain+elem.get_attribute('innerHTML')\n",
    "    txt_tab_vol_brain=txt_tab_vol_brain+elem.text\n",
    "\n",
    "    myvar=\"loadJobList(3)\"\n",
    "    driver.execute_script(myvar)\n",
    "    elem = driver.find_element_by_name(\"job_list\")\n",
    "    html_tab_vol_brain=html_tab_vol_brain+elem.get_attribute('innerHTML')\n",
    "    txt_tab_vol_brain=txt_tab_vol_brain+elem.text\n",
    "    \n",
    "    myvar=\"loadJobList(4)\"\n",
    "    driver.execute_script(myvar)\n",
    "    elem = driver.find_element_by_name(\"job_list\")\n",
    "    html_tab_vol_brain=html_tab_vol_brain+elem.get_attribute('innerHTML')\n",
    "    txt_tab_vol_brain=txt_tab_vol_brain+elem.text\n",
    "    \n",
    "    myvar=\"loadJobList(5)\"\n",
    "    driver.execute_script(myvar)\n",
    "    elem = driver.find_element_by_name(\"job_list\")\n",
    "    html_tab_vol_brain=html_tab_vol_brain+elem.get_attribute('innerHTML')\n",
    "    txt_tab_vol_brain=txt_tab_vol_brain+elem.text\n",
    "    \n",
    "    regex=\"https:\\/\\/files.volbrain.upv.es.{1,50}?\"+str(ladate)+\".{1,10}?zip\"\n",
    "    myIterator = re.finditer(regex,html_tab_vol_brain)\n",
    "    for it in myIterator :\n",
    "        mystr=html_tab_vol_brain[it.start():it.end()]\n",
    "        if not os.path.isfile(STUDY_PATH+'''data\\\\volbrain\\\\'''+mystr[30:]) :\n",
    "            print(mystr)\n",
    "            attempts = 0\n",
    "            while attempts < 3:\n",
    "                try:\n",
    "                    response = urllib2.urlopen(mystr, timeout = 5)\n",
    "                    content = response.read()\n",
    "                    f = open(STUDY_PATH+'''data\\\\volbrain\\\\'''+mystr[30:], 'w' )\n",
    "                    f.write( content )\n",
    "                    f.close() \n",
    "                    break\n",
    "                except urllib2.URLError as e:\n",
    "                    attempts += 1\n",
    "                    print(type(e))       \n",
    "    driver.stop_client()       \n",
    "    #driver.close()"
   ]
  },
  {
   "cell_type": "code",
   "execution_count": 13,
   "metadata": {},
   "outputs": [],
   "source": [
    "def getProceedTask(idvb,pwd):\n",
    "    ladate=datetime.datetime.today().strftime('%Y-%m-%d')\n",
    "    #print(ladate)\n",
    "    ladate=\"171220\"\n",
    "    print(ladate)\n",
    "    options = Options()\n",
    "    options.headless = True\n",
    "    driver = Firefox(options=options)\n",
    "    driver.implicitly_wait(15)\n",
    "    #WebDriverWait(driver, timeout=5).until(document_initialised)\n",
    "    driver.get(\"http://volbrain.upv.es/index.php\")\n",
    "    elem = driver.find_element_by_name(\"email\")\n",
    "    elem.send_keys(idvb)\n",
    "    elem = driver.find_element_by_name(\"password\")\n",
    "    elem.send_keys(pwd)\n",
    "    elem = driver.find_element_by_name(\"sub\")\n",
    "    elem.click()   \n",
    "    elem = driver.find_element_by_name(\"job_list\")\n",
    "    html_tab_vol_brain=elem.get_attribute('innerHTML')\n",
    "    txt_tab_vol_brain=elem.text\n",
    "    \n",
    "    for n in range(2,6,1):\n",
    "        driver.execute_script(\"loadJobList(\"+str(n)+\")\")\n",
    "        elem = driver.find_element_by_name(\"job_list\")\n",
    "        html_tab_vol_brain=html_tab_vol_brain+elem.get_attribute('innerHTML')\n",
    "        txt_tab_vol_brain=txt_tab_vol_brain+elem.text\n",
    "\n",
    "    #print(html_tab_vol_brain)\n",
    "    \n",
    "    regex=\"https:\\/\\/files.volbrain.upv.es.{1,50}?\"+str(ladate)+\".{1,10}?zip\"\n",
    "   \n",
    "    #for m in re.finditer(\" \"+str(ladate)+\" \",txt_tab_vol_brain):\n",
    "    #    deb -= 1\n",
    "        \n",
    "    for it in re.finditer(regex,html_tab_vol_brain) :\n",
    "        mystr=html_tab_vol_brain[it.start():it.end()]        \n",
    "        filepath=os.path.join(STUDY_PATH,'volbrain3',mystr[30:])\n",
    "        if not os.path.isfile(filepath) :\n",
    "            print(mystr)\n",
    "            attempts = 0\n",
    "            while attempts < 3:\n",
    "                try:\n",
    "                    #response = urllib3.urlopen(mystr, timeout = 5)\n",
    "                    #content = response.read()\n",
    "                    \n",
    "                    #http = urllib3.PoolManager(timeout=10.0)\n",
    "                    #r = http.request('GET', mystr, retries=10)                   \n",
    "                    \n",
    "                    #f = open(filepath, 'w' )\n",
    "                    #f.write( \"coucou\" )\n",
    "                    #f.close() \n",
    "                    \n",
    "                    r = requests.get(mystr, stream=True)\n",
    "                    with open(filepath, 'wb') as f:\n",
    "                        total_length = int(r.headers.get('content-length'))\n",
    "                        for chunk in progress.bar(r.iter_content(chunk_size=1024), expected_size=(total_length/1024) + 1): \n",
    "                            if chunk:\n",
    "                                f.write(chunk)\n",
    "                                f.flush()                                      \n",
    "                    \n",
    "                    #!wget mystr\n",
    "                    \n",
    "                    break\n",
    "                except urllib3.exceptions.NewConnectionError: #urllib3.URLError as e:\n",
    "                    attempts += 1\n",
    "                    print(type(e)) \n",
    "        \n",
    "        if os.path.isfile(os.path.join(STUDY_PATH,'volbrain3',mystr[30:44])): #(mystr[30:].startswith('1') | mystr[30:].startswith('0')) :\n",
    "            #print(os.path.join(STUDY_PATH,'volbrain',mystr[30:44]))\n",
    "            os.remove(os.path.join(STUDY_PATH,'volbrain3',mystr[30:44])) \n",
    "        \n",
    "    driver.stop_client()       \n",
    "    driver.close()"
   ]
  },
  {
   "cell_type": "code",
   "execution_count": 5,
   "metadata": {
    "tags": []
   },
   "outputs": [],
   "source": [
    "def document_initialised(driver):\n",
    "    return driver.execute_script(\"return initialised\")"
   ]
  },
  {
   "cell_type": "code",
   "execution_count": 6,
   "metadata": {
    "tags": []
   },
   "outputs": [],
   "source": [
    "def getNbAvailable(idvb,pwd):\n",
    "    ladate=datetime.datetime.today().strftime('%Y-%m-%d')\n",
    "    options = Options()\n",
    "    options.headless = True\n",
    "    driver = Firefox(options=options)\n",
    "    driver.implicitly_wait(10)\n",
    "    #WebDriverWait(driver, timeout=5).until(document_initialised)\n",
    "    driver.get(\"http://volbrain.upv.es/index.php\")\n",
    "    elem = driver.find_element_by_name(\"email\")\n",
    "    elem.send_keys(idvb)\n",
    "    elem = driver.find_element_by_name(\"password\")\n",
    "    elem.send_keys(pwd)\n",
    "    elem = driver.find_element_by_name(\"sub\")\n",
    "    elem.click()   \n",
    "    elem = driver.find_element_by_name(\"job_list\")\n",
    "    html_tab_vol_brain=elem.get_attribute('innerHTML')\n",
    "    txt_tab_vol_brain=elem.text\n",
    "    driver.stop_client()       \n",
    "    driver.close()\n",
    "    deb=10\n",
    "    for m in re.finditer(\" \"+str(ladate)+\" \",txt_tab_vol_brain):\n",
    "        deb -= 1\n",
    "    return deb"
   ]
  },
  {
   "cell_type": "code",
   "execution_count": 7,
   "metadata": {
    "tags": []
   },
   "outputs": [],
   "source": [
    "def sendFileOnVB(file,age,sexe,idvb,pwd):\n",
    "    options = Options()\n",
    "    options.headless = True\n",
    "    driver = Firefox(options=options)\n",
    "    driver.implicitly_wait(15)\n",
    "   #WebDriverWait(driver, timeout=5).until(document_initialised)\n",
    "    driver.get(\"https://volbrain.upv.es/index.php\")\n",
    "    #print(\"Web site reached\")\n",
    "    elem = driver.find_element_by_name(\"email\")\n",
    "    elem.send_keys(idvb)\n",
    "    elem = driver.find_element_by_name(\"password\")\n",
    "    elem.send_keys(pwd)\n",
    "    #print(\"Connected\")\n",
    "    elem = driver.find_element_by_name(\"sub\")\n",
    "    elem.click()\n",
    "    elem = driver.find_element_by_id(\"pipeline1\")\n",
    "    elem.click()\n",
    "    #print(\"Pipeline1 Ok\")\n",
    "    elem = driver.find_element_by_name(\"volbrain_t1_file\")\n",
    "    elem.send_keys(file)\n",
    "    elem = driver.find_element_by_name(\"volbrain_patientssex\")\n",
    "    elem.send_keys(sexe)\n",
    "    elem = driver.find_element_by_name(\"volbrain_patientsage\")\n",
    "    elem.send_keys(age)\n",
    "    elem = driver.find_element_by_name(\"button_volbrain\")\n",
    "    elem.click()\n",
    "    #print(\"Data sent\")\n",
    "    driver.stop_client()       \n",
    "    driver.close()"
   ]
  },
  {
   "cell_type": "markdown",
   "metadata": {},
   "source": [
    "# Envoi des 3DT1 sur Volbrain"
   ]
  },
  {
   "cell_type": "markdown",
   "metadata": {},
   "source": [
    "ps -x | grep contentproc | cut -f1 -d \" \"| xargs kill \n",
    "ps -x | grep geckodriver | cut -f1 -d \" \" | tac | xargs kill\n",
    "ls -d /tmp/rus* | xargs rm -r"
   ]
  },
  {
   "cell_type": "code",
   "execution_count": 28,
   "metadata": {},
   "outputs": [],
   "source": [
    "CQData = pd.read_excel(CQ_FILE,index_col=0)\n",
    "T1_DB=set(CQData.loc[CQData['QC_3DT1']>1].index)\n",
    "for SUBJID in T1_DB:\n",
    "    files_namesDone=glob.glob(os.path.join(STUDY_PATH,'volbrain','*'+SUBJID+'*.zip'))\n",
    "    files_namesRunning=glob.glob(os.path.join(STUDY_PATH,'volbrain',SUBJID+'.nii.gz'))            \n",
    "    if not((len(files_namesDone)>1) | (len(files_namesRunning)==1)) :\n",
    "        #print(len(files_namesDone))\n",
    "        #print(len(files_namesRunning))\n",
    "        file_3DT1=get3DT1File(SUBJID)\n",
    "        if os.path.exists(file_3DT1) :\n",
    "            age,sexe=getAgeAndSexe(SUBJID)        \n",
    "            print(SUBJID+' '+file_3DT1+' '+str(age)+' '+str(sexe))\n",
    "            for cle,valeur in myDictSorted.items():\n",
    "                dispo=getNbAvailable(cle,valeur)\n",
    "                if dispo > 0 :\n",
    "                    T1_filename = os.path.join(STUDY_PATH,'volbrain',SUBJID+'.nii.gz')\n",
    "                    print(T1_filename)\n",
    "                    print(file_3DT1)\n",
    "                    copyfile(file_3DT1,T1_filename)                          \n",
    "                    sendFileOnVB(T1_filename,str(age),str(sexe),cle,valeur)                                            \n",
    "                    print('ok on : '+ cle)\n",
    "                    break"
   ]
  },
  {
   "cell_type": "code",
   "execution_count": 96,
   "metadata": {},
   "outputs": [],
   "source": [
    "del myDictSorted['neuro.volbrain1@gmail.com']"
   ]
  },
  {
   "cell_type": "markdown",
   "metadata": {},
   "source": [
    "# Recupération des zip sur VolBrain"
   ]
  },
  {
   "cell_type": "code",
   "execution_count": 14,
   "metadata": {
    "tags": []
   },
   "outputs": [
    {
     "name": "stdout",
     "output_type": "stream",
     "text": [
      "171220\n",
      "https://files.volbrain.upv.es/02068AM.nii.gz_job270059171220160034.zip\n",
      "https://files.volbrain.upv.es/native_02068AM.nii.gz_job270059171220160034.zip\n",
      "https://files.volbrain.upv.es/02066RM.nii.gz_job270058171220160248.zip\n",
      "https://files.volbrain.upv.es/native_02066RM.nii.gz_job270058171220160248.zip\n",
      "https://files.volbrain.upv.es/02062XA.nii.gz_job270056171220155845.zip\n",
      "https://files.volbrain.upv.es/native_02062XA.nii.gz_job270056171220155845.zip\n",
      "https://files.volbrain.upv.es/02051BG.nii.gz_job270055171220155819.zip\n",
      "https://files.volbrain.upv.es/native_02051BG.nii.gz_job270055171220155819.zip\n",
      "https://files.volbrain.upv.es/02031BO.nii.gz_job270046171220153219.zip\n",
      "https://files.volbrain.upv.es/native_02031BO.nii.gz_job270046171220153219.zip\n",
      "https://files.volbrain.upv.es/02062XA.nii.gz_job270043171220152922.zip\n",
      "https://files.volbrain.upv.es/native_02062XA.nii.gz_job270043171220152922.zip\n",
      "https://files.volbrain.upv.es/02044LC.nii.gz_job270042171220152442.zip\n",
      "https://files.volbrain.upv.es/native_02044LC.nii.gz_job270042171220152442.zip\n",
      "https://files.volbrain.upv.es/02065GJ.nii.gz_job270041171220152444.zip\n",
      "https://files.volbrain.upv.es/native_02065GJ.nii.gz_job270041171220152444.zip\n",
      "https://files.volbrain.upv.es/14004IJ.nii.gz_job270038171220152159.zip\n",
      "https://files.volbrain.upv.es/native_14004IJ.nii.gz_job270038171220152159.zip\n",
      "171220\n",
      "171220\n",
      "171220\n",
      "171220\n",
      "171220\n",
      "171220\n",
      "171220\n",
      "171220\n",
      "171220\n",
      "171220\n",
      "171220\n",
      "171220\n",
      "171220\n",
      "171220\n",
      "https://files.volbrain.upv.es/T1VR1992.nii.gz_job270005171220124147.zip\n",
      "https://files.volbrain.upv.es/native_T1VR1992.nii.gz_job270005171220124147.zip\n",
      "https://files.volbrain.upv.es/T1DC1971.nii.gz_job270004171220124141.zip\n",
      "https://files.volbrain.upv.es/native_T1DC1971.nii.gz_job270004171220124141.zip\n",
      "https://files.volbrain.upv.es/T1BG1981.nii.gz_job269994171220120857.zip\n",
      "https://files.volbrain.upv.es/native_T1BG1981.nii.gz_job269994171220120857.zip\n",
      "https://files.volbrain.upv.es/T1WS1979.nii.gz_job269993171220114745.zip\n"
     ]
    },
    {
     "ename": "KeyboardInterrupt",
     "evalue": "",
     "output_type": "error",
     "traceback": [
      "\u001b[0;31m---------------------------------------------------------------------------\u001b[0m",
      "\u001b[0;31mKeyboardInterrupt\u001b[0m                         Traceback (most recent call last)",
      "\u001b[0;32m<ipython-input-14-509a44c2697c>\u001b[0m in \u001b[0;36m<module>\u001b[0;34m\u001b[0m\n\u001b[1;32m      1\u001b[0m \u001b[0;32mfor\u001b[0m \u001b[0mcle\u001b[0m\u001b[0;34m,\u001b[0m\u001b[0mvaleur\u001b[0m \u001b[0;32min\u001b[0m \u001b[0mmyDictSorted\u001b[0m\u001b[0;34m.\u001b[0m\u001b[0mitems\u001b[0m\u001b[0;34m(\u001b[0m\u001b[0;34m)\u001b[0m\u001b[0;34m:\u001b[0m\u001b[0;34m\u001b[0m\u001b[0;34m\u001b[0m\u001b[0m\n\u001b[0;32m----> 2\u001b[0;31m     \u001b[0mgetProceedTask\u001b[0m\u001b[0;34m(\u001b[0m\u001b[0mcle\u001b[0m\u001b[0;34m,\u001b[0m\u001b[0mvaleur\u001b[0m\u001b[0;34m)\u001b[0m\u001b[0;34m\u001b[0m\u001b[0;34m\u001b[0m\u001b[0m\n\u001b[0m",
      "\u001b[0;32m<ipython-input-13-7d5a1a8fcfb7>\u001b[0m in \u001b[0;36mgetProceedTask\u001b[0;34m(idvb, pwd)\u001b[0m\n\u001b[1;32m     57\u001b[0m                             \u001b[0;32mif\u001b[0m \u001b[0mchunk\u001b[0m\u001b[0;34m:\u001b[0m\u001b[0;34m\u001b[0m\u001b[0;34m\u001b[0m\u001b[0m\n\u001b[1;32m     58\u001b[0m                                 \u001b[0mf\u001b[0m\u001b[0;34m.\u001b[0m\u001b[0mwrite\u001b[0m\u001b[0;34m(\u001b[0m\u001b[0mchunk\u001b[0m\u001b[0;34m)\u001b[0m\u001b[0;34m\u001b[0m\u001b[0;34m\u001b[0m\u001b[0m\n\u001b[0;32m---> 59\u001b[0;31m                                 \u001b[0mf\u001b[0m\u001b[0;34m.\u001b[0m\u001b[0mflush\u001b[0m\u001b[0;34m(\u001b[0m\u001b[0;34m)\u001b[0m\u001b[0;34m\u001b[0m\u001b[0;34m\u001b[0m\u001b[0m\n\u001b[0m\u001b[1;32m     60\u001b[0m \u001b[0;34m\u001b[0m\u001b[0m\n\u001b[1;32m     61\u001b[0m                     \u001b[0;31m#!wget mystr\u001b[0m\u001b[0;34m\u001b[0m\u001b[0;34m\u001b[0m\u001b[0;34m\u001b[0m\u001b[0m\n",
      "\u001b[0;31mKeyboardInterrupt\u001b[0m: "
     ]
    }
   ],
   "source": [
    "for cle,valeur in myDictSorted.items():\n",
    "    getProceedTask(cle,valeur)"
   ]
  },
  {
   "cell_type": "markdown",
   "metadata": {},
   "source": [
    "# Pour avoir tous les 3DT1 avec un CQ >2 au meme endroit"
   ]
  },
  {
   "cell_type": "code",
   "execution_count": 3,
   "metadata": {},
   "outputs": [],
   "source": [
    "CQData = pd.read_excel(CQ_FILE,index_col=0)\n",
    "T1_DB=set(CQData.loc[CQData['QC_3DT1']>1].index)\n",
    "for SUBJID in T1_DB:\n",
    "    file_3DT1=get3DT1File(SUBJID)\n",
    "    if not os.path.exists(os.path.join(STUDY_PATH,'3DT1',SUBJID,\"3DT1_\"+SUBJID+\".nii.gz\")):\n",
    "        #os.mkdir(os.path.join(STUDY_PATH,'3DT1',SUBJID))\n",
    "        cmd=\"qbatch -q two_job_q -oe \"+os.path.join(STUDY_PATH,'code','log')+\" -N T1_\"+ SUBJID +\" fslreorient2std \"+file_3DT1+\" \"+os.path.join(STUDY_PATH,'3DT1',SUBJID,\"3DT1_\"+SUBJID+\".nii.gz\")+\";sleep 0.5;\"\n",
    "        print(cmd)"
   ]
  },
  {
   "cell_type": "markdown",
   "metadata": {},
   "source": [
    "# carte R2 * et recalage sur MNI"
   ]
  },
  {
   "cell_type": "code",
   "execution_count": 11,
   "metadata": {},
   "outputs": [
    {
     "name": "stdout",
     "output_type": "stream",
     "text": [
      "qbatch -q three_job_q -oe /NAS/deathrow/protocoles/predistim/code/log -N R2_08025HV bash /NAS/deathrow/protocoles/predistim/code/R2_analysis.sh 08025HV  /NAS/deathrow/protocoles/predistim/2020-04-02/08/08025HV/M00/mri_3dt1_t1_geo_nifti.nii.gz\n",
      "qbatch -q three_job_q -oe /NAS/deathrow/protocoles/predistim/code/log -N R2_08029JD bash /NAS/deathrow/protocoles/predistim/code/R2_analysis.sh 08029JD  /NAS/deathrow/protocoles/predistim/2020-04-02/08/08029JD/M00/mri_3dt1_t1_geo_nifti.nii.gz\n",
      "qbatch -q three_job_q -oe /NAS/deathrow/protocoles/predistim/code/log -N R2_08037CG bash /NAS/deathrow/protocoles/predistim/code/R2_analysis.sh 08037CG  /NAS/deathrow/protocoles/predistim/2020-04-02/08/08037CG/M00/mri_3dt1_t1_nobias_geo_nifti.nii.gz\n",
      "qbatch -q three_job_q -oe /NAS/deathrow/protocoles/predistim/code/log -N R2_08038FS bash /NAS/deathrow/protocoles/predistim/code/R2_analysis.sh 08038FS  /NAS/deathrow/protocoles/predistim/2020-04-02/08/08038FS/M00/mri_3dt1_t1_nobias_geo_nifti.nii.gz\n",
      "qbatch -q three_job_q -oe /NAS/deathrow/protocoles/predistim/code/log -N R2_08039PD bash /NAS/deathrow/protocoles/predistim/code/R2_analysis.sh 08039PD  /NAS/deathrow/protocoles/predistim/2020-04-02/08/08039PD/M00/mri_3dt1_t1_nobias_geo_nifti.nii.gz\n",
      "qbatch -q three_job_q -oe /NAS/deathrow/protocoles/predistim/code/log -N R2_08040AC bash /NAS/deathrow/protocoles/predistim/code/R2_analysis.sh 08040AC  /NAS/deathrow/protocoles/predistim/2020-04-02/08/08040AC/M00/mri_3dt1_t1_nobias_geo_nifti.nii.gz\n",
      "qbatch -q three_job_q -oe /NAS/deathrow/protocoles/predistim/code/log -N R2_08042LS bash /NAS/deathrow/protocoles/predistim/code/R2_analysis.sh 08042LS  /NAS/deathrow/protocoles/predistim/2020-04-02/08/08042LS/M00/mri_3dt1_t1_nobias_geo_nifti.nii.gz\n",
      "qbatch -q three_job_q -oe /NAS/deathrow/protocoles/predistim/code/log -N R2_09013DS bash /NAS/deathrow/protocoles/predistim/code/R2_analysis.sh 09013DS  /NAS/deathrow/protocoles/predistim/2020-04-02/09/09013DS/M00/mri_3dt1_t1_geo_nifti.nii.gz\n",
      "qbatch -q three_job_q -oe /NAS/deathrow/protocoles/predistim/code/log -N R2_14006AJ bash /NAS/deathrow/protocoles/predistim/code/R2_analysis.sh 14006AJ  /NAS/deathrow/protocoles/predistim/2020-04-02/14/14006AJ/M00/mri_3dt1_t1_geo_nifti.nii.gz\n",
      "qbatch -q three_job_q -oe /NAS/deathrow/protocoles/predistim/code/log -N R2_14008MC bash /NAS/deathrow/protocoles/predistim/code/R2_analysis.sh 14008MC  /NAS/deathrow/protocoles/predistim/2020-04-02/14/14008MC/M00/mri_3dt1_t1_geo_nifti.nii.gz\n",
      "qbatch -q three_job_q -oe /NAS/deathrow/protocoles/predistim/code/log -N R2_14009DP bash /NAS/deathrow/protocoles/predistim/code/R2_analysis.sh 14009DP  /NAS/deathrow/protocoles/predistim/2020-04-02/14/14009DP/M00/mri_3dt1_t1_geo_nifti.nii.gz\n",
      "qbatch -q three_job_q -oe /NAS/deathrow/protocoles/predistim/code/log -N R2_14011GM bash /NAS/deathrow/protocoles/predistim/code/R2_analysis.sh 14011GM  /NAS/deathrow/protocoles/predistim/2020-04-02/14/14011GM/M00/mri_3dt1_t1_geo_nifti.nii.gz\n"
     ]
    }
   ],
   "source": [
    "CQData = pd.read_excel(CQ_FILE,index_col=0)\n",
    "\n",
    "T1_DB=set(CQData.loc[CQData['QC_3DT1']>1].index)\n",
    "TE_DB=set(CQData.loc[CQData['QC_3DMULTI']>1].index)\n",
    "\n",
    "for SUBJID in sorted(T1_DB & TE_DB) :\n",
    "    file_3DT1=get3DT1File(SUBJID)        \n",
    "    file_multiTE=getMultiTEFile(SUBJID)  \n",
    "    if not os.path.exists(os.path.join(STUDY_PATH,'R2',SUBJID,'R2_nonlin_atlas.nii')) :\n",
    "        cmd=\"qbatch -q three_job_q -oe \"+os.path.join(STUDY_PATH,'code','log')+\" -N R2_\"+ SUBJID +\" bash \"+ os.path.join(STUDY_PATH,'code')+\"/R2_analysis.sh \"+SUBJID+\" \"+file_multiTE+\" \"+file_3DT1\n",
    "        print(cmd)        "
   ]
  },
  {
   "cell_type": "markdown",
   "metadata": {},
   "source": [
    "# Unzip dicomfiles for QSM processing"
   ]
  },
  {
   "cell_type": "code",
   "execution_count": 80,
   "metadata": {
    "collapsed": true,
    "jupyter": {
     "outputs_hidden": true
    }
   },
   "outputs": [
    {
     "name": "stdout",
     "output_type": "stream",
     "text": [
      "17044DJ NOK : \n",
      "17051AV\n",
      "17052BP\n",
      "17053KC\n",
      "17054BL\n",
      "17055DA\n",
      "17057CF\n",
      "17060JR\n",
      "17061BC\n",
      "17062GD\n",
      "17065CM\n",
      "17066DE\n",
      "17068MJ\n",
      "17069BB\n",
      "17070MJ\n",
      "17071PM\n",
      "17072PF\n",
      "17073GP\n",
      "17076CJ\n",
      "17077BS\n",
      "17078ZH\n",
      "17079DM\n",
      "17080RC\n",
      "19011LA\n",
      "19012GD\n",
      "19013PA\n",
      "19014GC\n",
      "19015SO\n"
     ]
    }
   ],
   "source": [
    "from zipfile import ZipFile\n",
    "import tarfile\n",
    "\n",
    "#dir_names=glob.glob(os.path.join(STUDY_PATH,'2020-04-02','*','*'))\n",
    "#for dir_name in dir_names :\n",
    "#    SUBJID=os.path.split(dir_name)[1]\n",
    "#    if (SUBJID.startswith('01') | SUBJID.startswith('17') | SUBJID.startswith('19')):\n",
    "CQData = pd.read_excel(CQ_FILE,index_col=0)\n",
    "\n",
    "T1_DB=set(CQData.loc[CQData['QC_3DT1']>1].index)\n",
    "TE_DB=set(CQData.loc[CQData['QC_3DMULTI']>1].index)\n",
    "\n",
    "for SUBJID in (T1_DB & TE_DB) \n",
    "    CQT1,CQTE=getCQT1AndMultiTE(SUBJID)\n",
    "        if not os.path.exists(os.path.join(STUDY_PATH,'QSM',SUBJID,'QSM_lin_atlas.nii.gz')) :            \n",
    "            file_3DT1=get3DT1File(SUBJID)        \n",
    "            file_multiTE=getMultiTEFile(SUBJID)  \n",
    "            files_im=file_multiTE.replace('nifti.nii.gz','dicom.tar.gz').replace('mri_3dmultigre_multigre','mri_3dmultigre_multigreim').replace('_geo_','_')\n",
    "            files_re=file_multiTE.replace('nifti.nii.gz','dicom.tar.gz').replace('mri_3dmultigre_multigre','mri_3dmultigre_multigrere').replace('_geo_','_')\n",
    "            if not (os.path.exists(os.path.join(STUDY_PATH,'QSM',SUBJID,'dicom_v1'))):\n",
    "                if (os.path.exists(os.path.join(STUDY_PATH,'QSM',SUBJID,'dicom'))):\n",
    "                    os.rename(os.path.join(STUDY_PATH,'QSM',SUBJID,'dicom'),os.path.join(STUDY_PATH,'QSM',SUBJID,'dicom_v1'))                \n",
    "\n",
    "                if (os.path.exists(files_im) & os.path.exists(files_re)):\n",
    "                    print(SUBJID)\n",
    "                    tf = tarfile.open(files_im)\n",
    "                    #print(files_im)\n",
    "                    tf.extractall(path=os.path.join(STUDY_PATH,'QSM',SUBJID,'dicom'))\n",
    "                    tf = tarfile.open(files_re)\n",
    "                    #print(files_re)\n",
    "                    tf.extractall(path=os.path.join(STUDY_PATH,'QSM',SUBJID,'dicom'))  \n",
    "                else :\n",
    "                    files_dicom=file_multiTE.replace('nifti.nii.gz','dicom.tar.gz')\n",
    "                    if (os.path.exists(files_dicom)):\n",
    "                        print(SUBJID)\n",
    "                        tf = tarfile.open(files_dicom)\n",
    "                        #print(files_dicom)\n",
    "                        tf.extractall(path=os.path.join(STUDY_PATH,'QSM',SUBJID,'dicom'))                    \n",
    "                    else :\n",
    "                        print(SUBJID + \" NOK : \" + file_multiTE)"
   ]
  },
  {
   "cell_type": "markdown",
   "metadata": {},
   "source": [
    "# QSM et application du recalage sur MNI"
   ]
  },
  {
   "cell_type": "code",
   "execution_count": 30,
   "metadata": {
    "collapsed": true,
    "jupyter": {
     "outputs_hidden": true
    }
   },
   "outputs": [
    {
     "name": "stdout",
     "output_type": "stream",
     "text": [
      "17044DJ\n",
      "17061BC\n",
      "17062GD\n",
      "17065CM\n",
      "17066DE\n",
      "17068MJ\n",
      "17069BB\n",
      "17070MJ\n",
      "17071PM\n",
      "17072PF\n",
      "17073GP\n",
      "17076CJ\n",
      "17077BS\n",
      "17078ZH\n",
      "17079DM\n",
      "17080RC\n",
      "19014GC\n",
      "19015SO\n"
     ]
    }
   ],
   "source": [
    "dir_names=glob.glob(os.path.join(STUDY_PATH,'2020-04-02','*','*'))\n",
    "for dir_name in dir_names :\n",
    "    SUBJID=os.path.split(dir_name)[1]\n",
    "    CQT1,CQTE=getCQT1AndMultiTE(SUBJID)\n",
    "    if (SUBJID.startswith('01') | SUBJID.startswith('17') | SUBJID.startswith('19')):\n",
    "        if ((int(CQT1)>2) & (int(CQTE)>2)) :\n",
    "            if not os.path.exists(os.path.join(STUDY_PATH,'QSM',SUBJID,'QSM_nonlin_atlas.nii.gz')) :\n",
    "                #cmd=\"qbatch -q three_job_q -oe \"+os.path.join(STUDY_PATH,'code','log')+\" -N QSM_\"+ SUBJID +\" bash \"+ os.path.join(STUDY_PATH,'code')+\"/computeQSM.sh \"+SUBJID\n",
    "                print(SUBJID)"
   ]
  },
  {
   "cell_type": "markdown",
   "metadata": {},
   "source": [
    "# QSMBOX"
   ]
  },
  {
   "cell_type": "code",
   "execution_count": 13,
   "metadata": {},
   "outputs": [
    {
     "name": "stdout",
     "output_type": "stream",
     "text": [
      "qbatch -q three_job_q -oe /NAS/deathrow/protocoles/predistim/code/log -N QSMB_06013LJ bash /NAS/deathrow/protocoles/predistim/code/run_QSMBox.sh 06013LJ /NAS/deathrow/protocoles/predistim/2020-04-02/06/06013LJ/M00/mri_3dmultigre_multigre_nifti.nii.gz\n",
      "qbatch -q three_job_q -oe /NAS/deathrow/protocoles/predistim/code/log -N QSMB_07085DP bash /NAS/deathrow/protocoles/predistim/code/run_QSMBox.sh 07085DP /NAS/deathrow/protocoles/predistim/2020-04-02/07/07085DP/M00/mri_3dmultigre_multigre_geo_nifti.nii.gz\n",
      "qbatch -q three_job_q -oe /NAS/deathrow/protocoles/predistim/code/log -N QSMB_07096TC bash /NAS/deathrow/protocoles/predistim/code/run_QSMBox.sh 07096TC /NAS/deathrow/protocoles/predistim/2020-04-02/07/07096TC/M00/mri_3dmultigre_multigre_geo_nifti.nii.gz\n",
      "qbatch -q three_job_q -oe /NAS/deathrow/protocoles/predistim/code/log -N QSMB_08025HV bash /NAS/deathrow/protocoles/predistim/code/run_QSMBox.sh 08025HV \n",
      "qbatch -q three_job_q -oe /NAS/deathrow/protocoles/predistim/code/log -N QSMB_08029JD bash /NAS/deathrow/protocoles/predistim/code/run_QSMBox.sh 08029JD \n",
      "qbatch -q three_job_q -oe /NAS/deathrow/protocoles/predistim/code/log -N QSMB_08037CG bash /NAS/deathrow/protocoles/predistim/code/run_QSMBox.sh 08037CG \n",
      "qbatch -q three_job_q -oe /NAS/deathrow/protocoles/predistim/code/log -N QSMB_08038FS bash /NAS/deathrow/protocoles/predistim/code/run_QSMBox.sh 08038FS \n",
      "qbatch -q three_job_q -oe /NAS/deathrow/protocoles/predistim/code/log -N QSMB_08039PD bash /NAS/deathrow/protocoles/predistim/code/run_QSMBox.sh 08039PD \n",
      "qbatch -q three_job_q -oe /NAS/deathrow/protocoles/predistim/code/log -N QSMB_08040AC bash /NAS/deathrow/protocoles/predistim/code/run_QSMBox.sh 08040AC \n",
      "qbatch -q three_job_q -oe /NAS/deathrow/protocoles/predistim/code/log -N QSMB_08042LS bash /NAS/deathrow/protocoles/predistim/code/run_QSMBox.sh 08042LS \n",
      "qbatch -q three_job_q -oe /NAS/deathrow/protocoles/predistim/code/log -N QSMB_17005AM bash /NAS/deathrow/protocoles/predistim/code/run_QSMBox.sh 17005AM /NAS/deathrow/protocoles/predistim/2020-04-02/17/17005AM/M00/mri_3dmultigre_multigre_geo_nifti.nii.gz\n",
      "qbatch -q three_job_q -oe /NAS/deathrow/protocoles/predistim/code/log -N QSMB_17044DJ bash /NAS/deathrow/protocoles/predistim/code/run_QSMBox.sh 17044DJ /NAS/deathrow/protocoles/predistim/2018-12-12_3dmultigre/17/17044DJ/M00/mri_3dmultigre_multigre_geo_nifti.nii.gz\n"
     ]
    }
   ],
   "source": [
    "CQData = pd.read_excel(CQ_FILE,index_col=0)\n",
    "\n",
    "T1_DB=set(CQData.loc[CQData['QC_3DT1']>1].index)\n",
    "TE_DB=set(CQData.loc[CQData['QC_3DMULTI']>1].index)\n",
    "\n",
    "for SUBJID in sorted(T1_DB & TE_DB):\n",
    "    if (SUBJID.startswith('01') | SUBJID.startswith('17') | SUBJID.startswith('19') | SUBJID.startswith('06') | SUBJID.startswith('07') | SUBJID.startswith('08')):\n",
    "        file_multiTE=getMultiTEFile(SUBJID)\n",
    "        if not len(glob.glob(os.path.join(STUDY_PATH,'QSM',SUBJID+'*','QSM_nonlin_atlas.nii.gz'))) :\n",
    "            cmd=\"qbatch -q three_job_q -oe \"+os.path.join(STUDY_PATH,'code','log')+\" -N QSMB_\"+ SUBJID +\" bash \"+ os.path.join(STUDY_PATH,'code')+\"/run_QSMBox.sh \"+SUBJID+\" \"+file_multiTE\n",
    "            print(cmd)"
   ]
  },
  {
   "cell_type": "code",
   "execution_count": 22,
   "metadata": {},
   "outputs": [
    {
     "name": "stdout",
     "output_type": "stream",
     "text": [
      "/NAS/deathrow/protocoles/predistim/QSMBOX/20029DA*/QSM_nonlin_atlas.nii.gz\n",
      "0\n",
      "coucou\n"
     ]
    }
   ],
   "source": [
    "print(os.path.join(STUDY_PATH,'QSMBOX',SUBJID+'*','QSM_nonlin_atlas.nii.gz'))\n",
    "print(len(glob.glob(os.path.join(STUDY_PATH,'QSMBOX',SUBJID+'*','QSM_nonlin_atlas.nii.gz'))))\n",
    "if not (len(glob.glob(os.path.join(STUDY_PATH,'QSMBOX',SUBJID+'*','QSM_nonlin_atlas.nii.gz')))):\n",
    "    print('coucou')\n",
    "else:\n",
    "    print('alors')"
   ]
  },
  {
   "cell_type": "markdown",
   "metadata": {},
   "source": [
    "# Affiche les patients n'ayant pas le rescale slope/intercept dans l'entet DICOM"
   ]
  },
  {
   "cell_type": "code",
   "execution_count": 13,
   "metadata": {
    "collapsed": true,
    "jupyter": {
     "outputs_hidden": true
    }
   },
   "outputs": [
    {
     "name": "stdout",
     "output_type": "stream",
     "text": [
      "01015HC\n",
      "01024FC\n",
      "17019JF\n",
      "17035PD\n",
      "17040MD\n",
      "17051AV\n",
      "17052BP\n",
      "17053KC\n",
      "17054BL\n",
      "17055DA\n",
      "17057CF\n",
      "17060JR\n",
      "17061BC\n",
      "17062GD\n",
      "17065CM\n",
      "17066DE\n",
      "17068MJ\n",
      "17069BB\n",
      "17070MJ\n",
      "17071PM\n",
      "17072PF\n",
      "17073GP\n",
      "17075GR\n",
      "17076CJ\n",
      "17077BS\n",
      "17078ZH\n",
      "17079DM\n",
      "17080RC\n",
      "19011LA\n",
      "19012GD\n",
      "19013PA\n",
      "19014GC\n",
      "19015SO\n"
     ]
    }
   ],
   "source": [
    "dir_names=glob.glob(os.path.join(STUDY_PATH,'2020-04-02','*','*'))\n",
    "for dir_name in dir_names :\n",
    "    SUBJID=os.path.split(dir_name)[1]\n",
    "    CQT1,CQTE=getCQT1AndMultiTE(SUBJID)\n",
    "    if (SUBJID.startswith('01') | SUBJID.startswith('17') | SUBJID.startswith('19')):\n",
    "        if ((int(CQT1)>2) & (int(CQTE)>2)) :\n",
    "            dir_files=glob.glob(os.path.join(STUDY_PATH,'QSM',SUBJID,'dicom','*'))\n",
    "            for dir_file in dir_files :\n",
    "                res=! dcmdump +P \"0040,9224\" $dir_file\n",
    "                if len(res)==0 :\n",
    "                    print(SUBJID)\n",
    "                break"
   ]
  },
  {
   "cell_type": "code",
   "execution_count": 26,
   "metadata": {},
   "outputs": [],
   "source": [
    "import matlab.engine\n",
    "#internal.engine.input\n",
    "eng = matlab.engine.start_matlab()\n",
    "eng.addpath('/NAS/deathrow/mri_data/test_NAILA/Tests_Dti_Multi_Shells/DESIGNER/utils', nargout=0)\n",
    "print(\"eng.tensorfitting(path.to_scratch('',True),path.from_user(app.ARGS.output, True),outliers,KCUM,DTI,DKI,WMTI,constraints,AKC,DKI_root,nargout=0)\")\n",
    "eng.tensorfitting(path.to_scratch('',True),path.from_user(app.ARGS.output, True),outliers,KCUM,DTI,DKI,WMTI,constraints,AKC,DKI_root,nargout=0)"
   ]
  },
  {
   "cell_type": "code",
   "execution_count": 12,
   "metadata": {},
   "outputs": [],
   "source": [
    "df1 = pd.read_excel(os.path.join(STUDY_PATH,'Bio_Ima_Gen_V3_20210205.xlsx'),engine='openpyxl',index_col=0)\n",
    "for SUBJ in df1.query('CQT1>1').index:\n",
    "    if not len(glob.glob(os.path.join(STUDY_PATH,'3DT1',SUBJ,'3DT1_'+SUBJ+'.nii.gz'))): \n",
    "        print(\"Pb 3DT1 :\",SUBJ,len(glob.glob(os.path.join(STUDY_PATH,'3DT1',SUBJ,'3DT1_'+SUBJ+'.nii.gz'))))"
   ]
  },
  {
   "cell_type": "code",
   "execution_count": null,
   "metadata": {},
   "outputs": [],
   "source": []
  }
 ],
 "metadata": {
  "kernelspec": {
   "display_name": "Python 3 (ipykernel)",
   "language": "python",
   "name": "python3"
  },
  "language_info": {
   "codemirror_mode": {
    "name": "ipython",
    "version": 3
   },
   "file_extension": ".py",
   "mimetype": "text/x-python",
   "name": "python",
   "nbconvert_exporter": "python",
   "pygments_lexer": "ipython3",
   "version": "3.7.6"
  }
 },
 "nbformat": 4,
 "nbformat_minor": 4
}
